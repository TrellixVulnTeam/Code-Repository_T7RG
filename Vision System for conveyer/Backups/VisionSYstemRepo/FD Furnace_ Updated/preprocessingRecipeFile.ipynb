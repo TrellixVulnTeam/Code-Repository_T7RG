{
 "cells": [
  {
   "cell_type": "code",
   "execution_count": 125,
   "metadata": {},
   "outputs": [],
   "source": [
    "import pandas as pd\n",
    "\n",
    "df=pd.read_excel('partCode.xlsx')\n",
    "\n",
    "recipe=pd.read_csv('recipe.csv')"
   ]
  },
  {
   "cell_type": "code",
   "execution_count": 119,
   "metadata": {},
   "outputs": [],
   "source": [
    "columns=['Si No','FG Code','Description','For Paint','Painted','Model','Connector Type','Connector Size']"
   ]
  },
  {
   "cell_type": "code",
   "execution_count": 120,
   "metadata": {},
   "outputs": [],
   "source": [
    "df.columns=columns"
   ]
  },
  {
   "cell_type": "code",
   "execution_count": 121,
   "metadata": {},
   "outputs": [],
   "source": [
    "df=df.replace('\\\\xa0',' ')"
   ]
  },
  {
   "cell_type": "code",
   "execution_count": 122,
   "metadata": {},
   "outputs": [],
   "source": [
    "df['Model']=df['Model'].apply(lambda x : x.replace('\\xa0',''))\n",
    "df['Model']=df['Model'].apply(lambda x : x.replace('cu.in.',''))\n",
    "df['Model']=df['Model'].apply(lambda x : x.replace('0',''))\n",
    "df['Model']=df['Model'].apply(lambda x : x.strip())\n",
    "df['Connector Size']=df['Connector Size'].apply(lambda x : str(x).replace('.',''))\n",
    "df['Connector Type']=df['Connector Type'].apply(lambda x: x.replace('FLAR','FLARE'))"
   ]
  },
  {
   "cell_type": "code",
   "execution_count": 123,
   "metadata": {},
   "outputs": [],
   "source": [
    "df['Type']=df['Model']+' '+df['Connector Type']"
   ]
  },
  {
   "cell_type": "code",
   "execution_count": 124,
   "metadata": {},
   "outputs": [],
   "source": [
    "df.to_excel('partCode.xlsx')"
   ]
  },
  {
   "cell_type": "code",
   "execution_count": 131,
   "metadata": {},
   "outputs": [
    {
     "data": {
      "text/plain": [
       "'FG Code'"
      ]
     },
     "execution_count": 131,
     "metadata": {},
     "output_type": "execute_result"
    }
   ],
   "source": [
    "df.columns[2]"
   ]
  },
  {
   "cell_type": "code",
   "execution_count": 159,
   "metadata": {},
   "outputs": [],
   "source": [
    "import pandas as pd\n",
    "df=pd.read_excel('partCode.xlsx')\n",
    "\n",
    "df.to_csv('partCode.csv')"
   ]
  },
  {
   "cell_type": "code",
   "execution_count": 157,
   "metadata": {
    "scrolled": true
   },
   "outputs": [
    {
     "name": "stdout",
     "output_type": "stream",
     "text": [
      "FG Code023Z0245\n",
      "120 700 0.76\n"
     ]
    }
   ],
   "source": [
    "import pandas as pd\n",
    "df=pd.read_excel('partCode.xlsx')\n",
    "\n",
    "recipe=pd.read_csv('recipe.csv')\n",
    "\n",
    "code=input('FG Code')\n",
    "Type=df['Type'][df['FG Code']==str(code)].values[0]\n",
    "circularity=recipe['circularity'][recipe['type']==str(Type)].values[0]\n",
    "minArea=recipe['min'][recipe['type']==str(Type)].values[0]\n",
    "maxArea=recipe['max'][recipe['type']==str(Type)].values[0]\n",
    "print(minArea,maxArea,circularity)"
   ]
  },
  {
   "cell_type": "code",
   "execution_count": 111,
   "metadata": {},
   "outputs": [
    {
     "data": {
      "text/plain": [
       "'S.no '"
      ]
     },
     "execution_count": 111,
     "metadata": {},
     "output_type": "execute_result"
    }
   ],
   "source": [
    "recipe['circularity'][recipe['type']==str(Type)"
   ]
  },
  {
   "cell_type": "code",
   "execution_count": 135,
   "metadata": {},
   "outputs": [
    {
     "data": {
      "text/plain": [
       "'023Z0245'"
      ]
     },
     "execution_count": 135,
     "metadata": {},
     "output_type": "execute_result"
    }
   ],
   "source": [
    "code"
   ]
  },
  {
   "cell_type": "code",
   "execution_count": 137,
   "metadata": {},
   "outputs": [],
   "source": [
    "Type=df['Type'][df['FG Code']==str(code)]"
   ]
  },
  {
   "cell_type": "code",
   "execution_count": 149,
   "metadata": {},
   "outputs": [
    {
     "data": {
      "text/plain": [
       "'16 FACE SEAL'"
      ]
     },
     "execution_count": 149,
     "metadata": {},
     "output_type": "execute_result"
    }
   ],
   "source": [
    "Type.values[0]"
   ]
  },
  {
   "cell_type": "code",
   "execution_count": 155,
   "metadata": {},
   "outputs": [
    {
     "data": {
      "text/html": [
       "<div>\n",
       "<style scoped>\n",
       "    .dataframe tbody tr th:only-of-type {\n",
       "        vertical-align: middle;\n",
       "    }\n",
       "\n",
       "    .dataframe tbody tr th {\n",
       "        vertical-align: top;\n",
       "    }\n",
       "\n",
       "    .dataframe thead th {\n",
       "        text-align: right;\n",
       "    }\n",
       "</style>\n",
       "<table border=\"1\" class=\"dataframe\">\n",
       "  <thead>\n",
       "    <tr style=\"text-align: right;\">\n",
       "      <th></th>\n",
       "      <th>type</th>\n",
       "      <th>circularityFilter</th>\n",
       "      <th>circularity</th>\n",
       "      <th>areaFilter</th>\n",
       "      <th>min</th>\n",
       "      <th>max</th>\n",
       "      <th>Tested</th>\n",
       "      <th>Counted</th>\n",
       "    </tr>\n",
       "  </thead>\n",
       "  <tbody>\n",
       "    <tr>\n",
       "      <th>0</th>\n",
       "      <td>5 FACE SEAL</td>\n",
       "      <td>True</td>\n",
       "      <td>0.76</td>\n",
       "      <td>True</td>\n",
       "      <td>120</td>\n",
       "      <td>700</td>\n",
       "      <td>NaN</td>\n",
       "      <td>NaN</td>\n",
       "    </tr>\n",
       "    <tr>\n",
       "      <th>1</th>\n",
       "      <td>8 FACE SEAL</td>\n",
       "      <td>True</td>\n",
       "      <td>0.75</td>\n",
       "      <td>True</td>\n",
       "      <td>120</td>\n",
       "      <td>700</td>\n",
       "      <td>NaN</td>\n",
       "      <td>NaN</td>\n",
       "    </tr>\n",
       "    <tr>\n",
       "      <th>2</th>\n",
       "      <td>16 FACE SEAL</td>\n",
       "      <td>True</td>\n",
       "      <td>0.76</td>\n",
       "      <td>True</td>\n",
       "      <td>120</td>\n",
       "      <td>700</td>\n",
       "      <td>130.0</td>\n",
       "      <td>130.0</td>\n",
       "    </tr>\n",
       "    <tr>\n",
       "      <th>3</th>\n",
       "      <td>3 CU-PLATED</td>\n",
       "      <td>True</td>\n",
       "      <td>0.70</td>\n",
       "      <td>True</td>\n",
       "      <td>60</td>\n",
       "      <td>700</td>\n",
       "      <td>NaN</td>\n",
       "      <td>NaN</td>\n",
       "    </tr>\n",
       "    <tr>\n",
       "      <th>4</th>\n",
       "      <td>5 CU-PLATED</td>\n",
       "      <td>True</td>\n",
       "      <td>0.70</td>\n",
       "      <td>True</td>\n",
       "      <td>60</td>\n",
       "      <td>700</td>\n",
       "      <td>200.0</td>\n",
       "      <td>200.0</td>\n",
       "    </tr>\n",
       "    <tr>\n",
       "      <th>5</th>\n",
       "      <td>8 CU-PLATED</td>\n",
       "      <td>True</td>\n",
       "      <td>0.76</td>\n",
       "      <td>True</td>\n",
       "      <td>120</td>\n",
       "      <td>900</td>\n",
       "      <td>200.0</td>\n",
       "      <td>200.0</td>\n",
       "    </tr>\n",
       "    <tr>\n",
       "      <th>6</th>\n",
       "      <td>16 CU-PLATED</td>\n",
       "      <td>True</td>\n",
       "      <td>0.76</td>\n",
       "      <td>True</td>\n",
       "      <td>120</td>\n",
       "      <td>700</td>\n",
       "      <td>NaN</td>\n",
       "      <td>NaN</td>\n",
       "    </tr>\n",
       "    <tr>\n",
       "      <th>7</th>\n",
       "      <td>3 SOLDER</td>\n",
       "      <td>True</td>\n",
       "      <td>0.70</td>\n",
       "      <td>True</td>\n",
       "      <td>60</td>\n",
       "      <td>700</td>\n",
       "      <td>200.0</td>\n",
       "      <td>200.0</td>\n",
       "    </tr>\n",
       "    <tr>\n",
       "      <th>8</th>\n",
       "      <td>5 SOLDER</td>\n",
       "      <td>True</td>\n",
       "      <td>0.70</td>\n",
       "      <td>True</td>\n",
       "      <td>60</td>\n",
       "      <td>700</td>\n",
       "      <td>NaN</td>\n",
       "      <td>NaN</td>\n",
       "    </tr>\n",
       "    <tr>\n",
       "      <th>9</th>\n",
       "      <td>16 SOLDER</td>\n",
       "      <td>True</td>\n",
       "      <td>0.70</td>\n",
       "      <td>True</td>\n",
       "      <td>60</td>\n",
       "      <td>700</td>\n",
       "      <td>NaN</td>\n",
       "      <td>NaN</td>\n",
       "    </tr>\n",
       "    <tr>\n",
       "      <th>10</th>\n",
       "      <td>8 SOLDER</td>\n",
       "      <td>True</td>\n",
       "      <td>0.70</td>\n",
       "      <td>True</td>\n",
       "      <td>60</td>\n",
       "      <td>700</td>\n",
       "      <td>NaN</td>\n",
       "      <td>NaN</td>\n",
       "    </tr>\n",
       "    <tr>\n",
       "      <th>11</th>\n",
       "      <td>3 FLARE</td>\n",
       "      <td>True</td>\n",
       "      <td>0.70</td>\n",
       "      <td>True</td>\n",
       "      <td>60</td>\n",
       "      <td>700</td>\n",
       "      <td>NaN</td>\n",
       "      <td>NaN</td>\n",
       "    </tr>\n",
       "    <tr>\n",
       "      <th>12</th>\n",
       "      <td>5 FLARE</td>\n",
       "      <td>True</td>\n",
       "      <td>0.70</td>\n",
       "      <td>True</td>\n",
       "      <td>60</td>\n",
       "      <td>700</td>\n",
       "      <td>NaN</td>\n",
       "      <td>NaN</td>\n",
       "    </tr>\n",
       "    <tr>\n",
       "      <th>13</th>\n",
       "      <td>8 FLARE</td>\n",
       "      <td>True</td>\n",
       "      <td>0.75</td>\n",
       "      <td>True</td>\n",
       "      <td>120</td>\n",
       "      <td>900</td>\n",
       "      <td>200.0</td>\n",
       "      <td>201.0</td>\n",
       "    </tr>\n",
       "    <tr>\n",
       "      <th>14</th>\n",
       "      <td>16 FLARE</td>\n",
       "      <td>True</td>\n",
       "      <td>0.76</td>\n",
       "      <td>True</td>\n",
       "      <td>120</td>\n",
       "      <td>700</td>\n",
       "      <td>NaN</td>\n",
       "      <td>NaN</td>\n",
       "    </tr>\n",
       "  </tbody>\n",
       "</table>\n",
       "</div>"
      ],
      "text/plain": [
       "            type  circularityFilter  circularity  areaFilter  min  max  \\\n",
       "0    5 FACE SEAL               True         0.76        True  120  700   \n",
       "1    8 FACE SEAL               True         0.75        True  120  700   \n",
       "2   16 FACE SEAL               True         0.76        True  120  700   \n",
       "3    3 CU-PLATED               True         0.70        True   60  700   \n",
       "4    5 CU-PLATED               True         0.70        True   60  700   \n",
       "5    8 CU-PLATED               True         0.76        True  120  900   \n",
       "6   16 CU-PLATED               True         0.76        True  120  700   \n",
       "7       3 SOLDER               True         0.70        True   60  700   \n",
       "8       5 SOLDER               True         0.70        True   60  700   \n",
       "9      16 SOLDER               True         0.70        True   60  700   \n",
       "10      8 SOLDER               True         0.70        True   60  700   \n",
       "11       3 FLARE               True         0.70        True   60  700   \n",
       "12       5 FLARE               True         0.70        True   60  700   \n",
       "13       8 FLARE               True         0.75        True  120  900   \n",
       "14      16 FLARE               True         0.76        True  120  700   \n",
       "\n",
       "    Tested  Counted  \n",
       "0      NaN      NaN  \n",
       "1      NaN      NaN  \n",
       "2    130.0    130.0  \n",
       "3      NaN      NaN  \n",
       "4    200.0    200.0  \n",
       "5    200.0    200.0  \n",
       "6      NaN      NaN  \n",
       "7    200.0    200.0  \n",
       "8      NaN      NaN  \n",
       "9      NaN      NaN  \n",
       "10     NaN      NaN  \n",
       "11     NaN      NaN  \n",
       "12     NaN      NaN  \n",
       "13   200.0    201.0  \n",
       "14     NaN      NaN  "
      ]
     },
     "execution_count": 155,
     "metadata": {},
     "output_type": "execute_result"
    }
   ],
   "source": [
    "recipe"
   ]
  },
  {
   "cell_type": "code",
   "execution_count": null,
   "metadata": {},
   "outputs": [],
   "source": []
  }
 ],
 "metadata": {
  "kernelspec": {
   "display_name": "Python 3",
   "language": "python",
   "name": "python3"
  },
  "language_info": {
   "codemirror_mode": {
    "name": "ipython",
    "version": 3
   },
   "file_extension": ".py",
   "mimetype": "text/x-python",
   "name": "python",
   "nbconvert_exporter": "python",
   "pygments_lexer": "ipython3",
   "version": "3.7.3"
  }
 },
 "nbformat": 4,
 "nbformat_minor": 2
}
