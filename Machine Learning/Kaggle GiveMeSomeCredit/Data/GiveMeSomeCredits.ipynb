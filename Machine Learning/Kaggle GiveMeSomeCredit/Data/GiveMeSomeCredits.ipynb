{
 "cells": [
  {
   "cell_type": "markdown",
   "metadata": {},
   "source": [
    "# Exploratory Data Analysis"
   ]
  },
  {
   "cell_type": "code",
   "execution_count": 16,
   "metadata": {},
   "outputs": [],
   "source": [
    "import warnings\n",
    "warnings.filterwarnings(\"ignore\")"
   ]
  },
  {
   "cell_type": "code",
   "execution_count": 2,
   "metadata": {},
   "outputs": [],
   "source": [
    "# Importing libraries\n",
    "import pandas as pd\n",
    "import seaborn as sns\n",
    "import matplotlib.pyplot as plt\n",
    "import random\n",
    "import numpy as np\n"
   ]
  },
  {
   "cell_type": "code",
   "execution_count": 3,
   "metadata": {},
   "outputs": [],
   "source": [
    "np.random.seed(1)"
   ]
  },
  {
   "cell_type": "code",
   "execution_count": 4,
   "metadata": {},
   "outputs": [],
   "source": [
    "# Reading the data\n",
    "train=pd.read_csv('cs-training.csv')\n",
    "test=pd.read_csv('cs-test.csv')\n",
    "\n",
    "# Combine train and test in a list for easy processing\n",
    "combine=[train,test]\n",
    "\n",
    "for data in combine:\n",
    "    # Dropping the index column\n",
    "    data.drop(data.columns[0],axis=1,inplace=True)"
   ]
  },
  {
   "cell_type": "code",
   "execution_count": 5,
   "metadata": {},
   "outputs": [
    {
     "name": "stdout",
     "output_type": "stream",
     "text": [
      "<class 'pandas.core.frame.DataFrame'>\n",
      "RangeIndex: 150000 entries, 0 to 149999\n",
      "Data columns (total 11 columns):\n",
      "SeriousDlqin2yrs                        150000 non-null int64\n",
      "RevolvingUtilizationOfUnsecuredLines    150000 non-null float64\n",
      "age                                     150000 non-null int64\n",
      "NumberOfTime30-59DaysPastDueNotWorse    150000 non-null int64\n",
      "DebtRatio                               150000 non-null float64\n",
      "MonthlyIncome                           120269 non-null float64\n",
      "NumberOfOpenCreditLinesAndLoans         150000 non-null int64\n",
      "NumberOfTimes90DaysLate                 150000 non-null int64\n",
      "NumberRealEstateLoansOrLines            150000 non-null int64\n",
      "NumberOfTime60-89DaysPastDueNotWorse    150000 non-null int64\n",
      "NumberOfDependents                      146076 non-null float64\n",
      "dtypes: float64(4), int64(7)\n",
      "memory usage: 12.6 MB\n"
     ]
    }
   ],
   "source": [
    "train.info()"
   ]
  },
  {
   "cell_type": "code",
   "execution_count": 6,
   "metadata": {},
   "outputs": [
    {
     "name": "stdout",
     "output_type": "stream",
     "text": [
      "<class 'pandas.core.frame.DataFrame'>\n",
      "RangeIndex: 101503 entries, 0 to 101502\n",
      "Data columns (total 11 columns):\n",
      "SeriousDlqin2yrs                        0 non-null float64\n",
      "RevolvingUtilizationOfUnsecuredLines    101503 non-null float64\n",
      "age                                     101503 non-null int64\n",
      "NumberOfTime30-59DaysPastDueNotWorse    101503 non-null int64\n",
      "DebtRatio                               101503 non-null float64\n",
      "MonthlyIncome                           81400 non-null float64\n",
      "NumberOfOpenCreditLinesAndLoans         101503 non-null int64\n",
      "NumberOfTimes90DaysLate                 101503 non-null int64\n",
      "NumberRealEstateLoansOrLines            101503 non-null int64\n",
      "NumberOfTime60-89DaysPastDueNotWorse    101503 non-null int64\n",
      "NumberOfDependents                      98877 non-null float64\n",
      "dtypes: float64(5), int64(6)\n",
      "memory usage: 8.5 MB\n"
     ]
    }
   ],
   "source": [
    "test.info()"
   ]
  },
  {
   "cell_type": "markdown",
   "metadata": {},
   "source": [
    "# Dataset Analysis"
   ]
  },
  {
   "cell_type": "code",
   "execution_count": 7,
   "metadata": {},
   "outputs": [
    {
     "data": {
      "image/png": "[encoded data removed]",
      "text/plain": [
       "<Figure size 360x360 with 1 Axes>"
      ]
     },
     "metadata": {},
     "output_type": "display_data"
    }
   ],
   "source": [
    "data_sizes=[train.shape[0],test.shape[0]]\n",
    "labels=['Train dataset','Test Dataset']\n",
    "plt.figure(figsize=(5,5))\n",
    "plt.pie(data_sizes,labels=labels,autopct='%.0f%%',explode=[0.05,0.0])\n",
    "plt.show()"
   ]
  },
  {
   "cell_type": "code",
   "execution_count": 8,
   "metadata": {},
   "outputs": [
    {
     "data": {
      "text/plain": [
       "0    139974\n",
       "1     10026\n",
       "Name: SeriousDlqin2yrs, dtype: int64"
      ]
     },
     "execution_count": 8,
     "metadata": {},
     "output_type": "execute_result"
    }
   ],
   "source": [
    "train['SeriousDlqin2yrs'].value_counts()"
   ]
  },
  {
   "cell_type": "code",
   "execution_count": 9,
   "metadata": {},
   "outputs": [
    {
     "data": {
      "image/png": "[encoded data removed]",
      "text/plain": [
       "<Figure size 360x360 with 1 Axes>"
      ]
     },
     "metadata": {},
     "output_type": "display_data"
    }
   ],
   "source": [
    "# Checking the data distribution\n",
    "plt.figure(figsize=(5,5))\n",
    "plt.pie(train['SeriousDlqin2yrs'].value_counts().values,labels=['Class 0','Class 1'],explode=[0.05,0.0],autopct='%.0f%%')\n",
    "plt.show()"
   ]
  },
  {
   "cell_type": "code",
   "execution_count": 10,
   "metadata": {},
   "outputs": [],
   "source": [
    "# Missing values\n",
    "i=1\n",
    "combine_info=[]\n",
    "for data in combine:\n",
    "    numbers=[]\n",
    "    for column in data.columns:\n",
    "        numbers.append(data[column].notna().sum())\n",
    "    combine_info.append(numbers)"
   ]
  },
  {
   "cell_type": "code",
   "execution_count": 11,
   "metadata": {},
   "outputs": [
    {
     "data": {
      "text/html": [
       "<div>\n",
       "<style scoped>\n",
       "    .dataframe tbody tr th:only-of-type {\n",
       "        vertical-align: middle;\n",
       "    }\n",
       "\n",
       "    .dataframe tbody tr th {\n",
       "        vertical-align: top;\n",
       "    }\n",
       "\n",
       "    .dataframe thead th {\n",
       "        text-align: right;\n",
       "    }\n",
       "</style>\n",
       "<table border=\"1\" class=\"dataframe\">\n",
       "  <thead>\n",
       "    <tr style=\"text-align: right;\">\n",
       "      <th></th>\n",
       "      <th>Attribute</th>\n",
       "      <th>Count</th>\n",
       "    </tr>\n",
       "  </thead>\n",
       "  <tbody>\n",
       "    <tr>\n",
       "      <th>0</th>\n",
       "      <td>SeriousDlqin2yrs</td>\n",
       "      <td>150000</td>\n",
       "    </tr>\n",
       "    <tr>\n",
       "      <th>1</th>\n",
       "      <td>RevolvingUtilizationOfUnsecuredLines</td>\n",
       "      <td>150000</td>\n",
       "    </tr>\n",
       "    <tr>\n",
       "      <th>2</th>\n",
       "      <td>age</td>\n",
       "      <td>150000</td>\n",
       "    </tr>\n",
       "    <tr>\n",
       "      <th>3</th>\n",
       "      <td>NumberOfTime30-59DaysPastDueNotWorse</td>\n",
       "      <td>150000</td>\n",
       "    </tr>\n",
       "    <tr>\n",
       "      <th>4</th>\n",
       "      <td>DebtRatio</td>\n",
       "      <td>150000</td>\n",
       "    </tr>\n",
       "    <tr>\n",
       "      <th>5</th>\n",
       "      <td>MonthlyIncome</td>\n",
       "      <td>120269</td>\n",
       "    </tr>\n",
       "    <tr>\n",
       "      <th>6</th>\n",
       "      <td>NumberOfOpenCreditLinesAndLoans</td>\n",
       "      <td>150000</td>\n",
       "    </tr>\n",
       "    <tr>\n",
       "      <th>7</th>\n",
       "      <td>NumberOfTimes90DaysLate</td>\n",
       "      <td>150000</td>\n",
       "    </tr>\n",
       "    <tr>\n",
       "      <th>8</th>\n",
       "      <td>NumberRealEstateLoansOrLines</td>\n",
       "      <td>150000</td>\n",
       "    </tr>\n",
       "    <tr>\n",
       "      <th>9</th>\n",
       "      <td>NumberOfTime60-89DaysPastDueNotWorse</td>\n",
       "      <td>150000</td>\n",
       "    </tr>\n",
       "    <tr>\n",
       "      <th>10</th>\n",
       "      <td>NumberOfDependents</td>\n",
       "      <td>146076</td>\n",
       "    </tr>\n",
       "  </tbody>\n",
       "</table>\n",
       "</div>"
      ],
      "text/plain": [
       "                               Attribute   Count\n",
       "0                       SeriousDlqin2yrs  150000\n",
       "1   RevolvingUtilizationOfUnsecuredLines  150000\n",
       "2                                    age  150000\n",
       "3   NumberOfTime30-59DaysPastDueNotWorse  150000\n",
       "4                              DebtRatio  150000\n",
       "5                          MonthlyIncome  120269\n",
       "6        NumberOfOpenCreditLinesAndLoans  150000\n",
       "7                NumberOfTimes90DaysLate  150000\n",
       "8           NumberRealEstateLoansOrLines  150000\n",
       "9   NumberOfTime60-89DaysPastDueNotWorse  150000\n",
       "10                    NumberOfDependents  146076"
      ]
     },
     "execution_count": 11,
     "metadata": {},
     "output_type": "execute_result"
    }
   ],
   "source": [
    "import pandas as pd\n",
    "df=pd.DataFrame()\n",
    "df['Attribute']=combine[0].columns\n",
    "df['Count']=combine_info[0]\n",
    "df"
   ]
  },
  {
   "cell_type": "code",
   "execution_count": 12,
   "metadata": {},
   "outputs": [
    {
     "data": {
      "image/png": "[encoded data removed]",
      "text/plain": [
       "<Figure size 3600x720 with 1 Axes>"
      ]
     },
     "metadata": {
      "needs_background": "light"
     },
     "output_type": "display_data"
    }
   ],
   "source": [
    "plt.figure(figsize=(50,10))\n",
    "plots = sns.barplot(x=df['Attribute'], y=df['Count'], data=df)\n",
    "                                           \n",
    "# Iterrating over the bars one-by-one\n",
    "for bar in plots.patches:\n",
    "   \n",
    "  # Using Matplotlib's annotate function and\n",
    "  # passing the coordinates where the annotation shall be done\n",
    "  # x-coordinate: bar.get_x() + bar.get_width() / 2\n",
    "  # y-coordinate: bar.get_height()\n",
    "  # free space to be left to make graph pleasing: (0, 8)\n",
    "  # ha and va stand for the horizontal and vertical alignment\n",
    "  plots.annotate(format(bar.get_height(), '.2f'),\n",
    "                   (bar.get_x() + bar.get_width() / 2,\n",
    "                    bar.get_height()), ha='center', va='center',\n",
    "                   size=15, xytext=(0, 8),\n",
    "                   textcoords='offset points')"
   ]
  },
  {
   "cell_type": "code",
   "execution_count": 13,
   "metadata": {},
   "outputs": [
    {
     "data": {
      "text/html": [
       "<div>\n",
       "<style scoped>\n",
       "    .dataframe tbody tr th:only-of-type {\n",
       "        vertical-align: middle;\n",
       "    }\n",
       "\n",
       "    .dataframe tbody tr th {\n",
       "        vertical-align: top;\n",
       "    }\n",
       "\n",
       "    .dataframe thead th {\n",
       "        text-align: right;\n",
       "    }\n",
       "</style>\n",
       "<table border=\"1\" class=\"dataframe\">\n",
       "  <thead>\n",
       "    <tr style=\"text-align: right;\">\n",
       "      <th></th>\n",
       "      <th>Attribute</th>\n",
       "      <th>Count</th>\n",
       "    </tr>\n",
       "  </thead>\n",
       "  <tbody>\n",
       "    <tr>\n",
       "      <th>0</th>\n",
       "      <td>SeriousDlqin2yrs</td>\n",
       "      <td>0</td>\n",
       "    </tr>\n",
       "    <tr>\n",
       "      <th>1</th>\n",
       "      <td>RevolvingUtilizationOfUnsecuredLines</td>\n",
       "      <td>101503</td>\n",
       "    </tr>\n",
       "    <tr>\n",
       "      <th>2</th>\n",
       "      <td>age</td>\n",
       "      <td>101503</td>\n",
       "    </tr>\n",
       "    <tr>\n",
       "      <th>3</th>\n",
       "      <td>NumberOfTime30-59DaysPastDueNotWorse</td>\n",
       "      <td>101503</td>\n",
       "    </tr>\n",
       "    <tr>\n",
       "      <th>4</th>\n",
       "      <td>DebtRatio</td>\n",
       "      <td>101503</td>\n",
       "    </tr>\n",
       "    <tr>\n",
       "      <th>5</th>\n",
       "      <td>MonthlyIncome</td>\n",
       "      <td>81400</td>\n",
       "    </tr>\n",
       "    <tr>\n",
       "      <th>6</th>\n",
       "      <td>NumberOfOpenCreditLinesAndLoans</td>\n",
       "      <td>101503</td>\n",
       "    </tr>\n",
       "    <tr>\n",
       "      <th>7</th>\n",
       "      <td>NumberOfTimes90DaysLate</td>\n",
       "      <td>101503</td>\n",
       "    </tr>\n",
       "    <tr>\n",
       "      <th>8</th>\n",
       "      <td>NumberRealEstateLoansOrLines</td>\n",
       "      <td>101503</td>\n",
       "    </tr>\n",
       "    <tr>\n",
       "      <th>9</th>\n",
       "      <td>NumberOfTime60-89DaysPastDueNotWorse</td>\n",
       "      <td>101503</td>\n",
       "    </tr>\n",
       "    <tr>\n",
       "      <th>10</th>\n",
       "      <td>NumberOfDependents</td>\n",
       "      <td>98877</td>\n",
       "    </tr>\n",
       "  </tbody>\n",
       "</table>\n",
       "</div>"
      ],
      "text/plain": [
       "                               Attribute   Count\n",
       "0                       SeriousDlqin2yrs       0\n",
       "1   RevolvingUtilizationOfUnsecuredLines  101503\n",
       "2                                    age  101503\n",
       "3   NumberOfTime30-59DaysPastDueNotWorse  101503\n",
       "4                              DebtRatio  101503\n",
       "5                          MonthlyIncome   81400\n",
       "6        NumberOfOpenCreditLinesAndLoans  101503\n",
       "7                NumberOfTimes90DaysLate  101503\n",
       "8           NumberRealEstateLoansOrLines  101503\n",
       "9   NumberOfTime60-89DaysPastDueNotWorse  101503\n",
       "10                    NumberOfDependents   98877"
      ]
     },
     "execution_count": 13,
     "metadata": {},
     "output_type": "execute_result"
    }
   ],
   "source": [
    "import pandas as pd\n",
    "df=pd.DataFrame()\n",
    "df['Attribute']=combine[1].columns\n",
    "df['Count']=combine_info[1]\n",
    "df"
   ]
  },
  {
   "cell_type": "code",
   "execution_count": 14,
   "metadata": {},
   "outputs": [
    {
     "data": {
      "image/png": "[encoded data removed]",
      "text/plain": [
       "<Figure size 3600x720 with 1 Axes>"
      ]
     },
     "metadata": {
      "needs_background": "light"
     },
     "output_type": "display_data"
    }
   ],
   "source": [
    "plt.figure(figsize=(50,10))\n",
    "plots = sns.barplot(x=df['Attribute'], y=df['Count'], data=df)\n",
    "                                           \n",
    "# Iterrating over the bars one-by-one\n",
    "for bar in plots.patches:\n",
    "   \n",
    "  # Using Matplotlib's annotate function and\n",
    "  # passing the coordinates where the annotation shall be done\n",
    "  # x-coordinate: bar.get_x() + bar.get_width() / 2\n",
    "  # y-coordinate: bar.get_height()\n",
    "  # free space to be left to make graph pleasing: (0, 8)\n",
    "  # ha and va stand for the horizontal and vertical alignment\n",
    "  plots.annotate(format(bar.get_height(), '.2f'),\n",
    "                   (bar.get_x() + bar.get_width() / 2,\n",
    "                    bar.get_height()), ha='center', va='center',\n",
    "                   size=15, xytext=(0, 8),\n",
    "                   textcoords='offset points')"
   ]
  },
  {
   "cell_type": "markdown",
   "metadata": {},
   "source": [
    "# Filling the missing values"
   ]
  },
  {
   "cell_type": "markdown",
   "metadata": {},
   "source": [
    "# Using a Random Forest Regressor to predict the Number of Dependents"
   ]
  },
  {
   "cell_type": "code",
   "execution_count": 17,
   "metadata": {},
   "outputs": [
    {
     "data": {
      "text/plain": [
       "0.6084435499329116"
      ]
     },
     "execution_count": 17,
     "metadata": {},
     "output_type": "execute_result"
    }
   ],
   "source": [
    "dependent_predictors=['age','NumberOfOpenCreditLinesAndLoans','NumberRealEstateLoansOrLines']\n",
    "x=train[train['NumberOfDependents'].notna()]\n",
    "y=x['NumberOfDependents']\n",
    "x=x[dependent_predictors]\n",
    "\n",
    "from sklearn.ensemble import RandomForestClassifier\n",
    "lr=RandomForestClassifier(random_state=1)\n",
    "lr.fit(x,y)\n",
    "lr.score(x,y)"
   ]
  },
  {
   "cell_type": "code",
   "execution_count": 18,
   "metadata": {},
   "outputs": [
    {
     "name": "stderr",
     "output_type": "stream",
     "text": [
      "100%|██████████| 2/2 [00:17<00:00,  9.47s/it]\n"
     ]
    }
   ],
   "source": [
    "from tqdm import tqdm\n",
    "for data in tqdm(combine):\n",
    "    nod=[]\n",
    "    for i,row in data.iterrows():\n",
    "        if np.isnan(row['NumberOfDependents']):\n",
    "            nod.append(lr.predict(np.array([row['age'],row['NumberOfOpenCreditLinesAndLoans'],row['NumberRealEstateLoansOrLines']]).reshape(1,-1)))\n",
    "        else:\n",
    "            nod.append(row['NumberOfDependents'])\n",
    "    data['NumberOfDependents']=nod"
   ]
  },
  {
   "cell_type": "code",
   "execution_count": 19,
   "metadata": {},
   "outputs": [
    {
     "data": {
      "text/html": [
       "<div>\n",
       "<style scoped>\n",
       "    .dataframe tbody tr th:only-of-type {\n",
       "        vertical-align: middle;\n",
       "    }\n",
       "\n",
       "    .dataframe tbody tr th {\n",
       "        vertical-align: top;\n",
       "    }\n",
       "\n",
       "    .dataframe thead th {\n",
       "        text-align: right;\n",
       "    }\n",
       "</style>\n",
       "<table border=\"1\" class=\"dataframe\">\n",
       "  <thead>\n",
       "    <tr style=\"text-align: right;\">\n",
       "      <th></th>\n",
       "      <th>SeriousDlqin2yrs</th>\n",
       "      <th>RevolvingUtilizationOfUnsecuredLines</th>\n",
       "      <th>age</th>\n",
       "      <th>NumberOfTime30-59DaysPastDueNotWorse</th>\n",
       "      <th>DebtRatio</th>\n",
       "      <th>MonthlyIncome</th>\n",
       "      <th>NumberOfOpenCreditLinesAndLoans</th>\n",
       "      <th>NumberOfTimes90DaysLate</th>\n",
       "      <th>NumberRealEstateLoansOrLines</th>\n",
       "      <th>NumberOfTime60-89DaysPastDueNotWorse</th>\n",
       "      <th>NumberOfDependents</th>\n",
       "    </tr>\n",
       "  </thead>\n",
       "  <tbody>\n",
       "  </tbody>\n",
       "</table>\n",
       "</div>"
      ],
      "text/plain": [
       "Empty DataFrame\n",
       "Columns: [SeriousDlqin2yrs, RevolvingUtilizationOfUnsecuredLines, age, NumberOfTime30-59DaysPastDueNotWorse, DebtRatio, MonthlyIncome, NumberOfOpenCreditLinesAndLoans, NumberOfTimes90DaysLate, NumberRealEstateLoansOrLines, NumberOfTime60-89DaysPastDueNotWorse, NumberOfDependents]\n",
       "Index: []"
      ]
     },
     "execution_count": 19,
     "metadata": {},
     "output_type": "execute_result"
    }
   ],
   "source": [
    "test[test['NumberOfDependents'].isna()]"
   ]
  },
  {
   "cell_type": "markdown",
   "metadata": {},
   "source": [
    "# Predicting the Monthly Income"
   ]
  },
  {
   "cell_type": "code",
   "execution_count": 20,
   "metadata": {},
   "outputs": [],
   "source": [
    "from sklearn.ensemble import RandomForestRegressor\n",
    "rfr=RandomForestRegressor(random_state=1)\n",
    "dependent_predictors=['RevolvingUtilizationOfUnsecuredLines', 'age',\n",
    "       'NumberOfTime30-59DaysPastDueNotWorse', 'DebtRatio',\n",
    "       'NumberOfOpenCreditLinesAndLoans',\n",
    "       'NumberRealEstateLoansOrLines',\n",
    "       'NumberOfDependents']\n",
    "x=train[train['MonthlyIncome'].notna()]\n",
    "y=x['MonthlyIncome']\n",
    "x=x[dependent_predictors]\n",
    "                      \n"
   ]
  },
  {
   "cell_type": "code",
   "execution_count": 21,
   "metadata": {},
   "outputs": [
    {
     "data": {
      "text/plain": [
       "0.8432184786443844"
      ]
     },
     "execution_count": 21,
     "metadata": {},
     "output_type": "execute_result"
    }
   ],
   "source": [
    "rfr.fit(x,y)\n",
    "rfr.score(x,y)"
   ]
  },
  {
   "cell_type": "code",
   "execution_count": 22,
   "metadata": {},
   "outputs": [],
   "source": [
    "attributes=['RevolvingUtilizationOfUnsecuredLines', 'age',\n",
    "       'NumberOfTime30-59DaysPastDueNotWorse', 'DebtRatio',\n",
    "       'NumberOfOpenCreditLinesAndLoans',\n",
    "       'NumberRealEstateLoansOrLines',\n",
    "       'NumberOfDependents','MonthlyIncome']\n"
   ]
  },
  {
   "cell_type": "code",
   "execution_count": 23,
   "metadata": {},
   "outputs": [
    {
     "name": "stderr",
     "output_type": "stream",
     "text": [
      "150000it [00:33, 4486.61it/s]\n",
      "101503it [00:22, 4507.68it/s]\n"
     ]
    }
   ],
   "source": [
    "for data in combine:\n",
    "    mi=[]\n",
    "    mi_predict=data[attributes]\n",
    "    for i,row in tqdm(mi_predict.iterrows()):\n",
    "        if np.isnan(row['MonthlyIncome']):\n",
    "            mi.append(rfr.predict(np.array(row[:-1]).reshape(1,-1)))\n",
    "        else:\n",
    "            mi.append(row['MonthlyIncome'])\n",
    "    data['MonthlyIncome']=mi"
   ]
  },
  {
   "cell_type": "code",
   "execution_count": 24,
   "metadata": {},
   "outputs": [
    {
     "name": "stdout",
     "output_type": "stream",
     "text": [
      "<class 'pandas.core.frame.DataFrame'>\n",
      "RangeIndex: 101503 entries, 0 to 101502\n",
      "Data columns (total 11 columns):\n",
      "SeriousDlqin2yrs                        0 non-null float64\n",
      "RevolvingUtilizationOfUnsecuredLines    101503 non-null float64\n",
      "age                                     101503 non-null int64\n",
      "NumberOfTime30-59DaysPastDueNotWorse    101503 non-null int64\n",
      "DebtRatio                               101503 non-null float64\n",
      "MonthlyIncome                           101503 non-null object\n",
      "NumberOfOpenCreditLinesAndLoans         101503 non-null int64\n",
      "NumberOfTimes90DaysLate                 101503 non-null int64\n",
      "NumberRealEstateLoansOrLines            101503 non-null int64\n",
      "NumberOfTime60-89DaysPastDueNotWorse    101503 non-null int64\n",
      "NumberOfDependents                      101503 non-null object\n",
      "dtypes: float64(3), int64(6), object(2)\n",
      "memory usage: 8.5+ MB\n"
     ]
    }
   ],
   "source": [
    "test.info()"
   ]
  },
  {
   "cell_type": "markdown",
   "metadata": {},
   "source": [
    "# Checking the Correaltion between variables"
   ]
  },
  {
   "cell_type": "code",
   "execution_count": 25,
   "metadata": {},
   "outputs": [
    {
     "data": {
      "text/plain": [
       "(array([0.5, 1.5, 2.5, 3.5, 4.5, 5.5, 6.5, 7.5, 8.5]),\n",
       " <a list of 9 Text xticklabel objects>)"
      ]
     },
     "execution_count": 25,
     "metadata": {},
     "output_type": "execute_result"
    },
    {
     "data": {
      "image/png": "[encoded data removed]",
      "text/plain": [
       "<Figure size 720x720 with 2 Axes>"
      ]
     },
     "metadata": {
      "needs_background": "light"
     },
     "output_type": "display_data"
    }
   ],
   "source": [
    "plt.figure(figsize=(10,10))\n",
    "sns.heatmap(train.corr(),annot=True)\n",
    "plt.xticks(rotation=80)"
   ]
  },
  {
   "cell_type": "code",
   "execution_count": 26,
   "metadata": {},
   "outputs": [
    {
     "data": {
      "text/plain": [
       "Index(['SeriousDlqin2yrs', 'RevolvingUtilizationOfUnsecuredLines', 'age',\n",
       "       'NumberOfTime30-59DaysPastDueNotWorse', 'DebtRatio', 'MonthlyIncome',\n",
       "       'NumberOfOpenCreditLinesAndLoans', 'NumberOfTimes90DaysLate',\n",
       "       'NumberRealEstateLoansOrLines', 'NumberOfTime60-89DaysPastDueNotWorse',\n",
       "       'NumberOfDependents'],\n",
       "      dtype='object')"
      ]
     },
     "execution_count": 26,
     "metadata": {},
     "output_type": "execute_result"
    }
   ],
   "source": [
    "train.columns"
   ]
  },
  {
   "cell_type": "code",
   "execution_count": 26,
   "metadata": {},
   "outputs": [],
   "source": [
    "# Dropping the attributes which has high correlation\n",
    "columns_to_be_dropped=['NumberOfTime60-89DaysPastDueNotWorse','NumberOfTimes90DaysLate']\n",
    "for data in combine:\n",
    "    data.drop(columns_to_be_dropped,axis=1,inplace=True)"
   ]
  },
  {
   "cell_type": "code",
   "execution_count": 27,
   "metadata": {},
   "outputs": [
    {
     "data": {
      "text/plain": [
       "(array([0.5, 1.5, 2.5, 3.5, 4.5, 5.5, 6.5]),\n",
       " <a list of 7 Text xticklabel objects>)"
      ]
     },
     "execution_count": 27,
     "metadata": {},
     "output_type": "execute_result"
    },
    {
     "data": {
      "image/png": "[encoded data removed]",
      "text/plain": [
       "<Figure size 720x720 with 2 Axes>"
      ]
     },
     "metadata": {
      "needs_background": "light"
     },
     "output_type": "display_data"
    }
   ],
   "source": [
    "plt.figure(figsize=(10,10))\n",
    "sns.heatmap(train.corr(),annot=True)\n",
    "plt.xticks(rotation=80)"
   ]
  },
  {
   "cell_type": "markdown",
   "metadata": {},
   "source": [
    "# Normalising the data before feeding into the deep learning network"
   ]
  },
  {
   "cell_type": "code",
   "execution_count": 28,
   "metadata": {},
   "outputs": [],
   "source": [
    "columns=combine[0].columns"
   ]
  },
  {
   "cell_type": "code",
   "execution_count": 29,
   "metadata": {},
   "outputs": [],
   "source": [
    "x_train=combine[0].drop(['SeriousDlqin2yrs'],axis=1)\n",
    "y_train=combine[0]['SeriousDlqin2yrs']\n",
    "x_test=combine[1].drop(['SeriousDlqin2yrs'],axis=1)\n",
    "y_test=combine[1]['SeriousDlqin2yrs']\n",
    "combine_y=[y_train,y_test]\n",
    "combine_x=[x_train,x_test]\n",
    "from sklearn.model_selection import train_test_split\n",
    "x_train,x_test,y_train,y_test=train_test_split(x_train,y_train,test_size=0.25)"
   ]
  },
  {
   "cell_type": "markdown",
   "metadata": {},
   "source": [
    "# Creating a deep learning model"
   ]
  },
  {
   "cell_type": "code",
   "execution_count": 30,
   "metadata": {},
   "outputs": [],
   "source": [
    "from sklearn.preprocessing import StandardScaler\n",
    "ss=StandardScaler()\n",
    "x_train=ss.fit_transform(x_train)\n",
    "x_test=ss.transform(x_test)\n"
   ]
  },
  {
   "cell_type": "code",
   "execution_count": 31,
   "metadata": {},
   "outputs": [
    {
     "data": {
      "text/plain": [
       "0.9335644444444444"
      ]
     },
     "execution_count": 31,
     "metadata": {},
     "output_type": "execute_result"
    }
   ],
   "source": [
    "from sklearn.linear_model import LogisticRegression\n",
    "\n",
    "lr=LogisticRegression(random_state=1)\n",
    "lr.fit(x_train,y_train)\n",
    "lr.score(x_train,y_train)"
   ]
  },
  {
   "cell_type": "code",
   "execution_count": 32,
   "metadata": {},
   "outputs": [
    {
     "data": {
      "text/plain": [
       "0.9325866666666667"
      ]
     },
     "execution_count": 32,
     "metadata": {},
     "output_type": "execute_result"
    }
   ],
   "source": [
    "lr.score(x_test,y_test)"
   ]
  },
  {
   "cell_type": "markdown",
   "metadata": {},
   "source": [
    "# AUC SCORE\n"
   ]
  },
  {
   "cell_type": "code",
   "execution_count": 33,
   "metadata": {},
   "outputs": [
    {
     "data": {
      "text/plain": [
       "0.6612177048444744"
      ]
     },
     "execution_count": 33,
     "metadata": {},
     "output_type": "execute_result"
    }
   ],
   "source": [
    "from sklearn.metrics import roc_auc_score\n",
    "\n",
    "y_pred=lr.predict_proba(x_test)\n",
    "temp=[]\n",
    "for value in y_pred:\n",
    "    temp.append(value[1])\n",
    "y_pred=temp\n",
    "roc_auc_score(y_test,y_pred)"
   ]
  },
  {
   "cell_type": "code",
   "execution_count": 34,
   "metadata": {},
   "outputs": [
    {
     "name": "stdout",
     "output_type": "stream",
     "text": [
      "99.80799999999999% of predictions belongs to one class\n"
     ]
    }
   ],
   "source": [
    "y_p=lr.predict(x_test)\n",
    "count=[0,0]\n",
    "for value in y_p:\n",
    "    count[value]+=1\n",
    "print((count[0]/len(y_p))*100,end='')\n",
    "print('% of predictions belongs to one class')"
   ]
  },
  {
   "cell_type": "code",
   "execution_count": 45,
   "metadata": {},
   "outputs": [],
   "source": [
    "x_train=combine[0].drop(['SeriousDlqin2yrs'],axis=1)\n",
    "y_train=combine[0]['SeriousDlqin2yrs']\n",
    "x_test=combine[1].drop(['SeriousDlqin2yrs'],axis=1)\n",
    "y_test=combine[1]['SeriousDlqin2yrs']\n",
    "combine_y=[y_train,y_test]\n",
    "combine_x=[x_train,x_test]\n",
    "from sklearn.model_selection import train_test_split\n",
    "x_train,x_test,y_train,y_test=train_test_split(x_train,y_train,test_size=0.25)"
   ]
  },
  {
   "cell_type": "code",
   "execution_count": 46,
   "metadata": {},
   "outputs": [],
   "source": [
    "from sklearn.preprocessing import StandardScaler\n",
    "ss=StandardScaler()\n",
    "x_train=ss.fit_transform(x_train)\n",
    "x_test=ss.transform(x_test)\n"
   ]
  },
  {
   "cell_type": "code",
   "execution_count": 47,
   "metadata": {},
   "outputs": [],
   "source": [
    "import numpy as np\n",
    "x_train=np.expand_dims(x_train,axis=1)\n",
    "x_test=np.expand_dims(x_test,axis=1)\n"
   ]
  },
  {
   "cell_type": "code",
   "execution_count": 48,
   "metadata": {},
   "outputs": [],
   "source": [
    "import keras \n",
    "from keras import Sequential\n",
    "from keras.layers import Dense\n",
    "\n",
    "model=Sequential()\n",
    "\n",
    "model.add(Dense(16,input_shape=(1,8),activation='relu'))\n",
    "model.add(Dense(32,activation='relu'))\n",
    "model.add(Dense(16,activation='relu'))\n",
    "model.add(Dense(8,activation='relu'))\n",
    "model.add(Dense(4,activation='relu'))\n",
    "model.add(Dense(1,activation='sigmoid'))\n"
   ]
  },
  {
   "cell_type": "code",
   "execution_count": 73,
   "metadata": {},
   "outputs": [
    {
     "name": "stdout",
     "output_type": "stream",
     "text": [
      "Model: \"sequential_3\"\n",
      "_________________________________________________________________\n",
      " Layer (type)                Output Shape              Param #   \n",
      "=================================================================\n",
      " dense_18 (Dense)            (None, 1, 16)             144       \n",
      "                                                                 \n",
      " dense_19 (Dense)            (None, 1, 32)             544       \n",
      "                                                                 \n",
      " dense_20 (Dense)            (None, 1, 16)             528       \n",
      "                                                                 \n",
      " dense_21 (Dense)            (None, 1, 8)              136       \n",
      "                                                                 \n",
      " dense_22 (Dense)            (None, 1, 4)              36        \n",
      "                                                                 \n",
      " dense_23 (Dense)            (None, 1, 1)              5         \n",
      "                                                                 \n",
      "=================================================================\n",
      "Total params: 1,393\n",
      "Trainable params: 1,393\n",
      "Non-trainable params: 0\n",
      "_________________________________________________________________\n"
     ]
    }
   ],
   "source": [
    "model.summary()"
   ]
  },
  {
   "cell_type": "code",
   "execution_count": 49,
   "metadata": {},
   "outputs": [],
   "source": [
    "model.compile(optimizer='adam',loss='binary_crossentropy',metrics=['accuracy'])\n"
   ]
  },
  {
   "cell_type": "code",
   "execution_count": 50,
   "metadata": {},
   "outputs": [
    {
     "name": "stdout",
     "output_type": "stream",
     "text": [
      "Epoch 1/10\n",
      "2250/2250 [==============================] - 3s 1ms/step - loss: 0.2262 - accuracy: 0.9337 - val_loss: 0.2141 - val_accuracy: 0.9317\n",
      "Epoch 2/10\n",
      "2250/2250 [==============================] - 3s 1ms/step - loss: 0.2092 - accuracy: 0.9338 - val_loss: 0.2138 - val_accuracy: 0.9317\n",
      "Epoch 3/10\n",
      "2250/2250 [==============================] - 3s 1ms/step - loss: 0.2080 - accuracy: 0.9337 - val_loss: 0.2115 - val_accuracy: 0.9319\n",
      "Epoch 4/10\n",
      "2250/2250 [==============================] - 3s 1ms/step - loss: 0.2074 - accuracy: 0.9336 - val_loss: 0.2114 - val_accuracy: 0.9319\n",
      "Epoch 5/10\n",
      "2250/2250 [==============================] - 3s 1ms/step - loss: 0.2071 - accuracy: 0.9336 - val_loss: 0.2117 - val_accuracy: 0.9319\n",
      "Epoch 6/10\n",
      "2250/2250 [==============================] - 3s 1ms/step - loss: 0.2067 - accuracy: 0.9338 - val_loss: 0.2140 - val_accuracy: 0.9317\n",
      "Epoch 7/10\n",
      "2250/2250 [==============================] - 3s 1ms/step - loss: 0.2065 - accuracy: 0.9338 - val_loss: 0.2118 - val_accuracy: 0.9317\n",
      "Epoch 8/10\n",
      "2250/2250 [==============================] - 3s 1ms/step - loss: 0.2063 - accuracy: 0.9337 - val_loss: 0.2110 - val_accuracy: 0.9317\n",
      "Epoch 9/10\n",
      "2250/2250 [==============================] - 3s 1ms/step - loss: 0.2062 - accuracy: 0.9338 - val_loss: 0.2108 - val_accuracy: 0.9319\n",
      "Epoch 10/10\n",
      "2250/2250 [==============================] - 3s 1ms/step - loss: 0.2058 - accuracy: 0.9338 - val_loss: 0.2116 - val_accuracy: 0.9317\n"
     ]
    },
    {
     "data": {
      "text/plain": [
       "<keras.callbacks.History at 0x7f6b98577e10>"
      ]
     },
     "execution_count": 50,
     "metadata": {},
     "output_type": "execute_result"
    }
   ],
   "source": [
    "model.fit(x_train,y_train,epochs=10,validation_data=(x_test,y_test),\n",
    "          batch_size=50)"
   ]
  },
  {
   "cell_type": "code",
   "execution_count": 51,
   "metadata": {},
   "outputs": [
    {
     "data": {
      "text/plain": [
       "0.782847790853703"
      ]
     },
     "execution_count": 51,
     "metadata": {},
     "output_type": "execute_result"
    }
   ],
   "source": [
    "from sklearn.metrics import roc_auc_score\n",
    "\n",
    "y_pred=model.predict(x_test)\n",
    "y_pred=np.squeeze(y_pred)\n",
    "roc_auc_score(y_test,y_pred)"
   ]
  },
  {
   "cell_type": "code",
   "execution_count": 54,
   "metadata": {},
   "outputs": [
    {
     "name": "stdout",
     "output_type": "stream",
     "text": [
      "99.77333333333334% of predictions belongs to one class\n"
     ]
    }
   ],
   "source": [
    "y_p=model.predict(x_test)\n",
    "count=[0,0]\n",
    "for value in y_p:\n",
    "    if value>0.5:\n",
    "        count[1]+=1\n",
    "    else:\n",
    "        count[0]+=1\n",
    "print((count[0]/len(y_p))*100,end='')\n",
    "print('% of predictions belongs to one class')"
   ]
  },
  {
   "cell_type": "markdown",
   "metadata": {},
   "source": [
    "# Balancing the dataset"
   ]
  },
  {
   "cell_type": "code",
   "execution_count": 103,
   "metadata": {},
   "outputs": [],
   "source": [
    "x_train=combine[0].drop(['SeriousDlqin2yrs'],axis=1)\n",
    "y_train=combine[0]['SeriousDlqin2yrs']\n",
    "x_test=combine[1].drop(['SeriousDlqin2yrs'],axis=1)\n",
    "y_test=combine[1]['SeriousDlqin2yrs']\n",
    "combine_y=[y_train,y_test]\n",
    "combine_x=[x_train,x_test]\n",
    "from sklearn.model_selection import train_test_split\n",
    "x_train,x_test,y_train,y_test=train_test_split(x_train,y_train,test_size=0.25,random_state=1)"
   ]
  },
  {
   "cell_type": "code",
   "execution_count": 104,
   "metadata": {},
   "outputs": [],
   "source": [
    "indexes=random.sample(list(y_train[y_train==0].index.values),10026)\n",
    "x0=x_train.loc[indexes]\n",
    "y0=y_train.loc[indexes]\n",
    "indexes=list(y_train[y_train==1].index.values)\n",
    "x1=x_train.loc[indexes]\n",
    "y1=y_train.loc[indexes]\n",
    "x_train=pd.concat([x0,x1],ignore_index=True)\n",
    "y_train=pd.concat([y0,y1],ignore_index=True)"
   ]
  },
  {
   "cell_type": "code",
   "execution_count": 105,
   "metadata": {},
   "outputs": [],
   "source": [
    "from sklearn.preprocessing import StandardScaler\n",
    "ss=StandardScaler()\n",
    "x_train=ss.fit_transform(x_train)\n",
    "x_test=ss.transform(x_test)\n"
   ]
  },
  {
   "cell_type": "markdown",
   "metadata": {},
   "source": [
    "# Logistic Regression"
   ]
  },
  {
   "cell_type": "code",
   "execution_count": 71,
   "metadata": {},
   "outputs": [
    {
     "data": {
      "text/plain": [
       "0.701027397260274"
      ]
     },
     "execution_count": 71,
     "metadata": {},
     "output_type": "execute_result"
    }
   ],
   "source": [
    "from sklearn.linear_model import LogisticRegression\n",
    "\n",
    "lr=LogisticRegression(random_state=1)\n",
    "lr.fit(x_train,y_train)\n",
    "lr.score(x_train,y_train)"
   ]
  },
  {
   "cell_type": "code",
   "execution_count": 59,
   "metadata": {},
   "outputs": [
    {
     "data": {
      "text/plain": [
       "0.7548944941491079"
      ]
     },
     "execution_count": 59,
     "metadata": {},
     "output_type": "execute_result"
    }
   ],
   "source": [
    "from sklearn.metrics import roc_auc_score\n",
    "\n",
    "y_pred=lr.predict_proba(x_test)\n",
    "temp=[]\n",
    "for value in y_pred:\n",
    "    temp.append(value[1])\n",
    "y_pred=temp\n",
    "roc_auc_score(y_test,y_pred)"
   ]
  },
  {
   "cell_type": "code",
   "execution_count": 60,
   "metadata": {},
   "outputs": [
    {
     "name": "stdout",
     "output_type": "stream",
     "text": [
      "84.05866666666667% of predictions belongs to one class\n"
     ]
    }
   ],
   "source": [
    "y_p=lr.predict(x_test)\n",
    "count=[0,0]\n",
    "for value in y_p:\n",
    "    count[value]+=1\n",
    "print((count[0]/len(y_p))*100,end='')\n",
    "print('% of predictions belongs to one class')"
   ]
  },
  {
   "cell_type": "markdown",
   "metadata": {},
   "source": [
    "# Creating a deep learning model"
   ]
  },
  {
   "cell_type": "code",
   "execution_count": 106,
   "metadata": {},
   "outputs": [],
   "source": [
    "import numpy as np\n",
    "x_train=np.expand_dims(x_train,axis=1)\n",
    "x_test=np.expand_dims(x_test,axis=1)\n"
   ]
  },
  {
   "cell_type": "code",
   "execution_count": 85,
   "metadata": {},
   "outputs": [],
   "source": [
    "import keras \n",
    "from keras import Sequential\n",
    "from keras.layers import Dense\n",
    "\n",
    "model=Sequential()\n",
    "\n",
    "model.add(Dense(16,input_shape=(1,8),activation='relu'))\n",
    "model.add(Dense(32,activation='relu'))\n",
    "model.add(Dense(16,activation='relu'))\n",
    "model.add(Dense(8,activation='relu'))\n",
    "model.add(Dense(4,activation='relu'))\n",
    "model.add(Dense(1,activation='sigmoid'))\n"
   ]
  },
  {
   "cell_type": "code",
   "execution_count": 86,
   "metadata": {},
   "outputs": [],
   "source": [
    "model.compile(optimizer='adam',loss='binary_crossentropy',metrics=['accuracy'])\n"
   ]
  },
  {
   "cell_type": "code",
   "execution_count": 87,
   "metadata": {},
   "outputs": [
    {
     "name": "stdout",
     "output_type": "stream",
     "text": [
      "Epoch 1/30\n",
      "351/351 [==============================] - 2s 3ms/step - loss: 0.6443 - accuracy: 0.6199 - val_loss: 0.4866 - val_accuracy: 0.7778\n",
      "Epoch 2/30\n",
      "351/351 [==============================] - 1s 2ms/step - loss: 0.6034 - accuracy: 0.6962 - val_loss: 0.4009 - val_accuracy: 0.8443\n",
      "Epoch 3/30\n",
      "351/351 [==============================] - 1s 2ms/step - loss: 0.5835 - accuracy: 0.7188 - val_loss: 0.4295 - val_accuracy: 0.7965\n",
      "Epoch 4/30\n",
      "351/351 [==============================] - 1s 2ms/step - loss: 0.5719 - accuracy: 0.7251 - val_loss: 0.4185 - val_accuracy: 0.8348\n",
      "Epoch 5/30\n",
      "351/351 [==============================] - 1s 2ms/step - loss: 0.5650 - accuracy: 0.7246 - val_loss: 0.4555 - val_accuracy: 0.7905\n",
      "Epoch 6/30\n",
      "351/351 [==============================] - 1s 2ms/step - loss: 0.5601 - accuracy: 0.7281 - val_loss: 0.3950 - val_accuracy: 0.8471\n",
      "Epoch 7/30\n",
      "351/351 [==============================] - 1s 2ms/step - loss: 0.5577 - accuracy: 0.7280 - val_loss: 0.4613 - val_accuracy: 0.7971\n",
      "Epoch 8/30\n",
      "351/351 [==============================] - 1s 3ms/step - loss: 0.5553 - accuracy: 0.7282 - val_loss: 0.4898 - val_accuracy: 0.7828\n",
      "Epoch 9/30\n",
      "351/351 [==============================] - 1s 3ms/step - loss: 0.5526 - accuracy: 0.7309 - val_loss: 0.5216 - val_accuracy: 0.7646\n",
      "Epoch 10/30\n",
      "351/351 [==============================] - 1s 3ms/step - loss: 0.5511 - accuracy: 0.7308 - val_loss: 0.4361 - val_accuracy: 0.8252\n",
      "Epoch 11/30\n",
      "351/351 [==============================] - 1s 3ms/step - loss: 0.5499 - accuracy: 0.7326 - val_loss: 0.4473 - val_accuracy: 0.8158\n",
      "Epoch 12/30\n",
      "351/351 [==============================] - 1s 3ms/step - loss: 0.5500 - accuracy: 0.7325 - val_loss: 0.4644 - val_accuracy: 0.8145\n",
      "Epoch 13/30\n",
      "351/351 [==============================] - 1s 2ms/step - loss: 0.5476 - accuracy: 0.7318 - val_loss: 0.4970 - val_accuracy: 0.7883\n",
      "Epoch 14/30\n",
      "351/351 [==============================] - 1s 2ms/step - loss: 0.5489 - accuracy: 0.7298 - val_loss: 0.4123 - val_accuracy: 0.8429\n",
      "Epoch 15/30\n",
      "351/351 [==============================] - 1s 2ms/step - loss: 0.5460 - accuracy: 0.7350 - val_loss: 0.4525 - val_accuracy: 0.8151\n",
      "Epoch 16/30\n",
      "351/351 [==============================] - 1s 3ms/step - loss: 0.5471 - accuracy: 0.7322 - val_loss: 0.4328 - val_accuracy: 0.8302\n",
      "Epoch 17/30\n",
      "351/351 [==============================] - 1s 2ms/step - loss: 0.5449 - accuracy: 0.7362 - val_loss: 0.5029 - val_accuracy: 0.7930\n",
      "Epoch 18/30\n",
      "351/351 [==============================] - 1s 2ms/step - loss: 0.5451 - accuracy: 0.7346 - val_loss: 0.4739 - val_accuracy: 0.8089\n",
      "Epoch 19/30\n",
      "351/351 [==============================] - 1s 2ms/step - loss: 0.5441 - accuracy: 0.7352 - val_loss: 0.4957 - val_accuracy: 0.7971\n",
      "Epoch 20/30\n",
      "351/351 [==============================] - 1s 2ms/step - loss: 0.5443 - accuracy: 0.7326 - val_loss: 0.5254 - val_accuracy: 0.7681\n",
      "Epoch 21/30\n",
      "351/351 [==============================] - 1s 3ms/step - loss: 0.5438 - accuracy: 0.7331 - val_loss: 0.4774 - val_accuracy: 0.8134\n",
      "Epoch 22/30\n",
      "351/351 [==============================] - 1s 2ms/step - loss: 0.5421 - accuracy: 0.7365 - val_loss: 0.4519 - val_accuracy: 0.8141\n",
      "Epoch 23/30\n",
      "351/351 [==============================] - 1s 3ms/step - loss: 0.5422 - accuracy: 0.7360 - val_loss: 0.4243 - val_accuracy: 0.8380\n",
      "Epoch 24/30\n",
      "351/351 [==============================] - 1s 2ms/step - loss: 0.5426 - accuracy: 0.7344 - val_loss: 0.4157 - val_accuracy: 0.8427\n",
      "Epoch 25/30\n",
      "351/351 [==============================] - 1s 3ms/step - loss: 0.5420 - accuracy: 0.7346 - val_loss: 0.5136 - val_accuracy: 0.7734\n",
      "Epoch 26/30\n",
      "351/351 [==============================] - 1s 3ms/step - loss: 0.5421 - accuracy: 0.7373 - val_loss: 0.4331 - val_accuracy: 0.8391\n",
      "Epoch 27/30\n",
      "351/351 [==============================] - 1s 3ms/step - loss: 0.5419 - accuracy: 0.7364 - val_loss: 0.5035 - val_accuracy: 0.7872\n",
      "Epoch 28/30\n",
      "351/351 [==============================] - 1s 3ms/step - loss: 0.5402 - accuracy: 0.7358 - val_loss: 0.4157 - val_accuracy: 0.8413\n",
      "Epoch 29/30\n",
      "351/351 [==============================] - 1s 3ms/step - loss: 0.5399 - accuracy: 0.7387 - val_loss: 0.5218 - val_accuracy: 0.7705\n",
      "Epoch 30/30\n",
      "351/351 [==============================] - 1s 3ms/step - loss: 0.5398 - accuracy: 0.7352 - val_loss: 0.4531 - val_accuracy: 0.8136\n"
     ]
    },
    {
     "data": {
      "text/plain": [
       "<keras.callbacks.History at 0x7f6b721e4748>"
      ]
     },
     "execution_count": 87,
     "metadata": {},
     "output_type": "execute_result"
    }
   ],
   "source": [
    "model.fit(x_train,y_train,epochs=30,validation_data=(x_test,y_test),\n",
    "          batch_size=50)"
   ]
  },
  {
   "cell_type": "code",
   "execution_count": 88,
   "metadata": {},
   "outputs": [
    {
     "data": {
      "text/plain": [
       "0.7901403614606972"
      ]
     },
     "execution_count": 88,
     "metadata": {},
     "output_type": "execute_result"
    }
   ],
   "source": [
    "from sklearn.metrics import roc_auc_score\n",
    "\n",
    "y_pred=model.predict(x_test)\n",
    "y_pred=np.squeeze(y_pred)\n",
    "roc_auc_score(y_test,y_pred)"
   ]
  },
  {
   "cell_type": "code",
   "execution_count": 66,
   "metadata": {},
   "outputs": [
    {
     "name": "stdout",
     "output_type": "stream",
     "text": [
      "78.21866666666666% of predictions belongs to one class\n"
     ]
    }
   ],
   "source": [
    "y_p=model.predict(x_test)\n",
    "count=[0,0]\n",
    "for value in y_p:\n",
    "    if value>0.5:\n",
    "        count[1]+=1\n",
    "    else:\n",
    "        count[0]+=1\n",
    "print((count[0]/len(y_p))*100,end='')\n",
    "print('% of predictions belongs to one class')"
   ]
  },
  {
   "cell_type": "markdown",
   "metadata": {},
   "source": [
    "# Preparing data for submission\n"
   ]
  },
  {
   "cell_type": "code",
   "execution_count": 109,
   "metadata": {},
   "outputs": [],
   "source": [
    "x_train=combine[0].drop(['SeriousDlqin2yrs'],axis=1)"
   ]
  },
  {
   "cell_type": "code",
   "execution_count": 110,
   "metadata": {},
   "outputs": [],
   "source": [
    "submission_data=test[x_train.columns]\n",
    "submission_data=ss.transform(submission_data)\n",
    "submission_data=np.expand_dims(submission_data,axis=1)\n"
   ]
  },
  {
   "cell_type": "code",
   "execution_count": 113,
   "metadata": {},
   "outputs": [],
   "source": [
    "y_predicted=model.predict(submission_data)\n",
    "y_predicted=np.squeeze(y_predicted)"
   ]
  },
  {
   "cell_type": "code",
   "execution_count": 116,
   "metadata": {},
   "outputs": [
    {
     "data": {
      "text/plain": [
       "RangeIndex(start=0, stop=101503, step=1)"
      ]
     },
     "execution_count": 116,
     "metadata": {},
     "output_type": "execute_result"
    }
   ],
   "source": [
    "test.index"
   ]
  },
  {
   "cell_type": "code",
   "execution_count": 124,
   "metadata": {},
   "outputs": [],
   "source": [
    "submission=pd.DataFrame()\n",
    "submission['Id']=np.arange(1,101504)\n",
    "submission['Probability']=y_predicted"
   ]
  },
  {
   "cell_type": "code",
   "execution_count": 127,
   "metadata": {},
   "outputs": [],
   "source": [
    "submission.to_csv('output.csv',index=False)"
   ]
  },
  {
   "cell_type": "markdown",
   "metadata": {},
   "source": [
    "# Saving the model\n",
    "\n"
   ]
  },
  {
   "cell_type": "code",
   "execution_count": 129,
   "metadata": {},
   "outputs": [],
   "source": [
    "model.save('nn.h5')"
   ]
  },
  {
   "cell_type": "code",
   "execution_count": 132,
   "metadata": {},
   "outputs": [],
   "source": [
    "model1=keras.models.load_model('nn.h5')"
   ]
  },
  {
   "cell_type": "code",
   "execution_count": null,
   "metadata": {},
   "outputs": [],
   "source": []
  }
 ],
 "metadata": {
  "kernelspec": {
   "display_name": "Python 3",
   "language": "python",
   "name": "python3"
  },
  "language_info": {
   "codemirror_mode": {
    "name": "ipython",
    "version": 3
   },
   "file_extension": ".py",
   "mimetype": "text/x-python",
   "name": "python",
   "nbconvert_exporter": "python",
   "pygments_lexer": "ipython3",
   "version": "3.7.3"
  }
 },
 "nbformat": 4,
 "nbformat_minor": 2
}
