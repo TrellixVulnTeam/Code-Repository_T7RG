{
  "nbformat": 4,
  "nbformat_minor": 0,
  "metadata": {
    "colab": {
      "name": "Project Kaggle.ipynb",
      "provenance": [],
      "collapsed_sections": []
    },
    "kernelspec": {
      "name": "python3",
      "display_name": "Python 3"
    },
    "language_info": {
      "name": "python"
    }
  },
  "cells": [
    {
      "cell_type": "markdown",
      "metadata": {
        "id": "fVVrusDaYQ-B"
      },
      "source": [
        "# Exporting the dataset and connecting to google drive\n",
        "\n"
      ]
    },
    {
      "cell_type": "code",
      "metadata": {
        "colab": {
          "base_uri": "https://localhost:8080/"
        },
        "id": "Wp3PDSarbbtn",
        "outputId": "c170740a-1767-4de2-bcde-63f316b3e06c"
      },
      "source": [
        "from google.colab import drive\n",
        "drive.mount(\"/gdrive\")"
      ],
      "execution_count": 8,
      "outputs": [
        {
          "output_type": "stream",
          "name": "stdout",
          "text": [
            "Drive already mounted at /gdrive; to attempt to forcibly remount, call drive.mount(\"/gdrive\", force_remount=True).\n"
          ]
        }
      ]
    },
    {
      "cell_type": "code",
      "metadata": {
        "colab": {
          "base_uri": "https://localhost:8080/"
        },
        "id": "WEZGtqiObjlz",
        "outputId": "3a4e49be-550f-44dc-d641-8bca5c7b6e67"
      },
      "source": [
        "cd \"/gdrive/MyDrive/Colab Notebooks/Project\""
      ],
      "execution_count": 9,
      "outputs": [
        {
          "output_type": "stream",
          "name": "stdout",
          "text": [
            "/gdrive/MyDrive/Colab Notebooks/Project\n"
          ]
        }
      ]
    },
    {
      "cell_type": "markdown",
      "metadata": {
        "id": "4UUpLdbjgJdi"
      },
      "source": [
        "# Import the required libraries\n",
        "\n"
      ]
    },
    {
      "cell_type": "code",
      "metadata": {
        "id": "ZqYJYhiFgL5g"
      },
      "source": [
        "import pandas as pd\n",
        "import numpy as np\n",
        "import matplotlib.pyplot as plt\n",
        "import seaborn as sns\n",
        "from sklearn.model_selection import train_test_split"
      ],
      "execution_count": 21,
      "outputs": []
    },
    {
      "cell_type": "markdown",
      "metadata": {
        "id": "P0v6egH0cPE0"
      },
      "source": [
        "# Read the data"
      ]
    },
    {
      "cell_type": "code",
      "metadata": {
        "colab": {
          "base_uri": "https://localhost:8080/"
        },
        "id": "UaIO3jp8dIGW",
        "outputId": "8af3d599-a7dd-46f2-8a3b-6baa66fd7a03"
      },
      "source": [
        "# Finding the list of files in the folder\n",
        "import os\n",
        "os.listdir()"
      ],
      "execution_count": 22,
      "outputs": [
        {
          "output_type": "execute_result",
          "data": {
            "text/plain": [
              "['sample_submission.csv',\n",
              " 'test.csv',\n",
              " 'train.csv',\n",
              " 'Untitled.ipynb',\n",
              " '.ipynb_checkpoints']"
            ]
          },
          "metadata": {},
          "execution_count": 22
        }
      ]
    },
    {
      "cell_type": "code",
      "metadata": {
        "id": "SLR1Vq-beNjt"
      },
      "source": [
        "import pandas as pd\n",
        "train_data=pd.read_csv('train.csv')"
      ],
      "execution_count": 23,
      "outputs": []
    },
    {
      "cell_type": "markdown",
      "metadata": {
        "id": "cfryuzZFeUMl"
      },
      "source": [
        "# Exploratory Data Analysis"
      ]
    },
    {
      "cell_type": "code",
      "metadata": {
        "colab": {
          "base_uri": "https://localhost:8080/",
          "height": 244
        },
        "id": "y7GFB2VBeeNU",
        "outputId": "1d7df61f-25dd-480b-8590-68639c6652d9"
      },
      "source": [
        "# Looking at the data\n",
        "train_data.head()"
      ],
      "execution_count": 24,
      "outputs": [
        {
          "output_type": "execute_result",
          "data": {
            "text/html": [
              "<div>\n",
              "<style scoped>\n",
              "    .dataframe tbody tr th:only-of-type {\n",
              "        vertical-align: middle;\n",
              "    }\n",
              "\n",
              "    .dataframe tbody tr th {\n",
              "        vertical-align: top;\n",
              "    }\n",
              "\n",
              "    .dataframe thead th {\n",
              "        text-align: right;\n",
              "    }\n",
              "</style>\n",
              "<table border=\"1\" class=\"dataframe\">\n",
              "  <thead>\n",
              "    <tr style=\"text-align: right;\">\n",
              "      <th></th>\n",
              "      <th>Unnamed: 0</th>\n",
              "      <th>lepton_1_pT</th>\n",
              "      <th>lepton_1_eta</th>\n",
              "      <th>lepton_1_phi</th>\n",
              "      <th>lepton_2_pT</th>\n",
              "      <th>lepton_2_eta</th>\n",
              "      <th>lepton_2_phi</th>\n",
              "      <th>missing_energy_magnitude</th>\n",
              "      <th>missing_energy_phi</th>\n",
              "      <th>MET_rel</th>\n",
              "      <th>axial_MET</th>\n",
              "      <th>M_R</th>\n",
              "      <th>M_TR_2</th>\n",
              "      <th>R</th>\n",
              "      <th>MT2</th>\n",
              "      <th>S_R</th>\n",
              "      <th>M_Delta_R</th>\n",
              "      <th>dPhi_r_b</th>\n",
              "      <th>cos(theta_r1)</th>\n",
              "      <th>class</th>\n",
              "    </tr>\n",
              "  </thead>\n",
              "  <tbody>\n",
              "    <tr>\n",
              "      <th>0</th>\n",
              "      <td>0</td>\n",
              "      <td>0.841381</td>\n",
              "      <td>1.832647</td>\n",
              "      <td>-0.689286</td>\n",
              "      <td>0.781839</td>\n",
              "      <td>0.572864</td>\n",
              "      <td>1.577097</td>\n",
              "      <td>0.398978</td>\n",
              "      <td>-0.683847</td>\n",
              "      <td>0.001826</td>\n",
              "      <td>0.651397</td>\n",
              "      <td>0.865560</td>\n",
              "      <td>0.429017</td>\n",
              "      <td>0.439840</td>\n",
              "      <td>0.000000</td>\n",
              "      <td>0.796105</td>\n",
              "      <td>0.342497</td>\n",
              "      <td>0.461542</td>\n",
              "      <td>0.005710</td>\n",
              "      <td>0.0</td>\n",
              "    </tr>\n",
              "    <tr>\n",
              "      <th>1</th>\n",
              "      <td>1</td>\n",
              "      <td>0.663798</td>\n",
              "      <td>2.058290</td>\n",
              "      <td>0.681435</td>\n",
              "      <td>1.054036</td>\n",
              "      <td>0.575352</td>\n",
              "      <td>-1.001445</td>\n",
              "      <td>0.462154</td>\n",
              "      <td>-0.833411</td>\n",
              "      <td>0.199734</td>\n",
              "      <td>0.215158</td>\n",
              "      <td>0.949988</td>\n",
              "      <td>0.618046</td>\n",
              "      <td>0.577324</td>\n",
              "      <td>0.000000</td>\n",
              "      <td>0.962927</td>\n",
              "      <td>0.333800</td>\n",
              "      <td>1.455247</td>\n",
              "      <td>0.101246</td>\n",
              "      <td>0.0</td>\n",
              "    </tr>\n",
              "    <tr>\n",
              "      <th>2</th>\n",
              "      <td>2</td>\n",
              "      <td>1.792225</td>\n",
              "      <td>-1.099978</td>\n",
              "      <td>0.088109</td>\n",
              "      <td>0.573157</td>\n",
              "      <td>-0.472629</td>\n",
              "      <td>1.642084</td>\n",
              "      <td>1.203374</td>\n",
              "      <td>1.506731</td>\n",
              "      <td>0.457695</td>\n",
              "      <td>-0.640507</td>\n",
              "      <td>1.157024</td>\n",
              "      <td>1.585432</td>\n",
              "      <td>1.215963</td>\n",
              "      <td>0.000000</td>\n",
              "      <td>1.113292</td>\n",
              "      <td>0.645729</td>\n",
              "      <td>0.721326</td>\n",
              "      <td>0.613326</td>\n",
              "      <td>1.0</td>\n",
              "    </tr>\n",
              "    <tr>\n",
              "      <th>3</th>\n",
              "      <td>3</td>\n",
              "      <td>0.893018</td>\n",
              "      <td>0.297782</td>\n",
              "      <td>-1.274870</td>\n",
              "      <td>1.316164</td>\n",
              "      <td>1.593303</td>\n",
              "      <td>0.672115</td>\n",
              "      <td>0.307014</td>\n",
              "      <td>-1.189868</td>\n",
              "      <td>0.064561</td>\n",
              "      <td>0.430909</td>\n",
              "      <td>1.162625</td>\n",
              "      <td>0.548821</td>\n",
              "      <td>0.418897</td>\n",
              "      <td>0.163908</td>\n",
              "      <td>1.157707</td>\n",
              "      <td>0.298163</td>\n",
              "      <td>0.803802</td>\n",
              "      <td>0.038902</td>\n",
              "      <td>0.0</td>\n",
              "    </tr>\n",
              "    <tr>\n",
              "      <th>4</th>\n",
              "      <td>4</td>\n",
              "      <td>1.338997</td>\n",
              "      <td>0.350023</td>\n",
              "      <td>-1.518510</td>\n",
              "      <td>1.482963</td>\n",
              "      <td>-0.491807</td>\n",
              "      <td>0.340170</td>\n",
              "      <td>0.415071</td>\n",
              "      <td>-1.292034</td>\n",
              "      <td>0.240712</td>\n",
              "      <td>0.611775</td>\n",
              "      <td>1.307798</td>\n",
              "      <td>0.697804</td>\n",
              "      <td>0.473487</td>\n",
              "      <td>0.429977</td>\n",
              "      <td>1.287935</td>\n",
              "      <td>0.330327</td>\n",
              "      <td>0.717237</td>\n",
              "      <td>0.003147</td>\n",
              "      <td>1.0</td>\n",
              "    </tr>\n",
              "  </tbody>\n",
              "</table>\n",
              "</div>"
            ],
            "text/plain": [
              "   Unnamed: 0  lepton_1_pT  lepton_1_eta  ...  dPhi_r_b  cos(theta_r1)  class\n",
              "0           0     0.841381      1.832647  ...  0.461542       0.005710    0.0\n",
              "1           1     0.663798      2.058290  ...  1.455247       0.101246    0.0\n",
              "2           2     1.792225     -1.099978  ...  0.721326       0.613326    1.0\n",
              "3           3     0.893018      0.297782  ...  0.803802       0.038902    0.0\n",
              "4           4     1.338997      0.350023  ...  0.717237       0.003147    1.0\n",
              "\n",
              "[5 rows x 20 columns]"
            ]
          },
          "metadata": {},
          "execution_count": 24
        }
      ]
    },
    {
      "cell_type": "markdown",
      "metadata": {
        "id": "Xx-Cn9GWeoFA"
      },
      "source": [
        "## Understanding the data to find missing values and wrong data"
      ]
    },
    {
      "cell_type": "code",
      "metadata": {
        "colab": {
          "base_uri": "https://localhost:8080/"
        },
        "id": "-am0XSkie1pI",
        "outputId": "eda99ce1-71fb-494b-ed5f-afb3ad0912a7"
      },
      "source": [
        "train_data.isna().sum()"
      ],
      "execution_count": 25,
      "outputs": [
        {
          "output_type": "execute_result",
          "data": {
            "text/plain": [
              "Unnamed: 0                  0\n",
              "lepton_1_pT                 0\n",
              "lepton_1_eta                0\n",
              "lepton_1_phi                0\n",
              "lepton_2_pT                 0\n",
              "lepton_2_eta                0\n",
              "lepton_2_phi                0\n",
              "missing_energy_magnitude    0\n",
              "missing_energy_phi          0\n",
              "MET_rel                     0\n",
              "axial_MET                   0\n",
              "M_R                         0\n",
              "M_TR_2                      0\n",
              "R                           0\n",
              "MT2                         0\n",
              "S_R                         0\n",
              "M_Delta_R                   0\n",
              "dPhi_r_b                    0\n",
              "cos(theta_r1)               0\n",
              "class                       0\n",
              "dtype: int64"
            ]
          },
          "metadata": {},
          "execution_count": 25
        }
      ]
    },
    {
      "cell_type": "markdown",
      "metadata": {
        "id": "kKDmmWM9fBtL"
      },
      "source": [
        "It can be seen that there is no missing data in the dataset. Hence , there is no process needed to handle null values. However, we might still have missing values or wrong data\n",
        "\n"
      ]
    },
    {
      "cell_type": "markdown",
      "metadata": {
        "id": "8UkRYD4aikAB"
      },
      "source": [
        "## Understanding if the datatype of all columns are normal "
      ]
    },
    {
      "cell_type": "code",
      "metadata": {
        "colab": {
          "base_uri": "https://localhost:8080/"
        },
        "id": "uQLBkk6LipRI",
        "outputId": "9222801c-8fe6-4578-dc91-e237e3b21a58"
      },
      "source": [
        "train_data.dtypes"
      ],
      "execution_count": 28,
      "outputs": [
        {
          "output_type": "execute_result",
          "data": {
            "text/plain": [
              "Unnamed: 0                    int64\n",
              "lepton_1_pT                 float64\n",
              "lepton_1_eta                float64\n",
              "lepton_1_phi                float64\n",
              "lepton_2_pT                 float64\n",
              "lepton_2_eta                float64\n",
              "lepton_2_phi                float64\n",
              "missing_energy_magnitude    float64\n",
              "missing_energy_phi          float64\n",
              "MET_rel                     float64\n",
              "axial_MET                   float64\n",
              "M_R                         float64\n",
              "M_TR_2                      float64\n",
              "R                           float64\n",
              "MT2                         float64\n",
              "S_R                         float64\n",
              "M_Delta_R                   float64\n",
              "dPhi_r_b                    float64\n",
              "cos(theta_r1)               float64\n",
              "class                       float64\n",
              "dtype: object"
            ]
          },
          "metadata": {},
          "execution_count": 28
        }
      ]
    },
    {
      "cell_type": "markdown",
      "metadata": {
        "id": "ulDHN7rwjWNu"
      },
      "source": [
        "<h3> Findings from dtypes </h3>\n",
        "\n",
        "*  All the datatypes are float64 except the Unnamed 0, which means that there is no data entered as NAN, or as other string formats. "
      ]
    },
    {
      "cell_type": "markdown",
      "metadata": {
        "id": "nKjzxvIJiSlk"
      },
      "source": [
        "# Understanding the statistical distribution of the data"
      ]
    },
    {
      "cell_type": "code",
      "metadata": {
        "colab": {
          "base_uri": "https://localhost:8080/",
          "height": 320
        },
        "id": "WwXOsiMHgBZ_",
        "outputId": "e6fc823c-ef60-4c1c-8c01-10831d619697"
      },
      "source": [
        "np.round(train_data.describe(),2)"
      ],
      "execution_count": 29,
      "outputs": [
        {
          "output_type": "execute_result",
          "data": {
            "text/html": [
              "<div>\n",
              "<style scoped>\n",
              "    .dataframe tbody tr th:only-of-type {\n",
              "        vertical-align: middle;\n",
              "    }\n",
              "\n",
              "    .dataframe tbody tr th {\n",
              "        vertical-align: top;\n",
              "    }\n",
              "\n",
              "    .dataframe thead th {\n",
              "        text-align: right;\n",
              "    }\n",
              "</style>\n",
              "<table border=\"1\" class=\"dataframe\">\n",
              "  <thead>\n",
              "    <tr style=\"text-align: right;\">\n",
              "      <th></th>\n",
              "      <th>Unnamed: 0</th>\n",
              "      <th>lepton_1_pT</th>\n",
              "      <th>lepton_1_eta</th>\n",
              "      <th>lepton_1_phi</th>\n",
              "      <th>lepton_2_pT</th>\n",
              "      <th>lepton_2_eta</th>\n",
              "      <th>lepton_2_phi</th>\n",
              "      <th>missing_energy_magnitude</th>\n",
              "      <th>missing_energy_phi</th>\n",
              "      <th>MET_rel</th>\n",
              "      <th>axial_MET</th>\n",
              "      <th>M_R</th>\n",
              "      <th>M_TR_2</th>\n",
              "      <th>R</th>\n",
              "      <th>MT2</th>\n",
              "      <th>S_R</th>\n",
              "      <th>M_Delta_R</th>\n",
              "      <th>dPhi_r_b</th>\n",
              "      <th>cos(theta_r1)</th>\n",
              "      <th>class</th>\n",
              "    </tr>\n",
              "  </thead>\n",
              "  <tbody>\n",
              "    <tr>\n",
              "      <th>count</th>\n",
              "      <td>3500000.00</td>\n",
              "      <td>3500000.00</td>\n",
              "      <td>3500000.00</td>\n",
              "      <td>3500000.00</td>\n",
              "      <td>3500000.00</td>\n",
              "      <td>3500000.00</td>\n",
              "      <td>3500000.00</td>\n",
              "      <td>3500000.00</td>\n",
              "      <td>3500000.00</td>\n",
              "      <td>3500000.00</td>\n",
              "      <td>3500000.00</td>\n",
              "      <td>3500000.00</td>\n",
              "      <td>3500000.00</td>\n",
              "      <td>3500000.00</td>\n",
              "      <td>3500000.00</td>\n",
              "      <td>3500000.00</td>\n",
              "      <td>3500000.00</td>\n",
              "      <td>3500000.00</td>\n",
              "      <td>3500000.00</td>\n",
              "      <td>3500000.00</td>\n",
              "    </tr>\n",
              "    <tr>\n",
              "      <th>mean</th>\n",
              "      <td>1749999.50</td>\n",
              "      <td>1.00</td>\n",
              "      <td>0.00</td>\n",
              "      <td>0.00</td>\n",
              "      <td>1.00</td>\n",
              "      <td>0.00</td>\n",
              "      <td>-0.00</td>\n",
              "      <td>1.00</td>\n",
              "      <td>-0.00</td>\n",
              "      <td>1.00</td>\n",
              "      <td>-0.00</td>\n",
              "      <td>1.00</td>\n",
              "      <td>1.00</td>\n",
              "      <td>1.00</td>\n",
              "      <td>1.00</td>\n",
              "      <td>1.00</td>\n",
              "      <td>1.00</td>\n",
              "      <td>1.00</td>\n",
              "      <td>0.22</td>\n",
              "      <td>0.46</td>\n",
              "    </tr>\n",
              "    <tr>\n",
              "      <th>std</th>\n",
              "      <td>1010363.12</td>\n",
              "      <td>0.69</td>\n",
              "      <td>1.00</td>\n",
              "      <td>1.00</td>\n",
              "      <td>0.65</td>\n",
              "      <td>1.00</td>\n",
              "      <td>1.00</td>\n",
              "      <td>0.87</td>\n",
              "      <td>1.00</td>\n",
              "      <td>0.89</td>\n",
              "      <td>1.00</td>\n",
              "      <td>0.63</td>\n",
              "      <td>0.58</td>\n",
              "      <td>0.47</td>\n",
              "      <td>0.86</td>\n",
              "      <td>0.62</td>\n",
              "      <td>0.62</td>\n",
              "      <td>0.44</td>\n",
              "      <td>0.20</td>\n",
              "      <td>0.50</td>\n",
              "    </tr>\n",
              "    <tr>\n",
              "      <th>min</th>\n",
              "      <td>0.00</td>\n",
              "      <td>0.25</td>\n",
              "      <td>-2.10</td>\n",
              "      <td>-1.73</td>\n",
              "      <td>0.43</td>\n",
              "      <td>-2.06</td>\n",
              "      <td>-1.73</td>\n",
              "      <td>0.00</td>\n",
              "      <td>-1.73</td>\n",
              "      <td>0.00</td>\n",
              "      <td>-15.34</td>\n",
              "      <td>0.27</td>\n",
              "      <td>0.00</td>\n",
              "      <td>0.00</td>\n",
              "      <td>0.00</td>\n",
              "      <td>0.03</td>\n",
              "      <td>0.00</td>\n",
              "      <td>0.00</td>\n",
              "      <td>0.00</td>\n",
              "      <td>0.00</td>\n",
              "    </tr>\n",
              "    <tr>\n",
              "      <th>25%</th>\n",
              "      <td>874999.75</td>\n",
              "      <td>0.56</td>\n",
              "      <td>-0.76</td>\n",
              "      <td>-0.87</td>\n",
              "      <td>0.60</td>\n",
              "      <td>-0.77</td>\n",
              "      <td>-0.87</td>\n",
              "      <td>0.48</td>\n",
              "      <td>-0.87</td>\n",
              "      <td>0.37</td>\n",
              "      <td>-0.49</td>\n",
              "      <td>0.59</td>\n",
              "      <td>0.62</td>\n",
              "      <td>0.65</td>\n",
              "      <td>0.17</td>\n",
              "      <td>0.60</td>\n",
              "      <td>0.51</td>\n",
              "      <td>0.69</td>\n",
              "      <td>0.07</td>\n",
              "      <td>0.00</td>\n",
              "    </tr>\n",
              "    <tr>\n",
              "      <th>50%</th>\n",
              "      <td>1749999.50</td>\n",
              "      <td>0.79</td>\n",
              "      <td>0.00</td>\n",
              "      <td>-0.00</td>\n",
              "      <td>0.80</td>\n",
              "      <td>0.00</td>\n",
              "      <td>-0.00</td>\n",
              "      <td>0.77</td>\n",
              "      <td>-0.01</td>\n",
              "      <td>0.80</td>\n",
              "      <td>-0.08</td>\n",
              "      <td>0.83</td>\n",
              "      <td>0.88</td>\n",
              "      <td>0.93</td>\n",
              "      <td>0.90</td>\n",
              "      <td>0.84</td>\n",
              "      <td>0.91</td>\n",
              "      <td>1.09</td>\n",
              "      <td>0.17</td>\n",
              "      <td>0.00</td>\n",
              "    </tr>\n",
              "    <tr>\n",
              "      <th>75%</th>\n",
              "      <td>2624999.25</td>\n",
              "      <td>1.20</td>\n",
              "      <td>0.76</td>\n",
              "      <td>0.87</td>\n",
              "      <td>1.16</td>\n",
              "      <td>0.77</td>\n",
              "      <td>0.87</td>\n",
              "      <td>1.21</td>\n",
              "      <td>0.87</td>\n",
              "      <td>1.37</td>\n",
              "      <td>0.35</td>\n",
              "      <td>1.21</td>\n",
              "      <td>1.22</td>\n",
              "      <td>1.28</td>\n",
              "      <td>1.61</td>\n",
              "      <td>1.21</td>\n",
              "      <td>1.38</td>\n",
              "      <td>1.37</td>\n",
              "      <td>0.33</td>\n",
              "      <td>1.00</td>\n",
              "    </tr>\n",
              "    <tr>\n",
              "      <th>max</th>\n",
              "      <td>3499999.00</td>\n",
              "      <td>20.55</td>\n",
              "      <td>2.10</td>\n",
              "      <td>1.73</td>\n",
              "      <td>33.04</td>\n",
              "      <td>2.06</td>\n",
              "      <td>1.73</td>\n",
              "      <td>21.07</td>\n",
              "      <td>1.74</td>\n",
              "      <td>23.39</td>\n",
              "      <td>19.59</td>\n",
              "      <td>21.08</td>\n",
              "      <td>16.17</td>\n",
              "      <td>6.73</td>\n",
              "      <td>20.69</td>\n",
              "      <td>21.15</td>\n",
              "      <td>15.61</td>\n",
              "      <td>1.59</td>\n",
              "      <td>1.00</td>\n",
              "      <td>1.00</td>\n",
              "    </tr>\n",
              "  </tbody>\n",
              "</table>\n",
              "</div>"
            ],
            "text/plain": [
              "       Unnamed: 0  lepton_1_pT  ...  cos(theta_r1)       class\n",
              "count  3500000.00   3500000.00  ...     3500000.00  3500000.00\n",
              "mean   1749999.50         1.00  ...           0.22        0.46\n",
              "std    1010363.12         0.69  ...           0.20        0.50\n",
              "min          0.00         0.25  ...           0.00        0.00\n",
              "25%     874999.75         0.56  ...           0.07        0.00\n",
              "50%    1749999.50         0.79  ...           0.17        0.00\n",
              "75%    2624999.25         1.20  ...           0.33        1.00\n",
              "max    3499999.00        20.55  ...           1.00        1.00\n",
              "\n",
              "[8 rows x 20 columns]"
            ]
          },
          "metadata": {},
          "execution_count": 29
        }
      ]
    },
    {
      "cell_type": "markdown",
      "metadata": {
        "id": "aRxDjLqIgHTU"
      },
      "source": [
        "<h3> Findings from describe table </h3>\n",
        "<body>\n",
        "\n",
        "\n",
        "*  From the above table, it can be understood that the Unnamed : 0 is the index\n",
        "*  The last column is the output column and it has to be seperated. \n",
        "*  To understand the dependency of other columns we will have to try other process\n",
        "\n",
        "\n",
        "\n",
        "\n",
        "\n"
      ]
    },
    {
      "cell_type": "markdown",
      "metadata": {
        "id": "Z3_1oVMphgNS"
      },
      "source": [
        "## Checking\n"
      ]
    },
    {
      "cell_type": "code",
      "metadata": {
        "id": "VmeZUhZulzhE"
      },
      "source": [
        ""
      ],
      "execution_count": null,
      "outputs": []
    }
  ]
}