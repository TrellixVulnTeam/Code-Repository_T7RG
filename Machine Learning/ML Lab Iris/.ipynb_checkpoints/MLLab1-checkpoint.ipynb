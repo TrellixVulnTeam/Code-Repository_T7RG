{
 "cells": [
  {
   "cell_type": "markdown",
   "id": "0c9ab592-dc75-4586-bb53-4724a9010fa9",
   "metadata": {
    "tags": []
   },
   "source": [
    "### In this simple assignment, you will experiment with a toy dataset – the iris dataset"
   ]
  },
  {
   "cell_type": "markdown",
   "id": "deb9d38d-49e2-4c59-aff1-0c6c188c2b77",
   "metadata": {},
   "source": [
    "> a) Load the Iris dataset (2 points)"
   ]
  },
  {
   "cell_type": "code",
   "execution_count": 190,
   "id": "9b1d9013-99a9-4587-a284-ca8034495072",
   "metadata": {},
   "outputs": [],
   "source": [
    " # Import datasets library from sklearn and load the iris dataset\n",
    "\n",
    "from sklearn import datasets\n",
    "import numpy as np\n",
    "import seaborn as sns\n",
    "from sklearn.linear_model import LogisticRegression\n",
    "import warnings\n",
    "warnings.filterwarnings(\"ignore\")\n",
    "\n",
    "iris=datasets.load_iris()"
   ]
  },
  {
   "cell_type": "code",
   "execution_count": 191,
   "id": "0412aa39-aac2-4884-8884-e01858a67bca",
   "metadata": {},
   "outputs": [],
   "source": [
    "# Reading the Data and Target values to x and y\n",
    "# Reading the target names to ynames\n",
    "\n",
    "inputData=iris.data\n",
    "target=iris.target\n",
    "targetNames=iris.target_names\n"
   ]
  },
  {
   "cell_type": "markdown",
   "id": "76cd4c6f-f0c1-4271-be7e-6257665ba464",
   "metadata": {},
   "source": [
    "### As per documentation, Iris dataset has 4 input columns. \n",
    "> <b> Input Columns </b> [Sepal Length, Sepal Width, Petal Length, Petal Width]\n",
    "\n",
    "> <b> Target Names </b> ['setosa', 'versicolor', 'virginica']\n",
    "\n",
    "> Setosa : 0\n",
    "> Versicolor : 1\n",
    "> Virginica : 2, is how the Tagret names are encoded\n"
   ]
  },
  {
   "cell_type": "markdown",
   "id": "adbac669-e954-461a-8016-2f6a5469ad4b",
   "metadata": {},
   "source": [
    "> (b) The Iris data has 3 classes. For the purposes of this assignment,\n",
    "you will modify the dataset so that it has 2 classes – specifically,\n",
    "you will merge the “setosa and the versicolor” classes (2 points)"
   ]
  },
  {
   "cell_type": "code",
   "execution_count": 192,
   "id": "6bdf1171-f930-4133-9109-b8b31b9f51db",
   "metadata": {},
   "outputs": [],
   "source": [
    "# Filtering out the values with value 0 and 1 and encoding them as 1 , ie combining the classes\n",
    "# Encoding Setosa and Versicolor as 0 and Virginica as 1\n",
    "target[(target==0) | (target==1)]=0\n",
    "target[target==2]=1"
   ]
  },
  {
   "cell_type": "markdown",
   "id": "6480a405-0dde-40b9-a3eb-7f74c856970f",
   "metadata": {},
   "source": [
    "> (c) Construct a training set and a testing set using an 80 −20 split\n",
    "using random sampling (3 points) "
   ]
  },
  {
   "cell_type": "code",
   "execution_count": 266,
   "id": "d4e3d1c1-d86f-4cec-b0e3-66bd56f396fa",
   "metadata": {},
   "outputs": [],
   "source": [
    "# Creating an index to shuffle data and shuffling data using it\n",
    "indexList=[i for i in range(0,inputData.shape[0])]\n",
    "inputDistribution=(len(target[target==0])/len(target[target==1]))\n",
    "trainDistribution=0\n",
    "testDistribution=0\n",
    "# This loop ensures that the distribution of train and test dataset is same as that of input distribution\n",
    "\n",
    "np.random.shuffle(indexList)\n",
    "splitLength=int(len(inputData)*0.8)\n",
    "trainIndex=indexList[0:splitLength]\n",
    "testIndex=indexList[splitLength:]\n",
    "\n",
    "X_train=inputData[trainIndex]\n",
    "Y_train=target[trainIndex]\n",
    "X_test=inputData[testIndex]\n",
    "Y_test=target[testIndex]\n",
    "trainDistribution=len(Y_train[Y_train==0])/len(Y_train[Y_train==1])\n",
    "testDistribution=len(Y_test[Y_test==0])/len(Y_test[Y_test==1])"
   ]
  },
  {
   "cell_type": "code",
   "execution_count": 267,
   "id": "c4eb4ac6-f71b-4805-a88b-9fbdf9963c59",
   "metadata": {},
   "outputs": [
    {
     "name": "stdout",
     "output_type": "stream",
     "text": [
      "Class0/Class1 ration in input data:  2.0\n",
      "Class0/Class1 ration in train data:  1.9268292682926829\n",
      "Class0/Class1 ration in train data:  2.3333333333333335\n"
     ]
    },
    {
     "data": {
      "image/png": "[encoded data removed]",
      "text/plain": [
       "<Figure size 1440x216 with 3 Axes>"
      ]
     },
     "metadata": {
      "needs_background": "light"
     },
     "output_type": "display_data"
    }
   ],
   "source": [
    "#Distribution of targets in train and test datasets\n",
    "plt.figure(figsize=(20,3))\n",
    "\n",
    "#Distribution in Main dataset\n",
    "plt.subplot(1,3,1)\n",
    "plt.title('Distribution of outputs in train dataset')\n",
    "sns.countplot(target)\n",
    "\n",
    "plt.subplot(1,3,2)\n",
    "plt.title('Distribution of outputs in test dataset')\n",
    "sns.countplot(Y_test)\n",
    "\n",
    "plt.subplot(1,3,3)\n",
    "plt.title('Distribution of outputs in train dataset')\n",
    "sns.countplot(Y_train)\n",
    "\n",
    "print('Class0/Class1 ration in input data: ',len(target[target==0])/len(target[target==1]))\n",
    "print('Class0/Class1 ration in train data: ',len(Y_train[Y_train==0])/len(Y_train[Y_train==1]))\n",
    "print('Class0/Class1 ration in train data: ',len(Y_test[Y_test==0])/len(Y_test[Y_test==1]))"
   ]
  },
  {
   "cell_type": "markdown",
   "id": "c5df7f98-a5c9-4681-bab0-b4830ca83a32",
   "metadata": {},
   "source": [
    "## It can be seen that the distribution varies while doing random sampling. \n",
    "## Hence adding an additional code to ensure that the distribution is same throughout"
   ]
  },
  {
   "cell_type": "code",
   "execution_count": 264,
   "id": "d798006f-d12b-44d3-8a8f-b0254977136e",
   "metadata": {},
   "outputs": [],
   "source": [
    "# Creating an index to shuffle data and shuffling data using it\n",
    "indexList=[i for i in range(0,inputData.shape[0])]\n",
    "inputDistribution=(len(target[target==0])/len(target[target==1]))\n",
    "trainDistribution=0\n",
    "testDistribution=0\n",
    "# This loop ensures that the distribution of train and test dataset is same as that of input distribution\n",
    "\n",
    "while( (inputDistribution!=trainDistribution) & (inputDistribution!=testDistribution)):\n",
    "    np.random.shuffle(indexList)\n",
    "    splitLength=int(len(inputData)*0.8)\n",
    "    trainIndex=indexList[0:splitLength]\n",
    "    testIndex=indexList[splitLength:]\n",
    "\n",
    "    X_trainCorrected=inputData[trainIndex]\n",
    "    Y_trainCorrected=target[trainIndex]\n",
    "    X_testCorrected=inputData[testIndex]\n",
    "    Y_testCorrected=target[testIndex]\n",
    "    trainDistribution=len(Y_train[Y_train==0])/len(Y_train[Y_train==1])\n",
    "    testDistribution=len(Y_test[Y_test==0])/len(Y_test[Y_test==1])"
   ]
  },
  {
   "cell_type": "code",
   "execution_count": 265,
   "id": "84e7d311-caca-4b2b-ae35-160faf6b978e",
   "metadata": {},
   "outputs": [
    {
     "name": "stdout",
     "output_type": "stream",
     "text": [
      "Class0/Class1 ration in input data:  2.0\n",
      "Class0/Class1 ration in train data:  2.0\n",
      "Class0/Class1 ration in train data:  2.0\n"
     ]
    },
    {
     "data": {
      "image/png": "[encoded data removed]",
      "text/plain": [
       "<Figure size 1440x216 with 3 Axes>"
      ]
     },
     "metadata": {
      "needs_background": "light"
     },
     "output_type": "display_data"
    }
   ],
   "source": [
    "#Distribution of targets in train and test datasets\n",
    "plt.figure(figsize=(20,3))\n",
    "\n",
    "#Distribution in Main dataset\n",
    "plt.subplot(1,3,1)\n",
    "plt.title('Distribution of outputs in train dataset')\n",
    "sns.countplot(target)\n",
    "\n",
    "plt.subplot(1,3,2)\n",
    "plt.title('Distribution of outputs in test dataset')\n",
    "sns.countplot(Y_testCorrected)\n",
    "\n",
    "plt.subplot(1,3,3)\n",
    "plt.title('Distribution of outputs in train dataset')\n",
    "sns.countplot(Y_trainCorrected)\n",
    "\n",
    "print('Class0/Class1 ration in input data: ',len(target[target==0])/len(target[target==1]))\n",
    "print('Class0/Class1 ration in train data: ',len(Y_train[Y_train==0])/len(Y_train[Y_train==1]))\n",
    "print('Class0/Class1 ration in train data: ',len(Y_test[Y_test==0])/len(Y_test[Y_test==1]))"
   ]
  },
  {
   "cell_type": "markdown",
   "id": "07b50bdd-71c4-4c09-b574-097acf6513f6",
   "metadata": {},
   "source": [
    "## The distribution of the train and test matches with the distribution of the input data. We will be evaluating the result using both the datasets"
   ]
  },
  {
   "cell_type": "markdown",
   "id": "c1de6445-9e59-4ec9-82dd-e8245de74e51",
   "metadata": {},
   "source": [
    "> (d) Use Logistic Regression as a “black-box” classifier and asses the\n",
    "performance (4 points)"
   ]
  },
  {
   "cell_type": "code",
   "execution_count": 212,
   "id": "ec639e58-c825-40a7-b136-d1976a0e979a",
   "metadata": {},
   "outputs": [],
   "source": [
    "def createConfusionMatrix(predicted,target):\n",
    "    trueNegative=0\n",
    "    truePositive=0\n",
    "    falsePositive=0\n",
    "    falseNegative=0\n",
    "    for prediction,actual in zip(predicted,target):\n",
    "        if (prediction==0) & (actual==0):\n",
    "            trueNegative+=1\n",
    "        elif (prediction==0) & (actual==1):\n",
    "            falsePositive+=1\n",
    "        elif (prediction==1) & (actual==0):\n",
    "            falseNegative+=1\n",
    "        elif (prediction==1) & (actual==1):\n",
    "            truePositive+=1\n",
    "    confusionMatrix=[[truePositive,falseNegative],[falsePositive,trueNegative]]\n",
    "    return confusionMatrix\n",
    "            "
   ]
  },
  {
   "cell_type": "code",
   "execution_count": 256,
   "id": "7cd35417-0509-4cb1-be53-46c81b549d56",
   "metadata": {},
   "outputs": [],
   "source": [
    "def CrossEntropyLossFunction(predicted,actual):\n",
    "    import math\n",
    "    loss=0\n",
    "    temp=[]\n",
    "    if len(predicted)==len(actual):\n",
    "        for i in range(len(predicted)):\n",
    "            loss+=-((actual[i]*math.log2(predicted[i]))+((1-actual[i])*math.log2(1-predicted[i])))\n",
    "           \n",
    "        loss/=len(predicted)\n",
    "    return loss\n"
   ]
  },
  {
   "cell_type": "code",
   "execution_count": 268,
   "id": "629d5888-f9dd-4702-a78b-1923958f716e",
   "metadata": {},
   "outputs": [
    {
     "data": {
      "text/plain": [
       "<AxesSubplot:title={'center':'Confusion Matrix on Test Data'}>"
      ]
     },
     "execution_count": 268,
     "metadata": {},
     "output_type": "execute_result"
    },
    {
     "data": {
      "image/png": "[encoded data removed]",
      "text/plain": [
       "<Figure size 720x216 with 4 Axes>"
      ]
     },
     "metadata": {
      "needs_background": "light"
     },
     "output_type": "display_data"
    }
   ],
   "source": [
    "lr=LogisticRegression()\n",
    "\n",
    "# Applying Logistic Regression on the unbalanced Dataset\n",
    "lr.fit(X_train,Y_train)\n",
    "Y_train_predicted=lr.predict(X_train)\n",
    "Y_test_predicted=lr.predict(X_test)\n",
    "\n",
    "plt.figure(figsize=(10,3))\n",
    "plt.subplot(1,2,1)\n",
    "plt.title('Confusion Matrix on Train Data')\n",
    "confusionTrain=createConfusionMatrix(Y_train_predicted,Y_test)\n",
    "sns.heatmap(confusionTrain,annot=True)\n",
    "\n",
    "plt.subplot(1,2,2)\n",
    "plt.title('Confusion Matrix on Test Data')\n",
    "confusionTrain=createConfusionMatrix(Y_test_predicted,Y_test)\n",
    "sns.heatmap(confusionTrain,annot=True)"
   ]
  },
  {
   "cell_type": "code",
   "execution_count": 272,
   "id": "c1e9bb78-78ef-4ed9-a052-c6eeca8791e7",
   "metadata": {},
   "outputs": [
    {
     "data": {
      "text/plain": [
       "0.975"
      ]
     },
     "execution_count": 272,
     "metadata": {},
     "output_type": "execute_result"
    }
   ],
   "source": [
    "lr.score(X_train,Y_train)"
   ]
  },
  {
   "cell_type": "code",
   "execution_count": 273,
   "id": "2df89b92-544a-49bb-a08d-c0b20ae78cfe",
   "metadata": {},
   "outputs": [
    {
     "data": {
      "text/plain": [
       "0.9666666666666667"
      ]
     },
     "execution_count": 273,
     "metadata": {},
     "output_type": "execute_result"
    }
   ],
   "source": [
    "lr.score(X_test,Y_test)"
   ]
  },
  {
   "cell_type": "code",
   "execution_count": 270,
   "id": "c87f566e-1c32-4d63-8663-2afec09437a9",
   "metadata": {},
   "outputs": [
    {
     "data": {
      "text/plain": [
       "3"
      ]
     },
     "execution_count": 270,
     "metadata": {},
     "output_type": "execute_result"
    }
   ],
   "source": [
    "symmetricLossFunction(Y_train_predicted,Y_train)"
   ]
  },
  {
   "cell_type": "code",
   "execution_count": 271,
   "id": "26435bdf-645e-43e6-a13d-189d9c8d9830",
   "metadata": {},
   "outputs": [
    {
     "data": {
      "text/plain": [
       "1"
      ]
     },
     "execution_count": 271,
     "metadata": {},
     "output_type": "execute_result"
    }
   ],
   "source": [
    "symmetricLossFunction(Y_test_predicted,Y_test)"
   ]
  },
  {
   "cell_type": "code",
   "execution_count": null,
   "id": "73dada71-41d3-4178-a90f-f133e04d6823",
   "metadata": {},
   "outputs": [],
   "source": []
  }
 ],
 "metadata": {
  "kernelspec": {
   "display_name": "Python 3 (ipykernel)",
   "language": "python",
   "name": "python3"
  },
  "language_info": {
   "codemirror_mode": {
    "name": "ipython",
    "version": 3
   },
   "file_extension": ".py",
   "mimetype": "text/x-python",
   "name": "python",
   "nbconvert_exporter": "python",
   "pygments_lexer": "ipython3",
   "version": "3.8.8"
  }
 },
 "nbformat": 4,
 "nbformat_minor": 5
}
