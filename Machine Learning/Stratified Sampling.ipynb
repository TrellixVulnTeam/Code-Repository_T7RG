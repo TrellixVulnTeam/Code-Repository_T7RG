{
 "cells": [
  {
   "cell_type": "markdown",
   "id": "0c9ab592-dc75-4586-bb53-4724a9010fa9",
   "metadata": {
    "tags": []
   },
   "source": [
    "### In this simple assignment, you will experiment with a toy dataset – the iris dataset"
   ]
  },
  {
   "cell_type": "code",
   "execution_count": null,
   "id": "32b0bc39-8218-47fb-8b79-78bcf4a53ae8",
   "metadata": {},
   "outputs": [],
   "source": []
  },
  {
   "cell_type": "markdown",
   "id": "deb9d38d-49e2-4c59-aff1-0c6c188c2b77",
   "metadata": {},
   "source": [
    "> a) Load the Iris dataset (2 points)"
   ]
  },
  {
   "cell_type": "code",
   "execution_count": 1,
   "id": "9b1d9013-99a9-4587-a284-ca8034495072",
   "metadata": {},
   "outputs": [],
   "source": [
    " # Import datasets library from sklearn and load the iris dataset\n",
    "\n",
    "from sklearn import datasets\n",
    "import numpy as np\n",
    "import seaborn as sns\n",
    "from sklearn.linear_model import LogisticRegression\n",
    "import warnings\n",
    "import pandas as pd\n",
    "import matplotlib.pyplot as plt\n",
    "\n",
    "\n",
    "warnings.filterwarnings(\"ignore\")\n",
    "\n",
    "iris=datasets.load_iris()"
   ]
  },
  {
   "cell_type": "code",
   "execution_count": 2,
   "id": "0412aa39-aac2-4884-8884-e01858a67bca",
   "metadata": {},
   "outputs": [],
   "source": [
    "# Reading the Data and Target values to x and y\n",
    "# Reading the target names to ynames\n",
    "\n",
    "inputData=iris.data\n",
    "target=iris.target\n",
    "targetNames=iris.target_names\n"
   ]
  },
  {
   "cell_type": "code",
   "execution_count": 3,
   "id": "32a90795-c35d-4fd2-a9b1-4c11475544c3",
   "metadata": {},
   "outputs": [],
   "source": [
    "# Creating seperate lists with different columns for stratified sampling \n",
    "\n",
    "sepalLength=[]\n",
    "sepalWidth=[]\n",
    "petalLength=[]\n",
    "petalWidth=[]\n",
    "for row in inputData:\n",
    "    sepalLength.append(row[0])\n",
    "    sepalWidth.append(row[1])\n",
    "    petalLength.append(row[2])\n",
    "    petalWidth.append(row[2])"
   ]
  },
  {
   "cell_type": "markdown",
   "id": "76cd4c6f-f0c1-4271-be7e-6257665ba464",
   "metadata": {
    "tags": []
   },
   "source": [
    "### As per documentation, Iris dataset has 4 input columns. \n",
    "> <b> Input Columns </b> [Sepal Length, Sepal Width, Petal Length, Petal Width]\n",
    "\n",
    "> <b> Target Names </b> ['setosa', 'versicolor', 'virginica']\n",
    "\n",
    "> Setosa : 0\n",
    "> Versicolor : 1\n",
    "> Virginica : 2, is how the Tagret names are encoded\n"
   ]
  },
  {
   "cell_type": "code",
   "execution_count": null,
   "id": "61fbc920-9246-4bcb-a416-bb79af842a87",
   "metadata": {},
   "outputs": [],
   "source": []
  },
  {
   "cell_type": "markdown",
   "id": "adbac669-e954-461a-8016-2f6a5469ad4b",
   "metadata": {},
   "source": [
    "> (b) The Iris data has 3 classes. For the purposes of this assignment,\n",
    "you will modify the dataset so that it has 2 classes – specifically,\n",
    "you will merge the “setosa and the versicolor” classes (2 points)"
   ]
  },
  {
   "cell_type": "code",
   "execution_count": 4,
   "id": "6bdf1171-f930-4133-9109-b8b31b9f51db",
   "metadata": {},
   "outputs": [],
   "source": [
    "# Filtering out the values with value 0 and 1 and encoding them as 1 , ie combining the classes\n",
    "# Encoding Setosa and Versicolor as 0 and Virginica as 1\n",
    "target[(target==0) | (target==1)]=0\n",
    "target[target==2]=1"
   ]
  },
  {
   "cell_type": "code",
   "execution_count": null,
   "id": "159aca06-c913-450b-9a25-7f4557e1fa2b",
   "metadata": {},
   "outputs": [],
   "source": []
  },
  {
   "cell_type": "markdown",
   "id": "6480a405-0dde-40b9-a3eb-7f74c856970f",
   "metadata": {},
   "source": [
    "> (c) Construct a training set and a testing set using an 80 −20 split\n",
    "using random sampling (3 points) "
   ]
  },
  {
   "cell_type": "code",
   "execution_count": 5,
   "id": "d4e3d1c1-d86f-4cec-b0e3-66bd56f396fa",
   "metadata": {},
   "outputs": [
    {
     "name": "stdout",
     "output_type": "stream",
     "text": [
      "2.4285714285714284 1.0\n"
     ]
    }
   ],
   "source": [
    "# Creating an index to shuffle data and shuffling data using it\n",
    "indexList=[i for i in range(0,inputData.shape[0])]\n",
    "inputDistribution=(len(target[target==0])/len(target[target==1]))\n",
    "trainDistribution=0\n",
    "testDistribution=0\n",
    "\n",
    "np.random.shuffle(indexList) # Shuffling the index. Used for splitting train and test data\n",
    "splitLength=int(len(inputData)*0.8) # Finding the position to split\n",
    "trainIndex=indexList[0:splitLength]  #Splitting the train data randomly:Creating the indices\n",
    "testIndex=indexList[splitLength:] #Splitting the test data randomly; Creating the indices\n",
    "\n",
    "#Splitting the data\n",
    "X_train=inputData[trainIndex]\n",
    "Y_train=target[trainIndex]\n",
    "X_test=inputData[testIndex]\n",
    "Y_test=target[testIndex]\n",
    "\n",
    "#Finding the distribution of test and train datasets\n",
    "trainDistribution=len(Y_train[Y_train==0])/len(Y_train[Y_train==1])\n",
    "testDistribution=len(Y_test[Y_test==0])/len(Y_test[Y_test==1])\n",
    "print(trainDistribution,testDistribution)"
   ]
  },
  {
   "cell_type": "code",
   "execution_count": 6,
   "id": "c4eb4ac6-f71b-4805-a88b-9fbdf9963c59",
   "metadata": {},
   "outputs": [
    {
     "name": "stdout",
     "output_type": "stream",
     "text": [
      "Class0/Class1 ration in input data:  2.0\n",
      "Class0/Class1 ration in train data:  2.4285714285714284\n",
      "Class0/Class1 ration in train data:  1.0\n"
     ]
    },
    {
     "data": {
      "image/png": "[encoded data removed]",
      "text/plain": [
       "<Figure size 1440x216 with 3 Axes>"
      ]
     },
     "metadata": {
      "needs_background": "light"
     },
     "output_type": "display_data"
    }
   ],
   "source": [
    "#Distribution of targets in train and test datasets\n",
    "plt.figure(figsize=(20,3))\n",
    "\n",
    "#Plotting the distribution countplots\n",
    "\n",
    "plt.subplot(1,3,1)\n",
    "plt.title('Distribution of outputs in train dataset')\n",
    "sns.countplot(target)\n",
    "\n",
    "plt.subplot(1,3,2)\n",
    "plt.title('Distribution of outputs in test dataset')\n",
    "sns.countplot(Y_test)\n",
    "\n",
    "plt.subplot(1,3,3)\n",
    "plt.title('Distribution of outputs in train dataset')\n",
    "sns.countplot(Y_train)\n",
    "\n",
    "# Finding the distribution of the two classes in main, train and test datasets\n",
    "\n",
    "print('Class0/Class1 ration in input data: ',len(target[target==0])/len(target[target==1]))\n",
    "print('Class0/Class1 ration in train data: ',len(Y_train[Y_train==0])/len(Y_train[Y_train==1]))\n",
    "print('Class0/Class1 ration in train data: ',len(Y_test[Y_test==0])/len(Y_test[Y_test==1]))"
   ]
  },
  {
   "cell_type": "markdown",
   "id": "c5df7f98-a5c9-4681-bab0-b4830ca83a32",
   "metadata": {},
   "source": [
    "### It can be seen that the distribution varies while doing random sampling. "
   ]
  },
  {
   "cell_type": "code",
   "execution_count": null,
   "id": "cabe8664-ea37-49d5-baf3-07aecfe34347",
   "metadata": {},
   "outputs": [],
   "source": []
  },
  {
   "cell_type": "markdown",
   "id": "c1de6445-9e59-4ec9-82dd-e8245de74e51",
   "metadata": {},
   "source": [
    "> (d) Use Logistic Regression as a “black-box” classifier and asses the\n",
    "performance (4 points)"
   ]
  },
  {
   "cell_type": "code",
   "execution_count": 7,
   "id": "ec639e58-c825-40a7-b136-d1976a0e979a",
   "metadata": {},
   "outputs": [],
   "source": [
    "def createConfusionMatrix(predicted,target):\n",
    "    \"\"\" This function creates a confusion matrix by iterating through the predicted and target lists together using the zip function. \n",
    "    It compares elements from both the list elementwise and then checks if it is true positive, \n",
    "    false positive, true negative or false negative. \"\"\"\n",
    "    \n",
    "    trueNegative=0\n",
    "    truePositive=0\n",
    "    falsePositive=0\n",
    "    falseNegative=0\n",
    "    for prediction,actual in zip(predicted,target):\n",
    "        if (prediction==0) & (actual==0):\n",
    "            trueNegative+=1\n",
    "        elif (prediction==0) & (actual==1):\n",
    "            falsePositive+=1\n",
    "        elif (prediction==1) & (actual==0):\n",
    "            falseNegative+=1\n",
    "        elif (prediction==1) & (actual==1):\n",
    "            truePositive+=1\n",
    "    # Creating the confusion matrix\n",
    "    confusionMatrix=[[truePositive,falseNegative],[falsePositive,trueNegative]]\n",
    "    return confusionMatrix\n",
    "            "
   ]
  },
  {
   "cell_type": "code",
   "execution_count": 8,
   "id": "7cd35417-0509-4cb1-be53-46c81b549d56",
   "metadata": {},
   "outputs": [],
   "source": [
    "def symmetricLossFunction(predicted,actual):\n",
    "    \"\"\" Function to calculate the symmetric loss function. Here, the false negatives and false positives are penalised. \n",
    "    Hence this cannot be used to functions where we need to penalise false positive or true negative more\"\"\"\n",
    "    \n",
    "    loss=0\n",
    "    if len(predicted)==len(actual):\n",
    "        for i in range(len(predicted)):\n",
    "            if predicted[i]!=actual[i]:\n",
    "                loss+=1\n",
    "    return loss"
   ]
  },
  {
   "cell_type": "code",
   "execution_count": 9,
   "id": "629d5888-f9dd-4702-a78b-1923958f716e",
   "metadata": {},
   "outputs": [
    {
     "data": {
      "text/plain": [
       "<AxesSubplot:title={'center':'Confusion Matrix on Test Data'}>"
      ]
     },
     "execution_count": 9,
     "metadata": {},
     "output_type": "execute_result"
    },
    {
     "data": {
      "image/png": "[encoded data removed]",
      "text/plain": [
       "<Figure size 720x216 with 4 Axes>"
      ]
     },
     "metadata": {
      "needs_background": "light"
     },
     "output_type": "display_data"
    }
   ],
   "source": [
    "lr=LogisticRegression() # Creating a logistic regression object\n",
    "\n",
    "# Applying Logistic Regression on the unbalanced Dataset\n",
    "lr.fit(X_train,Y_train) # Fitting the object on train dataset to create the model\n",
    "# Doing predictions on train and test datasets\n",
    "Y_train_predicted=lr.predict(X_train)\n",
    "Y_test_predicted=lr.predict(X_test)\n",
    "\n",
    "# Plotting the confusion matrix using the sns heatmap for train and test data\n",
    "plt.figure(figsize=(10,3))\n",
    "plt.subplot(1,2,1)\n",
    "plt.title('Confusion Matrix on Train Data')\n",
    "confusionTrain=createConfusionMatrix(Y_train_predicted,Y_test)\n",
    "sns.heatmap(confusionTrain,annot=True)\n",
    "\n",
    "plt.subplot(1,2,2)\n",
    "plt.title('Confusion Matrix on Test Data')\n",
    "confusionTrain=createConfusionMatrix(Y_test_predicted,Y_test)\n",
    "sns.heatmap(confusionTrain,annot=True)"
   ]
  },
  {
   "cell_type": "code",
   "execution_count": 10,
   "id": "c1e9bb78-78ef-4ed9-a052-c6eeca8791e7",
   "metadata": {},
   "outputs": [
    {
     "name": "stdout",
     "output_type": "stream",
     "text": [
      "Score on Train data using inbuilt method :  95.83\n",
      "Score on Test data using inbuilt method :  100.0\n"
     ]
    }
   ],
   "source": [
    "print('Score on Train data using inbuilt method : ',np.round(lr.score(X_train,Y_train)*100,2))\n",
    "print('Score on Test data using inbuilt method : ',np.round(lr.score(X_test,Y_test)*100,2))"
   ]
  },
  {
   "cell_type": "code",
   "execution_count": 11,
   "id": "7a549cd0-09cc-4ba7-94f8-5dc1d6df3fe0",
   "metadata": {},
   "outputs": [
    {
     "name": "stdout",
     "output_type": "stream",
     "text": [
      "Symmetry Loss on train dataset :  5\n",
      "Symmetry Loss on test dataset :  0\n"
     ]
    }
   ],
   "source": [
    "\n",
    "print('Symmetry Loss on train dataset : ',symmetricLossFunction(Y_train_predicted,Y_train))\n",
    "print('Symmetry Loss on test dataset : ',symmetricLossFunction(Y_test_predicted,Y_test))"
   ]
  },
  {
   "cell_type": "markdown",
   "id": "687ded16-9d68-4f7a-8909-cc41c08fea2d",
   "metadata": {},
   "source": [
    "### The model performs well enough on the train and test data.\n",
    "> - The model performance can be seen better from the confusion matrix.\n",
    "> - Although the model has good performance, there are a few False positives and False Negatives\n",
    "> - The test dataset has comparitively lower number of False positives and False Negatives\n",
    "> - The symmetry loss functions on train and test datasets are also calculated as we want to penalise the False Negatives and False Positives equally in this case. "
   ]
  },
  {
   "cell_type": "code",
   "execution_count": null,
   "id": "111d3316-ac14-4420-bb46-e6821dcf2547",
   "metadata": {},
   "outputs": [],
   "source": []
  },
  {
   "cell_type": "markdown",
   "id": "3f761b76-b29d-4bf2-beb6-b3a8575ae4e3",
   "metadata": {},
   "source": [
    "> e) Implement stratified sampling, again using 80% of the data for\n",
    "training and 20% of the data for testing. Decide the stratification\n",
    "variable and explain your choice (4 points)"
   ]
  },
  {
   "cell_type": "markdown",
   "id": "4f1bafac-2074-4734-ba32-ae2e5e1de441",
   "metadata": {},
   "source": [
    "# Proportionate Stratified Sampling"
   ]
  },
  {
   "cell_type": "markdown",
   "id": "c59b4ad9-0335-4a6d-a12b-aea4fce0a045",
   "metadata": {},
   "source": [
    "### Stratification variable selected as the target variable itself.Explanations and example below"
   ]
  },
  {
   "cell_type": "markdown",
   "id": "d707824f-5292-41a5-a8dd-cd0f43ede880",
   "metadata": {},
   "source": [
    "#### Here we try three things\n",
    "> Results from straified Sampling on the target column which is the output\n",
    "\n",
    "> Results from the random sampling\n",
    "\n",
    "> Results from stratified sampling on the Petal Length column which is an input"
   ]
  },
  {
   "cell_type": "code",
   "execution_count": 12,
   "id": "4e05f939-421d-4364-a24b-1c6e569382b8",
   "metadata": {
    "tags": []
   },
   "outputs": [
    {
     "data": {
      "text/html": [
       "<div>\n",
       "<style scoped>\n",
       "    .dataframe tbody tr th:only-of-type {\n",
       "        vertical-align: middle;\n",
       "    }\n",
       "\n",
       "    .dataframe tbody tr th {\n",
       "        vertical-align: top;\n",
       "    }\n",
       "\n",
       "    .dataframe thead th {\n",
       "        text-align: right;\n",
       "    }\n",
       "</style>\n",
       "<table border=\"1\" class=\"dataframe\">\n",
       "  <thead>\n",
       "    <tr style=\"text-align: right;\">\n",
       "      <th></th>\n",
       "      <th>Iteration</th>\n",
       "      <th>Main Data Proportion</th>\n",
       "      <th>Test Data Proportion</th>\n",
       "      <th>Train Data Proportion</th>\n",
       "      <th>Train Data Loss</th>\n",
       "      <th>Test Data Loss</th>\n",
       "      <th>Train Score</th>\n",
       "      <th>Test Score</th>\n",
       "    </tr>\n",
       "  </thead>\n",
       "  <tbody>\n",
       "    <tr>\n",
       "      <th>0</th>\n",
       "      <td>0</td>\n",
       "      <td>2.0</td>\n",
       "      <td>2.0</td>\n",
       "      <td>2.0</td>\n",
       "      <td>3</td>\n",
       "      <td>0</td>\n",
       "      <td>0.975000</td>\n",
       "      <td>1.000000</td>\n",
       "    </tr>\n",
       "    <tr>\n",
       "      <th>1</th>\n",
       "      <td>1</td>\n",
       "      <td>2.0</td>\n",
       "      <td>2.0</td>\n",
       "      <td>2.0</td>\n",
       "      <td>3</td>\n",
       "      <td>1</td>\n",
       "      <td>0.975000</td>\n",
       "      <td>0.966667</td>\n",
       "    </tr>\n",
       "    <tr>\n",
       "      <th>2</th>\n",
       "      <td>2</td>\n",
       "      <td>2.0</td>\n",
       "      <td>2.0</td>\n",
       "      <td>2.0</td>\n",
       "      <td>3</td>\n",
       "      <td>0</td>\n",
       "      <td>0.975000</td>\n",
       "      <td>1.000000</td>\n",
       "    </tr>\n",
       "    <tr>\n",
       "      <th>3</th>\n",
       "      <td>3</td>\n",
       "      <td>2.0</td>\n",
       "      <td>2.0</td>\n",
       "      <td>2.0</td>\n",
       "      <td>3</td>\n",
       "      <td>1</td>\n",
       "      <td>0.975000</td>\n",
       "      <td>0.966667</td>\n",
       "    </tr>\n",
       "    <tr>\n",
       "      <th>4</th>\n",
       "      <td>4</td>\n",
       "      <td>2.0</td>\n",
       "      <td>2.0</td>\n",
       "      <td>2.0</td>\n",
       "      <td>4</td>\n",
       "      <td>0</td>\n",
       "      <td>0.966667</td>\n",
       "      <td>1.000000</td>\n",
       "    </tr>\n",
       "    <tr>\n",
       "      <th>5</th>\n",
       "      <td>5</td>\n",
       "      <td>2.0</td>\n",
       "      <td>2.0</td>\n",
       "      <td>2.0</td>\n",
       "      <td>4</td>\n",
       "      <td>0</td>\n",
       "      <td>0.966667</td>\n",
       "      <td>1.000000</td>\n",
       "    </tr>\n",
       "    <tr>\n",
       "      <th>6</th>\n",
       "      <td>6</td>\n",
       "      <td>2.0</td>\n",
       "      <td>2.0</td>\n",
       "      <td>2.0</td>\n",
       "      <td>3</td>\n",
       "      <td>0</td>\n",
       "      <td>0.975000</td>\n",
       "      <td>1.000000</td>\n",
       "    </tr>\n",
       "    <tr>\n",
       "      <th>7</th>\n",
       "      <td>7</td>\n",
       "      <td>2.0</td>\n",
       "      <td>2.0</td>\n",
       "      <td>2.0</td>\n",
       "      <td>4</td>\n",
       "      <td>0</td>\n",
       "      <td>0.966667</td>\n",
       "      <td>1.000000</td>\n",
       "    </tr>\n",
       "    <tr>\n",
       "      <th>8</th>\n",
       "      <td>8</td>\n",
       "      <td>2.0</td>\n",
       "      <td>2.0</td>\n",
       "      <td>2.0</td>\n",
       "      <td>3</td>\n",
       "      <td>1</td>\n",
       "      <td>0.975000</td>\n",
       "      <td>0.966667</td>\n",
       "    </tr>\n",
       "    <tr>\n",
       "      <th>9</th>\n",
       "      <td>9</td>\n",
       "      <td>2.0</td>\n",
       "      <td>2.0</td>\n",
       "      <td>2.0</td>\n",
       "      <td>3</td>\n",
       "      <td>1</td>\n",
       "      <td>0.975000</td>\n",
       "      <td>0.966667</td>\n",
       "    </tr>\n",
       "  </tbody>\n",
       "</table>\n",
       "</div>"
      ],
      "text/plain": [
       "   Iteration  Main Data Proportion  Test Data Proportion  \\\n",
       "0          0                   2.0                   2.0   \n",
       "1          1                   2.0                   2.0   \n",
       "2          2                   2.0                   2.0   \n",
       "3          3                   2.0                   2.0   \n",
       "4          4                   2.0                   2.0   \n",
       "5          5                   2.0                   2.0   \n",
       "6          6                   2.0                   2.0   \n",
       "7          7                   2.0                   2.0   \n",
       "8          8                   2.0                   2.0   \n",
       "9          9                   2.0                   2.0   \n",
       "\n",
       "   Train Data Proportion  Train Data Loss  Test Data Loss  Train Score  \\\n",
       "0                    2.0                3               0     0.975000   \n",
       "1                    2.0                3               1     0.975000   \n",
       "2                    2.0                3               0     0.975000   \n",
       "3                    2.0                3               1     0.975000   \n",
       "4                    2.0                4               0     0.966667   \n",
       "5                    2.0                4               0     0.966667   \n",
       "6                    2.0                3               0     0.975000   \n",
       "7                    2.0                4               0     0.966667   \n",
       "8                    2.0                3               1     0.975000   \n",
       "9                    2.0                3               1     0.975000   \n",
       "\n",
       "   Test Score  \n",
       "0    1.000000  \n",
       "1    0.966667  \n",
       "2    1.000000  \n",
       "3    0.966667  \n",
       "4    1.000000  \n",
       "5    1.000000  \n",
       "6    1.000000  \n",
       "7    1.000000  \n",
       "8    0.966667  \n",
       "9    0.966667  "
      ]
     },
     "execution_count": 12,
     "metadata": {},
     "output_type": "execute_result"
    }
   ],
   "source": [
    "from sklearn.model_selection import train_test_split\n",
    "\n",
    "# Creating a dataframe to store the results from each iterations\n",
    "dispropDF=pd.DataFrame()\n",
    "iteration=[]\n",
    "mainProp=[]\n",
    "testProp=[]\n",
    "trainProp=[]\n",
    "trainLoss=[]\n",
    "testLoss=[]\n",
    "trainScore=[]\n",
    "testScore=[]\n",
    "for i in range(10): # Do the iteration of sampling and training 10 times\n",
    "    iteration.append(i)\n",
    "    \n",
    "    # Create the disproportionate stratified sampling using the train, test splot methos with 20% test size\n",
    "    \n",
    "    X_train,X_test,Y_train,Y_test=train_test_split(inputData,target,stratify=target,test_size=0.2)\n",
    "\n",
    "    # Find distributions and append it to list\n",
    "    mainProp.append(len(target[target==0])/len(target[target==1]))\n",
    "    trainProp.append(len(Y_train[Y_train==0])/len(Y_train[Y_train==1]))\n",
    "    testProp.append(len(Y_test[Y_test==0])/len(Y_test[Y_test==1]))\n",
    "    \n",
    "    \n",
    "    lr=LogisticRegression()\n",
    "\n",
    "    # Applying Logistic Regression on the unbalanced Dataset\n",
    "    lr.fit(X_train,Y_train)\n",
    "    Y_train_predicted=lr.predict(X_train)\n",
    "    Y_test_predicted=lr.predict(X_test)\n",
    "\n",
    "    # Append losses of the function to list\n",
    "    trainLoss.append(symmetricLossFunction(Y_train_predicted,Y_train))\n",
    "    testLoss.append(symmetricLossFunction(Y_test_predicted,Y_test))\n",
    "    trainScore.append(lr.score(X_train,Y_train))\n",
    "    testScore.append(lr.score(X_test,Y_test))\n",
    "# Add the calculated data from iterations to the datasets\n",
    "dispropDF['Iteration']=iteration\n",
    "dispropDF['Main Data Proportion']=mainProp\n",
    "dispropDF['Test Data Proportion']=testProp\n",
    "dispropDF['Train Data Proportion']=trainProp\n",
    "dispropDF['Train Data Loss']=trainLoss\n",
    "dispropDF['Test Data Loss']=testLoss\n",
    "dispropDF['Train Score']=trainScore\n",
    "dispropDF['Test Score']=testScore\n",
    "                     \n",
    "dispropDF# Print the dataset for the disproportionate stratified sampling"
   ]
  },
  {
   "cell_type": "code",
   "execution_count": 13,
   "id": "5dbe991d-fd25-496c-85ea-77f30c137fcb",
   "metadata": {},
   "outputs": [
    {
     "data": {
      "text/plain": [
       "<AxesSubplot:title={'center':'Confusion Matrix on Test Data'}>"
      ]
     },
     "execution_count": 13,
     "metadata": {},
     "output_type": "execute_result"
    },
    {
     "data": {
      "image/png": "[encoded data removed]",
      "text/plain": [
       "<Figure size 720x216 with 4 Axes>"
      ]
     },
     "metadata": {
      "needs_background": "light"
     },
     "output_type": "display_data"
    }
   ],
   "source": [
    "# Plotting the confusion matrix using the sns heatmap for train and test data for the last result\n",
    "plt.figure(figsize=(10,3))\n",
    "plt.subplot(1,2,1)\n",
    "plt.title('Confusion Matrix on Train Data')\n",
    "confusionTrain=createConfusionMatrix(Y_train_predicted,Y_test)\n",
    "sns.heatmap(confusionTrain,annot=True)\n",
    "\n",
    "plt.subplot(1,2,2)\n",
    "plt.title('Confusion Matrix on Test Data')\n",
    "confusionTrain=createConfusionMatrix(Y_test_predicted,Y_test)\n",
    "sns.heatmap(confusionTrain,annot=True)"
   ]
  },
  {
   "cell_type": "markdown",
   "id": "508e86d2-9930-4dfa-accd-c04cce824198",
   "metadata": {
    "tags": []
   },
   "source": [
    "### Checking the behavious for random sampling to compare the results"
   ]
  },
  {
   "cell_type": "code",
   "execution_count": 14,
   "id": "6e4d21c2-6209-4d2b-832e-595b775620eb",
   "metadata": {},
   "outputs": [
    {
     "data": {
      "text/html": [
       "<div>\n",
       "<style scoped>\n",
       "    .dataframe tbody tr th:only-of-type {\n",
       "        vertical-align: middle;\n",
       "    }\n",
       "\n",
       "    .dataframe tbody tr th {\n",
       "        vertical-align: top;\n",
       "    }\n",
       "\n",
       "    .dataframe thead th {\n",
       "        text-align: right;\n",
       "    }\n",
       "</style>\n",
       "<table border=\"1\" class=\"dataframe\">\n",
       "  <thead>\n",
       "    <tr style=\"text-align: right;\">\n",
       "      <th></th>\n",
       "      <th>Iteration</th>\n",
       "      <th>Main Data Proportion</th>\n",
       "      <th>Test Data Proportion</th>\n",
       "      <th>Train Data Proportion</th>\n",
       "      <th>Train Data Loss</th>\n",
       "      <th>Test Data Loss</th>\n",
       "      <th>Train Score</th>\n",
       "      <th>Test Score</th>\n",
       "    </tr>\n",
       "  </thead>\n",
       "  <tbody>\n",
       "    <tr>\n",
       "      <th>0</th>\n",
       "      <td>0</td>\n",
       "      <td>2.0</td>\n",
       "      <td>2.333333</td>\n",
       "      <td>1.926829</td>\n",
       "      <td>3</td>\n",
       "      <td>1</td>\n",
       "      <td>0.975000</td>\n",
       "      <td>0.966667</td>\n",
       "    </tr>\n",
       "    <tr>\n",
       "      <th>1</th>\n",
       "      <td>1</td>\n",
       "      <td>2.0</td>\n",
       "      <td>2.333333</td>\n",
       "      <td>1.926829</td>\n",
       "      <td>5</td>\n",
       "      <td>0</td>\n",
       "      <td>0.958333</td>\n",
       "      <td>1.000000</td>\n",
       "    </tr>\n",
       "    <tr>\n",
       "      <th>2</th>\n",
       "      <td>2</td>\n",
       "      <td>2.0</td>\n",
       "      <td>2.333333</td>\n",
       "      <td>1.926829</td>\n",
       "      <td>2</td>\n",
       "      <td>1</td>\n",
       "      <td>0.983333</td>\n",
       "      <td>0.966667</td>\n",
       "    </tr>\n",
       "    <tr>\n",
       "      <th>3</th>\n",
       "      <td>3</td>\n",
       "      <td>2.0</td>\n",
       "      <td>3.285714</td>\n",
       "      <td>1.790698</td>\n",
       "      <td>3</td>\n",
       "      <td>1</td>\n",
       "      <td>0.975000</td>\n",
       "      <td>0.966667</td>\n",
       "    </tr>\n",
       "    <tr>\n",
       "      <th>4</th>\n",
       "      <td>4</td>\n",
       "      <td>2.0</td>\n",
       "      <td>5.000000</td>\n",
       "      <td>1.666667</td>\n",
       "      <td>4</td>\n",
       "      <td>1</td>\n",
       "      <td>0.966667</td>\n",
       "      <td>0.966667</td>\n",
       "    </tr>\n",
       "    <tr>\n",
       "      <th>5</th>\n",
       "      <td>5</td>\n",
       "      <td>2.0</td>\n",
       "      <td>2.000000</td>\n",
       "      <td>2.000000</td>\n",
       "      <td>3</td>\n",
       "      <td>1</td>\n",
       "      <td>0.975000</td>\n",
       "      <td>0.966667</td>\n",
       "    </tr>\n",
       "    <tr>\n",
       "      <th>6</th>\n",
       "      <td>6</td>\n",
       "      <td>2.0</td>\n",
       "      <td>1.727273</td>\n",
       "      <td>2.076923</td>\n",
       "      <td>4</td>\n",
       "      <td>2</td>\n",
       "      <td>0.966667</td>\n",
       "      <td>0.933333</td>\n",
       "    </tr>\n",
       "    <tr>\n",
       "      <th>7</th>\n",
       "      <td>7</td>\n",
       "      <td>2.0</td>\n",
       "      <td>1.727273</td>\n",
       "      <td>2.076923</td>\n",
       "      <td>3</td>\n",
       "      <td>2</td>\n",
       "      <td>0.975000</td>\n",
       "      <td>0.933333</td>\n",
       "    </tr>\n",
       "    <tr>\n",
       "      <th>8</th>\n",
       "      <td>8</td>\n",
       "      <td>2.0</td>\n",
       "      <td>3.285714</td>\n",
       "      <td>1.790698</td>\n",
       "      <td>2</td>\n",
       "      <td>1</td>\n",
       "      <td>0.983333</td>\n",
       "      <td>0.966667</td>\n",
       "    </tr>\n",
       "    <tr>\n",
       "      <th>9</th>\n",
       "      <td>9</td>\n",
       "      <td>2.0</td>\n",
       "      <td>3.285714</td>\n",
       "      <td>1.790698</td>\n",
       "      <td>3</td>\n",
       "      <td>1</td>\n",
       "      <td>0.975000</td>\n",
       "      <td>0.966667</td>\n",
       "    </tr>\n",
       "  </tbody>\n",
       "</table>\n",
       "</div>"
      ],
      "text/plain": [
       "   Iteration  Main Data Proportion  Test Data Proportion  \\\n",
       "0          0                   2.0              2.333333   \n",
       "1          1                   2.0              2.333333   \n",
       "2          2                   2.0              2.333333   \n",
       "3          3                   2.0              3.285714   \n",
       "4          4                   2.0              5.000000   \n",
       "5          5                   2.0              2.000000   \n",
       "6          6                   2.0              1.727273   \n",
       "7          7                   2.0              1.727273   \n",
       "8          8                   2.0              3.285714   \n",
       "9          9                   2.0              3.285714   \n",
       "\n",
       "   Train Data Proportion  Train Data Loss  Test Data Loss  Train Score  \\\n",
       "0               1.926829                3               1     0.975000   \n",
       "1               1.926829                5               0     0.958333   \n",
       "2               1.926829                2               1     0.983333   \n",
       "3               1.790698                3               1     0.975000   \n",
       "4               1.666667                4               1     0.966667   \n",
       "5               2.000000                3               1     0.975000   \n",
       "6               2.076923                4               2     0.966667   \n",
       "7               2.076923                3               2     0.975000   \n",
       "8               1.790698                2               1     0.983333   \n",
       "9               1.790698                3               1     0.975000   \n",
       "\n",
       "   Test Score  \n",
       "0    0.966667  \n",
       "1    1.000000  \n",
       "2    0.966667  \n",
       "3    0.966667  \n",
       "4    0.966667  \n",
       "5    0.966667  \n",
       "6    0.933333  \n",
       "7    0.933333  \n",
       "8    0.966667  \n",
       "9    0.966667  "
      ]
     },
     "execution_count": 14,
     "metadata": {},
     "output_type": "execute_result"
    }
   ],
   "source": [
    "\n",
    "# Creating a dataframe to store the results from each iterations\n",
    "propDF=pd.DataFrame()\n",
    "iteration=[]\n",
    "mainProp=[]\n",
    "testProp=[]\n",
    "trainProp=[]\n",
    "trainLoss=[]\n",
    "testLoss=[]\n",
    "trainScore=[]\n",
    "testScore=[]\n",
    "\n",
    "for i in range(10):\n",
    "    # Creating an index to shuffle data and shuffling data using it\n",
    "    iteration.append(i)\n",
    "    \n",
    "    indexList=[i for i in range(0,inputData.shape[0])]\n",
    "    inputDistribution=(len(target[target==0])/len(target[target==1]))\n",
    "    trainDistribution=0\n",
    "    testDistribution=0\n",
    "\n",
    "    np.random.shuffle(indexList) # Shuffling the index. Used for splitting train and test data\n",
    "    splitLength=int(len(inputData)*0.8) # Finding the position to split\n",
    "    trainIndex=indexList[0:splitLength]  #Splitting the train data randomly:Creating the indices\n",
    "    testIndex=indexList[splitLength:] #Splitting the test data randomly; Creating the indices\n",
    "\n",
    "    #Splitting the data\n",
    "    X_train=inputData[trainIndex]\n",
    "    Y_train=target[trainIndex]\n",
    "    X_test=inputData[testIndex]\n",
    "    Y_test=target[testIndex]\n",
    "\n",
    "    # Find distributions and append it to list\n",
    "    mainProp.append(len(target[target==0])/len(target[target==1]))\n",
    "    trainProp.append(len(Y_train[Y_train==0])/len(Y_train[Y_train==1]))\n",
    "    testProp.append(len(Y_test[Y_test==0])/len(Y_test[Y_test==1]))\n",
    "\n",
    "\n",
    "    lr=LogisticRegression()\n",
    "\n",
    "    # Applying Logistic Regression on the unbalanced Dataset\n",
    "    lr.fit(X_train,Y_train)\n",
    "    Y_train_predicted=lr.predict(X_train)\n",
    "    Y_test_predicted=lr.predict(X_test)\n",
    "\n",
    "    # Append losses of the function to list\n",
    "    trainLoss.append(symmetricLossFunction(Y_train_predicted,Y_train))\n",
    "    testLoss.append(symmetricLossFunction(Y_test_predicted,Y_test))\n",
    "    trainScore.append(lr.score(X_train,Y_train))\n",
    "    testScore.append(lr.score(X_test,Y_test))\n",
    "    \n",
    "# Add the calculated data from iterations to the datasets\n",
    "propDF['Iteration']=iteration\n",
    "propDF['Main Data Proportion']=mainProp\n",
    "propDF['Test Data Proportion']=testProp\n",
    "propDF['Train Data Proportion']=trainProp\n",
    "propDF['Train Data Loss']=trainLoss\n",
    "propDF['Test Data Loss']=testLoss\n",
    "propDF['Train Score']=trainScore\n",
    "propDF['Test Score']=testScore\n",
    "                     \n",
    "propDF"
   ]
  },
  {
   "cell_type": "code",
   "execution_count": 15,
   "id": "cb4bc1a0-b0e3-469a-a5aa-6ec720e83d19",
   "metadata": {},
   "outputs": [
    {
     "data": {
      "text/plain": [
       "<AxesSubplot:title={'center':'Confusion Matrix on Test Data'}>"
      ]
     },
     "execution_count": 15,
     "metadata": {},
     "output_type": "execute_result"
    },
    {
     "data": {
      "image/png": "[encoded data removed]",
      "text/plain": [
       "<Figure size 720x216 with 4 Axes>"
      ]
     },
     "metadata": {
      "needs_background": "light"
     },
     "output_type": "display_data"
    }
   ],
   "source": [
    "# Plotting the confusion matrix using the sns heatmap for train and test data for the last result\n",
    "plt.figure(figsize=(10,3))\n",
    "plt.subplot(1,2,1)\n",
    "plt.title('Confusion Matrix on Train Data')\n",
    "confusionTrain=createConfusionMatrix(Y_train_predicted,Y_test)\n",
    "sns.heatmap(confusionTrain,annot=True)\n",
    "\n",
    "plt.subplot(1,2,2)\n",
    "plt.title('Confusion Matrix on Test Data')\n",
    "confusionTrain=createConfusionMatrix(Y_test_predicted,Y_test)\n",
    "sns.heatmap(confusionTrain,annot=True)"
   ]
  },
  {
   "cell_type": "markdown",
   "id": "8e95d88d-2306-4d23-a0d2-076c77827ae7",
   "metadata": {},
   "source": [
    "### It can be seen that the variance of loss is almost the same in both the cases. It can be because the size of the dataset is less. \n",
    "\n",
    "### But it can be clearly seen that the proportion of data is maintained while using stratified sampling, which makes the train and test dataset a closer approximation of the population data"
   ]
  },
  {
   "cell_type": "markdown",
   "id": "f0b3238a-5a08-40ae-8b82-0c018b40f51c",
   "metadata": {},
   "source": [
    "### Using Stratified sampling based on a continous column"
   ]
  },
  {
   "cell_type": "code",
   "execution_count": 24,
   "id": "5867def7-7631-480f-aeb0-20830d9cb564",
   "metadata": {},
   "outputs": [
    {
     "data": {
      "text/html": [
       "<div>\n",
       "<style scoped>\n",
       "    .dataframe tbody tr th:only-of-type {\n",
       "        vertical-align: middle;\n",
       "    }\n",
       "\n",
       "    .dataframe tbody tr th {\n",
       "        vertical-align: top;\n",
       "    }\n",
       "\n",
       "    .dataframe thead th {\n",
       "        text-align: right;\n",
       "    }\n",
       "</style>\n",
       "<table border=\"1\" class=\"dataframe\">\n",
       "  <thead>\n",
       "    <tr style=\"text-align: right;\">\n",
       "      <th></th>\n",
       "      <th>Iteration</th>\n",
       "      <th>Main Data Proportion</th>\n",
       "      <th>Test Data Proportion</th>\n",
       "      <th>Train Data Proportion</th>\n",
       "      <th>Train Data Loss</th>\n",
       "      <th>Test Data Loss</th>\n",
       "      <th>Train Score</th>\n",
       "      <th>Test Score</th>\n",
       "    </tr>\n",
       "  </thead>\n",
       "  <tbody>\n",
       "    <tr>\n",
       "      <th>0</th>\n",
       "      <td>0</td>\n",
       "      <td>2.0</td>\n",
       "      <td>2.000000</td>\n",
       "      <td>2.000000</td>\n",
       "      <td>4</td>\n",
       "      <td>0</td>\n",
       "      <td>0.966667</td>\n",
       "      <td>1.000000</td>\n",
       "    </tr>\n",
       "    <tr>\n",
       "      <th>1</th>\n",
       "      <td>1</td>\n",
       "      <td>2.0</td>\n",
       "      <td>2.750000</td>\n",
       "      <td>1.857143</td>\n",
       "      <td>3</td>\n",
       "      <td>1</td>\n",
       "      <td>0.975000</td>\n",
       "      <td>0.966667</td>\n",
       "    </tr>\n",
       "    <tr>\n",
       "      <th>2</th>\n",
       "      <td>2</td>\n",
       "      <td>2.0</td>\n",
       "      <td>2.333333</td>\n",
       "      <td>1.926829</td>\n",
       "      <td>1</td>\n",
       "      <td>3</td>\n",
       "      <td>0.991667</td>\n",
       "      <td>0.900000</td>\n",
       "    </tr>\n",
       "    <tr>\n",
       "      <th>3</th>\n",
       "      <td>3</td>\n",
       "      <td>2.0</td>\n",
       "      <td>4.000000</td>\n",
       "      <td>1.727273</td>\n",
       "      <td>3</td>\n",
       "      <td>1</td>\n",
       "      <td>0.975000</td>\n",
       "      <td>0.966667</td>\n",
       "    </tr>\n",
       "    <tr>\n",
       "      <th>4</th>\n",
       "      <td>4</td>\n",
       "      <td>2.0</td>\n",
       "      <td>2.000000</td>\n",
       "      <td>2.000000</td>\n",
       "      <td>3</td>\n",
       "      <td>1</td>\n",
       "      <td>0.975000</td>\n",
       "      <td>0.966667</td>\n",
       "    </tr>\n",
       "    <tr>\n",
       "      <th>5</th>\n",
       "      <td>5</td>\n",
       "      <td>2.0</td>\n",
       "      <td>1.500000</td>\n",
       "      <td>2.157895</td>\n",
       "      <td>3</td>\n",
       "      <td>0</td>\n",
       "      <td>0.975000</td>\n",
       "      <td>1.000000</td>\n",
       "    </tr>\n",
       "    <tr>\n",
       "      <th>6</th>\n",
       "      <td>6</td>\n",
       "      <td>2.0</td>\n",
       "      <td>1.727273</td>\n",
       "      <td>2.076923</td>\n",
       "      <td>5</td>\n",
       "      <td>0</td>\n",
       "      <td>0.958333</td>\n",
       "      <td>1.000000</td>\n",
       "    </tr>\n",
       "    <tr>\n",
       "      <th>7</th>\n",
       "      <td>7</td>\n",
       "      <td>2.0</td>\n",
       "      <td>2.333333</td>\n",
       "      <td>1.926829</td>\n",
       "      <td>3</td>\n",
       "      <td>1</td>\n",
       "      <td>0.975000</td>\n",
       "      <td>0.966667</td>\n",
       "    </tr>\n",
       "    <tr>\n",
       "      <th>8</th>\n",
       "      <td>8</td>\n",
       "      <td>2.0</td>\n",
       "      <td>2.000000</td>\n",
       "      <td>2.000000</td>\n",
       "      <td>3</td>\n",
       "      <td>1</td>\n",
       "      <td>0.975000</td>\n",
       "      <td>0.966667</td>\n",
       "    </tr>\n",
       "    <tr>\n",
       "      <th>9</th>\n",
       "      <td>9</td>\n",
       "      <td>2.0</td>\n",
       "      <td>3.285714</td>\n",
       "      <td>1.790698</td>\n",
       "      <td>2</td>\n",
       "      <td>2</td>\n",
       "      <td>0.983333</td>\n",
       "      <td>0.933333</td>\n",
       "    </tr>\n",
       "  </tbody>\n",
       "</table>\n",
       "</div>"
      ],
      "text/plain": [
       "   Iteration  Main Data Proportion  Test Data Proportion  \\\n",
       "0          0                   2.0              2.000000   \n",
       "1          1                   2.0              2.750000   \n",
       "2          2                   2.0              2.333333   \n",
       "3          3                   2.0              4.000000   \n",
       "4          4                   2.0              2.000000   \n",
       "5          5                   2.0              1.500000   \n",
       "6          6                   2.0              1.727273   \n",
       "7          7                   2.0              2.333333   \n",
       "8          8                   2.0              2.000000   \n",
       "9          9                   2.0              3.285714   \n",
       "\n",
       "   Train Data Proportion  Train Data Loss  Test Data Loss  Train Score  \\\n",
       "0               2.000000                4               0     0.966667   \n",
       "1               1.857143                3               1     0.975000   \n",
       "2               1.926829                1               3     0.991667   \n",
       "3               1.727273                3               1     0.975000   \n",
       "4               2.000000                3               1     0.975000   \n",
       "5               2.157895                3               0     0.975000   \n",
       "6               2.076923                5               0     0.958333   \n",
       "7               1.926829                3               1     0.975000   \n",
       "8               2.000000                3               1     0.975000   \n",
       "9               1.790698                2               2     0.983333   \n",
       "\n",
       "   Test Score  \n",
       "0    1.000000  \n",
       "1    0.966667  \n",
       "2    0.900000  \n",
       "3    0.966667  \n",
       "4    0.966667  \n",
       "5    1.000000  \n",
       "6    1.000000  \n",
       "7    0.966667  \n",
       "8    0.966667  \n",
       "9    0.933333  "
      ]
     },
     "execution_count": 24,
     "metadata": {},
     "output_type": "execute_result"
    }
   ],
   "source": [
    "bins=np.linspace(min(petalWidth)-1,max(petalWidth)+1,5)\n",
    "binned=np.digitize(petalWidth,bins)\n",
    "from sklearn.model_selection import train_test_split\n",
    "\n",
    "# Creating a dataframe to store the results from each iterations\n",
    "dispropDF=pd.DataFrame()\n",
    "iteration=[]\n",
    "mainProp=[]\n",
    "testProp=[]\n",
    "trainProp=[]\n",
    "trainLoss=[]\n",
    "testLoss=[]\n",
    "trainScore=[]\n",
    "testScore=[]\n",
    "\n",
    "for i in range(10): # Do the iteration of sampling and training 10 times\n",
    "    iteration.append(i)\n",
    "    \n",
    "    # Create the disproportionate stratified sampling using the train, test splot methos with 20% test size\n",
    "    \n",
    "    X_train,X_test,Y_train,Y_test=train_test_split(inputData,target,stratify=binned,test_size=0.2)\n",
    "\n",
    "    # Find distributions and append it to list\n",
    "    mainProp.append(len(target[target==0])/len(target[target==1]))\n",
    "    trainProp.append(len(Y_train[Y_train==0])/len(Y_train[Y_train==1]))\n",
    "    testProp.append(len(Y_test[Y_test==0])/len(Y_test[Y_test==1]))\n",
    "    \n",
    "    \n",
    "    lr=LogisticRegression()\n",
    "\n",
    "    # Applying Logistic Regression on the unbalanced Dataset\n",
    "    lr.fit(X_train,Y_train)\n",
    "    Y_train_predicted=lr.predict(X_train)\n",
    "    Y_test_predicted=lr.predict(X_test)\n",
    "\n",
    "    # Append losses of the function to list\n",
    "    trainLoss.append(symmetricLossFunction(Y_train_predicted,Y_train))\n",
    "    testLoss.append(symmetricLossFunction(Y_test_predicted,Y_test))\n",
    "    trainScore.append(lr.score(X_train,Y_train))\n",
    "    testScore.append(lr.score(X_test,Y_test))\n",
    "    \n",
    "# Add the calculated data from iterations to the datasets\n",
    "dispropDF['Iteration']=iteration\n",
    "dispropDF['Main Data Proportion']=mainProp\n",
    "dispropDF['Test Data Proportion']=testProp\n",
    "dispropDF['Train Data Proportion']=trainProp\n",
    "dispropDF['Train Data Loss']=trainLoss\n",
    "dispropDF['Test Data Loss']=testLoss\n",
    "dispropDF['Train Score']=trainScore\n",
    "dispropDF['Test Score']=testScore\n",
    "                     \n",
    "dispropDF"
   ]
  },
  {
   "cell_type": "code",
   "execution_count": 19,
   "id": "c93648cf-6c8f-4db6-a325-df340addbf76",
   "metadata": {},
   "outputs": [
    {
     "data": {
      "text/plain": [
       "<AxesSubplot:title={'center':'Confusion Matrix on Test Data'}>"
      ]
     },
     "execution_count": 19,
     "metadata": {},
     "output_type": "execute_result"
    },
    {
     "data": {
      "image/png": "[encoded data removed]",
      "text/plain": [
       "<Figure size 720x216 with 4 Axes>"
      ]
     },
     "metadata": {
      "needs_background": "light"
     },
     "output_type": "display_data"
    }
   ],
   "source": [
    "# Plotting the confusion matrix using the sns heatmap for train and test data for the last result\n",
    "plt.figure(figsize=(10,3))\n",
    "plt.subplot(1,2,1)\n",
    "plt.title('Confusion Matrix on Train Data')\n",
    "confusionTrain=createConfusionMatrix(Y_train_predicted,Y_test)\n",
    "sns.heatmap(confusionTrain,annot=True)\n",
    "\n",
    "plt.subplot(1,2,2)\n",
    "plt.title('Confusion Matrix on Test Data')\n",
    "confusionTrain=createConfusionMatrix(Y_test_predicted,Y_test)\n",
    "sns.heatmap(confusionTrain,annot=True)"
   ]
  },
  {
   "cell_type": "code",
   "execution_count": null,
   "id": "3cfe0086-9563-4233-876a-a672d1f6be50",
   "metadata": {},
   "outputs": [],
   "source": []
  },
  {
   "cell_type": "markdown",
   "id": "e1f615ba-9270-4271-b73a-cdc860fbf68e",
   "metadata": {},
   "source": [
    "#### In the last Stratified sampling, where the Stratification variable was selected as Petal Length, it can be seen that the pair of train and test scores are repeating a lot. The same pair is seen more than one times, and there seems to be a better estimation in estimation of the score.\n",
    "\n",
    "#### In the first method, the proportion of the samples in train and test dataset was same as that in the original dataset, but the pairs of train and test scores seems to be random in most of the cases. \n",
    "\n",
    "\n",
    "#### The same case is observed for random sampling as well\n",
    "\n",
    "#### It would be a better idea to do stratified sampling on any of the input variables as they seem to be leading to more stable scores of the machines performance. "
   ]
  },
  {
   "cell_type": "code",
   "execution_count": null,
   "id": "ceb6df7e-97bd-4f9c-bd84-96f01840f7fe",
   "metadata": {},
   "outputs": [],
   "source": []
  }
 ],
 "metadata": {
  "kernelspec": {
   "display_name": "Python 3 (ipykernel)",
   "language": "python",
   "name": "python3"
  },
  "language_info": {
   "codemirror_mode": {
    "name": "ipython",
    "version": 3
   },
   "file_extension": ".py",
   "mimetype": "text/x-python",
   "name": "python",
   "nbconvert_exporter": "python",
   "pygments_lexer": "ipython3",
   "version": "3.8.8"
  }
 },
 "nbformat": 4,
 "nbformat_minor": 5
}
