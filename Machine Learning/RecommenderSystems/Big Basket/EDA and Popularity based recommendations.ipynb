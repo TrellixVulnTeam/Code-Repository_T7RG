{
 "cells": [
  {
   "cell_type": "markdown",
   "metadata": {},
   "source": [
    "# Big basket Analysis"
   ]
  },
  {
   "cell_type": "markdown",
   "metadata": {},
   "source": [
    "## Creating a class for all the basic functions on the dataset"
   ]
  },
  {
   "cell_type": "code",
   "execution_count": 123,
   "metadata": {},
   "outputs": [],
   "source": [
    "import matplotlib.pyplot as plt\n",
    "import pandas as pd"
   ]
  },
  {
   "cell_type": "code",
   "execution_count": 68,
   "metadata": {},
   "outputs": [],
   "source": [
    "class big_basket:\n",
    "    def __init__(self):\n",
    "        ''' '''\n",
    "        import pandas as pd\n",
    "        self.data=pd.read_excel('BigBasketDataset.xlsx','Sheet1') # Reading the sheet 1\n",
    "        \n",
    "    def get_unique(self):\n",
    "        ''' To get unqiue details about the dataset '''\n",
    "        print('[+] The dataset has -',self.data.shape[0],' data points')\n",
    "        print('                    -',self.data['Member'].nunique(),' customer details')\n",
    "        print('                    -',self.data['Description'].nunique(),' unique products')\n",
    "        print('                    - data for ',(self.data['Date'].max()-self.data['Date'].min()).days,' days' )"
   ]
  },
  {
   "cell_type": "code",
   "execution_count": 69,
   "metadata": {},
   "outputs": [],
   "source": [
    "bb=big_basket()"
   ]
  },
  {
   "cell_type": "code",
   "execution_count": 70,
   "metadata": {},
   "outputs": [
    {
     "name": "stdout",
     "output_type": "stream",
     "text": [
      "[+] The dataset has - 59244  data points\n",
      "                    - 106  customer details\n",
      "                    - 214  unique products\n",
      "                    - data for  1332  days\n"
     ]
    }
   ],
   "source": [
    "bb.get_unique()"
   ]
  },
  {
   "cell_type": "markdown",
   "metadata": {},
   "source": [
    "# Exploratory Data Analysis\n"
   ]
  },
  {
   "cell_type": "markdown",
   "metadata": {},
   "source": [
    "## Popularity based recommender system"
   ]
  },
  {
   "cell_type": "code",
   "execution_count": 75,
   "metadata": {},
   "outputs": [
    {
     "data": {
      "text/plain": [
       "Beans                4380\n",
       "Other Vegetables     4370\n",
       "Root Vegetables      4105\n",
       "Other Dals           3109\n",
       "Organic F&V          3036\n",
       "Gourd & Cucumber     2846\n",
       "Whole Spices         2803\n",
       "Brinjals             2467\n",
       "Namkeen              2138\n",
       "Banana               2089\n",
       "Exotic Vegetables    1336\n",
       "Moong Dal            1312\n",
       "Sugar                1278\n",
       "Toor Dal             1244\n",
       "Sooji & Rava         1219\n",
       "Name: Description, dtype: int64"
      ]
     },
     "execution_count": 75,
     "metadata": {},
     "output_type": "execute_result"
    }
   ],
   "source": [
    "bb.data['Description'].value_counts()[0:15]"
   ]
  },
  {
   "cell_type": "markdown",
   "metadata": {},
   "source": [
    "#### The above are the product with maximum sales. Hence these can be recommended for new users, when we do not have any specific user details"
   ]
  },
  {
   "cell_type": "markdown",
   "metadata": {},
   "source": [
    "#### Adding some new columns"
   ]
  },
  {
   "cell_type": "code",
   "execution_count": 82,
   "metadata": {},
   "outputs": [],
   "source": [
    "bb.data['Month']=bb.data['Date'].apply(lambda x: x.month )\n",
    "bb.data['Day']=bb.data['Date'].apply(lambda x: x.day )\n",
    "bb.data['Year']=bb.data['Date'].apply(lambda x: x.year )"
   ]
  },
  {
   "cell_type": "code",
   "execution_count": 83,
   "metadata": {},
   "outputs": [
    {
     "data": {
      "text/html": [
       "<div>\n",
       "<style scoped>\n",
       "    .dataframe tbody tr th:only-of-type {\n",
       "        vertical-align: middle;\n",
       "    }\n",
       "\n",
       "    .dataframe tbody tr th {\n",
       "        vertical-align: top;\n",
       "    }\n",
       "\n",
       "    .dataframe thead th {\n",
       "        text-align: right;\n",
       "    }\n",
       "</style>\n",
       "<table border=\"1\" class=\"dataframe\">\n",
       "  <thead>\n",
       "    <tr style=\"text-align: right;\">\n",
       "      <th></th>\n",
       "      <th>Member</th>\n",
       "      <th>Order</th>\n",
       "      <th>SKU</th>\n",
       "      <th>Date</th>\n",
       "      <th>Description</th>\n",
       "      <th>Month</th>\n",
       "      <th>Day</th>\n",
       "      <th>Year</th>\n",
       "    </tr>\n",
       "  </thead>\n",
       "  <tbody>\n",
       "    <tr>\n",
       "      <th>0</th>\n",
       "      <td>M09736</td>\n",
       "      <td>6468572</td>\n",
       "      <td>34993740</td>\n",
       "      <td>2014-09-22</td>\n",
       "      <td>Other Sauces</td>\n",
       "      <td>9</td>\n",
       "      <td>22</td>\n",
       "      <td>2014</td>\n",
       "    </tr>\n",
       "    <tr>\n",
       "      <th>1</th>\n",
       "      <td>M09736</td>\n",
       "      <td>6468572</td>\n",
       "      <td>15669800</td>\n",
       "      <td>2014-09-22</td>\n",
       "      <td>Cashews</td>\n",
       "      <td>9</td>\n",
       "      <td>22</td>\n",
       "      <td>2014</td>\n",
       "    </tr>\n",
       "    <tr>\n",
       "      <th>2</th>\n",
       "      <td>M09736</td>\n",
       "      <td>6468572</td>\n",
       "      <td>34989501</td>\n",
       "      <td>2014-09-22</td>\n",
       "      <td>Other Dals</td>\n",
       "      <td>9</td>\n",
       "      <td>22</td>\n",
       "      <td>2014</td>\n",
       "    </tr>\n",
       "    <tr>\n",
       "      <th>3</th>\n",
       "      <td>M09736</td>\n",
       "      <td>6468572</td>\n",
       "      <td>7572303</td>\n",
       "      <td>2014-09-22</td>\n",
       "      <td>Namkeen</td>\n",
       "      <td>9</td>\n",
       "      <td>22</td>\n",
       "      <td>2014</td>\n",
       "    </tr>\n",
       "    <tr>\n",
       "      <th>4</th>\n",
       "      <td>M09736</td>\n",
       "      <td>6468572</td>\n",
       "      <td>15669856</td>\n",
       "      <td>2014-09-22</td>\n",
       "      <td>Sugar</td>\n",
       "      <td>9</td>\n",
       "      <td>22</td>\n",
       "      <td>2014</td>\n",
       "    </tr>\n",
       "  </tbody>\n",
       "</table>\n",
       "</div>"
      ],
      "text/plain": [
       "   Member    Order       SKU       Date   Description  Month  Day  Year\n",
       "0  M09736  6468572  34993740 2014-09-22  Other Sauces      9   22  2014\n",
       "1  M09736  6468572  15669800 2014-09-22       Cashews      9   22  2014\n",
       "2  M09736  6468572  34989501 2014-09-22    Other Dals      9   22  2014\n",
       "3  M09736  6468572   7572303 2014-09-22       Namkeen      9   22  2014\n",
       "4  M09736  6468572  15669856 2014-09-22         Sugar      9   22  2014"
      ]
     },
     "execution_count": 83,
     "metadata": {},
     "output_type": "execute_result"
    }
   ],
   "source": [
    "bb.data.head()"
   ]
  },
  {
   "cell_type": "markdown",
   "metadata": {},
   "source": [
    "## Variation of Customer Purcharse habbits"
   ]
  },
  {
   "cell_type": "code",
   "execution_count": 153,
   "metadata": {},
   "outputs": [
    {
     "data": {
      "image/png": "[encoded data removed]",
      "text/plain": [
       "<Figure size 2160x1440 with 4 Axes>"
      ]
     },
     "metadata": {
      "needs_background": "light"
     },
     "output_type": "display_data"
    }
   ],
   "source": [
    "plt.figure(figsize=(30,20))\n",
    "i=1\n",
    "for year in bb.data['Year'].unique():\n",
    "    x_axis=[bb.data[bb.data['Year']==year]['Description'].value_counts()[0:3].index]\n",
    "    y_axis=[bb.data[bb.data['Year']==year]['Description'].value_counts()[0:3].values]\n",
    "    plt.subplot(2,5,i)\n",
    "    plt.bar(x_axis[0],y_axis[0])\n",
    "    plt.title('Top purchases in '+str(year))\n",
    "    i+=1"
   ]
  },
  {
   "cell_type": "markdown",
   "metadata": {},
   "source": [
    "### It seems that Beans, Root Vegatables, and Organic Vegatables are the most purchsed product over the years"
   ]
  },
  {
   "cell_type": "code",
   "execution_count": 156,
   "metadata": {},
   "outputs": [
    {
     "data": {
      "image/png": "[encoded data removed]",
      "text/plain": [
       "<Figure size 2160x1440 with 12 Axes>"
      ]
     },
     "metadata": {
      "needs_background": "light"
     },
     "output_type": "display_data"
    }
   ],
   "source": [
    "plt.figure(figsize=(30,20))\n",
    "i=1\n",
    "for month in bb.data['Month'].unique():\n",
    "    x_axis=[bb.data[bb.data['Month']==month]['Description'].value_counts()[0:3].index]\n",
    "    y_axis=[bb.data[bb.data['Month']==month]['Description'].value_counts()[0:3].values]\n",
    "    plt.subplot(2,6,i)\n",
    "    plt.bar(x_axis[0],y_axis[0])\n",
    "    plt.title('Top purchases in '+str(month)+' th Month of year')\n",
    "    i+=1"
   ]
  },
  {
   "cell_type": "markdown",
   "metadata": {},
   "source": [
    "### Based on the most purchased products and the changing trends over the years and months, it seems that Beans, Other vegatables and Root vegetables are something which can be recommended to new users"
   ]
  },
  {
   "cell_type": "markdown",
   "metadata": {},
   "source": [
    "# Creating clusters for different user groups"
   ]
  },
  {
   "cell_type": "code",
   "execution_count": 173,
   "metadata": {},
   "outputs": [],
   "source": [
    "top1=[]\n",
    "top2=[]\n",
    "top3=[]\n",
    "top4=[]\n",
    "members=[]\n",
    "for member in bb.data['Member'].unique():\n",
    "    members.append(member)\n",
    "    top1.append(bb.data[bb.data['Member']==member]['Description'].value_counts()[0:4].index[0])\n",
    "    top2.append(bb.data[bb.data['Member']==member]['Description'].value_counts()[0:4].index[1])\n",
    "    top3.append(bb.data[bb.data['Member']==member]['Description'].value_counts()[0:4].index[2])\n",
    "    top4.append(bb.data[bb.data['Member']==member]['Description'].value_counts()[0:4].index[3])\n"
   ]
  },
  {
   "cell_type": "code",
   "execution_count": 182,
   "metadata": {},
   "outputs": [],
   "source": [
    "t1=[]\n",
    "t2=[]\n",
    "t3=[]\n",
    "t4=[]\n",
    "for i,row in bb.data.iterrows():\n",
    "    index = members.index(row['Member'])\n",
    "    t1.append(top1[index])\n",
    "    t2.append(top2[index])\n",
    "    t3.append(top3[index])\n",
    "    t4.append(top4[index])"
   ]
  },
  {
   "cell_type": "code",
   "execution_count": 184,
   "metadata": {},
   "outputs": [],
   "source": [
    "bb.data['Top1']=t1\n",
    "bb.data['Top2']=t2\n",
    "bb.data['Top3']=t3\n",
    "bb.data['Top4']=t4\n"
   ]
  },
  {
   "cell_type": "markdown",
   "metadata": {},
   "source": [
    "#### Label Encoding the data"
   ]
  },
  {
   "cell_type": "code",
   "execution_count": 215,
   "metadata": {},
   "outputs": [],
   "source": [
    "products=list(bb.data['Top1'])+list(bb.data['Top2'])+list(bb.data['Top3'])+list(bb.data['Top4'])\n",
    "products=list(set(products))\n",
    "product_dictionary={}\n",
    "product_dictionary={ products[i]: i for i in range(len(products))}"
   ]
  },
  {
   "cell_type": "code",
   "execution_count": 217,
   "metadata": {},
   "outputs": [
    {
     "name": "stderr",
     "output_type": "stream",
     "text": [
      "/home/blink/anaconda3/lib/python3.7/site-packages/ipykernel_launcher.py:3: SettingWithCopyWarning: \n",
      "A value is trying to be set on a copy of a slice from a DataFrame.\n",
      "Try using .loc[row_indexer,col_indexer] = value instead\n",
      "\n",
      "See the caveats in the documentation: http://pandas.pydata.org/pandas-docs/stable/indexing.html#indexing-view-versus-copy\n",
      "  This is separate from the ipykernel package so we can avoid doing imports until\n"
     ]
    }
   ],
   "source": [
    "cluster_data=bb.data[['Top1', 'Top2', 'Top3', 'Top4']]\n",
    "for column in cluster_data.columns:\n",
    "    cluster_data[column]=cluster_data[column].apply(lambda x: product_dictionary[x])"
   ]
  },
  {
   "cell_type": "markdown",
   "metadata": {},
   "source": [
    "### Creating clusters with Kmeans"
   ]
  },
  {
   "cell_type": "code",
   "execution_count": 253,
   "metadata": {},
   "outputs": [
    {
     "name": "stderr",
     "output_type": "stream",
     "text": [
      "100%|██████████| 38/38 [00:40<00:00,  1.71s/it]\n"
     ]
    },
    {
     "data": {
      "text/plain": [
       "[<matplotlib.lines.Line2D at 0x7fa29865aa58>]"
      ]
     },
     "execution_count": 253,
     "metadata": {},
     "output_type": "execute_result"
    },
    {
     "data": {
      "image/png": "[encoded data removed]",
      "text/plain": [
       "<Figure size 432x288 with 1 Axes>"
      ]
     },
     "metadata": {
      "needs_background": "light"
     },
     "output_type": "display_data"
    }
   ],
   "source": [
    "import numpy as np\n",
    "from sklearn.cluster  import KMeans\n",
    "from tqdm import tqdm\n",
    "scores=[]\n",
    "for i in tqdm(range(2,40)):\n",
    "    km=KMeans(n_clusters=i)\n",
    "    km.fit(cluster_data)\n",
    "    scores.append(km.inertia_)\n",
    "\n",
    "plt.plot(np.arange(2,40),scores)"
   ]
  },
  {
   "cell_type": "code",
   "execution_count": 255,
   "metadata": {},
   "outputs": [
    {
     "data": {
      "text/plain": [
       "KMeans(algorithm='auto', copy_x=True, init='k-means++', max_iter=300,\n",
       "    n_clusters=5, n_init=10, n_jobs=None, precompute_distances='auto',\n",
       "    random_state=None, tol=0.0001, verbose=0)"
      ]
     },
     "execution_count": 255,
     "metadata": {},
     "output_type": "execute_result"
    }
   ],
   "source": [
    "km=KMeans(n_clusters=5)\n",
    "km.fit(cluster_data)"
   ]
  },
  {
   "cell_type": "code",
   "execution_count": 256,
   "metadata": {},
   "outputs": [],
   "source": [
    "classes=km.predict(cluster_data)"
   ]
  },
  {
   "cell_type": "code",
   "execution_count": 257,
   "metadata": {},
   "outputs": [],
   "source": [
    "bb.data['Cluster']=classes"
   ]
  },
  {
   "cell_type": "code",
   "execution_count": 258,
   "metadata": {},
   "outputs": [
    {
     "data": {
      "text/html": [
       "<div>\n",
       "<style scoped>\n",
       "    .dataframe tbody tr th:only-of-type {\n",
       "        vertical-align: middle;\n",
       "    }\n",
       "\n",
       "    .dataframe tbody tr th {\n",
       "        vertical-align: top;\n",
       "    }\n",
       "\n",
       "    .dataframe thead th {\n",
       "        text-align: right;\n",
       "    }\n",
       "</style>\n",
       "<table border=\"1\" class=\"dataframe\">\n",
       "  <thead>\n",
       "    <tr style=\"text-align: right;\">\n",
       "      <th></th>\n",
       "      <th>Member</th>\n",
       "      <th>Order</th>\n",
       "      <th>SKU</th>\n",
       "      <th>Date</th>\n",
       "      <th>Description</th>\n",
       "      <th>Month</th>\n",
       "      <th>Day</th>\n",
       "      <th>Year</th>\n",
       "      <th>Top1</th>\n",
       "      <th>Top2</th>\n",
       "      <th>Top3</th>\n",
       "      <th>Top4</th>\n",
       "      <th>Cluster</th>\n",
       "    </tr>\n",
       "  </thead>\n",
       "  <tbody>\n",
       "    <tr>\n",
       "      <th>554</th>\n",
       "      <td>M39021</td>\n",
       "      <td>6422636</td>\n",
       "      <td>7580802</td>\n",
       "      <td>2014-09-28</td>\n",
       "      <td>Sunflower Oils</td>\n",
       "      <td>9</td>\n",
       "      <td>28</td>\n",
       "      <td>2014</td>\n",
       "      <td>Beans</td>\n",
       "      <td>Root Vegetables</td>\n",
       "      <td>Sunflower Oils</td>\n",
       "      <td>Other Vegetables</td>\n",
       "      <td>1</td>\n",
       "    </tr>\n",
       "    <tr>\n",
       "      <th>555</th>\n",
       "      <td>M39021</td>\n",
       "      <td>6422636</td>\n",
       "      <td>15668453</td>\n",
       "      <td>2014-09-28</td>\n",
       "      <td>Brinjals</td>\n",
       "      <td>9</td>\n",
       "      <td>28</td>\n",
       "      <td>2014</td>\n",
       "      <td>Beans</td>\n",
       "      <td>Root Vegetables</td>\n",
       "      <td>Sunflower Oils</td>\n",
       "      <td>Other Vegetables</td>\n",
       "      <td>1</td>\n",
       "    </tr>\n",
       "    <tr>\n",
       "      <th>556</th>\n",
       "      <td>M39021</td>\n",
       "      <td>6422636</td>\n",
       "      <td>15668375</td>\n",
       "      <td>2014-09-28</td>\n",
       "      <td>Root Vegetables</td>\n",
       "      <td>9</td>\n",
       "      <td>28</td>\n",
       "      <td>2014</td>\n",
       "      <td>Beans</td>\n",
       "      <td>Root Vegetables</td>\n",
       "      <td>Sunflower Oils</td>\n",
       "      <td>Other Vegetables</td>\n",
       "      <td>1</td>\n",
       "    </tr>\n",
       "    <tr>\n",
       "      <th>557</th>\n",
       "      <td>M39021</td>\n",
       "      <td>6422636</td>\n",
       "      <td>15668379</td>\n",
       "      <td>2014-09-28</td>\n",
       "      <td>Other Vegetables</td>\n",
       "      <td>9</td>\n",
       "      <td>28</td>\n",
       "      <td>2014</td>\n",
       "      <td>Beans</td>\n",
       "      <td>Root Vegetables</td>\n",
       "      <td>Sunflower Oils</td>\n",
       "      <td>Other Vegetables</td>\n",
       "      <td>1</td>\n",
       "    </tr>\n",
       "    <tr>\n",
       "      <th>558</th>\n",
       "      <td>M39021</td>\n",
       "      <td>6422636</td>\n",
       "      <td>15669760</td>\n",
       "      <td>2014-09-28</td>\n",
       "      <td>Whole Spices</td>\n",
       "      <td>9</td>\n",
       "      <td>28</td>\n",
       "      <td>2014</td>\n",
       "      <td>Beans</td>\n",
       "      <td>Root Vegetables</td>\n",
       "      <td>Sunflower Oils</td>\n",
       "      <td>Other Vegetables</td>\n",
       "      <td>1</td>\n",
       "    </tr>\n",
       "  </tbody>\n",
       "</table>\n",
       "</div>"
      ],
      "text/plain": [
       "     Member    Order       SKU       Date       Description  Month  Day  Year  \\\n",
       "554  M39021  6422636   7580802 2014-09-28    Sunflower Oils      9   28  2014   \n",
       "555  M39021  6422636  15668453 2014-09-28          Brinjals      9   28  2014   \n",
       "556  M39021  6422636  15668375 2014-09-28   Root Vegetables      9   28  2014   \n",
       "557  M39021  6422636  15668379 2014-09-28  Other Vegetables      9   28  2014   \n",
       "558  M39021  6422636  15669760 2014-09-28      Whole Spices      9   28  2014   \n",
       "\n",
       "      Top1             Top2            Top3              Top4  Cluster  \n",
       "554  Beans  Root Vegetables  Sunflower Oils  Other Vegetables        1  \n",
       "555  Beans  Root Vegetables  Sunflower Oils  Other Vegetables        1  \n",
       "556  Beans  Root Vegetables  Sunflower Oils  Other Vegetables        1  \n",
       "557  Beans  Root Vegetables  Sunflower Oils  Other Vegetables        1  \n",
       "558  Beans  Root Vegetables  Sunflower Oils  Other Vegetables        1  "
      ]
     },
     "execution_count": 258,
     "metadata": {},
     "output_type": "execute_result"
    }
   ],
   "source": [
    "bb.data[bb.data['Cluster']==1].head()"
   ]
  },
  {
   "cell_type": "code",
   "execution_count": 259,
   "metadata": {},
   "outputs": [
    {
     "data": {
      "text/html": [
       "<div>\n",
       "<style scoped>\n",
       "    .dataframe tbody tr th:only-of-type {\n",
       "        vertical-align: middle;\n",
       "    }\n",
       "\n",
       "    .dataframe tbody tr th {\n",
       "        vertical-align: top;\n",
       "    }\n",
       "\n",
       "    .dataframe thead th {\n",
       "        text-align: right;\n",
       "    }\n",
       "</style>\n",
       "<table border=\"1\" class=\"dataframe\">\n",
       "  <thead>\n",
       "    <tr style=\"text-align: right;\">\n",
       "      <th></th>\n",
       "      <th>Member</th>\n",
       "      <th>Order</th>\n",
       "      <th>SKU</th>\n",
       "      <th>Date</th>\n",
       "      <th>Description</th>\n",
       "      <th>Month</th>\n",
       "      <th>Day</th>\n",
       "      <th>Year</th>\n",
       "      <th>Top1</th>\n",
       "      <th>Top2</th>\n",
       "      <th>Top3</th>\n",
       "      <th>Top4</th>\n",
       "      <th>Cluster</th>\n",
       "    </tr>\n",
       "  </thead>\n",
       "  <tbody>\n",
       "    <tr>\n",
       "      <th>3240</th>\n",
       "      <td>M82651</td>\n",
       "      <td>6439410</td>\n",
       "      <td>15669863</td>\n",
       "      <td>2014-04-10</td>\n",
       "      <td>Moong Dal</td>\n",
       "      <td>4</td>\n",
       "      <td>10</td>\n",
       "      <td>2014</td>\n",
       "      <td>Other Vegetables</td>\n",
       "      <td>Whole Spices</td>\n",
       "      <td>Other Dals</td>\n",
       "      <td>Root Vegetables</td>\n",
       "      <td>0</td>\n",
       "    </tr>\n",
       "    <tr>\n",
       "      <th>3241</th>\n",
       "      <td>M82651</td>\n",
       "      <td>6439410</td>\n",
       "      <td>34987566</td>\n",
       "      <td>2014-04-10</td>\n",
       "      <td>Whole Spices</td>\n",
       "      <td>4</td>\n",
       "      <td>10</td>\n",
       "      <td>2014</td>\n",
       "      <td>Other Vegetables</td>\n",
       "      <td>Whole Spices</td>\n",
       "      <td>Other Dals</td>\n",
       "      <td>Root Vegetables</td>\n",
       "      <td>0</td>\n",
       "    </tr>\n",
       "    <tr>\n",
       "      <th>3242</th>\n",
       "      <td>M82651</td>\n",
       "      <td>6439410</td>\n",
       "      <td>7573023</td>\n",
       "      <td>2014-04-10</td>\n",
       "      <td>Shaving Blade &amp; Razors</td>\n",
       "      <td>4</td>\n",
       "      <td>10</td>\n",
       "      <td>2014</td>\n",
       "      <td>Other Vegetables</td>\n",
       "      <td>Whole Spices</td>\n",
       "      <td>Other Dals</td>\n",
       "      <td>Root Vegetables</td>\n",
       "      <td>0</td>\n",
       "    </tr>\n",
       "    <tr>\n",
       "      <th>3243</th>\n",
       "      <td>M82651</td>\n",
       "      <td>6439410</td>\n",
       "      <td>15669765</td>\n",
       "      <td>2014-04-10</td>\n",
       "      <td>Urad Dal</td>\n",
       "      <td>4</td>\n",
       "      <td>10</td>\n",
       "      <td>2014</td>\n",
       "      <td>Other Vegetables</td>\n",
       "      <td>Whole Spices</td>\n",
       "      <td>Other Dals</td>\n",
       "      <td>Root Vegetables</td>\n",
       "      <td>0</td>\n",
       "    </tr>\n",
       "    <tr>\n",
       "      <th>3244</th>\n",
       "      <td>M82651</td>\n",
       "      <td>6439410</td>\n",
       "      <td>15669885</td>\n",
       "      <td>2014-04-10</td>\n",
       "      <td>Moong Dal</td>\n",
       "      <td>4</td>\n",
       "      <td>10</td>\n",
       "      <td>2014</td>\n",
       "      <td>Other Vegetables</td>\n",
       "      <td>Whole Spices</td>\n",
       "      <td>Other Dals</td>\n",
       "      <td>Root Vegetables</td>\n",
       "      <td>0</td>\n",
       "    </tr>\n",
       "  </tbody>\n",
       "</table>\n",
       "</div>"
      ],
      "text/plain": [
       "      Member    Order       SKU       Date             Description  Month  \\\n",
       "3240  M82651  6439410  15669863 2014-04-10               Moong Dal      4   \n",
       "3241  M82651  6439410  34987566 2014-04-10            Whole Spices      4   \n",
       "3242  M82651  6439410   7573023 2014-04-10  Shaving Blade & Razors      4   \n",
       "3243  M82651  6439410  15669765 2014-04-10                Urad Dal      4   \n",
       "3244  M82651  6439410  15669885 2014-04-10               Moong Dal      4   \n",
       "\n",
       "      Day  Year              Top1          Top2        Top3             Top4  \\\n",
       "3240   10  2014  Other Vegetables  Whole Spices  Other Dals  Root Vegetables   \n",
       "3241   10  2014  Other Vegetables  Whole Spices  Other Dals  Root Vegetables   \n",
       "3242   10  2014  Other Vegetables  Whole Spices  Other Dals  Root Vegetables   \n",
       "3243   10  2014  Other Vegetables  Whole Spices  Other Dals  Root Vegetables   \n",
       "3244   10  2014  Other Vegetables  Whole Spices  Other Dals  Root Vegetables   \n",
       "\n",
       "      Cluster  \n",
       "3240        0  \n",
       "3241        0  \n",
       "3242        0  \n",
       "3243        0  \n",
       "3244        0  "
      ]
     },
     "execution_count": 259,
     "metadata": {},
     "output_type": "execute_result"
    }
   ],
   "source": [
    "bb.data[bb.data['Cluster']==0].head()"
   ]
  },
  {
   "cell_type": "code",
   "execution_count": 260,
   "metadata": {},
   "outputs": [
    {
     "data": {
      "text/html": [
       "<div>\n",
       "<style scoped>\n",
       "    .dataframe tbody tr th:only-of-type {\n",
       "        vertical-align: middle;\n",
       "    }\n",
       "\n",
       "    .dataframe tbody tr th {\n",
       "        vertical-align: top;\n",
       "    }\n",
       "\n",
       "    .dataframe thead th {\n",
       "        text-align: right;\n",
       "    }\n",
       "</style>\n",
       "<table border=\"1\" class=\"dataframe\">\n",
       "  <thead>\n",
       "    <tr style=\"text-align: right;\">\n",
       "      <th></th>\n",
       "      <th>Member</th>\n",
       "      <th>Order</th>\n",
       "      <th>SKU</th>\n",
       "      <th>Date</th>\n",
       "      <th>Description</th>\n",
       "      <th>Month</th>\n",
       "      <th>Day</th>\n",
       "      <th>Year</th>\n",
       "      <th>Top1</th>\n",
       "      <th>Top2</th>\n",
       "      <th>Top3</th>\n",
       "      <th>Top4</th>\n",
       "      <th>Cluster</th>\n",
       "    </tr>\n",
       "  </thead>\n",
       "  <tbody>\n",
       "    <tr>\n",
       "      <th>969</th>\n",
       "      <td>M47229</td>\n",
       "      <td>6764413</td>\n",
       "      <td>7621580</td>\n",
       "      <td>2014-02-07</td>\n",
       "      <td>Diapers &amp; Wipes</td>\n",
       "      <td>2</td>\n",
       "      <td>7</td>\n",
       "      <td>2014</td>\n",
       "      <td>Beans</td>\n",
       "      <td>Root Vegetables</td>\n",
       "      <td>Other Vegetables</td>\n",
       "      <td>Whole Spices</td>\n",
       "      <td>2</td>\n",
       "    </tr>\n",
       "    <tr>\n",
       "      <th>970</th>\n",
       "      <td>M47229</td>\n",
       "      <td>6764413</td>\n",
       "      <td>92866692</td>\n",
       "      <td>2014-02-07</td>\n",
       "      <td>Diapers &amp; Wipes</td>\n",
       "      <td>2</td>\n",
       "      <td>7</td>\n",
       "      <td>2014</td>\n",
       "      <td>Beans</td>\n",
       "      <td>Root Vegetables</td>\n",
       "      <td>Other Vegetables</td>\n",
       "      <td>Whole Spices</td>\n",
       "      <td>2</td>\n",
       "    </tr>\n",
       "    <tr>\n",
       "      <th>971</th>\n",
       "      <td>M47229</td>\n",
       "      <td>6764413</td>\n",
       "      <td>7630963</td>\n",
       "      <td>2014-02-07</td>\n",
       "      <td>Tomato Ketchup</td>\n",
       "      <td>2</td>\n",
       "      <td>7</td>\n",
       "      <td>2014</td>\n",
       "      <td>Beans</td>\n",
       "      <td>Root Vegetables</td>\n",
       "      <td>Other Vegetables</td>\n",
       "      <td>Whole Spices</td>\n",
       "      <td>2</td>\n",
       "    </tr>\n",
       "    <tr>\n",
       "      <th>972</th>\n",
       "      <td>M47229</td>\n",
       "      <td>6810613</td>\n",
       "      <td>15669870</td>\n",
       "      <td>2014-06-27</td>\n",
       "      <td>Sooji &amp; Rava</td>\n",
       "      <td>6</td>\n",
       "      <td>27</td>\n",
       "      <td>2014</td>\n",
       "      <td>Beans</td>\n",
       "      <td>Root Vegetables</td>\n",
       "      <td>Other Vegetables</td>\n",
       "      <td>Whole Spices</td>\n",
       "      <td>2</td>\n",
       "    </tr>\n",
       "    <tr>\n",
       "      <th>973</th>\n",
       "      <td>M47229</td>\n",
       "      <td>6810613</td>\n",
       "      <td>15668473</td>\n",
       "      <td>2014-06-27</td>\n",
       "      <td>Beans</td>\n",
       "      <td>6</td>\n",
       "      <td>27</td>\n",
       "      <td>2014</td>\n",
       "      <td>Beans</td>\n",
       "      <td>Root Vegetables</td>\n",
       "      <td>Other Vegetables</td>\n",
       "      <td>Whole Spices</td>\n",
       "      <td>2</td>\n",
       "    </tr>\n",
       "  </tbody>\n",
       "</table>\n",
       "</div>"
      ],
      "text/plain": [
       "     Member    Order       SKU       Date      Description  Month  Day  Year  \\\n",
       "969  M47229  6764413   7621580 2014-02-07  Diapers & Wipes      2    7  2014   \n",
       "970  M47229  6764413  92866692 2014-02-07  Diapers & Wipes      2    7  2014   \n",
       "971  M47229  6764413   7630963 2014-02-07   Tomato Ketchup      2    7  2014   \n",
       "972  M47229  6810613  15669870 2014-06-27     Sooji & Rava      6   27  2014   \n",
       "973  M47229  6810613  15668473 2014-06-27            Beans      6   27  2014   \n",
       "\n",
       "      Top1             Top2              Top3          Top4  Cluster  \n",
       "969  Beans  Root Vegetables  Other Vegetables  Whole Spices        2  \n",
       "970  Beans  Root Vegetables  Other Vegetables  Whole Spices        2  \n",
       "971  Beans  Root Vegetables  Other Vegetables  Whole Spices        2  \n",
       "972  Beans  Root Vegetables  Other Vegetables  Whole Spices        2  \n",
       "973  Beans  Root Vegetables  Other Vegetables  Whole Spices        2  "
      ]
     },
     "execution_count": 260,
     "metadata": {},
     "output_type": "execute_result"
    }
   ],
   "source": [
    "bb.data[bb.data['Cluster']==2].head()"
   ]
  },
  {
   "cell_type": "code",
   "execution_count": 261,
   "metadata": {},
   "outputs": [
    {
     "data": {
      "text/html": [
       "<div>\n",
       "<style scoped>\n",
       "    .dataframe tbody tr th:only-of-type {\n",
       "        vertical-align: middle;\n",
       "    }\n",
       "\n",
       "    .dataframe tbody tr th {\n",
       "        vertical-align: top;\n",
       "    }\n",
       "\n",
       "    .dataframe thead th {\n",
       "        text-align: right;\n",
       "    }\n",
       "</style>\n",
       "<table border=\"1\" class=\"dataframe\">\n",
       "  <thead>\n",
       "    <tr style=\"text-align: right;\">\n",
       "      <th></th>\n",
       "      <th>Member</th>\n",
       "      <th>Order</th>\n",
       "      <th>SKU</th>\n",
       "      <th>Date</th>\n",
       "      <th>Description</th>\n",
       "      <th>Month</th>\n",
       "      <th>Day</th>\n",
       "      <th>Year</th>\n",
       "      <th>Top1</th>\n",
       "      <th>Top2</th>\n",
       "      <th>Top3</th>\n",
       "      <th>Top4</th>\n",
       "      <th>Cluster</th>\n",
       "    </tr>\n",
       "  </thead>\n",
       "  <tbody>\n",
       "    <tr>\n",
       "      <th>0</th>\n",
       "      <td>M09736</td>\n",
       "      <td>6468572</td>\n",
       "      <td>34993740</td>\n",
       "      <td>2014-09-22</td>\n",
       "      <td>Other Sauces</td>\n",
       "      <td>9</td>\n",
       "      <td>22</td>\n",
       "      <td>2014</td>\n",
       "      <td>Banana</td>\n",
       "      <td>Beans</td>\n",
       "      <td>Other Dals</td>\n",
       "      <td>Root Vegetables</td>\n",
       "      <td>3</td>\n",
       "    </tr>\n",
       "    <tr>\n",
       "      <th>1</th>\n",
       "      <td>M09736</td>\n",
       "      <td>6468572</td>\n",
       "      <td>15669800</td>\n",
       "      <td>2014-09-22</td>\n",
       "      <td>Cashews</td>\n",
       "      <td>9</td>\n",
       "      <td>22</td>\n",
       "      <td>2014</td>\n",
       "      <td>Banana</td>\n",
       "      <td>Beans</td>\n",
       "      <td>Other Dals</td>\n",
       "      <td>Root Vegetables</td>\n",
       "      <td>3</td>\n",
       "    </tr>\n",
       "    <tr>\n",
       "      <th>2</th>\n",
       "      <td>M09736</td>\n",
       "      <td>6468572</td>\n",
       "      <td>34989501</td>\n",
       "      <td>2014-09-22</td>\n",
       "      <td>Other Dals</td>\n",
       "      <td>9</td>\n",
       "      <td>22</td>\n",
       "      <td>2014</td>\n",
       "      <td>Banana</td>\n",
       "      <td>Beans</td>\n",
       "      <td>Other Dals</td>\n",
       "      <td>Root Vegetables</td>\n",
       "      <td>3</td>\n",
       "    </tr>\n",
       "    <tr>\n",
       "      <th>3</th>\n",
       "      <td>M09736</td>\n",
       "      <td>6468572</td>\n",
       "      <td>7572303</td>\n",
       "      <td>2014-09-22</td>\n",
       "      <td>Namkeen</td>\n",
       "      <td>9</td>\n",
       "      <td>22</td>\n",
       "      <td>2014</td>\n",
       "      <td>Banana</td>\n",
       "      <td>Beans</td>\n",
       "      <td>Other Dals</td>\n",
       "      <td>Root Vegetables</td>\n",
       "      <td>3</td>\n",
       "    </tr>\n",
       "    <tr>\n",
       "      <th>4</th>\n",
       "      <td>M09736</td>\n",
       "      <td>6468572</td>\n",
       "      <td>15669856</td>\n",
       "      <td>2014-09-22</td>\n",
       "      <td>Sugar</td>\n",
       "      <td>9</td>\n",
       "      <td>22</td>\n",
       "      <td>2014</td>\n",
       "      <td>Banana</td>\n",
       "      <td>Beans</td>\n",
       "      <td>Other Dals</td>\n",
       "      <td>Root Vegetables</td>\n",
       "      <td>3</td>\n",
       "    </tr>\n",
       "  </tbody>\n",
       "</table>\n",
       "</div>"
      ],
      "text/plain": [
       "   Member    Order       SKU       Date   Description  Month  Day  Year  \\\n",
       "0  M09736  6468572  34993740 2014-09-22  Other Sauces      9   22  2014   \n",
       "1  M09736  6468572  15669800 2014-09-22       Cashews      9   22  2014   \n",
       "2  M09736  6468572  34989501 2014-09-22    Other Dals      9   22  2014   \n",
       "3  M09736  6468572   7572303 2014-09-22       Namkeen      9   22  2014   \n",
       "4  M09736  6468572  15669856 2014-09-22         Sugar      9   22  2014   \n",
       "\n",
       "     Top1   Top2        Top3             Top4  Cluster  \n",
       "0  Banana  Beans  Other Dals  Root Vegetables        3  \n",
       "1  Banana  Beans  Other Dals  Root Vegetables        3  \n",
       "2  Banana  Beans  Other Dals  Root Vegetables        3  \n",
       "3  Banana  Beans  Other Dals  Root Vegetables        3  \n",
       "4  Banana  Beans  Other Dals  Root Vegetables        3  "
      ]
     },
     "execution_count": 261,
     "metadata": {},
     "output_type": "execute_result"
    }
   ],
   "source": [
    "bb.data[bb.data['Cluster']==3].head()"
   ]
  },
  {
   "cell_type": "code",
   "execution_count": 262,
   "metadata": {},
   "outputs": [
    {
     "data": {
      "text/html": [
       "<div>\n",
       "<style scoped>\n",
       "    .dataframe tbody tr th:only-of-type {\n",
       "        vertical-align: middle;\n",
       "    }\n",
       "\n",
       "    .dataframe tbody tr th {\n",
       "        vertical-align: top;\n",
       "    }\n",
       "\n",
       "    .dataframe thead th {\n",
       "        text-align: right;\n",
       "    }\n",
       "</style>\n",
       "<table border=\"1\" class=\"dataframe\">\n",
       "  <thead>\n",
       "    <tr style=\"text-align: right;\">\n",
       "      <th></th>\n",
       "      <th>Member</th>\n",
       "      <th>Order</th>\n",
       "      <th>SKU</th>\n",
       "      <th>Date</th>\n",
       "      <th>Description</th>\n",
       "      <th>Month</th>\n",
       "      <th>Day</th>\n",
       "      <th>Year</th>\n",
       "      <th>Top1</th>\n",
       "      <th>Top2</th>\n",
       "      <th>Top3</th>\n",
       "      <th>Top4</th>\n",
       "      <th>Cluster</th>\n",
       "    </tr>\n",
       "  </thead>\n",
       "  <tbody>\n",
       "    <tr>\n",
       "      <th>2203</th>\n",
       "      <td>M78365</td>\n",
       "      <td>6470598</td>\n",
       "      <td>34986122</td>\n",
       "      <td>2014-09-23</td>\n",
       "      <td>Whole Spices</td>\n",
       "      <td>9</td>\n",
       "      <td>23</td>\n",
       "      <td>2014</td>\n",
       "      <td>Root Vegetables</td>\n",
       "      <td>Other Vegetables</td>\n",
       "      <td>Whole Spices</td>\n",
       "      <td>Gourd &amp; Cucumber</td>\n",
       "      <td>4</td>\n",
       "    </tr>\n",
       "    <tr>\n",
       "      <th>2204</th>\n",
       "      <td>M78365</td>\n",
       "      <td>6470598</td>\n",
       "      <td>34993759</td>\n",
       "      <td>2014-09-23</td>\n",
       "      <td>Other Sauces</td>\n",
       "      <td>9</td>\n",
       "      <td>23</td>\n",
       "      <td>2014</td>\n",
       "      <td>Root Vegetables</td>\n",
       "      <td>Other Vegetables</td>\n",
       "      <td>Whole Spices</td>\n",
       "      <td>Gourd &amp; Cucumber</td>\n",
       "      <td>4</td>\n",
       "    </tr>\n",
       "    <tr>\n",
       "      <th>2205</th>\n",
       "      <td>M78365</td>\n",
       "      <td>6470598</td>\n",
       "      <td>34986118</td>\n",
       "      <td>2014-09-23</td>\n",
       "      <td>Whole Spices</td>\n",
       "      <td>9</td>\n",
       "      <td>23</td>\n",
       "      <td>2014</td>\n",
       "      <td>Root Vegetables</td>\n",
       "      <td>Other Vegetables</td>\n",
       "      <td>Whole Spices</td>\n",
       "      <td>Gourd &amp; Cucumber</td>\n",
       "      <td>4</td>\n",
       "    </tr>\n",
       "    <tr>\n",
       "      <th>2206</th>\n",
       "      <td>M78365</td>\n",
       "      <td>6470598</td>\n",
       "      <td>21408913</td>\n",
       "      <td>2014-09-23</td>\n",
       "      <td>Whole Spices</td>\n",
       "      <td>9</td>\n",
       "      <td>23</td>\n",
       "      <td>2014</td>\n",
       "      <td>Root Vegetables</td>\n",
       "      <td>Other Vegetables</td>\n",
       "      <td>Whole Spices</td>\n",
       "      <td>Gourd &amp; Cucumber</td>\n",
       "      <td>4</td>\n",
       "    </tr>\n",
       "    <tr>\n",
       "      <th>2207</th>\n",
       "      <td>M78365</td>\n",
       "      <td>6470598</td>\n",
       "      <td>34993740</td>\n",
       "      <td>2014-09-23</td>\n",
       "      <td>Other Sauces</td>\n",
       "      <td>9</td>\n",
       "      <td>23</td>\n",
       "      <td>2014</td>\n",
       "      <td>Root Vegetables</td>\n",
       "      <td>Other Vegetables</td>\n",
       "      <td>Whole Spices</td>\n",
       "      <td>Gourd &amp; Cucumber</td>\n",
       "      <td>4</td>\n",
       "    </tr>\n",
       "  </tbody>\n",
       "</table>\n",
       "</div>"
      ],
      "text/plain": [
       "      Member    Order       SKU       Date   Description  Month  Day  Year  \\\n",
       "2203  M78365  6470598  34986122 2014-09-23  Whole Spices      9   23  2014   \n",
       "2204  M78365  6470598  34993759 2014-09-23  Other Sauces      9   23  2014   \n",
       "2205  M78365  6470598  34986118 2014-09-23  Whole Spices      9   23  2014   \n",
       "2206  M78365  6470598  21408913 2014-09-23  Whole Spices      9   23  2014   \n",
       "2207  M78365  6470598  34993740 2014-09-23  Other Sauces      9   23  2014   \n",
       "\n",
       "                 Top1              Top2          Top3              Top4  \\\n",
       "2203  Root Vegetables  Other Vegetables  Whole Spices  Gourd & Cucumber   \n",
       "2204  Root Vegetables  Other Vegetables  Whole Spices  Gourd & Cucumber   \n",
       "2205  Root Vegetables  Other Vegetables  Whole Spices  Gourd & Cucumber   \n",
       "2206  Root Vegetables  Other Vegetables  Whole Spices  Gourd & Cucumber   \n",
       "2207  Root Vegetables  Other Vegetables  Whole Spices  Gourd & Cucumber   \n",
       "\n",
       "      Cluster  \n",
       "2203        4  \n",
       "2204        4  \n",
       "2205        4  \n",
       "2206        4  \n",
       "2207        4  "
      ]
     },
     "execution_count": 262,
     "metadata": {},
     "output_type": "execute_result"
    }
   ],
   "source": [
    "bb.data[bb.data['Cluster']==4].head()"
   ]
  },
  {
   "cell_type": "code",
   "execution_count": null,
   "metadata": {},
   "outputs": [],
   "source": []
  }
 ],
 "metadata": {
  "kernelspec": {
   "display_name": "Python 3",
   "language": "python",
   "name": "python3"
  },
  "language_info": {
   "codemirror_mode": {
    "name": "ipython",
    "version": 3
   },
   "file_extension": ".py",
   "mimetype": "text/x-python",
   "name": "python",
   "nbconvert_exporter": "python",
   "pygments_lexer": "ipython3",
   "version": "3.7.3"
  }
 },
 "nbformat": 4,
 "nbformat_minor": 2
}
