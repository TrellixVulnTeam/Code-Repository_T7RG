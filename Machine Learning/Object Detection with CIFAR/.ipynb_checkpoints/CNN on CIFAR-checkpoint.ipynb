{
 "cells": [
  {
   "cell_type": "markdown",
   "id": "fadd3ee6-fb6f-4e31-8310-b8dab8c68e45",
   "metadata": {},
   "source": [
    "## Define a function to unpickle the data"
   ]
  },
  {
   "cell_type": "code",
   "execution_count": 38,
   "id": "00af3a92-92bf-4371-bad6-5507a2b5c4ae",
   "metadata": {},
   "outputs": [],
   "source": [
    "def unpickle(filename):\n",
    "    \"\"\" The function takes a filename and returns the dictionary of data inside the file. \n",
    "    The data is pickled and stored in the files and hence this function helps to unpack\n",
    "    the data. \n",
    "    \n",
    "    Usage : data=unpickle('batches.meta')\n",
    "    Return : Dictionary of data\n",
    "    Data inside the dictionary can be explored using data.keys and other dictionary functions \"\"\"\n",
    "    \n",
    "    filepath='cifar-10-batches-py/'+filename\n",
    "    import pickle\n",
    "    with open(filepath,'rb') as foo:\n",
    "        dict=pickle.load(foo,encoding='bytes')\n",
    "    return dict"
   ]
  },
  {
   "cell_type": "markdown",
   "id": "c81a0d3e-a399-44f8-85f3-62c7eeef7253",
   "metadata": {},
   "source": [
    "## Understanding the data"
   ]
  },
  {
   "cell_type": "code",
   "execution_count": 39,
   "id": "8f42ebeb-5a14-4d61-b562-e4c68c908ad8",
   "metadata": {
    "tags": []
   },
   "outputs": [],
   "source": [
    "data=unpickle('batches.meta')"
   ]
  },
  {
   "cell_type": "code",
   "execution_count": 42,
   "id": "434c3ef9-a611-4c60-a47b-10c84df8d8a2",
   "metadata": {},
   "outputs": [
    {
     "data": {
      "text/plain": [
       "{b'num_cases_per_batch': 10000,\n",
       " b'label_names': [b'airplane',\n",
       "  b'automobile',\n",
       "  b'bird',\n",
       "  b'cat',\n",
       "  b'deer',\n",
       "  b'dog',\n",
       "  b'frog',\n",
       "  b'horse',\n",
       "  b'ship',\n",
       "  b'truck'],\n",
       " b'num_vis': 3072}"
      ]
     },
     "execution_count": 42,
     "metadata": {},
     "output_type": "execute_result"
    }
   ],
   "source": [
    "data"
   ]
  },
  {
   "cell_type": "code",
   "execution_count": 37,
   "id": "7c192e8b-1c3b-483d-8030-f332465562bb",
   "metadata": {},
   "outputs": [
    {
     "data": {
      "text/plain": [
       "(10000, 3072)"
      ]
     },
     "execution_count": 37,
     "metadata": {},
     "output_type": "execute_result"
    }
   ],
   "source": [
    "data[list(data.keys())[2]].shape"
   ]
  },
  {
   "cell_type": "code",
   "execution_count": null,
   "id": "6efc0675-2e80-4d2f-b3c6-c83ccceb50d9",
   "metadata": {},
   "outputs": [],
   "source": []
  }
 ],
 "metadata": {
  "kernelspec": {
   "display_name": "Python 3 (ipykernel)",
   "language": "python",
   "name": "python3"
  },
  "language_info": {
   "codemirror_mode": {
    "name": "ipython",
    "version": 3
   },
   "file_extension": ".py",
   "mimetype": "text/x-python",
   "name": "python",
   "nbconvert_exporter": "python",
   "pygments_lexer": "ipython3",
   "version": "3.8.8"
  }
 },
 "nbformat": 4,
 "nbformat_minor": 5
}
