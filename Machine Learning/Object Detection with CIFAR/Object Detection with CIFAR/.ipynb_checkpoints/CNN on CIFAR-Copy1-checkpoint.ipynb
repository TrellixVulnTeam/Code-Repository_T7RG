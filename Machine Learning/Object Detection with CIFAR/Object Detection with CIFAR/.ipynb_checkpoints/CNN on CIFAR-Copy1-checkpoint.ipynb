{
 "cells": [
  {
   "cell_type": "markdown",
   "id": "fadd3ee6-fb6f-4e31-8310-b8dab8c68e45",
   "metadata": {
    "id": "fadd3ee6-fb6f-4e31-8310-b8dab8c68e45",
    "tags": []
   },
   "source": [
    "## Define a class to handle all functions"
   ]
  },
  {
   "cell_type": "code",
   "execution_count": 104,
   "id": "417f4ce1-7442-4338-bb66-056814b8ff59",
   "metadata": {
    "executionInfo": {
     "elapsed": 538,
     "status": "ok",
     "timestamp": 1638771757583,
     "user": {
      "displayName": "Sandheep Gopinath",
      "photoUrl": "https://lh3.googleusercontent.com/a/default-user=s64",
      "userId": "02827239143581550958"
     },
     "user_tz": -330
    },
    "id": "417f4ce1-7442-4338-bb66-056814b8ff59"
   },
   "outputs": [],
   "source": [
    "class cifar():\n",
    "    def __init__(self,filepath):\n",
    "        \"\"\" This initialises the filepath to the directory where the files are present \"\"\"\n",
    "        self.filepath=filepath\n",
    "        self.batch1=None\n",
    "        self.batch2=None\n",
    "        self.map=dict()\n",
    "        self.map_labels()\n",
    "        self.n_labels=len(self.map)\n",
    "        self.model=None\n",
    "\n",
    "    def load_best_model(self):\n",
    "      \"\"\" The function will load the model from the folder thus making it easier to do predictions and testing\n",
    "      \"\"\"\n",
    "      import pickle\n",
    "      self.model=pickle.load(open('cnnModel81.sav','rb'))\n",
    "      \n",
    "    def test_prediction(self,array):\n",
    "      \"\"\" The function takes as input an image, does the prediction \n",
    "      and the prints the image along with the predicted label thus helping to make testing easier\n",
    "\n",
    "      If the model has to be changed to a custom model, do\n",
    "      cf.model=<newmodel>\n",
    "      to restore the best model do\n",
    "      cf.load_best_model()\n",
    "      \"\"\"\n",
    "      self.plot(array,cf.label_decode(np.argmax(self.model.predict(array.reshape(1,32,32,3)))))\n",
    "\n",
    "      \n",
    "    def map_labels(self):\n",
    "        \"\"\" The function reads the batches.meta file and converts the lists and labels to a dictionary for \n",
    "        easy access later \"\"\"\n",
    "        content=self.unpickle('batches.meta')\n",
    "        content=content[b'label_names']\n",
    "        for i,number in enumerate(content):\n",
    "            self.map[i]=number.decode('utf-8')\n",
    "            \n",
    "    def label_decode(self,id):\n",
    "        \"\"\" Returns the Label name of the ID which is being passed into the function\"\"\"\n",
    "        return self.map[id]\n",
    "        \n",
    "    def unpickle(self,filename):\n",
    "        \"\"\" The function takes a filename and returns the dictionary of data inside the file. \n",
    "            The data is pickled and stored in the files and hence this function helps to unpack\n",
    "            the data. \n",
    "\n",
    "            Usage : data=unpickle('batches.meta')\n",
    "            Return : Dictionary of data\n",
    "            Data inside the dictionary can be explored using data.keys and other dictionary functions \"\"\"\n",
    "\n",
    "        filepath=self.filepath+filename\n",
    "        import pickle\n",
    "        with open(filepath,'rb') as foo:\n",
    "            dict=pickle.load(foo,encoding='bytes')\n",
    "        return dict\n",
    "    \n",
    "    def convert_to_rgb(self,array):\n",
    "        \"\"\" The function takes a flattened array as input and converts it into a RGB Image.\n",
    "        It normalises the image by didving by 255 and then stacks it depth wise to get an RGB Image. \"\"\"\n",
    "    \n",
    "        import numpy as np\n",
    "        r=array[0:1024].reshape(32,32)/255\n",
    "        g=array[1024:2048].reshape(32,32)/255\n",
    "        b=array[2048:].reshape(32,32)/255\n",
    "        im=np.dstack((r,g,b))\n",
    "        return im\n",
    "\n",
    "    \n",
    "    def read_batch_data(self,id):\n",
    "        \"\"\" Function takes as input the number of the batch file to be read\n",
    "            It then reads the data and corresponding label of the data from the file\n",
    "            and then converts it into RGB images. \n",
    "            The function return the images and labels which can later be used for training \n",
    "            or validation. \n",
    "            \"\"\"\n",
    "        import numpy as np\n",
    "        filename='data_batch_'+str(id)\n",
    "        data=self.unpickle(filename)\n",
    "        y=data[b'labels']\n",
    "        x=data[b'data']\n",
    "        images=[]\n",
    "        for image in x:\n",
    "            images.append(self.convert_to_rgb(image))\n",
    "        return np.array(images),np.array(y)\n",
    "    \n",
    "    \n",
    "    def read_test_batch(self):\n",
    "        \"\"\" The function already has a set of testing data file. Calling this function would\n",
    "        read the corresponding testing file and would then convert the data into images and labels\n",
    "        in the same way as in the read-batch-data function. \n",
    "        The function then returns the images and its associated labels which are later used as test data \n",
    "        during the process\n",
    "        \"\"\"\n",
    "        import numpy as np\n",
    "        filename='test_batch'\n",
    "        data=self.unpickle(filename)\n",
    "        y=data[b'labels']\n",
    "        x=data[b'data']\n",
    "        images=[]\n",
    "        for image in x:\n",
    "            images.append(self.convert_to_rgb(image))\n",
    "        return np.array(images),np.array(y)\n",
    "    \n",
    "    def OHE(self,list_of_values):\n",
    "        \"\"\" Since the output columns are label encoded, invoking the OHE function \n",
    "        would convert the label encoded outputs to One Hot Encoded Outputs and returns the same\n",
    "        The function takes as input a list of the labels \n",
    "        \"\"\"\n",
    "        import numpy as np\n",
    "        result=np.zeros((len(list_of_values),self.n_labels))\n",
    "        for i in range(len(list_of_values)):\n",
    "            result[i][list_of_values[i]]=1\n",
    "        return result\n",
    "\n",
    "    def plot(self,array,label):\n",
    "      \"\"\" A helper function to plot an image \n",
    "      import matplotlib.pyplot as plt\n",
    "      print(label)\n",
    "      plt.imshow(array)"
   ]
  },
  {
   "cell_type": "code",
   "execution_count": 37,
   "id": "14BeWeI5EmVm",
   "metadata": {
    "colab": {
     "base_uri": "https://localhost:8080/"
    },
    "executionInfo": {
     "elapsed": 28,
     "status": "ok",
     "timestamp": 1638769942012,
     "user": {
      "displayName": "Sandheep Gopinath",
      "photoUrl": "https://lh3.googleusercontent.com/a/default-user=s64",
      "userId": "02827239143581550958"
     },
     "user_tz": -330
    },
    "id": "14BeWeI5EmVm",
    "outputId": "833c757c-01e6-4f0e-8549-ca6c739d2996"
   },
   "outputs": [
    {
     "name": "stdout",
     "output_type": "stream",
     "text": [
      "Drive already mounted at /gdrive; to attempt to forcibly remount, call drive.mount(\"/gdrive\", force_remount=True).\n",
      "/gdrive\n"
     ]
    }
   ],
   "source": [
    "from google.colab import drive\n",
    "drive.mount('/gdrive')\n",
    "%cd /gdrive"
   ]
  },
  {
   "cell_type": "code",
   "execution_count": 38,
   "id": "45F--yjRE0IM",
   "metadata": {
    "colab": {
     "base_uri": "https://localhost:8080/"
    },
    "executionInfo": {
     "elapsed": 15,
     "status": "ok",
     "timestamp": 1638769942014,
     "user": {
      "displayName": "Sandheep Gopinath",
      "photoUrl": "https://lh3.googleusercontent.com/a/default-user=s64",
      "userId": "02827239143581550958"
     },
     "user_tz": -330
    },
    "id": "45F--yjRE0IM",
    "outputId": "c3c9adcb-5659-4896-9839-d1b815fe55a9"
   },
   "outputs": [
    {
     "name": "stdout",
     "output_type": "stream",
     "text": [
      "/gdrive/MyDrive/Colab Notebooks/Object Detection with CIFAR\n"
     ]
    }
   ],
   "source": [
    "cd '/gdrive/MyDrive/Colab Notebooks/Object Detection with CIFAR'\n"
   ]
  },
  {
   "cell_type": "code",
   "execution_count": 105,
   "id": "b4f8d36c-e358-4537-b44b-9f2c8dc269e8",
   "metadata": {
    "executionInfo": {
     "elapsed": 416,
     "status": "ok",
     "timestamp": 1638771761725,
     "user": {
      "displayName": "Sandheep Gopinath",
      "photoUrl": "https://lh3.googleusercontent.com/a/default-user=s64",
      "userId": "02827239143581550958"
     },
     "user_tz": -330
    },
    "id": "b4f8d36c-e358-4537-b44b-9f2c8dc269e8"
   },
   "outputs": [],
   "source": [
    "# Creating an object of the class\n",
    "\n",
    "cf=cifar('cifar-10-batches-py/') # The location of data directory is given"
   ]
  },
  {
   "cell_type": "markdown",
   "id": "c81a0d3e-a399-44f8-85f3-62c7eeef7253",
   "metadata": {
    "id": "c81a0d3e-a399-44f8-85f3-62c7eeef7253"
   },
   "source": [
    "## Understanding the data"
   ]
  },
  {
   "cell_type": "code",
   "execution_count": 9,
   "id": "f4449282-32d2-4eb1-aee0-d31471598ea8",
   "metadata": {
    "colab": {
     "base_uri": "https://localhost:8080/"
    },
    "executionInfo": {
     "elapsed": 6,
     "status": "ok",
     "timestamp": 1638759865826,
     "user": {
      "displayName": "Sandheep Gopinath",
      "photoUrl": "https://lh3.googleusercontent.com/a/default-user=s64",
      "userId": "02827239143581550958"
     },
     "user_tz": -330
    },
    "id": "f4449282-32d2-4eb1-aee0-d31471598ea8",
    "outputId": "1ed42d7b-8bc8-48f1-98ce-19b9bb770fc9"
   },
   "outputs": [
    {
     "data": {
      "text/plain": [
       "{0: 'airplane',\n",
       " 1: 'automobile',\n",
       " 2: 'bird',\n",
       " 3: 'cat',\n",
       " 4: 'deer',\n",
       " 5: 'dog',\n",
       " 6: 'frog',\n",
       " 7: 'horse',\n",
       " 8: 'ship',\n",
       " 9: 'truck'}"
      ]
     },
     "execution_count": 9,
     "metadata": {},
     "output_type": "execute_result"
    }
   ],
   "source": [
    "# Understanding the way classes have been labelled\n",
    "cf.map"
   ]
  },
  {
   "cell_type": "markdown",
   "id": "c9380756-c0ab-4405-9f3b-6201378c6053",
   "metadata": {
    "id": "c9380756-c0ab-4405-9f3b-6201378c6053"
   },
   "source": [
    "### Read the batch data"
   ]
  },
  {
   "cell_type": "code",
   "execution_count": 10,
   "id": "1df29bdd-e625-4fcb-b919-ec3a36712350",
   "metadata": {
    "executionInfo": {
     "elapsed": 8473,
     "status": "ok",
     "timestamp": 1638759875981,
     "user": {
      "displayName": "Sandheep Gopinath",
      "photoUrl": "https://lh3.googleusercontent.com/a/default-user=s64",
      "userId": "02827239143581550958"
     },
     "user_tz": -330
    },
    "id": "1df29bdd-e625-4fcb-b919-ec3a36712350"
   },
   "outputs": [],
   "source": [
    "# Call the class function to read the file and to convert it into images and labels\n",
    "x_train1,y_train1=cf.read_batch_data(1)\n",
    "x_train2,y_train2=cf.read_batch_data(2)\n",
    "x_train3,y_train3=cf.read_batch_data(3)\n",
    "x_train4,y_train4=cf.read_batch_data(4)\n",
    "x_train5,y_train5=cf.read_batch_data(5)"
   ]
  },
  {
   "cell_type": "markdown",
   "id": "7f4ae657-b939-412d-899b-dfc975330b04",
   "metadata": {
    "id": "7f4ae657-b939-412d-899b-dfc975330b04"
   },
   "source": [
    "## Print images and verify from each batch"
   ]
  },
  {
   "cell_type": "code",
   "execution_count": 11,
   "id": "6c7b2024-7578-4619-93be-d5b49a8afc4f",
   "metadata": {
    "colab": {
     "base_uri": "https://localhost:8080/",
     "height": 273
    },
    "executionInfo": {
     "elapsed": 24,
     "status": "ok",
     "timestamp": 1638759875984,
     "user": {
      "displayName": "Sandheep Gopinath",
      "photoUrl": "https://lh3.googleusercontent.com/a/default-user=s64",
      "userId": "02827239143581550958"
     },
     "user_tz": -330
    },
    "id": "6c7b2024-7578-4619-93be-d5b49a8afc4f",
    "outputId": "473afd39-73f3-407e-ef48-729f8c2e0a8c"
   },
   "outputs": [
    {
     "data": {
      "text/plain": [
       "<matplotlib.image.AxesImage at 0x7f1a669e49d0>"
      ]
     },
     "execution_count": 11,
     "metadata": {},
     "output_type": "execute_result"
    },
    {
     "data": {
      "image/png": "[encoded data removed]",
      "text/plain": [
       "<Figure size 1440x360 with 5 Axes>"
      ]
     },
     "metadata": {
      "needs_background": "light"
     },
     "output_type": "display_data"
    }
   ],
   "source": [
    "import matplotlib.pyplot as plt\n",
    "plt.figure(figsize=(20,5))\n",
    "\n",
    "#Printing image from batch 1\n",
    "plt.subplot(1,5,1)\n",
    "plt.title(cf.label_decode(y_train1[0]))\n",
    "plt.imshow(x_train1[0])\n",
    "\n",
    "# Printing image from batch 2\n",
    "plt.subplot(1,5,2)\n",
    "plt.title(cf.label_decode(y_train2[0]))\n",
    "plt.imshow(x_train2[0])\n",
    "\n",
    "#Printing image from batch 3\n",
    "plt.subplot(1,5,3)\n",
    "plt.title(cf.label_decode(y_train3[0]))\n",
    "plt.imshow(x_train3[0])\n",
    "\n",
    "#Printing image from batch 4\n",
    "plt.subplot(1,5,4)\n",
    "plt.title(cf.label_decode(y_train4[0]))\n",
    "plt.imshow(x_train4[0])\n",
    "\n",
    "#Printing image from batch 5\n",
    "plt.subplot(1,5,5)\n",
    "plt.title(cf.label_decode(y_train5[0]))\n",
    "plt.imshow(x_train5[0])"
   ]
  },
  {
   "cell_type": "markdown",
   "id": "3fa61fca-e26d-41c2-986c-8c0b2f842396",
   "metadata": {
    "id": "3fa61fca-e26d-41c2-986c-8c0b2f842396"
   },
   "source": [
    "## Reading the test batch of images"
   ]
  },
  {
   "cell_type": "code",
   "execution_count": 12,
   "id": "d68acd1c-6247-4bd4-85e1-b17ba4e124a1",
   "metadata": {
    "executionInfo": {
     "elapsed": 1239,
     "status": "ok",
     "timestamp": 1638759877211,
     "user": {
      "displayName": "Sandheep Gopinath",
      "photoUrl": "https://lh3.googleusercontent.com/a/default-user=s64",
      "userId": "02827239143581550958"
     },
     "user_tz": -330
    },
    "id": "d68acd1c-6247-4bd4-85e1-b17ba4e124a1"
   },
   "outputs": [],
   "source": [
    "x_test,y_test=cf.read_test_batch()"
   ]
  },
  {
   "cell_type": "markdown",
   "id": "129b7eb9-1802-4719-be9e-6a495d718161",
   "metadata": {
    "id": "129b7eb9-1802-4719-be9e-6a495d718161"
   },
   "source": [
    "## Creating a training, Validation and testing data"
   ]
  },
  {
   "cell_type": "code",
   "execution_count": 13,
   "id": "417f7bbc-2039-48e2-b00b-f0f77f26d3b7",
   "metadata": {
    "executionInfo": {
     "elapsed": 720,
     "status": "ok",
     "timestamp": 1638759877927,
     "user": {
      "displayName": "Sandheep Gopinath",
      "photoUrl": "https://lh3.googleusercontent.com/a/default-user=s64",
      "userId": "02827239143581550958"
     },
     "user_tz": -330
    },
    "id": "417f7bbc-2039-48e2-b00b-f0f77f26d3b7"
   },
   "outputs": [],
   "source": [
    "import numpy as np\n",
    "x_train=np.vstack((x_train1,x_train2,x_train3,x_train4))\n",
    "y_train=np.hstack((y_train1,y_train2,y_train3,y_train4))\n",
    "\n",
    "x_val=x_train5\n",
    "y_val=y_train5\n",
    "\n"
   ]
  },
  {
   "cell_type": "markdown",
   "id": "d7b6cc6f-0dbf-4c1d-aa8e-6607008186cc",
   "metadata": {
    "id": "d7b6cc6f-0dbf-4c1d-aa8e-6607008186cc",
    "tags": []
   },
   "source": [
    "## One Hot Encoding the output"
   ]
  },
  {
   "cell_type": "code",
   "execution_count": 14,
   "id": "f993c16c-f5de-4951-8881-5b1d8da065b3",
   "metadata": {
    "executionInfo": {
     "elapsed": 11,
     "status": "ok",
     "timestamp": 1638759877928,
     "user": {
      "displayName": "Sandheep Gopinath",
      "photoUrl": "https://lh3.googleusercontent.com/a/default-user=s64",
      "userId": "02827239143581550958"
     },
     "user_tz": -330
    },
    "id": "f993c16c-f5de-4951-8881-5b1d8da065b3"
   },
   "outputs": [],
   "source": [
    "y_test=cf.OHE(y_test)\n",
    "y_val=cf.OHE(y_val)\n",
    "y_train=cf.OHE(y_train)"
   ]
  },
  {
   "cell_type": "code",
   "execution_count": 15,
   "id": "DtdmIsL5s0no",
   "metadata": {
    "executionInfo": {
     "elapsed": 443,
     "status": "ok",
     "timestamp": 1638759889680,
     "user": {
      "displayName": "Sandheep Gopinath",
      "photoUrl": "https://lh3.googleusercontent.com/a/default-user=s64",
      "userId": "02827239143581550958"
     },
     "user_tz": -330
    },
    "id": "DtdmIsL5s0no"
   },
   "outputs": [],
   "source": [
    "\n",
    "# Loading the model which was pre designed\n"
   ]
  },
  {
   "cell_type": "markdown",
   "id": "xICHnpIWtCUP",
   "metadata": {
    "id": "xICHnpIWtCUP"
   },
   "source": [
    "## Loading the model\n"
   ]
  },
  {
   "cell_type": "code",
   "execution_count": 18,
   "id": "cY_l-ipFtFeO",
   "metadata": {
    "executionInfo": {
     "elapsed": 7461,
     "status": "ok",
     "timestamp": 1638759973433,
     "user": {
      "displayName": "Sandheep Gopinath",
      "photoUrl": "https://lh3.googleusercontent.com/a/default-user=s64",
      "userId": "02827239143581550958"
     },
     "user_tz": -330
    },
    "id": "cY_l-ipFtFeO"
   },
   "outputs": [],
   "source": [
    "import pickle\n",
    "loaded_model = pickle.load(open('model.sav', 'rb'))"
   ]
  },
  {
   "cell_type": "code",
   "execution_count": 19,
   "id": "r-GbMP9-s3bs",
   "metadata": {
    "colab": {
     "base_uri": "https://localhost:8080/"
    },
    "executionInfo": {
     "elapsed": 42268,
     "status": "ok",
     "timestamp": 1638760036490,
     "user": {
      "displayName": "Sandheep Gopinath",
      "photoUrl": "https://lh3.googleusercontent.com/a/default-user=s64",
      "userId": "02827239143581550958"
     },
     "user_tz": -330
    },
    "id": "r-GbMP9-s3bs",
    "outputId": "ce470ea5-b823-4ed7-f0f4-de42bee3561c"
   },
   "outputs": [
    {
     "name": "stdout",
     "output_type": "stream",
     "text": [
      "313/313 [==============================] - 33s 103ms/step - loss: 0.8482 - accuracy: 0.7437\n"
     ]
    },
    {
     "data": {
      "text/plain": [
       "[0.8481630086898804, 0.7437000274658203]"
      ]
     },
     "execution_count": 19,
     "metadata": {},
     "output_type": "execute_result"
    }
   ],
   "source": [
    "loaded_model.evaluate(x_test,y_test)"
   ]
  },
  {
   "cell_type": "markdown",
   "id": "8495b63e-0b11-4a73-9b31-8f674bc4fb4b",
   "metadata": {
    "id": "8495b63e-0b11-4a73-9b31-8f674bc4fb4b",
    "tags": []
   },
   "source": [
    "## Designing a neural network"
   ]
  },
  {
   "cell_type": "code",
   "execution_count": 20,
   "id": "d86ee7b6-0b3b-4761-a744-096a800a4bed",
   "metadata": {
    "executionInfo": {
     "elapsed": 423,
     "status": "ok",
     "timestamp": 1638760052559,
     "user": {
      "displayName": "Sandheep Gopinath",
      "photoUrl": "https://lh3.googleusercontent.com/a/default-user=s64",
      "userId": "02827239143581550958"
     },
     "user_tz": -330
    },
    "id": "d86ee7b6-0b3b-4761-a744-096a800a4bed"
   },
   "outputs": [],
   "source": [
    "from keras import Sequential\n",
    "from tensorflow.keras.layers import Conv2D,MaxPooling2D,Flatten,Dense,BatchNormalization,Dropout\n",
    "model=Sequential()\n",
    "\n",
    "model.add(Conv2D(filters=32,kernel_size=(3,3),padding='same',input_shape=(32,32,3),activation='relu'))\n",
    "model.add(Conv2D(filters=64,kernel_size=(3,3),padding='same',activation='relu'))\n",
    "model.add(MaxPooling2D(2,2))\n",
    "model.add(Conv2D(filters=128,kernel_size=(3,3),padding='same',activation='relu'))\n",
    "model.add(MaxPooling2D(2,2))\n",
    "model.add(Conv2D(filters=256,kernel_size=(3,3),padding='same',activation='relu'))\n",
    "model.add(MaxPooling2D(2,2))\n",
    "model.add(Conv2D(filters=512,kernel_size=(3,3),padding='same',activation='relu'))\n",
    "model.add(MaxPooling2D(2,2))\n",
    "model.add(Flatten())\n",
    "model.add(Dense(1024,activation='relu'))\n",
    "model.add(Dense(256,activation='relu'))\n",
    "model.add(Dense(128,activation='relu'))\n",
    "model.add(Dense(32,activation='relu'))\n",
    "model.add(Dense(10,activation='softmax'))"
   ]
  },
  {
   "cell_type": "code",
   "execution_count": 21,
   "id": "0a1a62d4-16c0-4cdc-83ec-f54f4687afe0",
   "metadata": {
    "colab": {
     "base_uri": "https://localhost:8080/"
    },
    "executionInfo": {
     "elapsed": 10,
     "status": "ok",
     "timestamp": 1638760054152,
     "user": {
      "displayName": "Sandheep Gopinath",
      "photoUrl": "https://lh3.googleusercontent.com/a/default-user=s64",
      "userId": "02827239143581550958"
     },
     "user_tz": -330
    },
    "id": "0a1a62d4-16c0-4cdc-83ec-f54f4687afe0",
    "outputId": "ee15e642-bd72-4d9b-feff-8e8bc387723a"
   },
   "outputs": [
    {
     "name": "stdout",
     "output_type": "stream",
     "text": [
      "Model: \"sequential\"\n",
      "_________________________________________________________________\n",
      " Layer (type)                Output Shape              Param #   \n",
      "=================================================================\n",
      " conv2d (Conv2D)             (None, 32, 32, 32)        896       \n",
      "                                                                 \n",
      " conv2d_1 (Conv2D)           (None, 32, 32, 64)        18496     \n",
      "                                                                 \n",
      " max_pooling2d (MaxPooling2D  (None, 16, 16, 64)       0         \n",
      " )                                                               \n",
      "                                                                 \n",
      " conv2d_2 (Conv2D)           (None, 16, 16, 128)       73856     \n",
      "                                                                 \n",
      " max_pooling2d_1 (MaxPooling  (None, 8, 8, 128)        0         \n",
      " 2D)                                                             \n",
      "                                                                 \n",
      " conv2d_3 (Conv2D)           (None, 8, 8, 256)         295168    \n",
      "                                                                 \n",
      " max_pooling2d_2 (MaxPooling  (None, 4, 4, 256)        0         \n",
      " 2D)                                                             \n",
      "                                                                 \n",
      " conv2d_4 (Conv2D)           (None, 4, 4, 512)         1180160   \n",
      "                                                                 \n",
      " max_pooling2d_3 (MaxPooling  (None, 2, 2, 512)        0         \n",
      " 2D)                                                             \n",
      "                                                                 \n",
      " flatten (Flatten)           (None, 2048)              0         \n",
      "                                                                 \n",
      " dense (Dense)               (None, 1024)              2098176   \n",
      "                                                                 \n",
      " dense_1 (Dense)             (None, 256)               262400    \n",
      "                                                                 \n",
      " dense_2 (Dense)             (None, 128)               32896     \n",
      "                                                                 \n",
      " dense_3 (Dense)             (None, 32)                4128      \n",
      "                                                                 \n",
      " dense_4 (Dense)             (None, 10)                330       \n",
      "                                                                 \n",
      "=================================================================\n",
      "Total params: 3,966,506\n",
      "Trainable params: 3,966,506\n",
      "Non-trainable params: 0\n",
      "_________________________________________________________________\n"
     ]
    }
   ],
   "source": [
    "model.summary()"
   ]
  },
  {
   "cell_type": "code",
   "execution_count": 22,
   "id": "7127a338-fdfe-4815-85ae-72b18d8a13b3",
   "metadata": {
    "executionInfo": {
     "elapsed": 6,
     "status": "ok",
     "timestamp": 1638738181574,
     "user": {
      "displayName": "Sandheep Gopinath",
      "photoUrl": "https://lh3.googleusercontent.com/a/default-user=s64",
      "userId": "02827239143581550958"
     },
     "user_tz": -330
    },
    "id": "7127a338-fdfe-4815-85ae-72b18d8a13b3"
   },
   "outputs": [],
   "source": [
    "model.compile(optimizer='adam',loss='categorical_crossentropy',metrics=['accuracy'])"
   ]
  },
  {
   "cell_type": "code",
   "execution_count": 23,
   "id": "58f6930a-1b45-4b95-8a37-ed71f74da271",
   "metadata": {
    "colab": {
     "base_uri": "https://localhost:8080/"
    },
    "executionInfo": {
     "elapsed": 3433584,
     "status": "ok",
     "timestamp": 1638741615831,
     "user": {
      "displayName": "Sandheep Gopinath",
      "photoUrl": "https://lh3.googleusercontent.com/a/default-user=s64",
      "userId": "02827239143581550958"
     },
     "user_tz": -330
    },
    "id": "58f6930a-1b45-4b95-8a37-ed71f74da271",
    "outputId": "fb3a6bff-9e54-4b30-ae64-cbef7d1fcea1"
   },
   "outputs": [
    {
     "name": "stdout",
     "output_type": "stream",
     "text": [
      "Epoch 1/7\n",
      "200/200 [==============================] - 492s 2s/step - loss: 1.8147 - accuracy: 0.3170 - val_loss: 1.4675 - val_accuracy: 0.4535\n",
      "Epoch 2/7\n",
      "200/200 [==============================] - 490s 2s/step - loss: 1.2611 - accuracy: 0.5423 - val_loss: 1.0709 - val_accuracy: 0.6178\n",
      "Epoch 3/7\n",
      "200/200 [==============================] - 490s 2s/step - loss: 0.9597 - accuracy: 0.6579 - val_loss: 0.9379 - val_accuracy: 0.6743\n",
      "Epoch 4/7\n",
      "200/200 [==============================] - 491s 2s/step - loss: 0.7469 - accuracy: 0.7364 - val_loss: 0.7780 - val_accuracy: 0.7293\n",
      "Epoch 5/7\n",
      "200/200 [==============================] - 490s 2s/step - loss: 0.5845 - accuracy: 0.7957 - val_loss: 0.7078 - val_accuracy: 0.7593\n",
      "Epoch 6/7\n",
      "200/200 [==============================] - 490s 2s/step - loss: 0.4461 - accuracy: 0.8442 - val_loss: 0.7203 - val_accuracy: 0.7664\n",
      "Epoch 7/7\n",
      "200/200 [==============================] - 490s 2s/step - loss: 0.3372 - accuracy: 0.8811 - val_loss: 0.8189 - val_accuracy: 0.7527\n"
     ]
    },
    {
     "data": {
      "text/plain": [
       "<keras.callbacks.History at 0x7f1110a9f3d0>"
      ]
     },
     "execution_count": 23,
     "metadata": {},
     "output_type": "execute_result"
    }
   ],
   "source": [
    "model.fit(x_train,y_train,batch_size=200,epochs=10,validation_data=(x_val,y_val),verbose=1)"
   ]
  },
  {
   "cell_type": "code",
   "execution_count": 24,
   "id": "8fb6600a-534b-46f7-95e5-565b0ae56476",
   "metadata": {
    "colab": {
     "base_uri": "https://localhost:8080/"
    },
    "executionInfo": {
     "elapsed": 2139,
     "status": "ok",
     "timestamp": 1638741617965,
     "user": {
      "displayName": "Sandheep Gopinath",
      "photoUrl": "https://lh3.googleusercontent.com/a/default-user=s64",
      "userId": "02827239143581550958"
     },
     "user_tz": -330
    },
    "id": "8fb6600a-534b-46f7-95e5-565b0ae56476",
    "outputId": "64384316-a257-4797-99ac-304c5bd7b63f"
   },
   "outputs": [
    {
     "name": "stdout",
     "output_type": "stream",
     "text": [
      "INFO:tensorflow:Assets written to: ram://98cb39c6-fba9-4e34-aa0b-e679f08fd3b3/assets\n"
     ]
    }
   ],
   "source": [
    "import pickle\n",
    "pickle.dump(model, open('model.sav', 'wb'))"
   ]
  },
  {
   "cell_type": "markdown",
   "id": "EZYmD1eyMbli",
   "metadata": {
    "id": "EZYmD1eyMbli"
   },
   "source": [
    "#### The model has 75 % on data. However, on training for more than 20 epochs, it was seen that the training loss was decreasing, but the validation loss was increasing. Hence, inorder to avoid overfitting the number of epochs were reduced to 10. We can try to reduce overfitting by adding Dropput as it will avoid a few percentage of neurons during the process"
   ]
  },
  {
   "cell_type": "markdown",
   "id": "051bfb27-1105-4809-8cba-f12e9323f897",
   "metadata": {
    "id": "051bfb27-1105-4809-8cba-f12e9323f897"
   },
   "source": [
    "### Creating another model , same as above but with Dropout layers\n"
   ]
  },
  {
   "cell_type": "code",
   "execution_count": 23,
   "id": "97e60521-f3e0-4f3b-bee6-51dacc65d6f4",
   "metadata": {
    "executionInfo": {
     "elapsed": 418,
     "status": "ok",
     "timestamp": 1638760354361,
     "user": {
      "displayName": "Sandheep Gopinath",
      "photoUrl": "https://lh3.googleusercontent.com/a/default-user=s64",
      "userId": "02827239143581550958"
     },
     "user_tz": -330
    },
    "id": "97e60521-f3e0-4f3b-bee6-51dacc65d6f4"
   },
   "outputs": [],
   "source": [
    "from keras import Sequential\n",
    "from tensorflow.keras.layers import Conv2D,MaxPooling2D,Flatten,Dense,BatchNormalization,Dropout\n",
    "model=Sequential()\n",
    "\n",
    "model.add(Conv2D(filters=32,kernel_size=(3,3),padding='same',input_shape=(32,32,3),activation='relu'))\n",
    "model.add(Conv2D(filters=64,kernel_size=(3,3),padding='same',activation='relu'))\n",
    "model.add(MaxPooling2D(2,2))\n",
    "model.add(Dropout(0.4))\n",
    "model.add(Conv2D(filters=128,kernel_size=(3,3),padding='same',activation='relu'))\n",
    "model.add(MaxPooling2D(2,2))\n",
    "model.add(Dropout(0.3))\n",
    "model.add(Conv2D(filters=256,kernel_size=(3,3),padding='same',activation='relu'))\n",
    "model.add(MaxPooling2D(2,2))\n",
    "model.add(Conv2D(filters=512,kernel_size=(3,3),padding='same',activation='relu'))\n",
    "model.add(MaxPooling2D(2,2))\n",
    "model.add(Dropout(0.2))\n",
    "model.add(Flatten())\n",
    "model.add(Dense(1024,activation='relu'))\n",
    "model.add(Dense(256,activation='relu'))\n",
    "model.add(Dense(128,activation='relu'))\n",
    "model.add(Dense(32,activation='relu'))\n",
    "model.add(Dense(10,activation='softmax'))"
   ]
  },
  {
   "cell_type": "code",
   "execution_count": 24,
   "id": "1fe6f4d8-de81-4adc-bf0a-d79c5f05e058",
   "metadata": {
    "colab": {
     "base_uri": "https://localhost:8080/"
    },
    "executionInfo": {
     "elapsed": 15,
     "status": "ok",
     "timestamp": 1638760356201,
     "user": {
      "displayName": "Sandheep Gopinath",
      "photoUrl": "https://lh3.googleusercontent.com/a/default-user=s64",
      "userId": "02827239143581550958"
     },
     "user_tz": -330
    },
    "id": "1fe6f4d8-de81-4adc-bf0a-d79c5f05e058",
    "outputId": "94da9fa4-e53d-4d24-a1e1-6bee35c95520"
   },
   "outputs": [
    {
     "name": "stdout",
     "output_type": "stream",
     "text": [
      "Model: \"sequential_2\"\n",
      "_________________________________________________________________\n",
      " Layer (type)                Output Shape              Param #   \n",
      "=================================================================\n",
      " conv2d_7 (Conv2D)           (None, 32, 32, 32)        896       \n",
      "                                                                 \n",
      " conv2d_8 (Conv2D)           (None, 32, 32, 64)        18496     \n",
      "                                                                 \n",
      " max_pooling2d_5 (MaxPooling  (None, 16, 16, 64)       0         \n",
      " 2D)                                                             \n",
      "                                                                 \n",
      " dropout (Dropout)           (None, 16, 16, 64)        0         \n",
      "                                                                 \n",
      " conv2d_9 (Conv2D)           (None, 16, 16, 128)       73856     \n",
      "                                                                 \n",
      " max_pooling2d_6 (MaxPooling  (None, 8, 8, 128)        0         \n",
      " 2D)                                                             \n",
      "                                                                 \n",
      " dropout_1 (Dropout)         (None, 8, 8, 128)         0         \n",
      "                                                                 \n",
      " conv2d_10 (Conv2D)          (None, 8, 8, 256)         295168    \n",
      "                                                                 \n",
      " max_pooling2d_7 (MaxPooling  (None, 4, 4, 256)        0         \n",
      " 2D)                                                             \n",
      "                                                                 \n",
      " conv2d_11 (Conv2D)          (None, 4, 4, 512)         1180160   \n",
      "                                                                 \n",
      " max_pooling2d_8 (MaxPooling  (None, 2, 2, 512)        0         \n",
      " 2D)                                                             \n",
      "                                                                 \n",
      " dropout_2 (Dropout)         (None, 2, 2, 512)         0         \n",
      "                                                                 \n",
      " flatten_1 (Flatten)         (None, 2048)              0         \n",
      "                                                                 \n",
      " dense_5 (Dense)             (None, 1024)              2098176   \n",
      "                                                                 \n",
      " dense_6 (Dense)             (None, 256)               262400    \n",
      "                                                                 \n",
      " dense_7 (Dense)             (None, 128)               32896     \n",
      "                                                                 \n",
      " dense_8 (Dense)             (None, 32)                4128      \n",
      "                                                                 \n",
      " dense_9 (Dense)             (None, 10)                330       \n",
      "                                                                 \n",
      "=================================================================\n",
      "Total params: 3,966,506\n",
      "Trainable params: 3,966,506\n",
      "Non-trainable params: 0\n",
      "_________________________________________________________________\n"
     ]
    }
   ],
   "source": [
    "model.summary()"
   ]
  },
  {
   "cell_type": "code",
   "execution_count": 26,
   "id": "2734e5c5-d9e8-45ee-b145-d171aeaa7ca1",
   "metadata": {
    "colab": {
     "base_uri": "https://localhost:8080/"
    },
    "executionInfo": {
     "elapsed": 1781799,
     "status": "ok",
     "timestamp": 1638766606247,
     "user": {
      "displayName": "Sandheep Gopinath",
      "photoUrl": "https://lh3.googleusercontent.com/a/default-user=s64",
      "userId": "02827239143581550958"
     },
     "user_tz": -330
    },
    "id": "2734e5c5-d9e8-45ee-b145-d171aeaa7ca1",
    "outputId": "93905bf2-3e4b-4bea-af7c-7032c8353f2d"
   },
   "outputs": [
    {
     "name": "stdout",
     "output_type": "stream",
     "text": [
      "Epoch 1/20\n",
      "800/800 [==============================] - 311s 388ms/step - loss: 1.6707 - accuracy: 0.3834 - val_loss: 1.3837 - val_accuracy: 0.4981\n",
      "Epoch 2/20\n",
      "800/800 [==============================] - 307s 384ms/step - loss: 1.2032 - accuracy: 0.5706 - val_loss: 0.9606 - val_accuracy: 0.6538\n",
      "Epoch 3/20\n",
      "800/800 [==============================] - 307s 384ms/step - loss: 0.9874 - accuracy: 0.6521 - val_loss: 0.9107 - val_accuracy: 0.6762\n",
      "Epoch 4/20\n",
      "800/800 [==============================] - 307s 384ms/step - loss: 0.8684 - accuracy: 0.6958 - val_loss: 0.7493 - val_accuracy: 0.7364\n",
      "Epoch 5/20\n",
      "800/800 [==============================] - 307s 384ms/step - loss: 0.7812 - accuracy: 0.7312 - val_loss: 0.7172 - val_accuracy: 0.7527\n",
      "Epoch 6/20\n",
      "800/800 [==============================] - 308s 385ms/step - loss: 0.7169 - accuracy: 0.7503 - val_loss: 0.6876 - val_accuracy: 0.7644\n",
      "Epoch 7/20\n",
      "800/800 [==============================] - 307s 384ms/step - loss: 0.6649 - accuracy: 0.7660 - val_loss: 0.6687 - val_accuracy: 0.7718\n",
      "Epoch 8/20\n",
      "800/800 [==============================] - 306s 383ms/step - loss: 0.6218 - accuracy: 0.7835 - val_loss: 0.6621 - val_accuracy: 0.7752\n",
      "Epoch 9/20\n",
      "800/800 [==============================] - 307s 384ms/step - loss: 0.5826 - accuracy: 0.7958 - val_loss: 0.6244 - val_accuracy: 0.7854\n",
      "Epoch 10/20\n",
      "800/800 [==============================] - 308s 385ms/step - loss: 0.5526 - accuracy: 0.8047 - val_loss: 0.6435 - val_accuracy: 0.7867\n",
      "Epoch 11/20\n",
      "800/800 [==============================] - 306s 383ms/step - loss: 0.5223 - accuracy: 0.8147 - val_loss: 0.6036 - val_accuracy: 0.8005\n",
      "Epoch 12/20\n",
      "800/800 [==============================] - 306s 383ms/step - loss: 0.5016 - accuracy: 0.8253 - val_loss: 0.6389 - val_accuracy: 0.7905\n",
      "Epoch 13/20\n",
      "800/800 [==============================] - 306s 383ms/step - loss: 0.4789 - accuracy: 0.8321 - val_loss: 0.6128 - val_accuracy: 0.8018\n",
      "Epoch 14/20\n",
      "800/800 [==============================] - 305s 382ms/step - loss: 0.4608 - accuracy: 0.8380 - val_loss: 0.6164 - val_accuracy: 0.8045\n",
      "Epoch 15/20\n",
      "800/800 [==============================] - 305s 381ms/step - loss: 0.4466 - accuracy: 0.8415 - val_loss: 0.6331 - val_accuracy: 0.8030\n",
      "Epoch 16/20\n",
      "800/800 [==============================] - 305s 381ms/step - loss: 0.4364 - accuracy: 0.8439 - val_loss: 0.6110 - val_accuracy: 0.8066\n",
      "Epoch 17/20\n",
      "800/800 [==============================] - 307s 383ms/step - loss: 0.4148 - accuracy: 0.8532 - val_loss: 0.6074 - val_accuracy: 0.8120\n",
      "Epoch 18/20\n",
      "800/800 [==============================] - 307s 383ms/step - loss: 0.4070 - accuracy: 0.8563 - val_loss: 0.5929 - val_accuracy: 0.8144\n",
      "Epoch 19/20\n",
      "800/800 [==============================] - 305s 382ms/step - loss: 0.3916 - accuracy: 0.8626 - val_loss: 0.6401 - val_accuracy: 0.7984\n",
      "Epoch 20/20\n",
      "800/800 [==============================] - 305s 382ms/step - loss: 0.3788 - accuracy: 0.8664 - val_loss: 0.6184 - val_accuracy: 0.8113\n"
     ]
    },
    {
     "data": {
      "text/plain": [
       "<keras.callbacks.History at 0x7f19ebdeb5d0>"
      ]
     },
     "execution_count": 26,
     "metadata": {},
     "output_type": "execute_result"
    }
   ],
   "source": [
    "model.compile(optimizer='adam',loss='categorical_crossentropy',metrics=['accuracy'])\n",
    "model.fit(x_train,y_train,batch_size=50,epochs=20,validation_data=(x_val,y_val),verbose=1)"
   ]
  },
  {
   "cell_type": "code",
   "execution_count": 27,
   "id": "LQifAgsLKwDR",
   "metadata": {
    "colab": {
     "base_uri": "https://localhost:8080/"
    },
    "executionInfo": {
     "elapsed": 20291,
     "status": "ok",
     "timestamp": 1638767749715,
     "user": {
      "displayName": "Sandheep Gopinath",
      "photoUrl": "https://lh3.googleusercontent.com/a/default-user=s64",
      "userId": "02827239143581550958"
     },
     "user_tz": -330
    },
    "id": "LQifAgsLKwDR",
    "outputId": "e17f6edd-f32a-48e3-bf4b-8e8cfe8a3097"
   },
   "outputs": [
    {
     "name": "stdout",
     "output_type": "stream",
     "text": [
      "313/313 [==============================] - 19s 61ms/step - loss: 0.6527 - accuracy: 0.7988\n"
     ]
    },
    {
     "data": {
      "text/plain": [
       "[0.6526737213134766, 0.798799991607666]"
      ]
     },
     "execution_count": 27,
     "metadata": {},
     "output_type": "execute_result"
    }
   ],
   "source": [
    "model.evaluate(x_test,y_test)"
   ]
  },
  {
   "cell_type": "code",
   "execution_count": 33,
   "id": "lxgVDn5xK5HK",
   "metadata": {
    "colab": {
     "base_uri": "https://localhost:8080/"
    },
    "executionInfo": {
     "elapsed": 83199,
     "status": "ok",
     "timestamp": 1638768918978,
     "user": {
      "displayName": "Sandheep Gopinath",
      "photoUrl": "https://lh3.googleusercontent.com/a/default-user=s64",
      "userId": "02827239143581550958"
     },
     "user_tz": -330
    },
    "id": "lxgVDn5xK5HK",
    "outputId": "2c0e541c-1f13-4cc5-ff2f-0a743093c6c7"
   },
   "outputs": [
    {
     "name": "stdout",
     "output_type": "stream",
     "text": [
      "250/250 [==============================] - 15s 62ms/step - loss: 0.1733 - accuracy: 0.9436\n",
      "250/250 [==============================] - 15s 61ms/step - loss: 0.1837 - accuracy: 0.9430\n",
      "250/250 [==============================] - 15s 61ms/step - loss: 0.1861 - accuracy: 0.9413\n",
      "250/250 [==============================] - 15s 61ms/step - loss: 0.1774 - accuracy: 0.9417\n",
      "250/250 [==============================] - 15s 61ms/step - loss: 0.1837 - accuracy: 0.9401\n"
     ]
    }
   ],
   "source": [
    "from sklearn.model_selection import KFold\n",
    "\n",
    "kF=KFold(n_splits=5)\n",
    "for xtrain_index,test_index in kF.split(x_train):\n",
    "  model.evaluate(x_train[test_index],y_train[test_index])"
   ]
  },
  {
   "cell_type": "code",
   "execution_count": 35,
   "id": "hkp6GZ4-PSjb",
   "metadata": {
    "colab": {
     "base_uri": "https://localhost:8080/"
    },
    "executionInfo": {
     "elapsed": 3249,
     "status": "ok",
     "timestamp": 1638769159766,
     "user": {
      "displayName": "Sandheep Gopinath",
      "photoUrl": "https://lh3.googleusercontent.com/a/default-user=s64",
      "userId": "02827239143581550958"
     },
     "user_tz": -330
    },
    "id": "hkp6GZ4-PSjb",
    "outputId": "e0b53fe5-3787-49f0-9796-0ebea6ff64b5"
   },
   "outputs": [
    {
     "name": "stdout",
     "output_type": "stream",
     "text": [
      "INFO:tensorflow:Assets written to: ram://9f446629-a858-46c9-946d-b8857f1310db/assets\n"
     ]
    }
   ],
   "source": [
    "# Saving the model \n",
    "\n",
    "import pickle\n",
    "pickle.dump(model,open('cnnModel81.sav','wb'))"
   ]
  },
  {
   "cell_type": "markdown",
   "id": "7iOm7L18SRp3",
   "metadata": {
    "id": "7iOm7L18SRp3"
   },
   "source": [
    "## Testing the working of the model\n"
   ]
  },
  {
   "cell_type": "code",
   "execution_count": 108,
   "id": "nd-gZyEMSRm3",
   "metadata": {
    "colab": {
     "base_uri": "https://localhost:8080/",
     "height": 283
    },
    "executionInfo": {
     "elapsed": 503,
     "status": "ok",
     "timestamp": 1638771793335,
     "user": {
      "displayName": "Sandheep Gopinath",
      "photoUrl": "https://lh3.googleusercontent.com/a/default-user=s64",
      "userId": "02827239143581550958"
     },
     "user_tz": -330
    },
    "id": "nd-gZyEMSRm3",
    "outputId": "c2066401-1b04-4bb0-c1aa-d384bfc766f0"
   },
   "outputs": [
    {
     "name": "stdout",
     "output_type": "stream",
     "text": [
      "airplane\n"
     ]
    },
    {
     "data": {
      "image/png": "[encoded data removed]",
      "text/plain": [
       "<Figure size 432x288 with 1 Axes>"
      ]
     },
     "metadata": {
      "needs_background": "light"
     },
     "output_type": "display_data"
    }
   ],
   "source": [
    "cf.test_prediction(x_test[10])"
   ]
  },
  {
   "cell_type": "code",
   "execution_count": 109,
   "id": "FFZ-9Qf4TkNB",
   "metadata": {
    "colab": {
     "base_uri": "https://localhost:8080/",
     "height": 283
    },
    "executionInfo": {
     "elapsed": 458,
     "status": "ok",
     "timestamp": 1638771802992,
     "user": {
      "displayName": "Sandheep Gopinath",
      "photoUrl": "https://lh3.googleusercontent.com/a/default-user=s64",
      "userId": "02827239143581550958"
     },
     "user_tz": -330
    },
    "id": "FFZ-9Qf4TkNB",
    "outputId": "02cec2a2-9bf8-456f-e77e-e8336ffbed35"
   },
   "outputs": [
    {
     "name": "stdout",
     "output_type": "stream",
     "text": [
      "horse\n"
     ]
    },
    {
     "data": {
      "image/png": "[encoded data removed]",
      "text/plain": [
       "<Figure size 432x288 with 1 Axes>"
      ]
     },
     "metadata": {
      "needs_background": "light"
     },
     "output_type": "display_data"
    }
   ],
   "source": [
    "cf.test_prediction(x_test[20])"
   ]
  },
  {
   "cell_type": "markdown",
   "id": "I3ZTzkFzaT8N",
   "metadata": {
    "id": "I3ZTzkFzaT8N"
   },
   "source": [
    "## We can see that the model is predicting properly"
   ]
  },
  {
   "cell_type": "code",
   "execution_count": null,
   "id": "-7Vy5CzKaX-O",
   "metadata": {
    "id": "-7Vy5CzKaX-O"
   },
   "outputs": [],
   "source": []
  }
 ],
 "metadata": {
  "accelerator": "GPU",
  "colab": {
   "collapsed_sections": [],
   "name": "CNN on CIFAR.ipynb",
   "provenance": []
  },
  "kernelspec": {
   "display_name": "Python 3 (ipykernel)",
   "language": "python",
   "name": "python3"
  },
  "language_info": {
   "codemirror_mode": {
    "name": "ipython",
    "version": 3
   },
   "file_extension": ".py",
   "mimetype": "text/x-python",
   "name": "python",
   "nbconvert_exporter": "python",
   "pygments_lexer": "ipython3",
   "version": "3.8.8"
  }
 },
 "nbformat": 4,
 "nbformat_minor": 5
}
