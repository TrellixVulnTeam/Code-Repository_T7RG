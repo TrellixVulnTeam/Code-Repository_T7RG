{
 "cells": [
  {
   "cell_type": "markdown",
   "id": "c31647c9-2391-4651-a710-2cc53e228bb7",
   "metadata": {},
   "source": [
    "# Importing all libraries\n"
   ]
  },
  {
   "cell_type": "code",
   "execution_count": 95,
   "id": "4a3910ae-b884-46ba-b0af-13d57906baf6",
   "metadata": {},
   "outputs": [],
   "source": [
    "import math # For math functions\n",
    "from sympy import * # For derivation \n",
    "import matplotlib.pyplot as plt # For plotting\n",
    "import numpy as np # For arrays \n"
   ]
  },
  {
   "cell_type": "code",
   "execution_count": 1,
   "id": "8156e7ee-b9f7-49a9-9166-55a275896acb",
   "metadata": {},
   "outputs": [],
   "source": [
    "predicted=[0.2,0.2,0.2,0.2,0.2,0.2,0.2,0.2,0.2,0.2]\n",
    "actual=[0,1,0,0,1,0,0,1,1,1]"
   ]
  },
  {
   "cell_type": "code",
   "execution_count": 2,
   "id": "aba38f7b-3876-4031-9e20-d9cd2697bcef",
   "metadata": {},
   "outputs": [],
   "source": [
    "def classificationThreshold(thresh,predicted):\n",
    "    prediction=[]\n",
    "    for element in predicted:\n",
    "        if element>threshold:\n",
    "            prediction.append(1)\n",
    "        else:\n",
    "            prediction.append(0)\n",
    "    return prediction"
   ]
  },
  {
   "cell_type": "code",
   "execution_count": 3,
   "id": "271bb641-422f-4d8c-8698-10282eec4ed2",
   "metadata": {},
   "outputs": [],
   "source": [
    "def symmetricLossFunction(predicted,actual):\n",
    "    loss=0\n",
    "    if len(predicted)==len(actual):\n",
    "        for i in range(len(predicted)):\n",
    "            if predicted[i]!=actual[i]:\n",
    "                loss+=1\n",
    "    print(loss)"
   ]
  },
  {
   "cell_type": "code",
   "execution_count": 4,
   "id": "0e78456d-aa2f-40db-9ed8-eb43b10d1aaa",
   "metadata": {},
   "outputs": [],
   "source": [
    "def CrossEntropyLossFunction(predicted,actual):\n",
    "    import math\n",
    "    loss=0\n",
    "    temp=[]\n",
    "    if len(predicted)==len(actual):\n",
    "        for i in range(len(predicted)):\n",
    "            loss+=-((actual[i]*math.log(predicted[i]))+((1-actual[i])*math.log(1-predicted[i])))\n",
    "            temp.append(-((actual[i]*math.log(predicted[i]))+((1-actual[i])*math.log(1-predicted[i]))))\n",
    "        loss/=len(predicted)\n",
    "    return loss"
   ]
  },
  {
   "cell_type": "code",
   "execution_count": 6,
   "id": "85cf644a-6592-4906-909a-b7ce06f92ace",
   "metadata": {},
   "outputs": [],
   "source": [
    "l=CrossEntropyLossFunction(predicted,actual)"
   ]
  },
  {
   "cell_type": "code",
   "execution_count": 7,
   "id": "12da88f3-1319-4989-b5d1-e1f2a6b5d739",
   "metadata": {},
   "outputs": [
    {
     "data": {
      "text/plain": [
       "0.8047189562170501"
      ]
     },
     "execution_count": 7,
     "metadata": {},
     "output_type": "execute_result"
    }
   ],
   "source": [
    "l"
   ]
  },
  {
   "cell_type": "markdown",
   "id": "1f161a02-5dca-4b9e-9fb4-12cd66140c2f",
   "metadata": {},
   "source": [
    "# Question 2\n",
    "\n",
    "Consider the function f(x) = 1 + sin(x).\n",
    "> Use a first order Taylor’s expansion to approximate the function\n",
    "at 3π/4. Plot such an approximation of f(x) around 3π/4. (10\n",
    "points)\n",
    "\n",
    "\n",
    ">Use a second order Taylor’s expansion to approximate the function\n",
    "at 3π/4. Plot such an approximation of f(x) around 3π/4. (10\n",
    "points)\n",
    "\n",
    ">What would happen if you progressively include higher order terms?\n",
    "(10 points)"
   ]
  },
  {
   "cell_type": "markdown",
   "id": "6889305c-7569-4ff4-a950-276824dcdced",
   "metadata": {},
   "source": [
    "<b>Answer:</b>\n",
    "First Order Taylor Series:\n",
    "><i> f(x) + f'(x) (x-a)</i> \n",
    "\n",
    "where<i> f'(x)</i> is the first derivate and a=3π/4"
   ]
  },
  {
   "cell_type": "code",
   "execution_count": 90,
   "id": "84cddbcb-673f-4d1c-81dd-4c97033614e6",
   "metadata": {},
   "outputs": [],
   "source": [
    "# Function to calculate factorial for denominator\n",
    "def factorial(n):\n",
    "    result=1\n",
    "    for i in range(1,n+1):\n",
    "        result*=i\n",
    "    return result"
   ]
  },
  {
   "cell_type": "code",
   "execution_count": 157,
   "id": "b2b25400-fdcc-4971-8628-5d2ce6afdf15",
   "metadata": {},
   "outputs": [],
   "source": [
    "#Creating the taylor expansion\n",
    "from sympy import *\n",
    "\n",
    "def taylorSeries(func,number):\n",
    "    \"\"\" This function takes as input the input function and number of terms and returns the corresponding taylor series \n",
    "    \"\"\"\n",
    "    x,a=symbols('x,a')\n",
    "    numberOfTerms=number+1\n",
    "    f=func\n",
    "    power=0\n",
    "    denominator=1\n",
    "    taylor=0\n",
    "    for i in range(numberOfTerms):\n",
    "        power=i\n",
    "        denominator=factorial(i)\n",
    "        term=f*(pow(x-a,power))/denominator\n",
    "        f=Derivative(f,a).doit()\n",
    "        taylor+=term\n",
    "    return taylor\n"
   ]
  },
  {
   "cell_type": "markdown",
   "id": "a9940c49-bbea-417b-94b4-fc2975f7d65f",
   "metadata": {},
   "source": [
    "### Creating a plot for first order taylor series"
   ]
  },
  {
   "cell_type": "code",
   "execution_count": 163,
   "id": "89192498-f620-4262-a78a-c5564512ea64",
   "metadata": {},
   "outputs": [
    {
     "name": "stdout",
     "output_type": "stream",
     "text": [
      "The first order Taylor Function is :\n"
     ]
    },
    {
     "data": {
      "text/latex": [
       "$\\displaystyle \\left(- a + x\\right) \\cos{\\left(a \\right)} + \\sin{\\left(a \\right)} + 1$"
      ],
      "text/plain": [
       "(-a + x)*cos(a) + sin(a) + 1"
      ]
     },
     "execution_count": 163,
     "metadata": {},
     "output_type": "execute_result"
    }
   ],
   "source": [
    "# Finding the first order taylor series \n",
    "x,a=symbols('x a')\n",
    "order=1\n",
    "f=1+sin(a)\n",
    "function=taylorSeries(f,order)\n",
    "print('The first order Taylor Function is :')\n",
    "function"
   ]
  },
  {
   "cell_type": "code",
   "execution_count": 164,
   "id": "5c39a478-2253-4380-9417-957a99bb5dfa",
   "metadata": {},
   "outputs": [
    {
     "data": {
      "text/plain": [
       "[<matplotlib.lines.Line2D at 0x7f53ce46d490>]"
      ]
     },
     "execution_count": 164,
     "metadata": {},
     "output_type": "execute_result"
    },
    {
     "data": {
      "image/png": "[encoded data removed]",
      "text/plain": [
       "<Figure size 432x288 with 1 Axes>"
      ]
     },
     "metadata": {
      "needs_background": "light"
     },
     "output_type": "display_data"
    }
   ],
   "source": [
    "xTerm=np.linspace(-2*math.pi, 2*math.pi,100)\n",
    "aTerm=3*math.pi/4\n",
    "result=[]\n",
    "for xVal in xTerm:\n",
    "    result.append(function.subs([(x,xVal),(a,aTerm)]))\n",
    "plt.title('First Order taylor Series for 1+sin(a)')\n",
    "plt.plot(result)"
   ]
  },
  {
   "cell_type": "markdown",
   "id": "0de165c8-7fd4-43c8-85e9-fac0886b2253",
   "metadata": {},
   "source": [
    "### Creating a plot for second order taylor series"
   ]
  },
  {
   "cell_type": "code",
   "execution_count": 181,
   "id": "e0ac4385-5469-4fe2-86f3-8c1011cacdae",
   "metadata": {},
   "outputs": [
    {
     "name": "stdout",
     "output_type": "stream",
     "text": [
      "The second order Taylor Function is :\n"
     ]
    },
    {
     "data": {
      "text/latex": [
       "$\\displaystyle - \\frac{\\left(- a + x\\right)^{2} \\sin{\\left(a \\right)}}{2} + \\left(- a + x\\right) \\cos{\\left(a \\right)} + \\sin{\\left(a \\right)} + 1$"
      ],
      "text/plain": [
       "-(-a + x)**2*sin(a)/2 + (-a + x)*cos(a) + sin(a) + 1"
      ]
     },
     "execution_count": 181,
     "metadata": {},
     "output_type": "execute_result"
    }
   ],
   "source": [
    "# Finding the first order taylor series \n",
    "x,a=symbols('x a')\n",
    "order=2\n",
    "f=1+sin(a)\n",
    "function=taylorSeries(f,order)\n",
    "print('The second order Taylor Function is :')\n",
    "function"
   ]
  },
  {
   "cell_type": "code",
   "execution_count": 182,
   "id": "6533d0e5-ff0e-4337-adc9-b3b9d988c378",
   "metadata": {},
   "outputs": [
    {
     "data": {
      "text/plain": [
       "[<matplotlib.lines.Line2D at 0x7f53ce041370>]"
      ]
     },
     "execution_count": 182,
     "metadata": {},
     "output_type": "execute_result"
    },
    {
     "data": {
      "image/png": "[encoded data removed]",
      "text/plain": [
       "<Figure size 432x288 with 1 Axes>"
      ]
     },
     "metadata": {
      "needs_background": "light"
     },
     "output_type": "display_data"
    }
   ],
   "source": [
    "xTerm=np.linspace(-1.5*math.pi, 1.5*math.pi,100)\n",
    "aTerm=3*math.pi/4\n",
    "result=[]\n",
    "for xVal in xTerm:\n",
    "    result.append(function.subs([(x,xVal),(a,aTerm)]))\n",
    "plt.title('First Order taylor Series for 1+sin(a)')\n",
    "plt.plot(result)"
   ]
  },
  {
   "cell_type": "markdown",
   "id": "3d25a936-bf22-4af1-b39a-3ca8cd47d31b",
   "metadata": {},
   "source": [
    "### Creating a plot for third order taylor series"
   ]
  },
  {
   "cell_type": "code",
   "execution_count": 184,
   "id": "57b6e5bb-7430-4fc1-9541-67afe57bf031",
   "metadata": {},
   "outputs": [
    {
     "name": "stdout",
     "output_type": "stream",
     "text": [
      "The third order Taylor Function is :\n"
     ]
    },
    {
     "data": {
      "text/latex": [
       "$\\displaystyle - \\frac{\\left(- a + x\\right)^{3} \\cos{\\left(a \\right)}}{6} - \\frac{\\left(- a + x\\right)^{2} \\sin{\\left(a \\right)}}{2} + \\left(- a + x\\right) \\cos{\\left(a \\right)} + \\sin{\\left(a \\right)} + 1$"
      ],
      "text/plain": [
       "-(-a + x)**3*cos(a)/6 - (-a + x)**2*sin(a)/2 + (-a + x)*cos(a) + sin(a) + 1"
      ]
     },
     "execution_count": 184,
     "metadata": {},
     "output_type": "execute_result"
    }
   ],
   "source": [
    "# Finding the first order taylor series \n",
    "x,a=symbols('x a')\n",
    "order=3\n",
    "f=1+sin(a)\n",
    "function=taylorSeries(f,order)\n",
    "print('The third order Taylor Function is :')\n",
    "function"
   ]
  },
  {
   "cell_type": "code",
   "execution_count": 191,
   "id": "e65c0ee1-baa0-4cc5-bb4a-d3fd84b935ae",
   "metadata": {},
   "outputs": [
    {
     "data": {
      "text/plain": [
       "[<matplotlib.lines.Line2D at 0x7f53cde04cd0>]"
      ]
     },
     "execution_count": 191,
     "metadata": {},
     "output_type": "execute_result"
    },
    {
     "data": {
      "image/png": "[encoded data removed]",
      "text/plain": [
       "<Figure size 432x288 with 1 Axes>"
      ]
     },
     "metadata": {
      "needs_background": "light"
     },
     "output_type": "display_data"
    }
   ],
   "source": [
    "xTerm=np.linspace(-1*math.pi, 1*math.pi,100)\n",
    "aTerm=3*math.pi/4\n",
    "result=[]\n",
    "for xVal in xTerm:\n",
    "    result.append(function.subs([(x,xVal),(a,aTerm)]))\n",
    "plt.title('Third Order taylor Series for 1+sin(a)')\n",
    "plt.plot(result)"
   ]
  },
  {
   "cell_type": "markdown",
   "id": "a6799454-723b-401b-9a29-9511e1c96aea",
   "metadata": {
    "tags": []
   },
   "source": [
    "### Creating a plot for tenth order taylor series"
   ]
  },
  {
   "cell_type": "code",
   "execution_count": 192,
   "id": "76f53f72-1d6c-4800-8388-0fd58f6c1fba",
   "metadata": {},
   "outputs": [
    {
     "name": "stdout",
     "output_type": "stream",
     "text": [
      "The tenth order Taylor Function is :\n"
     ]
    },
    {
     "data": {
      "text/latex": [
       "$\\displaystyle - \\frac{\\left(- a + x\\right)^{10} \\sin{\\left(a \\right)}}{3628800} + \\frac{\\left(- a + x\\right)^{9} \\cos{\\left(a \\right)}}{362880} + \\frac{\\left(- a + x\\right)^{8} \\sin{\\left(a \\right)}}{40320} - \\frac{\\left(- a + x\\right)^{7} \\cos{\\left(a \\right)}}{5040} - \\frac{\\left(- a + x\\right)^{6} \\sin{\\left(a \\right)}}{720} + \\frac{\\left(- a + x\\right)^{5} \\cos{\\left(a \\right)}}{120} + \\frac{\\left(- a + x\\right)^{4} \\sin{\\left(a \\right)}}{24} - \\frac{\\left(- a + x\\right)^{3} \\cos{\\left(a \\right)}}{6} - \\frac{\\left(- a + x\\right)^{2} \\sin{\\left(a \\right)}}{2} + \\left(- a + x\\right) \\cos{\\left(a \\right)} + \\sin{\\left(a \\right)} + 1$"
      ],
      "text/plain": [
       "-(-a + x)**10*sin(a)/3628800 + (-a + x)**9*cos(a)/362880 + (-a + x)**8*sin(a)/40320 - (-a + x)**7*cos(a)/5040 - (-a + x)**6*sin(a)/720 + (-a + x)**5*cos(a)/120 + (-a + x)**4*sin(a)/24 - (-a + x)**3*cos(a)/6 - (-a + x)**2*sin(a)/2 + (-a + x)*cos(a) + sin(a) + 1"
      ]
     },
     "execution_count": 192,
     "metadata": {},
     "output_type": "execute_result"
    }
   ],
   "source": [
    "# Finding the first order taylor series \n",
    "x,a=symbols('x a')\n",
    "order=10\n",
    "f=1+sin(a)\n",
    "function=taylorSeries(f,order)\n",
    "print('The tenth order Taylor Function is :')\n",
    "function"
   ]
  },
  {
   "cell_type": "code",
   "execution_count": 193,
   "id": "9807aab8-82bb-40bd-a6ea-af4449f668c5",
   "metadata": {},
   "outputs": [
    {
     "data": {
      "text/plain": [
       "[<matplotlib.lines.Line2D at 0x7f53cf3c1760>]"
      ]
     },
     "execution_count": 193,
     "metadata": {},
     "output_type": "execute_result"
    },
    {
     "data": {
      "image/png": "[encoded data removed]",
      "text/plain": [
       "<Figure size 432x288 with 1 Axes>"
      ]
     },
     "metadata": {
      "needs_background": "light"
     },
     "output_type": "display_data"
    }
   ],
   "source": [
    "xTerm=np.linspace(-1*math.pi, 1*math.pi,100)\n",
    "aTerm=3*math.pi/4\n",
    "result=[]\n",
    "for xVal in xTerm:\n",
    "    result.append(function.subs([(x,xVal),(a,aTerm)]))\n",
    "plt.title('First Order taylor Series for 1+sin(a)')\n",
    "plt.plot(result)"
   ]
  },
  {
   "cell_type": "markdown",
   "id": "e4989fc7-770b-436e-8ec4-07b187b78b62",
   "metadata": {
    "tags": []
   },
   "source": [
    "### It can be seen that for higher order of Taylor series the graphs starts to become similar to the graph for 1+sinx wheras in lower order taylor series, only a small area of the graph is similar to the actual graph. As the order keeps increasing the approximation made by the Taylor series gets closer and closer to the output of the actual function, which in this case is 1+sin(x)"
   ]
  },
  {
   "cell_type": "code",
   "execution_count": null,
   "id": "d454a30d-9a48-4046-a835-bd7eae98e8bc",
   "metadata": {},
   "outputs": [],
   "source": []
  },
  {
   "cell_type": "markdown",
   "id": "300ee156-f24f-4d8e-9b88-f2bdedc51f9d",
   "metadata": {},
   "source": [
    "# Question 3\n",
    "\n",
    "### Assume an error function to be minimized is given by,J(w) = exp(−13 w31 + w1 −w2)\n",
    "> (a) Plot the contour map of this error function. (10 points"
   ]
  },
  {
   "cell_type": "code",
   "execution_count": 374,
   "id": "6308432e-d5d6-40ef-a1d0-d0cfac3411ff",
   "metadata": {},
   "outputs": [
    {
     "data": {
      "text/plain": [
       "<matplotlib.contour.QuadContourSet at 0x7f53c7229e80>"
      ]
     },
     "execution_count": 374,
     "metadata": {},
     "output_type": "execute_result"
    },
    {
     "data": {
      "image/png": "[encoded data removed]",
      "text/plain": [
       "<Figure size 432x288 with 1 Axes>"
      ]
     },
     "metadata": {
      "needs_background": "light"
     },
     "output_type": "display_data"
    }
   ],
   "source": [
    "w1=np.linspace(-10,-9.98,10)\n",
    "w2=np.linspace(-2,2,10)\n",
    "\n",
    "[x,y]=np.meshgrid(w1,w2)\n",
    "powerTerm=(-x**3/3)+x-(y**2)\n",
    "function=np.zeros((powerTerm.shape[0],powerTerm.shape[1]))\n",
    "for i in range(powerTerm.shape[0]):\n",
    "    for j in range(powerTerm.shape[1]):\n",
    "        function[i][j]=math.exp(powerTerm[i][j])\n",
    "plt.contourf(x,y,function)\n"
   ]
  },
  {
   "cell_type": "code",
   "execution_count": 342,
   "id": "02e60d7b-5e7e-4edd-9d4d-ddad3e2e77df",
   "metadata": {},
   "outputs": [],
   "source": []
  },
  {
   "cell_type": "code",
   "execution_count": 341,
   "id": "78df89ca-59db-4006-a87e-a63dfc8a36b6",
   "metadata": {},
   "outputs": [
    {
     "data": {
      "text/plain": [
       "(70, 70)"
      ]
     },
     "execution_count": 341,
     "metadata": {},
     "output_type": "execute_result"
    }
   ],
   "source": [
    "powerTerm.shape"
   ]
  },
  {
   "cell_type": "code",
   "execution_count": 344,
   "id": "a5cfbde1-a0d6-489c-9108-0b1cc4cf154b",
   "metadata": {},
   "outputs": [],
   "source": [
    "\n",
    "for i in range(powerTerm.shape[0]):\n",
    "    for j in range(powerTerm.shape[1]):\n",
    "        function[i][j]=math.exp(powerTerm[i][j])"
   ]
  },
  {
   "cell_type": "code",
   "execution_count": 220,
   "id": "68b4bf10-38b4-4980-83fa-132418c50d8a",
   "metadata": {},
   "outputs": [],
   "source": [
    "powerTerm=(-w1**3/3)+w1-(w2**2)"
   ]
  },
  {
   "cell_type": "code",
   "execution_count": 222,
   "id": "535a627b-f831-4b21-87ce-149657a3cf94",
   "metadata": {},
   "outputs": [],
   "source": [
    "fun=[math.exp(i) for i in powerTerm]"
   ]
  },
  {
   "cell_type": "code",
   "execution_count": 229,
   "id": "6a6c6d69-0569-4bba-9499-17496007dfef",
   "metadata": {},
   "outputs": [
    {
     "ename": "TypeError",
     "evalue": "Input z must be 2D, not 1D",
     "output_type": "error",
     "traceback": [
      "\u001b[0;31m---------------------------------------------------------------------------\u001b[0m",
      "\u001b[0;31mTypeError\u001b[0m                                 Traceback (most recent call last)",
      "\u001b[0;32m/tmp/ipykernel_36575/3745736312.py\u001b[0m in \u001b[0;36m<module>\u001b[0;34m\u001b[0m\n\u001b[1;32m      1\u001b[0m \u001b[0;34m[\u001b[0m\u001b[0mx\u001b[0m\u001b[0;34m,\u001b[0m\u001b[0my\u001b[0m\u001b[0;34m]\u001b[0m\u001b[0;34m=\u001b[0m\u001b[0mnp\u001b[0m\u001b[0;34m.\u001b[0m\u001b[0mmeshgrid\u001b[0m\u001b[0;34m(\u001b[0m\u001b[0mw1\u001b[0m\u001b[0;34m,\u001b[0m\u001b[0mw2\u001b[0m\u001b[0;34m)\u001b[0m\u001b[0;34m\u001b[0m\u001b[0;34m\u001b[0m\u001b[0m\n\u001b[0;32m----> 2\u001b[0;31m \u001b[0mplt\u001b[0m\u001b[0;34m.\u001b[0m\u001b[0mcontour\u001b[0m\u001b[0;34m(\u001b[0m\u001b[0mx\u001b[0m\u001b[0;34m,\u001b[0m\u001b[0my\u001b[0m\u001b[0;34m,\u001b[0m\u001b[0mfun\u001b[0m\u001b[0;34m)\u001b[0m\u001b[0;34m\u001b[0m\u001b[0;34m\u001b[0m\u001b[0m\n\u001b[0m",
      "\u001b[0;32m~/anaconda3/lib/python3.8/site-packages/matplotlib/pyplot.py\u001b[0m in \u001b[0;36mcontour\u001b[0;34m(data, *args, **kwargs)\u001b[0m\n\u001b[1;32m   2733\u001b[0m \u001b[0;34m@\u001b[0m\u001b[0m_copy_docstring_and_deprecators\u001b[0m\u001b[0;34m(\u001b[0m\u001b[0mAxes\u001b[0m\u001b[0;34m.\u001b[0m\u001b[0mcontour\u001b[0m\u001b[0;34m)\u001b[0m\u001b[0;34m\u001b[0m\u001b[0;34m\u001b[0m\u001b[0m\n\u001b[1;32m   2734\u001b[0m \u001b[0;32mdef\u001b[0m \u001b[0mcontour\u001b[0m\u001b[0;34m(\u001b[0m\u001b[0;34m*\u001b[0m\u001b[0margs\u001b[0m\u001b[0;34m,\u001b[0m \u001b[0mdata\u001b[0m\u001b[0;34m=\u001b[0m\u001b[0;32mNone\u001b[0m\u001b[0;34m,\u001b[0m \u001b[0;34m**\u001b[0m\u001b[0mkwargs\u001b[0m\u001b[0;34m)\u001b[0m\u001b[0;34m:\u001b[0m\u001b[0;34m\u001b[0m\u001b[0;34m\u001b[0m\u001b[0m\n\u001b[0;32m-> 2735\u001b[0;31m     __ret = gca().contour(\n\u001b[0m\u001b[1;32m   2736\u001b[0m         \u001b[0;34m*\u001b[0m\u001b[0margs\u001b[0m\u001b[0;34m,\u001b[0m \u001b[0;34m**\u001b[0m\u001b[0;34m(\u001b[0m\u001b[0;34m{\u001b[0m\u001b[0;34m\"data\"\u001b[0m\u001b[0;34m:\u001b[0m \u001b[0mdata\u001b[0m\u001b[0;34m}\u001b[0m \u001b[0;32mif\u001b[0m \u001b[0mdata\u001b[0m \u001b[0;32mis\u001b[0m \u001b[0;32mnot\u001b[0m \u001b[0;32mNone\u001b[0m \u001b[0;32melse\u001b[0m \u001b[0;34m{\u001b[0m\u001b[0;34m}\u001b[0m\u001b[0;34m)\u001b[0m\u001b[0;34m,\u001b[0m\u001b[0;34m\u001b[0m\u001b[0;34m\u001b[0m\u001b[0m\n\u001b[1;32m   2737\u001b[0m         **kwargs)\n",
      "\u001b[0;32m~/anaconda3/lib/python3.8/site-packages/matplotlib/__init__.py\u001b[0m in \u001b[0;36minner\u001b[0;34m(ax, data, *args, **kwargs)\u001b[0m\n\u001b[1;32m   1359\u001b[0m     \u001b[0;32mdef\u001b[0m \u001b[0minner\u001b[0m\u001b[0;34m(\u001b[0m\u001b[0max\u001b[0m\u001b[0;34m,\u001b[0m \u001b[0;34m*\u001b[0m\u001b[0margs\u001b[0m\u001b[0;34m,\u001b[0m \u001b[0mdata\u001b[0m\u001b[0;34m=\u001b[0m\u001b[0;32mNone\u001b[0m\u001b[0;34m,\u001b[0m \u001b[0;34m**\u001b[0m\u001b[0mkwargs\u001b[0m\u001b[0;34m)\u001b[0m\u001b[0;34m:\u001b[0m\u001b[0;34m\u001b[0m\u001b[0;34m\u001b[0m\u001b[0m\n\u001b[1;32m   1360\u001b[0m         \u001b[0;32mif\u001b[0m \u001b[0mdata\u001b[0m \u001b[0;32mis\u001b[0m \u001b[0;32mNone\u001b[0m\u001b[0;34m:\u001b[0m\u001b[0;34m\u001b[0m\u001b[0;34m\u001b[0m\u001b[0m\n\u001b[0;32m-> 1361\u001b[0;31m             \u001b[0;32mreturn\u001b[0m \u001b[0mfunc\u001b[0m\u001b[0;34m(\u001b[0m\u001b[0max\u001b[0m\u001b[0;34m,\u001b[0m \u001b[0;34m*\u001b[0m\u001b[0mmap\u001b[0m\u001b[0;34m(\u001b[0m\u001b[0msanitize_sequence\u001b[0m\u001b[0;34m,\u001b[0m \u001b[0margs\u001b[0m\u001b[0;34m)\u001b[0m\u001b[0;34m,\u001b[0m \u001b[0;34m**\u001b[0m\u001b[0mkwargs\u001b[0m\u001b[0;34m)\u001b[0m\u001b[0;34m\u001b[0m\u001b[0;34m\u001b[0m\u001b[0m\n\u001b[0m\u001b[1;32m   1362\u001b[0m \u001b[0;34m\u001b[0m\u001b[0m\n\u001b[1;32m   1363\u001b[0m         \u001b[0mbound\u001b[0m \u001b[0;34m=\u001b[0m \u001b[0mnew_sig\u001b[0m\u001b[0;34m.\u001b[0m\u001b[0mbind\u001b[0m\u001b[0;34m(\u001b[0m\u001b[0max\u001b[0m\u001b[0;34m,\u001b[0m \u001b[0;34m*\u001b[0m\u001b[0margs\u001b[0m\u001b[0;34m,\u001b[0m \u001b[0;34m**\u001b[0m\u001b[0mkwargs\u001b[0m\u001b[0;34m)\u001b[0m\u001b[0;34m\u001b[0m\u001b[0;34m\u001b[0m\u001b[0m\n",
      "\u001b[0;32m~/anaconda3/lib/python3.8/site-packages/matplotlib/axes/_axes.py\u001b[0m in \u001b[0;36mcontour\u001b[0;34m(self, *args, **kwargs)\u001b[0m\n\u001b[1;32m   6418\u001b[0m     \u001b[0;32mdef\u001b[0m \u001b[0mcontour\u001b[0m\u001b[0;34m(\u001b[0m\u001b[0mself\u001b[0m\u001b[0;34m,\u001b[0m \u001b[0;34m*\u001b[0m\u001b[0margs\u001b[0m\u001b[0;34m,\u001b[0m \u001b[0;34m**\u001b[0m\u001b[0mkwargs\u001b[0m\u001b[0;34m)\u001b[0m\u001b[0;34m:\u001b[0m\u001b[0;34m\u001b[0m\u001b[0;34m\u001b[0m\u001b[0m\n\u001b[1;32m   6419\u001b[0m         \u001b[0mkwargs\u001b[0m\u001b[0;34m[\u001b[0m\u001b[0;34m'filled'\u001b[0m\u001b[0;34m]\u001b[0m \u001b[0;34m=\u001b[0m \u001b[0;32mFalse\u001b[0m\u001b[0;34m\u001b[0m\u001b[0;34m\u001b[0m\u001b[0m\n\u001b[0;32m-> 6420\u001b[0;31m         \u001b[0mcontours\u001b[0m \u001b[0;34m=\u001b[0m \u001b[0mmcontour\u001b[0m\u001b[0;34m.\u001b[0m\u001b[0mQuadContourSet\u001b[0m\u001b[0;34m(\u001b[0m\u001b[0mself\u001b[0m\u001b[0;34m,\u001b[0m \u001b[0;34m*\u001b[0m\u001b[0margs\u001b[0m\u001b[0;34m,\u001b[0m \u001b[0;34m**\u001b[0m\u001b[0mkwargs\u001b[0m\u001b[0;34m)\u001b[0m\u001b[0;34m\u001b[0m\u001b[0;34m\u001b[0m\u001b[0m\n\u001b[0m\u001b[1;32m   6421\u001b[0m         \u001b[0mself\u001b[0m\u001b[0;34m.\u001b[0m\u001b[0m_request_autoscale_view\u001b[0m\u001b[0;34m(\u001b[0m\u001b[0;34m)\u001b[0m\u001b[0;34m\u001b[0m\u001b[0;34m\u001b[0m\u001b[0m\n\u001b[1;32m   6422\u001b[0m         \u001b[0;32mreturn\u001b[0m \u001b[0mcontours\u001b[0m\u001b[0;34m\u001b[0m\u001b[0;34m\u001b[0m\u001b[0m\n",
      "\u001b[0;32m~/anaconda3/lib/python3.8/site-packages/matplotlib/contour.py\u001b[0m in \u001b[0;36m__init__\u001b[0;34m(self, ax, levels, filled, linewidths, linestyles, hatches, alpha, origin, extent, cmap, colors, norm, vmin, vmax, extend, antialiased, nchunk, locator, transform, *args, **kwargs)\u001b[0m\n\u001b[1;32m    775\u001b[0m         \u001b[0mself\u001b[0m\u001b[0;34m.\u001b[0m\u001b[0m_transform\u001b[0m \u001b[0;34m=\u001b[0m \u001b[0mtransform\u001b[0m\u001b[0;34m\u001b[0m\u001b[0;34m\u001b[0m\u001b[0m\n\u001b[1;32m    776\u001b[0m \u001b[0;34m\u001b[0m\u001b[0m\n\u001b[0;32m--> 777\u001b[0;31m         \u001b[0mkwargs\u001b[0m \u001b[0;34m=\u001b[0m \u001b[0mself\u001b[0m\u001b[0;34m.\u001b[0m\u001b[0m_process_args\u001b[0m\u001b[0;34m(\u001b[0m\u001b[0;34m*\u001b[0m\u001b[0margs\u001b[0m\u001b[0;34m,\u001b[0m \u001b[0;34m**\u001b[0m\u001b[0mkwargs\u001b[0m\u001b[0;34m)\u001b[0m\u001b[0;34m\u001b[0m\u001b[0;34m\u001b[0m\u001b[0m\n\u001b[0m\u001b[1;32m    778\u001b[0m         \u001b[0mself\u001b[0m\u001b[0;34m.\u001b[0m\u001b[0m_process_levels\u001b[0m\u001b[0;34m(\u001b[0m\u001b[0;34m)\u001b[0m\u001b[0;34m\u001b[0m\u001b[0;34m\u001b[0m\u001b[0m\n\u001b[1;32m    779\u001b[0m \u001b[0;34m\u001b[0m\u001b[0m\n",
      "\u001b[0;32m~/anaconda3/lib/python3.8/site-packages/matplotlib/contour.py\u001b[0m in \u001b[0;36m_process_args\u001b[0;34m(self, corner_mask, *args, **kwargs)\u001b[0m\n\u001b[1;32m   1364\u001b[0m             \u001b[0mself\u001b[0m\u001b[0;34m.\u001b[0m\u001b[0m_corner_mask\u001b[0m \u001b[0;34m=\u001b[0m \u001b[0mcorner_mask\u001b[0m\u001b[0;34m\u001b[0m\u001b[0;34m\u001b[0m\u001b[0m\n\u001b[1;32m   1365\u001b[0m \u001b[0;34m\u001b[0m\u001b[0m\n\u001b[0;32m-> 1366\u001b[0;31m             \u001b[0mx\u001b[0m\u001b[0;34m,\u001b[0m \u001b[0my\u001b[0m\u001b[0;34m,\u001b[0m \u001b[0mz\u001b[0m \u001b[0;34m=\u001b[0m \u001b[0mself\u001b[0m\u001b[0;34m.\u001b[0m\u001b[0m_contour_args\u001b[0m\u001b[0;34m(\u001b[0m\u001b[0margs\u001b[0m\u001b[0;34m,\u001b[0m \u001b[0mkwargs\u001b[0m\u001b[0;34m)\u001b[0m\u001b[0;34m\u001b[0m\u001b[0;34m\u001b[0m\u001b[0m\n\u001b[0m\u001b[1;32m   1367\u001b[0m \u001b[0;34m\u001b[0m\u001b[0m\n\u001b[1;32m   1368\u001b[0m             \u001b[0m_mask\u001b[0m \u001b[0;34m=\u001b[0m \u001b[0mma\u001b[0m\u001b[0;34m.\u001b[0m\u001b[0mgetmask\u001b[0m\u001b[0;34m(\u001b[0m\u001b[0mz\u001b[0m\u001b[0;34m)\u001b[0m\u001b[0;34m\u001b[0m\u001b[0;34m\u001b[0m\u001b[0m\n",
      "\u001b[0;32m~/anaconda3/lib/python3.8/site-packages/matplotlib/contour.py\u001b[0m in \u001b[0;36m_contour_args\u001b[0;34m(self, args, kwargs)\u001b[0m\n\u001b[1;32m   1422\u001b[0m             \u001b[0margs\u001b[0m \u001b[0;34m=\u001b[0m \u001b[0margs\u001b[0m\u001b[0;34m[\u001b[0m\u001b[0;36m1\u001b[0m\u001b[0;34m:\u001b[0m\u001b[0;34m]\u001b[0m\u001b[0;34m\u001b[0m\u001b[0;34m\u001b[0m\u001b[0m\n\u001b[1;32m   1423\u001b[0m         \u001b[0;32melif\u001b[0m \u001b[0mNargs\u001b[0m \u001b[0;34m<=\u001b[0m \u001b[0;36m4\u001b[0m\u001b[0;34m:\u001b[0m\u001b[0;34m\u001b[0m\u001b[0;34m\u001b[0m\u001b[0m\n\u001b[0;32m-> 1424\u001b[0;31m             \u001b[0mx\u001b[0m\u001b[0;34m,\u001b[0m \u001b[0my\u001b[0m\u001b[0;34m,\u001b[0m \u001b[0mz\u001b[0m \u001b[0;34m=\u001b[0m \u001b[0mself\u001b[0m\u001b[0;34m.\u001b[0m\u001b[0m_check_xyz\u001b[0m\u001b[0;34m(\u001b[0m\u001b[0margs\u001b[0m\u001b[0;34m[\u001b[0m\u001b[0;34m:\u001b[0m\u001b[0;36m3\u001b[0m\u001b[0;34m]\u001b[0m\u001b[0;34m,\u001b[0m \u001b[0mkwargs\u001b[0m\u001b[0;34m)\u001b[0m\u001b[0;34m\u001b[0m\u001b[0;34m\u001b[0m\u001b[0m\n\u001b[0m\u001b[1;32m   1425\u001b[0m             \u001b[0margs\u001b[0m \u001b[0;34m=\u001b[0m \u001b[0margs\u001b[0m\u001b[0;34m[\u001b[0m\u001b[0;36m3\u001b[0m\u001b[0;34m:\u001b[0m\u001b[0;34m]\u001b[0m\u001b[0;34m\u001b[0m\u001b[0;34m\u001b[0m\u001b[0m\n\u001b[1;32m   1426\u001b[0m         \u001b[0;32melse\u001b[0m\u001b[0;34m:\u001b[0m\u001b[0;34m\u001b[0m\u001b[0;34m\u001b[0m\u001b[0m\n",
      "\u001b[0;32m~/anaconda3/lib/python3.8/site-packages/matplotlib/contour.py\u001b[0m in \u001b[0;36m_check_xyz\u001b[0;34m(self, args, kwargs)\u001b[0m\n\u001b[1;32m   1450\u001b[0m \u001b[0;34m\u001b[0m\u001b[0m\n\u001b[1;32m   1451\u001b[0m         \u001b[0;32mif\u001b[0m \u001b[0mz\u001b[0m\u001b[0;34m.\u001b[0m\u001b[0mndim\u001b[0m \u001b[0;34m!=\u001b[0m \u001b[0;36m2\u001b[0m\u001b[0;34m:\u001b[0m\u001b[0;34m\u001b[0m\u001b[0;34m\u001b[0m\u001b[0m\n\u001b[0;32m-> 1452\u001b[0;31m             \u001b[0;32mraise\u001b[0m \u001b[0mTypeError\u001b[0m\u001b[0;34m(\u001b[0m\u001b[0;34mf\"Input z must be 2D, not {z.ndim}D\"\u001b[0m\u001b[0;34m)\u001b[0m\u001b[0;34m\u001b[0m\u001b[0;34m\u001b[0m\u001b[0m\n\u001b[0m\u001b[1;32m   1453\u001b[0m         \u001b[0;32mif\u001b[0m \u001b[0mz\u001b[0m\u001b[0;34m.\u001b[0m\u001b[0mshape\u001b[0m\u001b[0;34m[\u001b[0m\u001b[0;36m0\u001b[0m\u001b[0;34m]\u001b[0m \u001b[0;34m<\u001b[0m \u001b[0;36m2\u001b[0m \u001b[0;32mor\u001b[0m \u001b[0mz\u001b[0m\u001b[0;34m.\u001b[0m\u001b[0mshape\u001b[0m\u001b[0;34m[\u001b[0m\u001b[0;36m1\u001b[0m\u001b[0;34m]\u001b[0m \u001b[0;34m<\u001b[0m \u001b[0;36m2\u001b[0m\u001b[0;34m:\u001b[0m\u001b[0;34m\u001b[0m\u001b[0;34m\u001b[0m\u001b[0m\n\u001b[1;32m   1454\u001b[0m             raise TypeError(f\"Input z must be at least a (2, 2) shaped array, \"\n",
      "\u001b[0;31mTypeError\u001b[0m: Input z must be 2D, not 1D"
     ]
    },
    {
     "data": {
      "image/png": "[encoded data removed]",
      "text/plain": [
       "<Figure size 432x288 with 1 Axes>"
      ]
     },
     "metadata": {
      "needs_background": "light"
     },
     "output_type": "display_data"
    }
   ],
   "source": [
    "[x,y]=np.meshgrid(w1,w2)\n",
    "plt.contour(x,y,fun)"
   ]
  },
  {
   "cell_type": "code",
   "execution_count": 233,
   "id": "98cb89b0-3c49-4dd5-a7a6-71c5dc7d8ffb",
   "metadata": {},
   "outputs": [
    {
     "data": {
      "image/png": "[encoded data removed]",
      "text/plain": [
       "<Figure size 432x288 with 1 Axes>"
      ]
     },
     "metadata": {
      "needs_background": "light"
     },
     "output_type": "display_data"
    }
   ],
   "source": [
    "# Implementation of matplotlib function\n",
    "import matplotlib.pyplot as plt\n",
    "import numpy as np\n",
    "  \n",
    "feature_x = np.linspace(-5.0, 3.0, 70)\n",
    "feature_y = np.linspace(-5.0, 3.0, 70)\n",
    "  \n",
    "# Creating 2-D grid of features\n",
    "[X, Y] = np.meshgrid(feature_x, feature_y)\n",
    "  \n",
    "fig, ax = plt.subplots(1, 1)\n",
    "\n",
    "powerTerm=(-X**3/3)+X-(Y**2)\n",
    "Z = \n",
    "  \n",
    "# plots filled contour plot\n",
    "ax.contourf(X, Y, Z)\n",
    "  \n",
    "ax.set_title('Filled Contour Plot')\n",
    "ax.set_xlabel('feature_x')\n",
    "ax.set_ylabel('feature_y')\n",
    "  \n",
    "plt.show()"
   ]
  },
  {
   "cell_type": "code",
   "execution_count": 213,
   "id": "8ce1070b-ab35-4900-91e2-678f2a8480d6",
   "metadata": {},
   "outputs": [
    {
     "data": {
      "text/plain": [
       "array([[-5.        , -4.88405797, -4.76811594, ...,  2.76811594,\n",
       "         2.88405797,  3.        ],\n",
       "       [-5.        , -4.88405797, -4.76811594, ...,  2.76811594,\n",
       "         2.88405797,  3.        ],\n",
       "       [-5.        , -4.88405797, -4.76811594, ...,  2.76811594,\n",
       "         2.88405797,  3.        ],\n",
       "       ...,\n",
       "       [-5.        , -4.88405797, -4.76811594, ...,  2.76811594,\n",
       "         2.88405797,  3.        ],\n",
       "       [-5.        , -4.88405797, -4.76811594, ...,  2.76811594,\n",
       "         2.88405797,  3.        ],\n",
       "       [-5.        , -4.88405797, -4.76811594, ...,  2.76811594,\n",
       "         2.88405797,  3.        ]])"
      ]
     },
     "execution_count": 213,
     "metadata": {},
     "output_type": "execute_result"
    }
   ],
   "source": [
    "x\n"
   ]
  },
  {
   "cell_type": "code",
   "execution_count": null,
   "id": "d136a8bc-4a89-4d13-aaf8-44304d7162ca",
   "metadata": {},
   "outputs": [],
   "source": []
  }
 ],
 "metadata": {
  "kernelspec": {
   "display_name": "Python 3 (ipykernel)",
   "language": "python",
   "name": "python3"
  },
  "language_info": {
   "codemirror_mode": {
    "name": "ipython",
    "version": 3
   },
   "file_extension": ".py",
   "mimetype": "text/x-python",
   "name": "python",
   "nbconvert_exporter": "python",
   "pygments_lexer": "ipython3",
   "version": "3.8.8"
  }
 },
 "nbformat": 4,
 "nbformat_minor": 5
}
