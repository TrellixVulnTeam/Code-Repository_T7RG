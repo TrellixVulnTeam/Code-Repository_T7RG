{
 "cells": [
  {
   "cell_type": "markdown",
   "metadata": {
    "id": "64BxMq9G3ntk"
   },
   "source": [
    "### Creating a class for the project"
   ]
  },
  {
   "cell_type": "code",
   "execution_count": 105,
   "metadata": {
    "id": "aHYlA5k272KT"
   },
   "outputs": [],
   "source": [
    "class mnist_nn:\n",
    "  def __init__(self):\n",
    "    ''' The init function would read the dataset from sklearn datasets and print its shape'''\n",
    "    from keras.datasets import mnist\n",
    "    (self.x_train,self.y_train),(self.x_test,self.y_test)=mnist.load_data()\n",
    "    print('Size of Train data : ',self.x_train.shape)\n",
    "    print('Size of Test data : ',self.x_test.shape)\n",
    "    self.combine_x=[self.x_train,self.x_test]\n",
    "    self.combine_y=[self.y_train,self.y_test]\n",
    "  \n",
    "\n",
    "  def ohe_outputs(self,combine_y):\n",
    "    ''' The function would one hot encode the outputs of the mnist dataset '''\n",
    "    import numpy as np\n",
    "    self.combine_ohe=[]\n",
    "    for data_y in combine_y:\n",
    "      result=np.zeros((data_y.shape[0],10))\n",
    "      for i in range(data_y.shape[0]):\n",
    "        result[i][data_y[i]]=1\n",
    "      self.combine_ohe.append(np.array(result))\n",
    "    self.combine_ohe=np.array(self.combine_ohe)\n",
    "\n",
    "  \n",
    "\n",
    "  def ohe_two_class(self,combine_y):\n",
    "    ''' The function would one hot encode the outputs of the mnist dataset '''\n",
    "    import numpy as np\n",
    "    self.combine_ohe=[]\n",
    "    for data_y in combine_y:\n",
    "      result=np.zeros((data_y.shape[0],2))\n",
    "      for i in range(data_y.shape[0]):\n",
    "        result[i][int(data_y[i])]=1\n",
    "      self.combine_ohe.append(np.array(result))\n",
    "    self.ohe_two_classes=np.array(self.combine_ohe)\n",
    "\n",
    "\n",
    "\n",
    "  def image_normalisation(self):\n",
    "    ''' Dividing all pixel images by 255 to normalise it '''\n",
    "    self.combine_x[0]=self.combine_x[0]/255\n",
    "    self.combine_x[1]=self.combine_x[1]/255\n",
    "    print('Image Normalization done')\n",
    "\n",
    "\n",
    "\n",
    "  def create_best_model(self,epochs=10):\n",
    "    ''' Creating the best model with all the data to get the best\n",
    "    fit model so as to label the data produced by GAN'''\n",
    "    import keras\n",
    "    from keras import Sequential\n",
    "    from keras.layers import Flatten,Dense\n",
    "\n",
    "    model=keras.Sequential()\n",
    "    model.add(Flatten(input_shape=(28,28)))\n",
    "    model.add(Dense(512,activation='relu'))\n",
    "    model.add(Dense(256,activation='relu'))\n",
    "    model.add(Dense(128,activation='relu'))\n",
    "    model.add(Dense(64,activation='relu'))\n",
    "    model.add(Dense(32,activation='relu'))\n",
    "    model.add(Dense(10,activation='softmax'))\n",
    "    model.compile(optimizer='adam',loss='categorical_crossentropy',metrics=['accuracy'])\n",
    "    model.fit(self.combine_x[0],self.combine_ohe[0],validation_data=(self.combine_x[1],self.combine_ohe[1]),epochs=epochs,verbose=1)\n",
    "    self.model=model\n",
    "\n",
    "\n",
    "\n",
    "\n",
    "  def convert_to_n_class(self):\n",
    "    ''' Converts the MNIST into a 2 class classification problem by 5 and not 5'''\n",
    "    # Step 1 : Combine the data\n",
    "    import numpy as np\n",
    "    self.combine_x=np.concatenate([self.combine_x[0],self.combine_x[1]])\n",
    "    self.combine_y=np.concatenate([self.combine_y[0],self.combine_y[1]])\n",
    "    self.gan_train=self.combine_x[np.where(self.combine_y==5)]\n",
    "    # Check for the number of 5's and not 5's \n",
    "    print('The number of images with class \"5\" : ', self.combine_y[np.where(self.combine_y==5)].shape)\n",
    "    print('The number of images with class \"NOT 5\" : ',self.combine_y[np.where(self.combine_y!=5)].shape)\n",
    "    # Dropping 95% of the data\n",
    "    #Randomly selecting 5% of the index\n",
    "    fivePct=(self.combine_y[np.where(self.combine_y==5)].shape[0]*5)//100\n",
    "    index=np.arange(0,self.combine_y[np.where(self.combine_y==5)].shape[0])\n",
    "    import random\n",
    "    five_pct_index=random.sample(set(index),fivePct)\n",
    "\n",
    "\n",
    "    # Step 2: Creating a subset by dropping 5% of the class \"5\" whie keeping all elements\n",
    "    #thus creating an imbalance\n",
    "    print('\\nRandom sampling to select 5% of the data from class 5 keeping the rest \\n')\n",
    "    self.x_subset_of_5_class=self.combine_x[np.where(self.combine_y==5)][five_pct_index]\n",
    "    # y_subset_of_5_class=self.combine_y[np.where(self.combine_y==5)][five_pct_index]\n",
    "    y_subset_of_5_class=np.ones(self.x_subset_of_5_class.shape[0])\n",
    "    x_subset_of_not_5_class=self.combine_x[np.where(self.combine_y!=5)]\n",
    "    # y_subset_of_not_5_class=self.combine_y[np.where(self.combine_y!=5)]\n",
    "    y_subset_of_not_5_class=np.zeros(x_subset_of_not_5_class.shape[0])\n",
    "\n",
    "    self.subset_x=np.concatenate([self.x_subset_of_5_class,x_subset_of_not_5_class])\n",
    "    self.subset_y=np.concatenate([y_subset_of_5_class,y_subset_of_not_5_class])\n",
    "\n",
    "    print('The number of images with class \"5\" : ', self.subset_y[np.where(mnist.subset_y==1)].shape)\n",
    "    print('The number of images with class \"NOT 5\" : ',self.subset_y[np.where(mnist.subset_y!=1)].shape)\n",
    "    print(self.subset_y.shape)\n",
    "\n",
    "\n",
    "    print('Shuffling the data to make sure that there is no specific patterns')\n",
    "    # Creating an index and shuffling it \n",
    "    index=np.arange(0,self.subset_y.shape[0])\n",
    "    random.shuffle(index)\n",
    "    self.subset_x=self.subset_x[index]\n",
    "    self.subset_y=self.subset_y[index]\n",
    "  \n",
    "\n",
    "    # Printing the data to verify that we havent lost any data during the process\n",
    "    # print('The number of images with class \"5\" : ', mnist.subset_y[np.where(mnist.subset_y==5)].shape)\n",
    "    # print('The number of images with class \"NOT 5\" : ',mnist.subset_y[np.where(mnist.subset_y!=5)].shape)\n",
    "\n",
    "\n",
    "\n",
    "\n",
    "  def model_with_unbalanced_data(self,x_data,y_data,epochs=30):\n",
    "    ''' Creating a model with the unbalanced dataset to see the performance '''\n",
    "    import keras\n",
    "    from keras import Sequential\n",
    "    from keras.layers import Flatten,Dense\n",
    "\n",
    "    model=keras.Sequential()\n",
    "    model.add(Flatten(input_shape=(28,28)))\n",
    "    model.add(Dense(16,activation='sigmoid'))\n",
    "    model.add(Dense(1,activation='sigmoid'))\n",
    "    model.add(Dense(2,activation='softmax'))\n",
    "    model.compile(optimizer='adam',loss='categorical_crossentropy',metrics=['accuracy'])\n",
    "    # Stratified Split with 80%\n",
    "    from sklearn.model_selection import train_test_split\n",
    "    x_train,x_test,y_train,y_test=train_test_split(x_data,y_data,stratify=y_data,test_size=20)\n",
    "\n",
    "    self.ohe_two_class([y_train,y_test]) #One hot encoding the labels\n",
    "    y_train,y_test=self.ohe_two_classes\n",
    "\n",
    "    model.fit(x_train,y_train,epochs=epochs,verbose=1)\n",
    "    self.unbalanced_model=model\n",
    "    print('Done training the model')\n",
    "\n",
    "\n",
    "  def print_data(self,data,labels,number=4):\n",
    "    ''' Fcuntion to print the data alomg with the labels for testing purposes'''\n",
    "    import matplotlib.pyplot as plt\n",
    "    plt.figure(figsize=(10,10))\n",
    "    plot_count=1\n",
    "    for i in range(number):\n",
    "      plt.subplot(1,number,plot_count)\n",
    "      plt.title(str(labels[i]))\n",
    "      plt.imshow(data[i].reshape(28,28))\n",
    "      plot_count+=1\n",
    "\n"
   ]
  },
  {
   "cell_type": "code",
   "execution_count": 106,
   "metadata": {
    "colab": {
     "base_uri": "https://localhost:8080/",
     "height": 1000
    },
    "id": "mB-QXO6o5YhR",
    "outputId": "759aea05-6951-482f-819f-67d417fa5c78"
   },
   "outputs": [
    {
     "name": "stdout",
     "output_type": "stream",
     "text": [
      "Size of Train data :  (60000, 28, 28)\n",
      "Size of Test data :  (10000, 28, 28)\n",
      "One Hot Encoding the labels\n",
      "\n",
      "Normalizing the images\n",
      "\n",
      "Image Normalization done\n",
      "Creating the best model with entire data\n",
      "\n",
      "Converting the problem into a 2 stage classification problem\n",
      "\n",
      "The number of images with class \"5\" :  (6313,)\n",
      "The number of images with class \"NOT 5\" :  (63687,)\n",
      "\n",
      "Random sampling to select 5% of the data from class 5 keeping the rest \n",
      "\n",
      "The number of images with class \"5\" :  (315,)\n",
      "The number of images with class \"NOT 5\" :  (63687,)\n",
      "(64002,)\n",
      "Shuffling the data to make sure that there is no specific patterns\n",
      "Printing the data and labels for testing\n",
      "\n",
      "Unbalancing the data and retraining the model with new data\n",
      "Epoch 1/10\n",
      "2000/2000 [==============================] - 6s 3ms/step - loss: 0.0892 - accuracy: 0.9951\n",
      "Epoch 2/10\n",
      "2000/2000 [==============================] - 6s 3ms/step - loss: 0.0326 - accuracy: 0.9951\n",
      "Epoch 3/10\n",
      "2000/2000 [==============================] - 6s 3ms/step - loss: 0.0311 - accuracy: 0.9951\n",
      "Epoch 4/10\n",
      "2000/2000 [==============================] - 6s 3ms/step - loss: 0.0226 - accuracy: 0.9951\n",
      "Epoch 5/10\n",
      "2000/2000 [==============================] - 6s 3ms/step - loss: 0.0169 - accuracy: 0.9951\n",
      "Epoch 6/10\n",
      "2000/2000 [==============================] - 6s 3ms/step - loss: 0.0143 - accuracy: 0.9951\n",
      "Epoch 7/10\n",
      "2000/2000 [==============================] - 6s 3ms/step - loss: 0.0118 - accuracy: 0.9951\n",
      "Epoch 8/10\n",
      "2000/2000 [==============================] - 6s 3ms/step - loss: 0.0097 - accuracy: 0.9952\n",
      "Epoch 9/10\n",
      "2000/2000 [==============================] - 6s 3ms/step - loss: 0.0080 - accuracy: 0.9980\n",
      "Epoch 10/10\n",
      "2000/2000 [==============================] - 6s 3ms/step - loss: 0.0067 - accuracy: 0.9987\n",
      "Done Unbalancing data\n",
      "Process completed\n"
     ]
    },
    {
     "data": {
      "image/png": "[encoded data removed]",
      "text/plain": [
       "<Figure size 720x720 with 3 Axes>"
      ]
     },
     "metadata": {
      "needs_background": "light"
     },
     "output_type": "display_data"
    }
   ],
   "source": [
    "# Turning off the warnings\n",
    "import warnings\n",
    "warnings.filterwarnings('ignore')\n",
    "\n",
    "mnist=mnist_nn()\n",
    "# Operations on image\n",
    "print('One Hot Encoding the labels\\n')\n",
    "mnist.ohe_outputs(mnist.combine_y) # One Hot Encoding the Y values\n",
    "print('Normalizing the images\\n')\n",
    "mnist.image_normalisation() # Normalising the pixels in image\n",
    "print('Creating the best model with entire data\\n')\n",
    "#mnist.create_best_model(20) # Creating the best model from the available data which will later be used for labelling the images produced by the GAN\n",
    "print('Converting the problem into a 2 stage classification problem\\n')\n",
    "mnist.convert_to_n_class()\n",
    "print('Printing the data and labels for testing\\n')\n",
    "mnist.print_data(mnist.subset_x,mnist.subset_y,3)\n",
    "print('Unbalancing the data and retraining the model with new data')\n",
    "mnist.model_with_unbalanced_data(mnist.subset_x,mnist.subset_y,10)\n",
    "print('Process completed')"
   ]
  },
  {
   "cell_type": "markdown",
   "metadata": {
    "id": "5pWzYDq1xpPh"
   },
   "source": [
    "# Creating a class for GAN\n",
    "Reference : Intro to GAN video series by Dr Sunil Kumar Vuppala"
   ]
  },
  {
   "cell_type": "code",
   "execution_count": 35,
   "metadata": {
    "id": "2L2uCLODwQRO"
   },
   "outputs": [],
   "source": [
    "class gan:\n",
    "  def __init__(self):\n",
    "    \"\"\" The function will check if there is a pretrained model already in the \n",
    "    folder. If found, it will load the data. Otherwise, it will return error message\"\"\"\n",
    "\n",
    "    print('Class initialized')\n",
    "    import os\n",
    "    from keras.models import  load_model\n",
    "    flag=0\n",
    "    for file in os.listdir():\n",
    "      if file=='mnist_generator_dcgan.h5':\n",
    "        self.model=load_model(file)\n",
    "        print('Pre trained model loaded')\n",
    "        flag=1\n",
    "    if flag==0:\n",
    "      print('Pre trained model not found')\n",
    "            \n",
    "  \n",
    "\n",
    "  def create_generator(self,image_size=28,input_size=100):\n",
    "    ''' The function creates a generative model use=ing Keras and returns the model\n",
    "    The image is first converted into a smaller dimension with more channels. \n",
    "    Once this is done, we use futher Conv2D transpose operation to increase the size of the imahe\n",
    "    and to decrese the number of channels.\n",
    "    After the process, the model ends up creating an image of size 28x28 in the last layer. \n",
    "    '''\n",
    "\n",
    "    import keras \n",
    "    import tensorflow as tf\n",
    "    #Build an input layer\n",
    "    gen_input = tf.keras.layers.Input(shape=(input_size,))\n",
    "    \n",
    "    #Increase dimensions and resize to 3D to feed it to Conv2DTranspose layer\n",
    "    x = tf.keras.layers.Dense(7 * 7 * 128)(gen_input)\n",
    "    x = tf.keras.layers.Reshape((7, 7, 128))(x)\n",
    "    \n",
    "    #Use ConvTranspose\n",
    "    x = tf.keras.layers.BatchNormalization()(x)\n",
    "    x = tf.keras.layers.Activation('relu')(x)\n",
    "    x = tf.keras.layers.Conv2DTranspose(128, kernel_size=[5,5], strides=2, padding='same')(x)\n",
    "    \n",
    "    x = tf.keras.layers.BatchNormalization()(x)\n",
    "    x = tf.keras.layers.Activation('relu')(x)\n",
    "    x = tf.keras.layers.Conv2DTranspose(64, kernel_size=[5,5], strides=2, padding='same')(x)\n",
    "    \n",
    "    x = tf.keras.layers.BatchNormalization()(x)\n",
    "    x = tf.keras.layers.Activation('relu')(x)\n",
    "    x = tf.keras.layers.Conv2DTranspose(32, kernel_size=[5,5], strides=1, padding='same')(x)\n",
    "    \n",
    "    x = tf.keras.layers.BatchNormalization()(x)\n",
    "    x = tf.keras.layers.Activation('relu')(x)\n",
    "    x = tf.keras.layers.Conv2DTranspose(1, kernel_size=[5,5], strides=1, padding='same')(x)\n",
    "    \n",
    "    #Output layer for Generator\n",
    "    x = tf.keras.layers.Activation('sigmoid')(x)\n",
    "    \n",
    "    #Build model using Model API\n",
    "    generator = tf.keras.models.Model(gen_input, x, name='generator')\n",
    "    \n",
    "    return generator\n",
    "\n",
    "    \n",
    "  def create_discriminator(self,shape=[28,28,1,]):\n",
    "      \"\"\" Function to build the discriminator network from scratch using the tensorflow \n",
    "      and keras libraries\"\"\"\n",
    "      import tensorflow as tf\n",
    "      #Build the network\n",
    "      dis_input = tf.keras.layers.Input(shape)\n",
    "      x = tf.keras.layers.LeakyReLU(alpha=0.2)(dis_input)\n",
    "      x = tf.keras.layers.Conv2D(32, kernel_size=[5,5], strides=2, padding='same')(x)\n",
    "      \n",
    "      x = tf.keras.layers.LeakyReLU(alpha=0.2)(x)\n",
    "      x = tf.keras.layers.Conv2D(64, kernel_size=[5,5], strides=2, padding='same')(x)\n",
    "      \n",
    "      x = tf.keras.layers.LeakyReLU(alpha=0.2)(x)\n",
    "      x = tf.keras.layers.Conv2D(128, kernel_size=[5,5], strides=2, padding='same')(x)\n",
    "      \n",
    "      x = tf.keras.layers.LeakyReLU(alpha=0.2)(x)\n",
    "      x = tf.keras.layers.Conv2D(256, kernel_size=[5,5], strides=1, padding='same')(x)\n",
    "      \n",
    "      #Flatten the output and build an output layer\n",
    "      x = tf.keras.layers.Flatten()(x)\n",
    "      x = tf.keras.layers.Dense(1, activation='sigmoid')(x)\n",
    "      \n",
    "      #Build Model\n",
    "      discriminator = tf.keras.models.Model(dis_input, x, name='discriminator')\n",
    "      \n",
    "      return discriminator\n",
    "\n",
    "\n",
    "\n",
    "  def build_model(self):\n",
    "    \"\"\" The function creates a GAN model by using the discrimnator and generator models which were\n",
    "    defined in the earlier funtions inside the class. It also returns the generator, disciminator and \n",
    "    adversarial network after creating the model\"\"\"\n",
    "    import tensorflow as tf\n",
    "\n",
    "    noise_size = 100\n",
    "    lr = 2e-4\n",
    "    decay = 6e-8\n",
    "    \n",
    "    #Build Base Discriminator model\n",
    "    base_discriminator = self.create_discriminator()\n",
    "    \n",
    "    #Define optimizer and compile model\n",
    "    discriminator = tf.keras.models.Model(inputs=base_discriminator.inputs, \n",
    "                                          outputs=base_discriminator.outputs)\n",
    "    optimizer = tf.keras.optimizers.RMSprop(lr=lr, decay=decay)\n",
    "    discriminator.compile(loss='binary_crossentropy',\n",
    "                          optimizer=optimizer,\n",
    "                          metrics=['accuracy'])\n",
    "    \n",
    "    #Build Generator model\n",
    "    generator = self.create_generator(image_size=28, input_size=noise_size)\n",
    "    \n",
    "    #Build Frozen Discriminator\n",
    "    frozen_discriminator = tf.keras.models.Model(inputs=base_discriminator.inputs, \n",
    "                                          outputs=base_discriminator.outputs)\n",
    "    #Freeze the weights of discriminator during adversarial training\n",
    "    frozen_discriminator.trainable = False\n",
    "\n",
    "    #Build Adversarial model\n",
    "    optimizer = tf.keras.optimizers.RMSprop(lr=lr * 0.5, decay=decay * 0.5)\n",
    "    #Adversarial = generator + discriminator\n",
    "    adversarial = tf.keras.models.Model(generator.input, \n",
    "                        frozen_discriminator(generator.output))\n",
    "    \n",
    "    adversarial.compile(loss='binary_crossentropy',\n",
    "                        optimizer=optimizer,\n",
    "                        metrics=['accuracy'])    \n",
    "    \n",
    "    return generator, discriminator, adversarial\n",
    "\n",
    "\n",
    "\n",
    "\n",
    "\n",
    "  def train_gan(self,generator,discriminator,adversarial_network,distribution_size=100):\n",
    "    import tensorflow as tf\n",
    "    import numpy as np\n",
    "    #Training parameters\n",
    "    batch_size = 64\n",
    "    train_steps = 3000\n",
    "    image_size = 28\n",
    "    \n",
    "    # load MNIST dataset\n",
    "    (train_x, train_y), (_, _) = tf.keras.datasets.mnist.load_data()\n",
    "    train_x=train_x[np.where(train_y==5)]\n",
    "    #Make it 3D dataset\n",
    "    train_x = np.reshape(train_x, [-1, image_size, image_size, 1])\n",
    "    #Standardize data : 0 to 1\n",
    "    train_x = train_x.astype('float32') / 255\n",
    "    \n",
    "    #Input for testing generator at different intervals, we will generate 16 images\n",
    "    test_noise_input = np.random.uniform(-1.0,1.0, size=[16, distribution_size])\n",
    "    \n",
    "    #Start training\n",
    "    for i in range(train_steps):\n",
    "        \n",
    "        #Train DISCRIMATOR\n",
    "        \n",
    "        #1. Get fake images from Generator\n",
    "        noise_input = np.random.uniform(-1.0,1.0, size=[batch_size, distribution_size])\n",
    "        fake_images = generator.predict(noise_input)\n",
    "        \n",
    "        #2. Get real images from training set\n",
    "        img_indexes = np.random.randint(0, train_x.shape[0], size=batch_size)\n",
    "        real_images = train_x[img_indexes]\n",
    "        \n",
    "        #3. Prepare input for training Discriminator\n",
    "        X = np.concatenate((real_images, fake_images))\n",
    "        \n",
    "        #4. Labels for training\n",
    "        y_real = np.ones((batch_size, 1))\n",
    "        y_fake = np.zeros((batch_size, 1))\n",
    "        y = np.concatenate((y_real, y_fake))\n",
    "        \n",
    "        #5. Train Discriminator\n",
    "        d_loss, d_acc = discriminator.train_on_batch(X, y)\n",
    "        \n",
    "        \n",
    "        #Train ADVERSARIAL Network\n",
    "        \n",
    "        #1. Prepare input - create a new batch of noise\n",
    "        X = noise_input = np.random.uniform(-1.0,1.0, size=[batch_size, distribution_size])\n",
    "        \n",
    "        #2. Prepare labels - training Adversarial network to lie :) - All 1s\n",
    "        y = np.ones((batch_size, 1))\n",
    "        \n",
    "        #3. Train - Pls note Discrimator is not getting trained here\n",
    "        a_loss, a_acc = adversarial_network.train_on_batch(X, y)\n",
    "        \n",
    "        if i % 100 == 0:\n",
    "            #Print loss and Accuracy for both networks\n",
    "            print(\"%s [Discriminator loss: %f, acc: %f, Adversarial loss: %f, acc: %f]\" % (i, d_loss, d_acc, a_loss, a_acc) )\n",
    "        \n",
    "        #Save generated images to see how well Generator is doing\n",
    "        if (i+1) % 500 == 0:\n",
    "            \n",
    "            #Generate 16 images\n",
    "            fake_images = generator.predict(test_noise_input)\n",
    "            \n",
    "            #Display images\n",
    "            self.plot_images(fake_images, i+1)\n",
    "            \n",
    "    #Save Generator model\n",
    "    self.model=generator\n",
    "    generator.save('mnist_generator_dcgan.h5')   \n",
    "\n",
    "\n",
    "\n",
    "\n",
    "  def plot_images(self,fake_images, step):\n",
    "    '''  The function helps in plotting the graphs, so that it is easy to \n",
    "    see how the model trains '''\n",
    "    \n",
    "    import matplotlib.pyplot as plt\n",
    "    import math\n",
    "    import numpy as np\n",
    "    plt.figure(figsize=(2.5,2.5))\n",
    "    num_images = fake_images.shape[0]\n",
    "    \n",
    "    image_size = fake_images.shape[1]\n",
    "    rows = int(math.sqrt(fake_images.shape[0]))\n",
    "    \n",
    "    for i in range(num_images):\n",
    "        plt.subplot(rows, rows, i + 1)\n",
    "        image = np.reshape(fake_images[i], [image_size, image_size])\n",
    "        plt.imshow(image, cmap='gray')\n",
    "        plt.axis('off')\n",
    "    plt.show()\n",
    "\n",
    "  def generate_fives(self,number):\n",
    "    ''' This function will generate 'number' number of 5's and will return the array'''\n",
    "    noise_input = np.random.uniform(-1.0,1.0, size=[number, 100])\n",
    "    fake_images = self.model.predict(noise_input)\n",
    "    return fake_images\n"
   ]
  },
  {
   "cell_type": "markdown",
   "metadata": {
    "id": "lyhILsedSJ2K"
   },
   "source": [
    "## Calling the GAN functions"
   ]
  },
  {
   "cell_type": "code",
   "execution_count": 36,
   "metadata": {
    "colab": {
     "base_uri": "https://localhost:8080/"
    },
    "id": "tnrygdD9DzdZ",
    "outputId": "224d42a0-9ca9-4856-eab7-84b4d9805a66"
   },
   "outputs": [
    {
     "name": "stdout",
     "output_type": "stream",
     "text": [
      "Class initialized\n",
      "WARNING:tensorflow:No training configuration found in the save file, so the model was *not* compiled. Compile it manually.\n",
      "Pre trained model loaded\n"
     ]
    },
    {
     "name": "stderr",
     "output_type": "stream",
     "text": [
      "/usr/local/lib/python3.7/dist-packages/keras/optimizer_v2/rmsprop.py:130: UserWarning: The `lr` argument is deprecated, use `learning_rate` instead.\n",
      "  super(RMSprop, self).__init__(name, **kwargs)\n"
     ]
    }
   ],
   "source": [
    "gan_object=gan()\n",
    "Generator,Discriminator,Adversarial=gan_object.build_model()\n"
   ]
  },
  {
   "cell_type": "code",
   "execution_count": 27,
   "metadata": {
    "colab": {
     "base_uri": "https://localhost:8080/",
     "height": 1000
    },
    "id": "9QX1qrIVD-lx",
    "outputId": "ab3f4133-05b9-4070-d056-94a79eea7d11"
   },
   "outputs": [
    {
     "name": "stdout",
     "output_type": "stream",
     "text": [
      "0 [Discriminator loss: 0.687856, acc: 0.679688, Adversarial loss: 0.848817, acc: 0.000000]\n",
      "100 [Discriminator loss: 0.000038, acc: 1.000000, Adversarial loss: 0.000000, acc: 1.000000]\n",
      "200 [Discriminator loss: 0.000373, acc: 1.000000, Adversarial loss: 0.106290, acc: 1.000000]\n",
      "300 [Discriminator loss: 0.003436, acc: 1.000000, Adversarial loss: 0.047609, acc: 1.000000]\n",
      "400 [Discriminator loss: 0.301678, acc: 0.843750, Adversarial loss: 0.000000, acc: 1.000000]\n"
     ]
    },
    {
     "data": {
      "image/png": "[encoded data removed]",
      "text/plain": [
       "<Figure size 180x180 with 16 Axes>"
      ]
     },
     "metadata": {
      "needs_background": "light"
     },
     "output_type": "display_data"
    },
    {
     "name": "stdout",
     "output_type": "stream",
     "text": [
      "500 [Discriminator loss: 0.228673, acc: 0.960938, Adversarial loss: 4.786894, acc: 0.000000]\n",
      "600 [Discriminator loss: 0.228241, acc: 0.906250, Adversarial loss: 3.494951, acc: 0.000000]\n",
      "700 [Discriminator loss: 0.040532, acc: 0.976562, Adversarial loss: 0.003357, acc: 1.000000]\n",
      "800 [Discriminator loss: 0.029547, acc: 1.000000, Adversarial loss: 0.006658, acc: 1.000000]\n",
      "900 [Discriminator loss: 0.375752, acc: 0.804688, Adversarial loss: 0.012559, acc: 1.000000]\n"
     ]
    },
    {
     "data": {
      "image/png": "[encoded data removed]",
      "text/plain": [
       "<Figure size 180x180 with 16 Axes>"
      ]
     },
     "metadata": {
      "needs_background": "light"
     },
     "output_type": "display_data"
    },
    {
     "name": "stdout",
     "output_type": "stream",
     "text": [
      "1000 [Discriminator loss: 0.576046, acc: 0.601562, Adversarial loss: 2.185865, acc: 0.000000]\n",
      "1100 [Discriminator loss: 0.461206, acc: 0.789062, Adversarial loss: 1.018047, acc: 0.218750]\n",
      "1200 [Discriminator loss: 0.594479, acc: 0.656250, Adversarial loss: 1.379464, acc: 0.078125]\n",
      "1300 [Discriminator loss: 0.567171, acc: 0.703125, Adversarial loss: 0.847597, acc: 0.312500]\n",
      "1400 [Discriminator loss: 0.717390, acc: 0.554688, Adversarial loss: 1.577986, acc: 0.015625]\n"
     ]
    },
    {
     "data": {
      "image/png": "[encoded data removed]",
      "text/plain": [
       "<Figure size 180x180 with 16 Axes>"
      ]
     },
     "metadata": {
      "needs_background": "light"
     },
     "output_type": "display_data"
    },
    {
     "name": "stdout",
     "output_type": "stream",
     "text": [
      "1500 [Discriminator loss: 0.618285, acc: 0.687500, Adversarial loss: 0.821590, acc: 0.437500]\n",
      "1600 [Discriminator loss: 0.592905, acc: 0.664062, Adversarial loss: 0.670535, acc: 0.578125]\n",
      "1700 [Discriminator loss: 0.551217, acc: 0.734375, Adversarial loss: 0.892329, acc: 0.359375]\n",
      "1800 [Discriminator loss: 0.613282, acc: 0.671875, Adversarial loss: 0.982214, acc: 0.234375]\n",
      "1900 [Discriminator loss: 0.622845, acc: 0.656250, Adversarial loss: 0.816269, acc: 0.390625]\n"
     ]
    },
    {
     "data": {
      "image/png": "[encoded data removed]",
      "text/plain": [
       "<Figure size 180x180 with 16 Axes>"
      ]
     },
     "metadata": {
      "needs_background": "light"
     },
     "output_type": "display_data"
    },
    {
     "name": "stdout",
     "output_type": "stream",
     "text": [
      "2000 [Discriminator loss: 0.596572, acc: 0.695312, Adversarial loss: 1.201578, acc: 0.062500]\n",
      "2100 [Discriminator loss: 0.605983, acc: 0.640625, Adversarial loss: 0.865872, acc: 0.328125]\n",
      "2200 [Discriminator loss: 0.634105, acc: 0.656250, Adversarial loss: 0.659659, acc: 0.593750]\n",
      "2300 [Discriminator loss: 0.585616, acc: 0.710938, Adversarial loss: 1.131466, acc: 0.218750]\n",
      "2400 [Discriminator loss: 0.638428, acc: 0.648438, Adversarial loss: 0.725652, acc: 0.421875]\n"
     ]
    },
    {
     "data": {
      "image/png": "[encoded data removed]",
      "text/plain": [
       "<Figure size 180x180 with 16 Axes>"
      ]
     },
     "metadata": {
      "needs_background": "light"
     },
     "output_type": "display_data"
    },
    {
     "name": "stdout",
     "output_type": "stream",
     "text": [
      "2500 [Discriminator loss: 0.618374, acc: 0.609375, Adversarial loss: 0.672269, acc: 0.578125]\n",
      "2600 [Discriminator loss: 0.573686, acc: 0.703125, Adversarial loss: 0.863341, acc: 0.312500]\n",
      "2700 [Discriminator loss: 0.618635, acc: 0.601562, Adversarial loss: 1.151710, acc: 0.125000]\n",
      "2800 [Discriminator loss: 0.612720, acc: 0.625000, Adversarial loss: 0.727567, acc: 0.593750]\n",
      "2900 [Discriminator loss: 0.633594, acc: 0.640625, Adversarial loss: 1.136072, acc: 0.187500]\n"
     ]
    },
    {
     "data": {
      "image/png": "[encoded data removed]",
      "text/plain": [
       "<Figure size 180x180 with 16 Axes>"
      ]
     },
     "metadata": {
      "needs_background": "light"
     },
     "output_type": "display_data"
    },
    {
     "name": "stdout",
     "output_type": "stream",
     "text": [
      "WARNING:tensorflow:Compiled the loaded model, but the compiled metrics have yet to be built. `model.compile_metrics` will be empty until you train or evaluate the model.\n"
     ]
    }
   ],
   "source": [
    "gan_object.train_gan(Generator,Discriminator,Adversarial)"
   ]
  },
  {
   "cell_type": "markdown",
   "metadata": {
    "id": "FJVVPFiHAhVK"
   },
   "source": [
    "# Synthetically generating images of 5\n"
   ]
  },
  {
   "cell_type": "code",
   "execution_count": 60,
   "metadata": {
    "id": "Op0DC-DP3uFo"
   },
   "outputs": [],
   "source": [
    "import numpy as np\n",
    "fake_images=gan_object.generate_fives(63372)\n",
    "fake_output=np.ones(63372)"
   ]
  },
  {
   "cell_type": "code",
   "execution_count": 73,
   "metadata": {
    "id": "BCUklQyU78v1"
   },
   "outputs": [],
   "source": [
    "# Joining with the existing dataset\n",
    "x_train_1=mnist.subset_x\n",
    "y_train_1=mnist.subset_y\n",
    "x_train_2=fake_images\n",
    "y_train_2=fake_output\n",
    "\n",
    "# Concatenating the unbalanced data and the synthetically generated data\n",
    "x_train=np.concatenate([x_train_1,np.squeeze(x_train_2)])\n",
    "y_train=np.concatenate([y_train_1,y_train_2])\n",
    "\n",
    "# Shuffling the dataset\n",
    "import random\n",
    "index=np.arange(0,y_train.shape[0])\n",
    "random.shuffle(index)\n",
    "x_train=x_train[index]\n",
    "y_train=y_train[index]"
   ]
  },
  {
   "cell_type": "markdown",
   "metadata": {
    "id": "LPgccpOw75XD"
   },
   "source": [
    "# Training the same model with balanced data"
   ]
  },
  {
   "cell_type": "code",
   "execution_count": 107,
   "metadata": {
    "colab": {
     "base_uri": "https://localhost:8080/"
    },
    "id": "wQ4JYkTD8Cvj",
    "outputId": "a6078928-77d0-4145-e749-b1217d5676d3"
   },
   "outputs": [
    {
     "name": "stdout",
     "output_type": "stream",
     "text": [
      "Epoch 1/10\n",
      "3980/3980 [==============================] - 13s 3ms/step - loss: 0.2535 - accuracy: 0.9556\n",
      "Epoch 2/10\n",
      "3980/3980 [==============================] - 12s 3ms/step - loss: 0.0499 - accuracy: 0.9912\n",
      "Epoch 3/10\n",
      "3980/3980 [==============================] - 12s 3ms/step - loss: 0.0231 - accuracy: 0.9946\n",
      "Epoch 4/10\n",
      "3980/3980 [==============================] - 12s 3ms/step - loss: 0.0147 - accuracy: 0.9962\n",
      "Epoch 5/10\n",
      "3980/3980 [==============================] - 12s 3ms/step - loss: 0.0106 - accuracy: 0.9972\n",
      "Epoch 6/10\n",
      "3980/3980 [==============================] - 12s 3ms/step - loss: 0.0083 - accuracy: 0.9977\n",
      "Epoch 7/10\n",
      "3980/3980 [==============================] - 12s 3ms/step - loss: 0.0069 - accuracy: 0.9981\n",
      "Epoch 8/10\n",
      "3980/3980 [==============================] - 12s 3ms/step - loss: 0.0056 - accuracy: 0.9984\n",
      "Epoch 9/10\n",
      "3980/3980 [==============================] - 12s 3ms/step - loss: 0.0047 - accuracy: 0.9987\n",
      "Epoch 10/10\n",
      "3980/3980 [==============================] - 12s 3ms/step - loss: 0.0042 - accuracy: 0.9988\n",
      "Done Unbalancing data\n"
     ]
    }
   ],
   "source": [
    "mnist.model_with_unbalanced_data(x_train,y_train,10)"
   ]
  },
  {
   "cell_type": "markdown",
   "metadata": {
    "id": "P-3X5E_B-1-u"
   },
   "source": [
    "## Comment on any differences that you saw in the two cases and generalize your comments on the utility of the approach above. (20 points)"
   ]
  },
  {
   "cell_type": "markdown",
   "metadata": {
    "id": "dVwvw9s-RkZs"
   },
   "source": [
    "When the data is trained after applying the steps as mentioned in the question, it will create an unbalanced dataset. \n",
    "The dataset has 315 data points belong to Class 5 and\n",
    "63687 data points belng to Class NOT 5. \n",
    "Even if all the predictions are 0, there will be 99.995 % accuracy. \n",
    "\n",
    "After the data is generated and balanced after using synthesised data from GAN, we can see that the model starts from a higher loss than in the earlier case and then it converges to better accuracy. In this case the baseline accuracy is 50%. Hence the second model is a better solution. \n",
    "\n",
    "\n",
    "The above approach can help in Synthetic data generation, which helps in balancing unbalanced dataset. \n",
    "It can help in cases where the data collection is tricky or expensive. It also helps to ensure that the models created are much more efficient in production than a model which is trained using a unblanced dataset. \n"
   ]
  },
  {
   "cell_type": "code",
   "execution_count": null,
   "metadata": {
    "id": "nysFP_7SWECg"
   },
   "outputs": [],
   "source": []
  }
 ],
 "metadata": {
  "accelerator": "GPU",
  "colab": {
   "machine_shape": "hm",
   "name": "Synthetic data generation i MNIST using GAN",
   "provenance": []
  },
  "kernelspec": {
   "display_name": "Python 3 (ipykernel)",
   "language": "python",
   "name": "python3"
  },
  "language_info": {
   "codemirror_mode": {
    "name": "ipython",
    "version": 3
   },
   "file_extension": ".py",
   "mimetype": "text/x-python",
   "name": "python",
   "nbconvert_exporter": "python",
   "pygments_lexer": "ipython3",
   "version": "3.8.8"
  }
 },
 "nbformat": 4,
 "nbformat_minor": 4
}
