{
  "nbformat": 4,
  "nbformat_minor": 0,
  "metadata": {
    "colab": {
      "name": "Effect of batch size on GAN",
      "provenance": [],
      "machine_shape": "hm"
    },
    "kernelspec": {
      "name": "python3",
      "display_name": "Python 3"
    },
    "language_info": {
      "name": "python"
    },
    "accelerator": "GPU"
  },
  "cells": [
    {
      "cell_type": "markdown",
      "source": [
        "### Creating a class for the project"
      ],
      "metadata": {
        "id": "64BxMq9G3ntk"
      }
    },
    {
      "cell_type": "code",
      "source": [
        "import numpy \n",
        "numpy.random.seed(seed=10)"
      ],
      "metadata": {
        "id": "-FnA6lVK8Fm8"
      },
      "execution_count": 1,
      "outputs": []
    },
    {
      "cell_type": "markdown",
      "source": [
        "# Creating a class for GAN\n",
        "Reference : Intro to GAN video series by Dr Sunil Kumar Vuppala"
      ],
      "metadata": {
        "id": "5pWzYDq1xpPh"
      }
    },
    {
      "cell_type": "code",
      "source": [
        "class gan:\n",
        "  def __init__(self):\n",
        "    \"\"\" The function will check if there is a pretrained model already in the \n",
        "    folder. If found, it will load the data. Otherwise, it will return error message\"\"\"\n",
        "\n",
        "    print('Class initialized')\n",
        "    import os\n",
        "    from keras.models import  load_model\n",
        "    flag=0\n",
        "    for file in os.listdir():\n",
        "      if file=='mnist_generator_dcgan.h5':\n",
        "        self.model=load_model(file)\n",
        "        print('Pre trained model loaded')\n",
        "        flag=1\n",
        "    if flag==0:\n",
        "      print('Pre trained model not found')\n",
        "            \n",
        "  \n",
        "\n",
        "  def create_generator(self,image_size=28,input_size=100):\n",
        "    ''' The function creates a generative model use=ing Keras and returns the model\n",
        "    The image is first converted into a smaller dimension with more channels. \n",
        "    Once this is done, we use futher Conv2D transpose operation to increase the size of the imahe\n",
        "    and to decrese the number of channels.\n",
        "    After the process, the model ends up creating an image of size 28x28 in the last layer. \n",
        "    '''\n",
        "\n",
        "    import keras \n",
        "    import tensorflow as tf\n",
        "    #Build an input layer\n",
        "    gen_input = tf.keras.layers.Input(shape=(input_size,))\n",
        "    \n",
        "    #Increase dimensions and resize to 3D to feed it to Conv2DTranspose layer\n",
        "    x = tf.keras.layers.Dense(7 * 7 * 128)(gen_input)\n",
        "    x = tf.keras.layers.Reshape((7, 7, 128))(x)\n",
        "    \n",
        "    #Use ConvTranspose\n",
        "    x = tf.keras.layers.BatchNormalization()(x)\n",
        "    x = tf.keras.layers.Activation('relu')(x)\n",
        "    x = tf.keras.layers.Conv2DTranspose(128, kernel_size=[5,5], strides=2, padding='same')(x)\n",
        "    \n",
        "    x = tf.keras.layers.BatchNormalization()(x)\n",
        "    x = tf.keras.layers.Activation('relu')(x)\n",
        "    x = tf.keras.layers.Conv2DTranspose(64, kernel_size=[5,5], strides=2, padding='same')(x)\n",
        "    \n",
        "    x = tf.keras.layers.BatchNormalization()(x)\n",
        "    x = tf.keras.layers.Activation('relu')(x)\n",
        "    x = tf.keras.layers.Conv2DTranspose(32, kernel_size=[5,5], strides=1, padding='same')(x)\n",
        "    \n",
        "    x = tf.keras.layers.BatchNormalization()(x)\n",
        "    x = tf.keras.layers.Activation('relu')(x)\n",
        "    x = tf.keras.layers.Conv2DTranspose(1, kernel_size=[5,5], strides=1, padding='same')(x)\n",
        "    \n",
        "    #Output layer for Generator\n",
        "    x = tf.keras.layers.Activation('sigmoid')(x)\n",
        "    \n",
        "    #Build model using Model API\n",
        "    generator = tf.keras.models.Model(gen_input, x, name='generator')\n",
        "    \n",
        "    return generator\n",
        "\n",
        "    \n",
        "  def create_discriminator(self,shape=[28,28,1,]):\n",
        "      \"\"\" Function to build the discriminator network from scratch using the tensorflow \n",
        "      and keras libraries\"\"\"\n",
        "      import tensorflow as tf\n",
        "      #Build the network\n",
        "      dis_input = tf.keras.layers.Input(shape)\n",
        "      x = tf.keras.layers.LeakyReLU(alpha=0.2)(dis_input)\n",
        "      x = tf.keras.layers.Conv2D(32, kernel_size=[5,5], strides=2, padding='same')(x)\n",
        "      \n",
        "      x = tf.keras.layers.LeakyReLU(alpha=0.2)(x)\n",
        "      x = tf.keras.layers.Conv2D(64, kernel_size=[5,5], strides=2, padding='same')(x)\n",
        "      \n",
        "      x = tf.keras.layers.LeakyReLU(alpha=0.2)(x)\n",
        "      x = tf.keras.layers.Conv2D(128, kernel_size=[5,5], strides=2, padding='same')(x)\n",
        "      \n",
        "      x = tf.keras.layers.LeakyReLU(alpha=0.2)(x)\n",
        "      x = tf.keras.layers.Conv2D(256, kernel_size=[5,5], strides=1, padding='same')(x)\n",
        "      \n",
        "      #Flatten the output and build an output layer\n",
        "      x = tf.keras.layers.Flatten()(x)\n",
        "      x = tf.keras.layers.Dense(1, activation='sigmoid')(x)\n",
        "      \n",
        "      #Build Model\n",
        "      discriminator = tf.keras.models.Model(dis_input, x, name='discriminator')\n",
        "      \n",
        "      return discriminator\n",
        "\n",
        "\n",
        "\n",
        "  def build_model(self):\n",
        "    \"\"\" The function creates a GAN model by using the discrimnator and generator models which were\n",
        "    defined in the earlier funtions inside the class. It also returns the generator, disciminator and \n",
        "    adversarial network after creating the model\"\"\"\n",
        "    import tensorflow as tf\n",
        "\n",
        "    noise_size = 100\n",
        "    lr = 2e-4\n",
        "    decay = 6e-8\n",
        "    \n",
        "    #Build Base Discriminator model\n",
        "    base_discriminator = self.create_discriminator()\n",
        "    \n",
        "    #Define optimizer and compile model\n",
        "    discriminator = tf.keras.models.Model(inputs=base_discriminator.inputs, \n",
        "                                          outputs=base_discriminator.outputs)\n",
        "    optimizer = tf.keras.optimizers.RMSprop(lr=lr, decay=decay)\n",
        "    discriminator.compile(loss='binary_crossentropy',\n",
        "                          optimizer=optimizer,\n",
        "                          metrics=['accuracy'])\n",
        "    \n",
        "    #Build Generator model\n",
        "    generator = self.create_generator(image_size=28, input_size=noise_size)\n",
        "    \n",
        "    #Build Frozen Discriminator\n",
        "    frozen_discriminator = tf.keras.models.Model(inputs=base_discriminator.inputs, \n",
        "                                          outputs=base_discriminator.outputs)\n",
        "    #Freeze the weights of discriminator during adversarial training\n",
        "    frozen_discriminator.trainable = False\n",
        "\n",
        "    #Build Adversarial model\n",
        "    optimizer = tf.keras.optimizers.RMSprop(lr=lr * 0.5, decay=decay * 0.5)\n",
        "    #Adversarial = generator + discriminator\n",
        "    adversarial = tf.keras.models.Model(generator.input, \n",
        "                        frozen_discriminator(generator.output))\n",
        "    \n",
        "    adversarial.compile(loss='binary_crossentropy',\n",
        "                        optimizer=optimizer,\n",
        "                        metrics=['accuracy'])    \n",
        "    \n",
        "    return generator, discriminator, adversarial\n",
        "\n",
        "\n",
        "\n",
        "\n",
        "\n",
        "  def train_gan(self,generator,discriminator,adversarial_network,distribution_size=100,batch_size=64):\n",
        "    import tensorflow as tf\n",
        "    import numpy as np\n",
        "    #Training parameters\n",
        "    batch_size = 64\n",
        "    train_steps = 3000\n",
        "    image_size = 28\n",
        "    \n",
        "    # load MNIST dataset\n",
        "    (train_x, train_y), (_, _) = tf.keras.datasets.mnist.load_data()\n",
        "    train_x=train_x[np.where(train_y==5)]\n",
        "    #Make it 3D dataset\n",
        "    train_x = np.reshape(train_x, [-1, image_size, image_size, 1])\n",
        "    #Standardize data : 0 to 1\n",
        "    train_x = train_x.astype('float32') / 255\n",
        "    \n",
        "    #Input for testing generator at different intervals, we will generate 16 images\n",
        "    test_noise_input = np.random.uniform(-1.0,1.0, size=[16, distribution_size])\n",
        "    \n",
        "    #Start training\n",
        "    for i in range(train_steps):\n",
        "        \n",
        "        #Train DISCRIMATOR\n",
        "        \n",
        "        #1. Get fake images from Generator\n",
        "        noise_input = np.random.uniform(-1.0,1.0, size=[batch_size, distribution_size])\n",
        "        fake_images = generator.predict(noise_input)\n",
        "        \n",
        "        #2. Get real images from training set\n",
        "        img_indexes = np.random.randint(0, train_x.shape[0], size=batch_size)\n",
        "        real_images = train_x[img_indexes]\n",
        "        \n",
        "        #3. Prepare input for training Discriminator\n",
        "        X = np.concatenate((real_images, fake_images))\n",
        "        \n",
        "        #4. Labels for training\n",
        "        y_real = np.ones((batch_size, 1))\n",
        "        y_fake = np.zeros((batch_size, 1))\n",
        "        y = np.concatenate((y_real, y_fake))\n",
        "        \n",
        "        #5. Train Discriminator\n",
        "        d_loss, d_acc = discriminator.train_on_batch(X, y)\n",
        "        \n",
        "        \n",
        "        #Train ADVERSARIAL Network\n",
        "        \n",
        "        #1. Prepare input - create a new batch of noise\n",
        "        X = noise_input = np.random.uniform(-1.0,1.0, size=[batch_size, distribution_size])\n",
        "        \n",
        "        #2. Prepare labels - training Adversarial network to lie :) - All 1s\n",
        "        y = np.ones((batch_size, 1))\n",
        "        \n",
        "        #3. Train - Pls note Discrimator is not getting trained here\n",
        "        a_loss, a_acc = adversarial_network.train_on_batch(X, y)\n",
        "        \n",
        "        if i % 100 == 0:\n",
        "            #Print loss and Accuracy for both networks\n",
        "            print(\"%s [Discriminator loss: %f, acc: %f, Adversarial loss: %f, acc: %f]\" % (i, d_loss, d_acc, a_loss, a_acc) )\n",
        "        \n",
        "        #Save generated images to see how well Generator is doing\n",
        "        if (i+1) % 500 == 0:\n",
        "            \n",
        "            #Generate 16 images\n",
        "            fake_images = generator.predict(test_noise_input)\n",
        "            \n",
        "            #Display images\n",
        "            self.plot_images(fake_images, i+1)\n",
        "            \n",
        "    #Save Generator model\n",
        "    self.model=generator\n",
        "    generator.save('mnist_generator_dcgan.h5')   \n",
        "\n",
        "\n",
        "\n",
        "\n",
        "  def plot_images(self,fake_images, step):\n",
        "    '''  The function helps in plotting the graphs, so that it is easy to \n",
        "    see how the model trains '''\n",
        "    \n",
        "    import matplotlib.pyplot as plt\n",
        "    import math\n",
        "    import numpy as np\n",
        "    plt.figure(figsize=(2.5,2.5))\n",
        "    num_images = fake_images.shape[0]\n",
        "    \n",
        "    image_size = fake_images.shape[1]\n",
        "    rows = int(math.sqrt(fake_images.shape[0]))\n",
        "    \n",
        "    for i in range(num_images):\n",
        "        plt.subplot(rows, rows, i + 1)\n",
        "        image = np.reshape(fake_images[i], [image_size, image_size])\n",
        "        plt.imshow(image, cmap='gray')\n",
        "        plt.axis('off')\n",
        "    plt.show()\n",
        "\n",
        "  def generate_fives(self,number):\n",
        "    ''' This function will generate 'number' number of 5's and will return the array'''\n",
        "    noise_input = np.random.uniform(-1.0,1.0, size=[number, 100])\n",
        "    fake_images = self.model.predict(noise_input)\n",
        "    return fake_images\n"
      ],
      "metadata": {
        "id": "2L2uCLODwQRO"
      },
      "execution_count": 10,
      "outputs": []
    },
    {
      "cell_type": "markdown",
      "source": [
        "## Calling the GAN functions"
      ],
      "metadata": {
        "id": "lyhILsedSJ2K"
      }
    },
    {
      "cell_type": "code",
      "source": [
        "gan_object=gan()\n",
        "Generator,Discriminator,Adversarial=gan_object.build_model()\n"
      ],
      "metadata": {
        "colab": {
          "base_uri": "https://localhost:8080/"
        },
        "id": "tnrygdD9DzdZ",
        "outputId": "c04da666-4356-4da3-c306-07672b3c3966"
      },
      "execution_count": 15,
      "outputs": [
        {
          "output_type": "stream",
          "name": "stdout",
          "text": [
            "Class initialized\n",
            "WARNING:tensorflow:No training configuration found in the save file, so the model was *not* compiled. Compile it manually.\n",
            "Pre trained model loaded\n"
          ]
        },
        {
          "output_type": "stream",
          "name": "stderr",
          "text": [
            "/usr/local/lib/python3.7/dist-packages/keras/optimizer_v2/rmsprop.py:130: UserWarning: The `lr` argument is deprecated, use `learning_rate` instead.\n",
            "  super(RMSprop, self).__init__(name, **kwargs)\n"
          ]
        }
      ]
    },
    {
      "cell_type": "markdown",
      "source": [
        "# Batch size :64"
      ],
      "metadata": {
        "id": "whH0N9tU8DJf"
      }
    },
    {
      "cell_type": "code",
      "source": [
        "import time\n",
        "start=time.time()\n",
        "\n",
        "gan_object.train_gan(Generator,Discriminator,Adversarial)\n",
        "print(time.time()-start)"
      ],
      "metadata": {
        "colab": {
          "base_uri": "https://localhost:8080/",
          "height": 323
        },
        "id": "9QX1qrIVD-lx",
        "outputId": "6f9e5d98-e8e4-4377-d754-3264c2b2e1b1"
      },
      "execution_count": null,
      "outputs": [
        {
          "output_type": "stream",
          "name": "stdout",
          "text": [
            "0 [Discriminator loss: 0.694395, acc: 0.234375, Adversarial loss: 0.848815, acc: 0.000000]\n",
            "100 [Discriminator loss: 0.000041, acc: 1.000000, Adversarial loss: 0.000157, acc: 1.000000]\n",
            "200 [Discriminator loss: 0.000026, acc: 1.000000, Adversarial loss: 0.000187, acc: 1.000000]\n",
            "300 [Discriminator loss: 0.000038, acc: 1.000000, Adversarial loss: 0.000009, acc: 1.000000]\n",
            "400 [Discriminator loss: 0.008150, acc: 1.000000, Adversarial loss: 0.038980, acc: 1.000000]\n"
          ]
        },
        {
          "output_type": "display_data",
          "data": {
            "image/png": "[encoded data removed]",
            "text/plain": [
              "<Figure size 180x180 with 16 Axes>"
            ]
          },
          "metadata": {
            "needs_background": "light"
          }
        },
        {
          "output_type": "stream",
          "name": "stdout",
          "text": [
            "500 [Discriminator loss: 0.305606, acc: 0.843750, Adversarial loss: 2.624250, acc: 0.000000]\n",
            "600 [Discriminator loss: 0.207906, acc: 0.929688, Adversarial loss: 1.199475, acc: 0.250000]\n",
            "700 [Discriminator loss: 0.009780, acc: 1.000000, Adversarial loss: 0.000175, acc: 1.000000]\n",
            "800 [Discriminator loss: 0.330352, acc: 0.867188, Adversarial loss: 0.451019, acc: 0.781250]\n"
          ]
        }
      ]
    },
    {
      "cell_type": "markdown",
      "source": [
        "# Batch Size = 128\n"
      ],
      "metadata": {
        "id": "iFJ9Q-BN37O-"
      }
    },
    {
      "cell_type": "code",
      "source": [
        "gan_object=gan()\n",
        "Generator,Discriminator,Adversarial=gan_object.build_model()\n",
        "\n",
        "import time\n",
        "start=time.time()\n",
        "\n",
        "gan_object.train_gan(Generator,Discriminator,Adversarial,batch_size=128)\n",
        "print(time.time()-start)"
      ],
      "metadata": {
        "id": "VeAV52b-3-Hk"
      },
      "execution_count": null,
      "outputs": []
    },
    {
      "cell_type": "markdown",
      "source": [
        "# Batch Size = 256"
      ],
      "metadata": {
        "id": "_LFbKd2R8Xbi"
      }
    },
    {
      "cell_type": "code",
      "source": [
        "gan_object=gan()\n",
        "Generator,Discriminator,Adversarial=gan_object.build_model()\n",
        "\n",
        "import time\n",
        "start=time.time()\n",
        "\n",
        "gan_object.train_gan(Generator,Discriminator,Adversarial,batch_size=256)\n",
        "print(time.time()-start)"
      ],
      "metadata": {
        "id": "MtAUoz9I8Xb8"
      },
      "execution_count": null,
      "outputs": []
    },
    {
      "cell_type": "markdown",
      "source": [
        "# Batch Size = 512\n"
      ],
      "metadata": {
        "id": "z93XUAqJ8X1I"
      }
    },
    {
      "cell_type": "code",
      "source": [
        "gan_object=gan()\n",
        "Generator,Discriminator,Adversarial=gan_object.build_model()\n",
        "\n",
        "import time\n",
        "start=time.time()\n",
        "\n",
        "gan_object.train_gan(Generator,Discriminator,Adversarial,batch_size=512)\n",
        "print(time.time()-start)"
      ],
      "metadata": {
        "id": "snxc920E8X1J"
      },
      "execution_count": null,
      "outputs": []
    }
  ]
}