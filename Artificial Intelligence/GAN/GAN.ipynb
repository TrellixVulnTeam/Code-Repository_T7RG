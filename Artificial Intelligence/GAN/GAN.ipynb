{
  "nbformat": 4,
  "nbformat_minor": 0,
  "metadata": {
    "colab": {
      "name": "GAN.ipynb",
      "provenance": []
    },
    "kernelspec": {
      "name": "python3",
      "display_name": "Python 3"
    },
    "language_info": {
      "name": "python"
    }
  },
  "cells": [
    {
      "cell_type": "markdown",
      "source": [
        "### Creating a class for the project"
      ],
      "metadata": {
        "id": "64BxMq9G3ntk"
      }
    },
    {
      "cell_type": "code",
      "source": [
        "class mnist_nn:\n",
        "  def __init__(self):\n",
        "    ''' The init function would read the dataset from sklearn datasets and print its shape'''\n",
        "    from keras.datasets import mnist\n",
        "    (self.x_train,self.y_train),(self.x_test,self.y_test)=mnist.load_data()\n",
        "    print('Size of Train data : ',self.x_train.shape)\n",
        "    print('Size of Test data : ',self.x_test.shape)\n",
        "    self.combine_x=[self.x_train,self.x_test]\n",
        "    self.combine_y=[self.y_train,self.y_test]\n",
        "  \n",
        "\n",
        "  def ohe_outputs(self):\n",
        "    ''' The function would one hot encode the outputs of the mnist dataset '''\n",
        "    import numpy as np\n",
        "    self.combine_ohe=[]\n",
        "    for data_y in self.combine_y:\n",
        "      result=np.zeros((data_y.shape[0],10))\n",
        "      for i in range(data_y.shape[0]):\n",
        "        result[i][data_y[i]]=1\n",
        "      self.combine_ohe.append(result)\n",
        "\n",
        "  def image_normalisation(self):\n",
        "    ''' Dividing all pixel images by 255 to normalise it '''\n",
        "    self.combine_x[0]=self.combine_x[0]/255\n",
        "    self.combine_x[1]=self.combine_x[1]/255\n",
        "\n",
        "\n",
        "  def create_best_model(self):\n",
        "    \n"
      ],
      "metadata": {
        "id": "aHYlA5k272KT"
      },
      "execution_count": null,
      "outputs": []
    },
    {
      "cell_type": "code",
      "source": [
        "mnist=mnist_nn()"
      ],
      "metadata": {
        "colab": {
          "base_uri": "https://localhost:8080/"
        },
        "id": "mB-QXO6o5YhR",
        "outputId": "014a2093-fdd8-4cc2-c570-2a2b28742403"
      },
      "execution_count": null,
      "outputs": [
        {
          "output_type": "stream",
          "name": "stdout",
          "text": [
            "Size of Train data :  (60000, 28, 28)\n",
            "Size of Test data :  (10000, 28, 28)\n"
          ]
        }
      ]
    },
    {
      "cell_type": "code",
      "source": [
        "# Operations on image\n",
        "mnist.ohe_outputs() # One Hot Encoding the Y values\n",
        "mnist.image_normalisation() # Normalising the pixels in image"
      ],
      "metadata": {
        "id": "p2tvg-WY5q_G"
      },
      "execution_count": null,
      "outputs": []
    },
    {
      "cell_type": "code",
      "source": [
        ""
      ],
      "metadata": {
        "id": "yuYN5abunUTC"
      },
      "execution_count": null,
      "outputs": []
    }
  ]
}