{
 "cells": [
  {
   "cell_type": "markdown",
   "metadata": {},
   "source": [
    "<h2> Files</h2>\n",
    "<body>\n",
    "    <b>smiles </b>: Virtual Environment - Use source /smiles/bin/activate to activate the virtual env<br>\n",
    "    <b>datasets/download.sh </b>: Bash script to download datasets \n",
    "\t\tUsage : bash download.sh gdb13 OR bash download.sh gdb17 or bash download.sh gdb17\n",
    "<br>\n",
    "    <b>datasets/delete.sh </b>: bash script to delete files in the folder. \n",
    "\t\tUsage : bash delete.sh gdb11_ where gdb11 is the grep string to search for.\n",
    "<br>\n",
    "    <b>datasets/extract.sh </b>: To extract files from a tar file and to save it in a folder\n",
    "\n",
    "<br>\n",
    "\n",
    " "
   ]
  },
  {
   "cell_type": "code",
   "execution_count": 3,
   "metadata": {},
   "outputs": [],
   "source": [
    "# Importing Libraries\n",
    "import pandas as pd\n",
    "data=pd.read_csv('datasets/gdb11/gdb11_size10.smi',delimiter='\\t')"
   ]
  },
  {
   "cell_type": "code",
   "execution_count": null,
   "metadata": {},
   "outputs": [],
   "source": []
  }
 ],
 "metadata": {
  "kernelspec": {
   "display_name": "Python 3",
   "language": "python",
   "name": "python3"
  },
  "language_info": {
   "codemirror_mode": {
    "name": "ipython",
    "version": 3
   },
   "file_extension": ".py",
   "mimetype": "text/x-python",
   "name": "python",
   "nbconvert_exporter": "python",
   "pygments_lexer": "ipython3",
   "version": "3.7.3"
  }
 },
 "nbformat": 4,
 "nbformat_minor": 2
}
