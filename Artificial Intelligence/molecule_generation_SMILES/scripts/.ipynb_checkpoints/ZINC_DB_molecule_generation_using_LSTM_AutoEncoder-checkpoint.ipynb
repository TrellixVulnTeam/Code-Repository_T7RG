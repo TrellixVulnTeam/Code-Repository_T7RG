{
 "cells": [
  {
   "cell_type": "markdown",
   "metadata": {
    "id": "2TThE6KcKKUB"
   },
   "source": [
    "<h2> Files</h2>\n",
    "<body>\n",
    "    <b>smiles </b>: Virtual Environment - Use source /smiles/bin/activate to activate the virtual env<br>\n",
    "    <b>datasets/download.sh </b>: Bash script to download datasets \n",
    "\t\tUsage : bash download.sh gdb13 OR bash download.sh gdb17 or bash download.sh gdb17\n",
    "<br>\n",
    "    <b>datasets/delete.sh </b>: bash script to delete files in the folder. \n",
    "\t\tUsage : bash delete.sh gdb11_ where gdb11 is the grep string to search for.\n",
    "<br>\n",
    "    <b>datasets/extract.sh </b>: To extract files from a tar file and to save it in a folder\n",
    "\n",
    "<br>\n",
    "\n",
    " "
   ]
  },
  {
   "cell_type": "markdown",
   "metadata": {
    "id": "Ix5Ovlz8YpoY"
   },
   "source": [
    "# About the dataset\n",
    "\n",
    "The dataset was downloaded from https://zinc.docking.org/substances/subsets/for-sale.csv?count=all\n",
    "with 'for_sale' filter"
   ]
  },
  {
   "cell_type": "markdown",
   "metadata": {
    "id": "1xpDCUaKnAk7"
   },
   "source": [
    "# Functions"
   ]
  },
  {
   "cell_type": "code",
   "execution_count": 38,
   "metadata": {
    "id": "WjBCT-yPnDD9"
   },
   "outputs": [],
   "source": [
    "# Function to One hot encode the data into into 2 Dimensions. \n",
    "# Splitting the dataset to len(distinct_charachter) number of columns\n",
    "def OneHotEncoding(data,ohe_dict,max):\n",
    "  \"\"\" The function makes use of the ohe_helper function to One Hot Encode a list of charachters and to return \n",
    "  the encoded format. Since the input here is a string, the output will be of 2 Dimensions \"\"\"\n",
    "\n",
    "  import numpy as np\n",
    "  ohe=[]\n",
    "  for data_point in data:\n",
    "    try:\n",
    "      ohe.append(ohe_helper(data_point,ohe_dict,max))\n",
    "    except:\n",
    "      print(data_point)\n",
    "  return ohe\n",
    "\n",
    "def ohe_helper(data,ohe_dict,max_value):\n",
    "  \"\"\" Helper function to One Hot Encode the data. \n",
    "  It is used by the above function\"\"\"\n",
    "\n",
    "  import numpy as np\n",
    "  out=np.zeros((max_value,len(ohe_dict)))\n",
    "  for i,element in enumerate(data):\n",
    "    out[i][key_value[element]]=1\n",
    "\n",
    "  return out\n",
    "\n",
    "def save(file,key_values):\n",
    "  \"\"\" The function will take the data and save it as an npz file, with\n",
    "  name smiles.npz\"\"\"\n",
    "  import numpy as np\n",
    "  np.savez('smiles.npz',ohe=temp,key=key_values)\n",
    "\n",
    "def OneHotDecoding_helper(data,dictionary):\n",
    "  \"\"\" Function to decode a One Hot Encoded 2D data back into its smile representation\"\"\"\n",
    "  key=list(dictionary.keys())\n",
    "  string=''\n",
    "  for charachter in data:\n",
    "    idx=charachter.argmax()\n",
    "    string+=key[idx]\n",
    "  return string\n",
    "\n",
    "def check_smiles(string):\n",
    "  object=check_molecule(string)"
   ]
  },
  {
   "cell_type": "markdown",
   "metadata": {
    "id": "WcuKXJI0t6Bw"
   },
   "source": [
    "# Define auto encoder"
   ]
  },
  {
   "cell_type": "code",
   "execution_count": 2,
   "metadata": {
    "id": "8szQMUZxsoZI"
   },
   "outputs": [],
   "source": [
    "def print_distributions(number_of_neurons, data):\n",
    "  import matplotlib.pyplot as plt\n",
    "  import seaborn as sns\n",
    "  \n",
    "  plt.figure(figsize=(20,20))\n",
    "\n",
    "  for i in range(number_of_neurons):\n",
    "    plt.subplot(8,number_of_neurons//8,i+1)\n",
    "    sns.histplot(data[i])\n",
    "    \n",
    "def print_decoder_outputs(input,predictions,number):\n",
    "  import matplotlib.pyplot as plt\n",
    "  plt.figure(figsize=(10,3))\n",
    "  for i in range(number):\n",
    "    plt.subplot(1,number,i+1)\n",
    "    plt.axis='off'\n",
    "    plt.imshow(input[i].reshape(28,28),cmap='gray')\n",
    "  plt.figure(figsize=(10,3))\n",
    "  for i in range(number):\n",
    "    plt.subplot(1,number,i+1)\n",
    "    plt.axis='off'\n",
    "    plt.imshow(predictions[i].reshape(28,28),cmap='gray')\n"
   ]
  },
  {
   "cell_type": "markdown",
   "metadata": {
    "id": "8eBhDkgUNOx4"
   },
   "source": [
    "# Preparing the data"
   ]
  },
  {
   "cell_type": "code",
   "execution_count": 3,
   "metadata": {
    "colab": {
     "base_uri": "https://localhost:8080/"
    },
    "id": "pskcxzApKbny",
    "outputId": "34c59bef-30d6-4b2c-b8a8-2f3c9c2662a2"
   },
   "outputs": [
    {
     "name": "stdout",
     "output_type": "stream",
     "text": [
      "Drive already mounted at /content/drive; to attempt to forcibly remount, call drive.mount(\"/content/drive\", force_remount=True).\n"
     ]
    }
   ],
   "source": [
    "\n",
    "# Connecting to google drive and navigating to folder\n",
    "from google.colab import drive\n",
    "drive.mount('/content/drive')\n",
    "import os\n",
    "os.chdir(\"drive/MyDrive/Colab Notebooks/molecule_generation_SMILES/scripts\")"
   ]
  },
  {
   "cell_type": "code",
   "execution_count": 4,
   "metadata": {
    "colab": {
     "base_uri": "https://localhost:8080/"
    },
    "id": "Kt33dM6UKKUJ",
    "outputId": "0aa82f44-2f47-4f63-ce5b-ab9705379ee0"
   },
   "outputs": [
    {
     "name": "stdout",
     "output_type": "stream",
     "text": [
      "Requirement already satisfied: smilite in /usr/local/lib/python3.7/dist-packages (2.3.0)\n",
      "Requirement already satisfied: PyPrind>=2.3.1 in /usr/local/lib/python3.7/dist-packages (from smilite) (2.11.3)\n"
     ]
    }
   ],
   "source": [
    "!pip install smilite\n",
    "# Importing Libraries\n",
    "import pandas as pd\n",
    "import smilite # Library to check if data generated is correct or not\n",
    "from check_molecule import *\n",
    "import numpy as np\n"
   ]
  },
  {
   "cell_type": "code",
   "execution_count": 26,
   "metadata": {
    "id": "z_8sTpm4SWw_"
   },
   "outputs": [],
   "source": [
    "data=pd.read_csv('ZINC.csv',nrows=7000000)"
   ]
  },
  {
   "cell_type": "code",
   "execution_count": 27,
   "metadata": {
    "colab": {
     "base_uri": "https://localhost:8080/",
     "height": 206
    },
    "id": "tzudWoouSblW",
    "outputId": "a75a59c4-ee43-4d3b-f9bd-9d31dabbc778"
   },
   "outputs": [
    {
     "data": {
      "text/html": [
       "\n",
       "  <div id=\"df-7d3b5f7c-56c7-4d84-8482-de251637a199\">\n",
       "    <div class=\"colab-df-container\">\n",
       "      <div>\n",
       "<style scoped>\n",
       "    .dataframe tbody tr th:only-of-type {\n",
       "        vertical-align: middle;\n",
       "    }\n",
       "\n",
       "    .dataframe tbody tr th {\n",
       "        vertical-align: top;\n",
       "    }\n",
       "\n",
       "    .dataframe thead th {\n",
       "        text-align: right;\n",
       "    }\n",
       "</style>\n",
       "<table border=\"1\" class=\"dataframe\">\n",
       "  <thead>\n",
       "    <tr style=\"text-align: right;\">\n",
       "      <th></th>\n",
       "      <th>zinc_id</th>\n",
       "      <th>smiles</th>\n",
       "    </tr>\n",
       "  </thead>\n",
       "  <tbody>\n",
       "    <tr>\n",
       "      <th>0</th>\n",
       "      <td>ZINC000000000007</td>\n",
       "      <td>C=CCc1ccc(OCC(=O)N(CC)CC)c(OC)c1</td>\n",
       "    </tr>\n",
       "    <tr>\n",
       "      <th>1</th>\n",
       "      <td>ZINC000000000010</td>\n",
       "      <td>C[C@@]1(c2ccccc2)OC(C(=O)O)=CC1=O</td>\n",
       "    </tr>\n",
       "    <tr>\n",
       "      <th>2</th>\n",
       "      <td>ZINC000000000011</td>\n",
       "      <td>COc1cc(Cc2cnc(N)nc2N)cc(OC)c1N(C)C</td>\n",
       "    </tr>\n",
       "    <tr>\n",
       "      <th>3</th>\n",
       "      <td>ZINC000000000012</td>\n",
       "      <td>O=C(C[S@@](=O)C(c1ccccc1)c1ccccc1)NO</td>\n",
       "    </tr>\n",
       "    <tr>\n",
       "      <th>4</th>\n",
       "      <td>ZINC000000000014</td>\n",
       "      <td>CC[C@H]1[C@H](O)N2[C@H]3C[C@@]45c6ccccc6N(C)[C...</td>\n",
       "    </tr>\n",
       "  </tbody>\n",
       "</table>\n",
       "</div>\n",
       "      <button class=\"colab-df-convert\" onclick=\"convertToInteractive('df-7d3b5f7c-56c7-4d84-8482-de251637a199')\"\n",
       "              title=\"Convert this dataframe to an interactive table.\"\n",
       "              style=\"display:none;\">\n",
       "        \n",
       "  <svg xmlns=\"http://www.w3.org/2000/svg\" height=\"24px\"viewBox=\"0 0 24 24\"\n",
       "       width=\"24px\">\n",
       "    <path d=\"M0 0h24v24H0V0z\" fill=\"none\"/>\n",
       "    <path d=\"M18.56 5.44l.94 2.06.94-2.06 2.06-.94-2.06-.94-.94-2.06-.94 2.06-2.06.94zm-11 1L8.5 8.5l.94-2.06 2.06-.94-2.06-.94L8.5 2.5l-.94 2.06-2.06.94zm10 10l.94 2.06.94-2.06 2.06-.94-2.06-.94-.94-2.06-.94 2.06-2.06.94z\"/><path d=\"M17.41 7.96l-1.37-1.37c-.4-.4-.92-.59-1.43-.59-.52 0-1.04.2-1.43.59L10.3 9.45l-7.72 7.72c-.78.78-.78 2.05 0 2.83L4 21.41c.39.39.9.59 1.41.59.51 0 1.02-.2 1.41-.59l7.78-7.78 2.81-2.81c.8-.78.8-2.07 0-2.86zM5.41 20L4 18.59l7.72-7.72 1.47 1.35L5.41 20z\"/>\n",
       "  </svg>\n",
       "      </button>\n",
       "      \n",
       "  <style>\n",
       "    .colab-df-container {\n",
       "      display:flex;\n",
       "      flex-wrap:wrap;\n",
       "      gap: 12px;\n",
       "    }\n",
       "\n",
       "    .colab-df-convert {\n",
       "      background-color: #E8F0FE;\n",
       "      border: none;\n",
       "      border-radius: 50%;\n",
       "      cursor: pointer;\n",
       "      display: none;\n",
       "      fill: #1967D2;\n",
       "      height: 32px;\n",
       "      padding: 0 0 0 0;\n",
       "      width: 32px;\n",
       "    }\n",
       "\n",
       "    .colab-df-convert:hover {\n",
       "      background-color: #E2EBFA;\n",
       "      box-shadow: 0px 1px 2px rgba(60, 64, 67, 0.3), 0px 1px 3px 1px rgba(60, 64, 67, 0.15);\n",
       "      fill: #174EA6;\n",
       "    }\n",
       "\n",
       "    [theme=dark] .colab-df-convert {\n",
       "      background-color: #3B4455;\n",
       "      fill: #D2E3FC;\n",
       "    }\n",
       "\n",
       "    [theme=dark] .colab-df-convert:hover {\n",
       "      background-color: #434B5C;\n",
       "      box-shadow: 0px 1px 3px 1px rgba(0, 0, 0, 0.15);\n",
       "      filter: drop-shadow(0px 1px 2px rgba(0, 0, 0, 0.3));\n",
       "      fill: #FFFFFF;\n",
       "    }\n",
       "  </style>\n",
       "\n",
       "      <script>\n",
       "        const buttonEl =\n",
       "          document.querySelector('#df-7d3b5f7c-56c7-4d84-8482-de251637a199 button.colab-df-convert');\n",
       "        buttonEl.style.display =\n",
       "          google.colab.kernel.accessAllowed ? 'block' : 'none';\n",
       "\n",
       "        async function convertToInteractive(key) {\n",
       "          const element = document.querySelector('#df-7d3b5f7c-56c7-4d84-8482-de251637a199');\n",
       "          const dataTable =\n",
       "            await google.colab.kernel.invokeFunction('convertToInteractive',\n",
       "                                                     [key], {});\n",
       "          if (!dataTable) return;\n",
       "\n",
       "          const docLinkHtml = 'Like what you see? Visit the ' +\n",
       "            '<a target=\"_blank\" href=https://colab.research.google.com/notebooks/data_table.ipynb>data table notebook</a>'\n",
       "            + ' to learn more about interactive tables.';\n",
       "          element.innerHTML = '';\n",
       "          dataTable['output_type'] = 'display_data';\n",
       "          await google.colab.output.renderOutput(dataTable, element);\n",
       "          const docLink = document.createElement('div');\n",
       "          docLink.innerHTML = docLinkHtml;\n",
       "          element.appendChild(docLink);\n",
       "        }\n",
       "      </script>\n",
       "    </div>\n",
       "  </div>\n",
       "  "
      ],
      "text/plain": [
       "            zinc_id                                             smiles\n",
       "0  ZINC000000000007                   C=CCc1ccc(OCC(=O)N(CC)CC)c(OC)c1\n",
       "1  ZINC000000000010                  C[C@@]1(c2ccccc2)OC(C(=O)O)=CC1=O\n",
       "2  ZINC000000000011                 COc1cc(Cc2cnc(N)nc2N)cc(OC)c1N(C)C\n",
       "3  ZINC000000000012               O=C(C[S@@](=O)C(c1ccccc1)c1ccccc1)NO\n",
       "4  ZINC000000000014  CC[C@H]1[C@H](O)N2[C@H]3C[C@@]45c6ccccc6N(C)[C..."
      ]
     },
     "execution_count": 27,
     "metadata": {},
     "output_type": "execute_result"
    }
   ],
   "source": [
    "data.head()"
   ]
  },
  {
   "cell_type": "code",
   "execution_count": 28,
   "metadata": {
    "colab": {
     "base_uri": "https://localhost:8080/",
     "height": 206
    },
    "id": "fa04SduCS04T",
    "outputId": "f5f98764-492d-4d29-f1f5-76ee46f21c94"
   },
   "outputs": [
    {
     "data": {
      "text/html": [
       "\n",
       "  <div id=\"df-31bdcdc1-7f58-46c2-a5fc-4452bd2f71e2\">\n",
       "    <div class=\"colab-df-container\">\n",
       "      <div>\n",
       "<style scoped>\n",
       "    .dataframe tbody tr th:only-of-type {\n",
       "        vertical-align: middle;\n",
       "    }\n",
       "\n",
       "    .dataframe tbody tr th {\n",
       "        vertical-align: top;\n",
       "    }\n",
       "\n",
       "    .dataframe thead th {\n",
       "        text-align: right;\n",
       "    }\n",
       "</style>\n",
       "<table border=\"1\" class=\"dataframe\">\n",
       "  <thead>\n",
       "    <tr style=\"text-align: right;\">\n",
       "      <th></th>\n",
       "      <th>Molecule</th>\n",
       "    </tr>\n",
       "  </thead>\n",
       "  <tbody>\n",
       "    <tr>\n",
       "      <th>0</th>\n",
       "      <td>C=CCc1ccc(OCC(=O)N(CC)CC)c(OC)c1</td>\n",
       "    </tr>\n",
       "    <tr>\n",
       "      <th>1</th>\n",
       "      <td>C[C@@]1(c2ccccc2)OC(C(=O)O)=CC1=O</td>\n",
       "    </tr>\n",
       "    <tr>\n",
       "      <th>2</th>\n",
       "      <td>COc1cc(Cc2cnc(N)nc2N)cc(OC)c1N(C)C</td>\n",
       "    </tr>\n",
       "    <tr>\n",
       "      <th>3</th>\n",
       "      <td>O=C(C[S@@](=O)C(c1ccccc1)c1ccccc1)NO</td>\n",
       "    </tr>\n",
       "    <tr>\n",
       "      <th>4</th>\n",
       "      <td>CC[C@H]1[C@H](O)N2[C@H]3C[C@@]45c6ccccc6N(C)[C...</td>\n",
       "    </tr>\n",
       "  </tbody>\n",
       "</table>\n",
       "</div>\n",
       "      <button class=\"colab-df-convert\" onclick=\"convertToInteractive('df-31bdcdc1-7f58-46c2-a5fc-4452bd2f71e2')\"\n",
       "              title=\"Convert this dataframe to an interactive table.\"\n",
       "              style=\"display:none;\">\n",
       "        \n",
       "  <svg xmlns=\"http://www.w3.org/2000/svg\" height=\"24px\"viewBox=\"0 0 24 24\"\n",
       "       width=\"24px\">\n",
       "    <path d=\"M0 0h24v24H0V0z\" fill=\"none\"/>\n",
       "    <path d=\"M18.56 5.44l.94 2.06.94-2.06 2.06-.94-2.06-.94-.94-2.06-.94 2.06-2.06.94zm-11 1L8.5 8.5l.94-2.06 2.06-.94-2.06-.94L8.5 2.5l-.94 2.06-2.06.94zm10 10l.94 2.06.94-2.06 2.06-.94-2.06-.94-.94-2.06-.94 2.06-2.06.94z\"/><path d=\"M17.41 7.96l-1.37-1.37c-.4-.4-.92-.59-1.43-.59-.52 0-1.04.2-1.43.59L10.3 9.45l-7.72 7.72c-.78.78-.78 2.05 0 2.83L4 21.41c.39.39.9.59 1.41.59.51 0 1.02-.2 1.41-.59l7.78-7.78 2.81-2.81c.8-.78.8-2.07 0-2.86zM5.41 20L4 18.59l7.72-7.72 1.47 1.35L5.41 20z\"/>\n",
       "  </svg>\n",
       "      </button>\n",
       "      \n",
       "  <style>\n",
       "    .colab-df-container {\n",
       "      display:flex;\n",
       "      flex-wrap:wrap;\n",
       "      gap: 12px;\n",
       "    }\n",
       "\n",
       "    .colab-df-convert {\n",
       "      background-color: #E8F0FE;\n",
       "      border: none;\n",
       "      border-radius: 50%;\n",
       "      cursor: pointer;\n",
       "      display: none;\n",
       "      fill: #1967D2;\n",
       "      height: 32px;\n",
       "      padding: 0 0 0 0;\n",
       "      width: 32px;\n",
       "    }\n",
       "\n",
       "    .colab-df-convert:hover {\n",
       "      background-color: #E2EBFA;\n",
       "      box-shadow: 0px 1px 2px rgba(60, 64, 67, 0.3), 0px 1px 3px 1px rgba(60, 64, 67, 0.15);\n",
       "      fill: #174EA6;\n",
       "    }\n",
       "\n",
       "    [theme=dark] .colab-df-convert {\n",
       "      background-color: #3B4455;\n",
       "      fill: #D2E3FC;\n",
       "    }\n",
       "\n",
       "    [theme=dark] .colab-df-convert:hover {\n",
       "      background-color: #434B5C;\n",
       "      box-shadow: 0px 1px 3px 1px rgba(0, 0, 0, 0.15);\n",
       "      filter: drop-shadow(0px 1px 2px rgba(0, 0, 0, 0.3));\n",
       "      fill: #FFFFFF;\n",
       "    }\n",
       "  </style>\n",
       "\n",
       "      <script>\n",
       "        const buttonEl =\n",
       "          document.querySelector('#df-31bdcdc1-7f58-46c2-a5fc-4452bd2f71e2 button.colab-df-convert');\n",
       "        buttonEl.style.display =\n",
       "          google.colab.kernel.accessAllowed ? 'block' : 'none';\n",
       "\n",
       "        async function convertToInteractive(key) {\n",
       "          const element = document.querySelector('#df-31bdcdc1-7f58-46c2-a5fc-4452bd2f71e2');\n",
       "          const dataTable =\n",
       "            await google.colab.kernel.invokeFunction('convertToInteractive',\n",
       "                                                     [key], {});\n",
       "          if (!dataTable) return;\n",
       "\n",
       "          const docLinkHtml = 'Like what you see? Visit the ' +\n",
       "            '<a target=\"_blank\" href=https://colab.research.google.com/notebooks/data_table.ipynb>data table notebook</a>'\n",
       "            + ' to learn more about interactive tables.';\n",
       "          element.innerHTML = '';\n",
       "          dataTable['output_type'] = 'display_data';\n",
       "          await google.colab.output.renderOutput(dataTable, element);\n",
       "          const docLink = document.createElement('div');\n",
       "          docLink.innerHTML = docLinkHtml;\n",
       "          element.appendChild(docLink);\n",
       "        }\n",
       "      </script>\n",
       "    </div>\n",
       "  </div>\n",
       "  "
      ],
      "text/plain": [
       "                                            Molecule\n",
       "0                   C=CCc1ccc(OCC(=O)N(CC)CC)c(OC)c1\n",
       "1                  C[C@@]1(c2ccccc2)OC(C(=O)O)=CC1=O\n",
       "2                 COc1cc(Cc2cnc(N)nc2N)cc(OC)c1N(C)C\n",
       "3               O=C(C[S@@](=O)C(c1ccccc1)c1ccccc1)NO\n",
       "4  CC[C@H]1[C@H](O)N2[C@H]3C[C@@]45c6ccccc6N(C)[C..."
      ]
     },
     "execution_count": 28,
     "metadata": {},
     "output_type": "execute_result"
    }
   ],
   "source": [
    "zinc_id_from_db=data['zinc_id']\n",
    "data.drop(['zinc_id'],axis=1,inplace=True)\n",
    "data.columns=['Molecule']\n",
    "\n",
    "\n",
    "data.head()"
   ]
  },
  {
   "cell_type": "markdown",
   "metadata": {
    "id": "1_gBS8rDKKUN"
   },
   "source": [
    "<h4>One Hot Encoding the data"
   ]
  },
  {
   "cell_type": "code",
   "execution_count": 29,
   "metadata": {
    "id": "4Y0oyVh7KKUO"
   },
   "outputs": [],
   "source": [
    "# % time\n",
    "\n",
    "\n",
    "# Creating a new column with the charachter seperated as a list\n",
    "data['Molecule_sep']=data['Molecule'].apply(lambda x: list(x))\n",
    "\n",
    "#Creating a new column with length of each smiles representation\n",
    "data['length']=data['Molecule_sep'].apply(lambda x: len(x))\n",
    "\n"
   ]
  },
  {
   "cell_type": "code",
   "execution_count": 31,
   "metadata": {
    "id": "qF0I4EMoeDmx"
   },
   "outputs": [],
   "source": [
    "# Finding the distinct charachters in the dataset\n",
    "distinct_charachters=set(' '.join(data[data['length']==32]['Molecule'].values))\n",
    "\n",
    "# Creating a dictionary to get the index value\n",
    "key_value={}\n",
    "key_value[' ']=0\n",
    "idx=1\n",
    "for charachter in distinct_charachters:\n",
    "  if charachter!=' ':\n",
    "    key_value[charachter]=idx\n",
    "    idx+=1\n",
    "\n",
    "data=data[data['length']==32] # Filtering the data to get elements of same size\n",
    "data.to_csv('zinc_data_reduced.csv')\n",
    "np.savez('key_value_pairs',key=key_value)"
   ]
  },
  {
   "cell_type": "code",
   "execution_count": 91,
   "metadata": {
    "id": "kd0mrniMXr0d"
   },
   "outputs": [],
   "source": [
    "data=pd.read_csv('zinc_data_reduced.csv')\n",
    "data.drop(data.columns[0],axis=1,inplace=True)\n",
    "key_value=np.load('key_value_pairs.npz',allow_pickle=True)\n",
    "key_value=key_value['key']\n",
    "key_value=key_value.item()"
   ]
  },
  {
   "cell_type": "code",
   "execution_count": 64,
   "metadata": {
    "id": "wmGEDEU-VCMo"
   },
   "outputs": [],
   "source": [
    "#Since the charachters are not ordinal , converting them into one Hot Encoding\n",
    "import numpy as np\n",
    "temp=np.array(OneHotEncoding(data['Molecule'],key_value,data['length'].max()))\n",
    "\n",
    "np.savez('smiles_zinc.npz',ohe=temp,key=key_value)"
   ]
  },
  {
   "cell_type": "code",
   "execution_count": 65,
   "metadata": {
    "id": "-AvKaL2R6b65"
   },
   "outputs": [],
   "source": [
    "# Reading the saved Nump file\n",
    "import numpy as np\n",
    "data_en=np.load('smiles_zinc.npz',allow_pickle=True)\n",
    "key_value=data_en['key'].item()\n",
    "data_en=data_en['ohe']"
   ]
  },
  {
   "cell_type": "markdown",
   "metadata": {
    "id": "0oMCXmTNrE4P"
   },
   "source": [
    "# LSTM Autoencoder\n",
    "Reference : TowardsDataScience post on LSTM AutoEncoders by Chitta Ranjan\n"
   ]
  },
  {
   "cell_type": "code",
   "execution_count": 67,
   "metadata": {
    "colab": {
     "base_uri": "https://localhost:8080/",
     "height": 35
    },
    "id": "6pcltA2ZHjMl",
    "outputId": "242a03be-c92a-4f74-81e9-ba374eb8a783"
   },
   "outputs": [
    {
     "data": {
      "application/vnd.google.colaboratory.intrinsic+json": {
       "type": "string"
      },
      "text/plain": [
       "'C=CCc1ccc(OCC(=O)N(CC)CC)c(OC)c1'"
      ]
     },
     "execution_count": 67,
     "metadata": {},
     "output_type": "execute_result"
    }
   ],
   "source": [
    "OneHotDecoding_helper(data_en[0],key_value)"
   ]
  },
  {
   "cell_type": "code",
   "execution_count": 68,
   "metadata": {
    "id": "cqgJvMhv1KXv"
   },
   "outputs": [],
   "source": [
    "slicing_point=int(len(data_en)*0.75)\n",
    "x_train=data_en[:slicing_point]\n",
    "x_test=data_en[slicing_point:]"
   ]
  },
  {
   "cell_type": "code",
   "execution_count": null,
   "metadata": {
    "colab": {
     "base_uri": "https://localhost:8080/"
    },
    "id": "jN0_tOIjv-Nw",
    "outputId": "e4ee25b1-1eec-4317-dae6-ebd75ac3ac1c"
   },
   "outputs": [
    {
     "name": "stdout",
     "output_type": "stream",
     "text": [
      "WARNING:tensorflow:Layer lstm_12 will not use cuDNN kernels since it doesn't meet the criteria. It will use a generic GPU kernel as fallback when running on GPU.\n",
      "WARNING:tensorflow:Layer lstm_13 will not use cuDNN kernels since it doesn't meet the criteria. It will use a generic GPU kernel as fallback when running on GPU.\n",
      "WARNING:tensorflow:Layer lstm_14 will not use cuDNN kernels since it doesn't meet the criteria. It will use a generic GPU kernel as fallback when running on GPU.\n",
      "WARNING:tensorflow:Layer lstm_15 will not use cuDNN kernels since it doesn't meet the criteria. It will use a generic GPU kernel as fallback when running on GPU.\n",
      "Model: \"sequential_3\"\n",
      "_________________________________________________________________\n",
      " Layer (type)                Output Shape              Param #   \n",
      "=================================================================\n",
      " lstm_12 (LSTM)              (None, 32, 32)            8320      \n",
      "                                                                 \n",
      " lstm_13 (LSTM)              (None, 8)                 1312      \n",
      "                                                                 \n",
      " repeat_vector_3 (RepeatVect  (None, 32, 8)            0         \n",
      " or)                                                             \n",
      "                                                                 \n",
      " lstm_14 (LSTM)              (None, 32, 64)            18688     \n",
      "                                                                 \n",
      " lstm_15 (LSTM)              (None, 32, 128)           98816     \n",
      "                                                                 \n",
      " dense_3 (Dense)             (None, 32, 32)            4128      \n",
      "                                                                 \n",
      "=================================================================\n",
      "Total params: 131,264\n",
      "Trainable params: 131,264\n",
      "Non-trainable params: 0\n",
      "_________________________________________________________________\n",
      "Epoch 1/30\n",
      "124/124 [==============================] - 39s 280ms/step - loss: 0.2334 - val_loss: 0.0981\n",
      "Epoch 2/30\n",
      "124/124 [==============================] - 33s 270ms/step - loss: 0.0948 - val_loss: 0.0922\n",
      "Epoch 3/30\n",
      "124/124 [==============================] - 34s 271ms/step - loss: 0.0896 - val_loss: 0.0868\n",
      "Epoch 4/30\n",
      "124/124 [==============================] - 34s 271ms/step - loss: 0.0863 - val_loss: 0.0848\n",
      "Epoch 5/30\n",
      "124/124 [==============================] - 34s 271ms/step - loss: 0.0837 - val_loss: 0.0834\n",
      "Epoch 6/30\n",
      "124/124 [==============================] - 33s 270ms/step - loss: 0.0818 - val_loss: 0.0809\n",
      "Epoch 7/30\n",
      "124/124 [==============================] - 34s 273ms/step - loss: 0.0797 - val_loss: 0.0794\n",
      "Epoch 8/30\n",
      "124/124 [==============================] - 34s 272ms/step - loss: 0.0781 - val_loss: 0.0773\n",
      "Epoch 9/30\n",
      "124/124 [==============================] - 33s 270ms/step - loss: 0.0765 - val_loss: 0.0768\n",
      "Epoch 10/30\n",
      "124/124 [==============================] - 34s 272ms/step - loss: 0.0743 - val_loss: 0.0722\n",
      "Epoch 11/30\n",
      "124/124 [==============================] - 34s 271ms/step - loss: 0.0738 - val_loss: 0.0775\n",
      "Epoch 12/30\n",
      "124/124 [==============================] - 34s 270ms/step - loss: 0.0713 - val_loss: 0.0727\n",
      "Epoch 13/30\n",
      "124/124 [==============================] - 33s 268ms/step - loss: 0.0711 - val_loss: 0.0691\n",
      "Epoch 14/30\n",
      "124/124 [==============================] - 33s 269ms/step - loss: 0.0704 - val_loss: 0.0727\n",
      "Epoch 15/30\n",
      "124/124 [==============================] - 33s 269ms/step - loss: 0.0714 - val_loss: 0.0714\n",
      "Epoch 16/30\n",
      "124/124 [==============================] - 33s 270ms/step - loss: 0.0692 - val_loss: 0.0712\n",
      "Epoch 17/30\n",
      "124/124 [==============================] - 34s 271ms/step - loss: 0.0672 - val_loss: 0.0681\n",
      "Epoch 18/30\n",
      "124/124 [==============================] - 33s 270ms/step - loss: 0.0705 - val_loss: 0.0679\n",
      "Epoch 19/30\n",
      "124/124 [==============================] - 34s 271ms/step - loss: 0.0666 - val_loss: 0.0655\n",
      "Epoch 20/30\n",
      "124/124 [==============================] - 33s 269ms/step - loss: 0.0663 - val_loss: 0.0737\n",
      "Epoch 21/30\n",
      "124/124 [==============================] - 33s 270ms/step - loss: 0.0658 - val_loss: 0.0644\n",
      "Epoch 22/30\n",
      "124/124 [==============================] - 33s 270ms/step - loss: 0.0635 - val_loss: 0.0643\n",
      "Epoch 23/30\n",
      "124/124 [==============================] - 33s 270ms/step - loss: 0.0688 - val_loss: 0.0659\n",
      "Epoch 24/30\n",
      "124/124 [==============================] - 33s 268ms/step - loss: 0.0652 - val_loss: 0.0638\n",
      "Epoch 25/30\n",
      "124/124 [==============================] - 34s 273ms/step - loss: 0.0629 - val_loss: 0.0653\n",
      "Epoch 26/30\n",
      "124/124 [==============================] - 34s 272ms/step - loss: 0.0648 - val_loss: 0.0633\n",
      "Epoch 27/30\n",
      " 78/124 [=================>............] - ETA: 11s - loss: 0.0614"
     ]
    }
   ],
   "source": [
    "\n",
    "# The motive here is to create a Deep autoencoder\n",
    "from keras import Sequential\n",
    "from keras.layers import LSTM,Dense,RepeatVector\n",
    "# define model\n",
    "model = Sequential()\n",
    "model.add(LSTM(32, activation='relu', input_shape=(32,32), return_sequences=True))\n",
    "model.add(LSTM(8, activation='relu', return_sequences=False))\n",
    "model.add(RepeatVector(32))\n",
    "model.add(LSTM(64, activation='relu', return_sequences=True))\n",
    "model.add(LSTM(128, activation='relu', return_sequences=True))\n",
    "model.add(Dense(32, activation='softmax'))\n",
    "model.compile(optimizer='adam', loss='binary_crossentropy')\n",
    "model.summary()\n",
    "\n",
    "model.fit(x_train,x_train,epochs = 30,\n",
    "          batch_size=512,\n",
    "          shuffle = True,\n",
    "          validation_data = (x_test,x_test))"
   ]
  },
  {
   "cell_type": "code",
   "execution_count": 73,
   "metadata": {
    "id": "vE6SBmZoxew_"
   },
   "outputs": [],
   "source": [
    "# Seperating the encoder and the decoder\n",
    "from keras.models import Model\n",
    "encoder=Model(inputs=model.input,outputs=model.layers[2].output)\n",
    "decoder=Model(inputs=model.layers[-3].input,outputs=model.output)"
   ]
  },
  {
   "cell_type": "code",
   "execution_count": 74,
   "metadata": {
    "colab": {
     "base_uri": "https://localhost:8080/"
    },
    "id": "OYt3Gt4Y4TJM",
    "outputId": "9633a94e-58b1-4aa6-8798-1a5f32a21478"
   },
   "outputs": [
    {
     "data": {
      "text/plain": [
       "(84044, 32, 8)"
      ]
     },
     "execution_count": 74,
     "metadata": {},
     "output_type": "execute_result"
    }
   ],
   "source": [
    "#Getting the encoded format of the data\n",
    "encoded_data=encoder.predict(data_en)\n",
    "\n",
    "encoded_data.shape"
   ]
  },
  {
   "cell_type": "code",
   "execution_count": 75,
   "metadata": {
    "id": "AbYn_tP45ScK"
   },
   "outputs": [],
   "source": [
    "gaussian=[] # Storing the outputs of individial neurons to different lists\n",
    "for data in encoded_data:\n",
    "  neuron_data=[]\n",
    "  for layer in data: # 18 layers\n",
    "    for value in layer : # Each layer has 2 values\n",
    "      neuron_data.append(value)\n",
    "  gaussian.append(neuron_data)\n",
    "gaussian=np.array(gaussian)"
   ]
  },
  {
   "cell_type": "code",
   "execution_count": 77,
   "metadata": {
    "id": "OQfihZen4ZKp"
   },
   "outputs": [],
   "source": [
    "hist=[[] for i in range(256)]\n",
    "for data in gaussian:\n",
    "  for i,value in enumerate(data):\n",
    "    hist[i].append(value)"
   ]
  },
  {
   "cell_type": "code",
   "execution_count": 78,
   "metadata": {
    "id": "ClP6AOCqlU7q"
   },
   "outputs": [],
   "source": [
    "smiles=decoder.predict(encoded_data)"
   ]
  },
  {
   "cell_type": "code",
   "execution_count": 79,
   "metadata": {
    "colab": {
     "base_uri": "https://localhost:8080/"
    },
    "id": "oVfGsHANackL",
    "outputId": "7b076e78-cd87-4cbc-a46c-03015d2d494d"
   },
   "outputs": [
    {
     "data": {
      "text/plain": [
       "84044"
      ]
     },
     "execution_count": 79,
     "metadata": {},
     "output_type": "execute_result"
    }
   ],
   "source": [
    "len(smiles)"
   ]
  },
  {
   "cell_type": "code",
   "execution_count": 81,
   "metadata": {
    "colab": {
     "base_uri": "https://localhost:8080/"
    },
    "id": "9RWMRRfl-2lZ",
    "outputId": "1384edf0-2f3d-40e1-c794-0a217af79623"
   },
   "outputs": [
    {
     "name": "stdout",
     "output_type": "stream",
     "text": [
      "Invalid SMILE string Cc1ccc(CC==))==O)c2ccc(C)cc22)c1\n"
     ]
    },
    {
     "data": {
      "text/plain": [
       "[]"
      ]
     },
     "execution_count": 81,
     "metadata": {},
     "output_type": "execute_result"
    }
   ],
   "source": [
    "t=smilite.get_zincid_from_smile('Cc1ccc(CC==))==O)c2ccc(C)cc22)c1')\n",
    "t"
   ]
  },
  {
   "cell_type": "code",
   "execution_count": 82,
   "metadata": {
    "colab": {
     "base_uri": "https://localhost:8080/"
    },
    "id": "o-hof2hqER6Q",
    "outputId": "d6215073-f75a-417f-c81a-114da4633d20"
   },
   "outputs": [
    {
     "data": {
      "text/plain": [
       "['CCCCCCCCCCCCCCCCCCCC(=O)c1ccccc1',\n",
       " 'CCCCCCCCCCCCCCCCCCCCCCCCCCCCCCCC',\n",
       " 'CCCCCCCCCCCCCCCCCCCCCCCCCCC(CO)O']"
      ]
     },
     "execution_count": 82,
     "metadata": {},
     "output_type": "execute_result"
    }
   ],
   "source": [
    "molecules"
   ]
  },
  {
   "cell_type": "code",
   "execution_count": 83,
   "metadata": {
    "colab": {
     "base_uri": "https://localhost:8080/"
    },
    "id": "beeGXvOGlYu_",
    "outputId": "0f092d8b-bd50-46e2-e932-dbe9f5b0c07c"
   },
   "outputs": [
    {
     "name": "stdout",
     "output_type": "stream",
     "text": [
      "1  generations scanned\n",
      "Invalid SMILE string CC(C)O))c1ccc(CC@@H](CCCCC=O)cc1\n",
      "Invalid SMILE string CCCCCCCCCCC==))c1cccccccccc2ccc1\n",
      "Invalid SMILE string COc1ccc(CC==))CCCCCCCC(())OO)cc1\n",
      "Invalid SMILE string CCCCCCCCCCCCCC(=C)c1ccccc1))(C)O\n",
      "Invalid SMILE string CCC(==))c1ccccc1CCCCCCCCC))((C)C\n",
      "Invalid SMILE string Cc1ccc(CC==@))CCCCCCC))Cc11cccc1\n",
      "Invalid SMILE string CCCCCCCCCCC==))c1cccccccccccc221\n",
      "Invalid SMILE string CCC(=O)cc1nccccccccccc1))CCCCCC2\n",
      "Invalid SMILE string CC(CO))c1ccc(CC=O))c2ccccc2F)cc1\n",
      "Invalid SMILE string Cc1ccc(Cccccccccc(CCCCCC)))2))c1\n",
      "Invalid SMILE string C=CCCCCCCC==))cc1ccccc1)c1ccccc1\n",
      "Invalid SMILE string C=CCCCCCC=)))c1cccccc11)c1ccccc1\n",
      "Invalid SMILE string CCCCCCCCC==))c1cccc(cccc1)CCCCC1\n",
      "Invalid SMILE string CCCCCCCCCCC==)CC==O)c1ccc(Cl)cc1\n",
      "Invalid SMILE string CCCCCCCCCC==)))c1ccc((CC((CCC)c1\n",
      "Invalid SMILE string C=C(CCCCC=)))c1cccccc11)c1cccc21\n",
      "Invalid SMILE string C=CCCCCCC==))c1cccccc11)c1ccccc1\n",
      "Invalid SMILE string Cc1ccc(CC(=O)Cc2ccccc22CC)))))c1\n",
      "Invalid SMILE string CCCCCCCCCCCC==)))c1cc(CCC))O)cc1\n",
      "Invalid SMILE string CCCC==))c1ccc(Occ2ccccccc2cccc21\n",
      "Invalid SMILE string CCCCCCCCC==)))c1ccccccccccc2)cc1\n",
      "Invalid SMILE string Cc1ccc(c)cc1CC==))c1ccccc1CC(C))\n",
      "Invalid SMILE string Cc1ccc(ccccccCCCC=))CCCCCC))nH]1\n",
      "Invalid SMILE string Cc1ccc(CccccccccccccCCCCC))C)c12\n",
      "51  generations scanned\n",
      "Invalid SMILE string C=CCCCCCCC==))c1ccccc1)c1ccccc12\n",
      "Invalid SMILE string COc1ccc(CCcccCCCCCC))))Cc1cccc12\n",
      "Invalid SMILE string Cc1ccc(ccccc1CCC==))CCCCCC))nH]1\n",
      "Invalid SMILE string CCCC===CCc1cccccccccc()))c22)c12\n",
      "c1ccc(CCCCCCCCCCCCCCc2ccccc2)cc1\n"
     ]
    }
   ],
   "source": [
    "i=0\n",
    "for molecule in smiles:\n",
    "  smiles_string=OneHotDecoding_helper(molecule,key_value)\n",
    "  if len(smilite.get_zincid_from_smile(smiles_string))>0:\n",
    "    molecules.append(smiles_string)\n",
    "    print(smiles_string)\n",
    "  if i%50==0:\n",
    "    print(i+1,' generations scanned')\n",
    "  if len(molecules)>3:\n",
    "    break\n",
    "  i+=1"
   ]
  },
  {
   "cell_type": "code",
   "execution_count": 84,
   "metadata": {
    "colab": {
     "base_uri": "https://localhost:8080/"
    },
    "id": "qZMn0VoJS-5C",
    "outputId": "50d9a482-6024-4573-a318-e6f547df14e4"
   },
   "outputs": [
    {
     "name": "stdout",
     "output_type": "stream",
     "text": [
      "The successful smiles string generated are \n"
     ]
    },
    {
     "data": {
      "text/plain": [
       "['CCCCCCCCCCCCCCCCCCCC(=O)c1ccccc1',\n",
       " 'CCCCCCCCCCCCCCCCCCCCCCCCCCCCCCCC',\n",
       " 'CCCCCCCCCCCCCCCCCCCCCCCCCCC(CO)O',\n",
       " 'c1ccc(CCCCCCCCCCCCCCc2ccccc2)cc1']"
      ]
     },
     "execution_count": 84,
     "metadata": {},
     "output_type": "execute_result"
    }
   ],
   "source": [
    "\n",
    "print('The successful smiles string generated are ')\n",
    "molecules"
   ]
  },
  {
   "cell_type": "markdown",
   "metadata": {
    "id": "i09rSRI7dKtx"
   },
   "source": [
    "# Checking if the molecules generated are present in the dataset or if they are new"
   ]
  },
  {
   "cell_type": "code",
   "execution_count": 92,
   "metadata": {
    "colab": {
     "base_uri": "https://localhost:8080/"
    },
    "id": "UIVeAUfdcJCZ",
    "outputId": "0c4ae944-d120-4151-c46f-e3c73d705e68"
   },
   "outputs": [
    {
     "name": "stdout",
     "output_type": "stream",
     "text": [
      "CCCCCCCCCCCCCCCCCCCC(=O)c1ccccc1   not found in dataset\n",
      "CCCCCCCCCCCCCCCCCCCCCCCCCCCCCCCC  found in dataset\n",
      "CCCCCCCCCCCCCCCCCCCCCCCCCCC(CO)O   not found in dataset\n",
      "c1ccc(CCCCCCCCCCCCCCc2ccccc2)cc1   not found in dataset\n"
     ]
    }
   ],
   "source": [
    "for molecule in molecules:\n",
    "  if len(data[data['Molecule']==molecule].index.values)==0:\n",
    "    print(molecule,'  not found in dataset')\n",
    "  else:\n",
    "    print(molecule,' found in dataset')"
   ]
  },
  {
   "cell_type": "code",
   "execution_count": 93,
   "metadata": {
    "id": "v_jyEU2cdhN7"
   },
   "outputs": [],
   "source": [
    "# Getting zinc ID of the generated molecules\n",
    "zinc_id=[]\n",
    "for molecule in molecules:\n",
    "  zinc_id.append(smilite.get_zincid_from_smile(molecule)) "
   ]
  },
  {
   "cell_type": "code",
   "execution_count": 94,
   "metadata": {
    "colab": {
     "base_uri": "https://localhost:8080/",
     "height": 175
    },
    "id": "6hdIqPF0dur8",
    "outputId": "0e539383-e27c-45fa-86b2-c7178eba31ec"
   },
   "outputs": [
    {
     "data": {
      "text/html": [
       "\n",
       "  <div id=\"df-db0df61e-9b4b-4ffc-98db-2eb57b2b6f14\">\n",
       "    <div class=\"colab-df-container\">\n",
       "      <div>\n",
       "<style scoped>\n",
       "    .dataframe tbody tr th:only-of-type {\n",
       "        vertical-align: middle;\n",
       "    }\n",
       "\n",
       "    .dataframe tbody tr th {\n",
       "        vertical-align: top;\n",
       "    }\n",
       "\n",
       "    .dataframe thead th {\n",
       "        text-align: right;\n",
       "    }\n",
       "</style>\n",
       "<table border=\"1\" class=\"dataframe\">\n",
       "  <thead>\n",
       "    <tr style=\"text-align: right;\">\n",
       "      <th></th>\n",
       "      <th>Generated Molecules</th>\n",
       "      <th>Zinc_ID</th>\n",
       "    </tr>\n",
       "  </thead>\n",
       "  <tbody>\n",
       "    <tr>\n",
       "      <th>0</th>\n",
       "      <td>CCCCCCCCCCCCCCCCCCCC(=O)c1ccccc1</td>\n",
       "      <td>[ZINC000115464572]</td>\n",
       "    </tr>\n",
       "    <tr>\n",
       "      <th>1</th>\n",
       "      <td>CCCCCCCCCCCCCCCCCCCCCCCCCCCCCCCC</td>\n",
       "      <td>[ZINC000006920423]</td>\n",
       "    </tr>\n",
       "    <tr>\n",
       "      <th>2</th>\n",
       "      <td>CCCCCCCCCCCCCCCCCCCCCCCCCCC(CO)O</td>\n",
       "      <td>[ZINC000103820528, ZINC000103820533]</td>\n",
       "    </tr>\n",
       "    <tr>\n",
       "      <th>3</th>\n",
       "      <td>c1ccc(CCCCCCCCCCCCCCc2ccccc2)cc1</td>\n",
       "      <td>[ZINC000140966601]</td>\n",
       "    </tr>\n",
       "  </tbody>\n",
       "</table>\n",
       "</div>\n",
       "      <button class=\"colab-df-convert\" onclick=\"convertToInteractive('df-db0df61e-9b4b-4ffc-98db-2eb57b2b6f14')\"\n",
       "              title=\"Convert this dataframe to an interactive table.\"\n",
       "              style=\"display:none;\">\n",
       "        \n",
       "  <svg xmlns=\"http://www.w3.org/2000/svg\" height=\"24px\"viewBox=\"0 0 24 24\"\n",
       "       width=\"24px\">\n",
       "    <path d=\"M0 0h24v24H0V0z\" fill=\"none\"/>\n",
       "    <path d=\"M18.56 5.44l.94 2.06.94-2.06 2.06-.94-2.06-.94-.94-2.06-.94 2.06-2.06.94zm-11 1L8.5 8.5l.94-2.06 2.06-.94-2.06-.94L8.5 2.5l-.94 2.06-2.06.94zm10 10l.94 2.06.94-2.06 2.06-.94-2.06-.94-.94-2.06-.94 2.06-2.06.94z\"/><path d=\"M17.41 7.96l-1.37-1.37c-.4-.4-.92-.59-1.43-.59-.52 0-1.04.2-1.43.59L10.3 9.45l-7.72 7.72c-.78.78-.78 2.05 0 2.83L4 21.41c.39.39.9.59 1.41.59.51 0 1.02-.2 1.41-.59l7.78-7.78 2.81-2.81c.8-.78.8-2.07 0-2.86zM5.41 20L4 18.59l7.72-7.72 1.47 1.35L5.41 20z\"/>\n",
       "  </svg>\n",
       "      </button>\n",
       "      \n",
       "  <style>\n",
       "    .colab-df-container {\n",
       "      display:flex;\n",
       "      flex-wrap:wrap;\n",
       "      gap: 12px;\n",
       "    }\n",
       "\n",
       "    .colab-df-convert {\n",
       "      background-color: #E8F0FE;\n",
       "      border: none;\n",
       "      border-radius: 50%;\n",
       "      cursor: pointer;\n",
       "      display: none;\n",
       "      fill: #1967D2;\n",
       "      height: 32px;\n",
       "      padding: 0 0 0 0;\n",
       "      width: 32px;\n",
       "    }\n",
       "\n",
       "    .colab-df-convert:hover {\n",
       "      background-color: #E2EBFA;\n",
       "      box-shadow: 0px 1px 2px rgba(60, 64, 67, 0.3), 0px 1px 3px 1px rgba(60, 64, 67, 0.15);\n",
       "      fill: #174EA6;\n",
       "    }\n",
       "\n",
       "    [theme=dark] .colab-df-convert {\n",
       "      background-color: #3B4455;\n",
       "      fill: #D2E3FC;\n",
       "    }\n",
       "\n",
       "    [theme=dark] .colab-df-convert:hover {\n",
       "      background-color: #434B5C;\n",
       "      box-shadow: 0px 1px 3px 1px rgba(0, 0, 0, 0.15);\n",
       "      filter: drop-shadow(0px 1px 2px rgba(0, 0, 0, 0.3));\n",
       "      fill: #FFFFFF;\n",
       "    }\n",
       "  </style>\n",
       "\n",
       "      <script>\n",
       "        const buttonEl =\n",
       "          document.querySelector('#df-db0df61e-9b4b-4ffc-98db-2eb57b2b6f14 button.colab-df-convert');\n",
       "        buttonEl.style.display =\n",
       "          google.colab.kernel.accessAllowed ? 'block' : 'none';\n",
       "\n",
       "        async function convertToInteractive(key) {\n",
       "          const element = document.querySelector('#df-db0df61e-9b4b-4ffc-98db-2eb57b2b6f14');\n",
       "          const dataTable =\n",
       "            await google.colab.kernel.invokeFunction('convertToInteractive',\n",
       "                                                     [key], {});\n",
       "          if (!dataTable) return;\n",
       "\n",
       "          const docLinkHtml = 'Like what you see? Visit the ' +\n",
       "            '<a target=\"_blank\" href=https://colab.research.google.com/notebooks/data_table.ipynb>data table notebook</a>'\n",
       "            + ' to learn more about interactive tables.';\n",
       "          element.innerHTML = '';\n",
       "          dataTable['output_type'] = 'display_data';\n",
       "          await google.colab.output.renderOutput(dataTable, element);\n",
       "          const docLink = document.createElement('div');\n",
       "          docLink.innerHTML = docLinkHtml;\n",
       "          element.appendChild(docLink);\n",
       "        }\n",
       "      </script>\n",
       "    </div>\n",
       "  </div>\n",
       "  "
      ],
      "text/plain": [
       "                Generated Molecules                               Zinc_ID\n",
       "0  CCCCCCCCCCCCCCCCCCCC(=O)c1ccccc1                    [ZINC000115464572]\n",
       "1  CCCCCCCCCCCCCCCCCCCCCCCCCCCCCCCC                    [ZINC000006920423]\n",
       "2  CCCCCCCCCCCCCCCCCCCCCCCCCCC(CO)O  [ZINC000103820528, ZINC000103820533]\n",
       "3  c1ccc(CCCCCCCCCCCCCCc2ccccc2)cc1                    [ZINC000140966601]"
      ]
     },
     "execution_count": 94,
     "metadata": {},
     "output_type": "execute_result"
    }
   ],
   "source": [
    "import pandas as pd\n",
    "new_molecules=pd.DataFrame()\n",
    "new_molecules['Generated Molecules']=molecules\n",
    "new_molecules['Zinc_ID']=zinc_id\n",
    "new_molecules"
   ]
  },
  {
   "cell_type": "markdown",
   "metadata": {
    "id": "C3bPpeTFd7g7"
   },
   "source": [
    "# Saving the models and data\n"
   ]
  },
  {
   "cell_type": "code",
   "execution_count": 95,
   "metadata": {
    "colab": {
     "base_uri": "https://localhost:8080/"
    },
    "id": "x3vQkoC1ejiw",
    "outputId": "1d0129c6-4cc3-4f82-ca7f-684237235e5b"
   },
   "outputs": [
    {
     "name": "stdout",
     "output_type": "stream",
     "text": [
      "INFO:tensorflow:Assets written to: ram://d7362761-824c-4669-8b89-0c38cb2662c1/assets\n"
     ]
    },
    {
     "name": "stderr",
     "output_type": "stream",
     "text": [
      "WARNING:absl:<keras.layers.recurrent.LSTMCell object at 0x7fc82e1a1d50> has the same name 'LSTMCell' as a built-in Keras object. Consider renaming <class 'keras.layers.recurrent.LSTMCell'> to avoid naming conflicts when loading with `tf.keras.models.load_model`. If renaming is not possible, pass the object in the `custom_objects` parameter of the load function.\n",
      "WARNING:absl:<keras.layers.recurrent.LSTMCell object at 0x7fc8167cbb10> has the same name 'LSTMCell' as a built-in Keras object. Consider renaming <class 'keras.layers.recurrent.LSTMCell'> to avoid naming conflicts when loading with `tf.keras.models.load_model`. If renaming is not possible, pass the object in the `custom_objects` parameter of the load function.\n",
      "WARNING:absl:<keras.layers.recurrent.LSTMCell object at 0x7fc8167e7750> has the same name 'LSTMCell' as a built-in Keras object. Consider renaming <class 'keras.layers.recurrent.LSTMCell'> to avoid naming conflicts when loading with `tf.keras.models.load_model`. If renaming is not possible, pass the object in the `custom_objects` parameter of the load function.\n",
      "WARNING:absl:<keras.layers.recurrent.LSTMCell object at 0x7fc8167a2190> has the same name 'LSTMCell' as a built-in Keras object. Consider renaming <class 'keras.layers.recurrent.LSTMCell'> to avoid naming conflicts when loading with `tf.keras.models.load_model`. If renaming is not possible, pass the object in the `custom_objects` parameter of the load function.\n"
     ]
    },
    {
     "name": "stdout",
     "output_type": "stream",
     "text": [
      "WARNING:tensorflow:Compiled the loaded model, but the compiled metrics have yet to be built. `model.compile_metrics` will be empty until you train or evaluate the model.\n"
     ]
    },
    {
     "name": "stderr",
     "output_type": "stream",
     "text": [
      "WARNING:tensorflow:Compiled the loaded model, but the compiled metrics have yet to be built. `model.compile_metrics` will be empty until you train or evaluate the model.\n"
     ]
    },
    {
     "name": "stdout",
     "output_type": "stream",
     "text": [
      "INFO:tensorflow:Assets written to: ram://ce8780c4-f31c-4a66-b1b1-7b41e9b8c3bb/assets\n"
     ]
    },
    {
     "name": "stderr",
     "output_type": "stream",
     "text": [
      "INFO:tensorflow:Assets written to: ram://ce8780c4-f31c-4a66-b1b1-7b41e9b8c3bb/assets\n",
      "WARNING:absl:<keras.layers.recurrent.LSTMCell object at 0x7fc82e1a1d50> has the same name 'LSTMCell' as a built-in Keras object. Consider renaming <class 'keras.layers.recurrent.LSTMCell'> to avoid naming conflicts when loading with `tf.keras.models.load_model`. If renaming is not possible, pass the object in the `custom_objects` parameter of the load function.\n",
      "WARNING:absl:<keras.layers.recurrent.LSTMCell object at 0x7fc8167cbb10> has the same name 'LSTMCell' as a built-in Keras object. Consider renaming <class 'keras.layers.recurrent.LSTMCell'> to avoid naming conflicts when loading with `tf.keras.models.load_model`. If renaming is not possible, pass the object in the `custom_objects` parameter of the load function.\n"
     ]
    },
    {
     "name": "stdout",
     "output_type": "stream",
     "text": [
      "WARNING:tensorflow:Compiled the loaded model, but the compiled metrics have yet to be built. `model.compile_metrics` will be empty until you train or evaluate the model.\n"
     ]
    },
    {
     "name": "stderr",
     "output_type": "stream",
     "text": [
      "WARNING:tensorflow:Compiled the loaded model, but the compiled metrics have yet to be built. `model.compile_metrics` will be empty until you train or evaluate the model.\n"
     ]
    },
    {
     "name": "stdout",
     "output_type": "stream",
     "text": [
      "INFO:tensorflow:Assets written to: ram://2d6f00e0-b4f3-4a3b-b40f-979dec50cbee/assets\n"
     ]
    },
    {
     "name": "stderr",
     "output_type": "stream",
     "text": [
      "INFO:tensorflow:Assets written to: ram://2d6f00e0-b4f3-4a3b-b40f-979dec50cbee/assets\n",
      "WARNING:absl:<keras.layers.recurrent.LSTMCell object at 0x7fc8167e7750> has the same name 'LSTMCell' as a built-in Keras object. Consider renaming <class 'keras.layers.recurrent.LSTMCell'> to avoid naming conflicts when loading with `tf.keras.models.load_model`. If renaming is not possible, pass the object in the `custom_objects` parameter of the load function.\n",
      "WARNING:absl:<keras.layers.recurrent.LSTMCell object at 0x7fc8167a2190> has the same name 'LSTMCell' as a built-in Keras object. Consider renaming <class 'keras.layers.recurrent.LSTMCell'> to avoid naming conflicts when loading with `tf.keras.models.load_model`. If renaming is not possible, pass the object in the `custom_objects` parameter of the load function.\n"
     ]
    }
   ],
   "source": [
    "import pickle\n",
    "pickle.dump(model,open('LSTM_VAE_zinc.sav','wb'))\n",
    "pickle.dump(encoder,open('Encoder_zinc.sav','wb'))\n",
    "pickle.dump(decoder,open('Decoder_zinc.sav','wb'))\n",
    "pickle.dump(data_en,open('encoded_input_zinc.dat','wb'))\n",
    "pickle.dump(encoded_data,open('encoder_output_zinc.dat','wb'))\n",
    "pickle.dump(smiles,open('decoder_output_zinc.dat','wb'))"
   ]
  },
  {
   "cell_type": "markdown",
   "metadata": {
    "id": "O8Glnr76lv6e"
   },
   "source": [
    "# Playing with Latent Space"
   ]
  },
  {
   "cell_type": "code",
   "execution_count": 107,
   "metadata": {
    "id": "cni5-7VIGk7k"
   },
   "outputs": [],
   "source": [
    "smiles_predictions=[OneHotDecoding_helper(smile,key_value) for smile in smiles]"
   ]
  },
  {
   "cell_type": "code",
   "execution_count": 179,
   "metadata": {
    "id": "K5R6bUuVGzWz"
   },
   "outputs": [],
   "source": [
    "index_list_of_valid_zinc15_predictions=[]\n",
    "encoder_values=[]\n",
    "for prediction in molecules:\n",
    "  idx=(smiles_predictions.index(prediction))\n",
    "  index_list_of_valid_zinc15_predictions.append(idx)\n",
    "  encoder_values.append(encoded_data[idx])\n",
    "encoder_values=np.array(encoder_values)"
   ]
  },
  {
   "cell_type": "code",
   "execution_count": 217,
   "metadata": {
    "colab": {
     "base_uri": "https://localhost:8080/"
    },
    "id": "0TplLRyzLDj3",
    "outputId": "55b4f729-cd72-498e-ed7e-87add6e2c7f9"
   },
   "outputs": [
    {
     "name": "stdout",
     "output_type": "stream",
     "text": [
      "Value of pos :  0\n",
      "0.0\n",
      "0.0\n",
      "0.0\n",
      "0.0\n",
      "Value of pos :  1\n",
      "0.0\n",
      "0.0\n",
      "0.0\n",
      "0.0\n",
      "Value of pos :  2\n",
      "3.117608\n",
      "2.7760482\n",
      "2.4487445\n",
      "8.36374\n",
      "Value of pos :  3\n",
      "4.28397\n",
      "3.5332496\n",
      "3.6849833\n",
      "2.0634527\n",
      "Value of pos :  4\n",
      "3.346471\n",
      "2.9913094\n",
      "2.9494824\n",
      "17.87391\n",
      "Value of pos :  5\n",
      "2.7407904\n",
      "1.4493\n",
      "1.5021274\n",
      "2.0587478\n",
      "Value of pos :  6\n",
      "9.601776\n",
      "11.649847\n",
      "11.464967\n",
      "20.242287\n",
      "Value of pos :  7\n",
      "2.3084958\n",
      "2.6623216\n",
      "2.4970162\n",
      "24.374287\n"
     ]
    }
   ],
   "source": [
    "for pos in range(8):\n",
    "  print('Value of pos : ',pos)\n",
    "  print(encoder_values[0][0][pos])\n",
    "  print(encoder_values[1][0][pos])\n",
    "  print(encoder_values[2][0][pos])\n",
    "  print(encoder_values[3][0][pos])"
   ]
  },
  {
   "cell_type": "code",
   "execution_count": null,
   "metadata": {
    "colab": {
     "base_uri": "https://localhost:8080/"
    },
    "id": "uCoQn86TL3Yx",
    "outputId": "4d2a554f-fcc9-4a59-ea24-896a9285eba7"
   },
   "outputs": [
    {
     "name": "stdout",
     "output_type": "stream",
     "text": [
      "Invalid SMILE string CCCCCCCC==C))cccCC1111111ccc1c11\n",
      "Invalid SMILE string OCCCCCCCCC))Ncc1n11111ccccc111C#\n",
      "Invalid SMILE string CCCCCCCCCCCCCCC))111++1111cc1cc1\n",
      "Invalid SMILE string CCCCCCCCCCC=CC)))CCC111c111coccc\n",
      "Invalid SMILE string CCCCCCCCCCCCC))c111111111cc1cc1/\n",
      "Invalid SMILE string CCCCCCC)C/=====)C((OCCC11111ccc1\n",
      "Invalid SMILE string CCCCCCCCCCCCCC))CCCC111c111ccccc\n",
      "Invalid SMILE string CCCCCCCCCCC]))))11111111ccc11c1c\n",
      "Invalid SMILE string CCCCCCCCC===))cCCCCC=(O1111cccc1\n",
      "Invalid SMILE string CCCCCCCCCCCCC))c)C1111111cccc111\n"
     ]
    }
   ],
   "source": [
    "generated=0\n",
    "while(generated<=3):\n",
    "  neuron0=0\n",
    "  neuron1=0\n",
    "  neuron2=np.random.uniform(2.4,2.77)\n",
    "  neuron3=np.random.uniform(3.53,3.68)\n",
    "  neuron4=np.random.uniform(2.9,7.87)\n",
    "  neuron5=np.random.uniform(1.4,2.7)\n",
    "  neuron6=np.random.uniform(9.6,2.24)\n",
    "  neuron7=np.random.uniform(2.3,4.37)\n",
    "  manual_encoding=[neuron0,neuron1,neuron2,neuron3,neuron4,neuron5,neuron6,neuron7]\n",
    "  manual_encoding=[manual_encoding for i in range(32)]\n",
    "  manual_encoding=np.array(manual_encoding)\n",
    "  temp=decoder.predict(np.expand_dims(manual_encoding,axis=0))\n",
    "  smiles_generated=OneHotDecoding_helper(temp[0],key_value)\n",
    "  if len(smilite.get_zincid_from_smile(smiles_generated))>0:\n",
    "    print(smiles_generated)\n",
    "    generated+=1"
   ]
  },
  {
   "cell_type": "code",
   "execution_count": 198,
   "metadata": {
    "colab": {
     "base_uri": "https://localhost:8080/",
     "height": 35
    },
    "id": "dqt5pbAPQyM8",
    "outputId": "24c36a20-c893-4ba2-eff0-4131184785b9"
   },
   "outputs": [
    {
     "data": {
      "application/vnd.google.colaboratory.intrinsic+json": {
       "type": "string"
      },
      "text/plain": [
       "'CCCCc1ccc(CCC=O)CCCCCCCCCCCC2)c1'"
      ]
     },
     "execution_count": 198,
     "metadata": {},
     "output_type": "execute_result"
    }
   ],
   "source": [
    "neuron0=0\n",
    "neuron1=0\n",
    "neuron2=np.random.uniform(2.4,8)\n",
    "neuron3=np.random.uniform(2,4.28)\n",
    "neuron4=np.random.uniform(2.9,17.87)\n",
    "neuron5=np.random.uniform(1.4,2.7)\n",
    "neuron6=np.random.uniform(9.6,20.24)\n",
    "neuron7=np.random.uniform(2.3,24.37)\n",
    "manual_encoding=[neuron0,neuron1,neuron2,neuron3,neuron4,neuron5,neuron6,neuron7]\n",
    "manual_encoding=[manual_encoding for i in range(32)]\n",
    "manual_encoding=np.array(manual_encoding)\n",
    "temp=decoder.predict(np.expand_dims(manual_encoding,axis=0))\n",
    "OneHotDecoding_helper(temp[0],key_value)"
   ]
  },
  {
   "cell_type": "code",
   "execution_count": null,
   "metadata": {
    "id": "vmI_rRknTRoe"
   },
   "outputs": [],
   "source": []
  }
 ],
 "metadata": {
  "accelerator": "GPU",
  "colab": {
   "collapsed_sections": [],
   "machine_shape": "hm",
   "name": "ZINC_DB molecule_generation using LSTM AutoEncoder.ipynb",
   "provenance": []
  },
  "kernelspec": {
   "display_name": "Python 3",
   "language": "python",
   "name": "python3"
  },
  "language_info": {
   "codemirror_mode": {
    "name": "ipython",
    "version": 3
   },
   "file_extension": ".py",
   "mimetype": "text/x-python",
   "name": "python",
   "nbconvert_exporter": "python",
   "pygments_lexer": "ipython3",
   "version": "3.7.3"
  }
 },
 "nbformat": 4,
 "nbformat_minor": 1
}
