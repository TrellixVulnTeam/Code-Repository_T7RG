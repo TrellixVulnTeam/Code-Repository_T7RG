{
  "cells": [
    {
      "cell_type": "markdown",
      "metadata": {
        "id": "2TThE6KcKKUB"
      },
      "source": [
        "<h2> Files</h2>\n",
        "<body>\n",
        "    <b>smiles </b>: Virtual Environment - Use source /smiles/bin/activate to activate the virtual env<br>\n",
        "    <b>datasets/download.sh </b>: Bash script to download datasets \n",
        "\t\tUsage : bash download.sh gdb13 OR bash download.sh gdb17 or bash download.sh gdb17\n",
        "<br>\n",
        "    <b>datasets/delete.sh </b>: bash script to delete files in the folder. \n",
        "\t\tUsage : bash delete.sh gdb11_ where gdb11 is the grep string to search for.\n",
        "<br>\n",
        "    <b>datasets/extract.sh </b>: To extract files from a tar file and to save it in a folder\n",
        "\n",
        "<br>\n",
        "\n",
        " "
      ]
    },
    {
      "cell_type": "markdown",
      "source": [
        "# Functions"
      ],
      "metadata": {
        "id": "1xpDCUaKnAk7"
      }
    },
    {
      "cell_type": "code",
      "source": [
        "# Function to One hot encode the data into into 2 Dimensions. \n",
        "# Splitting the dataset to len(distinct_charachter) number of columns\n",
        "def OneHotEncoding(data,ohe_dict,max):\n",
        "  \"\"\" The function makes use of the ohe_helper function to One Hot Encode a list of charachters and to return \n",
        "  the encoded format. Since the input here is a string, the output will be of 2 Dimensions \"\"\"\n",
        "\n",
        "  import numpy as np\n",
        "  ohe=[]\n",
        "  for data_point in data:\n",
        "    ohe.append(ohe_helper(data_point,ohe_dict,max))\n",
        "  return ohe\n",
        "\n",
        "def ohe_helper(data,ohe_dict,max_value):\n",
        "  \"\"\" Helper function to One Hot Encode the data. \n",
        "  It is used by the above function\"\"\"\n",
        "\n",
        "  import numpy as np\n",
        "  out=np.zeros((max_value,len(ohe_dict)))\n",
        "  for i,element in enumerate(data):\n",
        "    out[i][key_value[element]]=1\n",
        "  return out\n",
        "\n",
        "def save(file,key_values):\n",
        "  \"\"\" The function will take the data and save it as an npz file, with\n",
        "  name smiles.npz\"\"\"\n",
        "  import numpy as np\n",
        "  np.savez('smiles.npz',ohe=temp,key=key_values)\n",
        "\n",
        "def OneHotDecoding_helper(data,dictionary):\n",
        "  \"\"\" Function to decode a One Hot Encoded 2D data back into its smile representation\"\"\"\n",
        "  key=list(dictionary.keys())\n",
        "  string=''\n",
        "  for charachter in data:\n",
        "    idx=charachter.argmax()\n",
        "    string+=key[idx]\n",
        "  return string\n",
        "\n",
        "def check_smiles(string):\n",
        "  object=check_molecule(string)"
      ],
      "metadata": {
        "id": "WjBCT-yPnDD9"
      },
      "execution_count": 2,
      "outputs": []
    },
    {
      "cell_type": "markdown",
      "source": [
        "# Define auto encoder"
      ],
      "metadata": {
        "id": "WcuKXJI0t6Bw"
      }
    },
    {
      "cell_type": "code",
      "source": [
        "def print_distributions(number_of_neurons, data):\n",
        "  import matplotlib.pyplot as plt\n",
        "  import seaborn as sns\n",
        "  \n",
        "  plt.figure(figsize=(20,20))\n",
        "\n",
        "  for i in range(number_of_neurons):\n",
        "    plt.subplot(8,number_of_neurons//8,i+1)\n",
        "    sns.histplot(data[i])\n",
        "    \n",
        "def print_decoder_outputs(input,predictions,number):\n",
        "  import matplotlib.pyplot as plt\n",
        "  plt.figure(figsize=(10,3))\n",
        "  for i in range(number):\n",
        "    plt.subplot(1,number,i+1)\n",
        "    plt.axis='off'\n",
        "    plt.imshow(input[i].reshape(28,28),cmap='gray')\n",
        "  plt.figure(figsize=(10,3))\n",
        "  for i in range(number):\n",
        "    plt.subplot(1,number,i+1)\n",
        "    plt.axis='off'\n",
        "    plt.imshow(predictions[i].reshape(28,28),cmap='gray')\n"
      ],
      "metadata": {
        "id": "8szQMUZxsoZI"
      },
      "execution_count": 3,
      "outputs": []
    },
    {
      "cell_type": "markdown",
      "source": [
        "# Preparing the data"
      ],
      "metadata": {
        "id": "8eBhDkgUNOx4"
      }
    },
    {
      "cell_type": "code",
      "source": [
        "# Connecting to google drive and navigating to folder\n",
        "from google.colab import drive\n",
        "drive.mount('/content/drive')\n",
        "import os\n",
        "os.chdir(\"drive/MyDrive/Colab Notebooks/molecule_generation_SMILES/scripts\")"
      ],
      "metadata": {
        "id": "pskcxzApKbny",
        "colab": {
          "base_uri": "https://localhost:8080/"
        },
        "outputId": "a22e23db-ffae-44ab-b39a-0e55bf09dea0"
      },
      "execution_count": 4,
      "outputs": [
        {
          "output_type": "stream",
          "name": "stdout",
          "text": [
            "Mounted at /content/drive\n"
          ]
        }
      ]
    },
    {
      "cell_type": "code",
      "execution_count": 5,
      "metadata": {
        "id": "Kt33dM6UKKUJ",
        "colab": {
          "base_uri": "https://localhost:8080/"
        },
        "outputId": "ae499772-4a6d-41ee-db72-b9a56d4c1c18"
      },
      "outputs": [
        {
          "output_type": "stream",
          "name": "stdout",
          "text": [
            "Collecting smilite\n",
            "  Downloading smilite-2.3.0-py2.py3-none-any.whl (18 kB)\n",
            "Collecting PyPrind>=2.3.1\n",
            "  Downloading PyPrind-2.11.3-py2.py3-none-any.whl (8.4 kB)\n",
            "Installing collected packages: PyPrind, smilite\n",
            "Successfully installed PyPrind-2.11.3 smilite-2.3.0\n"
          ]
        }
      ],
      "source": [
        "!pip install smilite\n",
        "# Importing Libraries\n",
        "import pandas as pd\n",
        "import smilite # Library to check if data generated is correct or not\n",
        "from check_molecule import *"
      ]
    },
    {
      "cell_type": "code",
      "execution_count": 67,
      "metadata": {
        "colab": {
          "base_uri": "https://localhost:8080/",
          "height": 241
        },
        "id": "e7_0FvhzKKUL",
        "outputId": "58568567-48d4-4d4c-b88f-72b2ee313e20"
      },
      "outputs": [
        {
          "output_type": "stream",
          "name": "stdout",
          "text": [
            "CPU times: user 3 µs, sys: 0 ns, total: 3 µs\n",
            "Wall time: 5.96 µs\n"
          ]
        },
        {
          "output_type": "execute_result",
          "data": {
            "text/html": [
              "\n",
              "  <div id=\"df-5c1f4f8c-6906-4d64-8d1b-c00505c11025\">\n",
              "    <div class=\"colab-df-container\">\n",
              "      <div>\n",
              "<style scoped>\n",
              "    .dataframe tbody tr th:only-of-type {\n",
              "        vertical-align: middle;\n",
              "    }\n",
              "\n",
              "    .dataframe tbody tr th {\n",
              "        vertical-align: top;\n",
              "    }\n",
              "\n",
              "    .dataframe thead th {\n",
              "        text-align: right;\n",
              "    }\n",
              "</style>\n",
              "<table border=\"1\" class=\"dataframe\">\n",
              "  <thead>\n",
              "    <tr style=\"text-align: right;\">\n",
              "      <th></th>\n",
              "      <th>Molecule</th>\n",
              "    </tr>\n",
              "  </thead>\n",
              "  <tbody>\n",
              "    <tr>\n",
              "      <th>0</th>\n",
              "      <td>CC(C(C)(C)C)C(C)(C)C</td>\n",
              "    </tr>\n",
              "    <tr>\n",
              "      <th>1</th>\n",
              "      <td>CC(C)(C)C(N)C(C)(C)C</td>\n",
              "    </tr>\n",
              "    <tr>\n",
              "      <th>2</th>\n",
              "      <td>CC(C)(C)C(O)C(C)(C)C</td>\n",
              "    </tr>\n",
              "    <tr>\n",
              "      <th>3</th>\n",
              "      <td>CC(C)(C)C(F)C(C)(C)C</td>\n",
              "    </tr>\n",
              "    <tr>\n",
              "      <th>4</th>\n",
              "      <td>CC(C(C)(C)C)C(C)(C)N</td>\n",
              "    </tr>\n",
              "  </tbody>\n",
              "</table>\n",
              "</div>\n",
              "      <button class=\"colab-df-convert\" onclick=\"convertToInteractive('df-5c1f4f8c-6906-4d64-8d1b-c00505c11025')\"\n",
              "              title=\"Convert this dataframe to an interactive table.\"\n",
              "              style=\"display:none;\">\n",
              "        \n",
              "  <svg xmlns=\"http://www.w3.org/2000/svg\" height=\"24px\"viewBox=\"0 0 24 24\"\n",
              "       width=\"24px\">\n",
              "    <path d=\"M0 0h24v24H0V0z\" fill=\"none\"/>\n",
              "    <path d=\"M18.56 5.44l.94 2.06.94-2.06 2.06-.94-2.06-.94-.94-2.06-.94 2.06-2.06.94zm-11 1L8.5 8.5l.94-2.06 2.06-.94-2.06-.94L8.5 2.5l-.94 2.06-2.06.94zm10 10l.94 2.06.94-2.06 2.06-.94-2.06-.94-.94-2.06-.94 2.06-2.06.94z\"/><path d=\"M17.41 7.96l-1.37-1.37c-.4-.4-.92-.59-1.43-.59-.52 0-1.04.2-1.43.59L10.3 9.45l-7.72 7.72c-.78.78-.78 2.05 0 2.83L4 21.41c.39.39.9.59 1.41.59.51 0 1.02-.2 1.41-.59l7.78-7.78 2.81-2.81c.8-.78.8-2.07 0-2.86zM5.41 20L4 18.59l7.72-7.72 1.47 1.35L5.41 20z\"/>\n",
              "  </svg>\n",
              "      </button>\n",
              "      \n",
              "  <style>\n",
              "    .colab-df-container {\n",
              "      display:flex;\n",
              "      flex-wrap:wrap;\n",
              "      gap: 12px;\n",
              "    }\n",
              "\n",
              "    .colab-df-convert {\n",
              "      background-color: #E8F0FE;\n",
              "      border: none;\n",
              "      border-radius: 50%;\n",
              "      cursor: pointer;\n",
              "      display: none;\n",
              "      fill: #1967D2;\n",
              "      height: 32px;\n",
              "      padding: 0 0 0 0;\n",
              "      width: 32px;\n",
              "    }\n",
              "\n",
              "    .colab-df-convert:hover {\n",
              "      background-color: #E2EBFA;\n",
              "      box-shadow: 0px 1px 2px rgba(60, 64, 67, 0.3), 0px 1px 3px 1px rgba(60, 64, 67, 0.15);\n",
              "      fill: #174EA6;\n",
              "    }\n",
              "\n",
              "    [theme=dark] .colab-df-convert {\n",
              "      background-color: #3B4455;\n",
              "      fill: #D2E3FC;\n",
              "    }\n",
              "\n",
              "    [theme=dark] .colab-df-convert:hover {\n",
              "      background-color: #434B5C;\n",
              "      box-shadow: 0px 1px 3px 1px rgba(0, 0, 0, 0.15);\n",
              "      filter: drop-shadow(0px 1px 2px rgba(0, 0, 0, 0.3));\n",
              "      fill: #FFFFFF;\n",
              "    }\n",
              "  </style>\n",
              "\n",
              "      <script>\n",
              "        const buttonEl =\n",
              "          document.querySelector('#df-5c1f4f8c-6906-4d64-8d1b-c00505c11025 button.colab-df-convert');\n",
              "        buttonEl.style.display =\n",
              "          google.colab.kernel.accessAllowed ? 'block' : 'none';\n",
              "\n",
              "        async function convertToInteractive(key) {\n",
              "          const element = document.querySelector('#df-5c1f4f8c-6906-4d64-8d1b-c00505c11025');\n",
              "          const dataTable =\n",
              "            await google.colab.kernel.invokeFunction('convertToInteractive',\n",
              "                                                     [key], {});\n",
              "          if (!dataTable) return;\n",
              "\n",
              "          const docLinkHtml = 'Like what you see? Visit the ' +\n",
              "            '<a target=\"_blank\" href=https://colab.research.google.com/notebooks/data_table.ipynb>data table notebook</a>'\n",
              "            + ' to learn more about interactive tables.';\n",
              "          element.innerHTML = '';\n",
              "          dataTable['output_type'] = 'display_data';\n",
              "          await google.colab.output.renderOutput(dataTable, element);\n",
              "          const docLink = document.createElement('div');\n",
              "          docLink.innerHTML = docLinkHtml;\n",
              "          element.appendChild(docLink);\n",
              "        }\n",
              "      </script>\n",
              "    </div>\n",
              "  </div>\n",
              "  "
            ],
            "text/plain": [
              "               Molecule\n",
              "0  CC(C(C)(C)C)C(C)(C)C\n",
              "1  CC(C)(C)C(N)C(C)(C)C\n",
              "2  CC(C)(C)C(O)C(C)(C)C\n",
              "3  CC(C)(C)C(F)C(C)(C)C\n",
              "4  CC(C(C)(C)C)C(C)(C)N"
            ]
          },
          "metadata": {},
          "execution_count": 67
        }
      ],
      "source": [
        "% time\n",
        "data=pd.read_csv('gdb11_size10.smi',delimiter='\\t',header=None)\n",
        "# Renaming the columns\n",
        "data.columns=['Molecule','_','__']\n",
        "\n",
        "# Dropping the extra columns\n",
        "data.drop(data.columns[-2:],axis=1,inplace=True)\n",
        "\n",
        "# Fetching a smaller portion of the dataset\n",
        "data=data.iloc[0:500000]\n",
        "\n",
        "data.head()"
      ]
    },
    {
      "cell_type": "markdown",
      "metadata": {
        "id": "1_gBS8rDKKUN"
      },
      "source": [
        "<h4>One Hot Encoding the data"
      ]
    },
    {
      "cell_type": "code",
      "execution_count": 7,
      "metadata": {
        "id": "4Y0oyVh7KKUO",
        "colab": {
          "base_uri": "https://localhost:8080/"
        },
        "outputId": "bc4641db-673b-4aad-831d-d06cb2cfd7f7"
      },
      "outputs": [
        {
          "output_type": "stream",
          "name": "stdout",
          "text": [
            "CPU times: user 2 µs, sys: 0 ns, total: 2 µs\n",
            "Wall time: 4.77 µs\n"
          ]
        }
      ],
      "source": [
        "% time\n",
        "\n",
        "# Finding the distinct charachters in the dataset\n",
        "distinct_charachters=set(' '.join(data['Molecule'].values))\n",
        "\n",
        "# Creating a dictionary to get the index value\n",
        "key_value={}\n",
        "key_value[' ']=0\n",
        "idx=1\n",
        "for charachter in distinct_charachters:\n",
        "  if charachter!=' ':\n",
        "    key_value[charachter]=idx\n",
        "    idx+=1\n",
        "\n",
        "# Creating a new column with the charachter seperated as a list\n",
        "data['Molecule_sep']=data['Molecule'].apply(lambda x: list(x))\n",
        "\n",
        "#Creating a new column with length of each smiles representation\n",
        "data['length']=data['Molecule_sep'].apply(lambda x: len(x))\n",
        "data=data[data['length']==18] # Filtering the data to get elements of same size"
      ]
    },
    {
      "cell_type": "code",
      "execution_count": 8,
      "metadata": {
        "id": "gS6dUQuLKKUP",
        "colab": {
          "base_uri": "https://localhost:8080/"
        },
        "outputId": "2e6720d9-8ef7-4379-a6e2-81bda377791e"
      },
      "outputs": [
        {
          "output_type": "stream",
          "name": "stdout",
          "text": [
            "CPU times: user 2 µs, sys: 1e+03 ns, total: 3 µs\n",
            "Wall time: 5.25 µs\n"
          ]
        }
      ],
      "source": [
        "\n",
        "#Since the charachters are not ordinal , converting them into one Hot Encoding\n",
        "import numpy as np\n",
        "temp=np.array(OneHotEncoding(data['Molecule_sep'],key_value,data['length'].max()))\n",
        "save(temp,np.array(key_value))\n",
        "% time"
      ]
    },
    {
      "cell_type": "code",
      "source": [
        "# Reading the saved Nump file\n",
        "import numpy as np\n",
        "data_en=np.load('smiles.npz',allow_pickle=True)\n",
        "key_value=data_en['key'].item()\n",
        "data_en=data_en['ohe']"
      ],
      "metadata": {
        "id": "-AvKaL2R6b65"
      },
      "execution_count": 9,
      "outputs": []
    },
    {
      "cell_type": "markdown",
      "source": [
        "# LSTM Autoencoder\n",
        "Reference : TowardsDataScience post on LSTM AutoEncoders by Chitta Ranjan\n"
      ],
      "metadata": {
        "id": "0oMCXmTNrE4P"
      }
    },
    {
      "cell_type": "code",
      "source": [
        "OneHotDecoding_helper(data_en[0],key_value)"
      ],
      "metadata": {
        "colab": {
          "base_uri": "https://localhost:8080/",
          "height": 35
        },
        "id": "6pcltA2ZHjMl",
        "outputId": "80d8ba2a-9e6c-47ab-d739-154686881308"
      },
      "execution_count": 10,
      "outputs": [
        {
          "output_type": "execute_result",
          "data": {
            "application/vnd.google.colaboratory.intrinsic+json": {
              "type": "string"
            },
            "text/plain": [
              "'CC(C)(C)CCC(C)(C)C'"
            ]
          },
          "metadata": {},
          "execution_count": 10
        }
      ]
    },
    {
      "cell_type": "code",
      "source": [
        "slicing_point=int(len(data_en)*0.75)\n",
        "x_train=data_en[:slicing_point]\n",
        "x_test=data_en[slicing_point:]"
      ],
      "metadata": {
        "id": "cqgJvMhv1KXv"
      },
      "execution_count": 11,
      "outputs": []
    },
    {
      "cell_type": "code",
      "source": [
        "\n",
        "# The motive here is to create a Deep autoencoder\n",
        "from keras import Sequential\n",
        "from keras.layers import LSTM,Dense,RepeatVector\n",
        "# define model\n",
        "model = Sequential()\n",
        "model.add(LSTM(18, activation='relu', input_shape=(18,18), return_sequences=True))\n",
        "model.add(LSTM(8, activation='relu', return_sequences=False))\n",
        "model.add(RepeatVector(18))\n",
        "model.add(LSTM(64, activation='relu', return_sequences=True))\n",
        "model.add(LSTM(128, activation='relu', return_sequences=True))\n",
        "model.add(Dense(18, activation='softmax'))\n",
        "model.compile(optimizer='adam', loss='binary_crossentropy')\n",
        "model.summary()\n",
        "\n",
        "model.fit(x_train,x_train,epochs = 15,\n",
        "          batch_size=512,\n",
        "          shuffle = True,\n",
        "          validation_data = (x_test,x_test))"
      ],
      "metadata": {
        "colab": {
          "base_uri": "https://localhost:8080/"
        },
        "id": "jN0_tOIjv-Nw",
        "outputId": "97250e65-4e0f-4ceb-8c52-3ad04f2a10bd"
      },
      "execution_count": 41,
      "outputs": [
        {
          "output_type": "stream",
          "name": "stdout",
          "text": [
            "WARNING:tensorflow:Layer lstm_4 will not use cuDNN kernels since it doesn't meet the criteria. It will use a generic GPU kernel as fallback when running on GPU.\n"
          ]
        },
        {
          "output_type": "stream",
          "name": "stderr",
          "text": [
            "WARNING:tensorflow:Layer lstm_4 will not use cuDNN kernels since it doesn't meet the criteria. It will use a generic GPU kernel as fallback when running on GPU.\n"
          ]
        },
        {
          "output_type": "stream",
          "name": "stdout",
          "text": [
            "WARNING:tensorflow:Layer lstm_5 will not use cuDNN kernels since it doesn't meet the criteria. It will use a generic GPU kernel as fallback when running on GPU.\n"
          ]
        },
        {
          "output_type": "stream",
          "name": "stderr",
          "text": [
            "WARNING:tensorflow:Layer lstm_5 will not use cuDNN kernels since it doesn't meet the criteria. It will use a generic GPU kernel as fallback when running on GPU.\n"
          ]
        },
        {
          "output_type": "stream",
          "name": "stdout",
          "text": [
            "WARNING:tensorflow:Layer lstm_6 will not use cuDNN kernels since it doesn't meet the criteria. It will use a generic GPU kernel as fallback when running on GPU.\n"
          ]
        },
        {
          "output_type": "stream",
          "name": "stderr",
          "text": [
            "WARNING:tensorflow:Layer lstm_6 will not use cuDNN kernels since it doesn't meet the criteria. It will use a generic GPU kernel as fallback when running on GPU.\n"
          ]
        },
        {
          "output_type": "stream",
          "name": "stdout",
          "text": [
            "WARNING:tensorflow:Layer lstm_7 will not use cuDNN kernels since it doesn't meet the criteria. It will use a generic GPU kernel as fallback when running on GPU.\n"
          ]
        },
        {
          "output_type": "stream",
          "name": "stderr",
          "text": [
            "WARNING:tensorflow:Layer lstm_7 will not use cuDNN kernels since it doesn't meet the criteria. It will use a generic GPU kernel as fallback when running on GPU.\n"
          ]
        },
        {
          "output_type": "stream",
          "name": "stdout",
          "text": [
            "Model: \"sequential_1\"\n",
            "_________________________________________________________________\n",
            " Layer (type)                Output Shape              Param #   \n",
            "=================================================================\n",
            " lstm_4 (LSTM)               (None, 18, 18)            2664      \n",
            "                                                                 \n",
            " lstm_5 (LSTM)               (None, 8)                 864       \n",
            "                                                                 \n",
            " repeat_vector_1 (RepeatVect  (None, 18, 8)            0         \n",
            " or)                                                             \n",
            "                                                                 \n",
            " lstm_6 (LSTM)               (None, 18, 64)            18688     \n",
            "                                                                 \n",
            " lstm_7 (LSTM)               (None, 18, 128)           98816     \n",
            "                                                                 \n",
            " dense_1 (Dense)             (None, 18, 18)            2322      \n",
            "                                                                 \n",
            "=================================================================\n",
            "Total params: 123,354\n",
            "Trainable params: 123,354\n",
            "Non-trainable params: 0\n",
            "_________________________________________________________________\n",
            "Epoch 1/15\n",
            "166/166 [==============================] - 21s 108ms/step - loss: 0.2813 - val_loss: 0.1455\n",
            "Epoch 2/15\n",
            "166/166 [==============================] - 17s 105ms/step - loss: 0.1310 - val_loss: 0.1391\n",
            "Epoch 3/15\n",
            "166/166 [==============================] - 17s 105ms/step - loss: 0.1238 - val_loss: 0.1296\n",
            "Epoch 4/15\n",
            "166/166 [==============================] - 18s 106ms/step - loss: 0.1111 - val_loss: 0.1187\n",
            "Epoch 5/15\n",
            "166/166 [==============================] - 17s 105ms/step - loss: 0.1077 - val_loss: 0.1211\n",
            "Epoch 6/15\n",
            "166/166 [==============================] - 17s 105ms/step - loss: 0.0992 - val_loss: 0.1478\n",
            "Epoch 7/15\n",
            "166/166 [==============================] - 17s 105ms/step - loss: 0.1153 - val_loss: 0.1185\n",
            "Epoch 8/15\n",
            "166/166 [==============================] - 17s 105ms/step - loss: 0.1080 - val_loss: 0.1251\n",
            "Epoch 9/15\n",
            "166/166 [==============================] - 17s 105ms/step - loss: 0.0964 - val_loss: 0.1116\n",
            "Epoch 10/15\n",
            "166/166 [==============================] - 17s 105ms/step - loss: 0.1009 - val_loss: 0.1171\n",
            "Epoch 11/15\n",
            "166/166 [==============================] - 17s 105ms/step - loss: 0.0916 - val_loss: 0.1188\n",
            "Epoch 12/15\n",
            "166/166 [==============================] - 17s 105ms/step - loss: 0.0968 - val_loss: 0.1283\n",
            "Epoch 13/15\n",
            "166/166 [==============================] - 17s 105ms/step - loss: 0.1034 - val_loss: 0.1165\n",
            "Epoch 14/15\n",
            "166/166 [==============================] - 18s 106ms/step - loss: 0.1001 - val_loss: 0.1188\n",
            "Epoch 15/15\n",
            "166/166 [==============================] - 17s 105ms/step - loss: 0.0912 - val_loss: 0.1131\n"
          ]
        },
        {
          "output_type": "execute_result",
          "data": {
            "text/plain": [
              "<keras.callbacks.History at 0x7f0a5651d990>"
            ]
          },
          "metadata": {},
          "execution_count": 41
        }
      ]
    },
    {
      "cell_type": "code",
      "source": [
        "# Seperating the encoder and the decoder\n",
        "from keras.models import Model\n",
        "encoder=Model(inputs=model.input,outputs=model.layers[2].output)\n",
        "decoder=Model(inputs=model.layers[-3].input,outputs=model.output)"
      ],
      "metadata": {
        "id": "vE6SBmZoxew_"
      },
      "execution_count": 42,
      "outputs": []
    },
    {
      "cell_type": "code",
      "source": [
        "#Getting the encoded format of the data\n",
        "encoded_data=encoder.predict(data_en)\n",
        "\n",
        "encoded_data.shape"
      ],
      "metadata": {
        "colab": {
          "base_uri": "https://localhost:8080/"
        },
        "id": "OYt3Gt4Y4TJM",
        "outputId": "30693b8c-9393-439b-fbe4-bab517329158"
      },
      "execution_count": 43,
      "outputs": [
        {
          "output_type": "execute_result",
          "data": {
            "text/plain": [
              "(112993, 18, 8)"
            ]
          },
          "metadata": {},
          "execution_count": 43
        }
      ]
    },
    {
      "cell_type": "code",
      "source": [
        "gaussian=[] # Storing the outputs of individial neurons to different lists\n",
        "for data in encoded_data:\n",
        "  neuron_data=[]\n",
        "  for layer in data: # 18 layers\n",
        "    for value in layer : # Each layer has 2 values\n",
        "      neuron_data.append(value)\n",
        "  gaussian.append(neuron_data)\n",
        "gaussian=np.array(gaussian)"
      ],
      "metadata": {
        "id": "AbYn_tP45ScK"
      },
      "execution_count": 44,
      "outputs": []
    },
    {
      "cell_type": "code",
      "source": [
        "hist=[[] for i in range(144)]\n",
        "for data in gaussian:\n",
        "  for i,value in enumerate(data):\n",
        "    hist[i].append(value)"
      ],
      "metadata": {
        "id": "OQfihZen4ZKp"
      },
      "execution_count": 45,
      "outputs": []
    },
    {
      "cell_type": "code",
      "source": [
        "smiles=decoder.predict(encoded_data)"
      ],
      "metadata": {
        "id": "ClP6AOCqlU7q"
      },
      "execution_count": 46,
      "outputs": []
    },
    {
      "cell_type": "code",
      "source": [
        "len(smiles)"
      ],
      "metadata": {
        "colab": {
          "base_uri": "https://localhost:8080/"
        },
        "id": "oVfGsHANackL",
        "outputId": "95788f34-7862-408e-fb6d-d2ae58aa279b"
      },
      "execution_count": 59,
      "outputs": [
        {
          "output_type": "execute_result",
          "data": {
            "text/plain": [
              "112993"
            ]
          },
          "metadata": {},
          "execution_count": 59
        }
      ]
    },
    {
      "cell_type": "code",
      "source": [
        "i=0\n",
        "molecules=[]\n",
        "for molecule in smiles[100000:]:\n",
        "  smiles_string=OneHotDecoding_helper(molecule,key_value)\n",
        "  if len(smilite.get_zincid_from_smile(smiles_string))>0:\n",
        "    molecules.append(smiles_string)\n",
        "    print(smiles_string)\n",
        "  if i%50==0:\n",
        "    print(i+1,' generations scanned')\n",
        "  if len(molecules)>3:\n",
        "    break\n",
        "  i+=1"
      ],
      "metadata": {
        "colab": {
          "base_uri": "https://localhost:8080/"
        },
        "id": "beeGXvOGlYu_",
        "outputId": "180c7158-619a-41c8-fd9f-79347da03b96"
      },
      "execution_count": 62,
      "outputs": [
        {
          "output_type": "stream",
          "name": "stdout",
          "text": [
            "CC11CCCCCCC(C)(F)F\n",
            "1  generations scanned\n",
            "CC11CCCCCCCCCC(C)C\n",
            "CC11CCCCCCCCCC(C)O\n",
            "Invalid SMILE string CC1CCCC))CCC=C)C1N\n",
            "CC11CCCCCCCCCC(C)N\n"
          ]
        }
      ]
    },
    {
      "cell_type": "code",
      "source": [
        "print('The successful smiles string generated are ')\n",
        "molecules"
      ],
      "metadata": {
        "colab": {
          "base_uri": "https://localhost:8080/"
        },
        "id": "qZMn0VoJS-5C",
        "outputId": "fed235a3-f2be-433e-991c-abd0d4de6578"
      },
      "execution_count": 64,
      "outputs": [
        {
          "output_type": "stream",
          "name": "stdout",
          "text": [
            "The successful smiles string generated are \n"
          ]
        },
        {
          "output_type": "execute_result",
          "data": {
            "text/plain": [
              "['CC11CCCCCCC(C)(F)F',\n",
              " 'CC11CCCCCCCCCC(C)C',\n",
              " 'CC11CCCCCCCCCC(C)O',\n",
              " 'CC11CCCCCCCCCC(C)N']"
            ]
          },
          "metadata": {},
          "execution_count": 64
        }
      ]
    },
    {
      "cell_type": "markdown",
      "source": [
        "# Checking if the molecules generated are present in the dataset or if they are new"
      ],
      "metadata": {
        "id": "i09rSRI7dKtx"
      }
    },
    {
      "cell_type": "code",
      "source": [
        "for molecule in molecules:\n",
        "  if len(data[data['Molecule']=='CC11CCCCCCCCCC(C)O'].index.values)==0:\n",
        "    print(molecule,'  not found in dataset')\n",
        "  else:\n",
        "    print(molecule,' found in dataset')"
      ],
      "metadata": {
        "colab": {
          "base_uri": "https://localhost:8080/"
        },
        "id": "UIVeAUfdcJCZ",
        "outputId": "fb4a922b-3bf4-4df0-9514-c1f3bbc207b0"
      },
      "execution_count": 78,
      "outputs": [
        {
          "output_type": "stream",
          "name": "stdout",
          "text": [
            "CC11CCCCCCC(C)(F)F   not found in dataset\n",
            "CC11CCCCCCCCCC(C)C   not found in dataset\n",
            "CC11CCCCCCCCCC(C)O   not found in dataset\n",
            "CC11CCCCCCCCCC(C)N   not found in dataset\n"
          ]
        }
      ]
    },
    {
      "cell_type": "code",
      "source": [
        "# Getting zinc ID of the generated molecules\n",
        "zinc_id=[]\n",
        "for molecule in molecules:\n",
        "  zinc_id.append(smilite.get_zincid_from_smile(molecule)) "
      ],
      "metadata": {
        "id": "v_jyEU2cdhN7"
      },
      "execution_count": 79,
      "outputs": []
    },
    {
      "cell_type": "code",
      "source": [
        "import pandas as pd\n",
        "new_molecules=pd.DataFrame()\n",
        "new_molecules['Generated Molecules']=molecules\n",
        "new_molecules['Zinc_ID']=zinc_id\n",
        "new_molecules"
      ],
      "metadata": {
        "colab": {
          "base_uri": "https://localhost:8080/",
          "height": 174
        },
        "id": "6hdIqPF0dur8",
        "outputId": "d73c2833-e3bc-4ffd-f07e-98e9a3ce95ed"
      },
      "execution_count": 80,
      "outputs": [
        {
          "output_type": "execute_result",
          "data": {
            "text/html": [
              "\n",
              "  <div id=\"df-4e00e68b-3c2d-4cfa-b52c-1ee2fd6f3222\">\n",
              "    <div class=\"colab-df-container\">\n",
              "      <div>\n",
              "<style scoped>\n",
              "    .dataframe tbody tr th:only-of-type {\n",
              "        vertical-align: middle;\n",
              "    }\n",
              "\n",
              "    .dataframe tbody tr th {\n",
              "        vertical-align: top;\n",
              "    }\n",
              "\n",
              "    .dataframe thead th {\n",
              "        text-align: right;\n",
              "    }\n",
              "</style>\n",
              "<table border=\"1\" class=\"dataframe\">\n",
              "  <thead>\n",
              "    <tr style=\"text-align: right;\">\n",
              "      <th></th>\n",
              "      <th>Generated Molecules</th>\n",
              "      <th>Zinc_ID</th>\n",
              "    </tr>\n",
              "  </thead>\n",
              "  <tbody>\n",
              "    <tr>\n",
              "      <th>0</th>\n",
              "      <td>CC11CCCCCCC(C)(F)F</td>\n",
              "      <td>[ZINC000117580970]</td>\n",
              "    </tr>\n",
              "    <tr>\n",
              "      <th>1</th>\n",
              "      <td>CC11CCCCCCCCCC(C)C</td>\n",
              "      <td>[ZINC000002560572]</td>\n",
              "    </tr>\n",
              "    <tr>\n",
              "      <th>2</th>\n",
              "      <td>CC11CCCCCCCCCC(C)O</td>\n",
              "      <td>[ZINC000001700021, ZINC000002039357]</td>\n",
              "    </tr>\n",
              "    <tr>\n",
              "      <th>3</th>\n",
              "      <td>CC11CCCCCCCCCC(C)N</td>\n",
              "      <td>[ZINC000001687258, ZINC000095719379]</td>\n",
              "    </tr>\n",
              "  </tbody>\n",
              "</table>\n",
              "</div>\n",
              "      <button class=\"colab-df-convert\" onclick=\"convertToInteractive('df-4e00e68b-3c2d-4cfa-b52c-1ee2fd6f3222')\"\n",
              "              title=\"Convert this dataframe to an interactive table.\"\n",
              "              style=\"display:none;\">\n",
              "        \n",
              "  <svg xmlns=\"http://www.w3.org/2000/svg\" height=\"24px\"viewBox=\"0 0 24 24\"\n",
              "       width=\"24px\">\n",
              "    <path d=\"M0 0h24v24H0V0z\" fill=\"none\"/>\n",
              "    <path d=\"M18.56 5.44l.94 2.06.94-2.06 2.06-.94-2.06-.94-.94-2.06-.94 2.06-2.06.94zm-11 1L8.5 8.5l.94-2.06 2.06-.94-2.06-.94L8.5 2.5l-.94 2.06-2.06.94zm10 10l.94 2.06.94-2.06 2.06-.94-2.06-.94-.94-2.06-.94 2.06-2.06.94z\"/><path d=\"M17.41 7.96l-1.37-1.37c-.4-.4-.92-.59-1.43-.59-.52 0-1.04.2-1.43.59L10.3 9.45l-7.72 7.72c-.78.78-.78 2.05 0 2.83L4 21.41c.39.39.9.59 1.41.59.51 0 1.02-.2 1.41-.59l7.78-7.78 2.81-2.81c.8-.78.8-2.07 0-2.86zM5.41 20L4 18.59l7.72-7.72 1.47 1.35L5.41 20z\"/>\n",
              "  </svg>\n",
              "      </button>\n",
              "      \n",
              "  <style>\n",
              "    .colab-df-container {\n",
              "      display:flex;\n",
              "      flex-wrap:wrap;\n",
              "      gap: 12px;\n",
              "    }\n",
              "\n",
              "    .colab-df-convert {\n",
              "      background-color: #E8F0FE;\n",
              "      border: none;\n",
              "      border-radius: 50%;\n",
              "      cursor: pointer;\n",
              "      display: none;\n",
              "      fill: #1967D2;\n",
              "      height: 32px;\n",
              "      padding: 0 0 0 0;\n",
              "      width: 32px;\n",
              "    }\n",
              "\n",
              "    .colab-df-convert:hover {\n",
              "      background-color: #E2EBFA;\n",
              "      box-shadow: 0px 1px 2px rgba(60, 64, 67, 0.3), 0px 1px 3px 1px rgba(60, 64, 67, 0.15);\n",
              "      fill: #174EA6;\n",
              "    }\n",
              "\n",
              "    [theme=dark] .colab-df-convert {\n",
              "      background-color: #3B4455;\n",
              "      fill: #D2E3FC;\n",
              "    }\n",
              "\n",
              "    [theme=dark] .colab-df-convert:hover {\n",
              "      background-color: #434B5C;\n",
              "      box-shadow: 0px 1px 3px 1px rgba(0, 0, 0, 0.15);\n",
              "      filter: drop-shadow(0px 1px 2px rgba(0, 0, 0, 0.3));\n",
              "      fill: #FFFFFF;\n",
              "    }\n",
              "  </style>\n",
              "\n",
              "      <script>\n",
              "        const buttonEl =\n",
              "          document.querySelector('#df-4e00e68b-3c2d-4cfa-b52c-1ee2fd6f3222 button.colab-df-convert');\n",
              "        buttonEl.style.display =\n",
              "          google.colab.kernel.accessAllowed ? 'block' : 'none';\n",
              "\n",
              "        async function convertToInteractive(key) {\n",
              "          const element = document.querySelector('#df-4e00e68b-3c2d-4cfa-b52c-1ee2fd6f3222');\n",
              "          const dataTable =\n",
              "            await google.colab.kernel.invokeFunction('convertToInteractive',\n",
              "                                                     [key], {});\n",
              "          if (!dataTable) return;\n",
              "\n",
              "          const docLinkHtml = 'Like what you see? Visit the ' +\n",
              "            '<a target=\"_blank\" href=https://colab.research.google.com/notebooks/data_table.ipynb>data table notebook</a>'\n",
              "            + ' to learn more about interactive tables.';\n",
              "          element.innerHTML = '';\n",
              "          dataTable['output_type'] = 'display_data';\n",
              "          await google.colab.output.renderOutput(dataTable, element);\n",
              "          const docLink = document.createElement('div');\n",
              "          docLink.innerHTML = docLinkHtml;\n",
              "          element.appendChild(docLink);\n",
              "        }\n",
              "      </script>\n",
              "    </div>\n",
              "  </div>\n",
              "  "
            ],
            "text/plain": [
              "  Generated Molecules                               Zinc_ID\n",
              "0  CC11CCCCCCC(C)(F)F                    [ZINC000117580970]\n",
              "1  CC11CCCCCCCCCC(C)C                    [ZINC000002560572]\n",
              "2  CC11CCCCCCCCCC(C)O  [ZINC000001700021, ZINC000002039357]\n",
              "3  CC11CCCCCCCCCC(C)N  [ZINC000001687258, ZINC000095719379]"
            ]
          },
          "metadata": {},
          "execution_count": 80
        }
      ]
    },
    {
      "cell_type": "code",
      "source": [
        ""
      ],
      "metadata": {
        "id": "C3bPpeTFd7g7"
      },
      "execution_count": null,
      "outputs": []
    }
  ],
  "metadata": {
    "kernelspec": {
      "display_name": "Python 3",
      "language": "python",
      "name": "python3"
    },
    "language_info": {
      "codemirror_mode": {
        "name": "ipython",
        "version": 3
      },
      "file_extension": ".py",
      "mimetype": "text/x-python",
      "name": "python",
      "nbconvert_exporter": "python",
      "pygments_lexer": "ipython3",
      "version": "3.7.3"
    },
    "colab": {
      "name": "molecule_generation using VAE.ipynb",
      "provenance": [],
      "machine_shape": "hm",
      "collapsed_sections": []
    },
    "accelerator": "GPU"
  },
  "nbformat": 4,
  "nbformat_minor": 0
}