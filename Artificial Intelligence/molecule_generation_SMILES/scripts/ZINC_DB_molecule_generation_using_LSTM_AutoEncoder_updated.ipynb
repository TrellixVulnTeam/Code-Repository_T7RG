{
  "cells": [
    {
      "cell_type": "markdown",
      "metadata": {
        "id": "2TThE6KcKKUB"
      },
      "source": [
        "<h2> Files</h2>\n",
        "<body>\n",
        "    <b>smiles </b>: Virtual Environment - Use source /smiles/bin/activate to activate the virtual env<br>\n",
        "    <b>datasets/download.sh </b>: Bash script to download datasets \n",
        "\t\tUsage : bash download.sh gdb13 OR bash download.sh gdb17 or bash download.sh gdb17\n",
        "<br>\n",
        "    <b>datasets/delete.sh </b>: bash script to delete files in the folder. \n",
        "\t\tUsage : bash delete.sh gdb11_ where gdb11 is the grep string to search for.\n",
        "<br>\n",
        "    <b>datasets/extract.sh </b>: To extract files from a tar file and to save it in a folder\n",
        "\n",
        "<br>\n",
        "\n",
        " "
      ]
    },
    {
      "cell_type": "markdown",
      "source": [
        "# About the dataset\n",
        "\n",
        "The dataset was downloaded from https://zinc.docking.org/substances/subsets/for-sale.csv?count=all\n",
        "with 'for_sale' filter"
      ],
      "metadata": {
        "id": "Ix5Ovlz8YpoY"
      }
    },
    {
      "cell_type": "markdown",
      "source": [
        "# Functions"
      ],
      "metadata": {
        "id": "1xpDCUaKnAk7"
      }
    },
    {
      "cell_type": "code",
      "source": [
        "# Function to One hot encode the data into into 2 Dimensions. \n",
        "# Splitting the dataset to len(distinct_charachter) number of columns\n",
        "def OneHotEncoding(data,ohe_dict,max):\n",
        "  \"\"\" The function makes use of the ohe_helper function to One Hot Encode a list of charachters and to return \n",
        "  the encoded format. Since the input here is a string, the output will be of 2 Dimensions \"\"\"\n",
        "\n",
        "  import numpy as np\n",
        "  ohe=[]\n",
        "  for data_point in data:\n",
        "    try:\n",
        "      ohe.append(ohe_helper(data_point,ohe_dict,max))\n",
        "    except:\n",
        "      print(data_point)\n",
        "  return ohe\n",
        "\n",
        "def ohe_helper(data,ohe_dict,max_value):\n",
        "  \"\"\" Helper function to One Hot Encode the data. \n",
        "  It is used by the above function\"\"\"\n",
        "\n",
        "  import numpy as np\n",
        "  out=np.zeros((max_value,len(ohe_dict)))\n",
        "  for i,element in enumerate(data):\n",
        "    out[i][key_value[element]]=1\n",
        "\n",
        "  return out\n",
        "\n",
        "def save(file,key_values):\n",
        "  \"\"\" The function will take the data and save it as an npz file, with\n",
        "  name smiles.npz\"\"\"\n",
        "  import numpy as np\n",
        "  np.savez('smiles.npz',ohe=temp,key=key_values)\n",
        "\n",
        "def OneHotDecoding_helper(data,dictionary):\n",
        "  \"\"\" Function to decode a One Hot Encoded 2D data back into its smile representation\"\"\"\n",
        "  key=list(dictionary.keys())\n",
        "  string=''\n",
        "  for charachter in data:\n",
        "    idx=charachter.argmax()\n",
        "    string+=key[idx]\n",
        "  return string\n",
        "\n",
        "def check_smiles(string):\n",
        "  object=check_molecule(string)"
      ],
      "metadata": {
        "id": "WjBCT-yPnDD9"
      },
      "execution_count": 1,
      "outputs": []
    },
    {
      "cell_type": "markdown",
      "source": [
        "# Define auto encoder"
      ],
      "metadata": {
        "id": "WcuKXJI0t6Bw"
      }
    },
    {
      "cell_type": "code",
      "source": [
        "def print_distributions(number_of_neurons, data):\n",
        "  import matplotlib.pyplot as plt\n",
        "  import seaborn as sns\n",
        "  \n",
        "  plt.figure(figsize=(20,20))\n",
        "\n",
        "  for i in range(number_of_neurons):\n",
        "    plt.subplot(8,number_of_neurons//8,i+1)\n",
        "    sns.histplot(data[i])\n",
        "    \n",
        "def print_decoder_outputs(input,predictions,number):\n",
        "  import matplotlib.pyplot as plt\n",
        "  plt.figure(figsize=(10,3))\n",
        "  for i in range(number):\n",
        "    plt.subplot(1,number,i+1)\n",
        "    plt.axis='off'\n",
        "    plt.imshow(input[i].reshape(28,28),cmap='gray')\n",
        "  plt.figure(figsize=(10,3))\n",
        "  for i in range(number):\n",
        "    plt.subplot(1,number,i+1)\n",
        "    plt.axis='off'\n",
        "    plt.imshow(predictions[i].reshape(28,28),cmap='gray')\n"
      ],
      "metadata": {
        "id": "8szQMUZxsoZI"
      },
      "execution_count": 2,
      "outputs": []
    },
    {
      "cell_type": "markdown",
      "source": [
        "# Preparing the data"
      ],
      "metadata": {
        "id": "8eBhDkgUNOx4"
      }
    },
    {
      "cell_type": "code",
      "source": [
        "\n",
        "# Connecting to google drive and navigating to folder\n",
        "from google.colab import drive\n",
        "drive.mount('/content/drive')\n",
        "import os\n",
        "os.chdir(\"drive/MyDrive/Colab Notebooks/molecule_generation_SMILES/scripts\")"
      ],
      "metadata": {
        "id": "pskcxzApKbny",
        "colab": {
          "base_uri": "https://localhost:8080/"
        },
        "outputId": "b8273ce9-d132-43ff-cd8e-ef80b4035938"
      },
      "execution_count": 3,
      "outputs": [
        {
          "output_type": "stream",
          "name": "stdout",
          "text": [
            "Mounted at /content/drive\n"
          ]
        }
      ]
    },
    {
      "cell_type": "code",
      "execution_count": 14,
      "metadata": {
        "id": "Kt33dM6UKKUJ",
        "colab": {
          "base_uri": "https://localhost:8080/"
        },
        "outputId": "5767e605-19e9-4cd9-d72f-65efcea51609"
      },
      "outputs": [
        {
          "output_type": "stream",
          "name": "stdout",
          "text": [
            "Requirement already satisfied: smilite in /usr/local/lib/python3.7/dist-packages (2.3.0)\n",
            "Requirement already satisfied: PyPrind>=2.3.1 in /usr/local/lib/python3.7/dist-packages (from smilite) (2.11.3)\n"
          ]
        }
      ],
      "source": [
        "!pip install smilite\n",
        "# Importing Libraries\n",
        "import pandas as pd\n",
        "import smilite # Library to check if data generated is correct or not\n",
        "from check_molecule import *\n",
        "import numpy as np\n"
      ]
    },
    {
      "cell_type": "code",
      "source": [
        "data=pd.read_csv('ZINC.csv',nrows=7000000)"
      ],
      "metadata": {
        "id": "z_8sTpm4SWw_"
      },
      "execution_count": 29,
      "outputs": []
    },
    {
      "cell_type": "code",
      "source": [
        "data.head()"
      ],
      "metadata": {
        "colab": {
          "base_uri": "https://localhost:8080/",
          "height": 206
        },
        "id": "tzudWoouSblW",
        "outputId": "128d19f3-85fd-4da0-b4ab-6a1a6edbea3a"
      },
      "execution_count": 30,
      "outputs": [
        {
          "output_type": "execute_result",
          "data": {
            "text/html": [
              "\n",
              "  <div id=\"df-db83e784-f5da-48fa-acc3-1a60c40b27c0\">\n",
              "    <div class=\"colab-df-container\">\n",
              "      <div>\n",
              "<style scoped>\n",
              "    .dataframe tbody tr th:only-of-type {\n",
              "        vertical-align: middle;\n",
              "    }\n",
              "\n",
              "    .dataframe tbody tr th {\n",
              "        vertical-align: top;\n",
              "    }\n",
              "\n",
              "    .dataframe thead th {\n",
              "        text-align: right;\n",
              "    }\n",
              "</style>\n",
              "<table border=\"1\" class=\"dataframe\">\n",
              "  <thead>\n",
              "    <tr style=\"text-align: right;\">\n",
              "      <th></th>\n",
              "      <th>zinc_id</th>\n",
              "      <th>smiles</th>\n",
              "    </tr>\n",
              "  </thead>\n",
              "  <tbody>\n",
              "    <tr>\n",
              "      <th>0</th>\n",
              "      <td>ZINC000000000007</td>\n",
              "      <td>C=CCc1ccc(OCC(=O)N(CC)CC)c(OC)c1</td>\n",
              "    </tr>\n",
              "    <tr>\n",
              "      <th>1</th>\n",
              "      <td>ZINC000000000010</td>\n",
              "      <td>C[C@@]1(c2ccccc2)OC(C(=O)O)=CC1=O</td>\n",
              "    </tr>\n",
              "    <tr>\n",
              "      <th>2</th>\n",
              "      <td>ZINC000000000011</td>\n",
              "      <td>COc1cc(Cc2cnc(N)nc2N)cc(OC)c1N(C)C</td>\n",
              "    </tr>\n",
              "    <tr>\n",
              "      <th>3</th>\n",
              "      <td>ZINC000000000012</td>\n",
              "      <td>O=C(C[S@@](=O)C(c1ccccc1)c1ccccc1)NO</td>\n",
              "    </tr>\n",
              "    <tr>\n",
              "      <th>4</th>\n",
              "      <td>ZINC000000000014</td>\n",
              "      <td>CC[C@H]1[C@H](O)N2[C@H]3C[C@@]45c6ccccc6N(C)[C...</td>\n",
              "    </tr>\n",
              "  </tbody>\n",
              "</table>\n",
              "</div>\n",
              "      <button class=\"colab-df-convert\" onclick=\"convertToInteractive('df-db83e784-f5da-48fa-acc3-1a60c40b27c0')\"\n",
              "              title=\"Convert this dataframe to an interactive table.\"\n",
              "              style=\"display:none;\">\n",
              "        \n",
              "  <svg xmlns=\"http://www.w3.org/2000/svg\" height=\"24px\"viewBox=\"0 0 24 24\"\n",
              "       width=\"24px\">\n",
              "    <path d=\"M0 0h24v24H0V0z\" fill=\"none\"/>\n",
              "    <path d=\"M18.56 5.44l.94 2.06.94-2.06 2.06-.94-2.06-.94-.94-2.06-.94 2.06-2.06.94zm-11 1L8.5 8.5l.94-2.06 2.06-.94-2.06-.94L8.5 2.5l-.94 2.06-2.06.94zm10 10l.94 2.06.94-2.06 2.06-.94-2.06-.94-.94-2.06-.94 2.06-2.06.94z\"/><path d=\"M17.41 7.96l-1.37-1.37c-.4-.4-.92-.59-1.43-.59-.52 0-1.04.2-1.43.59L10.3 9.45l-7.72 7.72c-.78.78-.78 2.05 0 2.83L4 21.41c.39.39.9.59 1.41.59.51 0 1.02-.2 1.41-.59l7.78-7.78 2.81-2.81c.8-.78.8-2.07 0-2.86zM5.41 20L4 18.59l7.72-7.72 1.47 1.35L5.41 20z\"/>\n",
              "  </svg>\n",
              "      </button>\n",
              "      \n",
              "  <style>\n",
              "    .colab-df-container {\n",
              "      display:flex;\n",
              "      flex-wrap:wrap;\n",
              "      gap: 12px;\n",
              "    }\n",
              "\n",
              "    .colab-df-convert {\n",
              "      background-color: #E8F0FE;\n",
              "      border: none;\n",
              "      border-radius: 50%;\n",
              "      cursor: pointer;\n",
              "      display: none;\n",
              "      fill: #1967D2;\n",
              "      height: 32px;\n",
              "      padding: 0 0 0 0;\n",
              "      width: 32px;\n",
              "    }\n",
              "\n",
              "    .colab-df-convert:hover {\n",
              "      background-color: #E2EBFA;\n",
              "      box-shadow: 0px 1px 2px rgba(60, 64, 67, 0.3), 0px 1px 3px 1px rgba(60, 64, 67, 0.15);\n",
              "      fill: #174EA6;\n",
              "    }\n",
              "\n",
              "    [theme=dark] .colab-df-convert {\n",
              "      background-color: #3B4455;\n",
              "      fill: #D2E3FC;\n",
              "    }\n",
              "\n",
              "    [theme=dark] .colab-df-convert:hover {\n",
              "      background-color: #434B5C;\n",
              "      box-shadow: 0px 1px 3px 1px rgba(0, 0, 0, 0.15);\n",
              "      filter: drop-shadow(0px 1px 2px rgba(0, 0, 0, 0.3));\n",
              "      fill: #FFFFFF;\n",
              "    }\n",
              "  </style>\n",
              "\n",
              "      <script>\n",
              "        const buttonEl =\n",
              "          document.querySelector('#df-db83e784-f5da-48fa-acc3-1a60c40b27c0 button.colab-df-convert');\n",
              "        buttonEl.style.display =\n",
              "          google.colab.kernel.accessAllowed ? 'block' : 'none';\n",
              "\n",
              "        async function convertToInteractive(key) {\n",
              "          const element = document.querySelector('#df-db83e784-f5da-48fa-acc3-1a60c40b27c0');\n",
              "          const dataTable =\n",
              "            await google.colab.kernel.invokeFunction('convertToInteractive',\n",
              "                                                     [key], {});\n",
              "          if (!dataTable) return;\n",
              "\n",
              "          const docLinkHtml = 'Like what you see? Visit the ' +\n",
              "            '<a target=\"_blank\" href=https://colab.research.google.com/notebooks/data_table.ipynb>data table notebook</a>'\n",
              "            + ' to learn more about interactive tables.';\n",
              "          element.innerHTML = '';\n",
              "          dataTable['output_type'] = 'display_data';\n",
              "          await google.colab.output.renderOutput(dataTable, element);\n",
              "          const docLink = document.createElement('div');\n",
              "          docLink.innerHTML = docLinkHtml;\n",
              "          element.appendChild(docLink);\n",
              "        }\n",
              "      </script>\n",
              "    </div>\n",
              "  </div>\n",
              "  "
            ],
            "text/plain": [
              "            zinc_id                                             smiles\n",
              "0  ZINC000000000007                   C=CCc1ccc(OCC(=O)N(CC)CC)c(OC)c1\n",
              "1  ZINC000000000010                  C[C@@]1(c2ccccc2)OC(C(=O)O)=CC1=O\n",
              "2  ZINC000000000011                 COc1cc(Cc2cnc(N)nc2N)cc(OC)c1N(C)C\n",
              "3  ZINC000000000012               O=C(C[S@@](=O)C(c1ccccc1)c1ccccc1)NO\n",
              "4  ZINC000000000014  CC[C@H]1[C@H](O)N2[C@H]3C[C@@]45c6ccccc6N(C)[C..."
            ]
          },
          "metadata": {},
          "execution_count": 30
        }
      ]
    },
    {
      "cell_type": "code",
      "source": [
        "zinc_id_from_db=data['zinc_id']\n",
        "data.drop(['zinc_id'],axis=1,inplace=True)\n",
        "data.columns=['Molecule']\n",
        "\n",
        "\n",
        "data.head()"
      ],
      "metadata": {
        "colab": {
          "base_uri": "https://localhost:8080/",
          "height": 206
        },
        "id": "fa04SduCS04T",
        "outputId": "758c4ba4-4eda-475c-b23f-2407839caa0d"
      },
      "execution_count": 31,
      "outputs": [
        {
          "output_type": "execute_result",
          "data": {
            "text/html": [
              "\n",
              "  <div id=\"df-9333bf2b-d43a-4fff-8ff5-840e40a5cf30\">\n",
              "    <div class=\"colab-df-container\">\n",
              "      <div>\n",
              "<style scoped>\n",
              "    .dataframe tbody tr th:only-of-type {\n",
              "        vertical-align: middle;\n",
              "    }\n",
              "\n",
              "    .dataframe tbody tr th {\n",
              "        vertical-align: top;\n",
              "    }\n",
              "\n",
              "    .dataframe thead th {\n",
              "        text-align: right;\n",
              "    }\n",
              "</style>\n",
              "<table border=\"1\" class=\"dataframe\">\n",
              "  <thead>\n",
              "    <tr style=\"text-align: right;\">\n",
              "      <th></th>\n",
              "      <th>Molecule</th>\n",
              "    </tr>\n",
              "  </thead>\n",
              "  <tbody>\n",
              "    <tr>\n",
              "      <th>0</th>\n",
              "      <td>C=CCc1ccc(OCC(=O)N(CC)CC)c(OC)c1</td>\n",
              "    </tr>\n",
              "    <tr>\n",
              "      <th>1</th>\n",
              "      <td>C[C@@]1(c2ccccc2)OC(C(=O)O)=CC1=O</td>\n",
              "    </tr>\n",
              "    <tr>\n",
              "      <th>2</th>\n",
              "      <td>COc1cc(Cc2cnc(N)nc2N)cc(OC)c1N(C)C</td>\n",
              "    </tr>\n",
              "    <tr>\n",
              "      <th>3</th>\n",
              "      <td>O=C(C[S@@](=O)C(c1ccccc1)c1ccccc1)NO</td>\n",
              "    </tr>\n",
              "    <tr>\n",
              "      <th>4</th>\n",
              "      <td>CC[C@H]1[C@H](O)N2[C@H]3C[C@@]45c6ccccc6N(C)[C...</td>\n",
              "    </tr>\n",
              "  </tbody>\n",
              "</table>\n",
              "</div>\n",
              "      <button class=\"colab-df-convert\" onclick=\"convertToInteractive('df-9333bf2b-d43a-4fff-8ff5-840e40a5cf30')\"\n",
              "              title=\"Convert this dataframe to an interactive table.\"\n",
              "              style=\"display:none;\">\n",
              "        \n",
              "  <svg xmlns=\"http://www.w3.org/2000/svg\" height=\"24px\"viewBox=\"0 0 24 24\"\n",
              "       width=\"24px\">\n",
              "    <path d=\"M0 0h24v24H0V0z\" fill=\"none\"/>\n",
              "    <path d=\"M18.56 5.44l.94 2.06.94-2.06 2.06-.94-2.06-.94-.94-2.06-.94 2.06-2.06.94zm-11 1L8.5 8.5l.94-2.06 2.06-.94-2.06-.94L8.5 2.5l-.94 2.06-2.06.94zm10 10l.94 2.06.94-2.06 2.06-.94-2.06-.94-.94-2.06-.94 2.06-2.06.94z\"/><path d=\"M17.41 7.96l-1.37-1.37c-.4-.4-.92-.59-1.43-.59-.52 0-1.04.2-1.43.59L10.3 9.45l-7.72 7.72c-.78.78-.78 2.05 0 2.83L4 21.41c.39.39.9.59 1.41.59.51 0 1.02-.2 1.41-.59l7.78-7.78 2.81-2.81c.8-.78.8-2.07 0-2.86zM5.41 20L4 18.59l7.72-7.72 1.47 1.35L5.41 20z\"/>\n",
              "  </svg>\n",
              "      </button>\n",
              "      \n",
              "  <style>\n",
              "    .colab-df-container {\n",
              "      display:flex;\n",
              "      flex-wrap:wrap;\n",
              "      gap: 12px;\n",
              "    }\n",
              "\n",
              "    .colab-df-convert {\n",
              "      background-color: #E8F0FE;\n",
              "      border: none;\n",
              "      border-radius: 50%;\n",
              "      cursor: pointer;\n",
              "      display: none;\n",
              "      fill: #1967D2;\n",
              "      height: 32px;\n",
              "      padding: 0 0 0 0;\n",
              "      width: 32px;\n",
              "    }\n",
              "\n",
              "    .colab-df-convert:hover {\n",
              "      background-color: #E2EBFA;\n",
              "      box-shadow: 0px 1px 2px rgba(60, 64, 67, 0.3), 0px 1px 3px 1px rgba(60, 64, 67, 0.15);\n",
              "      fill: #174EA6;\n",
              "    }\n",
              "\n",
              "    [theme=dark] .colab-df-convert {\n",
              "      background-color: #3B4455;\n",
              "      fill: #D2E3FC;\n",
              "    }\n",
              "\n",
              "    [theme=dark] .colab-df-convert:hover {\n",
              "      background-color: #434B5C;\n",
              "      box-shadow: 0px 1px 3px 1px rgba(0, 0, 0, 0.15);\n",
              "      filter: drop-shadow(0px 1px 2px rgba(0, 0, 0, 0.3));\n",
              "      fill: #FFFFFF;\n",
              "    }\n",
              "  </style>\n",
              "\n",
              "      <script>\n",
              "        const buttonEl =\n",
              "          document.querySelector('#df-9333bf2b-d43a-4fff-8ff5-840e40a5cf30 button.colab-df-convert');\n",
              "        buttonEl.style.display =\n",
              "          google.colab.kernel.accessAllowed ? 'block' : 'none';\n",
              "\n",
              "        async function convertToInteractive(key) {\n",
              "          const element = document.querySelector('#df-9333bf2b-d43a-4fff-8ff5-840e40a5cf30');\n",
              "          const dataTable =\n",
              "            await google.colab.kernel.invokeFunction('convertToInteractive',\n",
              "                                                     [key], {});\n",
              "          if (!dataTable) return;\n",
              "\n",
              "          const docLinkHtml = 'Like what you see? Visit the ' +\n",
              "            '<a target=\"_blank\" href=https://colab.research.google.com/notebooks/data_table.ipynb>data table notebook</a>'\n",
              "            + ' to learn more about interactive tables.';\n",
              "          element.innerHTML = '';\n",
              "          dataTable['output_type'] = 'display_data';\n",
              "          await google.colab.output.renderOutput(dataTable, element);\n",
              "          const docLink = document.createElement('div');\n",
              "          docLink.innerHTML = docLinkHtml;\n",
              "          element.appendChild(docLink);\n",
              "        }\n",
              "      </script>\n",
              "    </div>\n",
              "  </div>\n",
              "  "
            ],
            "text/plain": [
              "                                            Molecule\n",
              "0                   C=CCc1ccc(OCC(=O)N(CC)CC)c(OC)c1\n",
              "1                  C[C@@]1(c2ccccc2)OC(C(=O)O)=CC1=O\n",
              "2                 COc1cc(Cc2cnc(N)nc2N)cc(OC)c1N(C)C\n",
              "3               O=C(C[S@@](=O)C(c1ccccc1)c1ccccc1)NO\n",
              "4  CC[C@H]1[C@H](O)N2[C@H]3C[C@@]45c6ccccc6N(C)[C..."
            ]
          },
          "metadata": {},
          "execution_count": 31
        }
      ]
    },
    {
      "cell_type": "markdown",
      "metadata": {
        "id": "1_gBS8rDKKUN"
      },
      "source": [
        "<h4>One Hot Encoding the data"
      ]
    },
    {
      "cell_type": "code",
      "execution_count": 32,
      "metadata": {
        "id": "4Y0oyVh7KKUO"
      },
      "outputs": [],
      "source": [
        "# % time\n",
        "\n",
        "\n",
        "# Creating a new column with the charachter seperated as a list\n",
        "data['Molecule_sep']=data['Molecule'].apply(lambda x: list(x))\n",
        "\n",
        "#Creating a new column with length of each smiles representation\n",
        "data['length']=data['Molecule_sep'].apply(lambda x: len(x))\n",
        "\n"
      ]
    },
    {
      "cell_type": "code",
      "source": [
        "# Finding the distinct charachters in the dataset\n",
        "distinct_charachters=set(' '.join(data[data['length']==32]['Molecule'].values))\n",
        "\n",
        "# Creating a dictionary to get the index value\n",
        "key_value={}\n",
        "key_value[' ']=0\n",
        "idx=1\n",
        "for charachter in distinct_charachters:\n",
        "  if charachter!=' ':\n",
        "    key_value[charachter]=idx\n",
        "    idx+=1\n",
        "\n",
        "data=data[data['length']==32] # Filtering the data to get elements of same size\n",
        "data.to_csv('zinc_data_reduced.csv')\n",
        "np.savez('key_value_pairs',key=key_value)"
      ],
      "metadata": {
        "id": "qF0I4EMoeDmx"
      },
      "execution_count": null,
      "outputs": []
    },
    {
      "cell_type": "code",
      "source": [
        "data=pd.read_csv('zinc_data_reduced.csv')\n",
        "data.drop(data.columns[0],axis=1,inplace=True)\n",
        "key_value=np.load('key_value_pairs.npz',allow_pickle=True)\n",
        "key_value=key_value['key']\n",
        "key_value=key_value.item()"
      ],
      "metadata": {
        "id": "kd0mrniMXr0d"
      },
      "execution_count": 33,
      "outputs": []
    },
    {
      "cell_type": "code",
      "source": [
        "#Since the charachters are not ordinal , converting them into one Hot Encoding\n",
        "import numpy as np\n",
        "temp=np.array(OneHotEncoding(data['Molecule'],key_value,data['length'].max()))\n",
        "\n",
        "np.savez('smiles_zinc.npz',ohe=temp,key=key_value)"
      ],
      "metadata": {
        "id": "wmGEDEU-VCMo"
      },
      "execution_count": null,
      "outputs": []
    },
    {
      "cell_type": "code",
      "source": [
        "# Reading the saved Nump file\n",
        "import numpy as np\n",
        "data_en=np.load('smiles_zinc.npz',allow_pickle=True)\n",
        "key_value=data_en['key'].item()\n",
        "data_en=data_en['ohe']"
      ],
      "metadata": {
        "id": "-AvKaL2R6b65"
      },
      "execution_count": 6,
      "outputs": []
    },
    {
      "cell_type": "markdown",
      "source": [
        "# LSTM Autoencoder\n",
        "Reference : TowardsDataScience post on LSTM AutoEncoders by Chitta Ranjan\n"
      ],
      "metadata": {
        "id": "0oMCXmTNrE4P"
      }
    },
    {
      "cell_type": "code",
      "source": [
        "OneHotDecoding_helper(data_en[0],key_value)"
      ],
      "metadata": {
        "colab": {
          "base_uri": "https://localhost:8080/",
          "height": 35
        },
        "id": "6pcltA2ZHjMl",
        "outputId": "242a03be-c92a-4f74-81e9-ba374eb8a783"
      },
      "execution_count": null,
      "outputs": [
        {
          "output_type": "execute_result",
          "data": {
            "application/vnd.google.colaboratory.intrinsic+json": {
              "type": "string"
            },
            "text/plain": [
              "'C=CCc1ccc(OCC(=O)N(CC)CC)c(OC)c1'"
            ]
          },
          "metadata": {},
          "execution_count": 67
        }
      ]
    },
    {
      "cell_type": "code",
      "source": [
        "slicing_point=int(len(data_en)*0.75)\n",
        "x_train=data_en[:slicing_point]\n",
        "x_test=data_en[slicing_point:]"
      ],
      "metadata": {
        "id": "cqgJvMhv1KXv"
      },
      "execution_count": null,
      "outputs": []
    },
    {
      "cell_type": "code",
      "source": [
        "\n",
        "# The motive here is to create a Deep autoencoder\n",
        "from keras import Sequential\n",
        "from keras.layers import LSTM,Dense,RepeatVector\n",
        "# define model\n",
        "model = Sequential()\n",
        "model.add(LSTM(32, activation='relu', input_shape=(32,32), return_sequences=True))\n",
        "model.add(LSTM(8, activation='relu', return_sequences=False))\n",
        "model.add(RepeatVector(32))\n",
        "model.add(LSTM(64, activation='relu', return_sequences=True))\n",
        "model.add(LSTM(128, activation='relu', return_sequences=True))\n",
        "model.add(Dense(32, activation='softmax'))\n",
        "model.compile(optimizer='adam', loss='binary_crossentropy')\n",
        "model.summary()\n",
        "\n",
        "model.fit(x_train,x_train,epochs = 30,\n",
        "          batch_size=512,\n",
        "          shuffle = True,\n",
        "          validation_data = (x_test,x_test))"
      ],
      "metadata": {
        "colab": {
          "base_uri": "https://localhost:8080/"
        },
        "id": "jN0_tOIjv-Nw",
        "outputId": "e4ee25b1-1eec-4317-dae6-ebd75ac3ac1c"
      },
      "execution_count": null,
      "outputs": [
        {
          "output_type": "stream",
          "name": "stdout",
          "text": [
            "WARNING:tensorflow:Layer lstm_12 will not use cuDNN kernels since it doesn't meet the criteria. It will use a generic GPU kernel as fallback when running on GPU.\n",
            "WARNING:tensorflow:Layer lstm_13 will not use cuDNN kernels since it doesn't meet the criteria. It will use a generic GPU kernel as fallback when running on GPU.\n",
            "WARNING:tensorflow:Layer lstm_14 will not use cuDNN kernels since it doesn't meet the criteria. It will use a generic GPU kernel as fallback when running on GPU.\n",
            "WARNING:tensorflow:Layer lstm_15 will not use cuDNN kernels since it doesn't meet the criteria. It will use a generic GPU kernel as fallback when running on GPU.\n",
            "Model: \"sequential_3\"\n",
            "_________________________________________________________________\n",
            " Layer (type)                Output Shape              Param #   \n",
            "=================================================================\n",
            " lstm_12 (LSTM)              (None, 32, 32)            8320      \n",
            "                                                                 \n",
            " lstm_13 (LSTM)              (None, 8)                 1312      \n",
            "                                                                 \n",
            " repeat_vector_3 (RepeatVect  (None, 32, 8)            0         \n",
            " or)                                                             \n",
            "                                                                 \n",
            " lstm_14 (LSTM)              (None, 32, 64)            18688     \n",
            "                                                                 \n",
            " lstm_15 (LSTM)              (None, 32, 128)           98816     \n",
            "                                                                 \n",
            " dense_3 (Dense)             (None, 32, 32)            4128      \n",
            "                                                                 \n",
            "=================================================================\n",
            "Total params: 131,264\n",
            "Trainable params: 131,264\n",
            "Non-trainable params: 0\n",
            "_________________________________________________________________\n",
            "Epoch 1/30\n",
            "124/124 [==============================] - 39s 280ms/step - loss: 0.2334 - val_loss: 0.0981\n",
            "Epoch 2/30\n",
            "124/124 [==============================] - 33s 270ms/step - loss: 0.0948 - val_loss: 0.0922\n",
            "Epoch 3/30\n",
            "124/124 [==============================] - 34s 271ms/step - loss: 0.0896 - val_loss: 0.0868\n",
            "Epoch 4/30\n",
            "124/124 [==============================] - 34s 271ms/step - loss: 0.0863 - val_loss: 0.0848\n",
            "Epoch 5/30\n",
            "124/124 [==============================] - 34s 271ms/step - loss: 0.0837 - val_loss: 0.0834\n",
            "Epoch 6/30\n",
            "124/124 [==============================] - 33s 270ms/step - loss: 0.0818 - val_loss: 0.0809\n",
            "Epoch 7/30\n",
            "124/124 [==============================] - 34s 273ms/step - loss: 0.0797 - val_loss: 0.0794\n",
            "Epoch 8/30\n",
            "124/124 [==============================] - 34s 272ms/step - loss: 0.0781 - val_loss: 0.0773\n",
            "Epoch 9/30\n",
            "124/124 [==============================] - 33s 270ms/step - loss: 0.0765 - val_loss: 0.0768\n",
            "Epoch 10/30\n",
            "124/124 [==============================] - 34s 272ms/step - loss: 0.0743 - val_loss: 0.0722\n",
            "Epoch 11/30\n",
            "124/124 [==============================] - 34s 271ms/step - loss: 0.0738 - val_loss: 0.0775\n",
            "Epoch 12/30\n",
            "124/124 [==============================] - 34s 270ms/step - loss: 0.0713 - val_loss: 0.0727\n",
            "Epoch 13/30\n",
            "124/124 [==============================] - 33s 268ms/step - loss: 0.0711 - val_loss: 0.0691\n",
            "Epoch 14/30\n",
            "124/124 [==============================] - 33s 269ms/step - loss: 0.0704 - val_loss: 0.0727\n",
            "Epoch 15/30\n",
            "124/124 [==============================] - 33s 269ms/step - loss: 0.0714 - val_loss: 0.0714\n",
            "Epoch 16/30\n",
            "124/124 [==============================] - 33s 270ms/step - loss: 0.0692 - val_loss: 0.0712\n",
            "Epoch 17/30\n",
            "124/124 [==============================] - 34s 271ms/step - loss: 0.0672 - val_loss: 0.0681\n",
            "Epoch 18/30\n",
            "124/124 [==============================] - 33s 270ms/step - loss: 0.0705 - val_loss: 0.0679\n",
            "Epoch 19/30\n",
            "124/124 [==============================] - 34s 271ms/step - loss: 0.0666 - val_loss: 0.0655\n",
            "Epoch 20/30\n",
            "124/124 [==============================] - 33s 269ms/step - loss: 0.0663 - val_loss: 0.0737\n",
            "Epoch 21/30\n",
            "124/124 [==============================] - 33s 270ms/step - loss: 0.0658 - val_loss: 0.0644\n",
            "Epoch 22/30\n",
            "124/124 [==============================] - 33s 270ms/step - loss: 0.0635 - val_loss: 0.0643\n",
            "Epoch 23/30\n",
            "124/124 [==============================] - 33s 270ms/step - loss: 0.0688 - val_loss: 0.0659\n",
            "Epoch 24/30\n",
            "124/124 [==============================] - 33s 268ms/step - loss: 0.0652 - val_loss: 0.0638\n",
            "Epoch 25/30\n",
            "124/124 [==============================] - 34s 273ms/step - loss: 0.0629 - val_loss: 0.0653\n",
            "Epoch 26/30\n",
            "124/124 [==============================] - 34s 272ms/step - loss: 0.0648 - val_loss: 0.0633\n",
            "Epoch 27/30\n",
            " 78/124 [=================>............] - ETA: 11s - loss: 0.0614"
          ]
        }
      ]
    },
    {
      "cell_type": "code",
      "source": [
        "# Seperating the encoder and the decoder\n",
        "from keras.models import Model\n",
        "encoder=Model(inputs=model.input,outputs=model.layers[2].output)\n",
        "decoder=Model(inputs=model.layers[-3].input,outputs=model.output)"
      ],
      "metadata": {
        "id": "vE6SBmZoxew_"
      },
      "execution_count": null,
      "outputs": []
    },
    {
      "cell_type": "code",
      "source": [
        "#Getting the encoded format of the data\n",
        "encoded_data=encoder.predict(data_en)\n",
        "\n",
        "encoded_data.shape"
      ],
      "metadata": {
        "colab": {
          "base_uri": "https://localhost:8080/"
        },
        "id": "OYt3Gt4Y4TJM",
        "outputId": "9633a94e-58b1-4aa6-8798-1a5f32a21478"
      },
      "execution_count": null,
      "outputs": [
        {
          "output_type": "execute_result",
          "data": {
            "text/plain": [
              "(84044, 32, 8)"
            ]
          },
          "metadata": {},
          "execution_count": 74
        }
      ]
    },
    {
      "cell_type": "code",
      "source": [
        "gaussian=[] # Storing the outputs of individial neurons to different lists\n",
        "for data in encoded_data:\n",
        "  neuron_data=[]\n",
        "  for layer in data: # 18 layers\n",
        "    for value in layer : # Each layer has 2 values\n",
        "      neuron_data.append(value)\n",
        "  gaussian.append(neuron_data)\n",
        "gaussian=np.array(gaussian)"
      ],
      "metadata": {
        "id": "AbYn_tP45ScK"
      },
      "execution_count": null,
      "outputs": []
    },
    {
      "cell_type": "code",
      "source": [
        "hist=[[] for i in range(256)]\n",
        "for data in gaussian:\n",
        "  for i,value in enumerate(data):\n",
        "    hist[i].append(value)"
      ],
      "metadata": {
        "id": "OQfihZen4ZKp"
      },
      "execution_count": null,
      "outputs": []
    },
    {
      "cell_type": "code",
      "source": [
        "smiles=decoder.predict(encoded_data)"
      ],
      "metadata": {
        "id": "ClP6AOCqlU7q"
      },
      "execution_count": null,
      "outputs": []
    },
    {
      "cell_type": "markdown",
      "source": [
        "# Saving the models and data\n"
      ],
      "metadata": {
        "id": "C3bPpeTFd7g7"
      }
    },
    {
      "cell_type": "code",
      "source": [
        "pickle.dump(model,open('LSTM_VAE_zinc.sav','wb'))\n",
        "pickle.dump(encoder,open('Encoder_zinc.sav','wb'))\n",
        "pickle.dump(decoder,open('Decoder_zinc.sav','wb'))\n",
        "pickle.dump(data_en,open('encoded_input_zinc.dat','wb'))\n",
        "pickle.dump(encoded_data,open('encoder_output_zinc.dat','wb'))\n",
        "pickle.dump(smiles,open('decoder_output_zinc.dat','wb'))"
      ],
      "metadata": {
        "colab": {
          "base_uri": "https://localhost:8080/"
        },
        "id": "x3vQkoC1ejiw",
        "outputId": "1d0129c6-4cc3-4f82-ca7f-684237235e5b"
      },
      "execution_count": null,
      "outputs": [
        {
          "output_type": "stream",
          "name": "stdout",
          "text": [
            "INFO:tensorflow:Assets written to: ram://d7362761-824c-4669-8b89-0c38cb2662c1/assets\n"
          ]
        },
        {
          "output_type": "stream",
          "name": "stderr",
          "text": [
            "WARNING:absl:<keras.layers.recurrent.LSTMCell object at 0x7fc82e1a1d50> has the same name 'LSTMCell' as a built-in Keras object. Consider renaming <class 'keras.layers.recurrent.LSTMCell'> to avoid naming conflicts when loading with `tf.keras.models.load_model`. If renaming is not possible, pass the object in the `custom_objects` parameter of the load function.\n",
            "WARNING:absl:<keras.layers.recurrent.LSTMCell object at 0x7fc8167cbb10> has the same name 'LSTMCell' as a built-in Keras object. Consider renaming <class 'keras.layers.recurrent.LSTMCell'> to avoid naming conflicts when loading with `tf.keras.models.load_model`. If renaming is not possible, pass the object in the `custom_objects` parameter of the load function.\n",
            "WARNING:absl:<keras.layers.recurrent.LSTMCell object at 0x7fc8167e7750> has the same name 'LSTMCell' as a built-in Keras object. Consider renaming <class 'keras.layers.recurrent.LSTMCell'> to avoid naming conflicts when loading with `tf.keras.models.load_model`. If renaming is not possible, pass the object in the `custom_objects` parameter of the load function.\n",
            "WARNING:absl:<keras.layers.recurrent.LSTMCell object at 0x7fc8167a2190> has the same name 'LSTMCell' as a built-in Keras object. Consider renaming <class 'keras.layers.recurrent.LSTMCell'> to avoid naming conflicts when loading with `tf.keras.models.load_model`. If renaming is not possible, pass the object in the `custom_objects` parameter of the load function.\n"
          ]
        },
        {
          "output_type": "stream",
          "name": "stdout",
          "text": [
            "WARNING:tensorflow:Compiled the loaded model, but the compiled metrics have yet to be built. `model.compile_metrics` will be empty until you train or evaluate the model.\n"
          ]
        },
        {
          "output_type": "stream",
          "name": "stderr",
          "text": [
            "WARNING:tensorflow:Compiled the loaded model, but the compiled metrics have yet to be built. `model.compile_metrics` will be empty until you train or evaluate the model.\n"
          ]
        },
        {
          "output_type": "stream",
          "name": "stdout",
          "text": [
            "INFO:tensorflow:Assets written to: ram://ce8780c4-f31c-4a66-b1b1-7b41e9b8c3bb/assets\n"
          ]
        },
        {
          "output_type": "stream",
          "name": "stderr",
          "text": [
            "INFO:tensorflow:Assets written to: ram://ce8780c4-f31c-4a66-b1b1-7b41e9b8c3bb/assets\n",
            "WARNING:absl:<keras.layers.recurrent.LSTMCell object at 0x7fc82e1a1d50> has the same name 'LSTMCell' as a built-in Keras object. Consider renaming <class 'keras.layers.recurrent.LSTMCell'> to avoid naming conflicts when loading with `tf.keras.models.load_model`. If renaming is not possible, pass the object in the `custom_objects` parameter of the load function.\n",
            "WARNING:absl:<keras.layers.recurrent.LSTMCell object at 0x7fc8167cbb10> has the same name 'LSTMCell' as a built-in Keras object. Consider renaming <class 'keras.layers.recurrent.LSTMCell'> to avoid naming conflicts when loading with `tf.keras.models.load_model`. If renaming is not possible, pass the object in the `custom_objects` parameter of the load function.\n"
          ]
        },
        {
          "output_type": "stream",
          "name": "stdout",
          "text": [
            "WARNING:tensorflow:Compiled the loaded model, but the compiled metrics have yet to be built. `model.compile_metrics` will be empty until you train or evaluate the model.\n"
          ]
        },
        {
          "output_type": "stream",
          "name": "stderr",
          "text": [
            "WARNING:tensorflow:Compiled the loaded model, but the compiled metrics have yet to be built. `model.compile_metrics` will be empty until you train or evaluate the model.\n"
          ]
        },
        {
          "output_type": "stream",
          "name": "stdout",
          "text": [
            "INFO:tensorflow:Assets written to: ram://2d6f00e0-b4f3-4a3b-b40f-979dec50cbee/assets\n"
          ]
        },
        {
          "output_type": "stream",
          "name": "stderr",
          "text": [
            "INFO:tensorflow:Assets written to: ram://2d6f00e0-b4f3-4a3b-b40f-979dec50cbee/assets\n",
            "WARNING:absl:<keras.layers.recurrent.LSTMCell object at 0x7fc8167e7750> has the same name 'LSTMCell' as a built-in Keras object. Consider renaming <class 'keras.layers.recurrent.LSTMCell'> to avoid naming conflicts when loading with `tf.keras.models.load_model`. If renaming is not possible, pass the object in the `custom_objects` parameter of the load function.\n",
            "WARNING:absl:<keras.layers.recurrent.LSTMCell object at 0x7fc8167a2190> has the same name 'LSTMCell' as a built-in Keras object. Consider renaming <class 'keras.layers.recurrent.LSTMCell'> to avoid naming conflicts when loading with `tf.keras.models.load_model`. If renaming is not possible, pass the object in the `custom_objects` parameter of the load function.\n"
          ]
        }
      ]
    },
    {
      "cell_type": "code",
      "source": [
        "import pickle\n",
        "encoder=pickle.load(open('Encoder_zinc.sav','rb'))\n",
        "decoder=pickle.load(open('Decoder_zinc.sav','rb'))\n",
        "encoded_data=pickle.load(open('encoder_output_zinc.dat','rb'))\n",
        "smiles=pickle.load(open('decoder_output_zinc.dat','rb'))\n",
        "model=pickle.load(open('LSTM_VAE_zinc.sav','rb'))\n",
        "encoded_input=pickle.load(open('encoded_input_zinc.dat','rb'))"
      ],
      "metadata": {
        "colab": {
          "base_uri": "https://localhost:8080/"
        },
        "id": "8avPfvck4K7R",
        "outputId": "180c9965-5295-47b7-9663-658f33f1e9aa"
      },
      "execution_count": 4,
      "outputs": [
        {
          "output_type": "stream",
          "name": "stdout",
          "text": [
            "WARNING:tensorflow:Layer lstm_12 will not use cuDNN kernels since it doesn't meet the criteria. It will use a generic GPU kernel as fallback when running on GPU.\n",
            "WARNING:tensorflow:Layer lstm_13 will not use cuDNN kernels since it doesn't meet the criteria. It will use a generic GPU kernel as fallback when running on GPU.\n",
            "WARNING:tensorflow:No training configuration found in save file, so the model was *not* compiled. Compile it manually.\n",
            "WARNING:tensorflow:Layer lstm_14 will not use cuDNN kernels since it doesn't meet the criteria. It will use a generic GPU kernel as fallback when running on GPU.\n",
            "WARNING:tensorflow:Layer lstm_15 will not use cuDNN kernels since it doesn't meet the criteria. It will use a generic GPU kernel as fallback when running on GPU.\n",
            "WARNING:tensorflow:No training configuration found in save file, so the model was *not* compiled. Compile it manually.\n",
            "WARNING:tensorflow:Layer lstm_12 will not use cuDNN kernels since it doesn't meet the criteria. It will use a generic GPU kernel as fallback when running on GPU.\n",
            "WARNING:tensorflow:Layer lstm_13 will not use cuDNN kernels since it doesn't meet the criteria. It will use a generic GPU kernel as fallback when running on GPU.\n",
            "WARNING:tensorflow:Layer lstm_14 will not use cuDNN kernels since it doesn't meet the criteria. It will use a generic GPU kernel as fallback when running on GPU.\n",
            "WARNING:tensorflow:Layer lstm_15 will not use cuDNN kernels since it doesn't meet the criteria. It will use a generic GPU kernel as fallback when running on GPU.\n"
          ]
        }
      ]
    },
    {
      "cell_type": "markdown",
      "source": [
        "# Working with latent space to generate new molecules"
      ],
      "metadata": {
        "id": "O8Glnr76lv6e"
      }
    },
    {
      "cell_type": "code",
      "source": [
        "smiles_predictions=[OneHotDecoding_helper(smile,key_value) for smile in smiles]"
      ],
      "metadata": {
        "id": "cni5-7VIGk7k"
      },
      "execution_count": 7,
      "outputs": []
    },
    {
      "cell_type": "code",
      "source": [
        "neuron0=0\n",
        "neuron1=0\n",
        "neuron2=0\n",
        "neuron3=0\n",
        "neuron4=0\n",
        "neuron5=0\n",
        "neuron6=0\n",
        "neuron7=0\n",
        "manual_encoding=[neuron0,neuron1,neuron2,neuron3,neuron4,neuron5,neuron6,neuron7]\n",
        "manual_encoding=[manual_encoding for i in range(32)]\n",
        "manual_encoding=np.array(manual_encoding)\n",
        "temp=decoder.predict(np.expand_dims(manual_encoding,axis=0))\n",
        "smiles_generated=OneHotDecoding_helper(temp[0],key_value)\n",
        "print(smiles_generated)\n",
        "if len(smilite.get_zincid_from_smile(smiles_generated))>0:\n",
        "  print(smilite.get_zincid_from_smile(smiles_generated))\n",
        "  generated_molecules.append(smiles_generated)\n"
      ],
      "metadata": {
        "colab": {
          "base_uri": "https://localhost:8080/"
        },
        "id": "uCoQn86TL3Yx",
        "outputId": "87db9f3c-5b92-4842-b74d-d685e642b526"
      },
      "execution_count": 24,
      "outputs": [
        {
          "output_type": "stream",
          "name": "stdout",
          "text": [
            "CCCCCCCCCCCCCCCCCCCCCCCCCCCCCCCC\n",
            "['ZINC000006920423']\n"
          ]
        }
      ]
    },
    {
      "cell_type": "markdown",
      "source": [
        "## If all neurons are 0, it produces all Carbon atoms"
      ],
      "metadata": {
        "id": "d0RRsFxqeV5P"
      }
    },
    {
      "cell_type": "code",
      "source": [
        "neuron0=0\n",
        "neuron1=0\n",
        "neuron2=np.random.uniform(0,8)\n",
        "neuron3=0\n",
        "neuron4=0\n",
        "neuron5=0\n",
        "neuron6=0\n",
        "neuron7=0\n",
        "manual_encoding=[neuron0,neuron1,neuron2,neuron3,neuron4,neuron5,neuron6,neuron7]\n",
        "manual_encoding=[manual_encoding for i in range(32)]\n",
        "manual_encoding=np.array(manual_encoding)\n",
        "temp=decoder.predict(np.expand_dims(manual_encoding,axis=0))\n",
        "smiles_generated=OneHotDecoding_helper(temp[0],key_value)\n",
        "print(smiles_generated)\n",
        "if len(smilite.get_zincid_from_smile(smiles_generated))>0:\n",
        "  print(smilite.get_zincid_from_smile(smiles_generated))\n",
        "  generated_molecules.append(smiles_generated)\n",
        "\n"
      ],
      "metadata": {
        "colab": {
          "base_uri": "https://localhost:8080/"
        },
        "id": "KrLbafXPecOk",
        "outputId": "b8f72f94-021b-4a17-ad14-4eaa8cea06e5"
      },
      "execution_count": null,
      "outputs": [
        {
          "output_type": "stream",
          "name": "stdout",
          "text": [
            "OOOCCCCC111111ccccccc1111=(1)c11\n"
          ]
        }
      ]
    },
    {
      "cell_type": "markdown",
      "source": [
        "## Neuron 2 adds 0, 1 and c to the Molecule"
      ],
      "metadata": {
        "id": "tRqKw3yre4NA"
      }
    },
    {
      "cell_type": "code",
      "source": [
        "neuron0=0\n",
        "neuron1=0\n",
        "neuron2=np.random.uniform(0,8)\n",
        "neuron3=np.random.uniform(2.44,4.28)\n",
        "neuron4=0\n",
        "neuron5=0\n",
        "neuron6=0\n",
        "neuron7=0\n",
        "manual_encoding=[neuron0,neuron1,neuron2,neuron3,neuron4,neuron5,neuron6,neuron7]\n",
        "manual_encoding=[manual_encoding for i in range(32)]\n",
        "manual_encoding=np.array(manual_encoding)\n",
        "temp=decoder.predict(np.expand_dims(manual_encoding,axis=0))\n",
        "smiles_generated=OneHotDecoding_helpaer(temp[0],key_value)\n",
        "print(smiles_generated)\n",
        "if len(smilite.get_zincid_from_smile(smiles_generated))>0:\n",
        "  print(smilite.get_zincid_from_smile(smiles_generated))\n",
        "\n",
        "\n"
      ],
      "metadata": {
        "outputId": "02175674-4bc7-4c0d-ea5c-5a89afba985f",
        "colab": {
          "base_uri": "https://localhost:8080/"
        },
        "id": "QdI4V_gVfFxu"
      },
      "execution_count": null,
      "outputs": [
        {
          "output_type": "stream",
          "name": "stdout",
          "text": [
            "OOCCCCCCCCCCCCCC--111111111111++\n"
          ]
        }
      ]
    },
    {
      "cell_type": "markdown",
      "source": [
        "## Neuron 3 adds + and - to the Molecule. So it works when other combinatons are also in place"
      ],
      "metadata": {
        "id": "CXoqEjpbfFxw"
      }
    },
    {
      "cell_type": "code",
      "source": [
        "neuron0=0\n",
        "neuron1=0\n",
        "neuron2=np.random.uniform(0,8)\n",
        "neuron3=0\n",
        "neuron4=np.random.uniform(2.9,17.87)\n",
        "neuron5=0\n",
        "neuron6=0\n",
        "neuron7=0\n",
        "manual_encoding=[neuron0,neuron1,neuron2,neuron3,neuron4,neuron5,neuron6,neuron7]\n",
        "manual_encoding=[manual_encoding for i in range(32)]\n",
        "manual_encoding=np.array(manual_encoding)\n",
        "temp=decoder.predict(np.expand_dims(manual_encoding,axis=0))\n",
        "smiles_generated=OneHotDecoding_helper(temp[0],key_value)\n",
        "print(smiles_generated)\n",
        "if len(smilite.get_zincid_from_smile(smiles_generated))>0:\n",
        "  print(smilite.get_zincid_from_smile(smiles_generated))\n",
        "  generated_molecules.append(smiles_generated)\n",
        "\n",
        "    "
      ],
      "metadata": {
        "colab": {
          "base_uri": "https://localhost:8080/"
        },
        "id": "44e8qzhcfddG",
        "outputId": "01b8cab3-31c4-496d-efc2-053ccdf45d83"
      },
      "execution_count": null,
      "outputs": [
        {
          "output_type": "stream",
          "name": "stdout",
          "text": [
            "OCCCOOOCc1cccccc1111c11ccccN1o4o\n"
          ]
        }
      ]
    },
    {
      "cell_type": "markdown",
      "source": [
        "## Neuron 4 adds N and o to molecules"
      ],
      "metadata": {
        "id": "xnmXAR05fvUX"
      }
    },
    {
      "cell_type": "code",
      "source": [
        "neuron0=0\n",
        "neuron1=0\n",
        "neuron2=np.random.uniform(0,8)\n",
        "neuron3=0\n",
        "neuron4=np.random.uniform(2.9,17.87)\n",
        "neuron5=np.random.uniform(1.4,2.7)\n",
        "neuron6=0\n",
        "neuron7=0\n",
        "manual_encoding=[neuron0,neuron1,neuron2,neuron3,neuron4,neuron5,neuron6,neuron7]\n",
        "manual_encoding=[manual_encoding for i in range(32)]\n",
        "manual_encoding=np.array(manual_encoding)\n",
        "temp=decoder.predict(np.expand_dims(manual_encoding,axis=0))\n",
        "smiles_generated=OneHotDecoding_helper(temp[0],key_value)\n",
        "print(smiles_generated)\n",
        "if len(smilite.get_zincid_from_smile(smiles_generated))>0:\n",
        "  print(smilite.get_zincid_from_smile(smiles_generated))\n",
        "  generated_molecules.append(smiles_generated)\n",
        "\n"
      ],
      "metadata": {
        "outputId": "f2e2e3f9-c13e-47af-aa76-1146c5036010",
        "colab": {
          "base_uri": "https://localhost:8080/"
        },
        "id": "dsqGxDsXf0nI"
      },
      "execution_count": null,
      "outputs": [
        {
          "output_type": "stream",
          "name": "stdout",
          "text": [
            "CCCCCCccccccNO1N1[CC[[CH[ooC5C52\n"
          ]
        }
      ]
    },
    {
      "cell_type": "markdown",
      "source": [
        "## Neuron 5 adds [ and 5 to molecule. Hence restricting its usage"
      ],
      "metadata": {
        "id": "rC1XzqDSf0nJ"
      }
    },
    {
      "cell_type": "code",
      "source": [
        "neuron0=0\n",
        "neuron1=0\n",
        "neuron2=np.random.uniform(0,8)\n",
        "neuron3=0\n",
        "neuron4=np.random.uniform(2.9,17.87)\n",
        "neuron5=0\n",
        "neuron6=0\n",
        "neuron7=np.random.uniform(2.3,24.37)\n",
        "manual_encoding=[neuron0,neuron1,neuron2,neuron3,neuron4,neuron5,neuron6,neuron7]\n",
        "manual_encoding=[manual_encoding for i in range(32)]\n",
        "manual_encoding=np.array(manual_encoding)\n",
        "temp=decoder.predict(np.expand_dims(manual_encoding,axis=0))\n",
        "smiles_generated=OneHotDecoding_helper(temp[0],key_value)\n",
        "print(smiles_generated)\n",
        "if len(smilite.get_zincid_from_smile(smiles_generated))>0:\n",
        "  print(smilite.get_zincid_from_smile(smiles_generated))\n",
        "  generated_molecules.append(smiles_generated)\n"
      ],
      "metadata": {
        "id": "GCehJmaogde8",
        "outputId": "4a6e4ecd-9990-4a92-eed7-481e653183ff",
        "colab": {
          "base_uri": "https://localhost:8080/"
        }
      },
      "execution_count": null,
      "outputs": [
        {
          "output_type": "stream",
          "name": "stdout",
          "text": [
            "OOCnncccccccccccc1cccc1c1N1CccNN\n"
          ]
        }
      ]
    },
    {
      "cell_type": "markdown",
      "source": [
        "## Neuron 6 adds brackets and 7 adds more combinations. "
      ],
      "metadata": {
        "id": "yTyw3f7-gy5A"
      }
    },
    {
      "cell_type": "markdown",
      "source": [
        "# More detections after trial and error"
      ],
      "metadata": {
        "id": "_txtnJ-CBuNt"
      }
    },
    {
      "cell_type": "code",
      "source": [
        "neuron0=0\n",
        "neuron1=0\n",
        "neuron2=3.117608\n",
        "neuron3=4.28397\n",
        "neuron4=3.346471\n",
        "neuron5= 2.7407904\n",
        "neuron6=9.601776\n",
        "neuron7=2.3084958\n",
        "manual_encoding=[neuron0,neuron1,neuron2,neuron3,neuron4,neuron5,neuron6,neuron7]\n",
        "manual_encoding=[manual_encoding for i in range(32)]\n",
        "manual_encoding=np.array(manual_encoding)\n",
        "temp=decoder.predict(np.expand_dims(manual_encoding,axis=0))\n",
        "smiles_generated=OneHotDecoding_helper(temp[0],key_value)\n",
        "print(smiles_generated)\n",
        "if len(smilite.get_zincid_from_smile(smiles_generated))>0:\n",
        "  print(smilite.get_zincid_from_smile(smiles_generated))\n",
        "  generated_molecules.append(smiles_generated)\n",
        "\n"
      ],
      "metadata": {
        "colab": {
          "base_uri": "https://localhost:8080/"
        },
        "id": "bd12WRLUBa0U",
        "outputId": "baa1a9fa-a705-4ca0-d77a-6f4d5c5861f8"
      },
      "execution_count": 15,
      "outputs": [
        {
          "output_type": "stream",
          "name": "stdout",
          "text": [
            "CCCCCCCCCCCCCCCCCCCC(=O)c1ccccc1\n",
            "['ZINC000115464572']\n"
          ]
        }
      ]
    },
    {
      "cell_type": "code",
      "source": [
        "neuron0=0\n",
        "neuron1=0\n",
        "neuron2=2.7760482\n",
        "neuron3=3.5332496\n",
        "neuron4=2.9913094\n",
        "neuron5= 1.4493\n",
        "neuron6=11.649847\n",
        "neuron7=2.6623216\n",
        "manual_encoding=[neuron0,neuron1,neuron2,neuron3,neuron4,neuron5,neuron6,neuron7]\n",
        "manual_encoding=[manual_encoding for i in range(32)]\n",
        "manual_encoding=np.array(manual_encoding)\n",
        "temp=decoder.predict(np.expand_dims(manual_encoding,axis=0))\n",
        "smiles_generated=OneHotDecoding_helper(temp[0],key_value)\n",
        "print(smiles_generated)\n",
        "if len(smilite.get_zincid_from_smile(smiles_generated))>0:\n",
        "  print(smilite.get_zincid_from_smile(smiles_generated))\n",
        "  generated_molecules.append(smiles_generated)\n"
      ],
      "metadata": {
        "colab": {
          "base_uri": "https://localhost:8080/"
        },
        "id": "UhQMt6l1B1sf",
        "outputId": "44ca2478-1ac1-4735-9483-c5887a33aecf"
      },
      "execution_count": 17,
      "outputs": [
        {
          "output_type": "stream",
          "name": "stdout",
          "text": [
            "CCCCCCCCCCCCCCCCCCCCCCCCCCCCCCCC\n",
            "['ZINC000006920423']\n"
          ]
        }
      ]
    },
    {
      "cell_type": "code",
      "source": [
        "neuron0=0\n",
        "neuron1=0\n",
        "neuron2= 2.4487445\n",
        "neuron3=3.6849833\n",
        "neuron4= 2.9494824\n",
        "neuron5= 1.5021274\n",
        "neuron6=11.464967\n",
        "neuron7=2.4970162\n",
        "manual_encoding=[neuron0,neuron1,neuron2,neuron3,neuron4,neuron5,neuron6,neuron7]\n",
        "manual_encoding=[manual_encoding for i in range(32)]\n",
        "manual_encoding=np.array(manual_encoding)\n",
        "temp=decoder.predict(np.expand_dims(manual_encoding,axis=0))\n",
        "smiles_generated=OneHotDecoding_helper(temp[0],key_value)\n",
        "print(smiles_generated)\n",
        "if len(smilite.get_zincid_from_smile(smiles_generated))>0:\n",
        "  print(smilite.get_zincid_from_smile(smiles_generated))\n",
        "  generated_molecules.append(smiles_generated)\n",
        "\n",
        "\n",
        "    "
      ],
      "metadata": {
        "colab": {
          "base_uri": "https://localhost:8080/"
        },
        "id": "sAMbeb4_CT_p",
        "outputId": "ed0bdb18-e456-4ba3-a7e0-52840fc5d137"
      },
      "execution_count": 18,
      "outputs": [
        {
          "output_type": "stream",
          "name": "stdout",
          "text": [
            "CCCCCCCCCCCCCCCCCCCCCCCCCCC(CO)O\n",
            "['ZINC000103820528', 'ZINC000103820533']\n"
          ]
        }
      ]
    },
    {
      "cell_type": "code",
      "source": [
        "neuron0=0\n",
        "neuron1=0\n",
        "neuron2= 8.36374\n",
        "neuron3=2.0634527\n",
        "neuron4=  17.87391\n",
        "neuron5= 2.0587478\n",
        "neuron6=20.242287\n",
        "neuron7=24.374287\n",
        "manual_encoding=[neuron0,neuron1,neuron2,neuron3,neuron4,neuron5,neuron6,neuron7]\n",
        "manual_encoding=[manual_encoding for i in range(32)]\n",
        "manual_encoding=np.array(manual_encoding)\n",
        "temp=decoder.predict(np.expand_dims(manual_encoding,axis=0))\n",
        "smiles_generated=OneHotDecoding_helper(temp[0],key_value)\n",
        "print(smiles_generated)\n",
        "if len(smilite.get_zincid_from_smile(smiles_generated))>0:\n",
        "  print(smilite.get_zincid_from_smile(smiles_generated))\n",
        "  generated_molecules.append(smiles_generated)"
      ],
      "metadata": {
        "colab": {
          "base_uri": "https://localhost:8080/"
        },
        "id": "1-0xrL6qC0NQ",
        "outputId": "1574c1ef-a05c-4ffa-bf0a-540059d921be"
      },
      "execution_count": 19,
      "outputs": [
        {
          "output_type": "stream",
          "name": "stdout",
          "text": [
            "c1ccc(CCCCCCCCCCCCCCc2ccccc2)cc1\n",
            "['ZINC000140966601']\n"
          ]
        }
      ]
    },
    {
      "cell_type": "code",
      "source": [
        "neuron0=0\n",
        "neuron1=0\n",
        "neuron2= 8.36374\n",
        "neuron3=2.1634527\n",
        "neuron4=  13.87392\n",
        "neuron5= 2.0587478\n",
        "neuron6=30.242287\n",
        "neuron7=24.374287\n",
        "manual_encoding=[neuron0,neuron1,neuron2,neuron3,neuron4,neuron5,neuron6,neuron7]\n",
        "manual_encoding=[manual_encoding for i in range(32)]\n",
        "manual_encoding=np.array(manual_encoding)\n",
        "temp=decoder.predict(np.expand_dims(manual_encoding,axis=0))\n",
        "smiles_generated=OneHotDecoding_helper(temp[0],key_value)\n",
        "print(smiles_generated)\n",
        "if len(smilite.get_zincid_from_smile(smiles_generated))>0:\n",
        "  print(smilite.get_zincid_from_smile(smiles_generated))\n",
        "  generated_molecules.append(smiles_generated)"
      ],
      "metadata": {
        "colab": {
          "base_uri": "https://localhost:8080/"
        },
        "id": "v86CYXDQDeCV",
        "outputId": "68fe7a9e-c053-462b-8108-c800e71b448d"
      },
      "execution_count": 44,
      "outputs": [
        {
          "output_type": "stream",
          "name": "stdout",
          "text": [
            "C1ccc(c)CCCC(=)Cc1ncc1CC[[C@@H]1\n"
          ]
        }
      ]
    },
    {
      "cell_type": "code",
      "source": [
        "neuron0=0\n",
        "neuron1=0\n",
        "neuron2= 8.36374\n",
        "neuron3=2.1634527\n",
        "neuron4=  3.87392\n",
        "neuron5= 2.0587478\n",
        "neuron6=30.242287\n",
        "neuron7=24.374287\n",
        "manual_encoding=[neuron0,neuron1,neuron2,neuron3,neuron4,neuron5,neuron6,neuron7]\n",
        "manual_encoding=[manual_encoding for i in range(32)]\n",
        "manual_encoding=np.array(manual_encoding)\n",
        "temp=decoder.predict(np.expand_dims(manual_encoding,axis=0))\n",
        "smiles_generated=OneHotDecoding_helper(temp[0],key_value)\n",
        "print(smiles_generated)\n",
        "if len(smilite.get_zincid_from_smile(smiles_generated))>0:\n",
        "  print(smilite.get_zincid_from_smile(smiles_generated))\n",
        "  generated_molecules.append(smiles_generated)"
      ],
      "metadata": {
        "colab": {
          "base_uri": "https://localhost:8080/"
        },
        "id": "eUkqU9K5Hpe6",
        "outputId": "97d5b095-5401-4a63-d217-9c6aaf62b6c8"
      },
      "execution_count": 46,
      "outputs": [
        {
          "output_type": "stream",
          "name": "stdout",
          "text": [
            "Cc1c(2c2cccc111ccccccCCCCCCCC==)\n"
          ]
        }
      ]
    },
    {
      "cell_type": "code",
      "source": [
        "neuron0=0\n",
        "neuron1=0\n",
        "neuron2= 8.36374\n",
        "neuron3=2.1634527\n",
        "neuron4=  3.87392\n",
        "neuron5= 2.0587478\n",
        "neuron6=30.242287\n",
        "neuron7=34.374287\n",
        "manual_encoding=[neuron0,neuron1,neuron2,neuron3,neuron4,neuron5,neuron6,neuron7]\n",
        "manual_encoding=[manual_encoding for i in range(32)]\n",
        "manual_encoding=np.array(manual_encoding)\n",
        "temp=decoder.predict(np.expand_dims(manual_encoding,axis=0))\n",
        "smiles_generated=OneHotDecoding_helper(temp[0],key_value)\n",
        "print(smiles_generated)\n",
        "if len(smilite.get_zincid_from_smile(smiles_generated))>0:\n",
        "  print(smilite.get_zincid_from_smile(smiles_generated))\n",
        "  generated_molecules.append(smiles_generated)"
      ],
      "metadata": {
        "colab": {
          "base_uri": "https://localhost:8080/"
        },
        "id": "AQ5lFUdFH135",
        "outputId": "7d4c2072-9757-4a86-fcf4-f7bb7158df68"
      },
      "execution_count": 48,
      "outputs": [
        {
          "output_type": "stream",
          "name": "stdout",
          "text": [
            "c1cccccccccccccccccccCCCC======O\n"
          ]
        }
      ]
    },
    {
      "cell_type": "code",
      "source": [
        "neuron0=0\n",
        "neuron1=0\n",
        "neuron2= 8.36374\n",
        "neuron3=2.1634527\n",
        "neuron4=  3.87392\n",
        "neuron5= 19.0587478\n",
        "neuron6=30.242287\n",
        "neuron7=34.374287\n",
        "manual_encoding=[neuron0,neuron1,neuron2,neuron3,neuron4,neuron5,neuron6,neuron7]\n",
        "manual_encoding=[manual_encoding for i in range(32)]\n",
        "manual_encoding=np.array(manual_encoding)\n",
        "temp=decoder.predict(np.expand_dims(manual_encoding,axis=0))\n",
        "smiles_generated=OneHotDecoding_helper(temp[0],key_value)\n",
        "print(smiles_generated)\n",
        "if len(smilite.get_zincid_from_smile(smiles_generated))>0:\n",
        "  print(smilite.get_zincid_from_smile(smiles_generated))\n",
        "  generated_molecules.append(smiles_generated)"
      ],
      "metadata": {
        "colab": {
          "base_uri": "https://localhost:8080/"
        },
        "id": "E6XkBIDPIAmu",
        "outputId": "72f4ef9c-8fc0-44d8-be4a-662073c1d443"
      },
      "execution_count": 58,
      "outputs": [
        {
          "output_type": "stream",
          "name": "stdout",
          "text": [
            "O=Ccnncccccccccccccc22cc2cc21112\n"
          ]
        }
      ]
    },
    {
      "cell_type": "markdown",
      "source": [
        "# Checking if the generated molecules are present in dataset\n",
        "Also the ZINC ID's are found of those elements whose ZINC ID is present in ZINC 15 backend"
      ],
      "metadata": {
        "id": "9z9lUUqjHQQ5"
      }
    },
    {
      "cell_type": "code",
      "source": [
        "# Checking for presence in dataset\n",
        "ZINC_ID=[]\n",
        "SMILES=[]\n",
        "for molecule in generated_molecules:\n",
        "  if len(data[data['Molecule']==molecule].index.values)==0:\n",
        "    print(molecule,'  not found in dataset')\n",
        "    SMILES.append(molecule)\n",
        "    ZINC_ID.append(smilite.get_zincid_from_smile(molecule))\n",
        "  else:\n",
        "    print(molecule,' found in dataset')"
      ],
      "metadata": {
        "colab": {
          "base_uri": "https://localhost:8080/"
        },
        "id": "klD68jWkFuEN",
        "outputId": "1ed3546d-10c6-4bbe-8fdd-59603d261143"
      },
      "execution_count": 61,
      "outputs": [
        {
          "output_type": "stream",
          "name": "stdout",
          "text": [
            "CCCCCCCCCCCCCCCCCCCC(=O)c1ccccc1   not found in dataset\n",
            "CCCCCCCCCCCCCCCCCCCCCCCCCCCCCCCC  found in dataset\n",
            "CCCCCCCCCCCCCCCCCCCCCCCCCCC(CO)O   not found in dataset\n",
            "OOOCCCCC111111ccccccc1111=(1)c11   not found in dataset\n",
            "c1ccc(CCCCCCCCCCCCCCc2ccccc2)cc1   not found in dataset\n",
            "OCCCOOOCc1cccccc1111c11ccccN1o4o   not found in dataset\n",
            "CCCCCCccccccNO1N1[CC[[CH[ooC5C52   not found in dataset\n",
            "OOCnncccccccccccc1cccc1c1N1CccNN   not found in dataset\n",
            "c1cccccccccccccccccccCCCC======O   not found in dataset\n",
            "O=Ccnncccccccccccccc22cc2cc21112   not found in dataset\n"
          ]
        }
      ]
    },
    {
      "cell_type": "markdown",
      "source": [
        "## Molecules generated with Valid ZINC 15 ID\n"
      ],
      "metadata": {
        "id": "vmI_rRknTRoe"
      }
    },
    {
      "cell_type": "code",
      "source": [
        "new_molecules=pd.DataFrame()\n",
        "new_molecules['Generated SMILES']=SMILES\n",
        "new_molecules['ZINC 15 ID']=ZINC_ID\n",
        "new_molecules"
      ],
      "metadata": {
        "id": "HcUv3ZKthwHZ",
        "outputId": "f7778e8a-e0a4-4a5a-d6cc-e93394c891a9",
        "colab": {
          "base_uri": "https://localhost:8080/",
          "height": 331
        }
      },
      "execution_count": 62,
      "outputs": [
        {
          "output_type": "execute_result",
          "data": {
            "text/html": [
              "\n",
              "  <div id=\"df-ff8312fc-8328-4307-9b33-90b3e6bde9f1\">\n",
              "    <div class=\"colab-df-container\">\n",
              "      <div>\n",
              "<style scoped>\n",
              "    .dataframe tbody tr th:only-of-type {\n",
              "        vertical-align: middle;\n",
              "    }\n",
              "\n",
              "    .dataframe tbody tr th {\n",
              "        vertical-align: top;\n",
              "    }\n",
              "\n",
              "    .dataframe thead th {\n",
              "        text-align: right;\n",
              "    }\n",
              "</style>\n",
              "<table border=\"1\" class=\"dataframe\">\n",
              "  <thead>\n",
              "    <tr style=\"text-align: right;\">\n",
              "      <th></th>\n",
              "      <th>Generated SMILES</th>\n",
              "      <th>ZINC 15 ID</th>\n",
              "    </tr>\n",
              "  </thead>\n",
              "  <tbody>\n",
              "    <tr>\n",
              "      <th>0</th>\n",
              "      <td>CCCCCCCCCCCCCCCCCCCC(=O)c1ccccc1</td>\n",
              "      <td>[ZINC000115464572]</td>\n",
              "    </tr>\n",
              "    <tr>\n",
              "      <th>1</th>\n",
              "      <td>CCCCCCCCCCCCCCCCCCCCCCCCCCC(CO)O</td>\n",
              "      <td>[ZINC000103820528, ZINC000103820533]</td>\n",
              "    </tr>\n",
              "    <tr>\n",
              "      <th>2</th>\n",
              "      <td>OOOCCCCC111111ccccccc1111=(1)c11</td>\n",
              "      <td>[]</td>\n",
              "    </tr>\n",
              "    <tr>\n",
              "      <th>3</th>\n",
              "      <td>c1ccc(CCCCCCCCCCCCCCc2ccccc2)cc1</td>\n",
              "      <td>[ZINC000140966601]</td>\n",
              "    </tr>\n",
              "    <tr>\n",
              "      <th>4</th>\n",
              "      <td>OCCCOOOCc1cccccc1111c11ccccN1o4o</td>\n",
              "      <td>[]</td>\n",
              "    </tr>\n",
              "    <tr>\n",
              "      <th>5</th>\n",
              "      <td>CCCCCCccccccNO1N1[CC[[CH[ooC5C52</td>\n",
              "      <td>[]</td>\n",
              "    </tr>\n",
              "    <tr>\n",
              "      <th>6</th>\n",
              "      <td>OOCnncccccccccccc1cccc1c1N1CccNN</td>\n",
              "      <td>[]</td>\n",
              "    </tr>\n",
              "    <tr>\n",
              "      <th>7</th>\n",
              "      <td>c1cccccccccccccccccccCCCC======O</td>\n",
              "      <td>[]</td>\n",
              "    </tr>\n",
              "    <tr>\n",
              "      <th>8</th>\n",
              "      <td>O=Ccnncccccccccccccc22cc2cc21112</td>\n",
              "      <td>[]</td>\n",
              "    </tr>\n",
              "  </tbody>\n",
              "</table>\n",
              "</div>\n",
              "      <button class=\"colab-df-convert\" onclick=\"convertToInteractive('df-ff8312fc-8328-4307-9b33-90b3e6bde9f1')\"\n",
              "              title=\"Convert this dataframe to an interactive table.\"\n",
              "              style=\"display:none;\">\n",
              "        \n",
              "  <svg xmlns=\"http://www.w3.org/2000/svg\" height=\"24px\"viewBox=\"0 0 24 24\"\n",
              "       width=\"24px\">\n",
              "    <path d=\"M0 0h24v24H0V0z\" fill=\"none\"/>\n",
              "    <path d=\"M18.56 5.44l.94 2.06.94-2.06 2.06-.94-2.06-.94-.94-2.06-.94 2.06-2.06.94zm-11 1L8.5 8.5l.94-2.06 2.06-.94-2.06-.94L8.5 2.5l-.94 2.06-2.06.94zm10 10l.94 2.06.94-2.06 2.06-.94-2.06-.94-.94-2.06-.94 2.06-2.06.94z\"/><path d=\"M17.41 7.96l-1.37-1.37c-.4-.4-.92-.59-1.43-.59-.52 0-1.04.2-1.43.59L10.3 9.45l-7.72 7.72c-.78.78-.78 2.05 0 2.83L4 21.41c.39.39.9.59 1.41.59.51 0 1.02-.2 1.41-.59l7.78-7.78 2.81-2.81c.8-.78.8-2.07 0-2.86zM5.41 20L4 18.59l7.72-7.72 1.47 1.35L5.41 20z\"/>\n",
              "  </svg>\n",
              "      </button>\n",
              "      \n",
              "  <style>\n",
              "    .colab-df-container {\n",
              "      display:flex;\n",
              "      flex-wrap:wrap;\n",
              "      gap: 12px;\n",
              "    }\n",
              "\n",
              "    .colab-df-convert {\n",
              "      background-color: #E8F0FE;\n",
              "      border: none;\n",
              "      border-radius: 50%;\n",
              "      cursor: pointer;\n",
              "      display: none;\n",
              "      fill: #1967D2;\n",
              "      height: 32px;\n",
              "      padding: 0 0 0 0;\n",
              "      width: 32px;\n",
              "    }\n",
              "\n",
              "    .colab-df-convert:hover {\n",
              "      background-color: #E2EBFA;\n",
              "      box-shadow: 0px 1px 2px rgba(60, 64, 67, 0.3), 0px 1px 3px 1px rgba(60, 64, 67, 0.15);\n",
              "      fill: #174EA6;\n",
              "    }\n",
              "\n",
              "    [theme=dark] .colab-df-convert {\n",
              "      background-color: #3B4455;\n",
              "      fill: #D2E3FC;\n",
              "    }\n",
              "\n",
              "    [theme=dark] .colab-df-convert:hover {\n",
              "      background-color: #434B5C;\n",
              "      box-shadow: 0px 1px 3px 1px rgba(0, 0, 0, 0.15);\n",
              "      filter: drop-shadow(0px 1px 2px rgba(0, 0, 0, 0.3));\n",
              "      fill: #FFFFFF;\n",
              "    }\n",
              "  </style>\n",
              "\n",
              "      <script>\n",
              "        const buttonEl =\n",
              "          document.querySelector('#df-ff8312fc-8328-4307-9b33-90b3e6bde9f1 button.colab-df-convert');\n",
              "        buttonEl.style.display =\n",
              "          google.colab.kernel.accessAllowed ? 'block' : 'none';\n",
              "\n",
              "        async function convertToInteractive(key) {\n",
              "          const element = document.querySelector('#df-ff8312fc-8328-4307-9b33-90b3e6bde9f1');\n",
              "          const dataTable =\n",
              "            await google.colab.kernel.invokeFunction('convertToInteractive',\n",
              "                                                     [key], {});\n",
              "          if (!dataTable) return;\n",
              "\n",
              "          const docLinkHtml = 'Like what you see? Visit the ' +\n",
              "            '<a target=\"_blank\" href=https://colab.research.google.com/notebooks/data_table.ipynb>data table notebook</a>'\n",
              "            + ' to learn more about interactive tables.';\n",
              "          element.innerHTML = '';\n",
              "          dataTable['output_type'] = 'display_data';\n",
              "          await google.colab.output.renderOutput(dataTable, element);\n",
              "          const docLink = document.createElement('div');\n",
              "          docLink.innerHTML = docLinkHtml;\n",
              "          element.appendChild(docLink);\n",
              "        }\n",
              "      </script>\n",
              "    </div>\n",
              "  </div>\n",
              "  "
            ],
            "text/plain": [
              "                   Generated SMILES                            ZINC 15 ID\n",
              "0  CCCCCCCCCCCCCCCCCCCC(=O)c1ccccc1                    [ZINC000115464572]\n",
              "1  CCCCCCCCCCCCCCCCCCCCCCCCCCC(CO)O  [ZINC000103820528, ZINC000103820533]\n",
              "2  OOOCCCCC111111ccccccc1111=(1)c11                                    []\n",
              "3  c1ccc(CCCCCCCCCCCCCCc2ccccc2)cc1                    [ZINC000140966601]\n",
              "4  OCCCOOOCc1cccccc1111c11ccccN1o4o                                    []\n",
              "5  CCCCCCccccccNO1N1[CC[[CH[ooC5C52                                    []\n",
              "6  OOCnncccccccccccc1cccc1c1N1CccNN                                    []\n",
              "7  c1cccccccccccccccccccCCCC======O                                    []\n",
              "8  O=Ccnncccccccccccccc22cc2cc21112                                    []"
            ]
          },
          "metadata": {},
          "execution_count": 62
        }
      ]
    },
    {
      "cell_type": "markdown",
      "source": [
        "# Generating more molecules"
      ],
      "metadata": {
        "id": "zc4fbwJMIogY"
      }
    },
    {
      "cell_type": "code",
      "source": [
        "for i in range(10):\n",
        "  neuron0=0\n",
        "  neuron1=0\n",
        "  neuron2=np.random.uniform(0,8)\n",
        "  neuron3=0\n",
        "  neuron4=np.random.uniform(2.9,17.87)\n",
        "  neuron5=0\n",
        "  neuron6=0\n",
        "  neuron7=np.random.uniform(2.3,24.37)\n",
        "  manual_encoding=[neuron0,neuron1,neuron2,neuron3,neuron4,neuron5,neuron6,neuron7]\n",
        "  manual_encoding=[manual_encoding for i in range(32)]\n",
        "  manual_encoding=np.array(manual_encoding)\n",
        "  temp=decoder.predict(np.expand_dims(manual_encoding,axis=0))\n",
        "  smiles_generated=OneHotDecoding_helper(temp[0],key_value)\n",
        "  print(smiles_generated)\n",
        "  if len(smilite.get_zincid_from_smile(smiles_generated))>0:\n",
        "    print(smilite.get_zincid_from_smile(smiles_generated))\n",
        "    generated_molecules.append(smiles_generated)"
      ],
      "metadata": {
        "colab": {
          "base_uri": "https://localhost:8080/"
        },
        "id": "lzVViMw_ItWO",
        "outputId": "7c9727e2-71f9-4d4d-9619-782542201e62"
      },
      "execution_count": 65,
      "outputs": [
        {
          "output_type": "stream",
          "name": "stdout",
          "text": [
            "OOCn1ccc22cccNNN-1111cc1c111111[\n",
            "OOn1nnc2cccccc+c1cc11111)cc1NNNN\n",
            "OCC11c///ccNcCcc11cc11ccC1cccNNN\n",
            "OCCnnccccccccCC(=C1+11NNN1cC1C1c\n",
            "CCc1ccccccccc//Nccc/+-SC1ccc1c11\n",
            "OCn1nncccccCC+1//111111F++C1CNCC\n",
            "OCCnncc//cccNc]c1[S1c1cc1111/ccc\n",
            "CCCCCONcccccccccccc11111111cccc1\n",
            "OCCCONcccccccccc111111111c1111cc\n",
            "CCcccccccccccPc\\C/O[[cS(O2CO/)cO\n"
          ]
        }
      ]
    },
    {
      "cell_type": "code",
      "source": [
        ""
      ],
      "metadata": {
        "id": "M1X7ftGmJk_T"
      },
      "execution_count": null,
      "outputs": []
    }
  ],
  "metadata": {
    "kernelspec": {
      "display_name": "Python 3",
      "language": "python",
      "name": "python3"
    },
    "language_info": {
      "codemirror_mode": {
        "name": "ipython",
        "version": 3
      },
      "file_extension": ".py",
      "mimetype": "text/x-python",
      "name": "python",
      "nbconvert_exporter": "python",
      "pygments_lexer": "ipython3",
      "version": "3.7.3"
    },
    "colab": {
      "name": "ZINC_DB_molecule_generation_using_LSTM_AutoEncoder.ipynb",
      "provenance": [],
      "machine_shape": "hm",
      "collapsed_sections": []
    },
    "accelerator": "GPU"
  },
  "nbformat": 4,
  "nbformat_minor": 0
}