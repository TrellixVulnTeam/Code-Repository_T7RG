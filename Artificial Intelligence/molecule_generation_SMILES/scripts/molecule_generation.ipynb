{
  "cells": [
    {
      "cell_type": "markdown",
      "metadata": {
        "id": "2TThE6KcKKUB"
      },
      "source": [
        "<h2> Files</h2>\n",
        "<body>\n",
        "    <b>smiles </b>: Virtual Environment - Use source /smiles/bin/activate to activate the virtual env<br>\n",
        "    <b>datasets/download.sh </b>: Bash script to download datasets \n",
        "\t\tUsage : bash download.sh gdb13 OR bash download.sh gdb17 or bash download.sh gdb17\n",
        "<br>\n",
        "    <b>datasets/delete.sh </b>: bash script to delete files in the folder. \n",
        "\t\tUsage : bash delete.sh gdb11_ where gdb11 is the grep string to search for.\n",
        "<br>\n",
        "    <b>datasets/extract.sh </b>: To extract files from a tar file and to save it in a folder\n",
        "\n",
        "<br>\n",
        "\n",
        " "
      ]
    },
    {
      "cell_type": "markdown",
      "source": [
        "# Functions"
      ],
      "metadata": {
        "id": "1xpDCUaKnAk7"
      }
    },
    {
      "cell_type": "code",
      "source": [
        "max(1,2)"
      ],
      "metadata": {
        "colab": {
          "base_uri": "https://localhost:8080/"
        },
        "id": "aFpZF598pGuT",
        "outputId": "2dc81f41-f54b-4c28-ebcf-bc9d0863799b"
      },
      "execution_count": null,
      "outputs": [
        {
          "output_type": "execute_result",
          "data": {
            "text/plain": [
              "2"
            ]
          },
          "metadata": {},
          "execution_count": 1
        }
      ]
    },
    {
      "cell_type": "code",
      "source": [
        "# Function to One hot encode the data into into 2 Dimensions. \n",
        "# Splitting the dataset to len(distinct_charachter) number of columns\n",
        "def OneHotEncoding(data,ohe_dict,max):\n",
        "  \"\"\" The function makes use of the ohe_helper function to One Hot Encode a list of charachters and to return \n",
        "  the encoded format. Since the input here is a string, the output will be of 2 Dimensions \"\"\"\n",
        "\n",
        "  import numpy as np\n",
        "  ohe=[]\n",
        "  for data_point in data:\n",
        "    ohe.append(ohe_helper(data_point,ohe_dict,max))\n",
        "  return ohe\n",
        "\n",
        "def ohe_helper(data,ohe_dict,max_value):\n",
        "  \"\"\" Helper function to One Hot Encode the data. \n",
        "  It is used by the above function\"\"\"\n",
        "\n",
        "  import numpy as np\n",
        "  maximum=max(max_value,len(ohe_dict))\n",
        "  out=np.zeros((maximum,maximum))\n",
        "  for i,element in enumerate(data):\n",
        "    out[i][key_value[element]]=1\n",
        "  return out\n",
        "\n",
        "def save(file,key_values):\n",
        "  \"\"\" The function will take the data and save it as an npz file, with\n",
        "  name smiles.npz\"\"\"\n",
        "  import numpy as np\n",
        "  np.savez('smiles.npz',ohe=temp,key=key_values)\n",
        "\n",
        "def OneHotDecoding_helper(data,dictionary):\n",
        "  \"\"\" Function to decode a One Hot Encoded 2D data back into its smile representation\"\"\"\n",
        "  key=list(dictionary.keys())\n",
        "  string=''\n",
        "  for charachter in data:\n",
        "    idx=charachter.argmax()\n",
        "    string+=key[idx]\n",
        "  return string\n",
        "\n",
        "def check_smiles(string):\n",
        "  object=check_molecule(string)"
      ],
      "metadata": {
        "id": "WjBCT-yPnDD9"
      },
      "execution_count": null,
      "outputs": []
    },
    {
      "cell_type": "code",
      "source": [
        "from IPython.core.display import Image\n",
        "class gan:\n",
        "  def __init__(self):\n",
        "    \"\"\" The function will check if there is a pretrained model already in the \n",
        "    folder. If found, it will load the data. Otherwise, it will return error message\"\"\"\n",
        "\n",
        "    print('Class initialized')\n",
        "    import os\n",
        "    from keras.models import  load_model\n",
        "    flag=0\n",
        "    for file in os.listdir():\n",
        "      if file=='smiles_generator_dcgan.h5':\n",
        "        self.model=load_model(file)\n",
        "        print('Pre trained model loaded')\n",
        "        flag=1\n",
        "    if flag==0:\n",
        "      print('Pre trained model not found')\n",
        "            \n",
        "  \n",
        "\n",
        "  def create_generator(self,image_size=28,input_size=100):\n",
        "    ''' The function creates a generative model use=ing Keras and returns the model\n",
        "    The image is first converted into a smaller dimension with more channels. \n",
        "    Once this is done, we use futher Conv2D transpose operation to increase the size of the imahe\n",
        "    and to decrese the number of channels.\n",
        "    After the process, the model ends up creating an image of size 28x28 in the last layer. \n",
        "    '''\n",
        "\n",
        "    import keras \n",
        "    import tensorflow as tf\n",
        "    #Build an input layer\n",
        "    gen_input = tf.keras.layers.Input(shape=(input_size,))\n",
        "    \n",
        "    #Increase dimensions and resize to 3D to feed it to Conv2DTranspose layer\n",
        "    x = tf.keras.layers.Dense(7 * 7 * 128)(gen_input)\n",
        "    x = tf.keras.layers.Reshape((7, 7, 128))(x)\n",
        "    \n",
        "    #Use ConvTranspose\n",
        "    x = tf.keras.layers.BatchNormalization()(x)\n",
        "    x = tf.keras.layers.Activation('relu')(x)\n",
        "    x = tf.keras.layers.Conv2DTranspose(128, kernel_size=[5,5], strides=2, padding='same')(x)\n",
        "    \n",
        "    x = tf.keras.layers.BatchNormalization()(x)\n",
        "    x = tf.keras.layers.Activation('relu')(x)\n",
        "    x = tf.keras.layers.Conv2DTranspose(64, kernel_size=[5,5], strides=2, padding='same')(x)\n",
        "    \n",
        "    x = tf.keras.layers.BatchNormalization()(x)\n",
        "    x = tf.keras.layers.Activation('relu')(x)\n",
        "    x = tf.keras.layers.Conv2DTranspose(32, kernel_size=[5,5], strides=1, padding='same')(x)\n",
        "    \n",
        "    x = tf.keras.layers.BatchNormalization()(x)\n",
        "    x = tf.keras.layers.Activation('relu')(x)\n",
        "    x = tf.keras.layers.Conv2DTranspose(1, kernel_size=[5,5], strides=1, padding='same')(x)\n",
        "    \n",
        "    #Output layer for Generator\n",
        "    x = tf.keras.layers.Activation('sigmoid')(x)\n",
        "    \n",
        "    #Build model using Model API\n",
        "    generator = tf.keras.models.Model(gen_input, x, name='generator')\n",
        "    \n",
        "    return generator\n",
        "\n",
        "    \n",
        "  def create_discriminator(self,shape=[28,28,1,]):\n",
        "      \"\"\" Function to build the discriminator network from scratch using the tensorflow \n",
        "      and keras libraries\"\"\"\n",
        "      import tensorflow as tf\n",
        "      #Build the network\n",
        "      dis_input = tf.keras.layers.Input(shape)\n",
        "      x = tf.keras.layers.LeakyReLU(alpha=0.2)(dis_input)\n",
        "      x = tf.keras.layers.Conv2D(32, kernel_size=[5,5], strides=2, padding='same')(x)\n",
        "      \n",
        "      x = tf.keras.layers.LeakyReLU(alpha=0.2)(x)\n",
        "      x = tf.keras.layers.Conv2D(64, kernel_size=[5,5], strides=2, padding='same')(x)\n",
        "      \n",
        "      x = tf.keras.layers.LeakyReLU(alpha=0.2)(x)\n",
        "      x = tf.keras.layers.Conv2D(128, kernel_size=[5,5], strides=2, padding='same')(x)\n",
        "      \n",
        "      x = tf.keras.layers.LeakyReLU(alpha=0.2)(x)\n",
        "      x = tf.keras.layers.Conv2D(256, kernel_size=[5,5], strides=1, padding='same')(x)\n",
        "      \n",
        "      #Flatten the output and build an output layer\n",
        "      x = tf.keras.layers.Flatten()(x)\n",
        "      x = tf.keras.layers.Dense(1, activation='sigmoid')(x)\n",
        "      \n",
        "      #Build Model\n",
        "      discriminator = tf.keras.models.Model(dis_input, x, name='discriminator')\n",
        "      \n",
        "      return discriminator\n",
        "\n",
        "\n",
        "\n",
        "  def build_model(self):\n",
        "    \"\"\" The function creates a GAN model by using the discrimnator and generator models which were\n",
        "    defined in the earlier funtions inside the class. It also returns the generator, disciminator and \n",
        "    adversarial network after creating the model\"\"\"\n",
        "    import tensorflow as tf\n",
        "\n",
        "    noise_size = 100\n",
        "    lr = 2e-4\n",
        "    decay = 6e-8\n",
        "    \n",
        "    #Build Base Discriminator model\n",
        "    base_discriminator = self.create_discriminator()\n",
        "    \n",
        "    #Define optimizer and compile model\n",
        "    discriminator = tf.keras.models.Model(inputs=base_discriminator.inputs, \n",
        "                                          outputs=base_discriminator.outputs)\n",
        "    optimizer = tf.keras.optimizers.RMSprop(lr=lr, decay=decay)\n",
        "    discriminator.compile(loss='binary_crossentropy',\n",
        "                          optimizer=optimizer,\n",
        "                          metrics=['accuracy'])\n",
        "    \n",
        "    #Build Generator model\n",
        "    generator = self.create_generator(image_size=28, input_size=noise_size)\n",
        "    \n",
        "    #Build Frozen Discriminator\n",
        "    frozen_discriminator = tf.keras.models.Model(inputs=base_discriminator.inputs, \n",
        "                                          outputs=base_discriminator.outputs)\n",
        "    #Freeze the weights of discriminator during adversarial training\n",
        "    frozen_discriminator.trainable = False\n",
        "\n",
        "    #Build Adversarial model\n",
        "    optimizer = tf.keras.optimizers.RMSprop(lr=lr * 0.5, decay=decay * 0.5)\n",
        "    #Adversarial = generator + discriminator\n",
        "    adversarial = tf.keras.models.Model(generator.input, \n",
        "                        frozen_discriminator(generator.output))\n",
        "    \n",
        "    adversarial.compile(loss='binary_crossentropy',\n",
        "                        optimizer=optimizer,\n",
        "                        metrics=['accuracy'])    \n",
        "    \n",
        "    return generator, discriminator, adversarial\n",
        "\n",
        "\n",
        "\n",
        "\n",
        "\n",
        "  def train_gan(self,generator,discriminator,adversarial_network,key_value,distribution_size=100):\n",
        "    import tensorflow as tf\n",
        "    import numpy as np\n",
        "    #Training parameters\n",
        "    batch_size = 64\n",
        "    train_steps = 30000\n",
        "    image_size = 28\n",
        "    \n",
        "\n",
        "    train_x=data_en\n",
        "    #Make it 3D dataset\n",
        "    train_x = np.reshape(train_x, [-1, image_size, image_size, 1])\n",
        "    #Standardize data : 0 to 1\n",
        "    train_x = train_x.astype('float32') / 255\n",
        "    \n",
        "    #Input for testing generator at different intervals, we will generate 16 images\n",
        "    test_noise_input = np.random.uniform(-1.0,1.0, size=[16, distribution_size])\n",
        "    \n",
        "    #Start training\n",
        "    for i in range(train_steps):\n",
        "        \n",
        "        #Train DISCRIMATOR\n",
        "        \n",
        "        #1. Get fake images from Generator\n",
        "        noise_input = np.random.uniform(-1.0,1.0, size=[batch_size, distribution_size])\n",
        "        fake_images = generator.predict(noise_input)\n",
        "        \n",
        "        #2. Get real images from training set\n",
        "        img_indexes = np.random.randint(0, train_x.shape[0], size=batch_size)\n",
        "        real_images = train_x[img_indexes]\n",
        "        \n",
        "        #3. Prepare input for training Discriminator\n",
        "        X = np.concatenate((real_images, fake_images))\n",
        "        \n",
        "        #4. Labels for training\n",
        "        y_real = np.ones((batch_size, 1))\n",
        "        y_fake = np.zeros((batch_size, 1))\n",
        "        y = np.concatenate((y_real, y_fake))\n",
        "        \n",
        "        #5. Train Discriminator\n",
        "        d_loss, d_acc = discriminator.train_on_batch(X, y)\n",
        "        \n",
        "        \n",
        "        #Train ADVERSARIAL Network\n",
        "        \n",
        "        #1. Prepare input - create a new batch of noise\n",
        "        X = noise_input = np.random.uniform(-1.0,1.0, size=[batch_size, distribution_size])\n",
        "        \n",
        "        #2. Prepare labels - training Adversarial network to lie :) - All 1s\n",
        "        y = np.ones((batch_size, 1))\n",
        "        \n",
        "        #3. Train - Pls note Discrimator is not getting trained here\n",
        "        a_loss, a_acc = adversarial_network.train_on_batch(X, y)\n",
        "        \n",
        "        if i % 100 == 0:\n",
        "            #Print loss and Accuracy for both networks\n",
        "            print(\"%s [Discriminator loss: %f, acc: %f, Adversarial loss: %f, acc: %f]\" % (i, d_loss, d_acc, a_loss, a_acc) )\n",
        "        \n",
        "        #Save generated images to see how well Generator is doing\n",
        "        if (i+1) % 500 == 0:\n",
        "            \n",
        "            #Generate 16 images\n",
        "            fake_images = generator.predict(test_noise_input)\n",
        "            \n",
        "            #Display images\n",
        "            self.plot_images(fake_images, i+1)\n",
        "\n",
        "    #Save Generator model\n",
        "    self.model=generator\n",
        "    generator.save('smiles_generator_dcgan.h5')   \n",
        "\n",
        "\n",
        "\n",
        "\n",
        "  def plot_images(self,fake_images, step):\n",
        "    '''  The function helps in plotting the graphs, so that it is easy to \n",
        "    see how the model trains '''\n",
        "    \n",
        "    import matplotlib.pyplot as plt\n",
        "    import math\n",
        "    import numpy as np\n",
        "    plt.figure(figsize=(2.5,2.5))\n",
        "    num_images = fake_images.shape[0]\n",
        "    \n",
        "    image_size = fake_images.shape[1]\n",
        "    rows = int(math.sqrt(fake_images.shape[0]))\n",
        "    \n",
        "    for i in range(num_images):\n",
        "        plt.subplot(rows, rows, i + 1)\n",
        "        image = np.reshape(fake_images[i], [image_size, image_size])\n",
        "        plt.imshow(image, cmap='gray')\n",
        "        plt.axis('off')\n",
        "    plt.show()\n",
        "\n",
        "  def generate_smiles(self,number):\n",
        "    ''' This function will generate 'number' number of 5's and will return the array'''\n",
        "    import numpy as np\n",
        "    noise_input = np.random.uniform(-1.0,1.0, size=[number, 100])\n",
        "    fake_images = self.model.predict(noise_input)\n",
        "    return fake_images\n"
      ],
      "metadata": {
        "id": "F3p43uw6Nd4k"
      },
      "execution_count": null,
      "outputs": []
    },
    {
      "cell_type": "markdown",
      "source": [
        "# Preparing the data"
      ],
      "metadata": {
        "id": "8eBhDkgUNOx4"
      }
    },
    {
      "cell_type": "code",
      "source": [
        "# Connecting to google drive and navigating to folder\n",
        "from google.colab import drive\n",
        "drive.mount('/content/drive')\n",
        "import os\n",
        "os.chdir(\"drive/MyDrive/Colab Notebooks/molecule_generation_SMILES/scripts\")"
      ],
      "metadata": {
        "id": "pskcxzApKbny"
      },
      "execution_count": null,
      "outputs": []
    },
    {
      "cell_type": "code",
      "execution_count": null,
      "metadata": {
        "id": "Kt33dM6UKKUJ",
        "colab": {
          "base_uri": "https://localhost:8080/"
        },
        "outputId": "2b5a61c5-a1af-4762-b985-3d8b7099eca6"
      },
      "outputs": [
        {
          "output_type": "stream",
          "name": "stdout",
          "text": [
            "Requirement already satisfied: smilite in /usr/local/lib/python3.7/dist-packages (2.3.0)\n",
            "Requirement already satisfied: PyPrind>=2.3.1 in /usr/local/lib/python3.7/dist-packages (from smilite) (2.11.3)\n"
          ]
        }
      ],
      "source": [
        "!pip install smilite\n",
        "# Importing Libraries\n",
        "import pandas as pd\n",
        "import smilite # Library to check if data generated is correct or not\n",
        "from check_molecule import *"
      ]
    },
    {
      "cell_type": "code",
      "execution_count": null,
      "metadata": {
        "colab": {
          "base_uri": "https://localhost:8080/",
          "height": 241
        },
        "id": "e7_0FvhzKKUL",
        "outputId": "0739c202-9433-4380-b60b-28435c20c7c2"
      },
      "outputs": [
        {
          "output_type": "stream",
          "name": "stdout",
          "text": [
            "CPU times: user 1e+03 ns, sys: 0 ns, total: 1e+03 ns\n",
            "Wall time: 5.48 µs\n"
          ]
        },
        {
          "output_type": "execute_result",
          "data": {
            "text/html": [
              "\n",
              "  <div id=\"df-411b0e46-69b4-477b-8302-caa936c2f84e\">\n",
              "    <div class=\"colab-df-container\">\n",
              "      <div>\n",
              "<style scoped>\n",
              "    .dataframe tbody tr th:only-of-type {\n",
              "        vertical-align: middle;\n",
              "    }\n",
              "\n",
              "    .dataframe tbody tr th {\n",
              "        vertical-align: top;\n",
              "    }\n",
              "\n",
              "    .dataframe thead th {\n",
              "        text-align: right;\n",
              "    }\n",
              "</style>\n",
              "<table border=\"1\" class=\"dataframe\">\n",
              "  <thead>\n",
              "    <tr style=\"text-align: right;\">\n",
              "      <th></th>\n",
              "      <th>Molecule</th>\n",
              "    </tr>\n",
              "  </thead>\n",
              "  <tbody>\n",
              "    <tr>\n",
              "      <th>0</th>\n",
              "      <td>CC(C(C)(C)C)C(C)(C)C</td>\n",
              "    </tr>\n",
              "    <tr>\n",
              "      <th>1</th>\n",
              "      <td>CC(C)(C)C(N)C(C)(C)C</td>\n",
              "    </tr>\n",
              "    <tr>\n",
              "      <th>2</th>\n",
              "      <td>CC(C)(C)C(O)C(C)(C)C</td>\n",
              "    </tr>\n",
              "    <tr>\n",
              "      <th>3</th>\n",
              "      <td>CC(C)(C)C(F)C(C)(C)C</td>\n",
              "    </tr>\n",
              "    <tr>\n",
              "      <th>4</th>\n",
              "      <td>CC(C(C)(C)C)C(C)(C)N</td>\n",
              "    </tr>\n",
              "  </tbody>\n",
              "</table>\n",
              "</div>\n",
              "      <button class=\"colab-df-convert\" onclick=\"convertToInteractive('df-411b0e46-69b4-477b-8302-caa936c2f84e')\"\n",
              "              title=\"Convert this dataframe to an interactive table.\"\n",
              "              style=\"display:none;\">\n",
              "        \n",
              "  <svg xmlns=\"http://www.w3.org/2000/svg\" height=\"24px\"viewBox=\"0 0 24 24\"\n",
              "       width=\"24px\">\n",
              "    <path d=\"M0 0h24v24H0V0z\" fill=\"none\"/>\n",
              "    <path d=\"M18.56 5.44l.94 2.06.94-2.06 2.06-.94-2.06-.94-.94-2.06-.94 2.06-2.06.94zm-11 1L8.5 8.5l.94-2.06 2.06-.94-2.06-.94L8.5 2.5l-.94 2.06-2.06.94zm10 10l.94 2.06.94-2.06 2.06-.94-2.06-.94-.94-2.06-.94 2.06-2.06.94z\"/><path d=\"M17.41 7.96l-1.37-1.37c-.4-.4-.92-.59-1.43-.59-.52 0-1.04.2-1.43.59L10.3 9.45l-7.72 7.72c-.78.78-.78 2.05 0 2.83L4 21.41c.39.39.9.59 1.41.59.51 0 1.02-.2 1.41-.59l7.78-7.78 2.81-2.81c.8-.78.8-2.07 0-2.86zM5.41 20L4 18.59l7.72-7.72 1.47 1.35L5.41 20z\"/>\n",
              "  </svg>\n",
              "      </button>\n",
              "      \n",
              "  <style>\n",
              "    .colab-df-container {\n",
              "      display:flex;\n",
              "      flex-wrap:wrap;\n",
              "      gap: 12px;\n",
              "    }\n",
              "\n",
              "    .colab-df-convert {\n",
              "      background-color: #E8F0FE;\n",
              "      border: none;\n",
              "      border-radius: 50%;\n",
              "      cursor: pointer;\n",
              "      display: none;\n",
              "      fill: #1967D2;\n",
              "      height: 32px;\n",
              "      padding: 0 0 0 0;\n",
              "      width: 32px;\n",
              "    }\n",
              "\n",
              "    .colab-df-convert:hover {\n",
              "      background-color: #E2EBFA;\n",
              "      box-shadow: 0px 1px 2px rgba(60, 64, 67, 0.3), 0px 1px 3px 1px rgba(60, 64, 67, 0.15);\n",
              "      fill: #174EA6;\n",
              "    }\n",
              "\n",
              "    [theme=dark] .colab-df-convert {\n",
              "      background-color: #3B4455;\n",
              "      fill: #D2E3FC;\n",
              "    }\n",
              "\n",
              "    [theme=dark] .colab-df-convert:hover {\n",
              "      background-color: #434B5C;\n",
              "      box-shadow: 0px 1px 3px 1px rgba(0, 0, 0, 0.15);\n",
              "      filter: drop-shadow(0px 1px 2px rgba(0, 0, 0, 0.3));\n",
              "      fill: #FFFFFF;\n",
              "    }\n",
              "  </style>\n",
              "\n",
              "      <script>\n",
              "        const buttonEl =\n",
              "          document.querySelector('#df-411b0e46-69b4-477b-8302-caa936c2f84e button.colab-df-convert');\n",
              "        buttonEl.style.display =\n",
              "          google.colab.kernel.accessAllowed ? 'block' : 'none';\n",
              "\n",
              "        async function convertToInteractive(key) {\n",
              "          const element = document.querySelector('#df-411b0e46-69b4-477b-8302-caa936c2f84e');\n",
              "          const dataTable =\n",
              "            await google.colab.kernel.invokeFunction('convertToInteractive',\n",
              "                                                     [key], {});\n",
              "          if (!dataTable) return;\n",
              "\n",
              "          const docLinkHtml = 'Like what you see? Visit the ' +\n",
              "            '<a target=\"_blank\" href=https://colab.research.google.com/notebooks/data_table.ipynb>data table notebook</a>'\n",
              "            + ' to learn more about interactive tables.';\n",
              "          element.innerHTML = '';\n",
              "          dataTable['output_type'] = 'display_data';\n",
              "          await google.colab.output.renderOutput(dataTable, element);\n",
              "          const docLink = document.createElement('div');\n",
              "          docLink.innerHTML = docLinkHtml;\n",
              "          element.appendChild(docLink);\n",
              "        }\n",
              "      </script>\n",
              "    </div>\n",
              "  </div>\n",
              "  "
            ],
            "text/plain": [
              "               Molecule\n",
              "0  CC(C(C)(C)C)C(C)(C)C\n",
              "1  CC(C)(C)C(N)C(C)(C)C\n",
              "2  CC(C)(C)C(O)C(C)(C)C\n",
              "3  CC(C)(C)C(F)C(C)(C)C\n",
              "4  CC(C(C)(C)C)C(C)(C)N"
            ]
          },
          "metadata": {},
          "execution_count": 21
        }
      ],
      "source": [
        "% time\n",
        "data=pd.read_csv('gdb11_size10.smi',delimiter='\\t',header=None)\n",
        "# Renaming the columns\n",
        "data.columns=['Molecule','_','__']\n",
        "\n",
        "# Dropping the extra columns\n",
        "data.drop(data.columns[-2:],axis=1,inplace=True)\n",
        "\n",
        "# Fetching a smaller portion of the dataset\n",
        "data=data.iloc[0:500000]\n",
        "\n",
        "data.head()"
      ]
    },
    {
      "cell_type": "markdown",
      "metadata": {
        "id": "1_gBS8rDKKUN"
      },
      "source": [
        "<h4>One Hot Encoding the data"
      ]
    },
    {
      "cell_type": "code",
      "execution_count": null,
      "metadata": {
        "id": "4Y0oyVh7KKUO",
        "colab": {
          "base_uri": "https://localhost:8080/"
        },
        "outputId": "60497458-3f14-4813-d348-06e13c4cebbb"
      },
      "outputs": [
        {
          "output_type": "stream",
          "name": "stdout",
          "text": [
            "CPU times: user 2 µs, sys: 0 ns, total: 2 µs\n",
            "Wall time: 5.01 µs\n"
          ]
        }
      ],
      "source": [
        "% time\n",
        "\n",
        "# Finding the distinct charachters in the dataset\n",
        "distinct_charachters=set(' '.join(data['Molecule'].values))\n",
        "\n",
        "# Creating a dictionary to get the index value\n",
        "key_value={}\n",
        "key_value[' ']=0\n",
        "idx=1\n",
        "for charachter in distinct_charachters:\n",
        "  if charachter!=' ':\n",
        "    key_value[charachter]=idx\n",
        "    idx+=1\n",
        "\n",
        "# Creating a new column with the charachter seperated as a list\n",
        "data['Molecule_sep']=data['Molecule'].apply(lambda x: list(x))\n",
        "\n",
        "#Creating a new column with length of each smiles representation\n",
        "data['length']=data['Molecule_sep'].apply(lambda x: len(x))"
      ]
    },
    {
      "cell_type": "code",
      "execution_count": null,
      "metadata": {
        "id": "gS6dUQuLKKUP",
        "colab": {
          "base_uri": "https://localhost:8080/"
        },
        "outputId": "3ad96fc9-e4f2-4b2e-dfec-d401067c4ea4"
      },
      "outputs": [
        {
          "output_type": "stream",
          "name": "stdout",
          "text": [
            "CPU times: user 2 µs, sys: 2 µs, total: 4 µs\n",
            "Wall time: 6.91 µs\n"
          ]
        }
      ],
      "source": [
        "\n",
        "#Since the charachters are not ordinal , converting them into one Hot Encoding\n",
        "import numpy as np\n",
        "temp=np.array(OneHotEncoding(data['Molecule_sep'],key_value,data['length'].max()))\n",
        "save(temp,np.array(key_value))\n",
        "% time"
      ]
    },
    {
      "cell_type": "code",
      "source": [
        "# Reading the saved Nump file\n",
        "import numpy as np\n",
        "data_en=np.load('smiles.npz',allow_pickle=True)\n",
        "key_value=data_en['key'].item()\n",
        "data_en=data_en['ohe']"
      ],
      "metadata": {
        "id": "-AvKaL2R6b65"
      },
      "execution_count": null,
      "outputs": []
    },
    {
      "cell_type": "markdown",
      "source": [
        "# GAN "
      ],
      "metadata": {
        "id": "0oMCXmTNrE4P"
      }
    },
    {
      "cell_type": "code",
      "source": [
        "gan_object=gan()\n",
        "Generator,Discriminator,Adversarial=gan_object.build_model()\n"
      ],
      "metadata": {
        "colab": {
          "base_uri": "https://localhost:8080/"
        },
        "id": "3qSjPXz9rMTT",
        "outputId": "f8ce4962-dc09-4f88-940f-8af635d4dbc2"
      },
      "execution_count": null,
      "outputs": [
        {
          "output_type": "stream",
          "name": "stdout",
          "text": [
            "Class initialized\n",
            "WARNING:tensorflow:No training configuration found in the save file, so the model was *not* compiled. Compile it manually.\n",
            "Pre trained model loaded\n"
          ]
        },
        {
          "output_type": "stream",
          "name": "stderr",
          "text": [
            "/usr/local/lib/python3.7/dist-packages/keras/optimizer_v2/rmsprop.py:130: UserWarning: The `lr` argument is deprecated, use `learning_rate` instead.\n",
            "  super(RMSprop, self).__init__(name, **kwargs)\n"
          ]
        }
      ]
    },
    {
      "cell_type": "code",
      "source": [
        "gan_object.train_gan(Generator,Discriminator,Adversarial,key_value=key_value)"
      ],
      "metadata": {
        "colab": {
          "base_uri": "https://localhost:8080/",
          "height": 398
        },
        "id": "cZ3ZEilrrNE1",
        "outputId": "42229e0e-b77b-4c87-fbaf-5228f559f581"
      },
      "execution_count": null,
      "outputs": [
        {
          "output_type": "stream",
          "name": "stdout",
          "text": [
            "0 [Discriminator loss: 0.696752, acc: 0.242188, Adversarial loss: 0.814808, acc: 0.000000]\n",
            "100 [Discriminator loss: 0.000006, acc: 1.000000, Adversarial loss: 0.053412, acc: 1.000000]\n",
            "200 [Discriminator loss: 0.000000, acc: 1.000000, Adversarial loss: 0.000317, acc: 1.000000]\n",
            "300 [Discriminator loss: 0.000211, acc: 1.000000, Adversarial loss: 0.190849, acc: 1.000000]\n",
            "400 [Discriminator loss: 0.763169, acc: 0.500000, Adversarial loss: 0.196474, acc: 1.000000]\n"
          ]
        },
        {
          "output_type": "error",
          "ename": "IndexError",
          "evalue": "ignored",
          "traceback": [
            "\u001b[0;31m---------------------------------------------------------------------------\u001b[0m",
            "\u001b[0;31mIndexError\u001b[0m                                Traceback (most recent call last)",
            "\u001b[0;32m<ipython-input-55-8b8fb3be2c09>\u001b[0m in \u001b[0;36m<module>\u001b[0;34m()\u001b[0m\n\u001b[0;32m----> 1\u001b[0;31m \u001b[0mgan_object\u001b[0m\u001b[0;34m.\u001b[0m\u001b[0mtrain_gan\u001b[0m\u001b[0;34m(\u001b[0m\u001b[0mGenerator\u001b[0m\u001b[0;34m,\u001b[0m\u001b[0mDiscriminator\u001b[0m\u001b[0;34m,\u001b[0m\u001b[0mAdversarial\u001b[0m\u001b[0;34m,\u001b[0m\u001b[0mkey_value\u001b[0m\u001b[0;34m=\u001b[0m\u001b[0mkey_value\u001b[0m\u001b[0;34m)\u001b[0m\u001b[0;34m\u001b[0m\u001b[0;34m\u001b[0m\u001b[0m\n\u001b[0m",
            "\u001b[0;32m<ipython-input-47-8cf7e9b40446>\u001b[0m in \u001b[0;36mtrain_gan\u001b[0;34m(self, generator, discriminator, adversarial_network, key_value, distribution_size)\u001b[0m\n\u001b[1;32m    201\u001b[0m             \u001b[0mfake_images\u001b[0m \u001b[0;34m=\u001b[0m \u001b[0mgenerator\u001b[0m\u001b[0;34m.\u001b[0m\u001b[0mpredict\u001b[0m\u001b[0;34m(\u001b[0m\u001b[0mtest_noise_input\u001b[0m\u001b[0;34m)\u001b[0m\u001b[0;34m\u001b[0m\u001b[0;34m\u001b[0m\u001b[0m\n\u001b[1;32m    202\u001b[0m             \u001b[0;32mfor\u001b[0m \u001b[0mimage\u001b[0m \u001b[0;32min\u001b[0m \u001b[0mfake_images\u001b[0m\u001b[0;34m:\u001b[0m\u001b[0;34m\u001b[0m\u001b[0;34m\u001b[0m\u001b[0m\n\u001b[0;32m--> 203\u001b[0;31m               \u001b[0mprint\u001b[0m\u001b[0;34m(\u001b[0m\u001b[0;34m'Generated: '\u001b[0m\u001b[0;34m,\u001b[0m\u001b[0mOneHotDecoding_helper\u001b[0m\u001b[0;34m(\u001b[0m\u001b[0mimage\u001b[0m\u001b[0;34m,\u001b[0m\u001b[0mkey_value\u001b[0m\u001b[0;34m)\u001b[0m\u001b[0;34m.\u001b[0m\u001b[0mstrip\u001b[0m\u001b[0;34m(\u001b[0m\u001b[0;34m)\u001b[0m\u001b[0;34m)\u001b[0m\u001b[0;34m\u001b[0m\u001b[0;34m\u001b[0m\u001b[0m\n\u001b[0m\u001b[1;32m    204\u001b[0m               \u001b[0;31m# try:\u001b[0m\u001b[0;34m\u001b[0m\u001b[0;34m\u001b[0m\u001b[0;34m\u001b[0m\u001b[0m\n\u001b[1;32m    205\u001b[0m               \u001b[0;31m#   #print the zinc ID to check if it is valid\u001b[0m\u001b[0;34m\u001b[0m\u001b[0;34m\u001b[0m\u001b[0;34m\u001b[0m\u001b[0m\n",
            "\u001b[0;32m<ipython-input-17-af9ff4ce1bea>\u001b[0m in \u001b[0;36mOneHotDecoding_helper\u001b[0;34m(data, dictionary)\u001b[0m\n\u001b[1;32m     34\u001b[0m   \u001b[0;32mfor\u001b[0m \u001b[0mcharachter\u001b[0m \u001b[0;32min\u001b[0m \u001b[0mdata\u001b[0m\u001b[0;34m:\u001b[0m\u001b[0;34m\u001b[0m\u001b[0;34m\u001b[0m\u001b[0m\n\u001b[1;32m     35\u001b[0m     \u001b[0midx\u001b[0m\u001b[0;34m=\u001b[0m\u001b[0mcharachter\u001b[0m\u001b[0;34m.\u001b[0m\u001b[0margmax\u001b[0m\u001b[0;34m(\u001b[0m\u001b[0;34m)\u001b[0m\u001b[0;34m\u001b[0m\u001b[0;34m\u001b[0m\u001b[0m\n\u001b[0;32m---> 36\u001b[0;31m     \u001b[0mstring\u001b[0m\u001b[0;34m+=\u001b[0m\u001b[0mkey\u001b[0m\u001b[0;34m[\u001b[0m\u001b[0midx\u001b[0m\u001b[0;34m]\u001b[0m\u001b[0;34m\u001b[0m\u001b[0;34m\u001b[0m\u001b[0m\n\u001b[0m\u001b[1;32m     37\u001b[0m   \u001b[0;32mreturn\u001b[0m \u001b[0mstring\u001b[0m\u001b[0;34m\u001b[0m\u001b[0;34m\u001b[0m\u001b[0m\n\u001b[1;32m     38\u001b[0m \u001b[0;34m\u001b[0m\u001b[0m\n",
            "\u001b[0;31mIndexError\u001b[0m: list index out of range"
          ]
        }
      ]
    },
    {
      "cell_type": "code",
      "source": [
        "temp=gan_object.generate_smiles(5)"
      ],
      "metadata": {
        "id": "irHPfJsnmYuY"
      },
      "execution_count": null,
      "outputs": []
    },
    {
      "cell_type": "code",
      "source": [
        ""
      ],
      "metadata": {
        "id": "uthgYRsCr9NL"
      },
      "execution_count": null,
      "outputs": []
    }
  ],
  "metadata": {
    "kernelspec": {
      "display_name": "Python 3",
      "language": "python",
      "name": "python3"
    },
    "language_info": {
      "codemirror_mode": {
        "name": "ipython",
        "version": 3
      },
      "file_extension": ".py",
      "mimetype": "text/x-python",
      "name": "python",
      "nbconvert_exporter": "python",
      "pygments_lexer": "ipython3",
      "version": "3.7.3"
    },
    "colab": {
      "name": "molecule_generation.ipynb",
      "provenance": [],
      "machine_shape": "hm"
    },
    "accelerator": "GPU"
  },
  "nbformat": 4,
  "nbformat_minor": 0
}