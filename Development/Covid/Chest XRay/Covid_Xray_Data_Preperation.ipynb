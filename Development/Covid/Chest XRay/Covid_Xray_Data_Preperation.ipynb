{
  "nbformat": 4,
  "nbformat_minor": 0,
  "metadata": {
    "colab": {
      "name": "Covid Xray Data Preperation.ipynb",
      "provenance": [],
      "collapsed_sections": []
    },
    "kernelspec": {
      "name": "python3",
      "display_name": "Python 3"
    },
    "language_info": {
      "name": "python"
    },
    "accelerator": "GPU"
  },
  "cells": [
    {
      "cell_type": "markdown",
      "source": [
        "# Downloading the ZIP File and Extracting it. "
      ],
      "metadata": {
        "id": "fsBUyp15NWYd"
      }
    },
    {
      "cell_type": "code",
      "execution_count": 7,
      "metadata": {
        "id": "_17qEx5K7wsS",
        "colab": {
          "base_uri": "https://localhost:8080/"
        },
        "outputId": "02a65757-bd03-4fcc-8d2d-b6e50298d9df"
      },
      "outputs": [
        {
          "output_type": "stream",
          "name": "stdout",
          "text": [
            "--2022-02-16 16:37:19--  https://www.dropbox.com/s/1ewy9gw42sty8pt/cxr_plaksha_assignment_qure.zip?dl=0\n",
            "Resolving www.dropbox.com (www.dropbox.com)... 162.125.6.18, 2620:100:6019:18::a27d:412\n",
            "Connecting to www.dropbox.com (www.dropbox.com)|162.125.6.18|:443... connected.\n",
            "HTTP request sent, awaiting response... 301 Moved Permanently\n",
            "Location: /s/raw/1ewy9gw42sty8pt/cxr_plaksha_assignment_qure.zip [following]\n",
            "--2022-02-16 16:37:19--  https://www.dropbox.com/s/raw/1ewy9gw42sty8pt/cxr_plaksha_assignment_qure.zip\n",
            "Reusing existing connection to www.dropbox.com:443.\n",
            "HTTP request sent, awaiting response... 302 Found\n",
            "Location: https://uc4d50a9d9ab4fa8ba0ab32469de.dl.dropboxusercontent.com/cd/0/inline/Bf24WOKKcwScPtX3fU1oCKrlfIWBSal6dJ2uVe2WPF6OY4_7zmYmcwCE-ZomomSh16TW538aNVYw70rxU6e_nLf3Q4XbTsKAobrQXKgrEeTD1dZ3_VFCAbFOTZUoFYJ_4IHNvW2YEBlIiyeoOQ1drLTD/file# [following]\n",
            "--2022-02-16 16:37:19--  https://uc4d50a9d9ab4fa8ba0ab32469de.dl.dropboxusercontent.com/cd/0/inline/Bf24WOKKcwScPtX3fU1oCKrlfIWBSal6dJ2uVe2WPF6OY4_7zmYmcwCE-ZomomSh16TW538aNVYw70rxU6e_nLf3Q4XbTsKAobrQXKgrEeTD1dZ3_VFCAbFOTZUoFYJ_4IHNvW2YEBlIiyeoOQ1drLTD/file\n",
            "Resolving uc4d50a9d9ab4fa8ba0ab32469de.dl.dropboxusercontent.com (uc4d50a9d9ab4fa8ba0ab32469de.dl.dropboxusercontent.com)... 162.125.6.15, 2620:100:6019:15::a27d:40f\n",
            "Connecting to uc4d50a9d9ab4fa8ba0ab32469de.dl.dropboxusercontent.com (uc4d50a9d9ab4fa8ba0ab32469de.dl.dropboxusercontent.com)|162.125.6.15|:443... connected.\n",
            "HTTP request sent, awaiting response... 302 Found\n",
            "Location: /cd/0/inline2/Bf3AyX6DEc05tPjddfEZoBQxUxKMdSgs3ZPMoYrrNw3Dxs4yPNS9D2ELEOLPv9-qHgyzGd_rGONsSfoWsLGHUs--u-u1430wLxwN-qYoZlCzZYePqF38IbDCQdt4f5ZKyABpmXTirbW267wPTDrQU1eaYeJ4nQ51JvloG8j15547ktD0uIT9w3CkVPMzmLkPcRcqDsQ6LOvKi9S7dPupu4Xkelmwrrj-bJBpywUJbACIcMazQ_GLu_u0OPGSPupIxMt-bmKSECdm8Evc48Qw2P5AJU8mGzAzE6sC3ZeHhWKegVwhhex-iSDpwyg-L1TX6mq9xYJ3G1TPf7zxuTvB0qrfC8d-VFxGog_PuOrWjeNHedR_ISXujeQLDrQo2LD8H1g/file [following]\n",
            "--2022-02-16 16:37:19--  https://uc4d50a9d9ab4fa8ba0ab32469de.dl.dropboxusercontent.com/cd/0/inline2/Bf3AyX6DEc05tPjddfEZoBQxUxKMdSgs3ZPMoYrrNw3Dxs4yPNS9D2ELEOLPv9-qHgyzGd_rGONsSfoWsLGHUs--u-u1430wLxwN-qYoZlCzZYePqF38IbDCQdt4f5ZKyABpmXTirbW267wPTDrQU1eaYeJ4nQ51JvloG8j15547ktD0uIT9w3CkVPMzmLkPcRcqDsQ6LOvKi9S7dPupu4Xkelmwrrj-bJBpywUJbACIcMazQ_GLu_u0OPGSPupIxMt-bmKSECdm8Evc48Qw2P5AJU8mGzAzE6sC3ZeHhWKegVwhhex-iSDpwyg-L1TX6mq9xYJ3G1TPf7zxuTvB0qrfC8d-VFxGog_PuOrWjeNHedR_ISXujeQLDrQo2LD8H1g/file\n",
            "Reusing existing connection to uc4d50a9d9ab4fa8ba0ab32469de.dl.dropboxusercontent.com:443.\n",
            "HTTP request sent, awaiting response... 200 OK\n",
            "Length: unspecified [application/zip]\n",
            "Saving to: ‘cxr_plaksha_assignment_qure.zip?dl=0’\n",
            "\n",
            "t_qure.zip?dl=0         [ <=>                ]  10.40G  48.0MB/s               ^C\n"
          ]
        }
      ],
      "source": [
        "!wget https://www.dropbox.com/s/1ewy9gw42sty8pt/cxr_plaksha_assignment_qure.zip?dl=0"
      ]
    },
    {
      "cell_type": "code",
      "source": [
        "!unzip cxr_plaksha_assignment_qure.zip?dl=0"
      ],
      "metadata": {
        "id": "dyIne_8wVhqJ",
        "colab": {
          "base_uri": "https://localhost:8080/"
        },
        "outputId": "f7578b33-24a0-46d9-c3e3-9b409b020271"
      },
      "execution_count": 8,
      "outputs": [
        {
          "output_type": "stream",
          "name": "stdout",
          "text": [
            "unzip:  cannot find or open cxr_plaksha_assignment_qure.zip?dl=0, cxr_plaksha_assignment_qure.zip?dl=0.zip or cxr_plaksha_assignment_qure.zip?dl=0.ZIP.\n",
            "\n",
            "No zipfiles found.\n"
          ]
        }
      ]
    },
    {
      "cell_type": "markdown",
      "source": [
        "### Process\n",
        "\n",
        "Now that the file is downloaded and extracted,and since the size is more than 15GB which is greater than the free tier in Google drive, converting the same into a numpy array. \n",
        "\n",
        "- In this process we are reading all the files in the traininig set, which is 16000 images. \n",
        "- We resize the images to 400x 400 and store them in the form of two numpy arrays. By this process we are able to reduce the data to 7GB. "
      ],
      "metadata": {
        "id": "1WFtUO8-P1l0"
      }
    },
    {
      "cell_type": "code",
      "source": [
        "# Importing the libraries\n",
        "import pandas as pd\n",
        "import cv2\n",
        "import matplotlib.pyplot as plt\n",
        "import numpy as np\n",
        "import shutil\n",
        "from tqdm import tqdm\n",
        "import seaborn as sns\n",
        "import random\n",
        "\n",
        "files=pd.read_csv('consolidation_train_gt.csv')"
      ],
      "metadata": {
        "id": "rvjEx6sfbmB_"
      },
      "execution_count": 1,
      "outputs": []
    },
    {
      "cell_type": "markdown",
      "source": [
        "## Analysing the train dataset\n"
      ],
      "metadata": {
        "id": "jl9ut0u40fB9"
      }
    },
    {
      "cell_type": "code",
      "source": [
        "files.head(10)"
      ],
      "metadata": {
        "colab": {
          "base_uri": "https://localhost:8080/",
          "height": 363
        },
        "id": "pH0eId9a0Z-0",
        "outputId": "38a6efd6-255f-4498-931f-bcdfe1a24c77"
      },
      "execution_count": 2,
      "outputs": [
        {
          "output_type": "execute_result",
          "data": {
            "text/html": [
              "\n",
              "  <div id=\"df-95cb6ec9-abb2-42ed-9d2a-cf0dd78c4cf5\">\n",
              "    <div class=\"colab-df-container\">\n",
              "      <div>\n",
              "<style scoped>\n",
              "    .dataframe tbody tr th:only-of-type {\n",
              "        vertical-align: middle;\n",
              "    }\n",
              "\n",
              "    .dataframe tbody tr th {\n",
              "        vertical-align: top;\n",
              "    }\n",
              "\n",
              "    .dataframe thead th {\n",
              "        text-align: right;\n",
              "    }\n",
              "</style>\n",
              "<table border=\"1\" class=\"dataframe\">\n",
              "  <thead>\n",
              "    <tr style=\"text-align: right;\">\n",
              "      <th></th>\n",
              "      <th>filename</th>\n",
              "      <th>consolidation</th>\n",
              "      <th>consolidation-left</th>\n",
              "      <th>consolidation-right</th>\n",
              "    </tr>\n",
              "  </thead>\n",
              "  <tbody>\n",
              "    <tr>\n",
              "      <th>0</th>\n",
              "      <td>19047</td>\n",
              "      <td>0</td>\n",
              "      <td>0</td>\n",
              "      <td>0</td>\n",
              "    </tr>\n",
              "    <tr>\n",
              "      <th>1</th>\n",
              "      <td>17924</td>\n",
              "      <td>0</td>\n",
              "      <td>0</td>\n",
              "      <td>0</td>\n",
              "    </tr>\n",
              "    <tr>\n",
              "      <th>2</th>\n",
              "      <td>11658</td>\n",
              "      <td>0</td>\n",
              "      <td>0</td>\n",
              "      <td>0</td>\n",
              "    </tr>\n",
              "    <tr>\n",
              "      <th>3</th>\n",
              "      <td>10733</td>\n",
              "      <td>0</td>\n",
              "      <td>0</td>\n",
              "      <td>0</td>\n",
              "    </tr>\n",
              "    <tr>\n",
              "      <th>4</th>\n",
              "      <td>15041</td>\n",
              "      <td>0</td>\n",
              "      <td>0</td>\n",
              "      <td>0</td>\n",
              "    </tr>\n",
              "    <tr>\n",
              "      <th>5</th>\n",
              "      <td>16966</td>\n",
              "      <td>0</td>\n",
              "      <td>0</td>\n",
              "      <td>0</td>\n",
              "    </tr>\n",
              "    <tr>\n",
              "      <th>6</th>\n",
              "      <td>14833</td>\n",
              "      <td>0</td>\n",
              "      <td>0</td>\n",
              "      <td>0</td>\n",
              "    </tr>\n",
              "    <tr>\n",
              "      <th>7</th>\n",
              "      <td>18117</td>\n",
              "      <td>0</td>\n",
              "      <td>0</td>\n",
              "      <td>0</td>\n",
              "    </tr>\n",
              "    <tr>\n",
              "      <th>8</th>\n",
              "      <td>485</td>\n",
              "      <td>1</td>\n",
              "      <td>0</td>\n",
              "      <td>1</td>\n",
              "    </tr>\n",
              "    <tr>\n",
              "      <th>9</th>\n",
              "      <td>10458</td>\n",
              "      <td>0</td>\n",
              "      <td>0</td>\n",
              "      <td>0</td>\n",
              "    </tr>\n",
              "  </tbody>\n",
              "</table>\n",
              "</div>\n",
              "      <button class=\"colab-df-convert\" onclick=\"convertToInteractive('df-95cb6ec9-abb2-42ed-9d2a-cf0dd78c4cf5')\"\n",
              "              title=\"Convert this dataframe to an interactive table.\"\n",
              "              style=\"display:none;\">\n",
              "        \n",
              "  <svg xmlns=\"http://www.w3.org/2000/svg\" height=\"24px\"viewBox=\"0 0 24 24\"\n",
              "       width=\"24px\">\n",
              "    <path d=\"M0 0h24v24H0V0z\" fill=\"none\"/>\n",
              "    <path d=\"M18.56 5.44l.94 2.06.94-2.06 2.06-.94-2.06-.94-.94-2.06-.94 2.06-2.06.94zm-11 1L8.5 8.5l.94-2.06 2.06-.94-2.06-.94L8.5 2.5l-.94 2.06-2.06.94zm10 10l.94 2.06.94-2.06 2.06-.94-2.06-.94-.94-2.06-.94 2.06-2.06.94z\"/><path d=\"M17.41 7.96l-1.37-1.37c-.4-.4-.92-.59-1.43-.59-.52 0-1.04.2-1.43.59L10.3 9.45l-7.72 7.72c-.78.78-.78 2.05 0 2.83L4 21.41c.39.39.9.59 1.41.59.51 0 1.02-.2 1.41-.59l7.78-7.78 2.81-2.81c.8-.78.8-2.07 0-2.86zM5.41 20L4 18.59l7.72-7.72 1.47 1.35L5.41 20z\"/>\n",
              "  </svg>\n",
              "      </button>\n",
              "      \n",
              "  <style>\n",
              "    .colab-df-container {\n",
              "      display:flex;\n",
              "      flex-wrap:wrap;\n",
              "      gap: 12px;\n",
              "    }\n",
              "\n",
              "    .colab-df-convert {\n",
              "      background-color: #E8F0FE;\n",
              "      border: none;\n",
              "      border-radius: 50%;\n",
              "      cursor: pointer;\n",
              "      display: none;\n",
              "      fill: #1967D2;\n",
              "      height: 32px;\n",
              "      padding: 0 0 0 0;\n",
              "      width: 32px;\n",
              "    }\n",
              "\n",
              "    .colab-df-convert:hover {\n",
              "      background-color: #E2EBFA;\n",
              "      box-shadow: 0px 1px 2px rgba(60, 64, 67, 0.3), 0px 1px 3px 1px rgba(60, 64, 67, 0.15);\n",
              "      fill: #174EA6;\n",
              "    }\n",
              "\n",
              "    [theme=dark] .colab-df-convert {\n",
              "      background-color: #3B4455;\n",
              "      fill: #D2E3FC;\n",
              "    }\n",
              "\n",
              "    [theme=dark] .colab-df-convert:hover {\n",
              "      background-color: #434B5C;\n",
              "      box-shadow: 0px 1px 3px 1px rgba(0, 0, 0, 0.15);\n",
              "      filter: drop-shadow(0px 1px 2px rgba(0, 0, 0, 0.3));\n",
              "      fill: #FFFFFF;\n",
              "    }\n",
              "  </style>\n",
              "\n",
              "      <script>\n",
              "        const buttonEl =\n",
              "          document.querySelector('#df-95cb6ec9-abb2-42ed-9d2a-cf0dd78c4cf5 button.colab-df-convert');\n",
              "        buttonEl.style.display =\n",
              "          google.colab.kernel.accessAllowed ? 'block' : 'none';\n",
              "\n",
              "        async function convertToInteractive(key) {\n",
              "          const element = document.querySelector('#df-95cb6ec9-abb2-42ed-9d2a-cf0dd78c4cf5');\n",
              "          const dataTable =\n",
              "            await google.colab.kernel.invokeFunction('convertToInteractive',\n",
              "                                                     [key], {});\n",
              "          if (!dataTable) return;\n",
              "\n",
              "          const docLinkHtml = 'Like what you see? Visit the ' +\n",
              "            '<a target=\"_blank\" href=https://colab.research.google.com/notebooks/data_table.ipynb>data table notebook</a>'\n",
              "            + ' to learn more about interactive tables.';\n",
              "          element.innerHTML = '';\n",
              "          dataTable['output_type'] = 'display_data';\n",
              "          await google.colab.output.renderOutput(dataTable, element);\n",
              "          const docLink = document.createElement('div');\n",
              "          docLink.innerHTML = docLinkHtml;\n",
              "          element.appendChild(docLink);\n",
              "        }\n",
              "      </script>\n",
              "    </div>\n",
              "  </div>\n",
              "  "
            ],
            "text/plain": [
              "   filename  consolidation  consolidation-left  consolidation-right\n",
              "0     19047              0                   0                    0\n",
              "1     17924              0                   0                    0\n",
              "2     11658              0                   0                    0\n",
              "3     10733              0                   0                    0\n",
              "4     15041              0                   0                    0\n",
              "5     16966              0                   0                    0\n",
              "6     14833              0                   0                    0\n",
              "7     18117              0                   0                    0\n",
              "8       485              1                   0                    1\n",
              "9     10458              0                   0                    0"
            ]
          },
          "metadata": {},
          "execution_count": 2
        }
      ]
    },
    {
      "cell_type": "markdown",
      "source": [
        "# Visualization of the dataset"
      ],
      "metadata": {
        "id": "dkitXtdXbNO2"
      }
    },
    {
      "cell_type": "code",
      "source": [
        "sns.barplot(['No consolidation', 'Consolidation'],files['consolidation'].value_counts())"
      ],
      "metadata": {
        "colab": {
          "base_uri": "https://localhost:8080/",
          "height": 337
        },
        "id": "Yds6v9Wf0h2p",
        "outputId": "b3dc81cc-30e8-4393-d314-266e81a211fe"
      },
      "execution_count": 3,
      "outputs": [
        {
          "output_type": "stream",
          "name": "stderr",
          "text": [
            "/usr/local/lib/python3.7/dist-packages/seaborn/_decorators.py:43: FutureWarning: Pass the following variables as keyword args: x, y. From version 0.12, the only valid positional argument will be `data`, and passing other arguments without an explicit keyword will result in an error or misinterpretation.\n",
            "  FutureWarning\n"
          ]
        },
        {
          "output_type": "execute_result",
          "data": {
            "text/plain": [
              "<matplotlib.axes._subplots.AxesSubplot at 0x7f9506fa19d0>"
            ]
          },
          "metadata": {},
          "execution_count": 3
        },
        {
          "output_type": "display_data",
          "data": {
            "image/png": "[encoded data removed]",
            "text/plain": [
              "<Figure size 432x288 with 1 Axes>"
            ]
          },
          "metadata": {
            "needs_background": "light"
          }
        }
      ]
    },
    {
      "cell_type": "code",
      "source": [
        "left=0\n",
        "right=0\n",
        "both=0\n",
        "\n",
        "for i,row in files.iterrows():\n",
        "  if ((row['consolidation-left']==1) & (row['consolidation-right']==1)):\n",
        "    both+=1\n",
        "  elif (row['consolidation-left']==1) :\n",
        "    left+=1\n",
        "  elif (row['consolidation-right']==1):\n",
        "    right+=1\n",
        "\n",
        "sns.barplot(['Left','Right','Both'],[left,right,both])"
      ],
      "metadata": {
        "colab": {
          "base_uri": "https://localhost:8080/",
          "height": 337
        },
        "id": "hSZso2wp0hyu",
        "outputId": "5fcd7177-ac20-4441-bc08-1158045b3ae3"
      },
      "execution_count": 4,
      "outputs": [
        {
          "output_type": "stream",
          "name": "stderr",
          "text": [
            "/usr/local/lib/python3.7/dist-packages/seaborn/_decorators.py:43: FutureWarning: Pass the following variables as keyword args: x, y. From version 0.12, the only valid positional argument will be `data`, and passing other arguments without an explicit keyword will result in an error or misinterpretation.\n",
            "  FutureWarning\n"
          ]
        },
        {
          "output_type": "execute_result",
          "data": {
            "text/plain": [
              "<matplotlib.axes._subplots.AxesSubplot at 0x7f94ec7af090>"
            ]
          },
          "metadata": {},
          "execution_count": 4
        },
        {
          "output_type": "display_data",
          "data": {
            "image/png": "[encoded data removed]",
            "text/plain": [
              "<Figure size 432x288 with 1 Axes>"
            ]
          },
          "metadata": {
            "needs_background": "light"
          }
        }
      ]
    },
    {
      "cell_type": "markdown",
      "source": [
        "- It can be seen that there is a high imbalance in dataset. \n",
        "- Inorder to balance this we can either create images synthetically or drop a few of the negative images \n",
        "- Inorder to get a balanced dataset, we will be taking all of the positive images and same number of negative xrays which are randomly sampled\n"
      ],
      "metadata": {
        "id": "P6-Gog1mbQk_"
      }
    },
    {
      "cell_type": "code",
      "source": [
        "positive_files=files[files['consolidation']==1]['filename'].index\n",
        "negative_files=files[files['consolidation']==0]['filename'].index\n",
        "print(len(negative_files) ,'  negative files')\n",
        "print(len(positive_files) ,' positive files')"
      ],
      "metadata": {
        "colab": {
          "base_uri": "https://localhost:8080/"
        },
        "id": "0FFLVgS50hqW",
        "outputId": "3697c284-9c5c-4c92-953b-170b31b871fc"
      },
      "execution_count": 5,
      "outputs": [
        {
          "output_type": "stream",
          "name": "stdout",
          "text": [
            "11726   negative files\n",
            "4274  positive files\n"
          ]
        }
      ]
    },
    {
      "cell_type": "code",
      "source": [
        "negative_files=random.sample(list(negative_files),len(positive_files))\n",
        "print(len(negative_files) ,'  negative files after balancing')\n",
        "print(len(positive_files) ,' positive files after balancing')"
      ],
      "metadata": {
        "colab": {
          "base_uri": "https://localhost:8080/"
        },
        "id": "6CMGad9_bpnN",
        "outputId": "afe417f3-3ba3-4735-c1a1-40d2b364782e"
      },
      "execution_count": 6,
      "outputs": [
        {
          "output_type": "stream",
          "name": "stdout",
          "text": [
            "4274   negative files after balancing\n",
            "4274  positive files after balancing\n"
          ]
        }
      ]
    },
    {
      "cell_type": "code",
      "source": [
        "xray_files=np.append(positive_files,negative_files)\n",
        "del positive_files\n",
        "del negative_files\n",
        "print(len(xray_files), 'training samples will be used')"
      ],
      "metadata": {
        "colab": {
          "base_uri": "https://localhost:8080/"
        },
        "id": "mRvSpXPxcYzm",
        "outputId": "a6714c52-7833-49f6-9548-91b4799ffdd5"
      },
      "execution_count": 7,
      "outputs": [
        {
          "output_type": "stream",
          "name": "stdout",
          "text": [
            "8548 training samples will be used\n"
          ]
        }
      ]
    },
    {
      "cell_type": "code",
      "source": [
        "from sklearn.utils import shuffle\n",
        "xray_files=shuffle(xray_files)\n",
        "train=xray_files[0:int(len(xray_files)*0.8)]\n",
        "test=xray_files[int(len(xray_files)*0.8):]\n",
        "\n",
        "print('Train data : ',len(train))\n",
        "print('Test data: ',len(test))"
      ],
      "metadata": {
        "colab": {
          "base_uri": "https://localhost:8080/"
        },
        "id": "PdqUoXMedLr_",
        "outputId": "393ec7a3-a1f1-4ca7-c5a6-291775ae3296"
      },
      "execution_count": 8,
      "outputs": [
        {
          "output_type": "stream",
          "name": "stdout",
          "text": [
            "Train data :  6838\n",
            "Test data:  1710\n"
          ]
        }
      ]
    },
    {
      "cell_type": "code",
      "source": [
        "train_df = files.iloc[train]\n",
        "test_df = files.iloc[test]"
      ],
      "metadata": {
        "id": "s9Hzshj9ctWc"
      },
      "execution_count": 9,
      "outputs": []
    },
    {
      "cell_type": "code",
      "source": [
        "train_df.head()"
      ],
      "metadata": {
        "colab": {
          "base_uri": "https://localhost:8080/",
          "height": 206
        },
        "id": "DB8obnicgemv",
        "outputId": "84e61cb0-c05c-47b9-89e9-88b49ea8f0a0"
      },
      "execution_count": 12,
      "outputs": [
        {
          "output_type": "execute_result",
          "data": {
            "text/html": [
              "\n",
              "  <div id=\"df-dd8c2839-24ef-4f87-b5d5-c11b6f26fe4d\">\n",
              "    <div class=\"colab-df-container\">\n",
              "      <div>\n",
              "<style scoped>\n",
              "    .dataframe tbody tr th:only-of-type {\n",
              "        vertical-align: middle;\n",
              "    }\n",
              "\n",
              "    .dataframe tbody tr th {\n",
              "        vertical-align: top;\n",
              "    }\n",
              "\n",
              "    .dataframe thead th {\n",
              "        text-align: right;\n",
              "    }\n",
              "</style>\n",
              "<table border=\"1\" class=\"dataframe\">\n",
              "  <thead>\n",
              "    <tr style=\"text-align: right;\">\n",
              "      <th></th>\n",
              "      <th>filename</th>\n",
              "      <th>consolidation</th>\n",
              "      <th>consolidation-left</th>\n",
              "      <th>consolidation-right</th>\n",
              "    </tr>\n",
              "  </thead>\n",
              "  <tbody>\n",
              "    <tr>\n",
              "      <th>14086</th>\n",
              "      <td>3944</td>\n",
              "      <td>1</td>\n",
              "      <td>0</td>\n",
              "      <td>1</td>\n",
              "    </tr>\n",
              "    <tr>\n",
              "      <th>14976</th>\n",
              "      <td>8768</td>\n",
              "      <td>1</td>\n",
              "      <td>0</td>\n",
              "      <td>1</td>\n",
              "    </tr>\n",
              "    <tr>\n",
              "      <th>15167</th>\n",
              "      <td>4169</td>\n",
              "      <td>1</td>\n",
              "      <td>0</td>\n",
              "      <td>1</td>\n",
              "    </tr>\n",
              "    <tr>\n",
              "      <th>1086</th>\n",
              "      <td>5757</td>\n",
              "      <td>0</td>\n",
              "      <td>0</td>\n",
              "      <td>0</td>\n",
              "    </tr>\n",
              "    <tr>\n",
              "      <th>2335</th>\n",
              "      <td>18985</td>\n",
              "      <td>0</td>\n",
              "      <td>0</td>\n",
              "      <td>0</td>\n",
              "    </tr>\n",
              "  </tbody>\n",
              "</table>\n",
              "</div>\n",
              "      <button class=\"colab-df-convert\" onclick=\"convertToInteractive('df-dd8c2839-24ef-4f87-b5d5-c11b6f26fe4d')\"\n",
              "              title=\"Convert this dataframe to an interactive table.\"\n",
              "              style=\"display:none;\">\n",
              "        \n",
              "  <svg xmlns=\"http://www.w3.org/2000/svg\" height=\"24px\"viewBox=\"0 0 24 24\"\n",
              "       width=\"24px\">\n",
              "    <path d=\"M0 0h24v24H0V0z\" fill=\"none\"/>\n",
              "    <path d=\"M18.56 5.44l.94 2.06.94-2.06 2.06-.94-2.06-.94-.94-2.06-.94 2.06-2.06.94zm-11 1L8.5 8.5l.94-2.06 2.06-.94-2.06-.94L8.5 2.5l-.94 2.06-2.06.94zm10 10l.94 2.06.94-2.06 2.06-.94-2.06-.94-.94-2.06-.94 2.06-2.06.94z\"/><path d=\"M17.41 7.96l-1.37-1.37c-.4-.4-.92-.59-1.43-.59-.52 0-1.04.2-1.43.59L10.3 9.45l-7.72 7.72c-.78.78-.78 2.05 0 2.83L4 21.41c.39.39.9.59 1.41.59.51 0 1.02-.2 1.41-.59l7.78-7.78 2.81-2.81c.8-.78.8-2.07 0-2.86zM5.41 20L4 18.59l7.72-7.72 1.47 1.35L5.41 20z\"/>\n",
              "  </svg>\n",
              "      </button>\n",
              "      \n",
              "  <style>\n",
              "    .colab-df-container {\n",
              "      display:flex;\n",
              "      flex-wrap:wrap;\n",
              "      gap: 12px;\n",
              "    }\n",
              "\n",
              "    .colab-df-convert {\n",
              "      background-color: #E8F0FE;\n",
              "      border: none;\n",
              "      border-radius: 50%;\n",
              "      cursor: pointer;\n",
              "      display: none;\n",
              "      fill: #1967D2;\n",
              "      height: 32px;\n",
              "      padding: 0 0 0 0;\n",
              "      width: 32px;\n",
              "    }\n",
              "\n",
              "    .colab-df-convert:hover {\n",
              "      background-color: #E2EBFA;\n",
              "      box-shadow: 0px 1px 2px rgba(60, 64, 67, 0.3), 0px 1px 3px 1px rgba(60, 64, 67, 0.15);\n",
              "      fill: #174EA6;\n",
              "    }\n",
              "\n",
              "    [theme=dark] .colab-df-convert {\n",
              "      background-color: #3B4455;\n",
              "      fill: #D2E3FC;\n",
              "    }\n",
              "\n",
              "    [theme=dark] .colab-df-convert:hover {\n",
              "      background-color: #434B5C;\n",
              "      box-shadow: 0px 1px 3px 1px rgba(0, 0, 0, 0.15);\n",
              "      filter: drop-shadow(0px 1px 2px rgba(0, 0, 0, 0.3));\n",
              "      fill: #FFFFFF;\n",
              "    }\n",
              "  </style>\n",
              "\n",
              "      <script>\n",
              "        const buttonEl =\n",
              "          document.querySelector('#df-dd8c2839-24ef-4f87-b5d5-c11b6f26fe4d button.colab-df-convert');\n",
              "        buttonEl.style.display =\n",
              "          google.colab.kernel.accessAllowed ? 'block' : 'none';\n",
              "\n",
              "        async function convertToInteractive(key) {\n",
              "          const element = document.querySelector('#df-dd8c2839-24ef-4f87-b5d5-c11b6f26fe4d');\n",
              "          const dataTable =\n",
              "            await google.colab.kernel.invokeFunction('convertToInteractive',\n",
              "                                                     [key], {});\n",
              "          if (!dataTable) return;\n",
              "\n",
              "          const docLinkHtml = 'Like what you see? Visit the ' +\n",
              "            '<a target=\"_blank\" href=https://colab.research.google.com/notebooks/data_table.ipynb>data table notebook</a>'\n",
              "            + ' to learn more about interactive tables.';\n",
              "          element.innerHTML = '';\n",
              "          dataTable['output_type'] = 'display_data';\n",
              "          await google.colab.output.renderOutput(dataTable, element);\n",
              "          const docLink = document.createElement('div');\n",
              "          docLink.innerHTML = docLinkHtml;\n",
              "          element.appendChild(docLink);\n",
              "        }\n",
              "      </script>\n",
              "    </div>\n",
              "  </div>\n",
              "  "
            ],
            "text/plain": [
              "       filename  consolidation  consolidation-left  consolidation-right\n",
              "14086      3944              1                   0                    1\n",
              "14976      8768              1                   0                    1\n",
              "15167      4169              1                   0                    1\n",
              "1086       5757              0                   0                    0\n",
              "2335      18985              0                   0                    0"
            ]
          },
          "metadata": {},
          "execution_count": 12
        }
      ]
    },
    {
      "cell_type": "code",
      "source": [
        "filenames=train_df['filename'].values\n",
        "images=[]\n",
        "binary=[]\n",
        "detailed=[]\n",
        "file_path='cxr_plaksha_assignment_qure/'\n",
        "for file in tqdm(filenames):\n",
        "  file_name=str(file)+'.png'\n",
        "  try:\n",
        "      image=cv2.imread(file_path+file_name)\n",
        "      image= cv2.resize(image,(400,400))\n",
        "      image_array=np.array(image)\n",
        "      images.append(image_array)\n",
        "      binary.append(train_df[train_df['filename']==file]['consolidation'].values[0])\n",
        "      detailed.append([train_df[train_df['filename']==file]['consolidation-left'].values[0],train_df[train_df['filename']==file]['consolidation-right'].values[0]])\n",
        "  except:\n",
        "      print(file,' not found')\n",
        "np.savez('/content/drive/MyDrive/Colab Notebooks/Covid Chest Xray/train.npz',data=np.array(images),label=np.array(binary),consolidation=np.array(detailed))"
      ],
      "metadata": {
        "colab": {
          "base_uri": "https://localhost:8080/"
        },
        "id": "7j-ftAa8eHKW",
        "outputId": "9a379b14-423c-47f2-8804-aee0e3dec11f"
      },
      "execution_count": 36,
      "outputs": [
        {
          "output_type": "stream",
          "name": "stderr",
          "text": [
            "100%|██████████| 6838/6838 [04:21<00:00, 26.10it/s]\n"
          ]
        }
      ]
    },
    {
      "cell_type": "code",
      "source": [
        "filenames=test_df['filename'].values\n",
        "images=[]\n",
        "binary=[]\n",
        "detailed=[]\n",
        "file_path='cxr_plaksha_assignment_qure/'\n",
        "for file in tqdm(filenames):\n",
        "  file_name=str(file)+'.png'\n",
        "  try:\n",
        "      image=cv2.imread(file_path+file_name)\n",
        "      image= cv2.resize(image,(400,400))\n",
        "      image_array=np.array(image)\n",
        "      images.append(image_array)\n",
        "      binary.append(test_df[test_df['filename']==file]['consolidation'].values[0])\n",
        "      detailed.append([test_df[test_df['filename']==file]['consolidation-left'].values[0],test_df[test_df['filename']==file]['consolidation-right'].values[0]])\n",
        "  except:\n",
        "      print(file,' not found')\n",
        "np.savez('test.npz',data=np.array(images),label=np.array(binary),consolidation=np.array(detailed))"
      ],
      "metadata": {
        "colab": {
          "base_uri": "https://localhost:8080/"
        },
        "id": "_0x5uMGpi8qI",
        "outputId": "815bc7e1-00c9-4486-e6e4-c66f5395d261"
      },
      "execution_count": 32,
      "outputs": [
        {
          "output_type": "stream",
          "name": "stderr",
          "text": [
            "100%|██████████| 1710/1710 [00:56<00:00, 30.12it/s]\n"
          ]
        }
      ]
    },
    {
      "cell_type": "markdown",
      "source": [
        "### Saving the npz files to google drive"
      ],
      "metadata": {
        "id": "Hh8o6sG1Qfb8"
      }
    },
    {
      "cell_type": "code",
      "source": [
        "from google.colab import drive\n",
        "drive.mount('/content/drive')"
      ],
      "metadata": {
        "id": "recKRxV7q3n6",
        "colab": {
          "base_uri": "https://localhost:8080/"
        },
        "outputId": "625f31b9-2f17-4eca-8efd-606baa4fce12"
      },
      "execution_count": 33,
      "outputs": [
        {
          "output_type": "stream",
          "name": "stdout",
          "text": [
            "Mounted at /content/drive\n"
          ]
        }
      ]
    },
    {
      "cell_type": "code",
      "source": [
        "import os\n",
        "for file in tqdm(os.listdir()):\n",
        "  try:\n",
        "    if file.split('.')[1]=='npz':\n",
        "      shutil.copy(file,'/content/drive/MyDrive/Colab Notebooks/Covid Chest Xray')\n",
        "  except:\n",
        "    pass"
      ],
      "metadata": {
        "colab": {
          "base_uri": "https://localhost:8080/"
        },
        "id": "Q7sBuEwnyJUg",
        "outputId": "b373c0c7-75bf-45ac-f751-0e3aff7d3790"
      },
      "execution_count": 34,
      "outputs": [
        {
          "output_type": "stream",
          "name": "stderr",
          "text": [
            "100%|██████████| 8/8 [00:31<00:00,  3.97s/it]\n"
          ]
        }
      ]
    },
    {
      "cell_type": "markdown",
      "source": [
        "## Misc\n"
      ],
      "metadata": {
        "id": "RTDd2y8sXsAu"
      }
    },
    {
      "cell_type": "code",
      "source": [
        "# # Seperating the test dataset\n",
        "\n",
        "# file_list=files['filename']\n",
        "# import os\n",
        "# images=[]\n",
        "# for file in os.listdir('/content/cxr_plaksha_assignment_qure'):\n",
        "#   try:\n",
        "#     if file.split('.')[1]=='png':\n",
        "#       if file.split('.')[0] not in file_list:\n",
        "#         images.append(str(file))\n",
        "#   except:\n",
        "#     print(file)\n",
        "# np.savez('test_images.npz',data=images)"
      ],
      "metadata": {
        "id": "A4kHjcq4bKUc"
      },
      "execution_count": null,
      "outputs": []
    }
  ]
}