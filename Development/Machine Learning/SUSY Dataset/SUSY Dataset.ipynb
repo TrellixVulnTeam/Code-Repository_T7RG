{
  "nbformat": 4,
  "nbformat_minor": 0,
  "metadata": {
    "kernelspec": {
      "language": "python",
      "display_name": "Python 3",
      "name": "python3"
    },
    "language_info": {
      "name": "python",
      "version": "3.7.10",
      "mimetype": "text/x-python",
      "codemirror_mode": {
        "name": "ipython",
        "version": 3
      },
      "pygments_lexer": "ipython3",
      "nbconvert_exporter": "python",
      "file_extension": ".py"
    },
    "colab": {
      "name": "Final Submission.ipynb",
      "provenance": [],
      "collapsed_sections": [
        "0Py5TBthJT9-"
      ],
      "include_colab_link": true
    }
  },
  "cells": [
    {
      "cell_type": "markdown",
      "metadata": {
        "id": "view-in-github",
        "colab_type": "text"
      },
      "source": [
        "<a href=\"https://colab.research.google.com/github/sandheepgopinath/MachineLearning/blob/master/Final_Submission.ipynb\" target=\"_parent\"><img src=\"https://colab.research.google.com/assets/colab-badge.svg\" alt=\"Open In Colab\"/></a>"
      ]
    },
    {
      "cell_type": "markdown",
      "metadata": {
        "id": "O6jGn4Cvujh0"
      },
      "source": [
        "## Mounting the drive and navigating to the folder"
      ]
    },
    {
      "cell_type": "code",
      "metadata": {
        "id": "JrxNeXbb9Knh",
        "execution": {
          "iopub.status.busy": "2021-11-29T05:29:53.374357Z",
          "iopub.execute_input": "2021-11-29T05:29:53.374838Z",
          "iopub.status.idle": "2021-11-29T05:29:53.404061Z",
          "shell.execute_reply.started": "2021-11-29T05:29:53.374741Z",
          "shell.execute_reply": "2021-11-29T05:29:53.403276Z"
        },
        "trusted": true,
        "colab": {
          "base_uri": "https://localhost:8080/"
        },
        "outputId": "2c59a73f-c754-48b2-e886-3d7eb8c65894"
      },
      "source": [
        "from google.colab import drive\n",
        "drive.mount(\"/gdrive\")\n",
        "\n",
        "\n"
      ],
      "execution_count": 1,
      "outputs": [
        {
          "output_type": "stream",
          "name": "stdout",
          "text": [
            "Drive already mounted at /gdrive; to attempt to forcibly remount, call drive.mount(\"/gdrive\", force_remount=True).\n"
          ]
        }
      ]
    },
    {
      "cell_type": "code",
      "metadata": {
        "colab": {
          "base_uri": "https://localhost:8080/"
        },
        "id": "Pyl8fhamRFaW",
        "outputId": "6a8cc493-2318-485f-daac-c6b7f9a00a7c"
      },
      "source": [
        "cd \"/gdrive/MyDrive/Colab Notebooks/Project\"\n"
      ],
      "execution_count": 2,
      "outputs": [
        {
          "output_type": "stream",
          "name": "stdout",
          "text": [
            "/gdrive/MyDrive/Colab Notebooks/Project\n"
          ]
        }
      ]
    },
    {
      "cell_type": "markdown",
      "metadata": {
        "id": "o984VtbOu1tD"
      },
      "source": [
        "### Loading all the libraries"
      ]
    },
    {
      "cell_type": "code",
      "metadata": {
        "id": "bS7dMjAH8_-q",
        "execution": {
          "iopub.status.busy": "2021-11-29T05:30:52.838697Z",
          "iopub.execute_input": "2021-11-29T05:30:52.839030Z",
          "iopub.status.idle": "2021-11-29T05:30:54.339847Z",
          "shell.execute_reply.started": "2021-11-29T05:30:52.838995Z",
          "shell.execute_reply": "2021-11-29T05:30:54.338766Z"
        },
        "trusted": true
      },
      "source": [
        "import pandas as pd\n",
        "import numpy as np\n",
        "import matplotlib.pyplot as plt\n",
        "import seaborn as sns\n",
        "from sklearn.model_selection import train_test_split\n",
        "from scipy.stats import zscore\n",
        "from sklearn.linear_model import LogisticRegression\n",
        "from sklearn.neighbors import KNeighborsClassifier\n",
        "import time\n",
        "import pandas as pd\n",
        "from sklearn.model_selection import KFold\n",
        "from sklearn.model_selection import RandomizedSearchCV\n",
        "from sklearn.naive_bayes import GaussianNB\n",
        "from sklearn.tree import DecisionTreeClassifier\n",
        "from sklearn.ensemble import BaggingClassifier\n",
        "from sklearn.neural_network import MLPClassifier"
      ],
      "execution_count": 33,
      "outputs": []
    },
    {
      "cell_type": "markdown",
      "metadata": {
        "id": "VtrWjnr1vOMD"
      },
      "source": [
        "### Reading the file"
      ]
    },
    {
      "cell_type": "code",
      "metadata": {
        "id": "ZOVk-8cd9B3y",
        "execution": {
          "iopub.status.busy": "2021-11-29T05:30:54.341589Z",
          "iopub.execute_input": "2021-11-29T05:30:54.341811Z",
          "iopub.status.idle": "2021-11-29T05:31:19.038744Z",
          "shell.execute_reply.started": "2021-11-29T05:30:54.341784Z",
          "shell.execute_reply": "2021-11-29T05:31:19.037750Z"
        },
        "trusted": true
      },
      "source": [
        "train_data=pd.read_csv('train.csv')"
      ],
      "execution_count": 4,
      "outputs": []
    },
    {
      "cell_type": "code",
      "metadata": {
        "id": "Xf_W2pFivuwe",
        "execution": {
          "iopub.status.busy": "2021-11-29T05:31:19.040143Z",
          "iopub.execute_input": "2021-11-29T05:31:19.040496Z",
          "iopub.status.idle": "2021-11-29T05:31:19.077263Z",
          "shell.execute_reply.started": "2021-11-29T05:31:19.040452Z",
          "shell.execute_reply": "2021-11-29T05:31:19.076271Z"
        },
        "trusted": true,
        "colab": {
          "base_uri": "https://localhost:8080/",
          "height": 181
        },
        "outputId": "9900f825-78d6-4952-a293-dd8fe1b7841d"
      },
      "source": [
        "train_data.head(3)"
      ],
      "execution_count": 5,
      "outputs": [
        {
          "output_type": "execute_result",
          "data": {
            "text/html": [
              "<div>\n",
              "<style scoped>\n",
              "    .dataframe tbody tr th:only-of-type {\n",
              "        vertical-align: middle;\n",
              "    }\n",
              "\n",
              "    .dataframe tbody tr th {\n",
              "        vertical-align: top;\n",
              "    }\n",
              "\n",
              "    .dataframe thead th {\n",
              "        text-align: right;\n",
              "    }\n",
              "</style>\n",
              "<table border=\"1\" class=\"dataframe\">\n",
              "  <thead>\n",
              "    <tr style=\"text-align: right;\">\n",
              "      <th></th>\n",
              "      <th>Unnamed: 0</th>\n",
              "      <th>lepton_1_pT</th>\n",
              "      <th>lepton_1_eta</th>\n",
              "      <th>lepton_1_phi</th>\n",
              "      <th>lepton_2_pT</th>\n",
              "      <th>lepton_2_eta</th>\n",
              "      <th>lepton_2_phi</th>\n",
              "      <th>missing_energy_magnitude</th>\n",
              "      <th>missing_energy_phi</th>\n",
              "      <th>MET_rel</th>\n",
              "      <th>axial_MET</th>\n",
              "      <th>M_R</th>\n",
              "      <th>M_TR_2</th>\n",
              "      <th>R</th>\n",
              "      <th>MT2</th>\n",
              "      <th>S_R</th>\n",
              "      <th>M_Delta_R</th>\n",
              "      <th>dPhi_r_b</th>\n",
              "      <th>cos(theta_r1)</th>\n",
              "      <th>class</th>\n",
              "    </tr>\n",
              "  </thead>\n",
              "  <tbody>\n",
              "    <tr>\n",
              "      <th>0</th>\n",
              "      <td>0</td>\n",
              "      <td>0.841381</td>\n",
              "      <td>1.832647</td>\n",
              "      <td>-0.689286</td>\n",
              "      <td>0.781839</td>\n",
              "      <td>0.572864</td>\n",
              "      <td>1.577097</td>\n",
              "      <td>0.398978</td>\n",
              "      <td>-0.683847</td>\n",
              "      <td>0.001826</td>\n",
              "      <td>0.651397</td>\n",
              "      <td>0.865560</td>\n",
              "      <td>0.429017</td>\n",
              "      <td>0.439840</td>\n",
              "      <td>0.0</td>\n",
              "      <td>0.796105</td>\n",
              "      <td>0.342497</td>\n",
              "      <td>0.461542</td>\n",
              "      <td>0.005710</td>\n",
              "      <td>0.0</td>\n",
              "    </tr>\n",
              "    <tr>\n",
              "      <th>1</th>\n",
              "      <td>1</td>\n",
              "      <td>0.663798</td>\n",
              "      <td>2.058290</td>\n",
              "      <td>0.681435</td>\n",
              "      <td>1.054036</td>\n",
              "      <td>0.575352</td>\n",
              "      <td>-1.001445</td>\n",
              "      <td>0.462154</td>\n",
              "      <td>-0.833411</td>\n",
              "      <td>0.199734</td>\n",
              "      <td>0.215158</td>\n",
              "      <td>0.949988</td>\n",
              "      <td>0.618046</td>\n",
              "      <td>0.577324</td>\n",
              "      <td>0.0</td>\n",
              "      <td>0.962927</td>\n",
              "      <td>0.333800</td>\n",
              "      <td>1.455247</td>\n",
              "      <td>0.101246</td>\n",
              "      <td>0.0</td>\n",
              "    </tr>\n",
              "    <tr>\n",
              "      <th>2</th>\n",
              "      <td>2</td>\n",
              "      <td>1.792225</td>\n",
              "      <td>-1.099978</td>\n",
              "      <td>0.088109</td>\n",
              "      <td>0.573157</td>\n",
              "      <td>-0.472629</td>\n",
              "      <td>1.642084</td>\n",
              "      <td>1.203374</td>\n",
              "      <td>1.506731</td>\n",
              "      <td>0.457695</td>\n",
              "      <td>-0.640507</td>\n",
              "      <td>1.157024</td>\n",
              "      <td>1.585432</td>\n",
              "      <td>1.215963</td>\n",
              "      <td>0.0</td>\n",
              "      <td>1.113292</td>\n",
              "      <td>0.645729</td>\n",
              "      <td>0.721326</td>\n",
              "      <td>0.613326</td>\n",
              "      <td>1.0</td>\n",
              "    </tr>\n",
              "  </tbody>\n",
              "</table>\n",
              "</div>"
            ],
            "text/plain": [
              "   Unnamed: 0  lepton_1_pT  lepton_1_eta  ...  dPhi_r_b  cos(theta_r1)  class\n",
              "0           0     0.841381      1.832647  ...  0.461542       0.005710    0.0\n",
              "1           1     0.663798      2.058290  ...  1.455247       0.101246    0.0\n",
              "2           2     1.792225     -1.099978  ...  0.721326       0.613326    1.0\n",
              "\n",
              "[3 rows x 20 columns]"
            ]
          },
          "metadata": {},
          "execution_count": 5
        }
      ]
    },
    {
      "cell_type": "markdown",
      "metadata": {
        "id": "Y8IiJAmGvTLa"
      },
      "source": [
        "### Splitting the data to inputs and outputs\n",
        "\n",
        "* It can be seen that the first column of the dataset is the index. Since this does not contain any essential information we can drop this column. \n",
        "\n",
        "* The last column in the dataset is the output class. This has to be seperated from the other parameters for testing and training purposes. \n"
      ]
    },
    {
      "cell_type": "code",
      "metadata": {
        "id": "ilqLUakm9X1r",
        "execution": {
          "iopub.status.busy": "2021-11-29T05:31:19.080115Z",
          "iopub.execute_input": "2021-11-29T05:31:19.080469Z",
          "iopub.status.idle": "2021-11-29T05:31:19.086751Z",
          "shell.execute_reply.started": "2021-11-29T05:31:19.080425Z",
          "shell.execute_reply": "2021-11-29T05:31:19.085915Z"
        },
        "trusted": true,
        "colab": {
          "base_uri": "https://localhost:8080/"
        },
        "outputId": "7d70ed1f-c0dd-4d6f-b14b-3219c96c32af"
      },
      "source": [
        "train_data.columns"
      ],
      "execution_count": 6,
      "outputs": [
        {
          "output_type": "execute_result",
          "data": {
            "text/plain": [
              "Index(['Unnamed: 0', 'lepton_1_pT', 'lepton_1_eta', 'lepton_1_phi',\n",
              "       'lepton_2_pT', 'lepton_2_eta', 'lepton_2_phi',\n",
              "       'missing_energy_magnitude', 'missing_energy_phi', 'MET_rel',\n",
              "       'axial_MET', 'M_R', 'M_TR_2', 'R', 'MT2', 'S_R', 'M_Delta_R',\n",
              "       'dPhi_r_b', 'cos(theta_r1)', 'class'],\n",
              "      dtype='object')"
            ]
          },
          "metadata": {},
          "execution_count": 6
        }
      ]
    },
    {
      "cell_type": "code",
      "metadata": {
        "id": "Xo4JHB4L9EJl",
        "execution": {
          "iopub.status.busy": "2021-11-29T05:31:19.088207Z",
          "iopub.execute_input": "2021-11-29T05:31:19.088452Z",
          "iopub.status.idle": "2021-11-29T05:31:19.289510Z",
          "shell.execute_reply.started": "2021-11-29T05:31:19.088414Z",
          "shell.execute_reply": "2021-11-29T05:31:19.288451Z"
        },
        "trusted": true
      },
      "source": [
        "x_train=train_data.drop([train_data.columns[0],'class'],axis=1)\n",
        "y_train=train_data['class']"
      ],
      "execution_count": 7,
      "outputs": []
    },
    {
      "cell_type": "markdown",
      "metadata": {
        "id": "fJyE8yzr7bN3"
      },
      "source": [
        "## Exploratory data analysis"
      ]
    },
    {
      "cell_type": "code",
      "metadata": {
        "id": "0N8mIO6GAsey",
        "execution": {
          "iopub.status.busy": "2021-11-29T05:31:19.290850Z",
          "iopub.execute_input": "2021-11-29T05:31:19.291178Z",
          "iopub.status.idle": "2021-11-29T05:31:19.314835Z",
          "shell.execute_reply.started": "2021-11-29T05:31:19.291138Z",
          "shell.execute_reply": "2021-11-29T05:31:19.313741Z"
        },
        "trusted": true,
        "colab": {
          "base_uri": "https://localhost:8080/",
          "height": 226
        },
        "outputId": "af482c10-8c14-4828-9efb-8a440f0a69ec"
      },
      "source": [
        "x_train.head()"
      ],
      "execution_count": 8,
      "outputs": [
        {
          "output_type": "execute_result",
          "data": {
            "text/html": [
              "<div>\n",
              "<style scoped>\n",
              "    .dataframe tbody tr th:only-of-type {\n",
              "        vertical-align: middle;\n",
              "    }\n",
              "\n",
              "    .dataframe tbody tr th {\n",
              "        vertical-align: top;\n",
              "    }\n",
              "\n",
              "    .dataframe thead th {\n",
              "        text-align: right;\n",
              "    }\n",
              "</style>\n",
              "<table border=\"1\" class=\"dataframe\">\n",
              "  <thead>\n",
              "    <tr style=\"text-align: right;\">\n",
              "      <th></th>\n",
              "      <th>lepton_1_pT</th>\n",
              "      <th>lepton_1_eta</th>\n",
              "      <th>lepton_1_phi</th>\n",
              "      <th>lepton_2_pT</th>\n",
              "      <th>lepton_2_eta</th>\n",
              "      <th>lepton_2_phi</th>\n",
              "      <th>missing_energy_magnitude</th>\n",
              "      <th>missing_energy_phi</th>\n",
              "      <th>MET_rel</th>\n",
              "      <th>axial_MET</th>\n",
              "      <th>M_R</th>\n",
              "      <th>M_TR_2</th>\n",
              "      <th>R</th>\n",
              "      <th>MT2</th>\n",
              "      <th>S_R</th>\n",
              "      <th>M_Delta_R</th>\n",
              "      <th>dPhi_r_b</th>\n",
              "      <th>cos(theta_r1)</th>\n",
              "    </tr>\n",
              "  </thead>\n",
              "  <tbody>\n",
              "    <tr>\n",
              "      <th>0</th>\n",
              "      <td>0.841381</td>\n",
              "      <td>1.832647</td>\n",
              "      <td>-0.689286</td>\n",
              "      <td>0.781839</td>\n",
              "      <td>0.572864</td>\n",
              "      <td>1.577097</td>\n",
              "      <td>0.398978</td>\n",
              "      <td>-0.683847</td>\n",
              "      <td>0.001826</td>\n",
              "      <td>0.651397</td>\n",
              "      <td>0.865560</td>\n",
              "      <td>0.429017</td>\n",
              "      <td>0.439840</td>\n",
              "      <td>0.000000</td>\n",
              "      <td>0.796105</td>\n",
              "      <td>0.342497</td>\n",
              "      <td>0.461542</td>\n",
              "      <td>0.005710</td>\n",
              "    </tr>\n",
              "    <tr>\n",
              "      <th>1</th>\n",
              "      <td>0.663798</td>\n",
              "      <td>2.058290</td>\n",
              "      <td>0.681435</td>\n",
              "      <td>1.054036</td>\n",
              "      <td>0.575352</td>\n",
              "      <td>-1.001445</td>\n",
              "      <td>0.462154</td>\n",
              "      <td>-0.833411</td>\n",
              "      <td>0.199734</td>\n",
              "      <td>0.215158</td>\n",
              "      <td>0.949988</td>\n",
              "      <td>0.618046</td>\n",
              "      <td>0.577324</td>\n",
              "      <td>0.000000</td>\n",
              "      <td>0.962927</td>\n",
              "      <td>0.333800</td>\n",
              "      <td>1.455247</td>\n",
              "      <td>0.101246</td>\n",
              "    </tr>\n",
              "    <tr>\n",
              "      <th>2</th>\n",
              "      <td>1.792225</td>\n",
              "      <td>-1.099978</td>\n",
              "      <td>0.088109</td>\n",
              "      <td>0.573157</td>\n",
              "      <td>-0.472629</td>\n",
              "      <td>1.642084</td>\n",
              "      <td>1.203374</td>\n",
              "      <td>1.506731</td>\n",
              "      <td>0.457695</td>\n",
              "      <td>-0.640507</td>\n",
              "      <td>1.157024</td>\n",
              "      <td>1.585432</td>\n",
              "      <td>1.215963</td>\n",
              "      <td>0.000000</td>\n",
              "      <td>1.113292</td>\n",
              "      <td>0.645729</td>\n",
              "      <td>0.721326</td>\n",
              "      <td>0.613326</td>\n",
              "    </tr>\n",
              "    <tr>\n",
              "      <th>3</th>\n",
              "      <td>0.893018</td>\n",
              "      <td>0.297782</td>\n",
              "      <td>-1.274870</td>\n",
              "      <td>1.316164</td>\n",
              "      <td>1.593303</td>\n",
              "      <td>0.672115</td>\n",
              "      <td>0.307014</td>\n",
              "      <td>-1.189868</td>\n",
              "      <td>0.064561</td>\n",
              "      <td>0.430909</td>\n",
              "      <td>1.162625</td>\n",
              "      <td>0.548821</td>\n",
              "      <td>0.418897</td>\n",
              "      <td>0.163908</td>\n",
              "      <td>1.157707</td>\n",
              "      <td>0.298163</td>\n",
              "      <td>0.803802</td>\n",
              "      <td>0.038902</td>\n",
              "    </tr>\n",
              "    <tr>\n",
              "      <th>4</th>\n",
              "      <td>1.338997</td>\n",
              "      <td>0.350023</td>\n",
              "      <td>-1.518510</td>\n",
              "      <td>1.482963</td>\n",
              "      <td>-0.491807</td>\n",
              "      <td>0.340170</td>\n",
              "      <td>0.415071</td>\n",
              "      <td>-1.292034</td>\n",
              "      <td>0.240712</td>\n",
              "      <td>0.611775</td>\n",
              "      <td>1.307798</td>\n",
              "      <td>0.697804</td>\n",
              "      <td>0.473487</td>\n",
              "      <td>0.429977</td>\n",
              "      <td>1.287935</td>\n",
              "      <td>0.330327</td>\n",
              "      <td>0.717237</td>\n",
              "      <td>0.003147</td>\n",
              "    </tr>\n",
              "  </tbody>\n",
              "</table>\n",
              "</div>"
            ],
            "text/plain": [
              "   lepton_1_pT  lepton_1_eta  lepton_1_phi  ...  M_Delta_R  dPhi_r_b  cos(theta_r1)\n",
              "0     0.841381      1.832647     -0.689286  ...   0.342497  0.461542       0.005710\n",
              "1     0.663798      2.058290      0.681435  ...   0.333800  1.455247       0.101246\n",
              "2     1.792225     -1.099978      0.088109  ...   0.645729  0.721326       0.613326\n",
              "3     0.893018      0.297782     -1.274870  ...   0.298163  0.803802       0.038902\n",
              "4     1.338997      0.350023     -1.518510  ...   0.330327  0.717237       0.003147\n",
              "\n",
              "[5 rows x 18 columns]"
            ]
          },
          "metadata": {},
          "execution_count": 8
        }
      ]
    },
    {
      "cell_type": "markdown",
      "metadata": {
        "id": "jCcx6j1e7fzU"
      },
      "source": [
        "### Finding missing or invalid entries in the dataset"
      ]
    },
    {
      "cell_type": "code",
      "metadata": {
        "id": "zDNKTTz57fwi",
        "execution": {
          "iopub.status.busy": "2021-11-29T05:31:19.316788Z",
          "iopub.execute_input": "2021-11-29T05:31:19.317244Z",
          "iopub.status.idle": "2021-11-29T05:31:19.451101Z",
          "shell.execute_reply.started": "2021-11-29T05:31:19.317080Z",
          "shell.execute_reply": "2021-11-29T05:31:19.450291Z"
        },
        "trusted": true,
        "colab": {
          "base_uri": "https://localhost:8080/"
        },
        "outputId": "dff56152-075b-4e2d-d3bc-f7fb2b6e07fb"
      },
      "source": [
        "x_train.isna().sum()"
      ],
      "execution_count": 9,
      "outputs": [
        {
          "output_type": "execute_result",
          "data": {
            "text/plain": [
              "lepton_1_pT                 0\n",
              "lepton_1_eta                0\n",
              "lepton_1_phi                0\n",
              "lepton_2_pT                 0\n",
              "lepton_2_eta                0\n",
              "lepton_2_phi                0\n",
              "missing_energy_magnitude    0\n",
              "missing_energy_phi          0\n",
              "MET_rel                     0\n",
              "axial_MET                   0\n",
              "M_R                         0\n",
              "M_TR_2                      0\n",
              "R                           0\n",
              "MT2                         0\n",
              "S_R                         0\n",
              "M_Delta_R                   0\n",
              "dPhi_r_b                    0\n",
              "cos(theta_r1)               0\n",
              "dtype: int64"
            ]
          },
          "metadata": {},
          "execution_count": 9
        }
      ]
    },
    {
      "cell_type": "markdown",
      "metadata": {
        "id": "HO3vWarp7fth"
      },
      "source": [
        "It can be seen that there is no missing data in the dataset. Hence , there is no process needed to handle null values. However, we might still have missing values or wrong data\n",
        "\n"
      ]
    },
    {
      "cell_type": "code",
      "metadata": {
        "id": "otyHpxue7fqx",
        "execution": {
          "iopub.status.busy": "2021-11-29T05:31:19.452220Z",
          "iopub.execute_input": "2021-11-29T05:31:19.452688Z",
          "iopub.status.idle": "2021-11-29T05:31:19.460856Z",
          "shell.execute_reply.started": "2021-11-29T05:31:19.452652Z",
          "shell.execute_reply": "2021-11-29T05:31:19.459992Z"
        },
        "trusted": true,
        "colab": {
          "base_uri": "https://localhost:8080/"
        },
        "outputId": "163d0c30-9f74-47a9-c242-3d3fb6877e4a"
      },
      "source": [
        "x_train.dtypes"
      ],
      "execution_count": 10,
      "outputs": [
        {
          "output_type": "execute_result",
          "data": {
            "text/plain": [
              "lepton_1_pT                 float64\n",
              "lepton_1_eta                float64\n",
              "lepton_1_phi                float64\n",
              "lepton_2_pT                 float64\n",
              "lepton_2_eta                float64\n",
              "lepton_2_phi                float64\n",
              "missing_energy_magnitude    float64\n",
              "missing_energy_phi          float64\n",
              "MET_rel                     float64\n",
              "axial_MET                   float64\n",
              "M_R                         float64\n",
              "M_TR_2                      float64\n",
              "R                           float64\n",
              "MT2                         float64\n",
              "S_R                         float64\n",
              "M_Delta_R                   float64\n",
              "dPhi_r_b                    float64\n",
              "cos(theta_r1)               float64\n",
              "dtype: object"
            ]
          },
          "metadata": {},
          "execution_count": 10
        }
      ]
    },
    {
      "cell_type": "markdown",
      "metadata": {
        "id": "-aa33Z0l7foF"
      },
      "source": [
        "<h3> Findings from dtypes </h3>\n",
        "\n",
        "*  All the datatypes are float64 except the Unnamed 0, which means that there is no data entered as NAN, or as other string formats. "
      ]
    },
    {
      "cell_type": "markdown",
      "metadata": {
        "id": "EJx6oPB47fk8"
      },
      "source": [
        "## Understanding the statistical distribution of data"
      ]
    },
    {
      "cell_type": "code",
      "metadata": {
        "id": "CpkNWtJa7fhp",
        "execution": {
          "iopub.status.busy": "2021-11-29T05:31:19.462830Z",
          "iopub.execute_input": "2021-11-29T05:31:19.463144Z",
          "iopub.status.idle": "2021-11-29T05:31:22.043405Z",
          "shell.execute_reply.started": "2021-11-29T05:31:19.463102Z",
          "shell.execute_reply": "2021-11-29T05:31:22.042733Z"
        },
        "trusted": true,
        "colab": {
          "base_uri": "https://localhost:8080/",
          "height": 320
        },
        "outputId": "a9c8f386-e131-432e-ec50-72ab966d1e83"
      },
      "source": [
        "np.round(x_train.describe(),2)"
      ],
      "execution_count": 11,
      "outputs": [
        {
          "output_type": "execute_result",
          "data": {
            "text/html": [
              "<div>\n",
              "<style scoped>\n",
              "    .dataframe tbody tr th:only-of-type {\n",
              "        vertical-align: middle;\n",
              "    }\n",
              "\n",
              "    .dataframe tbody tr th {\n",
              "        vertical-align: top;\n",
              "    }\n",
              "\n",
              "    .dataframe thead th {\n",
              "        text-align: right;\n",
              "    }\n",
              "</style>\n",
              "<table border=\"1\" class=\"dataframe\">\n",
              "  <thead>\n",
              "    <tr style=\"text-align: right;\">\n",
              "      <th></th>\n",
              "      <th>lepton_1_pT</th>\n",
              "      <th>lepton_1_eta</th>\n",
              "      <th>lepton_1_phi</th>\n",
              "      <th>lepton_2_pT</th>\n",
              "      <th>lepton_2_eta</th>\n",
              "      <th>lepton_2_phi</th>\n",
              "      <th>missing_energy_magnitude</th>\n",
              "      <th>missing_energy_phi</th>\n",
              "      <th>MET_rel</th>\n",
              "      <th>axial_MET</th>\n",
              "      <th>M_R</th>\n",
              "      <th>M_TR_2</th>\n",
              "      <th>R</th>\n",
              "      <th>MT2</th>\n",
              "      <th>S_R</th>\n",
              "      <th>M_Delta_R</th>\n",
              "      <th>dPhi_r_b</th>\n",
              "      <th>cos(theta_r1)</th>\n",
              "    </tr>\n",
              "  </thead>\n",
              "  <tbody>\n",
              "    <tr>\n",
              "      <th>count</th>\n",
              "      <td>3500000.00</td>\n",
              "      <td>3500000.00</td>\n",
              "      <td>3500000.00</td>\n",
              "      <td>3500000.00</td>\n",
              "      <td>3500000.00</td>\n",
              "      <td>3500000.00</td>\n",
              "      <td>3500000.00</td>\n",
              "      <td>3500000.00</td>\n",
              "      <td>3500000.00</td>\n",
              "      <td>3500000.00</td>\n",
              "      <td>3500000.00</td>\n",
              "      <td>3500000.00</td>\n",
              "      <td>3500000.00</td>\n",
              "      <td>3500000.00</td>\n",
              "      <td>3500000.00</td>\n",
              "      <td>3500000.00</td>\n",
              "      <td>3500000.00</td>\n",
              "      <td>3500000.00</td>\n",
              "    </tr>\n",
              "    <tr>\n",
              "      <th>mean</th>\n",
              "      <td>1.00</td>\n",
              "      <td>0.00</td>\n",
              "      <td>0.00</td>\n",
              "      <td>1.00</td>\n",
              "      <td>0.00</td>\n",
              "      <td>-0.00</td>\n",
              "      <td>1.00</td>\n",
              "      <td>-0.00</td>\n",
              "      <td>1.00</td>\n",
              "      <td>-0.00</td>\n",
              "      <td>1.00</td>\n",
              "      <td>1.00</td>\n",
              "      <td>1.00</td>\n",
              "      <td>1.00</td>\n",
              "      <td>1.00</td>\n",
              "      <td>1.00</td>\n",
              "      <td>1.00</td>\n",
              "      <td>0.22</td>\n",
              "    </tr>\n",
              "    <tr>\n",
              "      <th>std</th>\n",
              "      <td>0.69</td>\n",
              "      <td>1.00</td>\n",
              "      <td>1.00</td>\n",
              "      <td>0.65</td>\n",
              "      <td>1.00</td>\n",
              "      <td>1.00</td>\n",
              "      <td>0.87</td>\n",
              "      <td>1.00</td>\n",
              "      <td>0.89</td>\n",
              "      <td>1.00</td>\n",
              "      <td>0.63</td>\n",
              "      <td>0.58</td>\n",
              "      <td>0.47</td>\n",
              "      <td>0.86</td>\n",
              "      <td>0.62</td>\n",
              "      <td>0.62</td>\n",
              "      <td>0.44</td>\n",
              "      <td>0.20</td>\n",
              "    </tr>\n",
              "    <tr>\n",
              "      <th>min</th>\n",
              "      <td>0.25</td>\n",
              "      <td>-2.10</td>\n",
              "      <td>-1.73</td>\n",
              "      <td>0.43</td>\n",
              "      <td>-2.06</td>\n",
              "      <td>-1.73</td>\n",
              "      <td>0.00</td>\n",
              "      <td>-1.73</td>\n",
              "      <td>0.00</td>\n",
              "      <td>-15.34</td>\n",
              "      <td>0.27</td>\n",
              "      <td>0.00</td>\n",
              "      <td>0.00</td>\n",
              "      <td>0.00</td>\n",
              "      <td>0.03</td>\n",
              "      <td>0.00</td>\n",
              "      <td>0.00</td>\n",
              "      <td>0.00</td>\n",
              "    </tr>\n",
              "    <tr>\n",
              "      <th>25%</th>\n",
              "      <td>0.56</td>\n",
              "      <td>-0.76</td>\n",
              "      <td>-0.87</td>\n",
              "      <td>0.60</td>\n",
              "      <td>-0.77</td>\n",
              "      <td>-0.87</td>\n",
              "      <td>0.48</td>\n",
              "      <td>-0.87</td>\n",
              "      <td>0.37</td>\n",
              "      <td>-0.49</td>\n",
              "      <td>0.59</td>\n",
              "      <td>0.62</td>\n",
              "      <td>0.65</td>\n",
              "      <td>0.17</td>\n",
              "      <td>0.60</td>\n",
              "      <td>0.51</td>\n",
              "      <td>0.69</td>\n",
              "      <td>0.07</td>\n",
              "    </tr>\n",
              "    <tr>\n",
              "      <th>50%</th>\n",
              "      <td>0.79</td>\n",
              "      <td>0.00</td>\n",
              "      <td>-0.00</td>\n",
              "      <td>0.80</td>\n",
              "      <td>0.00</td>\n",
              "      <td>-0.00</td>\n",
              "      <td>0.77</td>\n",
              "      <td>-0.01</td>\n",
              "      <td>0.80</td>\n",
              "      <td>-0.08</td>\n",
              "      <td>0.83</td>\n",
              "      <td>0.88</td>\n",
              "      <td>0.93</td>\n",
              "      <td>0.90</td>\n",
              "      <td>0.84</td>\n",
              "      <td>0.91</td>\n",
              "      <td>1.09</td>\n",
              "      <td>0.17</td>\n",
              "    </tr>\n",
              "    <tr>\n",
              "      <th>75%</th>\n",
              "      <td>1.20</td>\n",
              "      <td>0.76</td>\n",
              "      <td>0.87</td>\n",
              "      <td>1.16</td>\n",
              "      <td>0.77</td>\n",
              "      <td>0.87</td>\n",
              "      <td>1.21</td>\n",
              "      <td>0.87</td>\n",
              "      <td>1.37</td>\n",
              "      <td>0.35</td>\n",
              "      <td>1.21</td>\n",
              "      <td>1.22</td>\n",
              "      <td>1.28</td>\n",
              "      <td>1.61</td>\n",
              "      <td>1.21</td>\n",
              "      <td>1.38</td>\n",
              "      <td>1.37</td>\n",
              "      <td>0.33</td>\n",
              "    </tr>\n",
              "    <tr>\n",
              "      <th>max</th>\n",
              "      <td>20.55</td>\n",
              "      <td>2.10</td>\n",
              "      <td>1.73</td>\n",
              "      <td>33.04</td>\n",
              "      <td>2.06</td>\n",
              "      <td>1.73</td>\n",
              "      <td>21.07</td>\n",
              "      <td>1.74</td>\n",
              "      <td>23.39</td>\n",
              "      <td>19.59</td>\n",
              "      <td>21.08</td>\n",
              "      <td>16.17</td>\n",
              "      <td>6.73</td>\n",
              "      <td>20.69</td>\n",
              "      <td>21.15</td>\n",
              "      <td>15.61</td>\n",
              "      <td>1.59</td>\n",
              "      <td>1.00</td>\n",
              "    </tr>\n",
              "  </tbody>\n",
              "</table>\n",
              "</div>"
            ],
            "text/plain": [
              "       lepton_1_pT  lepton_1_eta  ...    dPhi_r_b  cos(theta_r1)\n",
              "count   3500000.00    3500000.00  ...  3500000.00     3500000.00\n",
              "mean          1.00          0.00  ...        1.00           0.22\n",
              "std           0.69          1.00  ...        0.44           0.20\n",
              "min           0.25         -2.10  ...        0.00           0.00\n",
              "25%           0.56         -0.76  ...        0.69           0.07\n",
              "50%           0.79          0.00  ...        1.09           0.17\n",
              "75%           1.20          0.76  ...        1.37           0.33\n",
              "max          20.55          2.10  ...        1.59           1.00\n",
              "\n",
              "[8 rows x 18 columns]"
            ]
          },
          "metadata": {},
          "execution_count": 11
        }
      ]
    },
    {
      "cell_type": "markdown",
      "metadata": {
        "id": "z55KpnNQ7fei"
      },
      "source": [
        "\n",
        "<h3> Findings from describe table </h3>\n",
        "<body>\n",
        "\n",
        "\n",
        "*  From the above table, it can be understood that the Unnamed : 0 is the index\n",
        "* lepton_1_pt is left is right skewed as the mean and standard deviation and inclined towards the lower value of the range of values\n",
        "* missing_energy_magnitude,MET_rel,M_R,R,S_R,M_delta_R,dphi_r_b\n",
        " also has a right skewness\n",
        "\n",
        "*  The last column is the output column and it has to be seperated. \n",
        "*  To understand the dependency of other columns we will have to try other process\n",
        "\n",
        "\n",
        "\n",
        "\n",
        "\n"
      ]
    },
    {
      "cell_type": "markdown",
      "metadata": {
        "id": "az55ZX_U7fa-"
      },
      "source": [
        "### Checking for duplicate values"
      ]
    },
    {
      "cell_type": "code",
      "metadata": {
        "id": "0frFSFSvBUux",
        "execution": {
          "iopub.status.busy": "2021-11-29T05:31:22.045104Z",
          "iopub.execute_input": "2021-11-29T05:31:22.045342Z",
          "iopub.status.idle": "2021-11-29T05:31:34.838178Z",
          "shell.execute_reply.started": "2021-11-29T05:31:22.045314Z",
          "shell.execute_reply": "2021-11-29T05:31:34.837372Z"
        },
        "trusted": true,
        "colab": {
          "base_uri": "https://localhost:8080/"
        },
        "outputId": "56433382-cb4e-4acc-d00f-9d607b7d0c3d"
      },
      "source": [
        "x_train.duplicated().sum()"
      ],
      "execution_count": 12,
      "outputs": [
        {
          "output_type": "execute_result",
          "data": {
            "text/plain": [
              "0"
            ]
          },
          "metadata": {},
          "execution_count": 12
        }
      ]
    },
    {
      "cell_type": "markdown",
      "metadata": {
        "id": "kQirGUgLBU03"
      },
      "source": [
        "There are no duplicate entries in the database\n",
        "\n",
        "\n"
      ]
    },
    {
      "cell_type": "markdown",
      "metadata": {
        "id": "Buu76skjBU4k"
      },
      "source": [
        "### Identifying the correlation of data"
      ]
    },
    {
      "cell_type": "code",
      "metadata": {
        "id": "02WjNMBgBU7z",
        "execution": {
          "iopub.status.busy": "2021-11-29T05:31:34.839576Z",
          "iopub.execute_input": "2021-11-29T05:31:34.839810Z",
          "iopub.status.idle": "2021-11-29T05:31:38.369979Z",
          "shell.execute_reply.started": "2021-11-29T05:31:34.839781Z",
          "shell.execute_reply": "2021-11-29T05:31:38.368998Z"
        },
        "trusted": true,
        "colab": {
          "base_uri": "https://localhost:8080/"
        },
        "outputId": "18cbab9a-fd6f-44c9-f80c-0d626e723987"
      },
      "source": [
        "# Set a threshold to identify pairs more than that\n",
        "correlation=x_train.corr().T\n",
        "\n",
        "# Identifying columns with high correlation\n",
        "\n",
        "high_correlation_list=[]\n",
        "threshold=0.7\n",
        "\n",
        "for x_iter  in correlation.columns:\n",
        "  for y_iter in correlation.index:\n",
        "    if x_iter!=y_iter:\n",
        "      if (correlation[x_iter][y_iter]>threshold) & (correlation[x_iter][y_iter]>(threshold*-1)):\n",
        "        high_correlation_list.append((x_iter,y_iter,correlation[x_iter][y_iter]))\n",
        "\n",
        "for element in high_correlation_list:\n",
        "    print(element)"
      ],
      "execution_count": 13,
      "outputs": [
        {
          "output_type": "stream",
          "name": "stdout",
          "text": [
            "('lepton_1_pT', 'M_R', 0.8516937529653643)\n",
            "('lepton_1_pT', 'M_TR_2', 0.7242294648547011)\n",
            "('lepton_1_pT', 'S_R', 0.8116162751408211)\n",
            "('lepton_2_pT', 'M_R', 0.7974893534011629)\n",
            "('lepton_2_pT', 'S_R', 0.79932499694437)\n",
            "('missing_energy_magnitude', 'MET_rel', 0.7058940094586493)\n",
            "('missing_energy_magnitude', 'M_TR_2', 0.7217469748772937)\n",
            "('MET_rel', 'missing_energy_magnitude', 0.7058940094586493)\n",
            "('MET_rel', 'M_Delta_R', 0.74856879269838)\n",
            "('M_R', 'lepton_1_pT', 0.8516937529653643)\n",
            "('M_R', 'lepton_2_pT', 0.7974893534011629)\n",
            "('M_R', 'S_R', 0.9813072099983999)\n",
            "('M_TR_2', 'lepton_1_pT', 0.7242294648547011)\n",
            "('M_TR_2', 'missing_energy_magnitude', 0.7217469748772937)\n",
            "('MT2', 'M_Delta_R', 0.808811052489197)\n",
            "('S_R', 'lepton_1_pT', 0.8116162751408211)\n",
            "('S_R', 'lepton_2_pT', 0.79932499694437)\n",
            "('S_R', 'M_R', 0.9813072099983999)\n",
            "('M_Delta_R', 'MET_rel', 0.74856879269838)\n",
            "('M_Delta_R', 'MT2', 0.808811052489197)\n"
          ]
        }
      ]
    },
    {
      "cell_type": "markdown",
      "metadata": {
        "id": "Z207KWCUIxz4"
      },
      "source": [
        "### Checking for skewness of the data\n"
      ]
    },
    {
      "cell_type": "code",
      "metadata": {
        "id": "cTJRoLL6I0vH",
        "execution": {
          "iopub.status.busy": "2021-11-29T05:31:38.372394Z",
          "iopub.execute_input": "2021-11-29T05:31:38.372935Z",
          "iopub.status.idle": "2021-11-29T05:31:40.360762Z",
          "shell.execute_reply.started": "2021-11-29T05:31:38.372889Z",
          "shell.execute_reply": "2021-11-29T05:31:40.359913Z"
        },
        "trusted": true,
        "colab": {
          "base_uri": "https://localhost:8080/"
        },
        "outputId": "846576a4-618c-49c3-b3bb-d4f9d6f3fb1c"
      },
      "source": [
        "for column in x_train.columns:\n",
        "  if (train_data[column].skew()>1) | (train_data[column].skew()<-1):\n",
        "    print(column,'  ',train_data[column].skew())\n",
        "print( ' The above attributes are skewed ')"
      ],
      "execution_count": 14,
      "outputs": [
        {
          "output_type": "stream",
          "name": "stdout",
          "text": [
            "lepton_1_pT    2.860452539757907\n",
            "lepton_2_pT    3.522050030748477\n",
            "missing_energy_magnitude    3.1158771071898284\n",
            "MET_rel    2.266883264480619\n",
            "axial_MET    1.53082620504899\n",
            "M_R    2.8762447920635874\n",
            "M_TR_2    2.381011555541814\n",
            "S_R    2.8965969645166187\n",
            "cos(theta_r1)    1.1415481567512238\n",
            " The above attributes are skewed \n"
          ]
        }
      ]
    },
    {
      "cell_type": "markdown",
      "metadata": {
        "id": "0Py5TBthJT9-"
      },
      "source": [
        "### Next steps\n",
        "\n",
        "* Although it high correaltion and skewness are seen in the above exploration, we have'nt dropeed them as we would like to see the performance of the models with and without these corrections made. "
      ]
    },
    {
      "cell_type": "markdown",
      "metadata": {
        "id": "ZVa3bwRjwEej"
      },
      "source": [
        "\n",
        "\n",
        "\n",
        "### Dividing the dataset into train and test.\n",
        "\n",
        "* A random state of 7 is used which will be followed throughout in this process\n"
      ]
    },
    {
      "cell_type": "code",
      "metadata": {
        "id": "7XbPcqPR9q5g",
        "execution": {
          "iopub.status.busy": "2021-11-29T05:31:40.362097Z",
          "iopub.execute_input": "2021-11-29T05:31:40.362426Z",
          "iopub.status.idle": "2021-11-29T05:31:41.547764Z",
          "shell.execute_reply.started": "2021-11-29T05:31:40.362382Z",
          "shell.execute_reply": "2021-11-29T05:31:41.546762Z"
        },
        "trusted": true
      },
      "source": [
        "x_train,x_test,y_train,y_test=train_test_split(x_train,y_train,test_size=0.25,random_state=7)"
      ],
      "execution_count": 15,
      "outputs": []
    },
    {
      "cell_type": "markdown",
      "metadata": {
        "id": "ltBFc5hiP9at"
      },
      "source": [
        "### Creating a subset of the dataset to understand which models perform better and which doesn't"
      ]
    },
    {
      "cell_type": "code",
      "metadata": {
        "execution": {
          "iopub.status.busy": "2021-11-29T05:32:53.952575Z",
          "iopub.execute_input": "2021-11-29T05:32:53.953253Z",
          "iopub.status.idle": "2021-11-29T05:32:55.008153Z",
          "shell.execute_reply.started": "2021-11-29T05:32:53.953203Z",
          "shell.execute_reply": "2021-11-29T05:32:55.007283Z"
        },
        "trusted": true,
        "id": "0Oji5RFVP9au"
      },
      "source": [
        "x_train_subset,x_test_subset,y_train_subset,y_test_subset=train_test_split(x_train,y_train,test_size=0.40,random_state=7)"
      ],
      "execution_count": 16,
      "outputs": []
    },
    {
      "cell_type": "markdown",
      "metadata": {
        "id": "PmDC5OiEP9au"
      },
      "source": [
        "### Trying different models to see its performance"
      ]
    },
    {
      "cell_type": "code",
      "metadata": {
        "execution": {
          "iopub.status.busy": "2021-11-29T05:38:12.074482Z",
          "iopub.execute_input": "2021-11-29T05:38:12.074809Z",
          "iopub.status.idle": "2021-11-29T05:38:12.082131Z",
          "shell.execute_reply.started": "2021-11-29T05:38:12.074777Z",
          "shell.execute_reply": "2021-11-29T05:38:12.081468Z"
        },
        "trusted": true,
        "colab": {
          "base_uri": "https://localhost:8080/"
        },
        "id": "HEsZ0GREP9au",
        "outputId": "639ecb80-cb0c-4e0f-aeb1-bd530d1c4f76"
      },
      "source": [
        "x_train_subset.shape"
      ],
      "execution_count": 17,
      "outputs": [
        {
          "output_type": "execute_result",
          "data": {
            "text/plain": [
              "(1575000, 18)"
            ]
          },
          "metadata": {},
          "execution_count": 17
        }
      ]
    },
    {
      "cell_type": "code",
      "metadata": {
        "execution": {
          "iopub.status.busy": "2021-11-29T05:38:27.561460Z",
          "iopub.execute_input": "2021-11-29T05:38:27.562287Z",
          "iopub.status.idle": "2021-11-29T05:38:27.566138Z",
          "shell.execute_reply.started": "2021-11-29T05:38:27.562241Z",
          "shell.execute_reply": "2021-11-29T05:38:27.565441Z"
        },
        "trusted": true,
        "id": "hoYPyjZ4P9av"
      },
      "source": [
        "#Creating lists to store results\n",
        "model_name=[]\n",
        "score=[]\n",
        "run_time=[]"
      ],
      "execution_count": 18,
      "outputs": []
    },
    {
      "cell_type": "markdown",
      "metadata": {
        "id": "eEqYIgeSP9av"
      },
      "source": [
        "##### Logistic regression and Hyper parameter Tuning\n"
      ]
    },
    {
      "cell_type": "code",
      "metadata": {
        "execution": {
          "iopub.status.busy": "2021-11-29T05:40:55.608160Z",
          "iopub.execute_input": "2021-11-29T05:40:55.608534Z",
          "iopub.status.idle": "2021-11-29T05:41:25.421954Z",
          "shell.execute_reply.started": "2021-11-29T05:40:55.608495Z",
          "shell.execute_reply": "2021-11-29T05:41:25.418147Z"
        },
        "trusted": true,
        "colab": {
          "base_uri": "https://localhost:8080/"
        },
        "id": "hq4ab5KsP9aw",
        "outputId": "7560fb09-0282-433d-b996-0183bd171d1d"
      },
      "source": [
        "start=time.time()\n",
        "lgR=LogisticRegression(random_state=7)\n",
        "lgR.fit(x_train_subset,y_train_subset)\n",
        "t=time.time()-start\n",
        "model_name.append('Logistic Regression')\n",
        "score.append(lgR.score(x_test_subset,y_test_subset))\n",
        "run_time.append(t)"
      ],
      "execution_count": 19,
      "outputs": [
        {
          "output_type": "stream",
          "name": "stderr",
          "text": [
            "/usr/local/lib/python3.7/dist-packages/sklearn/linear_model/_logistic.py:818: ConvergenceWarning: lbfgs failed to converge (status=1):\n",
            "STOP: TOTAL NO. of ITERATIONS REACHED LIMIT.\n",
            "\n",
            "Increase the number of iterations (max_iter) or scale the data as shown in:\n",
            "    https://scikit-learn.org/stable/modules/preprocessing.html\n",
            "Please also refer to the documentation for alternative solver options:\n",
            "    https://scikit-learn.org/stable/modules/linear_model.html#logistic-regression\n",
            "  extra_warning_msg=_LOGISTIC_SOLVER_CONVERGENCE_MSG,\n"
          ]
        }
      ]
    },
    {
      "cell_type": "markdown",
      "metadata": {
        "id": "L_PB4zavW3qP"
      },
      "source": [
        "#### Decision tree classifier\n",
        "\n"
      ]
    },
    {
      "cell_type": "code",
      "metadata": {
        "id": "g17_cL8cXezq"
      },
      "source": [
        "start=time.time()\n",
        "dtClassifier=DecisionTreeClassifier(random_state=7)\n",
        "dtClassifier.fit(x_train_subset,y_train_subset)\n",
        "t=time.time()-start\n",
        "model_name.append('Decision Tree')\n",
        "score.append(dtClassifier.score(x_test_subset,y_test_subset))\n",
        "run_time.append(t)"
      ],
      "execution_count": 21,
      "outputs": []
    },
    {
      "cell_type": "markdown",
      "metadata": {
        "id": "nRVCtBPWYhjO"
      },
      "source": [
        "#### Random Forest of Linear Regressions\n",
        "\n"
      ]
    },
    {
      "cell_type": "code",
      "metadata": {
        "colab": {
          "base_uri": "https://localhost:8080/"
        },
        "id": "2HrvrGrGYn1g",
        "outputId": "b91c4d8e-4c74-4002-a039-4b4ed8a5bf6f"
      },
      "source": [
        "start=time.time()\n",
        "lr_random_forest=BaggingClassifier(base_estimator=lgR,n_estimators=10,random_state=17)\n",
        "lr_random_forest.fit(x_train_subset,y_train_subset)\n",
        "t=time.time()-start\n",
        "model_name.append('Random Forest of Logistic Regressions')\n",
        "score.append(lr_random_forest.score(x_test_subset,y_test_subset))\n",
        "run_time.append(t)"
      ],
      "execution_count": 23,
      "outputs": [
        {
          "output_type": "stream",
          "name": "stderr",
          "text": [
            "/usr/local/lib/python3.7/dist-packages/sklearn/linear_model/_logistic.py:818: ConvergenceWarning: lbfgs failed to converge (status=1):\n",
            "STOP: TOTAL NO. of ITERATIONS REACHED LIMIT.\n",
            "\n",
            "Increase the number of iterations (max_iter) or scale the data as shown in:\n",
            "    https://scikit-learn.org/stable/modules/preprocessing.html\n",
            "Please also refer to the documentation for alternative solver options:\n",
            "    https://scikit-learn.org/stable/modules/linear_model.html#logistic-regression\n",
            "  extra_warning_msg=_LOGISTIC_SOLVER_CONVERGENCE_MSG,\n",
            "/usr/local/lib/python3.7/dist-packages/sklearn/linear_model/_logistic.py:818: ConvergenceWarning: lbfgs failed to converge (status=1):\n",
            "STOP: TOTAL NO. of ITERATIONS REACHED LIMIT.\n",
            "\n",
            "Increase the number of iterations (max_iter) or scale the data as shown in:\n",
            "    https://scikit-learn.org/stable/modules/preprocessing.html\n",
            "Please also refer to the documentation for alternative solver options:\n",
            "    https://scikit-learn.org/stable/modules/linear_model.html#logistic-regression\n",
            "  extra_warning_msg=_LOGISTIC_SOLVER_CONVERGENCE_MSG,\n",
            "/usr/local/lib/python3.7/dist-packages/sklearn/linear_model/_logistic.py:818: ConvergenceWarning: lbfgs failed to converge (status=1):\n",
            "STOP: TOTAL NO. of ITERATIONS REACHED LIMIT.\n",
            "\n",
            "Increase the number of iterations (max_iter) or scale the data as shown in:\n",
            "    https://scikit-learn.org/stable/modules/preprocessing.html\n",
            "Please also refer to the documentation for alternative solver options:\n",
            "    https://scikit-learn.org/stable/modules/linear_model.html#logistic-regression\n",
            "  extra_warning_msg=_LOGISTIC_SOLVER_CONVERGENCE_MSG,\n",
            "/usr/local/lib/python3.7/dist-packages/sklearn/linear_model/_logistic.py:818: ConvergenceWarning: lbfgs failed to converge (status=1):\n",
            "STOP: TOTAL NO. of ITERATIONS REACHED LIMIT.\n",
            "\n",
            "Increase the number of iterations (max_iter) or scale the data as shown in:\n",
            "    https://scikit-learn.org/stable/modules/preprocessing.html\n",
            "Please also refer to the documentation for alternative solver options:\n",
            "    https://scikit-learn.org/stable/modules/linear_model.html#logistic-regression\n",
            "  extra_warning_msg=_LOGISTIC_SOLVER_CONVERGENCE_MSG,\n",
            "/usr/local/lib/python3.7/dist-packages/sklearn/linear_model/_logistic.py:818: ConvergenceWarning: lbfgs failed to converge (status=1):\n",
            "STOP: TOTAL NO. of ITERATIONS REACHED LIMIT.\n",
            "\n",
            "Increase the number of iterations (max_iter) or scale the data as shown in:\n",
            "    https://scikit-learn.org/stable/modules/preprocessing.html\n",
            "Please also refer to the documentation for alternative solver options:\n",
            "    https://scikit-learn.org/stable/modules/linear_model.html#logistic-regression\n",
            "  extra_warning_msg=_LOGISTIC_SOLVER_CONVERGENCE_MSG,\n",
            "/usr/local/lib/python3.7/dist-packages/sklearn/linear_model/_logistic.py:818: ConvergenceWarning: lbfgs failed to converge (status=1):\n",
            "STOP: TOTAL NO. of ITERATIONS REACHED LIMIT.\n",
            "\n",
            "Increase the number of iterations (max_iter) or scale the data as shown in:\n",
            "    https://scikit-learn.org/stable/modules/preprocessing.html\n",
            "Please also refer to the documentation for alternative solver options:\n",
            "    https://scikit-learn.org/stable/modules/linear_model.html#logistic-regression\n",
            "  extra_warning_msg=_LOGISTIC_SOLVER_CONVERGENCE_MSG,\n",
            "/usr/local/lib/python3.7/dist-packages/sklearn/linear_model/_logistic.py:818: ConvergenceWarning: lbfgs failed to converge (status=1):\n",
            "STOP: TOTAL NO. of ITERATIONS REACHED LIMIT.\n",
            "\n",
            "Increase the number of iterations (max_iter) or scale the data as shown in:\n",
            "    https://scikit-learn.org/stable/modules/preprocessing.html\n",
            "Please also refer to the documentation for alternative solver options:\n",
            "    https://scikit-learn.org/stable/modules/linear_model.html#logistic-regression\n",
            "  extra_warning_msg=_LOGISTIC_SOLVER_CONVERGENCE_MSG,\n",
            "/usr/local/lib/python3.7/dist-packages/sklearn/linear_model/_logistic.py:818: ConvergenceWarning: lbfgs failed to converge (status=1):\n",
            "STOP: TOTAL NO. of ITERATIONS REACHED LIMIT.\n",
            "\n",
            "Increase the number of iterations (max_iter) or scale the data as shown in:\n",
            "    https://scikit-learn.org/stable/modules/preprocessing.html\n",
            "Please also refer to the documentation for alternative solver options:\n",
            "    https://scikit-learn.org/stable/modules/linear_model.html#logistic-regression\n",
            "  extra_warning_msg=_LOGISTIC_SOLVER_CONVERGENCE_MSG,\n",
            "/usr/local/lib/python3.7/dist-packages/sklearn/linear_model/_logistic.py:818: ConvergenceWarning: lbfgs failed to converge (status=1):\n",
            "STOP: TOTAL NO. of ITERATIONS REACHED LIMIT.\n",
            "\n",
            "Increase the number of iterations (max_iter) or scale the data as shown in:\n",
            "    https://scikit-learn.org/stable/modules/preprocessing.html\n",
            "Please also refer to the documentation for alternative solver options:\n",
            "    https://scikit-learn.org/stable/modules/linear_model.html#logistic-regression\n",
            "  extra_warning_msg=_LOGISTIC_SOLVER_CONVERGENCE_MSG,\n",
            "/usr/local/lib/python3.7/dist-packages/sklearn/linear_model/_logistic.py:818: ConvergenceWarning: lbfgs failed to converge (status=1):\n",
            "STOP: TOTAL NO. of ITERATIONS REACHED LIMIT.\n",
            "\n",
            "Increase the number of iterations (max_iter) or scale the data as shown in:\n",
            "    https://scikit-learn.org/stable/modules/preprocessing.html\n",
            "Please also refer to the documentation for alternative solver options:\n",
            "    https://scikit-learn.org/stable/modules/linear_model.html#logistic-regression\n",
            "  extra_warning_msg=_LOGISTIC_SOLVER_CONVERGENCE_MSG,\n"
          ]
        }
      ]
    },
    {
      "cell_type": "markdown",
      "metadata": {
        "id": "785-Gb38bedw"
      },
      "source": [
        "#### Random Forest of Decision Trees\n",
        "\n"
      ]
    },
    {
      "cell_type": "code",
      "metadata": {
        "id": "K0Z_q8fEbedy"
      },
      "source": [
        "start=time.time()\n",
        "lr_random_forest=BaggingClassifier(base_estimator=dtClassifier,n_estimators=10,random_state=17)\n",
        "lr_random_forest.fit(x_train_subset,y_train_subset)\n",
        "t=time.time()-start\n",
        "model_name.append('Random Forest of Decsion Tree Classifiers')\n",
        "score.append(lr_random_forest.score(x_test_subset,y_test_subset))\n",
        "run_time.append(t)"
      ],
      "execution_count": 24,
      "outputs": []
    },
    {
      "cell_type": "markdown",
      "metadata": {
        "id": "mxqUzuvsaJ5U"
      },
      "source": [
        "### Multi Layered Perceptron\n",
        "\n"
      ]
    },
    {
      "cell_type": "code",
      "metadata": {
        "colab": {
          "base_uri": "https://localhost:8080/"
        },
        "id": "ShctgP8Kl4lq",
        "outputId": "3a64f079-d6f4-4f71-f504-69185aa5fc3f"
      },
      "source": [
        "model_name"
      ],
      "execution_count": 30,
      "outputs": [
        {
          "output_type": "execute_result",
          "data": {
            "text/plain": [
              "['Logistic Regression',\n",
              " 'Decision Tree',\n",
              " 'Random Forest of Logistic Regressions',\n",
              " 'Random Forest of Decsion Tree Classifiers']"
            ]
          },
          "metadata": {},
          "execution_count": 30
        }
      ]
    },
    {
      "cell_type": "code",
      "metadata": {
        "id": "y6HDeq4jaQjt"
      },
      "source": [
        "start=time.time()\n",
        "mlp=MLPClassifier(random_state=7,max_iter=100,solver='sgd')\n",
        "mlp.fit(x_train_subset,y_train_subset)\n",
        "t=time.time()-start\n",
        "model_name.append('Multi Layered Perceptron')\n",
        "score.append(mlp.score(x_test_subset,y_test_subset))\n",
        "run_time.append(t)"
      ],
      "execution_count": 34,
      "outputs": []
    },
    {
      "cell_type": "code",
      "metadata": {
        "colab": {
          "base_uri": "https://localhost:8080/",
          "height": 206
        },
        "id": "-_7cXPQwn6Ab",
        "outputId": "4a9a5a95-630e-4f5a-c943-c445d6423380"
      },
      "source": [
        "results=pd.DataFrame()\n",
        "results['Model']=model_name\n",
        "results['Score']=score\n",
        "results['Train time']=run_time\n",
        "results"
      ],
      "execution_count": 38,
      "outputs": [
        {
          "output_type": "execute_result",
          "data": {
            "text/html": [
              "<div>\n",
              "<style scoped>\n",
              "    .dataframe tbody tr th:only-of-type {\n",
              "        vertical-align: middle;\n",
              "    }\n",
              "\n",
              "    .dataframe tbody tr th {\n",
              "        vertical-align: top;\n",
              "    }\n",
              "\n",
              "    .dataframe thead th {\n",
              "        text-align: right;\n",
              "    }\n",
              "</style>\n",
              "<table border=\"1\" class=\"dataframe\">\n",
              "  <thead>\n",
              "    <tr style=\"text-align: right;\">\n",
              "      <th></th>\n",
              "      <th>Model</th>\n",
              "      <th>Score</th>\n",
              "      <th>Train time</th>\n",
              "    </tr>\n",
              "  </thead>\n",
              "  <tbody>\n",
              "    <tr>\n",
              "      <th>0</th>\n",
              "      <td>Logistic Regression</td>\n",
              "      <td>0.787643</td>\n",
              "      <td>33.968074</td>\n",
              "    </tr>\n",
              "    <tr>\n",
              "      <th>1</th>\n",
              "      <td>Decision Tree</td>\n",
              "      <td>0.714670</td>\n",
              "      <td>130.305429</td>\n",
              "    </tr>\n",
              "    <tr>\n",
              "      <th>2</th>\n",
              "      <td>Random Forest of Logistic Regressions</td>\n",
              "      <td>0.787667</td>\n",
              "      <td>298.787541</td>\n",
              "    </tr>\n",
              "    <tr>\n",
              "      <th>3</th>\n",
              "      <td>Random Forest of Decsion Tree Classifiers</td>\n",
              "      <td>0.781822</td>\n",
              "      <td>906.325038</td>\n",
              "    </tr>\n",
              "    <tr>\n",
              "      <th>4</th>\n",
              "      <td>Multi Layered Perceptron</td>\n",
              "      <td>0.801927</td>\n",
              "      <td>443.982878</td>\n",
              "    </tr>\n",
              "  </tbody>\n",
              "</table>\n",
              "</div>"
            ],
            "text/plain": [
              "                                       Model     Score  Train time\n",
              "0                        Logistic Regression  0.787643   33.968074\n",
              "1                              Decision Tree  0.714670  130.305429\n",
              "2      Random Forest of Logistic Regressions  0.787667  298.787541\n",
              "3  Random Forest of Decsion Tree Classifiers  0.781822  906.325038\n",
              "4                   Multi Layered Perceptron  0.801927  443.982878"
            ]
          },
          "metadata": {},
          "execution_count": 38
        }
      ]
    },
    {
      "cell_type": "markdown",
      "metadata": {
        "id": "gbA2soQfa6FT"
      },
      "source": [
        "## Findings\n",
        "\n",
        "* Out of all the models tried, Multi Layered Perceptron seems to be having the best prediction. \n",
        "Hence we will be using the same model for further fine tuning and hypter parameter adjustments.\n",
        "\n",
        "* It can also be seen that the MLP takes lower time than a random forest of decision trees and gives the best accuracy on the training subset data"
      ]
    },
    {
      "cell_type": "markdown",
      "metadata": {
        "id": "wObN7Ko-kmkc"
      },
      "source": [
        "# Using tensorflow"
      ]
    },
    {
      "cell_type": "code",
      "metadata": {
        "id": "t1RWqLyTknMM"
      },
      "source": [
        "# Creating a keras model\n",
        "\n",
        "import tensorflow as tf\n",
        "import keras\n",
        "from keras import Sequential,layers\n",
        "\n",
        "\n",
        "\n",
        "model = keras.Sequential([\n",
        "    layers.Dense(19, activation='sigmoid', input_shape=(x_train.shape[1],)),\n",
        "    layers.Dense(100,activation='sigmoid'),\n",
        "    layers.Dense(50, activation='sigmoid'),\n",
        "    layers.Dense(25, activation='sigmoid'),\n",
        "    layers.Dense(10, activation='sigmoid'),\n",
        "    layers.Dense(1, activation='sigmoid'),\n",
        "])\n",
        "\n",
        "model.compile(optimizer='adam',loss='binary_crossentropy',metrics=['Accuracy'])"
      ],
      "execution_count": null,
      "outputs": []
    },
    {
      "cell_type": "code",
      "metadata": {
        "id": "xpPBO_UzknRu"
      },
      "source": [
        "dlModel = model.fit(\n",
        "    x_train, y_train,\n",
        "    validation_data=(x_test, y_test),\n",
        "    batch_size=100,\n",
        "    epochs=50,\n",
        "    verbose=1\n",
        ")\n"
      ],
      "execution_count": null,
      "outputs": []
    },
    {
      "cell_type": "code",
      "metadata": {
        "id": "pTyMBxlHknVd"
      },
      "source": [
        "df=pd.read_csv('test.csv')\n",
        "out=pd.DataFrame()\n",
        "out['Id']=df[df.columns[0]]\n",
        "df.drop([df.columns[0]],axis=1,inplace=True)\n",
        "prediction=model.predict(df)\n",
        "output=[]\n",
        "for pred in prediction:\n",
        "  if pred<=0.80:\n",
        "    output.append(float(0))\n",
        "  else:\n",
        "    output.append(float(1))\n",
        "\n",
        "out['class']=output\n",
        "out.to_csv('tensorflow81.csv',index=False)"
      ],
      "execution_count": null,
      "outputs": []
    },
    {
      "cell_type": "markdown",
      "metadata": {
        "id": "shXSHFXjYYhv"
      },
      "source": [
        "#Creating a multi layered perceptron"
      ]
    },
    {
      "cell_type": "markdown",
      "metadata": {
        "id": "mG62JVnMwyQj"
      },
      "source": [
        "### Creating a Multi Layered Perceptron for testing the model\n",
        "\n",
        "* Training the model with more data"
      ]
    },
    {
      "cell_type": "code",
      "metadata": {
        "colab": {
          "base_uri": "https://localhost:8080/"
        },
        "id": "HEgwDasKpCYs",
        "outputId": "2e00a805-2d34-4c98-994e-ca74743f9e95"
      },
      "source": [
        "x_train_subset.shape"
      ],
      "execution_count": 39,
      "outputs": [
        {
          "output_type": "execute_result",
          "data": {
            "text/plain": [
              "(1575000, 18)"
            ]
          },
          "metadata": {},
          "execution_count": 39
        }
      ]
    },
    {
      "cell_type": "markdown",
      "metadata": {
        "id": "g8cm3bOIo8nz"
      },
      "source": [
        "#### Since the MLP took 443 seconds to train on a dataset of size 1.5Million, taking a further subset of the dataset using stratified sampling to find the best hyper parameters. "
      ]
    },
    {
      "cell_type": "code",
      "metadata": {
        "id": "9mj7YVicswuc"
      },
      "source": [
        "#Creating a smaller subset of data\n",
        "x_train_micro,x_test_micro,y_train_micro,y_test_micro=train_test_split(x_train_subset,y_train_subset,test_size=0.8,stratify=y_train_subset)"
      ],
      "execution_count": 49,
      "outputs": []
    },
    {
      "cell_type": "code",
      "metadata": {
        "colab": {
          "base_uri": "https://localhost:8080/"
        },
        "id": "aTA_65-FswdP",
        "outputId": "04394ba1-ad2a-4127-bb14-fed77ece4d62"
      },
      "source": [
        "x_train_micro.shape"
      ],
      "execution_count": 50,
      "outputs": [
        {
          "output_type": "execute_result",
          "data": {
            "text/plain": [
              "(315000, 18)"
            ]
          },
          "metadata": {},
          "execution_count": 50
        }
      ]
    },
    {
      "cell_type": "code",
      "metadata": {
        "id": "0PNU3CRAwPxv"
      },
      "source": [
        "hidden_layer_sizes=[10,12,15,18,20]\n",
        "solver=['sgd','adam']\n",
        "activation=['identify','logistic','relu','tanh']\n",
        "batch_size=[100,300,600,1000]\n",
        "learning_rate=['constant','invscaling','adaptive']\n",
        "\n",
        "grid={'hidden_layer_sizes':hidden_layer_sizes,\n",
        "      'solver':solver,\n",
        "      'activation':activation,\n",
        "      'batch_size':batch_size,\n",
        "      'learning_rate':learning_rate}\n",
        "\n",
        "random_search=RandomizedSearchCV(estimator=model,param_distributions=grid,\n",
        "                                 n_iter=30,random_state=7,n_jobs=-1,\n",
        "                                 return_train_score=True,verbose=1)"
      ],
      "execution_count": null,
      "outputs": []
    },
    {
      "cell_type": "code",
      "metadata": {
        "colab": {
          "base_uri": "https://localhost:8080/",
          "height": 330
        },
        "id": "dmbTagB5wPuW",
        "outputId": "4df35a80-cd10-4f7e-b0a1-1ae6fa3a176b"
      },
      "source": [
        "mlp_search=random_search.fit(x_train_micro,y_train_micro)"
      ],
      "execution_count": 98,
      "outputs": [
        {
          "metadata": {
            "tags": null
          },
          "name": "stdout",
          "output_type": "stream",
          "text": [
            "Fitting 5 folds for each of 30 candidates, totalling 150 fits\n"
          ]
        },
        {
          "output_type": "error",
          "ename": "KeyboardInterrupt",
          "evalue": "ignored",
          "traceback": [
            "\u001b[0;31m---------------------------------------------------------------------------\u001b[0m",
            "\u001b[0;31mKeyboardInterrupt\u001b[0m                         Traceback (most recent call last)",
            "\u001b[0;32m<ipython-input-98-7c80d06fbd45>\u001b[0m in \u001b[0;36m<module>\u001b[0;34m()\u001b[0m\n\u001b[0;32m----> 1\u001b[0;31m \u001b[0mmlp_search\u001b[0m\u001b[0;34m=\u001b[0m\u001b[0mrandom_search\u001b[0m\u001b[0;34m.\u001b[0m\u001b[0mfit\u001b[0m\u001b[0;34m(\u001b[0m\u001b[0mx_train_micro\u001b[0m\u001b[0;34m,\u001b[0m\u001b[0my_train_micro\u001b[0m\u001b[0;34m)\u001b[0m\u001b[0;34m\u001b[0m\u001b[0;34m\u001b[0m\u001b[0m\n\u001b[0m",
            "\u001b[0;32m/usr/local/lib/python3.7/dist-packages/sklearn/model_selection/_search.py\u001b[0m in \u001b[0;36mfit\u001b[0;34m(self, X, y, groups, **fit_params)\u001b[0m\n\u001b[1;32m    889\u001b[0m                 \u001b[0;32mreturn\u001b[0m \u001b[0mresults\u001b[0m\u001b[0;34m\u001b[0m\u001b[0;34m\u001b[0m\u001b[0m\n\u001b[1;32m    890\u001b[0m \u001b[0;34m\u001b[0m\u001b[0m\n\u001b[0;32m--> 891\u001b[0;31m             \u001b[0mself\u001b[0m\u001b[0;34m.\u001b[0m\u001b[0m_run_search\u001b[0m\u001b[0;34m(\u001b[0m\u001b[0mevaluate_candidates\u001b[0m\u001b[0;34m)\u001b[0m\u001b[0;34m\u001b[0m\u001b[0;34m\u001b[0m\u001b[0m\n\u001b[0m\u001b[1;32m    892\u001b[0m \u001b[0;34m\u001b[0m\u001b[0m\n\u001b[1;32m    893\u001b[0m             \u001b[0;31m# multimetric is determined here because in the case of a callable\u001b[0m\u001b[0;34m\u001b[0m\u001b[0;34m\u001b[0m\u001b[0;34m\u001b[0m\u001b[0m\n",
            "\u001b[0;32m/usr/local/lib/python3.7/dist-packages/sklearn/model_selection/_search.py\u001b[0m in \u001b[0;36m_run_search\u001b[0;34m(self, evaluate_candidates)\u001b[0m\n\u001b[1;32m   1766\u001b[0m         evaluate_candidates(\n\u001b[1;32m   1767\u001b[0m             ParameterSampler(\n\u001b[0;32m-> 1768\u001b[0;31m                 \u001b[0mself\u001b[0m\u001b[0;34m.\u001b[0m\u001b[0mparam_distributions\u001b[0m\u001b[0;34m,\u001b[0m \u001b[0mself\u001b[0m\u001b[0;34m.\u001b[0m\u001b[0mn_iter\u001b[0m\u001b[0;34m,\u001b[0m \u001b[0mrandom_state\u001b[0m\u001b[0;34m=\u001b[0m\u001b[0mself\u001b[0m\u001b[0;34m.\u001b[0m\u001b[0mrandom_state\u001b[0m\u001b[0;34m\u001b[0m\u001b[0;34m\u001b[0m\u001b[0m\n\u001b[0m\u001b[1;32m   1769\u001b[0m             )\n\u001b[1;32m   1770\u001b[0m         )\n",
            "\u001b[0;32m/usr/local/lib/python3.7/dist-packages/sklearn/model_selection/_search.py\u001b[0m in \u001b[0;36mevaluate_candidates\u001b[0;34m(candidate_params, cv, more_results)\u001b[0m\n\u001b[1;32m    849\u001b[0m                     )\n\u001b[1;32m    850\u001b[0m                     for (cand_idx, parameters), (split_idx, (train, test)) in product(\n\u001b[0;32m--> 851\u001b[0;31m                         \u001b[0menumerate\u001b[0m\u001b[0;34m(\u001b[0m\u001b[0mcandidate_params\u001b[0m\u001b[0;34m)\u001b[0m\u001b[0;34m,\u001b[0m \u001b[0menumerate\u001b[0m\u001b[0;34m(\u001b[0m\u001b[0mcv\u001b[0m\u001b[0;34m.\u001b[0m\u001b[0msplit\u001b[0m\u001b[0;34m(\u001b[0m\u001b[0mX\u001b[0m\u001b[0;34m,\u001b[0m \u001b[0my\u001b[0m\u001b[0;34m,\u001b[0m \u001b[0mgroups\u001b[0m\u001b[0;34m)\u001b[0m\u001b[0;34m)\u001b[0m\u001b[0;34m\u001b[0m\u001b[0;34m\u001b[0m\u001b[0m\n\u001b[0m\u001b[1;32m    852\u001b[0m                     )\n\u001b[1;32m    853\u001b[0m                 )\n",
            "\u001b[0;32m/usr/local/lib/python3.7/dist-packages/joblib/parallel.py\u001b[0m in \u001b[0;36m__call__\u001b[0;34m(self, iterable)\u001b[0m\n\u001b[1;32m   1054\u001b[0m \u001b[0;34m\u001b[0m\u001b[0m\n\u001b[1;32m   1055\u001b[0m             \u001b[0;32mwith\u001b[0m \u001b[0mself\u001b[0m\u001b[0;34m.\u001b[0m\u001b[0m_backend\u001b[0m\u001b[0;34m.\u001b[0m\u001b[0mretrieval_context\u001b[0m\u001b[0;34m(\u001b[0m\u001b[0;34m)\u001b[0m\u001b[0;34m:\u001b[0m\u001b[0;34m\u001b[0m\u001b[0;34m\u001b[0m\u001b[0m\n\u001b[0;32m-> 1056\u001b[0;31m                 \u001b[0mself\u001b[0m\u001b[0;34m.\u001b[0m\u001b[0mretrieve\u001b[0m\u001b[0;34m(\u001b[0m\u001b[0;34m)\u001b[0m\u001b[0;34m\u001b[0m\u001b[0;34m\u001b[0m\u001b[0m\n\u001b[0m\u001b[1;32m   1057\u001b[0m             \u001b[0;31m# Make sure that we get a last message telling us we are done\u001b[0m\u001b[0;34m\u001b[0m\u001b[0;34m\u001b[0m\u001b[0;34m\u001b[0m\u001b[0m\n\u001b[1;32m   1058\u001b[0m             \u001b[0melapsed_time\u001b[0m \u001b[0;34m=\u001b[0m \u001b[0mtime\u001b[0m\u001b[0;34m.\u001b[0m\u001b[0mtime\u001b[0m\u001b[0;34m(\u001b[0m\u001b[0;34m)\u001b[0m \u001b[0;34m-\u001b[0m \u001b[0mself\u001b[0m\u001b[0;34m.\u001b[0m\u001b[0m_start_time\u001b[0m\u001b[0;34m\u001b[0m\u001b[0;34m\u001b[0m\u001b[0m\n",
            "\u001b[0;32m/usr/local/lib/python3.7/dist-packages/joblib/parallel.py\u001b[0m in \u001b[0;36mretrieve\u001b[0;34m(self)\u001b[0m\n\u001b[1;32m    933\u001b[0m             \u001b[0;32mtry\u001b[0m\u001b[0;34m:\u001b[0m\u001b[0;34m\u001b[0m\u001b[0;34m\u001b[0m\u001b[0m\n\u001b[1;32m    934\u001b[0m                 \u001b[0;32mif\u001b[0m \u001b[0mgetattr\u001b[0m\u001b[0;34m(\u001b[0m\u001b[0mself\u001b[0m\u001b[0;34m.\u001b[0m\u001b[0m_backend\u001b[0m\u001b[0;34m,\u001b[0m \u001b[0;34m'supports_timeout'\u001b[0m\u001b[0;34m,\u001b[0m \u001b[0;32mFalse\u001b[0m\u001b[0;34m)\u001b[0m\u001b[0;34m:\u001b[0m\u001b[0;34m\u001b[0m\u001b[0;34m\u001b[0m\u001b[0m\n\u001b[0;32m--> 935\u001b[0;31m                     \u001b[0mself\u001b[0m\u001b[0;34m.\u001b[0m\u001b[0m_output\u001b[0m\u001b[0;34m.\u001b[0m\u001b[0mextend\u001b[0m\u001b[0;34m(\u001b[0m\u001b[0mjob\u001b[0m\u001b[0;34m.\u001b[0m\u001b[0mget\u001b[0m\u001b[0;34m(\u001b[0m\u001b[0mtimeout\u001b[0m\u001b[0;34m=\u001b[0m\u001b[0mself\u001b[0m\u001b[0;34m.\u001b[0m\u001b[0mtimeout\u001b[0m\u001b[0;34m)\u001b[0m\u001b[0;34m)\u001b[0m\u001b[0;34m\u001b[0m\u001b[0;34m\u001b[0m\u001b[0m\n\u001b[0m\u001b[1;32m    936\u001b[0m                 \u001b[0;32melse\u001b[0m\u001b[0;34m:\u001b[0m\u001b[0;34m\u001b[0m\u001b[0;34m\u001b[0m\u001b[0m\n\u001b[1;32m    937\u001b[0m                     \u001b[0mself\u001b[0m\u001b[0;34m.\u001b[0m\u001b[0m_output\u001b[0m\u001b[0;34m.\u001b[0m\u001b[0mextend\u001b[0m\u001b[0;34m(\u001b[0m\u001b[0mjob\u001b[0m\u001b[0;34m.\u001b[0m\u001b[0mget\u001b[0m\u001b[0;34m(\u001b[0m\u001b[0;34m)\u001b[0m\u001b[0;34m)\u001b[0m\u001b[0;34m\u001b[0m\u001b[0;34m\u001b[0m\u001b[0m\n",
            "\u001b[0;32m/usr/local/lib/python3.7/dist-packages/joblib/_parallel_backends.py\u001b[0m in \u001b[0;36mwrap_future_result\u001b[0;34m(future, timeout)\u001b[0m\n\u001b[1;32m    540\u001b[0m         AsyncResults.get from multiprocessing.\"\"\"\n\u001b[1;32m    541\u001b[0m         \u001b[0;32mtry\u001b[0m\u001b[0;34m:\u001b[0m\u001b[0;34m\u001b[0m\u001b[0;34m\u001b[0m\u001b[0m\n\u001b[0;32m--> 542\u001b[0;31m             \u001b[0;32mreturn\u001b[0m \u001b[0mfuture\u001b[0m\u001b[0;34m.\u001b[0m\u001b[0mresult\u001b[0m\u001b[0;34m(\u001b[0m\u001b[0mtimeout\u001b[0m\u001b[0;34m=\u001b[0m\u001b[0mtimeout\u001b[0m\u001b[0;34m)\u001b[0m\u001b[0;34m\u001b[0m\u001b[0;34m\u001b[0m\u001b[0m\n\u001b[0m\u001b[1;32m    543\u001b[0m         \u001b[0;32mexcept\u001b[0m \u001b[0mCfTimeoutError\u001b[0m \u001b[0;32mas\u001b[0m \u001b[0me\u001b[0m\u001b[0;34m:\u001b[0m\u001b[0;34m\u001b[0m\u001b[0;34m\u001b[0m\u001b[0m\n\u001b[1;32m    544\u001b[0m             \u001b[0;32mraise\u001b[0m \u001b[0mTimeoutError\u001b[0m \u001b[0;32mfrom\u001b[0m \u001b[0me\u001b[0m\u001b[0;34m\u001b[0m\u001b[0;34m\u001b[0m\u001b[0m\n",
            "\u001b[0;32m/usr/lib/python3.7/concurrent/futures/_base.py\u001b[0m in \u001b[0;36mresult\u001b[0;34m(self, timeout)\u001b[0m\n\u001b[1;32m    428\u001b[0m                 \u001b[0;32mreturn\u001b[0m \u001b[0mself\u001b[0m\u001b[0;34m.\u001b[0m\u001b[0m__get_result\u001b[0m\u001b[0;34m(\u001b[0m\u001b[0;34m)\u001b[0m\u001b[0;34m\u001b[0m\u001b[0;34m\u001b[0m\u001b[0m\n\u001b[1;32m    429\u001b[0m \u001b[0;34m\u001b[0m\u001b[0m\n\u001b[0;32m--> 430\u001b[0;31m             \u001b[0mself\u001b[0m\u001b[0;34m.\u001b[0m\u001b[0m_condition\u001b[0m\u001b[0;34m.\u001b[0m\u001b[0mwait\u001b[0m\u001b[0;34m(\u001b[0m\u001b[0mtimeout\u001b[0m\u001b[0;34m)\u001b[0m\u001b[0;34m\u001b[0m\u001b[0;34m\u001b[0m\u001b[0m\n\u001b[0m\u001b[1;32m    431\u001b[0m \u001b[0;34m\u001b[0m\u001b[0m\n\u001b[1;32m    432\u001b[0m             \u001b[0;32mif\u001b[0m \u001b[0mself\u001b[0m\u001b[0;34m.\u001b[0m\u001b[0m_state\u001b[0m \u001b[0;32min\u001b[0m \u001b[0;34m[\u001b[0m\u001b[0mCANCELLED\u001b[0m\u001b[0;34m,\u001b[0m \u001b[0mCANCELLED_AND_NOTIFIED\u001b[0m\u001b[0;34m]\u001b[0m\u001b[0;34m:\u001b[0m\u001b[0;34m\u001b[0m\u001b[0;34m\u001b[0m\u001b[0m\n",
            "\u001b[0;32m/usr/lib/python3.7/threading.py\u001b[0m in \u001b[0;36mwait\u001b[0;34m(self, timeout)\u001b[0m\n\u001b[1;32m    294\u001b[0m         \u001b[0;32mtry\u001b[0m\u001b[0;34m:\u001b[0m    \u001b[0;31m# restore state no matter what (e.g., KeyboardInterrupt)\u001b[0m\u001b[0;34m\u001b[0m\u001b[0;34m\u001b[0m\u001b[0m\n\u001b[1;32m    295\u001b[0m             \u001b[0;32mif\u001b[0m \u001b[0mtimeout\u001b[0m \u001b[0;32mis\u001b[0m \u001b[0;32mNone\u001b[0m\u001b[0;34m:\u001b[0m\u001b[0;34m\u001b[0m\u001b[0;34m\u001b[0m\u001b[0m\n\u001b[0;32m--> 296\u001b[0;31m                 \u001b[0mwaiter\u001b[0m\u001b[0;34m.\u001b[0m\u001b[0macquire\u001b[0m\u001b[0;34m(\u001b[0m\u001b[0;34m)\u001b[0m\u001b[0;34m\u001b[0m\u001b[0;34m\u001b[0m\u001b[0m\n\u001b[0m\u001b[1;32m    297\u001b[0m                 \u001b[0mgotit\u001b[0m \u001b[0;34m=\u001b[0m \u001b[0;32mTrue\u001b[0m\u001b[0;34m\u001b[0m\u001b[0;34m\u001b[0m\u001b[0m\n\u001b[1;32m    298\u001b[0m             \u001b[0;32melse\u001b[0m\u001b[0;34m:\u001b[0m\u001b[0;34m\u001b[0m\u001b[0;34m\u001b[0m\u001b[0m\n",
            "\u001b[0;31mKeyboardInterrupt\u001b[0m: "
          ]
        }
      ]
    },
    {
      "cell_type": "code",
      "metadata": {
        "id": "LGb_SyG6wPqw"
      },
      "source": [
        "mlp_search.best_params_"
      ],
      "execution_count": null,
      "outputs": []
    },
    {
      "cell_type": "code",
      "metadata": {
        "id": "CP7HDqdKwPbf"
      },
      "source": [
        "model=MLPClassifier(hidden_layer_sizes=18,random_state=7,max_iter=100,solver='sgd',batch_size=100)"
      ],
      "execution_count": 77,
      "outputs": []
    },
    {
      "cell_type": "code",
      "metadata": {
        "id": "9PTqiBPa-PMa",
        "colab": {
          "base_uri": "https://localhost:8080/"
        },
        "outputId": "374c1213-5d1b-4620-a7fb-89ddeef20828"
      },
      "source": [
        "model.fit(x_train_micro,y_train_micro)"
      ],
      "execution_count": 78,
      "outputs": [
        {
          "output_type": "execute_result",
          "data": {
            "text/plain": [
              "MLPClassifier(batch_size=100, hidden_layer_sizes=18, max_iter=100,\n",
              "              random_state=7, solver='sgd')"
            ]
          },
          "metadata": {},
          "execution_count": 78
        }
      ]
    },
    {
      "cell_type": "code",
      "metadata": {
        "colab": {
          "base_uri": "https://localhost:8080/"
        },
        "id": "-CmM1u4E4iOJ",
        "outputId": "c0f7ffd7-54f2-4fa1-fdb5-2a1e3f6aae49"
      },
      "source": [
        "model.score(x_test_micro,y_test_micro)"
      ],
      "execution_count": 79,
      "outputs": [
        {
          "output_type": "execute_result",
          "data": {
            "text/plain": [
              "0.8004261904761905"
            ]
          },
          "metadata": {},
          "execution_count": 79
        }
      ]
    },
    {
      "cell_type": "code",
      "metadata": {
        "id": "eFA-09F1Xw2s"
      },
      "source": [
        ""
      ],
      "execution_count": null,
      "outputs": []
    },
    {
      "cell_type": "code",
      "metadata": {
        "id": "JKDmKzXdXwv0"
      },
      "source": [
        ""
      ],
      "execution_count": null,
      "outputs": []
    },
    {
      "cell_type": "code",
      "metadata": {
        "id": "qChBvQiAXwnR"
      },
      "source": [
        ""
      ],
      "execution_count": null,
      "outputs": []
    },
    {
      "cell_type": "code",
      "metadata": {
        "id": "Nqh2d7z0XwVt"
      },
      "source": [
        ""
      ],
      "execution_count": null,
      "outputs": []
    },
    {
      "cell_type": "markdown",
      "metadata": {
        "id": "oWbzssZswLXf"
      },
      "source": [
        "## MLP Model output"
      ]
    },
    {
      "cell_type": "code",
      "metadata": {
        "colab": {
          "base_uri": "https://localhost:8080/"
        },
        "id": "-A15J0zX5pFT",
        "outputId": "9e84ee14-ce59-4368-9208-92d08d0b5bfd"
      },
      "source": [
        "\n",
        "model_full_data_tuned=MLPClassifier(hidden_layer_sizes=18,random_state=7,max_iter=100,solver='sgd')\n",
        "model_full_data_tuned.fit(x_train,y_train)\n",
        "model_full_data_tuned.score(x_test,y_test)"
      ],
      "execution_count": 113,
      "outputs": [
        {
          "output_type": "execute_result",
          "data": {
            "text/plain": [
              "0.8016834285714286"
            ]
          },
          "metadata": {},
          "execution_count": 113
        }
      ]
    },
    {
      "cell_type": "code",
      "metadata": {
        "colab": {
          "base_uri": "https://localhost:8080/"
        },
        "id": "IXvb9GxCAkbr",
        "outputId": "b15547c1-6afb-4f49-b8c2-89195440973e"
      },
      "source": [
        "\n",
        "model_full_data_tuned1=MLPClassifier(hidden_layer_sizes=15,random_state=7,max_iter=200,solver='sgd')\n",
        "model_full_data_tuned1.fit(x_train,y_train)\n",
        "model_full_data_tuned1.score(x_test,y_test)"
      ],
      "execution_count": 114,
      "outputs": [
        {
          "output_type": "execute_result",
          "data": {
            "text/plain": [
              "0.8015154285714285"
            ]
          },
          "metadata": {},
          "execution_count": 114
        }
      ]
    },
    {
      "cell_type": "code",
      "metadata": {
        "colab": {
          "base_uri": "https://localhost:8080/"
        },
        "id": "kAW3Xz4HAshi",
        "outputId": "ac525014-753d-4396-890e-ba171087ebbb"
      },
      "source": [
        "\n",
        "model_full_data_tuned2=MLPClassifier(hidden_layer_sizes=18,random_state=7,max_iter=100,solver='sgd',activation='tanh')\n",
        "model_full_data_tuned2.fit(x_train,y_train)\n",
        "model_full_data_tuned2.score(x_test,y_test)"
      ],
      "execution_count": 115,
      "outputs": [
        {
          "output_type": "execute_result",
          "data": {
            "text/plain": [
              "0.80184"
            ]
          },
          "metadata": {},
          "execution_count": 115
        }
      ]
    },
    {
      "cell_type": "code",
      "metadata": {
        "colab": {
          "base_uri": "https://localhost:8080/"
        },
        "id": "HrlO5TtfA4Dj",
        "outputId": "5f752770-b1df-4161-8e12-1d34d763d3f5"
      },
      "source": [
        "\n",
        "model_full_data_tuned3=MLPClassifier(hidden_layer_sizes=18,random_state=7,max_iter=100,solver='sgd',activation='tanh',learning_rate='constant')\n",
        "model_full_data_tuned3.fit(x_train,y_train)\n",
        "model_full_data_tuned3.score(x_test,y_test)"
      ],
      "execution_count": 116,
      "outputs": [
        {
          "output_type": "execute_result",
          "data": {
            "text/plain": [
              "0.80184"
            ]
          },
          "metadata": {},
          "execution_count": 116
        }
      ]
    },
    {
      "cell_type": "code",
      "metadata": {
        "colab": {
          "base_uri": "https://localhost:8080/"
        },
        "id": "WZgapGnLwKn3",
        "outputId": "d5bfbae0-5b46-4b16-c28f-4ed4302c3984"
      },
      "source": [
        "\n",
        "model_full_data4=MLPClassifier(random_state=7,max_iter=100,solver='sgd')\n",
        "model_full_data4.fit(x_train,y_train)\n",
        "model_full_data4.score(x_test,y_test)"
      ],
      "execution_count": 117,
      "outputs": [
        {
          "output_type": "execute_result",
          "data": {
            "text/plain": [
              "0.8028171428571429"
            ]
          },
          "metadata": {},
          "execution_count": 117
        }
      ]
    },
    {
      "cell_type": "code",
      "metadata": {
        "colab": {
          "base_uri": "https://localhost:8080/"
        },
        "id": "LCCp4Dt-E8cd",
        "outputId": "6ce518b0-fa2d-4c6b-e4a6-7f20b320db7a"
      },
      "source": [
        "\n",
        "model_full_data5=MLPClassifier(random_state=7,max_iter=50,solver='sgd')\n",
        "model_full_data5.fit(x_train,y_train)\n",
        "model_full_data5.score(x_test,y_test)"
      ],
      "execution_count": 118,
      "outputs": [
        {
          "output_type": "execute_result",
          "data": {
            "text/plain": [
              "0.8028171428571429"
            ]
          },
          "metadata": {},
          "execution_count": 118
        }
      ]
    },
    {
      "cell_type": "code",
      "metadata": {
        "colab": {
          "base_uri": "https://localhost:8080/"
        },
        "id": "UGJvZ3fNN5cF",
        "outputId": "f2044676-0893-4120-d01b-5db4f29ea4b5"
      },
      "source": [
        "model_full_data6=MLPClassifier(random_state=7,max_iter=100,solver='sgd')\n",
        "model_full_data6.fit(x_train,y_train)\n",
        "model_full_data6.score(x_test,y_test)"
      ],
      "execution_count": 119,
      "outputs": [
        {
          "output_type": "execute_result",
          "data": {
            "text/plain": [
              "0.8028171428571429"
            ]
          },
          "metadata": {},
          "execution_count": 119
        }
      ]
    },
    {
      "cell_type": "code",
      "metadata": {
        "colab": {
          "base_uri": "https://localhost:8080/"
        },
        "id": "eq-B2gKRbgcY",
        "outputId": "f47c70ff-61a1-4615-861d-c0900b6f2356"
      },
      "source": [
        "model_full_data_7=MLPClassifier(random_state=7,max_iter=100,solver='adam')\n",
        "model_full_data_7.fit(x_train,y_train)\n",
        "model_full_data_7.score(x_test,y_test)"
      ],
      "execution_count": 120,
      "outputs": [
        {
          "output_type": "execute_result",
          "data": {
            "text/plain": [
              "0.8035085714285715"
            ]
          },
          "metadata": {},
          "execution_count": 120
        }
      ]
    },
    {
      "cell_type": "code",
      "metadata": {
        "colab": {
          "base_uri": "https://localhost:8080/"
        },
        "id": "EG3McqrWcBys",
        "outputId": "e98cdb50-6119-43c1-dacc-af1fd88cdf62"
      },
      "source": [
        "model_full_data_8=MLPClassifier(random_state=7,max_iter=100,solver='adam',activation='logistic')\n",
        "model_full_data_8.fit(x_train,y_train)\n",
        "model_full_data_8.score(x_test,y_test)"
      ],
      "execution_count": 121,
      "outputs": [
        {
          "output_type": "execute_result",
          "data": {
            "text/plain": [
              "0.8037977142857143"
            ]
          },
          "metadata": {},
          "execution_count": 121
        }
      ]
    },
    {
      "cell_type": "code",
      "metadata": {
        "id": "hPsNvM57Dpcx"
      },
      "source": [
        "model_full_data_9=MLPClassifier(random_state=7,max_iter=100,solver='adam',activation='logistic',learning_rate='adaptive')\n",
        "model_full_data_9.fit(x_train,y_train)\n",
        "model_full_data_9.score(x_test,y_test)"
      ],
      "execution_count": null,
      "outputs": []
    },
    {
      "cell_type": "code",
      "metadata": {
        "colab": {
          "base_uri": "https://localhost:8080/",
          "height": 202
        },
        "id": "Rmvtn63yJl8u",
        "outputId": "ce5af2ce-6fad-4cf5-fc82-2c1c14da03f6"
      },
      "source": [
        "model_full_data_10=MLPClassifier(random_state=7,max_iter=100,solver='adam',activation='logistic',n_hidden_layers=4,learning_rate=0.01)\n",
        "model_full_data_10.fit(x_train,y_train)\n",
        "model_full_data_10.score(x_test,y_test)"
      ],
      "execution_count": 126,
      "outputs": [
        {
          "output_type": "error",
          "ename": "TypeError",
          "evalue": "ignored",
          "traceback": [
            "\u001b[0;31m---------------------------------------------------------------------------\u001b[0m",
            "\u001b[0;31mTypeError\u001b[0m                                 Traceback (most recent call last)",
            "\u001b[0;32m<ipython-input-126-d940411661c5>\u001b[0m in \u001b[0;36m<module>\u001b[0;34m()\u001b[0m\n\u001b[0;32m----> 1\u001b[0;31m \u001b[0mmodel_full_data_10\u001b[0m\u001b[0;34m=\u001b[0m\u001b[0mMLPClassifier\u001b[0m\u001b[0;34m(\u001b[0m\u001b[0mrandom_state\u001b[0m\u001b[0;34m=\u001b[0m\u001b[0;36m7\u001b[0m\u001b[0;34m,\u001b[0m\u001b[0mmax_iter\u001b[0m\u001b[0;34m=\u001b[0m\u001b[0;36m100\u001b[0m\u001b[0;34m,\u001b[0m\u001b[0msolver\u001b[0m\u001b[0;34m=\u001b[0m\u001b[0;34m'adam'\u001b[0m\u001b[0;34m,\u001b[0m\u001b[0mactivation\u001b[0m\u001b[0;34m=\u001b[0m\u001b[0;34m'logistic'\u001b[0m\u001b[0;34m,\u001b[0m\u001b[0mn_hidden_layers\u001b[0m\u001b[0;34m=\u001b[0m\u001b[0;36m4\u001b[0m\u001b[0;34m,\u001b[0m\u001b[0mlearning_rate\u001b[0m\u001b[0;34m=\u001b[0m\u001b[0;36m0.01\u001b[0m\u001b[0;34m)\u001b[0m\u001b[0;34m\u001b[0m\u001b[0;34m\u001b[0m\u001b[0m\n\u001b[0m\u001b[1;32m      2\u001b[0m \u001b[0mmodel_full_data_10\u001b[0m\u001b[0;34m.\u001b[0m\u001b[0mfit\u001b[0m\u001b[0;34m(\u001b[0m\u001b[0mx_train\u001b[0m\u001b[0;34m,\u001b[0m\u001b[0my_train\u001b[0m\u001b[0;34m)\u001b[0m\u001b[0;34m\u001b[0m\u001b[0;34m\u001b[0m\u001b[0m\n\u001b[1;32m      3\u001b[0m \u001b[0mmodel_full_data_10\u001b[0m\u001b[0;34m.\u001b[0m\u001b[0mscore\u001b[0m\u001b[0;34m(\u001b[0m\u001b[0mx_test\u001b[0m\u001b[0;34m,\u001b[0m\u001b[0my_test\u001b[0m\u001b[0;34m)\u001b[0m\u001b[0;34m\u001b[0m\u001b[0;34m\u001b[0m\u001b[0m\n",
            "\u001b[0;31mTypeError\u001b[0m: __init__() got an unexpected keyword argument 'n_hidden_layers'"
          ]
        }
      ]
    },
    {
      "cell_type": "markdown",
      "metadata": {
        "id": "dwPIQrh5N9xy"
      },
      "source": [
        "# Submission using the result obtained in las titeration where the accuracy was the maximum so far. \n",
        " "
      ]
    },
    {
      "cell_type": "markdown",
      "metadata": {
        "id": "4emESF4tihL_"
      },
      "source": [
        "## submission1(1).csv\n"
      ]
    },
    {
      "cell_type": "code",
      "metadata": {
        "id": "ICw4WLDpkZSZ"
      },
      "source": [
        "df=pd.read_csv('test.csv')\n",
        "out=pd.DataFrame()\n",
        "out['Id']=df[df.columns[0]]\n",
        "df.drop([df.columns[0]],axis=1,inplace=True)\n",
        "prediction=model_full_data6.predict(df)\n",
        "out['class']=prediction"
      ],
      "execution_count": 90,
      "outputs": []
    },
    {
      "cell_type": "code",
      "metadata": {
        "id": "r5VI0D_zkhLI"
      },
      "source": [
        "out.to_csv('submission1.csv',index=False)"
      ],
      "execution_count": 94,
      "outputs": []
    },
    {
      "cell_type": "markdown",
      "metadata": {
        "id": "aAKr4SA8ioTP"
      },
      "source": [
        "## Submission2.csv"
      ]
    },
    {
      "cell_type": "code",
      "metadata": {
        "id": "yHaAGXwPisTk"
      },
      "source": [
        "df=pd.read_csv('test.csv')\n",
        "out=pd.DataFrame()\n",
        "out['Id']=df[df.columns[0]]\n",
        "df.drop([df.columns[0]],axis=1,inplace=True)\n",
        "prediction=model_full_data_7.predict(df)\n",
        "out['class']=prediction\n",
        "out.to_csv('submission2.csv',index=False)"
      ],
      "execution_count": 100,
      "outputs": []
    },
    {
      "cell_type": "markdown",
      "metadata": {
        "id": "_43MctRPDFJM"
      },
      "source": [
        "\n",
        "\n",
        "```\n",
        "# This is formatted as code\n",
        "```\n",
        "\n",
        "## Submission3.csv"
      ]
    },
    {
      "cell_type": "code",
      "metadata": {
        "id": "3ZuYv4vkDFJb"
      },
      "source": [
        "df=pd.read_csv('test.csv')\n",
        "out=pd.DataFrame()\n",
        "out['Id']=df[df.columns[0]]\n",
        "df.drop([df.columns[0]],axis=1,inplace=True)\n",
        "prediction=model_full_data_8.predict(df)\n",
        "out['class']=prediction\n",
        "out.to_csv('submission3.csv',index=False)"
      ],
      "execution_count": 122,
      "outputs": []
    },
    {
      "cell_type": "code",
      "metadata": {
        "id": "n5bM9Df3DIrY"
      },
      "source": [
        ""
      ],
      "execution_count": null,
      "outputs": []
    }
  ]
}