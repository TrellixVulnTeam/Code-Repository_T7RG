{
 "cells": [
  {
   "cell_type": "markdown",
   "metadata": {
    "id": "O6jGn4Cvujh0"
   },
   "source": [
    "## Mounting the drive and navigating to the folder"
   ]
  },
  {
   "cell_type": "code",
   "execution_count": 4,
   "metadata": {
    "colab": {
     "base_uri": "https://localhost:8080/"
    },
    "execution": {
     "iopub.execute_input": "2021-11-29T05:29:53.374838Z",
     "iopub.status.busy": "2021-11-29T05:29:53.374357Z",
     "iopub.status.idle": "2021-11-29T05:29:53.404061Z",
     "shell.execute_reply": "2021-11-29T05:29:53.403276Z",
     "shell.execute_reply.started": "2021-11-29T05:29:53.374741Z"
    },
    "id": "JrxNeXbb9Knh",
    "outputId": "17158a50-0432-4775-ba3c-c9e9c06427af"
   },
   "outputs": [
    {
     "name": "stdout",
     "output_type": "stream",
     "text": [
      "Mounted at /gdrive\n"
     ]
    }
   ],
   "source": [
    "# mouting the google drive\n",
    "from google.colab import drive\n",
    "drive.mount(\"/gdrive\")"
   ]
  },
  {
   "cell_type": "code",
   "execution_count": 6,
   "metadata": {
    "colab": {
     "base_uri": "https://localhost:8080/"
    },
    "id": "Pyl8fhamRFaW",
    "outputId": "9eb714e4-a450-4d2e-b446-b3c9a4e93139"
   },
   "outputs": [
    {
     "name": "stdout",
     "output_type": "stream",
     "text": [
      "/gdrive/MyDrive/Colab Notebooks/Project\n"
     ]
    }
   ],
   "source": [
    "# Navigating to the folder in google drive where the data is stored\n",
    "%cd '/gdrive/MyDrive/Colab Notebooks/Project'\n"
   ]
  },
  {
   "cell_type": "markdown",
   "metadata": {
    "id": "o984VtbOu1tD"
   },
   "source": [
    "### Loading all the libraries"
   ]
  },
  {
   "cell_type": "code",
   "execution_count": 7,
   "metadata": {
    "execution": {
     "iopub.execute_input": "2021-11-29T05:30:52.839030Z",
     "iopub.status.busy": "2021-11-29T05:30:52.838697Z",
     "iopub.status.idle": "2021-11-29T05:30:54.339847Z",
     "shell.execute_reply": "2021-11-29T05:30:54.338766Z",
     "shell.execute_reply.started": "2021-11-29T05:30:52.838995Z"
    },
    "id": "bS7dMjAH8_-q"
   },
   "outputs": [],
   "source": [
    "import pandas as pd\n",
    "import numpy as np\n",
    "import matplotlib.pyplot as plt\n",
    "import seaborn as sns\n",
    "from sklearn.model_selection import train_test_split\n",
    "from scipy.stats import zscore\n",
    "from sklearn.linear_model import LogisticRegression\n",
    "from sklearn.neighbors import KNeighborsClassifier\n",
    "import time\n",
    "import pandas as pd\n",
    "from sklearn.model_selection import KFold\n",
    "from sklearn.model_selection import RandomizedSearchCV\n",
    "from sklearn.naive_bayes import GaussianNB\n",
    "from sklearn.tree import DecisionTreeClassifier\n",
    "from sklearn.ensemble import BaggingClassifier\n",
    "from sklearn.neural_network import MLPClassifier"
   ]
  },
  {
   "cell_type": "markdown",
   "metadata": {
    "id": "VtrWjnr1vOMD"
   },
   "source": [
    "### Reading the file"
   ]
  },
  {
   "cell_type": "code",
   "execution_count": 8,
   "metadata": {
    "execution": {
     "iopub.execute_input": "2021-11-29T05:30:54.341811Z",
     "iopub.status.busy": "2021-11-29T05:30:54.341589Z",
     "iopub.status.idle": "2021-11-29T05:31:19.038744Z",
     "shell.execute_reply": "2021-11-29T05:31:19.037750Z",
     "shell.execute_reply.started": "2021-11-29T05:30:54.341784Z"
    },
    "id": "ZOVk-8cd9B3y"
   },
   "outputs": [],
   "source": [
    "train_data=pd.read_csv('train.csv')"
   ]
  },
  {
   "cell_type": "code",
   "execution_count": 9,
   "metadata": {
    "colab": {
     "base_uri": "https://localhost:8080/",
     "height": 181
    },
    "execution": {
     "iopub.execute_input": "2021-11-29T05:31:19.040496Z",
     "iopub.status.busy": "2021-11-29T05:31:19.040143Z",
     "iopub.status.idle": "2021-11-29T05:31:19.077263Z",
     "shell.execute_reply": "2021-11-29T05:31:19.076271Z",
     "shell.execute_reply.started": "2021-11-29T05:31:19.040452Z"
    },
    "id": "Xf_W2pFivuwe",
    "outputId": "2c07844d-3ebb-4ef9-a29b-7a7c815623bb"
   },
   "outputs": [
    {
     "data": {
      "text/html": [
       "<div>\n",
       "<style scoped>\n",
       "    .dataframe tbody tr th:only-of-type {\n",
       "        vertical-align: middle;\n",
       "    }\n",
       "\n",
       "    .dataframe tbody tr th {\n",
       "        vertical-align: top;\n",
       "    }\n",
       "\n",
       "    .dataframe thead th {\n",
       "        text-align: right;\n",
       "    }\n",
       "</style>\n",
       "<table border=\"1\" class=\"dataframe\">\n",
       "  <thead>\n",
       "    <tr style=\"text-align: right;\">\n",
       "      <th></th>\n",
       "      <th>Unnamed: 0</th>\n",
       "      <th>lepton_1_pT</th>\n",
       "      <th>lepton_1_eta</th>\n",
       "      <th>lepton_1_phi</th>\n",
       "      <th>lepton_2_pT</th>\n",
       "      <th>lepton_2_eta</th>\n",
       "      <th>lepton_2_phi</th>\n",
       "      <th>missing_energy_magnitude</th>\n",
       "      <th>missing_energy_phi</th>\n",
       "      <th>MET_rel</th>\n",
       "      <th>axial_MET</th>\n",
       "      <th>M_R</th>\n",
       "      <th>M_TR_2</th>\n",
       "      <th>R</th>\n",
       "      <th>MT2</th>\n",
       "      <th>S_R</th>\n",
       "      <th>M_Delta_R</th>\n",
       "      <th>dPhi_r_b</th>\n",
       "      <th>cos(theta_r1)</th>\n",
       "      <th>class</th>\n",
       "    </tr>\n",
       "  </thead>\n",
       "  <tbody>\n",
       "    <tr>\n",
       "      <th>0</th>\n",
       "      <td>0</td>\n",
       "      <td>0.841381</td>\n",
       "      <td>1.832647</td>\n",
       "      <td>-0.689286</td>\n",
       "      <td>0.781839</td>\n",
       "      <td>0.572864</td>\n",
       "      <td>1.577097</td>\n",
       "      <td>0.398978</td>\n",
       "      <td>-0.683847</td>\n",
       "      <td>0.001826</td>\n",
       "      <td>0.651397</td>\n",
       "      <td>0.865560</td>\n",
       "      <td>0.429017</td>\n",
       "      <td>0.439840</td>\n",
       "      <td>0.0</td>\n",
       "      <td>0.796105</td>\n",
       "      <td>0.342497</td>\n",
       "      <td>0.461542</td>\n",
       "      <td>0.005710</td>\n",
       "      <td>0.0</td>\n",
       "    </tr>\n",
       "    <tr>\n",
       "      <th>1</th>\n",
       "      <td>1</td>\n",
       "      <td>0.663798</td>\n",
       "      <td>2.058290</td>\n",
       "      <td>0.681435</td>\n",
       "      <td>1.054036</td>\n",
       "      <td>0.575352</td>\n",
       "      <td>-1.001445</td>\n",
       "      <td>0.462154</td>\n",
       "      <td>-0.833411</td>\n",
       "      <td>0.199734</td>\n",
       "      <td>0.215158</td>\n",
       "      <td>0.949988</td>\n",
       "      <td>0.618046</td>\n",
       "      <td>0.577324</td>\n",
       "      <td>0.0</td>\n",
       "      <td>0.962927</td>\n",
       "      <td>0.333800</td>\n",
       "      <td>1.455247</td>\n",
       "      <td>0.101246</td>\n",
       "      <td>0.0</td>\n",
       "    </tr>\n",
       "    <tr>\n",
       "      <th>2</th>\n",
       "      <td>2</td>\n",
       "      <td>1.792225</td>\n",
       "      <td>-1.099978</td>\n",
       "      <td>0.088109</td>\n",
       "      <td>0.573157</td>\n",
       "      <td>-0.472629</td>\n",
       "      <td>1.642084</td>\n",
       "      <td>1.203374</td>\n",
       "      <td>1.506731</td>\n",
       "      <td>0.457695</td>\n",
       "      <td>-0.640507</td>\n",
       "      <td>1.157024</td>\n",
       "      <td>1.585432</td>\n",
       "      <td>1.215963</td>\n",
       "      <td>0.0</td>\n",
       "      <td>1.113292</td>\n",
       "      <td>0.645729</td>\n",
       "      <td>0.721326</td>\n",
       "      <td>0.613326</td>\n",
       "      <td>1.0</td>\n",
       "    </tr>\n",
       "  </tbody>\n",
       "</table>\n",
       "</div>"
      ],
      "text/plain": [
       "   Unnamed: 0  lepton_1_pT  lepton_1_eta  ...  dPhi_r_b  cos(theta_r1)  class\n",
       "0           0     0.841381      1.832647  ...  0.461542       0.005710    0.0\n",
       "1           1     0.663798      2.058290  ...  1.455247       0.101246    0.0\n",
       "2           2     1.792225     -1.099978  ...  0.721326       0.613326    1.0\n",
       "\n",
       "[3 rows x 20 columns]"
      ]
     },
     "execution_count": 9,
     "metadata": {},
     "output_type": "execute_result"
    }
   ],
   "source": [
    "train_data.head(3)"
   ]
  },
  {
   "cell_type": "markdown",
   "metadata": {
    "id": "Y8IiJAmGvTLa"
   },
   "source": [
    "### Splitting the data to inputs and outputs\n",
    "\n",
    "* It can be seen that the first column of the dataset is the index. Since this does not contain any essential information we can drop this column. \n",
    "\n",
    "* The last column in the dataset is the output class. This has to be seperated from the other parameters for testing and training purposes. \n"
   ]
  },
  {
   "cell_type": "code",
   "execution_count": null,
   "metadata": {
    "colab": {
     "base_uri": "https://localhost:8080/"
    },
    "execution": {
     "iopub.execute_input": "2021-11-29T05:31:19.080469Z",
     "iopub.status.busy": "2021-11-29T05:31:19.080115Z",
     "iopub.status.idle": "2021-11-29T05:31:19.086751Z",
     "shell.execute_reply": "2021-11-29T05:31:19.085915Z",
     "shell.execute_reply.started": "2021-11-29T05:31:19.080425Z"
    },
    "id": "ilqLUakm9X1r",
    "outputId": "3a992960-1fb1-4f3b-b2e9-b1b8a1f646f1"
   },
   "outputs": [
    {
     "data": {
      "text/plain": [
       "Index(['Unnamed: 0', 'lepton_1_pT', 'lepton_1_eta', 'lepton_1_phi',\n",
       "       'lepton_2_pT', 'lepton_2_eta', 'lepton_2_phi',\n",
       "       'missing_energy_magnitude', 'missing_energy_phi', 'MET_rel',\n",
       "       'axial_MET', 'M_R', 'M_TR_2', 'R', 'MT2', 'S_R', 'M_Delta_R',\n",
       "       'dPhi_r_b', 'cos(theta_r1)', 'class'],\n",
       "      dtype='object')"
      ]
     },
     "execution_count": 133,
     "metadata": {},
     "output_type": "execute_result"
    }
   ],
   "source": [
    "# Reading the names of columns in the dataset\n",
    "train_data.columns"
   ]
  },
  {
   "cell_type": "code",
   "execution_count": 10,
   "metadata": {
    "execution": {
     "iopub.execute_input": "2021-11-29T05:31:19.088452Z",
     "iopub.status.busy": "2021-11-29T05:31:19.088207Z",
     "iopub.status.idle": "2021-11-29T05:31:19.289510Z",
     "shell.execute_reply": "2021-11-29T05:31:19.288451Z",
     "shell.execute_reply.started": "2021-11-29T05:31:19.088414Z"
    },
    "id": "Xo4JHB4L9EJl"
   },
   "outputs": [],
   "source": [
    "# Dropping the firsy column which is the index and the last column which is the output\n",
    "# Output is then moved to a different variable called y_train whereas the input is stored in x_train\n",
    "x_train=train_data.drop([train_data.columns[0],'class'],axis=1)\n",
    "y_train=train_data['class']"
   ]
  },
  {
   "cell_type": "markdown",
   "metadata": {
    "id": "fJyE8yzr7bN3"
   },
   "source": [
    "## Exploratory data analysis"
   ]
  },
  {
   "cell_type": "code",
   "execution_count": null,
   "metadata": {
    "colab": {
     "base_uri": "https://localhost:8080/",
     "height": 226
    },
    "execution": {
     "iopub.execute_input": "2021-11-29T05:31:19.291178Z",
     "iopub.status.busy": "2021-11-29T05:31:19.290850Z",
     "iopub.status.idle": "2021-11-29T05:31:19.314835Z",
     "shell.execute_reply": "2021-11-29T05:31:19.313741Z",
     "shell.execute_reply.started": "2021-11-29T05:31:19.291138Z"
    },
    "id": "0N8mIO6GAsey",
    "outputId": "f51dd780-db88-48a6-c456-35f23a4f1d58"
   },
   "outputs": [
    {
     "data": {
      "text/html": [
       "<div>\n",
       "<style scoped>\n",
       "    .dataframe tbody tr th:only-of-type {\n",
       "        vertical-align: middle;\n",
       "    }\n",
       "\n",
       "    .dataframe tbody tr th {\n",
       "        vertical-align: top;\n",
       "    }\n",
       "\n",
       "    .dataframe thead th {\n",
       "        text-align: right;\n",
       "    }\n",
       "</style>\n",
       "<table border=\"1\" class=\"dataframe\">\n",
       "  <thead>\n",
       "    <tr style=\"text-align: right;\">\n",
       "      <th></th>\n",
       "      <th>lepton_1_pT</th>\n",
       "      <th>lepton_1_eta</th>\n",
       "      <th>lepton_1_phi</th>\n",
       "      <th>lepton_2_pT</th>\n",
       "      <th>lepton_2_eta</th>\n",
       "      <th>lepton_2_phi</th>\n",
       "      <th>missing_energy_magnitude</th>\n",
       "      <th>missing_energy_phi</th>\n",
       "      <th>MET_rel</th>\n",
       "      <th>axial_MET</th>\n",
       "      <th>M_R</th>\n",
       "      <th>M_TR_2</th>\n",
       "      <th>R</th>\n",
       "      <th>MT2</th>\n",
       "      <th>S_R</th>\n",
       "      <th>M_Delta_R</th>\n",
       "      <th>dPhi_r_b</th>\n",
       "      <th>cos(theta_r1)</th>\n",
       "    </tr>\n",
       "  </thead>\n",
       "  <tbody>\n",
       "    <tr>\n",
       "      <th>0</th>\n",
       "      <td>0.841381</td>\n",
       "      <td>1.832647</td>\n",
       "      <td>-0.689286</td>\n",
       "      <td>0.781839</td>\n",
       "      <td>0.572864</td>\n",
       "      <td>1.577097</td>\n",
       "      <td>0.398978</td>\n",
       "      <td>-0.683847</td>\n",
       "      <td>0.001826</td>\n",
       "      <td>0.651397</td>\n",
       "      <td>0.865560</td>\n",
       "      <td>0.429017</td>\n",
       "      <td>0.439840</td>\n",
       "      <td>0.000000</td>\n",
       "      <td>0.796105</td>\n",
       "      <td>0.342497</td>\n",
       "      <td>0.461542</td>\n",
       "      <td>0.005710</td>\n",
       "    </tr>\n",
       "    <tr>\n",
       "      <th>1</th>\n",
       "      <td>0.663798</td>\n",
       "      <td>2.058290</td>\n",
       "      <td>0.681435</td>\n",
       "      <td>1.054036</td>\n",
       "      <td>0.575352</td>\n",
       "      <td>-1.001445</td>\n",
       "      <td>0.462154</td>\n",
       "      <td>-0.833411</td>\n",
       "      <td>0.199734</td>\n",
       "      <td>0.215158</td>\n",
       "      <td>0.949988</td>\n",
       "      <td>0.618046</td>\n",
       "      <td>0.577324</td>\n",
       "      <td>0.000000</td>\n",
       "      <td>0.962927</td>\n",
       "      <td>0.333800</td>\n",
       "      <td>1.455247</td>\n",
       "      <td>0.101246</td>\n",
       "    </tr>\n",
       "    <tr>\n",
       "      <th>2</th>\n",
       "      <td>1.792225</td>\n",
       "      <td>-1.099978</td>\n",
       "      <td>0.088109</td>\n",
       "      <td>0.573157</td>\n",
       "      <td>-0.472629</td>\n",
       "      <td>1.642084</td>\n",
       "      <td>1.203374</td>\n",
       "      <td>1.506731</td>\n",
       "      <td>0.457695</td>\n",
       "      <td>-0.640507</td>\n",
       "      <td>1.157024</td>\n",
       "      <td>1.585432</td>\n",
       "      <td>1.215963</td>\n",
       "      <td>0.000000</td>\n",
       "      <td>1.113292</td>\n",
       "      <td>0.645729</td>\n",
       "      <td>0.721326</td>\n",
       "      <td>0.613326</td>\n",
       "    </tr>\n",
       "    <tr>\n",
       "      <th>3</th>\n",
       "      <td>0.893018</td>\n",
       "      <td>0.297782</td>\n",
       "      <td>-1.274870</td>\n",
       "      <td>1.316164</td>\n",
       "      <td>1.593303</td>\n",
       "      <td>0.672115</td>\n",
       "      <td>0.307014</td>\n",
       "      <td>-1.189868</td>\n",
       "      <td>0.064561</td>\n",
       "      <td>0.430909</td>\n",
       "      <td>1.162625</td>\n",
       "      <td>0.548821</td>\n",
       "      <td>0.418897</td>\n",
       "      <td>0.163908</td>\n",
       "      <td>1.157707</td>\n",
       "      <td>0.298163</td>\n",
       "      <td>0.803802</td>\n",
       "      <td>0.038902</td>\n",
       "    </tr>\n",
       "    <tr>\n",
       "      <th>4</th>\n",
       "      <td>1.338997</td>\n",
       "      <td>0.350023</td>\n",
       "      <td>-1.518510</td>\n",
       "      <td>1.482963</td>\n",
       "      <td>-0.491807</td>\n",
       "      <td>0.340170</td>\n",
       "      <td>0.415071</td>\n",
       "      <td>-1.292034</td>\n",
       "      <td>0.240712</td>\n",
       "      <td>0.611775</td>\n",
       "      <td>1.307798</td>\n",
       "      <td>0.697804</td>\n",
       "      <td>0.473487</td>\n",
       "      <td>0.429977</td>\n",
       "      <td>1.287935</td>\n",
       "      <td>0.330327</td>\n",
       "      <td>0.717237</td>\n",
       "      <td>0.003147</td>\n",
       "    </tr>\n",
       "  </tbody>\n",
       "</table>\n",
       "</div>"
      ],
      "text/plain": [
       "   lepton_1_pT  lepton_1_eta  lepton_1_phi  ...  M_Delta_R  dPhi_r_b  cos(theta_r1)\n",
       "0     0.841381      1.832647     -0.689286  ...   0.342497  0.461542       0.005710\n",
       "1     0.663798      2.058290      0.681435  ...   0.333800  1.455247       0.101246\n",
       "2     1.792225     -1.099978      0.088109  ...   0.645729  0.721326       0.613326\n",
       "3     0.893018      0.297782     -1.274870  ...   0.298163  0.803802       0.038902\n",
       "4     1.338997      0.350023     -1.518510  ...   0.330327  0.717237       0.003147\n",
       "\n",
       "[5 rows x 18 columns]"
      ]
     },
     "execution_count": 135,
     "metadata": {},
     "output_type": "execute_result"
    }
   ],
   "source": [
    "x_train.head()"
   ]
  },
  {
   "cell_type": "markdown",
   "metadata": {
    "id": "jCcx6j1e7fzU"
   },
   "source": [
    "### Finding missing or invalid entries in the dataset"
   ]
  },
  {
   "cell_type": "code",
   "execution_count": null,
   "metadata": {
    "colab": {
     "base_uri": "https://localhost:8080/"
    },
    "execution": {
     "iopub.execute_input": "2021-11-29T05:31:19.317244Z",
     "iopub.status.busy": "2021-11-29T05:31:19.316788Z",
     "iopub.status.idle": "2021-11-29T05:31:19.451101Z",
     "shell.execute_reply": "2021-11-29T05:31:19.450291Z",
     "shell.execute_reply.started": "2021-11-29T05:31:19.317080Z"
    },
    "id": "zDNKTTz57fwi",
    "outputId": "a3027b07-25ec-40b9-a979-77d0b4fbfe2c"
   },
   "outputs": [
    {
     "data": {
      "text/plain": [
       "lepton_1_pT                 0\n",
       "lepton_1_eta                0\n",
       "lepton_1_phi                0\n",
       "lepton_2_pT                 0\n",
       "lepton_2_eta                0\n",
       "lepton_2_phi                0\n",
       "missing_energy_magnitude    0\n",
       "missing_energy_phi          0\n",
       "MET_rel                     0\n",
       "axial_MET                   0\n",
       "M_R                         0\n",
       "M_TR_2                      0\n",
       "R                           0\n",
       "MT2                         0\n",
       "S_R                         0\n",
       "M_Delta_R                   0\n",
       "dPhi_r_b                    0\n",
       "cos(theta_r1)               0\n",
       "dtype: int64"
      ]
     },
     "execution_count": 136,
     "metadata": {},
     "output_type": "execute_result"
    }
   ],
   "source": [
    "x_train.isna().sum() # Checking if there are missing values in the dataset"
   ]
  },
  {
   "cell_type": "markdown",
   "metadata": {
    "id": "HO3vWarp7fth"
   },
   "source": [
    "It can be seen that there is no missing data in the dataset. Hence , there is no process needed to handle null values. However, we might still have missing values or wrong data\n",
    "\n"
   ]
  },
  {
   "cell_type": "code",
   "execution_count": null,
   "metadata": {
    "colab": {
     "base_uri": "https://localhost:8080/"
    },
    "execution": {
     "iopub.execute_input": "2021-11-29T05:31:19.452688Z",
     "iopub.status.busy": "2021-11-29T05:31:19.452220Z",
     "iopub.status.idle": "2021-11-29T05:31:19.460856Z",
     "shell.execute_reply": "2021-11-29T05:31:19.459992Z",
     "shell.execute_reply.started": "2021-11-29T05:31:19.452652Z"
    },
    "id": "otyHpxue7fqx",
    "outputId": "a5c355a0-1bf7-4f13-f86f-7936754b8abf"
   },
   "outputs": [
    {
     "data": {
      "text/plain": [
       "lepton_1_pT                 float64\n",
       "lepton_1_eta                float64\n",
       "lepton_1_phi                float64\n",
       "lepton_2_pT                 float64\n",
       "lepton_2_eta                float64\n",
       "lepton_2_phi                float64\n",
       "missing_energy_magnitude    float64\n",
       "missing_energy_phi          float64\n",
       "MET_rel                     float64\n",
       "axial_MET                   float64\n",
       "M_R                         float64\n",
       "M_TR_2                      float64\n",
       "R                           float64\n",
       "MT2                         float64\n",
       "S_R                         float64\n",
       "M_Delta_R                   float64\n",
       "dPhi_r_b                    float64\n",
       "cos(theta_r1)               float64\n",
       "dtype: object"
      ]
     },
     "execution_count": 137,
     "metadata": {},
     "output_type": "execute_result"
    }
   ],
   "source": [
    "x_train.dtypes # Checking the datatype of all columns in the dataset"
   ]
  },
  {
   "cell_type": "markdown",
   "metadata": {
    "id": "-aa33Z0l7foF"
   },
   "source": [
    "<h3> Findings from dtypes </h3>\n",
    "\n",
    "*  All the datatypes are float64 except the Unnamed 0, which means that there is no data entered as NAN, or as other string formats. "
   ]
  },
  {
   "cell_type": "markdown",
   "metadata": {
    "id": "EJx6oPB47fk8"
   },
   "source": [
    "## Understanding the statistical distribution of data"
   ]
  },
  {
   "cell_type": "code",
   "execution_count": null,
   "metadata": {
    "colab": {
     "base_uri": "https://localhost:8080/",
     "height": 320
    },
    "execution": {
     "iopub.execute_input": "2021-11-29T05:31:19.463144Z",
     "iopub.status.busy": "2021-11-29T05:31:19.462830Z",
     "iopub.status.idle": "2021-11-29T05:31:22.043405Z",
     "shell.execute_reply": "2021-11-29T05:31:22.042733Z",
     "shell.execute_reply.started": "2021-11-29T05:31:19.463102Z"
    },
    "id": "CpkNWtJa7fhp",
    "outputId": "b20f317e-092a-4b7c-d520-9f1cbe9b683f"
   },
   "outputs": [
    {
     "data": {
      "text/html": [
       "<div>\n",
       "<style scoped>\n",
       "    .dataframe tbody tr th:only-of-type {\n",
       "        vertical-align: middle;\n",
       "    }\n",
       "\n",
       "    .dataframe tbody tr th {\n",
       "        vertical-align: top;\n",
       "    }\n",
       "\n",
       "    .dataframe thead th {\n",
       "        text-align: right;\n",
       "    }\n",
       "</style>\n",
       "<table border=\"1\" class=\"dataframe\">\n",
       "  <thead>\n",
       "    <tr style=\"text-align: right;\">\n",
       "      <th></th>\n",
       "      <th>lepton_1_pT</th>\n",
       "      <th>lepton_1_eta</th>\n",
       "      <th>lepton_1_phi</th>\n",
       "      <th>lepton_2_pT</th>\n",
       "      <th>lepton_2_eta</th>\n",
       "      <th>lepton_2_phi</th>\n",
       "      <th>missing_energy_magnitude</th>\n",
       "      <th>missing_energy_phi</th>\n",
       "      <th>MET_rel</th>\n",
       "      <th>axial_MET</th>\n",
       "      <th>M_R</th>\n",
       "      <th>M_TR_2</th>\n",
       "      <th>R</th>\n",
       "      <th>MT2</th>\n",
       "      <th>S_R</th>\n",
       "      <th>M_Delta_R</th>\n",
       "      <th>dPhi_r_b</th>\n",
       "      <th>cos(theta_r1)</th>\n",
       "    </tr>\n",
       "  </thead>\n",
       "  <tbody>\n",
       "    <tr>\n",
       "      <th>count</th>\n",
       "      <td>3500000.00</td>\n",
       "      <td>3500000.00</td>\n",
       "      <td>3500000.00</td>\n",
       "      <td>3500000.00</td>\n",
       "      <td>3500000.00</td>\n",
       "      <td>3500000.00</td>\n",
       "      <td>3500000.00</td>\n",
       "      <td>3500000.00</td>\n",
       "      <td>3500000.00</td>\n",
       "      <td>3500000.00</td>\n",
       "      <td>3500000.00</td>\n",
       "      <td>3500000.00</td>\n",
       "      <td>3500000.00</td>\n",
       "      <td>3500000.00</td>\n",
       "      <td>3500000.00</td>\n",
       "      <td>3500000.00</td>\n",
       "      <td>3500000.00</td>\n",
       "      <td>3500000.00</td>\n",
       "    </tr>\n",
       "    <tr>\n",
       "      <th>mean</th>\n",
       "      <td>1.00</td>\n",
       "      <td>0.00</td>\n",
       "      <td>0.00</td>\n",
       "      <td>1.00</td>\n",
       "      <td>0.00</td>\n",
       "      <td>-0.00</td>\n",
       "      <td>1.00</td>\n",
       "      <td>-0.00</td>\n",
       "      <td>1.00</td>\n",
       "      <td>-0.00</td>\n",
       "      <td>1.00</td>\n",
       "      <td>1.00</td>\n",
       "      <td>1.00</td>\n",
       "      <td>1.00</td>\n",
       "      <td>1.00</td>\n",
       "      <td>1.00</td>\n",
       "      <td>1.00</td>\n",
       "      <td>0.22</td>\n",
       "    </tr>\n",
       "    <tr>\n",
       "      <th>std</th>\n",
       "      <td>0.69</td>\n",
       "      <td>1.00</td>\n",
       "      <td>1.00</td>\n",
       "      <td>0.65</td>\n",
       "      <td>1.00</td>\n",
       "      <td>1.00</td>\n",
       "      <td>0.87</td>\n",
       "      <td>1.00</td>\n",
       "      <td>0.89</td>\n",
       "      <td>1.00</td>\n",
       "      <td>0.63</td>\n",
       "      <td>0.58</td>\n",
       "      <td>0.47</td>\n",
       "      <td>0.86</td>\n",
       "      <td>0.62</td>\n",
       "      <td>0.62</td>\n",
       "      <td>0.44</td>\n",
       "      <td>0.20</td>\n",
       "    </tr>\n",
       "    <tr>\n",
       "      <th>min</th>\n",
       "      <td>0.25</td>\n",
       "      <td>-2.10</td>\n",
       "      <td>-1.73</td>\n",
       "      <td>0.43</td>\n",
       "      <td>-2.06</td>\n",
       "      <td>-1.73</td>\n",
       "      <td>0.00</td>\n",
       "      <td>-1.73</td>\n",
       "      <td>0.00</td>\n",
       "      <td>-15.34</td>\n",
       "      <td>0.27</td>\n",
       "      <td>0.00</td>\n",
       "      <td>0.00</td>\n",
       "      <td>0.00</td>\n",
       "      <td>0.03</td>\n",
       "      <td>0.00</td>\n",
       "      <td>0.00</td>\n",
       "      <td>0.00</td>\n",
       "    </tr>\n",
       "    <tr>\n",
       "      <th>25%</th>\n",
       "      <td>0.56</td>\n",
       "      <td>-0.76</td>\n",
       "      <td>-0.87</td>\n",
       "      <td>0.60</td>\n",
       "      <td>-0.77</td>\n",
       "      <td>-0.87</td>\n",
       "      <td>0.48</td>\n",
       "      <td>-0.87</td>\n",
       "      <td>0.37</td>\n",
       "      <td>-0.49</td>\n",
       "      <td>0.59</td>\n",
       "      <td>0.62</td>\n",
       "      <td>0.65</td>\n",
       "      <td>0.17</td>\n",
       "      <td>0.60</td>\n",
       "      <td>0.51</td>\n",
       "      <td>0.69</td>\n",
       "      <td>0.07</td>\n",
       "    </tr>\n",
       "    <tr>\n",
       "      <th>50%</th>\n",
       "      <td>0.79</td>\n",
       "      <td>0.00</td>\n",
       "      <td>-0.00</td>\n",
       "      <td>0.80</td>\n",
       "      <td>0.00</td>\n",
       "      <td>-0.00</td>\n",
       "      <td>0.77</td>\n",
       "      <td>-0.01</td>\n",
       "      <td>0.80</td>\n",
       "      <td>-0.08</td>\n",
       "      <td>0.83</td>\n",
       "      <td>0.88</td>\n",
       "      <td>0.93</td>\n",
       "      <td>0.90</td>\n",
       "      <td>0.84</td>\n",
       "      <td>0.91</td>\n",
       "      <td>1.09</td>\n",
       "      <td>0.17</td>\n",
       "    </tr>\n",
       "    <tr>\n",
       "      <th>75%</th>\n",
       "      <td>1.20</td>\n",
       "      <td>0.76</td>\n",
       "      <td>0.87</td>\n",
       "      <td>1.16</td>\n",
       "      <td>0.77</td>\n",
       "      <td>0.87</td>\n",
       "      <td>1.21</td>\n",
       "      <td>0.87</td>\n",
       "      <td>1.37</td>\n",
       "      <td>0.35</td>\n",
       "      <td>1.21</td>\n",
       "      <td>1.22</td>\n",
       "      <td>1.28</td>\n",
       "      <td>1.61</td>\n",
       "      <td>1.21</td>\n",
       "      <td>1.38</td>\n",
       "      <td>1.37</td>\n",
       "      <td>0.33</td>\n",
       "    </tr>\n",
       "    <tr>\n",
       "      <th>max</th>\n",
       "      <td>20.55</td>\n",
       "      <td>2.10</td>\n",
       "      <td>1.73</td>\n",
       "      <td>33.04</td>\n",
       "      <td>2.06</td>\n",
       "      <td>1.73</td>\n",
       "      <td>21.07</td>\n",
       "      <td>1.74</td>\n",
       "      <td>23.39</td>\n",
       "      <td>19.59</td>\n",
       "      <td>21.08</td>\n",
       "      <td>16.17</td>\n",
       "      <td>6.73</td>\n",
       "      <td>20.69</td>\n",
       "      <td>21.15</td>\n",
       "      <td>15.61</td>\n",
       "      <td>1.59</td>\n",
       "      <td>1.00</td>\n",
       "    </tr>\n",
       "  </tbody>\n",
       "</table>\n",
       "</div>"
      ],
      "text/plain": [
       "       lepton_1_pT  lepton_1_eta  ...    dPhi_r_b  cos(theta_r1)\n",
       "count   3500000.00    3500000.00  ...  3500000.00     3500000.00\n",
       "mean          1.00          0.00  ...        1.00           0.22\n",
       "std           0.69          1.00  ...        0.44           0.20\n",
       "min           0.25         -2.10  ...        0.00           0.00\n",
       "25%           0.56         -0.76  ...        0.69           0.07\n",
       "50%           0.79          0.00  ...        1.09           0.17\n",
       "75%           1.20          0.76  ...        1.37           0.33\n",
       "max          20.55          2.10  ...        1.59           1.00\n",
       "\n",
       "[8 rows x 18 columns]"
      ]
     },
     "execution_count": 138,
     "metadata": {},
     "output_type": "execute_result"
    }
   ],
   "source": [
    "np.round(x_train.describe(),2)"
   ]
  },
  {
   "cell_type": "markdown",
   "metadata": {
    "id": "z55KpnNQ7fei"
   },
   "source": [
    "\n",
    "<h3> Findings from describe table </h3>\n",
    "<body>\n",
    "\n",
    "\n",
    "*  From the above table, it can be understood that the Unnamed : 0 is the index\n",
    "* lepton_1_pt is left is right skewed as the mean and standard deviation and inclined towards the lower value of the range of values\n",
    "* missing_energy_magnitude,MET_rel,M_R,R,S_R,M_delta_R,dphi_r_b\n",
    " also has a right skewness\n",
    "\n",
    "*  The last column is the output column and it has to be seperated. \n",
    "*  To understand the dependency of other columns we will have to try other process\n",
    "\n",
    "\n",
    "\n",
    "\n",
    "\n"
   ]
  },
  {
   "cell_type": "markdown",
   "metadata": {
    "id": "az55ZX_U7fa-"
   },
   "source": [
    "### Checking for duplicate values"
   ]
  },
  {
   "cell_type": "code",
   "execution_count": null,
   "metadata": {
    "colab": {
     "base_uri": "https://localhost:8080/"
    },
    "execution": {
     "iopub.execute_input": "2021-11-29T05:31:22.045342Z",
     "iopub.status.busy": "2021-11-29T05:31:22.045104Z",
     "iopub.status.idle": "2021-11-29T05:31:34.838178Z",
     "shell.execute_reply": "2021-11-29T05:31:34.837372Z",
     "shell.execute_reply.started": "2021-11-29T05:31:22.045314Z"
    },
    "id": "0frFSFSvBUux",
    "outputId": "79cb8986-3817-42c3-b12b-0d7132b25072"
   },
   "outputs": [
    {
     "data": {
      "text/plain": [
       "0"
      ]
     },
     "execution_count": 139,
     "metadata": {},
     "output_type": "execute_result"
    }
   ],
   "source": [
    "x_train.duplicated().sum() # Checking if there are any duplicate entries in the dataset"
   ]
  },
  {
   "cell_type": "markdown",
   "metadata": {
    "id": "kQirGUgLBU03"
   },
   "source": [
    "There are no duplicate entries in the database\n",
    "\n",
    "\n"
   ]
  },
  {
   "cell_type": "markdown",
   "metadata": {
    "id": "Buu76skjBU4k"
   },
   "source": [
    "### Identifying the correlation of data"
   ]
  },
  {
   "cell_type": "code",
   "execution_count": null,
   "metadata": {
    "colab": {
     "base_uri": "https://localhost:8080/"
    },
    "execution": {
     "iopub.execute_input": "2021-11-29T05:31:34.839810Z",
     "iopub.status.busy": "2021-11-29T05:31:34.839576Z",
     "iopub.status.idle": "2021-11-29T05:31:38.369979Z",
     "shell.execute_reply": "2021-11-29T05:31:38.368998Z",
     "shell.execute_reply.started": "2021-11-29T05:31:34.839781Z"
    },
    "id": "02WjNMBgBU7z",
    "outputId": "def0c3cc-c6db-4877-9e10-c48c59d3795f"
   },
   "outputs": [
    {
     "name": "stdout",
     "output_type": "stream",
     "text": [
      "('lepton_1_pT', 'M_R', 0.8516937529653643)\n",
      "('lepton_1_pT', 'M_TR_2', 0.7242294648547011)\n",
      "('lepton_1_pT', 'S_R', 0.8116162751408211)\n",
      "('lepton_2_pT', 'M_R', 0.7974893534011629)\n",
      "('lepton_2_pT', 'S_R', 0.79932499694437)\n",
      "('missing_energy_magnitude', 'MET_rel', 0.7058940094586493)\n",
      "('missing_energy_magnitude', 'M_TR_2', 0.7217469748772937)\n",
      "('MET_rel', 'missing_energy_magnitude', 0.7058940094586493)\n",
      "('MET_rel', 'M_Delta_R', 0.74856879269838)\n",
      "('M_R', 'lepton_1_pT', 0.8516937529653643)\n",
      "('M_R', 'lepton_2_pT', 0.7974893534011629)\n",
      "('M_R', 'S_R', 0.9813072099983999)\n",
      "('M_TR_2', 'lepton_1_pT', 0.7242294648547011)\n",
      "('M_TR_2', 'missing_energy_magnitude', 0.7217469748772937)\n",
      "('MT2', 'M_Delta_R', 0.808811052489197)\n",
      "('S_R', 'lepton_1_pT', 0.8116162751408211)\n",
      "('S_R', 'lepton_2_pT', 0.79932499694437)\n",
      "('S_R', 'M_R', 0.9813072099983999)\n",
      "('M_Delta_R', 'MET_rel', 0.74856879269838)\n",
      "('M_Delta_R', 'MT2', 0.808811052489197)\n"
     ]
    }
   ],
   "source": [
    "# Set a threshold to identify pairs more than that\n",
    "correlation=x_train.corr().T\n",
    "\n",
    "# Identifying columns with high correlation\n",
    "\n",
    "high_correlation_list=[]\n",
    "threshold=0.7\n",
    "# Iterating through the rows and columns of the correlation matrix to check if there are any columns or parameters that are highly correlated\n",
    "\n",
    "for x_iter  in correlation.columns:\n",
    "  for y_iter in correlation.index:\n",
    "    if x_iter!=y_iter:\n",
    "      if (correlation[x_iter][y_iter]>threshold) & (correlation[x_iter][y_iter]>(threshold*-1)):\n",
    "        high_correlation_list.append((x_iter,y_iter,correlation[x_iter][y_iter]))\n",
    "\n",
    "for element in high_correlation_list:\n",
    "    print(element)"
   ]
  },
  {
   "cell_type": "markdown",
   "metadata": {
    "id": "Z207KWCUIxz4"
   },
   "source": [
    "### Checking for skewness of the data\n"
   ]
  },
  {
   "cell_type": "code",
   "execution_count": null,
   "metadata": {
    "colab": {
     "base_uri": "https://localhost:8080/"
    },
    "execution": {
     "iopub.execute_input": "2021-11-29T05:31:38.372935Z",
     "iopub.status.busy": "2021-11-29T05:31:38.372394Z",
     "iopub.status.idle": "2021-11-29T05:31:40.360762Z",
     "shell.execute_reply": "2021-11-29T05:31:40.359913Z",
     "shell.execute_reply.started": "2021-11-29T05:31:38.372889Z"
    },
    "id": "cTJRoLL6I0vH",
    "outputId": "e95b12bb-8763-460e-c1b4-1f2d61bf3bb8"
   },
   "outputs": [
    {
     "name": "stdout",
     "output_type": "stream",
     "text": [
      "lepton_1_pT    2.860452539757907\n",
      "lepton_2_pT    3.522050030748477\n",
      "missing_energy_magnitude    3.1158771071898284\n",
      "MET_rel    2.266883264480619\n",
      "axial_MET    1.53082620504899\n",
      "M_R    2.8762447920635874\n",
      "M_TR_2    2.381011555541814\n",
      "S_R    2.8965969645166187\n",
      "cos(theta_r1)    1.1415481567512238\n",
      " The above attributes are skewed \n"
     ]
    }
   ],
   "source": [
    "# It was visible from the datat distribution that certain parameters were skewed to the right. \n",
    "# Using the nibuily skew function to check if the parameters are skewed or not\n",
    "\n",
    "for column in x_train.columns:\n",
    "  if (train_data[column].skew()>1) | (train_data[column].skew()<-1):\n",
    "    print(column,'  ',train_data[column].skew())\n",
    "print( ' The above attributes are skewed ')"
   ]
  },
  {
   "cell_type": "markdown",
   "metadata": {
    "id": "0Py5TBthJT9-"
   },
   "source": [
    "### Next steps\n",
    "\n",
    "* Although it high correaltion and skewness are seen in the above exploration, we have'nt dropeed them as we would like to see the performance of the models with and without these corrections made. "
   ]
  },
  {
   "cell_type": "markdown",
   "metadata": {
    "id": "ZVa3bwRjwEej"
   },
   "source": [
    "\n",
    "\n",
    "\n",
    "### Dividing the dataset into train and test.\n",
    "\n",
    "* A random state of 7 is used which will be followed throughout in this process\n"
   ]
  },
  {
   "cell_type": "code",
   "execution_count": 11,
   "metadata": {
    "execution": {
     "iopub.execute_input": "2021-11-29T05:31:40.362426Z",
     "iopub.status.busy": "2021-11-29T05:31:40.362097Z",
     "iopub.status.idle": "2021-11-29T05:31:41.547764Z",
     "shell.execute_reply": "2021-11-29T05:31:41.546762Z",
     "shell.execute_reply.started": "2021-11-29T05:31:40.362382Z"
    },
    "id": "7XbPcqPR9q5g"
   },
   "outputs": [],
   "source": [
    "x_train,x_test,y_train,y_test=train_test_split(x_train,y_train,test_size=0.25,random_state=7)"
   ]
  },
  {
   "cell_type": "markdown",
   "metadata": {
    "id": "ltBFc5hiP9at"
   },
   "source": [
    "### Creating a subset of the dataset to understand which models perform better and which doesn't"
   ]
  },
  {
   "cell_type": "code",
   "execution_count": 13,
   "metadata": {
    "execution": {
     "iopub.execute_input": "2021-11-29T05:32:53.953253Z",
     "iopub.status.busy": "2021-11-29T05:32:53.952575Z",
     "iopub.status.idle": "2021-11-29T05:32:55.008153Z",
     "shell.execute_reply": "2021-11-29T05:32:55.007283Z",
     "shell.execute_reply.started": "2021-11-29T05:32:53.953203Z"
    },
    "id": "0Oji5RFVP9au"
   },
   "outputs": [],
   "source": [
    "x_train_subset,x_test_subset,y_train_subset,y_test_subset=train_test_split(x_train,y_train,test_size=0.40,random_state=7)"
   ]
  },
  {
   "cell_type": "markdown",
   "metadata": {
    "id": "PmDC5OiEP9au"
   },
   "source": [
    "### Trying different models to see its performance\n",
    "Here we have tried using\n",
    "* Logistic Regression\n",
    "* Decision Tree classifier\n",
    "* Random Forests of Logistic Regressions\n",
    "* Random Forests of Decision Tree Classifiers\n",
    "* Multi Layered Perceptron using sklearn\n",
    "* Multi Layered Perceptron using tensorflow"
   ]
  },
  {
   "cell_type": "code",
   "execution_count": null,
   "metadata": {
    "colab": {
     "base_uri": "https://localhost:8080/"
    },
    "execution": {
     "iopub.execute_input": "2021-11-29T05:38:12.074809Z",
     "iopub.status.busy": "2021-11-29T05:38:12.074482Z",
     "iopub.status.idle": "2021-11-29T05:38:12.082131Z",
     "shell.execute_reply": "2021-11-29T05:38:12.081468Z",
     "shell.execute_reply.started": "2021-11-29T05:38:12.074777Z"
    },
    "id": "HEsZ0GREP9au",
    "outputId": "91872d9b-5529-4069-f25e-63bda67df396"
   },
   "outputs": [
    {
     "data": {
      "text/plain": [
       "(1575000, 18)"
      ]
     },
     "execution_count": 144,
     "metadata": {},
     "output_type": "execute_result"
    }
   ],
   "source": [
    "x_train_subset.shape"
   ]
  },
  {
   "cell_type": "code",
   "execution_count": null,
   "metadata": {
    "execution": {
     "iopub.execute_input": "2021-11-29T05:38:27.562287Z",
     "iopub.status.busy": "2021-11-29T05:38:27.561460Z",
     "iopub.status.idle": "2021-11-29T05:38:27.566138Z",
     "shell.execute_reply": "2021-11-29T05:38:27.565441Z",
     "shell.execute_reply.started": "2021-11-29T05:38:27.562241Z"
    },
    "id": "hoYPyjZ4P9av"
   },
   "outputs": [],
   "source": [
    "#Creating lists to store results\n",
    "# This is later used to create a dataframe to summarise all the models created\n",
    "model_name=[]\n",
    "score=[]\n",
    "run_time=[]"
   ]
  },
  {
   "cell_type": "markdown",
   "metadata": {
    "id": "eEqYIgeSP9av"
   },
   "source": [
    "##### Logistic regression and Hyper parameter Tuning\n"
   ]
  },
  {
   "cell_type": "code",
   "execution_count": null,
   "metadata": {
    "colab": {
     "base_uri": "https://localhost:8080/"
    },
    "execution": {
     "iopub.execute_input": "2021-11-29T05:40:55.608534Z",
     "iopub.status.busy": "2021-11-29T05:40:55.608160Z",
     "iopub.status.idle": "2021-11-29T05:41:25.421954Z",
     "shell.execute_reply": "2021-11-29T05:41:25.418147Z",
     "shell.execute_reply.started": "2021-11-29T05:40:55.608495Z"
    },
    "id": "hq4ab5KsP9aw",
    "outputId": "1de566fe-7d50-45f1-fc03-5ee2d385bc29"
   },
   "outputs": [
    {
     "name": "stderr",
     "output_type": "stream",
     "text": [
      "/usr/local/lib/python3.7/dist-packages/sklearn/linear_model/_logistic.py:818: ConvergenceWarning: lbfgs failed to converge (status=1):\n",
      "STOP: TOTAL NO. of ITERATIONS REACHED LIMIT.\n",
      "\n",
      "Increase the number of iterations (max_iter) or scale the data as shown in:\n",
      "    https://scikit-learn.org/stable/modules/preprocessing.html\n",
      "Please also refer to the documentation for alternative solver options:\n",
      "    https://scikit-learn.org/stable/modules/linear_model.html#logistic-regression\n",
      "  extra_warning_msg=_LOGISTIC_SOLVER_CONVERGENCE_MSG,\n"
     ]
    }
   ],
   "source": [
    "start=time.time()\n",
    "lgR=LogisticRegression(random_state=7)\n",
    "lgR.fit(x_train_subset,y_train_subset)\n",
    "t=time.time()-start\n",
    "model_name.append('Logistic Regression')\n",
    "score.append(lgR.score(x_test_subset,y_test_subset))\n",
    "run_time.append(t)"
   ]
  },
  {
   "cell_type": "markdown",
   "metadata": {
    "id": "L_PB4zavW3qP"
   },
   "source": [
    "#### Decision tree classifier\n",
    "\n"
   ]
  },
  {
   "cell_type": "code",
   "execution_count": null,
   "metadata": {
    "id": "g17_cL8cXezq"
   },
   "outputs": [],
   "source": [
    "start=time.time()\n",
    "dtClassifier=DecisionTreeClassifier(random_state=7)\n",
    "dtClassifier.fit(x_train_subset,y_train_subset)\n",
    "t=time.time()-start\n",
    "model_name.append('Decision Tree')\n",
    "score.append(dtClassifier.score(x_test_subset,y_test_subset))\n",
    "run_time.append(t)"
   ]
  },
  {
   "cell_type": "markdown",
   "metadata": {
    "id": "nRVCtBPWYhjO"
   },
   "source": [
    "#### Random Forest of Linear Regressions\n",
    "\n"
   ]
  },
  {
   "cell_type": "code",
   "execution_count": null,
   "metadata": {
    "colab": {
     "base_uri": "https://localhost:8080/"
    },
    "id": "2HrvrGrGYn1g",
    "outputId": "36108364-d4b4-4777-f341-298d11bff84a"
   },
   "outputs": [
    {
     "name": "stderr",
     "output_type": "stream",
     "text": [
      "/usr/local/lib/python3.7/dist-packages/sklearn/linear_model/_logistic.py:818: ConvergenceWarning: lbfgs failed to converge (status=1):\n",
      "STOP: TOTAL NO. of ITERATIONS REACHED LIMIT.\n",
      "\n",
      "Increase the number of iterations (max_iter) or scale the data as shown in:\n",
      "    https://scikit-learn.org/stable/modules/preprocessing.html\n",
      "Please also refer to the documentation for alternative solver options:\n",
      "    https://scikit-learn.org/stable/modules/linear_model.html#logistic-regression\n",
      "  extra_warning_msg=_LOGISTIC_SOLVER_CONVERGENCE_MSG,\n",
      "/usr/local/lib/python3.7/dist-packages/sklearn/linear_model/_logistic.py:818: ConvergenceWarning: lbfgs failed to converge (status=1):\n",
      "STOP: TOTAL NO. of ITERATIONS REACHED LIMIT.\n",
      "\n",
      "Increase the number of iterations (max_iter) or scale the data as shown in:\n",
      "    https://scikit-learn.org/stable/modules/preprocessing.html\n",
      "Please also refer to the documentation for alternative solver options:\n",
      "    https://scikit-learn.org/stable/modules/linear_model.html#logistic-regression\n",
      "  extra_warning_msg=_LOGISTIC_SOLVER_CONVERGENCE_MSG,\n",
      "/usr/local/lib/python3.7/dist-packages/sklearn/linear_model/_logistic.py:818: ConvergenceWarning: lbfgs failed to converge (status=1):\n",
      "STOP: TOTAL NO. of ITERATIONS REACHED LIMIT.\n",
      "\n",
      "Increase the number of iterations (max_iter) or scale the data as shown in:\n",
      "    https://scikit-learn.org/stable/modules/preprocessing.html\n",
      "Please also refer to the documentation for alternative solver options:\n",
      "    https://scikit-learn.org/stable/modules/linear_model.html#logistic-regression\n",
      "  extra_warning_msg=_LOGISTIC_SOLVER_CONVERGENCE_MSG,\n",
      "/usr/local/lib/python3.7/dist-packages/sklearn/linear_model/_logistic.py:818: ConvergenceWarning: lbfgs failed to converge (status=1):\n",
      "STOP: TOTAL NO. of ITERATIONS REACHED LIMIT.\n",
      "\n",
      "Increase the number of iterations (max_iter) or scale the data as shown in:\n",
      "    https://scikit-learn.org/stable/modules/preprocessing.html\n",
      "Please also refer to the documentation for alternative solver options:\n",
      "    https://scikit-learn.org/stable/modules/linear_model.html#logistic-regression\n",
      "  extra_warning_msg=_LOGISTIC_SOLVER_CONVERGENCE_MSG,\n",
      "/usr/local/lib/python3.7/dist-packages/sklearn/linear_model/_logistic.py:818: ConvergenceWarning: lbfgs failed to converge (status=1):\n",
      "STOP: TOTAL NO. of ITERATIONS REACHED LIMIT.\n",
      "\n",
      "Increase the number of iterations (max_iter) or scale the data as shown in:\n",
      "    https://scikit-learn.org/stable/modules/preprocessing.html\n",
      "Please also refer to the documentation for alternative solver options:\n",
      "    https://scikit-learn.org/stable/modules/linear_model.html#logistic-regression\n",
      "  extra_warning_msg=_LOGISTIC_SOLVER_CONVERGENCE_MSG,\n",
      "/usr/local/lib/python3.7/dist-packages/sklearn/linear_model/_logistic.py:818: ConvergenceWarning: lbfgs failed to converge (status=1):\n",
      "STOP: TOTAL NO. of ITERATIONS REACHED LIMIT.\n",
      "\n",
      "Increase the number of iterations (max_iter) or scale the data as shown in:\n",
      "    https://scikit-learn.org/stable/modules/preprocessing.html\n",
      "Please also refer to the documentation for alternative solver options:\n",
      "    https://scikit-learn.org/stable/modules/linear_model.html#logistic-regression\n",
      "  extra_warning_msg=_LOGISTIC_SOLVER_CONVERGENCE_MSG,\n",
      "/usr/local/lib/python3.7/dist-packages/sklearn/linear_model/_logistic.py:818: ConvergenceWarning: lbfgs failed to converge (status=1):\n",
      "STOP: TOTAL NO. of ITERATIONS REACHED LIMIT.\n",
      "\n",
      "Increase the number of iterations (max_iter) or scale the data as shown in:\n",
      "    https://scikit-learn.org/stable/modules/preprocessing.html\n",
      "Please also refer to the documentation for alternative solver options:\n",
      "    https://scikit-learn.org/stable/modules/linear_model.html#logistic-regression\n",
      "  extra_warning_msg=_LOGISTIC_SOLVER_CONVERGENCE_MSG,\n",
      "/usr/local/lib/python3.7/dist-packages/sklearn/linear_model/_logistic.py:818: ConvergenceWarning: lbfgs failed to converge (status=1):\n",
      "STOP: TOTAL NO. of ITERATIONS REACHED LIMIT.\n",
      "\n",
      "Increase the number of iterations (max_iter) or scale the data as shown in:\n",
      "    https://scikit-learn.org/stable/modules/preprocessing.html\n",
      "Please also refer to the documentation for alternative solver options:\n",
      "    https://scikit-learn.org/stable/modules/linear_model.html#logistic-regression\n",
      "  extra_warning_msg=_LOGISTIC_SOLVER_CONVERGENCE_MSG,\n",
      "/usr/local/lib/python3.7/dist-packages/sklearn/linear_model/_logistic.py:818: ConvergenceWarning: lbfgs failed to converge (status=1):\n",
      "STOP: TOTAL NO. of ITERATIONS REACHED LIMIT.\n",
      "\n",
      "Increase the number of iterations (max_iter) or scale the data as shown in:\n",
      "    https://scikit-learn.org/stable/modules/preprocessing.html\n",
      "Please also refer to the documentation for alternative solver options:\n",
      "    https://scikit-learn.org/stable/modules/linear_model.html#logistic-regression\n",
      "  extra_warning_msg=_LOGISTIC_SOLVER_CONVERGENCE_MSG,\n",
      "/usr/local/lib/python3.7/dist-packages/sklearn/linear_model/_logistic.py:818: ConvergenceWarning: lbfgs failed to converge (status=1):\n",
      "STOP: TOTAL NO. of ITERATIONS REACHED LIMIT.\n",
      "\n",
      "Increase the number of iterations (max_iter) or scale the data as shown in:\n",
      "    https://scikit-learn.org/stable/modules/preprocessing.html\n",
      "Please also refer to the documentation for alternative solver options:\n",
      "    https://scikit-learn.org/stable/modules/linear_model.html#logistic-regression\n",
      "  extra_warning_msg=_LOGISTIC_SOLVER_CONVERGENCE_MSG,\n"
     ]
    }
   ],
   "source": [
    "start=time.time()\n",
    "lr_random_forest=BaggingClassifier(base_estimator=lgR,n_estimators=10,random_state=17)\n",
    "lr_random_forest.fit(x_train_subset,y_train_subset)\n",
    "t=time.time()-start\n",
    "model_name.append('Random Forest of Logistic Regressions')\n",
    "score.append(lr_random_forest.score(x_test_subset,y_test_subset))\n",
    "run_time.append(t)"
   ]
  },
  {
   "cell_type": "markdown",
   "metadata": {
    "id": "785-Gb38bedw"
   },
   "source": [
    "#### Random Forest of Decision Trees\n",
    "\n"
   ]
  },
  {
   "cell_type": "code",
   "execution_count": null,
   "metadata": {
    "id": "K0Z_q8fEbedy"
   },
   "outputs": [],
   "source": [
    "start=time.time()\n",
    "lr_random_forest=BaggingClassifier(base_estimator=dtClassifier,n_estimators=10,random_state=17)\n",
    "lr_random_forest.fit(x_train_subset,y_train_subset)\n",
    "t=time.time()-start\n",
    "model_name.append('Random Forest of Decsion Tree Classifiers')\n",
    "score.append(lr_random_forest.score(x_test_subset,y_test_subset))\n",
    "run_time.append(t)"
   ]
  },
  {
   "cell_type": "markdown",
   "metadata": {
    "id": "mxqUzuvsaJ5U"
   },
   "source": [
    "### Multi Layered Perceptron\n",
    "\n"
   ]
  },
  {
   "cell_type": "code",
   "execution_count": null,
   "metadata": {
    "colab": {
     "base_uri": "https://localhost:8080/"
    },
    "id": "ShctgP8Kl4lq",
    "outputId": "e02ac10e-2423-443b-ce5a-9d61bdccb739"
   },
   "outputs": [
    {
     "data": {
      "text/plain": [
       "['Logistic Regression',\n",
       " 'Decision Tree',\n",
       " 'Random Forest of Logistic Regressions',\n",
       " 'Random Forest of Decsion Tree Classifiers']"
      ]
     },
     "execution_count": 150,
     "metadata": {},
     "output_type": "execute_result"
    }
   ],
   "source": [
    "model_name"
   ]
  },
  {
   "cell_type": "code",
   "execution_count": 15,
   "metadata": {
    "id": "y6HDeq4jaQjt"
   },
   "outputs": [],
   "source": [
    "start=time.time()\n",
    "mlp=MLPClassifier(random_state=7,max_iter=100,solver='sgd')\n",
    "mlp.fit(x_train_subset,y_train_subset)\n",
    "t=time.time()-start\n",
    "model_name.append('Multi Layered Perceptron')\n",
    "score.append(mlp.score(x_test_subset,y_test_subset))\n",
    "run_time.append(t)"
   ]
  },
  {
   "cell_type": "code",
   "execution_count": null,
   "metadata": {
    "colab": {
     "base_uri": "https://localhost:8080/",
     "height": 206
    },
    "id": "-_7cXPQwn6Ab",
    "outputId": "94c9b04e-860b-40c3-ecbe-79c4c696ae34"
   },
   "outputs": [
    {
     "data": {
      "text/html": [
       "<div>\n",
       "<style scoped>\n",
       "    .dataframe tbody tr th:only-of-type {\n",
       "        vertical-align: middle;\n",
       "    }\n",
       "\n",
       "    .dataframe tbody tr th {\n",
       "        vertical-align: top;\n",
       "    }\n",
       "\n",
       "    .dataframe thead th {\n",
       "        text-align: right;\n",
       "    }\n",
       "</style>\n",
       "<table border=\"1\" class=\"dataframe\">\n",
       "  <thead>\n",
       "    <tr style=\"text-align: right;\">\n",
       "      <th></th>\n",
       "      <th>Model</th>\n",
       "      <th>Score</th>\n",
       "      <th>Train time</th>\n",
       "    </tr>\n",
       "  </thead>\n",
       "  <tbody>\n",
       "    <tr>\n",
       "      <th>0</th>\n",
       "      <td>Logistic Regression</td>\n",
       "      <td>0.787643</td>\n",
       "      <td>28.858265</td>\n",
       "    </tr>\n",
       "    <tr>\n",
       "      <th>1</th>\n",
       "      <td>Decision Tree</td>\n",
       "      <td>0.714670</td>\n",
       "      <td>129.081156</td>\n",
       "    </tr>\n",
       "    <tr>\n",
       "      <th>2</th>\n",
       "      <td>Random Forest of Logistic Regressions</td>\n",
       "      <td>0.787667</td>\n",
       "      <td>288.906142</td>\n",
       "    </tr>\n",
       "    <tr>\n",
       "      <th>3</th>\n",
       "      <td>Random Forest of Decsion Tree Classifiers</td>\n",
       "      <td>0.781822</td>\n",
       "      <td>838.045714</td>\n",
       "    </tr>\n",
       "    <tr>\n",
       "      <th>4</th>\n",
       "      <td>Multi Layered Perceptron</td>\n",
       "      <td>0.801927</td>\n",
       "      <td>445.749412</td>\n",
       "    </tr>\n",
       "  </tbody>\n",
       "</table>\n",
       "</div>"
      ],
      "text/plain": [
       "                                       Model     Score  Train time\n",
       "0                        Logistic Regression  0.787643   28.858265\n",
       "1                              Decision Tree  0.714670  129.081156\n",
       "2      Random Forest of Logistic Regressions  0.787667  288.906142\n",
       "3  Random Forest of Decsion Tree Classifiers  0.781822  838.045714\n",
       "4                   Multi Layered Perceptron  0.801927  445.749412"
      ]
     },
     "execution_count": 152,
     "metadata": {},
     "output_type": "execute_result"
    }
   ],
   "source": [
    "results=pd.DataFrame()\n",
    "results['Model']=model_name\n",
    "results['Score']=score\n",
    "results['Train time']=run_time\n",
    "results"
   ]
  },
  {
   "cell_type": "markdown",
   "metadata": {
    "id": "gbA2soQfa6FT"
   },
   "source": [
    "## Findings\n",
    "\n",
    "* Out of all the models tried, Multi Layered Perceptron seems to be having the best prediction. \n",
    "Hence we will be using the same model for further fine tuning and hypter parameter adjustments.\n",
    "\n",
    "* It can also be seen that the MLP takes lower time than a random forest of decision trees and gives the best accuracy on the training subset data"
   ]
  },
  {
   "cell_type": "markdown",
   "metadata": {
    "id": "wObN7Ko-kmkc"
   },
   "source": [
    "# Using tensorflow"
   ]
  },
  {
   "cell_type": "code",
   "execution_count": null,
   "metadata": {
    "id": "t1RWqLyTknMM"
   },
   "outputs": [],
   "source": [
    "# Creating a keras model\n",
    "\n",
    "import tensorflow as tf\n",
    "import keras\n",
    "from keras import Sequential,layers\n",
    "\n",
    "\n",
    "\n",
    "model = keras.Sequential([\n",
    "    layers.Dense(19, activation='sigmoid', input_shape=(x_train.shape[1],)),\n",
    "    layers.Dense(100,activation='sigmoid'),\n",
    "    layers.Dense(50, activation='sigmoid'),\n",
    "    layers.Dense(25, activation='sigmoid'),\n",
    "    layers.Dense(10, activation='sigmoid'),\n",
    "    layers.Dense(1, activation='sigmoid'),\n",
    "])\n",
    "\n",
    "model.compile(optimizer='adam',loss='logistic',metrics=['Accuracy'])"
   ]
  },
  {
   "cell_type": "code",
   "execution_count": null,
   "metadata": {
    "colab": {
     "base_uri": "https://localhost:8080/"
    },
    "id": "xpPBO_UzknRu",
    "outputId": "c26d9cfa-d0f2-4109-d34f-bd83a494c7fa"
   },
   "outputs": [
    {
     "name": "stdout",
     "output_type": "stream",
     "text": [
      "Epoch 1/50\n",
      "26250/26250 [==============================] - 76s 3ms/step - loss: 0.4425 - Accuracy: 0.7948 - val_loss: 0.4335 - val_Accuracy: 0.7992\n",
      "Epoch 2/50\n",
      "26250/26250 [==============================] - 69s 3ms/step - loss: 0.4341 - Accuracy: 0.7992 - val_loss: 0.4323 - val_Accuracy: 0.8001\n",
      "Epoch 3/50\n",
      "26250/26250 [==============================] - 69s 3ms/step - loss: 0.4325 - Accuracy: 0.8000 - val_loss: 0.4317 - val_Accuracy: 0.8003\n",
      "Epoch 4/50\n",
      "26250/26250 [==============================] - 69s 3ms/step - loss: 0.4316 - Accuracy: 0.8005 - val_loss: 0.4312 - val_Accuracy: 0.8012\n",
      "Epoch 5/50\n",
      "26250/26250 [==============================] - 69s 3ms/step - loss: 0.4309 - Accuracy: 0.8009 - val_loss: 0.4302 - val_Accuracy: 0.8013\n",
      "Epoch 6/50\n",
      "26250/26250 [==============================] - 70s 3ms/step - loss: 0.4305 - Accuracy: 0.8010 - val_loss: 0.4293 - val_Accuracy: 0.8013\n",
      "Epoch 7/50\n",
      "26250/26250 [==============================] - 69s 3ms/step - loss: 0.4301 - Accuracy: 0.8012 - val_loss: 0.4302 - val_Accuracy: 0.8006\n",
      "Epoch 8/50\n",
      "26250/26250 [==============================] - 69s 3ms/step - loss: 0.4298 - Accuracy: 0.8014 - val_loss: 0.4292 - val_Accuracy: 0.8016\n",
      "Epoch 9/50\n",
      "26250/26250 [==============================] - 69s 3ms/step - loss: 0.4295 - Accuracy: 0.8016 - val_loss: 0.4285 - val_Accuracy: 0.8019\n",
      "Epoch 10/50\n",
      "26250/26250 [==============================] - 69s 3ms/step - loss: 0.4292 - Accuracy: 0.8017 - val_loss: 0.4289 - val_Accuracy: 0.8020\n",
      "Epoch 11/50\n",
      "26250/26250 [==============================] - 69s 3ms/step - loss: 0.4290 - Accuracy: 0.8018 - val_loss: 0.4285 - val_Accuracy: 0.8015\n",
      "Epoch 12/50\n",
      "26250/26250 [==============================] - 71s 3ms/step - loss: 0.4287 - Accuracy: 0.8020 - val_loss: 0.4281 - val_Accuracy: 0.8021\n",
      "Epoch 13/50\n",
      "26250/26250 [==============================] - 72s 3ms/step - loss: 0.4285 - Accuracy: 0.8020 - val_loss: 0.4282 - val_Accuracy: 0.8019\n",
      "Epoch 14/50\n",
      "26250/26250 [==============================] - 70s 3ms/step - loss: 0.4283 - Accuracy: 0.8022 - val_loss: 0.4299 - val_Accuracy: 0.8015\n",
      "Epoch 15/50\n",
      "26250/26250 [==============================] - 69s 3ms/step - loss: 0.4281 - Accuracy: 0.8021 - val_loss: 0.4276 - val_Accuracy: 0.8028\n",
      "Epoch 16/50\n",
      "26250/26250 [==============================] - 70s 3ms/step - loss: 0.4278 - Accuracy: 0.8025 - val_loss: 0.4267 - val_Accuracy: 0.8031\n",
      "Epoch 17/50\n",
      "26250/26250 [==============================] - 71s 3ms/step - loss: 0.4276 - Accuracy: 0.8026 - val_loss: 0.4268 - val_Accuracy: 0.8029\n",
      "Epoch 18/50\n",
      "26250/26250 [==============================] - 70s 3ms/step - loss: 0.4274 - Accuracy: 0.8026 - val_loss: 0.4273 - val_Accuracy: 0.8027\n",
      "Epoch 19/50\n",
      "26250/26250 [==============================] - 69s 3ms/step - loss: 0.4272 - Accuracy: 0.8028 - val_loss: 0.4271 - val_Accuracy: 0.8025\n",
      "Epoch 20/50\n",
      "26250/26250 [==============================] - 68s 3ms/step - loss: 0.4270 - Accuracy: 0.8028 - val_loss: 0.4268 - val_Accuracy: 0.8029\n",
      "Epoch 21/50\n",
      "26250/26250 [==============================] - 69s 3ms/step - loss: 0.4269 - Accuracy: 0.8029 - val_loss: 0.4273 - val_Accuracy: 0.8025\n",
      "Epoch 22/50\n",
      "26250/26250 [==============================] - 69s 3ms/step - loss: 0.4267 - Accuracy: 0.8030 - val_loss: 0.4259 - val_Accuracy: 0.8034\n",
      "Epoch 23/50\n",
      "26250/26250 [==============================] - 69s 3ms/step - loss: 0.4265 - Accuracy: 0.8030 - val_loss: 0.4255 - val_Accuracy: 0.8035\n",
      "Epoch 24/50\n",
      "26250/26250 [==============================] - 68s 3ms/step - loss: 0.4264 - Accuracy: 0.8032 - val_loss: 0.4263 - val_Accuracy: 0.8031\n",
      "Epoch 25/50\n",
      "26250/26250 [==============================] - 68s 3ms/step - loss: 0.4264 - Accuracy: 0.8031 - val_loss: 0.4256 - val_Accuracy: 0.8035\n",
      "Epoch 26/50\n",
      "26250/26250 [==============================] - 69s 3ms/step - loss: 0.4263 - Accuracy: 0.8032 - val_loss: 0.4255 - val_Accuracy: 0.8035\n",
      "Epoch 27/50\n",
      "26250/26250 [==============================] - 69s 3ms/step - loss: 0.4262 - Accuracy: 0.8032 - val_loss: 0.4255 - val_Accuracy: 0.8036\n",
      "Epoch 28/50\n",
      "26250/26250 [==============================] - 69s 3ms/step - loss: 0.4261 - Accuracy: 0.8033 - val_loss: 0.4258 - val_Accuracy: 0.8034\n",
      "Epoch 29/50\n",
      "26250/26250 [==============================] - 69s 3ms/step - loss: 0.4260 - Accuracy: 0.8034 - val_loss: 0.4258 - val_Accuracy: 0.8034\n",
      "Epoch 30/50\n",
      "26250/26250 [==============================] - 69s 3ms/step - loss: 0.4260 - Accuracy: 0.8033 - val_loss: 0.4255 - val_Accuracy: 0.8034\n",
      "Epoch 31/50\n",
      "26250/26250 [==============================] - 69s 3ms/step - loss: 0.4259 - Accuracy: 0.8033 - val_loss: 0.4252 - val_Accuracy: 0.8036\n",
      "Epoch 32/50\n",
      "26250/26250 [==============================] - 73s 3ms/step - loss: 0.4258 - Accuracy: 0.8034 - val_loss: 0.4259 - val_Accuracy: 0.8035\n",
      "Epoch 33/50\n",
      "26250/26250 [==============================] - 70s 3ms/step - loss: 0.4257 - Accuracy: 0.8035 - val_loss: 0.4258 - val_Accuracy: 0.8034\n",
      "Epoch 34/50\n",
      "26250/26250 [==============================] - 69s 3ms/step - loss: 0.4257 - Accuracy: 0.8035 - val_loss: 0.4264 - val_Accuracy: 0.8030\n",
      "Epoch 35/50\n",
      "26250/26250 [==============================] - 69s 3ms/step - loss: 0.4256 - Accuracy: 0.8036 - val_loss: 0.4250 - val_Accuracy: 0.8035\n",
      "Epoch 36/50\n",
      "26250/26250 [==============================] - 70s 3ms/step - loss: 0.4255 - Accuracy: 0.8038 - val_loss: 0.4250 - val_Accuracy: 0.8037\n",
      "Epoch 37/50\n",
      "26250/26250 [==============================] - 70s 3ms/step - loss: 0.4254 - Accuracy: 0.8036 - val_loss: 0.4249 - val_Accuracy: 0.8036\n",
      "Epoch 38/50\n",
      "26250/26250 [==============================] - 69s 3ms/step - loss: 0.4254 - Accuracy: 0.8036 - val_loss: 0.4251 - val_Accuracy: 0.8039\n",
      "Epoch 39/50\n",
      "26250/26250 [==============================] - 70s 3ms/step - loss: 0.4253 - Accuracy: 0.8037 - val_loss: 0.4250 - val_Accuracy: 0.8038\n",
      "Epoch 40/50\n",
      "26250/26250 [==============================] - 70s 3ms/step - loss: 0.4253 - Accuracy: 0.8037 - val_loss: 0.4248 - val_Accuracy: 0.8036\n",
      "Epoch 41/50\n",
      "26250/26250 [==============================] - 70s 3ms/step - loss: 0.4252 - Accuracy: 0.8038 - val_loss: 0.4247 - val_Accuracy: 0.8041\n",
      "Epoch 42/50\n",
      "26250/26250 [==============================] - 69s 3ms/step - loss: 0.4252 - Accuracy: 0.8037 - val_loss: 0.4266 - val_Accuracy: 0.8028\n",
      "Epoch 43/50\n",
      "26250/26250 [==============================] - 69s 3ms/step - loss: 0.4252 - Accuracy: 0.8037 - val_loss: 0.4245 - val_Accuracy: 0.8041\n",
      "Epoch 44/50\n",
      "26250/26250 [==============================] - 69s 3ms/step - loss: 0.4251 - Accuracy: 0.8038 - val_loss: 0.4253 - val_Accuracy: 0.8033\n",
      "Epoch 45/50\n",
      "26250/26250 [==============================] - 68s 3ms/step - loss: 0.4250 - Accuracy: 0.8038 - val_loss: 0.4246 - val_Accuracy: 0.8039\n",
      "Epoch 46/50\n",
      "26250/26250 [==============================] - 69s 3ms/step - loss: 0.4250 - Accuracy: 0.8039 - val_loss: 0.4251 - val_Accuracy: 0.8036\n",
      "Epoch 47/50\n",
      "26250/26250 [==============================] - 69s 3ms/step - loss: 0.4249 - Accuracy: 0.8039 - val_loss: 0.4254 - val_Accuracy: 0.8029\n",
      "Epoch 48/50\n",
      "26250/26250 [==============================] - 69s 3ms/step - loss: 0.4249 - Accuracy: 0.8039 - val_loss: 0.4249 - val_Accuracy: 0.8041\n",
      "Epoch 49/50\n",
      "26250/26250 [==============================] - 69s 3ms/step - loss: 0.4248 - Accuracy: 0.8039 - val_loss: 0.4244 - val_Accuracy: 0.8040\n",
      "Epoch 50/50\n",
      "26250/26250 [==============================] - 69s 3ms/step - loss: 0.4248 - Accuracy: 0.8041 - val_loss: 0.4248 - val_Accuracy: 0.8041\n"
     ]
    }
   ],
   "source": [
    "dlModel = model.fit(\n",
    "    x_train, y_train,\n",
    "    validation_data=(x_test, y_test),\n",
    "    batch_size=100,\n",
    "    epochs=50,\n",
    "    verbose=1\n",
    ")\n"
   ]
  },
  {
   "cell_type": "code",
   "execution_count": null,
   "metadata": {
    "id": "pTyMBxlHknVd"
   },
   "outputs": [],
   "source": [
    "df=pd.read_csv('test.csv')\n",
    "out=pd.DataFrame()\n",
    "out['Id']=df[df.columns[0]]\n",
    "df.drop([df.columns[0]],axis=1,inplace=True)\n",
    "prediction=model.predict(df)\n",
    "output=[]\n",
    "for pred in prediction:\n",
    "  if pred<=0.80:\n",
    "    output.append(float(0))\n",
    "  else:\n",
    "    output.append(float(1))\n",
    "\n",
    "out['class']=output\n",
    "out.to_csv('tensorflow81.csv',index=False)"
   ]
  },
  {
   "cell_type": "markdown",
   "metadata": {
    "id": "rQCXtGep6ig5"
   },
   "source": [
    "Although the model was able to get good accuracy, the performance of the model on the test dataset in kaggle was pretty low.Hence excluding this model from the final submission"
   ]
  },
  {
   "cell_type": "markdown",
   "metadata": {
    "id": "shXSHFXjYYhv"
   },
   "source": [
    "#Creating a multi layered perceptron"
   ]
  },
  {
   "cell_type": "markdown",
   "metadata": {
    "id": "mG62JVnMwyQj"
   },
   "source": [
    "### Creating a Multi Layered Perceptron for testing the model\n",
    "\n",
    "* Training the model with more data"
   ]
  },
  {
   "cell_type": "code",
   "execution_count": null,
   "metadata": {
    "colab": {
     "base_uri": "https://localhost:8080/"
    },
    "id": "HEgwDasKpCYs",
    "outputId": "0f06c26d-f13e-4bd1-ba7a-1094fb83689d"
   },
   "outputs": [
    {
     "data": {
      "text/plain": [
       "(1575000, 18)"
      ]
     },
     "execution_count": 156,
     "metadata": {},
     "output_type": "execute_result"
    }
   ],
   "source": [
    "x_train_subset.shape"
   ]
  },
  {
   "cell_type": "markdown",
   "metadata": {
    "id": "g8cm3bOIo8nz"
   },
   "source": [
    "#### Since the MLP took 443 seconds to train on a dataset of size 1.5Million, taking a further subset of the dataset using stratified sampling to find the best hyper parameters. "
   ]
  },
  {
   "cell_type": "code",
   "execution_count": 18,
   "metadata": {
    "id": "9mj7YVicswuc"
   },
   "outputs": [],
   "source": [
    "#Creating a smaller subset of data\n",
    "x_train_micro,x_test_micro,y_train_micro,y_test_micro=train_test_split(x_train_subset,y_train_subset,test_size=0.8,stratify=y_train_subset)"
   ]
  },
  {
   "cell_type": "code",
   "execution_count": null,
   "metadata": {
    "colab": {
     "base_uri": "https://localhost:8080/"
    },
    "id": "aTA_65-FswdP",
    "outputId": "6d5d6bff-e73b-4b3a-b87b-bb20dc62e446"
   },
   "outputs": [
    {
     "data": {
      "text/plain": [
       "(315000, 18)"
      ]
     },
     "execution_count": 158,
     "metadata": {},
     "output_type": "execute_result"
    }
   ],
   "source": [
    "x_train_micro.shape"
   ]
  },
  {
   "cell_type": "markdown",
   "metadata": {
    "id": "0csOzRCZ_DXp"
   },
   "source": [
    "## Using Gridsearch cv for hyper parameter tuning of the MLP model"
   ]
  },
  {
   "cell_type": "code",
   "execution_count": 16,
   "metadata": {
    "id": "0PNU3CRAwPxv"
   },
   "outputs": [],
   "source": [
    "hidden_layer_sizes=[10,12,15,18,20]\n",
    "solver=['sgd','adam']\n",
    "activation=['identify','logistic','relu','tanh']\n",
    "batch_size=[100,300,600,1000]\n",
    "learning_rate=['constant','invscaling','adaptive']\n",
    "\n",
    "grid={'hidden_layer_sizes':hidden_layer_sizes,\n",
    "      'solver':solver,\n",
    "      'activation':activation,\n",
    "      'batch_size':batch_size,\n",
    "      'learning_rate':learning_rate}\n",
    "\n",
    "random_search=RandomizedSearchCV(estimator=mlp,param_distributions=grid,\n",
    "                                 n_iter=30,random_state=7,n_jobs=-1,verbose=1)"
   ]
  },
  {
   "cell_type": "code",
   "execution_count": 19,
   "metadata": {
    "colab": {
     "base_uri": "https://localhost:8080/"
    },
    "id": "dmbTagB5wPuW",
    "outputId": "cda19603-b6ca-4332-ee8f-8534d05fbc31"
   },
   "outputs": [
    {
     "name": "stdout",
     "output_type": "stream",
     "text": [
      "Fitting 5 folds for each of 30 candidates, totalling 150 fits\n"
     ]
    },
    {
     "name": "stderr",
     "output_type": "stream",
     "text": [
      "/usr/local/lib/python3.7/dist-packages/sklearn/model_selection/_validation.py:372: FitFailedWarning: \n",
      "20 fits failed out of a total of 150.\n",
      "The score on these train-test partitions for these parameters will be set to nan.\n",
      "If these failures are not expected, you can try to debug them by setting error_score='raise'.\n",
      "\n",
      "Below are more details about the failures:\n",
      "--------------------------------------------------------------------------------\n",
      "20 fits failed with the following error:\n",
      "Traceback (most recent call last):\n",
      "  File \"/usr/local/lib/python3.7/dist-packages/sklearn/model_selection/_validation.py\", line 681, in _fit_and_score\n",
      "    estimator.fit(X_train, y_train, **fit_params)\n",
      "  File \"/usr/local/lib/python3.7/dist-packages/sklearn/neural_network/_multilayer_perceptron.py\", line 752, in fit\n",
      "    return self._fit(X, y, incremental=False)\n",
      "  File \"/usr/local/lib/python3.7/dist-packages/sklearn/neural_network/_multilayer_perceptron.py\", line 384, in _fit\n",
      "    self._validate_hyperparameters()\n",
      "  File \"/usr/local/lib/python3.7/dist-packages/sklearn/neural_network/_multilayer_perceptron.py\", line 495, in _validate_hyperparameters\n",
      "    % (self.activation, list(sorted(ACTIVATIONS)))\n",
      "ValueError: The activation 'identify' is not supported. Supported activations are ['identity', 'logistic', 'relu', 'softmax', 'tanh'].\n",
      "\n",
      "  warnings.warn(some_fits_failed_message, FitFailedWarning)\n",
      "/usr/local/lib/python3.7/dist-packages/sklearn/model_selection/_search.py:972: UserWarning: One or more of the test scores are non-finite: [       nan 0.79847619 0.59259048 0.79998095 0.7980381  0.79724127\n",
      " 0.79859048 0.80124127 0.80086349        nan 0.80119365 0.79782857\n",
      " 0.80164762 0.8001873  0.80098413        nan 0.80098413 0.73623492\n",
      "        nan 0.80138095 0.80069841 0.78293651 0.79809841 0.68734603\n",
      " 0.79482222 0.63067937 0.80029841 0.79844762 0.79931746 0.80014921]\n",
      "  category=UserWarning,\n"
     ]
    }
   ],
   "source": [
    "mlp_search=random_search.fit(x_train_micro,y_train_micro)"
   ]
  },
  {
   "cell_type": "code",
   "execution_count": 20,
   "metadata": {
    "colab": {
     "base_uri": "https://localhost:8080/"
    },
    "id": "LGb_SyG6wPqw",
    "outputId": "4279c500-2a0a-4776-86de-d7af3e402fe0"
   },
   "outputs": [
    {
     "data": {
      "text/plain": [
       "{'activation': 'tanh',\n",
       " 'batch_size': 300,\n",
       " 'hidden_layer_sizes': 18,\n",
       " 'learning_rate': 'constant',\n",
       " 'solver': 'adam'}"
      ]
     },
     "execution_count": 20,
     "metadata": {},
     "output_type": "execute_result"
    }
   ],
   "source": [
    "mlp_search.best_params_"
   ]
  },
  {
   "cell_type": "markdown",
   "metadata": {
    "id": "QER3DMptNmr5"
   },
   "source": [
    "# Creating a model with the best params as specified by grid search"
   ]
  },
  {
   "cell_type": "code",
   "execution_count": 21,
   "metadata": {
    "id": "CP7HDqdKwPbf"
   },
   "outputs": [],
   "source": [
    "model=MLPClassifier(hidden_layer_sizes=18,random_state=7,max_iter=100,solver='sgd',batch_size=100)"
   ]
  },
  {
   "cell_type": "code",
   "execution_count": 22,
   "metadata": {
    "colab": {
     "base_uri": "https://localhost:8080/"
    },
    "id": "9PTqiBPa-PMa",
    "outputId": "7d248b22-819c-4faf-acd0-6f34a290a80d"
   },
   "outputs": [
    {
     "data": {
      "text/plain": [
       "MLPClassifier(batch_size=100, hidden_layer_sizes=18, max_iter=100,\n",
       "              random_state=7, solver='sgd')"
      ]
     },
     "execution_count": 22,
     "metadata": {},
     "output_type": "execute_result"
    }
   ],
   "source": [
    "model.fit(x_train_micro,y_train_micro)"
   ]
  },
  {
   "cell_type": "code",
   "execution_count": 23,
   "metadata": {
    "colab": {
     "base_uri": "https://localhost:8080/"
    },
    "id": "-CmM1u4E4iOJ",
    "outputId": "bb4e1e1d-c53d-4482-d99e-3f048e28b5ab"
   },
   "outputs": [
    {
     "data": {
      "text/plain": [
       "0.8005539682539683"
      ]
     },
     "execution_count": 23,
     "metadata": {},
     "output_type": "execute_result"
    }
   ],
   "source": [
    "model.score(x_test_micro,y_test_micro)"
   ]
  },
  {
   "cell_type": "markdown",
   "metadata": {
    "id": "oWbzssZswLXf"
   },
   "source": [
    "## Tweaking he hyper parameters more, as the Gridsearch CV Results was not performing well on the test data"
   ]
  },
  {
   "cell_type": "code",
   "execution_count": null,
   "metadata": {
    "colab": {
     "base_uri": "https://localhost:8080/"
    },
    "id": "-A15J0zX5pFT",
    "outputId": "a4daf12a-39cb-4b6e-b66a-9706a3755e8f"
   },
   "outputs": [
    {
     "data": {
      "text/plain": [
       "0.8019097142857143"
      ]
     },
     "execution_count": 165,
     "metadata": {},
     "output_type": "execute_result"
    }
   ],
   "source": [
    "\n",
    "model_full_data_tuned=MLPClassifier(hidden_layer_sizes=18,random_state=7,max_iter=100,solver='sgd')\n",
    "model_full_data_tuned.fit(x_train,y_train)\n",
    "model_full_data_tuned.score(x_test,y_test)"
   ]
  },
  {
   "cell_type": "code",
   "execution_count": null,
   "metadata": {
    "colab": {
     "base_uri": "https://localhost:8080/"
    },
    "id": "IXvb9GxCAkbr",
    "outputId": "9d40a57c-b755-4d95-9d81-4b3ccd2e8eb9"
   },
   "outputs": [
    {
     "data": {
      "text/plain": [
       "0.8018697142857143"
      ]
     },
     "execution_count": 166,
     "metadata": {},
     "output_type": "execute_result"
    }
   ],
   "source": [
    "\n",
    "model_full_data_tuned1=MLPClassifier(hidden_layer_sizes=15,random_state=7,max_iter=200,solver='sgd')\n",
    "model_full_data_tuned1.fit(x_train,y_train)\n",
    "model_full_data_tuned1.score(x_test,y_test)"
   ]
  },
  {
   "cell_type": "code",
   "execution_count": null,
   "metadata": {
    "colab": {
     "base_uri": "https://localhost:8080/"
    },
    "id": "kAW3Xz4HAshi",
    "outputId": "ac525014-753d-4396-890e-ba171087ebbb"
   },
   "outputs": [
    {
     "data": {
      "text/plain": [
       "0.80184"
      ]
     },
     "execution_count": 115,
     "metadata": {},
     "output_type": "execute_result"
    }
   ],
   "source": [
    "\n",
    "model_full_data_tuned2=MLPClassifier(hidden_layer_sizes=18,random_state=7,max_iter=100,solver='sgd',activation='tanh')\n",
    "model_full_data_tuned2.fit(x_train,y_train)\n",
    "model_full_data_tuned2.score(x_test,y_test)"
   ]
  },
  {
   "cell_type": "code",
   "execution_count": null,
   "metadata": {
    "colab": {
     "base_uri": "https://localhost:8080/"
    },
    "id": "HrlO5TtfA4Dj",
    "outputId": "5f752770-b1df-4161-8e12-1d34d763d3f5"
   },
   "outputs": [
    {
     "data": {
      "text/plain": [
       "0.80184"
      ]
     },
     "execution_count": 116,
     "metadata": {},
     "output_type": "execute_result"
    }
   ],
   "source": [
    "\n",
    "model_full_data_tuned3=MLPClassifier(hidden_layer_sizes=18,random_state=7,max_iter=100,solver='sgd',activation='tanh',learning_rate='constant')\n",
    "model_full_data_tuned3.fit(x_train,y_train)\n",
    "model_full_data_tuned3.score(x_test,y_test)"
   ]
  },
  {
   "cell_type": "code",
   "execution_count": null,
   "metadata": {
    "colab": {
     "base_uri": "https://localhost:8080/"
    },
    "id": "WZgapGnLwKn3",
    "outputId": "d5bfbae0-5b46-4b16-c28f-4ed4302c3984"
   },
   "outputs": [
    {
     "data": {
      "text/plain": [
       "0.8028171428571429"
      ]
     },
     "execution_count": 117,
     "metadata": {},
     "output_type": "execute_result"
    }
   ],
   "source": [
    "\n",
    "model_full_data4=MLPClassifier(random_state=7,max_iter=100,solver='sgd')\n",
    "model_full_data4.fit(x_train,y_train)\n",
    "model_full_data4.score(x_test,y_test)"
   ]
  },
  {
   "cell_type": "code",
   "execution_count": null,
   "metadata": {
    "colab": {
     "base_uri": "https://localhost:8080/"
    },
    "id": "LCCp4Dt-E8cd",
    "outputId": "6ce518b0-fa2d-4c6b-e4a6-7f20b320db7a"
   },
   "outputs": [
    {
     "data": {
      "text/plain": [
       "0.8028171428571429"
      ]
     },
     "execution_count": 118,
     "metadata": {},
     "output_type": "execute_result"
    }
   ],
   "source": [
    "\n",
    "model_full_data5=MLPClassifier(random_state=7,max_iter=50,solver='sgd')\n",
    "model_full_data5.fit(x_train,y_train)\n",
    "model_full_data5.score(x_test,y_test)"
   ]
  },
  {
   "cell_type": "code",
   "execution_count": null,
   "metadata": {
    "colab": {
     "base_uri": "https://localhost:8080/"
    },
    "id": "UGJvZ3fNN5cF",
    "outputId": "f2044676-0893-4120-d01b-5db4f29ea4b5"
   },
   "outputs": [
    {
     "data": {
      "text/plain": [
       "0.8028171428571429"
      ]
     },
     "execution_count": 119,
     "metadata": {},
     "output_type": "execute_result"
    }
   ],
   "source": [
    "model_full_data6=MLPClassifier(random_state=7,max_iter=100,solver='sgd')\n",
    "model_full_data6.fit(x_train,y_train)\n",
    "model_full_data6.score(x_test,y_test)"
   ]
  },
  {
   "cell_type": "code",
   "execution_count": null,
   "metadata": {
    "colab": {
     "base_uri": "https://localhost:8080/"
    },
    "id": "eq-B2gKRbgcY",
    "outputId": "f47c70ff-61a1-4615-861d-c0900b6f2356"
   },
   "outputs": [
    {
     "data": {
      "text/plain": [
       "0.8035085714285715"
      ]
     },
     "execution_count": 120,
     "metadata": {},
     "output_type": "execute_result"
    }
   ],
   "source": [
    "model_full_data_7=MLPClassifier(random_state=7,max_iter=100,solver='adam')\n",
    "model_full_data_7.fit(x_train,y_train)\n",
    "model_full_data_7.score(x_test,y_test)"
   ]
  },
  {
   "cell_type": "code",
   "execution_count": null,
   "metadata": {
    "colab": {
     "base_uri": "https://localhost:8080/"
    },
    "id": "EG3McqrWcBys",
    "outputId": "e98cdb50-6119-43c1-dacc-af1fd88cdf62"
   },
   "outputs": [
    {
     "data": {
      "text/plain": [
       "0.8037977142857143"
      ]
     },
     "execution_count": 121,
     "metadata": {},
     "output_type": "execute_result"
    }
   ],
   "source": [
    "model_full_data_8=MLPClassifier(random_state=7,max_iter=100,solver='adam',activation='logistic')\n",
    "model_full_data_8.fit(x_train,y_train)\n",
    "model_full_data_8.score(x_test,y_test)"
   ]
  },
  {
   "cell_type": "code",
   "execution_count": null,
   "metadata": {
    "colab": {
     "base_uri": "https://localhost:8080/"
    },
    "id": "hPsNvM57Dpcx",
    "outputId": "aebbcff9-50f3-4f5e-a3b4-21dbb75bc31e"
   },
   "outputs": [
    {
     "data": {
      "text/plain": [
       "0.8037977142857143"
      ]
     },
     "execution_count": 127,
     "metadata": {},
     "output_type": "execute_result"
    }
   ],
   "source": [
    "model_full_data_9=MLPClassifier(random_state=7,max_iter=100,solver='adam',activation='logistic',learning_rate='adaptive')\n",
    "model_full_data_9.fit(x_train,y_train)\n",
    "model_full_data_9.score(x_test,y_test)"
   ]
  },
  {
   "cell_type": "code",
   "execution_count": null,
   "metadata": {
    "id": "hq6Wo4o8dWdg"
   },
   "outputs": [],
   "source": [
    "# Normalising the data and applying the above model again"
   ]
  },
  {
   "cell_type": "code",
   "execution_count": null,
   "metadata": {
    "colab": {
     "base_uri": "https://localhost:8080/"
    },
    "id": "DBcDR1h9dQVM",
    "outputId": "1a9cb523-ca95-4395-ad68-da7adc403f77"
   },
   "outputs": [
    {
     "data": {
      "text/plain": [
       "0.8039668571428571"
      ]
     },
     "execution_count": 162,
     "metadata": {},
     "output_type": "execute_result"
    }
   ],
   "source": [
    "x_train=train_data.drop([train_data.columns[0],'class'],axis=1)\n",
    "y_train=train_data['class']\n",
    "x_train=x_train.apply(zscore)\n",
    "x_train,x_test,y_train,y_test=train_test_split(x_train,y_train,test_size=0.25,random_state=7)\n",
    "\n",
    "model_full_data_10=MLPClassifier(random_state=7,max_iter=100,solver='adam',activation='logistic')\n",
    "model_full_data_10.fit(x_train,y_train)\n",
    "model_full_data_10.score(x_test,y_test)"
   ]
  },
  {
   "cell_type": "markdown",
   "metadata": {
    "id": "dwPIQrh5N9xy"
   },
   "source": [
    "# Submission using the result obtained in las titeration where the accuracy was the maximum so far. \n",
    " "
   ]
  },
  {
   "cell_type": "markdown",
   "metadata": {
    "id": "4emESF4tihL_"
   },
   "source": [
    "## submission1(1).csv\n"
   ]
  },
  {
   "cell_type": "code",
   "execution_count": null,
   "metadata": {
    "id": "ICw4WLDpkZSZ"
   },
   "outputs": [],
   "source": [
    "df=pd.read_csv('test.csv')\n",
    "out=pd.DataFrame()\n",
    "out['Id']=df[df.columns[0]]\n",
    "df.drop([df.columns[0]],axis=1,inplace=True)\n",
    "prediction=model_full_data6.predict(df)\n",
    "out['class']=prediction"
   ]
  },
  {
   "cell_type": "code",
   "execution_count": null,
   "metadata": {
    "id": "r5VI0D_zkhLI"
   },
   "outputs": [],
   "source": [
    "out.to_csv('submission1.csv',index=False)"
   ]
  },
  {
   "cell_type": "markdown",
   "metadata": {
    "id": "aAKr4SA8ioTP"
   },
   "source": [
    "## Submission2.csv"
   ]
  },
  {
   "cell_type": "code",
   "execution_count": null,
   "metadata": {
    "id": "yHaAGXwPisTk"
   },
   "outputs": [],
   "source": [
    "df=pd.read_csv('test.csv')\n",
    "out=pd.DataFrame()\n",
    "out['Id']=df[df.columns[0]]\n",
    "df.drop([df.columns[0]],axis=1,inplace=True)\n",
    "prediction=model_full_data_7.predict(df)\n",
    "out['class']=prediction\n",
    "out.to_csv('submission2.csv',index=False)"
   ]
  },
  {
   "cell_type": "markdown",
   "metadata": {
    "id": "_43MctRPDFJM"
   },
   "source": [
    "\n",
    "\n",
    "```\n",
    "# This is formatted as code\n",
    "```\n",
    "\n",
    "## Submission3.csv"
   ]
  },
  {
   "cell_type": "code",
   "execution_count": null,
   "metadata": {
    "id": "3ZuYv4vkDFJb"
   },
   "outputs": [],
   "source": [
    "df=pd.read_csv('test.csv')\n",
    "out=pd.DataFrame()\n",
    "out['Id']=df[df.columns[0]]\n",
    "df.drop([df.columns[0]],axis=1,inplace=True)\n",
    "prediction=model_full_data_8.predict(df)\n",
    "out['class']=prediction\n",
    "out.to_csv('submission3.csv',index=False)"
   ]
  },
  {
   "cell_type": "markdown",
   "metadata": {
    "id": "7XWlasSDdsrV"
   },
   "source": [
    "## Submission4.csv\n"
   ]
  },
  {
   "cell_type": "code",
   "execution_count": null,
   "metadata": {
    "id": "-t9CRoiPdpws"
   },
   "outputs": [],
   "source": [
    "df=pd.read_csv('test.csv')\n",
    "out=pd.DataFrame()\n",
    "out['Id']=df[df.columns[0]]\n",
    "df.drop([df.columns[0]],axis=1,inplace=True)\n",
    "prediction=model_full_data_10.predict(df)\n",
    "out['class']=prediction\n",
    "out.to_csv('submission4.csv',index=False)"
   ]
  }
 ],
 "metadata": {
  "colab": {
   "collapsed_sections": [
    "0Py5TBthJT9-"
   ],
   "name": "Kaggle Final Submission.ipynb",
   "provenance": []
  },
  "kernelspec": {
   "display_name": "Python 3 (ipykernel)",
   "language": "python",
   "name": "python3"
  },
  "language_info": {
   "codemirror_mode": {
    "name": "ipython",
    "version": 3
   },
   "file_extension": ".py",
   "mimetype": "text/x-python",
   "name": "python",
   "nbconvert_exporter": "python",
   "pygments_lexer": "ipython3",
   "version": "3.8.8"
  }
 },
 "nbformat": 4,
 "nbformat_minor": 4
}
