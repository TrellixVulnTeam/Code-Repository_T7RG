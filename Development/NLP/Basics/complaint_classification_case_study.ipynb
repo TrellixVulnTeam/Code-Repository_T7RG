{
  "cells": [
    {
      "cell_type": "markdown",
      "metadata": {
        "id": "F5RaUZ0iXBaB"
      },
      "source": [
        "## Complaint Categorization Baseline Model\n",
        "\n",
        "Fast and efficient handling of complaints on consumer forums is vital to commerce industry today. This notebook presents a baseline approach towards solving this problem. Consumer complaints on financial products is taken as the dataset to establish results.\n",
        "\n",
        "Tf-idf (term frequency times inverse document frequency) scheme to weight individual tokens is often used in information retrieval. One of the advantage of tf-idf is reduce the impact of tokens that occur very frequently, hence offering little to none in terms of information.\n",
        "The tf-idf of term 't' in document 'd' is tf-idf(d, t) = tf(t) * idf(d, t), where tf(t) is the number of times t occurs while idf is given by idf(d, t) = log [(1 + n) / (1 + df(d,t) + 1] "
      ]
    },
    {
      "cell_type": "code",
      "source": [
        "from google.colab import drive\n",
        "drive.mount('/gdrive')"
      ],
      "metadata": {
        "colab": {
          "base_uri": "https://localhost:8080/"
        },
        "id": "H9RXwNcpfbo3",
        "outputId": "023c6610-b3ab-4332-a934-1ba69f40a99a"
      },
      "execution_count": 15,
      "outputs": [
        {
          "output_type": "stream",
          "name": "stdout",
          "text": [
            "Mounted at /gdrive\n"
          ]
        }
      ]
    },
    {
      "cell_type": "code",
      "execution_count": 16,
      "metadata": {
        "id": "KKU3Av-XXBaD"
      },
      "outputs": [],
      "source": [
        "from sklearn.feature_extraction.text import TfidfVectorizer\n",
        "from sklearn.model_selection import train_test_split\n",
        "\n",
        "# Importing pandas for operating on dataset\n",
        "import pandas as pd\n",
        "\n",
        "df = pd.read_csv('/gdrive/MyDrive/Colab Notebooks/NLP/complaints.csv')"
      ]
    },
    {
      "cell_type": "markdown",
      "metadata": {
        "id": "COwaeZO2XBaG"
      },
      "source": [
        "### Typical Complaint"
      ]
    },
    {
      "cell_type": "code",
      "source": [
        "df.head()"
      ],
      "metadata": {
        "colab": {
          "base_uri": "https://localhost:8080/",
          "height": 206
        },
        "id": "E44yvx8HAVRd",
        "outputId": "52c16737-5eab-4cee-b5d9-e4faf9a3136e"
      },
      "execution_count": 17,
      "outputs": [
        {
          "output_type": "execute_result",
          "data": {
            "text/html": [
              "\n",
              "  <div id=\"df-bb2e317b-ad5a-4501-ab66-bac193adf02f\">\n",
              "    <div class=\"colab-df-container\">\n",
              "      <div>\n",
              "<style scoped>\n",
              "    .dataframe tbody tr th:only-of-type {\n",
              "        vertical-align: middle;\n",
              "    }\n",
              "\n",
              "    .dataframe tbody tr th {\n",
              "        vertical-align: top;\n",
              "    }\n",
              "\n",
              "    .dataframe thead th {\n",
              "        text-align: right;\n",
              "    }\n",
              "</style>\n",
              "<table border=\"1\" class=\"dataframe\">\n",
              "  <thead>\n",
              "    <tr style=\"text-align: right;\">\n",
              "      <th></th>\n",
              "      <th>Consumer complaint narrative</th>\n",
              "      <th>Product</th>\n",
              "    </tr>\n",
              "  </thead>\n",
              "  <tbody>\n",
              "    <tr>\n",
              "      <th>0</th>\n",
              "      <td>I have outdated information on my credit repor...</td>\n",
              "      <td>Credit reporting</td>\n",
              "    </tr>\n",
              "    <tr>\n",
              "      <th>1</th>\n",
              "      <td>I purchased a new car on XXXX XXXX. The car de...</td>\n",
              "      <td>Consumer Loan</td>\n",
              "    </tr>\n",
              "    <tr>\n",
              "      <th>2</th>\n",
              "      <td>An account on my credit report has a mistaken ...</td>\n",
              "      <td>Credit reporting</td>\n",
              "    </tr>\n",
              "    <tr>\n",
              "      <th>3</th>\n",
              "      <td>This company refuses to provide me verificatio...</td>\n",
              "      <td>Debt collection</td>\n",
              "    </tr>\n",
              "    <tr>\n",
              "      <th>4</th>\n",
              "      <td>This complaint is in regards to Square Two Fin...</td>\n",
              "      <td>Debt collection</td>\n",
              "    </tr>\n",
              "  </tbody>\n",
              "</table>\n",
              "</div>\n",
              "      <button class=\"colab-df-convert\" onclick=\"convertToInteractive('df-bb2e317b-ad5a-4501-ab66-bac193adf02f')\"\n",
              "              title=\"Convert this dataframe to an interactive table.\"\n",
              "              style=\"display:none;\">\n",
              "        \n",
              "  <svg xmlns=\"http://www.w3.org/2000/svg\" height=\"24px\"viewBox=\"0 0 24 24\"\n",
              "       width=\"24px\">\n",
              "    <path d=\"M0 0h24v24H0V0z\" fill=\"none\"/>\n",
              "    <path d=\"M18.56 5.44l.94 2.06.94-2.06 2.06-.94-2.06-.94-.94-2.06-.94 2.06-2.06.94zm-11 1L8.5 8.5l.94-2.06 2.06-.94-2.06-.94L8.5 2.5l-.94 2.06-2.06.94zm10 10l.94 2.06.94-2.06 2.06-.94-2.06-.94-.94-2.06-.94 2.06-2.06.94z\"/><path d=\"M17.41 7.96l-1.37-1.37c-.4-.4-.92-.59-1.43-.59-.52 0-1.04.2-1.43.59L10.3 9.45l-7.72 7.72c-.78.78-.78 2.05 0 2.83L4 21.41c.39.39.9.59 1.41.59.51 0 1.02-.2 1.41-.59l7.78-7.78 2.81-2.81c.8-.78.8-2.07 0-2.86zM5.41 20L4 18.59l7.72-7.72 1.47 1.35L5.41 20z\"/>\n",
              "  </svg>\n",
              "      </button>\n",
              "      \n",
              "  <style>\n",
              "    .colab-df-container {\n",
              "      display:flex;\n",
              "      flex-wrap:wrap;\n",
              "      gap: 12px;\n",
              "    }\n",
              "\n",
              "    .colab-df-convert {\n",
              "      background-color: #E8F0FE;\n",
              "      border: none;\n",
              "      border-radius: 50%;\n",
              "      cursor: pointer;\n",
              "      display: none;\n",
              "      fill: #1967D2;\n",
              "      height: 32px;\n",
              "      padding: 0 0 0 0;\n",
              "      width: 32px;\n",
              "    }\n",
              "\n",
              "    .colab-df-convert:hover {\n",
              "      background-color: #E2EBFA;\n",
              "      box-shadow: 0px 1px 2px rgba(60, 64, 67, 0.3), 0px 1px 3px 1px rgba(60, 64, 67, 0.15);\n",
              "      fill: #174EA6;\n",
              "    }\n",
              "\n",
              "    [theme=dark] .colab-df-convert {\n",
              "      background-color: #3B4455;\n",
              "      fill: #D2E3FC;\n",
              "    }\n",
              "\n",
              "    [theme=dark] .colab-df-convert:hover {\n",
              "      background-color: #434B5C;\n",
              "      box-shadow: 0px 1px 3px 1px rgba(0, 0, 0, 0.15);\n",
              "      filter: drop-shadow(0px 1px 2px rgba(0, 0, 0, 0.3));\n",
              "      fill: #FFFFFF;\n",
              "    }\n",
              "  </style>\n",
              "\n",
              "      <script>\n",
              "        const buttonEl =\n",
              "          document.querySelector('#df-bb2e317b-ad5a-4501-ab66-bac193adf02f button.colab-df-convert');\n",
              "        buttonEl.style.display =\n",
              "          google.colab.kernel.accessAllowed ? 'block' : 'none';\n",
              "\n",
              "        async function convertToInteractive(key) {\n",
              "          const element = document.querySelector('#df-bb2e317b-ad5a-4501-ab66-bac193adf02f');\n",
              "          const dataTable =\n",
              "            await google.colab.kernel.invokeFunction('convertToInteractive',\n",
              "                                                     [key], {});\n",
              "          if (!dataTable) return;\n",
              "\n",
              "          const docLinkHtml = 'Like what you see? Visit the ' +\n",
              "            '<a target=\"_blank\" href=https://colab.research.google.com/notebooks/data_table.ipynb>data table notebook</a>'\n",
              "            + ' to learn more about interactive tables.';\n",
              "          element.innerHTML = '';\n",
              "          dataTable['output_type'] = 'display_data';\n",
              "          await google.colab.output.renderOutput(dataTable, element);\n",
              "          const docLink = document.createElement('div');\n",
              "          docLink.innerHTML = docLinkHtml;\n",
              "          element.appendChild(docLink);\n",
              "        }\n",
              "      </script>\n",
              "    </div>\n",
              "  </div>\n",
              "  "
            ],
            "text/plain": [
              "                        Consumer complaint narrative           Product\n",
              "0  I have outdated information on my credit repor...  Credit reporting\n",
              "1  I purchased a new car on XXXX XXXX. The car de...     Consumer Loan\n",
              "2  An account on my credit report has a mistaken ...  Credit reporting\n",
              "3  This company refuses to provide me verificatio...   Debt collection\n",
              "4  This complaint is in regards to Square Two Fin...   Debt collection"
            ]
          },
          "metadata": {},
          "execution_count": 17
        }
      ]
    },
    {
      "cell_type": "code",
      "execution_count": 18,
      "metadata": {
        "id": "jw_3jqF5XBaH",
        "outputId": "f31ea4c2-a81b-4ef2-a43a-a4930ddad79e",
        "colab": {
          "base_uri": "https://localhost:8080/",
          "height": 52
        }
      },
      "outputs": [
        {
          "output_type": "execute_result",
          "data": {
            "application/vnd.google.colaboratory.intrinsic+json": {
              "type": "string"
            },
            "text/plain": [
              "'I have outdated information on my credit report that I have previously disputed that has yet to be removed this information is more then seven years old and does not meet credit reporting requirements'"
            ]
          },
          "metadata": {},
          "execution_count": 18
        }
      ],
      "source": [
        "df['Consumer complaint narrative'][0]"
      ]
    },
    {
      "cell_type": "markdown",
      "metadata": {
        "id": "4QXHqmFxXBaJ"
      },
      "source": [
        "### Categories"
      ]
    },
    {
      "cell_type": "code",
      "execution_count": 19,
      "metadata": {
        "id": "5xIzAd7SXBaK",
        "outputId": "72f8e29a-db88-4dbb-e98f-ba28c72eb1fb",
        "colab": {
          "base_uri": "https://localhost:8080/"
        }
      },
      "outputs": [
        {
          "output_type": "stream",
          "name": "stdout",
          "text": [
            "['Credit reporting' 'Consumer Loan' 'Debt collection' 'Mortgage'\n",
            " 'Credit card' 'Other financial service' 'Bank account or service'\n",
            " 'Student loan' 'Money transfers' 'Payday loan' 'Prepaid card'\n",
            " 'Virtual currency'\n",
            " 'Credit reporting, credit repair services, or other personal consumer reports'\n",
            " 'Credit card or prepaid card' 'Checking or savings account'\n",
            " 'Payday loan, title loan, or personal loan'\n",
            " 'Money transfer, virtual currency, or money service'\n",
            " 'Vehicle loan or lease']\n"
          ]
        }
      ],
      "source": [
        "print(df.Product.unique())"
      ]
    },
    {
      "cell_type": "markdown",
      "metadata": {
        "id": "cwS4qyhGXBaM"
      },
      "source": [
        "### Train-test split\n",
        "15% of the total data is used as validation data while the remaining as training. This leads to 152809 training instances while 26967 validation instances."
      ]
    },
    {
      "cell_type": "code",
      "execution_count": 20,
      "metadata": {
        "id": "RcHsVb4GXBaN",
        "outputId": "760ed84a-9f48-4967-8af2-9d685fa6d031",
        "colab": {
          "base_uri": "https://localhost:8080/"
        }
      },
      "outputs": [
        {
          "output_type": "stream",
          "name": "stdout",
          "text": [
            "Training utterances: 152809\n",
            "Validation utterances: 26967\n"
          ]
        }
      ],
      "source": [
        "X_train, X_test, y_train, y_test = train_test_split(\n",
        "    df['Consumer complaint narrative'].values, df['Product'].values, \n",
        "    test_size=0.15, random_state=0)\n",
        "print('Training utterances: {}'.format(X_train.shape[0]))\n",
        "print('Validation utterances: {}'.format(X_test.shape[0]))"
      ]
    },
    {
      "cell_type": "markdown",
      "metadata": {
        "id": "AxKJJZn8XBaP"
      },
      "source": [
        "### Calculating tf-idf scores\n",
        "Calculating tf-idf scores for each unique token in the dataset and creating frequency chart for each utterance in the dataset."
      ]
    },
    {
      "cell_type": "code",
      "execution_count": 21,
      "metadata": {
        "id": "Ut2qdu8HXBaP",
        "outputId": "e6f4cda3-5b39-466b-d180-e53ba87d8dc1",
        "colab": {
          "base_uri": "https://localhost:8080/"
        }
      },
      "outputs": [
        {
          "output_type": "execute_result",
          "data": {
            "text/plain": [
              "TfidfVectorizer()"
            ]
          },
          "metadata": {},
          "execution_count": 21
        }
      ],
      "source": [
        "vectorizer = TfidfVectorizer()\n",
        "vectorizer.fit(X_train)"
      ]
    },
    {
      "cell_type": "code",
      "execution_count": 22,
      "metadata": {
        "id": "luNy0LXQXBaR",
        "outputId": "7f97eec2-3514-4524-a6c2-0cffd087ef6b",
        "colab": {
          "base_uri": "https://localhost:8080/"
        }
      },
      "outputs": [
        {
          "output_type": "execute_result",
          "data": {
            "text/plain": [
              "(<152809x76350 sparse matrix of type '<class 'numpy.float64'>'\n",
              " \twith 13864799 stored elements in Compressed Sparse Row format>,\n",
              " <26967x76350 sparse matrix of type '<class 'numpy.float64'>'\n",
              " \twith 2447784 stored elements in Compressed Sparse Row format>)"
            ]
          },
          "metadata": {},
          "execution_count": 22
        }
      ],
      "source": [
        "X_train = vectorizer.transform(X_train)\n",
        "X_test = vectorizer.transform(X_test)\n",
        "X_train, X_test"
      ]
    },
    {
      "cell_type": "markdown",
      "metadata": {
        "id": "Qez31NMtXBaW"
      },
      "source": [
        "### Naive Bayes\n",
        "In multinomial naive bayes the probability of a document $d$ being in class $c$ is computed as $$P(c|d) = P(c) \\prod_{1\\le k \\le n_d}{P(t_k|c)} $$ where, $P(c)$ is the prior probablity of a document occuring in class $c$ and $P(t_k|c)$ is the conditional probability of term $t_k$ occurring in a document of class $c$."
      ]
    },
    {
      "cell_type": "code",
      "execution_count": 23,
      "metadata": {
        "id": "VI4oeUxsXBaW",
        "outputId": "d294d2ad-5d7f-4c8d-e518-b78bbf141ffa",
        "colab": {
          "base_uri": "https://localhost:8080/"
        }
      },
      "outputs": [
        {
          "output_type": "stream",
          "name": "stdout",
          "text": [
            "0.6822041754737271\n"
          ]
        }
      ],
      "source": [
        "from sklearn.naive_bayes import MultinomialNB\n",
        "from sklearn.metrics import accuracy_score\n",
        "clf = MultinomialNB()\n",
        "clf.fit(X_train, y_train)\n",
        "pred = clf.predict(X_test)\n",
        "print(accuracy_score(y_test, pred))"
      ]
    },
    {
      "cell_type": "code",
      "source": [
        "from sklearn.feature_selection import SelectKBest, chi2\n",
        "\n",
        "ch2 = SelectKBest(chi2, k=5000)\n",
        "X_train = ch2.fit_transform(X_train, y_train)\n",
        "X_test = ch2.transform(X_test)\n",
        "\n",
        "X_train, X_test"
      ],
      "metadata": {
        "colab": {
          "base_uri": "https://localhost:8080/"
        },
        "id": "zO8SG89-H3RQ",
        "outputId": "8a59e480-d376-478f-cb7c-3dc65e1d8d55"
      },
      "execution_count": 68,
      "outputs": [
        {
          "output_type": "execute_result",
          "data": {
            "text/plain": [
              "(<152809x5000 sparse matrix of type '<class 'numpy.float64'>'\n",
              " \twith 10780400 stored elements in Compressed Sparse Row format>,\n",
              " <26967x5000 sparse matrix of type '<class 'numpy.float64'>'\n",
              " \twith 1907878 stored elements in Compressed Sparse Row format>)"
            ]
          },
          "metadata": {},
          "execution_count": 68
        }
      ]
    },
    {
      "cell_type": "code",
      "source": [
        "from sklearn.naive_bayes import MultinomialNB\n",
        "from sklearn.metrics import accuracy_score\n",
        "clf = MultinomialNB()\n",
        "clf.fit(X_train, y_train)\n",
        "pred = clf.predict(X_test)\n",
        "print(accuracy_score(y_test, pred))"
      ],
      "metadata": {
        "colab": {
          "base_uri": "https://localhost:8080/"
        },
        "id": "uTsdS7mlH5Nh",
        "outputId": "7b98dd14-90b2-4940-e5d2-6e3d78bf78c4"
      },
      "execution_count": 69,
      "outputs": [
        {
          "output_type": "stream",
          "name": "stdout",
          "text": [
            "0.7656024029369229\n"
          ]
        }
      ]
    },
    {
      "cell_type": "markdown",
      "source": [
        "# Some extra stuff"
      ],
      "metadata": {
        "id": "V8-QCSHhlBPT"
      }
    },
    {
      "cell_type": "markdown",
      "metadata": {
        "id": "mUoZ4svbfY7S"
      },
      "source": [
        "## Doing pre-processing on the dataset"
      ]
    },
    {
      "cell_type": "code",
      "execution_count": 24,
      "metadata": {
        "id": "bQyoUkH4fY7T"
      },
      "outputs": [],
      "source": [
        "from nltk import word_tokenize"
      ]
    },
    {
      "cell_type": "code",
      "source": [
        "import nltk\n",
        "nltk.download('punkt')"
      ],
      "metadata": {
        "colab": {
          "base_uri": "https://localhost:8080/"
        },
        "id": "cDoT0gKzgMLh",
        "outputId": "0b35c317-4aef-4b0d-830d-ee6d89fd0a2d"
      },
      "execution_count": 26,
      "outputs": [
        {
          "output_type": "stream",
          "name": "stdout",
          "text": [
            "[nltk_data] Downloading package punkt to /root/nltk_data...\n",
            "[nltk_data]   Unzipping tokenizers/punkt.zip.\n"
          ]
        },
        {
          "output_type": "execute_result",
          "data": {
            "text/plain": [
              "True"
            ]
          },
          "metadata": {},
          "execution_count": 26
        }
      ]
    },
    {
      "cell_type": "code",
      "execution_count": 43,
      "metadata": {
        "colab": {
          "base_uri": "https://localhost:8080/"
        },
        "id": "Wmu0hZ1HfY7T",
        "outputId": "9589f3ff-af84-4d0d-efc0-6685aa8f9266"
      },
      "outputs": [
        {
          "output_type": "execute_result",
          "data": {
            "text/plain": [
              "['I',\n",
              " 'have',\n",
              " 'outdated',\n",
              " 'information',\n",
              " 'on',\n",
              " 'my',\n",
              " 'credit',\n",
              " 'report',\n",
              " 'that',\n",
              " 'I',\n",
              " 'have',\n",
              " 'previously',\n",
              " 'disputed',\n",
              " 'that',\n",
              " 'has',\n",
              " 'yet',\n",
              " 'to',\n",
              " 'be',\n",
              " 'removed',\n",
              " 'this',\n",
              " 'information',\n",
              " 'is',\n",
              " 'more',\n",
              " 'then',\n",
              " 'seven',\n",
              " 'years',\n",
              " 'old',\n",
              " 'and',\n",
              " 'does',\n",
              " 'not',\n",
              " 'meet',\n",
              " 'credit',\n",
              " 'reporting',\n",
              " 'requirements']"
            ]
          },
          "metadata": {},
          "execution_count": 43
        }
      ],
      "source": [
        "# Split the words\n",
        "# We use word_tokenize to make sure words are split properly. Eg : don't , 3.14 etc\n",
        "from tqdm import tqdm\n",
        "data=df['Consumer complaint narrative'].values[0:1000]\n",
        "tokenized=[word_tokenize(value) for value in data]\n",
        "del data\n",
        "tokenized[0]"
      ]
    },
    {
      "cell_type": "code",
      "execution_count": 44,
      "metadata": {
        "colab": {
          "base_uri": "https://localhost:8080/"
        },
        "id": "AMYrT_hofY7U",
        "outputId": "c08e0110-a498-4459-d82a-ef349c277e66"
      },
      "outputs": [
        {
          "output_type": "execute_result",
          "data": {
            "text/plain": [
              "['i',\n",
              " 'have',\n",
              " 'outdated',\n",
              " 'information',\n",
              " 'on',\n",
              " 'my',\n",
              " 'credit',\n",
              " 'report',\n",
              " 'that',\n",
              " 'i',\n",
              " 'have',\n",
              " 'previously',\n",
              " 'disputed',\n",
              " 'that',\n",
              " 'has',\n",
              " 'yet',\n",
              " 'to',\n",
              " 'be',\n",
              " 'removed',\n",
              " 'this',\n",
              " 'information',\n",
              " 'is',\n",
              " 'more',\n",
              " 'then',\n",
              " 'seven',\n",
              " 'years',\n",
              " 'old',\n",
              " 'and',\n",
              " 'does',\n",
              " 'not',\n",
              " 'meet',\n",
              " 'credit',\n",
              " 'reporting',\n",
              " 'requirements']"
            ]
          },
          "metadata": {},
          "execution_count": 44
        }
      ],
      "source": [
        "lower=[[word.lower() for word in tokens] for tokens in tokenized]\n",
        "lower[0]"
      ]
    },
    {
      "cell_type": "code",
      "source": [
        "lower=[' '.join(text) for text in lower]\n",
        "lower[0]"
      ],
      "metadata": {
        "colab": {
          "base_uri": "https://localhost:8080/",
          "height": 52
        },
        "id": "g2K11V9tiyNI",
        "outputId": "44cd7854-24c1-4f4c-caaf-17241f79b373"
      },
      "execution_count": 45,
      "outputs": [
        {
          "output_type": "execute_result",
          "data": {
            "application/vnd.google.colaboratory.intrinsic+json": {
              "type": "string"
            },
            "text/plain": [
              "'i have outdated information on my credit report that i have previously disputed that has yet to be removed this information is more then seven years old and does not meet credit reporting requirements'"
            ]
          },
          "metadata": {},
          "execution_count": 45
        }
      ]
    },
    {
      "cell_type": "code",
      "source": [
        "import string\n",
        "string.punctuation"
      ],
      "metadata": {
        "colab": {
          "base_uri": "https://localhost:8080/",
          "height": 35
        },
        "id": "utu4V4BRDGdD",
        "outputId": "d5cc639b-d0b1-4e9d-9961-3683293203d0"
      },
      "execution_count": 46,
      "outputs": [
        {
          "output_type": "execute_result",
          "data": {
            "application/vnd.google.colaboratory.intrinsic+json": {
              "type": "string"
            },
            "text/plain": [
              "'!\"#$%&\\'()*+,-./:;<=>?@[\\\\]^_`{|}~'"
            ]
          },
          "metadata": {},
          "execution_count": 46
        }
      ]
    },
    {
      "cell_type": "code",
      "source": [
        "# Remove punctuations\n",
        "import string\n",
        "punctuations_removed=[text.translate(str.maketrans('','',string.punctuation)) for text in lower]\n",
        "punctuations_removed[0]"
      ],
      "metadata": {
        "colab": {
          "base_uri": "https://localhost:8080/",
          "height": 52
        },
        "id": "MBpesCleie1b",
        "outputId": "3e42908b-2704-44d7-a789-95ba629ca274"
      },
      "execution_count": 47,
      "outputs": [
        {
          "output_type": "execute_result",
          "data": {
            "application/vnd.google.colaboratory.intrinsic+json": {
              "type": "string"
            },
            "text/plain": [
              "'i have outdated information on my credit report that i have previously disputed that has yet to be removed this information is more then seven years old and does not meet credit reporting requirements'"
            ]
          },
          "metadata": {},
          "execution_count": 47
        }
      ]
    },
    {
      "cell_type": "code",
      "source": [
        "# removing stopwords\n",
        "nltk.download('stopwords')\n",
        "from nltk.corpus import stopwords\n",
        "stopwords=stopwords.words('english')\n",
        "cleaned=[[word for word in sentence.split(' ') if word not in stopwords] for sentence in punctuations_removed]"
      ],
      "metadata": {
        "colab": {
          "base_uri": "https://localhost:8080/"
        },
        "id": "n0oU0UbajlXg",
        "outputId": "a8c00852-9c87-4b77-b6db-8c3063d2123e"
      },
      "execution_count": 48,
      "outputs": [
        {
          "output_type": "stream",
          "name": "stdout",
          "text": [
            "[nltk_data] Downloading package stopwords to /root/nltk_data...\n",
            "[nltk_data]   Package stopwords is already up-to-date!\n"
          ]
        }
      ]
    },
    {
      "cell_type": "code",
      "source": [
        "cleaned[0]"
      ],
      "metadata": {
        "colab": {
          "base_uri": "https://localhost:8080/"
        },
        "id": "UxIXEPKBkSJD",
        "outputId": "dd16a2f8-f92d-4081-bb41-e6eb740b7af7"
      },
      "execution_count": 49,
      "outputs": [
        {
          "output_type": "execute_result",
          "data": {
            "text/plain": [
              "['outdated',\n",
              " 'information',\n",
              " 'credit',\n",
              " 'report',\n",
              " 'previously',\n",
              " 'disputed',\n",
              " 'yet',\n",
              " 'removed',\n",
              " 'information',\n",
              " 'seven',\n",
              " 'years',\n",
              " 'old',\n",
              " 'meet',\n",
              " 'credit',\n",
              " 'reporting',\n",
              " 'requirements']"
            ]
          },
          "metadata": {},
          "execution_count": 49
        }
      ]
    },
    {
      "cell_type": "code",
      "source": [
        "# Stemming\n",
        "from nltk.stem import PorterStemmer\n",
        "stemmer=PorterStemmer()\n",
        "stemmer.stem('basically')"
      ],
      "metadata": {
        "colab": {
          "base_uri": "https://localhost:8080/",
          "height": 35
        },
        "id": "GXJbz5KEjIYb",
        "outputId": "1a9703d0-ecd1-4330-9ace-58769eaf868c"
      },
      "execution_count": 50,
      "outputs": [
        {
          "output_type": "execute_result",
          "data": {
            "application/vnd.google.colaboratory.intrinsic+json": {
              "type": "string"
            },
            "text/plain": [
              "'basic'"
            ]
          },
          "metadata": {},
          "execution_count": 50
        }
      ]
    },
    {
      "cell_type": "code",
      "source": [
        "stemmed=[[stemmer.stem(word) for word in sentence] for sentence in cleaned]"
      ],
      "metadata": {
        "id": "THirL0rZjj22"
      },
      "execution_count": 51,
      "outputs": []
    },
    {
      "cell_type": "code",
      "source": [
        "stemmed[0]"
      ],
      "metadata": {
        "colab": {
          "base_uri": "https://localhost:8080/"
        },
        "id": "YsXBRN8QiE41",
        "outputId": "6e2c6548-ef74-4b01-9a74-3cdab7807b71"
      },
      "execution_count": 52,
      "outputs": [
        {
          "output_type": "execute_result",
          "data": {
            "text/plain": [
              "['outdat',\n",
              " 'inform',\n",
              " 'credit',\n",
              " 'report',\n",
              " 'previous',\n",
              " 'disput',\n",
              " 'yet',\n",
              " 'remov',\n",
              " 'inform',\n",
              " 'seven',\n",
              " 'year',\n",
              " 'old',\n",
              " 'meet',\n",
              " 'credit',\n",
              " 'report',\n",
              " 'requir']"
            ]
          },
          "metadata": {},
          "execution_count": 52
        }
      ]
    },
    {
      "cell_type": "code",
      "source": [
        "l=['a','b','c','a']\n",
        "list(set(l))"
      ],
      "metadata": {
        "colab": {
          "base_uri": "https://localhost:8080/"
        },
        "id": "fpuy3ebnFbf6",
        "outputId": "09d4c514-4c06-4f33-892e-54b09d132387"
      },
      "execution_count": 55,
      "outputs": [
        {
          "output_type": "execute_result",
          "data": {
            "text/plain": [
              "['a', 'b', 'c']"
            ]
          },
          "metadata": {},
          "execution_count": 55
        }
      ]
    },
    {
      "cell_type": "code",
      "source": [
        "# Create a BOW\n",
        "vocab=[]\n",
        "for sentence in stemmed:\n",
        "  temp=list(set(sentence))\n",
        "  vocab+=temp\n",
        "  vocab=list(set(vocab))"
      ],
      "metadata": {
        "id": "6vnoznqIkiXE"
      },
      "execution_count": 57,
      "outputs": []
    },
    {
      "cell_type": "code",
      "source": [
        "len(vocab)"
      ],
      "metadata": {
        "colab": {
          "base_uri": "https://localhost:8080/"
        },
        "id": "a4eDqWkLk2V0",
        "outputId": "e4424c10-0cb9-47dc-d2a7-84d0c3bd6452"
      },
      "execution_count": 58,
      "outputs": [
        {
          "output_type": "execute_result",
          "data": {
            "text/plain": [
              "5122"
            ]
          },
          "metadata": {},
          "execution_count": 58
        }
      ]
    },
    {
      "cell_type": "code",
      "source": [
        "# Create Index Map\n",
        "map={word:idx for idx,word in enumerate(vocab)}"
      ],
      "metadata": {
        "id": "1qcB87w_k5hj"
      },
      "execution_count": 63,
      "outputs": []
    },
    {
      "cell_type": "code",
      "source": [
        "freq={word:0 for word in vocab}"
      ],
      "metadata": {
        "id": "YvH686vlGgHV"
      },
      "execution_count": 62,
      "outputs": []
    },
    {
      "cell_type": "code",
      "source": [
        "map['placement']"
      ],
      "metadata": {
        "colab": {
          "base_uri": "https://localhost:8080/"
        },
        "id": "PsMZb7XIGyH1",
        "outputId": "5f7ff170-7bec-4479-b91e-4ea6c7745ae6"
      },
      "execution_count": 65,
      "outputs": [
        {
          "output_type": "execute_result",
          "data": {
            "text/plain": [
              "943"
            ]
          },
          "metadata": {},
          "execution_count": 65
        }
      ]
    },
    {
      "cell_type": "code",
      "source": [
        "# BOW feature\n",
        "\n",
        "for sentence in stemmed:\n",
        "  for word in sentence:\n",
        "    try:\n",
        "      freq[word]+=1\n",
        "    except:\n",
        "      pass"
      ],
      "metadata": {
        "id": "RoltQXWZleFE"
      },
      "execution_count": 66,
      "outputs": []
    },
    {
      "cell_type": "markdown",
      "metadata": {
        "id": "XnG6cE6GXBaT"
      },
      "source": [
        "### Feature Selection\n",
        "Chi-square test measures dependence between stochastic variables, so using this function “weeds out” the features that are the most likely to be independent of class and therefore irrelevant for classification."
      ]
    },
    {
      "cell_type": "code",
      "execution_count": null,
      "metadata": {
        "id": "9eZdPs2fXBaU",
        "outputId": "2db6881f-b2bb-49c5-eb02-f8c2765a2295"
      },
      "outputs": [
        {
          "data": {
            "text/plain": [
              "(<152809x5000 sparse matrix of type '<class 'numpy.float64'>'\n",
              " \twith 10780400 stored elements in Compressed Sparse Row format>,\n",
              " <26967x5000 sparse matrix of type '<class 'numpy.float64'>'\n",
              " \twith 1907878 stored elements in Compressed Sparse Row format>)"
            ]
          },
          "execution_count": 7,
          "metadata": {},
          "output_type": "execute_result"
        }
      ],
      "source": [
        "from sklearn.feature_selection import SelectKBest, chi2\n",
        "\n",
        "ch2 = SelectKBest(chi2, k=5000)\n",
        "X_train = ch2.fit_transform(X_train, y_train)\n",
        "X_test = ch2.transform(X_test)\n",
        "\n",
        "X_train, X_test"
      ]
    }
  ],
  "metadata": {
    "colab": {
      "name": "complaint_classification_case_study.ipynb",
      "provenance": []
    },
    "kernelspec": {
      "display_name": "Python 3",
      "language": "python",
      "name": "python3"
    },
    "language_info": {
      "codemirror_mode": {
        "name": "ipython",
        "version": 3
      },
      "file_extension": ".py",
      "mimetype": "text/x-python",
      "name": "python",
      "nbconvert_exporter": "python",
      "pygments_lexer": "ipython3",
      "version": "3.7.3"
    }
  },
  "nbformat": 4,
  "nbformat_minor": 0
}