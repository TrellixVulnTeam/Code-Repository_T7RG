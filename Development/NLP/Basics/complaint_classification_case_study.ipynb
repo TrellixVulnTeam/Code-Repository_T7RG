{
  "cells": [
    {
      "cell_type": "markdown",
      "metadata": {
        "id": "F5RaUZ0iXBaB"
      },
      "source": [
        "## Complaint Categorization Baseline Model\n",
        "\n",
        "Fast and efficient handling of complaints on consumer forums is vital to commerce industry today. This notebook presents a baseline approach towards solving this problem. Consumer complaints on financial products is taken as the dataset to establish results.\n",
        "\n",
        "Tf-idf (term frequency times inverse document frequency) scheme to weight individual tokens is often used in information retrieval. One of the advantage of tf-idf is reduce the impact of tokens that occur very frequently, hence offering little to none in terms of information.\n",
        "The tf-idf of term 't' in document 'd' is tf-idf(d, t) = tf(t) * idf(d, t), where tf(t) is the number of times t occurs while idf is given by idf(d, t) = log [(1 + n) / (1 + df(d,t) + 1] "
      ]
    },
    {
      "cell_type": "code",
      "source": [
        "from google.colab import drive\n",
        "drive.mount('/gdrive')"
      ],
      "metadata": {
        "colab": {
          "base_uri": "https://localhost:8080/"
        },
        "id": "H9RXwNcpfbo3",
        "outputId": "8227e86f-3e33-46ae-ae00-bf87deb38e70"
      },
      "execution_count": 5,
      "outputs": [
        {
          "output_type": "stream",
          "name": "stdout",
          "text": [
            "Mounted at /gdrive\n"
          ]
        }
      ]
    },
    {
      "cell_type": "code",
      "execution_count": 6,
      "metadata": {
        "id": "KKU3Av-XXBaD"
      },
      "outputs": [],
      "source": [
        "from sklearn.feature_extraction.text import TfidfVectorizer\n",
        "from sklearn.model_selection import train_test_split\n",
        "\n",
        "# Importing pandas for operating on dataset\n",
        "import pandas as pd\n",
        "\n",
        "df = pd.read_csv('/gdrive/MyDrive/Colab Notebooks/NLP/complaints.csv')"
      ]
    },
    {
      "cell_type": "markdown",
      "metadata": {
        "id": "COwaeZO2XBaG"
      },
      "source": [
        "### Typical Complaint"
      ]
    },
    {
      "cell_type": "code",
      "execution_count": 7,
      "metadata": {
        "id": "jw_3jqF5XBaH",
        "outputId": "eaf5f29d-2346-4ba0-eae9-6df25f5b39cd",
        "colab": {
          "base_uri": "https://localhost:8080/",
          "height": 70
        }
      },
      "outputs": [
        {
          "output_type": "execute_result",
          "data": {
            "application/vnd.google.colaboratory.intrinsic+json": {
              "type": "string"
            },
            "text/plain": [
              "'I have outdated information on my credit report that I have previously disputed that has yet to be removed this information is more then seven years old and does not meet credit reporting requirements'"
            ]
          },
          "metadata": {},
          "execution_count": 7
        }
      ],
      "source": [
        "df['Consumer complaint narrative'][0]"
      ]
    },
    {
      "cell_type": "markdown",
      "metadata": {
        "id": "4QXHqmFxXBaJ"
      },
      "source": [
        "### Categories"
      ]
    },
    {
      "cell_type": "code",
      "execution_count": 8,
      "metadata": {
        "id": "5xIzAd7SXBaK",
        "outputId": "d94c4338-389a-4c66-e37d-d5e85bdb240d",
        "colab": {
          "base_uri": "https://localhost:8080/"
        }
      },
      "outputs": [
        {
          "output_type": "stream",
          "name": "stdout",
          "text": [
            "['Credit reporting' 'Consumer Loan' 'Debt collection' 'Mortgage'\n",
            " 'Credit card' 'Other financial service' 'Bank account or service'\n",
            " 'Student loan' 'Money transfers' 'Payday loan' 'Prepaid card'\n",
            " 'Virtual currency'\n",
            " 'Credit reporting, credit repair services, or other personal consumer reports'\n",
            " 'Credit card or prepaid card' 'Checking or savings account'\n",
            " 'Payday loan, title loan, or personal loan'\n",
            " 'Money transfer, virtual currency, or money service'\n",
            " 'Vehicle loan or lease']\n"
          ]
        }
      ],
      "source": [
        "print(df.Product.unique())"
      ]
    },
    {
      "cell_type": "markdown",
      "metadata": {
        "id": "cwS4qyhGXBaM"
      },
      "source": [
        "### Train-test split\n",
        "15% of the total data is used as validation data while the remaining as training. This leads to 152809 training instances while 26967 validation instances."
      ]
    },
    {
      "cell_type": "code",
      "execution_count": 9,
      "metadata": {
        "id": "RcHsVb4GXBaN",
        "outputId": "62aedcb5-b27e-4a92-c2d6-937494b3ad66",
        "colab": {
          "base_uri": "https://localhost:8080/"
        }
      },
      "outputs": [
        {
          "output_type": "stream",
          "name": "stdout",
          "text": [
            "Training utterances: 152809\n",
            "Validation utterances: 26967\n"
          ]
        }
      ],
      "source": [
        "X_train, X_test, y_train, y_test = train_test_split(\n",
        "    df['Consumer complaint narrative'].values, df['Product'].values, \n",
        "    test_size=0.15, random_state=0)\n",
        "print('Training utterances: {}'.format(X_train.shape[0]))\n",
        "print('Validation utterances: {}'.format(X_test.shape[0]))"
      ]
    },
    {
      "cell_type": "markdown",
      "metadata": {
        "id": "AxKJJZn8XBaP"
      },
      "source": [
        "### Calculating tf-idf scores\n",
        "Calculating tf-idf scores for each unique token in the dataset and creating frequency chart for each utterance in the dataset."
      ]
    },
    {
      "cell_type": "code",
      "execution_count": 10,
      "metadata": {
        "id": "Ut2qdu8HXBaP",
        "outputId": "cc0f0cc7-47b9-4409-dca8-5d068da884f0",
        "colab": {
          "base_uri": "https://localhost:8080/"
        }
      },
      "outputs": [
        {
          "output_type": "execute_result",
          "data": {
            "text/plain": [
              "TfidfVectorizer()"
            ]
          },
          "metadata": {},
          "execution_count": 10
        }
      ],
      "source": [
        "vectorizer = TfidfVectorizer()\n",
        "vectorizer.fit(X_train)"
      ]
    },
    {
      "cell_type": "code",
      "execution_count": 11,
      "metadata": {
        "id": "luNy0LXQXBaR",
        "outputId": "727258bb-5760-4f1d-b91a-f594ab054b9f",
        "colab": {
          "base_uri": "https://localhost:8080/"
        }
      },
      "outputs": [
        {
          "output_type": "execute_result",
          "data": {
            "text/plain": [
              "(<152809x76350 sparse matrix of type '<class 'numpy.float64'>'\n",
              " \twith 13864799 stored elements in Compressed Sparse Row format>,\n",
              " <26967x76350 sparse matrix of type '<class 'numpy.float64'>'\n",
              " \twith 2447784 stored elements in Compressed Sparse Row format>)"
            ]
          },
          "metadata": {},
          "execution_count": 11
        }
      ],
      "source": [
        "X_train = vectorizer.transform(X_train)\n",
        "X_test = vectorizer.transform(X_test)\n",
        "X_train, X_test"
      ]
    },
    {
      "cell_type": "markdown",
      "metadata": {
        "id": "Qez31NMtXBaW"
      },
      "source": [
        "### Naive Bayes\n",
        "In multinomial naive bayes the probability of a document $d$ being in class $c$ is computed as $$P(c|d) = P(c) \\prod_{1\\le k \\le n_d}{P(t_k|c)} $$ where, $P(c)$ is the prior probablity of a document occuring in class $c$ and $P(t_k|c)$ is the conditional probability of term $t_k$ occurring in a document of class $c$."
      ]
    },
    {
      "cell_type": "code",
      "execution_count": 12,
      "metadata": {
        "id": "VI4oeUxsXBaW",
        "outputId": "1663d383-a48b-4a3a-a0bb-aea6db915f7d",
        "colab": {
          "base_uri": "https://localhost:8080/"
        }
      },
      "outputs": [
        {
          "output_type": "stream",
          "name": "stdout",
          "text": [
            "0.6822041754737271\n"
          ]
        }
      ],
      "source": [
        "from sklearn.naive_bayes import MultinomialNB\n",
        "from sklearn.metrics import accuracy_score\n",
        "clf = MultinomialNB()\n",
        "clf.fit(X_train, y_train)\n",
        "pred = clf.predict(X_test)\n",
        "print(accuracy_score(y_test, pred))"
      ]
    },
    {
      "cell_type": "markdown",
      "source": [
        "# Some extra stuff"
      ],
      "metadata": {
        "id": "V8-QCSHhlBPT"
      }
    },
    {
      "cell_type": "markdown",
      "metadata": {
        "id": "mUoZ4svbfY7S"
      },
      "source": [
        "## Doing pre-processing on the dataset"
      ]
    },
    {
      "cell_type": "code",
      "execution_count": 13,
      "metadata": {
        "id": "bQyoUkH4fY7T"
      },
      "outputs": [],
      "source": [
        "from nltk import word_tokenize"
      ]
    },
    {
      "cell_type": "code",
      "source": [
        "import nltk\n",
        "nltk.download('punkt')"
      ],
      "metadata": {
        "colab": {
          "base_uri": "https://localhost:8080/"
        },
        "id": "cDoT0gKzgMLh",
        "outputId": "037809a5-e579-4b5b-ef81-75183097f8ec"
      },
      "execution_count": 17,
      "outputs": [
        {
          "output_type": "stream",
          "name": "stdout",
          "text": [
            "[nltk_data] Downloading package punkt to /root/nltk_data...\n",
            "[nltk_data]   Unzipping tokenizers/punkt.zip.\n"
          ]
        },
        {
          "output_type": "execute_result",
          "data": {
            "text/plain": [
              "True"
            ]
          },
          "metadata": {},
          "execution_count": 17
        }
      ]
    },
    {
      "cell_type": "code",
      "execution_count": 25,
      "metadata": {
        "colab": {
          "base_uri": "https://localhost:8080/"
        },
        "id": "Wmu0hZ1HfY7T",
        "outputId": "c2822867-d8fe-4983-95ec-7f16ed3e4076"
      },
      "outputs": [
        {
          "output_type": "execute_result",
          "data": {
            "text/plain": [
              "['I',\n",
              " 'have',\n",
              " 'outdated',\n",
              " 'information',\n",
              " 'on',\n",
              " 'my',\n",
              " 'credit',\n",
              " 'report',\n",
              " 'that',\n",
              " 'I',\n",
              " 'have',\n",
              " 'previously',\n",
              " 'disputed',\n",
              " 'that',\n",
              " 'has',\n",
              " 'yet',\n",
              " 'to',\n",
              " 'be',\n",
              " 'removed',\n",
              " 'this',\n",
              " 'information',\n",
              " 'is',\n",
              " 'more',\n",
              " 'then',\n",
              " 'seven',\n",
              " 'years',\n",
              " 'old',\n",
              " 'and',\n",
              " 'does',\n",
              " 'not',\n",
              " 'meet',\n",
              " 'credit',\n",
              " 'reporting',\n",
              " 'requirements']"
            ]
          },
          "metadata": {},
          "execution_count": 25
        }
      ],
      "source": [
        "# Split the words\n",
        "# We use word_tokenize to make sure words are split properly. Eg : don't , 3.14 etc\n",
        "from tqdm import tqdm\n",
        "data=df['Consumer complaint narrative'].values[0:1000]\n",
        "tokenized=[word_tokenize(value) for value in data]\n",
        "del data\n",
        "tokenized[0]"
      ]
    },
    {
      "cell_type": "code",
      "execution_count": 44,
      "metadata": {
        "colab": {
          "base_uri": "https://localhost:8080/"
        },
        "id": "AMYrT_hofY7U",
        "outputId": "ca640641-7ce3-491e-808b-125a626f1b68"
      },
      "outputs": [
        {
          "output_type": "execute_result",
          "data": {
            "text/plain": [
              "['i',\n",
              " 'have',\n",
              " 'outdated',\n",
              " 'information',\n",
              " 'on',\n",
              " 'my',\n",
              " 'credit',\n",
              " 'report',\n",
              " 'that',\n",
              " 'i',\n",
              " 'have',\n",
              " 'previously',\n",
              " 'disputed',\n",
              " 'that',\n",
              " 'has',\n",
              " 'yet',\n",
              " 'to',\n",
              " 'be',\n",
              " 'removed',\n",
              " 'this',\n",
              " 'information',\n",
              " 'is',\n",
              " 'more',\n",
              " 'then',\n",
              " 'seven',\n",
              " 'years',\n",
              " 'old',\n",
              " 'and',\n",
              " 'does',\n",
              " 'not',\n",
              " 'meet',\n",
              " 'credit',\n",
              " 'reporting',\n",
              " 'requirements']"
            ]
          },
          "metadata": {},
          "execution_count": 44
        }
      ],
      "source": [
        "lower=[[word.lower() for word in tokens] for tokens in tokenized]\n",
        "lower[0]"
      ]
    },
    {
      "cell_type": "code",
      "source": [
        "lower=[' '.join(text) for text in lower]\n",
        "lower[0]"
      ],
      "metadata": {
        "colab": {
          "base_uri": "https://localhost:8080/",
          "height": 70
        },
        "id": "g2K11V9tiyNI",
        "outputId": "f4e87f38-60fb-4275-c7a7-a8c432aab1be"
      },
      "execution_count": 45,
      "outputs": [
        {
          "output_type": "execute_result",
          "data": {
            "application/vnd.google.colaboratory.intrinsic+json": {
              "type": "string"
            },
            "text/plain": [
              "'i have outdated information on my credit report that i have previously disputed that has yet to be removed this information is more then seven years old and does not meet credit reporting requirements'"
            ]
          },
          "metadata": {},
          "execution_count": 45
        }
      ]
    },
    {
      "cell_type": "code",
      "source": [
        "# Remove punctuations\n",
        "import string\n",
        "punctuations_removed=[text.translate(str.maketrans('','',string.punctuation)) for text in lower]\n",
        "punctuations_removed[0]"
      ],
      "metadata": {
        "colab": {
          "base_uri": "https://localhost:8080/",
          "height": 70
        },
        "id": "MBpesCleie1b",
        "outputId": "b672ad94-b51d-426d-9a6b-fc2c81d83d23"
      },
      "execution_count": 47,
      "outputs": [
        {
          "output_type": "execute_result",
          "data": {
            "application/vnd.google.colaboratory.intrinsic+json": {
              "type": "string"
            },
            "text/plain": [
              "'i have outdated information on my credit report that i have previously disputed that has yet to be removed this information is more then seven years old and does not meet credit reporting requirements'"
            ]
          },
          "metadata": {},
          "execution_count": 47
        }
      ]
    },
    {
      "cell_type": "code",
      "source": [
        "# removing stopwords\n",
        "nltk.download('stopwords')\n",
        "from nltk.corpus import stopwords\n",
        "stopwords=stopwords.words('english')\n",
        "cleaned=[[word for word in sentence.split(' ') if word not in stopwords] for sentence in punctuations_removed]"
      ],
      "metadata": {
        "colab": {
          "base_uri": "https://localhost:8080/"
        },
        "id": "n0oU0UbajlXg",
        "outputId": "09ba6003-ed71-4f29-c2ad-b03008bc596e"
      },
      "execution_count": 50,
      "outputs": [
        {
          "output_type": "stream",
          "name": "stdout",
          "text": [
            "[nltk_data] Downloading package stopwords to /root/nltk_data...\n",
            "[nltk_data]   Package stopwords is already up-to-date!\n"
          ]
        }
      ]
    },
    {
      "cell_type": "code",
      "source": [
        "cleaned[0]"
      ],
      "metadata": {
        "colab": {
          "base_uri": "https://localhost:8080/"
        },
        "id": "UxIXEPKBkSJD",
        "outputId": "fc2e1735-4bc9-4266-cc04-aa8123ac813a"
      },
      "execution_count": 51,
      "outputs": [
        {
          "output_type": "execute_result",
          "data": {
            "text/plain": [
              "['outdated',\n",
              " 'information',\n",
              " 'credit',\n",
              " 'report',\n",
              " 'previously',\n",
              " 'disputed',\n",
              " 'yet',\n",
              " 'removed',\n",
              " 'information',\n",
              " 'seven',\n",
              " 'years',\n",
              " 'old',\n",
              " 'meet',\n",
              " 'credit',\n",
              " 'reporting',\n",
              " 'requirements']"
            ]
          },
          "metadata": {},
          "execution_count": 51
        }
      ]
    },
    {
      "cell_type": "code",
      "source": [
        "# Stemming\n",
        "from nltk.stem import PorterStemmer\n",
        "stemmer=PorterStemmer()\n",
        "stemmer.stem('basically')"
      ],
      "metadata": {
        "colab": {
          "base_uri": "https://localhost:8080/",
          "height": 35
        },
        "id": "GXJbz5KEjIYb",
        "outputId": "22d4bcba-a847-477c-e2fe-d262f552f267"
      },
      "execution_count": 48,
      "outputs": [
        {
          "output_type": "execute_result",
          "data": {
            "application/vnd.google.colaboratory.intrinsic+json": {
              "type": "string"
            },
            "text/plain": [
              "'basic'"
            ]
          },
          "metadata": {},
          "execution_count": 48
        }
      ]
    },
    {
      "cell_type": "code",
      "source": [
        "stemmed=[[stemmer.stem(word) for word in sentence] for sentence in cleaned]"
      ],
      "metadata": {
        "id": "THirL0rZjj22"
      },
      "execution_count": 52,
      "outputs": []
    },
    {
      "cell_type": "code",
      "source": [
        "stemmed[0]"
      ],
      "metadata": {
        "colab": {
          "base_uri": "https://localhost:8080/"
        },
        "id": "YsXBRN8QiE41",
        "outputId": "2cd1a777-cdc5-43fd-9328-6b3e97ec11f0"
      },
      "execution_count": 53,
      "outputs": [
        {
          "output_type": "execute_result",
          "data": {
            "text/plain": [
              "['outdat',\n",
              " 'inform',\n",
              " 'credit',\n",
              " 'report',\n",
              " 'previous',\n",
              " 'disput',\n",
              " 'yet',\n",
              " 'remov',\n",
              " 'inform',\n",
              " 'seven',\n",
              " 'year',\n",
              " 'old',\n",
              " 'meet',\n",
              " 'credit',\n",
              " 'report',\n",
              " 'requir']"
            ]
          },
          "metadata": {},
          "execution_count": 53
        }
      ]
    },
    {
      "cell_type": "code",
      "source": [
        "# Create a BOW\n",
        "vocab=[]\n",
        "for sentence in stemmed:\n",
        "  temp=list(set(sentence))\n",
        "  vocab+=temp\n",
        "  vocab=list(set(vocab))"
      ],
      "metadata": {
        "id": "6vnoznqIkiXE"
      },
      "execution_count": 54,
      "outputs": []
    },
    {
      "cell_type": "code",
      "source": [
        "len(vocab)"
      ],
      "metadata": {
        "colab": {
          "base_uri": "https://localhost:8080/"
        },
        "id": "a4eDqWkLk2V0",
        "outputId": "27630965-8799-493a-ef57-c863cfe20f19"
      },
      "execution_count": 56,
      "outputs": [
        {
          "output_type": "execute_result",
          "data": {
            "text/plain": [
              "5122"
            ]
          },
          "metadata": {},
          "execution_count": 56
        }
      ]
    },
    {
      "cell_type": "code",
      "source": [
        "# Create Index Map\n",
        "map={word:idx for idx,word in enumerate(vocab)}"
      ],
      "metadata": {
        "id": "1qcB87w_k5hj"
      },
      "execution_count": 58,
      "outputs": []
    },
    {
      "cell_type": "code",
      "source": [
        "# BOW feature\n",
        "\n",
        "for sentence in stemmed:\n",
        "  for word in sentence:\n",
        "    try:\n",
        "      map[word]+=1\n",
        "    except:\n",
        "      pass"
      ],
      "metadata": {
        "id": "RoltQXWZleFE"
      },
      "execution_count": 59,
      "outputs": []
    },
    {
      "cell_type": "code",
      "source": [
        "map"
      ],
      "metadata": {
        "colab": {
          "base_uri": "https://localhost:8080/"
        },
        "id": "oogcucSel2pQ",
        "outputId": "23c1336b-811d-4a4f-ab4e-76f71ee92d09"
      },
      "execution_count": 60,
      "outputs": [
        {
          "output_type": "execute_result",
          "data": {
            "text/plain": [
              "{'': 20452,\n",
              " '5500': 3,\n",
              " 'lazi': 3,\n",
              " 'sherrif': 5,\n",
              " 'equifaxxxxx': 6,\n",
              " 'never': 375,\n",
              " 'exclus': 7,\n",
              " 'temp': 8,\n",
              " 'amt': 9,\n",
              " 'ruin': 24,\n",
              " 'revers': 41,\n",
              " 'init': 13,\n",
              " 'pleaschang': 13,\n",
              " 'alleg': 50,\n",
              " 'faith': 37,\n",
              " 'afni': 17,\n",
              " 'reisssu': 17,\n",
              " '850000': 18,\n",
              " 'proceed': 56,\n",
              " 'yield': 20,\n",
              " 'homein': 21,\n",
              " 'cfpb': 101,\n",
              " 'unfair': 53,\n",
              " 'akin': 24,\n",
              " 'therefor': 67,\n",
              " 'back': 379,\n",
              " 'afford': 68,\n",
              " 'disappoint': 31,\n",
              " 'creator': 30,\n",
              " 'softer': 30,\n",
              " 'caxxxxxxxx': 31,\n",
              " 'uneasi': 32,\n",
              " 'index': 33,\n",
              " 'agreement': 120,\n",
              " 'gold': 40,\n",
              " 'custum': 36,\n",
              " 'entri': 43,\n",
              " 'asset': 47,\n",
              " 'endors': 40,\n",
              " '6': 87,\n",
              " 'taxestwo': 41,\n",
              " 'latest': 44,\n",
              " 'threefold': 43,\n",
              " 'collud': 44,\n",
              " 'senat': 48,\n",
              " 'confus': 69,\n",
              " 'creditorxxxx': 47,\n",
              " 'trap': 51,\n",
              " 'reset': 52,\n",
              " 'tree': 53,\n",
              " 'wrongli': 53,\n",
              " 'natrionstar': 52,\n",
              " 'thiev': 53,\n",
              " 'scari': 54,\n",
              " 'greenbtre': 55,\n",
              " 'crazi': 58,\n",
              " 'honest': 64,\n",
              " 'ill': 60,\n",
              " 'sanction': 60,\n",
              " 'mileston': 60,\n",
              " '58000': 61,\n",
              " 'certainli': 68,\n",
              " 'northwest': 63,\n",
              " 'bake': 64,\n",
              " 'couldnt': 66,\n",
              " 'cours': 73,\n",
              " 'dc': 67,\n",
              " 'pwower': 68,\n",
              " 'sl': 80,\n",
              " 'visa': 81,\n",
              " 'smart': 73,\n",
              " 'inaccraci': 72,\n",
              " 'firsthand': 73,\n",
              " 'paper': 131,\n",
              " 'unverifi': 83,\n",
              " 'characterist': 76,\n",
              " 'revenu': 77,\n",
              " 'googl': 82,\n",
              " 'deceas': 82,\n",
              " '370000': 80,\n",
              " 'lean': 81,\n",
              " 'inquir': 102,\n",
              " 'disputedbank': 83,\n",
              " 'atm': 102,\n",
              " 'husband': 148,\n",
              " 'commerc': 86,\n",
              " 'pa': 93,\n",
              " 'network': 92,\n",
              " 'ceo': 90,\n",
              " 'renew': 92,\n",
              " 'judg': 103,\n",
              " 'oregon': 94,\n",
              " 'transmitt': 93,\n",
              " 'preservationist': 95,\n",
              " 'instabl': 95,\n",
              " 'regardless': 99,\n",
              " 'garag': 98,\n",
              " 'condemn': 99,\n",
              " 'major': 130,\n",
              " 'archiv': 100,\n",
              " '820000': 101,\n",
              " 'buck': 106,\n",
              " 'disgust': 108,\n",
              " 'revolv': 114,\n",
              " 'applianc': 106,\n",
              " 'bia': 106,\n",
              " 'visibl': 107,\n",
              " 'wamu': 108,\n",
              " 'caretak': 109,\n",
              " 'find': 218,\n",
              " 'obviou': 113,\n",
              " 'xxxxrash': 117,\n",
              " 'writ': 114,\n",
              " 'justifi': 117,\n",
              " 'hassl': 118,\n",
              " 'room': 121,\n",
              " 'complic': 120,\n",
              " '1342': 119,\n",
              " 'peculiar': 119,\n",
              " 'underfund': 120,\n",
              " 'dredg': 121,\n",
              " 'straightforward': 122,\n",
              " 'regret': 124,\n",
              " 'atleast': 124,\n",
              " 'perk': 125,\n",
              " 'hurt': 135,\n",
              " 'puzzl': 127,\n",
              " 'sue': 137,\n",
              " 'experien': 129,\n",
              " 'subprim': 130,\n",
              " 'validilti': 131,\n",
              " 'legitam': 132,\n",
              " 'footag': 133,\n",
              " 'payment': 1170,\n",
              " 'thatnk': 135,\n",
              " 'govtprogram': 136,\n",
              " 'jam': 137,\n",
              " 'brother': 141,\n",
              " 'welldocu': 139,\n",
              " 'promptli': 158,\n",
              " 'miscommunici': 141,\n",
              " 'remot': 143,\n",
              " '970000': 143,\n",
              " 'count': 151,\n",
              " 'wakefield': 146,\n",
              " 'alway': 184,\n",
              " '503': 147,\n",
              " 'helpless': 149,\n",
              " 'speak': 226,\n",
              " 'morthag': 150,\n",
              " 'stori': 158,\n",
              " '85': 153,\n",
              " 'sentinel': 153,\n",
              " '320000': 155,\n",
              " 'ibrp': 155,\n",
              " 'simli': 156,\n",
              " 'accuraci': 163,\n",
              " 'worth': 172,\n",
              " '78': 159,\n",
              " 'target': 178,\n",
              " 'fals': 236,\n",
              " 'disast': 162,\n",
              " 'overdrawn': 181,\n",
              " 'ell': 164,\n",
              " 'docket': 168,\n",
              " 'underwrit': 185,\n",
              " 'wwwspeedyloansonlinecom': 168,\n",
              " 'engin': 169,\n",
              " 'benz': 170,\n",
              " 'altima': 170,\n",
              " '4600000': 171,\n",
              " 'revis': 176,\n",
              " 'referenc': 179,\n",
              " 'creditreport': 174,\n",
              " 'lot': 196,\n",
              " 'land': 181,\n",
              " 'nothingi': 177,\n",
              " 'withoyut': 178,\n",
              " 'vestig': 179,\n",
              " '1400': 181,\n",
              " 'twice': 208,\n",
              " 'informationcontact': 182,\n",
              " 'manger': 183,\n",
              " '280000': 187,\n",
              " 'usc1692g': 186,\n",
              " '6375': 186,\n",
              " 'food': 193,\n",
              " 'cover': 223,\n",
              " 'deferr': 189,\n",
              " 'presid': 193,\n",
              " 'havecould': 191,\n",
              " '180': 194,\n",
              " 'seemingli': 193,\n",
              " 'hear': 218,\n",
              " 'air': 195,\n",
              " 'abandon': 197,\n",
              " 'didnt': 199,\n",
              " 'timeli': 198,\n",
              " 'aspect': 199,\n",
              " 'enhanc': 203,\n",
              " 'mod': 211,\n",
              " 'recarpet': 202,\n",
              " 'froze': 203,\n",
              " 'xxxxxxxx': 676,\n",
              " 'thay': 205,\n",
              " '749': 206,\n",
              " 'case': 332,\n",
              " 'notifi': 278,\n",
              " 'bystand': 210,\n",
              " 'shame': 212,\n",
              " 'postal': 214,\n",
              " 'trial': 228,\n",
              " 'concern': 274,\n",
              " 'ge': 214,\n",
              " 'heavili': 215,\n",
              " 'menwomen': 217,\n",
              " 'relentlessli': 217,\n",
              " 'focus': 218,\n",
              " 'summari': 226,\n",
              " 'incom': 299,\n",
              " '1986': 221,\n",
              " 'moment': 224,\n",
              " 'perfectli': 224,\n",
              " 'time': 758,\n",
              " 'wifi': 225,\n",
              " 'thoroughli': 226,\n",
              " 'user': 237,\n",
              " 'debitbank': 228,\n",
              " 'advis': 350,\n",
              " 'print': 242,\n",
              " 'sneaki': 231,\n",
              " 'wellsfargo': 232,\n",
              " 'cavalri': 235,\n",
              " 'matur': 238,\n",
              " 'town': 238,\n",
              " 'alsodisput': 236,\n",
              " 'motherinlaw': 237,\n",
              " 'desir': 245,\n",
              " 'bu': 239,\n",
              " 'counterfeit': 241,\n",
              " 'inconspicu': 241,\n",
              " 'airfar': 242,\n",
              " 'sustain': 243,\n",
              " '13': 253,\n",
              " 'fluctuat': 246,\n",
              " 'happend': 246,\n",
              " 'weird': 248,\n",
              " 'respond': 343,\n",
              " 'ir': 276,\n",
              " 'sever': 397,\n",
              " 'constitut': 258,\n",
              " 'esser': 253,\n",
              " 'despond': 253,\n",
              " 'xxxx2016': 306,\n",
              " 'tear': 255,\n",
              " '7500': 258,\n",
              " 'statement': 430,\n",
              " 'ugliest': 258,\n",
              " '1688': 259,\n",
              " '16000': 262,\n",
              " 'bk': 262,\n",
              " 'disappear': 267,\n",
              " 'infuri': 263,\n",
              " 'unverif': 264,\n",
              " 'highli': 270,\n",
              " 'ect': 268,\n",
              " 'awr': 267,\n",
              " 'negoti': 280,\n",
              " 'outlet': 269,\n",
              " 'mess': 274,\n",
              " 'delet': 356,\n",
              " 'think': 307,\n",
              " 'barclay': 285,\n",
              " 'loanthi': 274,\n",
              " 'halstead': 275,\n",
              " 'discourag': 276,\n",
              " 'est': 281,\n",
              " 'accord': 315,\n",
              " 'dshort': 279,\n",
              " 'suspect': 287,\n",
              " 'swamp': 281,\n",
              " 'slip': 287,\n",
              " 'perpetr': 283,\n",
              " '40': 288,\n",
              " 'inctiv': 285,\n",
              " 'advoc': 291,\n",
              " '4900': 287,\n",
              " 'cashier': 293,\n",
              " 'injuri': 291,\n",
              " 'presumpt': 290,\n",
              " '2000': 305,\n",
              " 'recur': 292,\n",
              " 'implic': 293,\n",
              " 'inc': 321,\n",
              " 'leak': 296,\n",
              " 'menac': 296,\n",
              " '58': 297,\n",
              " 'scare': 299,\n",
              " 'wetink': 299,\n",
              " '27': 300,\n",
              " 'ontim': 301,\n",
              " '730000': 302,\n",
              " 'requestthank': 303,\n",
              " 'mind': 316,\n",
              " 'escal': 310,\n",
              " 'maintain': 320,\n",
              " 'garner': 307,\n",
              " 'balancebut': 308,\n",
              " 'boss': 311,\n",
              " 'cardi': 310,\n",
              " 'script': 314,\n",
              " 'result': 408,\n",
              " 'household': 316,\n",
              " 'ballanc': 314,\n",
              " 'incorrect': 355,\n",
              " 'standard': 329,\n",
              " '4': 393,\n",
              " 'u': 322,\n",
              " 'irregular': 319,\n",
              " 'head': 325,\n",
              " 'hunt': 321,\n",
              " 'americash': 323,\n",
              " 'abid': 323,\n",
              " 'in': 330,\n",
              " 'tx': 332,\n",
              " 'fashion': 327,\n",
              " 'unexplain': 327,\n",
              " 'andt': 328,\n",
              " 'topic': 329,\n",
              " 'corner': 331,\n",
              " 'mn': 331,\n",
              " 'plot': 332,\n",
              " '88000': 333,\n",
              " 'afraid': 338,\n",
              " 'man': 347,\n",
              " 'reciept': 336,\n",
              " 'remit': 339,\n",
              " '66': 338,\n",
              " 'commission': 339,\n",
              " '41000000': 340,\n",
              " 'tgen': 341,\n",
              " 'verif': 389,\n",
              " 'localbitcoinscom': 343,\n",
              " 'mother': 369,\n",
              " 'insist': 365,\n",
              " 'valu': 371,\n",
              " 'michigan': 349,\n",
              " 'luck': 350,\n",
              " 'numbersinc': 349,\n",
              " 'ltv': 351,\n",
              " 'daugther': 351,\n",
              " 'matterthey': 352,\n",
              " '77000': 353,\n",
              " 'interest': 566,\n",
              " 'citcard': 355,\n",
              " 'il': 356,\n",
              " 'assert': 360,\n",
              " 'cohors': 358,\n",
              " 'suppos': 403,\n",
              " '12000': 370,\n",
              " 'hand': 381,\n",
              " 'base': 421,\n",
              " 'drop': 387,\n",
              " 'row': 364,\n",
              " 'homebuy': 365,\n",
              " 'right': 482,\n",
              " 'incomecontig': 367,\n",
              " 'soc': 371,\n",
              " 'requestor': 369,\n",
              " 'compound': 373,\n",
              " 'preserv': 373,\n",
              " 'imprison': 373,\n",
              " 'memo': 373,\n",
              " 'washerdry': 374,\n",
              " 'setit': 375,\n",
              " 'balanc': 634,\n",
              " 'mute': 377,\n",
              " 'cp': 378,\n",
              " 'arbitr': 380,\n",
              " 'number': 748,\n",
              " 'holi': 381,\n",
              " 'pii': 383,\n",
              " 'exactli': 391,\n",
              " 'discomfort': 384,\n",
              " 'angl': 385,\n",
              " 'selfemploy': 386,\n",
              " 'xxxx2008': 387,\n",
              " 'hunsband': 388,\n",
              " 'solicit': 390,\n",
              " 'activit': 390,\n",
              " 'pretti': 393,\n",
              " 'baitandswitch': 394,\n",
              " 'occass': 394,\n",
              " 'th': 395,\n",
              " 'colorado': 395,\n",
              " 'post': 465,\n",
              " 'shellpoint': 403,\n",
              " 'mailto': 398,\n",
              " 'ai': 399,\n",
              " 'bank': 1084,\n",
              " 'notcould': 401,\n",
              " 'northern': 402,\n",
              " 'inelig': 403,\n",
              " 'providedwhich': 404,\n",
              " 'paymentaft': 405,\n",
              " 'boyfriend': 408,\n",
              " 'transworld': 407,\n",
              " 'univ': 408,\n",
              " 'except': 429,\n",
              " 'maker': 412,\n",
              " 'addingremov': 411,\n",
              " 'firm': 438,\n",
              " 'faq': 413,\n",
              " 'start': 517,\n",
              " 'debt3': 415,\n",
              " 'sometim': 424,\n",
              " 'layer': 417,\n",
              " 'say': 581,\n",
              " 'rotari': 419,\n",
              " 'xxxxi': 423,\n",
              " 'reserv': 428,\n",
              " 'feloni': 428,\n",
              " 'aunt': 424,\n",
              " 'sixti': 424,\n",
              " 'eventu': 437,\n",
              " 'exuberantli': 426,\n",
              " 'deterior': 427,\n",
              " 'mistak': 461,\n",
              " 'irreput': 429,\n",
              " 'thank': 499,\n",
              " 'dump': 434,\n",
              " 'ssc': 432,\n",
              " 'stress': 442,\n",
              " 'reescal': 434,\n",
              " 'mattera': 435,\n",
              " 'client': 453,\n",
              " 'refinanceconsolid': 437,\n",
              " 'rip': 443,\n",
              " 'content': 442,\n",
              " 'contest': 441,\n",
              " 'mortgageusaa': 441,\n",
              " '401k': 442,\n",
              " 'pipe': 444,\n",
              " 'monday': 460,\n",
              " 'xxxxxxxxthey': 445,\n",
              " 'artist': 446,\n",
              " 'oqwnloan': 447,\n",
              " '0n': 448,\n",
              " '2013': 457,\n",
              " 'death': 468,\n",
              " 'xxxxxxxx16': 498,\n",
              " 'agentat': 452,\n",
              " 'leav': 481,\n",
              " 'upload': 468,\n",
              " 'payerborrow': 455,\n",
              " 'month': 807,\n",
              " 'circumst': 462,\n",
              " 'ditechgreentre': 459,\n",
              " 'unintent': 460,\n",
              " 'point': 576,\n",
              " 'negit': 461,\n",
              " 'headupp': 462,\n",
              " 'warranti': 463,\n",
              " 'unsubsid': 464,\n",
              " 'xxxxxxxxxxxx': 560,\n",
              " 'valuat': 468,\n",
              " 'off': 467,\n",
              " 'forgotten': 469,\n",
              " 'declin': 491,\n",
              " 'condo': 476,\n",
              " 'npv': 473,\n",
              " 'pension': 475,\n",
              " 'shall': 475,\n",
              " 'counter': 477,\n",
              " 'loan': 1286,\n",
              " 'rectifi': 478,\n",
              " 'immin': 479,\n",
              " 'brightest': 478,\n",
              " 'ten': 489,\n",
              " 'slate': 482,\n",
              " 'plaintiff': 484,\n",
              " 'retain': 489,\n",
              " 'careless': 483,\n",
              " 'rentalhom': 484,\n",
              " 'exceed': 489,\n",
              " 'unresolv': 487,\n",
              " '275': 493,\n",
              " 'ram': 488,\n",
              " 'servc': 490,\n",
              " 'ccp': 490,\n",
              " 'us': 695,\n",
              " '880000': 493,\n",
              " 'adam': 493,\n",
              " 'thrice': 494,\n",
              " 'miscreant': 495,\n",
              " 'attemptong': 496,\n",
              " 'hardwar': 497,\n",
              " 'defer': 515,\n",
              " 'year': 892,\n",
              " 'bankruptci': 599,\n",
              " 'attain': 501,\n",
              " 'attitud': 504,\n",
              " 'incent': 504,\n",
              " 'compar': 511,\n",
              " 'flexibl': 505,\n",
              " 'entitl': 514,\n",
              " 'closedcharg': 507,\n",
              " 'serviceprovid': 508,\n",
              " '37000000': 509,\n",
              " 'unambigu': 511,\n",
              " 'invok': 511,\n",
              " 'choos': 520,\n",
              " 'processmi': 513,\n",
              " 'unsatisfactori': 514,\n",
              " 'repay': 562,\n",
              " 'excess': 521,\n",
              " 'g': 517,\n",
              " 'advantag': 537,\n",
              " '2000000': 523,\n",
              " 'grandma': 520,\n",
              " 'b4': 521,\n",
              " 'woke': 522,\n",
              " 'extroidnarili': 523,\n",
              " '1525': 525,\n",
              " 'character': 525,\n",
              " 'cheat': 530,\n",
              " 'r': 527,\n",
              " 'believ': 626,\n",
              " 'reliabl': 529,\n",
              " '9': 539,\n",
              " '5000000': 535,\n",
              " 'inspector': 534,\n",
              " 'nasti': 533,\n",
              " 'situat': 605,\n",
              " 'moral': 535,\n",
              " 'czpe': 536,\n",
              " 'role': 538,\n",
              " 'anyon': 573,\n",
              " 'nice': 543,\n",
              " 'watch': 542,\n",
              " 'funer': 541,\n",
              " 'inform': 1254,\n",
              " '1522': 543,\n",
              " 'speed': 545,\n",
              " 'deposit': 642,\n",
              " '20000': 565,\n",
              " 'anytim': 548,\n",
              " 'today': 626,\n",
              " '1962': 549,\n",
              " 'ahmsiamerican': 550,\n",
              " '26000000': 553,\n",
              " 'ach': 553,\n",
              " 'eft': 554,\n",
              " 'mobil': 556,\n",
              " 'prison': 555,\n",
              " 'laps': 557,\n",
              " 'incomplet': 559,\n",
              " 'econom': 560,\n",
              " 'voluntarili': 560,\n",
              " 'blame': 566,\n",
              " 'thern': 561,\n",
              " 'counsel': 566,\n",
              " 'prohibit': 573,\n",
              " 'breadwinn': 564,\n",
              " 'revert': 565,\n",
              " 'wantrd': 566,\n",
              " 'discredit': 567,\n",
              " 'severalday': 568,\n",
              " '64000': 570,\n",
              " 'exist': 591,\n",
              " 'tf': 571,\n",
              " 'instanc': 575,\n",
              " 'discret': 574,\n",
              " 'brach': 574,\n",
              " 'packag': 595,\n",
              " 'forbear': 606,\n",
              " '75000': 579,\n",
              " 'sub': 578,\n",
              " 'reportpleas': 579,\n",
              " '31000': 581,\n",
              " 'creditordirectli': 581,\n",
              " 'accus': 592,\n",
              " 'drove': 585,\n",
              " 'castlepaydaycom': 584,\n",
              " 'herei': 585,\n",
              " 'fdic': 588,\n",
              " 'three': 609,\n",
              " 'prove': 620,\n",
              " 'certifi': 634,\n",
              " 'avoid': 614,\n",
              " 'withdrew': 595,\n",
              " 'green': 595,\n",
              " 'much': 652,\n",
              " 'burden': 597,\n",
              " 'clue': 595,\n",
              " 'ace': 596,\n",
              " 'appear': 648,\n",
              " 'disrupt': 599,\n",
              " 'groupon': 599,\n",
              " 'rich': 601,\n",
              " 'apt': 603,\n",
              " 'full': 724,\n",
              " 'loanunit': 603,\n",
              " 'caus': 687,\n",
              " '623': 608,\n",
              " 'screenshot': 608,\n",
              " 'cessat': 607,\n",
              " 'employ': 632,\n",
              " 'xxxxxxxxi': 609,\n",
              " 'improp': 611,\n",
              " '750000': 613,\n",
              " 'ball': 614,\n",
              " 'tough': 615,\n",
              " 'reopen': 619,\n",
              " 'forev': 618,\n",
              " 'vice': 616,\n",
              " 'wors': 626,\n",
              " 'infront': 618,\n",
              " 'for4': 619,\n",
              " 'skip': 626,\n",
              " '1624': 621,\n",
              " 'valididti': 622,\n",
              " 'inforam': 623,\n",
              " 'trove': 624,\n",
              " 'complex': 630,\n",
              " 'birth': 632,\n",
              " 'pleasur': 627,\n",
              " 'filthi': 628,\n",
              " 'hack': 632,\n",
              " 'elit': 630,\n",
              " 'contempt': 631,\n",
              " 'made': 941,\n",
              " 'day': 1012,\n",
              " 'build': 638,\n",
              " 'issuer': 635,\n",
              " 'show': 824,\n",
              " 'lein': 637,\n",
              " 'promot': 662,\n",
              " 'tactict': 639,\n",
              " 'advanc': 655,\n",
              " 'arrang': 680,\n",
              " 'neglect': 645,\n",
              " 'forum': 643,\n",
              " 'certifiedreturn': 645,\n",
              " 'credenc': 648,\n",
              " 'di': 649,\n",
              " 'newtocitibank': 647,\n",
              " 'factualrecord': 648,\n",
              " 'evalu': 653,\n",
              " 'strap': 651,\n",
              " 'withhold': 652,\n",
              " 'harm': 663,\n",
              " 'qualiti': 657,\n",
              " 'decid': 687,\n",
              " 'authoris': 656,\n",
              " 'prefac': 656,\n",
              " 'useless': 658,\n",
              " 'assumpt': 661,\n",
              " 'pride': 659,\n",
              " 'descrep': 660,\n",
              " 'function': 662,\n",
              " 'urgenc': 663,\n",
              " 'princip': 706,\n",
              " 'sellerxxxx': 664,\n",
              " 'gentlemen': 665,\n",
              " 'accountcredit': 666,\n",
              " 'scan': 670,\n",
              " 'stuff': 672,\n",
              " 'bombard': 669,\n",
              " 'borrow': 693,\n",
              " '15usc': 672,\n",
              " 'xxxxni': 672,\n",
              " 'legibl': 673,\n",
              " 'sp': 680,\n",
              " 'score': 809,\n",
              " 'xfer': 676,\n",
              " '1578': 677,\n",
              " 'chex': 678,\n",
              " 'cheater': 679,\n",
              " 'prepaid': 686,\n",
              " 'pmi': 701,\n",
              " 'desper': 688,\n",
              " 'loanmecom': 683,\n",
              " 'paybil': 684,\n",
              " 'rushmor': 689,\n",
              " 'match': 699,\n",
              " 'spous': 692,\n",
              " 'widespread': 688,\n",
              " 'free': 716,\n",
              " 'leasor': 690,\n",
              " 'invalid': 702,\n",
              " 'unafford': 692,\n",
              " 'redemptionbank': 693,\n",
              " 'wish': 706,\n",
              " '24': 709,\n",
              " 'center': 706,\n",
              " 'exclud': 699,\n",
              " 'thisyou': 698,\n",
              " 'banana': 699,\n",
              " 'span': 701,\n",
              " 'small': 717,\n",
              " 'downsiz': 702,\n",
              " 'applic': 786,\n",
              " 'caal': 704,\n",
              " 'dead': 706,\n",
              " 'behind': 734,\n",
              " 'ink': 717,\n",
              " 'brand': 710,\n",
              " 'personel': 709,\n",
              " 'catch': 717,\n",
              " 'acct': 739,\n",
              " 'santand': 721,\n",
              " 'predat': 714,\n",
              " 'snail': 715,\n",
              " 'collater': 718,\n",
              " '2011': 723,\n",
              " 'guy': 728,\n",
              " 'alittl': 719,\n",
              " 'transunion': 778,\n",
              " 'simpli': 741,\n",
              " 'floodcert': 721,\n",
              " 'nissan': 732,\n",
              " 'labori': 723,\n",
              " '2023': 724,\n",
              " 'dmv': 730,\n",
              " 'nobdescript': 726,\n",
              " 'divis': 734,\n",
              " 'tile': 728,\n",
              " 'fiber': 729,\n",
              " 'moneyfrom': 730,\n",
              " 'correpond': 731,\n",
              " 'will': 758,\n",
              " 'transferr': 733,\n",
              " 'proper': 758,\n",
              " 'impos': 738,\n",
              " 'furnish': 763,\n",
              " 'took': 817,\n",
              " 'defiantli': 738,\n",
              " 'entertain': 739,\n",
              " 'reduc': 757,\n",
              " 'safe': 742,\n",
              " '817568': 742,\n",
              " 'permit': 748,\n",
              " '250000': 759,\n",
              " 'llc': 775,\n",
              " 'unavail': 747,\n",
              " 'station': 748,\n",
              " 'wa': 749,\n",
              " 'person': 929,\n",
              " 'consensu': 751,\n",
              " 'sooner': 754,\n",
              " 'boa': 769,\n",
              " 'abstract': 753,\n",
              " 'seiz': 755,\n",
              " 'bunch': 756,\n",
              " 'phoenix': 756,\n",
              " 'communicationwith': 757,\n",
              " 'appt': 759,\n",
              " 'degrad': 759,\n",
              " 'llcxxxx': 760,\n",
              " 'reqular': 761,\n",
              " 'least': 793,\n",
              " 'lawfirm': 763,\n",
              " 'copyright': 764,\n",
              " 'cleanli': 766,\n",
              " '67': 766,\n",
              " 'strung': 767,\n",
              " 'idea': 789,\n",
              " 'entiti': 797,\n",
              " 'detriment': 776,\n",
              " 'word': 796,\n",
              " '47000': 776,\n",
              " 'bottom': 779,\n",
              " 'casedocket': 774,\n",
              " 'iceberg': 775,\n",
              " 'univers': 784,\n",
              " 'realiti': 779,\n",
              " 'buruea': 778,\n",
              " 'link': 788,\n",
              " 'supervisori': 780,\n",
              " 'upgrad': 781,\n",
              " 'occur': 813,\n",
              " 'salesperson': 784,\n",
              " 'actor': 786,\n",
              " 'establish': 791,\n",
              " 'recharg': 788,\n",
              " 'residenti': 790,\n",
              " 'anoth': 941,\n",
              " 'arrog': 789,\n",
              " 'rebil': 790,\n",
              " 'close': 1031,\n",
              " 'loanmart': 792,\n",
              " '3': 874,\n",
              " 'extend': 810,\n",
              " 'everywher': 795,\n",
              " 'member': 814,\n",
              " 'responc': 798,\n",
              " 'fraudul': 892,\n",
              " 'sum': 813,\n",
              " 'transfere': 801,\n",
              " 'mayb': 805,\n",
              " 'rb': 802,\n",
              " 'throw': 804,\n",
              " 'reciv': 804,\n",
              " 'jh': 806,\n",
              " 'undergo': 806,\n",
              " '400': 810,\n",
              " 'valid': 950,\n",
              " 'mitig': 815,\n",
              " 'extra': 831,\n",
              " 'capitalon': 825,\n",
              " 'usbank': 816,\n",
              " 'redempt': 813,\n",
              " 'amend': 814,\n",
              " 'surcharg': 815,\n",
              " 'ledger': 821,\n",
              " 'somewher': 819,\n",
              " 'opportun': 840,\n",
              " 'storeaft': 819,\n",
              " 'hawaiian': 820,\n",
              " '2100000': 821,\n",
              " 'signific': 836,\n",
              " '81000': 825,\n",
              " 'reissu': 827,\n",
              " 'shutdown': 825,\n",
              " 'scheme': 826,\n",
              " '60': 841,\n",
              " 'h': 828,\n",
              " 'pertin': 830,\n",
              " 'along': 861,\n",
              " 'squar': 836,\n",
              " 'waiv': 848,\n",
              " 'heavi': 834,\n",
              " 'till': 839,\n",
              " 'foul': 835,\n",
              " 'less': 861,\n",
              " 'callback': 837,\n",
              " '890000': 838,\n",
              " 'harass': 893,\n",
              " 'kitchen': 845,\n",
              " 'errat': 841,\n",
              " 'combin': 847,\n",
              " 'cooper': 853,\n",
              " 'refinanc': 868,\n",
              " 'broken': 853,\n",
              " 'bind': 849,\n",
              " 'hsa': 849,\n",
              " '53000': 848,\n",
              " '30day': 851,\n",
              " 'kep': 850,\n",
              " 'academ': 851,\n",
              " 'jame': 853,\n",
              " 'complain': 869,\n",
              " 'restor': 858,\n",
              " 'innumer': 855,\n",
              " 'english': 857,\n",
              " 'circumv': 857,\n",
              " 'belief': 861,\n",
              " 'take': 1070,\n",
              " 'inappropri': 861,\n",
              " 'responsecurr': 861,\n",
              " 'usd': 863,\n",
              " 'csr': 865,\n",
              " 'clinic': 864,\n",
              " 'plenti': 868,\n",
              " '28000': 868,\n",
              " 'abroad': 868,\n",
              " 'usa': 870,\n",
              " 'xxxxto': 869,\n",
              " 'rise': 872,\n",
              " 'td': 876,\n",
              " 'hndled': 872,\n",
              " 'safeti': 876,\n",
              " 'strang': 877,\n",
              " 'turn': 915,\n",
              " 'derogatori': 907,\n",
              " 'real': 899,\n",
              " 'unemploy': 891,\n",
              " 'net': 881,\n",
              " 'counti': 898,\n",
              " 'uspdocslistapi': 881,\n",
              " '1994': 882,\n",
              " 'lettter': 883,\n",
              " 'heloc': 893,\n",
              " 'refin': 930,\n",
              " 'sit': 903,\n",
              " 'autotitl': 888,\n",
              " 'around': 972,\n",
              " 'citimastercard': 891,\n",
              " 'corollari': 890,\n",
              " 'strongli': 892,\n",
              " 'feeeventu': 892,\n",
              " 'withdrawl': 893,\n",
              " 'burea': 894,\n",
              " 'reappear': 895,\n",
              " 'secretari': 896,\n",
              " 'xxxxfrom': 897,\n",
              " '3400': 901,\n",
              " 'reflect': 921,\n",
              " 'affect': 941,\n",
              " 'allig': 901,\n",
              " 'tmobil': 902,\n",
              " 'withdraw': 934,\n",
              " 'freez': 916,\n",
              " 'subsequesntli': 905,\n",
              " 'forgot': 908,\n",
              " 'pattern': 907,\n",
              " 'prematur': 908,\n",
              " '900000': 909,\n",
              " 'greater': 910,\n",
              " 'resubmit': 917,\n",
              " 'myselfproduct': 912,\n",
              " 'nevertheless': 913,\n",
              " 'trigger': 916,\n",
              " 'sho': 915,\n",
              " 'slave': 916,\n",
              " 'udaap': 917,\n",
              " 'nowher': 918,\n",
              " 'moni': 922,\n",
              " 'xxxxschedul': 920,\n",
              " 'unfaith': 921,\n",
              " 'pregnant': 924,\n",
              " 'charter': 924,\n",
              " 'ic': 924,\n",
              " 'estat': 938,\n",
              " 'moth': 926,\n",
              " 'administr': 935,\n",
              " 'macysbloomingdal': 928,\n",
              " 'dispos': 929,\n",
              " 'blackhawk': 930,\n",
              " 'sitter': 931,\n",
              " 'evas': 933,\n",
              " 'hotfil': 935,\n",
              " '62000': 934,\n",
              " 'convey': 936,\n",
              " '17': 938,\n",
              " 'seller': 941,\n",
              " 'logic': 938,\n",
              " 'rib': 940,\n",
              " 'sr': 940,\n",
              " 'uneth': 949,\n",
              " 'carrier': 944,\n",
              " 'supermarket': 947,\n",
              " 'mom': 950,\n",
              " 'servic': 1306,\n",
              " 'propos': 950,\n",
              " 'journal': 947,\n",
              " '212': 948,\n",
              " 'modificationi': 949,\n",
              " '2017': 950,\n",
              " 'obvioulsi': 951,\n",
              " 'paperwork': 1034,\n",
              " 'excus': 960,\n",
              " 'coinbas': 954,\n",
              " '14000': 956,\n",
              " 'knowingli': 961,\n",
              " 'baffl': 957,\n",
              " 'serviceman': 958,\n",
              " 'expens': 981,\n",
              " 'session': 961,\n",
              " 'bankrtupci': 961,\n",
              " 'retail': 963,\n",
              " 'n': 963,\n",
              " 'behalf': 986,\n",
              " 'misspel': 965,\n",
              " 'approx': 969,\n",
              " 'ut': 967,\n",
              " 'orient': 968,\n",
              " 'hosp': 969,\n",
              " 'republ': 970,\n",
              " 'litton': 972,\n",
              " 'endur': 973,\n",
              " 'greet': 976,\n",
              " 'accountloan': 974,\n",
              " 'satisfactorili': 975,\n",
              " '97000': 977,\n",
              " 'lowest': 977,\n",
              " 'investig': 1090,\n",
              " 'intercept': 980,\n",
              " 'thwe': 980,\n",
              " 'wat': 981,\n",
              " 'middl': 987,\n",
              " 'goe': 994,\n",
              " 'unblemish': 984,\n",
              " 'tmx': 985,\n",
              " 'printabl': 986,\n",
              " 'unqualifi': 987,\n",
              " '1093767': 988,\n",
              " 'mysteri': 989,\n",
              " 'nonsens': 990,\n",
              " 'unusu': 991,\n",
              " 'chain': 995,\n",
              " 'servicesi': 993,\n",
              " 'xxxxbureau': 994,\n",
              " 'statusmediationon': 995,\n",
              " 'toward': 1029,\n",
              " 'vmail': 997,\n",
              " 'atp': 998,\n",
              " 'despit': 1041,\n",
              " 'humili': 1000,\n",
              " ...}"
            ]
          },
          "metadata": {},
          "execution_count": 60
        }
      ]
    },
    {
      "cell_type": "markdown",
      "metadata": {
        "id": "XnG6cE6GXBaT"
      },
      "source": [
        "### Feature Selection\n",
        "Chi-square test measures dependence between stochastic variables, so using this function “weeds out” the features that are the most likely to be independent of class and therefore irrelevant for classification."
      ]
    },
    {
      "cell_type": "code",
      "execution_count": null,
      "metadata": {
        "id": "9eZdPs2fXBaU",
        "outputId": "2db6881f-b2bb-49c5-eb02-f8c2765a2295"
      },
      "outputs": [
        {
          "data": {
            "text/plain": [
              "(<152809x5000 sparse matrix of type '<class 'numpy.float64'>'\n",
              " \twith 10780400 stored elements in Compressed Sparse Row format>,\n",
              " <26967x5000 sparse matrix of type '<class 'numpy.float64'>'\n",
              " \twith 1907878 stored elements in Compressed Sparse Row format>)"
            ]
          },
          "execution_count": 7,
          "metadata": {},
          "output_type": "execute_result"
        }
      ],
      "source": [
        "from sklearn.feature_selection import SelectKBest, chi2\n",
        "\n",
        "ch2 = SelectKBest(chi2, k=5000)\n",
        "X_train = ch2.fit_transform(X_train, y_train)\n",
        "X_test = ch2.transform(X_test)\n",
        "\n",
        "X_train, X_test"
      ]
    }
  ],
  "metadata": {
    "colab": {
      "name": "complaint_classification_case_study.ipynb",
      "provenance": []
    },
    "kernelspec": {
      "display_name": "Python 3",
      "language": "python",
      "name": "python3"
    },
    "language_info": {
      "codemirror_mode": {
        "name": "ipython",
        "version": 3
      },
      "file_extension": ".py",
      "mimetype": "text/x-python",
      "name": "python",
      "nbconvert_exporter": "python",
      "pygments_lexer": "ipython3",
      "version": "3.7.3"
    }
  },
  "nbformat": 4,
  "nbformat_minor": 0
}