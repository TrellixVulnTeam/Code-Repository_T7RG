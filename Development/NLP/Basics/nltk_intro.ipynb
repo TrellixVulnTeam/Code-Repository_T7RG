{
 "cells": [
  {
   "cell_type": "markdown",
   "id": "0a794b79-da2e-4de3-a9b8-3b6242329f3e",
   "metadata": {},
   "source": [
    "## Natural Language Processing "
   ]
  },
  {
   "cell_type": "code",
   "execution_count": 4,
   "id": "e11c0763-71ce-4909-bd19-64603ba22ff4",
   "metadata": {},
   "outputs": [
    {
     "name": "stderr",
     "output_type": "stream",
     "text": [
      "[nltk_data] Downloading package reuters to /home/blink/nltk_data...\n",
      "[nltk_data]   Package reuters is already up-to-date!\n"
     ]
    },
    {
     "data": {
      "text/plain": [
       "['test/14826', 'test/14828']"
      ]
     },
     "execution_count": 4,
     "metadata": {},
     "output_type": "execute_result"
    }
   ],
   "source": [
    "# Using an inbuilt corpura reuters, which writes a lot about reuters\n",
    "import nltk\n",
    "from nltk.corpus import reuters\n",
    "\n",
    "nltk.download('reuters')\n",
    "fileids=reuters.fileids()\n",
    "fileids[0:2]"
   ]
  },
  {
   "cell_type": "code",
   "execution_count": 7,
   "id": "e78aac32-6e5a-4adb-986c-ace658d98c4f",
   "metadata": {},
   "outputs": [
    {
     "data": {
      "text/plain": [
       "['acq', 'alum', 'barley']"
      ]
     },
     "execution_count": 7,
     "metadata": {},
     "output_type": "execute_result"
    }
   ],
   "source": [
    "# Finding the categories of the returers dataset\n",
    "categories=reuters.categories()\n",
    "categories[0:3]"
   ]
  },
  {
   "cell_type": "code",
   "execution_count": 10,
   "id": "cf26c798-d3cd-4c0f-8848-80e7d62cb218",
   "metadata": {},
   "outputs": [],
   "source": [
    "#Filtering\n",
    "wheat_rice=reuters.fileids(['wheat','rice'])"
   ]
  },
  {
   "cell_type": "code",
   "execution_count": 13,
   "id": "0ac9e265-94a4-4a95-9d9c-923b2ec8c00a",
   "metadata": {},
   "outputs": [
    {
     "data": {
      "text/plain": [
       "['THAI', 'TRADE', 'DEFICIT', 'WIDENS', 'IN', 'FIRST', ...]"
      ]
     },
     "execution_count": 13,
     "metadata": {},
     "output_type": "execute_result"
    }
   ],
   "source": [
    "# Finding the number of charahcters, words, etc in files \n",
    "reuters.words(wheat_rice[0])"
   ]
  },
  {
   "cell_type": "code",
   "execution_count": 15,
   "id": "315fb9aa-2c57-4f93-8bd9-019f2eed9e0a",
   "metadata": {},
   "outputs": [
    {
     "name": "stderr",
     "output_type": "stream",
     "text": [
      "[nltk_data] Downloading package punkt to /home/blink/nltk_data...\n",
      "[nltk_data]   Unzipping tokenizers/punkt.zip.\n"
     ]
    },
    {
     "data": {
      "text/plain": [
       "[['THAI', 'TRADE', 'DEFICIT', 'WIDENS', 'IN', 'FIRST', 'QUARTER', 'Thailand', \"'\", 's', 'trade', 'deficit', 'widened', 'to', '4', '.', '5', 'billion', 'baht', 'in', 'the', 'first', 'quarter', 'of', '1987', 'from', '2', '.', '1', 'billion', 'a', 'year', 'ago', ',', 'the', 'Business', 'Economics', 'Department', 'said', '.'], ['It', 'said', 'Janunary', '/', 'March', 'imports', 'rose', 'to', '65', '.', '1', 'billion', 'baht', 'from', '58', '.', '7', 'billion', '.'], ...]"
      ]
     },
     "execution_count": 15,
     "metadata": {},
     "output_type": "execute_result"
    }
   ],
   "source": [
    "#Installing punkt to get more features like sentence extraction\n",
    "nltk.download('punkt')\n",
    "reuters.sents(wheat_rice[0])"
   ]
  },
  {
   "cell_type": "code",
   "execution_count": null,
   "id": "5aa3ae5f-7da8-41e8-b011-d534a73a589d",
   "metadata": {},
   "outputs": [],
   "source": []
  }
 ],
 "metadata": {
  "kernelspec": {
   "display_name": "Python 3 (ipykernel)",
   "language": "python",
   "name": "python3"
  },
  "language_info": {
   "codemirror_mode": {
    "name": "ipython",
    "version": 3
   },
   "file_extension": ".py",
   "mimetype": "text/x-python",
   "name": "python",
   "nbconvert_exporter": "python",
   "pygments_lexer": "ipython3",
   "version": "3.8.8"
  }
 },
 "nbformat": 4,
 "nbformat_minor": 5
}
