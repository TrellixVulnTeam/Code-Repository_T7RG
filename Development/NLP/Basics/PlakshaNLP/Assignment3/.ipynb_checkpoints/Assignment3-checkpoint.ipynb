{
  "cells": [
    {
      "cell_type": "markdown",
      "metadata": {
        "id": "19c247ef"
      },
      "source": [
        "# Assignment 3: Fine-tuning BERT for Classification Tasks (15 Marks)\n",
        "\n",
        "## Due: March 24, 2022\n",
        "\n",
        "Welcome to Assignment 3 of our course on Natural Language Processing. As the name suggests in this assignment you will learn how to fine-tune a pretrained model like BERT on a downstream task to improve much more superior performance compared to the methods discussed so far. Like previous assignments we will continue to work on the SST-2 sentiment dataset as well ask introduce a new task to work on i.e. [Microsfot Research Paraphrase Corpus](https://www.microsoft.com/en-us/download/details.aspx?id=52398). This assignment will also make heavy use of the [Hugging Face's Transformers Library](https://huggingface.co/docs/transformers/index). Don't worry if you are not familiar with the library, we will discuss its usage in detail.\n",
        "\n",
        "Note: Access to a GPU will be crucial for working on this assignment. So do select a GPU runtime in Colab before you start working.\n",
        "\n",
        "Suggested Reading: [Jacob Devlin, Ming-Wei Chang, Kenton Lee, Kristina Toutanova *BERT: Pre-training of Deep Bidirectional Transformers for Language Understanding*](https://arxiv.org/pdf/1810.04805.pdf)\n"
      ],
      "id": "19c247ef"
    },
    {
      "cell_type": "code",
      "execution_count": 2,
      "metadata": {
        "colab": {
          "base_uri": "https://localhost:8080/"
        },
        "id": "26c077e7",
        "outputId": "e117c697-81d8-43a1-c65a-377e6bb57dfb"
      },
      "outputs": [
        {
          "output_type": "stream",
          "name": "stdout",
          "text": [
            "Mounted at /content/gdrive\n"
          ]
        }
      ],
      "source": [
        "try:\n",
        "    from google.colab import drive\n",
        "    drive.mount('/content/gdrive')\n",
        "    sst_data_dir = \"gdrive/MyDrive/PlakshaNLP/Assignment3/data/SST-2\"\n",
        "    mrpc_data_dir = \"gdrive/MyDrive/PlakshaNLP/Assignment3/data/MRPC\"\n",
        "except:\n",
        "    sst_data_dir = \"/datadrive/t-kabir/work/repos/PlakshaNLP/source/Assignment3/data/SST-2\"\n",
        "    mrpc_data_dir = \"/datadrive/t-kabir/work/repos/PlakshaNLP/source/Assignment3/data/MRPC\""
      ],
      "id": "26c077e7"
    },
    {
      "cell_type": "code",
      "execution_count": 3,
      "metadata": {
        "colab": {
          "base_uri": "https://localhost:8080/"
        },
        "id": "3242992d",
        "outputId": "6b634522-6e81-4e38-b132-0899765961e8"
      },
      "outputs": [
        {
          "output_type": "stream",
          "name": "stdout",
          "text": [
            "Requirement already satisfied: numpy in /usr/local/lib/python3.7/dist-packages (1.21.5)\n",
            "Requirement already satisfied: pandas in /usr/local/lib/python3.7/dist-packages (1.3.5)\n",
            "Requirement already satisfied: numpy>=1.17.3 in /usr/local/lib/python3.7/dist-packages (from pandas) (1.21.5)\n",
            "Requirement already satisfied: pytz>=2017.3 in /usr/local/lib/python3.7/dist-packages (from pandas) (2018.9)\n",
            "Requirement already satisfied: python-dateutil>=2.7.3 in /usr/local/lib/python3.7/dist-packages (from pandas) (2.8.2)\n",
            "Requirement already satisfied: six>=1.5 in /usr/local/lib/python3.7/dist-packages (from python-dateutil>=2.7.3->pandas) (1.15.0)\n",
            "Requirement already satisfied: torch in /usr/local/lib/python3.7/dist-packages (1.10.0+cu111)\n",
            "Requirement already satisfied: typing-extensions in /usr/local/lib/python3.7/dist-packages (from torch) (3.10.0.2)\n",
            "Requirement already satisfied: tqdm in /usr/local/lib/python3.7/dist-packages (4.63.0)\n",
            "Requirement already satisfied: matplotlib in /usr/local/lib/python3.7/dist-packages (3.2.2)\n",
            "Requirement already satisfied: python-dateutil>=2.1 in /usr/local/lib/python3.7/dist-packages (from matplotlib) (2.8.2)\n",
            "Requirement already satisfied: kiwisolver>=1.0.1 in /usr/local/lib/python3.7/dist-packages (from matplotlib) (1.3.2)\n",
            "Requirement already satisfied: numpy>=1.11 in /usr/local/lib/python3.7/dist-packages (from matplotlib) (1.21.5)\n",
            "Requirement already satisfied: cycler>=0.10 in /usr/local/lib/python3.7/dist-packages (from matplotlib) (0.11.0)\n",
            "Requirement already satisfied: pyparsing!=2.0.4,!=2.1.2,!=2.1.6,>=2.0.1 in /usr/local/lib/python3.7/dist-packages (from matplotlib) (3.0.7)\n",
            "Requirement already satisfied: six>=1.5 in /usr/local/lib/python3.7/dist-packages (from python-dateutil>=2.1->matplotlib) (1.15.0)\n",
            "Collecting transformers\n",
            "  Downloading transformers-4.17.0-py3-none-any.whl (3.8 MB)\n",
            "\u001b[K     |████████████████████████████████| 3.8 MB 5.6 MB/s \n",
            "\u001b[?25hCollecting tokenizers!=0.11.3,>=0.11.1\n",
            "  Downloading tokenizers-0.11.6-cp37-cp37m-manylinux_2_12_x86_64.manylinux2010_x86_64.whl (6.5 MB)\n",
            "\u001b[K     |████████████████████████████████| 6.5 MB 33.7 MB/s \n",
            "\u001b[?25hRequirement already satisfied: filelock in /usr/local/lib/python3.7/dist-packages (from transformers) (3.6.0)\n",
            "Requirement already satisfied: regex!=2019.12.17 in /usr/local/lib/python3.7/dist-packages (from transformers) (2019.12.20)\n",
            "Collecting huggingface-hub<1.0,>=0.1.0\n",
            "  Downloading huggingface_hub-0.4.0-py3-none-any.whl (67 kB)\n",
            "\u001b[K     |████████████████████████████████| 67 kB 5.4 MB/s \n",
            "\u001b[?25hCollecting pyyaml>=5.1\n",
            "  Downloading PyYAML-6.0-cp37-cp37m-manylinux_2_5_x86_64.manylinux1_x86_64.manylinux_2_12_x86_64.manylinux2010_x86_64.whl (596 kB)\n",
            "\u001b[K     |████████████████████████████████| 596 kB 47.9 MB/s \n",
            "\u001b[?25hRequirement already satisfied: numpy>=1.17 in /usr/local/lib/python3.7/dist-packages (from transformers) (1.21.5)\n",
            "Requirement already satisfied: importlib-metadata in /usr/local/lib/python3.7/dist-packages (from transformers) (4.11.2)\n",
            "Requirement already satisfied: tqdm>=4.27 in /usr/local/lib/python3.7/dist-packages (from transformers) (4.63.0)\n",
            "Collecting sacremoses\n",
            "  Downloading sacremoses-0.0.49-py3-none-any.whl (895 kB)\n",
            "\u001b[K     |████████████████████████████████| 895 kB 38.3 MB/s \n",
            "\u001b[?25hRequirement already satisfied: requests in /usr/local/lib/python3.7/dist-packages (from transformers) (2.23.0)\n",
            "Requirement already satisfied: packaging>=20.0 in /usr/local/lib/python3.7/dist-packages (from transformers) (21.3)\n",
            "Requirement already satisfied: typing-extensions>=3.7.4.3 in /usr/local/lib/python3.7/dist-packages (from huggingface-hub<1.0,>=0.1.0->transformers) (3.10.0.2)\n",
            "Requirement already satisfied: pyparsing!=3.0.5,>=2.0.2 in /usr/local/lib/python3.7/dist-packages (from packaging>=20.0->transformers) (3.0.7)\n",
            "Requirement already satisfied: zipp>=0.5 in /usr/local/lib/python3.7/dist-packages (from importlib-metadata->transformers) (3.7.0)\n",
            "Requirement already satisfied: idna<3,>=2.5 in /usr/local/lib/python3.7/dist-packages (from requests->transformers) (2.10)\n",
            "Requirement already satisfied: urllib3!=1.25.0,!=1.25.1,<1.26,>=1.21.1 in /usr/local/lib/python3.7/dist-packages (from requests->transformers) (1.24.3)\n",
            "Requirement already satisfied: chardet<4,>=3.0.2 in /usr/local/lib/python3.7/dist-packages (from requests->transformers) (3.0.4)\n",
            "Requirement already satisfied: certifi>=2017.4.17 in /usr/local/lib/python3.7/dist-packages (from requests->transformers) (2021.10.8)\n",
            "Requirement already satisfied: click in /usr/local/lib/python3.7/dist-packages (from sacremoses->transformers) (7.1.2)\n",
            "Requirement already satisfied: six in /usr/local/lib/python3.7/dist-packages (from sacremoses->transformers) (1.15.0)\n",
            "Requirement already satisfied: joblib in /usr/local/lib/python3.7/dist-packages (from sacremoses->transformers) (1.1.0)\n",
            "Installing collected packages: pyyaml, tokenizers, sacremoses, huggingface-hub, transformers\n",
            "  Attempting uninstall: pyyaml\n",
            "    Found existing installation: PyYAML 3.13\n",
            "    Uninstalling PyYAML-3.13:\n",
            "      Successfully uninstalled PyYAML-3.13\n",
            "Successfully installed huggingface-hub-0.4.0 pyyaml-6.0 sacremoses-0.0.49 tokenizers-0.11.6 transformers-4.17.0\n",
            "Requirement already satisfied: sklearn in /usr/local/lib/python3.7/dist-packages (0.0)\n",
            "Requirement already satisfied: scikit-learn in /usr/local/lib/python3.7/dist-packages (from sklearn) (1.0.2)\n",
            "Requirement already satisfied: scipy>=1.1.0 in /usr/local/lib/python3.7/dist-packages (from scikit-learn->sklearn) (1.4.1)\n",
            "Requirement already satisfied: numpy>=1.14.6 in /usr/local/lib/python3.7/dist-packages (from scikit-learn->sklearn) (1.21.5)\n",
            "Requirement already satisfied: threadpoolctl>=2.0.0 in /usr/local/lib/python3.7/dist-packages (from scikit-learn->sklearn) (3.1.0)\n",
            "Requirement already satisfied: joblib>=0.11 in /usr/local/lib/python3.7/dist-packages (from scikit-learn->sklearn) (1.1.0)\n",
            "Requirement already satisfied: tqdm in /usr/local/lib/python3.7/dist-packages (4.63.0)\n"
          ]
        }
      ],
      "source": [
        "# Install required libraries\n",
        "!pip install numpy\n",
        "!pip install pandas\n",
        "!pip install torch\n",
        "!pip install tqdm\n",
        "!pip install matplotlib\n",
        "!pip install transformers\n",
        "!pip install sklearn\n",
        "!pip install tqdm"
      ],
      "id": "3242992d"
    },
    {
      "cell_type": "code",
      "execution_count": 4,
      "metadata": {
        "id": "9e7b0e64"
      },
      "outputs": [],
      "source": [
        "# We start by importing libraries that we will be making use of in the assignment.\n",
        "import os\n",
        "import numpy as np\n",
        "import pandas as pd\n",
        "import torch\n",
        "import torch.nn as nn\n",
        "from torch.optim import Adam\n",
        "import matplotlib.pyplot as plt\n",
        "import seaborn as sns\n",
        "from sklearn.model_selection import train_test_split\n",
        "import copy\n",
        "import tqdm"
      ],
      "id": "9e7b0e64"
    },
    {
      "cell_type": "markdown",
      "metadata": {
        "id": "3d9b48ab"
      },
      "source": [
        "Similar to last time we will again be working on the Stanford Sentiment Dataset. This time we will also create a validation set by splitting the training data, which we will use for model selection"
      ],
      "id": "3d9b48ab"
    },
    {
      "cell_type": "code",
      "execution_count": 4,
      "metadata": {
        "colab": {
          "base_uri": "https://localhost:8080/"
        },
        "id": "b3f82e9d",
        "outputId": "274fdf95-f473-4a8f-99d0-1a618268840d"
      },
      "outputs": [
        {
          "output_type": "stream",
          "name": "stdout",
          "text": [
            "Number of Training Examples: 66002\n",
            "Number of Validation Examples: 1347\n",
            "Number of Test Examples: 872\n"
          ]
        }
      ],
      "source": [
        "# We can use pandas to load the datasets\n",
        "train_df = pd.read_csv(f\"{sst_data_dir}/train.tsv\", sep = \"\\t\")\n",
        "test_df = pd.read_csv(f\"{sst_data_dir}/dev.tsv\", sep = \"\\t\")\n",
        "\n",
        "# We reserve 2% of the training data for validation\n",
        "train_df, val_df = train_test_split(train_df, test_size=0.02, random_state = 42)\n",
        "\n",
        "print(f\"Number of Training Examples: {len(train_df)}\")\n",
        "print(f\"Number of Validation Examples: {len(val_df)}\")\n",
        "print(f\"Number of Test Examples: {len(test_df)}\")"
      ],
      "id": "b3f82e9d"
    },
    {
      "cell_type": "code",
      "execution_count": 5,
      "metadata": {
        "colab": {
          "base_uri": "https://localhost:8080/",
          "height": 206
        },
        "id": "adf24a61",
        "outputId": "6890e892-acf1-4642-de9c-2a08c1f534b0"
      },
      "outputs": [
        {
          "output_type": "execute_result",
          "data": {
            "text/plain": [
              "                                                sentence  label\n",
              "30842  the earnestness of its execution and skill of ...      1\n",
              "11789  while cherish does n't completely survive its ...      0\n",
              "21981                        this sad , compulsive life       0\n",
              "13804                                if i stay positive       1\n",
              "44994  filmmakers david weissman and bill weber benef...      1"
            ],
            "text/html": [
              "\n",
              "  <div id=\"df-7305371e-51d3-41b4-824d-8bb23a275b15\">\n",
              "    <div class=\"colab-df-container\">\n",
              "      <div>\n",
              "<style scoped>\n",
              "    .dataframe tbody tr th:only-of-type {\n",
              "        vertical-align: middle;\n",
              "    }\n",
              "\n",
              "    .dataframe tbody tr th {\n",
              "        vertical-align: top;\n",
              "    }\n",
              "\n",
              "    .dataframe thead th {\n",
              "        text-align: right;\n",
              "    }\n",
              "</style>\n",
              "<table border=\"1\" class=\"dataframe\">\n",
              "  <thead>\n",
              "    <tr style=\"text-align: right;\">\n",
              "      <th></th>\n",
              "      <th>sentence</th>\n",
              "      <th>label</th>\n",
              "    </tr>\n",
              "  </thead>\n",
              "  <tbody>\n",
              "    <tr>\n",
              "      <th>30842</th>\n",
              "      <td>the earnestness of its execution and skill of ...</td>\n",
              "      <td>1</td>\n",
              "    </tr>\n",
              "    <tr>\n",
              "      <th>11789</th>\n",
              "      <td>while cherish does n't completely survive its ...</td>\n",
              "      <td>0</td>\n",
              "    </tr>\n",
              "    <tr>\n",
              "      <th>21981</th>\n",
              "      <td>this sad , compulsive life</td>\n",
              "      <td>0</td>\n",
              "    </tr>\n",
              "    <tr>\n",
              "      <th>13804</th>\n",
              "      <td>if i stay positive</td>\n",
              "      <td>1</td>\n",
              "    </tr>\n",
              "    <tr>\n",
              "      <th>44994</th>\n",
              "      <td>filmmakers david weissman and bill weber benef...</td>\n",
              "      <td>1</td>\n",
              "    </tr>\n",
              "  </tbody>\n",
              "</table>\n",
              "</div>\n",
              "      <button class=\"colab-df-convert\" onclick=\"convertToInteractive('df-7305371e-51d3-41b4-824d-8bb23a275b15')\"\n",
              "              title=\"Convert this dataframe to an interactive table.\"\n",
              "              style=\"display:none;\">\n",
              "        \n",
              "  <svg xmlns=\"http://www.w3.org/2000/svg\" height=\"24px\"viewBox=\"0 0 24 24\"\n",
              "       width=\"24px\">\n",
              "    <path d=\"M0 0h24v24H0V0z\" fill=\"none\"/>\n",
              "    <path d=\"M18.56 5.44l.94 2.06.94-2.06 2.06-.94-2.06-.94-.94-2.06-.94 2.06-2.06.94zm-11 1L8.5 8.5l.94-2.06 2.06-.94-2.06-.94L8.5 2.5l-.94 2.06-2.06.94zm10 10l.94 2.06.94-2.06 2.06-.94-2.06-.94-.94-2.06-.94 2.06-2.06.94z\"/><path d=\"M17.41 7.96l-1.37-1.37c-.4-.4-.92-.59-1.43-.59-.52 0-1.04.2-1.43.59L10.3 9.45l-7.72 7.72c-.78.78-.78 2.05 0 2.83L4 21.41c.39.39.9.59 1.41.59.51 0 1.02-.2 1.41-.59l7.78-7.78 2.81-2.81c.8-.78.8-2.07 0-2.86zM5.41 20L4 18.59l7.72-7.72 1.47 1.35L5.41 20z\"/>\n",
              "  </svg>\n",
              "      </button>\n",
              "      \n",
              "  <style>\n",
              "    .colab-df-container {\n",
              "      display:flex;\n",
              "      flex-wrap:wrap;\n",
              "      gap: 12px;\n",
              "    }\n",
              "\n",
              "    .colab-df-convert {\n",
              "      background-color: #E8F0FE;\n",
              "      border: none;\n",
              "      border-radius: 50%;\n",
              "      cursor: pointer;\n",
              "      display: none;\n",
              "      fill: #1967D2;\n",
              "      height: 32px;\n",
              "      padding: 0 0 0 0;\n",
              "      width: 32px;\n",
              "    }\n",
              "\n",
              "    .colab-df-convert:hover {\n",
              "      background-color: #E2EBFA;\n",
              "      box-shadow: 0px 1px 2px rgba(60, 64, 67, 0.3), 0px 1px 3px 1px rgba(60, 64, 67, 0.15);\n",
              "      fill: #174EA6;\n",
              "    }\n",
              "\n",
              "    [theme=dark] .colab-df-convert {\n",
              "      background-color: #3B4455;\n",
              "      fill: #D2E3FC;\n",
              "    }\n",
              "\n",
              "    [theme=dark] .colab-df-convert:hover {\n",
              "      background-color: #434B5C;\n",
              "      box-shadow: 0px 1px 3px 1px rgba(0, 0, 0, 0.15);\n",
              "      filter: drop-shadow(0px 1px 2px rgba(0, 0, 0, 0.3));\n",
              "      fill: #FFFFFF;\n",
              "    }\n",
              "  </style>\n",
              "\n",
              "      <script>\n",
              "        const buttonEl =\n",
              "          document.querySelector('#df-7305371e-51d3-41b4-824d-8bb23a275b15 button.colab-df-convert');\n",
              "        buttonEl.style.display =\n",
              "          google.colab.kernel.accessAllowed ? 'block' : 'none';\n",
              "\n",
              "        async function convertToInteractive(key) {\n",
              "          const element = document.querySelector('#df-7305371e-51d3-41b4-824d-8bb23a275b15');\n",
              "          const dataTable =\n",
              "            await google.colab.kernel.invokeFunction('convertToInteractive',\n",
              "                                                     [key], {});\n",
              "          if (!dataTable) return;\n",
              "\n",
              "          const docLinkHtml = 'Like what you see? Visit the ' +\n",
              "            '<a target=\"_blank\" href=https://colab.research.google.com/notebooks/data_table.ipynb>data table notebook</a>'\n",
              "            + ' to learn more about interactive tables.';\n",
              "          element.innerHTML = '';\n",
              "          dataTable['output_type'] = 'display_data';\n",
              "          await google.colab.output.renderOutput(dataTable, element);\n",
              "          const docLink = document.createElement('div');\n",
              "          docLink.innerHTML = docLinkHtml;\n",
              "          element.appendChild(docLink);\n",
              "        }\n",
              "      </script>\n",
              "    </div>\n",
              "  </div>\n",
              "  "
            ]
          },
          "metadata": {},
          "execution_count": 5
        }
      ],
      "source": [
        "# View a sample of the dataset\n",
        "train_df.head()"
      ],
      "id": "adf24a61"
    },
    {
      "cell_type": "markdown",
      "metadata": {
        "id": "99a6b904"
      },
      "source": [
        "## Task 1: Tokenization and Data Preperation"
      ],
      "id": "99a6b904"
    },
    {
      "cell_type": "markdown",
      "metadata": {
        "id": "0af7f506"
      },
      "source": [
        "As discussed in the lectures, BERT and other pretrained language models use sub-word tokenization i.e. individual words can also be split into constituent subwords to reduce the vocabulary size. The Transformer library provides tokenizer for all the popular language models. Below we demonstrate how to create and use these tokenizers."
      ],
      "id": "0af7f506"
    },
    {
      "cell_type": "code",
      "execution_count": 16,
      "metadata": {
        "colab": {
          "base_uri": "https://localhost:8080/",
          "height": 113,
          "referenced_widgets": [
            "1c47d55f605843a2be5a5b6c5265d1f8",
            "777ea8fdb2334dccbdedf0d3f98c141e",
            "7d7328abf50844a5b349008cdf541176",
            "8aeede967fa94eda815214b3f313f878",
            "1c2c1924f1774bc8b53c1a1b6e418f34",
            "a55ff66bbaee4ae8a3e932ccc2530f66",
            "6c947bc1281f4a2ea28efc6427b060eb",
            "7d2e7c7f0abf41d283a8f472d9d07abe",
            "82b1880d694047a38ebc85c4ab2e673c",
            "db5791e6950d4512869d6009b27d35d3",
            "12b3e2d498f44bc08380c5b32af8493a",
            "bb93d9ca4921474d82deadfdb34ecfe7",
            "43741a08b9c5433cb4ebf3d6984deff9",
            "4b579aa020504386920e28b342251b01",
            "b4e4dff91b274ff5bb89a4dfc17be957",
            "37df516a05714e368aac07e343174831",
            "5f9c72bf27cb4ff2828eb45daeb611c2",
            "b7f7b159a83a4d93be2513f32a3a558f",
            "611a86efd2cb44538f0a8b2a34cd4a19",
            "75e29a56219545eab7b4548fbb0912a3",
            "ad43f78d47d845ceaa4ff360f8521053",
            "d4b7b3b34b0c4a8888e41de26982b11b",
            "f756cc1a89e04e9a90115fce4abb097e",
            "900d36cffe2941678845a165b4f89e95",
            "f691fd8c87da40d8a1e09a3590e6f33a",
            "13ff9a64bb144249a278f6be102b7fd9",
            "d1ddc38c19864718aa4f5e65c818ccf4",
            "e228484782854c7c901548056d748dc6",
            "7e7dd75ad24f41d7abee4abca2845ca0",
            "7c5b2e37de654c93bf25af452dc832d3",
            "9b3c8f77763e4daea30bfc9768e19a0e",
            "f36bbf3c5adf4f7cbaa88f8c758a3aa4",
            "89972c632bdd41cea271a836c14e52f6"
          ]
        },
        "id": "4e8aa458",
        "outputId": "4e7f159a-2cdf-41c3-ecac-fce64678f063"
      },
      "outputs": [
        {
          "output_type": "display_data",
          "data": {
            "text/plain": [
              "Downloading:   0%|          | 0.00/226k [00:00<?, ?B/s]"
            ],
            "application/vnd.jupyter.widget-view+json": {
              "version_major": 2,
              "version_minor": 0,
              "model_id": "1c47d55f605843a2be5a5b6c5265d1f8"
            }
          },
          "metadata": {}
        },
        {
          "output_type": "display_data",
          "data": {
            "text/plain": [
              "Downloading:   0%|          | 0.00/28.0 [00:00<?, ?B/s]"
            ],
            "application/vnd.jupyter.widget-view+json": {
              "version_major": 2,
              "version_minor": 0,
              "model_id": "bb93d9ca4921474d82deadfdb34ecfe7"
            }
          },
          "metadata": {}
        },
        {
          "output_type": "display_data",
          "data": {
            "text/plain": [
              "Downloading:   0%|          | 0.00/570 [00:00<?, ?B/s]"
            ],
            "application/vnd.jupyter.widget-view+json": {
              "version_major": 2,
              "version_minor": 0,
              "model_id": "f756cc1a89e04e9a90115fce4abb097e"
            }
          },
          "metadata": {}
        }
      ],
      "source": [
        "# Import the BertTokenizer from the library\n",
        "from transformers import BertTokenizer\n",
        "\n",
        "# Load a pre-trained BERT Tokenizer\n",
        "bert_tokenizer = BertTokenizer.from_pretrained(\"bert-base-uncased\")"
      ],
      "id": "4e8aa458"
    },
    {
      "cell_type": "markdown",
      "metadata": {
        "id": "30724776"
      },
      "source": [
        "`BertTokenizer.from_pretrained` is used to load a pre-trained tokenizer. Notice that we provide the argument `\"bert-base-uncased\"` to the method. This refers to the variant of BERT that we want to use. The term \"base\" means we want to use the smaller BERT variant i.e. the one with 12 layers, and \"uncased\" refers to the fact that it treats upper-case and lower-case characters identically. There are 4 variants available for BERT which are:\n",
        "    - `bert-base-uncased`\n",
        "    - `bert-base-cased`\n",
        "    - `bert-large-uncased`\n",
        "    - `bert-large-cased`\n",
        "Now that we have loaded the tokenizer, let's see how to use it."
      ],
      "id": "30724776"
    },
    {
      "cell_type": "markdown",
      "metadata": {
        "id": "13523cc5"
      },
      "source": [
        "`tokenize` method can be used to split the text into sequence of tokens"
      ],
      "id": "13523cc5"
    },
    {
      "cell_type": "code",
      "execution_count": 7,
      "metadata": {
        "id": "5ccbad09",
        "colab": {
          "base_uri": "https://localhost:8080/"
        },
        "outputId": "128e3f97-e719-4255-d762-e59c067983bc"
      },
      "outputs": [
        {
          "output_type": "execute_result",
          "data": {
            "text/plain": [
              "['a',\n",
              " 'high',\n",
              " '-',\n",
              " 'spirited',\n",
              " 'musical',\n",
              " 'that',\n",
              " 'exquisite',\n",
              " '##ly',\n",
              " 'blend',\n",
              " '##s',\n",
              " 'music',\n",
              " ',',\n",
              " 'and',\n",
              " 'high',\n",
              " 'drama',\n",
              " '.']"
            ]
          },
          "metadata": {},
          "execution_count": 7
        }
      ],
      "source": [
        "bert_tokenizer.tokenize(\"a high-spirited musical that exquisitely blends music , and high drama .\")"
      ],
      "id": "5ccbad09"
    },
    {
      "cell_type": "markdown",
      "metadata": {
        "id": "daced828"
      },
      "source": [
        "Notice how the tokenizer not only splits the text into words but also subwords like \"exquisitely\" is split into \"exquisite\" and \"ly\". "
      ],
      "id": "daced828"
    },
    {
      "cell_type": "markdown",
      "metadata": {
        "id": "d7260263"
      },
      "source": [
        "Another use case of the tokenizer is to convert the tokens into indices. This is important because BERT and almost all language models takes as the inputs a sequence of token ids, which they use to map into embeddings. `convert_tokens_to_ids` method can be used to do this"
      ],
      "id": "d7260263"
    },
    {
      "cell_type": "code",
      "execution_count": 8,
      "metadata": {
        "id": "dbee421b",
        "colab": {
          "base_uri": "https://localhost:8080/"
        },
        "outputId": "1bca95d1-b0f3-4232-f965-cbc4be677b92"
      },
      "outputs": [
        {
          "output_type": "stream",
          "name": "stdout",
          "text": [
            "[1037, 2152, 1011, 24462, 3315, 2008, 19401, 2135, 12586, 2015, 2189, 1010, 1998, 2152, 3689, 1012]\n"
          ]
        }
      ],
      "source": [
        "sentence = \"a high-spirited musical that exquisitely blends music , and high drama .\"\n",
        "tokens = bert_tokenizer.tokenize(sentence)\n",
        "token_ids = bert_tokenizer.convert_tokens_to_ids(tokens)\n",
        "print(token_ids)"
      ],
      "id": "dbee421b"
    },
    {
      "cell_type": "markdown",
      "metadata": {
        "id": "efd54a05"
      },
      "source": [
        "The two steps can also be combined by simply calling the tokenizer object"
      ],
      "id": "efd54a05"
    },
    {
      "cell_type": "code",
      "execution_count": 9,
      "metadata": {
        "id": "bfcbb696",
        "colab": {
          "base_uri": "https://localhost:8080/"
        },
        "outputId": "f06c0e0f-3766-480a-c8ce-425edaa236ab"
      },
      "outputs": [
        {
          "output_type": "execute_result",
          "data": {
            "text/plain": [
              "{'input_ids': [101, 1037, 2152, 1011, 24462, 3315, 2008, 19401, 2135, 12586, 2015, 2189, 1010, 1998, 2152, 3689, 1012, 102], 'token_type_ids': [0, 0, 0, 0, 0, 0, 0, 0, 0, 0, 0, 0, 0, 0, 0, 0, 0, 0], 'attention_mask': [1, 1, 1, 1, 1, 1, 1, 1, 1, 1, 1, 1, 1, 1, 1, 1, 1, 1]}"
            ]
          },
          "metadata": {},
          "execution_count": 9
        }
      ],
      "source": [
        "bert_tokenizer(sentence)"
      ],
      "id": "bfcbb696"
    },
    {
      "cell_type": "markdown",
      "metadata": {
        "id": "2ab48ddf"
      },
      "source": [
        "Notice that it returns a bunch of things in addition to the ids. The `\"input_ids\"` are just the token ids that we obtained in the previous cell. However you will notice that it has a few additional ids, it starts with 101 and ends with 102. These are what we call special tokens and correspond the \\[CLS\\] and \\[SEP\\] tokens used by BERT. \n",
        "\n",
        "`\"token_type_ids\"` contains which sequence does a particular token belongs to. This is mainly used for sentence pair tasks and can be ignored for now.\n",
        "\n",
        "`\"attention_mask`\" is a mask vector that indicates if a particular token corresponds to padding. Padding is extremely important when we are dealing with variable length sequences, which is almost always the case. Through padding we can ensure that all the sequences in a batch are of same size. However, while processing the sequence we need ignore these padding tokens, hence a mask is required to identify such tokens.\n",
        "\n",
        "Padding can be enabled by providing a value for `max_length` argument and setting `padding=\"max_length\"`, as shown below"
      ],
      "id": "2ab48ddf"
    },
    {
      "cell_type": "code",
      "execution_count": 10,
      "metadata": {
        "id": "1d2c0925",
        "colab": {
          "base_uri": "https://localhost:8080/"
        },
        "outputId": "e7675462-eef6-4ff0-a7e3-2948a779b1ad"
      },
      "outputs": [
        {
          "output_type": "stream",
          "name": "stdout",
          "text": [
            "Input Ids:\n",
            " tensor([[  101,  1037,  2152,  1011, 24462,  3315,  2008, 19401,  2135, 12586,\n",
            "          2015,  2189,  1010,  1998,  2152,  3689,  1012,   102,     0,     0,\n",
            "             0,     0,     0,     0,     0,     0,     0,     0,     0,     0,\n",
            "             0,     0]])\n",
            "\n",
            "Attention Mask:\n",
            " tensor([[1, 1, 1, 1, 1, 1, 1, 1, 1, 1, 1, 1, 1, 1, 1, 1, 1, 1, 0, 0, 0, 0, 0, 0,\n",
            "         0, 0, 0, 0, 0, 0, 0, 0]])\n",
            "\n"
          ]
        }
      ],
      "source": [
        "tokenizer_output = bert_tokenizer(sentence, max_length=32, padding=\"max_length\", truncation = True, return_tensors=\"pt\")\n",
        "input_ids = tokenizer_output[\"input_ids\"]\n",
        "attn_mask = tokenizer_output[\"attention_mask\"]\n",
        "print(f\"Input Ids:\\n {input_ids}\\n\")\n",
        "\n",
        "print(f\"Attention Mask:\\n {attn_mask}\\n\")"
      ],
      "id": "1d2c0925"
    },
    {
      "cell_type": "markdown",
      "metadata": {
        "id": "fc12c5d0"
      },
      "source": [
        "Notice how 0s get appended to the input ids sequence, and the same is also reflected in the output of `attn_mask` where `0` indicates that the particular token was padded and `1` means otherwise.  `truncation = True` ensures that if a sequence has a length greater than `max_length` it gets truncated. Setting `return_tensors=\"pt\"` results in the outputs as torch tensors"
      ],
      "id": "fc12c5d0"
    },
    {
      "cell_type": "markdown",
      "metadata": {
        "id": "4627768e"
      },
      "source": [
        "## Task 1.1: Custom Dataset Class (2 Marks)\n",
        "\n",
        "Now that we know how to use the hugging face tokenizers we can define the custom `torch.utils.Dataset` class like we did in the previous assignments to process and store the data as well as provides a way to iterate through the dataset. Implement the `SST2BertDataset` class below. Recall to create a custom class you need to implement 3 methods `__init__`, `__len__` and `__getitem__`."
      ],
      "id": "4627768e"
    },
    {
      "cell_type": "code",
      "execution_count": 9,
      "metadata": {
        "id": "65ffd2ac"
      },
      "outputs": [],
      "source": [
        "from torch.utils.data import Dataset, DataLoader\n",
        "\n",
        "class SST2BertDataset(Dataset):\n",
        "    \n",
        "    def __init__(self, sentences, labels, seq_len, bert_variant = \"bert-base-uncased\"):\n",
        "        \"\"\"\n",
        "        Constructor for the `SST2BertDataset` class. Stores the `sentences` and `labels` which can then be used by\n",
        "        other methods. Also initializes the tokenizer\n",
        "        \n",
        "        Inputs:\n",
        "            - sentences (list) : A list of movie reviews\n",
        "            - labels (list): A list of sentiment labels corresponding to each review\n",
        "            - seq_len (int): Length of the sequence to use.\n",
        "                             If number of tokens are lower than `seq_len` add padding otherwise truncate\n",
        "        \"\"\"\n",
        "    \n",
        "        self.tokenizer = BertTokenizer.from_pretrained(bert_variant)\n",
        "        self.seq_len = seq_len\n",
        "        self.sentences = sentences\n",
        "        self.labels = labels\n",
        "        self.tokenized_tensors = [self.tokenizer(sentence,max_length = self.seq_len, padding = 'max_length', truncation = True, return_tensors = 'pt') for sentence in sentences]\n",
        " \n",
        "\n",
        "        \n",
        "    def __len__(self):\n",
        "        \"\"\"\n",
        "        Returns the length of the dataset i.e. the number of reviews present in the dataset\n",
        "        \"\"\"\n",
        "        length = len(list(self.labels))\n",
        "\n",
        "        return length\n",
        "    \n",
        "    def __getitem__(self, idx):\n",
        "        \"\"\"\n",
        "        Returns the training example corresponding to review present at the `idx` position in the dataset\n",
        "        \n",
        "        Inputs:\n",
        "            - idx (int): Index corresponding to the review,label to be returned\n",
        "            \n",
        "        Returns:\n",
        "            - input_ids (torch.tensor): Indices of the tokens in the sentence at `idx` position.\n",
        "                                        Shape of the tensor should be (`seq_len`,)\n",
        "            - mask (torch.tensor): Attention mask indicating which tokens are padded.\n",
        "                                   Shape of the tensor should be (`seq_len`,)\n",
        "            - label (int): Sentiment label for the corresponding sentence\n",
        "        \n",
        "        Hint: To get the output from the tokenizer in the form of torch tensors set return_tensors=\"pt\" when calling self.tokenizer \n",
        "        \"\"\"\n",
        "        \n",
        "        input_ids = self.tokenized_tensors[idx]['input_ids']\n",
        "        mask = self.tokenized_tensors[idx]['attention_mask']\n",
        "        label = self.labels[idx]\n",
        "        \n",
        "        return input_ids.squeeze(0), mask.squeeze(0), label"
      ],
      "id": "65ffd2ac"
    },
    {
      "cell_type": "code",
      "execution_count": 12,
      "metadata": {
        "id": "7b8c8dea",
        "colab": {
          "base_uri": "https://localhost:8080/"
        },
        "outputId": "328cf4cf-933f-4360-90f8-4ee93595fb15"
      },
      "outputs": [
        {
          "output_type": "stream",
          "name": "stdout",
          "text": [
            "Running Sample Test Cases\n",
            "Sample Test Case 1: Checking if `__len__` is implemented correctly\n",
            "Dataset Length: 3\n",
            "Expected Length: 3\n",
            "Sample Test Case Passed!\n",
            "****************************************\n",
            "\n",
            "Sample Test Case 2: Checking if `__getitem__` is implemented correctly for `idx= 0`\n",
            "input_ids:\n",
            " tensor([  101,  4895, 10258,  2378,  8450,  2135, 21657,  1998,  7143,   102,\n",
            "            0,     0])\n",
            "Expected input_ids:\n",
            " tensor([  101,  4895, 10258,  2378,  8450,  2135, 21657,  1998,  7143,   102,\n",
            "            0,     0])\n",
            "mask:\n",
            " tensor([1, 1, 1, 1, 1, 1, 1, 1, 1, 1, 0, 0])\n",
            "Expected mask:\n",
            " tensor([1, 1, 1, 1, 1, 1, 1, 1, 1, 1, 0, 0])\n",
            "label:\n",
            " 0\n",
            "Expected label:\n",
            " 0\n",
            "Sample Test Case Passed!\n",
            "****************************************\n",
            "\n",
            "Sample Test Case 3: Checking if `__getitem__` is implemented correctly for `idx= 1`\n",
            "input_ids:\n",
            " tensor([ 101, 2009, 1005, 1055, 4030, 1011, 1011, 2200, 1010, 2200, 4030,  102])\n",
            "Expected input_ids:\n",
            " tensor([ 101, 2009, 1005, 1055, 4030, 1011, 1011, 2200, 1010, 2200, 4030,  102])\n",
            "mask:\n",
            " tensor([1, 1, 1, 1, 1, 1, 1, 1, 1, 1, 1, 1])\n",
            "Expected mask:\n",
            " tensor([1, 1, 1, 1, 1, 1, 1, 1, 1, 1, 1, 1])\n",
            "label:\n",
            " 0\n",
            "Expected label:\n",
            " 0\n",
            "Sample Test Case Passed!\n",
            "****************************************\n",
            "\n",
            "Sample Test Case 4: Checking if `__getitem__` is implemented correctly for `idx= 2`\n",
            "input_ids:\n",
            " tensor([  101,  2009,  1005,  1055,  1037, 11951,  1998,  2411, 12473,  4990,\n",
            "         1012,   102])\n",
            "Expected input_ids:\n",
            " tensor([  101,  2009,  1005,  1055,  1037, 11951,  1998,  2411, 12473,  4990,\n",
            "         1012,   102])\n",
            "mask:\n",
            " tensor([1, 1, 1, 1, 1, 1, 1, 1, 1, 1, 1, 1])\n",
            "Expected mask:\n",
            " tensor([1, 1, 1, 1, 1, 1, 1, 1, 1, 1, 1, 1])\n",
            "label:\n",
            " 1\n",
            "Expected label:\n",
            " 1\n",
            "Sample Test Case Passed!\n",
            "****************************************\n",
            "\n"
          ]
        }
      ],
      "source": [
        "print(\"Running Sample Test Cases\")\n",
        "\n",
        "sample_sentences = [\"unflinchingly bleak and desperate\",\n",
        "                    \"it 's slow -- very , very slow .\",\n",
        "                    \"it 's a charming and often affecting journey .\"]\n",
        "sample_labels = [0, 0, 1]\n",
        "sample_seq_len = 12\n",
        "sample_dataset = SST2BertDataset(sample_sentences, sample_labels, sample_seq_len)\n",
        "\n",
        "print(f\"Sample Test Case 1: Checking if `__len__` is implemented correctly\")\n",
        "dataset_len= len(sample_dataset)\n",
        "expected_len = len(sample_labels)\n",
        "print(f\"Dataset Length: {dataset_len}\")\n",
        "print(f\"Expected Length: {expected_len}\")\n",
        "assert len(sample_dataset) == len(sample_sentences)\n",
        "print(\"Sample Test Case Passed!\")\n",
        "print(\"****************************************\\n\")\n",
        "\n",
        "print(f\"Sample Test Case 2: Checking if `__getitem__` is implemented correctly for `idx= 0`\")\n",
        "sample_idx = 0\n",
        "input_ids, mask, label = sample_dataset.__getitem__(sample_idx)\n",
        "expected_input_ids = torch.tensor([101, 4895, 10258, 2378, 8450, 2135, 21657, 1998, 7143, 102, 0, 0])\n",
        "expected_mask = torch.tensor([1, 1, 1, 1, 1, 1, 1, 1, 1, 1, 0, 0])\n",
        "expected_label = 0\n",
        "print(f\"input_ids:\\n {input_ids}\")\n",
        "print(f\"Expected input_ids:\\n {expected_input_ids}\")\n",
        "assert (expected_input_ids == input_ids).all()\n",
        "\n",
        "print(f\"mask:\\n {mask}\")\n",
        "print(f\"Expected mask:\\n {expected_mask}\")\n",
        "assert (expected_mask == mask).all()\n",
        "\n",
        "print(f\"label:\\n {label}\")\n",
        "print(f\"Expected label:\\n {expected_label}\")\n",
        "assert expected_label == label\n",
        "\n",
        "print(\"Sample Test Case Passed!\")\n",
        "print(\"****************************************\\n\")\n",
        "\n",
        "print(f\"Sample Test Case 3: Checking if `__getitem__` is implemented correctly for `idx= 1`\")\n",
        "sample_idx = 1\n",
        "input_ids, mask, label = sample_dataset.__getitem__(sample_idx)\n",
        "expected_input_ids = torch.tensor([101, 2009, 1005, 1055, 4030, 1011, 1011, 2200, 1010, 2200, 4030, 102])\n",
        "expected_mask = torch.tensor([1, 1, 1, 1, 1, 1, 1, 1, 1, 1, 1, 1])\n",
        "expected_label = 0\n",
        "print(f\"input_ids:\\n {input_ids}\")\n",
        "print(f\"Expected input_ids:\\n {expected_input_ids}\")\n",
        "assert (expected_input_ids == input_ids).all()\n",
        "\n",
        "print(f\"mask:\\n {mask}\")\n",
        "print(f\"Expected mask:\\n {expected_mask}\")\n",
        "assert (expected_mask == mask).all()\n",
        "\n",
        "print(f\"label:\\n {label}\")\n",
        "print(f\"Expected label:\\n {expected_label}\")\n",
        "assert expected_label == label\n",
        "\n",
        "print(\"Sample Test Case Passed!\")\n",
        "print(\"****************************************\\n\")\n",
        "\n",
        "print(f\"Sample Test Case 4: Checking if `__getitem__` is implemented correctly for `idx= 2`\")\n",
        "sample_idx = 2\n",
        "input_ids, mask, label = sample_dataset.__getitem__(sample_idx)\n",
        "expected_input_ids = torch.tensor([101, 2009, 1005, 1055, 1037, 11951, 1998, 2411, 12473, 4990, 1012, 102])\n",
        "expected_mask = torch.tensor([1, 1, 1, 1, 1, 1, 1, 1, 1, 1, 1, 1])\n",
        "expected_label = 1\n",
        "print(f\"input_ids:\\n {input_ids}\")\n",
        "print(f\"Expected input_ids:\\n {expected_input_ids}\")\n",
        "assert (expected_input_ids == input_ids).all()\n",
        "\n",
        "print(f\"mask:\\n {mask}\")\n",
        "print(f\"Expected mask:\\n {expected_mask}\")\n",
        "assert (expected_mask == mask).all()\n",
        "\n",
        "print(f\"label:\\n {label}\")\n",
        "print(f\"Expected label:\\n {expected_label}\")\n",
        "assert expected_label == label\n",
        "\n",
        "print(\"Sample Test Case Passed!\")\n",
        "print(\"****************************************\\n\")\n",
        "\n"
      ],
      "id": "7b8c8dea"
    },
    {
      "cell_type": "markdown",
      "metadata": {
        "id": "8ec2e35e"
      },
      "source": [
        "Creating Datasets and Dataloaders for train, validation and test data. Since pretrained models like BERT have millions of parameters, it is common to use a smaller batch size to reduce the memory footprint."
      ],
      "id": "8ec2e35e"
    },
    {
      "cell_type": "code",
      "execution_count": 13,
      "metadata": {
        "id": "d3994ab0"
      },
      "outputs": [],
      "source": [
        "seq_len = 128\n",
        "batch_size = 16\n",
        "\n",
        "train_sentences, train_labels = train_df[\"sentence\"].values, train_df[\"label\"].values\n",
        "val_sentences, val_labels = val_df[\"sentence\"].values, val_df[\"label\"].values\n",
        "test_sentences, test_labels = test_df[\"sentence\"].values, test_df[\"label\"].values\n",
        "\n",
        "train_dataset = SST2BertDataset(train_sentences, train_labels, seq_len=seq_len)\n",
        "val_dataset = SST2BertDataset(val_sentences, val_labels, seq_len=seq_len)\n",
        "test_dataset = SST2BertDataset(test_sentences, test_labels, seq_len=seq_len)\n",
        "\n",
        "train_loader = DataLoader(train_dataset, batch_size=batch_size)\n",
        "val_loader = DataLoader(val_dataset, batch_size=batch_size)\n",
        "test_loader = DataLoader(test_dataset, batch_size=batch_size)"
      ],
      "id": "d3994ab0"
    },
    {
      "cell_type": "markdown",
      "metadata": {
        "id": "849edfc0"
      },
      "source": [
        "## Task 2: Implementing and Training BERT-based Classifier\n",
        "\n",
        "Similar to pretrained tokenizers, the transformers library also provide numerous pre-trained language models that can be fine-tuned on a wide variety of downstream tasks. We demonstrate usage of these models below."
      ],
      "id": "849edfc0"
    },
    {
      "cell_type": "code",
      "execution_count": 19,
      "metadata": {
        "id": "c9322600",
        "colab": {
          "base_uri": "https://localhost:8080/",
          "height": 1000,
          "referenced_widgets": [
            "78e53a44a6f9460693f8e91746ca662f",
            "13786fddf21e4d2393bb9d9b09c5248d",
            "cc6d0cf66662477d8051fd8228916253",
            "c70e57e4451f473eade911be1e4aaa74",
            "a6be83e71c3b4911bb6781f3b9f5da4b",
            "ff0a57804c4e4f9a90e66cbb9728f7cf",
            "f7be016a66b3469f83e83af5e6384663",
            "08bf5c61a4cd4deabfe5c1485c00ffe9",
            "225814a4a5e940cda1e1ccbbf502fccf",
            "a0c16352e5414f4f9178e791827f226d",
            "e56a0c5573664ef8bf9c9f50208b610a"
          ]
        },
        "outputId": "bcb98da5-1ec4-4684-e7aa-18336bacc47b"
      },
      "outputs": [
        {
          "output_type": "display_data",
          "data": {
            "text/plain": [
              "Downloading:   0%|          | 0.00/420M [00:00<?, ?B/s]"
            ],
            "application/vnd.jupyter.widget-view+json": {
              "version_major": 2,
              "version_minor": 0,
              "model_id": "78e53a44a6f9460693f8e91746ca662f"
            }
          },
          "metadata": {}
        },
        {
          "output_type": "stream",
          "name": "stderr",
          "text": [
            "Some weights of the model checkpoint at bert-base-uncased were not used when initializing BertModel: ['cls.predictions.transform.dense.bias', 'cls.predictions.transform.LayerNorm.bias', 'cls.seq_relationship.bias', 'cls.seq_relationship.weight', 'cls.predictions.bias', 'cls.predictions.transform.LayerNorm.weight', 'cls.predictions.transform.dense.weight', 'cls.predictions.decoder.weight']\n",
            "- This IS expected if you are initializing BertModel from the checkpoint of a model trained on another task or with another architecture (e.g. initializing a BertForSequenceClassification model from a BertForPreTraining model).\n",
            "- This IS NOT expected if you are initializing BertModel from the checkpoint of a model that you expect to be exactly identical (initializing a BertForSequenceClassification model from a BertForSequenceClassification model).\n"
          ]
        },
        {
          "output_type": "execute_result",
          "data": {
            "text/plain": [
              "BertModel(\n",
              "  (embeddings): BertEmbeddings(\n",
              "    (word_embeddings): Embedding(30522, 768, padding_idx=0)\n",
              "    (position_embeddings): Embedding(512, 768)\n",
              "    (token_type_embeddings): Embedding(2, 768)\n",
              "    (LayerNorm): LayerNorm((768,), eps=1e-12, elementwise_affine=True)\n",
              "    (dropout): Dropout(p=0.1, inplace=False)\n",
              "  )\n",
              "  (encoder): BertEncoder(\n",
              "    (layer): ModuleList(\n",
              "      (0): BertLayer(\n",
              "        (attention): BertAttention(\n",
              "          (self): BertSelfAttention(\n",
              "            (query): Linear(in_features=768, out_features=768, bias=True)\n",
              "            (key): Linear(in_features=768, out_features=768, bias=True)\n",
              "            (value): Linear(in_features=768, out_features=768, bias=True)\n",
              "            (dropout): Dropout(p=0.1, inplace=False)\n",
              "          )\n",
              "          (output): BertSelfOutput(\n",
              "            (dense): Linear(in_features=768, out_features=768, bias=True)\n",
              "            (LayerNorm): LayerNorm((768,), eps=1e-12, elementwise_affine=True)\n",
              "            (dropout): Dropout(p=0.1, inplace=False)\n",
              "          )\n",
              "        )\n",
              "        (intermediate): BertIntermediate(\n",
              "          (dense): Linear(in_features=768, out_features=3072, bias=True)\n",
              "          (intermediate_act_fn): GELUActivation()\n",
              "        )\n",
              "        (output): BertOutput(\n",
              "          (dense): Linear(in_features=3072, out_features=768, bias=True)\n",
              "          (LayerNorm): LayerNorm((768,), eps=1e-12, elementwise_affine=True)\n",
              "          (dropout): Dropout(p=0.1, inplace=False)\n",
              "        )\n",
              "      )\n",
              "      (1): BertLayer(\n",
              "        (attention): BertAttention(\n",
              "          (self): BertSelfAttention(\n",
              "            (query): Linear(in_features=768, out_features=768, bias=True)\n",
              "            (key): Linear(in_features=768, out_features=768, bias=True)\n",
              "            (value): Linear(in_features=768, out_features=768, bias=True)\n",
              "            (dropout): Dropout(p=0.1, inplace=False)\n",
              "          )\n",
              "          (output): BertSelfOutput(\n",
              "            (dense): Linear(in_features=768, out_features=768, bias=True)\n",
              "            (LayerNorm): LayerNorm((768,), eps=1e-12, elementwise_affine=True)\n",
              "            (dropout): Dropout(p=0.1, inplace=False)\n",
              "          )\n",
              "        )\n",
              "        (intermediate): BertIntermediate(\n",
              "          (dense): Linear(in_features=768, out_features=3072, bias=True)\n",
              "          (intermediate_act_fn): GELUActivation()\n",
              "        )\n",
              "        (output): BertOutput(\n",
              "          (dense): Linear(in_features=3072, out_features=768, bias=True)\n",
              "          (LayerNorm): LayerNorm((768,), eps=1e-12, elementwise_affine=True)\n",
              "          (dropout): Dropout(p=0.1, inplace=False)\n",
              "        )\n",
              "      )\n",
              "      (2): BertLayer(\n",
              "        (attention): BertAttention(\n",
              "          (self): BertSelfAttention(\n",
              "            (query): Linear(in_features=768, out_features=768, bias=True)\n",
              "            (key): Linear(in_features=768, out_features=768, bias=True)\n",
              "            (value): Linear(in_features=768, out_features=768, bias=True)\n",
              "            (dropout): Dropout(p=0.1, inplace=False)\n",
              "          )\n",
              "          (output): BertSelfOutput(\n",
              "            (dense): Linear(in_features=768, out_features=768, bias=True)\n",
              "            (LayerNorm): LayerNorm((768,), eps=1e-12, elementwise_affine=True)\n",
              "            (dropout): Dropout(p=0.1, inplace=False)\n",
              "          )\n",
              "        )\n",
              "        (intermediate): BertIntermediate(\n",
              "          (dense): Linear(in_features=768, out_features=3072, bias=True)\n",
              "          (intermediate_act_fn): GELUActivation()\n",
              "        )\n",
              "        (output): BertOutput(\n",
              "          (dense): Linear(in_features=3072, out_features=768, bias=True)\n",
              "          (LayerNorm): LayerNorm((768,), eps=1e-12, elementwise_affine=True)\n",
              "          (dropout): Dropout(p=0.1, inplace=False)\n",
              "        )\n",
              "      )\n",
              "      (3): BertLayer(\n",
              "        (attention): BertAttention(\n",
              "          (self): BertSelfAttention(\n",
              "            (query): Linear(in_features=768, out_features=768, bias=True)\n",
              "            (key): Linear(in_features=768, out_features=768, bias=True)\n",
              "            (value): Linear(in_features=768, out_features=768, bias=True)\n",
              "            (dropout): Dropout(p=0.1, inplace=False)\n",
              "          )\n",
              "          (output): BertSelfOutput(\n",
              "            (dense): Linear(in_features=768, out_features=768, bias=True)\n",
              "            (LayerNorm): LayerNorm((768,), eps=1e-12, elementwise_affine=True)\n",
              "            (dropout): Dropout(p=0.1, inplace=False)\n",
              "          )\n",
              "        )\n",
              "        (intermediate): BertIntermediate(\n",
              "          (dense): Linear(in_features=768, out_features=3072, bias=True)\n",
              "          (intermediate_act_fn): GELUActivation()\n",
              "        )\n",
              "        (output): BertOutput(\n",
              "          (dense): Linear(in_features=3072, out_features=768, bias=True)\n",
              "          (LayerNorm): LayerNorm((768,), eps=1e-12, elementwise_affine=True)\n",
              "          (dropout): Dropout(p=0.1, inplace=False)\n",
              "        )\n",
              "      )\n",
              "      (4): BertLayer(\n",
              "        (attention): BertAttention(\n",
              "          (self): BertSelfAttention(\n",
              "            (query): Linear(in_features=768, out_features=768, bias=True)\n",
              "            (key): Linear(in_features=768, out_features=768, bias=True)\n",
              "            (value): Linear(in_features=768, out_features=768, bias=True)\n",
              "            (dropout): Dropout(p=0.1, inplace=False)\n",
              "          )\n",
              "          (output): BertSelfOutput(\n",
              "            (dense): Linear(in_features=768, out_features=768, bias=True)\n",
              "            (LayerNorm): LayerNorm((768,), eps=1e-12, elementwise_affine=True)\n",
              "            (dropout): Dropout(p=0.1, inplace=False)\n",
              "          )\n",
              "        )\n",
              "        (intermediate): BertIntermediate(\n",
              "          (dense): Linear(in_features=768, out_features=3072, bias=True)\n",
              "          (intermediate_act_fn): GELUActivation()\n",
              "        )\n",
              "        (output): BertOutput(\n",
              "          (dense): Linear(in_features=3072, out_features=768, bias=True)\n",
              "          (LayerNorm): LayerNorm((768,), eps=1e-12, elementwise_affine=True)\n",
              "          (dropout): Dropout(p=0.1, inplace=False)\n",
              "        )\n",
              "      )\n",
              "      (5): BertLayer(\n",
              "        (attention): BertAttention(\n",
              "          (self): BertSelfAttention(\n",
              "            (query): Linear(in_features=768, out_features=768, bias=True)\n",
              "            (key): Linear(in_features=768, out_features=768, bias=True)\n",
              "            (value): Linear(in_features=768, out_features=768, bias=True)\n",
              "            (dropout): Dropout(p=0.1, inplace=False)\n",
              "          )\n",
              "          (output): BertSelfOutput(\n",
              "            (dense): Linear(in_features=768, out_features=768, bias=True)\n",
              "            (LayerNorm): LayerNorm((768,), eps=1e-12, elementwise_affine=True)\n",
              "            (dropout): Dropout(p=0.1, inplace=False)\n",
              "          )\n",
              "        )\n",
              "        (intermediate): BertIntermediate(\n",
              "          (dense): Linear(in_features=768, out_features=3072, bias=True)\n",
              "          (intermediate_act_fn): GELUActivation()\n",
              "        )\n",
              "        (output): BertOutput(\n",
              "          (dense): Linear(in_features=3072, out_features=768, bias=True)\n",
              "          (LayerNorm): LayerNorm((768,), eps=1e-12, elementwise_affine=True)\n",
              "          (dropout): Dropout(p=0.1, inplace=False)\n",
              "        )\n",
              "      )\n",
              "      (6): BertLayer(\n",
              "        (attention): BertAttention(\n",
              "          (self): BertSelfAttention(\n",
              "            (query): Linear(in_features=768, out_features=768, bias=True)\n",
              "            (key): Linear(in_features=768, out_features=768, bias=True)\n",
              "            (value): Linear(in_features=768, out_features=768, bias=True)\n",
              "            (dropout): Dropout(p=0.1, inplace=False)\n",
              "          )\n",
              "          (output): BertSelfOutput(\n",
              "            (dense): Linear(in_features=768, out_features=768, bias=True)\n",
              "            (LayerNorm): LayerNorm((768,), eps=1e-12, elementwise_affine=True)\n",
              "            (dropout): Dropout(p=0.1, inplace=False)\n",
              "          )\n",
              "        )\n",
              "        (intermediate): BertIntermediate(\n",
              "          (dense): Linear(in_features=768, out_features=3072, bias=True)\n",
              "          (intermediate_act_fn): GELUActivation()\n",
              "        )\n",
              "        (output): BertOutput(\n",
              "          (dense): Linear(in_features=3072, out_features=768, bias=True)\n",
              "          (LayerNorm): LayerNorm((768,), eps=1e-12, elementwise_affine=True)\n",
              "          (dropout): Dropout(p=0.1, inplace=False)\n",
              "        )\n",
              "      )\n",
              "      (7): BertLayer(\n",
              "        (attention): BertAttention(\n",
              "          (self): BertSelfAttention(\n",
              "            (query): Linear(in_features=768, out_features=768, bias=True)\n",
              "            (key): Linear(in_features=768, out_features=768, bias=True)\n",
              "            (value): Linear(in_features=768, out_features=768, bias=True)\n",
              "            (dropout): Dropout(p=0.1, inplace=False)\n",
              "          )\n",
              "          (output): BertSelfOutput(\n",
              "            (dense): Linear(in_features=768, out_features=768, bias=True)\n",
              "            (LayerNorm): LayerNorm((768,), eps=1e-12, elementwise_affine=True)\n",
              "            (dropout): Dropout(p=0.1, inplace=False)\n",
              "          )\n",
              "        )\n",
              "        (intermediate): BertIntermediate(\n",
              "          (dense): Linear(in_features=768, out_features=3072, bias=True)\n",
              "          (intermediate_act_fn): GELUActivation()\n",
              "        )\n",
              "        (output): BertOutput(\n",
              "          (dense): Linear(in_features=3072, out_features=768, bias=True)\n",
              "          (LayerNorm): LayerNorm((768,), eps=1e-12, elementwise_affine=True)\n",
              "          (dropout): Dropout(p=0.1, inplace=False)\n",
              "        )\n",
              "      )\n",
              "      (8): BertLayer(\n",
              "        (attention): BertAttention(\n",
              "          (self): BertSelfAttention(\n",
              "            (query): Linear(in_features=768, out_features=768, bias=True)\n",
              "            (key): Linear(in_features=768, out_features=768, bias=True)\n",
              "            (value): Linear(in_features=768, out_features=768, bias=True)\n",
              "            (dropout): Dropout(p=0.1, inplace=False)\n",
              "          )\n",
              "          (output): BertSelfOutput(\n",
              "            (dense): Linear(in_features=768, out_features=768, bias=True)\n",
              "            (LayerNorm): LayerNorm((768,), eps=1e-12, elementwise_affine=True)\n",
              "            (dropout): Dropout(p=0.1, inplace=False)\n",
              "          )\n",
              "        )\n",
              "        (intermediate): BertIntermediate(\n",
              "          (dense): Linear(in_features=768, out_features=3072, bias=True)\n",
              "          (intermediate_act_fn): GELUActivation()\n",
              "        )\n",
              "        (output): BertOutput(\n",
              "          (dense): Linear(in_features=3072, out_features=768, bias=True)\n",
              "          (LayerNorm): LayerNorm((768,), eps=1e-12, elementwise_affine=True)\n",
              "          (dropout): Dropout(p=0.1, inplace=False)\n",
              "        )\n",
              "      )\n",
              "      (9): BertLayer(\n",
              "        (attention): BertAttention(\n",
              "          (self): BertSelfAttention(\n",
              "            (query): Linear(in_features=768, out_features=768, bias=True)\n",
              "            (key): Linear(in_features=768, out_features=768, bias=True)\n",
              "            (value): Linear(in_features=768, out_features=768, bias=True)\n",
              "            (dropout): Dropout(p=0.1, inplace=False)\n",
              "          )\n",
              "          (output): BertSelfOutput(\n",
              "            (dense): Linear(in_features=768, out_features=768, bias=True)\n",
              "            (LayerNorm): LayerNorm((768,), eps=1e-12, elementwise_affine=True)\n",
              "            (dropout): Dropout(p=0.1, inplace=False)\n",
              "          )\n",
              "        )\n",
              "        (intermediate): BertIntermediate(\n",
              "          (dense): Linear(in_features=768, out_features=3072, bias=True)\n",
              "          (intermediate_act_fn): GELUActivation()\n",
              "        )\n",
              "        (output): BertOutput(\n",
              "          (dense): Linear(in_features=3072, out_features=768, bias=True)\n",
              "          (LayerNorm): LayerNorm((768,), eps=1e-12, elementwise_affine=True)\n",
              "          (dropout): Dropout(p=0.1, inplace=False)\n",
              "        )\n",
              "      )\n",
              "      (10): BertLayer(\n",
              "        (attention): BertAttention(\n",
              "          (self): BertSelfAttention(\n",
              "            (query): Linear(in_features=768, out_features=768, bias=True)\n",
              "            (key): Linear(in_features=768, out_features=768, bias=True)\n",
              "            (value): Linear(in_features=768, out_features=768, bias=True)\n",
              "            (dropout): Dropout(p=0.1, inplace=False)\n",
              "          )\n",
              "          (output): BertSelfOutput(\n",
              "            (dense): Linear(in_features=768, out_features=768, bias=True)\n",
              "            (LayerNorm): LayerNorm((768,), eps=1e-12, elementwise_affine=True)\n",
              "            (dropout): Dropout(p=0.1, inplace=False)\n",
              "          )\n",
              "        )\n",
              "        (intermediate): BertIntermediate(\n",
              "          (dense): Linear(in_features=768, out_features=3072, bias=True)\n",
              "          (intermediate_act_fn): GELUActivation()\n",
              "        )\n",
              "        (output): BertOutput(\n",
              "          (dense): Linear(in_features=3072, out_features=768, bias=True)\n",
              "          (LayerNorm): LayerNorm((768,), eps=1e-12, elementwise_affine=True)\n",
              "          (dropout): Dropout(p=0.1, inplace=False)\n",
              "        )\n",
              "      )\n",
              "      (11): BertLayer(\n",
              "        (attention): BertAttention(\n",
              "          (self): BertSelfAttention(\n",
              "            (query): Linear(in_features=768, out_features=768, bias=True)\n",
              "            (key): Linear(in_features=768, out_features=768, bias=True)\n",
              "            (value): Linear(in_features=768, out_features=768, bias=True)\n",
              "            (dropout): Dropout(p=0.1, inplace=False)\n",
              "          )\n",
              "          (output): BertSelfOutput(\n",
              "            (dense): Linear(in_features=768, out_features=768, bias=True)\n",
              "            (LayerNorm): LayerNorm((768,), eps=1e-12, elementwise_affine=True)\n",
              "            (dropout): Dropout(p=0.1, inplace=False)\n",
              "          )\n",
              "        )\n",
              "        (intermediate): BertIntermediate(\n",
              "          (dense): Linear(in_features=768, out_features=3072, bias=True)\n",
              "          (intermediate_act_fn): GELUActivation()\n",
              "        )\n",
              "        (output): BertOutput(\n",
              "          (dense): Linear(in_features=3072, out_features=768, bias=True)\n",
              "          (LayerNorm): LayerNorm((768,), eps=1e-12, elementwise_affine=True)\n",
              "          (dropout): Dropout(p=0.1, inplace=False)\n",
              "        )\n",
              "      )\n",
              "    )\n",
              "  )\n",
              "  (pooler): BertPooler(\n",
              "    (dense): Linear(in_features=768, out_features=768, bias=True)\n",
              "    (activation): Tanh()\n",
              "  )\n",
              ")"
            ]
          },
          "metadata": {},
          "execution_count": 19
        }
      ],
      "source": [
        "# Import BertModel from the library\n",
        "from transformers import BertModel\n",
        "\n",
        "# Create an instance of pretrained BERT\n",
        "bert_model = BertModel.from_pretrained(\"bert-base-uncased\")\n",
        "bert_model"
      ],
      "id": "c9322600"
    },
    {
      "cell_type": "markdown",
      "metadata": {
        "id": "4a7f074b"
      },
      "source": [
        "As you can see very similar to how we created pre-trained tokenizer, we can load a pretrained BERT model by calling `BertModel.from_pretrained(bert-base-uncased)`. This can actually be considered just a Pytorch `nn.Module` like `nn.Linear` and can be similarly plugged into a network architecture. Also, notice the model contains 12 BERT layers, where each layer consists of a Self Attention layer followed by a sequence of linear layers and activation functions (MLP), as we discussed when talking about Transformer architecture in the lecture."
      ],
      "id": "4a7f074b"
    },
    {
      "cell_type": "code",
      "execution_count": 15,
      "metadata": {
        "id": "c994b139",
        "colab": {
          "base_uri": "https://localhost:8080/"
        },
        "outputId": "98008a9c-9193-40e3-f22b-722683591994"
      },
      "outputs": [
        {
          "output_type": "execute_result",
          "data": {
            "text/plain": [
              "BaseModelOutputWithPoolingAndCrossAttentions([('last_hidden_state',\n",
              "                                               tensor([[[-0.5230, -0.4870, -0.0666,  ..., -0.2906,  0.5917,  0.5204],\n",
              "                                                        [-0.5298,  0.0526, -0.0479,  ..., -0.5181,  0.6624,  0.5428],\n",
              "                                                        [-0.5554, -0.4201,  0.1434,  ..., -0.0929,  0.5689, -0.3167],\n",
              "                                                        ...,\n",
              "                                                        [-0.0330, -0.1500,  0.3019,  ..., -0.3996,  0.4959, -0.2757],\n",
              "                                                        [-0.5161, -1.0316,  0.1923,  ...,  0.6252,  0.9381, -0.6699],\n",
              "                                                        [ 0.5373,  0.1544, -0.3276,  ...,  0.3932, -0.5570, -0.0681]]],\n",
              "                                                      grad_fn=<NativeLayerNormBackward0>)),\n",
              "                                              ('pooler_output',\n",
              "                                               tensor([[-0.8568, -0.4141, -0.8929,  0.7813,  0.8027, -0.1104,  0.6963,  0.2096,\n",
              "                                                        -0.8783, -0.9999, -0.6418,  0.9142,  0.9549,  0.6295,  0.8591, -0.6460,\n",
              "                                                        -0.1965, -0.5998,  0.4184,  0.0121,  0.6826,  1.0000, -0.2301,  0.3611,\n",
              "                                                         0.5309,  0.9867, -0.7113,  0.9002,  0.8939,  0.6853, -0.4849,  0.2664,\n",
              "                                                        -0.9832, -0.2094, -0.9262, -0.9831,  0.4662, -0.6247,  0.1652,  0.0865,\n",
              "                                                        -0.8568,  0.2408,  1.0000,  0.0177,  0.3996, -0.2056, -1.0000,  0.3335,\n",
              "                                                        -0.8345,  0.9518,  0.8778,  0.9143,  0.1788,  0.5341,  0.4436, -0.2030,\n",
              "                                                        -0.0562,  0.1907, -0.2855, -0.6149, -0.5790,  0.3095, -0.9114, -0.8607,\n",
              "                                                         0.9454,  0.8414, -0.3415, -0.3697, -0.0960, -0.0683,  0.7956,  0.1075,\n",
              "                                                        -0.3051, -0.7894,  0.7055,  0.3011, -0.7183,  1.0000, -0.4472, -0.9620,\n",
              "                                                         0.8564,  0.7828,  0.7155, -0.5222,  0.6306, -1.0000,  0.6277, -0.1315,\n",
              "                                                        -0.9807,  0.2481,  0.6340, -0.2550,  0.6128,  0.6938, -0.4682, -0.5107,\n",
              "                                                        -0.3500, -0.8584, -0.2828, -0.5258,  0.1404, -0.2829, -0.1316, -0.3096,\n",
              "                                                         0.4329, -0.5147, -0.3435,  0.6214,  0.3015,  0.6264,  0.5401, -0.4085,\n",
              "                                                         0.4985, -0.9399,  0.6122, -0.2851, -0.9773, -0.7145, -0.9812,  0.5186,\n",
              "                                                        -0.2462, -0.2891,  0.9029, -0.4536,  0.3311, -0.1355, -0.9136, -1.0000,\n",
              "                                                        -0.7480, -0.5198, -0.3169, -0.3660, -0.9491, -0.9470,  0.5501,  0.9265,\n",
              "                                                         0.1684,  0.9997, -0.3657,  0.8929, -0.4741, -0.7740,  0.8221, -0.4017,\n",
              "                                                         0.7890,  0.0264, -0.3549,  0.2669, -0.5877,  0.4482, -0.7343, -0.2732,\n",
              "                                                        -0.8126, -0.8955, -0.3236,  0.9258, -0.6669, -0.9247, -0.2234, -0.2846,\n",
              "                                                        -0.4907,  0.7962,  0.6670,  0.4567, -0.3428,  0.4957,  0.3164,  0.5997,\n",
              "                                                        -0.6751, -0.2105,  0.3830, -0.4713, -0.8906, -0.9633, -0.4455,  0.4138,\n",
              "                                                         0.9817,  0.6351,  0.2825,  0.7979, -0.3401,  0.7288, -0.9128,  0.9588,\n",
              "                                                        -0.2331,  0.3637, -0.5079,  0.5514, -0.7917,  0.1121,  0.7382, -0.7542,\n",
              "                                                        -0.7586, -0.0864, -0.4480, -0.4051, -0.8183,  0.4634, -0.1713, -0.3446,\n",
              "                                                        -0.1824,  0.8433,  0.9111,  0.7177,  0.3905,  0.6934, -0.8509, -0.4051,\n",
              "                                                         0.2309,  0.1179,  0.2239,  0.9894, -0.5129, -0.1440, -0.8924, -0.9714,\n",
              "                                                         0.0054, -0.8750, -0.2946, -0.7054,  0.6516, -0.5390,  0.5667,  0.3760,\n",
              "                                                        -0.9353, -0.5734,  0.3726, -0.2883,  0.4771, -0.2077,  0.7659,  0.9598,\n",
              "                                                        -0.5633,  0.2837,  0.8809, -0.8819, -0.8268,  0.5574, -0.4118,  0.7669,\n",
              "                                                        -0.6548,  0.9773,  0.9159,  0.6628, -0.8561, -0.7027, -0.7985, -0.6067,\n",
              "                                                        -0.1303,  0.1090,  0.9195,  0.7223,  0.5258,  0.1662, -0.6360,  0.9737,\n",
              "                                                        -0.8201, -0.9387, -0.6310, -0.1418, -0.9782,  0.8885,  0.4101,  0.5494,\n",
              "                                                        -0.5256, -0.6084, -0.9060,  0.7670,  0.1567,  0.9674, -0.4489, -0.8026,\n",
              "                                                        -0.7402, -0.8735, -0.0543, -0.2622, -0.6432, -0.0211, -0.9355,  0.5471,\n",
              "                                                         0.5131,  0.4986, -0.8919,  0.9933,  1.0000,  0.9389,  0.8044,  0.6597,\n",
              "                                                        -0.9999, -0.7783,  1.0000, -0.9895, -1.0000, -0.8800, -0.6364,  0.1182,\n",
              "                                                        -1.0000, -0.2245, -0.0098, -0.8543,  0.6590,  0.9454,  0.9625, -1.0000,\n",
              "                                                         0.7215,  0.9314, -0.7070,  0.9444, -0.3814,  0.9482,  0.6053,  0.5821,\n",
              "                                                        -0.1219,  0.3643, -0.9195, -0.7456, -0.6596, -0.7693,  0.9989,  0.2034,\n",
              "                                                        -0.7449, -0.8063,  0.4966, -0.2581, -0.1403, -0.9401, -0.2128,  0.4378,\n",
              "                                                         0.7635,  0.2952,  0.3888, -0.5934,  0.3091,  0.3119, -0.0248,  0.7341,\n",
              "                                                        -0.9228, -0.5450, -0.7234,  0.1673, -0.6000, -0.9234,  0.9054, -0.5087,\n",
              "                                                         0.8399,  1.0000,  0.4556, -0.7550,  0.6868,  0.3180, -0.7029,  1.0000,\n",
              "                                                         0.8804, -0.9527, -0.6955,  0.6873, -0.6403, -0.6827,  0.9984, -0.3378,\n",
              "                                                        -0.7624, -0.4098,  0.9569, -0.9836,  0.9963, -0.8312, -0.9543,  0.9190,\n",
              "                                                         0.8833, -0.5637, -0.6365,  0.2462, -0.7487,  0.4222, -0.9161,  0.6734,\n",
              "                                                         0.2479, -0.0719,  0.8314, -0.6366, -0.6877,  0.3951, -0.7817, -0.1174,\n",
              "                                                         0.9263,  0.5994, -0.3640,  0.1033, -0.3893, -0.4582, -0.9566,  0.6727,\n",
              "                                                         1.0000, -0.3010,  0.7508, -0.4354, -0.0325,  0.1028,  0.5175,  0.6057,\n",
              "                                                        -0.2853, -0.7720,  0.8569, -0.8842, -0.9739,  0.6746,  0.2210, -0.1489,\n",
              "                                                         1.0000,  0.3845,  0.2954,  0.4500,  0.9770, -0.0406,  0.2885,  0.8763,\n",
              "                                                         0.9655, -0.1742,  0.7341,  0.7492, -0.9006, -0.1643, -0.6322,  0.0438,\n",
              "                                                        -0.8767,  0.0882, -0.9517,  0.9662,  0.9192,  0.4561,  0.3266,  0.6881,\n",
              "                                                         1.0000, -0.7237,  0.4680,  0.3235,  0.4135, -0.9998, -0.5914, -0.4277,\n",
              "                                                        -0.0236, -0.8646, -0.3777,  0.3206, -0.9457,  0.8505,  0.6879, -0.9528,\n",
              "                                                        -0.9721, -0.5049,  0.5717,  0.0287, -0.9910, -0.6501, -0.5797,  0.6669,\n",
              "                                                        -0.3578, -0.9197, -0.3381, -0.4345,  0.5045, -0.2510,  0.6526,  0.8588,\n",
              "                                                         0.7067, -0.8194, -0.2102, -0.1615, -0.7121,  0.7674, -0.7076, -0.9390,\n",
              "                                                        -0.1395,  1.0000, -0.4053,  0.8935,  0.5242,  0.6281, -0.2591,  0.3226,\n",
              "                                                         0.9511,  0.3039, -0.8276, -0.8980,  0.2142, -0.3618,  0.5558,  0.4981,\n",
              "                                                         0.7907,  0.7249,  0.8045,  0.2733, -0.0587,  0.0483,  0.9968, -0.1577,\n",
              "                                                        -0.1342, -0.4173, -0.2102, -0.4172,  0.2612,  1.0000,  0.2904,  0.4159,\n",
              "                                                        -0.9714, -0.8019, -0.8583,  1.0000,  0.8176, -0.5965,  0.6062,  0.5852,\n",
              "                                                        -0.1469,  0.5316, -0.2492, -0.3131,  0.3833,  0.2162,  0.9145, -0.5771,\n",
              "                                                        -0.9429, -0.4884,  0.5241, -0.9410,  0.9999, -0.6014, -0.2559, -0.2598,\n",
              "                                                        -0.4407, -0.4188,  0.0793, -0.9599, -0.1528,  0.2846,  0.9292,  0.2959,\n",
              "                                                        -0.7567, -0.8570,  0.8887,  0.7735, -0.9074, -0.9037,  0.9056, -0.9777,\n",
              "                                                         0.6840,  1.0000,  0.3985,  0.3915,  0.2223, -0.2700,  0.4619, -0.4152,\n",
              "                                                         0.5437, -0.9205, -0.4346, -0.2684,  0.3434, -0.2767, -0.3454,  0.5306,\n",
              "                                                         0.1703, -0.6305, -0.6569, -0.0919,  0.4852,  0.7907, -0.3580, -0.1685,\n",
              "                                                         0.1327, -0.0638, -0.8470, -0.3412, -0.4283, -1.0000,  0.6555, -1.0000,\n",
              "                                                         0.6616,  0.3196, -0.2061,  0.8308,  0.6191,  0.6411, -0.6059, -0.9424,\n",
              "                                                         0.4579,  0.6577, -0.3427, -0.5709, -0.6261,  0.3938,  0.0403,  0.3402,\n",
              "                                                        -0.7503,  0.6595, -0.3350,  1.0000,  0.2026, -0.5455, -0.9286,  0.2940,\n",
              "                                                        -0.2422,  1.0000, -0.6982, -0.9323,  0.3939, -0.6841, -0.6495,  0.4705,\n",
              "                                                         0.0212, -0.6989, -0.9032,  0.8579,  0.7693, -0.7137,  0.6387, -0.3330,\n",
              "                                                        -0.6215,  0.2104,  0.9032,  0.9724,  0.5167,  0.7206, -0.4745, -0.1645,\n",
              "                                                         0.9274,  0.3069,  0.2020,  0.2398,  1.0000,  0.4624, -0.9064,  0.1648,\n",
              "                                                        -0.9479, -0.1925, -0.9399,  0.3801,  0.2678,  0.8880, -0.4029,  0.8961,\n",
              "                                                        -0.8391,  0.1347, -0.7127, -0.6704,  0.4333, -0.9038, -0.9699, -0.9711,\n",
              "                                                         0.7219, -0.3879, -0.0420,  0.3035,  0.2150,  0.4810,  0.4841, -1.0000,\n",
              "                                                         0.9281,  0.4593,  0.9272,  0.9266,  0.7634,  0.6084,  0.3424, -0.9687,\n",
              "                                                        -0.9191, -0.4258, -0.3260,  0.6543,  0.7928,  0.8087,  0.5801, -0.5756,\n",
              "                                                        -0.4327, -0.7898, -0.8293, -0.9868,  0.5053, -0.7057, -0.8097,  0.9342,\n",
              "                                                        -0.1357, -0.1366, -0.2837, -0.8941,  0.7680,  0.6392,  0.0150,  0.1137,\n",
              "                                                         0.4426,  0.8156,  0.8580,  0.9667, -0.8250,  0.6375, -0.8235,  0.4008,\n",
              "                                                         0.6811, -0.9229,  0.2267,  0.4518, -0.3641,  0.2219, -0.3550, -0.8959,\n",
              "                                                         0.5922, -0.3015,  0.4375, -0.3998,  0.0638, -0.4621, -0.3883, -0.6007,\n",
              "                                                        -0.6246,  0.7509,  0.1416,  0.8436,  0.8749, -0.1709, -0.6004, -0.2992,\n",
              "                                                        -0.8527, -0.8791,  0.7450,  0.0115, -0.3801,  0.7067,  0.0199,  0.8642,\n",
              "                                                         0.1517, -0.4305, -0.3682, -0.5973,  0.7852, -0.6773, -0.6310, -0.6968,\n",
              "                                                         0.7337,  0.3067,  1.0000, -0.7572, -0.9295, -0.5423, -0.4438,  0.4424,\n",
              "                                                        -0.4036, -1.0000,  0.4381, -0.8229,  0.6313, -0.7551,  0.7475, -0.7904,\n",
              "                                                        -0.9495, -0.2596,  0.4216,  0.8733, -0.4955, -0.7489,  0.6444, -0.7639,\n",
              "                                                         0.9820,  0.7553, -0.6420,  0.1652,  0.7586, -0.7451, -0.6889,  0.8396]],\n",
              "                                                      grad_fn=<TanhBackward0>))])"
            ]
          },
          "metadata": {},
          "execution_count": 15
        }
      ],
      "source": [
        "sentence = \"a high-spirited musical that exquisitely blends music , and high drama .\"\n",
        "tokenizer_output = bert_tokenizer(sentence, return_tensors=\"pt\")\n",
        "input_ids, attn_mask = tokenizer_output[\"input_ids\"], tokenizer_output[\"attention_mask\"]\n",
        "\n",
        "output = bert_model(input_ids, attention_mask = attn_mask)\n",
        "output"
      ],
      "id": "c994b139"
    },
    {
      "cell_type": "markdown",
      "metadata": {
        "id": "919f7bfc"
      },
      "source": [
        "As you can calling `bert_model` returns a bunch of different things. Let's go through them one by one and understand"
      ],
      "id": "919f7bfc"
    },
    {
      "cell_type": "code",
      "execution_count": 16,
      "metadata": {
        "id": "1f337132",
        "colab": {
          "base_uri": "https://localhost:8080/"
        },
        "outputId": "28ff85b7-ada5-4ad3-9185-10d1c5ec19b8"
      },
      "outputs": [
        {
          "output_type": "stream",
          "name": "stdout",
          "text": [
            "input_ids shape: torch.Size([1, 18])\n",
            "last_hidden_state shape: torch.Size([1, 18, 768])\n"
          ]
        }
      ],
      "source": [
        "last_hidden_state = output.last_hidden_state\n",
        "print(f\"input_ids shape: {input_ids.shape}\")\n",
        "print(f\"last_hidden_state shape: {last_hidden_state.shape}\")"
      ],
      "id": "1f337132"
    },
    {
      "cell_type": "markdown",
      "metadata": {
        "id": "7fa9e5c2"
      },
      "source": [
        "For an input of shape `[1,18]` which just means a single sequence of 18 tokens, last_hidden_state is a tensor of shape `[1, 18, 768]` denoting the contextual embedding of each of the 18 tokens in the sequence. These representations can be then used for solving a downstream task, by adding a linear layer or MLP layer on top. These can be useful for sequence labelling type of tasks."
      ],
      "id": "7fa9e5c2"
    },
    {
      "cell_type": "code",
      "execution_count": 17,
      "metadata": {
        "id": "c9c00632",
        "colab": {
          "base_uri": "https://localhost:8080/"
        },
        "outputId": "01069631-b945-4c5b-cc6d-9960ef0401da"
      },
      "outputs": [
        {
          "output_type": "stream",
          "name": "stdout",
          "text": [
            "input_ids shape: torch.Size([1, 18])\n",
            "pooler_output shape: torch.Size([1, 768])\n"
          ]
        }
      ],
      "source": [
        "pooler_output = output.pooler_output\n",
        "print(f\"input_ids shape: {input_ids.shape}\")\n",
        "print(f\"pooler_output shape: {pooler_output.shape}\")"
      ],
      "id": "c9c00632"
    },
    {
      "cell_type": "markdown",
      "metadata": {
        "id": "88dae74d"
      },
      "source": [
        "`pooler_output` is an aggregate representation of the entire sentence and can be thought of as a sentence embedding. It is obtained by passing the representation of the \\[CLS\\] token through a linear layer. This can be useful for sentence-level tasks like sentiment analysis etc."
      ],
      "id": "88dae74d"
    },
    {
      "cell_type": "markdown",
      "metadata": {
        "id": "5785c1f7"
      },
      "source": [
        "Apart from these two we can also obtain other values by providing additional arguments. Like if we want to obtain attention maps which can be useful for interpretating the model's behavior, we can just specify `output_attentions=True` while calling the model"
      ],
      "id": "5785c1f7"
    },
    {
      "cell_type": "code",
      "execution_count": 18,
      "metadata": {
        "id": "50ae6ee7",
        "colab": {
          "base_uri": "https://localhost:8080/"
        },
        "outputId": "842ae1a1-9547-435e-ba7e-1cc8061a65fb"
      },
      "outputs": [
        {
          "output_type": "stream",
          "name": "stdout",
          "text": [
            "Data type of attentions output: <class 'tuple'>\n",
            "Number of elements: 12\n",
            "Shape of individual element: torch.Size([1, 12, 18, 18])\n",
            "Example attention map: tensor([[0.0394, 0.1036, 0.0293, 0.0427, 0.0286, 0.0309, 0.0662, 0.0268, 0.0501,\n",
            "         0.0200, 0.0675, 0.0327, 0.0375, 0.0721, 0.0347, 0.0549, 0.0806, 0.1825],\n",
            "        [0.0649, 0.0452, 0.0417, 0.0654, 0.0789, 0.0430, 0.0496, 0.0633, 0.0430,\n",
            "         0.0539, 0.0473, 0.0497, 0.0574, 0.0621, 0.0497, 0.0575, 0.0777, 0.0497],\n",
            "        [0.0283, 0.0353, 0.0166, 0.0490, 0.0736, 0.0902, 0.0363, 0.1293, 0.0442,\n",
            "         0.0875, 0.0423, 0.0785, 0.0449, 0.0196, 0.0160, 0.1193, 0.0377, 0.0513],\n",
            "        [0.0383, 0.0532, 0.0579, 0.0280, 0.0793, 0.0480, 0.0412, 0.0809, 0.0484,\n",
            "         0.0647, 0.0456, 0.0459, 0.0744, 0.0305, 0.0602, 0.0957, 0.0593, 0.0482],\n",
            "        [0.0096, 0.0322, 0.0157, 0.1455, 0.0169, 0.0352, 0.0554, 0.0405, 0.0580,\n",
            "         0.0260, 0.0883, 0.0265, 0.0851, 0.0867, 0.0172, 0.0415, 0.1230, 0.0967],\n",
            "        [0.0380, 0.0107, 0.0485, 0.0633, 0.0868, 0.0398, 0.0266, 0.1159, 0.0366,\n",
            "         0.0729, 0.0251, 0.0916, 0.0397, 0.0379, 0.0442, 0.1373, 0.0472, 0.0381],\n",
            "        [0.0801, 0.0344, 0.0325, 0.1073, 0.0568, 0.0236, 0.0723, 0.0337, 0.0640,\n",
            "         0.0458, 0.0473, 0.0296, 0.1027, 0.0728, 0.0332, 0.0410, 0.0734, 0.0494],\n",
            "        [0.0415, 0.0189, 0.0266, 0.0727, 0.0583, 0.0658, 0.0531, 0.0565, 0.0794,\n",
            "         0.0456, 0.0387, 0.0877, 0.0609, 0.0534, 0.0245, 0.0904, 0.0805, 0.0456],\n",
            "        [0.0319, 0.0278, 0.0403, 0.0530, 0.1001, 0.0538, 0.0355, 0.1005, 0.0336,\n",
            "         0.0722, 0.0341, 0.0549, 0.0253, 0.0346, 0.0416, 0.1278, 0.0610, 0.0719],\n",
            "        [0.0172, 0.0320, 0.0322, 0.0625, 0.1101, 0.0817, 0.0693, 0.1197, 0.0246,\n",
            "         0.0429, 0.0355, 0.1023, 0.0409, 0.0226, 0.0251, 0.0939, 0.0523, 0.0350],\n",
            "        [0.0363, 0.0226, 0.0340, 0.0575, 0.1067, 0.0600, 0.0259, 0.1548, 0.0492,\n",
            "         0.0905, 0.0263, 0.0482, 0.0357, 0.0145, 0.0287, 0.0976, 0.0395, 0.0719],\n",
            "        [0.0260, 0.0262, 0.0313, 0.0505, 0.1031, 0.0783, 0.0395, 0.1045, 0.0416,\n",
            "         0.0837, 0.0280, 0.0864, 0.0319, 0.0191, 0.0283, 0.1520, 0.0286, 0.0412],\n",
            "        [0.0513, 0.0498, 0.0497, 0.0606, 0.0797, 0.0454, 0.0553, 0.0602, 0.0443,\n",
            "         0.0522, 0.0445, 0.0397, 0.0384, 0.0798, 0.0483, 0.0664, 0.0814, 0.0531],\n",
            "        [0.0498, 0.0470, 0.0322, 0.0880, 0.0663, 0.0355, 0.0730, 0.0612, 0.0563,\n",
            "         0.0505, 0.0467, 0.0299, 0.0831, 0.0671, 0.0312, 0.0640, 0.0677, 0.0506],\n",
            "        [0.0255, 0.0390, 0.0185, 0.0565, 0.0739, 0.0990, 0.0377, 0.1325, 0.0502,\n",
            "         0.0731, 0.0410, 0.0748, 0.0358, 0.0204, 0.0150, 0.1256, 0.0453, 0.0362],\n",
            "        [0.0469, 0.0156, 0.0497, 0.1177, 0.0918, 0.0499, 0.0284, 0.0719, 0.0734,\n",
            "         0.0642, 0.0288, 0.0638, 0.0355, 0.0539, 0.0430, 0.0898, 0.0455, 0.0304],\n",
            "        [0.0401, 0.0677, 0.0507, 0.0809, 0.0627, 0.0355, 0.0606, 0.0488, 0.0535,\n",
            "         0.0381, 0.0492, 0.0317, 0.0692, 0.0741, 0.0474, 0.0567, 0.0848, 0.0484],\n",
            "        [0.0384, 0.0791, 0.0282, 0.0507, 0.0405, 0.0425, 0.0704, 0.0499, 0.0708,\n",
            "         0.0335, 0.0647, 0.0371, 0.0761, 0.0610, 0.0337, 0.0591, 0.0995, 0.0646]],\n",
            "       grad_fn=<SelectBackward0>)\n"
          ]
        }
      ],
      "source": [
        "output = bert_model(input_ids, attention_mask = attn_mask, output_attentions=True)\n",
        "attentions = output.attentions\n",
        "print(f\"Data type of attentions output: {type(attentions)}\")\n",
        "print(f\"Number of elements: {len(attentions)}\")\n",
        "print(f\"Shape of individual element: {attentions[0].shape}\")\n",
        "print(f\"Example attention map: {attentions[0][0,0]}\")"
      ],
      "id": "50ae6ee7"
    },
    {
      "cell_type": "markdown",
      "metadata": {
        "id": "a3a4519b"
      },
      "source": [
        "As you can see `attentions` is a tuple containing 12 elements which corresponds to the attention maps of each of the 12 layers in the network. Further each layer's attention maps also contains 12 attention maps corresponding to 12 heads in each layer. A single attention map as you can see is a 18x18 matrix representing the attention pattern for all the tokens in the sequence"
      ],
      "id": "a3a4519b"
    },
    {
      "cell_type": "markdown",
      "metadata": {
        "id": "8a79f03f"
      },
      "source": [
        "### Task 2.1: Implementing BERT-based Classifier (2 Marks)\n",
        "\n",
        "In this task you will implement a bert-based classifier in Pytorch very similar to how we created bag of word classifiers in the previous assignments. Instead of using `nn.Linear` here we will simply use `BertModel` as a component. Implement the `BertClassiferModel` module below with the architecture BertModel->Linear->Sigmoid"
      ],
      "id": "8a79f03f"
    },
    {
      "cell_type": "code",
      "execution_count": 10,
      "metadata": {
        "id": "0f626042"
      },
      "outputs": [],
      "source": [
        "class BertClassifierModel(nn.Module):\n",
        "    \n",
        "    def __init__(self, d_hidden = 768, bert_variant = \"bert-base-uncased\"):\n",
        "        \"\"\"\n",
        "        Define the architecture of Bert-Based classifier.\n",
        "        You will mainly need to define 3 components, first a BERT layer\n",
        "        using `BertModel` from transformers library,\n",
        "        a linear layer to map the representation from Bert to the output,\n",
        "        and a sigmoid layer to map the score to a proability\n",
        "        \n",
        "        Inputs:\n",
        "            - d_hidden (int): Size of the hidden representations of bert\n",
        "            - bert_variant (str): BERT variant to use\n",
        "        \"\"\"\n",
        "        super(BertClassifierModel, self).__init__()\n",
        "        self.bert_layer = BertModel.from_pretrained(bert_variant)\n",
        "        self.output_layer = nn.Linear(d_hidden,1)\n",
        "        self.sigmoid_layer = nn.Sigmoid()\n",
        "        \n",
        "      \n",
        "        \n",
        "    def forward(self, input_ids, attn_mask):\n",
        "        \"\"\"\n",
        "        Forward Passes the inputs through the network and obtains the prediction\n",
        "        \n",
        "        Inputs:\n",
        "            - input_ids (torch.tensor): A torch tensor of shape [batch_size, seq_len]\n",
        "                                        representing the sequence of token ids\n",
        "            - attn_mask (torch.tensor): A torch tensor of shape [batch_size, seq_len]\n",
        "                                        representing the attention mask such that padded tokens are 0 and rest 1\n",
        "                                        \n",
        "        Returns:\n",
        "          - output (torch.tensor): A torch tensor of shape [batch_size,] obtained after passing the input to the network\n",
        "                                        \n",
        "        \n",
        "        Hint: Recall which of the outputs from BertModel is appropriate for the sentence classification task.\n",
        "        \"\"\"\n",
        "        output = None\n",
        "        \n",
        "        output = self.bert_layer(input_ids, attention_mask = attn_mask, output_attentions=True)\n",
        "        output = output.pooler_output\n",
        "        output = self.output_layer(output)\n",
        "        output = self.sigmoid_layer(output)\n",
        "        \n",
        "        return output.squeeze(-1) # Question: Why do squeeze() here? "
      ],
      "id": "0f626042"
    },
    {
      "cell_type": "code",
      "execution_count": 20,
      "metadata": {
        "id": "1c65d7c7",
        "colab": {
          "base_uri": "https://localhost:8080/"
        },
        "outputId": "7e1c5b32-b883-4de1-eccf-d6e25c29672a"
      },
      "outputs": [
        {
          "output_type": "stream",
          "name": "stdout",
          "text": [
            "Running Sample Test Cases!\n"
          ]
        },
        {
          "output_type": "stream",
          "name": "stderr",
          "text": [
            "Some weights of the model checkpoint at bert-base-uncased were not used when initializing BertModel: ['cls.predictions.bias', 'cls.predictions.transform.LayerNorm.bias', 'cls.predictions.transform.dense.bias', 'cls.predictions.transform.dense.weight', 'cls.predictions.decoder.weight', 'cls.seq_relationship.weight', 'cls.seq_relationship.bias', 'cls.predictions.transform.LayerNorm.weight']\n",
            "- This IS expected if you are initializing BertModel from the checkpoint of a model trained on another task or with another architecture (e.g. initializing a BertForSequenceClassification model from a BertForPreTraining model).\n",
            "- This IS NOT expected if you are initializing BertModel from the checkpoint of a model that you expect to be exactly identical (initializing a BertForSequenceClassification model from a BertForSequenceClassification model).\n"
          ]
        },
        {
          "output_type": "stream",
          "name": "stdout",
          "text": [
            "Sample Test Case 1\n",
            "Input Sentence: a high-spirited musical that exquisitely blends music , and high drama .\n",
            "Model Output: [0.43614867]\n",
            "Expected Output: [0.43614867]\n",
            "Test Case Passed! :)\n",
            "******************************\n",
            "\n",
            "Sample Test Case 2 (Checking how padding effects the output. It shouldn't!)\n",
            "Input Sentence: a high-spirited musical that exquisitely blends music , and high drama .\n",
            "Model Output: [0.43614867]\n",
            "Expected Output: [0.43614867]\n",
            "Test Case Passed! :)\n",
            "******************************\n",
            "\n",
            "Sample Test Case 3. Checking if the model works for batched inputs\n",
            "Input Sentences: ['a high-spirited musical that exquisitely blends music , and high drama .', 'unflinchingly bleak and desperate']\n",
            "Model Output: [0.43614867 0.46988717]\n",
            "Expected Output: [0.43614867 0.46988717]\n",
            "Test Case Passed! :)\n",
            "******************************\n",
            "\n"
          ]
        }
      ],
      "source": [
        "print(f\"Running Sample Test Cases!\")\n",
        "torch.manual_seed(42)\n",
        "model = BertClassifierModel()\n",
        "\n",
        "print(\"Sample Test Case 1\")\n",
        "sentence = \"a high-spirited musical that exquisitely blends music , and high drama .\"\n",
        "tokenizer_output = bert_tokenizer(sentence, return_tensors=\"pt\")\n",
        "input_ids, attn_mask = tokenizer_output[\"input_ids\"], tokenizer_output[\"attention_mask\"]\n",
        "bert_cls_out = model(input_ids, attn_mask).detach().numpy()\n",
        "expected_bert_cls_out = np.array([0.43614867])\n",
        "print(f\"Input Sentence: {sentence}\")\n",
        "print(f\"Model Output: {bert_cls_out}\")\n",
        "print(f\"Expected Output: {expected_bert_cls_out}\")\n",
        "\n",
        "assert bert_cls_out.shape == expected_bert_cls_out.shape\n",
        "assert np.allclose(bert_cls_out, expected_bert_cls_out, 1e-4)\n",
        "print(\"Test Case Passed! :)\")\n",
        "print(\"******************************\\n\")\n",
        "\n",
        "print(\"Sample Test Case 2 (Checking how padding effects the output. It shouldn't!)\")\n",
        "sentence = \"a high-spirited musical that exquisitely blends music , and high drama .\"\n",
        "tokenizer_output = bert_tokenizer(sentence,max_length = 30, padding = \"max_length\", return_tensors=\"pt\")\n",
        "input_ids, attn_mask = tokenizer_output[\"input_ids\"], tokenizer_output[\"attention_mask\"]\n",
        "bert_cls_out = model(input_ids, attn_mask).detach().numpy()\n",
        "expected_bert_cls_out = np.array([0.43614867])\n",
        "print(f\"Input Sentence: {sentence}\")\n",
        "print(f\"Model Output: {bert_cls_out}\")\n",
        "print(f\"Expected Output: {expected_bert_cls_out}\")\n",
        "\n",
        "assert bert_cls_out.shape == expected_bert_cls_out.shape\n",
        "assert np.allclose(bert_cls_out, expected_bert_cls_out, 1e-4)\n",
        "print(\"Test Case Passed! :)\")\n",
        "print(\"******************************\\n\")\n",
        "\n",
        "print(\"Sample Test Case 3. Checking if the model works for batched inputs\")\n",
        "sentences = [\n",
        "    \"a high-spirited musical that exquisitely blends music , and high drama .\",\n",
        "    \"unflinchingly bleak and desperate\"\n",
        "]\n",
        "tokenizer_output = bert_tokenizer(sentences,max_length = 30, padding = \"max_length\", return_tensors=\"pt\")\n",
        "input_ids, attn_mask = tokenizer_output[\"input_ids\"], tokenizer_output[\"attention_mask\"]\n",
        "bert_cls_out = model(input_ids, attn_mask).detach().numpy()\n",
        "expected_bert_cls_out = np.array([0.43614867, 0.46988717])\n",
        "print(f\"Input Sentences: {sentences}\")\n",
        "print(f\"Model Output: {bert_cls_out}\")\n",
        "print(f\"Expected Output: {expected_bert_cls_out}\")\n",
        "\n",
        "assert bert_cls_out.shape == expected_bert_cls_out.shape\n",
        "assert np.allclose(bert_cls_out, expected_bert_cls_out, 1e-4)\n",
        "print(\"Test Case Passed! :)\")\n",
        "print(\"******************************\\n\")\n"
      ],
      "id": "1c65d7c7"
    },
    {
      "cell_type": "markdown",
      "metadata": {
        "id": "f38f523b"
      },
      "source": [
        "### Task 2.2: Training and Evaluating the Model (5 Marks)\n",
        "\n",
        "Now that we have implemented the custom Dataset and a BERT based classifier model, we can start training and evaluating the model. This time we will modify the training loop slightly. At the end of each training epoch we will now evaluate on the validation data and check the accuracy. Based on this we will select the best model across the epochs that obtains highest validation accuracy. You will need to implement the `train` and `evaluate` functions below."
      ],
      "id": "f38f523b"
    },
    {
      "cell_type": "code",
      "source": [
        "def get_accuracy(pred_labels, act_labels):\n",
        "  \"\"\"\n",
        "  Calculates the accuracy value by comparing predicted labels with actual labels\n",
        "\n",
        "  Inputs:\n",
        "    - pred_labels (numpy.ndarray) : A numpy 1d array containing predicted labels. \n",
        "    - act_labels (numpy.ndarray): A numpy 1d array containing actual labels (of same size as pred_labels). \n",
        "\n",
        "  Returns:\n",
        "    - accuracy (float): Number of correct predictions / Total number of predictions\n",
        "\n",
        "  \"\"\"\n",
        "  accuracy = None\n",
        "  correct_predictions=0\n",
        "  for prediction,actual in zip(pred_labels,act_labels):\n",
        "    if prediction==actual:\n",
        "      correct_predictions+=1\n",
        "  accuracy=correct_predictions/len(pred_labels)\n",
        "\n",
        "  return accuracy\n",
        "\n"
      ],
      "metadata": {
        "id": "XX8pTWfvcaIO"
      },
      "id": "XX8pTWfvcaIO",
      "execution_count": 11,
      "outputs": []
    },
    {
      "cell_type": "code",
      "source": [
        "def convert_probs_to_labels(probs, threshold = 0.5):\n",
        "  \"\"\"\n",
        "  Convert the probabilities to labels by using the specified threshold\n",
        "\n",
        "  Inputs:\n",
        "    - probs (numpy.ndarray): A numpy 1d array containing the probabilities predicted by the classifier model\n",
        "    - threshold (float): A threshold value beyond which we assign a positive label i.e 1 and 0 below it\n",
        "\n",
        "  Returns:\n",
        "    - labels (numpy.ndarray): Labels obtained after thresholding\n",
        "    \n",
        "  \"\"\"\n",
        "    \n",
        "  labels =[]\n",
        "  for value in probs:\n",
        "    if value>threshold:\n",
        "      labels.append(1)\n",
        "    else:\n",
        "      labels.append(0)\n",
        "\n",
        "  return labels"
      ],
      "metadata": {
        "id": "kpL3XiWEce9b"
      },
      "id": "kpL3XiWEce9b",
      "execution_count": 12,
      "outputs": []
    },
    {
      "cell_type": "code",
      "source": [
        "def evaluate(model, test_dataloader, threshold = 0.5, device = \"cpu\"):\n",
        "    \"\"\"\n",
        "    Evaluates `model` on test dataset\n",
        "\n",
        "    Inputs:\n",
        "        - model (BertClassifierModel): Logistic Regression model to be evaluated\n",
        "        - test_dataloader (torch.utils.DataLoader): A dataloader defined over the test dataset\n",
        "        - threshold (float): Probability Threshold above which we consider label as 1 and 0 below\n",
        "\n",
        "    Returns:\n",
        "        - accuracy (float): Average accuracy over the test dataset \n",
        "    \"\"\"\n",
        "    \n",
        "    model.eval()\n",
        "    model = model.to(device)\n",
        "    accuracy = 0\n",
        "    \n",
        "    with torch.no_grad():\n",
        "      for test_batch in test_dataloader:\n",
        "        features, masks, labels = test_batch\n",
        "\n",
        "        # Most nn modules and loss functions assume the inputs are of type Float, so convert both features and labels to floats\n",
        "        features = features.float()\n",
        "        labels = labels.float()\n",
        "\n",
        "        # Transfer the features and labels to device\n",
        "        features  = torch.tensor(features).to(torch.int64)\n",
        "        masks = torch.tensor(masks).to(torch.int64)\n",
        "        \n",
        "        features = features.to(device)\n",
        "        masks = masks.to(device)\n",
        "        labels = labels.to(device)\n",
        "\n",
        "        # Probability predictions from the model\n",
        "        pred_probs = model(features,masks)\n",
        "\n",
        "        # Convert predictions and labels to numpy arrays from torch tensors \n",
        "        pred_probs = pred_probs.detach().cpu().numpy()\n",
        "        labels = labels.detach().cpu().numpy()\n",
        "\n",
        "        # Get accuracy of predictions \n",
        "        predictions =[]\n",
        "        for value in pred_probs:\n",
        "          if value>threshold:\n",
        "            predictions.append(1)\n",
        "          else:\n",
        "            predictions.append(0)\n",
        "\n",
        "\n",
        "        batch_accuracy = None\n",
        "        correct_predictions=0\n",
        "        for prediction,actual in zip(predictions,labels):\n",
        "          if prediction==actual:\n",
        "            correct_predictions+=1\n",
        "        batch_accuracy=correct_predictions/len(predictions)\n",
        "\n",
        "\n",
        "        accuracy += batch_accuracy\n",
        "\n",
        "      # Divide by number of batches to get average accuracy\n",
        "      accuracy = accuracy / len(test_dataloader)\n",
        "\n",
        "    return accuracy\n",
        "\n",
        "    \n",
        "\n",
        "def train(model, train_dataloader, val_dataloader,\n",
        "          lr = 1e-5, num_epochs = 3,\n",
        "          device = \"cpu\"):\n",
        "    \"\"\"\n",
        "    Runs the training loop. Define the loss function as BCELoss like the last tine\n",
        "    and optimizer as Adam and traine for `num_epochs` epochs.\n",
        "\n",
        "    Inputs:\n",
        "        - model (BertClassifierModel): BERT based classifer model to be trained\n",
        "        - train_dataloader (torch.utils.DataLoader): A dataloader defined over the training dataset\n",
        "        - val_dataloader (torch.utils.DataLoader): A dataloader defined over the validation dataset\n",
        "        - lr (float): The learning rate for the optimizer\n",
        "        - num_epochs (int): Number of epochs to train the model for.\n",
        "        - device (str): Device to train the model on. Can be either 'cuda' (for using gpu) or 'cpu'\n",
        "\n",
        "    Returns:\n",
        "        - best_model (BertClassifierModel): model corresponding to the highest validation accuracy (checked at the end of each epoch)\n",
        "        - best_val_accuracy (float): Validation accuracy corresponding to the best epoch\n",
        "    \"\"\"\n",
        "    epoch_loss = 0\n",
        "    for param in model.parameters():\n",
        "        param.requires_grad = True\n",
        "    best_val_accuracy = float(\"-inf\")\n",
        "    best_model = None\n",
        "\n",
        "    # 1. Define Loss function and optimizer\n",
        "    loss_fn = nn.BCELoss()\n",
        "    optimizer = Adam(model.parameters(),lr=lr)\n",
        "\n",
        "    for epoch in range(num_epochs):\n",
        "        model = model.to(device)\n",
        "        model.train() # Since we are evaluating model at the end of every epoch, it is important to bring it back to train mode\n",
        "        epoch_loss = 0\n",
        "        \n",
        "        # 2. Write Training Loop (store the loss for each batch in epoch_loss like done in previous assignments)\n",
        "        for train_batch in tqdm.tqdm(train_dataloader):\n",
        "            # Zero out any gradients stored in the previous steps\n",
        "            optimizer.zero_grad()\n",
        "\n",
        "            # Unwrap the batch to get features and labels\n",
        "            features, masks, labels = train_batch\n",
        "\n",
        "            # Most nn modules and loss functions assume the inputs are of type Float, so convert both features and labels to floats\n",
        "            features = features.float()\n",
        "            labels = labels.float()\n",
        "\n",
        "            # Transfer the features and labels to device\n",
        "            features  = torch.tensor(features).to(torch.int64)\n",
        "            masks = torch.tensor(masks).to(torch.int64)\n",
        "            \n",
        "            features = features.to(device)\n",
        "            masks = masks.to(device)\n",
        "            labels = labels.to(device)\n",
        "\n",
        "\n",
        "            # Step 3: Feed the input features to the model to get predictions\n",
        "            preds = model(features, masks)\n",
        "\n",
        "            # Step 4: Compute the loss and perform backward pass\n",
        "            loss = loss_fn(preds,labels)\n",
        "            loss.backward()\n",
        "\n",
        "            # Step 5: Take optimizer step\n",
        "            optimizer.step()\n",
        "            # Store loss value for tracking\n",
        "            epoch_loss += loss.item()\n",
        "\n",
        "        \n",
        "        epoch_loss = epoch_loss / len(train_dataloader)\n",
        "        \n",
        "        # 3. Evaluate on validation data by calling `evaluate` and store the validation accuracy in `val_accurracy`\n",
        "        print('Evaluating')\n",
        "        val_accuracy = evaluate(model,val_dataloader)\n",
        "        # Model selection\n",
        "        if val_accuracy > best_val_accuracy:\n",
        "            best_val_accuracy = val_accuracy\n",
        "            best_model = copy.deepcopy(model) # Create a copy of model\n",
        "        \n",
        "        print(f\"Epoch {epoch} completed | Average Training Loss: {epoch_loss} | Validation Accuracy: {val_accuracy}\")\n",
        "\n",
        " \n",
        "    return best_model, best_val_accuracy"
      ],
      "metadata": {
        "id": "F3TvFLtRdBdi"
      },
      "id": "F3TvFLtRdBdi",
      "execution_count": 13,
      "outputs": []
    },
    {
      "cell_type": "code",
      "source": [
        "import warnings\n",
        "warnings.filterwarnings(\"ignore\")"
      ],
      "metadata": {
        "id": "zQAT1aVE3fDH"
      },
      "id": "zQAT1aVE3fDH",
      "execution_count": 28,
      "outputs": []
    },
    {
      "cell_type": "code",
      "execution_count": 29,
      "metadata": {
        "id": "b408695c",
        "colab": {
          "base_uri": "https://localhost:8080/"
        },
        "outputId": "351581a5-9e87-46bc-b681-9928a4e5460d"
      },
      "outputs": [
        {
          "output_type": "stream",
          "name": "stdout",
          "text": [
            "Training on 100 data points for sanity check\n"
          ]
        },
        {
          "output_type": "stream",
          "name": "stderr",
          "text": [
            "Some weights of the model checkpoint at bert-base-uncased were not used when initializing BertModel: ['cls.predictions.bias', 'cls.predictions.transform.LayerNorm.bias', 'cls.predictions.transform.dense.bias', 'cls.predictions.transform.dense.weight', 'cls.predictions.decoder.weight', 'cls.seq_relationship.weight', 'cls.seq_relationship.bias', 'cls.predictions.transform.LayerNorm.weight']\n",
            "- This IS expected if you are initializing BertModel from the checkpoint of a model trained on another task or with another architecture (e.g. initializing a BertForSequenceClassification model from a BertForPreTraining model).\n",
            "- This IS NOT expected if you are initializing BertModel from the checkpoint of a model that you expect to be exactly identical (initializing a BertForSequenceClassification model from a BertForSequenceClassification model).\n",
            "100%|██████████| 25/25 [00:02<00:00, 10.50it/s]\n"
          ]
        },
        {
          "output_type": "stream",
          "name": "stdout",
          "text": [
            "Evaluating\n",
            "Epoch 0 completed | Average Training Loss: 0.6932587218284607 | Validation Accuracy: 0.75\n"
          ]
        },
        {
          "output_type": "stream",
          "name": "stderr",
          "text": [
            "100%|██████████| 25/25 [00:01<00:00, 13.62it/s]\n"
          ]
        },
        {
          "output_type": "stream",
          "name": "stdout",
          "text": [
            "Evaluating\n",
            "Epoch 1 completed | Average Training Loss: 0.6349137878417969 | Validation Accuracy: 0.9\n"
          ]
        },
        {
          "output_type": "stream",
          "name": "stderr",
          "text": [
            "100%|██████████| 25/25 [00:01<00:00, 13.73it/s]\n"
          ]
        },
        {
          "output_type": "stream",
          "name": "stdout",
          "text": [
            "Evaluating\n",
            "Epoch 2 completed | Average Training Loss: 0.46960262894630433 | Validation Accuracy: 0.99\n"
          ]
        },
        {
          "output_type": "stream",
          "name": "stderr",
          "text": [
            "100%|██████████| 25/25 [00:01<00:00, 13.54it/s]\n"
          ]
        },
        {
          "output_type": "stream",
          "name": "stdout",
          "text": [
            "Evaluating\n",
            "Epoch 3 completed | Average Training Loss: 0.34585016429424287 | Validation Accuracy: 1.0\n"
          ]
        },
        {
          "output_type": "stream",
          "name": "stderr",
          "text": [
            "100%|██████████| 25/25 [00:01<00:00, 13.69it/s]\n"
          ]
        },
        {
          "output_type": "stream",
          "name": "stdout",
          "text": [
            "Evaluating\n",
            "Epoch 4 completed | Average Training Loss: 0.19754688173532486 | Validation Accuracy: 1.0\n",
            "Best Validation Accuracy: 1.0\n",
            "Expected Best Validation Accuracy: 0.99\n"
          ]
        }
      ],
      "source": [
        "torch.manual_seed(42)\n",
        "print(\"Training on 100 data points for sanity check\")\n",
        "sample_sentences = train_df[\"sentence\"].values.tolist()[:100]\n",
        "sample_labels = train_df[\"label\"].values.tolist()[:100]\n",
        "sample_dataset = SST2BertDataset(sample_sentences, sample_labels, seq_len=32)\n",
        "sample_dataloader = DataLoader(sample_dataset, batch_size=4)\n",
        "\n",
        "model = BertClassifierModel()\n",
        "best_model, best_val_acc = train(model, sample_dataloader, sample_dataloader, num_epochs = 5, device = \"cuda\")\n",
        "print(f\"Best Validation Accuracy: {best_val_acc}\")\n",
        "print(f\"Expected Best Validation Accuracy: {0.99}\")"
      ],
      "id": "b408695c"
    },
    {
      "cell_type": "markdown",
      "metadata": {
        "id": "e958b3c7"
      },
      "source": [
        " You can expect the validation accuracy of 0.99 by the end of training. This is so high because we trained on just 100 examples and just use those for validation for a sanity check. This is often done to debug the model and training loop. Let's now train on the entire dataset. This can take some time approximately 50 minutes per epoch, since we are fine-tuning all the 12 layers of BERT."
      ],
      "id": "e958b3c7"
    },
    {
      "cell_type": "code",
      "execution_count": 30,
      "metadata": {
        "id": "298b6cf0",
        "colab": {
          "base_uri": "https://localhost:8080/"
        },
        "outputId": "f15a8706-e9e5-447a-ff9f-80501aa74647"
      },
      "outputs": [
        {
          "output_type": "stream",
          "name": "stderr",
          "text": [
            "Some weights of the model checkpoint at bert-base-uncased were not used when initializing BertModel: ['cls.predictions.bias', 'cls.predictions.transform.LayerNorm.bias', 'cls.predictions.transform.dense.bias', 'cls.predictions.transform.dense.weight', 'cls.predictions.decoder.weight', 'cls.seq_relationship.weight', 'cls.seq_relationship.bias', 'cls.predictions.transform.LayerNorm.weight']\n",
            "- This IS expected if you are initializing BertModel from the checkpoint of a model trained on another task or with another architecture (e.g. initializing a BertForSequenceClassification model from a BertForPreTraining model).\n",
            "- This IS NOT expected if you are initializing BertModel from the checkpoint of a model that you expect to be exactly identical (initializing a BertForSequenceClassification model from a BertForSequenceClassification model).\n",
            "100%|██████████| 4126/4126 [24:34<00:00,  2.80it/s]\n"
          ]
        },
        {
          "output_type": "stream",
          "name": "stdout",
          "text": [
            "Evaluating\n",
            "Epoch 0 completed | Average Training Loss: 0.21276546122846648 | Validation Accuracy: 0.9522058823529411\n"
          ]
        },
        {
          "output_type": "stream",
          "name": "stderr",
          "text": [
            "100%|██████████| 4126/4126 [24:34<00:00,  2.80it/s]\n"
          ]
        },
        {
          "output_type": "stream",
          "name": "stdout",
          "text": [
            "Evaluating\n",
            "Epoch 1 completed | Average Training Loss: 0.11131476718110542 | Validation Accuracy: 0.9595588235294118\n"
          ]
        },
        {
          "output_type": "stream",
          "name": "stderr",
          "text": [
            "100%|██████████| 4126/4126 [24:35<00:00,  2.80it/s]\n"
          ]
        },
        {
          "output_type": "stream",
          "name": "stdout",
          "text": [
            "Evaluating\n",
            "Epoch 2 completed | Average Training Loss: 0.07546952022857757 | Validation Accuracy: 0.9522058823529411\n"
          ]
        }
      ],
      "source": [
        "model = BertClassifierModel()\n",
        "best_model, best_val_acc = train(model, train_loader, val_loader, num_epochs = 3, device = \"cuda\")"
      ],
      "id": "298b6cf0"
    },
    {
      "cell_type": "markdown",
      "metadata": {
        "id": "a397015f"
      },
      "source": [
        "You should expect about ~95% validation accuracy. Let's now check how does this model performs on the test data"
      ],
      "id": "a397015f"
    },
    {
      "cell_type": "code",
      "source": [
        "# torch.save(best_model,'gdrive/MyDrive/PlakshaNLP/Assignment3/best_model.pt')"
      ],
      "metadata": {
        "id": "ar0hcZ9QN0mN"
      },
      "id": "ar0hcZ9QN0mN",
      "execution_count": 31,
      "outputs": []
    },
    {
      "cell_type": "code",
      "source": [
        "best_model_ = torch.load('gdrive/MyDrive/PlakshaNLP/Assignment3/best_model.pt')"
      ],
      "metadata": {
        "id": "QzVdQH4KOVGi"
      },
      "id": "QzVdQH4KOVGi",
      "execution_count": null,
      "outputs": []
    },
    {
      "cell_type": "code",
      "execution_count": 32,
      "metadata": {
        "id": "e6a418dd",
        "colab": {
          "base_uri": "https://localhost:8080/"
        },
        "outputId": "5098b783-1b2d-47f1-e242-1b79ed9f4b83"
      },
      "outputs": [
        {
          "output_type": "stream",
          "name": "stdout",
          "text": [
            "0.9238636363636363\n"
          ]
        }
      ],
      "source": [
        "test_accuracy = evaluate(best_model, test_loader, threshold = 0.5, device = \"cuda\")\n",
        "print(test_accuracy)"
      ],
      "id": "e6a418dd"
    },
    {
      "cell_type": "markdown",
      "metadata": {
        "id": "f9107414"
      },
      "source": [
        "As you can see we get around ~93% accuracy on the test data! Compare it with ~80% accuracy that we had been getting with the Bag of Words models in previous assignments. This shows how powerful these pre-trained contextual representations can be in solving such NLP tasks."
      ],
      "id": "f9107414"
    },
    {
      "cell_type": "markdown",
      "metadata": {
        "id": "82f7ea51"
      },
      "source": [
        "### Task 2.3: Making Predictions from scratch (1 Mark)\n",
        "\n",
        "Similar to assignment 1, implement the function `predict_text` that takes as input the sentence/document to be classified and runs it through the BERT classifier model to obtain the prediction."
      ],
      "id": "82f7ea51"
    },
    {
      "cell_type": "code",
      "execution_count": 14,
      "metadata": {
        "id": "639651fe"
      },
      "outputs": [],
      "source": [
        "def predict_text(text, model, tokenizer, threshold = 0.5,device = \"cpu\"):\n",
        "    \"\"\"\n",
        "    Predicts the sentiment label for a piece of text using the BERT classifier model\n",
        "    \n",
        "    Inputs:\n",
        "        - text (str): The sentence/document whose sentiment is to be predicted\n",
        "        - model (BertClassifierModel): Fine-tuned BERT based classifer model\n",
        "        - tokenizer (BertTokenizer): Pre-trained BERT tokenizer\n",
        "        - threshold (float): Probability Threshold above which we consider label as 1 and 0 below\n",
        "    Returns:\n",
        "        - pred_label (float): Predicted sentiment of the document\n",
        "    \"\"\"\n",
        "    \n",
        "    model = model.to(device)\n",
        "    model.eval()\n",
        "\n",
        "    \n",
        "    tensors = tokenizer([text],max_length = 128, padding = 'max_length', truncation = True, return_tensors = 'pt')\n",
        "    input_id = tensors['input_ids'].to(device)\n",
        "    mask = tensors['attention_mask'].to(device)\n",
        "    best_model = model.to(device)\n",
        "    pred_label = 1 if best_model(input_id,mask).tolist()[0]>threshold else 0\n",
        "    \n",
        "    \n",
        "    return pred_label"
      ],
      "id": "639651fe"
    },
    {
      "cell_type": "code",
      "execution_count": 46,
      "metadata": {
        "id": "7c969000",
        "colab": {
          "base_uri": "https://localhost:8080/"
        },
        "outputId": "d256c45f-dcb9-4b92-ac5a-f5e275666618"
      },
      "outputs": [
        {
          "output_type": "stream",
          "name": "stdout",
          "text": [
            "Running Sample Test Cases\n",
            "Sample Test Case 1\n",
            "Sample Text: this movie was great\n",
            "Predicted Label: 1\n",
            "Expected Label: 1\n",
            "**********************************\n",
            "\n",
            "Sample Test Case 2\n",
            "Sample Text: A terrible film, 2 hours of my life that I will never get back\n",
            "Predicted Label: 0\n",
            "Expected Label: 0\n",
            "**********************************\n",
            "\n"
          ]
        }
      ],
      "source": [
        "print(\"Running Sample Test Cases\")\n",
        "\n",
        "print(\"Sample Test Case 1\")\n",
        "sample_document = \"this movie was great\"\n",
        "predicted_label = predict_text(sample_document, best_model, bert_tokenizer)\n",
        "expected_label = 1\n",
        "print(f\"Sample Text: {sample_document}\")\n",
        "print(f\"Predicted Label: {predicted_label}\")\n",
        "print(f\"Expected Label: {expected_label}\")\n",
        "\n",
        "assert predicted_label == expected_label\n",
        "\n",
        "print(\"**********************************\\n\")\n",
        "\n",
        "print(\"Sample Test Case 2\")\n",
        "sample_document = \"A terrible film, 2 hours of my life that I will never get back\"\n",
        "predicted_label = predict_text(sample_document, best_model, bert_tokenizer)\n",
        "expected_label = 0\n",
        "print(f\"Sample Text: {sample_document}\")\n",
        "print(f\"Predicted Label: {predicted_label}\")\n",
        "print(f\"Expected Label: {expected_label}\")\n",
        "\n",
        "assert predicted_label == expected_label\n",
        "\n",
        "print(\"**********************************\\n\")\n",
        "\n"
      ],
      "id": "7c969000"
    },
    {
      "cell_type": "markdown",
      "metadata": {
        "id": "dc0734cd"
      },
      "source": [
        "## Task 3: Fine-tuning BERT on Micorsoft Research Paraphrase Corpus (5 Marks)\n",
        "\n",
        "Micorsoft Research Paraphrase Corpus (MRPC) consists of sentence pairs extracted from online news sources and the task is to identify whether the two sentences are paraphrases of each other i.e. if they have the same meaning. Unlike SST-2 this task operates on a pair of sentences instead of a single sentence. However, the way BERT is trained it makes it very easy to handle pair of sentences by just seperating them via a \\[SEP\\] token\n",
        "\n",
        "<img src=\"https://i.ibb.co/Nx8mK1P/bert-sentence-pair.jpg\" alt=\"bert-sentence-pair\" border=\"0\">\n",
        "\n",
        "Hence we just need to modify the custom dataset to do this concatenation operation and rest of the code for models, training and evaluation can essentially stay the same! We load the dataset below:"
      ],
      "id": "dc0734cd"
    },
    {
      "cell_type": "code",
      "execution_count": 5,
      "metadata": {
        "id": "b5c990ee",
        "colab": {
          "base_uri": "https://localhost:8080/"
        },
        "outputId": "b690bb6c-8b5c-4d01-8619-b6e879b0be63"
      },
      "outputs": [
        {
          "output_type": "stream",
          "name": "stdout",
          "text": [
            "Number of Training Examples: 3668\n",
            "Number of Validation Examples: 408\n",
            "Number of Test Examples: 1725\n"
          ]
        }
      ],
      "source": [
        "def load_mrpc_dataset(split = \"train\"):\n",
        "    filename = os.path.join(mrpc_data_dir, f\"msr_paraphrase_{split}.txt\")\n",
        "    sentence1s = []\n",
        "    sentence2s = []\n",
        "    labels = []\n",
        "    with open(filename) as f:\n",
        "        for i,line in enumerate(f):\n",
        "            if i == 0:\n",
        "                continue\n",
        "            row = line.split(\"\\t\")\n",
        "            sentence1 = row[3]\n",
        "            sentence2 = row[4]\n",
        "            label = row[0]\n",
        "            sentence1s.append(sentence1)\n",
        "            sentence2s.append(sentence2)\n",
        "            labels.append(int(label))\n",
        "    \n",
        "    return pd.DataFrame({\n",
        "        \"sentence1\": sentence1s,\n",
        "        \"sentence2\" : sentence2s,\n",
        "        \"label\" : labels\n",
        "    })\n",
        "\n",
        "\n",
        "mrpc_train_df = load_mrpc_dataset(\"train\")\n",
        "mrpc_train_df, mrpc_val_df = train_test_split(mrpc_train_df, test_size=0.1, random_state=42)\n",
        "mrpc_test_df = load_mrpc_dataset(\"test\")\n",
        "\n",
        "print(f\"Number of Training Examples: {len(mrpc_train_df)}\")\n",
        "print(f\"Number of Validation Examples: {len(mrpc_val_df)}\")\n",
        "print(f\"Number of Test Examples: {len(mrpc_test_df)}\")"
      ],
      "id": "b5c990ee"
    },
    {
      "cell_type": "code",
      "execution_count": 6,
      "metadata": {
        "id": "181cbceb",
        "colab": {
          "base_uri": "https://localhost:8080/",
          "height": 206
        },
        "outputId": "60a63bd4-e99a-4a9c-8e47-879f8afb743b"
      },
      "outputs": [
        {
          "output_type": "execute_result",
          "data": {
            "text/plain": [
              "                                              sentence1  \\\n",
              "1789  No Americans were reported among the casualtie...   \n",
              "393   Microsoft is preparing to alter its Internet E...   \n",
              "2390  \"This fire is going to have a great potential ...   \n",
              "1940  Federal offices were to remain closed for a se...   \n",
              "170   In Canada, the booming dollar will be in focus...   \n",
              "\n",
              "                                              sentence2  label  \n",
              "1789  None of the casualties was Americans, said Cap...      1  \n",
              "393   Microsoft Corp. is preparing changes to its In...      1  \n",
              "2390  \"The fire is going to have great potential to ...      1  \n",
              "1940  The Government shut down in Washington, and fe...      1  \n",
              "170   In Canada, the surging dollar was in focus aga...      1  "
            ],
            "text/html": [
              "\n",
              "  <div id=\"df-41960559-bb60-4b8b-8571-3406f2d3ee0d\">\n",
              "    <div class=\"colab-df-container\">\n",
              "      <div>\n",
              "<style scoped>\n",
              "    .dataframe tbody tr th:only-of-type {\n",
              "        vertical-align: middle;\n",
              "    }\n",
              "\n",
              "    .dataframe tbody tr th {\n",
              "        vertical-align: top;\n",
              "    }\n",
              "\n",
              "    .dataframe thead th {\n",
              "        text-align: right;\n",
              "    }\n",
              "</style>\n",
              "<table border=\"1\" class=\"dataframe\">\n",
              "  <thead>\n",
              "    <tr style=\"text-align: right;\">\n",
              "      <th></th>\n",
              "      <th>sentence1</th>\n",
              "      <th>sentence2</th>\n",
              "      <th>label</th>\n",
              "    </tr>\n",
              "  </thead>\n",
              "  <tbody>\n",
              "    <tr>\n",
              "      <th>1789</th>\n",
              "      <td>No Americans were reported among the casualtie...</td>\n",
              "      <td>None of the casualties was Americans, said Cap...</td>\n",
              "      <td>1</td>\n",
              "    </tr>\n",
              "    <tr>\n",
              "      <th>393</th>\n",
              "      <td>Microsoft is preparing to alter its Internet E...</td>\n",
              "      <td>Microsoft Corp. is preparing changes to its In...</td>\n",
              "      <td>1</td>\n",
              "    </tr>\n",
              "    <tr>\n",
              "      <th>2390</th>\n",
              "      <td>\"This fire is going to have a great potential ...</td>\n",
              "      <td>\"The fire is going to have great potential to ...</td>\n",
              "      <td>1</td>\n",
              "    </tr>\n",
              "    <tr>\n",
              "      <th>1940</th>\n",
              "      <td>Federal offices were to remain closed for a se...</td>\n",
              "      <td>The Government shut down in Washington, and fe...</td>\n",
              "      <td>1</td>\n",
              "    </tr>\n",
              "    <tr>\n",
              "      <th>170</th>\n",
              "      <td>In Canada, the booming dollar will be in focus...</td>\n",
              "      <td>In Canada, the surging dollar was in focus aga...</td>\n",
              "      <td>1</td>\n",
              "    </tr>\n",
              "  </tbody>\n",
              "</table>\n",
              "</div>\n",
              "      <button class=\"colab-df-convert\" onclick=\"convertToInteractive('df-41960559-bb60-4b8b-8571-3406f2d3ee0d')\"\n",
              "              title=\"Convert this dataframe to an interactive table.\"\n",
              "              style=\"display:none;\">\n",
              "        \n",
              "  <svg xmlns=\"http://www.w3.org/2000/svg\" height=\"24px\"viewBox=\"0 0 24 24\"\n",
              "       width=\"24px\">\n",
              "    <path d=\"M0 0h24v24H0V0z\" fill=\"none\"/>\n",
              "    <path d=\"M18.56 5.44l.94 2.06.94-2.06 2.06-.94-2.06-.94-.94-2.06-.94 2.06-2.06.94zm-11 1L8.5 8.5l.94-2.06 2.06-.94-2.06-.94L8.5 2.5l-.94 2.06-2.06.94zm10 10l.94 2.06.94-2.06 2.06-.94-2.06-.94-.94-2.06-.94 2.06-2.06.94z\"/><path d=\"M17.41 7.96l-1.37-1.37c-.4-.4-.92-.59-1.43-.59-.52 0-1.04.2-1.43.59L10.3 9.45l-7.72 7.72c-.78.78-.78 2.05 0 2.83L4 21.41c.39.39.9.59 1.41.59.51 0 1.02-.2 1.41-.59l7.78-7.78 2.81-2.81c.8-.78.8-2.07 0-2.86zM5.41 20L4 18.59l7.72-7.72 1.47 1.35L5.41 20z\"/>\n",
              "  </svg>\n",
              "      </button>\n",
              "      \n",
              "  <style>\n",
              "    .colab-df-container {\n",
              "      display:flex;\n",
              "      flex-wrap:wrap;\n",
              "      gap: 12px;\n",
              "    }\n",
              "\n",
              "    .colab-df-convert {\n",
              "      background-color: #E8F0FE;\n",
              "      border: none;\n",
              "      border-radius: 50%;\n",
              "      cursor: pointer;\n",
              "      display: none;\n",
              "      fill: #1967D2;\n",
              "      height: 32px;\n",
              "      padding: 0 0 0 0;\n",
              "      width: 32px;\n",
              "    }\n",
              "\n",
              "    .colab-df-convert:hover {\n",
              "      background-color: #E2EBFA;\n",
              "      box-shadow: 0px 1px 2px rgba(60, 64, 67, 0.3), 0px 1px 3px 1px rgba(60, 64, 67, 0.15);\n",
              "      fill: #174EA6;\n",
              "    }\n",
              "\n",
              "    [theme=dark] .colab-df-convert {\n",
              "      background-color: #3B4455;\n",
              "      fill: #D2E3FC;\n",
              "    }\n",
              "\n",
              "    [theme=dark] .colab-df-convert:hover {\n",
              "      background-color: #434B5C;\n",
              "      box-shadow: 0px 1px 3px 1px rgba(0, 0, 0, 0.15);\n",
              "      filter: drop-shadow(0px 1px 2px rgba(0, 0, 0, 0.3));\n",
              "      fill: #FFFFFF;\n",
              "    }\n",
              "  </style>\n",
              "\n",
              "      <script>\n",
              "        const buttonEl =\n",
              "          document.querySelector('#df-41960559-bb60-4b8b-8571-3406f2d3ee0d button.colab-df-convert');\n",
              "        buttonEl.style.display =\n",
              "          google.colab.kernel.accessAllowed ? 'block' : 'none';\n",
              "\n",
              "        async function convertToInteractive(key) {\n",
              "          const element = document.querySelector('#df-41960559-bb60-4b8b-8571-3406f2d3ee0d');\n",
              "          const dataTable =\n",
              "            await google.colab.kernel.invokeFunction('convertToInteractive',\n",
              "                                                     [key], {});\n",
              "          if (!dataTable) return;\n",
              "\n",
              "          const docLinkHtml = 'Like what you see? Visit the ' +\n",
              "            '<a target=\"_blank\" href=https://colab.research.google.com/notebooks/data_table.ipynb>data table notebook</a>'\n",
              "            + ' to learn more about interactive tables.';\n",
              "          element.innerHTML = '';\n",
              "          dataTable['output_type'] = 'display_data';\n",
              "          await google.colab.output.renderOutput(dataTable, element);\n",
              "          const docLink = document.createElement('div');\n",
              "          docLink.innerHTML = docLinkHtml;\n",
              "          element.appendChild(docLink);\n",
              "        }\n",
              "      </script>\n",
              "    </div>\n",
              "  </div>\n",
              "  "
            ]
          },
          "metadata": {},
          "execution_count": 6
        }
      ],
      "source": [
        "mrpc_train_df.head()"
      ],
      "id": "181cbceb"
    },
    {
      "cell_type": "markdown",
      "metadata": {
        "id": "15e8ab0f"
      },
      "source": [
        "The `\"sentence1\"` and `\"sentence2\"` contain the two sentences respectively, and the `\"label\"` column contains the label where 1 indicates the two sentences are paraphrases and 0 otherwise."
      ],
      "id": "15e8ab0f"
    },
    {
      "cell_type": "markdown",
      "metadata": {
        "id": "4c9ddfb8"
      },
      "source": [
        "From here we remove the training wheels and ask you to implement the fine-tuning pipeline for this task yourself. As mentioned before there will be very few changes needed over the functions/classes we have already defined for fine-tuning on SST-2 dataset. We will evaluate based on whether you could fine-tune the model on the MRPC dataset and evaluate it on its test set. You should expect an accuracy of about ~83% on the test set."
      ],
      "id": "4c9ddfb8"
    },
    {
      "cell_type": "code",
      "execution_count": 17,
      "metadata": {
        "id": "5ef516c5"
      },
      "outputs": [],
      "source": [
        "seq_len = 128\n",
        "batch_size = 16\n",
        "\n",
        "train_sentences, train_labels = mrpc_train_df[\"sentence1\"].values+\"[SEP]\"+mrpc_train_df[\"sentence2\"].values, mrpc_train_df[\"label\"].values\n",
        "val_sentences, val_labels = mrpc_val_df[\"sentence1\"].values+\"[SEP]\"+mrpc_val_df[\"sentence2\"].values, mrpc_val_df[\"label\"].values\n",
        "test_sentences, test_labels = mrpc_test_df[\"sentence1\"].values+\"[SEP]\"+mrpc_test_df[\"sentence2\"].values, mrpc_test_df[\"label\"].values\n",
        "\n",
        "train_dataset = SST2BertDataset(train_sentences, train_labels, seq_len=seq_len)\n",
        "val_dataset = SST2BertDataset(val_sentences, val_labels, seq_len=seq_len)\n",
        "test_dataset = SST2BertDataset(test_sentences, test_labels, seq_len=seq_len)\n",
        "\n",
        "train_loader = DataLoader(train_dataset, batch_size=batch_size)\n",
        "val_loader = DataLoader(val_dataset, batch_size=batch_size)\n",
        "test_loader = DataLoader(test_dataset, batch_size=batch_size)"
      ],
      "id": "5ef516c5"
    },
    {
      "cell_type": "code",
      "source": [
        "model = BertClassifierModel()\n",
        "best_model, best_val_acc = train(model, train_loader, val_loader, num_epochs = 3, device = \"cuda\")"
      ],
      "metadata": {
        "colab": {
          "base_uri": "https://localhost:8080/"
        },
        "id": "5mg_OH-frSsw",
        "outputId": "b1922400-86f2-42c2-aff6-1fc972a3e384"
      },
      "id": "5mg_OH-frSsw",
      "execution_count": 20,
      "outputs": [
        {
          "output_type": "stream",
          "name": "stderr",
          "text": [
            "Some weights of the model checkpoint at bert-base-uncased were not used when initializing BertModel: ['cls.predictions.transform.dense.bias', 'cls.predictions.transform.LayerNorm.bias', 'cls.seq_relationship.bias', 'cls.seq_relationship.weight', 'cls.predictions.bias', 'cls.predictions.transform.LayerNorm.weight', 'cls.predictions.transform.dense.weight', 'cls.predictions.decoder.weight']\n",
            "- This IS expected if you are initializing BertModel from the checkpoint of a model trained on another task or with another architecture (e.g. initializing a BertForSequenceClassification model from a BertForPreTraining model).\n",
            "- This IS NOT expected if you are initializing BertModel from the checkpoint of a model that you expect to be exactly identical (initializing a BertForSequenceClassification model from a BertForSequenceClassification model).\n",
            "  0%|          | 0/230 [00:00<?, ?it/s]/usr/local/lib/python3.7/dist-packages/ipykernel_launcher.py:114: UserWarning: To copy construct from a tensor, it is recommended to use sourceTensor.clone().detach() or sourceTensor.clone().detach().requires_grad_(True), rather than torch.tensor(sourceTensor).\n",
            "/usr/local/lib/python3.7/dist-packages/ipykernel_launcher.py:115: UserWarning: To copy construct from a tensor, it is recommended to use sourceTensor.clone().detach() or sourceTensor.clone().detach().requires_grad_(True), rather than torch.tensor(sourceTensor).\n",
            "100%|██████████| 230/230 [02:49<00:00,  1.36it/s]\n"
          ]
        },
        {
          "output_type": "stream",
          "name": "stdout",
          "text": [
            "Evaluating\n"
          ]
        },
        {
          "output_type": "stream",
          "name": "stderr",
          "text": [
            "/usr/local/lib/python3.7/dist-packages/ipykernel_launcher.py:27: UserWarning: To copy construct from a tensor, it is recommended to use sourceTensor.clone().detach() or sourceTensor.clone().detach().requires_grad_(True), rather than torch.tensor(sourceTensor).\n",
            "/usr/local/lib/python3.7/dist-packages/ipykernel_launcher.py:28: UserWarning: To copy construct from a tensor, it is recommended to use sourceTensor.clone().detach() or sourceTensor.clone().detach().requires_grad_(True), rather than torch.tensor(sourceTensor).\n"
          ]
        },
        {
          "output_type": "stream",
          "name": "stdout",
          "text": [
            "Epoch 0 completed | Average Training Loss: 0.5677496584861175 | Validation Accuracy: 0.7980769230769231\n"
          ]
        },
        {
          "output_type": "stream",
          "name": "stderr",
          "text": [
            "100%|██████████| 230/230 [02:48<00:00,  1.37it/s]\n"
          ]
        },
        {
          "output_type": "stream",
          "name": "stdout",
          "text": [
            "Evaluating\n",
            "Epoch 1 completed | Average Training Loss: 0.3825737151438775 | Validation Accuracy: 0.8125\n"
          ]
        },
        {
          "output_type": "stream",
          "name": "stderr",
          "text": [
            "100%|██████████| 230/230 [02:48<00:00,  1.37it/s]\n"
          ]
        },
        {
          "output_type": "stream",
          "name": "stdout",
          "text": [
            "Evaluating\n",
            "Epoch 2 completed | Average Training Loss: 0.24170980938588796 | Validation Accuracy: 0.8100961538461539\n"
          ]
        }
      ]
    },
    {
      "cell_type": "code",
      "source": [
        "print('Validation accuracy :',best_val_acc)"
      ],
      "metadata": {
        "colab": {
          "base_uri": "https://localhost:8080/"
        },
        "id": "WyGKXWlhruPw",
        "outputId": "5b886e11-77e4-4442-e147-b0e158c5ce3f"
      },
      "id": "WyGKXWlhruPw",
      "execution_count": 21,
      "outputs": [
        {
          "output_type": "stream",
          "name": "stdout",
          "text": [
            "Validation accuracy : 0.8125\n"
          ]
        }
      ]
    },
    {
      "cell_type": "code",
      "source": [
        ""
      ],
      "metadata": {
        "id": "z8mOEn4bwFaW"
      },
      "id": "z8mOEn4bwFaW",
      "execution_count": null,
      "outputs": []
    }
  ],
  "metadata": {
    "accelerator": "GPU",
    "colab": {
      "name": "Assignment3.ipynb",
      "provenance": [],
      "collapsed_sections": []
    },
    "kernelspec": {
      "display_name": "Python 3 (ipykernel)",
      "language": "python",
      "name": "python3"
    },
    "language_info": {
      "codemirror_mode": {
        "name": "ipython",
        "version": 3
      },
      "file_extension": ".py",
      "mimetype": "text/x-python",
      "name": "python",
      "nbconvert_exporter": "python",
      "pygments_lexer": "ipython3",
      "version": "3.9.7"
    },
    "widgets": {
      "application/vnd.jupyter.widget-state+json": {
        "1c47d55f605843a2be5a5b6c5265d1f8": {
          "model_module": "@jupyter-widgets/controls",
          "model_name": "HBoxModel",
          "model_module_version": "1.5.0",
          "state": {
            "_dom_classes": [],
            "_model_module": "@jupyter-widgets/controls",
            "_model_module_version": "1.5.0",
            "_model_name": "HBoxModel",
            "_view_count": null,
            "_view_module": "@jupyter-widgets/controls",
            "_view_module_version": "1.5.0",
            "_view_name": "HBoxView",
            "box_style": "",
            "children": [
              "IPY_MODEL_777ea8fdb2334dccbdedf0d3f98c141e",
              "IPY_MODEL_7d7328abf50844a5b349008cdf541176",
              "IPY_MODEL_8aeede967fa94eda815214b3f313f878"
            ],
            "layout": "IPY_MODEL_1c2c1924f1774bc8b53c1a1b6e418f34"
          }
        },
        "777ea8fdb2334dccbdedf0d3f98c141e": {
          "model_module": "@jupyter-widgets/controls",
          "model_name": "HTMLModel",
          "model_module_version": "1.5.0",
          "state": {
            "_dom_classes": [],
            "_model_module": "@jupyter-widgets/controls",
            "_model_module_version": "1.5.0",
            "_model_name": "HTMLModel",
            "_view_count": null,
            "_view_module": "@jupyter-widgets/controls",
            "_view_module_version": "1.5.0",
            "_view_name": "HTMLView",
            "description": "",
            "description_tooltip": null,
            "layout": "IPY_MODEL_a55ff66bbaee4ae8a3e932ccc2530f66",
            "placeholder": "​",
            "style": "IPY_MODEL_6c947bc1281f4a2ea28efc6427b060eb",
            "value": "Downloading: 100%"
          }
        },
        "7d7328abf50844a5b349008cdf541176": {
          "model_module": "@jupyter-widgets/controls",
          "model_name": "FloatProgressModel",
          "model_module_version": "1.5.0",
          "state": {
            "_dom_classes": [],
            "_model_module": "@jupyter-widgets/controls",
            "_model_module_version": "1.5.0",
            "_model_name": "FloatProgressModel",
            "_view_count": null,
            "_view_module": "@jupyter-widgets/controls",
            "_view_module_version": "1.5.0",
            "_view_name": "ProgressView",
            "bar_style": "success",
            "description": "",
            "description_tooltip": null,
            "layout": "IPY_MODEL_7d2e7c7f0abf41d283a8f472d9d07abe",
            "max": 231508,
            "min": 0,
            "orientation": "horizontal",
            "style": "IPY_MODEL_82b1880d694047a38ebc85c4ab2e673c",
            "value": 231508
          }
        },
        "8aeede967fa94eda815214b3f313f878": {
          "model_module": "@jupyter-widgets/controls",
          "model_name": "HTMLModel",
          "model_module_version": "1.5.0",
          "state": {
            "_dom_classes": [],
            "_model_module": "@jupyter-widgets/controls",
            "_model_module_version": "1.5.0",
            "_model_name": "HTMLModel",
            "_view_count": null,
            "_view_module": "@jupyter-widgets/controls",
            "_view_module_version": "1.5.0",
            "_view_name": "HTMLView",
            "description": "",
            "description_tooltip": null,
            "layout": "IPY_MODEL_db5791e6950d4512869d6009b27d35d3",
            "placeholder": "​",
            "style": "IPY_MODEL_12b3e2d498f44bc08380c5b32af8493a",
            "value": " 226k/226k [00:00&lt;00:00, 6.52kB/s]"
          }
        },
        "1c2c1924f1774bc8b53c1a1b6e418f34": {
          "model_module": "@jupyter-widgets/base",
          "model_name": "LayoutModel",
          "model_module_version": "1.2.0",
          "state": {
            "_model_module": "@jupyter-widgets/base",
            "_model_module_version": "1.2.0",
            "_model_name": "LayoutModel",
            "_view_count": null,
            "_view_module": "@jupyter-widgets/base",
            "_view_module_version": "1.2.0",
            "_view_name": "LayoutView",
            "align_content": null,
            "align_items": null,
            "align_self": null,
            "border": null,
            "bottom": null,
            "display": null,
            "flex": null,
            "flex_flow": null,
            "grid_area": null,
            "grid_auto_columns": null,
            "grid_auto_flow": null,
            "grid_auto_rows": null,
            "grid_column": null,
            "grid_gap": null,
            "grid_row": null,
            "grid_template_areas": null,
            "grid_template_columns": null,
            "grid_template_rows": null,
            "height": null,
            "justify_content": null,
            "justify_items": null,
            "left": null,
            "margin": null,
            "max_height": null,
            "max_width": null,
            "min_height": null,
            "min_width": null,
            "object_fit": null,
            "object_position": null,
            "order": null,
            "overflow": null,
            "overflow_x": null,
            "overflow_y": null,
            "padding": null,
            "right": null,
            "top": null,
            "visibility": null,
            "width": null
          }
        },
        "a55ff66bbaee4ae8a3e932ccc2530f66": {
          "model_module": "@jupyter-widgets/base",
          "model_name": "LayoutModel",
          "model_module_version": "1.2.0",
          "state": {
            "_model_module": "@jupyter-widgets/base",
            "_model_module_version": "1.2.0",
            "_model_name": "LayoutModel",
            "_view_count": null,
            "_view_module": "@jupyter-widgets/base",
            "_view_module_version": "1.2.0",
            "_view_name": "LayoutView",
            "align_content": null,
            "align_items": null,
            "align_self": null,
            "border": null,
            "bottom": null,
            "display": null,
            "flex": null,
            "flex_flow": null,
            "grid_area": null,
            "grid_auto_columns": null,
            "grid_auto_flow": null,
            "grid_auto_rows": null,
            "grid_column": null,
            "grid_gap": null,
            "grid_row": null,
            "grid_template_areas": null,
            "grid_template_columns": null,
            "grid_template_rows": null,
            "height": null,
            "justify_content": null,
            "justify_items": null,
            "left": null,
            "margin": null,
            "max_height": null,
            "max_width": null,
            "min_height": null,
            "min_width": null,
            "object_fit": null,
            "object_position": null,
            "order": null,
            "overflow": null,
            "overflow_x": null,
            "overflow_y": null,
            "padding": null,
            "right": null,
            "top": null,
            "visibility": null,
            "width": null
          }
        },
        "6c947bc1281f4a2ea28efc6427b060eb": {
          "model_module": "@jupyter-widgets/controls",
          "model_name": "DescriptionStyleModel",
          "model_module_version": "1.5.0",
          "state": {
            "_model_module": "@jupyter-widgets/controls",
            "_model_module_version": "1.5.0",
            "_model_name": "DescriptionStyleModel",
            "_view_count": null,
            "_view_module": "@jupyter-widgets/base",
            "_view_module_version": "1.2.0",
            "_view_name": "StyleView",
            "description_width": ""
          }
        },
        "7d2e7c7f0abf41d283a8f472d9d07abe": {
          "model_module": "@jupyter-widgets/base",
          "model_name": "LayoutModel",
          "model_module_version": "1.2.0",
          "state": {
            "_model_module": "@jupyter-widgets/base",
            "_model_module_version": "1.2.0",
            "_model_name": "LayoutModel",
            "_view_count": null,
            "_view_module": "@jupyter-widgets/base",
            "_view_module_version": "1.2.0",
            "_view_name": "LayoutView",
            "align_content": null,
            "align_items": null,
            "align_self": null,
            "border": null,
            "bottom": null,
            "display": null,
            "flex": null,
            "flex_flow": null,
            "grid_area": null,
            "grid_auto_columns": null,
            "grid_auto_flow": null,
            "grid_auto_rows": null,
            "grid_column": null,
            "grid_gap": null,
            "grid_row": null,
            "grid_template_areas": null,
            "grid_template_columns": null,
            "grid_template_rows": null,
            "height": null,
            "justify_content": null,
            "justify_items": null,
            "left": null,
            "margin": null,
            "max_height": null,
            "max_width": null,
            "min_height": null,
            "min_width": null,
            "object_fit": null,
            "object_position": null,
            "order": null,
            "overflow": null,
            "overflow_x": null,
            "overflow_y": null,
            "padding": null,
            "right": null,
            "top": null,
            "visibility": null,
            "width": null
          }
        },
        "82b1880d694047a38ebc85c4ab2e673c": {
          "model_module": "@jupyter-widgets/controls",
          "model_name": "ProgressStyleModel",
          "model_module_version": "1.5.0",
          "state": {
            "_model_module": "@jupyter-widgets/controls",
            "_model_module_version": "1.5.0",
            "_model_name": "ProgressStyleModel",
            "_view_count": null,
            "_view_module": "@jupyter-widgets/base",
            "_view_module_version": "1.2.0",
            "_view_name": "StyleView",
            "bar_color": null,
            "description_width": ""
          }
        },
        "db5791e6950d4512869d6009b27d35d3": {
          "model_module": "@jupyter-widgets/base",
          "model_name": "LayoutModel",
          "model_module_version": "1.2.0",
          "state": {
            "_model_module": "@jupyter-widgets/base",
            "_model_module_version": "1.2.0",
            "_model_name": "LayoutModel",
            "_view_count": null,
            "_view_module": "@jupyter-widgets/base",
            "_view_module_version": "1.2.0",
            "_view_name": "LayoutView",
            "align_content": null,
            "align_items": null,
            "align_self": null,
            "border": null,
            "bottom": null,
            "display": null,
            "flex": null,
            "flex_flow": null,
            "grid_area": null,
            "grid_auto_columns": null,
            "grid_auto_flow": null,
            "grid_auto_rows": null,
            "grid_column": null,
            "grid_gap": null,
            "grid_row": null,
            "grid_template_areas": null,
            "grid_template_columns": null,
            "grid_template_rows": null,
            "height": null,
            "justify_content": null,
            "justify_items": null,
            "left": null,
            "margin": null,
            "max_height": null,
            "max_width": null,
            "min_height": null,
            "min_width": null,
            "object_fit": null,
            "object_position": null,
            "order": null,
            "overflow": null,
            "overflow_x": null,
            "overflow_y": null,
            "padding": null,
            "right": null,
            "top": null,
            "visibility": null,
            "width": null
          }
        },
        "12b3e2d498f44bc08380c5b32af8493a": {
          "model_module": "@jupyter-widgets/controls",
          "model_name": "DescriptionStyleModel",
          "model_module_version": "1.5.0",
          "state": {
            "_model_module": "@jupyter-widgets/controls",
            "_model_module_version": "1.5.0",
            "_model_name": "DescriptionStyleModel",
            "_view_count": null,
            "_view_module": "@jupyter-widgets/base",
            "_view_module_version": "1.2.0",
            "_view_name": "StyleView",
            "description_width": ""
          }
        },
        "bb93d9ca4921474d82deadfdb34ecfe7": {
          "model_module": "@jupyter-widgets/controls",
          "model_name": "HBoxModel",
          "model_module_version": "1.5.0",
          "state": {
            "_dom_classes": [],
            "_model_module": "@jupyter-widgets/controls",
            "_model_module_version": "1.5.0",
            "_model_name": "HBoxModel",
            "_view_count": null,
            "_view_module": "@jupyter-widgets/controls",
            "_view_module_version": "1.5.0",
            "_view_name": "HBoxView",
            "box_style": "",
            "children": [
              "IPY_MODEL_43741a08b9c5433cb4ebf3d6984deff9",
              "IPY_MODEL_4b579aa020504386920e28b342251b01",
              "IPY_MODEL_b4e4dff91b274ff5bb89a4dfc17be957"
            ],
            "layout": "IPY_MODEL_37df516a05714e368aac07e343174831"
          }
        },
        "43741a08b9c5433cb4ebf3d6984deff9": {
          "model_module": "@jupyter-widgets/controls",
          "model_name": "HTMLModel",
          "model_module_version": "1.5.0",
          "state": {
            "_dom_classes": [],
            "_model_module": "@jupyter-widgets/controls",
            "_model_module_version": "1.5.0",
            "_model_name": "HTMLModel",
            "_view_count": null,
            "_view_module": "@jupyter-widgets/controls",
            "_view_module_version": "1.5.0",
            "_view_name": "HTMLView",
            "description": "",
            "description_tooltip": null,
            "layout": "IPY_MODEL_5f9c72bf27cb4ff2828eb45daeb611c2",
            "placeholder": "​",
            "style": "IPY_MODEL_b7f7b159a83a4d93be2513f32a3a558f",
            "value": "Downloading: 100%"
          }
        },
        "4b579aa020504386920e28b342251b01": {
          "model_module": "@jupyter-widgets/controls",
          "model_name": "FloatProgressModel",
          "model_module_version": "1.5.0",
          "state": {
            "_dom_classes": [],
            "_model_module": "@jupyter-widgets/controls",
            "_model_module_version": "1.5.0",
            "_model_name": "FloatProgressModel",
            "_view_count": null,
            "_view_module": "@jupyter-widgets/controls",
            "_view_module_version": "1.5.0",
            "_view_name": "ProgressView",
            "bar_style": "success",
            "description": "",
            "description_tooltip": null,
            "layout": "IPY_MODEL_611a86efd2cb44538f0a8b2a34cd4a19",
            "max": 28,
            "min": 0,
            "orientation": "horizontal",
            "style": "IPY_MODEL_75e29a56219545eab7b4548fbb0912a3",
            "value": 28
          }
        },
        "b4e4dff91b274ff5bb89a4dfc17be957": {
          "model_module": "@jupyter-widgets/controls",
          "model_name": "HTMLModel",
          "model_module_version": "1.5.0",
          "state": {
            "_dom_classes": [],
            "_model_module": "@jupyter-widgets/controls",
            "_model_module_version": "1.5.0",
            "_model_name": "HTMLModel",
            "_view_count": null,
            "_view_module": "@jupyter-widgets/controls",
            "_view_module_version": "1.5.0",
            "_view_name": "HTMLView",
            "description": "",
            "description_tooltip": null,
            "layout": "IPY_MODEL_ad43f78d47d845ceaa4ff360f8521053",
            "placeholder": "​",
            "style": "IPY_MODEL_d4b7b3b34b0c4a8888e41de26982b11b",
            "value": " 28.0/28.0 [00:00&lt;00:00, 462B/s]"
          }
        },
        "37df516a05714e368aac07e343174831": {
          "model_module": "@jupyter-widgets/base",
          "model_name": "LayoutModel",
          "model_module_version": "1.2.0",
          "state": {
            "_model_module": "@jupyter-widgets/base",
            "_model_module_version": "1.2.0",
            "_model_name": "LayoutModel",
            "_view_count": null,
            "_view_module": "@jupyter-widgets/base",
            "_view_module_version": "1.2.0",
            "_view_name": "LayoutView",
            "align_content": null,
            "align_items": null,
            "align_self": null,
            "border": null,
            "bottom": null,
            "display": null,
            "flex": null,
            "flex_flow": null,
            "grid_area": null,
            "grid_auto_columns": null,
            "grid_auto_flow": null,
            "grid_auto_rows": null,
            "grid_column": null,
            "grid_gap": null,
            "grid_row": null,
            "grid_template_areas": null,
            "grid_template_columns": null,
            "grid_template_rows": null,
            "height": null,
            "justify_content": null,
            "justify_items": null,
            "left": null,
            "margin": null,
            "max_height": null,
            "max_width": null,
            "min_height": null,
            "min_width": null,
            "object_fit": null,
            "object_position": null,
            "order": null,
            "overflow": null,
            "overflow_x": null,
            "overflow_y": null,
            "padding": null,
            "right": null,
            "top": null,
            "visibility": null,
            "width": null
          }
        },
        "5f9c72bf27cb4ff2828eb45daeb611c2": {
          "model_module": "@jupyter-widgets/base",
          "model_name": "LayoutModel",
          "model_module_version": "1.2.0",
          "state": {
            "_model_module": "@jupyter-widgets/base",
            "_model_module_version": "1.2.0",
            "_model_name": "LayoutModel",
            "_view_count": null,
            "_view_module": "@jupyter-widgets/base",
            "_view_module_version": "1.2.0",
            "_view_name": "LayoutView",
            "align_content": null,
            "align_items": null,
            "align_self": null,
            "border": null,
            "bottom": null,
            "display": null,
            "flex": null,
            "flex_flow": null,
            "grid_area": null,
            "grid_auto_columns": null,
            "grid_auto_flow": null,
            "grid_auto_rows": null,
            "grid_column": null,
            "grid_gap": null,
            "grid_row": null,
            "grid_template_areas": null,
            "grid_template_columns": null,
            "grid_template_rows": null,
            "height": null,
            "justify_content": null,
            "justify_items": null,
            "left": null,
            "margin": null,
            "max_height": null,
            "max_width": null,
            "min_height": null,
            "min_width": null,
            "object_fit": null,
            "object_position": null,
            "order": null,
            "overflow": null,
            "overflow_x": null,
            "overflow_y": null,
            "padding": null,
            "right": null,
            "top": null,
            "visibility": null,
            "width": null
          }
        },
        "b7f7b159a83a4d93be2513f32a3a558f": {
          "model_module": "@jupyter-widgets/controls",
          "model_name": "DescriptionStyleModel",
          "model_module_version": "1.5.0",
          "state": {
            "_model_module": "@jupyter-widgets/controls",
            "_model_module_version": "1.5.0",
            "_model_name": "DescriptionStyleModel",
            "_view_count": null,
            "_view_module": "@jupyter-widgets/base",
            "_view_module_version": "1.2.0",
            "_view_name": "StyleView",
            "description_width": ""
          }
        },
        "611a86efd2cb44538f0a8b2a34cd4a19": {
          "model_module": "@jupyter-widgets/base",
          "model_name": "LayoutModel",
          "model_module_version": "1.2.0",
          "state": {
            "_model_module": "@jupyter-widgets/base",
            "_model_module_version": "1.2.0",
            "_model_name": "LayoutModel",
            "_view_count": null,
            "_view_module": "@jupyter-widgets/base",
            "_view_module_version": "1.2.0",
            "_view_name": "LayoutView",
            "align_content": null,
            "align_items": null,
            "align_self": null,
            "border": null,
            "bottom": null,
            "display": null,
            "flex": null,
            "flex_flow": null,
            "grid_area": null,
            "grid_auto_columns": null,
            "grid_auto_flow": null,
            "grid_auto_rows": null,
            "grid_column": null,
            "grid_gap": null,
            "grid_row": null,
            "grid_template_areas": null,
            "grid_template_columns": null,
            "grid_template_rows": null,
            "height": null,
            "justify_content": null,
            "justify_items": null,
            "left": null,
            "margin": null,
            "max_height": null,
            "max_width": null,
            "min_height": null,
            "min_width": null,
            "object_fit": null,
            "object_position": null,
            "order": null,
            "overflow": null,
            "overflow_x": null,
            "overflow_y": null,
            "padding": null,
            "right": null,
            "top": null,
            "visibility": null,
            "width": null
          }
        },
        "75e29a56219545eab7b4548fbb0912a3": {
          "model_module": "@jupyter-widgets/controls",
          "model_name": "ProgressStyleModel",
          "model_module_version": "1.5.0",
          "state": {
            "_model_module": "@jupyter-widgets/controls",
            "_model_module_version": "1.5.0",
            "_model_name": "ProgressStyleModel",
            "_view_count": null,
            "_view_module": "@jupyter-widgets/base",
            "_view_module_version": "1.2.0",
            "_view_name": "StyleView",
            "bar_color": null,
            "description_width": ""
          }
        },
        "ad43f78d47d845ceaa4ff360f8521053": {
          "model_module": "@jupyter-widgets/base",
          "model_name": "LayoutModel",
          "model_module_version": "1.2.0",
          "state": {
            "_model_module": "@jupyter-widgets/base",
            "_model_module_version": "1.2.0",
            "_model_name": "LayoutModel",
            "_view_count": null,
            "_view_module": "@jupyter-widgets/base",
            "_view_module_version": "1.2.0",
            "_view_name": "LayoutView",
            "align_content": null,
            "align_items": null,
            "align_self": null,
            "border": null,
            "bottom": null,
            "display": null,
            "flex": null,
            "flex_flow": null,
            "grid_area": null,
            "grid_auto_columns": null,
            "grid_auto_flow": null,
            "grid_auto_rows": null,
            "grid_column": null,
            "grid_gap": null,
            "grid_row": null,
            "grid_template_areas": null,
            "grid_template_columns": null,
            "grid_template_rows": null,
            "height": null,
            "justify_content": null,
            "justify_items": null,
            "left": null,
            "margin": null,
            "max_height": null,
            "max_width": null,
            "min_height": null,
            "min_width": null,
            "object_fit": null,
            "object_position": null,
            "order": null,
            "overflow": null,
            "overflow_x": null,
            "overflow_y": null,
            "padding": null,
            "right": null,
            "top": null,
            "visibility": null,
            "width": null
          }
        },
        "d4b7b3b34b0c4a8888e41de26982b11b": {
          "model_module": "@jupyter-widgets/controls",
          "model_name": "DescriptionStyleModel",
          "model_module_version": "1.5.0",
          "state": {
            "_model_module": "@jupyter-widgets/controls",
            "_model_module_version": "1.5.0",
            "_model_name": "DescriptionStyleModel",
            "_view_count": null,
            "_view_module": "@jupyter-widgets/base",
            "_view_module_version": "1.2.0",
            "_view_name": "StyleView",
            "description_width": ""
          }
        },
        "f756cc1a89e04e9a90115fce4abb097e": {
          "model_module": "@jupyter-widgets/controls",
          "model_name": "HBoxModel",
          "model_module_version": "1.5.0",
          "state": {
            "_dom_classes": [],
            "_model_module": "@jupyter-widgets/controls",
            "_model_module_version": "1.5.0",
            "_model_name": "HBoxModel",
            "_view_count": null,
            "_view_module": "@jupyter-widgets/controls",
            "_view_module_version": "1.5.0",
            "_view_name": "HBoxView",
            "box_style": "",
            "children": [
              "IPY_MODEL_900d36cffe2941678845a165b4f89e95",
              "IPY_MODEL_f691fd8c87da40d8a1e09a3590e6f33a",
              "IPY_MODEL_13ff9a64bb144249a278f6be102b7fd9"
            ],
            "layout": "IPY_MODEL_d1ddc38c19864718aa4f5e65c818ccf4"
          }
        },
        "900d36cffe2941678845a165b4f89e95": {
          "model_module": "@jupyter-widgets/controls",
          "model_name": "HTMLModel",
          "model_module_version": "1.5.0",
          "state": {
            "_dom_classes": [],
            "_model_module": "@jupyter-widgets/controls",
            "_model_module_version": "1.5.0",
            "_model_name": "HTMLModel",
            "_view_count": null,
            "_view_module": "@jupyter-widgets/controls",
            "_view_module_version": "1.5.0",
            "_view_name": "HTMLView",
            "description": "",
            "description_tooltip": null,
            "layout": "IPY_MODEL_e228484782854c7c901548056d748dc6",
            "placeholder": "​",
            "style": "IPY_MODEL_7e7dd75ad24f41d7abee4abca2845ca0",
            "value": "Downloading: 100%"
          }
        },
        "f691fd8c87da40d8a1e09a3590e6f33a": {
          "model_module": "@jupyter-widgets/controls",
          "model_name": "FloatProgressModel",
          "model_module_version": "1.5.0",
          "state": {
            "_dom_classes": [],
            "_model_module": "@jupyter-widgets/controls",
            "_model_module_version": "1.5.0",
            "_model_name": "FloatProgressModel",
            "_view_count": null,
            "_view_module": "@jupyter-widgets/controls",
            "_view_module_version": "1.5.0",
            "_view_name": "ProgressView",
            "bar_style": "success",
            "description": "",
            "description_tooltip": null,
            "layout": "IPY_MODEL_7c5b2e37de654c93bf25af452dc832d3",
            "max": 570,
            "min": 0,
            "orientation": "horizontal",
            "style": "IPY_MODEL_9b3c8f77763e4daea30bfc9768e19a0e",
            "value": 570
          }
        },
        "13ff9a64bb144249a278f6be102b7fd9": {
          "model_module": "@jupyter-widgets/controls",
          "model_name": "HTMLModel",
          "model_module_version": "1.5.0",
          "state": {
            "_dom_classes": [],
            "_model_module": "@jupyter-widgets/controls",
            "_model_module_version": "1.5.0",
            "_model_name": "HTMLModel",
            "_view_count": null,
            "_view_module": "@jupyter-widgets/controls",
            "_view_module_version": "1.5.0",
            "_view_name": "HTMLView",
            "description": "",
            "description_tooltip": null,
            "layout": "IPY_MODEL_f36bbf3c5adf4f7cbaa88f8c758a3aa4",
            "placeholder": "​",
            "style": "IPY_MODEL_89972c632bdd41cea271a836c14e52f6",
            "value": " 570/570 [00:00&lt;00:00, 5.96kB/s]"
          }
        },
        "d1ddc38c19864718aa4f5e65c818ccf4": {
          "model_module": "@jupyter-widgets/base",
          "model_name": "LayoutModel",
          "model_module_version": "1.2.0",
          "state": {
            "_model_module": "@jupyter-widgets/base",
            "_model_module_version": "1.2.0",
            "_model_name": "LayoutModel",
            "_view_count": null,
            "_view_module": "@jupyter-widgets/base",
            "_view_module_version": "1.2.0",
            "_view_name": "LayoutView",
            "align_content": null,
            "align_items": null,
            "align_self": null,
            "border": null,
            "bottom": null,
            "display": null,
            "flex": null,
            "flex_flow": null,
            "grid_area": null,
            "grid_auto_columns": null,
            "grid_auto_flow": null,
            "grid_auto_rows": null,
            "grid_column": null,
            "grid_gap": null,
            "grid_row": null,
            "grid_template_areas": null,
            "grid_template_columns": null,
            "grid_template_rows": null,
            "height": null,
            "justify_content": null,
            "justify_items": null,
            "left": null,
            "margin": null,
            "max_height": null,
            "max_width": null,
            "min_height": null,
            "min_width": null,
            "object_fit": null,
            "object_position": null,
            "order": null,
            "overflow": null,
            "overflow_x": null,
            "overflow_y": null,
            "padding": null,
            "right": null,
            "top": null,
            "visibility": null,
            "width": null
          }
        },
        "e228484782854c7c901548056d748dc6": {
          "model_module": "@jupyter-widgets/base",
          "model_name": "LayoutModel",
          "model_module_version": "1.2.0",
          "state": {
            "_model_module": "@jupyter-widgets/base",
            "_model_module_version": "1.2.0",
            "_model_name": "LayoutModel",
            "_view_count": null,
            "_view_module": "@jupyter-widgets/base",
            "_view_module_version": "1.2.0",
            "_view_name": "LayoutView",
            "align_content": null,
            "align_items": null,
            "align_self": null,
            "border": null,
            "bottom": null,
            "display": null,
            "flex": null,
            "flex_flow": null,
            "grid_area": null,
            "grid_auto_columns": null,
            "grid_auto_flow": null,
            "grid_auto_rows": null,
            "grid_column": null,
            "grid_gap": null,
            "grid_row": null,
            "grid_template_areas": null,
            "grid_template_columns": null,
            "grid_template_rows": null,
            "height": null,
            "justify_content": null,
            "justify_items": null,
            "left": null,
            "margin": null,
            "max_height": null,
            "max_width": null,
            "min_height": null,
            "min_width": null,
            "object_fit": null,
            "object_position": null,
            "order": null,
            "overflow": null,
            "overflow_x": null,
            "overflow_y": null,
            "padding": null,
            "right": null,
            "top": null,
            "visibility": null,
            "width": null
          }
        },
        "7e7dd75ad24f41d7abee4abca2845ca0": {
          "model_module": "@jupyter-widgets/controls",
          "model_name": "DescriptionStyleModel",
          "model_module_version": "1.5.0",
          "state": {
            "_model_module": "@jupyter-widgets/controls",
            "_model_module_version": "1.5.0",
            "_model_name": "DescriptionStyleModel",
            "_view_count": null,
            "_view_module": "@jupyter-widgets/base",
            "_view_module_version": "1.2.0",
            "_view_name": "StyleView",
            "description_width": ""
          }
        },
        "7c5b2e37de654c93bf25af452dc832d3": {
          "model_module": "@jupyter-widgets/base",
          "model_name": "LayoutModel",
          "model_module_version": "1.2.0",
          "state": {
            "_model_module": "@jupyter-widgets/base",
            "_model_module_version": "1.2.0",
            "_model_name": "LayoutModel",
            "_view_count": null,
            "_view_module": "@jupyter-widgets/base",
            "_view_module_version": "1.2.0",
            "_view_name": "LayoutView",
            "align_content": null,
            "align_items": null,
            "align_self": null,
            "border": null,
            "bottom": null,
            "display": null,
            "flex": null,
            "flex_flow": null,
            "grid_area": null,
            "grid_auto_columns": null,
            "grid_auto_flow": null,
            "grid_auto_rows": null,
            "grid_column": null,
            "grid_gap": null,
            "grid_row": null,
            "grid_template_areas": null,
            "grid_template_columns": null,
            "grid_template_rows": null,
            "height": null,
            "justify_content": null,
            "justify_items": null,
            "left": null,
            "margin": null,
            "max_height": null,
            "max_width": null,
            "min_height": null,
            "min_width": null,
            "object_fit": null,
            "object_position": null,
            "order": null,
            "overflow": null,
            "overflow_x": null,
            "overflow_y": null,
            "padding": null,
            "right": null,
            "top": null,
            "visibility": null,
            "width": null
          }
        },
        "9b3c8f77763e4daea30bfc9768e19a0e": {
          "model_module": "@jupyter-widgets/controls",
          "model_name": "ProgressStyleModel",
          "model_module_version": "1.5.0",
          "state": {
            "_model_module": "@jupyter-widgets/controls",
            "_model_module_version": "1.5.0",
            "_model_name": "ProgressStyleModel",
            "_view_count": null,
            "_view_module": "@jupyter-widgets/base",
            "_view_module_version": "1.2.0",
            "_view_name": "StyleView",
            "bar_color": null,
            "description_width": ""
          }
        },
        "f36bbf3c5adf4f7cbaa88f8c758a3aa4": {
          "model_module": "@jupyter-widgets/base",
          "model_name": "LayoutModel",
          "model_module_version": "1.2.0",
          "state": {
            "_model_module": "@jupyter-widgets/base",
            "_model_module_version": "1.2.0",
            "_model_name": "LayoutModel",
            "_view_count": null,
            "_view_module": "@jupyter-widgets/base",
            "_view_module_version": "1.2.0",
            "_view_name": "LayoutView",
            "align_content": null,
            "align_items": null,
            "align_self": null,
            "border": null,
            "bottom": null,
            "display": null,
            "flex": null,
            "flex_flow": null,
            "grid_area": null,
            "grid_auto_columns": null,
            "grid_auto_flow": null,
            "grid_auto_rows": null,
            "grid_column": null,
            "grid_gap": null,
            "grid_row": null,
            "grid_template_areas": null,
            "grid_template_columns": null,
            "grid_template_rows": null,
            "height": null,
            "justify_content": null,
            "justify_items": null,
            "left": null,
            "margin": null,
            "max_height": null,
            "max_width": null,
            "min_height": null,
            "min_width": null,
            "object_fit": null,
            "object_position": null,
            "order": null,
            "overflow": null,
            "overflow_x": null,
            "overflow_y": null,
            "padding": null,
            "right": null,
            "top": null,
            "visibility": null,
            "width": null
          }
        },
        "89972c632bdd41cea271a836c14e52f6": {
          "model_module": "@jupyter-widgets/controls",
          "model_name": "DescriptionStyleModel",
          "model_module_version": "1.5.0",
          "state": {
            "_model_module": "@jupyter-widgets/controls",
            "_model_module_version": "1.5.0",
            "_model_name": "DescriptionStyleModel",
            "_view_count": null,
            "_view_module": "@jupyter-widgets/base",
            "_view_module_version": "1.2.0",
            "_view_name": "StyleView",
            "description_width": ""
          }
        },
        "78e53a44a6f9460693f8e91746ca662f": {
          "model_module": "@jupyter-widgets/controls",
          "model_name": "HBoxModel",
          "model_module_version": "1.5.0",
          "state": {
            "_dom_classes": [],
            "_model_module": "@jupyter-widgets/controls",
            "_model_module_version": "1.5.0",
            "_model_name": "HBoxModel",
            "_view_count": null,
            "_view_module": "@jupyter-widgets/controls",
            "_view_module_version": "1.5.0",
            "_view_name": "HBoxView",
            "box_style": "",
            "children": [
              "IPY_MODEL_13786fddf21e4d2393bb9d9b09c5248d",
              "IPY_MODEL_cc6d0cf66662477d8051fd8228916253",
              "IPY_MODEL_c70e57e4451f473eade911be1e4aaa74"
            ],
            "layout": "IPY_MODEL_a6be83e71c3b4911bb6781f3b9f5da4b"
          }
        },
        "13786fddf21e4d2393bb9d9b09c5248d": {
          "model_module": "@jupyter-widgets/controls",
          "model_name": "HTMLModel",
          "model_module_version": "1.5.0",
          "state": {
            "_dom_classes": [],
            "_model_module": "@jupyter-widgets/controls",
            "_model_module_version": "1.5.0",
            "_model_name": "HTMLModel",
            "_view_count": null,
            "_view_module": "@jupyter-widgets/controls",
            "_view_module_version": "1.5.0",
            "_view_name": "HTMLView",
            "description": "",
            "description_tooltip": null,
            "layout": "IPY_MODEL_ff0a57804c4e4f9a90e66cbb9728f7cf",
            "placeholder": "​",
            "style": "IPY_MODEL_f7be016a66b3469f83e83af5e6384663",
            "value": "Downloading: 100%"
          }
        },
        "cc6d0cf66662477d8051fd8228916253": {
          "model_module": "@jupyter-widgets/controls",
          "model_name": "FloatProgressModel",
          "model_module_version": "1.5.0",
          "state": {
            "_dom_classes": [],
            "_model_module": "@jupyter-widgets/controls",
            "_model_module_version": "1.5.0",
            "_model_name": "FloatProgressModel",
            "_view_count": null,
            "_view_module": "@jupyter-widgets/controls",
            "_view_module_version": "1.5.0",
            "_view_name": "ProgressView",
            "bar_style": "success",
            "description": "",
            "description_tooltip": null,
            "layout": "IPY_MODEL_08bf5c61a4cd4deabfe5c1485c00ffe9",
            "max": 440473133,
            "min": 0,
            "orientation": "horizontal",
            "style": "IPY_MODEL_225814a4a5e940cda1e1ccbbf502fccf",
            "value": 440473133
          }
        },
        "c70e57e4451f473eade911be1e4aaa74": {
          "model_module": "@jupyter-widgets/controls",
          "model_name": "HTMLModel",
          "model_module_version": "1.5.0",
          "state": {
            "_dom_classes": [],
            "_model_module": "@jupyter-widgets/controls",
            "_model_module_version": "1.5.0",
            "_model_name": "HTMLModel",
            "_view_count": null,
            "_view_module": "@jupyter-widgets/controls",
            "_view_module_version": "1.5.0",
            "_view_name": "HTMLView",
            "description": "",
            "description_tooltip": null,
            "layout": "IPY_MODEL_a0c16352e5414f4f9178e791827f226d",
            "placeholder": "​",
            "style": "IPY_MODEL_e56a0c5573664ef8bf9c9f50208b610a",
            "value": " 420M/420M [00:12&lt;00:00, 32.3MB/s]"
          }
        },
        "a6be83e71c3b4911bb6781f3b9f5da4b": {
          "model_module": "@jupyter-widgets/base",
          "model_name": "LayoutModel",
          "model_module_version": "1.2.0",
          "state": {
            "_model_module": "@jupyter-widgets/base",
            "_model_module_version": "1.2.0",
            "_model_name": "LayoutModel",
            "_view_count": null,
            "_view_module": "@jupyter-widgets/base",
            "_view_module_version": "1.2.0",
            "_view_name": "LayoutView",
            "align_content": null,
            "align_items": null,
            "align_self": null,
            "border": null,
            "bottom": null,
            "display": null,
            "flex": null,
            "flex_flow": null,
            "grid_area": null,
            "grid_auto_columns": null,
            "grid_auto_flow": null,
            "grid_auto_rows": null,
            "grid_column": null,
            "grid_gap": null,
            "grid_row": null,
            "grid_template_areas": null,
            "grid_template_columns": null,
            "grid_template_rows": null,
            "height": null,
            "justify_content": null,
            "justify_items": null,
            "left": null,
            "margin": null,
            "max_height": null,
            "max_width": null,
            "min_height": null,
            "min_width": null,
            "object_fit": null,
            "object_position": null,
            "order": null,
            "overflow": null,
            "overflow_x": null,
            "overflow_y": null,
            "padding": null,
            "right": null,
            "top": null,
            "visibility": null,
            "width": null
          }
        },
        "ff0a57804c4e4f9a90e66cbb9728f7cf": {
          "model_module": "@jupyter-widgets/base",
          "model_name": "LayoutModel",
          "model_module_version": "1.2.0",
          "state": {
            "_model_module": "@jupyter-widgets/base",
            "_model_module_version": "1.2.0",
            "_model_name": "LayoutModel",
            "_view_count": null,
            "_view_module": "@jupyter-widgets/base",
            "_view_module_version": "1.2.0",
            "_view_name": "LayoutView",
            "align_content": null,
            "align_items": null,
            "align_self": null,
            "border": null,
            "bottom": null,
            "display": null,
            "flex": null,
            "flex_flow": null,
            "grid_area": null,
            "grid_auto_columns": null,
            "grid_auto_flow": null,
            "grid_auto_rows": null,
            "grid_column": null,
            "grid_gap": null,
            "grid_row": null,
            "grid_template_areas": null,
            "grid_template_columns": null,
            "grid_template_rows": null,
            "height": null,
            "justify_content": null,
            "justify_items": null,
            "left": null,
            "margin": null,
            "max_height": null,
            "max_width": null,
            "min_height": null,
            "min_width": null,
            "object_fit": null,
            "object_position": null,
            "order": null,
            "overflow": null,
            "overflow_x": null,
            "overflow_y": null,
            "padding": null,
            "right": null,
            "top": null,
            "visibility": null,
            "width": null
          }
        },
        "f7be016a66b3469f83e83af5e6384663": {
          "model_module": "@jupyter-widgets/controls",
          "model_name": "DescriptionStyleModel",
          "model_module_version": "1.5.0",
          "state": {
            "_model_module": "@jupyter-widgets/controls",
            "_model_module_version": "1.5.0",
            "_model_name": "DescriptionStyleModel",
            "_view_count": null,
            "_view_module": "@jupyter-widgets/base",
            "_view_module_version": "1.2.0",
            "_view_name": "StyleView",
            "description_width": ""
          }
        },
        "08bf5c61a4cd4deabfe5c1485c00ffe9": {
          "model_module": "@jupyter-widgets/base",
          "model_name": "LayoutModel",
          "model_module_version": "1.2.0",
          "state": {
            "_model_module": "@jupyter-widgets/base",
            "_model_module_version": "1.2.0",
            "_model_name": "LayoutModel",
            "_view_count": null,
            "_view_module": "@jupyter-widgets/base",
            "_view_module_version": "1.2.0",
            "_view_name": "LayoutView",
            "align_content": null,
            "align_items": null,
            "align_self": null,
            "border": null,
            "bottom": null,
            "display": null,
            "flex": null,
            "flex_flow": null,
            "grid_area": null,
            "grid_auto_columns": null,
            "grid_auto_flow": null,
            "grid_auto_rows": null,
            "grid_column": null,
            "grid_gap": null,
            "grid_row": null,
            "grid_template_areas": null,
            "grid_template_columns": null,
            "grid_template_rows": null,
            "height": null,
            "justify_content": null,
            "justify_items": null,
            "left": null,
            "margin": null,
            "max_height": null,
            "max_width": null,
            "min_height": null,
            "min_width": null,
            "object_fit": null,
            "object_position": null,
            "order": null,
            "overflow": null,
            "overflow_x": null,
            "overflow_y": null,
            "padding": null,
            "right": null,
            "top": null,
            "visibility": null,
            "width": null
          }
        },
        "225814a4a5e940cda1e1ccbbf502fccf": {
          "model_module": "@jupyter-widgets/controls",
          "model_name": "ProgressStyleModel",
          "model_module_version": "1.5.0",
          "state": {
            "_model_module": "@jupyter-widgets/controls",
            "_model_module_version": "1.5.0",
            "_model_name": "ProgressStyleModel",
            "_view_count": null,
            "_view_module": "@jupyter-widgets/base",
            "_view_module_version": "1.2.0",
            "_view_name": "StyleView",
            "bar_color": null,
            "description_width": ""
          }
        },
        "a0c16352e5414f4f9178e791827f226d": {
          "model_module": "@jupyter-widgets/base",
          "model_name": "LayoutModel",
          "model_module_version": "1.2.0",
          "state": {
            "_model_module": "@jupyter-widgets/base",
            "_model_module_version": "1.2.0",
            "_model_name": "LayoutModel",
            "_view_count": null,
            "_view_module": "@jupyter-widgets/base",
            "_view_module_version": "1.2.0",
            "_view_name": "LayoutView",
            "align_content": null,
            "align_items": null,
            "align_self": null,
            "border": null,
            "bottom": null,
            "display": null,
            "flex": null,
            "flex_flow": null,
            "grid_area": null,
            "grid_auto_columns": null,
            "grid_auto_flow": null,
            "grid_auto_rows": null,
            "grid_column": null,
            "grid_gap": null,
            "grid_row": null,
            "grid_template_areas": null,
            "grid_template_columns": null,
            "grid_template_rows": null,
            "height": null,
            "justify_content": null,
            "justify_items": null,
            "left": null,
            "margin": null,
            "max_height": null,
            "max_width": null,
            "min_height": null,
            "min_width": null,
            "object_fit": null,
            "object_position": null,
            "order": null,
            "overflow": null,
            "overflow_x": null,
            "overflow_y": null,
            "padding": null,
            "right": null,
            "top": null,
            "visibility": null,
            "width": null
          }
        },
        "e56a0c5573664ef8bf9c9f50208b610a": {
          "model_module": "@jupyter-widgets/controls",
          "model_name": "DescriptionStyleModel",
          "model_module_version": "1.5.0",
          "state": {
            "_model_module": "@jupyter-widgets/controls",
            "_model_module_version": "1.5.0",
            "_model_name": "DescriptionStyleModel",
            "_view_count": null,
            "_view_module": "@jupyter-widgets/base",
            "_view_module_version": "1.2.0",
            "_view_name": "StyleView",
            "description_width": ""
          }
        }
      }
    }
  },
  "nbformat": 4,
  "nbformat_minor": 5
}