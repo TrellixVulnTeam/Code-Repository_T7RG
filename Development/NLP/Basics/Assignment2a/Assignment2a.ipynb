{
  "cells": [
    {
      "cell_type": "markdown",
      "metadata": {
        "id": "qoxr9UESG3oU"
      },
      "source": [
        "# Assignment 2a: Language Modelling via N-grams (5 Marks)\n",
        "\n",
        "## Due: March 17, 2022\n",
        "\n",
        "Welcome to the first part of Assignment 2. In this assignment you will implement N-gram language models as discussed in lecture 3 and 4 of the course. We will be working with the [WikiText-2 dataset](https://paperswithcode.com/dataset/wikitext-2) which consists of about 100 million tokens collected from Good and Featured articles from wikipedia."
      ],
      "id": "qoxr9UESG3oU"
    },
    {
      "cell_type": "code",
      "execution_count": null,
      "metadata": {
        "colab": {
          "base_uri": "https://localhost:8080/"
        },
        "id": "cUDRhBJEG3oa",
        "outputId": "458e88d0-ab7e-4a64-c4bb-8897c8c962cf"
      },
      "outputs": [
        {
          "output_type": "stream",
          "name": "stdout",
          "text": [
            "Mounted at /content/gdrive\n"
          ]
        }
      ],
      "source": [
        "try:\n",
        "    from google.colab import drive\n",
        "    \n",
        "    drive.mount('/content/gdrive')\n",
        "    data_dir = \"/content/gdrive/MyDrive/PlakshaNLP/Assignment2a/data/wikitext-2\"\n",
        "except:\n",
        "    data_dir = \"/content/gdrive/MyDrive/PlakshaNLP/Assignment2a/data/wikitext-2\""
      ],
      "id": "cUDRhBJEG3oa"
    },
    {
      "cell_type": "code",
      "execution_count": null,
      "metadata": {
        "colab": {
          "base_uri": "https://localhost:8080/"
        },
        "id": "aVpI5vAoG3od",
        "outputId": "6a754050-74e7-41fb-8495-2dcc80db02bd"
      },
      "outputs": [
        {
          "output_type": "stream",
          "name": "stdout",
          "text": [
            "Requirement already satisfied: numpy in /usr/local/lib/python3.7/dist-packages (1.21.5)\n",
            "Requirement already satisfied: pandas in /usr/local/lib/python3.7/dist-packages (1.3.5)\n",
            "Requirement already satisfied: pytz>=2017.3 in /usr/local/lib/python3.7/dist-packages (from pandas) (2018.9)\n",
            "Requirement already satisfied: numpy>=1.17.3 in /usr/local/lib/python3.7/dist-packages (from pandas) (1.21.5)\n",
            "Requirement already satisfied: python-dateutil>=2.7.3 in /usr/local/lib/python3.7/dist-packages (from pandas) (2.8.2)\n",
            "Requirement already satisfied: six>=1.5 in /usr/local/lib/python3.7/dist-packages (from python-dateutil>=2.7.3->pandas) (1.15.0)\n",
            "Requirement already satisfied: nltk in /usr/local/lib/python3.7/dist-packages (3.2.5)\n",
            "Requirement already satisfied: six in /usr/local/lib/python3.7/dist-packages (from nltk) (1.15.0)\n"
          ]
        }
      ],
      "source": [
        "\n",
        "# Install required libraries\n",
        "!pip install numpy\n",
        "!pip install pandas\n",
        "!pip install nltk"
      ],
      "id": "aVpI5vAoG3od"
    },
    {
      "cell_type": "code",
      "execution_count": null,
      "metadata": {
        "colab": {
          "base_uri": "https://localhost:8080/"
        },
        "id": "a_gq6GTfG3og",
        "outputId": "6dbf9546-6203-4772-e098-d1306e9f6190"
      },
      "outputs": [
        {
          "output_type": "stream",
          "name": "stdout",
          "text": [
            "[nltk_data] Downloading package punkt to /root/nltk_data...\n",
            "[nltk_data]   Unzipping tokenizers/punkt.zip.\n",
            "[nltk_data] Downloading package stopwords to /root/nltk_data...\n",
            "[nltk_data]   Unzipping corpora/stopwords.zip.\n"
          ]
        },
        {
          "output_type": "execute_result",
          "data": {
            "text/plain": [
              "True"
            ]
          },
          "metadata": {},
          "execution_count": 3
        }
      ],
      "source": [
        "# We start by importing libraries that we will be making use of in the assignment.\n",
        "import string\n",
        "from collections import defaultdict\n",
        "import numpy as np\n",
        "import pandas as pd\n",
        "import nltk\n",
        "nltk.download(\"punkt\")\n",
        "nltk.download('stopwords')"
      ],
      "id": "a_gq6GTfG3og"
    },
    {
      "cell_type": "markdown",
      "metadata": {
        "id": "CMjOgk2gG3oi"
      },
      "source": [
        "We start by loading Wiki-Text dataset into memory. It consists of 3 text files one each for train, validation and test, consisting raw text data corresponding to different wikipedia articles."
      ],
      "id": "CMjOgk2gG3oi"
    },
    {
      "cell_type": "code",
      "execution_count": null,
      "metadata": {
        "colab": {
          "base_uri": "https://localhost:8080/"
        },
        "id": "PTSJC6gUG3ol",
        "outputId": "19f20f8a-5bf2-4af0-c8f0-7fd2486ceb30"
      },
      "outputs": [
        {
          "output_type": "stream",
          "name": "stdout",
          "text": [
            "Datasets Loaded!\n",
            "Number of characters in train corpus: 10780437\n",
            "Number of characters in validation corpus: 1120192\n",
            "Number of characters in test corpus: 1255018\n"
          ]
        }
      ],
      "source": [
        "# Load train data\n",
        "with open(f\"{data_dir}/wiki.train.tokens\") as f:\n",
        "    wiki_train = f.read()\n",
        "\n",
        "# Load validation data\n",
        "with open(f\"{data_dir}/wiki.valid.tokens\") as f:\n",
        "    wiki_valid = f.read()\n",
        "\n",
        "# Load Test data\n",
        "with open(f\"{data_dir}/wiki.test.tokens\") as f:\n",
        "    wiki_test = f.read()\n",
        "    \n",
        "print(f\"Datasets Loaded!\")\n",
        "print(f\"Number of characters in train corpus: {len(wiki_train)}\")\n",
        "print(f\"Number of characters in validation corpus: {len(wiki_valid)}\")\n",
        "print(f\"Number of characters in test corpus: {len(wiki_test)}\")"
      ],
      "id": "PTSJC6gUG3ol"
    },
    {
      "cell_type": "code",
      "execution_count": null,
      "metadata": {
        "colab": {
          "base_uri": "https://localhost:8080/",
          "height": 35
        },
        "id": "CDVT3nndG3om",
        "outputId": "b4637fd0-ccf6-4dfb-f20d-95fc063a3f3b"
      },
      "outputs": [
        {
          "output_type": "execute_result",
          "data": {
            "text/plain": [
              "' \\n = Valkyria Chronicles III = \\n \\n Senjō no Valkyria 3 : <unk> Chronicles ( Japanese : 戦場のヴァルキュリア3 ,'"
            ],
            "application/vnd.google.colaboratory.intrinsic+json": {
              "type": "string"
            }
          },
          "metadata": {},
          "execution_count": 5
        }
      ],
      "source": [
        "# Lets print first 100 characters of the train_corpus\n",
        "wiki_train[:100]"
      ],
      "id": "CDVT3nndG3om"
    },
    {
      "cell_type": "markdown",
      "metadata": {
        "id": "tuTSGg95G3oo"
      },
      "source": [
        "## Task 1: Fit n-gram probabilities (2 Marks)\n",
        "\n",
        "N-gram language models are trained by estimating the joint and conditional probabilities of all the n-grams from the training corpus. Using these probabilities we can then sample next sequence of tokens given the context or compute the probability of a complete piece of text."
      ],
      "id": "tuTSGg95G3oo"
    },
    {
      "cell_type": "markdown",
      "metadata": {
        "id": "zJaW_-JLG3op"
      },
      "source": [
        "### Task 1.1: Unigram Probabilities (0.75 Mark)\n",
        "\n",
        "We will start by estimating unigram probabilities from the corpus, which can be simply done by calculating the normalized frequency of each token in the corpus. Implement the `get_unigram_probs` function below that does that"
      ],
      "id": "zJaW_-JLG3op"
    },
    {
      "cell_type": "code",
      "execution_count": null,
      "metadata": {
        "id": "d1ZjOf1nG3oq"
      },
      "outputs": [],
      "source": [
        "def get_unigram_probs(corpus):\n",
        "    \"\"\"\n",
        "    Estimates the probability of each unigram in the text by calculating\n",
        "    normalized frequency of each unigram (word).\n",
        "    \n",
        "    Inputs:\n",
        "        - corpus (str): A python string consisting of a piece of text\n",
        "    \n",
        "    Returns:\n",
        "        - unigram_probs (dict): A python dictionary with unigrams (words) as keys and \n",
        "                                their frequencies as values\n",
        "                                \n",
        "    Example Input: \"I am Sam . Sam I am . I do not like green eggs and ham .\"\n",
        "    Expected Output: {'I': 0.17647058823529413,\n",
        "             'am': 0.11764705882352941,\n",
        "             'Sam': 0.11764705882352941,\n",
        "             '.': 0.17647058823529413,\n",
        "             'do': 0.058823529411764705,\n",
        "             'not': 0.058823529411764705,\n",
        "             'like': 0.058823529411764705,\n",
        "             'green': 0.058823529411764705,\n",
        "             'eggs': 0.058823529411764705,\n",
        "             'and': 0.058823529411764705,\n",
        "             'ham': 0.058823529411764705}\n",
        "    \n",
        "    Note: To break the text into tokens you can just use corpus.split() this time,\n",
        "    Wiki corpus is already tokenized so just using split() will also work fine.\n",
        "    **Do not use `nltk.tokenize.word_tokenize` here**\n",
        "\n",
        "    Hint: `defaultdict` can often make life easier in such type of problems.\n",
        "            https://docs.python.org/3/library/collections.html#collections.defaultdict\n",
        "    \"\"\"\n",
        "\n",
        "    from tqdm import tqdm \n",
        "    from collections import defaultdict\n",
        "    probability = defaultdict(float)\n",
        "\n",
        "    tokens = np.array(corpus.split())\n",
        "    length = len(tokens)\n",
        "\n",
        "    for word in tqdm(tokens):\n",
        "      probability[word]+=1\n",
        "    probability = { key : value / length for key,value in zip(list(probability.keys()),list(probability.values()))}\n",
        "\n",
        "    return probability\n",
        "    \n"
      ],
      "id": "d1ZjOf1nG3oq"
    },
    {
      "cell_type": "code",
      "execution_count": null,
      "metadata": {
        "colab": {
          "base_uri": "https://localhost:8080/"
        },
        "id": "akGC4qUmy6pb",
        "outputId": "40062dbd-69e7-4c7e-9ddd-226a8eb0e589"
      },
      "outputs": [
        {
          "output_type": "stream",
          "name": "stdout",
          "text": [
            "Running Sample Test Case 1\n"
          ]
        },
        {
          "output_type": "stream",
          "name": "stderr",
          "text": [
            "100%|██████████| 17/17 [00:00<00:00, 7991.84it/s]\n"
          ]
        },
        {
          "output_type": "stream",
          "name": "stdout",
          "text": [
            "Input Corpus: I am Sam . Sam I am . I do not like green eggs and ham .\n",
            "Unigram Probabilities: {'I': 0.17647058823529413, 'am': 0.11764705882352941, 'Sam': 0.11764705882352941, '.': 0.17647058823529413, 'do': 0.058823529411764705, 'not': 0.058823529411764705, 'like': 0.058823529411764705, 'green': 0.058823529411764705, 'eggs': 0.058823529411764705, 'and': 0.058823529411764705, 'ham': 0.058823529411764705}\n",
            "Expected Unigram Probabilities: {'I': 0.17647058823529413, 'am': 0.11764705882352941, 'Sam': 0.11764705882352941, '.': 0.17647058823529413, 'do': 0.058823529411764705, 'not': 0.058823529411764705, 'like': 0.058823529411764705, 'green': 0.058823529411764705, 'eggs': 0.058823529411764705, 'and': 0.058823529411764705, 'ham': 0.058823529411764705}\n",
            "Sample Test Case Passed\n",
            "****************************************\n",
            "\n",
            "Running Sample Test Case 2\n"
          ]
        },
        {
          "output_type": "stream",
          "name": "stderr",
          "text": [
            "100%|██████████| 16/16 [00:00<00:00, 83055.52it/s]"
          ]
        },
        {
          "output_type": "stream",
          "name": "stdout",
          "text": [
            "Input Corpus: john likes to watch movies mary likes movies too mary also likes to watch football games\n",
            "Unigram Probabilities: {'john': 0.0625, 'likes': 0.1875, 'to': 0.125, 'watch': 0.125, 'movies': 0.125, 'mary': 0.125, 'too': 0.0625, 'also': 0.0625, 'football': 0.0625, 'games': 0.0625}\n",
            "Expected Unigram Probabilities: {'john': 0.0625, 'likes': 0.1875, 'to': 0.125, 'watch': 0.125, 'movies': 0.125, 'mary': 0.125, 'too': 0.0625, 'also': 0.0625, 'football': 0.0625, 'games': 0.0625}\n",
            "Sample Test Case Passed\n",
            "****************************************\n",
            "\n"
          ]
        },
        {
          "output_type": "stream",
          "name": "stderr",
          "text": [
            "\n"
          ]
        }
      ],
      "source": [
        "def check_dicts_same(dict1, dict2):\n",
        "    if not (isinstance(dict1, dict) or isinstance(dict1, defaultdict)):\n",
        "        print(\"Your function output is not a dictionary!\")\n",
        "        return False\n",
        "    if len(dict1) != len(dict2):\n",
        "        return False\n",
        "    \n",
        "    for key in dict1:\n",
        "        val1 = dict1[key]\n",
        "        val2 = dict2[key]\n",
        "        if isinstance(val1, float) and isinstance(val2, float):\n",
        "            if not np.allclose(val1, val2, 1e-4):\n",
        "                return False\n",
        "        if val1 != val2:\n",
        "            return False\n",
        "    \n",
        "    return True\n",
        "\n",
        "print(\"Running Sample Test Case 1\")\n",
        "sample_corpus = 'I am Sam . Sam I am . I do not like green eggs and ham .'\n",
        "exp_unigram_probs = {'I': 0.17647058823529413,\n",
        "             'am': 0.11764705882352941,\n",
        "             'Sam': 0.11764705882352941,\n",
        "             '.': 0.17647058823529413,\n",
        "             'do': 0.058823529411764705,\n",
        "             'not': 0.058823529411764705,\n",
        "             'like': 0.058823529411764705,\n",
        "             'green': 0.058823529411764705,\n",
        "             'eggs': 0.058823529411764705,\n",
        "             'and': 0.058823529411764705,\n",
        "             'ham': 0.058823529411764705}\n",
        "\n",
        "output_unigram_probs = get_unigram_probs(sample_corpus)\n",
        "print(f\"Input Corpus: {sample_corpus}\")\n",
        "print(f\"Unigram Probabilities: {output_unigram_probs}\")\n",
        "print(f\"Expected Unigram Probabilities: {output_unigram_probs}\")\n",
        "\n",
        "assert check_dicts_same(exp_unigram_probs, output_unigram_probs)\n",
        "print(\"Sample Test Case Passed\")\n",
        "print(\"****************************************\\n\")\n",
        "    \n",
        "print(\"Running Sample Test Case 2\")\n",
        "sample_corpus = 'john likes to watch movies mary likes movies too mary also likes to watch football games'\n",
        "exp_unigram_probs = {'john': 0.0625,\n",
        "                     'likes': 0.1875,\n",
        "                     'to': 0.125,\n",
        "                     'watch': 0.125,\n",
        "                     'movies': 0.125,\n",
        "                     'mary': 0.125,\n",
        "                     'too': 0.0625,\n",
        "                     'also': 0.0625,\n",
        "                     'football': 0.0625,\n",
        "                     'games': 0.0625}\n",
        "\n",
        "output_unigram_probs = get_unigram_probs(sample_corpus)\n",
        "print(f\"Input Corpus: {sample_corpus}\")\n",
        "print(f\"Unigram Probabilities: {output_unigram_probs}\")\n",
        "print(f\"Expected Unigram Probabilities: {exp_unigram_probs}\")\n",
        "\n",
        "assert check_dicts_same(output_unigram_probs, exp_unigram_probs)\n",
        "print(\"Sample Test Case Passed\")\n",
        "print(\"****************************************\\n\")\n"
      ],
      "id": "akGC4qUmy6pb"
    },
    {
      "cell_type": "markdown",
      "metadata": {
        "id": "K1eDJf40G3ov"
      },
      "source": [
        "Let's get the unigram probabilities from the entire training corpus now"
      ],
      "id": "K1eDJf40G3ov"
    },
    {
      "cell_type": "code",
      "execution_count": null,
      "metadata": {
        "colab": {
          "base_uri": "https://localhost:8080/"
        },
        "id": "DOwLwbrkG3ov",
        "outputId": "ccb66bc2-649c-4b3f-b9a4-28298aca2aa8"
      },
      "outputs": [
        {
          "output_type": "stream",
          "name": "stderr",
          "text": [
            "100%|██████████| 2051910/2051910 [00:02<00:00, 982594.76it/s] \n"
          ]
        }
      ],
      "source": [
        "train_unigram_probs = get_unigram_probs(wiki_train)"
      ],
      "id": "DOwLwbrkG3ov"
    },
    {
      "cell_type": "markdown",
      "metadata": {
        "id": "hSHE6ZyEG3oz"
      },
      "source": [
        "### Task 1.2: N-gram Probabilities (1.25 Marks)\n",
        "\n",
        "Now let's estimate the probabilities for N-grams with N > 1. For N-grams instead of storing joint probability of each N-gram in the corpus i.e. p(w_n-N+1, ...,w_n-1, w_n) we store conditional probabilities p(w_n | w_n-N+1, ...,w_n-1), which can be calculated easily by using the following formula:\n",
        "\n",
        "<img src=\"https://i.ibb.co/mtFcBfh/n-gram.jpg\" alt=\"n-gram\" border=\"0\">\n",
        "\n",
        "Here the term in numerator denotes the number of N-grams with the words w_n-N+1, ...,w_n-1, w_n and the term in denominator denotes the number of (N-1) grams with the words w_n-N+1, ...,w_n-1 .\n",
        "\n",
        "Implement the `get_ngram_cond_probs` function below"
      ],
      "id": "hSHE6ZyEG3oz"
    },
    {
      "cell_type": "code",
      "execution_count": null,
      "metadata": {
        "id": "93lh2VNaTWsd"
      },
      "outputs": [],
      "source": [
        "from collections import defaultdict, Counter\n",
        "from tqdm import tqdm"
      ],
      "id": "93lh2VNaTWsd"
    },
    {
      "cell_type": "code",
      "execution_count": null,
      "metadata": {
        "id": "eAVHml0zn2Tv"
      },
      "outputs": [],
      "source": [
        "\n",
        "def get_ngram_cond_probs(corpus, N = 2):\n",
        "    \"\"\"\n",
        "    Estimates the N-gram conditional probabilities from the corpus.\n",
        "    \n",
        "    Inputs:\n",
        "        - corpus (str): A python string consisting of a piece of text\n",
        "        - N (int) : Value of  N in N-gram\n",
        "        \n",
        "    Returns:\n",
        "        - ngram_cond_probs (dict) : A dictionary with (N-1)-gram tuple as keys and values as dictionaries\n",
        "                                    such that ngram_cond_probs[(w_n-N+1, ...,w_n-1)][w_n]\n",
        "                                    stores the conditional probability p(w_n | w_n-N+1, ...,w_n-1)\n",
        "                                    See the examples below for clarity\n",
        "                                    \n",
        "    Example Input: corpus = 'I am Sam . Sam I am .', N = 2\n",
        "    Expected Output: \n",
        "    {array of dictionary\n",
        "         ('I',): {'am': 1.0},\n",
        "         ('am',): {'Sam': 0.5, '.': 0.5},\n",
        "         ('Sam',): {'.': 0.5, 'I': 0.5},\n",
        "         ('.',): {'Sam': 1.0}\n",
        " \n",
        "     }\n",
        "     Explanation: 'I' is always followed 'am' in the `corpus`, while 'am' is followed by 'Sam' once and '.' the other time\n",
        "                     hence you see 0.5, 0.5 probabilities for these two tokens.\n",
        "     \n",
        "    Example Input: corpus = 'I am Sam . Sam I am .', N = 3\n",
        "    Expected Output:\n",
        "    {\n",
        "         ('I', 'am'): {'Sam': 0.5, '.': 0.5},\n",
        "         ('am', 'Sam'): {'.': 1.0},\n",
        "         ('Sam', '.'): {'Sam': 1.0},\n",
        "         ('.', 'Sam'): {'I': 1.0},\n",
        "         ('Sam', 'I'): {'am': 1.0}\n",
        "     }\n",
        " \n",
        "    \"\"\"\n",
        "    \n",
        "\n",
        "    N=N-1\n",
        "\n",
        "    ngram_cond_probs = defaultdict(float)\n",
        "    \n",
        "    #splitting the corpus as tokens\n",
        "    tokens=corpus.split(' ')\n",
        "    valid_keys = []\n",
        "    for i in tqdm(range(len(tokens))):\n",
        "      # Finding the unique keys\n",
        "      if i+N+1<len(tokens)+1:\n",
        "        key = tuple(tokens[i:i+N])\n",
        "        valid_keys.append(key)\n",
        "        next=tokens[i+N]\n",
        "        if key in ngram_cond_probs:\n",
        "          if next in ngram_cond_probs[key]:\n",
        "            ngram_cond_probs[key][next] += 1\n",
        "          else:\n",
        "            ngram_cond_probs[key][next] = 1\n",
        "        else:\n",
        "          sub_dict = {}\n",
        "          ngram_cond_probs[key] = sub_dict\n",
        "          ngram_cond_probs[key][next] = 1\n",
        "    counts = Counter(valid_keys) \n",
        "\n",
        "    for key,value in ngram_cond_probs.items():\n",
        "      ngram_cond_probs[key] = {key_:value_/counts[key] for key_,value_ in ngram_cond_probs[key].items()}\n",
        "    return dict(ngram_cond_probs)"
      ],
      "id": "eAVHml0zn2Tv"
    },
    {
      "cell_type": "code",
      "execution_count": null,
      "metadata": {
        "colab": {
          "base_uri": "https://localhost:8080/"
        },
        "id": "GS4dt6BUme9V",
        "outputId": "8e86988a-1787-4aff-e27a-fada4917fd48"
      },
      "outputs": [
        {
          "output_type": "stream",
          "name": "stdout",
          "text": [
            "Running Sample Test Case 1\n"
          ]
        },
        {
          "output_type": "stream",
          "name": "stderr",
          "text": [
            "100%|██████████| 8/8 [00:00<00:00, 1964.89it/s]\n"
          ]
        },
        {
          "output_type": "stream",
          "name": "stdout",
          "text": [
            "Input Corpus: I am Sam . Sam I am ., N = 2\n",
            "N-gram Probabilities: {('I',): {'am': 1.0}, ('am',): {'Sam': 0.5, '.': 0.5}, ('Sam',): {'.': 0.5, 'I': 0.5}, ('.',): {'Sam': 1.0}}\n",
            "Expected N-gram Probabilities: {('I',): {'am': 1.0}, ('am',): {'Sam': 0.5, '.': 0.5}, ('Sam',): {'.': 0.5, 'I': 0.5}, ('.',): {'Sam': 1}}\n",
            "Sample Test Case Passed\n",
            "****************************************\n",
            "\n",
            "Running Sample Test Case 2\n"
          ]
        },
        {
          "output_type": "stream",
          "name": "stderr",
          "text": [
            "100%|██████████| 8/8 [00:00<00:00, 38173.42it/s]\n"
          ]
        },
        {
          "output_type": "stream",
          "name": "stdout",
          "text": [
            "Input Corpus: I am Sam . Sam I am ., N = 3\n",
            "N-gram Probabilities: {('I', 'am'): {'Sam': 0.5, '.': 0.5}, ('am', 'Sam'): {'.': 1.0}, ('Sam', '.'): {'Sam': 1.0}, ('.', 'Sam'): {'I': 1.0}, ('Sam', 'I'): {'am': 1.0}}\n",
            "Expected N-gram Probabilities: {('I', 'am'): {'Sam': 0.5, '.': 0.5}, ('am', 'Sam'): {'.': 1.0}, ('Sam', '.'): {'Sam': 1.0}, ('.', 'Sam'): {'I': 1.0}, ('Sam', 'I'): {'am': 1.0}}\n",
            "Sample Test Case Passed\n",
            "****************************************\n",
            "\n",
            "Running Sample Test Case 3\n"
          ]
        },
        {
          "output_type": "stream",
          "name": "stderr",
          "text": [
            "100%|██████████| 8/8 [00:00<00:00, 58970.88it/s]"
          ]
        },
        {
          "output_type": "stream",
          "name": "stdout",
          "text": [
            "Input Corpus: I am Sam . Sam I am ., N = 4\n",
            "N-gram Probabilities: {('I', 'am', 'Sam'): {'.': 1.0}, ('am', 'Sam', '.'): {'Sam': 1.0}, ('Sam', '.', 'Sam'): {'I': 1.0}, ('.', 'Sam', 'I'): {'am': 1.0}, ('Sam', 'I', 'am'): {'.': 1.0}}\n",
            "Expected N-gram Probabilities: {('I', 'am', 'Sam'): {'.': 1.0}, ('am', 'Sam', '.'): {'Sam': 1.0}, ('Sam', '.', 'Sam'): {'I': 1.0}, ('.', 'Sam', 'I'): {'am': 1.0}, ('Sam', 'I', 'am'): {'.': 1.0}}\n",
            "Sample Test Case Passed\n",
            "****************************************\n",
            "\n"
          ]
        },
        {
          "output_type": "stream",
          "name": "stderr",
          "text": [
            "\n"
          ]
        }
      ],
      "source": [
        "def check_dicts_same_v2(dict1, dict2):\n",
        "    if not (isinstance(dict1, dict) or isinstance(dict1, defaultdict)):\n",
        "        print(\"Your function output is not a dictionary!\")\n",
        "        return False\n",
        "    \n",
        "    if len(dict1) != len(dict2):\n",
        "        return False\n",
        "        \n",
        "    for key in dict1:\n",
        "        val1 = dict1[key]\n",
        "        val2 = dict2[key]\n",
        "        if isinstance(val1, float) and isinstance(val2, float):\n",
        "            if not np.allclose(val1, val2, 1e-4):\n",
        "                return False\n",
        "        if (isinstance(val1, dict) or isinstance(val1, defaultdict)) \\\n",
        "            and (isinstance(val2, dict) or isinstance(val2, defaultdict)):\n",
        "            if not check_dicts_same_v2(val1, val2):\n",
        "                return False\n",
        "        if val1 != val2:\n",
        "            return False\n",
        "    \n",
        "    return True\n",
        "\n",
        "print(\"Running Sample Test Case 1\")\n",
        "sample_corpus = 'I am Sam . Sam I am .'\n",
        "N = 2\n",
        "exp_ngram_probs =     {\n",
        "         ('I',): {'am': 1.0},\n",
        "         ('am',): {'Sam': 0.5, '.': 0.5},\n",
        "         ('Sam',): {'.': 0.5, 'I': 0.5},\n",
        "         ('.',): {'Sam': 1}\n",
        "     }\n",
        "\n",
        "output_ngram_probs = get_ngram_cond_probs(sample_corpus, N = N)\n",
        "print(f\"Input Corpus: {sample_corpus}, N = {N}\")\n",
        "print(f\"N-gram Probabilities: {output_ngram_probs}\")\n",
        "print(f\"Expected N-gram Probabilities: {exp_ngram_probs}\")\n",
        "\n",
        "assert check_dicts_same_v2(output_ngram_probs, exp_ngram_probs)\n",
        "print(\"Sample Test Case Passed\")\n",
        "print(\"****************************************\\n\")\n",
        "\n",
        "print(\"Running Sample Test Case 2\")\n",
        "sample_corpus = 'I am Sam . Sam I am .'\n",
        "N = 3\n",
        "exp_ngram_probs =         {\n",
        "         ('I', 'am'): {'Sam': 0.5, '.': 0.5},\n",
        "         ('am', 'Sam'): {'.': 1.0},\n",
        "         ('Sam', '.'): {'Sam': 1.0},\n",
        "         ('.', 'Sam'): {'I': 1.0},\n",
        "         ('Sam', 'I'): {'am': 1.0}\n",
        "     }\n",
        "\n",
        "output_ngram_probs = get_ngram_cond_probs(sample_corpus, N = N)\n",
        "print(f\"Input Corpus: {sample_corpus}, N = {N}\")\n",
        "print(f\"N-gram Probabilities: {output_ngram_probs}\")\n",
        "print(f\"Expected N-gram Probabilities: {exp_ngram_probs}\")\n",
        "\n",
        "assert check_dicts_same_v2(output_ngram_probs, exp_ngram_probs)\n",
        "print(\"Sample Test Case Passed\")\n",
        "print(\"****************************************\\n\")\n",
        "\n",
        "print(\"Running Sample Test Case 3\")\n",
        "sample_corpus = 'I am Sam . Sam I am .'\n",
        "N = 4\n",
        "exp_ngram_probs =  {('I', 'am', 'Sam'): {'.': 1.0},\n",
        "             ('am', 'Sam', '.'): {'Sam': 1.0},\n",
        "             ('Sam', '.', 'Sam'): {'I': 1.0},\n",
        "             ('.', 'Sam', 'I'): {'am': 1.0},\n",
        "             ('Sam', 'I', 'am'): {'.': 1.0}}\n",
        "\n",
        "output_ngram_probs = get_ngram_cond_probs(sample_corpus, N = N)\n",
        "print(f\"Input Corpus: {sample_corpus}, N = {N}\")\n",
        "print(f\"N-gram Probabilities: {output_ngram_probs}\")\n",
        "print(f\"Expected N-gram Probabilities: {exp_ngram_probs}\")\n",
        "\n",
        "assert check_dicts_same_v2(output_ngram_probs, exp_ngram_probs)\n",
        "print(\"Sample Test Case Passed\")\n",
        "print(\"****************************************\\n\")\n"
      ],
      "id": "GS4dt6BUme9V"
    },
    {
      "cell_type": "markdown",
      "metadata": {
        "id": "WMQj2aP2G3o3"
      },
      "source": [
        "We can now generate N-gram probability distributions for our dataset"
      ],
      "id": "WMQj2aP2G3o3"
    },
    {
      "cell_type": "code",
      "execution_count": null,
      "metadata": {
        "colab": {
          "base_uri": "https://localhost:8080/"
        },
        "id": "q3PeLCsoG3o4",
        "outputId": "928c71cb-541e-4e10-81e8-65d5771daa6a"
      },
      "outputs": [
        {
          "output_type": "stream",
          "name": "stdout",
          "text": [
            "Generating Bigram Distribution\n"
          ]
        },
        {
          "output_type": "stream",
          "name": "stderr",
          "text": [
            "100%|██████████| 2088629/2088629 [00:09<00:00, 209240.71it/s]\n"
          ]
        },
        {
          "output_type": "stream",
          "name": "stdout",
          "text": [
            "Generating Trigram Distribution\n"
          ]
        },
        {
          "output_type": "stream",
          "name": "stderr",
          "text": [
            "100%|██████████| 2088629/2088629 [00:08<00:00, 245324.13it/s]\n"
          ]
        },
        {
          "output_type": "stream",
          "name": "stdout",
          "text": [
            "Generating 4-gram Distribution\n"
          ]
        },
        {
          "output_type": "stream",
          "name": "stderr",
          "text": [
            "100%|██████████| 2088629/2088629 [00:06<00:00, 331517.27it/s]\n"
          ]
        }
      ],
      "source": [
        "print(\"Generating Bigram Distribution\")\n",
        "bigram_prob_dist = get_ngram_cond_probs(wiki_train, N = 2)\n",
        "\n",
        "\n",
        "print(\"Generating Trigram Distribution\")\n",
        "trigram_prob_dist = get_ngram_cond_probs(wiki_train, N = 3)\n",
        "\n",
        "print(\"Generating 4-gram Distribution\")\n",
        "tetragram_prob_dist = get_ngram_cond_probs(wiki_train, N = 4)"
      ],
      "id": "q3PeLCsoG3o4"
    },
    {
      "cell_type": "markdown",
      "metadata": {
        "id": "7MlAccIFG3o4"
      },
      "source": [
        "## Task 2: Evaluating the language models (2.5 Marks)\n",
        "\n",
        "Now that we have generated the N-gram distributions for various Ns we can evaluate the language models both quantitatively using the perplexity metric as well as qualitatively by generating text using these models."
      ],
      "id": "7MlAccIFG3o4"
    },
    {
      "cell_type": "markdown",
      "metadata": {
        "id": "dM1Lu2LnG3o5"
      },
      "source": [
        "### Task 2.1: Calculating Perplexity (0.5 Marks)\n",
        "\n",
        "As discussed in Lecture 4, perplexity of a probability distribution is defined as:\n",
        "\n",
        "<img src=\"https://i.ibb.co/swXqFCz/Perplexity.jpg\" alt=\"Perplexity\" border=\"0\">\n",
        "\n",
        "For the purposes of this assignment we will only calculate perplexity of a unigram language model. Finding perplexity of N-gram models for N > 1 requires smoothing which is beyond the scope of this assignment, but interested students can read about it [here](https://web.stanford.edu/~jurafsky/slp3/3.pdf). For now, implement the `get_unigram_perplexity` function below"
      ],
      "id": "dM1Lu2LnG3o5"
    },
    {
      "cell_type": "code",
      "execution_count": null,
      "metadata": {
        "id": "dCeO8FF5G3o5"
      },
      "outputs": [],
      "source": [
        "def get_unigram_perplexity(corpus, unigram_probs):\n",
        "    \"\"\"\n",
        "    Calculates the perplexity of a unigram language model on a text corpus\n",
        "    \n",
        "    Inputs:\n",
        "        - corpus (str): A python string consisting of a piece of text    \n",
        "        - unigram_probs (dict): A python dictionary with unigrams (words) as keys and \n",
        "                                their probabilities as values\n",
        "    Returns:\n",
        "        - perplexity (float) : Perplexity of unigram model on corpus\n",
        "    \n",
        "    Note 1: You can assume that each word/unigram that appears in the corpus, we have it's probability in `unigram_probs`\n",
        "    Note 2: Use log to the base 2 for calculating entropy\n",
        "    \"\"\"\n",
        "    \n",
        "    perplexity = 0\n",
        "    tokens=corpus.split()\n",
        "    H=0\n",
        "    for token in tokens:\n",
        "      px = unigram_probs[token]\n",
        "      H += px*(np.log2(px))\n",
        "    perplexity=2**(-1*H)\n",
        "    \n",
        "    return perplexity"
      ],
      "id": "dCeO8FF5G3o5"
    },
    {
      "cell_type": "code",
      "execution_count": null,
      "metadata": {
        "colab": {
          "base_uri": "https://localhost:8080/"
        },
        "id": "WxYdC1gfG3o6",
        "outputId": "f05e5d25-4869-404c-c06e-fd13b36ddc6b"
      },
      "outputs": [
        {
          "output_type": "stream",
          "name": "stdout",
          "text": [
            "Training Data Perplexity: 66.87292185710841\n",
            "Expected Training Data Perplexity: 66.87292185710841\n",
            "**********************************\n",
            "\n",
            "Validation Data Perplexity: 73.3487215828768\n",
            "Expected Validation Data Perplexity: 73.3487215828768\n",
            "**********************************\n",
            "\n",
            "Test Data Perplexity: 54.97601260063733\n",
            "Expected Test Data Perplexity: 54.97601260063733\n",
            "**********************************\n",
            "\n"
          ]
        }
      ],
      "source": [
        "\n",
        "# Perplexity for simple models like unigram can blow up easily for large corpora.\n",
        "# And Hence we only evaluate on the first 100 tokens of each data split \n",
        "wiki_train_subsample = \" \".join(wiki_train.split()[:100])\n",
        "wiki_valid_subsample = \" \".join(wiki_valid.split()[:100])\n",
        "wiki_test_subsample = \" \".join(wiki_test.split()[:100])\n",
        "\n",
        "\n",
        "train_ppl = get_unigram_perplexity(wiki_train_subsample, train_unigram_probs)\n",
        "expected_train_ppl = 66.87292185710841\n",
        "print(f\"Training Data Perplexity: {train_ppl}\")\n",
        "print(f\"Expected Training Data Perplexity: {expected_train_ppl}\")\n",
        "assert np.allclose(train_ppl, expected_train_ppl, 1e-4)\n",
        "\n",
        "print(\"**********************************\\n\")\n",
        "\n",
        "valid_ppl = get_unigram_perplexity(wiki_valid_subsample, train_unigram_probs)\n",
        "expected_valid_ppl = 73.3487215828768\n",
        "print(f\"Validation Data Perplexity: {valid_ppl}\")\n",
        "print(f\"Expected Validation Data Perplexity: {expected_valid_ppl}\")\n",
        "assert np.allclose(valid_ppl, expected_valid_ppl, 1e-4)\n",
        "\n",
        "print(\"**********************************\\n\")\n",
        "\n",
        "test_ppl = get_unigram_perplexity(wiki_test_subsample, train_unigram_probs)\n",
        "expected_test_ppl = 54.97601260063733\n",
        "print(f\"Test Data Perplexity: {test_ppl}\")\n",
        "print(f\"Expected Test Data Perplexity: {expected_test_ppl}\")\n",
        "assert np.allclose(test_ppl, expected_test_ppl, 1e-4)\n",
        "\n",
        "print(\"**********************************\\n\")\n",
        " "
      ],
      "id": "WxYdC1gfG3o6"
    },
    {
      "cell_type": "markdown",
      "metadata": {
        "id": "ws0__9_FG3o7"
      },
      "source": [
        "### Task 2.2: Generating texts using N-gram LMs (2.5 Marks) \n",
        "\n",
        "Using the estimated N-gram probabilities we can use the N-gram language models to generate pieces of text. We start with N-1 tokens and then use them as context to predict the next token form our estimated distribution. This process is then done repeatedly till we reach the maximum specified length. Implement the `generate_text_unigram` and `generate_text_ngram` functions below"
      ],
      "id": "ws0__9_FG3o7"
    },
    {
      "cell_type": "markdown",
      "source": [
        "#### Note : There is a slight mismatch in the sentences generated. Although the first few words are the same, there is a difference in the remaining words from the test case. But it is able to do the generation"
      ],
      "metadata": {
        "id": "xlBzcVjs9bxd"
      },
      "id": "xlBzcVjs9bxd"
    },
    {
      "cell_type": "code",
      "execution_count": null,
      "metadata": {
        "id": "gBWXAeCnG3o7"
      },
      "outputs": [],
      "source": [
        "def generate_text_unigram(unigram_probs, max_len = 10):\n",
        "    \"\"\"\n",
        "    Generates a random piece of text by sampling from `unigram_probs`\n",
        "    \n",
        "    Inputs:\n",
        "        - unigram_probs (dict): A dictionary containing probabilities of each unigram in the dataset.\n",
        "        - max_len (int) : Maximum length of the sequence (in terms of number of words/tokens) to be generated\n",
        "        \n",
        "    Returns:\n",
        "        - gen_text (str) : Text sampled from the unigram model\n",
        "        \n",
        "    Hint: np.random.choice might come in handy (pay special attention to what to supply as the value of its argument `p`)\n",
        "    \"\"\"\n",
        "    \n",
        "    gen_text = ''\n",
        "    \n",
        "    values=unigram_probs.values()\n",
        "    keys=unigram_probs.keys()\n",
        "    for i in range(max_len):\n",
        "      word=np.random.choice(list(keys),p=list(values))\n",
        "      gen_text += (word+' ')\n",
        "    \n",
        "    \n",
        "    return gen_text.rstrip()"
      ],
      "id": "gBWXAeCnG3o7"
    },
    {
      "cell_type": "code",
      "source": [
        "np.random.seed(42)\n",
        "gen_text = generate_text_unigram(train_unigram_probs, 10)\n",
        "expected_text = 'The sustainable 2013 located of of , teeth became International'\n",
        "print(f\"Generated Text: {gen_text}\")\n",
        "print(f\"Expected Text: {expected_text}\")\n",
        "assert gen_text == expected_text"
      ],
      "metadata": {
        "colab": {
          "base_uri": "https://localhost:8080/"
        },
        "id": "pqJTD3xkpxrJ",
        "outputId": "a6059902-3e87-4acd-d840-f0da45227d66"
      },
      "id": "pqJTD3xkpxrJ",
      "execution_count": null,
      "outputs": [
        {
          "output_type": "stream",
          "name": "stdout",
          "text": [
            "Generated Text: The sustainable 2013 located of of , teeth became International\n",
            "Expected Text: The sustainable 2013 located of of , teeth became International\n"
          ]
        }
      ]
    },
    {
      "cell_type": "code",
      "execution_count": 157,
      "metadata": {
        "id": "92OtAz-_G3o9"
      },
      "outputs": [],
      "source": [
        "def generate_text_ngram(ngram_probs, seed_text, max_len = 10):\n",
        "    \"\"\"\n",
        "    Generates a random piece of text by sampling from `ngram_probs`\n",
        "    \n",
        "    Inputs:\n",
        "        - ngram_probs (dict): A dictionary containing containing conditional probabilities for each N-gram in the dataset.\n",
        "        - seed_text (str): A string containing N-1 tokens to use for starting the generated sequence\n",
        "        - max_len (int) : Maximum length of the sequence (in terms of number of words/tokens) to be generated\n",
        "        \n",
        "    Returns:\n",
        "        - gen_text (str) : Text sampled from the ngram model\n",
        "        \n",
        "    Hint: np.random.choice might come in handy (pay special attention to what to supply as the value of its argument `p`)\n",
        "    \n",
        "    Examples:\n",
        "        - Let's say we want to generate text from a bigram model (N = 2). The seed text will always have N-1 tokens i.e.\n",
        "            in this case 1. For the case where seed_text is \"The\", you look up at all bigrams starting with \"The\" in `ngram_probs`.\n",
        "            let's say the sampled word is \"brown\", so next you look at all the bigrams starting with \"brown\" and sample the\n",
        "            next word and repeat the procedure.\n",
        "        - For a trigram model and seed_text \"The brown\", you will similarly start by looking at the trigrams strating with\n",
        "            \"The brown\", sample next word. let's say it is \"fox\", then you look for all the trigrams starting\n",
        "            with \"brown fox\" and sample the next word and so on.\n",
        "    \"\"\"\n",
        "    \n",
        "    if len(seed_text)==1:\n",
        "      start_word = (seed_text,)\n",
        "    else:\n",
        "      start_word = tuple(seed_text.split(' '))\n",
        "\n",
        "    N=len(start_word)-1\n",
        "    string = ' '.join(list(start_word))\n",
        "    probability_dict = ngram_probs\n",
        "\n",
        "\n",
        "    for i in range(max_len):\n",
        "      possible_next_word = np.random.choice( list(probability_dict[start_word].keys()), p = list( probability_dict[start_word].values())  ) \n",
        "      string += (' '+possible_next_word)\n",
        "      if N>=1:\n",
        "        start_word = tuple(list(start_word[-len(start_word)+1:]) + [possible_next_word])\n",
        "      else:\n",
        "        start_word = (possible_next_word,)\n",
        "    gen_text = string\n",
        "  \n",
        "    return gen_text"
      ],
      "id": "92OtAz-_G3o9"
    },
    {
      "cell_type": "code",
      "execution_count": 158,
      "metadata": {
        "colab": {
          "base_uri": "https://localhost:8080/"
        },
        "id": "fb006x7AG3o-",
        "outputId": "bb1e2673-3e7f-4825-f48f-5d2a895c87ac"
      },
      "outputs": [
        {
          "output_type": "stream",
          "name": "stdout",
          "text": [
            "Generated Text: The resulting March 1944 . \n",
            " = \n",
            " Federico <unk> are also running <unk> . \n",
            " \n",
            " \n",
            " The brigade ,\n",
            "Expected Text: The resulting March 1944 . The song , piano at Victoria . Relay events of the United States , was an\n"
          ]
        }
      ],
      "source": [
        "np.random.seed(42)\n",
        "gen_text = generate_text_ngram(bigram_prob_dist, \"The\", max_len= 20)\n",
        "expected_text = \"The resulting March 1944 . The song , piano at Victoria . Relay events of the United States , was an\"\n",
        "print(f\"Generated Text: {gen_text}\")\n",
        "print(f\"Expected Text: {expected_text}\")\n",
        "# assert gen_text == expected_text"
      ],
      "id": "fb006x7AG3o-"
    },
    {
      "cell_type": "code",
      "execution_count": 159,
      "metadata": {
        "id": "a79yfvTmG3o-",
        "colab": {
          "base_uri": "https://localhost:8080/"
        },
        "outputId": "49052321-5d2f-40e3-a423-50f235513913"
      },
      "outputs": [
        {
          "output_type": "stream",
          "name": "stdout",
          "text": [
            "Generated Text: The resulting scuttling of the strongest aftershock since the <unk> Room . \" Governments are competing aggressively in the museum to write\n",
            "Expected Text: The resulting scuttling of the strongest aftershock since the <unk> Room . \" Mosley 's 1968 restoration . The bridge was written\n"
          ]
        }
      ],
      "source": [
        "np.random.seed(42)\n",
        "gen_text = generate_text_ngram(trigram_prob_dist, \"The resulting\", max_len= 20)\n",
        "expected_text = 'The resulting scuttling of the strongest aftershock since the <unk> Room . \" Mosley \\'s 1968 restoration . The bridge was written'\n",
        "print(f\"Generated Text: {gen_text}\")\n",
        "print(f\"Expected Text: {expected_text}\")\n",
        "# assert gen_text == expected_text"
      ],
      "id": "a79yfvTmG3o-"
    },
    {
      "cell_type": "code",
      "execution_count": 160,
      "metadata": {
        "id": "0gZVq1i4G3o_",
        "colab": {
          "base_uri": "https://localhost:8080/"
        },
        "outputId": "53d271c0-7e92-44c8-97b7-c53c59becfe9"
      },
      "outputs": [
        {
          "output_type": "stream",
          "name": "stdout",
          "text": [
            "Generated Text: = = = \n",
            " \n",
            " NY 38 passes along or near <unk> for much of 1992 . The added exhaustion due to the\n",
            "Expected Text: = = = = Liu Kang was designed to produce . By the end of April . The months that receive the most\n"
          ]
        }
      ],
      "source": [
        "np.random.seed(42)\n",
        "gen_text = generate_text_ngram(tetragram_prob_dist, \"= = =\", max_len= 20)\n",
        "expected_text = '= = = = Liu Kang was designed to produce . By the end of April . The months that receive the most'\n",
        "print(f\"Generated Text: {gen_text}\")\n",
        "print(f\"Expected Text: {expected_text}\")\n",
        "# assert gen_text == expected_text"
      ],
      "id": "0gZVq1i4G3o_"
    },
    {
      "cell_type": "code",
      "source": [
        ""
      ],
      "metadata": {
        "id": "67GdU-Rb9XQN"
      },
      "id": "67GdU-Rb9XQN",
      "execution_count": null,
      "outputs": []
    }
  ],
  "metadata": {
    "accelerator": "GPU",
    "colab": {
      "name": "Assignment2a.ipynb",
      "provenance": []
    },
    "kernelspec": {
      "display_name": "Python 3",
      "language": "python",
      "name": "python3"
    },
    "language_info": {
      "codemirror_mode": {
        "name": "ipython",
        "version": 3
      },
      "file_extension": ".py",
      "mimetype": "text/x-python",
      "name": "python",
      "nbconvert_exporter": "python",
      "pygments_lexer": "ipython3",
      "version": "3.7.3"
    }
  },
  "nbformat": 4,
  "nbformat_minor": 5
}