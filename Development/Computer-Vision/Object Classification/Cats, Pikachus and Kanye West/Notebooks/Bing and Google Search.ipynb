{
 "cells": [
  {
   "cell_type": "code",
   "execution_count": 1,
   "metadata": {},
   "outputs": [],
   "source": [
    "def scrape(query,i,key,folder_name='None'):\n",
    "  \"\"\"\n",
    "    i=1 : If the images has to be saved in a folder , Enter folder_name in this case\n",
    "    i=2: If images has to be saved as a numpy file\n",
    "    i=3: If images has to be saved as both\"\"\"\n",
    "\n",
    "\n",
    "  url=\"http://www.bing.com/images/search?q=\" + query + \"&FORM=HDRSC2\"\n",
    "  from urllib.request import urlopen\n",
    "  from bs4 import BeautifulSoup\n",
    "  import cv2\n",
    "  from urllib.request import urlopen\n",
    "  import numpy as np\n",
    "  from tqdm import tqdm\n",
    "\n",
    "\n",
    "  htmldata = urlopen(url)\n",
    "  soup = BeautifulSoup(htmldata, 'html.parser')\n",
    "  images = soup.find_all('img')\n",
    "  files=[]\n",
    "  for image in tqdm(images):\n",
    "    try:\n",
    "      url=image['src2']\n",
    "      cap=cv2.VideoCapture(url)\n",
    "      ret,image=cap.read()\n",
    "      image=cv2.cvtColor(image,cv2.COLOR_BGR2RGB)\n",
    "      image=cv2.resize(image,(250,250))\n",
    "      image=np.array(image)\n",
    "      files.append(image)\n",
    "    except:\n",
    "      pass\n",
    "  print(len(files),' images extracted from given URL')\n",
    "\n",
    "  if (int(i)==1) | (int(i)==3):\n",
    "    import os\n",
    "    try:\n",
    "      os.mkdir(folder_name)\n",
    "    except:\n",
    "      pass\n",
    "    for i,im in enumerate(files):\n",
    "      cv2.imwrite(folder_name+'/'+key+str(i)+'.png',im)\n",
    "    if i==3:\n",
    "      np.savez(str(folder_name)+'.npz',data=files)\n",
    "  elif i==2 : \n",
    "    np.savez(str(folder_name)+'.npz',data=files)\n",
    "\n",
    "      "
   ]
  },
  {
   "cell_type": "markdown",
   "metadata": {},
   "source": [
    "# Fetching images of cat from bing"
   ]
  },
  {
   "cell_type": "code",
   "execution_count": 2,
   "metadata": {},
   "outputs": [
    {
     "name": "stderr",
     "output_type": "stream",
     "text": [
      "100%|██████████| 206/206 [00:13<00:00, 15.60it/s]\n"
     ]
    },
    {
     "name": "stdout",
     "output_type": "stream",
     "text": [
      "150  images extracted from given URL\n"
     ]
    }
   ],
   "source": [
    "query='Cat'\n",
    "key='cat'\n",
    "folder='Cat'\n",
    "scrape(query,3,key,folder)"
   ]
  },
  {
   "cell_type": "code",
   "execution_count": 3,
   "metadata": {},
   "outputs": [
    {
     "name": "stderr",
     "output_type": "stream",
     "text": [
      "100%|██████████| 172/172 [00:15<00:00, 11.41it/s]\n"
     ]
    },
    {
     "name": "stdout",
     "output_type": "stream",
     "text": [
      "119  images extracted from given URL\n"
     ]
    }
   ],
   "source": [
    "query='Cute%cat'\n",
    "key='cutecat'\n",
    "folder='Cat'\n",
    "scrape(query,3,key,folder)"
   ]
  },
  {
   "cell_type": "code",
   "execution_count": 4,
   "metadata": {},
   "outputs": [
    {
     "name": "stderr",
     "output_type": "stream",
     "text": [
      "100%|██████████| 84/84 [00:04<00:00, 18.62it/s]\n"
     ]
    },
    {
     "name": "stdout",
     "output_type": "stream",
     "text": [
      "32  images extracted from given URL\n"
     ]
    }
   ],
   "source": [
    "query='Angry%cat'\n",
    "key='angrycat'\n",
    "folder='Cat'\n",
    "scrape(query,3,key,folder)"
   ]
  },
  {
   "cell_type": "code",
   "execution_count": 5,
   "metadata": {},
   "outputs": [
    {
     "name": "stderr",
     "output_type": "stream",
     "text": [
      "100%|██████████| 168/168 [00:30<00:00,  5.58it/s]\n"
     ]
    },
    {
     "name": "stdout",
     "output_type": "stream",
     "text": [
      "114  images extracted from given URL\n"
     ]
    }
   ],
   "source": [
    "query='Fat%cat'\n",
    "key='fat'\n",
    "folder='Cat'\n",
    "scrape(query,3,key,folder)"
   ]
  },
  {
   "cell_type": "code",
   "execution_count": 6,
   "metadata": {},
   "outputs": [
    {
     "name": "stderr",
     "output_type": "stream",
     "text": [
      "100%|██████████| 191/191 [00:17<00:00, 10.62it/s]\n"
     ]
    },
    {
     "name": "stdout",
     "output_type": "stream",
     "text": [
      "137  images extracted from given URL\n"
     ]
    }
   ],
   "source": [
    "query='kitten'\n",
    "key='kitten'\n",
    "folder='Cat'\n",
    "scrape(query,3,key,folder)"
   ]
  },
  {
   "cell_type": "code",
   "execution_count": 7,
   "metadata": {},
   "outputs": [
    {
     "name": "stderr",
     "output_type": "stream",
     "text": [
      "100%|██████████| 158/158 [00:31<00:00,  5.04it/s]\n"
     ]
    },
    {
     "name": "stdout",
     "output_type": "stream",
     "text": [
      "104  images extracted from given URL\n"
     ]
    }
   ],
   "source": [
    "query='furry%cat'\n",
    "key='furry'\n",
    "folder='Cat'\n",
    "scrape(query,3,key,folder)"
   ]
  },
  {
   "cell_type": "markdown",
   "metadata": {},
   "source": [
    "# Fetching images of Pikachu from bing"
   ]
  },
  {
   "cell_type": "code",
   "execution_count": 8,
   "metadata": {},
   "outputs": [
    {
     "name": "stderr",
     "output_type": "stream",
     "text": [
      "100%|██████████| 210/210 [00:21<00:00,  9.80it/s]\n"
     ]
    },
    {
     "name": "stdout",
     "output_type": "stream",
     "text": [
      "156  images extracted from given URL\n"
     ]
    }
   ],
   "source": [
    "query='Pikachu'\n",
    "key='pikachu'\n",
    "folder='Pikachu'\n",
    "scrape(query,3,key,folder)"
   ]
  },
  {
   "cell_type": "code",
   "execution_count": 9,
   "metadata": {},
   "outputs": [
    {
     "name": "stderr",
     "output_type": "stream",
     "text": [
      "100%|██████████| 210/210 [00:15<00:00, 13.15it/s]\n"
     ]
    },
    {
     "name": "stdout",
     "output_type": "stream",
     "text": [
      "156  images extracted from given URL\n"
     ]
    }
   ],
   "source": [
    "query='Pikachu%3D'\n",
    "key='pikachu3d'\n",
    "folder='Pikachu'\n",
    "scrape(query,3,key,folder)"
   ]
  },
  {
   "cell_type": "code",
   "execution_count": 10,
   "metadata": {},
   "outputs": [
    {
     "name": "stderr",
     "output_type": "stream",
     "text": [
      "100%|██████████| 171/171 [00:21<00:00,  8.03it/s]\n"
     ]
    },
    {
     "name": "stdout",
     "output_type": "stream",
     "text": [
      "118  images extracted from given URL\n"
     ]
    }
   ],
   "source": [
    "query='Cute%Pikachu'\n",
    "key='pikachucute'\n",
    "folder='Pikachu'\n",
    "scrape(query,3,key,folder)"
   ]
  },
  {
   "cell_type": "code",
   "execution_count": 11,
   "metadata": {},
   "outputs": [
    {
     "name": "stderr",
     "output_type": "stream",
     "text": [
      "100%|██████████| 182/182 [00:35<00:00,  5.10it/s]\n"
     ]
    },
    {
     "name": "stdout",
     "output_type": "stream",
     "text": [
      "128  images extracted from given URL\n"
     ]
    }
   ],
   "source": [
    "query='Angry%Pikachu'\n",
    "key='pikachuangry'\n",
    "folder='Pikachu'\n",
    "scrape(query,3,key,folder)"
   ]
  },
  {
   "cell_type": "code",
   "execution_count": 12,
   "metadata": {},
   "outputs": [
    {
     "name": "stderr",
     "output_type": "stream",
     "text": [
      "100%|██████████| 247/247 [00:46<00:00,  5.31it/s]\n"
     ]
    },
    {
     "name": "stdout",
     "output_type": "stream",
     "text": [
      "194  images extracted from given URL\n"
     ]
    }
   ],
   "source": [
    "query='Pikachu%meme'\n",
    "key='meme'\n",
    "folder='Pikachu'\n",
    "scrape(query,3,key,folder)"
   ]
  },
  {
   "cell_type": "markdown",
   "metadata": {},
   "source": [
    "# Fetching images of Kanye West"
   ]
  },
  {
   "cell_type": "code",
   "execution_count": 13,
   "metadata": {},
   "outputs": [
    {
     "name": "stderr",
     "output_type": "stream",
     "text": [
      "100%|██████████| 167/167 [00:15<00:00, 10.85it/s]\n"
     ]
    },
    {
     "name": "stdout",
     "output_type": "stream",
     "text": [
      "114  images extracted from given URL\n"
     ]
    }
   ],
   "source": [
    "query='Kanye%West%Face'\n",
    "key='face'\n",
    "folder='KanyeWest'\n",
    "scrape(query,3,key,folder)"
   ]
  },
  {
   "cell_type": "code",
   "execution_count": 14,
   "metadata": {},
   "outputs": [
    {
     "name": "stderr",
     "output_type": "stream",
     "text": [
      "100%|██████████| 173/173 [00:23<00:00,  7.43it/s]\n"
     ]
    },
    {
     "name": "stdout",
     "output_type": "stream",
     "text": [
      "119  images extracted from given URL\n"
     ]
    }
   ],
   "source": [
    "query='Kanye%West%latest'\n",
    "key='latest'\n",
    "folder='KanyeWest'\n",
    "scrape(query,3,key,folder)"
   ]
  },
  {
   "cell_type": "code",
   "execution_count": 15,
   "metadata": {},
   "outputs": [
    {
     "name": "stderr",
     "output_type": "stream",
     "text": [
      "100%|██████████| 202/202 [00:16<00:00, 11.93it/s]\n"
     ]
    },
    {
     "name": "stdout",
     "output_type": "stream",
     "text": [
      "148  images extracted from given URL\n"
     ]
    }
   ],
   "source": [
    "query='Kanye%West%Picture'\n",
    "key='picture'\n",
    "folder='KanyeWest'\n",
    "scrape(query,3,key,folder)"
   ]
  },
  {
   "cell_type": "code",
   "execution_count": 16,
   "metadata": {},
   "outputs": [
    {
     "name": "stderr",
     "output_type": "stream",
     "text": [
      "100%|██████████| 202/202 [00:12<00:00, 15.67it/s]\n"
     ]
    },
    {
     "name": "stdout",
     "output_type": "stream",
     "text": [
      "149  images extracted from given URL\n"
     ]
    }
   ],
   "source": [
    "query='Kanye%West%images'\n",
    "key='images'\n",
    "folder='KanyeWest'\n",
    "scrape(query,3,key,folder)"
   ]
  },
  {
   "cell_type": "markdown",
   "metadata": {},
   "source": [
    "# Using Google Search API to get more images\n"
   ]
  },
  {
   "cell_type": "code",
   "execution_count": 7,
   "metadata": {},
   "outputs": [],
   "source": [
    "def google_search(query):\n",
    "  import requests\n",
    "  import json\n",
    "  from tqdm import tqdm\n",
    "  import cv2\n",
    "\n",
    "  files=[]\n",
    "  print('Downloading. . .')\n",
    "  for i in range(3):\n",
    "    url = \"https://contextualwebsearch-websearch-v1.p.rapidapi.com/api/Search/ImageSearchAPI\"\n",
    "\n",
    "    querystring = {\"q\":query,\"pageNumber\":str(i+1),\"pageSize\":\"50\",\"autoCorrect\":\"true\",\"safeSearch\":\"false\"}\n",
    "\n",
    "    headers = {\n",
    "        'x-rapidapi-host': \"contextualwebsearch-websearch-v1.p.rapidapi.com\",\n",
    "        'x-rapidapi-key': \"71ac9436b5mshbc0e827db424572p15f53ejsnd2c1765c8618\"\n",
    "        }\n",
    "\n",
    "    response = requests.request(\"GET\", url, headers=headers, params=querystring)\n",
    "\n",
    "    resp=json.loads(response.text)\n",
    "\n",
    "\n",
    "\n",
    "    for i in tqdm(range(len(resp['value']))):\n",
    "      url=resp['value'][i]['thumbnail']\n",
    "      cap=cv2.VideoCapture(url)\n",
    "      ret,image=cap.read()\n",
    "      image=cv2.cvtColor(image,cv2.COLOR_BGR2RGB)\n",
    "      image=cv2.resize(image,(250,250))\n",
    "      image=np.array(image)\n",
    "      files.append(image)\n",
    "    print(len(files),' files downloaded')\n",
    "    \n",
    "    if (int(i)==1) | (int(i)==3):\n",
    "    import os\n",
    "    try:\n",
    "      os.mkdir(folder_name)\n",
    "    except:\n",
    "      pass\n",
    "    for i,im in enumerate(files):\n",
    "      cv2.imwrite(folder_name+'/'+key+str(i)+'.png',im)\n",
    "    if i==3:\n",
    "      np.savez(str(folder_name)+'.npz',data=files)\n",
    "    elif i==2 : \n",
    "    np.savez(str(folder_name)+'.npz',data=files)\n"
   ]
  },
  {
   "cell_type": "code",
   "execution_count": 8,
   "metadata": {},
   "outputs": [
    {
     "name": "stdout",
     "output_type": "stream",
     "text": [
      "Downloading. . .\n"
     ]
    },
    {
     "name": "stderr",
     "output_type": "stream",
     "text": [
      "  0%|          | 0/50 [00:00<?, ?it/s]\n"
     ]
    },
    {
     "ename": "error",
     "evalue": "OpenCV(3.4.4) /io/opencv/modules/imgproc/src/color.cpp:181: error: (-215:Assertion failed) !_src.empty() in function 'cvtColor'\n",
     "output_type": "error",
     "traceback": [
      "\u001b[0;31m---------------------------------------------------------------------------\u001b[0m",
      "\u001b[0;31merror\u001b[0m                                     Traceback (most recent call last)",
      "\u001b[0;32m<ipython-input-8-4a36274115e8>\u001b[0m in \u001b[0;36m<module>\u001b[0;34m\u001b[0m\n\u001b[0;32m----> 1\u001b[0;31m \u001b[0mfiles\u001b[0m\u001b[0;34m=\u001b[0m\u001b[0mgoogle_search\u001b[0m\u001b[0;34m(\u001b[0m\u001b[0;34m'kanye west face'\u001b[0m\u001b[0;34m)\u001b[0m\u001b[0;34m\u001b[0m\u001b[0;34m\u001b[0m\u001b[0m\n\u001b[0m\u001b[1;32m      2\u001b[0m \u001b[0;32mtry\u001b[0m\u001b[0;34m:\u001b[0m\u001b[0;34m\u001b[0m\u001b[0;34m\u001b[0m\u001b[0m\n\u001b[1;32m      3\u001b[0m     \u001b[0;32mimport\u001b[0m \u001b[0mos\u001b[0m\u001b[0;34m\u001b[0m\u001b[0;34m\u001b[0m\u001b[0m\n\u001b[1;32m      4\u001b[0m     \u001b[0mos\u001b[0m\u001b[0;34m.\u001b[0m\u001b[0mmkdir\u001b[0m\u001b[0;34m(\u001b[0m\u001b[0;34m'KanyeWest'\u001b[0m\u001b[0;34m)\u001b[0m\u001b[0;34m\u001b[0m\u001b[0;34m\u001b[0m\u001b[0m\n\u001b[1;32m      5\u001b[0m \u001b[0;32mexcept\u001b[0m\u001b[0;34m:\u001b[0m\u001b[0;34m\u001b[0m\u001b[0;34m\u001b[0m\u001b[0m\n",
      "\u001b[0;32m<ipython-input-7-007bee7ccc8f>\u001b[0m in \u001b[0;36mgoogle_search\u001b[0;34m(query)\u001b[0m\n\u001b[1;32m     27\u001b[0m       \u001b[0mcap\u001b[0m\u001b[0;34m=\u001b[0m\u001b[0mcv2\u001b[0m\u001b[0;34m.\u001b[0m\u001b[0mVideoCapture\u001b[0m\u001b[0;34m(\u001b[0m\u001b[0murl\u001b[0m\u001b[0;34m)\u001b[0m\u001b[0;34m\u001b[0m\u001b[0;34m\u001b[0m\u001b[0m\n\u001b[1;32m     28\u001b[0m       \u001b[0mret\u001b[0m\u001b[0;34m,\u001b[0m\u001b[0mimage\u001b[0m\u001b[0;34m=\u001b[0m\u001b[0mcap\u001b[0m\u001b[0;34m.\u001b[0m\u001b[0mread\u001b[0m\u001b[0;34m(\u001b[0m\u001b[0;34m)\u001b[0m\u001b[0;34m\u001b[0m\u001b[0;34m\u001b[0m\u001b[0m\n\u001b[0;32m---> 29\u001b[0;31m       \u001b[0mimage\u001b[0m\u001b[0;34m=\u001b[0m\u001b[0mcv2\u001b[0m\u001b[0;34m.\u001b[0m\u001b[0mcvtColor\u001b[0m\u001b[0;34m(\u001b[0m\u001b[0mimage\u001b[0m\u001b[0;34m,\u001b[0m\u001b[0mcv2\u001b[0m\u001b[0;34m.\u001b[0m\u001b[0mCOLOR_BGR2RGB\u001b[0m\u001b[0;34m)\u001b[0m\u001b[0;34m\u001b[0m\u001b[0;34m\u001b[0m\u001b[0m\n\u001b[0m\u001b[1;32m     30\u001b[0m       \u001b[0mimage\u001b[0m\u001b[0;34m=\u001b[0m\u001b[0mcv2\u001b[0m\u001b[0;34m.\u001b[0m\u001b[0mresize\u001b[0m\u001b[0;34m(\u001b[0m\u001b[0mimage\u001b[0m\u001b[0;34m,\u001b[0m\u001b[0;34m(\u001b[0m\u001b[0;36m250\u001b[0m\u001b[0;34m,\u001b[0m\u001b[0;36m250\u001b[0m\u001b[0;34m)\u001b[0m\u001b[0;34m)\u001b[0m\u001b[0;34m\u001b[0m\u001b[0;34m\u001b[0m\u001b[0m\n\u001b[1;32m     31\u001b[0m       \u001b[0mimage\u001b[0m\u001b[0;34m=\u001b[0m\u001b[0mnp\u001b[0m\u001b[0;34m.\u001b[0m\u001b[0marray\u001b[0m\u001b[0;34m(\u001b[0m\u001b[0mimage\u001b[0m\u001b[0;34m)\u001b[0m\u001b[0;34m\u001b[0m\u001b[0;34m\u001b[0m\u001b[0m\n",
      "\u001b[0;31merror\u001b[0m: OpenCV(3.4.4) /io/opencv/modules/imgproc/src/color.cpp:181: error: (-215:Assertion failed) !_src.empty() in function 'cvtColor'\n"
     ]
    }
   ],
   "source": [
    "files=google_search('kanye west face')\n",
    "try:\n",
    "    import os\n",
    "    os.mkdir('KanyeWest')\n",
    "except:\n",
    "    pass\n",
    "i=0\n",
    "for image in files:\n",
    "  cv2.imwrite('KanyeWest/'+str(i)+'.png',image)\n",
    "  i+=1\n",
    "    \n",
    "    "
   ]
  },
  {
   "cell_type": "code",
   "execution_count": 9,
   "metadata": {},
   "outputs": [
    {
     "name": "stdout",
     "output_type": "stream",
     "text": [
      "Downloading. . .\n"
     ]
    },
    {
     "name": "stderr",
     "output_type": "stream",
     "text": [
      "  0%|          | 0/50 [00:00<?, ?it/s]\n"
     ]
    },
    {
     "ename": "error",
     "evalue": "OpenCV(3.4.4) /io/opencv/modules/imgproc/src/color.cpp:181: error: (-215:Assertion failed) !_src.empty() in function 'cvtColor'\n",
     "output_type": "error",
     "traceback": [
      "\u001b[0;31m---------------------------------------------------------------------------\u001b[0m",
      "\u001b[0;31merror\u001b[0m                                     Traceback (most recent call last)",
      "\u001b[0;32m<ipython-input-9-996035a46bb5>\u001b[0m in \u001b[0;36m<module>\u001b[0;34m\u001b[0m\n\u001b[1;32m     29\u001b[0m   \u001b[0mcap\u001b[0m\u001b[0;34m=\u001b[0m\u001b[0mcv2\u001b[0m\u001b[0;34m.\u001b[0m\u001b[0mVideoCapture\u001b[0m\u001b[0;34m(\u001b[0m\u001b[0murl\u001b[0m\u001b[0;34m)\u001b[0m\u001b[0;34m\u001b[0m\u001b[0;34m\u001b[0m\u001b[0m\n\u001b[1;32m     30\u001b[0m   \u001b[0mret\u001b[0m\u001b[0;34m,\u001b[0m\u001b[0mimage\u001b[0m\u001b[0;34m=\u001b[0m\u001b[0mcap\u001b[0m\u001b[0;34m.\u001b[0m\u001b[0mread\u001b[0m\u001b[0;34m(\u001b[0m\u001b[0;34m)\u001b[0m\u001b[0;34m\u001b[0m\u001b[0;34m\u001b[0m\u001b[0m\n\u001b[0;32m---> 31\u001b[0;31m   \u001b[0mimage\u001b[0m\u001b[0;34m=\u001b[0m\u001b[0mcv2\u001b[0m\u001b[0;34m.\u001b[0m\u001b[0mcvtColor\u001b[0m\u001b[0;34m(\u001b[0m\u001b[0mimage\u001b[0m\u001b[0;34m,\u001b[0m\u001b[0mcv2\u001b[0m\u001b[0;34m.\u001b[0m\u001b[0mCOLOR_BGR2RGB\u001b[0m\u001b[0;34m)\u001b[0m\u001b[0;34m\u001b[0m\u001b[0;34m\u001b[0m\u001b[0m\n\u001b[0m\u001b[1;32m     32\u001b[0m   \u001b[0mimage\u001b[0m\u001b[0;34m=\u001b[0m\u001b[0mcv2\u001b[0m\u001b[0;34m.\u001b[0m\u001b[0mresize\u001b[0m\u001b[0;34m(\u001b[0m\u001b[0mimage\u001b[0m\u001b[0;34m,\u001b[0m\u001b[0;34m(\u001b[0m\u001b[0;36m250\u001b[0m\u001b[0;34m,\u001b[0m\u001b[0;36m250\u001b[0m\u001b[0;34m)\u001b[0m\u001b[0;34m)\u001b[0m\u001b[0;34m\u001b[0m\u001b[0;34m\u001b[0m\u001b[0m\n\u001b[1;32m     33\u001b[0m   \u001b[0mimage\u001b[0m\u001b[0;34m=\u001b[0m\u001b[0mnp\u001b[0m\u001b[0;34m.\u001b[0m\u001b[0marray\u001b[0m\u001b[0;34m(\u001b[0m\u001b[0mimage\u001b[0m\u001b[0;34m)\u001b[0m\u001b[0;34m\u001b[0m\u001b[0;34m\u001b[0m\u001b[0m\n",
      "\u001b[0;31merror\u001b[0m: OpenCV(3.4.4) /io/opencv/modules/imgproc/src/color.cpp:181: error: (-215:Assertion failed) !_src.empty() in function 'cvtColor'\n"
     ]
    }
   ],
   "source": [
    "import requests\n",
    "import json\n",
    "from tqdm import tqdm\n",
    "import cv2\n",
    "import numpy as np\n",
    "\n",
    "query='kanye west face'\n",
    "files=[]\n",
    "\n",
    "print('Downloading. . .')\n",
    "for i in range(2):\n",
    "  url = \"https://contextualwebsearch-websearch-v1.p.rapidapi.com/api/Search/ImageSearchAPI\"\n",
    "\n",
    "  querystring = {\"q\":query,\"pageNumber\":str(i+1),\"pageSize\":\"50\",\"autoCorrect\":\"true\",\"safeSearch\":\"false\"}\n",
    "\n",
    "  headers = {\n",
    "      'x-rapidapi-host': \"contextualwebsearch-websearch-v1.p.rapidapi.com\",\n",
    "      'x-rapidapi-key': \"71ac9436b5mshbc0e827db424572p15f53ejsnd2c1765c8618\"\n",
    "      }\n",
    "\n",
    "  response = requests.request(\"GET\", url, headers=headers, params=querystring)\n",
    "\n",
    "  resp=json.loads(response.text)\n",
    "\n",
    "\n",
    "\n",
    "for i in tqdm(range(len(resp['value']))):\n",
    "  url=resp['value'][i]['thumbnail']\n",
    "  cap=cv2.VideoCapture(url)\n",
    "  ret,image=cap.read()\n",
    "  image=cv2.cvtColor(image,cv2.COLOR_BGR2RGB)\n",
    "  image=cv2.resize(image,(250,250))\n",
    "  image=np.array(image)\n",
    "  files.append(image)\n",
    "print(len(files),' files downloaded')"
   ]
  },
  {
   "cell_type": "code",
   "execution_count": null,
   "metadata": {},
   "outputs": [],
   "source": []
  }
 ],
 "metadata": {
  "kernelspec": {
   "display_name": "Python 3",
   "language": "python",
   "name": "python3"
  },
  "language_info": {
   "codemirror_mode": {
    "name": "ipython",
    "version": 3
   },
   "file_extension": ".py",
   "mimetype": "text/x-python",
   "name": "python",
   "nbconvert_exporter": "python",
   "pygments_lexer": "ipython3",
   "version": "3.7.3"
  }
 },
 "nbformat": 4,
 "nbformat_minor": 2
}
