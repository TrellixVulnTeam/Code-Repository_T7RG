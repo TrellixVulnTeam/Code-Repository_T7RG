{
 "cells": [
  {
   "cell_type": "markdown",
   "metadata": {
    "id": "RezYgXqibogE"
   },
   "source": [
    "## Semantic Segmentation\n",
    "\n",
    "Semantic segmentation, which is a pixel-level labeling for image classification, is an important technique for the scene understanding. Because each pixel is labeled as belonging to a given semantic class. \n",
    "\n",
    "Autonomous driving will be one of the revolutionary technologies in the near future in terms of the impact on the lives of people living in industrially developed\n",
    "countries. An autonomous vehicle must sense its surroundings and act safely to reach a certain target. Such functionality is carried out by using several types of classifiers. \n",
    "\n",
    "In a typical task of scene understanding, the classes could be road, street, traffic signs, street markings, cars, pedestrians, sidewalks, trees. \n"
   ]
  },
  {
   "cell_type": "code",
   "execution_count": 2,
   "metadata": {
    "colab": {
     "base_uri": "https://localhost:8080/",
     "height": 35
    },
    "executionInfo": {
     "elapsed": 2511,
     "status": "ok",
     "timestamp": 1610208579012,
     "user": {
      "displayName": "Abhishek Singh",
      "photoUrl": "",
      "userId": "02564130673443773880"
     },
     "user_tz": -330
    },
    "id": "Nou4csEU5ulT",
    "outputId": "7ebfb5ec-a081-4c3d-f2eb-b6f35a763c34"
   },
   "outputs": [
    {
     "data": {
      "text/plain": [
       "'2.7.0'"
      ]
     },
     "execution_count": 2,
     "metadata": {},
     "output_type": "execute_result"
    }
   ],
   "source": [
    "\n",
    "import tensorflow\n",
    "tensorflow.__version__"
   ]
  },
  {
   "cell_type": "code",
   "execution_count": 2,
   "metadata": {
    "colab": {
     "base_uri": "https://localhost:8080/"
    },
    "executionInfo": {
     "elapsed": 2497,
     "status": "ok",
     "timestamp": 1610208579013,
     "user": {
      "displayName": "Abhishek Singh",
      "photoUrl": "",
      "userId": "02564130673443773880"
     },
     "user_tz": -330
    },
    "id": "rNIGEPwbqFCa",
    "outputId": "d06d035f-994e-4201-b7d9-4b614132b133"
   },
   "outputs": [
    {
     "name": "stdout",
     "output_type": "stream",
     "text": [
      "Drive already mounted at /content/drive/; to attempt to forcibly remount, call drive.mount(\"/content/drive/\", force_remount=True).\n"
     ]
    }
   ],
   "source": [
    "from google.colab import drive\n",
    "drive.mount('/content/drive/')"
   ]
  },
  {
   "cell_type": "markdown",
   "metadata": {
    "id": "GEzZgu1hfYQD"
   },
   "source": [
    "## Loading the dataset"
   ]
  },
  {
   "cell_type": "code",
   "execution_count": 3,
   "metadata": {
    "colab": {
     "base_uri": "https://localhost:8080/",
     "height": 35
    },
    "executionInfo": {
     "elapsed": 2487,
     "status": "ok",
     "timestamp": 1610208579015,
     "user": {
      "displayName": "Abhishek Singh",
      "photoUrl": "",
      "userId": "02564130673443773880"
     },
     "user_tz": -330
    },
    "id": "lWqE8dM0qPTv",
    "outputId": "3f08ee45-87cc-4c7c-d153-5fb7166df033",
    "scrolled": true
   },
   "outputs": [
    {
     "data": {
      "application/vnd.google.colaboratory.intrinsic+json": {
       "type": "string"
      },
      "text/plain": [
       "\"\\nimport os\\nos.chdir('/content/drive/My Drive/AIML Notes/Segmentation/')\\npath = '.'\\n\""
      ]
     },
     "execution_count": 3,
     "metadata": {
      "tags": []
     },
     "output_type": "execute_result"
    }
   ],
   "source": [
    "'''\n",
    "import os\n",
    "os.chdir('/content/drive/My Drive/AIML Notes/Segmentation/')\n",
    "path = '.'\n",
    "'''"
   ]
  },
  {
   "cell_type": "code",
   "execution_count": 4,
   "metadata": {
    "executionInfo": {
     "elapsed": 7274,
     "status": "ok",
     "timestamp": 1610208583822,
     "user": {
      "displayName": "Abhishek Singh",
      "photoUrl": "",
      "userId": "02564130673443773880"
     },
     "user_tz": -330
    },
    "id": "6qPSitlIqJrb"
   },
   "outputs": [],
   "source": [
    "from zipfile import ZipFile\n",
    "with ZipFile('data_semantics.zip','r') as z:\n",
    "    z.extractall()"
   ]
  },
  {
   "cell_type": "code",
   "execution_count": 4,
   "metadata": {
    "colab": {
     "base_uri": "https://localhost:8080/"
    },
    "executionInfo": {
     "elapsed": 2477,
     "status": "ok",
     "timestamp": 1610208579016,
     "user": {
      "displayName": "Abhishek Singh",
      "photoUrl": "",
      "userId": "02564130673443773880"
     },
     "user_tz": -330
    },
    "id": "M8HBJNy_xQEj",
    "outputId": "d5bc715e-ae4c-4a98-adff-f1071191003a"
   },
   "outputs": [
    {
     "name": "stdout",
     "output_type": "stream",
     "text": [
      "\u001b[0m\u001b[01;34mdrive\u001b[0m/  \u001b[01;34msample_data\u001b[0m/  \u001b[01;34mtesting\u001b[0m/  \u001b[01;34mtraining\u001b[0m/\n"
     ]
    }
   ],
   "source": [
    "ls"
   ]
  },
  {
   "cell_type": "code",
   "execution_count": 6,
   "metadata": {
    "colab": {
     "base_uri": "https://localhost:8080/",
     "height": 35
    },
    "executionInfo": {
     "elapsed": 7273,
     "status": "ok",
     "timestamp": 1610208583828,
     "user": {
      "displayName": "Abhishek Singh",
      "photoUrl": "",
      "userId": "02564130673443773880"
     },
     "user_tz": -330
    },
    "id": "K9bjl6uD7j2P",
    "outputId": "2d4a4208-2027-4ae7-e612-6041e25dabc0"
   },
   "outputs": [
    {
     "data": {
      "application/vnd.google.colaboratory.intrinsic+json": {
       "type": "string"
      },
      "text/plain": [
       "'/content'"
      ]
     },
     "execution_count": 6,
     "metadata": {
      "tags": []
     },
     "output_type": "execute_result"
    }
   ],
   "source": [
    "pwd"
   ]
  },
  {
   "cell_type": "code",
   "execution_count": 5,
   "metadata": {
    "executionInfo": {
     "elapsed": 7265,
     "status": "ok",
     "timestamp": 1610208583828,
     "user": {
      "displayName": "Abhishek Singh",
      "photoUrl": "",
      "userId": "02564130673443773880"
     },
     "user_tz": -330
    },
    "id": "SYT7Il9k8gQt"
   },
   "outputs": [],
   "source": [
    "project_path = \"Segmentation/\""
   ]
  },
  {
   "cell_type": "code",
   "execution_count": 6,
   "metadata": {
    "executionInfo": {
     "elapsed": 7260,
     "status": "ok",
     "timestamp": 1610208583829,
     "user": {
      "displayName": "Abhishek Singh",
      "photoUrl": "",
      "userId": "02564130673443773880"
     },
     "user_tz": -330
    },
    "id": "TgO-b0xUQzAZ"
   },
   "outputs": [],
   "source": [
    "#Image Settings -\n",
    "\n",
    "IMAGE_HEIGHT = 128\n",
    "IMAGE_WIDTH = 128\n"
   ]
  },
  {
   "cell_type": "code",
   "execution_count": 18,
   "metadata": {
    "executionInfo": {
     "elapsed": 7256,
     "status": "ok",
     "timestamp": 1610208583830,
     "user": {
      "displayName": "Abhishek Singh",
      "photoUrl": "",
      "userId": "02564130673443773880"
     },
     "user_tz": -330
    },
    "id": "0pgWJznvQ3wu"
   },
   "outputs": [],
   "source": [
    "#Getting the image list \n",
    "import os\n",
    "original  = os.listdir('./training/image_2')"
   ]
  },
  {
   "cell_type": "code",
   "execution_count": 19,
   "metadata": {
    "colab": {
     "base_uri": "https://localhost:8080/"
    },
    "executionInfo": {
     "elapsed": 7250,
     "status": "ok",
     "timestamp": 1610208583831,
     "user": {
      "displayName": "Abhishek Singh",
      "photoUrl": "",
      "userId": "02564130673443773880"
     },
     "user_tz": -330
    },
    "id": "SGzaZG6y7xg0",
    "outputId": "926e5b86-2c2d-45ca-ee9e-669d6c06daf2"
   },
   "outputs": [
    {
     "name": "stdout",
     "output_type": "stream",
     "text": [
      "['000121_10.png', '000094_10.png', '000043_10.png', '000045_10.png', '000031_10.png', '000153_10.png', '000038_10.png', '000195_10.png', '000193_10.png', '000113_10.png', '000050_10.png', '000152_10.png', '000148_10.png', '000116_10.png', '000198_10.png', '000040_10.png', '000093_10.png', '000010_10.png', '000023_10.png', '000149_10.png', '000008_10.png', '000197_10.png', '000052_10.png', '000105_10.png', '000068_10.png', '000017_10.png', '000165_10.png', '000009_10.png', '000158_10.png', '000114_10.png', '000095_10.png', '000174_10.png', '000107_10.png', '000067_10.png', '000117_10.png', '000156_10.png', '000188_10.png', '000055_10.png', '000175_10.png', '000109_10.png', '000075_10.png', '000124_10.png', '000180_10.png', '000144_10.png', '000032_10.png', '000065_10.png', '000004_10.png', '000106_10.png', '000166_10.png', '000000_10.png', '000003_10.png', '000145_10.png', '000021_10.png', '000011_10.png', '000110_10.png', '000111_10.png', '000066_10.png', '000041_10.png', '000154_10.png', '000177_10.png', '000096_10.png', '000048_10.png', '000162_10.png', '000016_10.png', '000080_10.png', '000170_10.png', '000030_10.png', '000044_10.png', '000087_10.png', '000122_10.png', '000006_10.png', '000140_10.png', '000051_10.png', '000104_10.png', '000138_10.png', '000189_10.png', '000171_10.png', '000130_10.png', '000185_10.png', '000129_10.png', '000049_10.png', '000057_10.png', '000163_10.png', '000034_10.png', '000186_10.png', '000146_10.png', '000143_10.png', '000060_10.png', '000123_10.png', '000192_10.png', '000139_10.png', '000199_10.png', '000135_10.png', '000007_10.png', '000062_10.png', '000131_10.png', '000042_10.png', '000059_10.png', '000014_10.png', '000058_10.png', '000013_10.png', '000108_10.png', '000063_10.png', '000183_10.png', '000029_10.png', '000126_10.png', '000024_10.png', '000119_10.png', '000077_10.png', '000082_10.png', '000101_10.png', '000150_10.png', '000147_10.png', '000173_10.png', '000133_10.png', '000085_10.png', '000099_10.png', '000159_10.png', '000098_10.png', '000141_10.png', '000118_10.png', '000184_10.png', '000190_10.png', '000078_10.png', '000172_10.png', '000069_10.png', '000064_10.png', '000112_10.png', '000178_10.png', '000076_10.png', '000037_10.png', '000020_10.png', '000100_10.png', '000005_10.png', '000088_10.png', '000001_10.png', '000179_10.png', '000056_10.png', '000071_10.png', '000120_10.png', '000160_10.png', '000033_10.png', '000054_10.png', '000083_10.png', '000132_10.png', '000015_10.png', '000091_10.png', '000081_10.png', '000039_10.png', '000167_10.png', '000090_10.png', '000168_10.png', '000181_10.png', '000137_10.png', '000176_10.png', '000019_10.png', '000155_10.png', '000196_10.png', '000089_10.png', '000127_10.png', '000164_10.png', '000128_10.png', '000136_10.png', '000191_10.png', '000194_10.png', '000097_10.png', '000103_10.png', '000002_10.png', '000070_10.png', '000025_10.png', '000161_10.png', '000012_10.png', '000157_10.png', '000073_10.png', '000134_10.png', '000102_10.png', '000053_10.png', '000125_10.png', '000046_10.png', '000018_10.png', '000182_10.png', '000084_10.png', '000027_10.png', '000036_10.png', '000079_10.png', '000187_10.png', '000022_10.png', '000035_10.png', '000086_10.png', '000142_10.png', '000092_10.png', '000026_10.png', '000061_10.png', '000115_10.png', '000047_10.png', '000074_10.png', '000169_10.png', '000151_10.png', '000028_10.png', '000072_10.png']\n"
     ]
    }
   ],
   "source": [
    "print(original)"
   ]
  },
  {
   "cell_type": "code",
   "execution_count": 20,
   "metadata": {
    "executionInfo": {
     "elapsed": 7244,
     "status": "ok",
     "timestamp": 1610208583832,
     "user": {
      "displayName": "Abhishek Singh",
      "photoUrl": "",
      "userId": "02564130673443773880"
     },
     "user_tz": -330
    },
    "id": "-bXRMCtP8_c4"
   },
   "outputs": [],
   "source": [
    "masks  = os.listdir('./training/semantic')"
   ]
  },
  {
   "cell_type": "code",
   "execution_count": 21,
   "metadata": {
    "colab": {
     "base_uri": "https://localhost:8080/"
    },
    "executionInfo": {
     "elapsed": 7237,
     "status": "ok",
     "timestamp": 1610208583832,
     "user": {
      "displayName": "Abhishek Singh",
      "photoUrl": "",
      "userId": "02564130673443773880"
     },
     "user_tz": -330
    },
    "id": "_a5ABHPV8_fS",
    "outputId": "40181f31-87f0-4f95-b21d-1d867db01b2e"
   },
   "outputs": [
    {
     "name": "stdout",
     "output_type": "stream",
     "text": [
      "['000121_10.png', '000094_10.png', '000043_10.png', '000045_10.png', '000031_10.png', '000153_10.png', '000038_10.png', '000195_10.png', '000193_10.png', '000113_10.png', '000050_10.png', '000152_10.png', '000148_10.png', '000116_10.png', '000198_10.png', '000040_10.png', '000093_10.png', '000010_10.png', '000023_10.png', '000149_10.png', '000008_10.png', '000197_10.png', '000052_10.png', '000105_10.png', '000068_10.png', '000017_10.png', '000165_10.png', '000009_10.png', '000158_10.png', '000114_10.png', '000095_10.png', '000174_10.png', '000107_10.png', '000067_10.png', '000117_10.png', '000156_10.png', '000188_10.png', '000055_10.png', '000175_10.png', '000109_10.png', '000075_10.png', '000124_10.png', '000180_10.png', '000144_10.png', '000032_10.png', '000065_10.png', '000004_10.png', '000106_10.png', '000166_10.png', '000000_10.png', '000003_10.png', '000145_10.png', '000021_10.png', '000011_10.png', '000110_10.png', '000111_10.png', '000066_10.png', '000041_10.png', '000154_10.png', '000177_10.png', '000096_10.png', '000048_10.png', '000162_10.png', '000016_10.png', '000080_10.png', '000170_10.png', '000030_10.png', '000044_10.png', '000087_10.png', '000122_10.png', '000006_10.png', '000140_10.png', '000051_10.png', '000104_10.png', '000138_10.png', '000189_10.png', '000171_10.png', '000130_10.png', '000185_10.png', '000129_10.png', '000049_10.png', '000057_10.png', '000163_10.png', '000034_10.png', '000186_10.png', '000146_10.png', '000143_10.png', '000060_10.png', '000123_10.png', '000192_10.png', '000139_10.png', '000199_10.png', '000135_10.png', '000007_10.png', '000062_10.png', '000131_10.png', '000042_10.png', '000059_10.png', '000014_10.png', '000058_10.png', '000013_10.png', '000108_10.png', '000063_10.png', '000183_10.png', '000029_10.png', '000126_10.png', '000024_10.png', '000119_10.png', '000077_10.png', '000082_10.png', '000101_10.png', '000150_10.png', '000147_10.png', '000173_10.png', '000133_10.png', '000085_10.png', '000099_10.png', '000159_10.png', '000098_10.png', '000141_10.png', '000118_10.png', '000184_10.png', '000190_10.png', '000078_10.png', '000172_10.png', '000069_10.png', '000064_10.png', '000112_10.png', '000178_10.png', '000076_10.png', '000037_10.png', '000020_10.png', '000100_10.png', '000005_10.png', '000088_10.png', '000001_10.png', '000179_10.png', '000056_10.png', '000071_10.png', '000120_10.png', '000160_10.png', '000033_10.png', '000054_10.png', '000083_10.png', '000132_10.png', '000015_10.png', '000091_10.png', '000081_10.png', '000039_10.png', '000167_10.png', '000090_10.png', '000168_10.png', '000181_10.png', '000137_10.png', '000176_10.png', '000019_10.png', '000155_10.png', '000196_10.png', '000089_10.png', '000127_10.png', '000164_10.png', '000128_10.png', '000136_10.png', '000191_10.png', '000194_10.png', '000097_10.png', '000103_10.png', '000002_10.png', '000070_10.png', '000025_10.png', '000161_10.png', '000012_10.png', '000157_10.png', '000073_10.png', '000134_10.png', '000102_10.png', '000053_10.png', '000125_10.png', '000046_10.png', '000018_10.png', '000182_10.png', '000084_10.png', '000027_10.png', '000036_10.png', '000079_10.png', '000187_10.png', '000022_10.png', '000035_10.png', '000086_10.png', '000142_10.png', '000092_10.png', '000026_10.png', '000061_10.png', '000115_10.png', '000047_10.png', '000074_10.png', '000169_10.png', '000151_10.png', '000028_10.png', '000072_10.png']\n"
     ]
    }
   ],
   "source": [
    "print(masks)"
   ]
  },
  {
   "cell_type": "code",
   "execution_count": 22,
   "metadata": {
    "executionInfo": {
     "elapsed": 7232,
     "status": "ok",
     "timestamp": 1610208583833,
     "user": {
      "displayName": "Abhishek Singh",
      "photoUrl": "",
      "userId": "02564130673443773880"
     },
     "user_tz": -330
    },
    "id": "PKX48W3mQ5xJ"
   },
   "outputs": [],
   "source": [
    "# # Separating  mask and images \n",
    "# masks = []\n",
    "# originazzzzl = []\n",
    "# for filename in mylist:\n",
    "#     if filename.endswith('.png'):\n",
    "#         masks.append(filename)\n",
    "#     if filename.endswith('.jpg'):\n",
    "#         original.append(filename)"
   ]
  },
  {
   "cell_type": "code",
   "execution_count": 23,
   "metadata": {
    "executionInfo": {
     "elapsed": 7227,
     "status": "ok",
     "timestamp": 1610208583833,
     "user": {
      "displayName": "Abhishek Singh",
      "photoUrl": "",
      "userId": "02564130673443773880"
     },
     "user_tz": -330
    },
    "id": "20vDqLTKRGgt"
   },
   "outputs": [],
   "source": [
    "#Sorting\n",
    "original.sort()\n",
    "masks.sort()"
   ]
  },
  {
   "cell_type": "code",
   "execution_count": 25,
   "metadata": {
    "colab": {
     "base_uri": "https://localhost:8080/"
    },
    "executionInfo": {
     "elapsed": 7219,
     "status": "ok",
     "timestamp": 1610208583834,
     "user": {
      "displayName": "Abhishek Singh",
      "photoUrl": "",
      "userId": "02564130673443773880"
     },
     "user_tz": -330
    },
    "id": "TTNrYf2mRV-5",
    "outputId": "5e6a4d6f-6a3e-4d24-abd6-6591bb5c308f"
   },
   "outputs": [
    {
     "name": "stdout",
     "output_type": "stream",
     "text": [
      "000199_10.png\n",
      "000199_10.png\n",
      "000001_10.png\n",
      "000001_10.png\n"
     ]
    }
   ],
   "source": [
    "#Checkout image names\n",
    "print(original[-1])\n",
    "print(masks[-1])\n",
    "print(original[1])\n",
    "print(masks[1])\n"
   ]
  },
  {
   "cell_type": "code",
   "execution_count": 26,
   "metadata": {
    "executionInfo": {
     "elapsed": 7213,
     "status": "ok",
     "timestamp": 1610208583835,
     "user": {
      "displayName": "Abhishek Singh",
      "photoUrl": "",
      "userId": "02564130673443773880"
     },
     "user_tz": -330
    },
    "id": "SEArt-hSRdM6"
   },
   "outputs": [],
   "source": [
    "import cv2\n",
    "import matplotlib.pyplot as plt"
   ]
  },
  {
   "cell_type": "code",
   "execution_count": 27,
   "metadata": {
    "executionInfo": {
     "elapsed": 11623,
     "status": "ok",
     "timestamp": 1610208588250,
     "user": {
      "displayName": "Abhishek Singh",
      "photoUrl": "",
      "userId": "02564130673443773880"
     },
     "user_tz": -330
    },
    "id": "AOa_eoYgRjDg"
   },
   "outputs": [],
   "source": [
    "#Get the data -  X and y\n",
    "import numpy as np\n",
    "\n",
    "y = np.zeros((len(masks), IMAGE_HEIGHT, IMAGE_WIDTH, 3), dtype=np.float32)\n",
    "\n",
    "X = np.zeros((len(original), IMAGE_HEIGHT, IMAGE_WIDTH, 3), dtype=np.float32)\n",
    "\n",
    "for file in original:\n",
    "    n = original.index(file)\n",
    "    path1 = os.path.join('./training/image_2', file)\n",
    "    #path1 = './images/Abyssinian_34.jpg'\n",
    "    img = cv2.imread(path1,1)\n",
    "    try:\n",
    "#         print(img.shape)\n",
    "        img = cv2.resize(img, (128,128))\n",
    "#         print(img.shape)\n",
    "#         img = img[..., np.newaxis]\n",
    "        X[n] = img/ 255\n",
    "        file2 = masks[n]\n",
    "        #n = masks.index(file)\n",
    "        path2 = os.path.join('./training/semantic_rgb', file2)\n",
    "        # Load images\n",
    "              \n",
    "        mask = np.array(cv2.imread(path2, 1))\n",
    "#         print(mask.shape)\n",
    "#         mask = (mask<12)*1.0\n",
    "        mask = cv2.resize(mask, (128, 128))\n",
    "#         mask = mask[:, :, :]\n",
    "#         mask = mask[..., np.newaxis]\n",
    "#         print(mask.shape)\n",
    "#         mask = 1.0*(mask[:,:,0]>12)\n",
    "        y[n] = mask/255\n",
    "#         y[n,:,:] = np.squeeze(mask)\n",
    "#         print(y.shape)\n",
    "    except Exception as e:\n",
    "        print(e)\n",
    "        print(path1)\n"
   ]
  },
  {
   "cell_type": "code",
   "execution_count": 28,
   "metadata": {
    "colab": {
     "base_uri": "https://localhost:8080/"
    },
    "executionInfo": {
     "elapsed": 11617,
     "status": "ok",
     "timestamp": 1610208588251,
     "user": {
      "displayName": "Abhishek Singh",
      "photoUrl": "",
      "userId": "02564130673443773880"
     },
     "user_tz": -330
    },
    "id": "EYgY0bUTRohK",
    "outputId": "69c0d97b-faa9-4b1e-bcb8-6d0a36120503"
   },
   "outputs": [
    {
     "name": "stdout",
     "output_type": "stream",
     "text": [
      "(200, 128, 128, 3)\n",
      "(200, 128, 128, 3)\n"
     ]
    }
   ],
   "source": [
    "#Check the data\n",
    "print(X.shape)\n",
    "print(y.shape)"
   ]
  },
  {
   "cell_type": "code",
   "execution_count": 29,
   "metadata": {
    "colab": {
     "base_uri": "https://localhost:8080/",
     "height": 285
    },
    "executionInfo": {
     "elapsed": 11611,
     "status": "ok",
     "timestamp": 1610208588253,
     "user": {
      "displayName": "Abhishek Singh",
      "photoUrl": "",
      "userId": "02564130673443773880"
     },
     "user_tz": -330
    },
    "id": "0QeUxyLYTQEt",
    "outputId": "f395748b-4753-40c3-b95d-39f63ce04970"
   },
   "outputs": [
    {
     "data": {
      "text/plain": [
       "<matplotlib.image.AxesImage at 0x7f8347ec06d8>"
      ]
     },
     "execution_count": 29,
     "metadata": {},
     "output_type": "execute_result"
    },
    {
     "data": {
      "image/png": "[encoded data removed]",
      "text/plain": [
       "<Figure size 432x288 with 1 Axes>"
      ]
     },
     "metadata": {
      "needs_background": "light"
     },
     "output_type": "display_data"
    }
   ],
   "source": [
    "#Check the images\n",
    "plt.imshow(X[1])"
   ]
  },
  {
   "cell_type": "code",
   "execution_count": 30,
   "metadata": {
    "colab": {
     "base_uri": "https://localhost:8080/",
     "height": 285
    },
    "executionInfo": {
     "elapsed": 11601,
     "status": "ok",
     "timestamp": 1610208588254,
     "user": {
      "displayName": "Abhishek Singh",
      "photoUrl": "",
      "userId": "02564130673443773880"
     },
     "user_tz": -330
    },
    "id": "y9UlmGqoWNtQ",
    "outputId": "5a88a7bc-94fe-4dd1-d7a0-8f912b8cef23"
   },
   "outputs": [
    {
     "data": {
      "text/plain": [
       "<matplotlib.image.AxesImage at 0x7f8346e5bb38>"
      ]
     },
     "execution_count": 30,
     "metadata": {},
     "output_type": "execute_result"
    },
    {
     "data": {
      "image/png": "[encoded data removed]",
      "text/plain": [
       "<Figure size 432x288 with 1 Axes>"
      ]
     },
     "metadata": {
      "needs_background": "light"
     },
     "output_type": "display_data"
    }
   ],
   "source": [
    "plt.imshow(y[1])"
   ]
  },
  {
   "cell_type": "code",
   "execution_count": 31,
   "metadata": {
    "colab": {
     "base_uri": "https://localhost:8080/",
     "height": 187
    },
    "executionInfo": {
     "elapsed": 12386,
     "status": "ok",
     "timestamp": 1610208589048,
     "user": {
      "displayName": "Abhishek Singh",
      "photoUrl": "",
      "userId": "02564130673443773880"
     },
     "user_tz": -330
    },
    "id": "n3DDK14aEIhi",
    "outputId": "1917709c-ab4b-47e6-a14e-6f5f06ae56c4"
   },
   "outputs": [
    {
     "name": "stdout",
     "output_type": "stream",
     "text": [
      "(375, 1242, 3)\n"
     ]
    },
    {
     "data": {
      "text/plain": [
       "<matplotlib.image.AxesImage at 0x7f83455c49e8>"
      ]
     },
     "execution_count": 31,
     "metadata": {},
     "output_type": "execute_result"
    },
    {
     "data": {
      "image/png": "[encoded data removed]",
      "text/plain": [
       "<Figure size 432x288 with 1 Axes>"
      ]
     },
     "metadata": {
      "needs_background": "light"
     },
     "output_type": "display_data"
    }
   ],
   "source": [
    "a = './training/semantic_rgb/000000_10.png'\n",
    "img = cv2.imread(a, 1)\n",
    "print(img.shape)\n",
    "plt.imshow(img)"
   ]
  },
  {
   "cell_type": "code",
   "execution_count": 32,
   "metadata": {
    "colab": {
     "base_uri": "https://localhost:8080/",
     "height": 302
    },
    "executionInfo": {
     "elapsed": 12378,
     "status": "ok",
     "timestamp": 1610208589049,
     "user": {
      "displayName": "Abhishek Singh",
      "photoUrl": "",
      "userId": "02564130673443773880"
     },
     "user_tz": -330
    },
    "id": "unBgIgAJIYZb",
    "outputId": "be76ffa1-0728-4920-82d0-deb0162135a6"
   },
   "outputs": [
    {
     "name": "stdout",
     "output_type": "stream",
     "text": [
      "(128, 128, 3)\n"
     ]
    },
    {
     "data": {
      "text/plain": [
       "<matplotlib.image.AxesImage at 0x7f834559e160>"
      ]
     },
     "execution_count": 32,
     "metadata": {},
     "output_type": "execute_result"
    },
    {
     "data": {
      "image/png": "[encoded data removed]",
      "text/plain": [
       "<Figure size 432x288 with 1 Axes>"
      ]
     },
     "metadata": {
      "needs_background": "light"
     },
     "output_type": "display_data"
    }
   ],
   "source": [
    "img = cv2.resize(img, (128, 128))\n",
    "print(img.shape)\n",
    "# img = img[:,:, :]\n",
    "plt.imshow(img)"
   ]
  },
  {
   "cell_type": "code",
   "execution_count": null,
   "metadata": {
    "executionInfo": {
     "elapsed": 12370,
     "status": "ok",
     "timestamp": 1610208589050,
     "user": {
      "displayName": "Abhishek Singh",
      "photoUrl": "",
      "userId": "02564130673443773880"
     },
     "user_tz": -330
    },
    "id": "xSSrPgA5R0M6"
   },
   "outputs": [],
   "source": []
  },
  {
   "cell_type": "code",
   "execution_count": 33,
   "metadata": {
    "colab": {
     "base_uri": "https://localhost:8080/",
     "height": 52
    },
    "executionInfo": {
     "elapsed": 12366,
     "status": "ok",
     "timestamp": 1610208589051,
     "user": {
      "displayName": "Abhishek Singh",
      "photoUrl": "",
      "userId": "02564130673443773880"
     },
     "user_tz": -330
    },
    "id": "A434Plmw5shS",
    "outputId": "aa10cb3a-b39a-4cfc-e216-bd1448511c68"
   },
   "outputs": [
    {
     "name": "stdout",
     "output_type": "stream",
     "text": [
      "Collecting git+https://github.com/qubvel/segmentation_models\n",
      "  Cloning https://github.com/qubvel/segmentation_models to /tmp/pip-req-build-8xaqygm0\n",
      "Collecting keras_applications<=1.0.8,>=1.0.7 (from segmentation-models==1.0.1)\n",
      "\u001b[?25l  Downloading https://files.pythonhosted.org/packages/71/e3/19762fdfc62877ae9102edf6342d71b28fbfd9dea3d2f96a882ce099b03f/Keras_Applications-1.0.8-py3-none-any.whl (50kB)\n",
      "\u001b[K    100% |████████████████████████████████| 51kB 1.2MB/s ta 0:00:01\n",
      "\u001b[?25hCollecting image-classifiers==1.0.0 (from segmentation-models==1.0.1)\n",
      "  Downloading https://files.pythonhosted.org/packages/81/98/6f84720e299a4942ab80df5f76ab97b7828b24d1de5e9b2cbbe6073228b7/image_classifiers-1.0.0-py3-none-any.whl\n",
      "Collecting efficientnet==1.0.0 (from segmentation-models==1.0.1)\n",
      "  Downloading https://files.pythonhosted.org/packages/97/82/f3ae07316f0461417dc54affab6e86ab188a5a22f33176d35271628b96e0/efficientnet-1.0.0-py3-none-any.whl\n",
      "Requirement already satisfied: h5py in /home/blink/anaconda3/lib/python3.7/site-packages (from keras_applications<=1.0.8,>=1.0.7->segmentation-models==1.0.1) (2.9.0)\n",
      "Requirement already satisfied: numpy>=1.9.1 in /home/blink/anaconda3/lib/python3.7/site-packages (from keras_applications<=1.0.8,>=1.0.7->segmentation-models==1.0.1) (1.16.2)\n",
      "Requirement already satisfied: scikit-image in /home/blink/anaconda3/lib/python3.7/site-packages (from efficientnet==1.0.0->segmentation-models==1.0.1) (0.14.2)\n",
      "Requirement already satisfied: six in /home/blink/anaconda3/lib/python3.7/site-packages (from h5py->keras_applications<=1.0.8,>=1.0.7->segmentation-models==1.0.1) (1.12.0)\n",
      "Requirement already satisfied: matplotlib>=2.0.0 in /home/blink/anaconda3/lib/python3.7/site-packages (from scikit-image->efficientnet==1.0.0->segmentation-models==1.0.1) (3.0.3)\n",
      "Requirement already satisfied: pillow>=4.3.0 in /home/blink/anaconda3/lib/python3.7/site-packages (from scikit-image->efficientnet==1.0.0->segmentation-models==1.0.1) (5.4.1)\n",
      "Requirement already satisfied: dask[array]>=1.0.0 in /home/blink/anaconda3/lib/python3.7/site-packages (from scikit-image->efficientnet==1.0.0->segmentation-models==1.0.1) (1.1.4)\n",
      "Requirement already satisfied: cloudpickle>=0.2.1 in /home/blink/anaconda3/lib/python3.7/site-packages (from scikit-image->efficientnet==1.0.0->segmentation-models==1.0.1) (0.8.0)\n",
      "Requirement already satisfied: networkx>=1.8 in /home/blink/anaconda3/lib/python3.7/site-packages (from scikit-image->efficientnet==1.0.0->segmentation-models==1.0.1) (2.2)\n",
      "Requirement already satisfied: PyWavelets>=0.4.0 in /home/blink/anaconda3/lib/python3.7/site-packages (from scikit-image->efficientnet==1.0.0->segmentation-models==1.0.1) (1.0.2)\n",
      "Requirement already satisfied: cycler>=0.10 in /home/blink/anaconda3/lib/python3.7/site-packages (from matplotlib>=2.0.0->scikit-image->efficientnet==1.0.0->segmentation-models==1.0.1) (0.10.0)\n",
      "Requirement already satisfied: kiwisolver>=1.0.1 in /home/blink/anaconda3/lib/python3.7/site-packages (from matplotlib>=2.0.0->scikit-image->efficientnet==1.0.0->segmentation-models==1.0.1) (1.0.1)\n",
      "Requirement already satisfied: pyparsing!=2.0.4,!=2.1.2,!=2.1.6,>=2.0.1 in /home/blink/anaconda3/lib/python3.7/site-packages (from matplotlib>=2.0.0->scikit-image->efficientnet==1.0.0->segmentation-models==1.0.1) (2.3.1)\n",
      "Requirement already satisfied: python-dateutil>=2.1 in /home/blink/anaconda3/lib/python3.7/site-packages (from matplotlib>=2.0.0->scikit-image->efficientnet==1.0.0->segmentation-models==1.0.1) (2.8.0)\n",
      "Requirement already satisfied: toolz>=0.7.3; extra == \"array\" in /home/blink/anaconda3/lib/python3.7/site-packages (from dask[array]>=1.0.0->scikit-image->efficientnet==1.0.0->segmentation-models==1.0.1) (0.9.0)\n",
      "Requirement already satisfied: decorator>=4.3.0 in /home/blink/anaconda3/lib/python3.7/site-packages (from networkx>=1.8->scikit-image->efficientnet==1.0.0->segmentation-models==1.0.1) (4.4.0)\n",
      "Requirement already satisfied: setuptools in /home/blink/anaconda3/lib/python3.7/site-packages (from kiwisolver>=1.0.1->matplotlib>=2.0.0->scikit-image->efficientnet==1.0.0->segmentation-models==1.0.1) (60.5.0)\n",
      "Building wheels for collected packages: segmentation-models\n",
      "  Building wheel for segmentation-models (setup.py) ... \u001b[?25ldone\n",
      "\u001b[?25h  Stored in directory: /tmp/pip-ephem-wheel-cache-n8qicwwi/wheels/49/cf/46/cbb4bb64518c402aea99df9d466f1081450597e653256bbcf4\n",
      "Successfully built segmentation-models\n",
      "Installing collected packages: keras-applications, image-classifiers, efficientnet, segmentation-models\n",
      "Successfully installed efficientnet-1.0.0 image-classifiers-1.0.0 keras-applications-1.0.8 segmentation-models-1.0.1\n",
      "Collecting keras==2.3.1\n",
      "\u001b[?25l  Downloading https://files.pythonhosted.org/packages/ad/fd/6bfe87920d7f4fd475acd28500a42482b6b84479832bdc0fe9e589a60ceb/Keras-2.3.1-py2.py3-none-any.whl (377kB)\n",
      "\u001b[K    100% |████████████████████████████████| 378kB 6.8MB/s eta 0:00:01\n",
      "\u001b[?25hRequirement already satisfied: keras-applications>=1.0.6 in /home/blink/anaconda3/lib/python3.7/site-packages (from keras==2.3.1) (1.0.8)\n",
      "Requirement already satisfied: h5py in /home/blink/anaconda3/lib/python3.7/site-packages (from keras==2.3.1) (2.9.0)\n",
      "Requirement already satisfied: keras-preprocessing>=1.0.5 in /home/blink/anaconda3/lib/python3.7/site-packages (from keras==2.3.1) (1.1.2)\n",
      "Requirement already satisfied: pyyaml in /home/blink/anaconda3/lib/python3.7/site-packages (from keras==2.3.1) (5.1)\n",
      "Requirement already satisfied: six>=1.9.0 in /home/blink/anaconda3/lib/python3.7/site-packages (from keras==2.3.1) (1.12.0)\n",
      "Requirement already satisfied: numpy>=1.9.1 in /home/blink/anaconda3/lib/python3.7/site-packages (from keras==2.3.1) (1.16.2)\n",
      "Requirement already satisfied: scipy>=0.14 in /home/blink/anaconda3/lib/python3.7/site-packages (from keras==2.3.1) (1.2.1)\n",
      "\u001b[31mtensorflow 2.7.0 has requirement keras<2.8,>=2.7.0rc0, but you'll have keras 2.3.1 which is incompatible.\u001b[0m\n",
      "Installing collected packages: keras\n",
      "  Found existing installation: keras 2.7.0\n",
      "    Uninstalling keras-2.7.0:\n",
      "      Successfully uninstalled keras-2.7.0\n",
      "Successfully installed keras-2.3.1\n",
      "Collecting tensorflow==2.1.0\n",
      "\u001b[?25l  Downloading https://files.pythonhosted.org/packages/1d/56/0dbdae2a3c527a119bec0d5cf441655fe030ce1daa6fa6b9542f7dbd8664/tensorflow-2.1.0-cp37-cp37m-manylinux2010_x86_64.whl (421.8MB)\n",
      "\u001b[K    100% |████████████████████████████████| 421.8MB 93kB/s eta 0:00:011    79% |█████████████████████████▍      | 335.2MB 8.2MB/s eta 0:00:11    99% |███████████████████████████████▉| 420.3MB 3.3MB/s eta 0:00:01\n",
      "\u001b[?25hRequirement already satisfied: opt-einsum>=2.3.2 in /home/blink/anaconda3/lib/python3.7/site-packages (from tensorflow==2.1.0) (3.3.0)\n",
      "Requirement already satisfied: wrapt>=1.11.1 in /home/blink/anaconda3/lib/python3.7/site-packages (from tensorflow==2.1.0) (1.11.1)\n",
      "Requirement already satisfied: keras-applications>=1.0.8 in /home/blink/anaconda3/lib/python3.7/site-packages (from tensorflow==2.1.0) (1.0.8)\n",
      "Requirement already satisfied: termcolor>=1.1.0 in /home/blink/anaconda3/lib/python3.7/site-packages (from tensorflow==2.1.0) (1.1.0)\n",
      "Requirement already satisfied: six>=1.12.0 in /home/blink/anaconda3/lib/python3.7/site-packages (from tensorflow==2.1.0) (1.12.0)\n",
      "Requirement already satisfied: numpy<2.0,>=1.16.0 in /home/blink/anaconda3/lib/python3.7/site-packages (from tensorflow==2.1.0) (1.16.2)\n",
      "Collecting tensorflow-estimator<2.2.0,>=2.1.0rc0 (from tensorflow==2.1.0)\n",
      "\u001b[?25l  Downloading https://files.pythonhosted.org/packages/18/90/b77c328a1304437ab1310b463e533fa7689f4bfc41549593056d812fab8e/tensorflow_estimator-2.1.0-py2.py3-none-any.whl (448kB)\n",
      "\u001b[K    100% |████████████████████████████████| 450kB 5.4MB/s ta 0:00:01\n",
      "\u001b[?25hRequirement already satisfied: keras-preprocessing>=1.1.0 in /home/blink/anaconda3/lib/python3.7/site-packages (from tensorflow==2.1.0) (1.1.2)\n",
      "Collecting scipy==1.4.1; python_version >= \"3\" (from tensorflow==2.1.0)\n",
      "\u001b[?25l  Downloading https://files.pythonhosted.org/packages/dd/82/c1fe128f3526b128cfd185580ba40d01371c5d299fcf7f77968e22dfcc2e/scipy-1.4.1-cp37-cp37m-manylinux1_x86_64.whl (26.1MB)\n",
      "\u001b[K    100% |████████████████████████████████| 26.1MB 1.4MB/s ta 0:00:011\n",
      "\u001b[?25hCollecting tensorboard<2.2.0,>=2.1.0 (from tensorflow==2.1.0)\n"
     ]
    },
    {
     "name": "stdout",
     "output_type": "stream",
     "text": [
      "\u001b[?25l  Downloading https://files.pythonhosted.org/packages/d9/41/bbf49b61370e4f4d245d4c6051dfb6db80cec672605c91b1652ac8cc3d38/tensorboard-2.1.1-py3-none-any.whl (3.8MB)\n",
      "\u001b[K    100% |████████████████████████████████| 3.9MB 1.9MB/s ta 0:00:011\n",
      "\u001b[?25hRequirement already satisfied: grpcio>=1.8.6 in /home/blink/anaconda3/lib/python3.7/site-packages (from tensorflow==2.1.0) (1.43.0)\n",
      "Requirement already satisfied: wheel>=0.26; python_version >= \"3\" in /home/blink/anaconda3/lib/python3.7/site-packages (from tensorflow==2.1.0) (0.33.1)\n",
      "Collecting astor>=0.6.0 (from tensorflow==2.1.0)\n",
      "  Downloading https://files.pythonhosted.org/packages/c3/88/97eef84f48fa04fbd6750e62dcceafba6c63c81b7ac1420856c8dcc0a3f9/astor-0.8.1-py2.py3-none-any.whl\n",
      "Requirement already satisfied: absl-py>=0.7.0 in /home/blink/anaconda3/lib/python3.7/site-packages (from tensorflow==2.1.0) (1.0.0)\n",
      "Collecting gast==0.2.2 (from tensorflow==2.1.0)\n",
      "  Downloading https://files.pythonhosted.org/packages/4e/35/11749bf99b2d4e3cceb4d55ca22590b0d7c2c62b9de38ac4a4a7f4687421/gast-0.2.2.tar.gz\n",
      "Requirement already satisfied: google-pasta>=0.1.6 in /home/blink/anaconda3/lib/python3.7/site-packages (from tensorflow==2.1.0) (0.2.0)\n",
      "Requirement already satisfied: protobuf>=3.8.0 in /home/blink/anaconda3/lib/python3.7/site-packages (from tensorflow==2.1.0) (3.19.1)\n",
      "Requirement already satisfied: h5py in /home/blink/anaconda3/lib/python3.7/site-packages (from keras-applications>=1.0.8->tensorflow==2.1.0) (2.9.0)\n",
      "Requirement already satisfied: werkzeug>=0.11.15 in /home/blink/anaconda3/lib/python3.7/site-packages (from tensorboard<2.2.0,>=2.1.0->tensorflow==2.1.0) (0.14.1)\n",
      "Requirement already satisfied: markdown>=2.6.8 in /home/blink/anaconda3/lib/python3.7/site-packages (from tensorboard<2.2.0,>=2.1.0->tensorflow==2.1.0) (3.3.6)\n",
      "Collecting google-auth<2,>=1.6.3 (from tensorboard<2.2.0,>=2.1.0->tensorflow==2.1.0)\n",
      "\u001b[?25l  Downloading https://files.pythonhosted.org/packages/fb/7a/1b3eb54caee1b8c73c2c3645f78a382eca4805a301a30c64a078e736e446/google_auth-1.35.0-py2.py3-none-any.whl (152kB)\n",
      "\u001b[K    100% |████████████████████████████████| 153kB 7.0MB/s ta 0:00:01\n",
      "\u001b[?25hRequirement already satisfied: google-auth-oauthlib<0.5,>=0.4.1 in /home/blink/anaconda3/lib/python3.7/site-packages (from tensorboard<2.2.0,>=2.1.0->tensorflow==2.1.0) (0.4.6)\n",
      "Requirement already satisfied: requests<3,>=2.21.0 in /home/blink/anaconda3/lib/python3.7/site-packages (from tensorboard<2.2.0,>=2.1.0->tensorflow==2.1.0) (2.21.0)\n",
      "Requirement already satisfied: setuptools>=41.0.0 in /home/blink/anaconda3/lib/python3.7/site-packages (from tensorboard<2.2.0,>=2.1.0->tensorflow==2.1.0) (60.5.0)\n",
      "Requirement already satisfied: importlib-metadata>=4.4; python_version < \"3.10\" in /home/blink/anaconda3/lib/python3.7/site-packages (from markdown>=2.6.8->tensorboard<2.2.0,>=2.1.0->tensorflow==2.1.0) (4.10.0)\n",
      "Requirement already satisfied: rsa<5,>=3.1.4; python_version >= \"3.6\" in /home/blink/anaconda3/lib/python3.7/site-packages (from google-auth<2,>=1.6.3->tensorboard<2.2.0,>=2.1.0->tensorflow==2.1.0) (4.8)\n",
      "Requirement already satisfied: cachetools<5.0,>=2.0.0 in /home/blink/anaconda3/lib/python3.7/site-packages (from google-auth<2,>=1.6.3->tensorboard<2.2.0,>=2.1.0->tensorflow==2.1.0) (4.2.4)\n",
      "Requirement already satisfied: pyasn1-modules>=0.2.1 in /home/blink/anaconda3/lib/python3.7/site-packages (from google-auth<2,>=1.6.3->tensorboard<2.2.0,>=2.1.0->tensorflow==2.1.0) (0.2.8)\n",
      "Requirement already satisfied: requests-oauthlib>=0.7.0 in /home/blink/anaconda3/lib/python3.7/site-packages (from google-auth-oauthlib<0.5,>=0.4.1->tensorboard<2.2.0,>=2.1.0->tensorflow==2.1.0) (1.3.0)\n",
      "Requirement already satisfied: certifi>=2017.4.17 in /home/blink/anaconda3/lib/python3.7/site-packages (from requests<3,>=2.21.0->tensorboard<2.2.0,>=2.1.0->tensorflow==2.1.0) (2019.3.9)\n",
      "Requirement already satisfied: idna<2.9,>=2.5 in /home/blink/anaconda3/lib/python3.7/site-packages (from requests<3,>=2.21.0->tensorboard<2.2.0,>=2.1.0->tensorflow==2.1.0) (2.8)\n",
      "Requirement already satisfied: chardet<3.1.0,>=3.0.2 in /home/blink/anaconda3/lib/python3.7/site-packages (from requests<3,>=2.21.0->tensorboard<2.2.0,>=2.1.0->tensorflow==2.1.0) (3.0.4)\n",
      "Requirement already satisfied: urllib3<1.25,>=1.21.1 in /home/blink/anaconda3/lib/python3.7/site-packages (from requests<3,>=2.21.0->tensorboard<2.2.0,>=2.1.0->tensorflow==2.1.0) (1.24.1)\n",
      "Requirement already satisfied: typing-extensions>=3.6.4; python_version < \"3.8\" in /home/blink/anaconda3/lib/python3.7/site-packages (from importlib-metadata>=4.4; python_version < \"3.10\"->markdown>=2.6.8->tensorboard<2.2.0,>=2.1.0->tensorflow==2.1.0) (4.0.1)\n",
      "Requirement already satisfied: zipp>=0.5 in /home/blink/anaconda3/lib/python3.7/site-packages (from importlib-metadata>=4.4; python_version < \"3.10\"->markdown>=2.6.8->tensorboard<2.2.0,>=2.1.0->tensorflow==2.1.0) (3.6.0)\n",
      "Requirement already satisfied: pyasn1>=0.1.3 in /home/blink/anaconda3/lib/python3.7/site-packages (from rsa<5,>=3.1.4; python_version >= \"3.6\"->google-auth<2,>=1.6.3->tensorboard<2.2.0,>=2.1.0->tensorflow==2.1.0) (0.4.8)\n",
      "Requirement already satisfied: oauthlib>=3.0.0 in /home/blink/anaconda3/lib/python3.7/site-packages (from requests-oauthlib>=0.7.0->google-auth-oauthlib<0.5,>=0.4.1->tensorboard<2.2.0,>=2.1.0->tensorflow==2.1.0) (3.1.1)\n",
      "Building wheels for collected packages: gast\n",
      "  Building wheel for gast (setup.py) ... \u001b[?25ldone\n",
      "\u001b[?25h  Stored in directory: /home/blink/.cache/pip/wheels/5c/2e/7e/a1d4d4fcebe6c381f378ce7743a3ced3699feb89bcfbdadadd\n",
      "Successfully built gast\n",
      "Installing collected packages: tensorflow-estimator, scipy, google-auth, tensorboard, astor, gast, tensorflow\n",
      "  Found existing installation: tensorflow-estimator 2.7.0\n",
      "    Uninstalling tensorflow-estimator-2.7.0:\n",
      "      Successfully uninstalled tensorflow-estimator-2.7.0\n",
      "  Found existing installation: scipy 1.2.1\n",
      "    Uninstalling scipy-1.2.1:\n",
      "      Successfully uninstalled scipy-1.2.1\n",
      "  Found existing installation: google-auth 2.3.3\n",
      "    Uninstalling google-auth-2.3.3:\n",
      "      Successfully uninstalled google-auth-2.3.3\n",
      "  Found existing installation: tensorboard 2.7.0\n",
      "    Uninstalling tensorboard-2.7.0:\n",
      "      Successfully uninstalled tensorboard-2.7.0\n",
      "  Found existing installation: gast 0.4.0\n",
      "    Uninstalling gast-0.4.0:\n",
      "      Successfully uninstalled gast-0.4.0\n",
      "  Found existing installation: tensorflow 2.7.0\n",
      "    Uninstalling tensorflow-2.7.0:\n",
      "      Successfully uninstalled tensorflow-2.7.0\n",
      "Successfully installed astor-0.8.1 gast-0.2.2 google-auth-1.35.0 scipy-1.4.1 tensorboard-2.1.1 tensorflow-2.1.0 tensorflow-estimator-2.1.0\n",
      "Requirement already satisfied: keras_applications==1.0.8 in /home/blink/anaconda3/lib/python3.7/site-packages (1.0.8)\n",
      "Requirement already satisfied: numpy>=1.9.1 in /home/blink/anaconda3/lib/python3.7/site-packages (from keras_applications==1.0.8) (1.16.2)\n",
      "Requirement already satisfied: h5py in /home/blink/anaconda3/lib/python3.7/site-packages (from keras_applications==1.0.8) (2.9.0)\n",
      "Requirement already satisfied: six in /home/blink/anaconda3/lib/python3.7/site-packages (from h5py->keras_applications==1.0.8) (1.12.0)\n",
      "Requirement already satisfied: image-classifiers==1.0.0 in /home/blink/anaconda3/lib/python3.7/site-packages (1.0.0)\n",
      "Requirement already satisfied: keras-applications<=1.0.8,>=1.0.7 in /home/blink/anaconda3/lib/python3.7/site-packages (from image-classifiers==1.0.0) (1.0.8)\n",
      "Requirement already satisfied: h5py in /home/blink/anaconda3/lib/python3.7/site-packages (from keras-applications<=1.0.8,>=1.0.7->image-classifiers==1.0.0) (2.9.0)\n",
      "Requirement already satisfied: numpy>=1.9.1 in /home/blink/anaconda3/lib/python3.7/site-packages (from keras-applications<=1.0.8,>=1.0.7->image-classifiers==1.0.0) (1.16.2)\n",
      "Requirement already satisfied: six in /home/blink/anaconda3/lib/python3.7/site-packages (from h5py->keras-applications<=1.0.8,>=1.0.7->image-classifiers==1.0.0) (1.12.0)\n",
      "Requirement already satisfied: efficientnet==1.0.0 in /home/blink/anaconda3/lib/python3.7/site-packages (1.0.0)\n",
      "Requirement already satisfied: scikit-image in /home/blink/anaconda3/lib/python3.7/site-packages (from efficientnet==1.0.0) (0.14.2)\n",
      "Requirement already satisfied: keras-applications<=1.0.8,>=1.0.7 in /home/blink/anaconda3/lib/python3.7/site-packages (from efficientnet==1.0.0) (1.0.8)\n",
      "Requirement already satisfied: dask[array]>=1.0.0 in /home/blink/anaconda3/lib/python3.7/site-packages (from scikit-image->efficientnet==1.0.0) (1.1.4)\n",
      "Requirement already satisfied: cloudpickle>=0.2.1 in /home/blink/anaconda3/lib/python3.7/site-packages (from scikit-image->efficientnet==1.0.0) (0.8.0)\n",
      "Requirement already satisfied: matplotlib>=2.0.0 in /home/blink/anaconda3/lib/python3.7/site-packages (from scikit-image->efficientnet==1.0.0) (3.0.3)\n",
      "Requirement already satisfied: PyWavelets>=0.4.0 in /home/blink/anaconda3/lib/python3.7/site-packages (from scikit-image->efficientnet==1.0.0) (1.0.2)\n",
      "Requirement already satisfied: six>=1.10.0 in /home/blink/anaconda3/lib/python3.7/site-packages (from scikit-image->efficientnet==1.0.0) (1.12.0)\n",
      "Requirement already satisfied: pillow>=4.3.0 in /home/blink/anaconda3/lib/python3.7/site-packages (from scikit-image->efficientnet==1.0.0) (5.4.1)\n",
      "Requirement already satisfied: networkx>=1.8 in /home/blink/anaconda3/lib/python3.7/site-packages (from scikit-image->efficientnet==1.0.0) (2.2)\n"
     ]
    },
    {
     "name": "stdout",
     "output_type": "stream",
     "text": [
      "Requirement already satisfied: h5py in /home/blink/anaconda3/lib/python3.7/site-packages (from keras-applications<=1.0.8,>=1.0.7->efficientnet==1.0.0) (2.9.0)\r\n",
      "Requirement already satisfied: numpy>=1.9.1 in /home/blink/anaconda3/lib/python3.7/site-packages (from keras-applications<=1.0.8,>=1.0.7->efficientnet==1.0.0) (1.16.2)\r\n",
      "Requirement already satisfied: toolz>=0.7.3; extra == \"array\" in /home/blink/anaconda3/lib/python3.7/site-packages (from dask[array]>=1.0.0->scikit-image->efficientnet==1.0.0) (0.9.0)\r\n",
      "Requirement already satisfied: cycler>=0.10 in /home/blink/anaconda3/lib/python3.7/site-packages (from matplotlib>=2.0.0->scikit-image->efficientnet==1.0.0) (0.10.0)\r\n",
      "Requirement already satisfied: kiwisolver>=1.0.1 in /home/blink/anaconda3/lib/python3.7/site-packages (from matplotlib>=2.0.0->scikit-image->efficientnet==1.0.0) (1.0.1)\r\n",
      "Requirement already satisfied: pyparsing!=2.0.4,!=2.1.2,!=2.1.6,>=2.0.1 in /home/blink/anaconda3/lib/python3.7/site-packages (from matplotlib>=2.0.0->scikit-image->efficientnet==1.0.0) (2.3.1)\r\n",
      "Requirement already satisfied: python-dateutil>=2.1 in /home/blink/anaconda3/lib/python3.7/site-packages (from matplotlib>=2.0.0->scikit-image->efficientnet==1.0.0) (2.8.0)\r\n",
      "Requirement already satisfied: decorator>=4.3.0 in /home/blink/anaconda3/lib/python3.7/site-packages (from networkx>=1.8->scikit-image->efficientnet==1.0.0) (4.4.0)\r\n",
      "Requirement already satisfied: setuptools in /home/blink/anaconda3/lib/python3.7/site-packages (from kiwisolver>=1.0.1->matplotlib>=2.0.0->scikit-image->efficientnet==1.0.0) (60.5.0)\r\n"
     ]
    }
   ],
   "source": [
    "#Install segmentation models. \n",
    "#The segmentation_model was written with the following versions of keras and tensorflow, so we need to downgrade the following modules\n",
    "#After running this code block, comment the whole code block and restart and run the code\n",
    "!pip install git+https://github.com/qubvel/segmentation_models\n",
    "!pip install keras==2.3.1\n",
    "!pip install tensorflow==2.1.0\n",
    "!pip install keras_applications==1.0.8\n",
    "!pip install image-classifiers==1.0.0\n",
    "!pip install efficientnet==1.0.0\n"
   ]
  },
  {
   "cell_type": "code",
   "execution_count": 34,
   "metadata": {
    "colab": {
     "base_uri": "https://localhost:8080/"
    },
    "executionInfo": {
     "elapsed": 12359,
     "status": "ok",
     "timestamp": 1610208589052,
     "user": {
      "displayName": "Abhishek Singh",
      "photoUrl": "",
      "userId": "02564130673443773880"
     },
     "user_tz": -330
    },
    "id": "2cMxXEjzrcFa",
    "outputId": "2607d4f6-c3af-41aa-eaba-26dbbcd1c194"
   },
   "outputs": [
    {
     "ename": "ImportError",
     "evalue": "cannot import name 'asmatrix' from 'scipy.sparse.sputils' (/home/blink/anaconda3/lib/python3.7/site-packages/scipy/sparse/sputils.py)",
     "output_type": "error",
     "traceback": [
      "\u001b[0;31m---------------------------------------------------------------------------\u001b[0m",
      "\u001b[0;31mImportError\u001b[0m                               Traceback (most recent call last)",
      "\u001b[0;32m~/anaconda3/lib/python3.7/site-packages/segmentation_models/__init__.py\u001b[0m in \u001b[0;36m<module>\u001b[0;34m\u001b[0m\n\u001b[1;32m     97\u001b[0m \u001b[0;32mtry\u001b[0m\u001b[0;34m:\u001b[0m\u001b[0;34m\u001b[0m\u001b[0;34m\u001b[0m\u001b[0m\n\u001b[0;32m---> 98\u001b[0;31m     \u001b[0mset_framework\u001b[0m\u001b[0;34m(\u001b[0m\u001b[0m_framework\u001b[0m\u001b[0;34m)\u001b[0m\u001b[0;34m\u001b[0m\u001b[0;34m\u001b[0m\u001b[0m\n\u001b[0m\u001b[1;32m     99\u001b[0m \u001b[0;32mexcept\u001b[0m \u001b[0mImportError\u001b[0m\u001b[0;34m:\u001b[0m\u001b[0;34m\u001b[0m\u001b[0;34m\u001b[0m\u001b[0m\n",
      "\u001b[0;32m~/anaconda3/lib/python3.7/site-packages/segmentation_models/__init__.py\u001b[0m in \u001b[0;36mset_framework\u001b[0;34m(name)\u001b[0m\n\u001b[1;32m     67\u001b[0m         \u001b[0;32mimport\u001b[0m \u001b[0mkeras\u001b[0m\u001b[0;34m\u001b[0m\u001b[0;34m\u001b[0m\u001b[0m\n\u001b[0;32m---> 68\u001b[0;31m         \u001b[0;32mimport\u001b[0m \u001b[0mefficientnet\u001b[0m\u001b[0;34m.\u001b[0m\u001b[0mkeras\u001b[0m  \u001b[0;31m# init custom objects\u001b[0m\u001b[0;34m\u001b[0m\u001b[0;34m\u001b[0m\u001b[0m\n\u001b[0m\u001b[1;32m     69\u001b[0m     \u001b[0;32melif\u001b[0m \u001b[0mname\u001b[0m \u001b[0;34m==\u001b[0m \u001b[0m_TF_KERAS_FRAMEWORK_NAME\u001b[0m\u001b[0;34m:\u001b[0m\u001b[0;34m\u001b[0m\u001b[0;34m\u001b[0m\u001b[0m\n",
      "\u001b[0;32m~/anaconda3/lib/python3.7/site-packages/efficientnet/keras.py\u001b[0m in \u001b[0;36m<module>\u001b[0;34m\u001b[0m\n\u001b[1;32m      3\u001b[0m \u001b[0;34m\u001b[0m\u001b[0m\n\u001b[0;32m----> 4\u001b[0;31m \u001b[0;32mfrom\u001b[0m \u001b[0;34m.\u001b[0m\u001b[0mpreprocessing\u001b[0m \u001b[0;32mimport\u001b[0m \u001b[0mcenter_crop_and_resize\u001b[0m\u001b[0;34m\u001b[0m\u001b[0;34m\u001b[0m\u001b[0m\n\u001b[0m\u001b[1;32m      5\u001b[0m \u001b[0;34m\u001b[0m\u001b[0m\n",
      "\u001b[0;32m~/anaconda3/lib/python3.7/site-packages/efficientnet/preprocessing.py\u001b[0m in \u001b[0;36m<module>\u001b[0;34m\u001b[0m\n\u001b[1;32m     15\u001b[0m \u001b[0;32mimport\u001b[0m \u001b[0mnumpy\u001b[0m \u001b[0;32mas\u001b[0m \u001b[0mnp\u001b[0m\u001b[0;34m\u001b[0m\u001b[0;34m\u001b[0m\u001b[0m\n\u001b[0;32m---> 16\u001b[0;31m \u001b[0;32mfrom\u001b[0m \u001b[0mskimage\u001b[0m\u001b[0;34m.\u001b[0m\u001b[0mtransform\u001b[0m \u001b[0;32mimport\u001b[0m \u001b[0mresize\u001b[0m\u001b[0;34m\u001b[0m\u001b[0;34m\u001b[0m\u001b[0m\n\u001b[0m\u001b[1;32m     17\u001b[0m \u001b[0;34m\u001b[0m\u001b[0m\n",
      "\u001b[0;32m~/anaconda3/lib/python3.7/site-packages/skimage/__init__.py\u001b[0m in \u001b[0;36m<module>\u001b[0;34m\u001b[0m\n\u001b[1;32m    176\u001b[0m     \u001b[0;32mfrom\u001b[0m \u001b[0;34m.\u001b[0m\u001b[0mutil\u001b[0m\u001b[0;34m.\u001b[0m\u001b[0mlookfor\u001b[0m \u001b[0;32mimport\u001b[0m \u001b[0mlookfor\u001b[0m\u001b[0;34m\u001b[0m\u001b[0;34m\u001b[0m\u001b[0m\n\u001b[0;32m--> 177\u001b[0;31m     \u001b[0;32mfrom\u001b[0m \u001b[0;34m.\u001b[0m\u001b[0mdata\u001b[0m \u001b[0;32mimport\u001b[0m \u001b[0mdata_dir\u001b[0m\u001b[0;34m\u001b[0m\u001b[0;34m\u001b[0m\u001b[0m\n\u001b[0m\u001b[1;32m    178\u001b[0m \u001b[0;34m\u001b[0m\u001b[0m\n",
      "\u001b[0;32m~/anaconda3/lib/python3.7/site-packages/skimage/data/__init__.py\u001b[0m in \u001b[0;36m<module>\u001b[0;34m\u001b[0m\n\u001b[1;32m     17\u001b[0m \u001b[0;32mfrom\u001b[0m \u001b[0;34m.\u001b[0m\u001b[0;34m.\u001b[0m\u001b[0mutil\u001b[0m\u001b[0;34m.\u001b[0m\u001b[0mdtype\u001b[0m \u001b[0;32mimport\u001b[0m \u001b[0mimg_as_bool\u001b[0m\u001b[0;34m\u001b[0m\u001b[0;34m\u001b[0m\u001b[0m\n\u001b[0;32m---> 18\u001b[0;31m \u001b[0;32mfrom\u001b[0m \u001b[0;34m.\u001b[0m\u001b[0m_binary_blobs\u001b[0m \u001b[0;32mimport\u001b[0m \u001b[0mbinary_blobs\u001b[0m\u001b[0;34m\u001b[0m\u001b[0;34m\u001b[0m\u001b[0m\n\u001b[0m\u001b[1;32m     19\u001b[0m \u001b[0;34m\u001b[0m\u001b[0m\n",
      "\u001b[0;32m~/anaconda3/lib/python3.7/site-packages/skimage/data/_binary_blobs.py\u001b[0m in \u001b[0;36m<module>\u001b[0;34m\u001b[0m\n\u001b[1;32m      1\u001b[0m \u001b[0;32mimport\u001b[0m \u001b[0mnumpy\u001b[0m \u001b[0;32mas\u001b[0m \u001b[0mnp\u001b[0m\u001b[0;34m\u001b[0m\u001b[0;34m\u001b[0m\u001b[0m\n\u001b[0;32m----> 2\u001b[0;31m \u001b[0;32mfrom\u001b[0m \u001b[0;34m.\u001b[0m\u001b[0;34m.\u001b[0m\u001b[0mfilters\u001b[0m \u001b[0;32mimport\u001b[0m \u001b[0mgaussian\u001b[0m\u001b[0;34m\u001b[0m\u001b[0;34m\u001b[0m\u001b[0m\n\u001b[0m\u001b[1;32m      3\u001b[0m \u001b[0;34m\u001b[0m\u001b[0m\n",
      "\u001b[0;32m~/anaconda3/lib/python3.7/site-packages/skimage/filters/__init__.py\u001b[0m in \u001b[0;36m<module>\u001b[0;34m\u001b[0m\n\u001b[1;32m      2\u001b[0m \u001b[0;32mfrom\u001b[0m \u001b[0;34m.\u001b[0m\u001b[0m_gaussian\u001b[0m \u001b[0;32mimport\u001b[0m \u001b[0mgaussian\u001b[0m\u001b[0;34m\u001b[0m\u001b[0;34m\u001b[0m\u001b[0m\n\u001b[0;32m----> 3\u001b[0;31m from .edges import (sobel, sobel_h, sobel_v,\n\u001b[0m\u001b[1;32m      4\u001b[0m                     \u001b[0mscharr\u001b[0m\u001b[0;34m,\u001b[0m \u001b[0mscharr_h\u001b[0m\u001b[0;34m,\u001b[0m \u001b[0mscharr_v\u001b[0m\u001b[0;34m,\u001b[0m\u001b[0;34m\u001b[0m\u001b[0;34m\u001b[0m\u001b[0m\n",
      "\u001b[0;32m~/anaconda3/lib/python3.7/site-packages/skimage/filters/edges.py\u001b[0m in \u001b[0;36m<module>\u001b[0;34m\u001b[0m\n\u001b[1;32m     16\u001b[0m \u001b[0;34m\u001b[0m\u001b[0m\n\u001b[0;32m---> 17\u001b[0;31m \u001b[0;32mfrom\u001b[0m \u001b[0;34m.\u001b[0m\u001b[0;34m.\u001b[0m\u001b[0mrestoration\u001b[0m\u001b[0;34m.\u001b[0m\u001b[0muft\u001b[0m \u001b[0;32mimport\u001b[0m \u001b[0mlaplacian\u001b[0m\u001b[0;34m\u001b[0m\u001b[0;34m\u001b[0m\u001b[0m\n\u001b[0m\u001b[1;32m     18\u001b[0m \u001b[0;34m\u001b[0m\u001b[0m\n",
      "\u001b[0;32m~/anaconda3/lib/python3.7/site-packages/skimage/restoration/__init__.py\u001b[0m in \u001b[0;36m<module>\u001b[0;34m\u001b[0m\n\u001b[1;32m      5\u001b[0m \u001b[0;34m\u001b[0m\u001b[0m\n\u001b[0;32m----> 6\u001b[0;31m \u001b[0;32mfrom\u001b[0m \u001b[0;34m.\u001b[0m\u001b[0mdeconvolution\u001b[0m \u001b[0;32mimport\u001b[0m \u001b[0mwiener\u001b[0m\u001b[0;34m,\u001b[0m \u001b[0munsupervised_wiener\u001b[0m\u001b[0;34m,\u001b[0m \u001b[0mrichardson_lucy\u001b[0m\u001b[0;34m\u001b[0m\u001b[0;34m\u001b[0m\u001b[0m\n\u001b[0m\u001b[1;32m      7\u001b[0m \u001b[0;32mfrom\u001b[0m \u001b[0;34m.\u001b[0m\u001b[0munwrap\u001b[0m \u001b[0;32mimport\u001b[0m \u001b[0munwrap_phase\u001b[0m\u001b[0;34m\u001b[0m\u001b[0;34m\u001b[0m\u001b[0m\n",
      "\u001b[0;32m~/anaconda3/lib/python3.7/site-packages/skimage/restoration/deconvolution.py\u001b[0m in \u001b[0;36m<module>\u001b[0;34m\u001b[0m\n\u001b[1;32m      9\u001b[0m \u001b[0;32mimport\u001b[0m \u001b[0mnumpy\u001b[0m\u001b[0;34m.\u001b[0m\u001b[0mrandom\u001b[0m \u001b[0;32mas\u001b[0m \u001b[0mnpr\u001b[0m\u001b[0;34m\u001b[0m\u001b[0;34m\u001b[0m\u001b[0m\n\u001b[0;32m---> 10\u001b[0;31m \u001b[0;32mfrom\u001b[0m \u001b[0mscipy\u001b[0m\u001b[0;34m.\u001b[0m\u001b[0msignal\u001b[0m \u001b[0;32mimport\u001b[0m \u001b[0mfftconvolve\u001b[0m\u001b[0;34m,\u001b[0m \u001b[0mconvolve\u001b[0m\u001b[0;34m\u001b[0m\u001b[0;34m\u001b[0m\u001b[0m\n\u001b[0m\u001b[1;32m     11\u001b[0m \u001b[0;34m\u001b[0m\u001b[0m\n",
      "\u001b[0;32m~/anaconda3/lib/python3.7/site-packages/scipy/signal/__init__.py\u001b[0m in \u001b[0;36m<module>\u001b[0;34m\u001b[0m\n\u001b[1;32m    300\u001b[0m \u001b[0;32mfrom\u001b[0m \u001b[0;34m.\u001b[0m\u001b[0mbsplines\u001b[0m \u001b[0;32mimport\u001b[0m \u001b[0;34m*\u001b[0m\u001b[0;34m\u001b[0m\u001b[0;34m\u001b[0m\u001b[0m\n\u001b[0;32m--> 301\u001b[0;31m \u001b[0;32mfrom\u001b[0m \u001b[0;34m.\u001b[0m\u001b[0mfilter_design\u001b[0m \u001b[0;32mimport\u001b[0m \u001b[0;34m*\u001b[0m\u001b[0;34m\u001b[0m\u001b[0;34m\u001b[0m\u001b[0m\n\u001b[0m\u001b[1;32m    302\u001b[0m \u001b[0;32mfrom\u001b[0m \u001b[0;34m.\u001b[0m\u001b[0mfir_filter_design\u001b[0m \u001b[0;32mimport\u001b[0m \u001b[0;34m*\u001b[0m\u001b[0;34m\u001b[0m\u001b[0;34m\u001b[0m\u001b[0m\n",
      "\u001b[0;32m~/anaconda3/lib/python3.7/site-packages/scipy/signal/filter_design.py\u001b[0m in \u001b[0;36m<module>\u001b[0;34m\u001b[0m\n\u001b[1;32m     17\u001b[0m \u001b[0;34m\u001b[0m\u001b[0m\n\u001b[0;32m---> 18\u001b[0;31m \u001b[0;32mfrom\u001b[0m \u001b[0mscipy\u001b[0m \u001b[0;32mimport\u001b[0m \u001b[0mspecial\u001b[0m\u001b[0;34m,\u001b[0m \u001b[0moptimize\u001b[0m\u001b[0;34m,\u001b[0m \u001b[0mfft\u001b[0m \u001b[0;32mas\u001b[0m \u001b[0msp_fft\u001b[0m\u001b[0;34m\u001b[0m\u001b[0;34m\u001b[0m\u001b[0m\n\u001b[0m\u001b[1;32m     19\u001b[0m \u001b[0;32mfrom\u001b[0m \u001b[0mscipy\u001b[0m\u001b[0;34m.\u001b[0m\u001b[0mspecial\u001b[0m \u001b[0;32mimport\u001b[0m \u001b[0mcomb\u001b[0m\u001b[0;34m,\u001b[0m \u001b[0mfactorial\u001b[0m\u001b[0;34m\u001b[0m\u001b[0;34m\u001b[0m\u001b[0m\n",
      "\u001b[0;32m~/anaconda3/lib/python3.7/site-packages/scipy/optimize/__init__.py\u001b[0m in \u001b[0;36m<module>\u001b[0;34m\u001b[0m\n\u001b[1;32m    389\u001b[0m \u001b[0;32mfrom\u001b[0m \u001b[0;34m.\u001b[0m\u001b[0moptimize\u001b[0m \u001b[0;32mimport\u001b[0m \u001b[0;34m*\u001b[0m\u001b[0;34m\u001b[0m\u001b[0;34m\u001b[0m\u001b[0m\n\u001b[0;32m--> 390\u001b[0;31m \u001b[0;32mfrom\u001b[0m \u001b[0;34m.\u001b[0m\u001b[0m_minimize\u001b[0m \u001b[0;32mimport\u001b[0m \u001b[0;34m*\u001b[0m\u001b[0;34m\u001b[0m\u001b[0;34m\u001b[0m\u001b[0m\n\u001b[0m\u001b[1;32m    391\u001b[0m \u001b[0;32mfrom\u001b[0m \u001b[0;34m.\u001b[0m\u001b[0m_root\u001b[0m \u001b[0;32mimport\u001b[0m \u001b[0;34m*\u001b[0m\u001b[0;34m\u001b[0m\u001b[0;34m\u001b[0m\u001b[0m\n",
      "\u001b[0;32m~/anaconda3/lib/python3.7/site-packages/scipy/optimize/_minimize.py\u001b[0m in \u001b[0;36m<module>\u001b[0;34m\u001b[0m\n\u001b[1;32m     29\u001b[0m \u001b[0;32mfrom\u001b[0m \u001b[0;34m.\u001b[0m\u001b[0m_trustregion_exact\u001b[0m \u001b[0;32mimport\u001b[0m \u001b[0m_minimize_trustregion_exact\u001b[0m\u001b[0;34m\u001b[0m\u001b[0;34m\u001b[0m\u001b[0m\n\u001b[0;32m---> 30\u001b[0;31m \u001b[0;32mfrom\u001b[0m \u001b[0;34m.\u001b[0m\u001b[0m_trustregion_constr\u001b[0m \u001b[0;32mimport\u001b[0m \u001b[0m_minimize_trustregion_constr\u001b[0m\u001b[0;34m\u001b[0m\u001b[0;34m\u001b[0m\u001b[0m\n\u001b[0m\u001b[1;32m     31\u001b[0m \u001b[0;34m\u001b[0m\u001b[0m\n",
      "\u001b[0;32m~/anaconda3/lib/python3.7/site-packages/scipy/optimize/_trustregion_constr/__init__.py\u001b[0m in \u001b[0;36m<module>\u001b[0;34m\u001b[0m\n\u001b[1;32m      3\u001b[0m \u001b[0;34m\u001b[0m\u001b[0m\n\u001b[0;32m----> 4\u001b[0;31m \u001b[0;32mfrom\u001b[0m \u001b[0;34m.\u001b[0m\u001b[0mminimize_trustregion_constr\u001b[0m \u001b[0;32mimport\u001b[0m \u001b[0m_minimize_trustregion_constr\u001b[0m\u001b[0;34m\u001b[0m\u001b[0;34m\u001b[0m\u001b[0m\n\u001b[0m\u001b[1;32m      5\u001b[0m \u001b[0;34m\u001b[0m\u001b[0m\n",
      "\u001b[0;32m~/anaconda3/lib/python3.7/site-packages/scipy/optimize/_trustregion_constr/minimize_trustregion_constr.py\u001b[0m in \u001b[0;36m<module>\u001b[0;34m\u001b[0m\n\u001b[1;32m      3\u001b[0m \u001b[0;32mimport\u001b[0m \u001b[0mnumpy\u001b[0m \u001b[0;32mas\u001b[0m \u001b[0mnp\u001b[0m\u001b[0;34m\u001b[0m\u001b[0;34m\u001b[0m\u001b[0m\n\u001b[0;32m----> 4\u001b[0;31m \u001b[0;32mfrom\u001b[0m \u001b[0mscipy\u001b[0m\u001b[0;34m.\u001b[0m\u001b[0msparse\u001b[0m\u001b[0;34m.\u001b[0m\u001b[0mlinalg\u001b[0m \u001b[0;32mimport\u001b[0m \u001b[0mLinearOperator\u001b[0m\u001b[0;34m\u001b[0m\u001b[0;34m\u001b[0m\u001b[0m\n\u001b[0m\u001b[1;32m      5\u001b[0m \u001b[0;32mfrom\u001b[0m \u001b[0;34m.\u001b[0m\u001b[0;34m.\u001b[0m\u001b[0m_differentiable_functions\u001b[0m \u001b[0;32mimport\u001b[0m \u001b[0mVectorFunction\u001b[0m\u001b[0;34m\u001b[0m\u001b[0;34m\u001b[0m\u001b[0m\n",
      "\u001b[0;32m~/anaconda3/lib/python3.7/site-packages/scipy/sparse/linalg/__init__.py\u001b[0m in \u001b[0;36m<module>\u001b[0;34m\u001b[0m\n\u001b[1;32m    112\u001b[0m \u001b[0;34m\u001b[0m\u001b[0m\n\u001b[0;32m--> 113\u001b[0;31m \u001b[0;32mfrom\u001b[0m \u001b[0;34m.\u001b[0m\u001b[0misolve\u001b[0m \u001b[0;32mimport\u001b[0m \u001b[0;34m*\u001b[0m\u001b[0;34m\u001b[0m\u001b[0;34m\u001b[0m\u001b[0m\n\u001b[0m\u001b[1;32m    114\u001b[0m \u001b[0;32mfrom\u001b[0m \u001b[0;34m.\u001b[0m\u001b[0mdsolve\u001b[0m \u001b[0;32mimport\u001b[0m \u001b[0;34m*\u001b[0m\u001b[0;34m\u001b[0m\u001b[0;34m\u001b[0m\u001b[0m\n",
      "\u001b[0;32m~/anaconda3/lib/python3.7/site-packages/scipy/sparse/linalg/isolve/__init__.py\u001b[0m in \u001b[0;36m<module>\u001b[0;34m\u001b[0m\n\u001b[1;32m      5\u001b[0m \u001b[0;31m#from info import __doc__\u001b[0m\u001b[0;34m\u001b[0m\u001b[0;34m\u001b[0m\u001b[0;34m\u001b[0m\u001b[0m\n\u001b[0;32m----> 6\u001b[0;31m \u001b[0;32mfrom\u001b[0m \u001b[0;34m.\u001b[0m\u001b[0miterative\u001b[0m \u001b[0;32mimport\u001b[0m \u001b[0;34m*\u001b[0m\u001b[0;34m\u001b[0m\u001b[0;34m\u001b[0m\u001b[0m\n\u001b[0m\u001b[1;32m      7\u001b[0m \u001b[0;32mfrom\u001b[0m \u001b[0;34m.\u001b[0m\u001b[0mminres\u001b[0m \u001b[0;32mimport\u001b[0m \u001b[0mminres\u001b[0m\u001b[0;34m\u001b[0m\u001b[0;34m\u001b[0m\u001b[0m\n",
      "\u001b[0;32m~/anaconda3/lib/python3.7/site-packages/scipy/sparse/linalg/isolve/iterative.py\u001b[0m in \u001b[0;36m<module>\u001b[0;34m\u001b[0m\n\u001b[1;32m     11\u001b[0m \u001b[0;34m\u001b[0m\u001b[0m\n\u001b[0;32m---> 12\u001b[0;31m \u001b[0;32mfrom\u001b[0m \u001b[0mscipy\u001b[0m\u001b[0;34m.\u001b[0m\u001b[0msparse\u001b[0m\u001b[0;34m.\u001b[0m\u001b[0mlinalg\u001b[0m\u001b[0;34m.\u001b[0m\u001b[0minterface\u001b[0m \u001b[0;32mimport\u001b[0m \u001b[0mLinearOperator\u001b[0m\u001b[0;34m\u001b[0m\u001b[0;34m\u001b[0m\u001b[0m\n\u001b[0m\u001b[1;32m     13\u001b[0m \u001b[0;32mfrom\u001b[0m \u001b[0;34m.\u001b[0m\u001b[0mutils\u001b[0m \u001b[0;32mimport\u001b[0m \u001b[0mmake_system\u001b[0m\u001b[0;34m\u001b[0m\u001b[0;34m\u001b[0m\u001b[0m\n",
      "\u001b[0;32m~/anaconda3/lib/python3.7/site-packages/scipy/sparse/linalg/interface.py\u001b[0m in \u001b[0;36m<module>\u001b[0;34m\u001b[0m\n\u001b[1;32m     49\u001b[0m \u001b[0;32mfrom\u001b[0m \u001b[0mscipy\u001b[0m\u001b[0;34m.\u001b[0m\u001b[0msparse\u001b[0m \u001b[0;32mimport\u001b[0m \u001b[0misspmatrix\u001b[0m\u001b[0;34m\u001b[0m\u001b[0;34m\u001b[0m\u001b[0m\n\u001b[0;32m---> 50\u001b[0;31m \u001b[0;32mfrom\u001b[0m \u001b[0mscipy\u001b[0m\u001b[0;34m.\u001b[0m\u001b[0msparse\u001b[0m\u001b[0;34m.\u001b[0m\u001b[0msputils\u001b[0m \u001b[0;32mimport\u001b[0m \u001b[0misshape\u001b[0m\u001b[0;34m,\u001b[0m \u001b[0misintlike\u001b[0m\u001b[0;34m,\u001b[0m \u001b[0masmatrix\u001b[0m\u001b[0;34m,\u001b[0m \u001b[0mis_pydata_spmatrix\u001b[0m\u001b[0;34m\u001b[0m\u001b[0;34m\u001b[0m\u001b[0m\n\u001b[0m\u001b[1;32m     51\u001b[0m \u001b[0;34m\u001b[0m\u001b[0m\n",
      "\u001b[0;31mImportError\u001b[0m: cannot import name 'asmatrix' from 'scipy.sparse.sputils' (/home/blink/anaconda3/lib/python3.7/site-packages/scipy/sparse/sputils.py)",
      "\nDuring handling of the above exception, another exception occurred:\n",
      "\u001b[0;31mImportError\u001b[0m                               Traceback (most recent call last)",
      "\u001b[0;32m<ipython-input-34-f5e7a797d8d4>\u001b[0m in \u001b[0;36m<module>\u001b[0;34m\u001b[0m\n\u001b[1;32m      1\u001b[0m \u001b[0;31m#Import libraries\u001b[0m\u001b[0;34m\u001b[0m\u001b[0;34m\u001b[0m\u001b[0;34m\u001b[0m\u001b[0m\n\u001b[0;32m----> 2\u001b[0;31m \u001b[0;32mimport\u001b[0m \u001b[0msegmentation_models\u001b[0m\u001b[0;34m\u001b[0m\u001b[0;34m\u001b[0m\u001b[0m\n\u001b[0m\u001b[1;32m      3\u001b[0m \u001b[0msegmentation_models\u001b[0m\u001b[0;34m.\u001b[0m\u001b[0mset_framework\u001b[0m\u001b[0;34m(\u001b[0m\u001b[0;34m'tf.keras'\u001b[0m\u001b[0;34m)\u001b[0m\u001b[0;34m\u001b[0m\u001b[0;34m\u001b[0m\u001b[0m\n\u001b[1;32m      4\u001b[0m \u001b[0;32mfrom\u001b[0m \u001b[0msegmentation_models\u001b[0m \u001b[0;32mimport\u001b[0m \u001b[0mUnet\u001b[0m\u001b[0;34m\u001b[0m\u001b[0;34m\u001b[0m\u001b[0m\n\u001b[1;32m      5\u001b[0m \u001b[0;32mfrom\u001b[0m \u001b[0msegmentation_models\u001b[0m\u001b[0;34m.\u001b[0m\u001b[0mbackbones\u001b[0m\u001b[0;34m.\u001b[0m\u001b[0mbackbones_factory\u001b[0m \u001b[0;32mimport\u001b[0m \u001b[0mBackbones\u001b[0m\u001b[0;34m\u001b[0m\u001b[0;34m\u001b[0m\u001b[0m\n",
      "\u001b[0;32m~/anaconda3/lib/python3.7/site-packages/segmentation_models/__init__.py\u001b[0m in \u001b[0;36m<module>\u001b[0;34m\u001b[0m\n\u001b[1;32m     99\u001b[0m \u001b[0;32mexcept\u001b[0m \u001b[0mImportError\u001b[0m\u001b[0;34m:\u001b[0m\u001b[0;34m\u001b[0m\u001b[0;34m\u001b[0m\u001b[0m\n\u001b[1;32m    100\u001b[0m     \u001b[0mother\u001b[0m \u001b[0;34m=\u001b[0m \u001b[0m_TF_KERAS_FRAMEWORK_NAME\u001b[0m \u001b[0;32mif\u001b[0m \u001b[0m_framework\u001b[0m \u001b[0;34m==\u001b[0m \u001b[0m_KERAS_FRAMEWORK_NAME\u001b[0m \u001b[0;32melse\u001b[0m \u001b[0m_KERAS_FRAMEWORK_NAME\u001b[0m\u001b[0;34m\u001b[0m\u001b[0;34m\u001b[0m\u001b[0m\n\u001b[0;32m--> 101\u001b[0;31m     \u001b[0mset_framework\u001b[0m\u001b[0;34m(\u001b[0m\u001b[0mother\u001b[0m\u001b[0;34m)\u001b[0m\u001b[0;34m\u001b[0m\u001b[0;34m\u001b[0m\u001b[0m\n\u001b[0m\u001b[1;32m    102\u001b[0m \u001b[0;34m\u001b[0m\u001b[0m\n\u001b[1;32m    103\u001b[0m \u001b[0mprint\u001b[0m\u001b[0;34m(\u001b[0m\u001b[0;34m'Segmentation Models: using `{}` framework.'\u001b[0m\u001b[0;34m.\u001b[0m\u001b[0mformat\u001b[0m\u001b[0;34m(\u001b[0m\u001b[0m_KERAS_FRAMEWORK\u001b[0m\u001b[0;34m)\u001b[0m\u001b[0;34m)\u001b[0m\u001b[0;34m\u001b[0m\u001b[0;34m\u001b[0m\u001b[0m\n",
      "\u001b[0;32m~/anaconda3/lib/python3.7/site-packages/segmentation_models/__init__.py\u001b[0m in \u001b[0;36mset_framework\u001b[0;34m(name)\u001b[0m\n\u001b[1;32m     69\u001b[0m     \u001b[0;32melif\u001b[0m \u001b[0mname\u001b[0m \u001b[0;34m==\u001b[0m \u001b[0m_TF_KERAS_FRAMEWORK_NAME\u001b[0m\u001b[0;34m:\u001b[0m\u001b[0;34m\u001b[0m\u001b[0;34m\u001b[0m\u001b[0m\n\u001b[1;32m     70\u001b[0m         \u001b[0;32mfrom\u001b[0m \u001b[0mtensorflow\u001b[0m \u001b[0;32mimport\u001b[0m \u001b[0mkeras\u001b[0m\u001b[0;34m\u001b[0m\u001b[0;34m\u001b[0m\u001b[0m\n\u001b[0;32m---> 71\u001b[0;31m         \u001b[0;32mimport\u001b[0m \u001b[0mefficientnet\u001b[0m\u001b[0;34m.\u001b[0m\u001b[0mtfkeras\u001b[0m  \u001b[0;31m# init custom objects\u001b[0m\u001b[0;34m\u001b[0m\u001b[0;34m\u001b[0m\u001b[0m\n\u001b[0m\u001b[1;32m     72\u001b[0m     \u001b[0;32melse\u001b[0m\u001b[0;34m:\u001b[0m\u001b[0;34m\u001b[0m\u001b[0;34m\u001b[0m\u001b[0m\n\u001b[1;32m     73\u001b[0m         raise ValueError('Not correct module name `{}`, use `{}` or `{}`'.format(\n",
      "\u001b[0;32m~/anaconda3/lib/python3.7/site-packages/efficientnet/tfkeras.py\u001b[0m in \u001b[0;36m<module>\u001b[0;34m\u001b[0m\n\u001b[1;32m      2\u001b[0m \u001b[0;32mfrom\u001b[0m \u001b[0;34m.\u001b[0m \u001b[0;32mimport\u001b[0m \u001b[0mmodel\u001b[0m\u001b[0;34m\u001b[0m\u001b[0;34m\u001b[0m\u001b[0m\n\u001b[1;32m      3\u001b[0m \u001b[0;34m\u001b[0m\u001b[0m\n\u001b[0;32m----> 4\u001b[0;31m \u001b[0;32mfrom\u001b[0m \u001b[0;34m.\u001b[0m\u001b[0mpreprocessing\u001b[0m \u001b[0;32mimport\u001b[0m \u001b[0mcenter_crop_and_resize\u001b[0m\u001b[0;34m\u001b[0m\u001b[0;34m\u001b[0m\u001b[0m\n\u001b[0m\u001b[1;32m      5\u001b[0m \u001b[0;34m\u001b[0m\u001b[0m\n\u001b[1;32m      6\u001b[0m \u001b[0mEfficientNetB0\u001b[0m \u001b[0;34m=\u001b[0m \u001b[0minject_tfkeras_modules\u001b[0m\u001b[0;34m(\u001b[0m\u001b[0mmodel\u001b[0m\u001b[0;34m.\u001b[0m\u001b[0mEfficientNetB0\u001b[0m\u001b[0;34m)\u001b[0m\u001b[0;34m\u001b[0m\u001b[0;34m\u001b[0m\u001b[0m\n",
      "\u001b[0;32m~/anaconda3/lib/python3.7/site-packages/efficientnet/preprocessing.py\u001b[0m in \u001b[0;36m<module>\u001b[0;34m\u001b[0m\n\u001b[1;32m     14\u001b[0m \u001b[0;31m# ==============================================================================\u001b[0m\u001b[0;34m\u001b[0m\u001b[0;34m\u001b[0m\u001b[0;34m\u001b[0m\u001b[0m\n\u001b[1;32m     15\u001b[0m \u001b[0;32mimport\u001b[0m \u001b[0mnumpy\u001b[0m \u001b[0;32mas\u001b[0m \u001b[0mnp\u001b[0m\u001b[0;34m\u001b[0m\u001b[0;34m\u001b[0m\u001b[0m\n\u001b[0;32m---> 16\u001b[0;31m \u001b[0;32mfrom\u001b[0m \u001b[0mskimage\u001b[0m\u001b[0;34m.\u001b[0m\u001b[0mtransform\u001b[0m \u001b[0;32mimport\u001b[0m \u001b[0mresize\u001b[0m\u001b[0;34m\u001b[0m\u001b[0;34m\u001b[0m\u001b[0m\n\u001b[0m\u001b[1;32m     17\u001b[0m \u001b[0;34m\u001b[0m\u001b[0m\n\u001b[1;32m     18\u001b[0m MAP_INTERPOLATION_TO_ORDER = {\n",
      "\u001b[0;32m~/anaconda3/lib/python3.7/site-packages/skimage/__init__.py\u001b[0m in \u001b[0;36m<module>\u001b[0;34m\u001b[0m\n\u001b[1;32m    175\u001b[0m \u001b[0;34m\u001b[0m\u001b[0m\n\u001b[1;32m    176\u001b[0m     \u001b[0;32mfrom\u001b[0m \u001b[0;34m.\u001b[0m\u001b[0mutil\u001b[0m\u001b[0;34m.\u001b[0m\u001b[0mlookfor\u001b[0m \u001b[0;32mimport\u001b[0m \u001b[0mlookfor\u001b[0m\u001b[0;34m\u001b[0m\u001b[0;34m\u001b[0m\u001b[0m\n\u001b[0;32m--> 177\u001b[0;31m     \u001b[0;32mfrom\u001b[0m \u001b[0;34m.\u001b[0m\u001b[0mdata\u001b[0m \u001b[0;32mimport\u001b[0m \u001b[0mdata_dir\u001b[0m\u001b[0;34m\u001b[0m\u001b[0;34m\u001b[0m\u001b[0m\n\u001b[0m\u001b[1;32m    178\u001b[0m \u001b[0;34m\u001b[0m\u001b[0m\n\u001b[1;32m    179\u001b[0m \u001b[0;34m\u001b[0m\u001b[0m\n",
      "\u001b[0;32m~/anaconda3/lib/python3.7/site-packages/skimage/data/__init__.py\u001b[0m in \u001b[0;36m<module>\u001b[0;34m\u001b[0m\n\u001b[1;32m     16\u001b[0m \u001b[0;32mfrom\u001b[0m \u001b[0;34m.\u001b[0m\u001b[0;34m.\u001b[0m\u001b[0m_shared\u001b[0m\u001b[0;34m.\u001b[0m\u001b[0m_warnings\u001b[0m \u001b[0;32mimport\u001b[0m \u001b[0mexpected_warnings\u001b[0m\u001b[0;34m,\u001b[0m \u001b[0mwarn\u001b[0m\u001b[0;34m\u001b[0m\u001b[0;34m\u001b[0m\u001b[0m\n\u001b[1;32m     17\u001b[0m \u001b[0;32mfrom\u001b[0m \u001b[0;34m.\u001b[0m\u001b[0;34m.\u001b[0m\u001b[0mutil\u001b[0m\u001b[0;34m.\u001b[0m\u001b[0mdtype\u001b[0m \u001b[0;32mimport\u001b[0m \u001b[0mimg_as_bool\u001b[0m\u001b[0;34m\u001b[0m\u001b[0;34m\u001b[0m\u001b[0m\n\u001b[0;32m---> 18\u001b[0;31m \u001b[0;32mfrom\u001b[0m \u001b[0;34m.\u001b[0m\u001b[0m_binary_blobs\u001b[0m \u001b[0;32mimport\u001b[0m \u001b[0mbinary_blobs\u001b[0m\u001b[0;34m\u001b[0m\u001b[0;34m\u001b[0m\u001b[0m\n\u001b[0m\u001b[1;32m     19\u001b[0m \u001b[0;34m\u001b[0m\u001b[0m\n\u001b[1;32m     20\u001b[0m \u001b[0;32mimport\u001b[0m \u001b[0mos\u001b[0m\u001b[0;34m.\u001b[0m\u001b[0mpath\u001b[0m \u001b[0;32mas\u001b[0m \u001b[0mosp\u001b[0m\u001b[0;34m\u001b[0m\u001b[0;34m\u001b[0m\u001b[0m\n",
      "\u001b[0;32m~/anaconda3/lib/python3.7/site-packages/skimage/data/_binary_blobs.py\u001b[0m in \u001b[0;36m<module>\u001b[0;34m\u001b[0m\n\u001b[1;32m      1\u001b[0m \u001b[0;32mimport\u001b[0m \u001b[0mnumpy\u001b[0m \u001b[0;32mas\u001b[0m \u001b[0mnp\u001b[0m\u001b[0;34m\u001b[0m\u001b[0;34m\u001b[0m\u001b[0m\n\u001b[0;32m----> 2\u001b[0;31m \u001b[0;32mfrom\u001b[0m \u001b[0;34m.\u001b[0m\u001b[0;34m.\u001b[0m\u001b[0mfilters\u001b[0m \u001b[0;32mimport\u001b[0m \u001b[0mgaussian\u001b[0m\u001b[0;34m\u001b[0m\u001b[0;34m\u001b[0m\u001b[0m\n\u001b[0m\u001b[1;32m      3\u001b[0m \u001b[0;34m\u001b[0m\u001b[0m\n\u001b[1;32m      4\u001b[0m \u001b[0;34m\u001b[0m\u001b[0m\n\u001b[1;32m      5\u001b[0m def binary_blobs(length=512, blob_size_fraction=0.1, n_dim=2,\n",
      "\u001b[0;32m~/anaconda3/lib/python3.7/site-packages/skimage/filters/__init__.py\u001b[0m in \u001b[0;36m<module>\u001b[0;34m\u001b[0m\n\u001b[1;32m      1\u001b[0m \u001b[0;32mfrom\u001b[0m \u001b[0;34m.\u001b[0m\u001b[0mlpi_filter\u001b[0m \u001b[0;32mimport\u001b[0m \u001b[0minverse\u001b[0m\u001b[0;34m,\u001b[0m \u001b[0mwiener\u001b[0m\u001b[0;34m,\u001b[0m \u001b[0mLPIFilter2D\u001b[0m\u001b[0;34m\u001b[0m\u001b[0;34m\u001b[0m\u001b[0m\n\u001b[1;32m      2\u001b[0m \u001b[0;32mfrom\u001b[0m \u001b[0;34m.\u001b[0m\u001b[0m_gaussian\u001b[0m \u001b[0;32mimport\u001b[0m \u001b[0mgaussian\u001b[0m\u001b[0;34m\u001b[0m\u001b[0;34m\u001b[0m\u001b[0m\n\u001b[0;32m----> 3\u001b[0;31m from .edges import (sobel, sobel_h, sobel_v,\n\u001b[0m\u001b[1;32m      4\u001b[0m                     \u001b[0mscharr\u001b[0m\u001b[0;34m,\u001b[0m \u001b[0mscharr_h\u001b[0m\u001b[0;34m,\u001b[0m \u001b[0mscharr_v\u001b[0m\u001b[0;34m,\u001b[0m\u001b[0;34m\u001b[0m\u001b[0;34m\u001b[0m\u001b[0m\n\u001b[1;32m      5\u001b[0m                     \u001b[0mprewitt\u001b[0m\u001b[0;34m,\u001b[0m \u001b[0mprewitt_h\u001b[0m\u001b[0;34m,\u001b[0m \u001b[0mprewitt_v\u001b[0m\u001b[0;34m,\u001b[0m\u001b[0;34m\u001b[0m\u001b[0;34m\u001b[0m\u001b[0m\n",
      "\u001b[0;32m~/anaconda3/lib/python3.7/site-packages/skimage/filters/edges.py\u001b[0m in \u001b[0;36m<module>\u001b[0;34m\u001b[0m\n\u001b[1;32m     15\u001b[0m \u001b[0;32mfrom\u001b[0m \u001b[0mscipy\u001b[0m\u001b[0;34m.\u001b[0m\u001b[0mndimage\u001b[0m \u001b[0;32mimport\u001b[0m \u001b[0mconvolve\u001b[0m\u001b[0;34m,\u001b[0m \u001b[0mbinary_erosion\u001b[0m\u001b[0;34m,\u001b[0m \u001b[0mgenerate_binary_structure\u001b[0m\u001b[0;34m\u001b[0m\u001b[0;34m\u001b[0m\u001b[0m\n\u001b[1;32m     16\u001b[0m \u001b[0;34m\u001b[0m\u001b[0m\n\u001b[0;32m---> 17\u001b[0;31m \u001b[0;32mfrom\u001b[0m \u001b[0;34m.\u001b[0m\u001b[0;34m.\u001b[0m\u001b[0mrestoration\u001b[0m\u001b[0;34m.\u001b[0m\u001b[0muft\u001b[0m \u001b[0;32mimport\u001b[0m \u001b[0mlaplacian\u001b[0m\u001b[0;34m\u001b[0m\u001b[0;34m\u001b[0m\u001b[0m\n\u001b[0m\u001b[1;32m     18\u001b[0m \u001b[0;34m\u001b[0m\u001b[0m\n\u001b[1;32m     19\u001b[0m \u001b[0mEROSION_SELEM\u001b[0m \u001b[0;34m=\u001b[0m \u001b[0mgenerate_binary_structure\u001b[0m\u001b[0;34m(\u001b[0m\u001b[0;36m2\u001b[0m\u001b[0;34m,\u001b[0m \u001b[0;36m2\u001b[0m\u001b[0;34m)\u001b[0m\u001b[0;34m\u001b[0m\u001b[0;34m\u001b[0m\u001b[0m\n",
      "\u001b[0;32m~/anaconda3/lib/python3.7/site-packages/skimage/restoration/__init__.py\u001b[0m in \u001b[0;36m<module>\u001b[0;34m\u001b[0m\n\u001b[1;32m      4\u001b[0m \"\"\"\n\u001b[1;32m      5\u001b[0m \u001b[0;34m\u001b[0m\u001b[0m\n\u001b[0;32m----> 6\u001b[0;31m \u001b[0;32mfrom\u001b[0m \u001b[0;34m.\u001b[0m\u001b[0mdeconvolution\u001b[0m \u001b[0;32mimport\u001b[0m \u001b[0mwiener\u001b[0m\u001b[0;34m,\u001b[0m \u001b[0munsupervised_wiener\u001b[0m\u001b[0;34m,\u001b[0m \u001b[0mrichardson_lucy\u001b[0m\u001b[0;34m\u001b[0m\u001b[0;34m\u001b[0m\u001b[0m\n\u001b[0m\u001b[1;32m      7\u001b[0m \u001b[0;32mfrom\u001b[0m \u001b[0;34m.\u001b[0m\u001b[0munwrap\u001b[0m \u001b[0;32mimport\u001b[0m \u001b[0munwrap_phase\u001b[0m\u001b[0;34m\u001b[0m\u001b[0;34m\u001b[0m\u001b[0m\n\u001b[1;32m      8\u001b[0m from ._denoise import (denoise_tv_chambolle, denoise_tv_bregman,\n",
      "\u001b[0;32m~/anaconda3/lib/python3.7/site-packages/skimage/restoration/deconvolution.py\u001b[0m in \u001b[0;36m<module>\u001b[0;34m\u001b[0m\n\u001b[1;32m      8\u001b[0m \u001b[0;32mimport\u001b[0m \u001b[0mnumpy\u001b[0m \u001b[0;32mas\u001b[0m \u001b[0mnp\u001b[0m\u001b[0;34m\u001b[0m\u001b[0;34m\u001b[0m\u001b[0m\n\u001b[1;32m      9\u001b[0m \u001b[0;32mimport\u001b[0m \u001b[0mnumpy\u001b[0m\u001b[0;34m.\u001b[0m\u001b[0mrandom\u001b[0m \u001b[0;32mas\u001b[0m \u001b[0mnpr\u001b[0m\u001b[0;34m\u001b[0m\u001b[0;34m\u001b[0m\u001b[0m\n\u001b[0;32m---> 10\u001b[0;31m \u001b[0;32mfrom\u001b[0m \u001b[0mscipy\u001b[0m\u001b[0;34m.\u001b[0m\u001b[0msignal\u001b[0m \u001b[0;32mimport\u001b[0m \u001b[0mfftconvolve\u001b[0m\u001b[0;34m,\u001b[0m \u001b[0mconvolve\u001b[0m\u001b[0;34m\u001b[0m\u001b[0;34m\u001b[0m\u001b[0m\n\u001b[0m\u001b[1;32m     11\u001b[0m \u001b[0;34m\u001b[0m\u001b[0m\n\u001b[1;32m     12\u001b[0m \u001b[0;32mfrom\u001b[0m \u001b[0;34m.\u001b[0m \u001b[0;32mimport\u001b[0m \u001b[0muft\u001b[0m\u001b[0;34m\u001b[0m\u001b[0;34m\u001b[0m\u001b[0m\n",
      "\u001b[0;32m~/anaconda3/lib/python3.7/site-packages/scipy/signal/__init__.py\u001b[0m in \u001b[0;36m<module>\u001b[0;34m\u001b[0m\n\u001b[1;32m    299\u001b[0m \u001b[0;34m\u001b[0m\u001b[0m\n\u001b[1;32m    300\u001b[0m \u001b[0;32mfrom\u001b[0m \u001b[0;34m.\u001b[0m\u001b[0mbsplines\u001b[0m \u001b[0;32mimport\u001b[0m \u001b[0;34m*\u001b[0m\u001b[0;34m\u001b[0m\u001b[0;34m\u001b[0m\u001b[0m\n\u001b[0;32m--> 301\u001b[0;31m \u001b[0;32mfrom\u001b[0m \u001b[0;34m.\u001b[0m\u001b[0mfilter_design\u001b[0m \u001b[0;32mimport\u001b[0m \u001b[0;34m*\u001b[0m\u001b[0;34m\u001b[0m\u001b[0;34m\u001b[0m\u001b[0m\n\u001b[0m\u001b[1;32m    302\u001b[0m \u001b[0;32mfrom\u001b[0m \u001b[0;34m.\u001b[0m\u001b[0mfir_filter_design\u001b[0m \u001b[0;32mimport\u001b[0m \u001b[0;34m*\u001b[0m\u001b[0;34m\u001b[0m\u001b[0;34m\u001b[0m\u001b[0m\n\u001b[1;32m    303\u001b[0m \u001b[0;32mfrom\u001b[0m \u001b[0;34m.\u001b[0m\u001b[0mltisys\u001b[0m \u001b[0;32mimport\u001b[0m \u001b[0;34m*\u001b[0m\u001b[0;34m\u001b[0m\u001b[0;34m\u001b[0m\u001b[0m\n",
      "\u001b[0;32m~/anaconda3/lib/python3.7/site-packages/scipy/signal/filter_design.py\u001b[0m in \u001b[0;36m<module>\u001b[0;34m\u001b[0m\n\u001b[1;32m     16\u001b[0m \u001b[0;32mfrom\u001b[0m \u001b[0mnumpy\u001b[0m\u001b[0;34m.\u001b[0m\u001b[0mpolynomial\u001b[0m\u001b[0;34m.\u001b[0m\u001b[0mpolynomial\u001b[0m \u001b[0;32mimport\u001b[0m \u001b[0mpolyval\u001b[0m \u001b[0;32mas\u001b[0m \u001b[0mnpp_polyval\u001b[0m\u001b[0;34m\u001b[0m\u001b[0;34m\u001b[0m\u001b[0m\n\u001b[1;32m     17\u001b[0m \u001b[0;34m\u001b[0m\u001b[0m\n\u001b[0;32m---> 18\u001b[0;31m \u001b[0;32mfrom\u001b[0m \u001b[0mscipy\u001b[0m \u001b[0;32mimport\u001b[0m \u001b[0mspecial\u001b[0m\u001b[0;34m,\u001b[0m \u001b[0moptimize\u001b[0m\u001b[0;34m,\u001b[0m \u001b[0mfft\u001b[0m \u001b[0;32mas\u001b[0m \u001b[0msp_fft\u001b[0m\u001b[0;34m\u001b[0m\u001b[0;34m\u001b[0m\u001b[0m\n\u001b[0m\u001b[1;32m     19\u001b[0m \u001b[0;32mfrom\u001b[0m \u001b[0mscipy\u001b[0m\u001b[0;34m.\u001b[0m\u001b[0mspecial\u001b[0m \u001b[0;32mimport\u001b[0m \u001b[0mcomb\u001b[0m\u001b[0;34m,\u001b[0m \u001b[0mfactorial\u001b[0m\u001b[0;34m\u001b[0m\u001b[0;34m\u001b[0m\u001b[0m\n\u001b[1;32m     20\u001b[0m \u001b[0;32mfrom\u001b[0m \u001b[0mscipy\u001b[0m\u001b[0;34m.\u001b[0m\u001b[0m_lib\u001b[0m\u001b[0;34m.\u001b[0m\u001b[0m_numpy_compat\u001b[0m \u001b[0;32mimport\u001b[0m \u001b[0mpolyvalfromroots\u001b[0m\u001b[0;34m\u001b[0m\u001b[0;34m\u001b[0m\u001b[0m\n",
      "\u001b[0;32m~/anaconda3/lib/python3.7/site-packages/scipy/optimize/__init__.py\u001b[0m in \u001b[0;36m<module>\u001b[0;34m\u001b[0m\n\u001b[1;32m    388\u001b[0m \u001b[0;34m\u001b[0m\u001b[0m\n\u001b[1;32m    389\u001b[0m \u001b[0;32mfrom\u001b[0m \u001b[0;34m.\u001b[0m\u001b[0moptimize\u001b[0m \u001b[0;32mimport\u001b[0m \u001b[0;34m*\u001b[0m\u001b[0;34m\u001b[0m\u001b[0;34m\u001b[0m\u001b[0m\n\u001b[0;32m--> 390\u001b[0;31m \u001b[0;32mfrom\u001b[0m \u001b[0;34m.\u001b[0m\u001b[0m_minimize\u001b[0m \u001b[0;32mimport\u001b[0m \u001b[0;34m*\u001b[0m\u001b[0;34m\u001b[0m\u001b[0;34m\u001b[0m\u001b[0m\n\u001b[0m\u001b[1;32m    391\u001b[0m \u001b[0;32mfrom\u001b[0m \u001b[0;34m.\u001b[0m\u001b[0m_root\u001b[0m \u001b[0;32mimport\u001b[0m \u001b[0;34m*\u001b[0m\u001b[0;34m\u001b[0m\u001b[0;34m\u001b[0m\u001b[0m\n\u001b[1;32m    392\u001b[0m \u001b[0;32mfrom\u001b[0m \u001b[0;34m.\u001b[0m\u001b[0m_root_scalar\u001b[0m \u001b[0;32mimport\u001b[0m \u001b[0;34m*\u001b[0m\u001b[0;34m\u001b[0m\u001b[0;34m\u001b[0m\u001b[0m\n",
      "\u001b[0;32m~/anaconda3/lib/python3.7/site-packages/scipy/optimize/_minimize.py\u001b[0m in \u001b[0;36m<module>\u001b[0;34m\u001b[0m\n\u001b[1;32m     28\u001b[0m \u001b[0;32mfrom\u001b[0m \u001b[0;34m.\u001b[0m\u001b[0m_trustregion_krylov\u001b[0m \u001b[0;32mimport\u001b[0m \u001b[0m_minimize_trust_krylov\u001b[0m\u001b[0;34m\u001b[0m\u001b[0;34m\u001b[0m\u001b[0m\n\u001b[1;32m     29\u001b[0m \u001b[0;32mfrom\u001b[0m \u001b[0;34m.\u001b[0m\u001b[0m_trustregion_exact\u001b[0m \u001b[0;32mimport\u001b[0m \u001b[0m_minimize_trustregion_exact\u001b[0m\u001b[0;34m\u001b[0m\u001b[0;34m\u001b[0m\u001b[0m\n\u001b[0;32m---> 30\u001b[0;31m \u001b[0;32mfrom\u001b[0m \u001b[0;34m.\u001b[0m\u001b[0m_trustregion_constr\u001b[0m \u001b[0;32mimport\u001b[0m \u001b[0m_minimize_trustregion_constr\u001b[0m\u001b[0;34m\u001b[0m\u001b[0;34m\u001b[0m\u001b[0m\n\u001b[0m\u001b[1;32m     31\u001b[0m \u001b[0;34m\u001b[0m\u001b[0m\n\u001b[1;32m     32\u001b[0m \u001b[0;31m# constrained minimization\u001b[0m\u001b[0;34m\u001b[0m\u001b[0;34m\u001b[0m\u001b[0;34m\u001b[0m\u001b[0m\n",
      "\u001b[0;32m~/anaconda3/lib/python3.7/site-packages/scipy/optimize/_trustregion_constr/__init__.py\u001b[0m in \u001b[0;36m<module>\u001b[0;34m\u001b[0m\n\u001b[1;32m      2\u001b[0m \u001b[0;34m\u001b[0m\u001b[0m\n\u001b[1;32m      3\u001b[0m \u001b[0;34m\u001b[0m\u001b[0m\n\u001b[0;32m----> 4\u001b[0;31m \u001b[0;32mfrom\u001b[0m \u001b[0;34m.\u001b[0m\u001b[0mminimize_trustregion_constr\u001b[0m \u001b[0;32mimport\u001b[0m \u001b[0m_minimize_trustregion_constr\u001b[0m\u001b[0;34m\u001b[0m\u001b[0;34m\u001b[0m\u001b[0m\n\u001b[0m\u001b[1;32m      5\u001b[0m \u001b[0;34m\u001b[0m\u001b[0m\n\u001b[1;32m      6\u001b[0m \u001b[0m__all__\u001b[0m \u001b[0;34m=\u001b[0m \u001b[0;34m[\u001b[0m\u001b[0;34m'_minimize_trustregion_constr'\u001b[0m\u001b[0;34m]\u001b[0m\u001b[0;34m\u001b[0m\u001b[0;34m\u001b[0m\u001b[0m\n",
      "\u001b[0;32m~/anaconda3/lib/python3.7/site-packages/scipy/optimize/_trustregion_constr/minimize_trustregion_constr.py\u001b[0m in \u001b[0;36m<module>\u001b[0;34m\u001b[0m\n\u001b[1;32m      2\u001b[0m \u001b[0;32mimport\u001b[0m \u001b[0mtime\u001b[0m\u001b[0;34m\u001b[0m\u001b[0;34m\u001b[0m\u001b[0m\n\u001b[1;32m      3\u001b[0m \u001b[0;32mimport\u001b[0m \u001b[0mnumpy\u001b[0m \u001b[0;32mas\u001b[0m \u001b[0mnp\u001b[0m\u001b[0;34m\u001b[0m\u001b[0;34m\u001b[0m\u001b[0m\n\u001b[0;32m----> 4\u001b[0;31m \u001b[0;32mfrom\u001b[0m \u001b[0mscipy\u001b[0m\u001b[0;34m.\u001b[0m\u001b[0msparse\u001b[0m\u001b[0;34m.\u001b[0m\u001b[0mlinalg\u001b[0m \u001b[0;32mimport\u001b[0m \u001b[0mLinearOperator\u001b[0m\u001b[0;34m\u001b[0m\u001b[0;34m\u001b[0m\u001b[0m\n\u001b[0m\u001b[1;32m      5\u001b[0m \u001b[0;32mfrom\u001b[0m \u001b[0;34m.\u001b[0m\u001b[0;34m.\u001b[0m\u001b[0m_differentiable_functions\u001b[0m \u001b[0;32mimport\u001b[0m \u001b[0mVectorFunction\u001b[0m\u001b[0;34m\u001b[0m\u001b[0;34m\u001b[0m\u001b[0m\n\u001b[1;32m      6\u001b[0m from .._constraints import (\n",
      "\u001b[0;32m~/anaconda3/lib/python3.7/site-packages/scipy/sparse/linalg/__init__.py\u001b[0m in \u001b[0;36m<module>\u001b[0;34m\u001b[0m\n\u001b[1;32m    111\u001b[0m \u001b[0;32mfrom\u001b[0m \u001b[0m__future__\u001b[0m \u001b[0;32mimport\u001b[0m \u001b[0mdivision\u001b[0m\u001b[0;34m,\u001b[0m \u001b[0mprint_function\u001b[0m\u001b[0;34m,\u001b[0m \u001b[0mabsolute_import\u001b[0m\u001b[0;34m\u001b[0m\u001b[0;34m\u001b[0m\u001b[0m\n\u001b[1;32m    112\u001b[0m \u001b[0;34m\u001b[0m\u001b[0m\n\u001b[0;32m--> 113\u001b[0;31m \u001b[0;32mfrom\u001b[0m \u001b[0;34m.\u001b[0m\u001b[0misolve\u001b[0m \u001b[0;32mimport\u001b[0m \u001b[0;34m*\u001b[0m\u001b[0;34m\u001b[0m\u001b[0;34m\u001b[0m\u001b[0m\n\u001b[0m\u001b[1;32m    114\u001b[0m \u001b[0;32mfrom\u001b[0m \u001b[0;34m.\u001b[0m\u001b[0mdsolve\u001b[0m \u001b[0;32mimport\u001b[0m \u001b[0;34m*\u001b[0m\u001b[0;34m\u001b[0m\u001b[0;34m\u001b[0m\u001b[0m\n\u001b[1;32m    115\u001b[0m \u001b[0;32mfrom\u001b[0m \u001b[0;34m.\u001b[0m\u001b[0minterface\u001b[0m \u001b[0;32mimport\u001b[0m \u001b[0;34m*\u001b[0m\u001b[0;34m\u001b[0m\u001b[0;34m\u001b[0m\u001b[0m\n",
      "\u001b[0;32m~/anaconda3/lib/python3.7/site-packages/scipy/sparse/linalg/isolve/__init__.py\u001b[0m in \u001b[0;36m<module>\u001b[0;34m\u001b[0m\n\u001b[1;32m      4\u001b[0m \u001b[0;34m\u001b[0m\u001b[0m\n\u001b[1;32m      5\u001b[0m \u001b[0;31m#from info import __doc__\u001b[0m\u001b[0;34m\u001b[0m\u001b[0;34m\u001b[0m\u001b[0;34m\u001b[0m\u001b[0m\n\u001b[0;32m----> 6\u001b[0;31m \u001b[0;32mfrom\u001b[0m \u001b[0;34m.\u001b[0m\u001b[0miterative\u001b[0m \u001b[0;32mimport\u001b[0m \u001b[0;34m*\u001b[0m\u001b[0;34m\u001b[0m\u001b[0;34m\u001b[0m\u001b[0m\n\u001b[0m\u001b[1;32m      7\u001b[0m \u001b[0;32mfrom\u001b[0m \u001b[0;34m.\u001b[0m\u001b[0mminres\u001b[0m \u001b[0;32mimport\u001b[0m \u001b[0mminres\u001b[0m\u001b[0;34m\u001b[0m\u001b[0;34m\u001b[0m\u001b[0m\n\u001b[1;32m      8\u001b[0m \u001b[0;32mfrom\u001b[0m \u001b[0;34m.\u001b[0m\u001b[0mlgmres\u001b[0m \u001b[0;32mimport\u001b[0m \u001b[0mlgmres\u001b[0m\u001b[0;34m\u001b[0m\u001b[0;34m\u001b[0m\u001b[0m\n",
      "\u001b[0;32m~/anaconda3/lib/python3.7/site-packages/scipy/sparse/linalg/isolve/iterative.py\u001b[0m in \u001b[0;36m<module>\u001b[0;34m\u001b[0m\n\u001b[1;32m     10\u001b[0m \u001b[0;32mfrom\u001b[0m \u001b[0;34m.\u001b[0m \u001b[0;32mimport\u001b[0m \u001b[0m_iterative\u001b[0m\u001b[0;34m\u001b[0m\u001b[0;34m\u001b[0m\u001b[0m\n\u001b[1;32m     11\u001b[0m \u001b[0;34m\u001b[0m\u001b[0m\n\u001b[0;32m---> 12\u001b[0;31m \u001b[0;32mfrom\u001b[0m \u001b[0mscipy\u001b[0m\u001b[0;34m.\u001b[0m\u001b[0msparse\u001b[0m\u001b[0;34m.\u001b[0m\u001b[0mlinalg\u001b[0m\u001b[0;34m.\u001b[0m\u001b[0minterface\u001b[0m \u001b[0;32mimport\u001b[0m \u001b[0mLinearOperator\u001b[0m\u001b[0;34m\u001b[0m\u001b[0;34m\u001b[0m\u001b[0m\n\u001b[0m\u001b[1;32m     13\u001b[0m \u001b[0;32mfrom\u001b[0m \u001b[0;34m.\u001b[0m\u001b[0mutils\u001b[0m \u001b[0;32mimport\u001b[0m \u001b[0mmake_system\u001b[0m\u001b[0;34m\u001b[0m\u001b[0;34m\u001b[0m\u001b[0m\n\u001b[1;32m     14\u001b[0m \u001b[0;32mfrom\u001b[0m \u001b[0mscipy\u001b[0m\u001b[0;34m.\u001b[0m\u001b[0m_lib\u001b[0m\u001b[0;34m.\u001b[0m\u001b[0m_util\u001b[0m \u001b[0;32mimport\u001b[0m \u001b[0m_aligned_zeros\u001b[0m\u001b[0;34m\u001b[0m\u001b[0;34m\u001b[0m\u001b[0m\n",
      "\u001b[0;32m~/anaconda3/lib/python3.7/site-packages/scipy/sparse/linalg/interface.py\u001b[0m in \u001b[0;36m<module>\u001b[0;34m\u001b[0m\n\u001b[1;32m     48\u001b[0m \u001b[0;34m\u001b[0m\u001b[0m\n\u001b[1;32m     49\u001b[0m \u001b[0;32mfrom\u001b[0m \u001b[0mscipy\u001b[0m\u001b[0;34m.\u001b[0m\u001b[0msparse\u001b[0m \u001b[0;32mimport\u001b[0m \u001b[0misspmatrix\u001b[0m\u001b[0;34m\u001b[0m\u001b[0;34m\u001b[0m\u001b[0m\n\u001b[0;32m---> 50\u001b[0;31m \u001b[0;32mfrom\u001b[0m \u001b[0mscipy\u001b[0m\u001b[0;34m.\u001b[0m\u001b[0msparse\u001b[0m\u001b[0;34m.\u001b[0m\u001b[0msputils\u001b[0m \u001b[0;32mimport\u001b[0m \u001b[0misshape\u001b[0m\u001b[0;34m,\u001b[0m \u001b[0misintlike\u001b[0m\u001b[0;34m,\u001b[0m \u001b[0masmatrix\u001b[0m\u001b[0;34m,\u001b[0m \u001b[0mis_pydata_spmatrix\u001b[0m\u001b[0;34m\u001b[0m\u001b[0;34m\u001b[0m\u001b[0m\n\u001b[0m\u001b[1;32m     51\u001b[0m \u001b[0;34m\u001b[0m\u001b[0m\n\u001b[1;32m     52\u001b[0m \u001b[0m__all__\u001b[0m \u001b[0;34m=\u001b[0m \u001b[0;34m[\u001b[0m\u001b[0;34m'LinearOperator'\u001b[0m\u001b[0;34m,\u001b[0m \u001b[0;34m'aslinearoperator'\u001b[0m\u001b[0;34m]\u001b[0m\u001b[0;34m\u001b[0m\u001b[0;34m\u001b[0m\u001b[0m\n",
      "\u001b[0;31mImportError\u001b[0m: cannot import name 'asmatrix' from 'scipy.sparse.sputils' (/home/blink/anaconda3/lib/python3.7/site-packages/scipy/sparse/sputils.py)"
     ]
    }
   ],
   "source": [
    "#Import libraries\n",
    "import segmentation_models\n",
    "segmentation_models.set_framework('tf.keras')\n",
    "from segmentation_models import Unet\n",
    "from segmentation_models.backbones.backbones_factory import Backbones\n",
    "from segmentation_models.losses import bce_jaccard_loss\n",
    "from segmentation_models.metrics import iou_score\n",
    "\n",
    "from tensorflow.keras.layers import Input, Conv2D\n",
    "from tensorflow.keras.models import Model"
   ]
  },
  {
   "cell_type": "code",
   "execution_count": null,
   "metadata": {
    "executionInfo": {
     "elapsed": 12351,
     "status": "ok",
     "timestamp": 1610208589052,
     "user": {
      "displayName": "Abhishek Singh",
      "photoUrl": "",
      "userId": "02564130673443773880"
     },
     "user_tz": -330
    },
    "id": "hmSfOJtYr4x8"
   },
   "outputs": [],
   "source": [
    "from sklearn.model_selection import train_test_split\n",
    "\n",
    "# Split train and valid\n",
    "X_train, X_valid, y_train, y_valid = train_test_split(X, y, test_size=0.15, random_state=2019)"
   ]
  },
  {
   "cell_type": "code",
   "execution_count": null,
   "metadata": {
    "executionInfo": {
     "elapsed": 12345,
     "status": "ok",
     "timestamp": 1610208589053,
     "user": {
      "displayName": "Abhishek Singh",
      "photoUrl": "",
      "userId": "02564130673443773880"
     },
     "user_tz": -330
    },
    "id": "sdR0Cxh-T6jI"
   },
   "outputs": [],
   "source": [
    "BACKBONE = 'resnet34'\n",
    "preprocess_input = Backbones.get_preprocessing(BACKBONE)"
   ]
  },
  {
   "cell_type": "code",
   "execution_count": null,
   "metadata": {
    "executionInfo": {
     "elapsed": 12337,
     "status": "ok",
     "timestamp": 1610208589054,
     "user": {
      "displayName": "Abhishek Singh",
      "photoUrl": "",
      "userId": "02564130673443773880"
     },
     "user_tz": -330
    },
    "id": "jjfhdVUmr7T6"
   },
   "outputs": [],
   "source": [
    "x_train = preprocess_input(X_train)\n",
    "x_val = preprocess_input(X_valid)"
   ]
  },
  {
   "cell_type": "code",
   "execution_count": null,
   "metadata": {
    "colab": {
     "base_uri": "https://localhost:8080/"
    },
    "executionInfo": {
     "elapsed": 12332,
     "status": "ok",
     "timestamp": 1610208589054,
     "user": {
      "displayName": "Abhishek Singh",
      "photoUrl": "",
      "userId": "02564130673443773880"
     },
     "user_tz": -330
    },
    "id": "R7TIAYf6s9p1",
    "outputId": "2b5988f0-3882-4813-e6e5-8971872f2614"
   },
   "outputs": [],
   "source": [
    "x_val.shape"
   ]
  },
  {
   "cell_type": "code",
   "execution_count": null,
   "metadata": {
    "colab": {
     "base_uri": "https://localhost:8080/"
    },
    "executionInfo": {
     "elapsed": 12329,
     "status": "ok",
     "timestamp": 1610208589055,
     "user": {
      "displayName": "Abhishek Singh",
      "photoUrl": "",
      "userId": "02564130673443773880"
     },
     "user_tz": -330
    },
    "id": "3YaMOsEvICD7",
    "outputId": "2638c0b6-046b-41cf-88d1-fc1a309ea9f4"
   },
   "outputs": [],
   "source": [
    "x_train.shape"
   ]
  },
  {
   "cell_type": "code",
   "execution_count": null,
   "metadata": {
    "colab": {
     "base_uri": "https://localhost:8080/"
    },
    "executionInfo": {
     "elapsed": 23142,
     "status": "ok",
     "timestamp": 1610208599873,
     "user": {
      "displayName": "Abhishek Singh",
      "photoUrl": "",
      "userId": "02564130673443773880"
     },
     "user_tz": -330
    },
    "id": "RN6duB30u714",
    "outputId": "7078888b-d890-40a4-cf03-13546f1eddd5"
   },
   "outputs": [],
   "source": [
    "#Build your model \n",
    "\n",
    "N = x_train.shape[-1]\n",
    "\n",
    "base_model = Unet(backbone_name='inceptionv3', encoder_weights='imagenet')\n",
    "\n",
    "inp = Input(shape=(128, 128, N))\n",
    "l1 = Conv2D(3, (1, 1))(inp) # map N channels data to 3 channels\n",
    "out = base_model(l1)\n",
    "l2 = Conv2D(3, (1, 1))(out)\n",
    "model = Model(inp, l2, name=base_model.name)\n",
    "model.summary()"
   ]
  },
  {
   "cell_type": "code",
   "execution_count": null,
   "metadata": {
    "colab": {
     "base_uri": "https://localhost:8080/"
    },
    "executionInfo": {
     "elapsed": 23138,
     "status": "ok",
     "timestamp": 1610208599874,
     "user": {
      "displayName": "Abhishek Singh",
      "photoUrl": "",
      "userId": "02564130673443773880"
     },
     "user_tz": -330
    },
    "id": "88BZmYiyeZrq",
    "outputId": "d2086b2d-4308-47c8-f0fc-e5732637e1a0"
   },
   "outputs": [],
   "source": [
    "base_model.summary()"
   ]
  },
  {
   "cell_type": "code",
   "execution_count": null,
   "metadata": {
    "executionInfo": {
     "elapsed": 23136,
     "status": "ok",
     "timestamp": 1610208599876,
     "user": {
      "displayName": "Abhishek Singh",
      "photoUrl": "",
      "userId": "02564130673443773880"
     },
     "user_tz": -330
    },
    "id": "vMAtoO9TsD9l"
   },
   "outputs": [],
   "source": [
    "from tensorflow.keras.optimizers import Adam\n",
    "from tensorflow.keras.losses import binary_crossentropy"
   ]
  },
  {
   "cell_type": "code",
   "execution_count": null,
   "metadata": {
    "executionInfo": {
     "elapsed": 23131,
     "status": "ok",
     "timestamp": 1610208599876,
     "user": {
      "displayName": "Abhishek Singh",
      "photoUrl": "",
      "userId": "02564130673443773880"
     },
     "user_tz": -330
    },
    "id": "c5m0I3-zWo6_"
   },
   "outputs": [],
   "source": [
    "def dice_coefficient(y_true, y_pred):\n",
    "    numerator = 2 * tensorflow.reduce_sum(y_true * y_pred)\n",
    "    denominator = tensorflow.reduce_sum(y_true + y_pred)\n",
    "\n",
    "    return numerator / (denominator + tensorflow.keras.backend.epsilon())"
   ]
  },
  {
   "cell_type": "code",
   "execution_count": null,
   "metadata": {
    "executionInfo": {
     "elapsed": 23129,
     "status": "ok",
     "timestamp": 1610208599879,
     "user": {
      "displayName": "Abhishek Singh",
      "photoUrl": "",
      "userId": "02564130673443773880"
     },
     "user_tz": -330
    },
    "id": "6AzI98wcX0fi"
   },
   "outputs": [],
   "source": [
    "def loss(y_true, y_pred):\n",
    "    return binary_crossentropy(y_true, y_pred) - tensorflow.math.log(dice_coefficient(y_true, y_pred) + tensorflow.keras.backend.epsilon())"
   ]
  },
  {
   "cell_type": "code",
   "execution_count": null,
   "metadata": {
    "executionInfo": {
     "elapsed": 23126,
     "status": "ok",
     "timestamp": 1610208599880,
     "user": {
      "displayName": "Abhishek Singh",
      "photoUrl": "",
      "userId": "02564130673443773880"
     },
     "user_tz": -330
    },
    "id": "pzTzKzJ_hbAC"
   },
   "outputs": [],
   "source": [
    "# compile model\n",
    "model.compile('Adam', loss=loss, metrics=[dice_coefficient])"
   ]
  },
  {
   "cell_type": "code",
   "execution_count": null,
   "metadata": {
    "colab": {
     "base_uri": "https://localhost:8080/"
    },
    "executionInfo": {
     "elapsed": 204787,
     "status": "ok",
     "timestamp": 1610208781545,
     "user": {
      "displayName": "Abhishek Singh",
      "photoUrl": "",
      "userId": "02564130673443773880"
     },
     "user_tz": -330
    },
    "id": "-Pzb9Z9ZsIQN",
    "outputId": "6829cab9-a32b-447a-8a3c-091e72fa5980"
   },
   "outputs": [],
   "source": [
    "# fit model\n",
    "model.fit(\n",
    "    x=x_train,\n",
    "    y=y_train,\n",
    "    batch_size=10,    \n",
    "    epochs=100,\n",
    "    validation_data=(x_val, y_valid),\n",
    ")"
   ]
  },
  {
   "cell_type": "code",
   "execution_count": null,
   "metadata": {
    "colab": {
     "base_uri": "https://localhost:8080/"
    },
    "executionInfo": {
     "elapsed": 208222,
     "status": "ok",
     "timestamp": 1610208784984,
     "user": {
      "displayName": "Abhishek Singh",
      "photoUrl": "",
      "userId": "02564130673443773880"
     },
     "user_tz": -330
    },
    "id": "pji6TRYu0oV-",
    "outputId": "5eb7a19d-b790-4884-afbe-e5796d345107"
   },
   "outputs": [],
   "source": [
    "model.evaluate(x_val, y_valid, verbose=1)"
   ]
  },
  {
   "cell_type": "code",
   "execution_count": null,
   "metadata": {
    "colab": {
     "base_uri": "https://localhost:8080/"
    },
    "executionInfo": {
     "elapsed": 211229,
     "status": "ok",
     "timestamp": 1610208787996,
     "user": {
      "displayName": "Abhishek Singh",
      "photoUrl": "",
      "userId": "02564130673443773880"
     },
     "user_tz": -330
    },
    "id": "YhG5iOxz4QSH",
    "outputId": "60a61954-e1cd-4191-b3bd-4cbb55ed042a"
   },
   "outputs": [],
   "source": [
    "# Predict on train, val and test\n",
    "preds_train = model.predict(x_train, verbose=1)\n",
    "preds_val = model.predict(x_val, verbose=1)\n",
    "\n",
    "import numpy as np\n",
    "\n",
    "# Threshold predictions\n",
    "# preds_train_t = (preds_train > 0.5).astype(np.uint8)\n",
    "# preds_val_t = (preds_val > 0.5).astype(np.uint8)"
   ]
  },
  {
   "cell_type": "code",
   "execution_count": null,
   "metadata": {
    "colab": {
     "base_uri": "https://localhost:8080/"
    },
    "executionInfo": {
     "elapsed": 211226,
     "status": "ok",
     "timestamp": 1610208787997,
     "user": {
      "displayName": "Abhishek Singh",
      "photoUrl": "",
      "userId": "02564130673443773880"
     },
     "user_tz": -330
    },
    "id": "eaUsEyZgfPIR",
    "outputId": "b4f27635-9d1e-4bec-bea0-ad046fc71a8a"
   },
   "outputs": [],
   "source": [
    "preds_train[0].shape"
   ]
  },
  {
   "cell_type": "code",
   "execution_count": null,
   "metadata": {
    "colab": {
     "base_uri": "https://localhost:8080/"
    },
    "executionInfo": {
     "elapsed": 212785,
     "status": "ok",
     "timestamp": 1610208789560,
     "user": {
      "displayName": "Abhishek Singh",
      "photoUrl": "",
      "userId": "02564130673443773880"
     },
     "user_tz": -330
    },
    "id": "iM55AgpabY-b",
    "outputId": "c5310b85-3236-4a74-d389-1c698bfc29c8"
   },
   "outputs": [],
   "source": [
    "#Save weights\n",
    "from tensorflow.keras.models import model_from_json\n",
    "\n",
    "# serialize model to JSON\n",
    "model_json = model.to_json()\n",
    "with open(\"model.json\", \"w\") as json_file:\n",
    "    json_file.write(model_json)\n",
    "# serialize weights to HDF5\n",
    "model.save_weights(\"model.h5\")\n",
    "print(\"Saved model to disk\")"
   ]
  },
  {
   "cell_type": "code",
   "execution_count": null,
   "metadata": {
    "executionInfo": {
     "elapsed": 212780,
     "status": "ok",
     "timestamp": 1610208789561,
     "user": {
      "displayName": "Abhishek Singh",
      "photoUrl": "",
      "userId": "02564130673443773880"
     },
     "user_tz": -330
    },
    "id": "MO-sD5eo9WUm"
   },
   "outputs": [],
   "source": [
    "import matplotlib.pyplot as plt"
   ]
  },
  {
   "cell_type": "code",
   "execution_count": null,
   "metadata": {
    "colab": {
     "base_uri": "https://localhost:8080/",
     "height": 285
    },
    "executionInfo": {
     "elapsed": 1689,
     "status": "ok",
     "timestamp": 1610209142062,
     "user": {
      "displayName": "Abhishek Singh",
      "photoUrl": "",
      "userId": "02564130673443773880"
     },
     "user_tz": -330
    },
    "id": "ynYPxbGMLjlo",
    "outputId": "4f6b4120-9d33-405c-f2af-013584abd5ea"
   },
   "outputs": [],
   "source": [
    "plt.imshow(x_train[3])"
   ]
  },
  {
   "cell_type": "code",
   "execution_count": null,
   "metadata": {
    "colab": {
     "base_uri": "https://localhost:8080/",
     "height": 302
    },
    "executionInfo": {
     "elapsed": 1160,
     "status": "ok",
     "timestamp": 1610209321903,
     "user": {
      "displayName": "Abhishek Singh",
      "photoUrl": "",
      "userId": "02564130673443773880"
     },
     "user_tz": -330
    },
    "id": "3ZTBIkdpLqjF",
    "outputId": "7a918ba2-3038-481f-b11b-44e1a7060892"
   },
   "outputs": [],
   "source": [
    "plt.imshow(preds_train[3])"
   ]
  },
  {
   "cell_type": "code",
   "execution_count": null,
   "metadata": {
    "executionInfo": {
     "elapsed": 213317,
     "status": "ok",
     "timestamp": 1610208790110,
     "user": {
      "displayName": "Abhishek Singh",
      "photoUrl": "",
      "userId": "02564130673443773880"
     },
     "user_tz": -330
    },
    "id": "FIjWiGPfO5tm"
   },
   "outputs": [],
   "source": []
  },
  {
   "cell_type": "code",
   "execution_count": null,
   "metadata": {},
   "outputs": [],
   "source": []
  }
 ],
 "metadata": {
  "accelerator": "GPU",
  "colab": {
   "collapsed_sections": [],
   "name": "UNET_Semantic_Segmentation_Scene_Understanding.ipynb",
   "provenance": [],
   "toc_visible": true
  },
  "kernelspec": {
   "display_name": "Python 3",
   "language": "python",
   "name": "python3"
  },
  "language_info": {
   "codemirror_mode": {
    "name": "ipython",
    "version": 3
   },
   "file_extension": ".py",
   "mimetype": "text/x-python",
   "name": "python",
   "nbconvert_exporter": "python",
   "pygments_lexer": "ipython3",
   "version": "3.7.3"
  }
 },
 "nbformat": 4,
 "nbformat_minor": 1
}
