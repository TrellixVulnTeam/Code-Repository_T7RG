{
  "nbformat": 4,
  "nbformat_minor": 0,
  "metadata": {
    "colab": {
      "name": "Sandheep_Computer Vision _ Lab Assignment 4.ipynb",
      "provenance": []
    },
    "kernelspec": {
      "name": "python3",
      "display_name": "Python 3"
    },
    "language_info": {
      "name": "python"
    }
  },
  "cells": [
    {
      "cell_type": "markdown",
      "source": [
        "# Lab Assignment 4\n",
        "\n",
        "**Computer Vision** - Term 5, 2022\n",
        "\n",
        "Instructor: Dr. Saumya Jetly <br>\n",
        "TA: Ribhu Lahiri\n",
        "\n",
        "*Deadline: Wednesday, 23 March 2022 11:59 pm* \n",
        "\n",
        "Submission form link: https://forms.gle/B9m2khtKNStHLCLL8\n",
        "\n",
        "Total points: 5\n"
      ],
      "metadata": {
        "id": "wMpd_g_2supN"
      }
    },
    {
      "cell_type": "code",
      "execution_count": 1,
      "metadata": {
        "id": "fJNYVdxmsm8F"
      },
      "outputs": [],
      "source": [
        "# Imports\n",
        "import math\n",
        "import torch\n",
        "import numpy as np\n",
        "import matplotlib.pyplot as plt\n",
        "import pandas as pd"
      ]
    },
    {
      "cell_type": "markdown",
      "source": [
        "### Task 1: Creating the single layer perceptron (3 points)\n",
        "\n",
        "In this lab we will focus on the perceptron, and how it can be used to model logic gates. Further, this same idea can be extended further due to perceptrons being a universal function approximator"
      ],
      "metadata": {
        "id": "ZxYOhSDgTJ5z"
      }
    },
    {
      "cell_type": "markdown",
      "source": [
        "**Implement the `sigmoid` function** *(1 point)*\n",
        "\n",
        "$𝑆(x) = \\frac{1}{1 + e^{-x}}$\n",
        "\n"
      ],
      "metadata": {
        "id": "fgU5WY3TV-GM"
      }
    },
    {
      "cell_type": "code",
      "source": [
        "def sigmoid(x):\n",
        "  '''\n",
        "    Applies the sigmoid function to the given input\n",
        "\n",
        "    Parameters\n",
        "    ----------\n",
        "    x: torch.Tensor\n",
        "        Input array/tensor\n",
        "\n",
        "    Returns\n",
        "    -------\n",
        "    out: torch.Tensor\n",
        "        Tensor after applying sigmoid function to it\n",
        "  '''\n",
        "  return 1/(torch.exp(x*-1)+1)"
      ],
      "metadata": {
        "id": "44NvwA86iYS5"
      },
      "execution_count": 2,
      "outputs": []
    },
    {
      "cell_type": "markdown",
      "source": [
        "**Implement the `perceptron` function** *(1 point)*\n",
        "\n",
        "$y' = x \\bullet W^t + b$"
      ],
      "metadata": {
        "id": "J-Tunf1PWDRG"
      }
    },
    {
      "cell_type": "code",
      "source": [
        "def perceptron(inputs, weights, bias):\n",
        "  '''\n",
        "    Defines the single layer perceptron model\n",
        "  '''\n",
        "  return inputs.mm(torch.transpose(weights,0,1)).clamp(min=0).add(bias)"
      ],
      "metadata": {
        "id": "8wzx5Zt-haY8"
      },
      "execution_count": 3,
      "outputs": []
    },
    {
      "cell_type": "markdown",
      "source": [
        "**Implement the `binary_cross_entropy` function** *(1 point)*\n",
        "\n",
        "$\\mathrm{Loss} = - \\frac{1}{\\mathrm{N}} \\sum_{i=1}^{\\mathrm{N}} y_i \\cdot \\mathrm{log}\\; {\\hat{y}}_i + (1-y_i) \\cdot \\mathrm{log}\\; (1-{\\hat{y}}_i)$"
      ],
      "metadata": {
        "id": "STk3yf2tWFM3"
      }
    },
    {
      "cell_type": "code",
      "source": [
        "def binary_cross_entropy(preds, targets):\n",
        "  '''\n",
        "    Applies binary cross entropy given predictions and ground truth\n",
        "  '''\n",
        "  import math\n",
        "  loss=torch.tensor(0)\n",
        "  temp=[]\n",
        "  if len(preds)==len(targets):\n",
        "      for i in range(len(preds)):\n",
        "        if targets[i]==0:\n",
        "          loss = torch.add(loss,torch.log2(1-preds[i]))\n",
        "        else:\n",
        "          loss = torch.add ( loss, torch.log2(preds[i]))\n",
        "      loss = torch.multiply(torch.div(loss,len(preds)),-1)\n",
        "  return loss"
      ],
      "metadata": {
        "id": "lAg5YyfPiL9i"
      },
      "execution_count": 4,
      "outputs": []
    },
    {
      "cell_type": "markdown",
      "source": [
        "## AND Gate"
      ],
      "metadata": {
        "id": "PitABqssebNz"
      }
    },
    {
      "cell_type": "code",
      "source": [
        "and_data = np.array([[0,0,0],\n",
        "                     [0,1,0],\n",
        "                     [1,0,0],\n",
        "                     [1,1,1]])\n",
        "\n",
        "# Creating a PyTorch tensor\n",
        "and_data = torch.Tensor(and_data)"
      ],
      "metadata": {
        "id": "9pVPVp6WeJfu"
      },
      "execution_count": 15,
      "outputs": []
    },
    {
      "cell_type": "code",
      "source": [
        "# Same slicing as np arrays\n",
        "X = and_data[:,:-1]\n",
        "y = and_data[:,-1:]"
      ],
      "metadata": {
        "id": "miB9u_0yfGWf"
      },
      "execution_count": 16,
      "outputs": []
    },
    {
      "cell_type": "code",
      "source": [
        "W = torch.randn((1,2), requires_grad=True)\n",
        "b = torch.randn((1,1), requires_grad=True)"
      ],
      "metadata": {
        "id": "zt5YcThwf_3f"
      },
      "execution_count": 17,
      "outputs": []
    },
    {
      "cell_type": "markdown",
      "source": [
        "**Create the training loop** *(1 point)*"
      ],
      "metadata": {
        "id": "thpCI3K1WID_"
      }
    },
    {
      "cell_type": "code",
      "source": [
        "n_epochs = 200\n",
        "lr = 5e-1\n",
        "losses = []\n",
        "for _ in range(n_epochs):\n",
        "  # Define the Training Loop here\n",
        "  # \n",
        "  # Get predictions\n",
        "  pred = sigmoid(perceptron(X, W, b))\n",
        "\n",
        "  # Calculate Loss\n",
        "  loss = binary_cross_entropy(pred, y)\n",
        "\n",
        "  # Do a backward step (to calculate gradients)\n",
        "  loss.backward()\n",
        "\n",
        "  # Update Weights\n",
        "  with torch.no_grad():\n",
        "    W -= lr * W.grad\n",
        "    b -= lr * b.grad\n",
        "    W.grad.zero_()\n",
        "    b.grad.zero_()\n",
        "\n",
        "  # Append Loss\n",
        "  losses.append(loss)"
      ],
      "metadata": {
        "id": "Htp_t7erfnY-"
      },
      "execution_count": 18,
      "outputs": []
    },
    {
      "cell_type": "code",
      "source": [
        "losses = [loss.detach().numpy()[0] for loss in losses]"
      ],
      "metadata": {
        "id": "IEcxcDa9ErgR"
      },
      "execution_count": 19,
      "outputs": []
    },
    {
      "cell_type": "code",
      "source": [
        "plt.plot(losses)"
      ],
      "metadata": {
        "colab": {
          "base_uri": "https://localhost:8080/",
          "height": 282
        },
        "id": "ZhGdWNaNkIJK",
        "outputId": "9d1d461c-ffb9-411f-835e-1657f472f76f"
      },
      "execution_count": 20,
      "outputs": [
        {
          "output_type": "execute_result",
          "data": {
            "text/plain": [
              "[<matplotlib.lines.Line2D at 0x7f0930f84350>]"
            ]
          },
          "metadata": {},
          "execution_count": 20
        },
        {
          "output_type": "display_data",
          "data": {
            "text/plain": [
              "<Figure size 432x288 with 1 Axes>"
            ],
            "image/png": "[encoded data removed]"
          },
          "metadata": {
            "needs_background": "light"
          }
        }
      ]
    },
    {
      "cell_type": "code",
      "source": [
        "with torch.no_grad():\n",
        "  print((perceptron(X, W, b) > 0.5).int())"
      ],
      "metadata": {
        "colab": {
          "base_uri": "https://localhost:8080/"
        },
        "id": "_AFaaDwkkbWK",
        "outputId": "0c07f57c-aa88-4e3b-b3cb-9fd6166a5a6a"
      },
      "execution_count": 21,
      "outputs": [
        {
          "output_type": "stream",
          "name": "stdout",
          "text": [
            "tensor([[0],\n",
            "        [0],\n",
            "        [0],\n",
            "        [1]], dtype=torch.int32)\n"
          ]
        }
      ]
    },
    {
      "cell_type": "markdown",
      "source": [
        "## OR Gate"
      ],
      "metadata": {
        "id": "nxayZJ1UlLhR"
      }
    },
    {
      "cell_type": "code",
      "source": [
        "or_data = np.array([[0,0,0],\n",
        "                     [0,1,1],\n",
        "                     [1,0,1],\n",
        "                     [1,1,1]])\n",
        "\n",
        "# Creating a PyTorch tensor\n",
        "or_data = torch.Tensor(or_data)"
      ],
      "metadata": {
        "id": "O-C34mEjlFmj"
      },
      "execution_count": 22,
      "outputs": []
    },
    {
      "cell_type": "code",
      "source": [
        "# Same slicing as np arrays\n",
        "X = or_data[:,:-1]\n",
        "y = or_data[:,-1:]"
      ],
      "metadata": {
        "id": "vxOYpywhlVMm"
      },
      "execution_count": 23,
      "outputs": []
    },
    {
      "cell_type": "code",
      "source": [
        "W = torch.randn((1,2), requires_grad=True)\n",
        "b = torch.randn((1,1), requires_grad=True)"
      ],
      "metadata": {
        "id": "unqZ4I0vlVPB"
      },
      "execution_count": 24,
      "outputs": []
    },
    {
      "cell_type": "markdown",
      "source": [
        "**Reuse the training loop**"
      ],
      "metadata": {
        "id": "Nh9u6mxAWNhn"
      }
    },
    {
      "cell_type": "code",
      "source": [
        "n_epochs = 200\n",
        "lr = 5e-1\n",
        "losses = []\n",
        "for _ in range(n_epochs):\n",
        "  # Define the Training Loop here\n",
        "  # \n",
        "  # Get predictions\n",
        "  pred = sigmoid(perceptron(X, W, b))\n",
        "\n",
        "  # Calculate Loss\n",
        "  loss = binary_cross_entropy(pred, y)\n",
        "\n",
        "  # Do a backward step (to calculate gradients)\n",
        "  loss.backward()\n",
        "\n",
        "  # Update Weights\n",
        "  with torch.no_grad():\n",
        "    W -= lr * W.grad\n",
        "    b -= lr * b.grad\n",
        "    W.grad.zero_()\n",
        "    b.grad.zero_()\n",
        "\n",
        "  # Append Loss\n",
        "  losses.append(loss)"
      ],
      "metadata": {
        "id": "L0KkuJdhlVRV"
      },
      "execution_count": 25,
      "outputs": []
    },
    {
      "cell_type": "code",
      "source": [
        "losses = [loss.detach().numpy()[0] for loss in losses]"
      ],
      "metadata": {
        "id": "pwA3gR-hW0gh"
      },
      "execution_count": 27,
      "outputs": []
    },
    {
      "cell_type": "code",
      "source": [
        "plt.plot(losses)"
      ],
      "metadata": {
        "colab": {
          "base_uri": "https://localhost:8080/",
          "height": 283
        },
        "id": "uBaLQ7NMWxZE",
        "outputId": "dd66b100-e842-4458-cc67-be3dc3d8da2d"
      },
      "execution_count": 28,
      "outputs": [
        {
          "output_type": "execute_result",
          "data": {
            "text/plain": [
              "[<matplotlib.lines.Line2D at 0x7f0930cbc390>]"
            ]
          },
          "metadata": {},
          "execution_count": 28
        },
        {
          "output_type": "display_data",
          "data": {
            "text/plain": [
              "<Figure size 432x288 with 1 Axes>"
            ],
            "image/png": "[encoded data removed]"
          },
          "metadata": {
            "needs_background": "light"
          }
        }
      ]
    },
    {
      "cell_type": "code",
      "source": [
        "with torch.no_grad():\n",
        "  print((perceptron(X, W, b) > 0.5).int())"
      ],
      "metadata": {
        "colab": {
          "base_uri": "https://localhost:8080/"
        },
        "id": "X3UCWJUXlVV5",
        "outputId": "bc36347c-3a94-4553-b447-3148a902d339"
      },
      "execution_count": 29,
      "outputs": [
        {
          "output_type": "stream",
          "name": "stdout",
          "text": [
            "tensor([[0],\n",
            "        [1],\n",
            "        [1],\n",
            "        [1]], dtype=torch.int32)\n"
          ]
        }
      ]
    },
    {
      "cell_type": "markdown",
      "source": [
        "## XOR Gate"
      ],
      "metadata": {
        "id": "wiDm-OVLmPbJ"
      }
    },
    {
      "cell_type": "code",
      "source": [
        "xor_data = np.array([[0,0,0],\n",
        "                     [0,1,1],\n",
        "                     [1,0,1],\n",
        "                     [1,1,0]])\n",
        "\n",
        "# Creating a PyTorch tensor\n",
        "xor_data = torch.Tensor(xor_data)"
      ],
      "metadata": {
        "id": "OKEcg3LhmO96"
      },
      "execution_count": 63,
      "outputs": []
    },
    {
      "cell_type": "code",
      "source": [
        "# Same slicing as np arrays\n",
        "X = xor_data[:,:-1]\n",
        "y = xor_data[:,-1:]"
      ],
      "metadata": {
        "id": "zKIahsfhmdlZ"
      },
      "execution_count": 64,
      "outputs": []
    },
    {
      "cell_type": "code",
      "source": [
        "W = torch.randn((1,2), requires_grad=True)\n",
        "b = torch.randn((1,1), requires_grad=True)"
      ],
      "metadata": {
        "id": "OoSEcw4_mgX_"
      },
      "execution_count": 51,
      "outputs": []
    },
    {
      "cell_type": "markdown",
      "source": [
        "**Reuse the training loop**"
      ],
      "metadata": {
        "id": "pnwosFetWV0g"
      }
    },
    {
      "cell_type": "code",
      "source": [
        "n_epochs = 300\n",
        "lr = 5e-1\n",
        "losses = []\n",
        "for _ in range(n_epochs):\n",
        "  # Define the Training Loop here\n",
        "  # \n",
        "  # Get predictions\n",
        "  pred = sigmoid(perceptron(X, W, b))\n",
        "\n",
        "  # Calculate Loss\n",
        "  loss = binary_cross_entropy(pred, y)\n",
        "\n",
        "  # Do a backward step (to calculate gradients)\n",
        "  loss.backward()\n",
        "\n",
        "  # Update Weights\n",
        "  with torch.no_grad():\n",
        "    W -= lr * W.grad\n",
        "    b -= lr * b.grad\n",
        "    W.grad.zero_()\n",
        "    b.grad.zero_()\n",
        "\n",
        "  # Append Loss\n",
        "  losses.append(loss)"
      ],
      "metadata": {
        "id": "wSqYPKw1miXl"
      },
      "execution_count": 52,
      "outputs": []
    },
    {
      "cell_type": "code",
      "source": [
        "losses = [loss.detach().numpy()[0] for loss in losses]\n",
        "plt.plot(losses)"
      ],
      "metadata": {
        "colab": {
          "base_uri": "https://localhost:8080/",
          "height": 282
        },
        "id": "0jnLqgYEXAM8",
        "outputId": "0acb8e7d-b7ac-4264-f965-cd5b87eec208"
      },
      "execution_count": 53,
      "outputs": [
        {
          "output_type": "execute_result",
          "data": {
            "text/plain": [
              "[<matplotlib.lines.Line2D at 0x7f0930a96c10>]"
            ]
          },
          "metadata": {},
          "execution_count": 53
        },
        {
          "output_type": "display_data",
          "data": {
            "text/plain": [
              "<Figure size 432x288 with 1 Axes>"
            ],
            "image/png": "[encoded data removed]"
          },
          "metadata": {
            "needs_background": "light"
          }
        }
      ]
    },
    {
      "cell_type": "code",
      "source": [
        "with torch.no_grad():\n",
        "  print((perceptron(X, W, b) > 0.5).int())"
      ],
      "metadata": {
        "colab": {
          "base_uri": "https://localhost:8080/"
        },
        "id": "cG7JSCcKmpHq",
        "outputId": "fb9cab50-f5ff-41a7-c25c-c56bbd20b236"
      },
      "execution_count": 54,
      "outputs": [
        {
          "output_type": "stream",
          "name": "stdout",
          "text": [
            "tensor([[0],\n",
            "        [0],\n",
            "        [1],\n",
            "        [0]], dtype=torch.int32)\n"
          ]
        }
      ]
    },
    {
      "cell_type": "markdown",
      "source": [
        "## Need for MLP\n",
        "\n",
        "As seen above, we are unable to model the XOR gate using a single layer perceptron, so we need to add a hidden layer."
      ],
      "metadata": {
        "id": "likiWP34nI7w"
      }
    },
    {
      "cell_type": "code",
      "source": [
        "# Same slicing as np arrays\n",
        "X = xor_data[:,:-1]\n",
        "y = xor_data[:,-1:]"
      ],
      "metadata": {
        "id": "eoW4xsc_Z-9q"
      },
      "execution_count": 119,
      "outputs": []
    },
    {
      "cell_type": "code",
      "source": [
        "W1 = torch.randn((10,2), requires_grad=True)\n",
        "W2 = torch.randn((1,10), requires_grad=True)\n",
        "b1 = torch.randn((1,10), requires_grad=True)\n",
        "b2 = torch.randn((1,1), requires_grad=True)"
      ],
      "metadata": {
        "id": "5EAfHk5EmrWx"
      },
      "execution_count": 120,
      "outputs": []
    },
    {
      "cell_type": "markdown",
      "source": [
        "**Implement the `mlp` function** *(1 point)*"
      ],
      "metadata": {
        "id": "IgLcqBZvWiBB"
      }
    },
    {
      "cell_type": "code",
      "source": [
        "def mlp(inputs, W1, W2, b1, b2):\n",
        "  '''\n",
        "    Defines the multi-layer perceptron model\n",
        "\n",
        "    Note: Only 1 hidden layer\n",
        "  '''\n",
        "  layer1 = inputs.mm(torch.transpose(W1,0,1)).clamp(min=0).add(b1)\n",
        "  layer1 = sigmoid(layer1)\n",
        "  hidden_layer = layer1.mm(torch.transpose(W2,0,1)).clamp(min=0).add(b2)\n",
        "  output = sigmoid ( hidden_layer)\n",
        "  return output"
      ],
      "metadata": {
        "id": "HPkqgXl0nTOu"
      },
      "execution_count": 121,
      "outputs": []
    },
    {
      "cell_type": "markdown",
      "source": [
        "**Reuse the training loop**\n",
        "\n",
        "NOTE: It will require slight modification due to the hidden layer"
      ],
      "metadata": {
        "id": "WSYnvKmHWXwx"
      }
    },
    {
      "cell_type": "code",
      "source": [
        "mlpn_epochs = 100\n",
        "lr = 5e-1\n",
        "losses = []\n",
        "for _ in range(n_epochs):\n",
        "  # Define the Training Loop here\n",
        "  # \n",
        "  # Get predictions\n",
        "  pred = mlp(X, W1, W2, b1, b2)\n",
        "\n",
        "  # Calculate Loss\n",
        "  loss = binary_cross_entropy(pred, y)\n",
        "\n",
        "  # Do a backward step (to calculate gradients)\n",
        "  loss.backward()\n",
        "\n",
        "  # Update Weights\n",
        "  with torch.no_grad():\n",
        "    W1 -= lr * W1.grad\n",
        "    b1 -= lr * b1.grad\n",
        "    W2 -= lr * W2.grad\n",
        "    b2 -= lr * b2.grad\n",
        "\n",
        "    W1.grad.zero_()\n",
        "    b1.grad.zero_()\n",
        "    W2.grad.zero_()\n",
        "    b2.grad.zero_()\n",
        "\n",
        "  # Append Loss\n",
        "  losses.append(loss)"
      ],
      "metadata": {
        "id": "z49EuhW5Y-ZC"
      },
      "execution_count": 122,
      "outputs": []
    },
    {
      "cell_type": "code",
      "source": [
        "losses = [loss.detach().numpy()[0] for loss in losses]\n",
        "plt.plot(losses)"
      ],
      "metadata": {
        "colab": {
          "base_uri": "https://localhost:8080/",
          "height": 282
        },
        "id": "37ng1WpQZVYq",
        "outputId": "34f0f0c9-1172-4176-e062-8742307e1588"
      },
      "execution_count": 125,
      "outputs": [
        {
          "output_type": "execute_result",
          "data": {
            "text/plain": [
              "[<matplotlib.lines.Line2D at 0x7f092e7bd990>]"
            ]
          },
          "metadata": {},
          "execution_count": 125
        },
        {
          "output_type": "display_data",
          "data": {
            "text/plain": [
              "<Figure size 432x288 with 1 Axes>"
            ],
            "image/png": "[encoded data removed]"
          },
          "metadata": {
            "needs_background": "light"
          }
        }
      ]
    },
    {
      "cell_type": "code",
      "source": [
        "with torch.no_grad():\n",
        "  print((mlp(X, W1, W2, b1, b2) > 0.5).int())"
      ],
      "metadata": {
        "colab": {
          "base_uri": "https://localhost:8080/"
        },
        "id": "3da8Rx54Zpde",
        "outputId": "2f9aacd5-17c2-4583-ff6d-bc5bbaac116e"
      },
      "execution_count": 126,
      "outputs": [
        {
          "output_type": "stream",
          "name": "stdout",
          "text": [
            "tensor([[0],\n",
            "        [1],\n",
            "        [1],\n",
            "        [0]], dtype=torch.int32)\n"
          ]
        }
      ]
    }
  ]
}