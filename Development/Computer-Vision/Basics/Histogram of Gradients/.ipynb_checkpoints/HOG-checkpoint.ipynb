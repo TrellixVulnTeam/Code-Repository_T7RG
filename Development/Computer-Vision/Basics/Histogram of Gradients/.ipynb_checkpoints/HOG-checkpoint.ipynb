{
  "nbformat": 4,
  "nbformat_minor": 0,
  "metadata": {
    "colab": {
      "name": "Computer Vision _ Lab Assignment 3.ipynb",
      "provenance": []
    },
    "kernelspec": {
      "name": "python3",
      "display_name": "Python 3"
    },
    "language_info": {
      "name": "python"
    },
    "accelerator": "GPU"
  },
  "cells": [
    {
      "cell_type": "markdown",
      "source": [
        "# Lab Assignment 3\n",
        "\n",
        "**Computer Vision** - Term 5, 2022\n",
        "\n",
        "Instructor: Dr. Saumya Jetly <br>\n",
        "TA: Ribhu Lahiri\n",
        "\n",
        "*Deadline: Friday, 18 March 2022 11:59 pm* \n",
        "\n",
        "Submission form link: https://forms.gle/aLT9AqtasQemhWMN9\n",
        "\n",
        "Total points: 5 (with possible extra credit)\n"
      ],
      "metadata": {
        "id": "wMpd_g_2supN"
      }
    },
    {
      "cell_type": "markdown",
      "source": [
        "### Before Starting\n",
        "\n",
        "Please download the FER-2013 dataset here: https://drive.google.com/file/d/1GTX0XYKtyOo9VADHL_AjLcp59si1aFkZ/view?usp=sharing\n",
        "\n",
        "You will need it for the tasks that follow."
      ],
      "metadata": {
        "id": "vw1BAgfama5b"
      }
    },
    {
      "cell_type": "code",
      "source": [
        "from google.colab import drive\n",
        "drive.mount ('/content/drive' )"
      ],
      "metadata": {
        "colab": {
          "base_uri": "https://localhost:8080/"
        },
        "id": "x5CQKdhXP4XM",
        "outputId": "e5c8d7d5-867d-4703-c0f8-a017a0c43077"
      },
      "execution_count": 1,
      "outputs": [
        {
          "output_type": "stream",
          "name": "stdout",
          "text": [
            "Mounted at /content/drive\n"
          ]
        }
      ]
    },
    {
      "cell_type": "code",
      "source": [
        "! unzip /content/drive/MyDrive/Colab\\ Notebooks/HOG/fer2013.zip"
      ],
      "metadata": {
        "colab": {
          "base_uri": "https://localhost:8080/"
        },
        "id": "GAllzAi2ImMb",
        "outputId": "d823954b-5464-4efe-9b2c-7f95e028d657"
      },
      "execution_count": 2,
      "outputs": [
        {
          "output_type": "stream",
          "name": "stdout",
          "text": [
            "Archive:  /content/drive/MyDrive/Colab Notebooks/HOG/fer2013.zip\n",
            "  inflating: fer2013.csv             \n",
            "  inflating: __MACOSX/._fer2013.csv  \n"
          ]
        }
      ]
    },
    {
      "cell_type": "code",
      "execution_count": 3,
      "metadata": {
        "id": "fJNYVdxmsm8F"
      },
      "outputs": [],
      "source": [
        "import math\n",
        "import numpy as np\n",
        "import matplotlib.pyplot as plt\n",
        "import pandas as pd\n",
        "from skimage import io\n",
        "from skimage import color\n",
        "from skimage.transform import resize\n",
        "from skimage.feature import hog"
      ]
    },
    {
      "cell_type": "code",
      "source": [
        "# Reading in the dataset\n",
        "df = pd.read_csv('./fer2013.csv')\n",
        "df.head()"
      ],
      "metadata": {
        "id": "5e5hHSSHphHU",
        "colab": {
          "base_uri": "https://localhost:8080/",
          "height": 206
        },
        "outputId": "7dcbd16e-88a5-4e73-b34f-90928c957f91"
      },
      "execution_count": 4,
      "outputs": [
        {
          "output_type": "execute_result",
          "data": {
            "text/plain": [
              "   emotion                                             pixels     Usage\n",
              "0        0  70 80 82 72 58 58 60 63 54 58 60 48 89 115 121...  Training\n",
              "1        0  151 150 147 155 148 133 111 140 170 174 182 15...  Training\n",
              "2        2  231 212 156 164 174 138 161 173 182 200 106 38...  Training\n",
              "3        4  24 32 36 30 32 23 19 20 30 41 21 22 32 34 21 1...  Training\n",
              "4        6  4 0 0 0 0 0 0 0 0 0 0 0 3 15 23 28 48 50 58 84...  Training"
            ],
            "text/html": [
              "\n",
              "  <div id=\"df-73bd0fe7-807d-49cd-87a9-44d8f6d44905\">\n",
              "    <div class=\"colab-df-container\">\n",
              "      <div>\n",
              "<style scoped>\n",
              "    .dataframe tbody tr th:only-of-type {\n",
              "        vertical-align: middle;\n",
              "    }\n",
              "\n",
              "    .dataframe tbody tr th {\n",
              "        vertical-align: top;\n",
              "    }\n",
              "\n",
              "    .dataframe thead th {\n",
              "        text-align: right;\n",
              "    }\n",
              "</style>\n",
              "<table border=\"1\" class=\"dataframe\">\n",
              "  <thead>\n",
              "    <tr style=\"text-align: right;\">\n",
              "      <th></th>\n",
              "      <th>emotion</th>\n",
              "      <th>pixels</th>\n",
              "      <th>Usage</th>\n",
              "    </tr>\n",
              "  </thead>\n",
              "  <tbody>\n",
              "    <tr>\n",
              "      <th>0</th>\n",
              "      <td>0</td>\n",
              "      <td>70 80 82 72 58 58 60 63 54 58 60 48 89 115 121...</td>\n",
              "      <td>Training</td>\n",
              "    </tr>\n",
              "    <tr>\n",
              "      <th>1</th>\n",
              "      <td>0</td>\n",
              "      <td>151 150 147 155 148 133 111 140 170 174 182 15...</td>\n",
              "      <td>Training</td>\n",
              "    </tr>\n",
              "    <tr>\n",
              "      <th>2</th>\n",
              "      <td>2</td>\n",
              "      <td>231 212 156 164 174 138 161 173 182 200 106 38...</td>\n",
              "      <td>Training</td>\n",
              "    </tr>\n",
              "    <tr>\n",
              "      <th>3</th>\n",
              "      <td>4</td>\n",
              "      <td>24 32 36 30 32 23 19 20 30 41 21 22 32 34 21 1...</td>\n",
              "      <td>Training</td>\n",
              "    </tr>\n",
              "    <tr>\n",
              "      <th>4</th>\n",
              "      <td>6</td>\n",
              "      <td>4 0 0 0 0 0 0 0 0 0 0 0 3 15 23 28 48 50 58 84...</td>\n",
              "      <td>Training</td>\n",
              "    </tr>\n",
              "  </tbody>\n",
              "</table>\n",
              "</div>\n",
              "      <button class=\"colab-df-convert\" onclick=\"convertToInteractive('df-73bd0fe7-807d-49cd-87a9-44d8f6d44905')\"\n",
              "              title=\"Convert this dataframe to an interactive table.\"\n",
              "              style=\"display:none;\">\n",
              "        \n",
              "  <svg xmlns=\"http://www.w3.org/2000/svg\" height=\"24px\"viewBox=\"0 0 24 24\"\n",
              "       width=\"24px\">\n",
              "    <path d=\"M0 0h24v24H0V0z\" fill=\"none\"/>\n",
              "    <path d=\"M18.56 5.44l.94 2.06.94-2.06 2.06-.94-2.06-.94-.94-2.06-.94 2.06-2.06.94zm-11 1L8.5 8.5l.94-2.06 2.06-.94-2.06-.94L8.5 2.5l-.94 2.06-2.06.94zm10 10l.94 2.06.94-2.06 2.06-.94-2.06-.94-.94-2.06-.94 2.06-2.06.94z\"/><path d=\"M17.41 7.96l-1.37-1.37c-.4-.4-.92-.59-1.43-.59-.52 0-1.04.2-1.43.59L10.3 9.45l-7.72 7.72c-.78.78-.78 2.05 0 2.83L4 21.41c.39.39.9.59 1.41.59.51 0 1.02-.2 1.41-.59l7.78-7.78 2.81-2.81c.8-.78.8-2.07 0-2.86zM5.41 20L4 18.59l7.72-7.72 1.47 1.35L5.41 20z\"/>\n",
              "  </svg>\n",
              "      </button>\n",
              "      \n",
              "  <style>\n",
              "    .colab-df-container {\n",
              "      display:flex;\n",
              "      flex-wrap:wrap;\n",
              "      gap: 12px;\n",
              "    }\n",
              "\n",
              "    .colab-df-convert {\n",
              "      background-color: #E8F0FE;\n",
              "      border: none;\n",
              "      border-radius: 50%;\n",
              "      cursor: pointer;\n",
              "      display: none;\n",
              "      fill: #1967D2;\n",
              "      height: 32px;\n",
              "      padding: 0 0 0 0;\n",
              "      width: 32px;\n",
              "    }\n",
              "\n",
              "    .colab-df-convert:hover {\n",
              "      background-color: #E2EBFA;\n",
              "      box-shadow: 0px 1px 2px rgba(60, 64, 67, 0.3), 0px 1px 3px 1px rgba(60, 64, 67, 0.15);\n",
              "      fill: #174EA6;\n",
              "    }\n",
              "\n",
              "    [theme=dark] .colab-df-convert {\n",
              "      background-color: #3B4455;\n",
              "      fill: #D2E3FC;\n",
              "    }\n",
              "\n",
              "    [theme=dark] .colab-df-convert:hover {\n",
              "      background-color: #434B5C;\n",
              "      box-shadow: 0px 1px 3px 1px rgba(0, 0, 0, 0.15);\n",
              "      filter: drop-shadow(0px 1px 2px rgba(0, 0, 0, 0.3));\n",
              "      fill: #FFFFFF;\n",
              "    }\n",
              "  </style>\n",
              "\n",
              "      <script>\n",
              "        const buttonEl =\n",
              "          document.querySelector('#df-73bd0fe7-807d-49cd-87a9-44d8f6d44905 button.colab-df-convert');\n",
              "        buttonEl.style.display =\n",
              "          google.colab.kernel.accessAllowed ? 'block' : 'none';\n",
              "\n",
              "        async function convertToInteractive(key) {\n",
              "          const element = document.querySelector('#df-73bd0fe7-807d-49cd-87a9-44d8f6d44905');\n",
              "          const dataTable =\n",
              "            await google.colab.kernel.invokeFunction('convertToInteractive',\n",
              "                                                     [key], {});\n",
              "          if (!dataTable) return;\n",
              "\n",
              "          const docLinkHtml = 'Like what you see? Visit the ' +\n",
              "            '<a target=\"_blank\" href=https://colab.research.google.com/notebooks/data_table.ipynb>data table notebook</a>'\n",
              "            + ' to learn more about interactive tables.';\n",
              "          element.innerHTML = '';\n",
              "          dataTable['output_type'] = 'display_data';\n",
              "          await google.colab.output.renderOutput(dataTable, element);\n",
              "          const docLink = document.createElement('div');\n",
              "          docLink.innerHTML = docLinkHtml;\n",
              "          element.appendChild(docLink);\n",
              "        }\n",
              "      </script>\n",
              "    </div>\n",
              "  </div>\n",
              "  "
            ]
          },
          "metadata": {},
          "execution_count": 4
        }
      ]
    },
    {
      "cell_type": "code",
      "source": [
        "# Extract relevant data\n",
        "x_data = pd.Series(df.pixels)\n",
        "y_data = pd.Series(df.emotion)\n",
        "x_data = np.array(list(map(str.split, x_data)), np.float32)\n",
        "x_data/=255 # Normalizing"
      ],
      "metadata": {
        "id": "VFU8YbxAw0pB"
      },
      "execution_count": 5,
      "outputs": []
    },
    {
      "cell_type": "code",
      "source": [
        "# Reshape into 48x48 images\n",
        "x_data = x_data.reshape(-1, 48, 48)\n",
        "x_data.shape"
      ],
      "metadata": {
        "colab": {
          "base_uri": "https://localhost:8080/"
        },
        "id": "m-cBru5_yJc-",
        "outputId": "d1423412-e05a-4787-aea0-ad7dd9ec9f38"
      },
      "execution_count": 6,
      "outputs": [
        {
          "output_type": "execute_result",
          "data": {
            "text/plain": [
              "(35887, 48, 48)"
            ]
          },
          "metadata": {},
          "execution_count": 6
        }
      ]
    },
    {
      "cell_type": "markdown",
      "source": [
        "### Task 1: Creating histogram of Oriented Gradients (4 points)\n",
        "The first task is to create the histogram of oriented gradients feature descriptor. There are two steps to it, the first is to create the oriented gradients from a given image which returns the magnitude and angle matrices. The next step then, is to use those matrices to create the histogram features.\n",
        "\n",
        "You can refer to this blog as discussed in the lab session: https://iq.opengenus.org/object-detection-with-histogram-of-oriented-gradients-hog/"
      ],
      "metadata": {
        "id": "VqkUjbYYIj2j"
      }
    },
    {
      "cell_type": "markdown",
      "source": [
        "**Implement the `get_oriented_gradients` function** *(2 points)*\n",
        "\n",
        "Use any sample image from the dataset to test out your function"
      ],
      "metadata": {
        "id": "KabkjpN5w1Fr"
      }
    },
    {
      "cell_type": "code",
      "source": [
        "# Read in any image from the dataset\n",
        "img = x_data[2]\n",
        "plt.figure(figsize=(15, 8))\n",
        "plt.imshow(img, cmap=\"gray\")\n",
        "plt.axis(\"off\")\n",
        "plt.show()"
      ],
      "metadata": {
        "id": "cNWIy4JpJ10B",
        "colab": {
          "base_uri": "https://localhost:8080/",
          "height": 466
        },
        "outputId": "20f1708b-9655-465a-a932-44edf49f907e"
      },
      "execution_count": 7,
      "outputs": [
        {
          "output_type": "display_data",
          "data": {
            "text/plain": [
              "<Figure size 1080x576 with 1 Axes>"
            ],
            "image/png": "[encoded data removed]"
          },
          "metadata": {
            "needs_background": "light"
          }
        }
      ]
    },
    {
      "cell_type": "code",
      "source": [
        "img = np.array(img)\n",
        "def get_oriented_gradients(img):\n",
        "  '''\n",
        "    Returns the magnitude and angles of the oriented gradients\n",
        "    from the given image\n",
        "\n",
        "    Parameters\n",
        "    ----------\n",
        "    img: np.ndarray\n",
        "        The given image\n",
        "\n",
        "    Returns\n",
        "    -------\n",
        "    mag: np.ndarray\n",
        "        2-D Numpy array that contains the magnitudes of the oriented gradients\n",
        "\n",
        "    theta: np.ndarray\n",
        "        2-D Numpy array that contains the angles of the oriented gradients\n",
        "  '''\n",
        "  # Zero padding the image to make sure we can calculate gradients to the corner pixels\n",
        "  # Zero padding along rows\n",
        "  import math \n",
        "\n",
        "  # Here we can either ignore the top most pixels or do padding \n",
        "  # so that all pixels are considered. In this case, we are doing zero padding \n",
        "  # to make sure the input and output are of the same size. \n",
        "  img = np.hstack ((img, np.zeros((img.shape[0],1))))\n",
        "  img = np.hstack (( np.zeros((img.shape[0],1)), img ))\n",
        "  # Zero padding along columns\n",
        "  img = np.vstack((img, np.zeros((1,img.shape[1]))))\n",
        "  img = np.vstack((np.zeros((1,img.shape[1])),img ))\n",
        "  image_G = []\n",
        "  image_theta = []\n",
        "\n",
        "  for i in range (1 , img.shape[0]-1):\n",
        "    G_rows = []\n",
        "    theta_rows = []\n",
        "    for j in range ( 1, img.shape[1]-1):\n",
        "      dx = abs (img[i-1][j] - img [i+1][j] )\n",
        "      dy = abs( img[i][j-1]  - img[i][j+1] )\n",
        "\n",
        "      G = math.sqrt ((dx**2)+(dy**2))\n",
        "      if dx ==0:\n",
        "        theta = np.pi/2  # As x approaches infinity, of arctan(x) is Pi/2 .\n",
        "      else:\n",
        "        theta = np.arctan(dy/dx)\n",
        "      \n",
        "      G_rows.append(G)\n",
        "      theta_rows.append(theta)\n",
        "\n",
        "    image_G.append(G_rows)\n",
        "    image_theta.append(theta_rows)\n",
        "  \n",
        "  return np.array(image_G), np.array(image_theta)\n",
        "\n"
      ],
      "metadata": {
        "id": "cdkGQ2YXsreO"
      },
      "execution_count": 8,
      "outputs": []
    },
    {
      "cell_type": "code",
      "source": [
        "mag, theta = get_oriented_gradients(img)"
      ],
      "metadata": {
        "id": "rGvGXXnssw_R"
      },
      "execution_count": 9,
      "outputs": []
    },
    {
      "cell_type": "code",
      "source": [
        "plt.figure(figsize=(15, 8))\n",
        "plt.imshow(mag, cmap=\"gray\")\n",
        "plt.axis(\"off\")\n",
        "plt.show()"
      ],
      "metadata": {
        "colab": {
          "base_uri": "https://localhost:8080/",
          "height": 466
        },
        "id": "GNfQNs-Xs2bo",
        "outputId": "91abbd61-c1dd-4f20-894d-fbf3e88ca15b"
      },
      "execution_count": 10,
      "outputs": [
        {
          "output_type": "display_data",
          "data": {
            "text/plain": [
              "<Figure size 1080x576 with 1 Axes>"
            ],
            "image/png": "[encoded data removed]"
          },
          "metadata": {
            "needs_background": "light"
          }
        }
      ]
    },
    {
      "cell_type": "code",
      "source": [
        "plt.figure(figsize=(15, 8))\n",
        "plt.imshow(theta, cmap=\"gray\")\n",
        "plt.axis(\"off\")\n",
        "plt.show()"
      ],
      "metadata": {
        "colab": {
          "base_uri": "https://localhost:8080/",
          "height": 466
        },
        "id": "euXA42KBs5M0",
        "outputId": "ce86f3fb-5031-459f-c3b4-c147929be2cc"
      },
      "execution_count": 11,
      "outputs": [
        {
          "output_type": "display_data",
          "data": {
            "text/plain": [
              "<Figure size 1080x576 with 1 Axes>"
            ],
            "image/png": "[encoded data removed]"
          },
          "metadata": {
            "needs_background": "light"
          }
        }
      ]
    },
    {
      "cell_type": "code",
      "source": [
        "m_viz = (mag > 0.5).astype(float)\n",
        "plt.figure(figsize=(15, 8))\n",
        "plt.imshow(m_viz, cmap=\"gray\")\n",
        "plt.axis(\"off\")\n",
        "plt.show()"
      ],
      "metadata": {
        "colab": {
          "base_uri": "https://localhost:8080/",
          "height": 466
        },
        "id": "SgNs85SB03kb",
        "outputId": "d645e1b4-c27e-4655-8a18-aaeeabc51407"
      },
      "execution_count": 12,
      "outputs": [
        {
          "output_type": "display_data",
          "data": {
            "text/plain": [
              "<Figure size 1080x576 with 1 Axes>"
            ],
            "image/png": "[encoded data removed]"
          },
          "metadata": {
            "needs_background": "light"
          }
        }
      ]
    },
    {
      "cell_type": "markdown",
      "source": [
        "**Implement the `hog_features` function** *(2 points)*\n",
        "\n",
        "Use the image, magnitudes, and angles of oriented gradients to bin them and create the HoG features to be used by our classifier\n",
        "\n",
        "NOTE: While I have set the default value of number of bins as 9. Feel free to experiment and observe the effects of changing it on the downstream task"
      ],
      "metadata": {
        "id": "6RZqycoEmypz"
      }
    },
    {
      "cell_type": "markdown",
      "source": [
        "### Reference  : Histogram of Oriented Gradients Research Paper by Carlo Tomasi\n",
        "https://courses.cs.duke.edu/compsci527/fall15/notes/hog.pdf\n"
      ],
      "metadata": {
        "id": "3rnD-nmCpPNO"
      }
    },
    {
      "cell_type": "code",
      "source": [
        "def cell_orientation_histograms(mag,theta,nbins = 9):\n",
        "  assert theta.shape==mag.shape, \"The mag and theta should be of same dimensions\"\n",
        "\n",
        "  features = np.zeros (nbins)\n",
        "\n",
        "  for i in range(theta.shape[0]):\n",
        "    for j in range(theta.shape[1]):\n",
        "      magnitude = mag[i][j]\n",
        "      angle = math.degrees(theta[i][j])\n",
        "      # Finding the bin to which it should be allocated\n",
        "      bin_width = 180/nbins\n",
        "      j_bin = math.floor(((angle /bin_width)-0.5))\n",
        "\n",
        "\n",
        "      cj =  (bin_width/2)*((2*j_bin)+1)\n",
        "      cj1 = (bin_width/2)*((2*(j_bin+1))+1)\n",
        "\n",
        "      vj1 = magnitude * ( (cj1 - angle ) / bin_width )\n",
        "\n",
        "      vj2 = magnitude *( (angle - cj )/bin_width )\n",
        "\n",
        "      features[j_bin] += np.round(vj1,4)\n",
        "      features[j_bin+1] += np.round(vj2,4)\n",
        "  return features"
      ],
      "metadata": {
        "id": "rj9po6DOr7Lo"
      },
      "execution_count": 61,
      "outputs": []
    },
    {
      "cell_type": "code",
      "source": [
        "def sliding_window(img,window_size = 8):\n",
        "  ''' Function to apply sliding window over the image\n",
        "  Default window size is 8 '''\n",
        "  \n",
        "  length_of_a_box = 8\n",
        "  number_of_boxes = 2\n",
        "  n =length_of_a_box\n",
        "\n",
        "  # Divide the picture into boxes of size 8x8\n",
        "  features= []\n",
        "  count =0 \n",
        "  for i in range(0,img.shape[0],n):\n",
        "    for j in range(0,img.shape[1],n):\n",
        "        sub_image = img[i:i+n,j:j+n]\n",
        "        sub_feature = []\n",
        "        count +=1\n",
        "        for i_ in range(0,sub_image.shape[0],n//2):\n",
        "          for j_ in range(0,sub_image.shape[0],n//2):\n",
        "            magnitude , angle = get_oriented_gradients(sub_image[i_:i_+length_of_a_box,j_:j_+length_of_a_box])\n",
        "            sub_feature += list(cell_orientation_histograms(np.array(magnitude), np.array(angle)))\n",
        "        features+= sub_feature\n",
        "        \n",
        "  # Normalising\n",
        "  features = [value/math.sqrt(sum(np.square(features))) for value in features]\n",
        "  return np.array(features)\n"
      ],
      "metadata": {
        "id": "RxxQRo17LrUe"
      },
      "execution_count": 62,
      "outputs": []
    },
    {
      "cell_type": "code",
      "source": [
        "def hog_features(img, mag = None, theta = None,nbins=9,):\n",
        "  '''\n",
        "    Create the histogram of oriented gradients feature vector\n",
        "\n",
        "    Parameters\n",
        "    ----------\n",
        "    img: np.ndarray\n",
        "        The given image\n",
        "\n",
        "    nbins: int\n",
        "        The number of buckets (bins) in which to organise the oriented gradients\n",
        "\n",
        "    mag: np.ndarray\n",
        "        2-D Numpy array that contains the magnitudes of the oriented gradients\n",
        "\n",
        "    theta: np.ndarray\n",
        "        2-D Numpy array that contains the angles of the oriented gradients\n",
        "\n",
        "    Returns\n",
        "    -------\n",
        "    np.ndarray\n",
        "        The HoG features \n",
        "        [given input of 48x48 images and 9 bins should be 1296]\n",
        "    \n",
        "  '''\n",
        "  return sliding_window(img)\n",
        "\n",
        "    \n",
        "  \n",
        "  "
      ],
      "metadata": {
        "id": "WqiVNl9cf-Bc"
      },
      "execution_count": 15,
      "outputs": []
    },
    {
      "cell_type": "markdown",
      "source": [
        "### Task 2: Using HoG with AdaBoost Classifier (1 points)\n",
        "The second task is to create an AdaBoost classifier that uses the HoG features to classify the given images into one of 7 classes representing different emotions.\n",
        "\n",
        "**Extra Credit:** Implement the AdaBoost Classifier from scratch, i.e. without using scikit-learn (1 points)"
      ],
      "metadata": {
        "id": "lOKW054fdR-W"
      }
    },
    {
      "cell_type": "code",
      "source": [
        "from sklearn.model_selection import train_test_split\n",
        "\n",
        "X_train, X_test, y_train, y_test = train_test_split(x_data, y_data, \n",
        "                                                    test_size=0.3, \n",
        "                                                    random_state=42)\n",
        "X_train.shape"
      ],
      "metadata": {
        "id": "ZxXs_jfzzqiM",
        "colab": {
          "base_uri": "https://localhost:8080/"
        },
        "outputId": "4b133565-a939-40a1-bcdf-013836cf1d9e"
      },
      "execution_count": 93,
      "outputs": [
        {
          "output_type": "execute_result",
          "data": {
            "text/plain": [
              "(25120, 48, 48)"
            ]
          },
          "metadata": {},
          "execution_count": 93
        }
      ]
    },
    {
      "cell_type": "code",
      "source": [
        "# Training was done only on a smaller portin of data due to the execution time\n",
        "\n",
        "from tqdm import tqdm \n",
        "X_train = np.array([hog_features(im) for im in X_train[0:476]])\n",
        "# np.save('x_train.npy',X_train)\n",
        "\n",
        "X_test = np.array([hog_features(im) for im in X_test[0:100])\n",
        "# np.save('/content/drive/MyDrive/Colab Notebooks/HOG/x_test.npy',X_test)\n"
      ],
      "metadata": {
        "id": "0YJw_IZuds6P"
      },
      "execution_count": 94,
      "outputs": []
    },
    {
      "cell_type": "code",
      "source": [
        "# X_train = np.load('/content/drive/MyDrive/Colab Notebooks/HOG/x_train.npy')\n",
        "# X_test = np.load('/content/drive/MyDrive/Colab Notebooks/HOG/x_test.npy')"
      ],
      "metadata": {
        "colab": {
          "base_uri": "https://localhost:8080/"
        },
        "id": "IGoG5kjuncVi",
        "outputId": "6157e1e7-e32e-4112-80ed-cfb661f51a11"
      },
      "execution_count": 215,
      "outputs": [
        {
          "output_type": "stream",
          "name": "stderr",
          "text": [
            "/usr/local/lib/python3.7/dist-packages/ipykernel_launcher.py:24: RuntimeWarning: invalid value encountered in double_scalars\n"
          ]
        }
      ]
    },
    {
      "cell_type": "code",
      "source": [
        "# In case you are attempting the extra-credit,\n",
        "# use this class as reference for the bare-minimum functions\n",
        "# you need to build\n",
        "\n",
        "class AdaBoost:\n",
        "\n",
        "  '''\n",
        "    AdaBoost Classifier\n",
        "  '''\n",
        "  def __init__(self):\n",
        "    pass\n",
        "  \n",
        "  def fit(self):\n",
        "    pass\n",
        "\n",
        "  def predict(self):\n",
        "    pass"
      ],
      "metadata": {
        "id": "o8SnF65cgk8j"
      },
      "execution_count": null,
      "outputs": []
    },
    {
      "cell_type": "code",
      "source": [
        "from sklearn.ensemble import AdaBoostClassifier\n",
        "n  = 476\n",
        "\n",
        "clf = AdaBoostClassifier()\n",
        "clf.fit(X_train[0:n], y_train[0:n])"
      ],
      "metadata": {
        "colab": {
          "base_uri": "https://localhost:8080/"
        },
        "id": "fGvKMf6sk0tW",
        "outputId": "a66391c6-9aa9-44f1-95d4-d2bfd6142063"
      },
      "execution_count": 97,
      "outputs": [
        {
          "output_type": "execute_result",
          "data": {
            "text/plain": [
              "AdaBoostClassifier()"
            ]
          },
          "metadata": {},
          "execution_count": 97
        }
      ]
    },
    {
      "cell_type": "code",
      "source": [
        "from sklearn.metrics import classification_report\n",
        "\n",
        "y_pred_train = clf.predict(X_train[0:n])\n",
        "print(classification_report(y_train[0:n], y_pred_train))"
      ],
      "metadata": {
        "id": "WNf7nfB5eTw6",
        "colab": {
          "base_uri": "https://localhost:8080/"
        },
        "outputId": "09bb80db-1ec6-4644-da9a-f65f560ef09b"
      },
      "execution_count": 98,
      "outputs": [
        {
          "output_type": "stream",
          "name": "stdout",
          "text": [
            "              precision    recall  f1-score   support\n",
            "\n",
            "           0       0.27      0.23      0.25        57\n",
            "           1       1.00      0.17      0.29        12\n",
            "           2       0.32      0.31      0.31        72\n",
            "           3       0.37      0.52      0.43       120\n",
            "           4       0.19      0.14      0.16        66\n",
            "           5       0.34      0.28      0.31        57\n",
            "           6       0.34      0.35      0.34        92\n",
            "\n",
            "    accuracy                           0.33       476\n",
            "   macro avg       0.40      0.28      0.30       476\n",
            "weighted avg       0.33      0.33      0.32       476\n",
            "\n"
          ]
        }
      ]
    },
    {
      "cell_type": "code",
      "source": [
        "y_pred_test = clf.predict(X_test)\n",
        "print(classification_report(y_test, y_pred_test))"
      ],
      "metadata": {
        "id": "SgKrrVIyent3",
        "colab": {
          "base_uri": "https://localhost:8080/"
        },
        "outputId": "af07836f-d406-490d-9e19-a457e245febd"
      },
      "execution_count": 129,
      "outputs": [
        {
          "output_type": "stream",
          "name": "stdout",
          "text": [
            "              precision    recall  f1-score   support\n",
            "\n",
            "           0       0.30      0.23      0.26        13\n",
            "           2       0.12      0.12      0.12        16\n",
            "           3       0.32      0.33      0.33        27\n",
            "           4       0.10      0.13      0.11        15\n",
            "           5       0.33      0.18      0.24        11\n",
            "           6       0.16      0.17      0.16        18\n",
            "\n",
            "    accuracy                           0.21       100\n",
            "   macro avg       0.22      0.20      0.20       100\n",
            "weighted avg       0.22      0.21      0.21       100\n",
            "\n"
          ]
        }
      ]
    }
  ]
}