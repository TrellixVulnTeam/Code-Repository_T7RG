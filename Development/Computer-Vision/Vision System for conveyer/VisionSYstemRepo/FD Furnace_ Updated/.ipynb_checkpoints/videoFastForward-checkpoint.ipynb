{
 "cells": [
  {
   "cell_type": "code",
   "execution_count": 95,
   "metadata": {},
   "outputs": [
    {
     "name": "stdout",
     "output_type": "stream",
     "text": [
      "Enter  0  for  16acesealnight.mp4\n",
      "Enter  1  for  16faceseal.mp4\n",
      "Enter  2  for  3solder.mp4\n",
      "Enter  3  for  5inchcu.mp4\n",
      "Enter  4  for  8inchcu.mp4\n",
      "Enter  5  for  8inchflare.mp4\n",
      "5\n",
      "Enter the rate of speed increase(0-20)\n",
      "10\n"
     ]
    },
    {
     "data": {
      "text/plain": [
       "'C:\\\\Users\\\\U335153\\\\OneDrive - Danfoss\\\\Technology Explorations\\\\Technology%20Explorations\\\\Vision System for FD Furnace\\\\VisionSYstemRepo\\\\FD Furnace_ Updated\\\\reduced\\\\8inchflarereduced.mp4'"
      ]
     },
     "execution_count": 95,
     "metadata": {},
     "output_type": "execute_result"
    }
   ],
   "source": [
    "directory='C:\\\\Users\\\\U335153\\\\OneDrive - Danfoss\\\\Technology Explorations\\\\Technology%20Explorations\\\\Vision System for FD Furnace\\\\VisionSYstemRepo\\\\FD Furnace_ Updated'\n",
    "import cv2\n",
    "import shutil\n",
    "import os\n",
    "videoFiles=[]\n",
    "os.chdir(directory+'\\\\ogVideo')\n",
    "for filename in os.listdir():\n",
    "    if filename.find('.mp4')>0:\n",
    "        videoFiles.append(filename)\n",
    "        \n",
    "\n",
    "#Code t select the video File\n",
    "i=0\n",
    "for file in videoFiles:\n",
    "    print('Enter ',i,' for ',file)\n",
    "    i+=1\n",
    "choice=input()\n",
    "\n",
    "print('Enter the rate of speed increase(0-20)')\n",
    "rate=input()\n",
    "\n",
    "\n",
    "\n",
    "selectedFile=videoFiles[int(choice)]\n",
    "\n",
    "\n",
    "cap=cv2.VideoCapture(selectedFile)\n",
    "\n",
    "ret,frame=cap.read()\n",
    "file=selectedFile[0:selectedFile.find('.mp4')]+'reduced.mp4'\n",
    "out = cv2.VideoWriter(file, -1, 20.0, (frame.shape[1],frame.shape[0]))\n",
    "\n",
    "count=0\n",
    "while ret:\n",
    "    ret,frame=cap.read()\n",
    "    try:\n",
    "        if count%int(rate)==0:\n",
    "            cv2.imshow('New Video',frame)\n",
    "            out.write(frame)\n",
    "            count+=1\n",
    "        else:\n",
    "            count+=1\n",
    "    except:\n",
    "        break\n",
    "    if cv2.waitKey(1) & 0xff==ord('q'):\n",
    "        break\n",
    "cap.release()\n",
    "out.release()\n",
    "cv2.destroyAllWindows()\n",
    "\n",
    "originalLocation=directory+'\\\\ogVideo\\\\'+file\n",
    "newLocation=directory+'\\\\reduced\\\\'+file\n",
    "shutil.move(str(originalLocation),str(newLocation))"
   ]
  },
  {
   "cell_type": "code",
   "execution_count": null,
   "metadata": {},
   "outputs": [],
   "source": []
  },
  {
   "cell_type": "code",
   "execution_count": null,
   "metadata": {},
   "outputs": [],
   "source": []
  }
 ],
 "metadata": {
  "kernelspec": {
   "display_name": "Python 3",
   "language": "python",
   "name": "python3"
  },
  "language_info": {
   "codemirror_mode": {
    "name": "ipython",
    "version": 3
   },
   "file_extension": ".py",
   "mimetype": "text/x-python",
   "name": "python",
   "nbconvert_exporter": "python",
   "pygments_lexer": "ipython3",
   "version": "3.7.3"
  }
 },
 "nbformat": 4,
 "nbformat_minor": 2
}
