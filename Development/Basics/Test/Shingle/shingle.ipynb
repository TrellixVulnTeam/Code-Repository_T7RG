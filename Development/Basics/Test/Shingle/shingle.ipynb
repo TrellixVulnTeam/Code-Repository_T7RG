{
 "cells": [
  {
   "cell_type": "markdown",
   "id": "eb1bb404-a220-4da6-b9fc-e237c485ba34",
   "metadata": {},
   "source": [
    "An important quality characteristic used by the manufacturers of ABC asphalt shingles is the amount of moisture the shingles contain when they are packaged. Customers may feel that they have purchased a product lacking in quality if they find moisture and wet shingles inside the packaging.   In some cases, excessive moisture can cause the granules attached to the shingles for texture and coloring purposes to fall off the shingles resulting in appearance problems. To monitor the amount of moisture present, the company conducts moisture tests. A shingle is weighed and then dried. The shingle is then reweighed, and based on the amount of moisture taken out of the product, the pounds of moisture per 100 square feet are calculated. The company would like to show that the mean moisture content is less than 0.35 pounds per 100 square feet."
   ]
  },
  {
   "cell_type": "markdown",
   "id": "3eb06130-b788-4a62-9309-f8504dc376c3",
   "metadata": {},
   "source": [
    "3.1 Do you think there is evidence that means moisture contents in both types of shingles are within the permissible limits? State your conclusions clearly showing all steps."
   ]
  },
  {
   "cell_type": "code",
   "execution_count": 5,
   "id": "cf1db398-2613-4e41-be76-a7b77454556a",
   "metadata": {},
   "outputs": [
    {
     "data": {
      "text/html": [
       "<div>\n",
       "<style scoped>\n",
       "    .dataframe tbody tr th:only-of-type {\n",
       "        vertical-align: middle;\n",
       "    }\n",
       "\n",
       "    .dataframe tbody tr th {\n",
       "        vertical-align: top;\n",
       "    }\n",
       "\n",
       "    .dataframe thead th {\n",
       "        text-align: right;\n",
       "    }\n",
       "</style>\n",
       "<table border=\"1\" class=\"dataframe\">\n",
       "  <thead>\n",
       "    <tr style=\"text-align: right;\">\n",
       "      <th></th>\n",
       "      <th>A</th>\n",
       "      <th>B</th>\n",
       "    </tr>\n",
       "  </thead>\n",
       "  <tbody>\n",
       "    <tr>\n",
       "      <th>0</th>\n",
       "      <td>0.44</td>\n",
       "      <td>0.14</td>\n",
       "    </tr>\n",
       "    <tr>\n",
       "      <th>1</th>\n",
       "      <td>0.61</td>\n",
       "      <td>0.15</td>\n",
       "    </tr>\n",
       "    <tr>\n",
       "      <th>2</th>\n",
       "      <td>0.47</td>\n",
       "      <td>0.31</td>\n",
       "    </tr>\n",
       "    <tr>\n",
       "      <th>3</th>\n",
       "      <td>0.30</td>\n",
       "      <td>0.16</td>\n",
       "    </tr>\n",
       "    <tr>\n",
       "      <th>4</th>\n",
       "      <td>0.15</td>\n",
       "      <td>0.37</td>\n",
       "    </tr>\n",
       "  </tbody>\n",
       "</table>\n",
       "</div>"
      ],
      "text/plain": [
       "      A     B\n",
       "0  0.44  0.14\n",
       "1  0.61  0.15\n",
       "2  0.47  0.31\n",
       "3  0.30  0.16\n",
       "4  0.15  0.37"
      ]
     },
     "execution_count": 5,
     "metadata": {},
     "output_type": "execute_result"
    }
   ],
   "source": [
    "import pandas as pd\n",
    "df=pd.read_csv('A+&+B+shingles.csv')\n",
    "df.head()"
   ]
  },
  {
   "cell_type": "markdown",
   "id": "980af07e-a3d1-4d84-93c0-eb8e222b6573",
   "metadata": {},
   "source": [
    "### Null hypothesis : Mean moisture in sample A is greater than 0.35"
   ]
  },
  {
   "cell_type": "code",
   "execution_count": 35,
   "id": "a77719f1-003d-4aa3-99ea-fecc727420bd",
   "metadata": {},
   "outputs": [],
   "source": [
    "from scipy.stats import ttest_1samp\n",
    "\n",
    "t_stats,p_value=ttest_1samp(df['A'],0.35,alternative='less')"
   ]
  },
  {
   "cell_type": "code",
   "execution_count": 36,
   "id": "f3e723b1-daf1-44d4-a32f-1468213c178f",
   "metadata": {},
   "outputs": [
    {
     "data": {
      "text/plain": [
       "0.07477633144907513"
      ]
     },
     "execution_count": 36,
     "metadata": {},
     "output_type": "execute_result"
    }
   ],
   "source": [
    "p_value"
   ]
  },
  {
   "cell_type": "markdown",
   "id": "5f837cb7-2754-41ee-a90b-edab0b47efdf",
   "metadata": {},
   "source": [
    "#### Since the p value is more than 0.05, we cannot reject the Null Hypothesis. Which means that there is not enough evidence to say that mean moisture content for sample A is less than 0.35"
   ]
  },
  {
   "cell_type": "markdown",
   "id": "c11ba15b-aa2a-496b-9092-27b48d1beaf6",
   "metadata": {},
   "source": [
    "### Null hypothesis : Mean moisture in sample B is greater than 0.35"
   ]
  },
  {
   "cell_type": "code",
   "execution_count": 37,
   "id": "89191d52-cdd7-49f1-8dd4-79c2f82efb6c",
   "metadata": {},
   "outputs": [],
   "source": [
    "# Deleting the rows with NAN values for doing TTest\n",
    "df1=df.drop(df[df['B'].isna()].index.values,axis=0)\n"
   ]
  },
  {
   "cell_type": "code",
   "execution_count": 42,
   "id": "19656f50-cb7e-4fa7-8090-8b7c7f159818",
   "metadata": {},
   "outputs": [],
   "source": [
    "from scipy.stats import ttest_1samp\n",
    "\n",
    "t_stats,p_value=ttest_1samp(df1['B'],0.35,alternative='less',nan_policy='omit')"
   ]
  },
  {
   "cell_type": "code",
   "execution_count": 43,
   "id": "3d6efb82-5a76-4958-8cc5-798f7049cc63",
   "metadata": {},
   "outputs": [
    {
     "data": {
      "text/plain": [
       "0.0020904774003191813"
      ]
     },
     "execution_count": 43,
     "metadata": {},
     "output_type": "execute_result"
    }
   ],
   "source": [
    "p_value"
   ]
  },
  {
   "cell_type": "markdown",
   "id": "8346b96c-303d-4f72-9a76-284d2902e8ad",
   "metadata": {},
   "source": [
    "#### Since the p value is less than 0.05, we reject the Null Hypothesis. Which means that there is enough evidence to say that mean moisture content for sample B is less than 0.35"
   ]
  },
  {
   "cell_type": "code",
   "execution_count": null,
   "id": "87a7974c-cfa2-40b5-a26c-cec63647ffef",
   "metadata": {},
   "outputs": [],
   "source": []
  },
  {
   "cell_type": "markdown",
   "id": "ce6a111d-7354-4363-8cb2-235611b53c4c",
   "metadata": {},
   "source": [
    "3.2 Do you think that the population mean for shingles A and B are equal? Form the hypothesis and conduct the test of the hypothesis. What assumption do you need to check before the test for equality of means is performed?"
   ]
  },
  {
   "cell_type": "markdown",
   "id": "4df95c09-de52-43ff-bb31-6d1cc65eecb3",
   "metadata": {},
   "source": [
    "#### Null Hypothesis : The means for A and B samples are equal"
   ]
  },
  {
   "cell_type": "code",
   "execution_count": 53,
   "id": "1cb1a861-0dee-4ef7-8fbe-5053a8f965cf",
   "metadata": {},
   "outputs": [],
   "source": [
    "from scipy.stats import ttest_ind\n",
    "\n",
    "t_stats,p_value=ttest_ind(df1['A'],df1['B'],equal_var=True)"
   ]
  },
  {
   "cell_type": "code",
   "execution_count": 54,
   "id": "8ff11c0b-74de-4f84-90fa-e272992ce33e",
   "metadata": {},
   "outputs": [
    {
     "data": {
      "text/plain": [
       "0.3284577916404776"
      ]
     },
     "execution_count": 54,
     "metadata": {},
     "output_type": "execute_result"
    }
   ],
   "source": [
    "p_value"
   ]
  },
  {
   "cell_type": "markdown",
   "id": "55e01daf-5c5a-4b73-839d-5a4ec93a2387",
   "metadata": {},
   "source": [
    "## Since the P value is greater than 0.05, we cannot reject the null hypothesis. \n",
    "Which means there is enough evidence to show that the means of A and B are equal"
   ]
  },
  {
   "cell_type": "code",
   "execution_count": null,
   "id": "2a90d23d-ce78-4ad2-ad4c-2fff7127d7f0",
   "metadata": {},
   "outputs": [],
   "source": []
  }
 ],
 "metadata": {
  "kernelspec": {
   "display_name": "Python 3 (ipykernel)",
   "language": "python",
   "name": "python3"
  },
  "language_info": {
   "codemirror_mode": {
    "name": "ipython",
    "version": 3
   },
   "file_extension": ".py",
   "mimetype": "text/x-python",
   "name": "python",
   "nbconvert_exporter": "python",
   "pygments_lexer": "ipython3",
   "version": "3.8.8"
  }
 },
 "nbformat": 4,
 "nbformat_minor": 5
}
