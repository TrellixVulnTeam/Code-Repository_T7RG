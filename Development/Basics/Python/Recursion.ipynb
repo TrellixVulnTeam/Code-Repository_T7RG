{
  "nbformat": 4,
  "nbformat_minor": 0,
  "metadata": {
    "colab": {
      "name": "Recursion.ipynb",
      "provenance": []
    },
    "kernelspec": {
      "name": "python3",
      "display_name": "Python 3"
    },
    "language_info": {
      "name": "python"
    }
  },
  "cells": [
    {
      "cell_type": "markdown",
      "source": [
        "1.Take ‘n’ as input and write a recursive function to return the sum of 1 to n.<br>Eg:for n=5 return 15 <br>\n",
        "(1+2+3+4+5)."
      ],
      "metadata": {
        "id": "dC_93fwfpDmO"
      }
    },
    {
      "cell_type": "code",
      "source": [
        "def sum(n):\n",
        "  if n == 1:\n",
        "    return 1\n",
        "  return n + sum(n-1)"
      ],
      "metadata": {
        "id": "jiMqGQETpDLJ"
      },
      "execution_count": 25,
      "outputs": []
    },
    {
      "cell_type": "code",
      "source": [
        "sum(5)"
      ],
      "metadata": {
        "colab": {
          "base_uri": "https://localhost:8080/"
        },
        "id": "MSdiD6kTpftJ",
        "outputId": "591b1304-a33a-4d16-b944-b4a2b601c314"
      },
      "execution_count": 26,
      "outputs": [
        {
          "output_type": "execute_result",
          "data": {
            "text/plain": [
              "15"
            ]
          },
          "metadata": {},
          "execution_count": 26
        }
      ]
    },
    {
      "cell_type": "markdown",
      "source": [
        "2.Write a recursive function to calculate the nth tribonacci series element.A(n) is given as  A(n) = A(n-1) + A(n-2) + A(n-3) for any n>=3where A(0) = 0, A(1)=0, A(2)=1"
      ],
      "metadata": {
        "id": "18qYEpJpqHVD"
      }
    },
    {
      "cell_type": "code",
      "source": [
        "def fibonacci(n):\n",
        "  if n <=1:\n",
        "    return n\n",
        "  return fibonacci(n-1)+ fibonacci (n-2)"
      ],
      "metadata": {
        "id": "9-pYM7DuqWz5"
      },
      "execution_count": 37,
      "outputs": []
    },
    {
      "cell_type": "code",
      "source": [
        "fibonacci(4)"
      ],
      "metadata": {
        "colab": {
          "base_uri": "https://localhost:8080/"
        },
        "id": "9syuo6ioqtIx",
        "outputId": "f1594a04-f387-41c8-96dd-b19a5f1e798e"
      },
      "execution_count": 38,
      "outputs": [
        {
          "output_type": "execute_result",
          "data": {
            "text/plain": [
              "3"
            ]
          },
          "metadata": {},
          "execution_count": 38
        }
      ]
    },
    {
      "cell_type": "markdown",
      "source": [
        "3.Given an array and a target value,write a recursive function that will return the last index of the occurrence of that target value.If not present in the array return -1 .Eg:{3 2 1 8 6 1 3} target = 1 Output: 5"
      ],
      "metadata": {
        "id": "4MSNg3E6yMhK"
      }
    },
    {
      "cell_type": "code",
      "source": [
        "def search ( l , target ):\n",
        "  if l[-1] == target :\n",
        "    return len(l)-1\n",
        "  return search(l[0:-1], target)"
      ],
      "metadata": {
        "id": "-8C-4Le-uGVz"
      },
      "execution_count": 48,
      "outputs": []
    },
    {
      "cell_type": "code",
      "source": [
        "l = [3,2,1,8,6,1,3]\n",
        "search(l,1)"
      ],
      "metadata": {
        "colab": {
          "base_uri": "https://localhost:8080/"
        },
        "id": "KFTb9gv0v4Kb",
        "outputId": "9ff749fe-9f96-4e5c-df7a-ffd4fbf2bd9e"
      },
      "execution_count": 49,
      "outputs": [
        {
          "output_type": "execute_result",
          "data": {
            "text/plain": [
              "5"
            ]
          },
          "metadata": {},
          "execution_count": 49
        }
      ]
    },
    {
      "cell_type": "markdown",
      "source": [
        "4.Given two integers a and n. Find an(a raised to powern) using recursion.Note:TIme complexity of this function should be O(logn)"
      ],
      "metadata": {
        "id": "WYYsKfpruZWg"
      }
    },
    {
      "cell_type": "code",
      "source": [
        "def power(a,n):\n",
        "  if n == 1:\n",
        "    return a\n",
        "  return a * pow(a,n-1)"
      ],
      "metadata": {
        "id": "3nM9fJyKuazW"
      },
      "execution_count": 39,
      "outputs": []
    },
    {
      "cell_type": "code",
      "source": [
        "power(2,10)"
      ],
      "metadata": {
        "colab": {
          "base_uri": "https://localhost:8080/"
        },
        "id": "2kDB0GI5uqiS",
        "outputId": "1d268dd2-8f9a-44c2-b3f0-d9d7bb02d097"
      },
      "execution_count": 41,
      "outputs": [
        {
          "output_type": "execute_result",
          "data": {
            "text/plain": [
              "1024"
            ]
          },
          "metadata": {},
          "execution_count": 41
        }
      ]
    },
    {
      "cell_type": "markdown",
      "source": [
        "5.Write a recursive function which checks whether the list could be split in two groups,so that the sum of items in both groups is equal.Each number in the list must belong to one of the two groups."
      ],
      "metadata": {
        "id": "OAKG4F91ur-b"
      }
    },
    {
      "cell_type": "code",
      "source": [
        ""
      ],
      "metadata": {
        "id": "iek0tYq_wScT"
      },
      "execution_count": null,
      "outputs": []
    }
  ]
}