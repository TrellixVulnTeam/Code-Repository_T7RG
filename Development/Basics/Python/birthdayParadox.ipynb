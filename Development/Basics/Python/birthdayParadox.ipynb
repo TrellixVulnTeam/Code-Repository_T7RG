{
 "cells": [
  {
   "cell_type": "code",
   "execution_count": 85,
   "id": "f6543e46-9394-4aa9-9d61-164b8833834f",
   "metadata": {},
   "outputs": [],
   "source": [
    "#!/usr/bin/env python3\n",
    "# -*- coding: utf-8 -*-\n",
    "\"\"\"\n",
    "Created on Thu Sep 23 22:02:52 2021\n",
    "\n",
    "@author: Sandheep Gopinath\n",
    "@Program : To demonstate the concept of birthday paradox\n",
    "\n",
    "\"\"\"\n",
    "\n",
    "def generateRandomDates(number):\n",
    "    \"\"\" This function generates n number of random dates \n",
    "        It used the date function from datetime to verify \n",
    "        if a date is valid or not\"\"\"\n",
    "        \n",
    "    from datetime import date\n",
    "    import random\n",
    "    \n",
    "    dobList=[]\n",
    "    while len(dobList)<=number:\n",
    "        dd=random.randint(1,32)\n",
    "        mm=random.randint(1,13)\n",
    "        yy=2021\n",
    "        try:\n",
    "            d=date(yy,mm,dd)\n",
    "            dobList.append(d)\n",
    "        except:\n",
    "            pass\n",
    "    return dobList\n",
    "\n",
    "\n",
    "\n",
    "def checkProbability(dobList):\n",
    "    \"\"\" The function would check probability for a list of date of births.\n",
    "    It would find the number of collisions in a list and divide it\n",
    "    by the total number of observations in a list to get probability\"\n",
    "    \"\"\"\n",
    "    \n",
    "    sortedDobList=sorted(dobList)\n",
    "    collision=0\n",
    "    for i in range(len(sortedDobList)-1):\n",
    "        if sortedDobList[i]==sortedDobList[i+1]:\n",
    "            collision+=1\n",
    "    probability=collision/len(dobList)\n",
    "    return probability,collision\n",
    "\n",
    "def sampleNtimes(numberOfSampling,maxNumberOfPeople):\n",
    "    \"\"\" The function repeats the process of making a list of \"maxNumberOfPeople\" and finding their \n",
    "    probability of collision for each number of people. These probailities are appended as a list\n",
    "    and are then added as a column in a Dataframe. \n",
    "    So the dataframe would have rows=numberOfSampling and columns=maxNumberOfPeople\n",
    "    \"\"\"\n",
    "    \n",
    "    import pandas as pd\n",
    "    df=pd.DataFrame()\n",
    "\n",
    "    for iteration in range(numberOfSampling):\n",
    "        collisionsList=[]\n",
    "        for i in range(0,maxNumberOfPeople):           \n",
    "            l=generateRandomDates(i)\n",
    "            collisionsList.append(checkProbability(l)[1])\n",
    "        df[str(iteration)]=collisionsList\n",
    "\n",
    "    return df\n",
    "\n"
   ]
  },
  {
   "cell_type": "markdown",
   "id": "346ee132-cf2b-4421-97d9-2ee2683211a3",
   "metadata": {
    "tags": []
   },
   "source": [
    "# Q 1. For a set of 100 people what is the probability that two people will have same birthdays"
   ]
  },
  {
   "cell_type": "code",
   "execution_count": 86,
   "id": "c9104da3-80b1-4941-a76f-e8f8976f4274",
   "metadata": {},
   "outputs": [
    {
     "name": "stdout",
     "output_type": "stream",
     "text": [
      "Probability of Collisions : 3.9215686274509802 %\n",
      "There were  2  collisions for 50 samples\n"
     ]
    }
   ],
   "source": [
    "l=generateRandomDates(50)\n",
    "p,c=checkProbability(l)\n",
    "print('Probability of Collisions :',p*100,'%')\n",
    "print('There were ',c,' collisions for 50 samples')"
   ]
  },
  {
   "cell_type": "markdown",
   "id": "c9c68e9d-eca4-4177-91bd-4549e3a3f2e3",
   "metadata": {},
   "source": [
    "##### The number of collisions for 50 people as in above cell, can keep changing every time \n",
    "##### due to the randomness in sampling. hence repeating the same process 100 times to \n",
    "##### see the distribution"
   ]
  },
  {
   "cell_type": "code",
   "execution_count": 93,
   "id": "2d08b760-3547-4904-a399-ba8de24fa6c1",
   "metadata": {},
   "outputs": [],
   "source": [
    "collisionList=[]\n",
    "probabilityList=[]\n",
    "for i in range(100):\n",
    "    l=generateRandomDates(50)\n",
    "    p,c=checkProbability(l)\n",
    "    collisionList.append(c)\n",
    "    probabilityList.append(p)\n",
    "    "
   ]
  },
  {
   "cell_type": "code",
   "execution_count": 94,
   "id": "634c14be-9af6-4087-85aa-7be5936f9f35",
   "metadata": {},
   "outputs": [
    {
     "data": {
      "text/plain": [
       "<AxesSubplot:title={'center':'Collisions Histogram'}, ylabel='Count'>"
      ]
     },
     "execution_count": 94,
     "metadata": {},
     "output_type": "execute_result"
    },
    {
     "data": {
      "image/png": "[encoded data removed]",
      "text/plain": [
       "<Figure size 720x360 with 1 Axes>"
      ]
     },
     "metadata": {
      "needs_background": "light"
     },
     "output_type": "display_data"
    }
   ],
   "source": [
    "import seaborn as sns\n",
    "import matplotlib.pyplot as plt\n",
    "\n",
    "\n",
    "plt.figure(figsize=(10,5))\n",
    "plt.title('Collisions Histogram')\n",
    "sns.histplot(collisionList)\n",
    "\n"
   ]
  },
  {
   "cell_type": "markdown",
   "id": "89a7f115-1e21-496b-8c1a-04eb60639144",
   "metadata": {},
   "source": [
    "### It can be seen that the maximum number of collisions that happen is 3 followed by 6 when the experiment is repeated 100 times\n"
   ]
  },
  {
   "cell_type": "code",
   "execution_count": 95,
   "id": "13460935-8412-4262-b224-a8accd807704",
   "metadata": {},
   "outputs": [
    {
     "data": {
      "text/plain": [
       "<AxesSubplot:title={'center':'Probabilities Histogram'}, ylabel='Count'>"
      ]
     },
     "execution_count": 95,
     "metadata": {},
     "output_type": "execute_result"
    },
    {
     "data": {
      "image/png": "[encoded data removed]",
      "text/plain": [
       "<Figure size 720x360 with 1 Axes>"
      ]
     },
     "metadata": {
      "needs_background": "light"
     },
     "output_type": "display_data"
    }
   ],
   "source": [
    "import seaborn as sns\n",
    "import matplotlib.pyplot as plt\n",
    "\n",
    "\n",
    "plt.figure(figsize=(10,5))\n",
    "plt.title('Probabilities Histogram')\n",
    "sns.histplot(probabilityList,kde=True)\n",
    "\n"
   ]
  },
  {
   "cell_type": "code",
   "execution_count": 96,
   "id": "15d79c29-afa2-4d1a-ba7f-eba98ef5eeab",
   "metadata": {},
   "outputs": [
    {
     "data": {
      "text/plain": [
       "0.06647058823529402"
      ]
     },
     "execution_count": 96,
     "metadata": {},
     "output_type": "execute_result"
    }
   ],
   "source": [
    "import pandas as pd\n",
    "pList=pd.Series(probabilityList)\n",
    "pList.mean()"
   ]
  },
  {
   "cell_type": "markdown",
   "id": "1c1c59fe-0ebe-4941-aa25-0e6bc92c6d31",
   "metadata": {
    "tags": []
   },
   "source": [
    "### The average probability of the experiments would be between 5-7%, with mean probability being 6.5%"
   ]
  },
  {
   "cell_type": "markdown",
   "id": "5ab8db9f-8602-46e0-a056-69c2524bd00f",
   "metadata": {},
   "source": [
    "# Q2. From the previous question, be able to find how many people are required to make the probability x% such that "
   ]
  },
  {
   "cell_type": "code",
   "execution_count": 97,
   "id": "80769c04-1ee6-4ecd-a4c3-c3ff87da256e",
   "metadata": {},
   "outputs": [
    {
     "data": {
      "text/plain": [
       "(100, 80)"
      ]
     },
     "execution_count": 97,
     "metadata": {},
     "output_type": "execute_result"
    }
   ],
   "source": [
    "# Doing the process of birthday paradox for a sample of 1-80 people and repeating\n",
    "# the same process 100 times to observe the process\n",
    "\n",
    "df=sampleNtimes(100,80).T\n",
    "df.to_csv('birthdayParadox.csv')\n",
    "df.shape"
   ]
  },
  {
   "cell_type": "code",
   "execution_count": 98,
   "id": "2e4ae80b-f9ca-43fe-bbf8-e630240e7792",
   "metadata": {},
   "outputs": [
    {
     "data": {
      "text/html": [
       "<div>\n",
       "<style scoped>\n",
       "    .dataframe tbody tr th:only-of-type {\n",
       "        vertical-align: middle;\n",
       "    }\n",
       "\n",
       "    .dataframe tbody tr th {\n",
       "        vertical-align: top;\n",
       "    }\n",
       "\n",
       "    .dataframe thead th {\n",
       "        text-align: right;\n",
       "    }\n",
       "</style>\n",
       "<table border=\"1\" class=\"dataframe\">\n",
       "  <thead>\n",
       "    <tr style=\"text-align: right;\">\n",
       "      <th></th>\n",
       "      <th>0</th>\n",
       "      <th>1</th>\n",
       "      <th>2</th>\n",
       "      <th>3</th>\n",
       "      <th>4</th>\n",
       "      <th>5</th>\n",
       "      <th>6</th>\n",
       "      <th>7</th>\n",
       "      <th>8</th>\n",
       "      <th>9</th>\n",
       "      <th>...</th>\n",
       "      <th>70</th>\n",
       "      <th>71</th>\n",
       "      <th>72</th>\n",
       "      <th>73</th>\n",
       "      <th>74</th>\n",
       "      <th>75</th>\n",
       "      <th>76</th>\n",
       "      <th>77</th>\n",
       "      <th>78</th>\n",
       "      <th>79</th>\n",
       "    </tr>\n",
       "  </thead>\n",
       "  <tbody>\n",
       "    <tr>\n",
       "      <th>0</th>\n",
       "      <td>0</td>\n",
       "      <td>0</td>\n",
       "      <td>0</td>\n",
       "      <td>0</td>\n",
       "      <td>0</td>\n",
       "      <td>0</td>\n",
       "      <td>0</td>\n",
       "      <td>0</td>\n",
       "      <td>0</td>\n",
       "      <td>0</td>\n",
       "      <td>...</td>\n",
       "      <td>2</td>\n",
       "      <td>11</td>\n",
       "      <td>8</td>\n",
       "      <td>7</td>\n",
       "      <td>4</td>\n",
       "      <td>8</td>\n",
       "      <td>8</td>\n",
       "      <td>10</td>\n",
       "      <td>7</td>\n",
       "      <td>7</td>\n",
       "    </tr>\n",
       "    <tr>\n",
       "      <th>1</th>\n",
       "      <td>0</td>\n",
       "      <td>0</td>\n",
       "      <td>0</td>\n",
       "      <td>0</td>\n",
       "      <td>0</td>\n",
       "      <td>0</td>\n",
       "      <td>0</td>\n",
       "      <td>0</td>\n",
       "      <td>0</td>\n",
       "      <td>0</td>\n",
       "      <td>...</td>\n",
       "      <td>8</td>\n",
       "      <td>3</td>\n",
       "      <td>5</td>\n",
       "      <td>6</td>\n",
       "      <td>5</td>\n",
       "      <td>7</td>\n",
       "      <td>8</td>\n",
       "      <td>10</td>\n",
       "      <td>2</td>\n",
       "      <td>4</td>\n",
       "    </tr>\n",
       "    <tr>\n",
       "      <th>2</th>\n",
       "      <td>0</td>\n",
       "      <td>0</td>\n",
       "      <td>0</td>\n",
       "      <td>0</td>\n",
       "      <td>0</td>\n",
       "      <td>0</td>\n",
       "      <td>0</td>\n",
       "      <td>0</td>\n",
       "      <td>0</td>\n",
       "      <td>0</td>\n",
       "      <td>...</td>\n",
       "      <td>5</td>\n",
       "      <td>6</td>\n",
       "      <td>9</td>\n",
       "      <td>9</td>\n",
       "      <td>7</td>\n",
       "      <td>6</td>\n",
       "      <td>5</td>\n",
       "      <td>7</td>\n",
       "      <td>7</td>\n",
       "      <td>8</td>\n",
       "    </tr>\n",
       "    <tr>\n",
       "      <th>3</th>\n",
       "      <td>0</td>\n",
       "      <td>0</td>\n",
       "      <td>0</td>\n",
       "      <td>0</td>\n",
       "      <td>0</td>\n",
       "      <td>0</td>\n",
       "      <td>1</td>\n",
       "      <td>0</td>\n",
       "      <td>0</td>\n",
       "      <td>0</td>\n",
       "      <td>...</td>\n",
       "      <td>3</td>\n",
       "      <td>8</td>\n",
       "      <td>9</td>\n",
       "      <td>9</td>\n",
       "      <td>6</td>\n",
       "      <td>5</td>\n",
       "      <td>12</td>\n",
       "      <td>4</td>\n",
       "      <td>5</td>\n",
       "      <td>9</td>\n",
       "    </tr>\n",
       "    <tr>\n",
       "      <th>4</th>\n",
       "      <td>0</td>\n",
       "      <td>0</td>\n",
       "      <td>0</td>\n",
       "      <td>0</td>\n",
       "      <td>0</td>\n",
       "      <td>1</td>\n",
       "      <td>0</td>\n",
       "      <td>0</td>\n",
       "      <td>0</td>\n",
       "      <td>0</td>\n",
       "      <td>...</td>\n",
       "      <td>4</td>\n",
       "      <td>7</td>\n",
       "      <td>5</td>\n",
       "      <td>12</td>\n",
       "      <td>11</td>\n",
       "      <td>11</td>\n",
       "      <td>3</td>\n",
       "      <td>6</td>\n",
       "      <td>10</td>\n",
       "      <td>8</td>\n",
       "    </tr>\n",
       "  </tbody>\n",
       "</table>\n",
       "<p>5 rows × 80 columns</p>\n",
       "</div>"
      ],
      "text/plain": [
       "   0   1   2   3   4   5   6   7   8   9   ...  70  71  72  73  74  75  76  \\\n",
       "0   0   0   0   0   0   0   0   0   0   0  ...   2  11   8   7   4   8   8   \n",
       "1   0   0   0   0   0   0   0   0   0   0  ...   8   3   5   6   5   7   8   \n",
       "2   0   0   0   0   0   0   0   0   0   0  ...   5   6   9   9   7   6   5   \n",
       "3   0   0   0   0   0   0   1   0   0   0  ...   3   8   9   9   6   5  12   \n",
       "4   0   0   0   0   0   1   0   0   0   0  ...   4   7   5  12  11  11   3   \n",
       "\n",
       "   77  78  79  \n",
       "0  10   7   7  \n",
       "1  10   2   4  \n",
       "2   7   7   8  \n",
       "3   4   5   9  \n",
       "4   6  10   8  \n",
       "\n",
       "[5 rows x 80 columns]"
      ]
     },
     "execution_count": 98,
     "metadata": {},
     "output_type": "execute_result"
    }
   ],
   "source": [
    "df.head()"
   ]
  },
  {
   "cell_type": "code",
   "execution_count": 99,
   "id": "2c5f3979-a467-486d-ace6-366652172185",
   "metadata": {},
   "outputs": [],
   "source": [
    "#In this cell we are iterating over each columns. \n",
    "\"\"\"We have taken the transpose of the matrix above, which means\n",
    "each columns now has the different observations for different number of poeple.\n",
    "Eg : Column 1 has the different observations of probability of collisions for 1 person. \n",
    "     Column 50 has the different observations of probability of collisions for 50 people for 100 iterations. \n",
    "     We are filtering out the nummber of samples for which a collision has occured and diving it by total samples of samples taken, \n",
    "     hence giving us a picture of probability distibution\"\"\"\n",
    "\n",
    "line=[]\n",
    "for column in df.columns:\n",
    "    line.append((df[df[column]!=0][column].shape[0])/100)\n",
    "\n"
   ]
  },
  {
   "cell_type": "code",
   "execution_count": 100,
   "id": "864182cb-4271-4f57-9068-bbe87880d947",
   "metadata": {},
   "outputs": [
    {
     "name": "stderr",
     "output_type": "stream",
     "text": [
      "/home/blink/anaconda3/lib/python3.8/site-packages/seaborn/_decorators.py:36: FutureWarning:\n",
      "\n",
      "Pass the following variables as keyword args: x, y. From version 0.12, the only valid positional argument will be `data`, and passing other arguments without an explicit keyword will result in an error or misinterpretation.\n",
      "\n"
     ]
    },
    {
     "data": {
      "text/plain": [
       "<AxesSubplot:>"
      ]
     },
     "execution_count": 100,
     "metadata": {},
     "output_type": "execute_result"
    },
    {
     "data": {
      "image/png": "[encoded data removed]",
      "text/plain": [
       "<Figure size 1440x720 with 1 Axes>"
      ]
     },
     "metadata": {
      "needs_background": "light"
     },
     "output_type": "display_data"
    }
   ],
   "source": [
    "import seaborn as sns\n",
    "\n",
    "plt.figure(figsize=(20,10))\n",
    "sns.pointplot(df.columns,line)"
   ]
  },
  {
   "cell_type": "markdown",
   "id": "bdd18758-38b2-46e4-8a70-f58a97ba42ad",
   "metadata": {},
   "source": [
    "## From the above graph it is clearly visible that after around 24 people in a group the probability of collisions is around or greater than 45%.\n"
   ]
  },
  {
   "cell_type": "markdown",
   "id": "2e41996e-47db-48ad-bec9-8d2a1669b590",
   "metadata": {},
   "source": [
    "# Add comments to explain why one run of the program will not give an accurate result.. How do you solve the problem?"
   ]
  },
  {
   "cell_type": "markdown",
   "id": "eccd10be-0898-4a1c-b720-d5779aca0aa3",
   "metadata": {},
   "source": [
    "As done in the above cells, in question 1, a single run of the experiment would return a varying probability due to the randomness of samplig intriduced in the program .\n",
    "The program may give a probability of 5% for one run, but may return 0% for the next run. \n",
    "It is to resolve this issue that we have repeated all the experiments 100 times, and used matplotlib and averaging methods to get identify the probability"
   ]
  },
  {
   "cell_type": "code",
   "execution_count": 101,
   "id": "d2ce51d0-6526-4532-add2-265e58733af7",
   "metadata": {},
   "outputs": [
    {
     "data": {
      "text/plain": [
       "'/home/blink/Documents/Plaksha/Codes/Assignment'"
      ]
     },
     "execution_count": 101,
     "metadata": {},
     "output_type": "execute_result"
    }
   ],
   "source": [
    "import os\n",
    "os.getcwd()"
   ]
  },
  {
   "cell_type": "code",
   "execution_count": null,
   "id": "df4b357a-f0ee-47c1-a5ce-2bdab170a10e",
   "metadata": {},
   "outputs": [],
   "source": []
  }
 ],
 "metadata": {
  "kernelspec": {
   "display_name": "Python 3 (ipykernel)",
   "language": "python",
   "name": "python3"
  },
  "language_info": {
   "codemirror_mode": {
    "name": "ipython",
    "version": 3
   },
   "file_extension": ".py",
   "mimetype": "text/x-python",
   "name": "python",
   "nbconvert_exporter": "python",
   "pygments_lexer": "ipython3",
   "version": "3.8.8"
  }
 },
 "nbformat": 4,
 "nbformat_minor": 5
}
