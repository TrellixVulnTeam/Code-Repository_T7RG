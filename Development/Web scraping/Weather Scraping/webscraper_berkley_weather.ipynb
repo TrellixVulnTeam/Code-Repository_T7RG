{
  "cells": [
    {
      "cell_type": "markdown",
      "metadata": {
        "id": "view-in-github",
        "colab_type": "text"
      },
      "source": [
        "<a href=\"https://colab.research.google.com/github/sandheepgopinath/Python/blob/master/webscraper_berkley_weather.ipynb\" target=\"_parent\"><img src=\"https://colab.research.google.com/assets/colab-badge.svg\" alt=\"Open In Colab\"/></a>"
      ]
    },
    {
      "cell_type": "markdown",
      "metadata": {
        "id": "kND0Unt8aMVN"
      },
      "source": [
        "<img src=\"https://raw.githubusercontent.com/afo/data-x-plaksha/master/imgsource/dx_logo.png\" align=\"left\"></img><br><br><br><br><br><br><br><br>\n",
        "\n",
        "\n",
        "## SOLUTIONS Breakout: Web scraping & web crawling\n",
        "\n",
        "**Author List**: Alexander Fred Ojala\n",
        "\n",
        "**Original Sources**: https://www.crummy.com/software/BeautifulSoup/bs4/doc/ & https://www.dataquest.io/blog/web-scraping-tutorial-python/\n",
        "\n",
        "**License**: Feel free to do whatever you want to with this code"
      ]
    },
    {
      "cell_type": "markdown",
      "metadata": {
        "id": "cjfdnu_UaMVT"
      },
      "source": [
        "---\n",
        "<a id='sec4'></a>\n",
        "# Breakout problem\n",
        "\n",
        "\n",
        "In this breakout you should extract live weather data in Berkeley from:\n",
        "\n",
        "[http://forecast.weather.gov/MapClick.php?lat=37.87158815800046&lon=-122.27274583799971](http://forecast.weather.gov/MapClick.php?lat=37.87158815800046&lon=-122.27274583799971)\n",
        "\n",
        "* Task scrape\n",
        "    * period / day (as Tonight, Friday, FridayNight etc.)\n",
        "    * the temperature for the period (as Low, High)\n",
        "    * the short description (e.g. Mostly Clear, Sunny etc.)\n",
        "    * the long weather description (e.g. Partly cloudy, with a low around 49..)\n",
        "    \n",
        "Store the scraped data strings in a Pandas DataFrame\n",
        "\n",
        "\n",
        "\n",
        "**Hint:** The weather information is found in a div tag with `id='seven-day-forecast'`"
      ]
    },
    {
      "cell_type": "markdown",
      "metadata": {
        "id": "2nW1sy1QaMVU"
      },
      "source": [
        "The first row of your DataFrame should be similar to the below screenshot (with the same columns):\n",
        "\n",
        "![](data/breakout_example.png)"
      ]
    },
    {
      "cell_type": "markdown",
      "metadata": {
        "id": "EksakQvRaMVW"
      },
      "source": [
        "# Your solution"
      ]
    },
    {
      "cell_type": "markdown",
      "source": [
        "## Creating a class for scraping the weather website"
      ],
      "metadata": {
        "id": "WcsuSy7Xv_Uo"
      }
    },
    {
      "cell_type": "code",
      "execution_count": 360,
      "metadata": {
        "id": "vQhzjRyHaMVW"
      },
      "outputs": [],
      "source": [
        "class weather_scrape:\n",
        "\n",
        "  def __init__(self,url):\n",
        "    import requests                                                             # Importing requsts library\n",
        "    self.source=requests.get(url)\n",
        "    if self.source.status_code==200:                                            # Checks if the URL read was successful \n",
        "      print('Webpage read successfull')\n",
        "    else:\n",
        "      print('Webpage read failed')\n",
        "\n",
        "\n",
        "  def beautify(self,features):\n",
        "    ''' Function to convert an HTML Object to Beautiful soup object\n",
        "    It it is able to successfully convert, it will print a successfull statement \n",
        "    Otherwise it will send an error message. '''\n",
        "    import bs4 as bs                                                            # Importing Beautiful soup\n",
        "    try:\n",
        "      self.souped=bs.BeautifulSoup(self.source.content,features=features)       # Convert the HTML into Beautiful Soup object\n",
        "      print('Beautification Successful') \n",
        "    except:\n",
        "      print('Beautification failed')\n",
        "\n",
        "\n",
        "  def pretty_print(self,list_to_modify):                                        \n",
        "    \"\"\" Function to remove the spaces between words. \n",
        "    It searches for Uppercase elements between the word and if found it adds a space\n",
        "    before it\"\"\"\n",
        "    temp=[]\n",
        "    for text in list_to_modify:\n",
        "      count=0\n",
        "      for i in text:\n",
        "        if i.isupper():\n",
        "          if count>0:\n",
        "            text=text[0:text.find(i)]+' '+text[text.find(i):]\n",
        "          count+=1\n",
        "        else:\n",
        "          count+=1\n",
        "      temp.append(text)\n",
        "      self.day_details=temp\n",
        "\n",
        "\n",
        "  def find_to_text(self,id):\n",
        "    ''' Function to scrape the data from the webpage and to store the data in lists\n",
        "    This data will further be used for creating the dataframes'''\n",
        "\n",
        "    self.search_list=self.souped.find(id=id)                                    # Running a find_all to get the requierd part of HTML Script\n",
        "\n",
        "    self.day_details=[]                                                         # Initializing the lists for storing dataframe info\n",
        "    self.temperature=[] \n",
        "    self.short_description=[]\n",
        "    self.description=[]\n",
        "\n",
        "    for tsc in self.souped.find(id='seven-day-forecast').find_all(class_='tombstone-container'): # Iterating over the tombstone containers to get data for each day\n",
        "\n",
        "      self.day_details.append(tsc.find(class_='period-name').text)              # Read the day deails\n",
        "\n",
        "      if tsc.find(class_='temp temp-low')!=None:                                # Read the temperature details. As there can be high and low values, using an exception\n",
        "        self.temperature.append(tsc.find(class_='temp temp-low').text)\n",
        "      else:\n",
        "        self.temperature.append(tsc.find(class_='temp temp-high').text)\n",
        "\n",
        "\n",
        "      self.short_description.append(tsc.find(class_='short-desc').text)         # Reading the short description\n",
        "\n",
        "    for tsc in self.souped.find(id='seven-day-forecast').find_all('img'):       # Reading the long description\n",
        "      self.description.append(tsc['alt'])\n",
        "\n",
        "    self.pretty_print(self.day_details) #Adding spaces between the words        # Adding spaces to make the day_details look better\n",
        "\n",
        "    print('Data conversion succesful')\n",
        "\n",
        "  def to_df(self):\n",
        "    import pandas as pd\n",
        "    print('Creating a dataframe')\n",
        "    df=pd.DataFrame()\n",
        "    df['day']=self.day_details\n",
        "    df['temp']=self.temperature\n",
        "    df['short_desc']=self.short_description\n",
        "    df['desc']=self.description\n",
        "\n",
        "    self.dataframe=df\n",
        "    print('Dataframe created succesfully. Read from classname.dataframe')\n"
      ]
    },
    {
      "cell_type": "markdown",
      "source": [
        "## Calling the functions\n"
      ],
      "metadata": {
        "id": "3CntfZkNM6-i"
      }
    },
    {
      "cell_type": "code",
      "source": [
        "url='https://forecast.weather.gov/MapClick.php?lat=37.87158815800046&lon=-122.27274583799971'\n",
        "scrape=weather_scrape(url)\n",
        "scrape.beautify('html.parser')\n",
        "scrape.find_to_text('seven-day-forecast')\n",
        "scrape.to_df()"
      ],
      "metadata": {
        "colab": {
          "base_uri": "https://localhost:8080/"
        },
        "id": "T303rxf6bfSd",
        "outputId": "04170fc3-e131-4156-8099-afa99718e806"
      },
      "execution_count": 361,
      "outputs": [
        {
          "output_type": "stream",
          "name": "stdout",
          "text": [
            "Webpage read successfull\n",
            "Beautification Successful\n",
            "Data conversion succesful\n",
            "Creating a dataframe\n",
            "Dataframe created succesfully. Read from classname.dataframe\n"
          ]
        }
      ]
    },
    {
      "cell_type": "code",
      "source": [
        "scrape.dataframe"
      ],
      "metadata": {
        "colab": {
          "base_uri": "https://localhost:8080/",
          "height": 332
        },
        "id": "eTELFqd2cKNT",
        "outputId": "cc9716c3-e573-40a8-9b12-430d2c75cadb"
      },
      "execution_count": 362,
      "outputs": [
        {
          "output_type": "execute_result",
          "data": {
            "text/html": [
              "<div>\n",
              "<style scoped>\n",
              "    .dataframe tbody tr th:only-of-type {\n",
              "        vertical-align: middle;\n",
              "    }\n",
              "\n",
              "    .dataframe tbody tr th {\n",
              "        vertical-align: top;\n",
              "    }\n",
              "\n",
              "    .dataframe thead th {\n",
              "        text-align: right;\n",
              "    }\n",
              "</style>\n",
              "<table border=\"1\" class=\"dataframe\">\n",
              "  <thead>\n",
              "    <tr style=\"text-align: right;\">\n",
              "      <th></th>\n",
              "      <th>day</th>\n",
              "      <th>temp</th>\n",
              "      <th>short_desc</th>\n",
              "      <th>desc</th>\n",
              "    </tr>\n",
              "  </thead>\n",
              "  <tbody>\n",
              "    <tr>\n",
              "      <th>0</th>\n",
              "      <td>Overnight</td>\n",
              "      <td>Low: 47 °F</td>\n",
              "      <td>Rain</td>\n",
              "      <td>Overnight: Rain, mainly before 5am.  Steady te...</td>\n",
              "    </tr>\n",
              "    <tr>\n",
              "      <th>1</th>\n",
              "      <td>Tuesday</td>\n",
              "      <td>High: 52 °F</td>\n",
              "      <td>Chance Rain</td>\n",
              "      <td>Tuesday: A 40 percent chance of rain, mainly b...</td>\n",
              "    </tr>\n",
              "    <tr>\n",
              "      <th>2</th>\n",
              "      <td>Tuesday Night</td>\n",
              "      <td>Low: 46 °F</td>\n",
              "      <td>IncreasingClouds</td>\n",
              "      <td>Tuesday Night: Increasing clouds, with a stead...</td>\n",
              "    </tr>\n",
              "    <tr>\n",
              "      <th>3</th>\n",
              "      <td>Wednesday</td>\n",
              "      <td>High: 54 °F</td>\n",
              "      <td>Chance Rainthen Rain</td>\n",
              "      <td>Wednesday: Rain, mainly after 5pm.  High near ...</td>\n",
              "    </tr>\n",
              "    <tr>\n",
              "      <th>4</th>\n",
              "      <td>Wednesday Night</td>\n",
              "      <td>Low: 50 °F</td>\n",
              "      <td>Rain</td>\n",
              "      <td>Wednesday Night: Rain, mainly before 5am.  Low...</td>\n",
              "    </tr>\n",
              "    <tr>\n",
              "      <th>5</th>\n",
              "      <td>Thursday</td>\n",
              "      <td>High: 57 °F</td>\n",
              "      <td>Chance Rainthen MostlySunny</td>\n",
              "      <td>Thursday: A 50 percent chance of rain before 1...</td>\n",
              "    </tr>\n",
              "    <tr>\n",
              "      <th>6</th>\n",
              "      <td>Thursday Night</td>\n",
              "      <td>Low: 42 °F</td>\n",
              "      <td>Partly Cloudy</td>\n",
              "      <td>Thursday Night: Partly cloudy, with a low arou...</td>\n",
              "    </tr>\n",
              "    <tr>\n",
              "      <th>7</th>\n",
              "      <td>Friday</td>\n",
              "      <td>High: 54 °F</td>\n",
              "      <td>Sunny</td>\n",
              "      <td>Friday: Sunny, with a high near 54.</td>\n",
              "    </tr>\n",
              "    <tr>\n",
              "      <th>8</th>\n",
              "      <td>Friday Night</td>\n",
              "      <td>Low: 41 °F</td>\n",
              "      <td>Partly Cloudy</td>\n",
              "      <td>Friday Night: Partly cloudy, with a low around...</td>\n",
              "    </tr>\n",
              "  </tbody>\n",
              "</table>\n",
              "</div>"
            ],
            "text/plain": [
              "               day  ...                                               desc\n",
              "0        Overnight  ...  Overnight: Rain, mainly before 5am.  Steady te...\n",
              "1          Tuesday  ...  Tuesday: A 40 percent chance of rain, mainly b...\n",
              "2    Tuesday Night  ...  Tuesday Night: Increasing clouds, with a stead...\n",
              "3        Wednesday  ...  Wednesday: Rain, mainly after 5pm.  High near ...\n",
              "4  Wednesday Night  ...  Wednesday Night: Rain, mainly before 5am.  Low...\n",
              "5         Thursday  ...  Thursday: A 50 percent chance of rain before 1...\n",
              "6   Thursday Night  ...  Thursday Night: Partly cloudy, with a low arou...\n",
              "7           Friday  ...                Friday: Sunny, with a high near 54.\n",
              "8     Friday Night  ...  Friday Night: Partly cloudy, with a low around...\n",
              "\n",
              "[9 rows x 4 columns]"
            ]
          },
          "metadata": {},
          "execution_count": 362
        }
      ]
    }
  ],
  "metadata": {
    "kernelspec": {
      "display_name": "Python 3",
      "language": "python",
      "name": "python3"
    },
    "language_info": {
      "codemirror_mode": {
        "name": "ipython",
        "version": 3
      },
      "file_extension": ".py",
      "mimetype": "text/x-python",
      "name": "python",
      "nbconvert_exporter": "python",
      "pygments_lexer": "ipython3",
      "version": "3.7.4"
    },
    "colab": {
      "name": "webscraper-breakout.ipynb",
      "provenance": [],
      "collapsed_sections": [],
      "include_colab_link": true
    }
  },
  "nbformat": 4,
  "nbformat_minor": 0
}