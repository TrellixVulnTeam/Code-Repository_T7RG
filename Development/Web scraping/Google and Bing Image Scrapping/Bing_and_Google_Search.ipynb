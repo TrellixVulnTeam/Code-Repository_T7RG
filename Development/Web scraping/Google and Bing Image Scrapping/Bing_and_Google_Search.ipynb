{
  "cells": [
    {
      "cell_type": "markdown",
      "source": [
        "# Function to scrape bing"
      ],
      "metadata": {
        "id": "TuTeQfJYhhnp"
      }
    },
    {
      "cell_type": "code",
      "execution_count": 4,
      "metadata": {
        "id": "qUFtjb-bhe1P"
      },
      "outputs": [],
      "source": [
        "def bing_scrape(query,i,key,folder_name='None'):\n",
        "  \"\"\"\n",
        "    i=1 : If the images has to be saved in a folder , Enter folder_name in this case\n",
        "    i=2: If images has to be saved as a numpy file\n",
        "    i=3: If images has to be saved as both\"\"\"\n",
        "\n",
        "\n",
        "  url=\"http://www.bing.com/images/search?q=\" + query + \"&FORM=HDRSC2\"\n",
        "  from urllib.request import urlopen\n",
        "  from bs4 import BeautifulSoup\n",
        "  import cv2\n",
        "  from urllib.request import urlopen\n",
        "  import numpy as np\n",
        "  from tqdm import tqdm\n",
        "\n",
        "\n",
        "  htmldata = urlopen(url)\n",
        "  soup = BeautifulSoup(htmldata, 'html.parser')\n",
        "  images = soup.find_all('img')\n",
        "  files=[]\n",
        "  for image in tqdm(images):\n",
        "    try:\n",
        "      url=image['src2']\n",
        "      cap=cv2.VideoCapture(url)\n",
        "      ret,image=cap.read()\n",
        "      image=cv2.cvtColor(image,cv2.COLOR_BGR2RGB)\n",
        "      image=cv2.resize(image,(250,250))\n",
        "      image=np.array(image)\n",
        "      files.append(image)\n",
        "    except:\n",
        "      pass\n",
        "  print(len(files),' images extracted from given URL')\n",
        "\n",
        "  if (int(i)==1) | (int(i)==3):\n",
        "    import os\n",
        "    try:\n",
        "      os.mkdir(folder_name)\n",
        "    except:\n",
        "      pass\n",
        "    for i,im in enumerate(files):\n",
        "      cv2.imwrite(folder_name+'/'+key+str(i)+'.png',im)\n",
        "    if i==3:\n",
        "      np.savez(str(folder_name)+'.npz',data=files)\n",
        "  elif i==2 : \n",
        "    np.savez(str(folder_name)+'.npz',data=files)\n",
        "\n",
        "      "
      ]
    },
    {
      "cell_type": "code",
      "execution_count": 30,
      "metadata": {
        "id": "F55C8QAGhe1s"
      },
      "outputs": [],
      "source": [
        "def google_scrape(query,i,key,folder_name=None):\n",
        "  \"\"\"\n",
        "  i=1 : If the images has to be saved in a folder , Enter folder_name in this case\n",
        "  i=2: If images has to be saved as a numpy file\n",
        "  i=3: If images has to be saved as both\n",
        "  \"\"\"\n",
        "\n",
        "\n",
        "  import requests\n",
        "  import json\n",
        "  from tqdm import tqdm\n",
        "  import cv2\n",
        "  import os\n",
        "  files=[]\n",
        "  print('Downloading. . .')\n",
        "  for i in range(3):\n",
        "    url = \"https://contextualwebsearch-websearch-v1.p.rapidapi.com/api/Search/ImageSearchAPI\"\n",
        "\n",
        "    querystring = {\"q\":query,\"pageNumber\":str(i+1),\"pageSize\":\"50\",\"autoCorrect\":\"true\",\"safeSearch\":\"false\"}\n",
        "\n",
        "    headers = {\n",
        "        'x-rapidapi-host': \"contextualwebsearch-websearch-v1.p.rapidapi.com\",\n",
        "        'x-rapidapi-key': \"71ac9436b5mshbc0e827db424572p15f53ejsnd2c1765c8618\"\n",
        "        }\n",
        "\n",
        "    response = requests.request(\"GET\", url, headers=headers, params=querystring)\n",
        "\n",
        "    resp=json.loads(response.text)\n",
        "\n",
        "\n",
        "    try:\n",
        "      for i in tqdm(range(len(resp['value']))):\n",
        "        url=resp['value'][i]['thumbnail']\n",
        "        cap=cv2.VideoCapture(url)\n",
        "        ret,image=cap.read()\n",
        "        image=cv2.cvtColor(image,cv2.COLOR_BGR2RGB)\n",
        "        image=cv2.resize(image,(250,250))\n",
        "        image=np.array(image)\n",
        "        files.append(image)\n",
        "      print(len(files),' files downloaded')\n",
        "    except:\n",
        "       pass\n",
        "\n",
        "    if (int(i)==1) | (int(i)==3):\n",
        "\n",
        "      try:\n",
        "        os.mkdir(folder_name)\n",
        "      except:\n",
        "        pass\n",
        "      for i,im in enumerate(files):\n",
        "        cv2.imwrite(folder_name+'/'+key+str(i)+'.png',im)\n",
        "      if i==3:\n",
        "        np.savez(str(folder_name)+'.npz',data=files)\n",
        "      elif i==2 : \n",
        "        np.savez(str(folder_name)+'.npz',data=files)\n"
      ]
    },
    {
      "cell_type": "markdown",
      "metadata": {
        "id": "yUbNYActhe1U"
      },
      "source": [
        "# Fetching images of cat from bing"
      ]
    },
    {
      "cell_type": "code",
      "source": [
        "from google.colab import drive\n",
        "drive.mount('/content/drive')\n",
        "file_path='/content/drive/MyDrive/Colab Notebooks/Scraping'"
      ],
      "metadata": {
        "colab": {
          "base_uri": "https://localhost:8080/"
        },
        "id": "XKMk3Dgojzz7",
        "outputId": "78d245c0-a551-4792-e8e4-617321d724f0"
      },
      "execution_count": 9,
      "outputs": [
        {
          "output_type": "stream",
          "name": "stdout",
          "text": [
            "Drive already mounted at /content/drive; to attempt to forcibly remount, call drive.mount(\"/content/drive\", force_remount=True).\n"
          ]
        }
      ]
    },
    {
      "cell_type": "code",
      "execution_count": 11,
      "metadata": {
        "colab": {
          "base_uri": "https://localhost:8080/"
        },
        "id": "FcOWGb5yhe1W",
        "outputId": "f94b8445-06d9-4180-8461-b909417c07fe"
      },
      "outputs": [
        {
          "output_type": "stream",
          "name": "stderr",
          "text": [
            "100%|██████████| 206/206 [00:07<00:00, 27.78it/s]\n"
          ]
        },
        {
          "output_type": "stream",
          "name": "stdout",
          "text": [
            "150  images extracted from given URL\n"
          ]
        }
      ],
      "source": [
        "query='Cat'\n",
        "key='cat'\n",
        "folder=file_path+'/Cat'\n",
        "bing_scrape(query,3,key,folder)"
      ]
    },
    {
      "cell_type": "code",
      "execution_count": 13,
      "metadata": {
        "colab": {
          "base_uri": "https://localhost:8080/"
        },
        "id": "VjtF_-oXhe1X",
        "outputId": "bf023e60-a965-4d1f-e189-df16b1bb2187"
      },
      "outputs": [
        {
          "output_type": "stream",
          "name": "stderr",
          "text": [
            "100%|██████████| 178/178 [00:07<00:00, 24.42it/s]\n"
          ]
        },
        {
          "output_type": "stream",
          "name": "stdout",
          "text": [
            "125  images extracted from given URL\n"
          ]
        }
      ],
      "source": [
        "query='Cute%cat'\n",
        "key='cutecat'\n",
        "folder=file_path+'/Cat'\n",
        "bing_scrape(query,3,key,folder)"
      ]
    },
    {
      "cell_type": "code",
      "execution_count": 14,
      "metadata": {
        "colab": {
          "base_uri": "https://localhost:8080/"
        },
        "id": "HLnP5ha3he1d",
        "outputId": "3f7004be-ecb5-4277-a0ff-9ac4d9a357cd"
      },
      "outputs": [
        {
          "output_type": "stream",
          "name": "stderr",
          "text": [
            "100%|██████████| 191/191 [00:06<00:00, 28.45it/s]\n"
          ]
        },
        {
          "output_type": "stream",
          "name": "stdout",
          "text": [
            "137  images extracted from given URL\n"
          ]
        }
      ],
      "source": [
        "query='kitten'\n",
        "key='kitten'\n",
        "folder=file_path+'/Cat'\n",
        "bing_scrape(query,3,key,folder)"
      ]
    },
    {
      "cell_type": "markdown",
      "metadata": {
        "id": "e9cv_3aPhe1h"
      },
      "source": [
        "# Fetching images of Pikachu from bing"
      ]
    },
    {
      "cell_type": "code",
      "execution_count": 15,
      "metadata": {
        "colab": {
          "base_uri": "https://localhost:8080/"
        },
        "id": "OPNtgsXshe1i",
        "outputId": "060e89fd-a300-494c-d65d-a0db5110c1b4"
      },
      "outputs": [
        {
          "output_type": "stream",
          "name": "stderr",
          "text": [
            "100%|██████████| 210/210 [00:07<00:00, 28.44it/s]\n"
          ]
        },
        {
          "output_type": "stream",
          "name": "stdout",
          "text": [
            "156  images extracted from given URL\n"
          ]
        }
      ],
      "source": [
        "query='Pikachu'\n",
        "key='pikachu'\n",
        "folder=file_path+'/Pikachu'\n",
        "bing_scrape(query,3,key,folder)"
      ]
    },
    {
      "cell_type": "code",
      "execution_count": 16,
      "metadata": {
        "colab": {
          "base_uri": "https://localhost:8080/"
        },
        "id": "sIiICBhZhe1k",
        "outputId": "e90c8945-46e8-495a-a329-63ba16eb2259"
      },
      "outputs": [
        {
          "output_type": "stream",
          "name": "stderr",
          "text": [
            "100%|██████████| 210/210 [00:06<00:00, 31.53it/s]\n"
          ]
        },
        {
          "output_type": "stream",
          "name": "stdout",
          "text": [
            "156  images extracted from given URL\n"
          ]
        }
      ],
      "source": [
        "query='Pikachu%3D'\n",
        "key='pikachu3d'\n",
        "folder=file_path+'/Pikachu'\n",
        "bing_scrape(query,3,key,folder)"
      ]
    },
    {
      "cell_type": "code",
      "execution_count": 17,
      "metadata": {
        "colab": {
          "base_uri": "https://localhost:8080/"
        },
        "id": "UFmzRMkqhe1l",
        "outputId": "64380d3d-ae7a-4b4c-c899-c76fea5a6ce2"
      },
      "outputs": [
        {
          "output_type": "stream",
          "name": "stderr",
          "text": [
            "100%|██████████| 179/179 [00:05<00:00, 30.48it/s]\n"
          ]
        },
        {
          "output_type": "stream",
          "name": "stdout",
          "text": [
            "118  images extracted from given URL\n"
          ]
        }
      ],
      "source": [
        "query='Cute%Pikachu'\n",
        "key='pikachucute'\n",
        "folder=file_path+'/Pikachu'\n",
        "bing_scrape(query,3,key,folder)"
      ]
    },
    {
      "cell_type": "markdown",
      "metadata": {
        "id": "cD0MsYfThe1n"
      },
      "source": [
        "# Fetching images of Kanye West"
      ]
    },
    {
      "cell_type": "code",
      "execution_count": 18,
      "metadata": {
        "colab": {
          "base_uri": "https://localhost:8080/"
        },
        "id": "YrKO7EwShe1o",
        "outputId": "92242520-77b5-421a-e4a5-62a0d9203486"
      },
      "outputs": [
        {
          "output_type": "stream",
          "name": "stderr",
          "text": [
            "100%|██████████| 167/167 [00:05<00:00, 29.09it/s]\n"
          ]
        },
        {
          "output_type": "stream",
          "name": "stdout",
          "text": [
            "114  images extracted from given URL\n"
          ]
        }
      ],
      "source": [
        "query='Kanye%West%Face'\n",
        "key='face'\n",
        "folder=file_path+'KanyeWest'\n",
        "bing_scrape(query,3,key,folder)"
      ]
    },
    {
      "cell_type": "code",
      "execution_count": 19,
      "metadata": {
        "colab": {
          "base_uri": "https://localhost:8080/"
        },
        "id": "xbRc-X3Dhe1p",
        "outputId": "c6c6c9c4-1329-467e-8087-d3f90c387f10"
      },
      "outputs": [
        {
          "output_type": "stream",
          "name": "stderr",
          "text": [
            "100%|██████████| 239/239 [00:09<00:00, 24.77it/s]\n"
          ]
        },
        {
          "output_type": "stream",
          "name": "stdout",
          "text": [
            "185  images extracted from given URL\n"
          ]
        }
      ],
      "source": [
        "query='Kanye%West%latest'\n",
        "key='latest'\n",
        "folder=file_path+'KanyeWest'\n",
        "bing_scrape(query,3,key,folder)"
      ]
    },
    {
      "cell_type": "code",
      "execution_count": 20,
      "metadata": {
        "colab": {
          "base_uri": "https://localhost:8080/"
        },
        "id": "6HYtHcxnhe1q",
        "outputId": "307c5538-21a3-4643-a2c3-2991c46e0f31"
      },
      "outputs": [
        {
          "output_type": "stream",
          "name": "stderr",
          "text": [
            "100%|██████████| 202/202 [00:06<00:00, 31.01it/s]\n"
          ]
        },
        {
          "output_type": "stream",
          "name": "stdout",
          "text": [
            "149  images extracted from given URL\n"
          ]
        }
      ],
      "source": [
        "query='Kanye%West%Picture'\n",
        "key='picture'\n",
        "folder=file_path+'KanyeWest'\n",
        "bing_scrape(query,3,key,folder)"
      ]
    },
    {
      "cell_type": "markdown",
      "metadata": {
        "id": "XJAj5hoFhe1s"
      },
      "source": [
        "# Using Google Search API to get more images\n"
      ]
    },
    {
      "cell_type": "code",
      "execution_count": 28,
      "metadata": {
        "colab": {
          "base_uri": "https://localhost:8080/"
        },
        "id": "eV0m5IKVhe1t",
        "outputId": "21a18a4b-198a-423b-ffdb-56d87238b661"
      },
      "outputs": [
        {
          "output_type": "stream",
          "name": "stdout",
          "text": [
            "Downloading. . .\n"
          ]
        },
        {
          "output_type": "stream",
          "name": "stderr",
          "text": [
            "100%|██████████| 50/50 [00:18<00:00,  2.65it/s]\n"
          ]
        },
        {
          "output_type": "stream",
          "name": "stdout",
          "text": [
            "50  files downloaded\n"
          ]
        },
        {
          "output_type": "stream",
          "name": "stderr",
          "text": [
            "100%|██████████| 50/50 [00:19<00:00,  2.61it/s]\n"
          ]
        },
        {
          "output_type": "stream",
          "name": "stdout",
          "text": [
            "100  files downloaded\n"
          ]
        },
        {
          "output_type": "stream",
          "name": "stderr",
          "text": [
            "100%|██████████| 50/50 [00:19<00:00,  2.61it/s]"
          ]
        },
        {
          "output_type": "stream",
          "name": "stdout",
          "text": [
            "150  files downloaded\n"
          ]
        },
        {
          "output_type": "stream",
          "name": "stderr",
          "text": [
            "\n"
          ]
        }
      ],
      "source": [
        "query='Kanye west face'\n",
        "key='face'\n",
        "folder=file_path+'KanyeWest'\n",
        "google_scrape(query,3,key,folder)"
      ]
    },
    {
      "cell_type": "code",
      "source": [
        "query='pikachu'\n",
        "key='pikgoogle'\n",
        "folder=file_path+'Pikachu'\n",
        "google_scrape(query,3,key,folder)"
      ],
      "metadata": {
        "colab": {
          "base_uri": "https://localhost:8080/"
        },
        "id": "6L6AMeNknyd-",
        "outputId": "c3a65953-4466-4477-bf88-346e23004551"
      },
      "execution_count": 31,
      "outputs": [
        {
          "output_type": "stream",
          "name": "stdout",
          "text": [
            "Downloading. . .\n"
          ]
        },
        {
          "output_type": "stream",
          "name": "stderr",
          "text": [
            "100%|██████████| 50/50 [00:18<00:00,  2.63it/s]\n"
          ]
        },
        {
          "output_type": "stream",
          "name": "stdout",
          "text": [
            "50  files downloaded\n"
          ]
        },
        {
          "output_type": "stream",
          "name": "stderr",
          "text": [
            "100%|██████████| 49/49 [00:18<00:00,  2.65it/s]\n"
          ]
        },
        {
          "output_type": "stream",
          "name": "stdout",
          "text": [
            "99  files downloaded\n"
          ]
        },
        {
          "output_type": "stream",
          "name": "stderr",
          "text": [
            " 90%|█████████ | 45/50 [00:17<00:01,  2.60it/s]\n"
          ]
        }
      ]
    },
    {
      "cell_type": "code",
      "source": [
        "query='Kitten'\n",
        "key='googlekitten'\n",
        "folder=file_path+'Cat'\n",
        "google_scrape(query,3,key,folder)"
      ],
      "metadata": {
        "colab": {
          "base_uri": "https://localhost:8080/"
        },
        "id": "Nz9xw7Z1n3TG",
        "outputId": "bf8b4241-9ecc-4d86-e717-248503453c4f"
      },
      "execution_count": 32,
      "outputs": [
        {
          "output_type": "stream",
          "name": "stdout",
          "text": [
            "Downloading. . .\n"
          ]
        },
        {
          "output_type": "stream",
          "name": "stderr",
          "text": [
            "100%|██████████| 50/50 [00:19<00:00,  2.59it/s]\n"
          ]
        },
        {
          "output_type": "stream",
          "name": "stdout",
          "text": [
            "50  files downloaded\n"
          ]
        },
        {
          "output_type": "stream",
          "name": "stderr",
          "text": [
            "100%|██████████| 47/47 [00:18<00:00,  2.59it/s]\n"
          ]
        },
        {
          "output_type": "stream",
          "name": "stdout",
          "text": [
            "97  files downloaded\n"
          ]
        },
        {
          "output_type": "stream",
          "name": "stderr",
          "text": [
            " 31%|███       | 15/49 [00:06<00:14,  2.38it/s]\n"
          ]
        }
      ]
    },
    {
      "cell_type": "code",
      "source": [
        ""
      ],
      "metadata": {
        "id": "JjBi5OPLnbV4"
      },
      "execution_count": 25,
      "outputs": []
    }
  ],
  "metadata": {
    "kernelspec": {
      "display_name": "Python 3",
      "language": "python",
      "name": "python3"
    },
    "language_info": {
      "codemirror_mode": {
        "name": "ipython",
        "version": 3
      },
      "file_extension": ".py",
      "mimetype": "text/x-python",
      "name": "python",
      "nbconvert_exporter": "python",
      "pygments_lexer": "ipython3",
      "version": "3.7.3"
    },
    "colab": {
      "name": "Bing and Google Search.ipynb",
      "provenance": []
    }
  },
  "nbformat": 4,
  "nbformat_minor": 0
}