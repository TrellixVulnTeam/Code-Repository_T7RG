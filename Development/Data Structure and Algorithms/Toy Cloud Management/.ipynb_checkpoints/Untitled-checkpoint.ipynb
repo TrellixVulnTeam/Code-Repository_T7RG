{
 "cells": [
  {
   "cell_type": "code",
   "execution_count": 1,
   "id": "8cb37345-5cf5-4ffb-a4fc-a0444c5f4048",
   "metadata": {},
   "outputs": [
    {
     "name": "stdout",
     "output_type": "stream",
     "text": [
      "List size: 2\n",
      "Server Name: s2 \n",
      "Server memory : 200 \n",
      "Server CPU: 2000 \n",
      "Server State: idle\n",
      "Virtual Machines: 0\n",
      "Server Name: s1 \n",
      "Server memory : 10 \n",
      "Server CPU: 1000 \n",
      "Server State: idle\n",
      "Virtual Machines: 0\n",
      "Tail: Server Name: s1 \n",
      "Server memory : 10 \n",
      "Server CPU: 1000 \n",
      "Server State: idle\n",
      "Virtual Machines: 0\n",
      "\n",
      "\n"
     ]
    }
   ],
   "source": [
    "from mycrm import *\n",
    "from myvm import *\n",
    "mc=mycrm()\n",
    "mc.add('s1',1000,10)\n",
    "mc.add('s2',2000,200)\n",
    "print(mc.server_list)"
   ]
  },
  {
   "cell_type": "code",
   "execution_count": 4,
   "id": "d6674737-97a6-445d-b92a-010323b37ded",
   "metadata": {},
   "outputs": [],
   "source": [
    "mc.provision_vm('v2',1,1)"
   ]
  },
  {
   "cell_type": "code",
   "execution_count": 5,
   "id": "f1a451b3-f21c-416b-ba29-00324f126d6f",
   "metadata": {},
   "outputs": [
    {
     "name": "stdout",
     "output_type": "stream",
     "text": [
      "{'stotal': 2, 'sidle': 2, 'sactive': 0, 'sfail': 0, 'sdeleted': 0, 'vtotal': 1, 'vprovision': 1, 'vactive': 0, 'vidle': 0, 'vdeleted': 0}\n"
     ]
    }
   ],
   "source": [
    "print(mc.stats)\n",
    "for i in mc.provision_list:\n",
    "    print(i.name,i.sr.name)"
   ]
  },
  {
   "cell_type": "code",
   "execution_count": 6,
   "id": "2dae3e29-0156-4ed1-b051-63dc5e9425a1",
   "metadata": {},
   "outputs": [
    {
     "name": "stdout",
     "output_type": "stream",
     "text": [
      "v2 s2\n"
     ]
    }
   ],
   "source": [
    "for i in mc.provision_list:\n",
    "    print(i.name,i.sr.name)"
   ]
  },
  {
   "cell_type": "code",
   "execution_count": 8,
   "id": "bb3c3036-d39d-40a2-9b3b-8e90b89e627a",
   "metadata": {},
   "outputs": [],
   "source": [
    "mc.commit_provisioned_vms()"
   ]
  },
  {
   "cell_type": "code",
   "execution_count": 9,
   "id": "ebe32d27-eb46-4bc3-b445-02514ffefa90",
   "metadata": {},
   "outputs": [
    {
     "name": "stdout",
     "output_type": "stream",
     "text": [
      "{'stotal': 2, 'sidle': 1, 'sactive': 1, 'sfail': 0, 'sdeleted': 0, 'vtotal': 1, 'vprovision': 0, 'vactive': 1, 'vidle': 0, 'vdeleted': 0}\n"
     ]
    }
   ],
   "source": [
    "print(mc.stats)\n",
    "for i in mc.provision_list:\n",
    "    print(i.name,i.sr.name)"
   ]
  },
  {
   "cell_type": "code",
   "execution_count": 10,
   "id": "b32c9d2f-bb89-4388-9505-6e457c425311",
   "metadata": {},
   "outputs": [
    {
     "data": {
      "text/plain": [
       "[]"
      ]
     },
     "execution_count": 10,
     "metadata": {},
     "output_type": "execute_result"
    }
   ],
   "source": [
    "mc.get_vms('provision')"
   ]
  },
  {
   "cell_type": "code",
   "execution_count": 12,
   "id": "ada1e650-c520-4199-b9c2-28440658f5d1",
   "metadata": {},
   "outputs": [],
   "source": [
    "mc.provision_vm('v1',1,1)"
   ]
  },
  {
   "cell_type": "code",
   "execution_count": 13,
   "id": "73242c81-e58b-499f-a250-2e55e81a5fe1",
   "metadata": {},
   "outputs": [
    {
     "name": "stdout",
     "output_type": "stream",
     "text": [
      "{'stotal': 2, 'sidle': 1, 'sactive': 1, 'sfail': 0, 'sdeleted': 0, 'vtotal': 2, 'vprovision': 1, 'vactive': 1, 'vidle': 0, 'vdeleted': 0}\n",
      "v1 s2\n"
     ]
    }
   ],
   "source": [
    "print(mc.stats)\n",
    "for i in mc.provision_list:\n",
    "    print(i.name,i.sr.name)"
   ]
  },
  {
   "cell_type": "code",
   "execution_count": 14,
   "id": "19d3a591-dc4d-412a-a00f-99fd9425c337",
   "metadata": {},
   "outputs": [],
   "source": [
    "mc.provision_undo(1)"
   ]
  },
  {
   "cell_type": "code",
   "execution_count": 15,
   "id": "dcfbcc60-2a05-45cd-8899-4a81e492ad7b",
   "metadata": {},
   "outputs": [
    {
     "name": "stdout",
     "output_type": "stream",
     "text": [
      "{'stotal': 2, 'sidle': 1, 'sactive': 1, 'sfail': 0, 'sdeleted': 0, 'vtotal': 1, 'vprovision': 0, 'vactive': 1, 'vidle': 0, 'vdeleted': 1}\n"
     ]
    }
   ],
   "source": [
    "print(mc.stats)\n",
    "for i in mc.provision_list:\n",
    "    print(i.name,i.sr.name)"
   ]
  },
  {
   "cell_type": "code",
   "execution_count": 31,
   "id": "e16d2923-1fb1-40df-ad81-799beccbe232",
   "metadata": {},
   "outputs": [
    {
     "name": "stdout",
     "output_type": "stream",
     "text": [
      "v1\n",
      "v2\n"
     ]
    }
   ],
   "source": [
    "v=0\n",
    "for serv in mc.server_list:\n",
    "    for vms in serv.vl:\n",
    "        if vms.name=='v1':\n",
    "            v=vms\n",
    "        "
   ]
  },
  {
   "cell_type": "code",
   "execution_count": 28,
   "id": "42cc5f84-58f5-466b-9f8e-4455dee9782c",
   "metadata": {},
   "outputs": [
    {
     "data": {
      "text/plain": [
       "[<myvm.myvm at 0x7fa90b404580>, <myvm.myvm at 0x7fa92dc0fee0>]"
      ]
     },
     "execution_count": 28,
     "metadata": {},
     "output_type": "execute_result"
    }
   ],
   "source": [
    "mc.get_vms('any')\n"
   ]
  },
  {
   "cell_type": "code",
   "execution_count": null,
   "id": "0b710f46-0e3d-4fe6-835d-37aa556c51d9",
   "metadata": {},
   "outputs": [],
   "source": []
  },
  {
   "cell_type": "code",
   "execution_count": null,
   "id": "19bf71ac-91ea-47d1-871a-1e6deffb981e",
   "metadata": {},
   "outputs": [],
   "source": []
  },
  {
   "cell_type": "code",
   "execution_count": null,
   "id": "69f8ac96-e3fb-46bf-a036-d7a9f159d145",
   "metadata": {},
   "outputs": [],
   "source": []
  },
  {
   "cell_type": "code",
   "execution_count": 5,
   "id": "5053e687-95bb-4d93-a6a0-24e6ddd32970",
   "metadata": {},
   "outputs": [],
   "source": [
    "a=mc.server.deprovision_vm(vm)"
   ]
  },
  {
   "cell_type": "code",
   "execution_count": 10,
   "id": "604409aa-2d82-4e36-9b8e-7d933c236d45",
   "metadata": {},
   "outputs": [
    {
     "name": "stdout",
     "output_type": "stream",
     "text": [
      "{'stotal': 1, 'sidle': 1, 'sactive': 0, 'sfail': 0, 'sdeleted': 0, 'vtotal': 1, 'vprovision': 1, 'vactive': 0, 'vidle': 0, 'vdeleted': 0}\n"
     ]
    }
   ],
   "source": []
  },
  {
   "cell_type": "code",
   "execution_count": 9,
   "id": "625502fc-8f35-4cb2-8a76-bbf39491033f",
   "metadata": {},
   "outputs": [
    {
     "name": "stdout",
     "output_type": "stream",
     "text": [
      "List size: 0\n",
      "\n",
      "\n",
      "\n",
      "\n"
     ]
    }
   ],
   "source": [
    "for server in mc.server_list:\n",
    "    if server.name=='s1':\n",
    "        print(server.)"
   ]
  },
  {
   "cell_type": "code",
   "execution_count": null,
   "id": "ef40e5fb-8c08-4948-adce-602472946943",
   "metadata": {},
   "outputs": [],
   "source": []
  },
  {
   "cell_type": "code",
   "execution_count": null,
   "id": "204bb2ee-b731-4680-84b2-01ddf9a2d900",
   "metadata": {},
   "outputs": [],
   "source": []
  }
 ],
 "metadata": {
  "kernelspec": {
   "display_name": "Python 3 (ipykernel)",
   "language": "python",
   "name": "python3"
  },
  "language_info": {
   "codemirror_mode": {
    "name": "ipython",
    "version": 3
   },
   "file_extension": ".py",
   "mimetype": "text/x-python",
   "name": "python",
   "nbconvert_exporter": "python",
   "pygments_lexer": "ipython3",
   "version": "3.8.8"
  }
 },
 "nbformat": 4,
 "nbformat_minor": 5
}
