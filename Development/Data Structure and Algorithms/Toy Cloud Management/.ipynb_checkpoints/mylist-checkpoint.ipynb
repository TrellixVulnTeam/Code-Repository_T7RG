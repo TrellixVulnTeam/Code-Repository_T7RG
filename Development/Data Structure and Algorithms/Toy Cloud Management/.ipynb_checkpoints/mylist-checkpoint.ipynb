{
 "cells": [
  {
   "cell_type": "code",
   "execution_count": 1,
   "id": "0f31c913-3fdb-4ba0-a6df-3486c8754a14",
   "metadata": {},
   "outputs": [],
   "source": [
    "from mylist import *"
   ]
  },
  {
   "cell_type": "code",
   "execution_count": 5,
   "id": "37dd5b81-5992-47de-8fbf-eb895e2ffcf4",
   "metadata": {},
   "outputs": [
    {
     "name": "stdout",
     "output_type": "stream",
     "text": [
      "9 999\n",
      "8 998\n",
      "8 998\n"
     ]
    }
   ],
   "source": [
    "l=mylist('list')\n",
    "from mycrm import *\n",
    "from myvm import *\n",
    "mc=mycrm()\n",
    "mc.add('s1',1000,10)\n",
    "mc.provision_vm('v1',1,1)\n",
    "mc.provision_vm('v2',1,1)\n",
    "print('Server details')\n",
    "for serv in mc.server_list:\n",
    "    print(serv.amem,serv.acpu)"
   ]
  },
  {
   "cell_type": "code",
   "execution_count": 3,
   "id": "dce45e1c-5a59-4ad1-ab3e-458e050ae9fa",
   "metadata": {},
   "outputs": [],
   "source": [
    "mc.commit_provisioned_vms()"
   ]
  },
  {
   "cell_type": "code",
   "execution_count": 4,
   "id": "429cec41-210c-4a49-bf78-85d749738d7d",
   "metadata": {},
   "outputs": [
    {
     "name": "stdout",
     "output_type": "stream",
     "text": [
      "v2 active s2\n",
      "v1 provision s2\n"
     ]
    }
   ],
   "source": [
    "for serv in mc.server_list:\n",
    "    for vms in serv.vl:\n",
    "        print(vms.name,vms.state,vms.sr.name)"
   ]
  },
  {
   "cell_type": "code",
   "execution_count": 7,
   "id": "4d320707-129a-4efe-94a4-6e0c1f716a86",
   "metadata": {},
   "outputs": [
    {
     "name": "stdout",
     "output_type": "stream",
     "text": [
      "99\n",
      "9\n",
      "234\n",
      "45\n",
      "466\n",
      "869\n"
     ]
    }
   ],
   "source": [
    "for i in l:\n",
    "    print(i)"
   ]
  },
  {
   "cell_type": "code",
   "execution_count": 8,
   "id": "1d16a292-0a5b-4f63-8d24-914e42bff237",
   "metadata": {},
   "outputs": [
    {
     "name": "stdout",
     "output_type": "stream",
     "text": [
      "List size: 7\n",
      "99\n",
      "9\n",
      "234\n",
      "45\n",
      "466\n",
      "869\n",
      "Tail: 869\n",
      "\n"
     ]
    }
   ],
   "source": [
    "print(l)"
   ]
  },
  {
   "cell_type": "code",
   "execution_count": 250,
   "id": "f9ce690b-b450-456f-84f6-7cff70d299fe",
   "metadata": {},
   "outputs": [
    {
     "data": {
      "text/plain": [
       "99"
      ]
     },
     "execution_count": 250,
     "metadata": {},
     "output_type": "execute_result"
    }
   ],
   "source": [
    "l.iter.obj"
   ]
  },
  {
   "cell_type": "code",
   "execution_count": null,
   "id": "9d4754ed-9cb5-47b2-b9f7-4dd4e0944ce9",
   "metadata": {},
   "outputs": [],
   "source": []
  }
 ],
 "metadata": {
  "kernelspec": {
   "display_name": "Python 3 (ipykernel)",
   "language": "python",
   "name": "python3"
  },
  "language_info": {
   "codemirror_mode": {
    "name": "ipython",
    "version": 3
   },
   "file_extension": ".py",
   "mimetype": "text/x-python",
   "name": "python",
   "nbconvert_exporter": "python",
   "pygments_lexer": "ipython3",
   "version": "3.8.8"
  }
 },
 "nbformat": 4,
 "nbformat_minor": 5
}
