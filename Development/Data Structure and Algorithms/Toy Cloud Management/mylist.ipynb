{
 "cells": [
  {
   "cell_type": "code",
   "execution_count": 16,
   "id": "0f31c913-3fdb-4ba0-a6df-3486c8754a14",
   "metadata": {},
   "outputs": [],
   "source": [
    "from mylist import *"
   ]
  },
  {
   "cell_type": "code",
   "execution_count": 25,
   "id": "37dd5b81-5992-47de-8fbf-eb895e2ffcf4",
   "metadata": {},
   "outputs": [
    {
     "name": "stdout",
     "output_type": "stream",
     "text": [
      "9 980\n",
      "8 960\n",
      "Server details\n",
      "960 8\n"
     ]
    }
   ],
   "source": [
    "l=mylist('list')\n",
    "from mycrm import *\n",
    "from myvm import *\n",
    "mc=mycrm()\n",
    "mc.add('s1',1000,10)\n",
    "mc.provision_vm('v1',20,1)\n",
    "mc.provision_vm('v2',20,1)\n",
    "print('Server details')\n",
    "for serv in mc.server_list:\n",
    "    print(serv.acpu,serv.amem)"
   ]
  },
  {
   "cell_type": "code",
   "execution_count": 26,
   "id": "3e99ab21-18c7-41b0-9686-6ead8232b86c",
   "metadata": {},
   "outputs": [],
   "source": [
    "mc.commit_provisioned_vms()"
   ]
  },
  {
   "cell_type": "code",
   "execution_count": 22,
   "id": "371f9a52-5776-4e58-b3eb-810be5ead02c",
   "metadata": {},
   "outputs": [],
   "source": [
    "mc.provision_undo(1)"
   ]
  },
  {
   "cell_type": "code",
   "execution_count": 27,
   "id": "429cec41-210c-4a49-bf78-85d749738d7d",
   "metadata": {},
   "outputs": [
    {
     "name": "stdout",
     "output_type": "stream",
     "text": [
      "v2 active s1\n",
      "v1 provision s1\n"
     ]
    }
   ],
   "source": [
    "for serv in mc.server_list:\n",
    "    for vms in serv.vl:\n",
    "        print(vms.name,vms.state,vms.sr.name)"
   ]
  },
  {
   "cell_type": "code",
   "execution_count": 24,
   "id": "4d320707-129a-4efe-94a4-6e0c1f716a86",
   "metadata": {},
   "outputs": [
    {
     "name": "stdout",
     "output_type": "stream",
     "text": [
      "v2\n",
      "v1\n"
     ]
    }
   ],
   "source": []
  },
  {
   "cell_type": "code",
   "execution_count": 8,
   "id": "1d16a292-0a5b-4f63-8d24-914e42bff237",
   "metadata": {},
   "outputs": [
    {
     "name": "stdout",
     "output_type": "stream",
     "text": [
      "List size: 7\n",
      "99\n",
      "9\n",
      "234\n",
      "45\n",
      "466\n",
      "869\n",
      "Tail: 869\n",
      "\n"
     ]
    }
   ],
   "source": [
    "print(l)"
   ]
  },
  {
   "cell_type": "code",
   "execution_count": 250,
   "id": "f9ce690b-b450-456f-84f6-7cff70d299fe",
   "metadata": {},
   "outputs": [
    {
     "data": {
      "text/plain": [
       "99"
      ]
     },
     "execution_count": 250,
     "metadata": {},
     "output_type": "execute_result"
    }
   ],
   "source": [
    "l.iter.obj"
   ]
  },
  {
   "cell_type": "code",
   "execution_count": null,
   "id": "9d4754ed-9cb5-47b2-b9f7-4dd4e0944ce9",
   "metadata": {},
   "outputs": [],
   "source": []
  }
 ],
 "metadata": {
  "kernelspec": {
   "display_name": "Python 3 (ipykernel)",
   "language": "python",
   "name": "python3"
  },
  "language_info": {
   "codemirror_mode": {
    "name": "ipython",
    "version": 3
   },
   "file_extension": ".py",
   "mimetype": "text/x-python",
   "name": "python",
   "nbconvert_exporter": "python",
   "pygments_lexer": "ipython3",
   "version": "3.8.8"
  }
 },
 "nbformat": 4,
 "nbformat_minor": 5
}
