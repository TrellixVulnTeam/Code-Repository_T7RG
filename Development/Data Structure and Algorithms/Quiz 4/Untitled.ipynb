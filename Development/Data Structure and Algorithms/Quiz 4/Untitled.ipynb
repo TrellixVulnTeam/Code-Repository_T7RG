{
 "cells": [
  {
   "cell_type": "code",
   "execution_count": 1,
   "id": "a24ebf48-19c0-43ec-973d-e06cad8e9262",
   "metadata": {},
   "outputs": [],
   "source": [
    "from quiz4 import *\n",
    "myl=mylist('stack')\n",
    "mypush(myl,100)\n",
    "mypush(myl,20)\n"
   ]
  },
  {
   "cell_type": "code",
   "execution_count": 2,
   "id": "f1bc0110-4870-4dc9-8fbe-e2c6552937bb",
   "metadata": {},
   "outputs": [
    {
     "data": {
      "text/plain": [
       "20"
      ]
     },
     "execution_count": 2,
     "metadata": {},
     "output_type": "execute_result"
    }
   ],
   "source": [
    "mypeek(myl)"
   ]
  },
  {
   "cell_type": "code",
   "execution_count": 3,
   "id": "5d70935e-564e-4cf4-887a-778239dc56ca",
   "metadata": {},
   "outputs": [],
   "source": []
  },
  {
   "cell_type": "code",
   "execution_count": null,
   "id": "2704eb18-c71e-442f-a521-e1d842658fd4",
   "metadata": {},
   "outputs": [],
   "source": []
  }
 ],
 "metadata": {
  "kernelspec": {
   "display_name": "Python 3 (ipykernel)",
   "language": "python",
   "name": "python3"
  },
  "language_info": {
   "codemirror_mode": {
    "name": "ipython",
    "version": 3
   },
   "file_extension": ".py",
   "mimetype": "text/x-python",
   "name": "python",
   "nbconvert_exporter": "python",
   "pygments_lexer": "ipython3",
   "version": "3.8.8"
  }
 },
 "nbformat": 4,
 "nbformat_minor": 5
}
