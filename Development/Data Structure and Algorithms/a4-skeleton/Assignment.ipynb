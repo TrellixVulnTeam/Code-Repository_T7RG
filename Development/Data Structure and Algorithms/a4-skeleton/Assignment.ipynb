{
 "cells": [
  {
   "cell_type": "code",
   "execution_count": 1,
   "id": "eb78a5a2-43a8-4a78-9571-c9012f451a63",
   "metadata": {},
   "outputs": [],
   "source": [
    "from filetree import *\n",
    "\n",
    "filename='kernel-0.files'\n",
    "tree=convert_input_to_tree(filename)"
   ]
  },
  {
   "cell_type": "code",
   "execution_count": 2,
   "id": "d445d738-be7b-45ed-9d67-fd15a8eed6e7",
   "metadata": {},
   "outputs": [
    {
     "data": {
      "text/plain": [
       "os.stat_result(st_mode=16877, st_ino=2494713, st_dev=76, st_nlink=1, st_uid=1000, st_gid=1000, st_size=140, st_atime=1636943223, st_mtime=1636237426, st_ctime=1636943223)"
      ]
     },
     "execution_count": 2,
     "metadata": {},
     "output_type": "execute_result"
    }
   ],
   "source": [
    "mystat('kernel-0/arch/m32r/boot/compressed')"
   ]
  },
  {
   "cell_type": "code",
   "execution_count": 3,
   "id": "608c5f21-949e-48d1-b88c-3b34032fb0f5",
   "metadata": {},
   "outputs": [
    {
     "data": {
      "text/plain": [
       "os.stat_result(st_mode=33188, st_ino=2494718, st_dev=76, st_nlink=1, st_uid=1000, st_gid=1000, st_size=1367, st_atime=1636943285, st_mtime=1636237426, st_ctime=1636943320)"
      ]
     },
     "execution_count": 3,
     "metadata": {},
     "output_type": "execute_result"
    }
   ],
   "source": [
    "mystat('kernel-0/arch/m32r/boot/compressed/install.sh')"
   ]
  },
  {
   "cell_type": "code",
   "execution_count": 4,
   "id": "96876ab5-9348-4b52-baf4-adf34e99bee4",
   "metadata": {},
   "outputs": [],
   "source": [
    "d=myfile(2494718)\n"
   ]
  },
  {
   "cell_type": "code",
   "execution_count": 5,
   "id": "f1f78299-6782-466b-8409-bb91038bce09",
   "metadata": {},
   "outputs": [
    {
     "data": {
      "text/plain": [
       "'kernel-0/arch/m32r/boot/compressed/install.sh'"
      ]
     },
     "execution_count": 5,
     "metadata": {},
     "output_type": "execute_result"
    }
   ],
   "source": [
    "d.file_path(tree)"
   ]
  },
  {
   "cell_type": "code",
   "execution_count": 6,
   "id": "4d84f317-066f-41cc-8496-c9b64dc4fe8a",
   "metadata": {},
   "outputs": [],
   "source": [
    "dirs=mydir(mystat('kernel-0/arch').st_ino)\n"
   ]
  },
  {
   "cell_type": "code",
   "execution_count": 7,
   "id": "e1d18afc-29bd-4521-8701-9251c769b6d5",
   "metadata": {},
   "outputs": [
    {
     "data": {
      "text/plain": [
       "5581"
      ]
     },
     "execution_count": 7,
     "metadata": {},
     "output_type": "execute_result"
    }
   ],
   "source": [
    "dirs.dir_total_files(tree)"
   ]
  },
  {
   "cell_type": "code",
   "execution_count": 8,
   "id": "944526a3-cfe0-470e-af24-ce0ffb5fcb9a",
   "metadata": {},
   "outputs": [
    {
     "data": {
      "text/plain": [
       "514"
      ]
     },
     "execution_count": 8,
     "metadata": {},
     "output_type": "execute_result"
    }
   ],
   "source": [
    "dirs.dir_total_dirs(tree)"
   ]
  },
  {
   "cell_type": "code",
   "execution_count": 9,
   "id": "c267d495-91da-4938-93f2-69140cc2e68e",
   "metadata": {},
   "outputs": [
    {
     "data": {
      "text/plain": [
       "25"
      ]
     },
     "execution_count": 9,
     "metadata": {},
     "output_type": "execute_result"
    }
   ],
   "source": [
    "5606-5581\n"
   ]
  }
 ],
 "metadata": {
  "kernelspec": {
   "display_name": "Python 3 (ipykernel)",
   "language": "python",
   "name": "python3"
  },
  "language_info": {
   "codemirror_mode": {
    "name": "ipython",
    "version": 3
   },
   "file_extension": ".py",
   "mimetype": "text/x-python",
   "name": "python",
   "nbconvert_exporter": "python",
   "pygments_lexer": "ipython3",
   "version": "3.8.8"
  }
 },
 "nbformat": 4,
 "nbformat_minor": 5
}
