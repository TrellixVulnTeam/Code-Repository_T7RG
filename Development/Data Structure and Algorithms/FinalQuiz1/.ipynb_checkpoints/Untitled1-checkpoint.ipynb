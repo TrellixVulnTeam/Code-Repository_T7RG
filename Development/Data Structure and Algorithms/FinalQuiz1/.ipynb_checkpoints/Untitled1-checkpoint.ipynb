{
 "cells": [
  {
   "cell_type": "code",
   "execution_count": 9,
   "id": "2ee7a060-319d-4627-8bf4-1abae2d6b424",
   "metadata": {},
   "outputs": [],
   "source": [
    "l=[0,1,2,3]"
   ]
  },
  {
   "cell_type": "code",
   "execution_count": 48,
   "id": "a15f4101-2a0f-40b8-ac00-8f534f8a67c2",
   "metadata": {},
   "outputs": [],
   "source": [
    "def bubble_sort(l):\n",
    "    end_pointer=len(l)-1\n",
    "    for i in range(end_pointer,-1,-1):\n",
    "        for j in range(0,i):\n",
    "            if l[j]<=l[j+1]:\n",
    "                temp=l[j]                                                     \n",
    "                l[j]=l[j+1]\n",
    "                l[j+1]=temp\n",
    "    return l\n",
    "\n",
    "def create_set(l):\n",
    "    unique=[]\n",
    "    for element in l:\n",
    "        if element not in unique:\n",
    "            unique.append(element)\n",
    "    return bubble_sort(unique)\n",
    "\n",
    "\n"
   ]
  },
  {
   "cell_type": "code",
   "execution_count": 54,
   "id": "dc78505c-9501-48b1-af7f-a99270dfe346",
   "metadata": {},
   "outputs": [],
   "source": [
    "dictionary={}\n",
    "\n",
    "for i in range(len(l)):\n",
    "    for j in range(i,len(l)):\n",
    "        if i!=j:\n",
    "            dictionary[(l[i],l[j])]=abs(l[i]-l[j])\n",
    "pairs=list(dictionary.keys())\n",
    "values=list(dictionary.values())\n",
    "output=[]\n",
    "for value in create_set(values):\n",
    "    for i in range(len(values)):\n",
    "        if values[i]==value:\n",
    "            output.append(pairs[i])\n"
   ]
  },
  {
   "cell_type": "code",
   "execution_count": 3,
   "id": "abad07b5-7f22-4be8-ab9d-67620b17828e",
   "metadata": {},
   "outputs": [
    {
     "ename": "NameError",
     "evalue": "name 'l' is not defined",
     "output_type": "error",
     "traceback": [
      "\u001b[0;31m---------------------------------------------------------------------------\u001b[0m",
      "\u001b[0;31mNameError\u001b[0m                                 Traceback (most recent call last)",
      "\u001b[0;32m/tmp/ipykernel_19494/3723490112.py\u001b[0m in \u001b[0;36m<module>\u001b[0;34m\u001b[0m\n\u001b[0;32m----> 1\u001b[0;31m \u001b[0ml\u001b[0m\u001b[0;34m\u001b[0m\u001b[0;34m\u001b[0m\u001b[0m\n\u001b[0m",
      "\u001b[0;31mNameError\u001b[0m: name 'l' is not defined"
     ]
    }
   ],
   "source": [
    "l"
   ]
  },
  {
   "cell_type": "code",
   "execution_count": 55,
   "id": "74b7b938-ca69-4099-adf3-7b1724717e87",
   "metadata": {},
   "outputs": [
    {
     "data": {
      "text/plain": [
       "[(0, 1), (1, 2), (2, 3), (0, 2), (1, 3), (0, 3)]"
      ]
     },
     "execution_count": 55,
     "metadata": {},
     "output_type": "execute_result"
    }
   ],
   "source": [
    "output"
   ]
  },
  {
   "cell_type": "code",
   "execution_count": 56,
   "id": "73c9986d-ed88-4e13-b744-a46615eb19c2",
   "metadata": {},
   "outputs": [
    {
     "data": {
      "text/plain": [
       "{(0, 1): 1, (0, 2): 2, (0, 3): 3, (1, 2): 1, (1, 3): 2, (2, 3): 1}"
      ]
     },
     "execution_count": 56,
     "metadata": {},
     "output_type": "execute_result"
    }
   ],
   "source": [
    "dictionary"
   ]
  },
  {
   "cell_type": "code",
   "execution_count": 40,
   "id": "61dffff4-7c24-4319-aa52-1f5e7e9fa5de",
   "metadata": {},
   "outputs": [
    {
     "name": "stdout",
     "output_type": "stream",
     "text": [
      "1\n",
      "2\n",
      "3\n",
      "1\n",
      "2\n",
      "1\n"
     ]
    }
   ],
   "source": [
    "\n",
    "\n",
    "for i in range(len(values)):\n",
    "    if values[i]<=minimum:\n",
    "        "
   ]
  },
  {
   "cell_type": "code",
   "execution_count": 1,
   "id": "0b17398b-980a-433d-9ada-09a812f0c83c",
   "metadata": {},
   "outputs": [],
   "source": [
    "from p2 import *\n"
   ]
  },
  {
   "cell_type": "code",
   "execution_count": 4,
   "id": "b5f83468-8d48-4395-b636-ae232d6305d4",
   "metadata": {},
   "outputs": [
    {
     "data": {
      "text/plain": [
       "[(-9, -6), (-6, 4), (-9, 4)]"
      ]
     },
     "execution_count": 4,
     "metadata": {},
     "output_type": "execute_result"
    }
   ],
   "source": [
    "special_order([-9,-6,4])"
   ]
  },
  {
   "cell_type": "code",
   "execution_count": null,
   "id": "428a6b5d-9ca1-4506-94a3-93b94efb1219",
   "metadata": {},
   "outputs": [],
   "source": []
  }
 ],
 "metadata": {
  "kernelspec": {
   "display_name": "Python 3 (ipykernel)",
   "language": "python",
   "name": "python3"
  },
  "language_info": {
   "codemirror_mode": {
    "name": "ipython",
    "version": 3
   },
   "file_extension": ".py",
   "mimetype": "text/x-python",
   "name": "python",
   "nbconvert_exporter": "python",
   "pygments_lexer": "ipython3",
   "version": "3.8.8"
  }
 },
 "nbformat": 4,
 "nbformat_minor": 5
}
