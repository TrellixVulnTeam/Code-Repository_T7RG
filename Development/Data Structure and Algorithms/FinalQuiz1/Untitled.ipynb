{
 "cells": [
  {
   "cell_type": "code",
   "execution_count": null,
   "id": "c8ecdbfd-16af-42b6-9941-e53b4366ec58",
   "metadata": {},
   "outputs": [],
   "source": [
    "l=[1,2,3,4,5,6,7]"
   ]
  },
  {
   "cell_type": "code",
   "execution_count": null,
   "id": "b8540cb4-48a1-42ec-95ef-b12d879235ab",
   "metadata": {},
   "outputs": [],
   "source": [
    "def inorder_from_bfs(bfslist):\n",
    "    out=[]\n",
    "    position=0\n",
    "    inorder_helper(position,bfslist,out)\n",
    "    return(out)\n",
    "\n",
    "added=[]\n",
    "\n",
    "def inorder_helper(position,l,out):\n",
    "    if (2*position)+2<len(l):\n",
    "        inorder_helper((2*position)+1,l,out)\n",
    "        \n",
    "        if l[(2*position)+1] not in added:\n",
    "            added.append(l[(2*position)+1])\n",
    "            out.append(l[(2*position)+1])\n",
    "        \n",
    "        if l[position] not in added:\n",
    "            out.append(l[position])\n",
    "            added.append(l[position])\n",
    "        \n",
    "        if l[(2*position)+2] not in added:\n",
    "            added.append(l[(2*position)+2])\n",
    "            out.append(l[(2*position)+2])\n",
    "            \n",
    "        inorder_helper((2*position)+2,l,out)\n"
   ]
  },
  {
   "cell_type": "code",
   "execution_count": null,
   "id": "d29c2e7f-e7da-4d86-8055-65b1d90396af",
   "metadata": {},
   "outputs": [
    {
     "data": {
      "text/plain": [
       "7"
      ]
     },
     "execution_count": 160,
     "metadata": {},
     "output_type": "execute_result"
    }
   ],
   "source": [
    "len(l)"
   ]
  },
  {
   "cell_type": "code",
   "execution_count": null,
   "id": "678569fd-505e-46bc-a691-9ac370a06936",
   "metadata": {},
   "outputs": [],
   "source": [
    "def inorder_from_bfs(bfslist):\n",
    "    out=[]\n",
    "    position=0\n",
    "    inorder_helper(position,bfslist,out)\n",
    "    return(out)\n",
    "\n",
    "added=[]\n",
    "\n",
    "def inorder_helper(position,l,out):\n",
    "    if position<len(l):\n",
    "        inorder_helper((2*position)+1,l,out)\n",
    "        out.append(l[position])\n",
    "        inorder_helper((2*position)+2,l,out)\n"
   ]
  },
  {
   "cell_type": "code",
   "execution_count": null,
   "id": "267b7e0c-fd85-4350-af1d-ea098c6e5862",
   "metadata": {},
   "outputs": [
    {
     "data": {
      "text/plain": [
       "[4, 2, 5, 1, 6, 3, 7]"
      ]
     },
     "execution_count": 193,
     "metadata": {},
     "output_type": "execute_result"
    }
   ],
   "source": [
    "inorder_from_bfs(l)"
   ]
  },
  {
   "cell_type": "code",
   "execution_count": 129,
   "id": "a661801f-bbbc-4add-97cd-816941af1956",
   "metadata": {},
   "outputs": [],
   "source": [
    "o=[]\n",
    "o.append([1,2,3])"
   ]
  },
  {
   "cell_type": "code",
   "execution_count": 130,
   "id": "b07b416f-1bfb-495d-9903-74405bf6938f",
   "metadata": {},
   "outputs": [
    {
     "data": {
      "text/plain": [
       "[[1, 2, 3]]"
      ]
     },
     "execution_count": 130,
     "metadata": {},
     "output_type": "execute_result"
    }
   ],
   "source": [
    "o"
   ]
  },
  {
   "cell_type": "code",
   "execution_count": null,
   "id": "f5fb6072-0f16-4b5a-b6b9-5e901d5eb1a0",
   "metadata": {},
   "outputs": [],
   "source": []
  }
 ],
 "metadata": {
  "kernelspec": {
   "display_name": "Python 3 (ipykernel)",
   "language": "python",
   "name": "python3"
  },
  "language_info": {
   "codemirror_mode": {
    "name": "ipython",
    "version": 3
   },
   "file_extension": ".py",
   "mimetype": "text/x-python",
   "name": "python",
   "nbconvert_exporter": "python",
   "pygments_lexer": "ipython3",
   "version": "3.8.8"
  }
 },
 "nbformat": 4,
 "nbformat_minor": 5
}
