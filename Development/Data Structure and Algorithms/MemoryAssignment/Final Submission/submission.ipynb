{
 "cells": [
  {
   "cell_type": "code",
   "execution_count": 6,
   "id": "aa42edd1-52c5-4c50-a026-9da504f7f57e",
   "metadata": {},
   "outputs": [],
   "source": [
    "import mymemory as mymem\n",
    "\n",
    "class myint32:\n",
    "\n",
    "    # implement the init\n",
    "    # self.mymemobj = mymem.getmymemobj()\n",
    "    # self.p = allocate the right space with type as this class name string\n",
    "    # see myclass mem_alloc function\n",
    "    # size is implemented as \"s\" property of the object implement gets\n",
    "    # so that obj.s gives the size of this object.\n",
    "    # value obj.v is implemented as getv and setv property functions\n",
    "\n",
    "    def __init__(self, value):\n",
    "        self.mymemobj = mymem.getmymemobj()\n",
    "        self.value=value\n",
    "        self.size=4\n",
    "        self.p=self.mymemobj.store_int32(value)\n",
    "        \n",
    "# For Getting the value\n",
    "    def getv(self):\n",
    "        return self.value\n",
    "\n",
    "# for setting the value \n",
    "\n",
    "    def setv(self, value):\n",
    "        self.value=value\n",
    "        self.mymemobj.mem_free(self.p,4,'myint32')\n",
    "        self.p=self.mymemobj.store_int32(value,self.p)\n",
    "        \n",
    "# this returns the size of the object\n",
    "\n",
    "    def gets(self):\n",
    "        return self.size\n",
    "\n",
    "# free the memory\n",
    "\n",
    "    def __del__(self):\n",
    "        self.mymemobj.mem_free(self.p,4,'myint32')\n",
    "        \n",
    "    v = property(getv, setv, None, \"I'm the 'value' property.\")\n",
    "    s = property(gets, None, None, \"I'm the 'value' property.\")\n",
    "\n",
    "        \n",
    "# for the value property\n",
    "\n",
    "   "
   ]
  },
  {
   "cell_type": "code",
   "execution_count": 7,
   "id": "3521c2c7-b81c-486b-8435-ab57c06199e9",
   "metadata": {},
   "outputs": [],
   "source": [
    "a=myint32(5)"
   ]
  },
  {
   "cell_type": "code",
   "execution_count": 8,
   "id": "c28709ff-9084-4b4a-833b-939f84976bf8",
   "metadata": {},
   "outputs": [
    {
     "data": {
      "text/plain": [
       "5"
      ]
     },
     "execution_count": 8,
     "metadata": {},
     "output_type": "execute_result"
    }
   ],
   "source": []
  },
  {
   "cell_type": "code",
   "execution_count": 9,
   "id": "ae8eea72-6631-4128-a55c-2a613827c6b3",
   "metadata": {},
   "outputs": [
    {
     "name": "stdout",
     "output_type": "stream",
     "text": [
      "5\n",
      "myint32 init-get PASSED\n",
      "myint32 size test PASSED\n",
      "myint32 set PASSED\n",
      "myint32 set-get PASSED for -10\n",
      "myint32 set-get PASSED for 10\n",
      "myint32_test: done until i: 1000000000\n",
      "myint32_test: done until i: 2000000000\n",
      "myint32_test positive looptest PASSED\n",
      "myint32_test: done until i: -1000000000\n",
      "myint32_test: done until i: -2000000000\n",
      "myint32_test negative looptest PASSED\n"
     ]
    },
    {
     "ename": "NameError",
     "evalue": "name 'mymem_badval' is not defined",
     "output_type": "error",
     "traceback": [
      "\u001b[0;31m---------------------------------------------------------------------------\u001b[0m",
      "\u001b[0;31mmymem_badval\u001b[0m                              Traceback (most recent call last)",
      "\u001b[0;32m/tmp/ipykernel_42257/1335380848.py\u001b[0m in \u001b[0;36m<module>\u001b[0;34m\u001b[0m\n\u001b[1;32m     58\u001b[0m \u001b[0;32mtry\u001b[0m\u001b[0;34m:\u001b[0m\u001b[0;34m\u001b[0m\u001b[0;34m\u001b[0m\u001b[0m\n\u001b[0;32m---> 59\u001b[0;31m     \u001b[0ma\u001b[0m\u001b[0;34m.\u001b[0m\u001b[0mv\u001b[0m\u001b[0;34m=\u001b[0m\u001b[0mpow\u001b[0m\u001b[0;34m(\u001b[0m\u001b[0;36m2\u001b[0m\u001b[0;34m,\u001b[0m\u001b[0;36m31\u001b[0m\u001b[0;34m)\u001b[0m\u001b[0;34m+\u001b[0m\u001b[0;36m2\u001b[0m\u001b[0;34m\u001b[0m\u001b[0;34m\u001b[0m\u001b[0m\n\u001b[0m\u001b[1;32m     60\u001b[0m \u001b[0;32mexcept\u001b[0m \u001b[0mmymem_badval\u001b[0m\u001b[0;34m:\u001b[0m\u001b[0;34m\u001b[0m\u001b[0;34m\u001b[0m\u001b[0m\n",
      "\u001b[0;32m/tmp/ipykernel_42257/1139856071.py\u001b[0m in \u001b[0;36msetv\u001b[0;34m(self, value)\u001b[0m\n\u001b[1;32m     27\u001b[0m         \u001b[0mself\u001b[0m\u001b[0;34m.\u001b[0m\u001b[0mmymemobj\u001b[0m\u001b[0;34m.\u001b[0m\u001b[0mmem_free\u001b[0m\u001b[0;34m(\u001b[0m\u001b[0mself\u001b[0m\u001b[0;34m.\u001b[0m\u001b[0mp\u001b[0m\u001b[0;34m,\u001b[0m\u001b[0;36m4\u001b[0m\u001b[0;34m,\u001b[0m\u001b[0;34m'myint32'\u001b[0m\u001b[0;34m)\u001b[0m\u001b[0;34m\u001b[0m\u001b[0;34m\u001b[0m\u001b[0m\n\u001b[0;32m---> 28\u001b[0;31m         \u001b[0mself\u001b[0m\u001b[0;34m.\u001b[0m\u001b[0mp\u001b[0m\u001b[0;34m=\u001b[0m\u001b[0mself\u001b[0m\u001b[0;34m.\u001b[0m\u001b[0mmymemobj\u001b[0m\u001b[0;34m.\u001b[0m\u001b[0mstore_int32\u001b[0m\u001b[0;34m(\u001b[0m\u001b[0mvalue\u001b[0m\u001b[0;34m,\u001b[0m\u001b[0mself\u001b[0m\u001b[0;34m.\u001b[0m\u001b[0mp\u001b[0m\u001b[0;34m)\u001b[0m\u001b[0;34m\u001b[0m\u001b[0;34m\u001b[0m\u001b[0m\n\u001b[0m\u001b[1;32m     29\u001b[0m \u001b[0;34m\u001b[0m\u001b[0m\n",
      "\u001b[0;32m~/Desktop/Submission/mymemory.py\u001b[0m in \u001b[0;36mstore_int32\u001b[0;34m(self, value, ptr)\u001b[0m\n\u001b[1;32m    333\u001b[0m \u001b[0;31m# returns the value of the int64 at ptr.\u001b[0m\u001b[0;34m\u001b[0m\u001b[0;34m\u001b[0m\u001b[0;34m\u001b[0m\u001b[0m\n\u001b[0;32m--> 334\u001b[0;31m \u001b[0;31m# raises mymem_badval(value) exception if the value overflows on both sides\u001b[0m\u001b[0;34m\u001b[0m\u001b[0;34m\u001b[0m\u001b[0;34m\u001b[0m\u001b[0m\n\u001b[0m\u001b[1;32m    335\u001b[0m \u001b[0;31m# negative or positive. (note this is only possible due to your bug as\u001b[0m\u001b[0;34m\u001b[0m\u001b[0;34m\u001b[0m\u001b[0;34m\u001b[0m\u001b[0m\n",
      "\u001b[0;31mmymem_badval\u001b[0m: 2147483650 -> bad or large value",
      "\nDuring handling of the above exception, another exception occurred:\n",
      "\u001b[0;31mNameError\u001b[0m                                 Traceback (most recent call last)",
      "\u001b[0;32m/tmp/ipykernel_42257/1335380848.py\u001b[0m in \u001b[0;36m<module>\u001b[0;34m\u001b[0m\n\u001b[1;32m     58\u001b[0m \u001b[0;32mtry\u001b[0m\u001b[0;34m:\u001b[0m\u001b[0;34m\u001b[0m\u001b[0;34m\u001b[0m\u001b[0m\n\u001b[1;32m     59\u001b[0m     \u001b[0ma\u001b[0m\u001b[0;34m.\u001b[0m\u001b[0mv\u001b[0m\u001b[0;34m=\u001b[0m\u001b[0mpow\u001b[0m\u001b[0;34m(\u001b[0m\u001b[0;36m2\u001b[0m\u001b[0;34m,\u001b[0m\u001b[0;36m31\u001b[0m\u001b[0;34m)\u001b[0m\u001b[0;34m+\u001b[0m\u001b[0;36m2\u001b[0m\u001b[0;34m\u001b[0m\u001b[0;34m\u001b[0m\u001b[0m\n\u001b[0;32m---> 60\u001b[0;31m \u001b[0;32mexcept\u001b[0m \u001b[0mmymem_badval\u001b[0m\u001b[0;34m:\u001b[0m\u001b[0;34m\u001b[0m\u001b[0;34m\u001b[0m\u001b[0m\n\u001b[0m\u001b[1;32m     61\u001b[0m     \u001b[0mprint\u001b[0m\u001b[0;34m(\u001b[0m\u001b[0;34mf'myint32 positive overflow test passed for {pow(2,31)+2}'\u001b[0m\u001b[0;34m)\u001b[0m\u001b[0;34m\u001b[0m\u001b[0;34m\u001b[0m\u001b[0m\n\u001b[1;32m     62\u001b[0m     \u001b[0mae\u001b[0m\u001b[0;34m=\u001b[0m\u001b[0;36m1\u001b[0m\u001b[0;34m\u001b[0m\u001b[0;34m\u001b[0m\u001b[0m\n",
      "\u001b[0;31mNameError\u001b[0m: name 'mymem_badval' is not defined"
     ]
    }
   ],
   "source": [
    "global mymemobj\n",
    "a=myint32(5)\n",
    "print(a.v)\n",
    "if a.v !=5:\n",
    "    print(\"myint32 init-get FAILED\")\n",
    "    sys.exit(1)\n",
    "else:\n",
    "    print(\"myint32 init-get PASSED\")\n",
    "\n",
    "if a.s != 4:\n",
    "    print(f'myint32 size test FAILED')\n",
    "    sys.exit(1)\n",
    "else:\n",
    "    print(f'myint32 size test PASSED')\n",
    "\n",
    "a.v=6\n",
    "if a.v !=6:\n",
    "    print(\"myint32 set FAILED\")\n",
    "    sys.exit(1)\n",
    "else:\n",
    "    print(\"myint32 set PASSED\")\n",
    "\n",
    "a.v=-10\n",
    "if a.v != -10:\n",
    "    print(\"myint32 set-get FAILED for -10\")\n",
    "    sys.exit(1)\n",
    "else:\n",
    "    print(\"myint32 set-get PASSED for -10\")\n",
    "\n",
    "a.v=10\n",
    "if a.v != 10:\n",
    "    print(\"myint32 set-get FAILED for 10\")\n",
    "    sys.exit(1)\n",
    "else:\n",
    "    print(\"myint32 set-get PASSED for 10\")\n",
    "\n",
    "\n",
    "for i in range(0,pow(2,31)-1,10000):\n",
    "    a.v=i\n",
    "    if a.v != i:\n",
    "        print(f'myint32 set-get FAILED for {i}')\n",
    "        sys.exit(1)\n",
    "    if i and i%1000000000 == 0:\n",
    "        print(f'myint32_test: done until i: {i}')\n",
    "\n",
    "print(f'myint32_test positive looptest PASSED')\n",
    "\n",
    "for i in range(0,pow(2,31)-1,10000):\n",
    "    a.v=-i\n",
    "    if a.v != -i:\n",
    "        print(f'myint32 set-get FAILED for {i}')\n",
    "        sys.exit(1)\n",
    "    if i and i%1000000000  == 0:\n",
    "        print(f'myint32_test: done until i: {-i}')\n",
    "print(f'myint32_test negative looptest PASSED')\n",
    "\n",
    "ae=0\n",
    "try:\n",
    "    a.v=pow(2,31)+2\n",
    "except mymem_badval:\n",
    "    print(f'myint32 positive overflow test passed for {pow(2,31)+2}')\n",
    "    ae=1\n",
    "if ae != 1:\n",
    "    print (f'myint32 got BAD exception for positive overflow should return mymem_badval: FAILED')\n",
    "    sys.exit(1)\n",
    "ae=0\n",
    "try:\n",
    "    a.v=-(pow(2,31)+2)\n",
    "except mymem_badval:\n",
    "    print(f'myint32 negative overflow test passed for {pow(2,31)+2}')\n",
    "    ae=1\n",
    "if ae != 1:\n",
    "    print (f'myint32 got BAD exception for negative overflow should return mymem_badval: FAILED ')\n",
    "    sys.exit(1)\n",
    "\n",
    "# memory allocated and the allocated for this type should be equal\n",
    "# to whatever objects we defined above. when this function returns\n",
    "# they will go out of scope and get freed eventually. \n",
    "# verify that allocated in this print shows up the right values.\n",
    "print(mymemobj)\n"
   ]
  },
  {
   "cell_type": "code",
   "execution_count": 5,
   "id": "430f8d0d-1611-4890-8d83-8a21bf8fe714",
   "metadata": {},
   "outputs": [
    {
     "ename": "NameError",
     "evalue": "name 'mymemobj' is not defined",
     "output_type": "error",
     "traceback": [
      "\u001b[0;31m---------------------------------------------------------------------------\u001b[0m",
      "\u001b[0;31mNameError\u001b[0m                                 Traceback (most recent call last)",
      "\u001b[0;32m/tmp/ipykernel_42257/272360061.py\u001b[0m in \u001b[0;36m<module>\u001b[0;34m\u001b[0m\n\u001b[0;32m----> 1\u001b[0;31m \u001b[0mmymemobj\u001b[0m\u001b[0;34m\u001b[0m\u001b[0;34m\u001b[0m\u001b[0m\n\u001b[0m",
      "\u001b[0;31mNameError\u001b[0m: name 'mymemobj' is not defined"
     ]
    }
   ],
   "source": []
  },
  {
   "cell_type": "code",
   "execution_count": 4,
   "id": "4787e292-819d-44ab-8110-243352e2cc89",
   "metadata": {},
   "outputs": [
    {
     "name": "stdout",
     "output_type": "stream",
     "text": [
      "5\n",
      "myint32 init-get PASSED\n",
      "myint32 size test PASSED\n",
      "myint32 set PASSED\n",
      "myint32 set-get PASSED for -10\n",
      "myint32 set-get PASSED for 10\n",
      "myint32_test: done until i: 1000000000\n",
      "myint32_test: done until i: 2000000000\n",
      "myint32_test positive looptest PASSED\n",
      "myint32_test: done until i: -1000000000\n",
      "myint32_test: done until i: -2000000000\n",
      "myint32_test negative looptest PASSED\n"
     ]
    },
    {
     "ename": "NameError",
     "evalue": "name 'mymem_badval' is not defined",
     "output_type": "error",
     "traceback": [
      "\u001b[0;31m---------------------------------------------------------------------------\u001b[0m",
      "\u001b[0;31mmymem_badval\u001b[0m                              Traceback (most recent call last)",
      "\u001b[0;32m/tmp/ipykernel_42257/2536325552.py\u001b[0m in \u001b[0;36mmyint32_tests\u001b[0;34m()\u001b[0m\n\u001b[1;32m     59\u001b[0m     \u001b[0;32mtry\u001b[0m\u001b[0;34m:\u001b[0m\u001b[0;34m\u001b[0m\u001b[0;34m\u001b[0m\u001b[0m\n\u001b[0;32m---> 60\u001b[0;31m         \u001b[0ma\u001b[0m\u001b[0;34m.\u001b[0m\u001b[0mv\u001b[0m\u001b[0;34m=\u001b[0m\u001b[0mpow\u001b[0m\u001b[0;34m(\u001b[0m\u001b[0;36m2\u001b[0m\u001b[0;34m,\u001b[0m\u001b[0;36m31\u001b[0m\u001b[0;34m)\u001b[0m\u001b[0;34m+\u001b[0m\u001b[0;36m2\u001b[0m\u001b[0;34m\u001b[0m\u001b[0;34m\u001b[0m\u001b[0m\n\u001b[0m\u001b[1;32m     61\u001b[0m     \u001b[0;32mexcept\u001b[0m \u001b[0mmymem_badval\u001b[0m\u001b[0;34m:\u001b[0m\u001b[0;34m\u001b[0m\u001b[0;34m\u001b[0m\u001b[0m\n",
      "\u001b[0;32m/tmp/ipykernel_42257/1139856071.py\u001b[0m in \u001b[0;36msetv\u001b[0;34m(self, value)\u001b[0m\n\u001b[1;32m     27\u001b[0m         \u001b[0mself\u001b[0m\u001b[0;34m.\u001b[0m\u001b[0mmymemobj\u001b[0m\u001b[0;34m.\u001b[0m\u001b[0mmem_free\u001b[0m\u001b[0;34m(\u001b[0m\u001b[0mself\u001b[0m\u001b[0;34m.\u001b[0m\u001b[0mp\u001b[0m\u001b[0;34m,\u001b[0m\u001b[0;36m4\u001b[0m\u001b[0;34m,\u001b[0m\u001b[0;34m'myint32'\u001b[0m\u001b[0;34m)\u001b[0m\u001b[0;34m\u001b[0m\u001b[0;34m\u001b[0m\u001b[0m\n\u001b[0;32m---> 28\u001b[0;31m         \u001b[0mself\u001b[0m\u001b[0;34m.\u001b[0m\u001b[0mp\u001b[0m\u001b[0;34m=\u001b[0m\u001b[0mself\u001b[0m\u001b[0;34m.\u001b[0m\u001b[0mmymemobj\u001b[0m\u001b[0;34m.\u001b[0m\u001b[0mstore_int32\u001b[0m\u001b[0;34m(\u001b[0m\u001b[0mvalue\u001b[0m\u001b[0;34m,\u001b[0m\u001b[0mself\u001b[0m\u001b[0;34m.\u001b[0m\u001b[0mp\u001b[0m\u001b[0;34m)\u001b[0m\u001b[0;34m\u001b[0m\u001b[0;34m\u001b[0m\u001b[0m\n\u001b[0m\u001b[1;32m     29\u001b[0m \u001b[0;34m\u001b[0m\u001b[0m\n",
      "\u001b[0;32m~/Desktop/Submission/mymemory.py\u001b[0m in \u001b[0;36mstore_int32\u001b[0;34m(self, value, ptr)\u001b[0m\n\u001b[1;32m    333\u001b[0m             \u001b[0;32melse\u001b[0m\u001b[0;34m:\u001b[0m\u001b[0;34m\u001b[0m\u001b[0;34m\u001b[0m\u001b[0m\n\u001b[0;32m--> 334\u001b[0;31m                 \u001b[0;32mraise\u001b[0m \u001b[0mmymem_badval\u001b[0m\u001b[0;34m(\u001b[0m\u001b[0mvalue\u001b[0m\u001b[0;34m)\u001b[0m\u001b[0;34m\u001b[0m\u001b[0;34m\u001b[0m\u001b[0m\n\u001b[0m\u001b[1;32m    335\u001b[0m \u001b[0;34m\u001b[0m\u001b[0m\n",
      "\u001b[0;31mmymem_badval\u001b[0m: 2147483650 -> bad or large value",
      "\nDuring handling of the above exception, another exception occurred:\n",
      "\u001b[0;31mNameError\u001b[0m                                 Traceback (most recent call last)",
      "\u001b[0;32m/tmp/ipykernel_42257/71659694.py\u001b[0m in \u001b[0;36m<module>\u001b[0;34m\u001b[0m\n\u001b[0;32m----> 1\u001b[0;31m \u001b[0mmyint32_tests\u001b[0m\u001b[0;34m(\u001b[0m\u001b[0;34m)\u001b[0m\u001b[0;34m\u001b[0m\u001b[0;34m\u001b[0m\u001b[0m\n\u001b[0m",
      "\u001b[0;32m/tmp/ipykernel_42257/2536325552.py\u001b[0m in \u001b[0;36mmyint32_tests\u001b[0;34m()\u001b[0m\n\u001b[1;32m     59\u001b[0m     \u001b[0;32mtry\u001b[0m\u001b[0;34m:\u001b[0m\u001b[0;34m\u001b[0m\u001b[0;34m\u001b[0m\u001b[0m\n\u001b[1;32m     60\u001b[0m         \u001b[0ma\u001b[0m\u001b[0;34m.\u001b[0m\u001b[0mv\u001b[0m\u001b[0;34m=\u001b[0m\u001b[0mpow\u001b[0m\u001b[0;34m(\u001b[0m\u001b[0;36m2\u001b[0m\u001b[0;34m,\u001b[0m\u001b[0;36m31\u001b[0m\u001b[0;34m)\u001b[0m\u001b[0;34m+\u001b[0m\u001b[0;36m2\u001b[0m\u001b[0;34m\u001b[0m\u001b[0;34m\u001b[0m\u001b[0m\n\u001b[0;32m---> 61\u001b[0;31m     \u001b[0;32mexcept\u001b[0m \u001b[0mmymem_badval\u001b[0m\u001b[0;34m:\u001b[0m\u001b[0;34m\u001b[0m\u001b[0;34m\u001b[0m\u001b[0m\n\u001b[0m\u001b[1;32m     62\u001b[0m         \u001b[0mprint\u001b[0m\u001b[0;34m(\u001b[0m\u001b[0;34mf'myint32 positive overflow test passed for {pow(2,31)+2}'\u001b[0m\u001b[0;34m)\u001b[0m\u001b[0;34m\u001b[0m\u001b[0;34m\u001b[0m\u001b[0m\n\u001b[1;32m     63\u001b[0m         \u001b[0mae\u001b[0m\u001b[0;34m=\u001b[0m\u001b[0;36m1\u001b[0m\u001b[0;34m\u001b[0m\u001b[0;34m\u001b[0m\u001b[0m\n",
      "\u001b[0;31mNameError\u001b[0m: name 'mymem_badval' is not defined"
     ]
    }
   ],
   "source": [
    "myint32_tests()"
   ]
  },
  {
   "cell_type": "code",
   "execution_count": 6,
   "id": "f1f62080-edc9-42ac-babc-34aed3db8ccd",
   "metadata": {},
   "outputs": [
    {
     "name": "stdout",
     "output_type": "stream",
     "text": [
      "memtotal: 1024 allocated: 4 free: 1020\n",
      "membyalloctypes: {'mybyte': 0, 'mybool': 0, 'myint32': 4, 'myint64': 0, 'mystr': 0, 'myint32_array': 0, 'myint64_array': 0}\n",
      "start: 0xfffffffc00000000 end: 0xfffffffc00000400 current: 0xfffffffc00000000\n"
     ]
    }
   ],
   "source": [
    "print(a.mymemobjem"
   ]
  },
  {
   "cell_type": "code",
   "execution_count": null,
   "id": "83a56c17-1fbd-4c60-9477-23e3be3a3080",
   "metadata": {},
   "outputs": [],
   "source": []
  },
  {
   "cell_type": "code",
   "execution_count": null,
   "id": "6862ea7e-9c37-42d8-9782-21ad21a2e1f2",
   "metadata": {},
   "outputs": [],
   "source": []
  }
 ],
 "metadata": {
  "kernelspec": {
   "display_name": "Python 3 (ipykernel)",
   "language": "python",
   "name": "python3"
  },
  "language_info": {
   "codemirror_mode": {
    "name": "ipython",
    "version": 3
   },
   "file_extension": ".py",
   "mimetype": "text/x-python",
   "name": "python",
   "nbconvert_exporter": "python",
   "pygments_lexer": "ipython3",
   "version": "3.8.8"
  }
 },
 "nbformat": 4,
 "nbformat_minor": 5
}
