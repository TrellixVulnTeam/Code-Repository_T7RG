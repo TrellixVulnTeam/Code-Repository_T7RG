{
 "cells": [
  {
   "cell_type": "markdown",
   "id": "5c6ce491-1a35-4a42-ac45-1a827dab05a6",
   "metadata": {},
   "source": [
    "# Defining the objcmp and objvalcmp functions"
   ]
  },
  {
   "cell_type": "code",
   "execution_count": 1,
   "id": "47c04813-9ec4-405f-a4e0-a633335532ba",
   "metadata": {},
   "outputs": [],
   "source": [
    "def objcmp(obj1,obj2):\n",
    "    return myfile_cmp(obj1,obj2)"
   ]
  },
  {
   "cell_type": "code",
   "execution_count": 2,
   "id": "52bf4563-5ce4-49bc-82ac-06693a7badcb",
   "metadata": {},
   "outputs": [],
   "source": [
    "def objvalcmp(obj1,obj2):\n",
    "    if obj1.file_size()==obj2.file_size():\n",
    "        return 0\n",
    "    elif obj1.file_size()>obj2.file_size():\n",
    "        return -1\n",
    "    elif obj1.file_size()<obj2.file_size():\n",
    "        return 1"
   ]
  },
  {
   "cell_type": "code",
   "execution_count": 3,
   "id": "0195e890-f30b-41c7-9b90-78a7f6fccf15",
   "metadata": {},
   "outputs": [],
   "source": [
    "def valcmp(val,obj):\n",
    "    return myfile_val_cmp(val,obj)\n",
    "    "
   ]
  },
  {
   "cell_type": "code",
   "execution_count": 4,
   "id": "3bc96da2-a105-49ef-9580-d979b7d8b2d5",
   "metadata": {},
   "outputs": [],
   "source": [
    "from filetree import *\n",
    "\n",
    "filename='kernel-1.files'\n",
    "tree=convert_input_to_tree(filename)\n",
    "# tree.print_tree(tree.root)"
   ]
  },
  {
   "cell_type": "code",
   "execution_count": 5,
   "id": "90c173f3-ac45-4ef6-815a-069c85e6b453",
   "metadata": {},
   "outputs": [
    {
     "data": {
      "text/plain": [
       "<mylist.mylist at 0x7fbf5876e4c0>"
      ]
     },
     "execution_count": 5,
     "metadata": {},
     "output_type": "execute_result"
    }
   ],
   "source": [
    "tree.root.child_list"
   ]
  },
  {
   "cell_type": "code",
   "execution_count": 6,
   "id": "24f42e21-6239-4ea3-a4b9-cbcdf010ae5c",
   "metadata": {
    "tags": []
   },
   "outputs": [],
   "source": [
    "a=tree.tree_to_list(tree.root)\n"
   ]
  },
  {
   "cell_type": "code",
   "execution_count": 7,
   "id": "ac9631d0-22c2-4491-b88a-ac971e1ff924",
   "metadata": {},
   "outputs": [
    {
     "name": "stdout",
     "output_type": "stream",
     "text": [
      "File Name: mkbb.c\n",
      "File Name: objstrip.c\n",
      "File Name: bootloader.lds\n",
      "File Name: bootp.c\n",
      "File Name: bootpz.c\n",
      "File Name: head.S\n",
      "File Name: main.c\n",
      "File Name: Makefile\n",
      "File Name: misc.c\n",
      "Folder Name: tools\n",
      "File Name: alpha_ksyms.c\n",
      "File Name: asm-offsets.c\n",
      "File Name: console.c\n",
      "File Name: core_apecs.c\n",
      "File Name: core_cia.c\n",
      "Folder Name: boot\n",
      "File Name: defconfig\n",
      "File Name: Kconfig\n",
      "File Name: Kconfig.debug\n",
      "Folder Name: kernel\n",
      "Folder Name: alpha\n",
      "Folder Name: arch\n",
      "Node : kernel-0 Parent : Root Node\n"
     ]
    }
   ],
   "source": [
    "l=[]\n",
    "for element in a:\n",
    "    l.append(element)\n",
    "    print(element)"
   ]
  },
  {
   "cell_type": "markdown",
   "id": "af4fbbee-c025-4c8e-b516-484f9b9bf8cc",
   "metadata": {},
   "source": [
    "\n",
    "# Creating a binary tree ( Works )"
   ]
  },
  {
   "cell_type": "code",
   "execution_count": 8,
   "id": "591a056b-ab01-4dc7-9050-00eb7c6ea3ec",
   "metadata": {},
   "outputs": [],
   "source": [
    "from bintree import *"
   ]
  },
  {
   "cell_type": "code",
   "execution_count": 9,
   "id": "cfa21c90-9225-4fe8-95e6-b115922e5fb2",
   "metadata": {},
   "outputs": [],
   "source": [
    "tree=mybintree(None)"
   ]
  },
  {
   "cell_type": "code",
   "execution_count": 10,
   "id": "54a1f31e-307f-4f6a-9fdf-7d59f045518f",
   "metadata": {},
   "outputs": [],
   "source": [
    "for i in range(0,22):\n",
    "    tree.insert(l[i],objcmp,objvalcmp)"
   ]
  },
  {
   "cell_type": "code",
   "execution_count": 11,
   "id": "c8278c9b-7dce-4eb1-a983-d4b66001084c",
   "metadata": {},
   "outputs": [
    {
     "name": "stdout",
     "output_type": "stream",
     "text": [
      "List size: 1\n",
      "File Name: objstrip.c\n",
      "Tail: File Name: objstrip.c\n",
      "\n",
      "\n"
     ]
    }
   ],
   "source": [
    "print(tree.root.right.obj_list)"
   ]
  },
  {
   "cell_type": "code",
   "execution_count": 12,
   "id": "f034bdd4-1620-4277-9c7e-c0c4ecae52a7",
   "metadata": {},
   "outputs": [
    {
     "data": {
      "text/plain": [
       "['.nodetest.py.swp',\n",
       " '.bintree.py.swp',\n",
       " '.bintree.py.swm',\n",
       " '.bintree.py.swl',\n",
       " 'bintreeSession.py',\n",
       " 'stat.json',\n",
       " '.bintree.py.swo',\n",
       " 'binarytree.ipynb',\n",
       " 'jupyter_helpe.ipynb',\n",
       " '__pycache__',\n",
       " 'filetree.py',\n",
       " 'mystat.py',\n",
       " 'mylist.py',\n",
       " 'kernel-1.files',\n",
       " '.ipynb_checkpoints',\n",
       " 'bintree.py',\n",
       " 'test.ipynb',\n",
       " '.bintree.py.swn',\n",
       " 'kernel-0.files']"
      ]
     },
     "execution_count": 12,
     "metadata": {},
     "output_type": "execute_result"
    }
   ],
   "source": [
    "os.listdir()"
   ]
  },
  {
   "cell_type": "code",
   "execution_count": 13,
   "id": "29b297de-5a7b-4982-91b7-adcd8c7d929d",
   "metadata": {},
   "outputs": [
    {
     "data": {
      "text/plain": [
       "True"
      ]
     },
     "execution_count": 13,
     "metadata": {},
     "output_type": "execute_result"
    }
   ],
   "source": [
    "tree.search_tree(l[5],objcmp,objvalcmp)"
   ]
  },
  {
   "cell_type": "code",
   "execution_count": 14,
   "id": "722fda31-5a11-4853-ab4d-9cf34f3195df",
   "metadata": {},
   "outputs": [
    {
     "name": "stdout",
     "output_type": "stream",
     "text": [
      "Parent 3536\n",
      "Left: 501 Right: 6105\n",
      "\n",
      "\n",
      "Parent 501\n",
      "Left: 32 Right: 1809\n",
      "\n",
      "\n",
      "Parent 32\n",
      "Right: 120\n",
      "\n",
      "\n",
      "Parent 120\n",
      "Right: 136\n",
      "\n",
      "\n",
      "Parent 136\n",
      "Right: 230\n",
      "\n",
      "\n",
      "Parent 230\n",
      "\n",
      "\n",
      "Parent 1809\n",
      "Left: 1506 Right: 2938\n",
      "\n",
      "\n",
      "Parent 1506\n",
      "Left: 1504 Right: 1572\n",
      "\n",
      "\n",
      "Parent 1504\n",
      "\n",
      "\n",
      "Parent 1572\n",
      "\n",
      "\n",
      "Parent 2938\n",
      "Left: 2006 \n",
      "\n",
      "Parent 2006\n",
      "\n",
      "\n",
      "Parent 6105\n",
      "Left: 5689 Right: 13299\n",
      "\n",
      "\n",
      "Parent 5689\n",
      "Left: 4361 \n",
      "\n",
      "Parent 4361\n",
      "Left: 3571 Right: 5141\n",
      "\n",
      "\n",
      "Parent 3571\n",
      "\n",
      "\n",
      "Parent 5141\n",
      "\n",
      "\n",
      "Parent 13299\n",
      "Left: 10176 Right: 33365\n",
      "\n",
      "\n",
      "Parent 10176\n",
      "\n",
      "\n",
      "Parent 33365\n",
      "Left: 20447 \n",
      "\n",
      "Parent 20447\n",
      "Left: 18978 \n",
      "\n",
      "Parent 18978\n",
      "\n",
      "\n"
     ]
    }
   ],
   "source": [
    "tree.dump1(tree.root)"
   ]
  },
  {
   "cell_type": "code",
   "execution_count": 15,
   "id": "3de44408-75fa-49df-92b8-8fcc740b78df",
   "metadata": {},
   "outputs": [],
   "source": [
    "# Adding a duplicate element to see if the obj list is getting appended"
   ]
  },
  {
   "cell_type": "code",
   "execution_count": 16,
   "id": "79a34b7a-b6a9-47a2-b360-305977df7119",
   "metadata": {
    "tags": []
   },
   "outputs": [
    {
     "data": {
      "text/plain": [
       "5"
      ]
     },
     "execution_count": 16,
     "metadata": {},
     "output_type": "execute_result"
    }
   ],
   "source": [
    "#Height Test\n",
    "tree.height()"
   ]
  },
  {
   "cell_type": "code",
   "execution_count": 17,
   "id": "962ecb13-d27f-4708-a7c1-b806e9a8828a",
   "metadata": {},
   "outputs": [
    {
     "data": {
      "text/plain": [
       "4"
      ]
     },
     "execution_count": 17,
     "metadata": {},
     "output_type": "execute_result"
    }
   ],
   "source": [
    "# Count from node ytest\n",
    "tree.count_from_node(tree.root.left.left)"
   ]
  },
  {
   "cell_type": "code",
   "execution_count": 18,
   "id": "2281107f-9125-4c2e-9ff0-a54f4321b47a",
   "metadata": {},
   "outputs": [
    {
     "data": {
      "text/plain": [
       "22"
      ]
     },
     "execution_count": 18,
     "metadata": {},
     "output_type": "execute_result"
    }
   ],
   "source": [
    "# Count test\n",
    "tree.count()"
   ]
  },
  {
   "cell_type": "code",
   "execution_count": 19,
   "id": "b1da262e-1665-4911-b655-ccf19b547f03",
   "metadata": {},
   "outputs": [
    {
     "data": {
      "text/plain": [
       "12"
      ]
     },
     "execution_count": 19,
     "metadata": {},
     "output_type": "execute_result"
    }
   ],
   "source": [
    "#leq test\n",
    "\n",
    "tree.count_leq(3536,valcmp)"
   ]
  },
  {
   "cell_type": "code",
   "execution_count": 20,
   "id": "36407375-3708-49f4-b812-e750d6061656",
   "metadata": {},
   "outputs": [
    {
     "data": {
      "text/plain": [
       "7.333333333333333"
      ]
     },
     "execution_count": 20,
     "metadata": {},
     "output_type": "execute_result"
    }
   ],
   "source": [
    "# Sorted tree\n",
    "\n",
    "l=sorted_bintree(tree)\n",
    "l.size/3"
   ]
  },
  {
   "cell_type": "code",
   "execution_count": 21,
   "id": "bae1c9f6-7c48-4330-8303-46fe39b5e38e",
   "metadata": {},
   "outputs": [
    {
     "name": "stdout",
     "output_type": "stream",
     "text": [
      "32\n",
      "120\n",
      "136\n",
      "230\n",
      "501\n",
      "1504\n",
      "1506\n",
      "1572\n",
      "1809\n",
      "2006\n",
      "2938\n",
      "3536\n",
      "3571\n",
      "4361\n",
      "5141\n",
      "5689\n",
      "6105\n",
      "10176\n",
      "13299\n",
      "18978\n",
      "20447\n",
      "33365\n"
     ]
    }
   ],
   "source": [
    "for i in l:\n",
    "    print(i.size)"
   ]
  },
  {
   "cell_type": "code",
   "execution_count": null,
   "id": "2c5d7e6d-86a7-4a54-8ce3-f788c6201998",
   "metadata": {},
   "outputs": [],
   "source": []
  },
  {
   "cell_type": "code",
   "execution_count": 22,
   "id": "f0fd8251-b93a-4fc0-80a0-9906404c9815",
   "metadata": {},
   "outputs": [
    {
     "name": "stdout",
     "output_type": "stream",
     "text": [
      "List size: 1\n",
      "File Name: mkbb.c\n",
      "Tail: File Name: mkbb.c\n",
      "\n",
      "\n"
     ]
    }
   ],
   "source": [
    "print(tree.root.obj_list)"
   ]
  },
  {
   "cell_type": "code",
   "execution_count": 23,
   "id": "43bb093b-c839-4e35-8004-65a24e796556",
   "metadata": {},
   "outputs": [
    {
     "data": {
      "text/plain": [
       "<mylist.mylist at 0x7f89d52aaee0>"
      ]
     },
     "execution_count": 23,
     "metadata": {},
     "output_type": "execute_result"
    }
   ],
   "source": [
    "sorted_bintree(tree)"
   ]
  },
  {
   "cell_type": "code",
   "execution_count": 24,
   "id": "3ef5fb81-80c1-49fe-bbf6-534304990aac",
   "metadata": {},
   "outputs": [
    {
     "name": "stdout",
     "output_type": "stream",
     "text": [
      "List size: 1\n",
      "File Name: objstrip.c\n",
      "Tail: File Name: objstrip.c\n",
      "\n",
      "\n"
     ]
    }
   ],
   "source": [
    "print(tree.root.right.obj_list)"
   ]
  },
  {
   "cell_type": "code",
   "execution_count": 25,
   "id": "22d9bef2-f50a-4726-be7f-3e4b83b78f20",
   "metadata": {},
   "outputs": [
    {
     "data": {
      "text/plain": [
       "'mkbb.c'"
      ]
     },
     "execution_count": 25,
     "metadata": {},
     "output_type": "execute_result"
    }
   ],
   "source": [
    "tree.root.first().name"
   ]
  },
  {
   "cell_type": "code",
   "execution_count": 26,
   "id": "0273921f-4651-49d9-a710-60aec09255b9",
   "metadata": {},
   "outputs": [
    {
     "name": "stdout",
     "output_type": "stream",
     "text": [
      "List size: 1\n",
      "File Name: mkbb.c\n",
      "Tail: File Name: mkbb.c\n",
      "\n",
      "\n"
     ]
    }
   ],
   "source": [
    "print(tree.root.obj_list)"
   ]
  },
  {
   "cell_type": "code",
   "execution_count": null,
   "id": "62386c8a-c4ec-41d0-a5be-63a2b6ad0bf5",
   "metadata": {},
   "outputs": [],
   "source": []
  },
  {
   "cell_type": "code",
   "execution_count": null,
   "id": "bb0e937d-264a-4dac-aaac-1c2b8611793c",
   "metadata": {},
   "outputs": [],
   "source": []
  },
  {
   "cell_type": "code",
   "execution_count": null,
   "id": "ec50f839-ae2d-45ff-bc15-31e37f48b577",
   "metadata": {},
   "outputs": [],
   "source": []
  },
  {
   "cell_type": "code",
   "execution_count": null,
   "id": "4d5710b3-6bf3-4be2-8b1f-daaff0607df4",
   "metadata": {},
   "outputs": [],
   "source": []
  },
  {
   "cell_type": "code",
   "execution_count": 27,
   "id": "ddcc04f4-2b55-4c00-ade3-b00281642387",
   "metadata": {},
   "outputs": [
    {
     "name": "stdout",
     "output_type": "stream",
     "text": [
      "File Name: mkbb.c\n",
      "File Name: objstrip.c\n",
      "File Name: bootloader.lds\n",
      "File Name: bootp.c\n",
      "File Name: bootpz.c\n",
      "File Name: head.S\n",
      "File Name: main.c\n",
      "File Name: Makefile\n",
      "File Name: misc.c\n",
      "Folder Name: tools\n",
      "File Name: alpha_ksyms.c\n",
      "File Name: asm-offsets.c\n",
      "File Name: console.c\n",
      "File Name: core_apecs.c\n",
      "File Name: core_cia.c\n",
      "Folder Name: boot\n",
      "File Name: defconfig\n",
      "File Name: Kconfig\n",
      "File Name: Kconfig.debug\n",
      "Folder Name: kernel\n",
      "Folder Name: alpha\n",
      "Folder Name: arch\n",
      "Node : kernel-0 Parent : Root Node\n"
     ]
    }
   ],
   "source": [
    "for element in a:\n",
    "    print(element,)"
   ]
  },
  {
   "cell_type": "code",
   "execution_count": 28,
   "id": "c50cd7d6-9094-4615-a402-5d9bef5e96e5",
   "metadata": {},
   "outputs": [],
   "source": [
    "def preorder(tree):\n",
    "    preorder_helper(tree.root)\n",
    "def preorder_helper(node):\n",
    "    print(node.child_list)\n",
    "    for child in node.child_list():\n",
    "        print(child)\n",
    "    for child in node.child_list():\n",
    "        preorder_helper(child)"
   ]
  },
  {
   "cell_type": "code",
   "execution_count": 29,
   "id": "3324a98f-1107-49cd-a1c4-2a4dd4bb1916",
   "metadata": {},
   "outputs": [
    {
     "ename": "AttributeError",
     "evalue": "'mybnode' object has no attribute 'child_list'",
     "output_type": "error",
     "traceback": [
      "\u001b[0;31m---------------------------------------------------------------------------\u001b[0m",
      "\u001b[0;31mAttributeError\u001b[0m                            Traceback (most recent call last)",
      "\u001b[0;32m/tmp/ipykernel_36783/1998088932.py\u001b[0m in \u001b[0;36m<module>\u001b[0;34m\u001b[0m\n\u001b[0;32m----> 1\u001b[0;31m \u001b[0mpreorder\u001b[0m\u001b[0;34m(\u001b[0m\u001b[0mtree\u001b[0m\u001b[0;34m)\u001b[0m\u001b[0;34m\u001b[0m\u001b[0;34m\u001b[0m\u001b[0m\n\u001b[0m",
      "\u001b[0;32m/tmp/ipykernel_36783/636683100.py\u001b[0m in \u001b[0;36mpreorder\u001b[0;34m(tree)\u001b[0m\n\u001b[1;32m      1\u001b[0m \u001b[0;32mdef\u001b[0m \u001b[0mpreorder\u001b[0m\u001b[0;34m(\u001b[0m\u001b[0mtree\u001b[0m\u001b[0;34m)\u001b[0m\u001b[0;34m:\u001b[0m\u001b[0;34m\u001b[0m\u001b[0;34m\u001b[0m\u001b[0m\n\u001b[0;32m----> 2\u001b[0;31m     \u001b[0mpreorder_helper\u001b[0m\u001b[0;34m(\u001b[0m\u001b[0mtree\u001b[0m\u001b[0;34m.\u001b[0m\u001b[0mroot\u001b[0m\u001b[0;34m)\u001b[0m\u001b[0;34m\u001b[0m\u001b[0;34m\u001b[0m\u001b[0m\n\u001b[0m\u001b[1;32m      3\u001b[0m \u001b[0;32mdef\u001b[0m \u001b[0mpreorder_helper\u001b[0m\u001b[0;34m(\u001b[0m\u001b[0mnode\u001b[0m\u001b[0;34m)\u001b[0m\u001b[0;34m:\u001b[0m\u001b[0;34m\u001b[0m\u001b[0;34m\u001b[0m\u001b[0m\n\u001b[1;32m      4\u001b[0m     \u001b[0mprint\u001b[0m\u001b[0;34m(\u001b[0m\u001b[0mnode\u001b[0m\u001b[0;34m.\u001b[0m\u001b[0mchild_list\u001b[0m\u001b[0;34m)\u001b[0m\u001b[0;34m\u001b[0m\u001b[0;34m\u001b[0m\u001b[0m\n\u001b[1;32m      5\u001b[0m     \u001b[0;32mfor\u001b[0m \u001b[0mchild\u001b[0m \u001b[0;32min\u001b[0m \u001b[0mnode\u001b[0m\u001b[0;34m.\u001b[0m\u001b[0mchild_list\u001b[0m\u001b[0;34m(\u001b[0m\u001b[0;34m)\u001b[0m\u001b[0;34m:\u001b[0m\u001b[0;34m\u001b[0m\u001b[0;34m\u001b[0m\u001b[0m\n",
      "\u001b[0;32m/tmp/ipykernel_36783/636683100.py\u001b[0m in \u001b[0;36mpreorder_helper\u001b[0;34m(node)\u001b[0m\n\u001b[1;32m      2\u001b[0m     \u001b[0mpreorder_helper\u001b[0m\u001b[0;34m(\u001b[0m\u001b[0mtree\u001b[0m\u001b[0;34m.\u001b[0m\u001b[0mroot\u001b[0m\u001b[0;34m)\u001b[0m\u001b[0;34m\u001b[0m\u001b[0;34m\u001b[0m\u001b[0m\n\u001b[1;32m      3\u001b[0m \u001b[0;32mdef\u001b[0m \u001b[0mpreorder_helper\u001b[0m\u001b[0;34m(\u001b[0m\u001b[0mnode\u001b[0m\u001b[0;34m)\u001b[0m\u001b[0;34m:\u001b[0m\u001b[0;34m\u001b[0m\u001b[0;34m\u001b[0m\u001b[0m\n\u001b[0;32m----> 4\u001b[0;31m     \u001b[0mprint\u001b[0m\u001b[0;34m(\u001b[0m\u001b[0mnode\u001b[0m\u001b[0;34m.\u001b[0m\u001b[0mchild_list\u001b[0m\u001b[0;34m)\u001b[0m\u001b[0;34m\u001b[0m\u001b[0;34m\u001b[0m\u001b[0m\n\u001b[0m\u001b[1;32m      5\u001b[0m     \u001b[0;32mfor\u001b[0m \u001b[0mchild\u001b[0m \u001b[0;32min\u001b[0m \u001b[0mnode\u001b[0m\u001b[0;34m.\u001b[0m\u001b[0mchild_list\u001b[0m\u001b[0;34m(\u001b[0m\u001b[0;34m)\u001b[0m\u001b[0;34m:\u001b[0m\u001b[0;34m\u001b[0m\u001b[0;34m\u001b[0m\u001b[0m\n\u001b[1;32m      6\u001b[0m         \u001b[0mprint\u001b[0m\u001b[0;34m(\u001b[0m\u001b[0mchild\u001b[0m\u001b[0;34m)\u001b[0m\u001b[0;34m\u001b[0m\u001b[0;34m\u001b[0m\u001b[0m\n",
      "\u001b[0;31mAttributeError\u001b[0m: 'mybnode' object has no attribute 'child_list'"
     ]
    }
   ],
   "source": [
    "preorder(tree)"
   ]
  },
  {
   "cell_type": "code",
   "execution_count": null,
   "id": "f4ae04ce-0198-49e7-8aa1-e11071a1ab24",
   "metadata": {},
   "outputs": [],
   "source": []
  },
  {
   "cell_type": "code",
   "execution_count": null,
   "id": "4e16f5b5-c617-4a7b-9e53-12d121599d93",
   "metadata": {},
   "outputs": [],
   "source": []
  }
 ],
 "metadata": {
  "kernelspec": {
   "display_name": "Python 3 (ipykernel)",
   "language": "python",
   "name": "python3"
  },
  "language_info": {
   "codemirror_mode": {
    "name": "ipython",
    "version": 3
   },
   "file_extension": ".py",
   "mimetype": "text/x-python",
   "name": "python",
   "nbconvert_exporter": "python",
   "pygments_lexer": "ipython3",
   "version": "3.8.8"
  }
 },
 "nbformat": 4,
 "nbformat_minor": 5
}
