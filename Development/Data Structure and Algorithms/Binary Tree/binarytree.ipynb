{
 "cells": [
  {
   "cell_type": "code",
   "execution_count": 11,
   "id": "a03491c7-9998-4293-9731-95f7946d56a1",
   "metadata": {},
   "outputs": [
    {
     "name": "stdout",
     "output_type": "stream",
     "text": [
      "8\n",
      "6\n",
      "4\n",
      "7\n",
      "10\n",
      "12\n",
      "11\n",
      "56\n",
      "[4, 6, 7, 8, 10, 11, 12, 56]\n"
     ]
    }
   ],
   "source": [
    "class Node(object):\n",
    "    def __init__(self, value):\n",
    "        self.value = value\n",
    "        self.left = None\n",
    "        self.right = None\n",
    "\n",
    "class BST(object):\n",
    "    def __init__(self, root):\n",
    "        self.root = Node(root)\n",
    "        self.size=1\n",
    "        self.l=[]\n",
    "        self.tree_height_=0\n",
    "        self.node_count=0\n",
    "        self.present=False\n",
    "        \n",
    "    def insert(self, new_val):\n",
    "        self.insert_helper(self.root,new_val)\n",
    "    \n",
    "    def insert_helper(self,node,value):\n",
    "        if value<node.value:\n",
    "            if node.left!=None:\n",
    "                self.insert_helper(node.left,value)\n",
    "            else:\n",
    "                node.left=Node(value)\n",
    "        elif value>node.value:\n",
    "            if node.right!=None:\n",
    "                self.insert_helper(node.right,value)\n",
    "            else:\n",
    "                node.right=Node(value)\n",
    "                \n",
    "                \n",
    "    def print_tree(self,function=None,*args):\n",
    "        self.print_helper(self.root)\n",
    "        return(self.l)\n",
    "   \n",
    "    def print_helper(self,node):\n",
    "        if node!=None:\n",
    "            print(node.value)\n",
    "            self.print_helper(node.left)\n",
    "            self.l.append(node.value)\n",
    "            self.print_helper(node.right)\n",
    "            \n",
    "            \n",
    "    def search_tree(self,value):\n",
    "        self.search_tree_helper(self.root,value)\n",
    "        temp=self.present\n",
    "        self.present=False\n",
    "        return temp\n",
    "        \n",
    "    def search_tree_helper(self,node,val):\n",
    "        if node!=None:\n",
    "            if node.value==val:\n",
    "                self.present=True\n",
    "                return True\n",
    "                raise StopIteration\n",
    "            elif node.value<val:\n",
    "                self.search_tree_helper(node.right,val)\n",
    "            elif node.value>val:\n",
    "                self.search_tree_helper(node.left,val)\n",
    "            \n",
    "            \n",
    "    def height(self):\n",
    "        print(self.height_helper(self.root))\n",
    "         \n",
    "    def height_helper(self,node):\n",
    "        if node==None:\n",
    "            return 0\n",
    "        lHeight=self.height_helper(node.left)\n",
    "        rHeight=self.height_helper(node.right)\n",
    "        maxHeight=lHeight\n",
    "        if rHeight>maxHeight:\n",
    "            maxHeight=rHeight\n",
    "        return maxHeight+1\n",
    "\n",
    "    \n",
    "        \n",
    "                \n",
    "    def count(self):\n",
    "        self.node_count=0\n",
    "        self.count_helper(tree.root)\n",
    "        return self.node_count\n",
    "    def count_helper(self,node):\n",
    "        if node!=None:\n",
    "            self.node_count+=1\n",
    "            self.count_helper(node.left)\n",
    "            self.count_helper(node.right)\n",
    "\n",
    "\n",
    "# Set up tree\n",
    "tree = BST(8)\n",
    "\n",
    "# Insert elements\n",
    "tree.insert(10)\n",
    "tree.insert(6)\n",
    "tree.insert(4)\n",
    "tree.insert(7)\n",
    "tree.insert(12)\n",
    "tree.insert(11)\n",
    "tree.insert(56)\n",
    "\n",
    "print(tree.print_tree())"
   ]
  },
  {
   "cell_type": "code",
   "execution_count": 12,
   "id": "47b20300-645f-4a0e-b94b-87a83221a871",
   "metadata": {},
   "outputs": [
    {
     "name": "stdout",
     "output_type": "stream",
     "text": [
      "4\n"
     ]
    }
   ],
   "source": [
    "tree.height()"
   ]
  },
  {
   "cell_type": "code",
   "execution_count": 37,
   "id": "fc190c8d-aad5-4d02-b744-1656ee692c6f",
   "metadata": {},
   "outputs": [
    {
     "data": {
      "text/plain": [
       "False"
      ]
     },
     "execution_count": 37,
     "metadata": {},
     "output_type": "execute_result"
    }
   ],
   "source": [
    "tree.search_tree(98679)"
   ]
  },
  {
   "cell_type": "code",
   "execution_count": 4,
   "id": "54ce5c75-b126-4c9f-8c19-dbc69d5f19c0",
   "metadata": {},
   "outputs": [
    {
     "ename": "NameError",
     "evalue": "name 'a' is not defined",
     "output_type": "error",
     "traceback": [
      "\u001b[0;31m---------------------------------------------------------------------------\u001b[0m",
      "\u001b[0;31mNameError\u001b[0m                                 Traceback (most recent call last)",
      "\u001b[0;32m/tmp/ipykernel_17905/2167009006.py\u001b[0m in \u001b[0;36m<module>\u001b[0;34m\u001b[0m\n\u001b[0;32m----> 1\u001b[0;31m \u001b[0ma\u001b[0m\u001b[0;34m\u001b[0m\u001b[0;34m\u001b[0m\u001b[0m\n\u001b[0m",
      "\u001b[0;31mNameError\u001b[0m: name 'a' is not defined"
     ]
    }
   ],
   "source": [
    "a"
   ]
  },
  {
   "cell_type": "code",
   "execution_count": 23,
   "id": "c91573d5-5900-48c0-aa12-28981da38823",
   "metadata": {},
   "outputs": [
    {
     "data": {
      "text/plain": [
       "2"
      ]
     },
     "execution_count": 23,
     "metadata": {},
     "output_type": "execute_result"
    }
   ],
   "source": [
    "tree.height()"
   ]
  },
  {
   "cell_type": "code",
   "execution_count": 123,
   "id": "f5921119-dc63-4390-a61b-1da77b767d5c",
   "metadata": {},
   "outputs": [
    {
     "name": "stdout",
     "output_type": "stream",
     "text": [
      "1\n",
      "2\n",
      "3\n",
      "3\n",
      "2\n",
      "3\n"
     ]
    },
    {
     "data": {
      "text/plain": [
       "1"
      ]
     },
     "execution_count": 123,
     "metadata": {},
     "output_type": "execute_result"
    }
   ],
   "source": [
    "tree.count()"
   ]
  },
  {
   "cell_type": "code",
   "execution_count": null,
   "id": "2b21c08e-78e5-4955-8666-ccf5a57e776f",
   "metadata": {},
   "outputs": [],
   "source": []
  }
 ],
 "metadata": {
  "kernelspec": {
   "display_name": "Python 3 (ipykernel)",
   "language": "python",
   "name": "python3"
  },
  "language_info": {
   "codemirror_mode": {
    "name": "ipython",
    "version": 3
   },
   "file_extension": ".py",
   "mimetype": "text/x-python",
   "name": "python",
   "nbconvert_exporter": "python",
   "pygments_lexer": "ipython3",
   "version": "3.8.8"
  }
 },
 "nbformat": 4,
 "nbformat_minor": 5
}
