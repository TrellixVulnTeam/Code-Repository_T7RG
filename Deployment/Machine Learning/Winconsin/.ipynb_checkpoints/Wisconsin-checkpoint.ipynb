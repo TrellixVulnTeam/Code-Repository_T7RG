{
 "cells": [
  {
   "cell_type": "markdown",
   "id": "78c26edc-bbae-491e-a192-dc1bf4924fab",
   "metadata": {},
   "source": [
    "## Loading the Wisconsin dataset from sklearn"
   ]
  },
  {
   "cell_type": "code",
   "execution_count": 1,
   "id": "203fd017-41a9-40f2-96cb-485dd8455753",
   "metadata": {},
   "outputs": [],
   "source": [
    "from sklearn.datasets import load_breast_cancer\n",
    "import pandas as pd\n",
    "from sklearn.ensemble import BaggingClassifier\n",
    "import seaborn as sns\n",
    "from sklearn.model_selection import train_test_split,KFold,StratifiedKFold\n",
    "import random\n",
    "inputs,outputs=load_breast_cancer(return_X_y=True)"
   ]
  },
  {
   "cell_type": "markdown",
   "id": "1968e4de-f276-4de8-8707-d0ee0d057999",
   "metadata": {},
   "source": [
    "## Understanding the data"
   ]
  },
  {
   "cell_type": "code",
   "execution_count": 2,
   "id": "f1df76ab-4bc8-4fa1-b21b-154488b392e4",
   "metadata": {},
   "outputs": [],
   "source": [
    "dataset=pd.DataFrame(inputs)"
   ]
  },
  {
   "cell_type": "code",
   "execution_count": 3,
   "id": "b3fc4a56-2a5d-4bee-a3ac-10d5acb13322",
   "metadata": {},
   "outputs": [
    {
     "name": "stdout",
     "output_type": "stream",
     "text": [
      "<class 'pandas.core.frame.DataFrame'>\n",
      "RangeIndex: 569 entries, 0 to 568\n",
      "Data columns (total 30 columns):\n",
      " #   Column  Non-Null Count  Dtype  \n",
      "---  ------  --------------  -----  \n",
      " 0   0       569 non-null    float64\n",
      " 1   1       569 non-null    float64\n",
      " 2   2       569 non-null    float64\n",
      " 3   3       569 non-null    float64\n",
      " 4   4       569 non-null    float64\n",
      " 5   5       569 non-null    float64\n",
      " 6   6       569 non-null    float64\n",
      " 7   7       569 non-null    float64\n",
      " 8   8       569 non-null    float64\n",
      " 9   9       569 non-null    float64\n",
      " 10  10      569 non-null    float64\n",
      " 11  11      569 non-null    float64\n",
      " 12  12      569 non-null    float64\n",
      " 13  13      569 non-null    float64\n",
      " 14  14      569 non-null    float64\n",
      " 15  15      569 non-null    float64\n",
      " 16  16      569 non-null    float64\n",
      " 17  17      569 non-null    float64\n",
      " 18  18      569 non-null    float64\n",
      " 19  19      569 non-null    float64\n",
      " 20  20      569 non-null    float64\n",
      " 21  21      569 non-null    float64\n",
      " 22  22      569 non-null    float64\n",
      " 23  23      569 non-null    float64\n",
      " 24  24      569 non-null    float64\n",
      " 25  25      569 non-null    float64\n",
      " 26  26      569 non-null    float64\n",
      " 27  27      569 non-null    float64\n",
      " 28  28      569 non-null    float64\n",
      " 29  29      569 non-null    float64\n",
      "dtypes: float64(30)\n",
      "memory usage: 133.5 KB\n"
     ]
    }
   ],
   "source": [
    "dataset.info()"
   ]
  },
  {
   "cell_type": "code",
   "execution_count": 4,
   "id": "056e384e-4d12-4c12-b038-0ece0904797b",
   "metadata": {},
   "outputs": [],
   "source": [
    "# No missing data"
   ]
  },
  {
   "cell_type": "markdown",
   "id": "cb98d750-b15a-4766-858e-3c2e518956ae",
   "metadata": {},
   "source": [
    "# Splitting the data into train and test"
   ]
  },
  {
   "cell_type": "code",
   "execution_count": 5,
   "id": "e03027cf-3fb7-4fe5-801b-33147500ae1f",
   "metadata": {},
   "outputs": [],
   "source": [
    "x_train,x_test,y_train,y_test=train_test_split(inputs,outputs,test_size=0.3,random_state=1)"
   ]
  },
  {
   "cell_type": "markdown",
   "id": "96d3fcf0-268b-4be8-a7b8-15974ff9f114",
   "metadata": {
    "tags": []
   },
   "source": [
    "## Decision tree classifier"
   ]
  },
  {
   "cell_type": "code",
   "execution_count": 6,
   "id": "ce11dc39-d7fe-47b6-a57f-cb426514a5f9",
   "metadata": {},
   "outputs": [],
   "source": [
    "# Creating a decision dree classifier object\n",
    "from sklearn.tree import DecisionTreeClassifier\n",
    "dtClassifier=DecisionTreeClassifier(random_state=1)"
   ]
  },
  {
   "cell_type": "code",
   "execution_count": 7,
   "id": "a05968d2-915d-40e3-aee8-af800038a435",
   "metadata": {},
   "outputs": [],
   "source": [
    "# Using K Fold cross validation\n",
    "\n",
    "k_fold=KFold(n_splits=5,random_state=1,shuffle=True)\n",
    "scores=[]\n",
    "for train_index,test_index in k_fold.split(inputs):\n",
    "    x_train=inputs[train_index]\n",
    "    y_train=outputs[train_index]\n",
    "    x_test=inputs[test_index]\n",
    "    y_test=outputs[test_index]\n",
    "    \n",
    "    dtClassifier.fit(x_train,y_train)\n",
    "    scores.append(dtClassifier.score(x_test,y_test))\n",
    "    "
   ]
  },
  {
   "cell_type": "code",
   "execution_count": 8,
   "id": "ea3baa60-6851-4370-86c6-6c8ff9ff8b45",
   "metadata": {},
   "outputs": [
    {
     "name": "stderr",
     "output_type": "stream",
     "text": [
      "/home/blink/anaconda3/lib/python3.8/site-packages/seaborn/_decorators.py:36: FutureWarning: Pass the following variable as a keyword arg: x. From version 0.12, the only valid positional argument will be `data`, and passing other arguments without an explicit keyword will result in an error or misinterpretation.\n",
      "  warnings.warn(\n"
     ]
    },
    {
     "data": {
      "text/plain": [
       "<AxesSubplot:>"
      ]
     },
     "execution_count": 8,
     "metadata": {},
     "output_type": "execute_result"
    },
    {
     "data": {
      "image/png": "[encoded data removed]",
      "text/plain": [
       "<Figure size 432x288 with 1 Axes>"
      ]
     },
     "metadata": {
      "needs_background": "light"
     },
     "output_type": "display_data"
    }
   ],
   "source": [
    "import seaborn as sns\n",
    "sns.boxplot(scores)"
   ]
  },
  {
   "cell_type": "code",
   "execution_count": 9,
   "id": "72a20c6d-13b6-49f5-bfea-33205bf309cc",
   "metadata": {},
   "outputs": [
    {
     "name": "stdout",
     "output_type": "stream",
     "text": [
      "Average score is :  92.97314081664338\n"
     ]
    }
   ],
   "source": [
    "decision_tree_scores=[sum(scores)/len(scores)*100]\n",
    "print('Average score is : ',decision_tree_scores[0])"
   ]
  },
  {
   "cell_type": "markdown",
   "id": "20f15b15-0d88-481d-bb94-83cd7382a61f",
   "metadata": {
    "tags": []
   },
   "source": [
    "## Bagging Classifier / Random Forests"
   ]
  },
  {
   "cell_type": "code",
   "execution_count": 10,
   "id": "8dbb095b-c97f-4d51-a7d9-918922e656ab",
   "metadata": {},
   "outputs": [],
   "source": [
    "random_forest=BaggingClassifier(base_estimator=dtClassifier,n_estimators=20,random_state=1)"
   ]
  },
  {
   "cell_type": "code",
   "execution_count": 11,
   "id": "0b3cc376-974a-43f9-83d1-e9cb3e64214c",
   "metadata": {},
   "outputs": [],
   "source": [
    "# Using K Fold cross validation\n",
    "\n",
    "k_fold=KFold(n_splits=5,random_state=1,shuffle=True)\n",
    "scores=[]\n",
    "for train_index,test_index in k_fold.split(inputs):\n",
    "    x_train=inputs[train_index]\n",
    "    y_train=outputs[train_index]\n",
    "    x_test=inputs[test_index]\n",
    "    y_test=outputs[test_index]\n",
    "    \n",
    "    random_forest.fit(x_train,y_train)\n",
    "    scores.append(dtClassifier.score(x_test,y_test))\n",
    "    "
   ]
  },
  {
   "cell_type": "code",
   "execution_count": 12,
   "id": "2e83039e-6f6e-4e90-a703-7254d781c134",
   "metadata": {},
   "outputs": [
    {
     "name": "stderr",
     "output_type": "stream",
     "text": [
      "/home/blink/anaconda3/lib/python3.8/site-packages/seaborn/_decorators.py:36: FutureWarning: Pass the following variable as a keyword arg: x. From version 0.12, the only valid positional argument will be `data`, and passing other arguments without an explicit keyword will result in an error or misinterpretation.\n",
      "  warnings.warn(\n"
     ]
    },
    {
     "data": {
      "text/plain": [
       "<AxesSubplot:>"
      ]
     },
     "execution_count": 12,
     "metadata": {},
     "output_type": "execute_result"
    },
    {
     "data": {
      "image/png": "[encoded data removed]",
      "text/plain": [
       "<Figure size 432x288 with 1 Axes>"
      ]
     },
     "metadata": {
      "needs_background": "light"
     },
     "output_type": "display_data"
    }
   ],
   "source": [
    "import seaborn as sns\n",
    "sns.boxplot(scores)"
   ]
  },
  {
   "cell_type": "code",
   "execution_count": 13,
   "id": "57dc6b90-dfa2-464e-be1e-28479a1ca3e2",
   "metadata": {},
   "outputs": [
    {
     "name": "stdout",
     "output_type": "stream",
     "text": [
      "Average score is :  98.93805309734513\n"
     ]
    }
   ],
   "source": [
    "random_forest_scores=[sum(scores)/len(scores)*100]\n",
    "print('Average score is : ',random_forest_scores[0])"
   ]
  },
  {
   "cell_type": "markdown",
   "id": "e514ae42-5858-4e86-a5b3-7c3ef88daf2b",
   "metadata": {},
   "source": [
    "<h3> Comparing the results of Decision tree and Random Forest Classifier </h3>\n",
    "<body>\n",
    "   It can be seen that on using a single Decision tree Classifier, the accuracy was varying from 82 to 96 % and there was a high variance in results of cross validation. \n",
    "    \n",
    "    However, next a Random forest was applied where 20 different decision trees were used as estimators to create different outputs, which were then combined to get a final output. Here, we can see that accuracy has increased for most of the validation sets \n",
    "    \n",
    "</body>\n"
   ]
  },
  {
   "cell_type": "markdown",
   "id": "6bc5aed4-72db-4718-84b1-c25f1428102f",
   "metadata": {},
   "source": [
    "## Adding 10% noise to 25 % of the data"
   ]
  },
  {
   "cell_type": "code",
   "execution_count": 14,
   "id": "4c664de6-e986-46db-9ba6-24ac1b6975d5",
   "metadata": {},
   "outputs": [
    {
     "data": {
      "text/plain": [
       "(569, 30)"
      ]
     },
     "execution_count": 14,
     "metadata": {},
     "output_type": "execute_result"
    }
   ],
   "source": [
    "inputs.shape"
   ]
  },
  {
   "cell_type": "code",
   "execution_count": 15,
   "id": "fa6348a2-dc05-403c-b10e-5d8c918d5aa0",
   "metadata": {},
   "outputs": [],
   "source": [
    "def generate_noise(data):\n",
    "    ''' The function would add some positie or nrgative random noise to the data\n",
    "    '''\n",
    "    \n",
    "    sign=random.randint(0,1) # Generating if positive or negative noise to be added\n",
    "    noise_percentage=random.randint(10,50)/100\n",
    "    if sign:\n",
    "        data=data+(data*noise_percentage)\n",
    "    else:\n",
    "        data=data-(data*noise_percentage)\n",
    "    return data"
   ]
  },
  {
   "cell_type": "code",
   "execution_count": 16,
   "id": "f4393a9b-fb68-4fca-9680-1045f251b6ee",
   "metadata": {},
   "outputs": [],
   "source": [
    "# There are 569*30 data points. 25% of them has to be added with 10% noise\n",
    "# ie 4267 data points has to be added with noise\n",
    "def random_noise_adder(data):\n",
    "    \"\"\" The function takes as input the shape tuple returned by data.shape\n",
    "    and adds random noise to 25 % of it\n",
    "    Returns the indexes\"\"\"\n",
    "    dummy=data\n",
    "    shape_tuple=data.shape\n",
    "    size=shape_tuple[0]*shape_tuple[1]\n",
    "    noise_amount=int(size*0.25)\n",
    "    x=[random.randint(0,shape_tuple[0]-1) for i in range(noise_amount)]\n",
    "    y=[random.randint(0,shape_tuple[1]-1) for i in range(noise_amount)]\n",
    "    \n",
    "    return x,y\n",
    "\n"
   ]
  },
  {
   "cell_type": "code",
   "execution_count": 17,
   "id": "84c70994-338b-4e40-b55f-607f755b780b",
   "metadata": {},
   "outputs": [
    {
     "name": "stdout",
     "output_type": "stream",
     "text": [
      "1056474.4596356\n"
     ]
    }
   ],
   "source": [
    "new_inputs=inputs\n",
    "print(new_inputs.sum())"
   ]
  },
  {
   "cell_type": "code",
   "execution_count": 18,
   "id": "f99d2e2e-f198-401e-a6c7-5e102b6c7cfe",
   "metadata": {},
   "outputs": [],
   "source": [
    "x_index,y_index=random_noise_adder(inputs)"
   ]
  },
  {
   "cell_type": "code",
   "execution_count": 19,
   "id": "01b00b6f-7e5e-4cd8-a196-9c5f24413572",
   "metadata": {},
   "outputs": [],
   "source": [
    "for i,j in zip(x_index,y_index):\n",
    "    new_inputs[i][j]=generate_noise(inputs[i][j])\n"
   ]
  },
  {
   "cell_type": "code",
   "execution_count": 20,
   "id": "75222ad2-9af6-4ba9-828e-363f79727055",
   "metadata": {},
   "outputs": [
    {
     "name": "stdout",
     "output_type": "stream",
     "text": [
      "1053879.804434082\n"
     ]
    }
   ],
   "source": [
    "print(new_inputs.sum())"
   ]
  },
  {
   "cell_type": "markdown",
   "id": "4b0c9c3d-10f3-409b-87ee-75a77da2eefe",
   "metadata": {},
   "source": [
    "#### Since the sum has changed for the entire dataset, we can see that noise has been added"
   ]
  },
  {
   "cell_type": "markdown",
   "id": "728dee42-1858-4c87-9c48-8bbe468e93a1",
   "metadata": {
    "tags": []
   },
   "source": [
    "## Decision tree classifier"
   ]
  },
  {
   "cell_type": "code",
   "execution_count": 21,
   "id": "318aed4f-5dfa-4498-8183-e658684539bc",
   "metadata": {},
   "outputs": [],
   "source": [
    "# Creating a decision dree classifier object\n",
    "from sklearn.tree import DecisionTreeClassifier\n",
    "dtClassifier=DecisionTreeClassifier(random_state=1)"
   ]
  },
  {
   "cell_type": "code",
   "execution_count": 22,
   "id": "06e94b5c-70f0-4c2c-ada2-03605820e2d0",
   "metadata": {},
   "outputs": [],
   "source": [
    "# Using K Fold cross validation\n",
    "\n",
    "k_fold=KFold(n_splits=5,random_state=1,shuffle=True)\n",
    "scores=[]\n",
    "for train_index,test_index in k_fold.split(new_inputs):\n",
    "    x_train=new_inputs[train_index]\n",
    "    y_train=outputs[train_index]\n",
    "    x_test=new_inputs[test_index]\n",
    "    y_test=outputs[test_index]\n",
    "    \n",
    "    dtClassifier.fit(x_train,y_train)\n",
    "    scores.append(dtClassifier.score(x_test,y_test))\n",
    "    "
   ]
  },
  {
   "cell_type": "code",
   "execution_count": 23,
   "id": "625fb899-594c-4642-89f5-05b3fe2b878b",
   "metadata": {},
   "outputs": [
    {
     "name": "stderr",
     "output_type": "stream",
     "text": [
      "/home/blink/anaconda3/lib/python3.8/site-packages/seaborn/_decorators.py:36: FutureWarning: Pass the following variable as a keyword arg: x. From version 0.12, the only valid positional argument will be `data`, and passing other arguments without an explicit keyword will result in an error or misinterpretation.\n",
      "  warnings.warn(\n"
     ]
    },
    {
     "data": {
      "text/plain": [
       "<AxesSubplot:>"
      ]
     },
     "execution_count": 23,
     "metadata": {},
     "output_type": "execute_result"
    },
    {
     "data": {
      "image/png": "[encoded data removed]",
      "text/plain": [
       "<Figure size 432x288 with 1 Axes>"
      ]
     },
     "metadata": {
      "needs_background": "light"
     },
     "output_type": "display_data"
    }
   ],
   "source": [
    "import seaborn as sns\n",
    "sns.boxplot(scores)"
   ]
  },
  {
   "cell_type": "code",
   "execution_count": 24,
   "id": "836bb0e3-42be-4ea3-92ca-fb2a23b540f4",
   "metadata": {},
   "outputs": [
    {
     "name": "stdout",
     "output_type": "stream",
     "text": [
      "Average score is :  89.80593075609377\n"
     ]
    }
   ],
   "source": [
    "decision_tree_scores.append(sum(scores)/len(scores)*100)\n",
    "print('Average score is : ',sum(scores)/len(scores)*100)"
   ]
  },
  {
   "cell_type": "markdown",
   "id": "47814dec-e271-4e9d-b0cf-01dcda734219",
   "metadata": {},
   "source": [
    "## Bagging Classifier / Random Forests"
   ]
  },
  {
   "cell_type": "code",
   "execution_count": 25,
   "id": "686b233c-17d4-4f30-80d4-f2c9c8f40fd4",
   "metadata": {},
   "outputs": [],
   "source": [
    "random_forest=BaggingClassifier(base_estimator=dtClassifier,n_estimators=20,random_state=1)"
   ]
  },
  {
   "cell_type": "code",
   "execution_count": 26,
   "id": "ae930d9b-d3dd-4e77-8766-cf4587adbc06",
   "metadata": {},
   "outputs": [],
   "source": [
    "# Using K Fold cross validation\n",
    "\n",
    "k_fold=KFold(n_splits=5,random_state=1,shuffle=True)\n",
    "scores=[]\n",
    "for train_index,test_index in k_fold.split(new_inputs):\n",
    "    x_train=new_inputs[train_index]\n",
    "    y_train=outputs[train_index]\n",
    "    x_test=new_inputs[test_index]\n",
    "    y_test=outputs[test_index]\n",
    "    \n",
    "    random_forest.fit(x_train,y_train)\n",
    "    scores.append(dtClassifier.score(x_test,y_test))\n",
    "    "
   ]
  },
  {
   "cell_type": "code",
   "execution_count": 27,
   "id": "7163913b-e425-4c44-9948-9d1b1519144e",
   "metadata": {},
   "outputs": [
    {
     "name": "stderr",
     "output_type": "stream",
     "text": [
      "/home/blink/anaconda3/lib/python3.8/site-packages/seaborn/_decorators.py:36: FutureWarning: Pass the following variable as a keyword arg: x. From version 0.12, the only valid positional argument will be `data`, and passing other arguments without an explicit keyword will result in an error or misinterpretation.\n",
      "  warnings.warn(\n"
     ]
    },
    {
     "data": {
      "text/plain": [
       "<AxesSubplot:>"
      ]
     },
     "execution_count": 27,
     "metadata": {},
     "output_type": "execute_result"
    },
    {
     "data": {
      "image/png": "[encoded data removed]",
      "text/plain": [
       "<Figure size 432x288 with 1 Axes>"
      ]
     },
     "metadata": {
      "needs_background": "light"
     },
     "output_type": "display_data"
    }
   ],
   "source": [
    "import seaborn as sns\n",
    "sns.boxplot(scores)"
   ]
  },
  {
   "cell_type": "code",
   "execution_count": 28,
   "id": "254afef9-502f-471d-b76f-ec540459f322",
   "metadata": {},
   "outputs": [
    {
     "name": "stdout",
     "output_type": "stream",
     "text": [
      "Average score is :  97.87610619469027\n"
     ]
    }
   ],
   "source": [
    "random_forest_scores.append(sum(scores)/len(scores)*100)\n",
    "print('Average score is : ',sum(scores)/len(scores)*100)"
   ]
  },
  {
   "cell_type": "markdown",
   "id": "30c78113-9fba-4cf3-a5c2-f1bda1a71b74",
   "metadata": {},
   "source": [
    "# Creating a dataframe to summarise the results\n"
   ]
  },
  {
   "cell_type": "code",
   "execution_count": 29,
   "id": "c0785bdc-6d08-4c0f-bc7d-c1d9e3e2ad35",
   "metadata": {},
   "outputs": [],
   "source": [
    "import pandas as pd\n",
    "summary=pd.DataFrame()\n",
    "summary['Decision Tree Score']=decision_tree_scores\n",
    "summary['Random Forest Score']=random_forest_scores\n",
    "summary.index=['Without Noise','With Noise']\n"
   ]
  },
  {
   "cell_type": "code",
   "execution_count": 30,
   "id": "1d4d77a4-a98b-4930-b6a8-446f758c337f",
   "metadata": {},
   "outputs": [
    {
     "data": {
      "text/html": [
       "<div>\n",
       "<style scoped>\n",
       "    .dataframe tbody tr th:only-of-type {\n",
       "        vertical-align: middle;\n",
       "    }\n",
       "\n",
       "    .dataframe tbody tr th {\n",
       "        vertical-align: top;\n",
       "    }\n",
       "\n",
       "    .dataframe thead th {\n",
       "        text-align: right;\n",
       "    }\n",
       "</style>\n",
       "<table border=\"1\" class=\"dataframe\">\n",
       "  <thead>\n",
       "    <tr style=\"text-align: right;\">\n",
       "      <th></th>\n",
       "      <th>Decision Tree Score</th>\n",
       "      <th>Random Forest Score</th>\n",
       "    </tr>\n",
       "  </thead>\n",
       "  <tbody>\n",
       "    <tr>\n",
       "      <th>Without Noise</th>\n",
       "      <td>92.973141</td>\n",
       "      <td>98.938053</td>\n",
       "    </tr>\n",
       "    <tr>\n",
       "      <th>With Noise</th>\n",
       "      <td>89.805931</td>\n",
       "      <td>97.876106</td>\n",
       "    </tr>\n",
       "  </tbody>\n",
       "</table>\n",
       "</div>"
      ],
      "text/plain": [
       "               Decision Tree Score  Random Forest Score\n",
       "Without Noise            92.973141            98.938053\n",
       "With Noise               89.805931            97.876106"
      ]
     },
     "execution_count": 30,
     "metadata": {},
     "output_type": "execute_result"
    }
   ],
   "source": [
    "summary"
   ]
  },
  {
   "cell_type": "markdown",
   "id": "03e7e447-44a9-44f7-9327-d0176f8fb88e",
   "metadata": {},
   "source": [
    "It can be seen that the difference between decision tree and random forests increases on a dataset with noise. \n",
    "It can also be seen that the Decision tree doesnt work well with noise, but as the random forest contains many decision trees which are low performing, it performs better on dataset with noise and without noise. "
   ]
  },
  {
   "cell_type": "code",
   "execution_count": null,
   "id": "0fcd45b6-a5e1-46ec-8a9d-121eba2f0d77",
   "metadata": {},
   "outputs": [],
   "source": []
  }
 ],
 "metadata": {
  "kernelspec": {
   "display_name": "Python 3 (ipykernel)",
   "language": "python",
   "name": "python3"
  },
  "language_info": {
   "codemirror_mode": {
    "name": "ipython",
    "version": 3
   },
   "file_extension": ".py",
   "mimetype": "text/x-python",
   "name": "python",
   "nbconvert_exporter": "python",
   "pygments_lexer": "ipython3",
   "version": "3.8.8"
  }
 },
 "nbformat": 4,
 "nbformat_minor": 5
}
