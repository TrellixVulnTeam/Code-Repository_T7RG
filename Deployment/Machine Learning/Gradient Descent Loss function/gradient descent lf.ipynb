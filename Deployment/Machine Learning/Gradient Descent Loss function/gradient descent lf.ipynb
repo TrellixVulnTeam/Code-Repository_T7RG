{
 "cells": [
  {
   "cell_type": "markdown",
   "id": "c31647c9-2391-4651-a710-2cc53e228bb7",
   "metadata": {},
   "source": [
    "# Importing all libraries\n"
   ]
  },
  {
   "cell_type": "code",
   "execution_count": 4,
   "id": "4a3910ae-b884-46ba-b0af-13d57906baf6",
   "metadata": {},
   "outputs": [],
   "source": [
    "import math # For math functions\n",
    "from sympy import * # For derivation \n",
    "import matplotlib.pyplot as plt # For plotting\n",
    "import numpy as np # For arrays \n"
   ]
  },
  {
   "cell_type": "markdown",
   "id": "f0e5090d-452e-425a-b814-9abbe34c80cc",
   "metadata": {},
   "source": [
    "## Defining Functions"
   ]
  },
  {
   "cell_type": "code",
   "execution_count": 5,
   "id": "aba38f7b-3876-4031-9e20-d9cd2697bcef",
   "metadata": {},
   "outputs": [],
   "source": [
    "def classificationThreshold(thresh,predicted):\n",
    "    prediction=[]\n",
    "    for element in predicted:\n",
    "        if element>thresh:\n",
    "            prediction.append(1)\n",
    "        else:\n",
    "            prediction.append(0)\n",
    "    return prediction"
   ]
  },
  {
   "cell_type": "code",
   "execution_count": 6,
   "id": "271bb641-422f-4d8c-8698-10282eec4ed2",
   "metadata": {},
   "outputs": [],
   "source": [
    "def symmetricLossFunction(predicted,actual):\n",
    "    loss=0\n",
    "    if len(predicted)==len(actual):\n",
    "        for i in range(len(predicted)):\n",
    "            if predicted[i]!=actual[i]:\n",
    "                loss+=1\n",
    "    return loss"
   ]
  },
  {
   "cell_type": "code",
   "execution_count": 7,
   "id": "0e78456d-aa2f-40db-9ed8-eb43b10d1aaa",
   "metadata": {},
   "outputs": [],
   "source": [
    "def CrossEntropyLossFunction(predicted,actual):\n",
    "    import math\n",
    "    loss=0\n",
    "    temp=[]\n",
    "    if len(predicted)==len(actual):\n",
    "        for i in range(len(predicted)):\n",
    "            loss+=-((actual[i]*math.log2(predicted[i]))+((1-actual[i])*math.log2(1-predicted[i])))\n",
    "           \n",
    "        loss/=len(predicted)\n",
    "    return loss\n"
   ]
  },
  {
   "cell_type": "code",
   "execution_count": 8,
   "id": "e67cd420-5718-405e-9258-e608228ba575",
   "metadata": {},
   "outputs": [],
   "source": [
    "def hingeLoss(predicted,actual):\n",
    "    # In hingeloss we label the output of the actual targets as +1 and -1 . Let 1 be +1 and 0 be -1\n",
    "    hingeLoss=0\n",
    "    for prediction,target in zip(predicted,actual):\n",
    "        loss=max(0,1-(prediction*target))\n",
    "        hingeLoss+=loss\n",
    "    return hingeLoss"
   ]
  },
  {
   "cell_type": "markdown",
   "id": "a283951e-042d-4bf5-a58b-3466860e92f4",
   "metadata": {
    "tags": []
   },
   "source": [
    "### Calculating Losses"
   ]
  },
  {
   "cell_type": "code",
   "execution_count": 22,
   "id": "6253fa0d-e968-464c-af2b-0f84ff956cdb",
   "metadata": {},
   "outputs": [],
   "source": [
    "# Data as per the question\n",
    "predicted=[1,1,1,1,1,1,1,1,1,1]\n",
    "actual=[0,1,0,0,1,0,0,1,1,1]"
   ]
  },
  {
   "cell_type": "code",
   "execution_count": 23,
   "id": "923d60eb-0f9c-4cce-8f04-33b3938125b0",
   "metadata": {},
   "outputs": [],
   "source": [
    "# Converting the output to discrete values\n",
    "predictedClassified=classificationThreshold(0.5,predicted)"
   ]
  },
  {
   "cell_type": "markdown",
   "id": "5549476e-e5c9-4d89-9ea6-cbad14456659",
   "metadata": {},
   "source": [
    "\n",
    "> a) symmetric 0 −1 loss function"
   ]
  },
  {
   "cell_type": "code",
   "execution_count": 24,
   "id": "82f43b3c-86eb-4da4-8c08-7307038b88fd",
   "metadata": {
    "tags": []
   },
   "outputs": [
    {
     "name": "stdout",
     "output_type": "stream",
     "text": [
      "The symmetric loss function : 5\n"
     ]
    }
   ],
   "source": [
    "print('The symmetric loss function :',symmetricLossFunction(predictedClassified,actual))"
   ]
  },
  {
   "cell_type": "markdown",
   "id": "e42625e3-0648-4567-8bb8-cfadcba780ab",
   "metadata": {},
   "source": [
    "> b) the cross-entropy loss function"
   ]
  },
  {
   "cell_type": "code",
   "execution_count": 25,
   "id": "020a7a1b-43d5-452d-b532-e5943f289202",
   "metadata": {},
   "outputs": [
    {
     "ename": "ValueError",
     "evalue": "math domain error",
     "output_type": "error",
     "traceback": [
      "\u001b[0;31m---------------------------------------------------------------------------\u001b[0m",
      "\u001b[0;31mValueError\u001b[0m                                Traceback (most recent call last)",
      "\u001b[0;32m/tmp/ipykernel_32081/2272772850.py\u001b[0m in \u001b[0;36m<module>\u001b[0;34m\u001b[0m\n\u001b[0;32m----> 1\u001b[0;31m \u001b[0mprint\u001b[0m\u001b[0;34m(\u001b[0m\u001b[0;34m' The Cross entropy loss function :'\u001b[0m\u001b[0;34m,\u001b[0m\u001b[0mCrossEntropyLossFunction\u001b[0m\u001b[0;34m(\u001b[0m\u001b[0mpredicted\u001b[0m\u001b[0;34m,\u001b[0m\u001b[0mactual\u001b[0m\u001b[0;34m)\u001b[0m\u001b[0;34m)\u001b[0m\u001b[0;34m\u001b[0m\u001b[0;34m\u001b[0m\u001b[0m\n\u001b[0m",
      "\u001b[0;32m/tmp/ipykernel_32081/2812757867.py\u001b[0m in \u001b[0;36mCrossEntropyLossFunction\u001b[0;34m(predicted, actual)\u001b[0m\n\u001b[1;32m      5\u001b[0m     \u001b[0;32mif\u001b[0m \u001b[0mlen\u001b[0m\u001b[0;34m(\u001b[0m\u001b[0mpredicted\u001b[0m\u001b[0;34m)\u001b[0m\u001b[0;34m==\u001b[0m\u001b[0mlen\u001b[0m\u001b[0;34m(\u001b[0m\u001b[0mactual\u001b[0m\u001b[0;34m)\u001b[0m\u001b[0;34m:\u001b[0m\u001b[0;34m\u001b[0m\u001b[0;34m\u001b[0m\u001b[0m\n\u001b[1;32m      6\u001b[0m         \u001b[0;32mfor\u001b[0m \u001b[0mi\u001b[0m \u001b[0;32min\u001b[0m \u001b[0mrange\u001b[0m\u001b[0;34m(\u001b[0m\u001b[0mlen\u001b[0m\u001b[0;34m(\u001b[0m\u001b[0mpredicted\u001b[0m\u001b[0;34m)\u001b[0m\u001b[0;34m)\u001b[0m\u001b[0;34m:\u001b[0m\u001b[0;34m\u001b[0m\u001b[0;34m\u001b[0m\u001b[0m\n\u001b[0;32m----> 7\u001b[0;31m             \u001b[0mloss\u001b[0m\u001b[0;34m+=\u001b[0m\u001b[0;34m-\u001b[0m\u001b[0;34m(\u001b[0m\u001b[0;34m(\u001b[0m\u001b[0mactual\u001b[0m\u001b[0;34m[\u001b[0m\u001b[0mi\u001b[0m\u001b[0;34m]\u001b[0m\u001b[0;34m*\u001b[0m\u001b[0mmath\u001b[0m\u001b[0;34m.\u001b[0m\u001b[0mlog2\u001b[0m\u001b[0;34m(\u001b[0m\u001b[0mpredicted\u001b[0m\u001b[0;34m[\u001b[0m\u001b[0mi\u001b[0m\u001b[0;34m]\u001b[0m\u001b[0;34m)\u001b[0m\u001b[0;34m)\u001b[0m\u001b[0;34m+\u001b[0m\u001b[0;34m(\u001b[0m\u001b[0;34m(\u001b[0m\u001b[0;36m1\u001b[0m\u001b[0;34m-\u001b[0m\u001b[0mactual\u001b[0m\u001b[0;34m[\u001b[0m\u001b[0mi\u001b[0m\u001b[0;34m]\u001b[0m\u001b[0;34m)\u001b[0m\u001b[0;34m*\u001b[0m\u001b[0mmath\u001b[0m\u001b[0;34m.\u001b[0m\u001b[0mlog2\u001b[0m\u001b[0;34m(\u001b[0m\u001b[0;36m1\u001b[0m\u001b[0;34m-\u001b[0m\u001b[0mpredicted\u001b[0m\u001b[0;34m[\u001b[0m\u001b[0mi\u001b[0m\u001b[0;34m]\u001b[0m\u001b[0;34m)\u001b[0m\u001b[0;34m)\u001b[0m\u001b[0;34m)\u001b[0m\u001b[0;34m\u001b[0m\u001b[0;34m\u001b[0m\u001b[0m\n\u001b[0m\u001b[1;32m      8\u001b[0m \u001b[0;34m\u001b[0m\u001b[0m\n\u001b[1;32m      9\u001b[0m         \u001b[0mloss\u001b[0m\u001b[0;34m/=\u001b[0m\u001b[0mlen\u001b[0m\u001b[0;34m(\u001b[0m\u001b[0mpredicted\u001b[0m\u001b[0;34m)\u001b[0m\u001b[0;34m\u001b[0m\u001b[0;34m\u001b[0m\u001b[0m\n",
      "\u001b[0;31mValueError\u001b[0m: math domain error"
     ]
    }
   ],
   "source": [
    "print(' The Cross entropy loss function :',CrossEntropyLossFunction(predicted,actual))"
   ]
  },
  {
   "cell_type": "markdown",
   "id": "57bc60d0-f250-4ce0-81e7-d3c041319950",
   "metadata": {},
   "source": [
    "> c) the hinge loss function"
   ]
  },
  {
   "cell_type": "code",
   "execution_count": 10,
   "id": "c22fc0c1-1640-4639-9813-c557e6370240",
   "metadata": {},
   "outputs": [
    {
     "name": "stdout",
     "output_type": "stream",
     "text": [
      "The Hinge Loss :  10.000000000000002\n"
     ]
    }
   ],
   "source": [
    "# Converting the output values to +1 and -1\n",
    "for i in range(len(actual)):\n",
    "    if actual[i]==1:\n",
    "        pass\n",
    "    elif actual[i]==0:\n",
    "        actual[i]=-1\n",
    "    else:\n",
    "        pass # If its already -1 and +1, ignore\n",
    "\n",
    "print('The Hinge Loss : ',hingeLoss(predicted,actual))"
   ]
  },
  {
   "cell_type": "code",
   "execution_count": null,
   "id": "6cf84b6a-e4c9-4b5a-9cc3-359377837d23",
   "metadata": {},
   "outputs": [],
   "source": []
  },
  {
   "cell_type": "markdown",
   "id": "1f161a02-5dca-4b9e-9fb4-12cd66140c2f",
   "metadata": {},
   "source": [
    "# Question 2\n",
    "\n",
    "Consider the function f(x) = 1 + sin(x).\n",
    "> Use a first order Taylor’s expansion to approximate the function\n",
    "at 3π/4. Plot such an approximation of f(x) around 3π/4. (10\n",
    "points)\n",
    "\n",
    "\n",
    ">Use a second order Taylor’s expansion to approximate the function\n",
    "at 3π/4. Plot such an approximation of f(x) around 3π/4. (10\n",
    "points)\n",
    "\n",
    ">What would happen if you progressively include higher order terms?\n",
    "(10 points)"
   ]
  },
  {
   "cell_type": "markdown",
   "id": "6889305c-7569-4ff4-a950-276824dcdced",
   "metadata": {},
   "source": [
    "<b>Answer:</b>\n",
    "First Order Taylor Series:\n",
    "><i> f(x) + f'(x) (x-a)</i> \n",
    "\n",
    "where<i> f'(x)</i> is the first derivate and a=3π/4"
   ]
  },
  {
   "cell_type": "code",
   "execution_count": 9,
   "id": "84cddbcb-673f-4d1c-81dd-4c97033614e6",
   "metadata": {},
   "outputs": [],
   "source": [
    "# Function to calculate factorial for denominator\n",
    "def factorial(n):\n",
    "    result=1\n",
    "    for i in range(1,n+1):\n",
    "        result*=i\n",
    "    return result"
   ]
  },
  {
   "cell_type": "markdown",
   "id": "b5d1a546-3eef-488c-be65-caa61efb470a",
   "metadata": {},
   "source": [
    "### Creating a function to generate a Taylor series for any function and for any order"
   ]
  },
  {
   "cell_type": "code",
   "execution_count": 461,
   "id": "b2b25400-fdcc-4971-8628-5d2ce6afdf15",
   "metadata": {},
   "outputs": [],
   "source": [
    "#Creating the taylor expansion\n",
    "from sympy import *\n",
    "\n",
    "def taylorSeries(func,number):\n",
    "    \"\"\" This function takes as input the input function and number of terms and returns the corresponding taylor series \n",
    "    \"\"\"\n",
    "    x,a=symbols('x,a')\n",
    "    numberOfTerms=number+1\n",
    "    f=func\n",
    "    power=0\n",
    "    denominator=1\n",
    "    taylor=0\n",
    "    for i in range(numberOfTerms):\n",
    "        power=i\n",
    "        denominator=factorial(i)\n",
    "        term=f*(pow(x-a,power))/denominator\n",
    "        f=Derivative(f,a).doit()\n",
    "        taylor+=term\n",
    "    return taylor\n"
   ]
  },
  {
   "cell_type": "markdown",
   "id": "a9940c49-bbea-417b-94b4-fc2975f7d65f",
   "metadata": {},
   "source": [
    "### Creating a plot for first order taylor series"
   ]
  },
  {
   "cell_type": "code",
   "execution_count": 462,
   "id": "89192498-f620-4262-a78a-c5564512ea64",
   "metadata": {},
   "outputs": [
    {
     "name": "stdout",
     "output_type": "stream",
     "text": [
      "The first order Taylor Function is :\n"
     ]
    },
    {
     "data": {
      "text/latex": [
       "$\\displaystyle \\left(- a + x\\right) \\cos{\\left(a \\right)} + \\sin{\\left(a \\right)} + 1$"
      ],
      "text/plain": [
       "(-a + x)*cos(a) + sin(a) + 1"
      ]
     },
     "execution_count": 462,
     "metadata": {},
     "output_type": "execute_result"
    }
   ],
   "source": [
    "# Finding the first order taylor series \n",
    "x,a=symbols('x a')\n",
    "order=1\n",
    "f=1+sin(a)\n",
    "function=taylorSeries(f,order)\n",
    "print('The first order Taylor Function is :')\n",
    "function"
   ]
  },
  {
   "cell_type": "code",
   "execution_count": 463,
   "id": "5c39a478-2253-4380-9417-957a99bb5dfa",
   "metadata": {},
   "outputs": [
    {
     "data": {
      "text/plain": [
       "[<matplotlib.lines.Line2D at 0x7fae2e127820>]"
      ]
     },
     "execution_count": 463,
     "metadata": {},
     "output_type": "execute_result"
    },
    {
     "data": {
      "image/png": "[encoded data removed]",
      "text/plain": [
       "<Figure size 432x288 with 1 Axes>"
      ]
     },
     "metadata": {
      "needs_background": "light"
     },
     "output_type": "display_data"
    }
   ],
   "source": [
    "xTerm=np.linspace(-2*math.pi, 2*math.pi,100)\n",
    "aTerm=3*math.pi/4\n",
    "result=[]\n",
    "for xVal in xTerm:\n",
    "    result.append(function.subs([(x,xVal),(a,aTerm)]))\n",
    "plt.title('First Order taylor Series for 1+sin(a)')\n",
    "plt.plot(result)"
   ]
  },
  {
   "cell_type": "markdown",
   "id": "0de165c8-7fd4-43c8-85e9-fac0886b2253",
   "metadata": {},
   "source": [
    "### Creating a plot for second order taylor series"
   ]
  },
  {
   "cell_type": "code",
   "execution_count": 464,
   "id": "e0ac4385-5469-4fe2-86f3-8c1011cacdae",
   "metadata": {},
   "outputs": [
    {
     "name": "stdout",
     "output_type": "stream",
     "text": [
      "The second order Taylor Function is :\n"
     ]
    },
    {
     "data": {
      "text/latex": [
       "$\\displaystyle - \\frac{\\left(- a + x\\right)^{2} \\sin{\\left(a \\right)}}{2} + \\left(- a + x\\right) \\cos{\\left(a \\right)} + \\sin{\\left(a \\right)} + 1$"
      ],
      "text/plain": [
       "-(-a + x)**2*sin(a)/2 + (-a + x)*cos(a) + sin(a) + 1"
      ]
     },
     "execution_count": 464,
     "metadata": {},
     "output_type": "execute_result"
    }
   ],
   "source": [
    "# Finding the first order taylor series \n",
    "x,a=symbols('x a')\n",
    "order=2\n",
    "f=1+sin(a)\n",
    "function=taylorSeries(f,order)\n",
    "print('The second order Taylor Function is :')\n",
    "function"
   ]
  },
  {
   "cell_type": "code",
   "execution_count": 465,
   "id": "6533d0e5-ff0e-4337-adc9-b3b9d988c378",
   "metadata": {},
   "outputs": [
    {
     "data": {
      "text/plain": [
       "[<matplotlib.lines.Line2D at 0x7fae2eafd490>]"
      ]
     },
     "execution_count": 465,
     "metadata": {},
     "output_type": "execute_result"
    },
    {
     "data": {
      "image/png": "[encoded data removed]",
      "text/plain": [
       "<Figure size 432x288 with 1 Axes>"
      ]
     },
     "metadata": {
      "needs_background": "light"
     },
     "output_type": "display_data"
    }
   ],
   "source": [
    "xTerm=np.linspace(-1.5*math.pi, 1.5*math.pi,100)\n",
    "aTerm=3*math.pi/4\n",
    "result=[]\n",
    "for xVal in xTerm:\n",
    "    result.append(function.subs([(x,xVal),(a,aTerm)]))\n",
    "plt.title('First Order taylor Series for 1+sin(a)')\n",
    "plt.plot(result)"
   ]
  },
  {
   "cell_type": "markdown",
   "id": "3d25a936-bf22-4af1-b39a-3ca8cd47d31b",
   "metadata": {},
   "source": [
    "### Creating a plot for third order taylor series"
   ]
  },
  {
   "cell_type": "code",
   "execution_count": 466,
   "id": "57b6e5bb-7430-4fc1-9541-67afe57bf031",
   "metadata": {},
   "outputs": [
    {
     "name": "stdout",
     "output_type": "stream",
     "text": [
      "The third order Taylor Function is :\n"
     ]
    },
    {
     "data": {
      "text/latex": [
       "$\\displaystyle - \\frac{\\left(- a + x\\right)^{3} \\cos{\\left(a \\right)}}{6} - \\frac{\\left(- a + x\\right)^{2} \\sin{\\left(a \\right)}}{2} + \\left(- a + x\\right) \\cos{\\left(a \\right)} + \\sin{\\left(a \\right)} + 1$"
      ],
      "text/plain": [
       "-(-a + x)**3*cos(a)/6 - (-a + x)**2*sin(a)/2 + (-a + x)*cos(a) + sin(a) + 1"
      ]
     },
     "execution_count": 466,
     "metadata": {},
     "output_type": "execute_result"
    }
   ],
   "source": [
    "# Finding the first order taylor series \n",
    "x,a=symbols6014859431120036('x a')\n",
    "order=3\n",
    "f=1+sin(a)\n",
    "function=taylorSeries(f,order)\n",
    "print('The third order Taylor Function is :')\n",
    "function"
   ]
  },
  {
   "cell_type": "code",
   "execution_count": 467,
   "id": "e65c0ee1-baa0-4cc5-bb4a-d3fd84b935ae",
   "metadata": {},
   "outputs": [
    {
     "data": {
      "text/plain": [
       "[<matplotlib.lines.Line2D at 0x7fae2e32a1f0>]"
      ]
     },
     "execution_count": 467,
     "metadata": {},
     "output_type": "execute_result"
    },
    {
     "data": {
      "image/png": "[encoded data removed]",
      "text/plain": [
       "<Figure size 432x288 with 1 Axes>"
      ]
     },
     "metadata": {
      "needs_background": "light"
     },
     "output_type": "display_data"
    }
   ],
   "source": [
    "xTerm=np.linspace(-1*math.pi, 1*math.pi,100)\n",
    "aTerm=3*math.pi/4\n",
    "result=[]\n",
    "for xVal in xTerm:\n",
    "    result.append(function.subs([(x,xVal),(a,aTerm)]))\n",
    "plt.title('Third Order taylor Series for 1+sin(a)')\n",
    "plt.plot(result)"
   ]
  },
  {
   "cell_type": "markdown",
   "id": "a6799454-723b-401b-9a29-9511e1c96aea",
   "metadata": {
    "tags": []
   },
   "source": [
    "### Creating a plot for tenth order taylor series"
   ]
  },
  {
   "cell_type": "code",
   "execution_count": 468,
   "id": "76f53f72-1d6c-4800-8388-0fd58f6c1fba",
   "metadata": {},
   "outputs": [
    {
     "name": "stdout",
     "output_type": "stream",
     "text": [
      "The tenth order Taylor Function is :\n"
     ]
    },
    {
     "data": {
      "text/latex": [
       "$\\displaystyle - \\frac{\\left(- a + x\\right)^{10} \\sin{\\left(a \\right)}}{3628800} + \\frac{\\left(- a + x\\right)^{9} \\cos{\\left(a \\right)}}{362880} + \\frac{\\left(- a + x\\right)^{8} \\sin{\\left(a \\right)}}{40320} - \\frac{\\left(- a + x\\right)^{7} \\cos{\\left(a \\right)}}{5040} - \\frac{\\left(- a + x\\right)^{6} \\sin{\\left(a \\right)}}{720} + \\frac{\\left(- a + x\\right)^{5} \\cos{\\left(a \\right)}}{120} + \\frac{\\left(- a + x\\right)^{4} \\sin{\\left(a \\right)}}{24} - \\frac{\\left(- a + x\\right)^{3} \\cos{\\left(a \\right)}}{6} - \\frac{\\left(- a + x\\right)^{2} \\sin{\\left(a \\right)}}{2} + \\left(- a + x\\right) \\cos{\\left(a \\right)} + \\sin{\\left(a \\right)} + 1$"
      ],
      "text/plain": [
       "-(-a + x)**10*sin(a)/3628800 + (-a + x)**9*cos(a)/362880 + (-a + x)**8*sin(a)/40320 - (-a + x)**7*cos(a)/5040 - (-a + x)**6*sin(a)/720 + (-a + x)**5*cos(a)/120 + (-a + x)**4*sin(a)/24 - (-a + x)**3*cos(a)/6 - (-a + x)**2*sin(a)/2 + (-a + x)*cos(a) + sin(a) + 1"
      ]
     },
     "execution_count": 468,
     "metadata": {},
     "output_type": "execute_result"
    }
   ],
   "source": [
    "# Finding the first order taylor series \n",
    "x,a=symbols('x a')\n",
    "order=10\n",
    "f=1+sin(a)\n",
    "function=taylorSeries(f,order)\n",
    "print('The tenth order Taylor Function is :')\n",
    "function"
   ]
  },
  {
   "cell_type": "code",
   "execution_count": 469,
   "id": "9807aab8-82bb-40bd-a6ea-af4449f668c5",
   "metadata": {},
   "outputs": [
    {
     "data": {
      "text/plain": [
       "[<matplotlib.lines.Line2D at 0x7fae2e571fd0>]"
      ]
     },
     "execution_count": 469,
     "metadata": {},
     "output_type": "execute_result"
    },
    {
     "data": {
      "image/png": "[encoded data removed]",
      "text/plain": [
       "<Figure size 432x288 with 1 Axes>"
      ]
     },
     "metadata": {
      "needs_background": "light"
     },
     "output_type": "display_data"
    }
   ],
   "source": [
    "xTerm=np.linspace(-1*math.pi, 1*math.pi,100)\n",
    "aTerm=3*math.pi/4\n",
    "result=[]\n",
    "for xVal in xTerm:\n",
    "    result.append(function.subs([(x,xVal),(a,aTerm)]))\n",
    "plt.title('First Order taylor Series for 1+sin(a)')\n",
    "plt.plot(result)"
   ]
  },
  {
   "cell_type": "markdown",
   "id": "e4989fc7-770b-436e-8ec4-07b187b78b62",
   "metadata": {
    "tags": []
   },
   "source": [
    "### It can be seen that for higher order of Taylor series the graphs starts to become similar to the graph for 1+sinx wheras in lower order taylor series, only a small area of the graph is similar to the actual graph. As the order keeps increasing the approximation made by the Taylor series gets closer and closer to the output of the actual function, which in this case is 1+sin(x)"
   ]
  },
  {
   "cell_type": "code",
   "execution_count": null,
   "id": "ea950f64-c7a4-4c1a-9e15-1b51aab9bd28",
   "metadata": {},
   "outputs": [],
   "source": []
  },
  {
   "cell_type": "markdown",
   "id": "300ee156-f24f-4d8e-9b88-f2bdedc51f9d",
   "metadata": {},
   "source": [
    "# Question 3\n",
    "\n",
    "### Assume an error function to be minimized is given by,J(w) = exp(−13 w31 + w1 −w2)\n",
    "> (a) Plot the contour map of this error function. (10 points"
   ]
  },
  {
   "cell_type": "markdown",
   "id": "7b903701-50cb-4603-b17a-dbc03d0d4aa1",
   "metadata": {},
   "source": [
    "### Contour plot of the exponential function"
   ]
  },
  {
   "cell_type": "code",
   "execution_count": 19,
   "id": "6308432e-d5d6-40ef-a1d0-d0cfac3411ff",
   "metadata": {},
   "outputs": [
    {
     "data": {
      "text/plain": [
       "<matplotlib.contour.QuadContourSet at 0x7ff9882db400>"
      ]
     },
     "execution_count": 19,
     "metadata": {},
     "output_type": "execute_result"
    },
    {
     "data": {
      "image/png": "[encoded data removed]",
      "text/plain": [
       "<Figure size 720x360 with 1 Axes>"
      ]
     },
     "metadata": {
      "needs_background": "light"
     },
     "output_type": "display_data"
    }
   ],
   "source": [
    "w1=np.linspace(-2,3,100)\n",
    "w2=np.linspace(-1.5,1.5,100)\n",
    "[x,y]=np.meshgrid(w1,w2)\n",
    "powerTerm=(-x**3/3)+x-(y**2)\n",
    "function=np.exp(powerTerm)\n",
    "plt.figure(figsize=(10,5))sto\n",
    "plt.xlabel('w1')\n",
    "plt.ylabel('w2')\n",
    "plt.title('Contour graph')\n",
    "plt.contourf(x,y,function)"
   ]
  },
  {
   "cell_type": "markdown",
   "id": "2bf8e0c1-b884-4df9-adb6-e05f3954de86",
   "metadata": {},
   "source": [
    "> b) Find analytically the gradient vector,\n",
    "∇(w) =\n",
    "\n",
    "\n",
    "∂J\n",
    "∂w1\n",
    "∂J"
   ]
  },
  {
   "cell_type": "code",
   "execution_count": 472,
   "id": "c4f171b3-328c-4e12-a8c0-9676037c01d1",
   "metadata": {},
   "outputs": [
    {
     "name": "stdout",
     "output_type": "stream",
     "text": [
      "(1 - x**2)*exp(-x**3/3 + x - y**2)\n",
      "-2*y*exp(-x**3/3 + x - y**2)\n"
     ]
    }
   ],
   "source": [
    "from sympy import *\n",
    "x,y=symbols('x y')\n",
    "f=exp(x-(pow(x,3)/3)-pow(y,2))\n",
    "dfx=Derivative(f,x).doit()\n",
    "dfy=Derivative(f,y).doit()\n",
    "gradientVector=[0,0]\n",
    "gradientVector[0]=dfx\n",
    "gradientVector[1]=dfy\n",
    "print(gradientVector[0])\n",
    "print(gradientVector[1])"
   ]
  },
  {
   "cell_type": "markdown",
   "id": "b46b9da9-c5fc-48b0-9774-4bec59ea380f",
   "metadata": {},
   "source": [
    "#### For better visualisation of equations"
   ]
  },
  {
   "cell_type": "code",
   "execution_count": 476,
   "id": "f3ef5065-477e-4a69-a24a-87f82e69d454",
   "metadata": {},
   "outputs": [
    {
     "name": "stdout",
     "output_type": "stream",
     "text": [
      "The first element of gradient vector is \n"
     ]
    },
    {
     "data": {
      "text/latex": [
       "$\\displaystyle \\left(1 - x^{2}\\right) e^{- \\frac{x^{3}}{3} + x - y^{2}}$"
      ],
      "text/plain": [
       "(1 - x**2)*exp(-x**3/3 + x - y**2)"
      ]
     },
     "execution_count": 476,
     "metadata": {},
     "output_type": "execute_result"
    }
   ],
   "source": [
    "print('The first element of gradient vector is ')\n",
    "dfx"
   ]
  },
  {
   "cell_type": "code",
   "execution_count": 477,
   "id": "2ed61aeb-47fa-4a83-a69d-296279246462",
   "metadata": {},
   "outputs": [
    {
     "name": "stdout",
     "output_type": "stream",
     "text": [
      "The second element of gradient vector is \n"
     ]
    },
    {
     "data": {
      "text/latex": [
       "$\\displaystyle - 2 y e^{- \\frac{x^{3}}{3} + x - y^{2}}$"
      ],
      "text/plain": [
       "-2*y*exp(-x**3/3 + x - y**2)"
      ]
     },
     "execution_count": 477,
     "metadata": {},
     "output_type": "execute_result"
    }
   ],
   "source": [
    "print('The second element of gradient vector is ')\n",
    "dfy"
   ]
  },
  {
   "cell_type": "markdown",
   "id": "fb102184-0963-4f10-959f-dc101c28516b",
   "metadata": {},
   "source": [
    "> c) Identify on the plot you obtained in part (a) using the expression\n",
    "you obtained in part (b), the gradient vector at three arbitrary\n",
    "locations. (10 points)"
   ]
  },
  {
   "cell_type": "markdown",
   "id": "ff0f5ce3-5460-4cb5-b605-c669507f52a4",
   "metadata": {
    "tags": []
   },
   "source": [
    "#### For value 0,0"
   ]
  },
  {
   "cell_type": "code",
   "execution_count": 478,
   "id": "9667d97d-51f2-48c9-898e-a350ee1e9d75",
   "metadata": {},
   "outputs": [
    {
     "name": "stdout",
     "output_type": "stream",
     "text": [
      "[1.00000000000000, 0]\n"
     ]
    },
    {
     "data": {
      "image/png": "[encoded data removed]",
      "text/plain": [
       "<Figure size 720x360 with 1 Axes>"
      ]
     },
     "metadata": {
      "needs_background": "light"
     },
     "output_type": "display_data"
    }
   ],
   "source": [
    "xval=0\n",
    "yval=0\n",
    "result=[N(dfx.subs([(x,xval),(y,yval)])),N(dfy.subs([(x,xval),(y,yval)]))]\n",
    "w1=np.linspace(-2,3,100)\n",
    "w2=np.linspace(-1.5,1.5,100)\n",
    "[x1,y1]=np.meshgrid(w1,w2)\n",
    "powerTerm=(-x1**3/3)+x1-(y1**2)\n",
    "function=np.exp(powerTerm)\n",
    "plt.figure(figsize=(10,5))\n",
    "plt.xlabel('w1')\n",
    "plt.ylabel('w2')\n",
    "plt.title('Contour graph')\n",
    "plt.contourf(x1,y1,function)\n",
    "plt.quiver(xval,yval,float(result[0]),float(result[1]),width=0.005)\n",
    "\n",
    "print(result)"
   ]
  },
  {
   "cell_type": "markdown",
   "id": "30d0061f-d6e5-46b7-b72b-574105363b0f",
   "metadata": {
    "tags": []
   },
   "source": [
    "#### For value 1.5,0.5"
   ]
  },
  {
   "cell_type": "code",
   "execution_count": 479,
   "id": "42b0559c-8818-46a1-a398-c18f1a1d0297",
   "metadata": {},
   "outputs": [
    {
     "name": "stdout",
     "output_type": "stream",
     "text": [
      "[-1.41643556633353, -1.13314845306683]\n"
     ]
    },
    {
     "data": {
      "image/png": "[encoded data removed]",
      "text/plain": [
       "<Figure size 720x360 with 1 Axes>"
      ]
     },
     "metadata": {
      "needs_background": "light"
     },
     "output_type": "display_data"
    }
   ],
   "source": [
    "xval=1.5\n",
    "yval=0.5\n",
    "result=[N(dfx.subs([(x,xval),(y,yval)])),N(dfy.subs([(x,xval),(y,yval)]))]\n",
    "w1=np.linspace(-2,3,100)\n",
    "w2=np.linspace(-1.5,1.5,100)\n",
    "[x1,y1]=np.meshgrid(w1,w2)\n",
    "powerTerm=(-x1**3/3)+x1-(y1**2)\n",
    "function=np.exp(powerTerm)\n",
    "plt.figure(figsize=(10,5))\n",
    "plt.xlabel('w1')\n",
    "plt.ylabel('w2')\n",
    "plt.title('Contour graph')\n",
    "plt.contourf(x1,y1,function)\n",
    "plt.quiver(xval,yval,float(result[0]),float(result[1]),width=0.005)\n",
    "\n",
    "print(result)"
   ]
  },
  {
   "cell_type": "markdown",
   "id": "4dd0d600-e3ef-49a7-929c-cb0fc0ad39ed",
   "metadata": {
    "tags": []
   },
   "source": [
    "#### For value 1.5,-0.25"
   ]
  },
  {
   "cell_type": "code",
   "execution_count": 480,
   "id": "028f8d16-a2f3-4411-9e30-c701fafa023a",
   "metadata": {},
   "outputs": [
    {
     "name": "stdout",
     "output_type": "stream",
     "text": [
      "[-1.70854742646725, 0.683418970586898]\n"
     ]
    },
    {
     "data": {
      "image/png": "[encoded data removed]",
      "text/plain": [
       "<Figure size 720x360 with 1 Axes>"
      ]
     },
     "metadata": {
      "needs_background": "light"
     },
     "output_type": "display_data"
    }
   ],
   "source": [
    "xval=1.5\n",
    "yval=-0.25\n",
    "result=[N(dfx.subs([(x,xval),(y,yval)])),N(dfy.subs([(x,xval),(y,yval)]))]\n",
    "w1=np.linspace(-2,3,100)\n",
    "w2=np.linspace(-1.5,1.5,100)\n",
    "[x1,y1]=np.meshgrid(w1,w2)\n",
    "powerTerm=(-x1**3/3)+x1-(y1**2)\n",
    "function=np.exp(powerTerm)\n",
    "plt.figure(figsize=(10,5))\n",
    "plt.xlabel('w1')\n",
    "plt.ylabel('w2')\n",
    "plt.title('Contour graph')\n",
    "plt.contourf(x1,y1,function)\n",
    "plt.quiver(xval,yval,float(result[0]),float(result[1]),width=0.005)\n",
    "\n",
    "print(result)"
   ]
  },
  {
   "cell_type": "markdown",
   "id": "dbfe03a9-5189-4247-84b9-3a7bdf867773",
   "metadata": {
    "tags": []
   },
   "source": [
    "#### For value 1,0"
   ]
  },
  {
   "cell_type": "code",
   "execution_count": 482,
   "id": "ad853c3e-16f6-4925-beaf-704c58e0df35",
   "metadata": {},
   "outputs": [
    {
     "name": "stdout",
     "output_type": "stream",
     "text": [
      "[0, 0]\n"
     ]
    },
    {
     "data": {
      "image/png": "[encoded data removed]",
      "text/plain": [
       "<Figure size 720x360 with 1 Axes>"
      ]
     },
     "metadata": {
      "needs_background": "light"
     },
     "output_type": "display_data"
    }
   ],
   "source": [
    "xval=1\n",
    "yval=0\n",
    "result=[N(dfx.subs([(x,xval),(y,yval)])),N(dfy.subs([(x,xval),(y,yval)]))]\n",
    "w1=np.linspace(-2,3,100)\n",
    "w2=np.linspace(-1.5,1.5,100)\n",
    "[x1,y1]=np.meshgrid(w1,w2)\n",
    "powerTerm=(-x1**3/3)+x1-(y1**2)\n",
    "function=np.exp(powerTerm)\n",
    "plt.figure(figsize=(10,5))\n",
    "plt.xlabel('w1')\n",
    "plt.ylabel('w2')\n",
    "plt.title('Contour graph')\n",
    "plt.contourf(x1,y1,function)\n",
    "plt.quiver(xval,yval,float(result[0]),float(result[1]),width=0.005)\n",
    "\n",
    "print(result)"
   ]
  },
  {
   "cell_type": "markdown",
   "id": "e0322725-a975-4fda-8dcf-2c1fbc9e4903",
   "metadata": {
    "tags": []
   },
   "source": [
    "It can be seen that for different values the results gets closer to 0 as it approaches the minima. It can also be seen that the arrow points towards the minima, where the directions are obtained from the results. In the last graph the arrow is not printed because it has reached the minima"
   ]
  },
  {
   "cell_type": "markdown",
   "id": "ef43e7ef-e21b-4aea-ae25-639bd539749c",
   "metadata": {},
   "source": [
    "> d) If feasible, find analytically the weight vector that minimizes the\n",
    "error function such that ∇(w) = 0. (10 points) "
   ]
  },
  {
   "cell_type": "code",
   "execution_count": 483,
   "id": "d00f71bf-76c1-423c-89d5-0b9c3b2772c1",
   "metadata": {},
   "outputs": [],
   "source": [
    "# generating the input terms for calculating Gradient Descent\n",
    "\n",
    "from sympy import *\n",
    "x,y=symbols('x y')\n",
    "f=exp((-(x**3)/3)+x-(y**2)) # Given Loss function,f\n",
    "\n",
    "dfx=Derivative(f,x).doit() #Creating gradient vector by derivation\n",
    "dfy=Derivative(f,y).doit()\n",
    "\n",
    "delFunction=[0,0]\n",
    "delFunction[0]=dfx\n",
    "delFunction[1]=dfy"
   ]
  },
  {
   "cell_type": "code",
   "execution_count": 489,
   "id": "6bb3009d-7cba-4f95-a11b-febe45744f9f",
   "metadata": {},
   "outputs": [],
   "source": [
    "# The assumed input to start with\n",
    "# This can be the actual predictions from a model / system\n",
    "assumedInput=np.array([2,2])"
   ]
  },
  {
   "cell_type": "code",
   "execution_count": 491,
   "id": "d75cc7a6-e60f-45d2-b9ae-bfc6e2b818a9",
   "metadata": {},
   "outputs": [
    {
     "name": "stdout",
     "output_type": "stream",
     "text": [
      "[4.82106877 5.76142502]\n",
      "[4.82106877 5.76142502]\n",
      "[4.82106877 5.76142502]\n",
      "[4.82106877 5.76142502]\n",
      "[4.82106877 5.76142502]\n",
      "[4.82106877 5.76142502]\n",
      "[4.82106877 5.76142502]\n",
      "[4.82106877 5.76142502]\n",
      "[4.82106877 5.76142502]\n",
      "[4.82106877 5.76142502]\n",
      "[4.82106877 5.76142502]\n",
      "[4.82106877 5.76142502]\n",
      "[4.82106877 5.76142502]\n",
      "[4.82106877 5.76142502]\n",
      "[4.82106877 5.76142502]\n",
      "[4.82106877 5.76142502]\n",
      "[4.82106877 5.76142502]\n",
      "[4.82106877 5.76142502]\n",
      "[4.82106877 5.76142502]\n",
      "[4.82106877 5.76142502]\n"
     ]
    }
   ],
   "source": [
    "for i in range(20):\n",
    "    xValue=assumedInput[0]\n",
    "    yValue=assumedInput[1]\n",
    "    stepSize=100\n",
    "    gradientVector=[0,0]\n",
    "    gradientVector[0]=float(N(delFunction[0].subs([(x,xValue),(y,yValue)])))\n",
    "    gradientVector[1]=float(N(delFunction[1].subs([(x,xValue),(y,yValue)])))\n",
    "    # Updating the input vector\n",
    "    assumedInput=assumedInput-stepSize*np.array(gradientVector)\n",
    "    print(assumedInput)"
   ]
  },
  {
   "cell_type": "markdown",
   "id": "109f067d-8ba9-4af9-9cce-4344ac2b159f",
   "metadata": {},
   "source": [
    "#### For all values of x,y the loss functions keeps increasing. However, on testing the same code with other functions, it was found that the values were decreasing. \n",
    "\n",
    "#### It can be because the point identified in the contour can be a local maxima and not a local minima. That may be the reason why the gradient descent fails to find the lower values. "
   ]
  },
  {
   "cell_type": "code",
   "execution_count": null,
   "id": "c68e5be1-4975-490a-a05d-432c155bffa8",
   "metadata": {},
   "outputs": [],
   "source": []
  }
 ],
 "metadata": {
  "kernelspec": {
   "display_name": "Python 3 (ipykernel)",
   "language": "python",
   "name": "python3"
  },
  "language_info": {
   "codemirror_mode": {
    "name": "ipython",
    "version": 3
   },
   "file_extension": ".py",
   "mimetype": "text/x-python",
   "name": "python",
   "nbconvert_exporter": "python",
   "pygments_lexer": "ipython3",
   "version": "3.8.8"
  }
 },
 "nbformat": 4,
 "nbformat_minor": 5
}
