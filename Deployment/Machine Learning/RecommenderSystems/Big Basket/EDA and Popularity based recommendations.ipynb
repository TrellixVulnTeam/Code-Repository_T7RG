{
 "cells": [
  {
   "cell_type": "markdown",
   "metadata": {},
   "source": [
    "# Big basket Analysis"
   ]
  },
  {
   "cell_type": "markdown",
   "metadata": {},
   "source": [
    "## Creating a class for all the basic functions on the dataset"
   ]
  },
  {
   "cell_type": "code",
   "execution_count": 54,
   "metadata": {},
   "outputs": [],
   "source": [
    "import matplotlib.pyplot as plt\n",
    "import pandas as pd"
   ]
  },
  {
   "cell_type": "code",
   "execution_count": 55,
   "metadata": {},
   "outputs": [],
   "source": [
    "class big_basket:\n",
    "    def __init__(self):\n",
    "        ''' '''\n",
    "        import pandas as pd\n",
    "        self.data=pd.read_excel('BigBasketDataset.xlsx','Sheet1') # Reading the sheet 1\n",
    "        \n",
    "    def get_unique(self):\n",
    "        ''' To get unqiue details about the dataset '''\n",
    "        print('[+] The dataset has -',self.data.shape[0],' data points')\n",
    "        print('                    -',self.data['Member'].nunique(),' customer details')\n",
    "        print('                    -',self.data['Description'].nunique(),' unique products')\n",
    "        print('                    - data for ',(self.data['Date'].max()-self.data['Date'].min()).days,' days' )"
   ]
  },
  {
   "cell_type": "code",
   "execution_count": 56,
   "metadata": {},
   "outputs": [],
   "source": [
    "bb=big_basket()"
   ]
  },
  {
   "cell_type": "code",
   "execution_count": 57,
   "metadata": {},
   "outputs": [
    {
     "name": "stdout",
     "output_type": "stream",
     "text": [
      "[+] The dataset has - 59244  data points\n",
      "                    - 106  customer details\n",
      "                    - 214  unique products\n",
      "                    - data for  1332  days\n"
     ]
    }
   ],
   "source": [
    "bb.get_unique()"
   ]
  },
  {
   "cell_type": "markdown",
   "metadata": {},
   "source": [
    "# Exploratory Data Analysis\n"
   ]
  },
  {
   "cell_type": "markdown",
   "metadata": {},
   "source": [
    "## Popularity based recommender system"
   ]
  },
  {
   "cell_type": "code",
   "execution_count": 58,
   "metadata": {},
   "outputs": [
    {
     "data": {
      "text/plain": [
       "Beans                4380\n",
       "Other Vegetables     4370\n",
       "Root Vegetables      4105\n",
       "Other Dals           3109\n",
       "Organic F&V          3036\n",
       "Gourd & Cucumber     2846\n",
       "Whole Spices         2803\n",
       "Brinjals             2467\n",
       "Namkeen              2138\n",
       "Banana               2089\n",
       "Exotic Vegetables    1336\n",
       "Moong Dal            1312\n",
       "Sugar                1278\n",
       "Toor Dal             1244\n",
       "Sooji & Rava         1219\n",
       "Name: Description, dtype: int64"
      ]
     },
     "execution_count": 58,
     "metadata": {},
     "output_type": "execute_result"
    }
   ],
   "source": [
    "bb.data['Description'].value_counts()[0:15]"
   ]
  },
  {
   "cell_type": "markdown",
   "metadata": {},
   "source": [
    "#### The above are the product with maximum sales. Hence these can be recommended for new users, when we do not have any specific user details"
   ]
  },
  {
   "cell_type": "markdown",
   "metadata": {},
   "source": [
    "#### Adding some new columns"
   ]
  },
  {
   "cell_type": "code",
   "execution_count": 59,
   "metadata": {},
   "outputs": [],
   "source": [
    "bb.data['Month']=bb.data['Date'].apply(lambda x: x.month )\n",
    "bb.data['Day']=bb.data['Date'].apply(lambda x: x.day )\n",
    "bb.data['Year']=bb.data['Date'].apply(lambda x: x.year )"
   ]
  },
  {
   "cell_type": "code",
   "execution_count": 153,
   "metadata": {},
   "outputs": [
    {
     "data": {
      "text/html": [
       "<div>\n",
       "<style scoped>\n",
       "    .dataframe tbody tr th:only-of-type {\n",
       "        vertical-align: middle;\n",
       "    }\n",
       "\n",
       "    .dataframe tbody tr th {\n",
       "        vertical-align: top;\n",
       "    }\n",
       "\n",
       "    .dataframe thead th {\n",
       "        text-align: right;\n",
       "    }\n",
       "</style>\n",
       "<table border=\"1\" class=\"dataframe\">\n",
       "  <thead>\n",
       "    <tr style=\"text-align: right;\">\n",
       "      <th></th>\n",
       "      <th>Member</th>\n",
       "      <th>Order</th>\n",
       "      <th>SKU</th>\n",
       "      <th>Date</th>\n",
       "      <th>Description</th>\n",
       "      <th>Month</th>\n",
       "      <th>Day</th>\n",
       "      <th>Year</th>\n",
       "    </tr>\n",
       "  </thead>\n",
       "  <tbody>\n",
       "    <tr>\n",
       "      <th>0</th>\n",
       "      <td>M09736</td>\n",
       "      <td>6468572</td>\n",
       "      <td>34993740</td>\n",
       "      <td>2014-09-22</td>\n",
       "      <td>Other Sauces</td>\n",
       "      <td>9</td>\n",
       "      <td>22</td>\n",
       "      <td>2014</td>\n",
       "    </tr>\n",
       "    <tr>\n",
       "      <th>1</th>\n",
       "      <td>M09736</td>\n",
       "      <td>6468572</td>\n",
       "      <td>15669800</td>\n",
       "      <td>2014-09-22</td>\n",
       "      <td>Cashews</td>\n",
       "      <td>9</td>\n",
       "      <td>22</td>\n",
       "      <td>2014</td>\n",
       "    </tr>\n",
       "    <tr>\n",
       "      <th>2</th>\n",
       "      <td>M09736</td>\n",
       "      <td>6468572</td>\n",
       "      <td>34989501</td>\n",
       "      <td>2014-09-22</td>\n",
       "      <td>Other Dals</td>\n",
       "      <td>9</td>\n",
       "      <td>22</td>\n",
       "      <td>2014</td>\n",
       "    </tr>\n",
       "    <tr>\n",
       "      <th>3</th>\n",
       "      <td>M09736</td>\n",
       "      <td>6468572</td>\n",
       "      <td>7572303</td>\n",
       "      <td>2014-09-22</td>\n",
       "      <td>Namkeen</td>\n",
       "      <td>9</td>\n",
       "      <td>22</td>\n",
       "      <td>2014</td>\n",
       "    </tr>\n",
       "    <tr>\n",
       "      <th>4</th>\n",
       "      <td>M09736</td>\n",
       "      <td>6468572</td>\n",
       "      <td>15669856</td>\n",
       "      <td>2014-09-22</td>\n",
       "      <td>Sugar</td>\n",
       "      <td>9</td>\n",
       "      <td>22</td>\n",
       "      <td>2014</td>\n",
       "    </tr>\n",
       "  </tbody>\n",
       "</table>\n",
       "</div>"
      ],
      "text/plain": [
       "   Member    Order       SKU       Date   Description  Month  Day  Year\n",
       "0  M09736  6468572  34993740 2014-09-22  Other Sauces      9   22  2014\n",
       "1  M09736  6468572  15669800 2014-09-22       Cashews      9   22  2014\n",
       "2  M09736  6468572  34989501 2014-09-22    Other Dals      9   22  2014\n",
       "3  M09736  6468572   7572303 2014-09-22       Namkeen      9   22  2014\n",
       "4  M09736  6468572  15669856 2014-09-22         Sugar      9   22  2014"
      ]
     },
     "execution_count": 153,
     "metadata": {},
     "output_type": "execute_result"
    }
   ],
   "source": [
    "bb.data.head()"
   ]
  },
  {
   "cell_type": "markdown",
   "metadata": {},
   "source": [
    "# Checking for missing values or discrepancies"
   ]
  },
  {
   "cell_type": "code",
   "execution_count": 62,
   "metadata": {},
   "outputs": [
    {
     "name": "stdout",
     "output_type": "stream",
     "text": [
      "<class 'pandas.core.frame.DataFrame'>\n",
      "RangeIndex: 59244 entries, 0 to 59243\n",
      "Data columns (total 8 columns):\n",
      "Member         59244 non-null object\n",
      "Order          59244 non-null int64\n",
      "SKU            59244 non-null int64\n",
      "Date           59244 non-null datetime64[ns]\n",
      "Description    59244 non-null object\n",
      "Month          59244 non-null int64\n",
      "Day            59244 non-null int64\n",
      "Year           59244 non-null int64\n",
      "dtypes: datetime64[ns](1), int64(5), object(2)\n",
      "memory usage: 3.6+ MB\n"
     ]
    }
   ],
   "source": [
    "bb.data.info()"
   ]
  },
  {
   "cell_type": "markdown",
   "metadata": {},
   "source": [
    "Seems like there are no NAN values"
   ]
  },
  {
   "cell_type": "code",
   "execution_count": 65,
   "metadata": {},
   "outputs": [
    {
     "data": {
      "text/plain": [
       "array(['M09736', 'M39021', 'M47229', 'M76390', 'M77779', 'M78365',\n",
       "       'M78720', 'M82651', 'M84827', 'M86304', 'M86572', 'M90375',\n",
       "       'M91098', 'M96365', 'M99030', 'M99206', 'M04158', 'M08075',\n",
       "       'M09303', 'M12050', 'M12127', 'M14746', 'M16218', 'M16611',\n",
       "       'M18732', 'M22037', 'M25900', 'M27458', 'M27871', 'M31101',\n",
       "       'M31908', 'M31966', 'M32039', 'M32409', 'M32449', 'M32480',\n",
       "       'M32655', 'M33064', 'M33422', 'M33491', 'M33558', 'M33745',\n",
       "       'M33767', 'M34566', 'M35070', 'M35464', 'M35538', 'M35649',\n",
       "       'M36366', 'M36432', 'M36702', 'M36876', 'M37253', 'M37600',\n",
       "       'M38622', 'M40184', 'M41700', 'M41747', 'M41781', 'M42182',\n",
       "       'M42513', 'M42827', 'M43189', 'M43831', 'M43977', 'M44156',\n",
       "       'M45375', 'M45470', 'M46325', 'M46328', 'M46575', 'M46687',\n",
       "       'M48101', 'M48154', 'M48938', 'M50038', 'M50094', 'M50420',\n",
       "       'M50767', 'M51043', 'M51278', 'M52629', 'M54100', 'M54345',\n",
       "       'M54382', 'M54619', 'M54796', 'M55932', 'M56255', 'M56309',\n",
       "       'M56368', 'M56489', 'M56516', 'M56897', 'M57093', 'M57327',\n",
       "       'M57354', 'M58761', 'M58939', 'M59012', 'M59232', 'M62656',\n",
       "       'M62833', 'M63404', 'M64055', 'M64379'], dtype=object)"
      ]
     },
     "execution_count": 65,
     "metadata": {},
     "output_type": "execute_result"
    }
   ],
   "source": [
    "bb.data['Member'].unique()"
   ]
  },
  {
   "cell_type": "code",
   "execution_count": 68,
   "metadata": {},
   "outputs": [
    {
     "data": {
      "text/plain": [
       "8001"
      ]
     },
     "execution_count": 68,
     "metadata": {},
     "output_type": "execute_result"
    }
   ],
   "source": [
    "bb.data['Order'].nunique()"
   ]
  },
  {
   "cell_type": "markdown",
   "metadata": {},
   "source": [
    "#### The dataset does not seem to have any discrepancies"
   ]
  },
  {
   "cell_type": "markdown",
   "metadata": {},
   "source": [
    "# Understanding the purchase patterns over time"
   ]
  },
  {
   "cell_type": "code",
   "execution_count": 81,
   "metadata": {},
   "outputs": [
    {
     "data": {
      "text/plain": [
       "Text(0.5, 1.0, 'Customer Purchase patterns over the years')"
      ]
     },
     "execution_count": 81,
     "metadata": {},
     "output_type": "execute_result"
    },
    {
     "data": {
      "image/png": "[encoded data removed]",
      "text/plain": [
       "<Figure size 1440x720 with 1 Axes>"
      ]
     },
     "metadata": {
      "needs_background": "light"
     },
     "output_type": "display_data"
    }
   ],
   "source": [
    "plt.figure(figsize=(20,10))\n",
    "plt.plot(bb.data.groupby(by='Year').count()['Order'].index,bb.data.groupby(by='Year').count()['Order'].values,marker='x')\n",
    "plt.title('Customer Purchase patterns over the years')"
   ]
  },
  {
   "cell_type": "code",
   "execution_count": 83,
   "metadata": {},
   "outputs": [
    {
     "data": {
      "text/plain": [
       "Timestamp('2014-11-03 00:00:00')"
      ]
     },
     "execution_count": 83,
     "metadata": {},
     "output_type": "execute_result"
    }
   ],
   "source": [
    "# Trying to understand the reason for drop in 2014\n",
    "bb.data['Date'].max()\n",
    "\n",
    "# We have data till 3rd November, which is almost the whole year. "
   ]
  },
  {
   "cell_type": "code",
   "execution_count": 120,
   "metadata": {},
   "outputs": [
    {
     "data": {
      "image/png": "[encoded data removed]",
      "text/plain": [
       "<Figure size 1440x720 with 1 Axes>"
      ]
     },
     "metadata": {
      "needs_background": "light"
     },
     "output_type": "display_data"
    }
   ],
   "source": [
    "# Checking the number of customers over years\n",
    "plt.figure(figsize=(20,10))\n",
    "customers_over_years=[bb.data[bb.data['Year']==year]['Member'].nunique()   for year in bb.data['Year'].unique()]\n",
    "plt.plot(bb.data['Year'].unique(),customers_over_years,marker='x')\n",
    "plt.title('Active customers over years')\n",
    "for year,value in zip(bb.data['Year'].unique(),customers_over_years):\n",
    "    plt.text(year,value+2,str(value))\n",
    "plt.text(2012.5, 20, 'The number of active customers have been increasing \\nconsistently, although there is a reduction of 2 active\\n customers in 2014. \\n(Given we do not have data for december)', fontsize = 18)\n",
    "plt.show()"
   ]
  },
  {
   "cell_type": "code",
   "execution_count": 124,
   "metadata": {},
   "outputs": [
    {
     "data": {
      "text/plain": [
       "array([2428, 1807, 2026, 1944, 2458, 2385, 2693, 2572, 2499, 2503, 2345,\n",
       "       2343])"
      ]
     },
     "execution_count": 124,
     "metadata": {},
     "output_type": "execute_result"
    }
   ],
   "source": [
    "bb.data[bb.data['Year']==2013].groupby(by='Month').count()['Member'].values"
   ]
  },
  {
   "cell_type": "code",
   "execution_count": 143,
   "metadata": {},
   "outputs": [],
   "source": [
    "months={1:'January',2:'February',3:'March',4:'April',5:'May',6:'June',7:'July',8:'August',9:'September',10:'October',11:'November',12:'December'}"
   ]
  },
  {
   "cell_type": "code",
   "execution_count": 149,
   "metadata": {},
   "outputs": [
    {
     "data": {
      "image/png": "[encoded data removed]",
      "text/plain": [
       "<Figure size 720x1440 with 4 Axes>"
      ]
     },
     "metadata": {
      "needs_background": "light"
     },
     "output_type": "display_data"
    }
   ],
   "source": [
    "# Understanding the change in purchase habbits over the months\n",
    "plt.figure(figsize=(10,20))\n",
    "i=1\n",
    "for year in bb.data['Year'].unique():\n",
    "    plt.subplot(4,1,i)\n",
    "    data=bb.data[bb.data['Year']==year].groupby(by='Month').count()['Member']\n",
    "    plt.plot([months[i] for i in data.index],data.values,marker='x')\n",
    "    plt.title('Purchasing pattern over months in '+str(year))\n",
    "    i+=1"
   ]
  },
  {
   "cell_type": "markdown",
   "metadata": {},
   "source": [
    "#### It can be seen that there is considerable increase in customer purchases till 2014 May, and the purchases has been dropping since then"
   ]
  },
  {
   "cell_type": "markdown",
   "metadata": {},
   "source": [
    "# Identifying the products purchased after 2014 April"
   ]
  },
  {
   "cell_type": "code",
   "execution_count": 156,
   "metadata": {},
   "outputs": [
    {
     "data": {
      "text/plain": [
       "Root Vegetables                                                                                                                                                                      837\n",
       "Other Vegetables                                                                                                                                                                     831\n",
       "Beans                                                                                                                                                                                714\n",
       "Other Dals                                                                                                                                                                           698\n",
       "Whole Spices                                                                                                                                                                         672\n",
       "Namkeen                                                                                                                                                                              543\n",
       "Gourd & Cucumber                                                                                                                                                                     495\n",
       "Banana                                                                                                                                                                               425\n",
       "Brinjals                                                                                                                                                                             350\n",
       "Moong Dal                                                                                                                                                                            260\n",
       "Toor Dal                                                                                                                                                                             256\n",
       "Exotic Vegetables                                                                                                                                                                    250\n",
       "Sugar                                                                                                                                                                                247\n",
       "Organic F&V                                                                                                                                                                          244\n",
       "Sooji & Rava                                                                                                                                                                         235\n",
       "Bread                                                                                                                                                                                193\n",
       "Raw Rice                                                                                                                                                                             176\n",
       "Other Rice Products                                                                                                                                                                  170\n",
       "Urad Dal                                                                                                                                                                             168\n",
       "Cream Biscuits                                                                                                                                                                       135\n",
       "Chips                                                                                                                                                                                134\n",
       "Organic Dals & Pulses                                                                                                                                                                132\n",
       "Avalakki / Poha                                                                                                                                                                      129\n",
       "Sunflower Oils                                                                                                                                                                       123\n",
       "Cashews                                                                                                                                                                              114\n",
       "Boiled Rice                                                                                                                                                                          107\n",
       "Raw Peanuts                                                                                                                                                                          105\n",
       "Health Drinks                                                                                                                                                                        104\n",
       "Almonds                                                                                                                                                                              104\n",
       "Other Dry Fruits                                                                                                                                                                     103\n",
       "                                                                                                                                                                                    ... \n",
       "Tomato Sauce                                                                                                                                                                           2\n",
       "Facial Tissues                                                                                                                                                                         2\n",
       "Colours                                                                                                                                                                                2\n",
       "Pet Food                                                                                                                                                                               2\n",
       "Pens                                                                                                                                                                                   2\n",
       "Car Freshener                                                                                                                                                                          2\n",
       "Beverages                                                                                                                                                                              1\n",
       "Dishwash Liquids & Pastes                                                                                                                                                              1\n",
       "CFLs,cfls,7832553,2,0\\r\\n7831582,Channa Dal,channa-dal,7832491,2,0\\r\\n7832360,Cheese,cheese,7832363,2,0\\r\\n7831689,Chewing Gum,chewing-gum,7831685,2,0\\r\\n7832047,ChildrenS Books      1\n",
       "Toffee & Candy                                                                                                                                                                         1\n",
       "Floor Cleaners                                                                                                                                                                         1\n",
       "Green Tea                                                                                                                                                                              1\n",
       "Bottle & Tin Openers                                                                                                                                                                   1\n",
       "Cutters, Peelers & Scrapers                                                                                                                                                            1\n",
       "Soup                                                                                                                                                                                   1\n",
       "Mixed Fruit Jam                                                                                                                                                                        1\n",
       "Exam Boards                                                                                                                                                                            1\n",
       "Cookery Books                                                                                                                                                                          1\n",
       "Hair Conditioner                                                                                                                                                                       1\n",
       "Wafers                                                                                                                                                                                 1\n",
       "Glass Cleaners                                                                                                                                                                         1\n",
       "After Shave                                                                                                                                                                            1\n",
       "Car Shampoo & Wax                                                                                                                                                                      1\n",
       "Pre & Post Wash Care                                                                                                                                                                   1\n",
       "Toilet Cleaning                                                                                                                                                                        1\n",
       "Mens Deo                                                                                                                                                                               1\n",
       "Ice Cream                                                                                                                                                                              1\n",
       "Shaving Brush                                                                                                                                                                          1\n",
       "Other Soft Drinks                                                                                                                                                                      1\n",
       "Disposable Plates & Utensils                                                                                                                                                           1\n",
       "Name: Description, Length: 176, dtype: int64"
      ]
     },
     "execution_count": 156,
     "metadata": {},
     "output_type": "execute_result"
    }
   ],
   "source": [
    "bb.data[(bb.data['Year']==2014)&(bb.data['Month']>4)]['Description'].value_counts()"
   ]
  },
  {
   "cell_type": "markdown",
   "metadata": {},
   "source": [
    "## Variation of Customer Purcharse habbits"
   ]
  },
  {
   "cell_type": "code",
   "execution_count": 8,
   "metadata": {},
   "outputs": [
    {
     "data": {
      "image/png": "[encoded data removed]",
      "text/plain": [
       "<Figure size 2160x1440 with 4 Axes>"
      ]
     },
     "metadata": {
      "needs_background": "light"
     },
     "output_type": "display_data"
    }
   ],
   "source": [
    "plt.figure(figsize=(30,20))\n",
    "i=1\n",
    "for year in bb.data['Year'].unique():\n",
    "    x_axis=[bb.data[bb.data['Year']==year]['Description'].value_counts()[0:3].index]\n",
    "    y_axis=[bb.data[bb.data['Year']==year]['Description'].value_counts()[0:3].values]\n",
    "    plt.subplot(2,5,i)\n",
    "    plt.bar(x_axis[0],y_axis[0])\n",
    "    plt.title('Top purchases in '+str(year))\n",
    "    i+=1"
   ]
  },
  {
   "cell_type": "markdown",
   "metadata": {},
   "source": [
    "### It seems that Beans, Root Vegatables, and Organic Vegatables are the most purchsed product over the years"
   ]
  },
  {
   "cell_type": "code",
   "execution_count": 9,
   "metadata": {},
   "outputs": [
    {
     "data": {
      "image/png": "[encoded data removed]",
      "text/plain": [
       "<Figure size 2160x1440 with 12 Axes>"
      ]
     },
     "metadata": {
      "needs_background": "light"
     },
     "output_type": "display_data"
    }
   ],
   "source": [
    "plt.figure(figsize=(30,20))\n",
    "i=1\n",
    "for month in bb.data['Month'].unique():\n",
    "    x_axis=[bb.data[bb.data['Month']==month]['Description'].value_counts()[0:3].index]\n",
    "    y_axis=[bb.data[bb.data['Month']==month]['Description'].value_counts()[0:3].values]\n",
    "    plt.subplot(2,6,i)\n",
    "    plt.bar(x_axis[0],y_axis[0])\n",
    "    plt.title('Top purchases in '+str(month)+' th Month of year')\n",
    "    i+=1"
   ]
  },
  {
   "cell_type": "markdown",
   "metadata": {},
   "source": [
    "### Based on the most purchased products and the changing trends over the years and months, it seems that Beans, Other vegatables and Root vegetables are something which can be recommended to new users"
   ]
  },
  {
   "cell_type": "markdown",
   "metadata": {},
   "source": [
    "# Creating clusters for different user groups"
   ]
  },
  {
   "cell_type": "code",
   "execution_count": 10,
   "metadata": {},
   "outputs": [],
   "source": [
    "top1=[]\n",
    "top2=[]\n",
    "top3=[]\n",
    "top4=[]\n",
    "members=[]\n",
    "for member in bb.data['Member'].unique():\n",
    "    members.append(member)\n",
    "    top1.append(bb.data[bb.data['Member']==member]['Description'].value_counts()[0:4].index[0])\n",
    "    top2.append(bb.data[bb.data['Member']==member]['Description'].value_counts()[0:4].index[1])\n",
    "    top3.append(bb.data[bb.data['Member']==member]['Description'].value_counts()[0:4].index[2])\n",
    "    top4.append(bb.data[bb.data['Member']==member]['Description'].value_counts()[0:4].index[3])\n"
   ]
  },
  {
   "cell_type": "code",
   "execution_count": 11,
   "metadata": {},
   "outputs": [],
   "source": [
    "t1=[]\n",
    "t2=[]\n",
    "t3=[]\n",
    "t4=[]\n",
    "for i,row in bb.data.iterrows():\n",
    "    index = members.index(row['Member'])\n",
    "    t1.append(top1[index])\n",
    "    t2.append(top2[index])\n",
    "    t3.append(top3[index])\n",
    "    t4.append(top4[index])"
   ]
  },
  {
   "cell_type": "code",
   "execution_count": 12,
   "metadata": {},
   "outputs": [],
   "source": [
    "bb.data['Top1']=t1\n",
    "bb.data['Top2']=t2\n",
    "bb.data['Top3']=t3\n",
    "bb.data['Top4']=t4\n"
   ]
  },
  {
   "cell_type": "markdown",
   "metadata": {},
   "source": [
    "#### Label Encoding the data"
   ]
  },
  {
   "cell_type": "code",
   "execution_count": 13,
   "metadata": {},
   "outputs": [],
   "source": [
    "products=list(bb.data['Top1'])+list(bb.data['Top2'])+list(bb.data['Top3'])+list(bb.data['Top4'])\n",
    "products=list(set(products))\n",
    "product_dictionary={}\n",
    "product_dictionary={ products[i]: i for i in range(len(products))}"
   ]
  },
  {
   "cell_type": "code",
   "execution_count": 14,
   "metadata": {},
   "outputs": [
    {
     "name": "stderr",
     "output_type": "stream",
     "text": [
      "/home/blink/anaconda3/lib/python3.7/site-packages/ipykernel_launcher.py:3: SettingWithCopyWarning: \n",
      "A value is trying to be set on a copy of a slice from a DataFrame.\n",
      "Try using .loc[row_indexer,col_indexer] = value instead\n",
      "\n",
      "See the caveats in the documentation: http://pandas.pydata.org/pandas-docs/stable/indexing.html#indexing-view-versus-copy\n",
      "  This is separate from the ipykernel package so we can avoid doing imports until\n"
     ]
    }
   ],
   "source": [
    "cluster_data=bb.data[['Top1', 'Top2', 'Top3', 'Top4']]\n",
    "for column in cluster_data.columns:\n",
    "    cluster_data[column]=cluster_data[column].apply(lambda x: product_dictionary[x])"
   ]
  },
  {
   "cell_type": "markdown",
   "metadata": {},
   "source": [
    "### Creating clusters with Kmeans"
   ]
  },
  {
   "cell_type": "code",
   "execution_count": 15,
   "metadata": {},
   "outputs": [
    {
     "name": "stderr",
     "output_type": "stream",
     "text": [
      "/home/blink/anaconda3/lib/python3.7/site-packages/sklearn/utils/validation.py:37: DeprecationWarning: distutils Version classes are deprecated. Use packaging.version instead.\n",
      "  LARGE_SPARSE_SUPPORTED = LooseVersion(scipy_version) >= '0.14.0'\n",
      "100%|██████████| 38/38 [00:25<00:00,  1.11s/it]\n"
     ]
    },
    {
     "data": {
      "text/plain": [
       "[<matplotlib.lines.Line2D at 0x7ffa79bcff60>]"
      ]
     },
     "execution_count": 15,
     "metadata": {},
     "output_type": "execute_result"
    },
    {
     "data": {
      "image/png": "[encoded data removed]",
      "text/plain": [
       "<Figure size 432x288 with 1 Axes>"
      ]
     },
     "metadata": {
      "needs_background": "light"
     },
     "output_type": "display_data"
    }
   ],
   "source": [
    "import numpy as np\n",
    "from sklearn.cluster  import KMeans\n",
    "from tqdm import tqdm\n",
    "scores=[]\n",
    "for i in tqdm(range(2,40)):\n",
    "    km=KMeans(n_clusters=i)\n",
    "    km.fit(cluster_data)\n",
    "    scores.append(km.inertia_)\n",
    "\n",
    "plt.plot(np.arange(2,40),scores)"
   ]
  },
  {
   "cell_type": "code",
   "execution_count": 16,
   "metadata": {},
   "outputs": [
    {
     "data": {
      "text/plain": [
       "KMeans(algorithm='auto', copy_x=True, init='k-means++', max_iter=300,\n",
       "    n_clusters=5, n_init=10, n_jobs=None, precompute_distances='auto',\n",
       "    random_state=None, tol=0.0001, verbose=0)"
      ]
     },
     "execution_count": 16,
     "metadata": {},
     "output_type": "execute_result"
    }
   ],
   "source": [
    "km=KMeans(n_clusters=5)\n",
    "km.fit(cluster_data)"
   ]
  },
  {
   "cell_type": "code",
   "execution_count": 17,
   "metadata": {},
   "outputs": [],
   "source": [
    "classes=km.predict(cluster_data)"
   ]
  },
  {
   "cell_type": "code",
   "execution_count": 18,
   "metadata": {},
   "outputs": [],
   "source": [
    "bb.data['Cluster']=classes"
   ]
  },
  {
   "cell_type": "code",
   "execution_count": 19,
   "metadata": {},
   "outputs": [
    {
     "data": {
      "text/html": [
       "<div>\n",
       "<style scoped>\n",
       "    .dataframe tbody tr th:only-of-type {\n",
       "        vertical-align: middle;\n",
       "    }\n",
       "\n",
       "    .dataframe tbody tr th {\n",
       "        vertical-align: top;\n",
       "    }\n",
       "\n",
       "    .dataframe thead th {\n",
       "        text-align: right;\n",
       "    }\n",
       "</style>\n",
       "<table border=\"1\" class=\"dataframe\">\n",
       "  <thead>\n",
       "    <tr style=\"text-align: right;\">\n",
       "      <th></th>\n",
       "      <th>Member</th>\n",
       "      <th>Order</th>\n",
       "      <th>SKU</th>\n",
       "      <th>Date</th>\n",
       "      <th>Description</th>\n",
       "      <th>Month</th>\n",
       "      <th>Day</th>\n",
       "      <th>Year</th>\n",
       "      <th>Top1</th>\n",
       "      <th>Top2</th>\n",
       "      <th>Top3</th>\n",
       "      <th>Top4</th>\n",
       "      <th>Cluster</th>\n",
       "    </tr>\n",
       "  </thead>\n",
       "  <tbody>\n",
       "    <tr>\n",
       "      <th>554</th>\n",
       "      <td>M39021</td>\n",
       "      <td>6422636</td>\n",
       "      <td>7580802</td>\n",
       "      <td>2014-09-28</td>\n",
       "      <td>Sunflower Oils</td>\n",
       "      <td>9</td>\n",
       "      <td>28</td>\n",
       "      <td>2014</td>\n",
       "      <td>Beans</td>\n",
       "      <td>Root Vegetables</td>\n",
       "      <td>Sunflower Oils</td>\n",
       "      <td>Other Vegetables</td>\n",
       "      <td>1</td>\n",
       "    </tr>\n",
       "    <tr>\n",
       "      <th>555</th>\n",
       "      <td>M39021</td>\n",
       "      <td>6422636</td>\n",
       "      <td>15668453</td>\n",
       "      <td>2014-09-28</td>\n",
       "      <td>Brinjals</td>\n",
       "      <td>9</td>\n",
       "      <td>28</td>\n",
       "      <td>2014</td>\n",
       "      <td>Beans</td>\n",
       "      <td>Root Vegetables</td>\n",
       "      <td>Sunflower Oils</td>\n",
       "      <td>Other Vegetables</td>\n",
       "      <td>1</td>\n",
       "    </tr>\n",
       "    <tr>\n",
       "      <th>556</th>\n",
       "      <td>M39021</td>\n",
       "      <td>6422636</td>\n",
       "      <td>15668375</td>\n",
       "      <td>2014-09-28</td>\n",
       "      <td>Root Vegetables</td>\n",
       "      <td>9</td>\n",
       "      <td>28</td>\n",
       "      <td>2014</td>\n",
       "      <td>Beans</td>\n",
       "      <td>Root Vegetables</td>\n",
       "      <td>Sunflower Oils</td>\n",
       "      <td>Other Vegetables</td>\n",
       "      <td>1</td>\n",
       "    </tr>\n",
       "    <tr>\n",
       "      <th>557</th>\n",
       "      <td>M39021</td>\n",
       "      <td>6422636</td>\n",
       "      <td>15668379</td>\n",
       "      <td>2014-09-28</td>\n",
       "      <td>Other Vegetables</td>\n",
       "      <td>9</td>\n",
       "      <td>28</td>\n",
       "      <td>2014</td>\n",
       "      <td>Beans</td>\n",
       "      <td>Root Vegetables</td>\n",
       "      <td>Sunflower Oils</td>\n",
       "      <td>Other Vegetables</td>\n",
       "      <td>1</td>\n",
       "    </tr>\n",
       "    <tr>\n",
       "      <th>558</th>\n",
       "      <td>M39021</td>\n",
       "      <td>6422636</td>\n",
       "      <td>15669760</td>\n",
       "      <td>2014-09-28</td>\n",
       "      <td>Whole Spices</td>\n",
       "      <td>9</td>\n",
       "      <td>28</td>\n",
       "      <td>2014</td>\n",
       "      <td>Beans</td>\n",
       "      <td>Root Vegetables</td>\n",
       "      <td>Sunflower Oils</td>\n",
       "      <td>Other Vegetables</td>\n",
       "      <td>1</td>\n",
       "    </tr>\n",
       "  </tbody>\n",
       "</table>\n",
       "</div>"
      ],
      "text/plain": [
       "     Member    Order       SKU       Date       Description  Month  Day  Year  \\\n",
       "554  M39021  6422636   7580802 2014-09-28    Sunflower Oils      9   28  2014   \n",
       "555  M39021  6422636  15668453 2014-09-28          Brinjals      9   28  2014   \n",
       "556  M39021  6422636  15668375 2014-09-28   Root Vegetables      9   28  2014   \n",
       "557  M39021  6422636  15668379 2014-09-28  Other Vegetables      9   28  2014   \n",
       "558  M39021  6422636  15669760 2014-09-28      Whole Spices      9   28  2014   \n",
       "\n",
       "      Top1             Top2            Top3              Top4  Cluster  \n",
       "554  Beans  Root Vegetables  Sunflower Oils  Other Vegetables        1  \n",
       "555  Beans  Root Vegetables  Sunflower Oils  Other Vegetables        1  \n",
       "556  Beans  Root Vegetables  Sunflower Oils  Other Vegetables        1  \n",
       "557  Beans  Root Vegetables  Sunflower Oils  Other Vegetables        1  \n",
       "558  Beans  Root Vegetables  Sunflower Oils  Other Vegetables        1  "
      ]
     },
     "execution_count": 19,
     "metadata": {},
     "output_type": "execute_result"
    }
   ],
   "source": [
    "bb.data[bb.data['Cluster']==1].head()"
   ]
  },
  {
   "cell_type": "code",
   "execution_count": 20,
   "metadata": {},
   "outputs": [
    {
     "data": {
      "text/html": [
       "<div>\n",
       "<style scoped>\n",
       "    .dataframe tbody tr th:only-of-type {\n",
       "        vertical-align: middle;\n",
       "    }\n",
       "\n",
       "    .dataframe tbody tr th {\n",
       "        vertical-align: top;\n",
       "    }\n",
       "\n",
       "    .dataframe thead th {\n",
       "        text-align: right;\n",
       "    }\n",
       "</style>\n",
       "<table border=\"1\" class=\"dataframe\">\n",
       "  <thead>\n",
       "    <tr style=\"text-align: right;\">\n",
       "      <th></th>\n",
       "      <th>Member</th>\n",
       "      <th>Order</th>\n",
       "      <th>SKU</th>\n",
       "      <th>Date</th>\n",
       "      <th>Description</th>\n",
       "      <th>Month</th>\n",
       "      <th>Day</th>\n",
       "      <th>Year</th>\n",
       "      <th>Top1</th>\n",
       "      <th>Top2</th>\n",
       "      <th>Top3</th>\n",
       "      <th>Top4</th>\n",
       "      <th>Cluster</th>\n",
       "    </tr>\n",
       "  </thead>\n",
       "  <tbody>\n",
       "    <tr>\n",
       "      <th>969</th>\n",
       "      <td>M47229</td>\n",
       "      <td>6764413</td>\n",
       "      <td>7621580</td>\n",
       "      <td>2014-02-07</td>\n",
       "      <td>Diapers &amp; Wipes</td>\n",
       "      <td>2</td>\n",
       "      <td>7</td>\n",
       "      <td>2014</td>\n",
       "      <td>Beans</td>\n",
       "      <td>Root Vegetables</td>\n",
       "      <td>Other Vegetables</td>\n",
       "      <td>Whole Spices</td>\n",
       "      <td>0</td>\n",
       "    </tr>\n",
       "    <tr>\n",
       "      <th>970</th>\n",
       "      <td>M47229</td>\n",
       "      <td>6764413</td>\n",
       "      <td>92866692</td>\n",
       "      <td>2014-02-07</td>\n",
       "      <td>Diapers &amp; Wipes</td>\n",
       "      <td>2</td>\n",
       "      <td>7</td>\n",
       "      <td>2014</td>\n",
       "      <td>Beans</td>\n",
       "      <td>Root Vegetables</td>\n",
       "      <td>Other Vegetables</td>\n",
       "      <td>Whole Spices</td>\n",
       "      <td>0</td>\n",
       "    </tr>\n",
       "    <tr>\n",
       "      <th>971</th>\n",
       "      <td>M47229</td>\n",
       "      <td>6764413</td>\n",
       "      <td>7630963</td>\n",
       "      <td>2014-02-07</td>\n",
       "      <td>Tomato Ketchup</td>\n",
       "      <td>2</td>\n",
       "      <td>7</td>\n",
       "      <td>2014</td>\n",
       "      <td>Beans</td>\n",
       "      <td>Root Vegetables</td>\n",
       "      <td>Other Vegetables</td>\n",
       "      <td>Whole Spices</td>\n",
       "      <td>0</td>\n",
       "    </tr>\n",
       "    <tr>\n",
       "      <th>972</th>\n",
       "      <td>M47229</td>\n",
       "      <td>6810613</td>\n",
       "      <td>15669870</td>\n",
       "      <td>2014-06-27</td>\n",
       "      <td>Sooji &amp; Rava</td>\n",
       "      <td>6</td>\n",
       "      <td>27</td>\n",
       "      <td>2014</td>\n",
       "      <td>Beans</td>\n",
       "      <td>Root Vegetables</td>\n",
       "      <td>Other Vegetables</td>\n",
       "      <td>Whole Spices</td>\n",
       "      <td>0</td>\n",
       "    </tr>\n",
       "    <tr>\n",
       "      <th>973</th>\n",
       "      <td>M47229</td>\n",
       "      <td>6810613</td>\n",
       "      <td>15668473</td>\n",
       "      <td>2014-06-27</td>\n",
       "      <td>Beans</td>\n",
       "      <td>6</td>\n",
       "      <td>27</td>\n",
       "      <td>2014</td>\n",
       "      <td>Beans</td>\n",
       "      <td>Root Vegetables</td>\n",
       "      <td>Other Vegetables</td>\n",
       "      <td>Whole Spices</td>\n",
       "      <td>0</td>\n",
       "    </tr>\n",
       "  </tbody>\n",
       "</table>\n",
       "</div>"
      ],
      "text/plain": [
       "     Member    Order       SKU       Date      Description  Month  Day  Year  \\\n",
       "969  M47229  6764413   7621580 2014-02-07  Diapers & Wipes      2    7  2014   \n",
       "970  M47229  6764413  92866692 2014-02-07  Diapers & Wipes      2    7  2014   \n",
       "971  M47229  6764413   7630963 2014-02-07   Tomato Ketchup      2    7  2014   \n",
       "972  M47229  6810613  15669870 2014-06-27     Sooji & Rava      6   27  2014   \n",
       "973  M47229  6810613  15668473 2014-06-27            Beans      6   27  2014   \n",
       "\n",
       "      Top1             Top2              Top3          Top4  Cluster  \n",
       "969  Beans  Root Vegetables  Other Vegetables  Whole Spices        0  \n",
       "970  Beans  Root Vegetables  Other Vegetables  Whole Spices        0  \n",
       "971  Beans  Root Vegetables  Other Vegetables  Whole Spices        0  \n",
       "972  Beans  Root Vegetables  Other Vegetables  Whole Spices        0  \n",
       "973  Beans  Root Vegetables  Other Vegetables  Whole Spices        0  "
      ]
     },
     "execution_count": 20,
     "metadata": {},
     "output_type": "execute_result"
    }
   ],
   "source": [
    "bb.data[bb.data['Cluster']==0].head()"
   ]
  },
  {
   "cell_type": "code",
   "execution_count": 21,
   "metadata": {},
   "outputs": [
    {
     "data": {
      "text/html": [
       "<div>\n",
       "<style scoped>\n",
       "    .dataframe tbody tr th:only-of-type {\n",
       "        vertical-align: middle;\n",
       "    }\n",
       "\n",
       "    .dataframe tbody tr th {\n",
       "        vertical-align: top;\n",
       "    }\n",
       "\n",
       "    .dataframe thead th {\n",
       "        text-align: right;\n",
       "    }\n",
       "</style>\n",
       "<table border=\"1\" class=\"dataframe\">\n",
       "  <thead>\n",
       "    <tr style=\"text-align: right;\">\n",
       "      <th></th>\n",
       "      <th>Member</th>\n",
       "      <th>Order</th>\n",
       "      <th>SKU</th>\n",
       "      <th>Date</th>\n",
       "      <th>Description</th>\n",
       "      <th>Month</th>\n",
       "      <th>Day</th>\n",
       "      <th>Year</th>\n",
       "      <th>Top1</th>\n",
       "      <th>Top2</th>\n",
       "      <th>Top3</th>\n",
       "      <th>Top4</th>\n",
       "      <th>Cluster</th>\n",
       "    </tr>\n",
       "  </thead>\n",
       "  <tbody>\n",
       "    <tr>\n",
       "      <th>2203</th>\n",
       "      <td>M78365</td>\n",
       "      <td>6470598</td>\n",
       "      <td>34986122</td>\n",
       "      <td>2014-09-23</td>\n",
       "      <td>Whole Spices</td>\n",
       "      <td>9</td>\n",
       "      <td>23</td>\n",
       "      <td>2014</td>\n",
       "      <td>Root Vegetables</td>\n",
       "      <td>Other Vegetables</td>\n",
       "      <td>Whole Spices</td>\n",
       "      <td>Gourd &amp; Cucumber</td>\n",
       "      <td>2</td>\n",
       "    </tr>\n",
       "    <tr>\n",
       "      <th>2204</th>\n",
       "      <td>M78365</td>\n",
       "      <td>6470598</td>\n",
       "      <td>34993759</td>\n",
       "      <td>2014-09-23</td>\n",
       "      <td>Other Sauces</td>\n",
       "      <td>9</td>\n",
       "      <td>23</td>\n",
       "      <td>2014</td>\n",
       "      <td>Root Vegetables</td>\n",
       "      <td>Other Vegetables</td>\n",
       "      <td>Whole Spices</td>\n",
       "      <td>Gourd &amp; Cucumber</td>\n",
       "      <td>2</td>\n",
       "    </tr>\n",
       "    <tr>\n",
       "      <th>2205</th>\n",
       "      <td>M78365</td>\n",
       "      <td>6470598</td>\n",
       "      <td>34986118</td>\n",
       "      <td>2014-09-23</td>\n",
       "      <td>Whole Spices</td>\n",
       "      <td>9</td>\n",
       "      <td>23</td>\n",
       "      <td>2014</td>\n",
       "      <td>Root Vegetables</td>\n",
       "      <td>Other Vegetables</td>\n",
       "      <td>Whole Spices</td>\n",
       "      <td>Gourd &amp; Cucumber</td>\n",
       "      <td>2</td>\n",
       "    </tr>\n",
       "    <tr>\n",
       "      <th>2206</th>\n",
       "      <td>M78365</td>\n",
       "      <td>6470598</td>\n",
       "      <td>21408913</td>\n",
       "      <td>2014-09-23</td>\n",
       "      <td>Whole Spices</td>\n",
       "      <td>9</td>\n",
       "      <td>23</td>\n",
       "      <td>2014</td>\n",
       "      <td>Root Vegetables</td>\n",
       "      <td>Other Vegetables</td>\n",
       "      <td>Whole Spices</td>\n",
       "      <td>Gourd &amp; Cucumber</td>\n",
       "      <td>2</td>\n",
       "    </tr>\n",
       "    <tr>\n",
       "      <th>2207</th>\n",
       "      <td>M78365</td>\n",
       "      <td>6470598</td>\n",
       "      <td>34993740</td>\n",
       "      <td>2014-09-23</td>\n",
       "      <td>Other Sauces</td>\n",
       "      <td>9</td>\n",
       "      <td>23</td>\n",
       "      <td>2014</td>\n",
       "      <td>Root Vegetables</td>\n",
       "      <td>Other Vegetables</td>\n",
       "      <td>Whole Spices</td>\n",
       "      <td>Gourd &amp; Cucumber</td>\n",
       "      <td>2</td>\n",
       "    </tr>\n",
       "  </tbody>\n",
       "</table>\n",
       "</div>"
      ],
      "text/plain": [
       "      Member    Order       SKU       Date   Description  Month  Day  Year  \\\n",
       "2203  M78365  6470598  34986122 2014-09-23  Whole Spices      9   23  2014   \n",
       "2204  M78365  6470598  34993759 2014-09-23  Other Sauces      9   23  2014   \n",
       "2205  M78365  6470598  34986118 2014-09-23  Whole Spices      9   23  2014   \n",
       "2206  M78365  6470598  21408913 2014-09-23  Whole Spices      9   23  2014   \n",
       "2207  M78365  6470598  34993740 2014-09-23  Other Sauces      9   23  2014   \n",
       "\n",
       "                 Top1              Top2          Top3              Top4  \\\n",
       "2203  Root Vegetables  Other Vegetables  Whole Spices  Gourd & Cucumber   \n",
       "2204  Root Vegetables  Other Vegetables  Whole Spices  Gourd & Cucumber   \n",
       "2205  Root Vegetables  Other Vegetables  Whole Spices  Gourd & Cucumber   \n",
       "2206  Root Vegetables  Other Vegetables  Whole Spices  Gourd & Cucumber   \n",
       "2207  Root Vegetables  Other Vegetables  Whole Spices  Gourd & Cucumber   \n",
       "\n",
       "      Cluster  \n",
       "2203        2  \n",
       "2204        2  \n",
       "2205        2  \n",
       "2206        2  \n",
       "2207        2  "
      ]
     },
     "execution_count": 21,
     "metadata": {},
     "output_type": "execute_result"
    }
   ],
   "source": [
    "bb.data[bb.data['Cluster']==2].head()"
   ]
  },
  {
   "cell_type": "code",
   "execution_count": 22,
   "metadata": {},
   "outputs": [
    {
     "data": {
      "text/html": [
       "<div>\n",
       "<style scoped>\n",
       "    .dataframe tbody tr th:only-of-type {\n",
       "        vertical-align: middle;\n",
       "    }\n",
       "\n",
       "    .dataframe tbody tr th {\n",
       "        vertical-align: top;\n",
       "    }\n",
       "\n",
       "    .dataframe thead th {\n",
       "        text-align: right;\n",
       "    }\n",
       "</style>\n",
       "<table border=\"1\" class=\"dataframe\">\n",
       "  <thead>\n",
       "    <tr style=\"text-align: right;\">\n",
       "      <th></th>\n",
       "      <th>Member</th>\n",
       "      <th>Order</th>\n",
       "      <th>SKU</th>\n",
       "      <th>Date</th>\n",
       "      <th>Description</th>\n",
       "      <th>Month</th>\n",
       "      <th>Day</th>\n",
       "      <th>Year</th>\n",
       "      <th>Top1</th>\n",
       "      <th>Top2</th>\n",
       "      <th>Top3</th>\n",
       "      <th>Top4</th>\n",
       "      <th>Cluster</th>\n",
       "    </tr>\n",
       "  </thead>\n",
       "  <tbody>\n",
       "    <tr>\n",
       "      <th>0</th>\n",
       "      <td>M09736</td>\n",
       "      <td>6468572</td>\n",
       "      <td>34993740</td>\n",
       "      <td>2014-09-22</td>\n",
       "      <td>Other Sauces</td>\n",
       "      <td>9</td>\n",
       "      <td>22</td>\n",
       "      <td>2014</td>\n",
       "      <td>Banana</td>\n",
       "      <td>Beans</td>\n",
       "      <td>Other Dals</td>\n",
       "      <td>Root Vegetables</td>\n",
       "      <td>3</td>\n",
       "    </tr>\n",
       "    <tr>\n",
       "      <th>1</th>\n",
       "      <td>M09736</td>\n",
       "      <td>6468572</td>\n",
       "      <td>15669800</td>\n",
       "      <td>2014-09-22</td>\n",
       "      <td>Cashews</td>\n",
       "      <td>9</td>\n",
       "      <td>22</td>\n",
       "      <td>2014</td>\n",
       "      <td>Banana</td>\n",
       "      <td>Beans</td>\n",
       "      <td>Other Dals</td>\n",
       "      <td>Root Vegetables</td>\n",
       "      <td>3</td>\n",
       "    </tr>\n",
       "    <tr>\n",
       "      <th>2</th>\n",
       "      <td>M09736</td>\n",
       "      <td>6468572</td>\n",
       "      <td>34989501</td>\n",
       "      <td>2014-09-22</td>\n",
       "      <td>Other Dals</td>\n",
       "      <td>9</td>\n",
       "      <td>22</td>\n",
       "      <td>2014</td>\n",
       "      <td>Banana</td>\n",
       "      <td>Beans</td>\n",
       "      <td>Other Dals</td>\n",
       "      <td>Root Vegetables</td>\n",
       "      <td>3</td>\n",
       "    </tr>\n",
       "    <tr>\n",
       "      <th>3</th>\n",
       "      <td>M09736</td>\n",
       "      <td>6468572</td>\n",
       "      <td>7572303</td>\n",
       "      <td>2014-09-22</td>\n",
       "      <td>Namkeen</td>\n",
       "      <td>9</td>\n",
       "      <td>22</td>\n",
       "      <td>2014</td>\n",
       "      <td>Banana</td>\n",
       "      <td>Beans</td>\n",
       "      <td>Other Dals</td>\n",
       "      <td>Root Vegetables</td>\n",
       "      <td>3</td>\n",
       "    </tr>\n",
       "    <tr>\n",
       "      <th>4</th>\n",
       "      <td>M09736</td>\n",
       "      <td>6468572</td>\n",
       "      <td>15669856</td>\n",
       "      <td>2014-09-22</td>\n",
       "      <td>Sugar</td>\n",
       "      <td>9</td>\n",
       "      <td>22</td>\n",
       "      <td>2014</td>\n",
       "      <td>Banana</td>\n",
       "      <td>Beans</td>\n",
       "      <td>Other Dals</td>\n",
       "      <td>Root Vegetables</td>\n",
       "      <td>3</td>\n",
       "    </tr>\n",
       "  </tbody>\n",
       "</table>\n",
       "</div>"
      ],
      "text/plain": [
       "   Member    Order       SKU       Date   Description  Month  Day  Year  \\\n",
       "0  M09736  6468572  34993740 2014-09-22  Other Sauces      9   22  2014   \n",
       "1  M09736  6468572  15669800 2014-09-22       Cashews      9   22  2014   \n",
       "2  M09736  6468572  34989501 2014-09-22    Other Dals      9   22  2014   \n",
       "3  M09736  6468572   7572303 2014-09-22       Namkeen      9   22  2014   \n",
       "4  M09736  6468572  15669856 2014-09-22         Sugar      9   22  2014   \n",
       "\n",
       "     Top1   Top2        Top3             Top4  Cluster  \n",
       "0  Banana  Beans  Other Dals  Root Vegetables        3  \n",
       "1  Banana  Beans  Other Dals  Root Vegetables        3  \n",
       "2  Banana  Beans  Other Dals  Root Vegetables        3  \n",
       "3  Banana  Beans  Other Dals  Root Vegetables        3  \n",
       "4  Banana  Beans  Other Dals  Root Vegetables        3  "
      ]
     },
     "execution_count": 22,
     "metadata": {},
     "output_type": "execute_result"
    }
   ],
   "source": [
    "bb.data[bb.data['Cluster']==3].head()"
   ]
  },
  {
   "cell_type": "code",
   "execution_count": 23,
   "metadata": {},
   "outputs": [
    {
     "data": {
      "text/html": [
       "<div>\n",
       "<style scoped>\n",
       "    .dataframe tbody tr th:only-of-type {\n",
       "        vertical-align: middle;\n",
       "    }\n",
       "\n",
       "    .dataframe tbody tr th {\n",
       "        vertical-align: top;\n",
       "    }\n",
       "\n",
       "    .dataframe thead th {\n",
       "        text-align: right;\n",
       "    }\n",
       "</style>\n",
       "<table border=\"1\" class=\"dataframe\">\n",
       "  <thead>\n",
       "    <tr style=\"text-align: right;\">\n",
       "      <th></th>\n",
       "      <th>Member</th>\n",
       "      <th>Order</th>\n",
       "      <th>SKU</th>\n",
       "      <th>Date</th>\n",
       "      <th>Description</th>\n",
       "      <th>Month</th>\n",
       "      <th>Day</th>\n",
       "      <th>Year</th>\n",
       "      <th>Top1</th>\n",
       "      <th>Top2</th>\n",
       "      <th>Top3</th>\n",
       "      <th>Top4</th>\n",
       "      <th>Cluster</th>\n",
       "    </tr>\n",
       "  </thead>\n",
       "  <tbody>\n",
       "    <tr>\n",
       "      <th>4222</th>\n",
       "      <td>M86304</td>\n",
       "      <td>6440137</td>\n",
       "      <td>15669879</td>\n",
       "      <td>2014-04-10</td>\n",
       "      <td>Other Dals</td>\n",
       "      <td>4</td>\n",
       "      <td>10</td>\n",
       "      <td>2014</td>\n",
       "      <td>Other Vegetables</td>\n",
       "      <td>Gourd &amp; Cucumber</td>\n",
       "      <td>Other Dals</td>\n",
       "      <td>Whole Spices</td>\n",
       "      <td>4</td>\n",
       "    </tr>\n",
       "    <tr>\n",
       "      <th>4223</th>\n",
       "      <td>M86304</td>\n",
       "      <td>6440137</td>\n",
       "      <td>15669885</td>\n",
       "      <td>2014-04-10</td>\n",
       "      <td>Moong Dal</td>\n",
       "      <td>4</td>\n",
       "      <td>10</td>\n",
       "      <td>2014</td>\n",
       "      <td>Other Vegetables</td>\n",
       "      <td>Gourd &amp; Cucumber</td>\n",
       "      <td>Other Dals</td>\n",
       "      <td>Whole Spices</td>\n",
       "      <td>4</td>\n",
       "    </tr>\n",
       "    <tr>\n",
       "      <th>4224</th>\n",
       "      <td>M86304</td>\n",
       "      <td>6440137</td>\n",
       "      <td>15668380</td>\n",
       "      <td>2014-04-10</td>\n",
       "      <td>Other Vegetables</td>\n",
       "      <td>4</td>\n",
       "      <td>10</td>\n",
       "      <td>2014</td>\n",
       "      <td>Other Vegetables</td>\n",
       "      <td>Gourd &amp; Cucumber</td>\n",
       "      <td>Other Dals</td>\n",
       "      <td>Whole Spices</td>\n",
       "      <td>4</td>\n",
       "    </tr>\n",
       "    <tr>\n",
       "      <th>4225</th>\n",
       "      <td>M86304</td>\n",
       "      <td>6440137</td>\n",
       "      <td>15668458</td>\n",
       "      <td>2014-04-10</td>\n",
       "      <td>Brinjals</td>\n",
       "      <td>4</td>\n",
       "      <td>10</td>\n",
       "      <td>2014</td>\n",
       "      <td>Other Vegetables</td>\n",
       "      <td>Gourd &amp; Cucumber</td>\n",
       "      <td>Other Dals</td>\n",
       "      <td>Whole Spices</td>\n",
       "      <td>4</td>\n",
       "    </tr>\n",
       "    <tr>\n",
       "      <th>4226</th>\n",
       "      <td>M86304</td>\n",
       "      <td>6440137</td>\n",
       "      <td>7621686</td>\n",
       "      <td>2014-04-10</td>\n",
       "      <td>Butter &amp; Cream</td>\n",
       "      <td>4</td>\n",
       "      <td>10</td>\n",
       "      <td>2014</td>\n",
       "      <td>Other Vegetables</td>\n",
       "      <td>Gourd &amp; Cucumber</td>\n",
       "      <td>Other Dals</td>\n",
       "      <td>Whole Spices</td>\n",
       "      <td>4</td>\n",
       "    </tr>\n",
       "  </tbody>\n",
       "</table>\n",
       "</div>"
      ],
      "text/plain": [
       "      Member    Order       SKU       Date       Description  Month  Day  \\\n",
       "4222  M86304  6440137  15669879 2014-04-10        Other Dals      4   10   \n",
       "4223  M86304  6440137  15669885 2014-04-10         Moong Dal      4   10   \n",
       "4224  M86304  6440137  15668380 2014-04-10  Other Vegetables      4   10   \n",
       "4225  M86304  6440137  15668458 2014-04-10          Brinjals      4   10   \n",
       "4226  M86304  6440137   7621686 2014-04-10    Butter & Cream      4   10   \n",
       "\n",
       "      Year              Top1              Top2        Top3          Top4  \\\n",
       "4222  2014  Other Vegetables  Gourd & Cucumber  Other Dals  Whole Spices   \n",
       "4223  2014  Other Vegetables  Gourd & Cucumber  Other Dals  Whole Spices   \n",
       "4224  2014  Other Vegetables  Gourd & Cucumber  Other Dals  Whole Spices   \n",
       "4225  2014  Other Vegetables  Gourd & Cucumber  Other Dals  Whole Spices   \n",
       "4226  2014  Other Vegetables  Gourd & Cucumber  Other Dals  Whole Spices   \n",
       "\n",
       "      Cluster  \n",
       "4222        4  \n",
       "4223        4  \n",
       "4224        4  \n",
       "4225        4  \n",
       "4226        4  "
      ]
     },
     "execution_count": 23,
     "metadata": {},
     "output_type": "execute_result"
    }
   ],
   "source": [
    "bb.data[bb.data['Cluster']==4].head()"
   ]
  },
  {
   "cell_type": "markdown",
   "metadata": {},
   "source": [
    "# Now we can segment the customers into these clusters and give them recommendation based on the shopping patterns. \n",
    "# This will also help in classifying a new customer quickly based on their shopping patterns\n",
    "# The problem with this approach is, if a new product is added, the model will have to be trained again. "
   ]
  },
  {
   "cell_type": "markdown",
   "metadata": {},
   "source": [
    "# Understanding the purchasing patterns over time "
   ]
  },
  {
   "cell_type": "code",
   "execution_count": 53,
   "metadata": {},
   "outputs": [
    {
     "data": {
      "text/html": [
       "<div>\n",
       "<style scoped>\n",
       "    .dataframe tbody tr th:only-of-type {\n",
       "        vertical-align: middle;\n",
       "    }\n",
       "\n",
       "    .dataframe tbody tr th {\n",
       "        vertical-align: top;\n",
       "    }\n",
       "\n",
       "    .dataframe thead th {\n",
       "        text-align: right;\n",
       "    }\n",
       "</style>\n",
       "<table border=\"1\" class=\"dataframe\">\n",
       "  <thead>\n",
       "    <tr style=\"text-align: right;\">\n",
       "      <th></th>\n",
       "      <th>Cluster</th>\n",
       "      <th>Day</th>\n",
       "      <th>Month</th>\n",
       "      <th>SKU</th>\n",
       "      <th>Year</th>\n",
       "    </tr>\n",
       "    <tr>\n",
       "      <th>Order</th>\n",
       "      <th></th>\n",
       "      <th></th>\n",
       "      <th></th>\n",
       "      <th></th>\n",
       "      <th></th>\n",
       "    </tr>\n",
       "  </thead>\n",
       "  <tbody>\n",
       "    <tr>\n",
       "      <th>6764413</th>\n",
       "      <td>0</td>\n",
       "      <td>7</td>\n",
       "      <td>2</td>\n",
       "      <td>3.603974e+07</td>\n",
       "      <td>2014</td>\n",
       "    </tr>\n",
       "    <tr>\n",
       "      <th>6810613</th>\n",
       "      <td>0</td>\n",
       "      <td>27</td>\n",
       "      <td>6</td>\n",
       "      <td>1.515528e+07</td>\n",
       "      <td>2014</td>\n",
       "    </tr>\n",
       "    <tr>\n",
       "      <th>7344021</th>\n",
       "      <td>0</td>\n",
       "      <td>14</td>\n",
       "      <td>10</td>\n",
       "      <td>1.566847e+07</td>\n",
       "      <td>2013</td>\n",
       "    </tr>\n",
       "    <tr>\n",
       "      <th>7344026</th>\n",
       "      <td>0</td>\n",
       "      <td>14</td>\n",
       "      <td>10</td>\n",
       "      <td>1.566914e+07</td>\n",
       "      <td>2013</td>\n",
       "    </tr>\n",
       "    <tr>\n",
       "      <th>7348830</th>\n",
       "      <td>0</td>\n",
       "      <td>16</td>\n",
       "      <td>10</td>\n",
       "      <td>5.035396e+07</td>\n",
       "      <td>2013</td>\n",
       "    </tr>\n",
       "    <tr>\n",
       "      <th>7364862</th>\n",
       "      <td>0</td>\n",
       "      <td>27</td>\n",
       "      <td>10</td>\n",
       "      <td>2.014401e+07</td>\n",
       "      <td>2013</td>\n",
       "    </tr>\n",
       "    <tr>\n",
       "      <th>7381180</th>\n",
       "      <td>0</td>\n",
       "      <td>28</td>\n",
       "      <td>9</td>\n",
       "      <td>2.110834e+07</td>\n",
       "      <td>2013</td>\n",
       "    </tr>\n",
       "    <tr>\n",
       "      <th>7395210</th>\n",
       "      <td>0</td>\n",
       "      <td>10</td>\n",
       "      <td>5</td>\n",
       "      <td>1.638621e+07</td>\n",
       "      <td>2013</td>\n",
       "    </tr>\n",
       "    <tr>\n",
       "      <th>7411467</th>\n",
       "      <td>0</td>\n",
       "      <td>9</td>\n",
       "      <td>6</td>\n",
       "      <td>1.818886e+07</td>\n",
       "      <td>2013</td>\n",
       "    </tr>\n",
       "    <tr>\n",
       "      <th>7436039</th>\n",
       "      <td>0</td>\n",
       "      <td>21</td>\n",
       "      <td>9</td>\n",
       "      <td>1.477005e+07</td>\n",
       "      <td>2013</td>\n",
       "    </tr>\n",
       "    <tr>\n",
       "      <th>7457093</th>\n",
       "      <td>0</td>\n",
       "      <td>26</td>\n",
       "      <td>8</td>\n",
       "      <td>1.538717e+07</td>\n",
       "      <td>2013</td>\n",
       "    </tr>\n",
       "    <tr>\n",
       "      <th>7868179</th>\n",
       "      <td>0</td>\n",
       "      <td>6</td>\n",
       "      <td>8</td>\n",
       "      <td>1.743652e+07</td>\n",
       "      <td>2014</td>\n",
       "    </tr>\n",
       "    <tr>\n",
       "      <th>7885756</th>\n",
       "      <td>0</td>\n",
       "      <td>14</td>\n",
       "      <td>6</td>\n",
       "      <td>1.566864e+07</td>\n",
       "      <td>2014</td>\n",
       "    </tr>\n",
       "    <tr>\n",
       "      <th>7902318</th>\n",
       "      <td>0</td>\n",
       "      <td>30</td>\n",
       "      <td>5</td>\n",
       "      <td>1.648217e+07</td>\n",
       "      <td>2014</td>\n",
       "    </tr>\n",
       "    <tr>\n",
       "      <th>7939582</th>\n",
       "      <td>0</td>\n",
       "      <td>20</td>\n",
       "      <td>5</td>\n",
       "      <td>1.378373e+07</td>\n",
       "      <td>2014</td>\n",
       "    </tr>\n",
       "    <tr>\n",
       "      <th>7998140</th>\n",
       "      <td>0</td>\n",
       "      <td>23</td>\n",
       "      <td>4</td>\n",
       "      <td>7.598510e+06</td>\n",
       "      <td>2014</td>\n",
       "    </tr>\n",
       "    <tr>\n",
       "      <th>8015110</th>\n",
       "      <td>0</td>\n",
       "      <td>30</td>\n",
       "      <td>4</td>\n",
       "      <td>1.434960e+07</td>\n",
       "      <td>2014</td>\n",
       "    </tr>\n",
       "    <tr>\n",
       "      <th>8060426</th>\n",
       "      <td>0</td>\n",
       "      <td>21</td>\n",
       "      <td>4</td>\n",
       "      <td>1.548591e+07</td>\n",
       "      <td>2014</td>\n",
       "    </tr>\n",
       "    <tr>\n",
       "      <th>8080319</th>\n",
       "      <td>0</td>\n",
       "      <td>4</td>\n",
       "      <td>2</td>\n",
       "      <td>1.626845e+07</td>\n",
       "      <td>2014</td>\n",
       "    </tr>\n",
       "    <tr>\n",
       "      <th>8093390</th>\n",
       "      <td>0</td>\n",
       "      <td>4</td>\n",
       "      <td>7</td>\n",
       "      <td>3.299919e+07</td>\n",
       "      <td>2014</td>\n",
       "    </tr>\n",
       "    <tr>\n",
       "      <th>8103936</th>\n",
       "      <td>0</td>\n",
       "      <td>15</td>\n",
       "      <td>3</td>\n",
       "      <td>1.365758e+07</td>\n",
       "      <td>2014</td>\n",
       "    </tr>\n",
       "    <tr>\n",
       "      <th>8166237</th>\n",
       "      <td>0</td>\n",
       "      <td>14</td>\n",
       "      <td>2</td>\n",
       "      <td>2.463590e+07</td>\n",
       "      <td>2014</td>\n",
       "    </tr>\n",
       "    <tr>\n",
       "      <th>8176830</th>\n",
       "      <td>0</td>\n",
       "      <td>19</td>\n",
       "      <td>2</td>\n",
       "      <td>1.566936e+07</td>\n",
       "      <td>2014</td>\n",
       "    </tr>\n",
       "    <tr>\n",
       "      <th>8234929</th>\n",
       "      <td>0</td>\n",
       "      <td>16</td>\n",
       "      <td>1</td>\n",
       "      <td>2.039466e+07</td>\n",
       "      <td>2014</td>\n",
       "    </tr>\n",
       "    <tr>\n",
       "      <th>8256521</th>\n",
       "      <td>0</td>\n",
       "      <td>28</td>\n",
       "      <td>1</td>\n",
       "      <td>1.414670e+07</td>\n",
       "      <td>2014</td>\n",
       "    </tr>\n",
       "    <tr>\n",
       "      <th>8257806</th>\n",
       "      <td>0</td>\n",
       "      <td>26</td>\n",
       "      <td>12</td>\n",
       "      <td>1.760175e+07</td>\n",
       "      <td>2013</td>\n",
       "    </tr>\n",
       "    <tr>\n",
       "      <th>8273230</th>\n",
       "      <td>0</td>\n",
       "      <td>1</td>\n",
       "      <td>3</td>\n",
       "      <td>1.478707e+07</td>\n",
       "      <td>2014</td>\n",
       "    </tr>\n",
       "    <tr>\n",
       "      <th>8302629</th>\n",
       "      <td>0</td>\n",
       "      <td>14</td>\n",
       "      <td>12</td>\n",
       "      <td>1.505014e+07</td>\n",
       "      <td>2013</td>\n",
       "    </tr>\n",
       "    <tr>\n",
       "      <th>8315358</th>\n",
       "      <td>0</td>\n",
       "      <td>21</td>\n",
       "      <td>12</td>\n",
       "      <td>2.674722e+07</td>\n",
       "      <td>2013</td>\n",
       "    </tr>\n",
       "    <tr>\n",
       "      <th>8335213</th>\n",
       "      <td>0</td>\n",
       "      <td>27</td>\n",
       "      <td>11</td>\n",
       "      <td>1.432731e+07</td>\n",
       "      <td>2013</td>\n",
       "    </tr>\n",
       "    <tr>\n",
       "      <th>8351531</th>\n",
       "      <td>0</td>\n",
       "      <td>12</td>\n",
       "      <td>5</td>\n",
       "      <td>1.528411e+07</td>\n",
       "      <td>2013</td>\n",
       "    </tr>\n",
       "    <tr>\n",
       "      <th>8369997</th>\n",
       "      <td>0</td>\n",
       "      <td>11</td>\n",
       "      <td>9</td>\n",
       "      <td>1.824105e+07</td>\n",
       "      <td>2013</td>\n",
       "    </tr>\n",
       "    <tr>\n",
       "      <th>8381577</th>\n",
       "      <td>0</td>\n",
       "      <td>16</td>\n",
       "      <td>11</td>\n",
       "      <td>2.557863e+07</td>\n",
       "      <td>2013</td>\n",
       "    </tr>\n",
       "  </tbody>\n",
       "</table>\n",
       "</div>"
      ],
      "text/plain": [
       "         Cluster  Day  Month           SKU  Year\n",
       "Order                                           \n",
       "6764413        0    7      2  3.603974e+07  2014\n",
       "6810613        0   27      6  1.515528e+07  2014\n",
       "7344021        0   14     10  1.566847e+07  2013\n",
       "7344026        0   14     10  1.566914e+07  2013\n",
       "7348830        0   16     10  5.035396e+07  2013\n",
       "7364862        0   27     10  2.014401e+07  2013\n",
       "7381180        0   28      9  2.110834e+07  2013\n",
       "7395210        0   10      5  1.638621e+07  2013\n",
       "7411467        0    9      6  1.818886e+07  2013\n",
       "7436039        0   21      9  1.477005e+07  2013\n",
       "7457093        0   26      8  1.538717e+07  2013\n",
       "7868179        0    6      8  1.743652e+07  2014\n",
       "7885756        0   14      6  1.566864e+07  2014\n",
       "7902318        0   30      5  1.648217e+07  2014\n",
       "7939582        0   20      5  1.378373e+07  2014\n",
       "7998140        0   23      4  7.598510e+06  2014\n",
       "8015110        0   30      4  1.434960e+07  2014\n",
       "8060426        0   21      4  1.548591e+07  2014\n",
       "8080319        0    4      2  1.626845e+07  2014\n",
       "8093390        0    4      7  3.299919e+07  2014\n",
       "8103936        0   15      3  1.365758e+07  2014\n",
       "8166237        0   14      2  2.463590e+07  2014\n",
       "8176830        0   19      2  1.566936e+07  2014\n",
       "8234929        0   16      1  2.039466e+07  2014\n",
       "8256521        0   28      1  1.414670e+07  2014\n",
       "8257806        0   26     12  1.760175e+07  2013\n",
       "8273230        0    1      3  1.478707e+07  2014\n",
       "8302629        0   14     12  1.505014e+07  2013\n",
       "8315358        0   21     12  2.674722e+07  2013\n",
       "8335213        0   27     11  1.432731e+07  2013\n",
       "8351531        0   12      5  1.528411e+07  2013\n",
       "8369997        0   11      9  1.824105e+07  2013\n",
       "8381577        0   16     11  2.557863e+07  2013"
      ]
     },
     "execution_count": 53,
     "metadata": {},
     "output_type": "execute_result"
    }
   ],
   "source": [
    "pd.pivot_table(bb.data[bb.data['Member']=='M47229'],index='Order')"
   ]
  },
  {
   "cell_type": "code",
   "execution_count": null,
   "metadata": {},
   "outputs": [],
   "source": []
  },
  {
   "cell_type": "code",
   "execution_count": null,
   "metadata": {},
   "outputs": [],
   "source": []
  },
  {
   "cell_type": "code",
   "execution_count": null,
   "metadata": {},
   "outputs": [],
   "source": []
  },
  {
   "cell_type": "code",
   "execution_count": null,
   "metadata": {},
   "outputs": [],
   "source": []
  },
  {
   "cell_type": "code",
   "execution_count": null,
   "metadata": {},
   "outputs": [],
   "source": []
  },
  {
   "cell_type": "code",
   "execution_count": null,
   "metadata": {},
   "outputs": [],
   "source": []
  },
  {
   "cell_type": "code",
   "execution_count": null,
   "metadata": {},
   "outputs": [],
   "source": []
  },
  {
   "cell_type": "code",
   "execution_count": null,
   "metadata": {},
   "outputs": [],
   "source": []
  },
  {
   "cell_type": "code",
   "execution_count": null,
   "metadata": {},
   "outputs": [],
   "source": []
  },
  {
   "cell_type": "code",
   "execution_count": null,
   "metadata": {},
   "outputs": [],
   "source": []
  },
  {
   "cell_type": "code",
   "execution_count": null,
   "metadata": {},
   "outputs": [],
   "source": []
  },
  {
   "cell_type": "code",
   "execution_count": null,
   "metadata": {},
   "outputs": [],
   "source": []
  },
  {
   "cell_type": "code",
   "execution_count": null,
   "metadata": {},
   "outputs": [],
   "source": []
  }
 ],
 "metadata": {
  "kernelspec": {
   "display_name": "Python 3",
   "language": "python",
   "name": "python3"
  },
  "language_info": {
   "codemirror_mode": {
    "name": "ipython",
    "version": 3
   },
   "file_extension": ".py",
   "mimetype": "text/x-python",
   "name": "python",
   "nbconvert_exporter": "python",
   "pygments_lexer": "ipython3",
   "version": "3.7.3"
  }
 },
 "nbformat": 4,
 "nbformat_minor": 2
}
