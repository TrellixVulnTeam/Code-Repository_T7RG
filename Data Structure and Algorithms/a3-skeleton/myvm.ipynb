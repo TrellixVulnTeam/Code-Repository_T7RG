{
 "cells": [
  {
   "cell_type": "code",
   "execution_count": 5,
   "id": "a6fa0c21-cef9-47b0-97a6-dd591f203485",
   "metadata": {},
   "outputs": [],
   "source": [
    "from myvm import *\n",
    "from myserver import *"
   ]
  },
  {
   "cell_type": "markdown",
   "id": "941c47ff-53b9-4820-a876-a9d1d5f18e6e",
   "metadata": {},
   "source": [
    "### Creating a server"
   ]
  },
  {
   "cell_type": "code",
   "execution_count": 14,
   "id": "27a9b599-f64e-47d0-bb06-7cdad4f5ad87",
   "metadata": {},
   "outputs": [],
   "source": [
    "stats={'stotal': 0, 'sidle': 0, 'sactive': 0, 'sfail': 0, 'sdeleted': 0, 'vtotal': 0,\n",
    " 'vprovision': 0, 'vactive': 0, 'vidle': 0, 'vdeleted': 0}\n",
    "sconf = namedtuple('sconf', 'name ncpu mem ')\n",
    "sc=sconf('s1',100,100)\n",
    "myserv=myserver(sc,stats)"
   ]
  },
  {
   "cell_type": "markdown",
   "id": "0d65368d-a3b7-40d6-ad15-4352c6060d22",
   "metadata": {},
   "source": [
    "### Creating few VM's"
   ]
  },
  {
   "cell_type": "code",
   "execution_count": 16,
   "id": "6616077e-67d8-4a99-a7ce-adb2fdb29bb7",
   "metadata": {},
   "outputs": [],
   "source": [
    "vc=vconf('v1',10,10)\n",
    "vm=myvm(vc,myserv,stats)"
   ]
  },
  {
   "cell_type": "code",
   "execution_count": 17,
   "id": "e08acbe0-36ee-4be1-88d1-5c41923d3d71",
   "metadata": {},
   "outputs": [
    {
     "data": {
      "text/plain": [
       "<myvm.myvm at 0x7fd4c08c4df0>"
      ]
     },
     "execution_count": 17,
     "metadata": {},
     "output_type": "execute_result"
    }
   ],
   "source": [
    "myserv"
   ]
  },
  {
   "cell_type": "code",
   "execution_count": 147,
   "id": "481e6bb7-2cba-4542-b395-dad0fdcc4a0f",
   "metadata": {},
   "outputs": [
    {
     "ename": "NameError",
     "evalue": "name 'vm' is not defined",
     "output_type": "error",
     "traceback": [
      "\u001b[0;31m---------------------------------------------------------------------------\u001b[0m",
      "\u001b[0;31mNameError\u001b[0m                                 Traceback (most recent call last)",
      "\u001b[0;32m/tmp/ipykernel_41248/1032850662.py\u001b[0m in \u001b[0;36m<module>\u001b[0;34m\u001b[0m\n\u001b[0;32m----> 1\u001b[0;31m \u001b[0mvm\u001b[0m\u001b[0;34m.\u001b[0m\u001b[0mstate\u001b[0m\u001b[0;34m=\u001b[0m\u001b[0;34m'fail'\u001b[0m\u001b[0;34m\u001b[0m\u001b[0;34m\u001b[0m\u001b[0m\n\u001b[0m",
      "\u001b[0;31mNameError\u001b[0m: name 'vm' is not defined"
     ]
    }
   ],
   "source": [
    "vm.state='fail'"
   ]
  },
  {
   "cell_type": "code",
   "execution_count": 100,
   "id": "a8e3a91c-3130-4f42-ac6e-2c630881dc4e",
   "metadata": {},
   "outputs": [],
   "source": [
    "name='s2'\n",
    "mem=100\n",
    "cpu=5"
   ]
  },
  {
   "cell_type": "code",
   "execution_count": 122,
   "id": "d1635587-cd11-4148-9e49-03352019e9b0",
   "metadata": {},
   "outputs": [],
   "source": [
    "crm_stat_fields=('stotal', 'sidle', 'sactive', 'sfail', 'sdeleted', 'vtotal', 'vprovision', 'vactive', 'vidle', 'vdeleted')\n",
    "crm_stat=namedtuple('crm_stat', crm_stat_fields, defaults=(0,)*len(crm_stat_fields))\n"
   ]
  },
  {
   "cell_type": "code",
   "execution_count": 130,
   "id": "e02ec85c-041f-4409-8c8e-0601bb834059",
   "metadata": {},
   "outputs": [],
   "source": [
    "stat=crm_stat()"
   ]
  },
  {
   "cell_type": "code",
   "execution_count": 131,
   "id": "0dff9588-c0ad-4df8-97ac-f1754b7a260e",
   "metadata": {},
   "outputs": [
    {
     "data": {
      "text/plain": [
       "0"
      ]
     },
     "execution_count": 131,
     "metadata": {},
     "output_type": "execute_result"
    }
   ],
   "source": [
    "stat.sidle"
   ]
  },
  {
   "cell_type": "code",
   "execution_count": 120,
   "id": "df4c809d-0b28-487a-8144-fbc28de750fd",
   "metadata": {},
   "outputs": [],
   "source": [
    "vconf=namedtuple('vc',['name','mem','ncpu'])\n",
    "vc=vconf(1,2,3)"
   ]
  },
  {
   "cell_type": "code",
   "execution_count": 134,
   "id": "e64af76e-f43b-4544-9564-17e618764890",
   "metadata": {},
   "outputs": [],
   "source": [
    "stat_types=['stotal', 'sidle', 'sactive', 'sfail', 'sdeleted', 'vtotal',\n",
    "                'vprovision', 'vactive', 'vidle', 'vdeleted' ]\n",
    "stats={}\n",
    "for i in stat_types:\n",
    "    stats[i]=0"
   ]
  },
  {
   "cell_type": "code",
   "execution_count": 135,
   "id": "7c6ab13c-d16d-4080-8773-70cd771d39ca",
   "metadata": {},
   "outputs": [
    {
     "data": {
      "text/plain": [
       "0"
      ]
     },
     "execution_count": 135,
     "metadata": {},
     "output_type": "execute_result"
    }
   ],
   "source": [
    "stats['stotal']"
   ]
  },
  {
   "cell_type": "code",
   "execution_count": 136,
   "id": "dad59f4f-7d45-405a-85a5-f4b38cdca6f9",
   "metadata": {},
   "outputs": [],
   "source": [
    "myl=mylist('stack')"
   ]
  },
  {
   "cell_type": "code",
   "execution_count": 138,
   "id": "9ed3ed05-1f46-4dca-8907-19c7672546ff",
   "metadata": {},
   "outputs": [],
   "source": [
    "myl.push(10)"
   ]
  },
  {
   "cell_type": "code",
   "execution_count": 142,
   "id": "e3f2df13-8796-4900-a3ba-e06132d2fd67",
   "metadata": {},
   "outputs": [],
   "source": [
    "myl.push('s2')"
   ]
  },
  {
   "cell_type": "code",
   "execution_count": 143,
   "id": "0a0e1411-8063-49fd-b1b1-82785ec50db6",
   "metadata": {},
   "outputs": [
    {
     "name": "stdout",
     "output_type": "stream",
     "text": [
      "s2\n",
      "23\n",
      "10\n"
     ]
    }
   ],
   "source": [
    "for i in myl:\n",
    "    print(i)"
   ]
  },
  {
   "cell_type": "code",
   "execution_count": null,
   "id": "2b8b2d7e-3a4d-42b9-b944-5c13cd1f11b9",
   "metadata": {},
   "outputs": [],
   "source": []
  }
 ],
 "metadata": {
  "kernelspec": {
   "display_name": "Python 3 (ipykernel)",
   "language": "python",
   "name": "python3"
  },
  "language_info": {
   "codemirror_mode": {
    "name": "ipython",
    "version": 3
   },
   "file_extension": ".py",
   "mimetype": "text/x-python",
   "name": "python",
   "nbconvert_exporter": "python",
   "pygments_lexer": "ipython3",
   "version": "3.8.8"
  }
 },
 "nbformat": 4,
 "nbformat_minor": 5
}
