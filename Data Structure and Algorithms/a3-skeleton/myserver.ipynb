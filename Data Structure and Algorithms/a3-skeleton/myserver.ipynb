{
 "cells": [
  {
   "cell_type": "code",
   "execution_count": 142,
   "id": "a4f5b698-1a85-475a-b1cc-b4ac13908d66",
   "metadata": {},
   "outputs": [],
   "source": [
    "import os\n",
    "import sys\n",
    "from mylist import *\n",
    "from collections import namedtuple\n",
    "\n",
    "class myserver_activevms(Exception):\n",
    "    def __init__(self, server, message=\"Active VMs are present\"):\n",
    "        self.server=server\n",
    "        self.message=message\n",
    "    def __str__(self):\n",
    "        return f'{self.server} -> {self.message}'\n",
    "\n",
    "class myserver_bad_state_change(Exception):\n",
    "    def __init__(self, server, newstate, message=\"Active VMs are present\"):\n",
    "        self.server=server\n",
    "        self.newstate=newstate\n",
    "        self.message=message\n",
    "    def __str__(self):\n",
    "        return f'{self.server.sr} oldstate: {self.server.state} newstate: {self.newstate} vmsactive: {self.server.nvms} -> {self.message}'\n",
    "\n",
    "    \n",
    "# Sconf object with details about the server like the name, memory needed and the cpu needed\n",
    "    \n",
    "class sconf:\n",
    "\n",
    "    def __init__(self,name,mem,ncpu):\n",
    "        self.mem=mem\n",
    "        self.ncpu=ncpu\n",
    "        self.name=name\n",
    "\n",
    "    def __str__(self):\n",
    "        return f'Server_Name: {self.name} Server_Memory: {self.memory} Server_CPU: {self.ncpu}'\n",
    "\n",
    "# This object implements the relevant operations/sate for the workings described\n",
    "# in the mycrm object above. It will maintain the stats in the stats object sent\n",
    "# in the init. Do not change the signature of the init class. You can add any\n",
    "# more members you want other than what is listed.\n",
    "\n",
    "# states:\n",
    "# 'idle' : ready to accept vm's and can have vms in 'provision' state bound to\n",
    "# it.\n",
    "# 'active' : ready to accept vm's and should have atleast one vm in 'active'\n",
    "# state and other vms can be in either 'active' or in 'provision' state.\n",
    "#\n",
    "# 'fail' : can be failed and go to this state if there are no vms bound to it.\n",
    "#\n",
    "# 'deleted' : finally deleted but object will cease to exist after this.\n",
    "\n",
    "class myserver():\n",
    "\n",
    "    # DO NOT change the init signature.\n",
    "    # DO not change the members here. You are welcome to add more. But the\n",
    "    # members described here has to be maintained, including the stats otherwise\n",
    "    # Else all tests will fail and it wont be graded.\n",
    "\n",
    "    # self.sc -- sconf named tuple sent as part of creation. just contains the\n",
    "    # immutable name, ncpu and memory of this server.\n",
    "    # self.amem -- store the remaining available memory after whatever vms have\n",
    "    # been provisioned to this. \n",
    "    # self.acpu -- store the remaining available cpus after whatever has been\n",
    "    # self.nvms -- no. of vms that are bound to this, which could be in\n",
    "    # 'provision' state or in 'active' state.\n",
    "    # taken by the vms provisioned to this. \n",
    "    # [[ for eg., if server has 4 cpus, and 4G memory and two vms each took 1\n",
    "    # cpu and 1G for itself, then then self.acpu=2,self.amem=2\n",
    "    # self.state -- will be 'idle', 'active', or 'fail'. as explained below.\n",
    "    # do the proper state transitions modify this and also do the accounting.\n",
    "    # use whatever list data structures you need to accomplish this project.\n",
    "\n",
    "\n",
    "        \n",
    "    def __init__(self,sc, stats):\n",
    "        self.sc=sc\n",
    "        self.amem=sc.mem\n",
    "        self.acpu=sc.ncpu\n",
    "        self.state='idle'\n",
    "        self.nvms=0\n",
    "        self.vl=mylist(\"list\")\n",
    "        self.stats=stats\n",
    "        self.stats['sidle'] += 1\n",
    "        self.stats['stotal'] += 1\n",
    "\n",
    "# The following list of functions is just a guideline for you to think through\n",
    "# the implementation and gain more insight. Except for the get_vms() function\n",
    "# and the members listed above . \n",
    "\n",
    "    # Set the server state to fail and do the accounting if \n",
    "    # the conditions for transiting to fail state is met.\n",
    "    # raise exceptions otherwise.\n",
    "\n",
    "    def set_fail(self):\n",
    "        if (self.state=='active') | (self.state=='idle'):\n",
    "            self.state='fail'\n",
    "            # Change the status of active VM's in the server to idle\n",
    "            \n",
    "\n",
    "    # Set the server state to active and do the accounting if \n",
    "    # the conditions for transiting to active state is met.\n",
    "    # raise exceptions otherwise.\n",
    "\n",
    "    def set_active(self):\n",
    "        if self.state=='fail':\n",
    "            raise myserver_bad_state_change(self,'active')\n",
    "        else:\n",
    "            self.state='active'\n",
    "\n",
    "    # check if the server can provision this ie. check if the vconf object vc\n",
    "    # ncpu, and mem can be allocated by this server given its current self.acpu\n",
    "    # and self.amem value.\n",
    "    # return \"vc\" object if success, else, return None.\n",
    "    # no state transitions should take place here, as the provisioning\n",
    "    # process has not commited yet.\n",
    "\n",
    "    def can_provision(self, vc):\n",
    "        if (self.state=='idle') | (self.state=='active'):\n",
    "            if (self.amem>=vc.mem) & (self.acpu >= vc.cpu):\n",
    "                return vc\n",
    "            else:\n",
    "                print('Not enough resources to provision')\n",
    "        else:\n",
    "            print('Server in ', self.state, ' state. Unable to proceed')\n",
    "\n",
    "    # provision the vm on this server. vc is the vconf of the vm, \n",
    "    # and vm is the myvm object passed by the mycrm object.\n",
    "    # if the acpu and mem is not sufficient return None.\n",
    "    # increment the self.nvms \n",
    "    # no state transitions happen here, as provisioning process has not\n",
    "    # been completed it with commit. If an undo happens, whatever you do\n",
    "    # here will be undone by the mycrm.provision_undo() by calling \n",
    "    # myobj.deprovision_vm()\n",
    "\n",
    "    def provision_vm(self, vc, vm):\n",
    "        #YOUR CODE\n",
    "        raise NotImplementedError\n",
    "\n",
    "    # deprovision the vm on t his server. Recover the mem and cpu given.\n",
    "    # decrement the self.nvms\n",
    "    # called by mycrm.deprovision_vm()\n",
    "    # do the staate transitions.\n",
    "\n",
    "    def deprovision_vm(self, vm):\n",
    "        #YOUR CODE\n",
    "        raise NotImplementedError\n",
    "\n",
    "    # commit the provisioning of the vm. at this point do the state\n",
    "    # transitions and book keeping accordingly and mark the vm as \n",
    "    # active, using the vm.set_active() function.\n",
    "    # raise exception if the vm is not already bound to you. (you will maintain\n",
    "    # that. \n",
    "\n",
    "    def commit_vm(self, vm):\n",
    "        #YOUR CODE\n",
    "        raise NotImplementedError\n",
    "\n",
    "    # delete the server. raise exceptions if there are vms bound to it, and\n",
    "    # active or provision vms. \n",
    "    # check the state transition requirements and do the state changes and book\n",
    "    # keeping for the stats.\n",
    "    # called by the mycrm.delete_server() routine.\n",
    "\n",
    "    def delete(self):\n",
    "        #YOUR CODE\n",
    "        raise NotImplementedError\n",
    "\n",
    "    # Fail the server. Move all the bound vms to idle, by calling\n",
    "    # myvm.set_idle() routine, and recover all the memory and cpu given, and\n",
    "    # reduce the self.nvms value approopriately. Move the state to 'fail'. and\n",
    "    # do the right book keeping depending on the initial state which could be\n",
    "    # 'idle' or 'active'.\n",
    "    # note that no one will fail a server when there are vms in 'provision'\n",
    "    # state. A previous provision_vm() operation either has to undo or commit\n",
    "    # and the vm will go to 'active'(commit) or be deleted (undo)\n",
    "\n",
    "    def fail(self):\n",
    "        #YOUR CODE\n",
    "        raise NotImplementedError\n",
    "\n",
    "    # unfail the server. change the state from 'fail' to 'idle'. Raise exception\n",
    "    # if the initial state is not 'fail'.\n",
    "\n",
    "    def unfail(self):\n",
    "        #YOUR CODE\n",
    "        raise NotImplementedError\n",
    "    \n",
    "    # This has to be kept as is!! used by test cases and mycrm object.\n",
    "    # to get the list of vm's bound to this server based on state. state could\n",
    "    # be 'idle', 'active', and 'provision'.\n",
    "    # returns the python list, and this should be the only place where python\n",
    "    # list is used in this file.\n",
    "    # if state is 'any' returns all.\n",
    "\n",
    "    def get_vms(self, state):\n",
    "        #YOUR CODE\n",
    "        raise NotImplementedError\n",
    "\n"
   ]
  },
  {
   "cell_type": "code",
   "execution_count": 143,
   "id": "7dc2297d-9b84-4355-991c-b880181426cf",
   "metadata": {},
   "outputs": [],
   "source": [
    "sc=sconf('s1',100,200)"
   ]
  },
  {
   "cell_type": "code",
   "execution_count": 144,
   "id": "3cfe2c6f-d461-4c0b-a67b-0b4ed41215a1",
   "metadata": {},
   "outputs": [],
   "source": [
    "stats={'sidle':0,'stotal':0}"
   ]
  },
  {
   "cell_type": "code",
   "execution_count": 145,
   "id": "79606d1d-1124-40e9-bfee-6bf6642e19a6",
   "metadata": {},
   "outputs": [],
   "source": [
    "ms=myserver(sc,stats)"
   ]
  },
  {
   "cell_type": "code",
   "execution_count": 146,
   "id": "3a5714fe-dcf6-4131-91f4-e93d2f716c9c",
   "metadata": {},
   "outputs": [],
   "source": [
    "ms.state='active'"
   ]
  },
  {
   "cell_type": "code",
   "execution_count": 154,
   "id": "4456dfec-9a3f-45f4-98df-6bb9b9d1bc3c",
   "metadata": {},
   "outputs": [
    {
     "ename": "myserver_bad_state_change",
     "evalue": "s1 oldstate: fail newstate: active vmsactive: 0 -> Active VMs are present",
     "output_type": "error",
     "traceback": [
      "\u001b[0;31m---------------------------------------------------------------------------\u001b[0m",
      "\u001b[0;31mmyserver_bad_state_change\u001b[0m                 Traceback (most recent call last)",
      "\u001b[0;32m/tmp/ipykernel_36673/624060435.py\u001b[0m in \u001b[0;36m<module>\u001b[0;34m\u001b[0m\n\u001b[0;32m----> 1\u001b[0;31m \u001b[0mms\u001b[0m\u001b[0;34m.\u001b[0m\u001b[0mset_active\u001b[0m\u001b[0;34m(\u001b[0m\u001b[0;34m)\u001b[0m\u001b[0;34m\u001b[0m\u001b[0;34m\u001b[0m\u001b[0m\n\u001b[0m",
      "\u001b[0;32m/tmp/ipykernel_36673/146800852.py\u001b[0m in \u001b[0;36mset_active\u001b[0;34m(self)\u001b[0m\n\u001b[1;32m    102\u001b[0m     \u001b[0;32mdef\u001b[0m \u001b[0mset_active\u001b[0m\u001b[0;34m(\u001b[0m\u001b[0mself\u001b[0m\u001b[0;34m)\u001b[0m\u001b[0;34m:\u001b[0m\u001b[0;34m\u001b[0m\u001b[0;34m\u001b[0m\u001b[0m\n\u001b[1;32m    103\u001b[0m         \u001b[0;32mif\u001b[0m \u001b[0mself\u001b[0m\u001b[0;34m.\u001b[0m\u001b[0mstate\u001b[0m\u001b[0;34m==\u001b[0m\u001b[0;34m'fail'\u001b[0m\u001b[0;34m:\u001b[0m\u001b[0;34m\u001b[0m\u001b[0;34m\u001b[0m\u001b[0m\n\u001b[0;32m--> 104\u001b[0;31m             \u001b[0;32mraise\u001b[0m \u001b[0mmyserver_bad_state_change\u001b[0m\u001b[0;34m(\u001b[0m\u001b[0mself\u001b[0m\u001b[0;34m,\u001b[0m\u001b[0;34m'active'\u001b[0m\u001b[0;34m)\u001b[0m\u001b[0;34m\u001b[0m\u001b[0;34m\u001b[0m\u001b[0m\n\u001b[0m\u001b[1;32m    105\u001b[0m         \u001b[0;32melse\u001b[0m\u001b[0;34m:\u001b[0m\u001b[0;34m\u001b[0m\u001b[0;34m\u001b[0m\u001b[0m\n\u001b[1;32m    106\u001b[0m             \u001b[0mself\u001b[0m\u001b[0;34m.\u001b[0m\u001b[0mstate\u001b[0m\u001b[0;34m=\u001b[0m\u001b[0;34m'active'\u001b[0m\u001b[0;34m\u001b[0m\u001b[0;34m\u001b[0m\u001b[0m\n",
      "\u001b[0;31mmyserver_bad_state_change\u001b[0m: s1 oldstate: fail newstate: active vmsactive: 0 -> Active VMs are present"
     ]
    }
   ],
   "source": [
    "ms.set_active()"
   ]
  },
  {
   "cell_type": "code",
   "execution_count": 151,
   "id": "b4c09487-4d66-4608-8f60-ba30e857bd51",
   "metadata": {},
   "outputs": [
    {
     "data": {
      "text/plain": [
       "'fail'"
      ]
     },
     "execution_count": 151,
     "metadata": {},
     "output_type": "execute_result"
    }
   ],
   "source": [
    "ms.state"
   ]
  },
  {
   "cell_type": "code",
   "execution_count": 153,
   "id": "9b3c7c2a-d66b-4e6b-8ecc-b4dd51817be2",
   "metadata": {},
   "outputs": [
    {
     "name": "stdout",
     "output_type": "stream",
     "text": [
      "Server in  fail  state. Unable to proceed\n"
     ]
    }
   ],
   "source": [
    "ms.can_provision(vc)"
   ]
  },
  {
   "cell_type": "code",
   "execution_count": 152,
   "id": "f8634d6d-efd1-4766-81b6-e66eeb385e7b",
   "metadata": {},
   "outputs": [],
   "source": [
    "vc=sconf('v1',10,200)"
   ]
  },
  {
   "cell_type": "code",
   "execution_count": null,
   "id": "2d4a27c4-5118-4a22-a711-10ff45b0c7f3",
   "metadata": {},
   "outputs": [],
   "source": []
  }
 ],
 "metadata": {
  "kernelspec": {
   "display_name": "Python 3 (ipykernel)",
   "language": "python",
   "name": "python3"
  },
  "language_info": {
   "codemirror_mode": {
    "name": "ipython",
    "version": 3
   },
   "file_extension": ".py",
   "mimetype": "text/x-python",
   "name": "python",
   "nbconvert_exporter": "python",
   "pygments_lexer": "ipython3",
   "version": "3.8.8"
  }
 },
 "nbformat": 4,
 "nbformat_minor": 5
}
