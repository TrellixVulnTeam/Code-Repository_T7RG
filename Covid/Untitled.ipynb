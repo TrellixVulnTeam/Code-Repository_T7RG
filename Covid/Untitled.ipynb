{
 "cells": [
  {
   "cell_type": "code",
   "execution_count": 26,
   "metadata": {},
   "outputs": [
    {
     "data": {
      "text/plain": [
       "30"
      ]
     },
     "execution_count": 26,
     "metadata": {},
     "output_type": "execute_result"
    }
   ],
   "source": []
  },
  {
   "cell_type": "code",
   "execution_count": 27,
   "metadata": {},
   "outputs": [],
   "source": [
    "import pandas as pd\n",
    "df=pd.read_csv('Ernakulam Pincodes.csv')\n",
    "df.drop(df[df['Pincode'].isna()].index[0],axis=0,inplace=True)\n",
    "pinCodes=df['Pincode']\n"
   ]
  },
  {
   "cell_type": "code",
   "execution_count": 28,
   "metadata": {},
   "outputs": [
    {
     "data": {
      "text/plain": [
       "30   NaN\n",
       "Name: Pincode, dtype: float64"
      ]
     },
     "execution_count": 28,
     "metadata": {},
     "output_type": "execute_result"
    }
   ],
   "source": [
    "pin[pin.isna()]"
   ]
  },
  {
   "cell_type": "code",
   "execution_count": null,
   "metadata": {},
   "outputs": [
    {
     "name": "stdout",
     "output_type": "stream",
     "text": [
      "Scanning Started\n",
      "2021-06-24 20:45:15.155327\n",
      "Scanning Started\n",
      "2021-06-24 20:55:20.712645\n"
     ]
    }
   ],
   "source": [
    "import requests\n",
    "import datetime as dt\n",
    "import time\n",
    "from fake_useragent import UserAgent\n",
    "ua = UserAgent()\n",
    "import os\n",
    "from twilio.rest import Client\n",
    "\n",
    "minute=dt.datetime.now().minute\n",
    "\n",
    "\n",
    "# Find your Account SID and Auth Token at twilio.com/console\n",
    "# and set the environment variables. See http://twil.io/secure\n",
    "account_sid = \"ACbfc46c01d77a17c3018a39b4953cc607\"\n",
    "auth_token = '53cbcf7d5d3a8124dee06351d1336410'\n",
    "client = Client(account_sid, auth_token)\n",
    "\n",
    "\n",
    "headers = {'User-Agent':ua.random}\n",
    "pin=pinCodes\n",
    "\n",
    "#print('Enter the number of days to scan')\n",
    "num=2\n",
    "\n",
    "while 1:\n",
    "\n",
    "    if dt.datetime.now().minute==minute:\n",
    "        print('Scanning Started')\n",
    "        today=dt.datetime.now()\n",
    "        today=today+dt.timedelta(days=10)\n",
    "        for i in range(int(num)):\n",
    "            today=today+dt.timedelta(days=1)\n",
    "            for pinCode in pin:\n",
    "                pinCode=int(pinCode)\n",
    "                day=today.day\n",
    "                month=today.month\n",
    "                year=today.year\n",
    "                t_stamp=str(day)+'-'+str(month)+'-'+str(year)\n",
    "                url=\"https://cdn-api.co-vin.in/api/v2/appointment/sessions/public/findByPin?pincode=\"+str(pinCode)+'&date='+str(t_stamp)\n",
    "                r=requests.get(url,headers=headers)\n",
    "                #print(url)\n",
    "                data=r.json()\n",
    "                flag=0\n",
    "                try:\n",
    "\n",
    "                    if len(data['sessions'])>0:\n",
    "                        for j in range(len(data['sessions'])):\n",
    "                            if len(data['sessions'])>0:\n",
    "                                if int(data['sessions'][j]['available_capacity_dose1'])>=0 | int(data['sessions'][j]['available_capacity_dose2'])>=0:\n",
    "                                    if data['sessions'][j]['vaccine']=='COVISHIELD':\n",
    "                                        textBody=str(data['sessions'][j]['vaccine'])+' Available at '+str(data['sessions'][j]['block_name'])+','+str(data['sessions'][j]['district_name'])+' for age above '+str(data['sessions'][j]['min_age_limit'])+' on '+data['sessions'][j]['date']\n",
    "                                        textBody+=' Dose 1 Capacity available: '+str(data['sessions'][j]['available_capacity_dose1'])\n",
    "                                        textBody+=' Dose 2 Capacity available: '+str(data['sessions'][j]['available_capacity_dose2'])\n",
    "                                        textBody+=' Fee:'+str(data['sessions'][j]['fee'])+' INR'\n",
    "\n",
    "#                                         message = client.messages \\\n",
    "#                                                         .create(\n",
    "#                                                              body=textBody,\n",
    "#                                                              from_='+14807127314',\n",
    "#                                                              to='+918921725127'\n",
    "#                                                          )\n",
    "\n",
    "                                        #message.sid\n",
    "                                        print(textBody)\n",
    "                                        #print('Sent data')\n",
    "                                        flag=1\n",
    "                except:\n",
    "                    message = client.messages \\\n",
    "                                        .create(\n",
    "                                                body=\"Code Error\",\n",
    "                                                from_='+14807127314',\n",
    "                                                to='+918921725127'\n",
    "                                                )\n",
    "\n",
    "                    message.sid\n",
    "                    \n",
    "                    \n",
    "                if flag==0:\n",
    "                    pass\n",
    "                    #print('No vaccine available on '+t_stamp+' at '+str(pinCode))\n",
    "        minute=minute+10\n",
    "        print(dt.datetime.now())\n",
    "    "
   ]
  },
  {
   "cell_type": "code",
   "execution_count": null,
   "metadata": {},
   "outputs": [],
   "source": []
  }
 ],
 "metadata": {
  "kernelspec": {
   "display_name": "Python 3",
   "language": "python",
   "name": "python3"
  },
  "language_info": {
   "codemirror_mode": {
    "name": "ipython",
    "version": 3
   },
   "file_extension": ".py",
   "mimetype": "text/x-python",
   "name": "python",
   "nbconvert_exporter": "python",
   "pygments_lexer": "ipython3",
   "version": "3.7.3"
  }
 },
 "nbformat": 4,
 "nbformat_minor": 2
}
