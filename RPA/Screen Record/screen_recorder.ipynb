{
 "cells": [
  {
   "cell_type": "code",
   "execution_count": 1,
   "metadata": {},
   "outputs": [],
   "source": [
    "import cv2\n",
    "import numpy as np\n",
    "import pyautogui\n",
    "import matplotlib.pyplot as plt\n",
    "import datetime as dt\n",
    "\n",
    "fourcc = cv2.VideoWriter_fourcc(*'MP4V')\n",
    "out = cv2.VideoWriter('record.mp4', fourcc, 20.0, (1920,1080))\n",
    "\n",
    "\n",
    "second=dt.datetime.now().second\n",
    "timer=10\n",
    "\n",
    "stopTimer=second+timer\n",
    "\n",
    "\n",
    "n=0\n",
    "while dt.datetime.now().second<stopTimer:\n",
    "    im=pyautogui.screenshot()\n",
    "    im=cv2.cvtColor(np.array(im),cv2.COLOR_RGB2BGR) \n",
    "    if n==5:\n",
    "        out.write(im)\n",
    "        n=0\n",
    "    else:\n",
    "        n+=1\n",
    "out.release()\n",
    "cv2.destroyAllWindows()\n"
   ]
  },
  {
   "cell_type": "code",
   "execution_count": null,
   "metadata": {},
   "outputs": [],
   "source": []
  }
 ],
 "metadata": {
  "kernelspec": {
   "display_name": "Python(aiml",
   "language": "python",
   "name": "aiml"
  },
  "language_info": {
   "codemirror_mode": {
    "name": "ipython",
    "version": 3
   },
   "file_extension": ".py",
   "mimetype": "text/x-python",
   "name": "python",
   "nbconvert_exporter": "python",
   "pygments_lexer": "ipython3",
   "version": "3.7.9"
  }
 },
 "nbformat": 4,
 "nbformat_minor": 2
}
