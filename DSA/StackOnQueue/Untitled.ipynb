{
 "cells": [
  {
   "cell_type": "code",
   "execution_count": 113,
   "id": "e1b8fba4-6c64-4587-8f05-2e3172a84f5c",
   "metadata": {},
   "outputs": [],
   "source": [
    "import os\n",
    "import sys\n",
    "from mylist import *\n",
    "\n",
    "# mylist is same as that for quiz4 and assignment 3\n",
    "# mylist is of type queue here it supports enqueue and dequeue methods.\n",
    "# it is a list of elements where each element object is \"myelem\" and has \n",
    "# next and previous and the object it points to. \n",
    "# enqueue(obj) --> adds the object to the end of the list\n",
    "# dequeue(obj) --> removes the object from the front of the list.\n",
    "# tail --> points to the end element of the list.\n",
    "# if que is mylist:\n",
    "# que.tail -> points to last element of type myelem.\n",
    "# que.header -> dummy element of type myelem whose object points to itself.\n",
    "# que.size - > size of the list ie. no of elements.\n",
    "# first element if list is not empty will be que.header.next\n",
    "# first object is que.header.obj\n",
    "# last object is que.tail.obj\n",
    "# invoke the appropriate enqueue, dequeue methods and the right members\n",
    "# of the que to implement stack.\n",
    "#\n",
    "\n",
    "# leave this function as is\n",
    "\n",
    "def myqpush(que:mylist, obj):\n",
    "    \n",
    "    que.enqueue(obj)\n",
    "    \n",
    "    pass\n",
    "\n",
    "# implement this function\n",
    "\n",
    "def myqpop(que:mylist):\n",
    "\n",
    "    if que.size == 0:\n",
    "        return None\n",
    "\n",
    "    #In stack the pop happens from the rear end whereas in queue the dequeue happens from the front. \n",
    "    # Inorder to implement a stack using queue functions, we can do the dequeue operation N-1 times and then store the dequeuedelements into a new queue\n",
    "    \n",
    "    new_queue=mylist('queue')\n",
    "    for i in range(que.size-1):\n",
    "        myqpush(new_queue,que.dequeue())\n",
    "    popped_element=que.dequeue()\n",
    "\n",
    "    for j in range(new_queue.size):\n",
    "        myqpush(que,new_queue.dequeue())\n",
    "                \n",
    "    return popped_element\n",
    "    \n",
    "    \n",
    "# leave these functions as is\n",
    "\n",
    "def myqpeek(que:mylist):\n",
    "    if que.header.next == que.header:\n",
    "        assert(que.tail == que.header)\n",
    "        return None\n",
    "    return que.tail.obj\n",
    "\n",
    "def myqfirst(que:mylist):\n",
    "    if que.header.next == que.header:\n",
    "        return None\n",
    "    return que.header.next.obj\n",
    "\n",
    "def myqlast(que:mylist):\n",
    "    if que.header.next == que.header:\n",
    "        assert(que.tail == que.header)\n",
    "        return None\n",
    "    return que.tail.obj\n"
   ]
  },
  {
   "cell_type": "code",
   "execution_count": 114,
   "id": "32d7f3c3-cd46-4a00-a054-98f5d3981af9",
   "metadata": {},
   "outputs": [],
   "source": [
    "ml=mylist('queue')"
   ]
  },
  {
   "cell_type": "code",
   "execution_count": 115,
   "id": "d8cb9c71-705a-475b-800e-a1397ab291ec",
   "metadata": {},
   "outputs": [],
   "source": [
    "myqpush(ml,10)\n",
    "myqpush(ml,20)\n",
    "myqpush(ml,30)\n",
    "myqpush(ml,40)"
   ]
  },
  {
   "cell_type": "code",
   "execution_count": 116,
   "id": "3bcbb6d4-9f30-4286-8671-bf9333b16b8f",
   "metadata": {},
   "outputs": [
    {
     "name": "stdout",
     "output_type": "stream",
     "text": [
      "List size: 4\n",
      "10\n",
      "20\n",
      "30\n",
      "40\n",
      "Tail: 40\n",
      "\n",
      "\n"
     ]
    }
   ],
   "source": [
    "print(ml)"
   ]
  },
  {
   "cell_type": "code",
   "execution_count": 117,
   "id": "6b0e8ebf-b70e-49c7-9f21-05164a0faeda",
   "metadata": {},
   "outputs": [
    {
     "data": {
      "text/plain": [
       "40"
      ]
     },
     "execution_count": 117,
     "metadata": {},
     "output_type": "execute_result"
    }
   ],
   "source": [
    "myqpop(ml)"
   ]
  },
  {
   "cell_type": "code",
   "execution_count": 118,
   "id": "d5dbdd33-41d9-4972-83a0-1bd29372fea7",
   "metadata": {},
   "outputs": [
    {
     "name": "stdout",
     "output_type": "stream",
     "text": [
      "List size: 3\n",
      "10\n",
      "20\n",
      "30\n",
      "Tail: 30\n",
      "\n",
      "\n"
     ]
    }
   ],
   "source": [
    "print(ml)"
   ]
  },
  {
   "cell_type": "code",
   "execution_count": null,
   "id": "1a4d167c-18f5-4e6c-8aee-f11106882815",
   "metadata": {},
   "outputs": [],
   "source": []
  }
 ],
 "metadata": {
  "kernelspec": {
   "display_name": "Python 3 (ipykernel)",
   "language": "python",
   "name": "python3"
  },
  "language_info": {
   "codemirror_mode": {
    "name": "ipython",
    "version": 3
   },
   "file_extension": ".py",
   "mimetype": "text/x-python",
   "name": "python",
   "nbconvert_exporter": "python",
   "pygments_lexer": "ipython3",
   "version": "3.8.8"
  }
 },
 "nbformat": 4,
 "nbformat_minor": 5
}
