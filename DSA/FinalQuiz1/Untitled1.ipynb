{
 "cells": [
  {
   "cell_type": "code",
   "execution_count": 1,
   "id": "0b17398b-980a-433d-9ada-09a812f0c83c",
   "metadata": {},
   "outputs": [],
   "source": [
    "from p2 import *\n"
   ]
  },
  {
   "cell_type": "code",
   "execution_count": 2,
   "id": "b5f83468-8d48-4395-b636-ae232d6305d4",
   "metadata": {},
   "outputs": [],
   "source": [
    "order=special_order([-3, -6, -2, -8, 2, -10])"
   ]
  },
  {
   "cell_type": "code",
   "execution_count": 3,
   "id": "428a6b5d-9ca1-4506-94a3-93b94efb1219",
   "metadata": {},
   "outputs": [
    {
     "data": {
      "text/plain": [
       "[-3, -6, -2, -8, 2, -10]"
      ]
     },
     "execution_count": 3,
     "metadata": {},
     "output_type": "execute_result"
    }
   ],
   "source": [
    "order"
   ]
  },
  {
   "cell_type": "code",
   "execution_count": 11,
   "id": "397366ab-1802-423c-96e3-fe5f9a10c23a",
   "metadata": {},
   "outputs": [],
   "source": [
    "order.reverse()"
   ]
  },
  {
   "cell_type": "code",
   "execution_count": 12,
   "id": "69eaf4b6-8029-4fa6-802b-1c5c206eb688",
   "metadata": {},
   "outputs": [
    {
     "data": {
      "text/plain": [
       "[-3, -6, -2, -8, 2, -10]"
      ]
     },
     "execution_count": 12,
     "metadata": {},
     "output_type": "execute_result"
    }
   ],
   "source": [
    "order"
   ]
  },
  {
   "cell_type": "code",
   "execution_count": 19,
   "id": "17fff318-a14a-4aec-8397-acefa5ac900c",
   "metadata": {},
   "outputs": [],
   "source": [
    "output=[]\n",
    "for i in range(len(l)-1,-1,-1):\n",
    "    output.append(order[i])"
   ]
  },
  {
   "cell_type": "code",
   "execution_count": 20,
   "id": "729496ea-9a60-43a7-be57-fd33d60e06ff",
   "metadata": {},
   "outputs": [
    {
     "data": {
      "text/plain": [
       "[-10, 2, -8, -2, -6, -3]"
      ]
     },
     "execution_count": 20,
     "metadata": {},
     "output_type": "execute_result"
    }
   ],
   "source": [
    "output"
   ]
  },
  {
   "cell_type": "code",
   "execution_count": 21,
   "id": "c61dfeb9-b9e0-4298-84fb-dd462df9ebd2",
   "metadata": {},
   "outputs": [
    {
     "data": {
      "text/plain": [
       "[-3, -6, -2, -8, 2, -10]"
      ]
     },
     "execution_count": 21,
     "metadata": {},
     "output_type": "execute_result"
    }
   ],
   "source": [
    "order"
   ]
  },
  {
   "cell_type": "code",
   "execution_count": null,
   "id": "074ac595-9d5f-41d2-9610-fa972bb35db0",
   "metadata": {},
   "outputs": [],
   "source": []
  }
 ],
 "metadata": {
  "kernelspec": {
   "display_name": "Python 3 (ipykernel)",
   "language": "python",
   "name": "python3"
  },
  "language_info": {
   "codemirror_mode": {
    "name": "ipython",
    "version": 3
   },
   "file_extension": ".py",
   "mimetype": "text/x-python",
   "name": "python",
   "nbconvert_exporter": "python",
   "pygments_lexer": "ipython3",
   "version": "3.8.8"
  }
 },
 "nbformat": 4,
 "nbformat_minor": 5
}
