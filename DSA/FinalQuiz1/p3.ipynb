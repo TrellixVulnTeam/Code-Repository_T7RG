{
 "cells": [
  {
   "cell_type": "code",
   "execution_count": 2,
   "id": "34982e36-7c26-4400-b737-5e8f96820afa",
   "metadata": {},
   "outputs": [],
   "source": [
    "l=[[0,1,0,1,1],[1,0,1,1,0],[0,1,0,0,0],[1,1,0,0,1],[1,0,0,1,0]]"
   ]
  },
  {
   "cell_type": "code",
   "execution_count": 4,
   "id": "75955cac-c405-435b-bd2a-a821c2a2537c",
   "metadata": {},
   "outputs": [],
   "source": [
    "import string\n"
   ]
  },
  {
   "cell_type": "code",
   "execution_count": 9,
   "id": "1d0034e6-2654-4a8f-ac63-3aa79ecfb2aa",
   "metadata": {},
   "outputs": [
    {
     "data": {
      "text/plain": [
       "'abcde'"
      ]
     },
     "execution_count": 9,
     "metadata": {},
     "output_type": "execute_result"
    }
   ],
   "source": [
    "\n",
    "string.ascii_lowercase[0:len(l[0])]"
   ]
  },
  {
   "cell_type": "code",
   "execution_count": null,
   "id": "c9207a5f-1b7e-4690-b519-8ae21934eaa0",
   "metadata": {},
   "outputs": [],
   "source": []
  }
 ],
 "metadata": {
  "kernelspec": {
   "display_name": "Python 3 (ipykernel)",
   "language": "python",
   "name": "python3"
  },
  "language_info": {
   "codemirror_mode": {
    "name": "ipython",
    "version": 3
   },
   "file_extension": ".py",
   "mimetype": "text/x-python",
   "name": "python",
   "nbconvert_exporter": "python",
   "pygments_lexer": "ipython3",
   "version": "3.8.8"
  }
 },
 "nbformat": 4,
 "nbformat_minor": 5
}
