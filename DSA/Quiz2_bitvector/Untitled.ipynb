{
 "cells": [
  {
   "cell_type": "code",
   "execution_count": 165,
   "id": "871714af-c203-42d2-a4c6-ee1d53abe657",
   "metadata": {},
   "outputs": [],
   "source": [
    "from myerror import *\n",
    "import ctypes\n",
    "from ctypes import *\n",
    "\n",
    "#exceptions for bitvector.\n",
    "\n",
    "class mybit_error(myerror):\n",
    "    pass\n",
    "class mybit_size_bad(mybit_error):\n",
    "    def __init__(self, size, message=\"size not aligned or large\"):\n",
    "        self.size=size\n",
    "        self.message=message\n",
    "    def __str__(self):\n",
    "        return f'{self.size} -> {self.message}'\n",
    "\n",
    "class mybit_overflow(mybit_error):\n",
    "    def __init__(self, size, bitv, message=\"bitindex larger than bitvector size\"):\n",
    "        self.size=size\n",
    "        self.bitvectorsize=bitv.bit_total_bits\n",
    "        self.message=message\n",
    "    def __str__(self):\n",
    "        return f'bitindex: {self.size} bitvector size: {self.bitvectorsize} -> {self.message}'\n",
    "\n",
    "# bit vector implementation\n",
    "# size in bytes\n",
    "# bit vector allocates bits for every byte\n",
    "# and sets state of 1 and 0 via\n",
    "#  the methods set_bit, clear_bit, and is_free\n",
    "# is_free returns 1 if bit is not set.\n",
    "# is_set returns 1 if bit is set.\n",
    "\n",
    "class mybit_vector:\n",
    "\n",
    "# bit_vector -- byte array for states\n",
    "# bit_nbytes - total bytes in the bit_vector\n",
    "# bit_total_bits - size of the memory passed in the __init__\n",
    "# bit_free - total bits that are free   \n",
    "# bit_alloc - total bits that are alloced\n",
    "# Init also initialises all the values of bit vector to zero\n",
    "    def __init__(self, size):\n",
    "        if size % 8 != 0:\n",
    "            raise mybit_size_bad(size)\n",
    "        self.bit_vector=(c_ubyte * (size//8))()\n",
    "        self.bit_nbytes=size//8\n",
    "        self.bit_total_bits=size\n",
    "        self.bit_free=size\n",
    "        self.bit_alloc=0\n",
    "        self.start_address=ctypes.addressof(self.bit_vector)\n",
    "        for i in range(self.bit_nbytes):\n",
    "            if self.bit_vector[i]>0:\n",
    "                self.bit_vector[i]=0\n",
    "\n",
    "        \n",
    "        \n",
    "# Returns 1 if the bit is 0 ie. free\n",
    "# Returns  0 if the bit is 1\n",
    "    \n",
    "    def is_free(self, bit):\n",
    "        if bit >= self.bit_total_bits:\n",
    "            raise mybit_overflow(bit,self)\n",
    "        else:\n",
    "            byte_to_check=bit//8\n",
    "            value=self.bit_vector[byte_to_check]\n",
    "            binary=bin(value)[2:]\n",
    "            if len(binary)<8:\n",
    "                binary='0'*(8-len(binary))+binary\n",
    "            binary=binary[::-1]\n",
    "            if binary[bit%8]=='1':\n",
    "                return 0\n",
    "            else:\n",
    "                return 1\n",
    "            \n",
    "        #raise NotImplementedError \n",
    "# Returns 1 if the bit is set\n",
    "# Returns 0 if the bit is not set\n",
    "\n",
    "    def is_set(self, bit):\n",
    "        if bit >= self.bit_total_bits:\n",
    "            raise mybit_overflow(bit,self)\n",
    "        else:\n",
    "            byte_to_check=bit//8\n",
    "            value=self.bit_vector[byte_to_check]\n",
    "            binary=bin(value)[2:]\n",
    "            if len(binary)<8:\n",
    "                binary='0'*(8-len(binary))+binary\n",
    "            binary=binary[::-1]\n",
    "            if binary[bit%8]=='1':\n",
    "                return 1\n",
    "            else:\n",
    "                return 0\n",
    "#sets the bit passed in \"bit\" (used by mem_alloc in the mymemory class)\n",
    "# if the bit is > bit_total_bits it raises the mybit_overflow exception \n",
    "#defined above.\n",
    "\n",
    "    def set_bit(self, bit):\n",
    "        if bit >= self.bit_total_bits:\n",
    "            raise mybit_overflow(bit,self)\n",
    "        else:\n",
    "            byte_to_store=bit//8\n",
    "            value=self.bit_vector[byte_to_store]\n",
    "            binary=bin(value)[2:]\n",
    "            if len(binary)<8:\n",
    "                binary='0'*(8-len(binary))+binary\n",
    "            binary=binary[::-1]\n",
    "            binary=binary[0:bit%8]+'1'+binary[(bit%8)+1:]\n",
    "            binary=binary[::-1]\n",
    "            self.bit_vector[byte_to_store]=int(binary,2)\n",
    "            self.bit_free-=1\n",
    "            self.bit_alloc+=1 \n",
    "\n",
    "#clears the bit passed in \"bit\" (used by mem_free in the mymemory class)\n",
    "# if the bit is > bit_total_bits it raises the mybit_overflow exception \n",
    "#defined above.\n",
    "\n",
    "    def clear_bit(self, bit):\n",
    "        if bit >= self.bit_total_bits:\n",
    "            raise mybit_overflow(bit,self)\n",
    "        else:\n",
    "            byte_to_store=bit//8\n",
    "            value=self.bit_vector[byte_to_store]\n",
    "            binary=bin(value)[2:]\n",
    "            if len(binary)<8:\n",
    "                binary='0'*(8-len(binary))+binary\n",
    "            binary=binary[::-1]\n",
    "            binary=binary[0:bit%8]+'0'+binary[(bit%8)+1:]\n",
    "            binary=binary[::-1]\n",
    "            self.bit_vector[byte_to_store]=int(binary,2)\n",
    "            self.bit_free+=1\n",
    "            self.bit_alloc-=1 \n",
    "\n",
    "# prints the bit state. Dont print if the size is large. it will loop\n",
    "# for ever trying to form the string. Do unit test with this though.\n",
    "\n",
    "    def __str__(self):\n",
    "        s=f'total_bytes: {self.bit_nbytes} total_bits: {self.bit_total_bits}'\n",
    "        s=s+'\\n'\n",
    "        for i in range(0,self.bit_nbytes):\n",
    "            if i%4==0:\n",
    "                s=s+'\\n'\n",
    "            bb=self.bit_vector[i]\n",
    "            for b in range(0,8):\n",
    "                mask=1 << b\n",
    "                if bb & mask:\n",
    "                    s=s+'1'\n",
    "                else:\n",
    "                    s=s+'0'\n",
    "            s=s+\"  \"\n",
    "        return s\n",
    "        \n",
    "#This function scans through the bit vector to see if the required space neeed is \n",
    "#available in the memory. It available it returns the position of byte where\n",
    "#it is available. The address is then calculated from this position  \n",
    "     \n",
    "    def find_freespace(self,spaceNeeded):\n",
    "    \n",
    "        array=''\n",
    "        for i in range(self.bit_nbytes):\n",
    "        \tvalue=self.bit_vector[i]\n",
    "        \tbinary=bin(value)[2:]\n",
    "        \tif len(binary)<8:\n",
    "                \tbinary='0'*(8-len(binary))+binary\n",
    "        \tarray+=binary\n",
    "        array=list(array)\n",
    "        counter=0\n",
    "        location=0\n",
    "        flag=0 \n",
    "        for i in range(len(array)):\n",
    "            if array[i]=='0':\n",
    "                counter+=1\n",
    "            else:\n",
    "                counter=0\t\n",
    "            if counter==spaceNeeded:\n",
    "                flag=1\n",
    "                break\n",
    "        if flag==1:\n",
    "            location=i-(spaceNeeded-1)\n",
    "            free_position=location\n",
    "        #    print('Storing to location ',self.freeSpace)\n",
    "            return free_position\n",
    "        elif flag==0:\n",
    "            print('Memory Not available')\n",
    "            \n",
    "            \n",
    "            \n",
    "  \n",
    "    \n",
    "\n"
   ]
  },
  {
   "cell_type": "code",
   "execution_count": 166,
   "id": "c79c4e18-59e4-482c-8834-1772825a0277",
   "metadata": {},
   "outputs": [],
   "source": [
    "bv=mybit_vector(16)\n"
   ]
  },
  {
   "cell_type": "code",
   "execution_count": 170,
   "id": "06a63f01-dd6f-46e6-bef4-6bf2d7fc82f9",
   "metadata": {},
   "outputs": [
    {
     "name": "stdout",
     "output_type": "stream",
     "text": [
      "total_bytes: 2 total_bits: 16\n",
      "\n",
      "00000100  10000000  \n"
     ]
    }
   ],
   "source": [
    "bv.set_bit(5)\n",
    "print(bv)\n"
   ]
  },
  {
   "cell_type": "code",
   "execution_count": 171,
   "id": "26f58ae9-6177-4708-be9e-9c1de6e39235",
   "metadata": {},
   "outputs": [
    {
     "name": "stdout",
     "output_type": "stream",
     "text": [
      "0000010010000000"
     ]
    }
   ],
   "source": [
    "for i in range(16):\n",
    "    print(bv.is_set(i),end='')"
   ]
  },
  {
   "cell_type": "code",
   "execution_count": 172,
   "id": "c6859061-7fca-4cdc-b99f-a4136655f24d",
   "metadata": {},
   "outputs": [
    {
     "name": "stdout",
     "output_type": "stream",
     "text": [
      "1111101101111111"
     ]
    }
   ],
   "source": [
    "for i in range(16):\n",
    "    print(bv.is_free(i),end='')"
   ]
  },
  {
   "cell_type": "code",
   "execution_count": 125,
   "id": "e885b1b4-29dd-4944-b12f-1ee66f363b7b",
   "metadata": {},
   "outputs": [
    {
     "name": "stdout",
     "output_type": "stream",
     "text": [
      "1 0 0 1 0 0 0 0 0 0 0 0 0 0 0 0 "
     ]
    }
   ],
   "source": [
    "for i in range(16):\n",
    "    bv.set_bit(i)\n",
    "    if bv\n",
    "   "
   ]
  },
  {
   "cell_type": "code",
   "execution_count": 18,
   "id": "b8bde081-8b5d-4b64-83c5-f61bef6b2d07",
   "metadata": {},
   "outputs": [
    {
     "name": "stdout",
     "output_type": "stream",
     "text": [
      "total_bytes: 2 total_bits: 16\n",
      "\n",
      "10101010  00000000  \n"
     ]
    }
   ],
   "source": [
    "print(bv)"
   ]
  },
  {
   "cell_type": "code",
   "execution_count": 124,
   "id": "ebee272f-a34f-4754-bf37-58de376326e1",
   "metadata": {},
   "outputs": [],
   "source": [
    "bv.clear_bit(0)"
   ]
  },
  {
   "cell_type": "code",
   "execution_count": 125,
   "id": "0dcd6370-90f3-4b7e-bfc6-5a19ff453362",
   "metadata": {},
   "outputs": [
    {
     "name": "stdout",
     "output_type": "stream",
     "text": [
      "total_bytes: 2 total_bits: 16\n",
      "\n",
      "01111000  00000000  \n"
     ]
    }
   ],
   "source": [
    "print(bv)"
   ]
  },
  {
   "cell_type": "code",
   "execution_count": 54,
   "id": "24880224-565b-4b5d-a991-98fcaf094d23",
   "metadata": {},
   "outputs": [],
   "source": [
    "a=10"
   ]
  },
  {
   "cell_type": "code",
   "execution_count": 59,
   "id": "ba2ed66a-23a3-4669-ac1c-6b7c590d4bfa",
   "metadata": {},
   "outputs": [
    {
     "data": {
      "text/plain": [
       "5"
      ]
     },
     "execution_count": 59,
     "metadata": {},
     "output_type": "execute_result"
    }
   ],
   "source": [
    "a>>1"
   ]
  },
  {
   "cell_type": "code",
   "execution_count": 60,
   "id": "31501f6d-01e7-4ad4-b53d-f142fbff115a",
   "metadata": {},
   "outputs": [
    {
     "data": {
      "text/plain": [
       "'0b10100'"
      ]
     },
     "execution_count": 60,
     "metadata": {},
     "output_type": "execute_result"
    }
   ],
   "source": [
    "bin(20)"
   ]
  },
  {
   "cell_type": "code",
   "execution_count": 62,
   "id": "6b58e2c1-0f7a-400e-9f19-511159addf0c",
   "metadata": {},
   "outputs": [
    {
     "data": {
      "text/plain": [
       "'0b101'"
      ]
     },
     "execution_count": 62,
     "metadata": {},
     "output_type": "execute_result"
    }
   ],
   "source": [
    "bin(5)"
   ]
  },
  {
   "cell_type": "code",
   "execution_count": null,
   "id": "f519c6ef-e8ad-4806-9177-4c6263632b21",
   "metadata": {},
   "outputs": [],
   "source": []
  }
 ],
 "metadata": {
  "kernelspec": {
   "display_name": "Python 3 (ipykernel)",
   "language": "python",
   "name": "python3"
  },
  "language_info": {
   "codemirror_mode": {
    "name": "ipython",
    "version": 3
   },
   "file_extension": ".py",
   "mimetype": "text/x-python",
   "name": "python",
   "nbconvert_exporter": "python",
   "pygments_lexer": "ipython3",
   "version": "3.8.8"
  }
 },
 "nbformat": 4,
 "nbformat_minor": 5
}
