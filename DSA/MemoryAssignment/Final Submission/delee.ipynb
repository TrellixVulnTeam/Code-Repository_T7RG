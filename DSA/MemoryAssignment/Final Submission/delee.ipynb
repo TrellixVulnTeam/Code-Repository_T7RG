{
 "cells": [
  {
   "cell_type": "code",
   "execution_count": 120,
   "id": "774505d9-7879-4ad8-b261-f840e7d7d918",
   "metadata": {},
   "outputs": [],
   "source": [
    "import mymemory as mymem\n",
    "\n",
    "class mystr:\n",
    "\n",
    "    # implement the init\n",
    "    # self.mymemobj = mymem.getmymemobj()\n",
    "    # self.p = allocate the right space with type as this class name string\n",
    "    # see myclass mem_alloc function\n",
    "    # size is implemented as \"s\" property of the object implement gets\n",
    "    # so that obj.s gives the size of this object.\n",
    "    # value obj.v is implemented as getv and setv property functions\n",
    "\n",
    "    def __init__(self, value):\n",
    "        self.mymemobj = mymem.getmymemobj()\n",
    "        self.len=len(value)\n",
    "        self.byte_array=[letter_to_binary(letter) for letter in value]\n",
    "        self.ptr=self.mymemobj.mem_alloc(self.len,'mybyte')\n",
    "        self.location=int(self.ptr,16)-int(self.mymemobj.start)\n",
    "        self.interalAddress=self.mymemobj.internalPointer+self.location\n",
    "        self.memory_array=(ctypes.c_ubyte*self.len).from_address(self.interalAddress)       \n",
    "        \n",
    "        for i in range(self.len):\n",
    "            self.memory_array[i]=int(self.byte_array[i],2)\n",
    "    # Functions to convert letters to 8bit binary and vice versa        \n",
    "        \n",
    "    def letter_to_binary(self,letter):\n",
    "        return '0'+bin(ord(letter))[2:]\n",
    "\n",
    "    def number_to_letter(self,number):\n",
    "        return chr(int(number))\n",
    "               \n",
    "               \n",
    "# get the value of the string  same as it was initialized with or later set.\n",
    "\n",
    "    def getv(self):\n",
    "        string=''\n",
    "        for i in range(self.len):\n",
    "            string+=self.number_to_letter(self.memory_array[i])\n",
    "        return string\n",
    "    \n",
    "# set the new value for string\n",
    "\n",
    "\n",
    "    def setv(self, value):\n",
    "        self.byte_array=[letter_to_binary(letter) for letter in value]\n",
    "        self.len=len(value)\n",
    "        self.memory_array=(ctypes.c_ubyte*self.len).from_address(self.interalAddress)       \n",
    "        \n",
    "        for i in range(self.len):\n",
    "            self.memory_array[i]=int(self.byte_array[i],2)\n",
    "\n",
    "# return the size occupied by the string\n",
    "# in bytes\n",
    "\n",
    "    def gets(self):\n",
    "        return self.len\n",
    "\n",
    "    def __del__(self):\n",
    "        print(self.ptr)\n",
    "        self.mymemobj.mem_free(self.ptr,self.len,'mybyte')\n",
    "\n",
    "    v = property(getv, setv, None, \"I'm the 'value' property.\")\n",
    "    s = property(gets, None, None, \"I'm the 'value' property.\")\n"
   ]
  },
  {
   "cell_type": "code",
   "execution_count": 121,
   "id": "716df717-30dc-4781-ad66-54da3a05c228",
   "metadata": {},
   "outputs": [],
   "source": [
    "a=mystr('sandheep')"
   ]
  },
  {
   "cell_type": "code",
   "execution_count": 122,
   "id": "1959e98c-4284-4796-8779-abcba6971ed1",
   "metadata": {},
   "outputs": [
    {
     "name": "stdout",
     "output_type": "stream",
     "text": [
      "0xfffffffc0000004d\n"
     ]
    }
   ],
   "source": [
    "del a"
   ]
  },
  {
   "cell_type": "code",
   "execution_count": 118,
   "id": "47f1e1b7-c815-4943-b1ca-f7f47b3ec0f2",
   "metadata": {},
   "outputs": [],
   "source": [
    "\n",
    "def mystr_tests():\n",
    "    global mymemobj\n",
    "\n",
    "    ms=mystr(\"srini\")\n",
    "    print(ms.v)\n",
    "    if ms.v != \"srini\":\n",
    "        print(f'mystr value test FAILED ')\n",
    "        sys.exit(1)\n",
    "    else:\n",
    "        print(f'mystr value test PASSED ')\n",
    "\n",
    "    print(ms.s)\n",
    "    if ms.s != 5:\n",
    "        print(f'mystr size test FAILED ')\n",
    "        sys.exit(1)\n",
    "    else:\n",
    "        print(f'mystr size test PASSED ')\n",
    "\n",
    "    ms.v=\"destroy\"\n",
    "    print(ms.v)\n",
    "    print(ms.s)\n",
    "    if ms.v != \"destroy\":\n",
    "        print(f'mystr value set test FAILED ')\n",
    "        sys.exit(1)\n",
    "    else:\n",
    "        print(f'mystr value set test PASSED ')\n",
    "    if ms.s != 7:\n",
    "        print(f'mystr changed size test FAILED ')\n",
    "        sys.exit(1)\n",
    "    else:\n",
    "        print(f'mystr changed size test PASSED ')\n",
    "\n",
    "    # memory allocated and the allocated for this type should be equal\n",
    "    # to whatever objects we defined above. when this function returns\n",
    "    # they will go out of scope and get freed eventually. \n",
    "    # verify that allocated in this print shows up the right values.\n",
    "    print(mymemobj)\n",
    "\n"
   ]
  },
  {
   "cell_type": "code",
   "execution_count": 119,
   "id": "79676393-4493-4b2c-8da1-1bc7d2dadd05",
   "metadata": {},
   "outputs": [
    {
     "name": "stdout",
     "output_type": "stream",
     "text": [
      "srini\n",
      "mystr value test PASSED \n",
      "5\n",
      "mystr size test PASSED \n",
      "destroy\n",
      "7\n",
      "mystr value set test PASSED \n",
      "mystr changed size test PASSED \n"
     ]
    },
    {
     "ename": "NameError",
     "evalue": "name 'mymemobj' is not defined",
     "output_type": "error",
     "traceback": [
      "\u001b[0;31m---------------------------------------------------------------------------\u001b[0m",
      "\u001b[0;31mNameError\u001b[0m                                 Traceback (most recent call last)",
      "\u001b[0;32m/tmp/ipykernel_47264/3857431576.py\u001b[0m in \u001b[0;36m<module>\u001b[0;34m\u001b[0m\n\u001b[0;32m----> 1\u001b[0;31m \u001b[0mmystr_tests\u001b[0m\u001b[0;34m(\u001b[0m\u001b[0;34m)\u001b[0m\u001b[0;34m\u001b[0m\u001b[0;34m\u001b[0m\u001b[0m\n\u001b[0m",
      "\u001b[0;32m/tmp/ipykernel_47264/1959914730.py\u001b[0m in \u001b[0;36mmystr_tests\u001b[0;34m()\u001b[0m\n\u001b[1;32m     35\u001b[0m     \u001b[0;31m# they will go out of scope and get freed eventually.\u001b[0m\u001b[0;34m\u001b[0m\u001b[0;34m\u001b[0m\u001b[0;34m\u001b[0m\u001b[0m\n\u001b[1;32m     36\u001b[0m     \u001b[0;31m# verify that allocated in this print shows up the right values.\u001b[0m\u001b[0;34m\u001b[0m\u001b[0;34m\u001b[0m\u001b[0;34m\u001b[0m\u001b[0m\n\u001b[0;32m---> 37\u001b[0;31m     \u001b[0mprint\u001b[0m\u001b[0;34m(\u001b[0m\u001b[0mmymemobj\u001b[0m\u001b[0;34m)\u001b[0m\u001b[0;34m\u001b[0m\u001b[0;34m\u001b[0m\u001b[0m\n\u001b[0m\u001b[1;32m     38\u001b[0m \u001b[0;34m\u001b[0m\u001b[0m\n",
      "\u001b[0;31mNameError\u001b[0m: name 'mymemobj' is not defined"
     ]
    }
   ],
   "source": [
    "mystr_tests()"
   ]
  },
  {
   "cell_type": "code",
   "execution_count": 114,
   "id": "0c0c4d9e-cf25-4bca-af65-e9a242bf54e5",
   "metadata": {},
   "outputs": [],
   "source": [
    "a.v='sandheep'"
   ]
  },
  {
   "cell_type": "code",
   "execution_count": 115,
   "id": "e3c672f3-9e2f-477a-9ac7-44e183d37b98",
   "metadata": {},
   "outputs": [
    {
     "data": {
      "text/plain": [
       "'sandheep'"
      ]
     },
     "execution_count": 115,
     "metadata": {},
     "output_type": "execute_result"
    }
   ],
   "source": [
    "a.v"
   ]
  },
  {
   "cell_type": "code",
   "execution_count": 116,
   "id": "cb168218-9028-449e-aa68-8df53b0ffe5e",
   "metadata": {},
   "outputs": [
    {
     "data": {
      "text/plain": [
       "'r'"
      ]
     },
     "execution_count": 116,
     "metadata": {},
     "output_type": "execute_result"
    }
   ],
   "source": [
    "chr(114)"
   ]
  },
  {
   "cell_type": "code",
   "execution_count": null,
   "id": "ad06c476-5608-4b12-877f-633a0114bd3c",
   "metadata": {},
   "outputs": [],
   "source": []
  }
 ],
 "metadata": {
  "kernelspec": {
   "display_name": "Python 3 (ipykernel)",
   "language": "python",
   "name": "python3"
  },
  "language_info": {
   "codemirror_mode": {
    "name": "ipython",
    "version": 3
   },
   "file_extension": ".py",
   "mimetype": "text/x-python",
   "name": "python",
   "nbconvert_exporter": "python",
   "pygments_lexer": "ipython3",
   "version": "3.8.8"
  }
 },
 "nbformat": 4,
 "nbformat_minor": 5
}
