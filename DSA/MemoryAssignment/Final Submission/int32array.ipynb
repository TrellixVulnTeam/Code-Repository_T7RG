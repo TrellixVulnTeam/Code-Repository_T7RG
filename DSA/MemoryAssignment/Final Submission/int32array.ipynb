{
 "cells": [
  {
   "cell_type": "code",
   "execution_count": 57,
   "id": "060e9af7-d7e1-46ad-8653-390ac08adf05",
   "metadata": {},
   "outputs": [],
   "source": [
    "import mymemory as mymem\n",
    "import ctypes\n",
    "from ctypes import *\n",
    "## myint32_array implementation.\n",
    "\n",
    "class myint32_array:\n",
    "\n",
    "    # implement the init\n",
    "    # self.mymemobj = mymem.getmymemobj()\n",
    "    # self.p = allocate the right space with type as 'myint32_array'\n",
    "    # see myclass mem_alloc function\n",
    "    # self.len = size of the myint32_array (no. of elements)\n",
    "\n",
    "    def __init__(self, size, init=0):\n",
    "        self.mymemobj = mymem.getmymemobj()\n",
    "        self.len=size\n",
    "        self.size=size*4\n",
    "        self.p=self.mymemobj.mem_alloc(size,'myint32_array')\n",
    "        self.location=int(self.p,16)-int(self.mymemobj.start)\n",
    "        self.interalAddress=self.mymemobj.internalPointer+self.location\n",
    "        self.array=(ctypes.c_ubyte*size).from_address(self.interalAddress)\n",
    "        self.n=-1\n",
    "        for i in range(size):\n",
    "            ptr=self.mymemobj.store_int32(init,hex(int(self.p,16)+(i*4)))\n",
    "            \n",
    "# A[i] will work with this function. returns the ith element.\n",
    "# Ensure to raise Exception(\"Array out of index Exception\") if the element\n",
    "# goes out of bound.\n",
    "\n",
    "    def __getitem__(self, i):\n",
    "        i=i*4\n",
    "        print(self.mymemobj.load_int32(hex(int(self.p,16)+(i))))\n",
    "\n",
    "# A[i] =5 will work with this function. returns the ith element.\n",
    "# Ensure to raise Exception(\"Array out of index Exception\") if the element\n",
    "# goes out of bound.\n",
    "\n",
    "    def __setitem__(self, i, value):\n",
    "        ptr=self.mymemobj.store_int32(value,hex(int(self.p,16)+(i*4)))\n",
    "# iterator function store whatever is required in self for iterating in\n",
    "# combination with __next__ function.\n",
    "# see example code in assignment unit that I added.\n",
    "\n",
    "    def __iter__(self):\n",
    "        return self\n",
    "\n",
    "# next function for iterator raises StopIteration once all array elements\n",
    "# are iterated upon.\n",
    "\n",
    "    def __next__(self):\n",
    "        if self.n<self.len-1:\n",
    "            self.n+=1\n",
    "            return self.mymemobj.load_int32(hex(int(self.p,16)+(4*self.n)))\n",
    "        else:\n",
    "            raise StopIteration\n",
    "# get the property \"s\" \n",
    "# A.s as defined inthe spec by this function.\n",
    "\n",
    "    def gets(self):\n",
    "        return self.size\n",
    "\n",
    "# Free the element when this is called by garbage collector.\n",
    "# right size etc.\n",
    "\n",
    "    def __del__(self):\n",
    "        self.mymemobj.mem_free(self.p,self.len,'myint32_array')\n",
    "\n",
    "    s = property(gets, None, None, \"I'm the 'value' property.\")\n"
   ]
  },
  {
   "cell_type": "code",
   "execution_count": 62,
   "id": "3132b981-eede-4ced-8d00-722fae685b9e",
   "metadata": {},
   "outputs": [],
   "source": [
    "a=myint32_array(100)"
   ]
  },
  {
   "cell_type": "code",
   "execution_count": 64,
   "id": "32d0245d-f82f-43e8-a5cb-32ab9228333f",
   "metadata": {},
   "outputs": [
    {
     "name": "stdout",
     "output_type": "stream",
     "text": [
      "0\n"
     ]
    }
   ],
   "source": [
    "a"
   ]
  },
  {
   "cell_type": "code",
   "execution_count": 60,
   "id": "a87a6697-8823-4a4b-822b-b053f70e4801",
   "metadata": {},
   "outputs": [
    {
     "name": "stdout",
     "output_type": "stream",
     "text": [
      "2147483647\n"
     ]
    }
   ],
   "source": [
    "A[2]"
   ]
  },
  {
   "cell_type": "code",
   "execution_count": 61,
   "id": "40eda5d4-0244-44de-ab9f-cc1664d35376",
   "metadata": {},
   "outputs": [
    {
     "ename": "NameError",
     "evalue": "name 'mymem_badval' is not defined",
     "output_type": "error",
     "traceback": [
      "\u001b[0;31m---------------------------------------------------------------------------\u001b[0m",
      "\u001b[0;31mNameError\u001b[0m                                 Traceback (most recent call last)",
      "\u001b[0;32m/tmp/ipykernel_51103/2110853252.py\u001b[0m in \u001b[0;36m<module>\u001b[0;34m\u001b[0m\n\u001b[1;32m      4\u001b[0m \u001b[0;32mtry\u001b[0m\u001b[0;34m:\u001b[0m\u001b[0;34m\u001b[0m\u001b[0;34m\u001b[0m\u001b[0m\n\u001b[0;32m----> 5\u001b[0;31m     \u001b[0mA\u001b[0m\u001b[0;34m[\u001b[0m\u001b[0;36m2\u001b[0m\u001b[0;34m]\u001b[0m\u001b[0;34m=\u001b[0m\u001b[0mpow\u001b[0m\u001b[0;34m(\u001b[0m\u001b[0;36m2\u001b[0m\u001b[0;34m,\u001b[0m\u001b[0;36m31\u001b[0m\u001b[0;34m)\u001b[0m\u001b[0;34m+\u001b[0m\u001b[0;36m2\u001b[0m\u001b[0;34m\u001b[0m\u001b[0;34m\u001b[0m\u001b[0m\n\u001b[0m\u001b[1;32m      6\u001b[0m \u001b[0;32mexcept\u001b[0m \u001b[0mmymem_badval\u001b[0m\u001b[0;34m:\u001b[0m\u001b[0;34m\u001b[0m\u001b[0;34m\u001b[0m\u001b[0m\n",
      "\u001b[0;32m/tmp/ipykernel_51103/2043649074.py\u001b[0m in \u001b[0;36m__setitem__\u001b[0;34m(self, i, value)\u001b[0m\n\u001b[1;32m     38\u001b[0m     \u001b[0;32mdef\u001b[0m \u001b[0m__setitem__\u001b[0m\u001b[0;34m(\u001b[0m\u001b[0mself\u001b[0m\u001b[0;34m,\u001b[0m \u001b[0mi\u001b[0m\u001b[0;34m,\u001b[0m \u001b[0mvalue\u001b[0m\u001b[0;34m)\u001b[0m\u001b[0;34m:\u001b[0m\u001b[0;34m\u001b[0m\u001b[0;34m\u001b[0m\u001b[0m\n\u001b[0;32m---> 39\u001b[0;31m         \u001b[0mptr\u001b[0m\u001b[0;34m=\u001b[0m\u001b[0mself\u001b[0m\u001b[0;34m.\u001b[0m\u001b[0mmymemobj\u001b[0m\u001b[0;34m.\u001b[0m\u001b[0mstore_int32\u001b[0m\u001b[0;34m(\u001b[0m\u001b[0minit\u001b[0m\u001b[0;34m,\u001b[0m\u001b[0mhex\u001b[0m\u001b[0;34m(\u001b[0m\u001b[0mint\u001b[0m\u001b[0;34m(\u001b[0m\u001b[0mself\u001b[0m\u001b[0;34m.\u001b[0m\u001b[0mp\u001b[0m\u001b[0;34m,\u001b[0m\u001b[0;36m16\u001b[0m\u001b[0;34m)\u001b[0m\u001b[0;34m+\u001b[0m\u001b[0;34m(\u001b[0m\u001b[0mi\u001b[0m\u001b[0;34m*\u001b[0m\u001b[0;36m4\u001b[0m\u001b[0;34m)\u001b[0m\u001b[0;34m)\u001b[0m\u001b[0;34m)\u001b[0m\u001b[0;34m\u001b[0m\u001b[0;34m\u001b[0m\u001b[0m\n\u001b[0m\u001b[1;32m     40\u001b[0m \u001b[0;31m# iterator function store whatever is required in self for iterating in\u001b[0m\u001b[0;34m\u001b[0m\u001b[0;34m\u001b[0m\u001b[0;34m\u001b[0m\u001b[0m\n",
      "\u001b[0;31mNameError\u001b[0m: name 'init' is not defined",
      "\nDuring handling of the above exception, another exception occurred:\n",
      "\u001b[0;31mNameError\u001b[0m                                 Traceback (most recent call last)",
      "\u001b[0;32m/tmp/ipykernel_51103/2110853252.py\u001b[0m in \u001b[0;36m<module>\u001b[0;34m\u001b[0m\n\u001b[1;32m      4\u001b[0m \u001b[0;32mtry\u001b[0m\u001b[0;34m:\u001b[0m\u001b[0;34m\u001b[0m\u001b[0;34m\u001b[0m\u001b[0m\n\u001b[1;32m      5\u001b[0m     \u001b[0mA\u001b[0m\u001b[0;34m[\u001b[0m\u001b[0;36m2\u001b[0m\u001b[0;34m]\u001b[0m\u001b[0;34m=\u001b[0m\u001b[0mpow\u001b[0m\u001b[0;34m(\u001b[0m\u001b[0;36m2\u001b[0m\u001b[0;34m,\u001b[0m\u001b[0;36m31\u001b[0m\u001b[0;34m)\u001b[0m\u001b[0;34m+\u001b[0m\u001b[0;36m2\u001b[0m\u001b[0;34m\u001b[0m\u001b[0;34m\u001b[0m\u001b[0m\n\u001b[0;32m----> 6\u001b[0;31m \u001b[0;32mexcept\u001b[0m \u001b[0mmymem_badval\u001b[0m\u001b[0;34m:\u001b[0m\u001b[0;34m\u001b[0m\u001b[0;34m\u001b[0m\u001b[0m\n\u001b[0m\u001b[1;32m      7\u001b[0m     \u001b[0mprint\u001b[0m\u001b[0;34m(\u001b[0m\u001b[0;34mf'myint32_array element  positive overflow test PASSED for {pow(2,31)+2}'\u001b[0m\u001b[0;34m)\u001b[0m\u001b[0;34m\u001b[0m\u001b[0;34m\u001b[0m\u001b[0m\n\u001b[1;32m      8\u001b[0m     \u001b[0mae\u001b[0m\u001b[0;34m=\u001b[0m\u001b[0;36m1\u001b[0m\u001b[0;34m\u001b[0m\u001b[0;34m\u001b[0m\u001b[0m\n",
      "\u001b[0;31mNameError\u001b[0m: name 'mymem_badval' is not defined"
     ]
    }
   ],
   "source": []
  },
  {
   "cell_type": "code",
   "execution_count": 49,
   "id": "ba59c07c-6621-42a3-b3da-a21ec1dfd00d",
   "metadata": {},
   "outputs": [],
   "source": [
    "def myint32_aray_tests():\n",
    "    global mymemobj\n",
    "\n",
    "    A=myint32_array(5, pow(2,31)-1)\n",
    "\n",
    "    print(A[2])\n",
    "    for i in A:\n",
    "        print(i)\n",
    "        if i != pow(2,31)-1:\n",
    "            print(f'myint32_array: initialization value test FAILED')\n",
    "            sys.exit(1)\n",
    "    print(f'myint32_array: initialization value test PASSED')\n",
    "    print(f'Len: {A.s}')\n",
    "    if A.s != 20:\n",
    "        print(f'myint32_array: size test FAILED')\n",
    "        sys.exit(1)\n",
    "    else:\n",
    "        print(f'myint32_array: size test PASSED')\n",
    "        \n",
    "    ae=0\n",
    "    try:\n",
    "        A[1000]\n",
    "    except Exception as e:\n",
    "        print(e)\n",
    "        print(\"myint32_array out of index Exception test PASSED\")\n",
    "        ae=1\n",
    "    if ae != 1:\n",
    "        print(\"myint32_array out of index Exception test FAILED\")\n",
    "        sys.exit(1)\n",
    "    ae=0\n",
    "    try:\n",
    "        A[2]=pow(2,31)+2\n",
    "    except mymem_badval:\n",
    "        print(f'myint32_array element  positive overflow test PASSED for {pow(2,31)+2}')\n",
    "        ae=1\n",
    "    if ae != 1:\n",
    "        print(f'myint32_array element  positive overflow test FAILED for {pow(2,31)+2}')\n",
    "        sys.exit(1)\n",
    "    ae=0\n",
    "    try:\n",
    "        A[2]=-(pow(2,31)+2)\n",
    "    except mymem_badval:\n",
    "        print(f'myint32_array element  negative overflow test passed for {pow(2,31)+2}')\n",
    "        ae=1\n",
    "    if ae != 1:\n",
    "        print(f'myint32_array element  negative overflow test FAILED for {pow(2,31)+2}')\n",
    "        sys.exit(1)"
   ]
  },
  {
   "cell_type": "code",
   "execution_count": 50,
   "id": "d6ce5b6e-9afa-4b39-834c-525362e3441a",
   "metadata": {},
   "outputs": [
    {
     "name": "stdout",
     "output_type": "stream",
     "text": [
      "2147483647\n",
      "None\n",
      "2147483647\n",
      "2147483647\n",
      "2147483647\n",
      "2147483647\n",
      "2147483647\n",
      "myint32_array: initialization value test PASSED\n",
      "Len: 5\n",
      "myint32_array: size test FAILED\n"
     ]
    },
    {
     "ename": "NameError",
     "evalue": "name 'sys' is not defined",
     "output_type": "error",
     "traceback": [
      "\u001b[0;31m---------------------------------------------------------------------------\u001b[0m",
      "\u001b[0;31mNameError\u001b[0m                                 Traceback (most recent call last)",
      "\u001b[0;32m/tmp/ipykernel_51103/2141806295.py\u001b[0m in \u001b[0;36m<module>\u001b[0;34m\u001b[0m\n\u001b[0;32m----> 1\u001b[0;31m \u001b[0mmyint32_aray_tests\u001b[0m\u001b[0;34m(\u001b[0m\u001b[0;34m)\u001b[0m\u001b[0;34m\u001b[0m\u001b[0;34m\u001b[0m\u001b[0m\n\u001b[0m",
      "\u001b[0;32m/tmp/ipykernel_51103/2161335524.py\u001b[0m in \u001b[0;36mmyint32_aray_tests\u001b[0;34m()\u001b[0m\n\u001b[1;32m     14\u001b[0m     \u001b[0;32mif\u001b[0m \u001b[0mA\u001b[0m\u001b[0;34m.\u001b[0m\u001b[0ms\u001b[0m \u001b[0;34m!=\u001b[0m \u001b[0;36m20\u001b[0m\u001b[0;34m:\u001b[0m\u001b[0;34m\u001b[0m\u001b[0;34m\u001b[0m\u001b[0m\n\u001b[1;32m     15\u001b[0m         \u001b[0mprint\u001b[0m\u001b[0;34m(\u001b[0m\u001b[0;34mf'myint32_array: size test FAILED'\u001b[0m\u001b[0;34m)\u001b[0m\u001b[0;34m\u001b[0m\u001b[0;34m\u001b[0m\u001b[0m\n\u001b[0;32m---> 16\u001b[0;31m         \u001b[0msys\u001b[0m\u001b[0;34m.\u001b[0m\u001b[0mexit\u001b[0m\u001b[0;34m(\u001b[0m\u001b[0;36m1\u001b[0m\u001b[0;34m)\u001b[0m\u001b[0;34m\u001b[0m\u001b[0;34m\u001b[0m\u001b[0m\n\u001b[0m\u001b[1;32m     17\u001b[0m     \u001b[0;32melse\u001b[0m\u001b[0;34m:\u001b[0m\u001b[0;34m\u001b[0m\u001b[0;34m\u001b[0m\u001b[0m\n\u001b[1;32m     18\u001b[0m         \u001b[0mprint\u001b[0m\u001b[0;34m(\u001b[0m\u001b[0;34mf'myint32_array: size test PASSED'\u001b[0m\u001b[0;34m)\u001b[0m\u001b[0;34m\u001b[0m\u001b[0;34m\u001b[0m\u001b[0m\n",
      "\u001b[0;31mNameError\u001b[0m: name 'sys' is not defined"
     ]
    }
   ],
   "source": [
    "myint32_aray_tests()"
   ]
  },
  {
   "cell_type": "code",
   "execution_count": 123,
   "id": "d2eac197-93e3-40b5-85ae-852ed6e63685",
   "metadata": {},
   "outputs": [],
   "source": [
    "i = iter(a)\n"
   ]
  },
  {
   "cell_type": "code",
   "execution_count": 136,
   "id": "8ce8e373-754a-42c6-bb92-e9501bf3c84c",
   "metadata": {},
   "outputs": [
    {
     "ename": "IndexError",
     "evalue": "invalid index",
     "output_type": "error",
     "traceback": [
      "\u001b[0;31m---------------------------------------------------------------------------\u001b[0m",
      "\u001b[0;31mIndexError\u001b[0m                                Traceback (most recent call last)",
      "\u001b[0;32m/tmp/ipykernel_48799/1939748483.py\u001b[0m in \u001b[0;36m<module>\u001b[0;34m\u001b[0m\n\u001b[0;32m----> 1\u001b[0;31m \u001b[0mnext\u001b[0m\u001b[0;34m(\u001b[0m\u001b[0mi\u001b[0m\u001b[0;34m)\u001b[0m\u001b[0;34m\u001b[0m\u001b[0;34m\u001b[0m\u001b[0m\n\u001b[0m",
      "\u001b[0;32m/tmp/ipykernel_48799/3460474058.py\u001b[0m in \u001b[0;36m__next__\u001b[0;34m(self)\u001b[0m\n\u001b[1;32m     49\u001b[0m         \u001b[0;32mif\u001b[0m \u001b[0mself\u001b[0m\u001b[0;34m.\u001b[0m\u001b[0mn\u001b[0m\u001b[0;34m<\u001b[0m\u001b[0mself\u001b[0m\u001b[0;34m.\u001b[0m\u001b[0mlen\u001b[0m\u001b[0;34m:\u001b[0m\u001b[0;34m\u001b[0m\u001b[0;34m\u001b[0m\u001b[0m\n\u001b[1;32m     50\u001b[0m             \u001b[0mself\u001b[0m\u001b[0;34m.\u001b[0m\u001b[0mn\u001b[0m\u001b[0;34m+=\u001b[0m\u001b[0;36m1\u001b[0m\u001b[0;34m\u001b[0m\u001b[0;34m\u001b[0m\u001b[0m\n\u001b[0;32m---> 51\u001b[0;31m             \u001b[0;32mreturn\u001b[0m \u001b[0mself\u001b[0m\u001b[0;34m.\u001b[0m\u001b[0marray\u001b[0m\u001b[0;34m[\u001b[0m\u001b[0mself\u001b[0m\u001b[0;34m.\u001b[0m\u001b[0mn\u001b[0m\u001b[0;34m]\u001b[0m\u001b[0;34m\u001b[0m\u001b[0;34m\u001b[0m\u001b[0m\n\u001b[0m\u001b[1;32m     52\u001b[0m         \u001b[0;32melse\u001b[0m\u001b[0;34m:\u001b[0m\u001b[0;34m\u001b[0m\u001b[0;34m\u001b[0m\u001b[0m\n\u001b[1;32m     53\u001b[0m             \u001b[0;32mraise\u001b[0m \u001b[0mStopIteration\u001b[0m\u001b[0;34m\u001b[0m\u001b[0;34m\u001b[0m\u001b[0m\n",
      "\u001b[0;31mIndexError\u001b[0m: invalid index"
     ]
    }
   ],
   "source": [
    "next(i)"
   ]
  },
  {
   "cell_type": "code",
   "execution_count": 127,
   "id": "a4f82c3f-51cf-42c3-b695-bb1dc44b2227",
   "metadata": {},
   "outputs": [
    {
     "data": {
      "text/plain": [
       "'0xfffffffc00000029'"
      ]
     },
     "execution_count": 127,
     "metadata": {},
     "output_type": "execute_result"
    }
   ],
   "source": [
    "a.mymemobj.store_int32(2321,'0xfffffffc00000029')"
   ]
  },
  {
   "cell_type": "code",
   "execution_count": 102,
   "id": "df9cf8bc-9f04-4d15-9173-0480110272fe",
   "metadata": {},
   "outputs": [
    {
     "data": {
      "text/plain": [
       "2321"
      ]
     },
     "execution_count": 102,
     "metadata": {},
     "output_type": "execute_result"
    }
   ],
   "source": [
    "a.mymemobj.load_int32('0xfffffffc00000029')"
   ]
  },
  {
   "cell_type": "code",
   "execution_count": null,
   "id": "037fa16b-1e35-4b89-b9a3-51693ec0a46a",
   "metadata": {},
   "outputs": [],
   "source": []
  },
  {
   "cell_type": "code",
   "execution_count": 5,
   "id": "fa70b427-8a75-4700-888d-748e458358b7",
   "metadata": {},
   "outputs": [
    {
     "data": {
      "text/plain": [
       "'0xfffffffc00000004'"
      ]
     },
     "execution_count": 5,
     "metadata": {},
     "output_type": "execute_result"
    }
   ],
   "source": [
    "18446744056529682436"
   ]
  },
  {
   "cell_type": "code",
   "execution_count": 24,
   "id": "8ef17b2c-dbb7-41c2-8856-d431da83c2e4",
   "metadata": {},
   "outputs": [
    {
     "data": {
      "text/plain": [
       "'0xfffffffc00000020'"
      ]
     },
     "execution_count": 24,
     "metadata": {},
     "output_type": "execute_result"
    }
   ],
   "source": [
    "ptr='0xfffffffc00000020'\n",
    "if (int(ptr,16)+4>a.mymemobj.start) & (int(ptr,16)+4<a.mymemobj.end):\n",
    "    positionInMemory=int(ptr,16)-a.mymemobj.start # Calculating the memory address using the given pointer\n",
    "    ptr=a.mymemobj.start+positionInMemory\n",
    "hex(ptr)"
   ]
  },
  {
   "cell_type": "code",
   "execution_count": 76,
   "id": "d5be3570-8b84-449f-969b-b108050fbc1e",
   "metadata": {},
   "outputs": [
    {
     "name": "stdout",
     "output_type": "stream",
     "text": [
      "1\n",
      "2\n",
      "4\n",
      "8\n"
     ]
    },
    {
     "ename": "StopIteration",
     "evalue": "",
     "output_type": "error",
     "traceback": [
      "\u001b[0;31m---------------------------------------------------------------------------\u001b[0m",
      "\u001b[0;31mStopIteration\u001b[0m                             Traceback (most recent call last)",
      "\u001b[0;32m/tmp/ipykernel_48799/4135772352.py\u001b[0m in \u001b[0;36m<module>\u001b[0;34m\u001b[0m\n\u001b[1;32m     30\u001b[0m \u001b[0mprint\u001b[0m\u001b[0;34m(\u001b[0m\u001b[0mnext\u001b[0m\u001b[0;34m(\u001b[0m\u001b[0mi\u001b[0m\u001b[0;34m)\u001b[0m\u001b[0;34m)\u001b[0m\u001b[0;34m\u001b[0m\u001b[0;34m\u001b[0m\u001b[0m\n\u001b[1;32m     31\u001b[0m \u001b[0mprint\u001b[0m\u001b[0;34m(\u001b[0m\u001b[0mnext\u001b[0m\u001b[0;34m(\u001b[0m\u001b[0mi\u001b[0m\u001b[0;34m)\u001b[0m\u001b[0;34m)\u001b[0m\u001b[0;34m\u001b[0m\u001b[0;34m\u001b[0m\u001b[0m\n\u001b[0;32m---> 32\u001b[0;31m \u001b[0mprint\u001b[0m\u001b[0;34m(\u001b[0m\u001b[0mnext\u001b[0m\u001b[0;34m(\u001b[0m\u001b[0mi\u001b[0m\u001b[0;34m)\u001b[0m\u001b[0;34m)\u001b[0m\u001b[0;34m\u001b[0m\u001b[0;34m\u001b[0m\u001b[0m\n\u001b[0m",
      "\u001b[0;32m/tmp/ipykernel_48799/4135772352.py\u001b[0m in \u001b[0;36m__next__\u001b[0;34m(self)\u001b[0m\n\u001b[1;32m     16\u001b[0m             \u001b[0;32mreturn\u001b[0m \u001b[0mresult\u001b[0m\u001b[0;34m\u001b[0m\u001b[0;34m\u001b[0m\u001b[0m\n\u001b[1;32m     17\u001b[0m         \u001b[0;32melse\u001b[0m\u001b[0;34m:\u001b[0m\u001b[0;34m\u001b[0m\u001b[0;34m\u001b[0m\u001b[0m\n\u001b[0;32m---> 18\u001b[0;31m             \u001b[0;32mraise\u001b[0m \u001b[0mStopIteration\u001b[0m\u001b[0;34m\u001b[0m\u001b[0;34m\u001b[0m\u001b[0m\n\u001b[0m\u001b[1;32m     19\u001b[0m \u001b[0;34m\u001b[0m\u001b[0m\n\u001b[1;32m     20\u001b[0m \u001b[0;34m\u001b[0m\u001b[0m\n",
      "\u001b[0;31mStopIteration\u001b[0m: "
     ]
    }
   ],
   "source": [
    "class PowTwo:\n",
    "    \"\"\"Class to implement an iterator\n",
    "    of powers of two\"\"\"\n",
    "\n",
    "    def __init__(self, max=0):\n",
    "        self.max = max\n",
    "\n",
    "    def __iter__(self):\n",
    "        self.n = 0\n",
    "        return self\n",
    "\n",
    "    def __next__(self):\n",
    "        if self.n <= self.max:\n",
    "            result = 2 ** self.n\n",
    "            self.n += 1\n",
    "            return result\n",
    "        else:\n",
    "            raise StopIteration\n",
    "\n",
    "\n",
    "# create an object\n",
    "numbers = PowTwo(3)\n",
    "\n",
    "# create an iterable from the object\n",
    "i = iter(numbers)\n",
    "\n",
    "# Using next to get to the next iterator element\n",
    "print(next(i))\n",
    "print(next(i))\n",
    "print(next(i))\n",
    "print(next(i))\n",
    "print(next(i))"
   ]
  },
  {
   "cell_type": "code",
   "execution_count": null,
   "id": "10ebf67e-6702-4a12-ae2f-f6010188905b",
   "metadata": {},
   "outputs": [],
   "source": []
  }
 ],
 "metadata": {
  "kernelspec": {
   "display_name": "Python 3 (ipykernel)",
   "language": "python",
   "name": "python3"
  },
  "language_info": {
   "codemirror_mode": {
    "name": "ipython",
    "version": 3
   },
   "file_extension": ".py",
   "mimetype": "text/x-python",
   "name": "python",
   "nbconvert_exporter": "python",
   "pygments_lexer": "ipython3",
   "version": "3.8.8"
  }
 },
 "nbformat": 4,
 "nbformat_minor": 5
}
