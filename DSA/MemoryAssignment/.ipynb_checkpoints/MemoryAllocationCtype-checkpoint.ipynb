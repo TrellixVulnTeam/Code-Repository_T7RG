{
 "cells": [
  {
   "cell_type": "code",
   "execution_count": 65,
   "id": "1eea6ee9-e09a-4f55-af8b-42e1c1431468",
   "metadata": {},
   "outputs": [],
   "source": [
    "import ctypes\n",
    "from ctypes import *\n",
    "#class myMemory():\n",
    "#Allocate 1GB of Space for memory\n",
    "\n",
    "\n",
    "class bitArray():\n",
    "    def __init__(self,memoryInBytes):\n",
    "        \"\"\" The init function initialises the bitArray in a specific location in the memory.\n",
    "        This is used to understand the byte locations which are used and which are occupied\"\"\"\n",
    "\n",
    "        self.totalMemory=memoryInBytes\n",
    "        self.arrayLength=int(self.totalMemory/8) \n",
    "        self.ByteVector=(ctypes.c_ubyte*self.arrayLength)() # Creating the memory \n",
    "        for i in range(self.arrayLength):\n",
    "            if self.ByteVector[i]>0:\n",
    "                self.ByteVector[i]=0\n",
    "        self.ArrayPointer=ctypes.addressof(self.ByteVector)\n",
    "\n",
    "        \n",
    "    def checkFreeSpace(self):\n",
    "        array=(ctypes.c_ubyte*self.arrayLength).from_address(self.ArrayPointer)\n",
    "        counter=0\n",
    "        location=0\n",
    "        \n",
    "        for i in range(self.arrayLength):\n",
    "            if self.ByteVector[i]==0:\n",
    "                counter+=1\n",
    "            else:\n",
    "                counter=0\n",
    "            if counter==self.bytesNeeded:\n",
    "                break\n",
    "        location=i-(self.bytesNeeded-1)\n",
    "        self.freeSpace=self.ArrayPointer+location\n",
    "\n",
    "    def spaceCalculator(self,typeOfData):\n",
    "        if typeOfData=='int32':\n",
    "            self.size=32\n",
    "            self.bytesNeeded=4\n",
    "        elif typeOfData=='int64':\n",
    "            self.size=64\n",
    "            self.bytesNeeded=8\n",
    "        elif typeOfData=='bool':\n",
    "            self.size=1\n",
    "            self.bytesNeeded=1\n",
    "    \n",
    "    \n",
    "    \n",
    "class myMemory():\n",
    "    \n",
    "        \n",
    "    def __init__(self,size,unit):\n",
    "        \"\"\" This function is used to calculate memory to be allocated.\n",
    "        It takes as input two parameters\n",
    "        unit : Unit of memory \n",
    "              ( \"KB\" - Kilobytes , MB - \"MegaBytes\" , \"GB\" - 'Gigabtes'\n",
    "\n",
    "        size : Size in units to be allocated\n",
    "              If unit = \"MB\" and size= \"1\" , 1024*1024 bytes will be allocated. \n",
    "              ie, 1MB will be allocated \n",
    "              \n",
    "        The function also creates \n",
    "              \"\"\"\n",
    "        memInBytes=0\n",
    "        if unit=='KB':\n",
    "            self.memInBytes=size*1024\n",
    "        elif unit=='MB':\n",
    "            self.memInBytes=size*1024*1024\n",
    "        elif unit=='GB':\n",
    "            self.memInBytes=size*1024*1024*1024\n",
    "        else:\n",
    "            print('Invalid Value of unit')\n",
    "            print('Use \"KB\", \"MB\" or \"GB\"')\n",
    "        \n",
    "        #Now the memory is calculated, a byte vector has to be assigned\n",
    "        # memInBytes number of bits are needed to address the whole memory allocated\n",
    "      \n",
    "        self.bitVector=bitArray(self.memInBytes)\n",
    "           \n",
    "        \n",
    "    def allocate32(self,addr,number):\n",
    "        \"\"\" This function allocates a 32 bit memory address and stores the data in it after converting it into bytes\"\"\"\n",
    "        \n",
    "        startAddress=addr\n",
    "        array=(ctypes.c_ubyte*8).from_address(addr)\n",
    "        # For unsigned integers, since there is no sign, it can take 32 bit numbers\n",
    "        if len(bin(number)[2:])<=32:\n",
    "            binary='0'*(31-len(bin(number)[2:]))+bin(number)[2:]\n",
    "            binary='0'+binary # Since it is unsigned, sign bit is always 0\n",
    "            idx=0\n",
    "            for i in range(0,32,8):\n",
    "                array[idx]=int(binary[i:i+8],2)\n",
    "                idx+=1   \n",
    "    \n",
    "    def checkSignedUnsigned(self,number):\n",
    "        \"\"\" This function checks if a given number is signed, unsigned, 32 or 64 bit\n",
    "            1: signed32\n",
    "            2: unsigned32\"\"\"\n",
    "\n",
    "        if number<0:\n",
    "            if (number>-2147483648):\n",
    "                return 'i32'\n",
    "            else:\n",
    "                if number>-9223372036854775808:\n",
    "                    return 'i64'\n",
    "                else:\n",
    "                    return 'foo'\n",
    "        else:\n",
    "            if number<4294967295:\n",
    "                return 'u32'\n",
    "            else:\n",
    "                if number<9223372036854775808:\n",
    "                    return 'u64'\n",
    "                else:\n",
    "                    return 'foo'\n",
    "                \n",
    "        \n",
    "    def store_int32(self,number,addr,unsigned=False):\n",
    "        \"\"\" This function is used to save an int32 number to a memory location \n",
    "        It takes as input three parameters. A number, which is to be saved, \n",
    "        the address to which it has to be saved and if it is a signed or unsigned int.\n",
    "\n",
    "        If it is a signed Integer, the user can enter values from -2147483648 to 2147483647\n",
    "        In case of unsigned he can enter values from 0 to 4294967295\"\"\"\n",
    "        freeAddress=addr # To be calculated using FindFreeSpace Function\n",
    "        \n",
    "        if unsigned:\n",
    "            limits=(-2147483648,2147483647)\n",
    "            # Checks if the number is within the range of Signed Int\n",
    "            if limits[0]<number<limits[1]:\n",
    "                print('Processing')\n",
    "            else:\n",
    "                print('Out of Range of Signed Integer')\n",
    "        else:\n",
    "            limits=(0,4294967295)\n",
    "            #Checks if number is within range of Unsigned Int\n",
    "            if limits[0]<number<limits[1]:\n",
    "                self.allocate32(freeAddress,number)\n",
    "            else:\n",
    "                print('Out of Range of Unsigned Integer')\n",
    "\n",
    "    def load_int32(self,int32ptr):\n",
    "        \"\"\" Function to read data from memory, convert it to decimal and to print it\"\"\"\n",
    "        array=(ctypes.c_ubyte*4).from_address(int32ptr)\n",
    "        binary=''\n",
    "        for i in range(4):\n",
    "            binary+=str(bin(array[i]))[2:]\n",
    "        print(int(binary,2))"
   ]
  },
  {
   "cell_type": "code",
   "execution_count": 66,
   "id": "050a8efb-1c7a-4bbf-952c-6c7c0ceea25e",
   "metadata": {},
   "outputs": [],
   "source": [
    "mem=myMemory(1,'MB')"
   ]
  },
  {
   "cell_type": "code",
   "execution_count": 67,
   "id": "46fbeea1-de4b-4eef-b9b9-4d728ed1ecd7",
   "metadata": {},
   "outputs": [],
   "source": [
    "mem.bitVector.spaceCalculator('int32')"
   ]
  },
  {
   "cell_type": "code",
   "execution_count": 68,
   "id": "51c3e6cd-278a-4690-b622-8cf74e7a8d84",
   "metadata": {},
   "outputs": [
    {
     "data": {
      "text/plain": [
       "4"
      ]
     },
     "execution_count": 68,
     "metadata": {},
     "output_type": "execute_result"
    }
   ],
   "source": [
    "mem.bitVector.bytesNeeded"
   ]
  },
  {
   "cell_type": "code",
   "execution_count": null,
   "id": "55768bea-acc1-484a-8807-0cae9731efc6",
   "metadata": {},
   "outputs": [],
   "source": [
    "# b=bitArray(1024)\n",
    "\n",
    "b.spaceCalculator('int32')\n",
    "\n",
    "b.checkFreeSpace()"
   ]
  },
  {
   "cell_type": "code",
   "execution_count": 62,
   "id": "f752fd3e-fcdb-4e77-8e83-a57e85385767",
   "metadata": {},
   "outputs": [
    {
     "data": {
      "text/plain": [
       "140437978111408"
      ]
     },
     "execution_count": 62,
     "metadata": {},
     "output_type": "execute_result"
    }
   ],
   "source": [
    "b.ArrayPointer"
   ]
  },
  {
   "cell_type": "code",
   "execution_count": 63,
   "id": "ca5e2dae-cf89-4634-9233-e5ffd2a594b7",
   "metadata": {},
   "outputs": [
    {
     "data": {
      "text/plain": [
       "140437978111408"
      ]
     },
     "execution_count": 63,
     "metadata": {},
     "output_type": "execute_result"
    }
   ],
   "source": [
    "b.freeSpace"
   ]
  },
  {
   "cell_type": "code",
   "execution_count": 92,
   "id": "c77519fb-23ec-4881-a260-49bcf4ae02f6",
   "metadata": {},
   "outputs": [
    {
     "name": "stdout",
     "output_type": "stream",
     "text": [
      "0 176\n",
      "1 71\n",
      "2 77\n",
      "3 72\n",
      "4 7\n",
      "5 127\n",
      "8 240\n",
      "9 230\n",
      "10 86\n",
      "11 72\n",
      "12 7\n",
      "13 127\n",
      "16 1\n",
      "24 160\n",
      "25 105\n",
      "26 175\n",
      "27 248\n",
      "28 88\n",
      "29 85\n",
      "49 245\n",
      "50 240\n",
      "51 90\n",
      "52 7\n",
      "53 127\n",
      "64 48\n",
      "65 102\n",
      "66 6\n",
      "67 92\n",
      "68 7\n",
      "69 127\n",
      "72 64\n",
      "73 238\n",
      "74 240\n",
      "75 90\n",
      "76 7\n",
      "77 127\n",
      "120 16\n",
      "121 238\n",
      "122 32\n",
      "123 72\n",
      "124 7\n",
      "125 127\n"
     ]
    }
   ],
   "source": [
    "for i in range(b.arrayLength):\n",
    "    if arr[i]>0:\n",
    "        print(i,arr[i])"
   ]
  },
  {
   "cell_type": "code",
   "execution_count": 32,
   "id": "4f50b56a-cbda-4c12-a8cf-bb030f9d688f",
   "metadata": {},
   "outputs": [],
   "source": [
    "mem=myMemory(1,'MB')"
   ]
  },
  {
   "cell_type": "code",
   "execution_count": 8,
   "id": "3934f885-0f83-4e3c-8752-b9a72fff796c",
   "metadata": {},
   "outputs": [
    {
     "name": "stdout",
     "output_type": "stream",
     "text": [
      "1048576 131072 93840633326304\n"
     ]
    }
   ],
   "source": [
    "print(mem.memInBytes,mem.byteVectorLength,mem.byteVectorPtr)"
   ]
  },
  {
   "cell_type": "code",
   "execution_count": 9,
   "id": "12b11f1b-5146-40a5-8bb4-0283b501e01d",
   "metadata": {},
   "outputs": [],
   "source": [
    "mem.store_int32(65535,93840632377216)"
   ]
  },
  {
   "cell_type": "code",
   "execution_count": 10,
   "id": "6a6cb6ee-4be5-4be6-b334-92a8b6ac8611",
   "metadata": {},
   "outputs": [
    {
     "name": "stdout",
     "output_type": "stream",
     "text": [
      "65535\n"
     ]
    }
   ],
   "source": [
    "mem.load_int32(93840632377216)"
   ]
  },
  {
   "cell_type": "code",
   "execution_count": 38,
   "id": "a9aa51d7-4776-4a3a-a7a1-9cb05edaa579",
   "metadata": {},
   "outputs": [],
   "source": [
    "arr=(ctypes.c_ubyte*10).from_address(93840633326304)"
   ]
  },
  {
   "cell_type": "code",
   "execution_count": 40,
   "id": "c270b422-1a76-4ddc-b8f8-35217b310f2f",
   "metadata": {},
   "outputs": [
    {
     "data": {
      "text/plain": [
       "80"
      ]
     },
     "execution_count": 40,
     "metadata": {},
     "output_type": "execute_result"
    }
   ],
   "source": [
    "arr[0]"
   ]
  },
  {
   "cell_type": "code",
   "execution_count": null,
   "id": "063229ac-3ad1-4165-ad17-f3cd59736a39",
   "metadata": {},
   "outputs": [],
   "source": []
  },
  {
   "cell_type": "code",
   "execution_count": null,
   "id": "64e9a310-60b6-4eba-81bf-5a416120b8bd",
   "metadata": {},
   "outputs": [],
   "source": []
  },
  {
   "cell_type": "code",
   "execution_count": null,
   "id": "2b215c35-c818-439f-a4aa-6b2e8a91f66d",
   "metadata": {},
   "outputs": [],
   "source": []
  },
  {
   "cell_type": "code",
   "execution_count": null,
   "id": "e25e0cc5-198c-4d18-8a81-36012dd3911d",
   "metadata": {},
   "outputs": [],
   "source": []
  },
  {
   "cell_type": "code",
   "execution_count": null,
   "id": "4882d83c-8455-4cea-8b92-ee4716658af0",
   "metadata": {},
   "outputs": [],
   "source": []
  },
  {
   "cell_type": "code",
   "execution_count": null,
   "id": "dac970d7-d4e9-4614-852e-afecae7c86a2",
   "metadata": {},
   "outputs": [],
   "source": []
  },
  {
   "cell_type": "code",
   "execution_count": null,
   "id": "0a4d6cc3-f372-40dc-93f7-fa0321b38e83",
   "metadata": {},
   "outputs": [],
   "source": []
  },
  {
   "cell_type": "code",
   "execution_count": null,
   "id": "8f94092c-19b5-4b86-9261-bc4137a2f269",
   "metadata": {},
   "outputs": [],
   "source": []
  },
  {
   "cell_type": "code",
   "execution_count": null,
   "id": "9f8e902c-baab-4c7f-adb0-365fc0bd3e10",
   "metadata": {},
   "outputs": [],
   "source": []
  },
  {
   "cell_type": "code",
   "execution_count": 34,
   "id": "c038935a-4e62-4feb-99f4-8decabba7363",
   "metadata": {},
   "outputs": [],
   "source": [
    "def calculateMemory(size,unit):\n",
    "    \"\"\" This function is used to calculate memory to be allocated.\n",
    "    It takes as input two parameters\n",
    "    unit : Unit of memory \n",
    "          ( \"KB\" - Kilobytes , MB - \"MegaBytes\" , \"GB\" - 'Gigabtes'\n",
    "          \n",
    "    size : Size in units to be allocated\n",
    "          If unit = \"MB\" and size= \"1\" , 1024*1024 bytes will be allocated. \n",
    "          ie, 1MB will be allocated \n",
    "          \"\"\"\n",
    "    memInBytes=0\n",
    "    if unit=='KB':\n",
    "        memInBytes=size*1024\n",
    "        return memInBytes\n",
    "    elif unit=='MB':\n",
    "        memInBytes=size*1024*1024\n",
    "        return memInBytes\n",
    "    elif unit=='GB':\n",
    "        memInBytes=size*1024*1024*1024\n",
    "        return memInBytes\n",
    "    else:\n",
    "        print('Invalid Value of unit')\n",
    "        print('Use \"KB\", \"MB\" or \"GB\"')\n",
    "              \n",
    "def findFreeSpace():\n",
    "    \"\"\"This function checks for free space in the \n",
    "\n",
    "def store_int32(number,addr,unsigned=False):\n",
    "    \n",
    "    freeAddress=addr # To be calculated using FindFreeSpace Function\n",
    "    \n",
    "    if unsigned:\n",
    "        limits=(-2147483648,2147483647)\n",
    "        # Checks if the number is within the range of Signed Int\n",
    "        if limits[0]<number<limits[1]:\n",
    "            print('Processing')\n",
    "        else:\n",
    "            print('Out of Range of Signed Integer')\n",
    "    else:\n",
    "        limits=(0,4294967295)\n",
    "        #Checks if number is within range of Unsigned Int\n",
    "        if limits[0]<number<limits[1]:\n",
    "            print('Processing')\n",
    "        else:\n",
    "            print('Out of Range of Unsigned Integer')\n"
   ]
  },
  {
   "cell_type": "code",
   "execution_count": 35,
   "id": "623584a5-e167-4835-a963-642cd1dad25f",
   "metadata": {},
   "outputs": [],
   "source": [
    "m=myMemory()\n",
    "addr,l=m.createByteVector()"
   ]
  },
  {
   "cell_type": "code",
   "execution_count": 36,
   "id": "55bd0112-3bcc-4925-a029-cb1b3d8d35e0",
   "metadata": {},
   "outputs": [],
   "source": [
    "arr= (ctypes.c_ubyte*l).from_address(addr)"
   ]
  },
  {
   "cell_type": "code",
   "execution_count": 38,
   "id": "1d852e3e-4003-4b64-94bc-ce4d6f7f1937",
   "metadata": {},
   "outputs": [
    {
     "data": {
      "text/plain": [
       "0"
      ]
     },
     "execution_count": 38,
     "metadata": {},
     "output_type": "execute_result"
    }
   ],
   "source": [
    "arr[1]"
   ]
  },
  {
   "cell_type": "code",
   "execution_count": 47,
   "id": "f3812379-e945-43dd-bb04-9a74eaa833fe",
   "metadata": {},
   "outputs": [],
   "source": [
    "def createByteVector(memInBytes):\n",
    "    \"\"\" Function to create a Byte vector which gives information about which bytes are occupied and which are free\"\"\"\n",
    "    length=memInBytes/8 #These many bits are needed\n",
    "    lengthInBytes=int(length/8)\n",
    "    ByteVector=(ctypes.c_ubyte*lengthInBytes)() # Creating the memory \n",
    "    ByteVector[0]=23\n",
    "    pointerAddress=ctypes.addressof(ByteVector)\n",
    "    return pointerAddress,lengthInBytes"
   ]
  },
  {
   "cell_type": "code",
   "execution_count": 48,
   "id": "7be9a09a-3763-4dae-b5f1-963e4aeb2d55",
   "metadata": {},
   "outputs": [
    {
     "data": {
      "text/plain": [
       "(140612014806800, 16)"
      ]
     },
     "execution_count": 48,
     "metadata": {},
     "output_type": "execute_result"
    }
   ],
   "source": [
    "addr,l=createByteVector(1024)\n",
    "addr,l"
   ]
  },
  {
   "cell_type": "code",
   "execution_count": 7,
   "id": "1be321ea-ad3b-4e36-83ad-7384c5b82727",
   "metadata": {},
   "outputs": [],
   "source": [
    "def allocate32(addr,number):\n",
    "    startAddress=addr\n",
    "    array=(ctypes.c_ubyte*8).from_address(addr)\n",
    "    # For unsigned integers, since there is no sign, it can take 32 bit numbers\n",
    "    if len(bin(number)[2:])<=32:\n",
    "        binary='0'*(31-len(bin(number)[2:]))+bin(number)[2:]\n",
    "        binary='0'+binary # Since it is unsigned, sign bit is always 0\n",
    "        idx=0\n",
    "        for i in range(0,32,8):\n",
    "            array[idx]=int(binary[i:i+8],2)\n",
    "            idx+=1"
   ]
  },
  {
   "cell_type": "code",
   "execution_count": 11,
   "id": "6124e5f8-7313-4110-8c74-e36876f4cd04",
   "metadata": {},
   "outputs": [],
   "source": [
    "allocate32(addr,240)"
   ]
  },
  {
   "cell_type": "code",
   "execution_count": 12,
   "id": "e65c3452-9aa8-4255-aef8-f781806cc13f",
   "metadata": {},
   "outputs": [],
   "source": [
    "def load_int32(int32ptr):\n",
    "    array=(ctypes.c_ubyte*4).from_address(int32ptr)\n",
    "    binary=''\n",
    "    for i in range(4):\n",
    "        binary+=str(bin(array[i]))[2:]\n",
    "    print(int(binary,2))"
   ]
  },
  {
   "cell_type": "code",
   "execution_count": 13,
   "id": "3d0865b8-1c4a-44a3-8cc1-98b0c992a9b0",
   "metadata": {},
   "outputs": [
    {
     "name": "stdout",
     "output_type": "stream",
     "text": [
      "240\n"
     ]
    }
   ],
   "source": [
    "load_int32(addr)"
   ]
  },
  {
   "cell_type": "code",
   "execution_count": 1,
   "id": "beb20ea1-d635-47b6-9660-2e1183d7d06c",
   "metadata": {},
   "outputs": [],
   "source": [
    "import ctypes\n",
    "from ctypes import *\n",
    "\n",
    "arr=(c_ubyte*100)(0xfffffffc00000000)\n",
    "arr[0]=200\n",
    "addr=ctypes.addressof(arr)"
   ]
  },
  {
   "cell_type": "code",
   "execution_count": 4,
   "id": "bac1cb00-4851-419c-b601-db6bf45c82ae",
   "metadata": {},
   "outputs": [],
   "source": [
    "new=(c_ubyte*100)(0xfffffffc00000000)"
   ]
  },
  {
   "cell_type": "code",
   "execution_count": 5,
   "id": "f1004337-56a1-44fb-9093-ab1b18867f69",
   "metadata": {},
   "outputs": [
    {
     "data": {
      "text/plain": [
       "0"
      ]
     },
     "execution_count": 5,
     "metadata": {},
     "output_type": "execute_result"
    }
   ],
   "source": [
    "new[0]"
   ]
  },
  {
   "cell_type": "code",
   "execution_count": 5,
   "id": "bb010c27-9197-4f1e-912b-16e8c4b09cdb",
   "metadata": {},
   "outputs": [
    {
     "data": {
      "text/plain": [
       "'0b1111111111111111111111111111110000000000000000000000000000000000'"
      ]
     },
     "execution_count": 5,
     "metadata": {},
     "output_type": "execute_result"
    }
   ],
   "source": [
    "bin(0xfffffffc00000000)"
   ]
  },
  {
   "cell_type": "code",
   "execution_count": null,
   "id": "a499cf77-70b0-4f52-aef2-7094c96b498f",
   "metadata": {},
   "outputs": [],
   "source": []
  },
  {
   "cell_type": "code",
   "execution_count": 210,
   "id": "05f9f640-10e0-424f-aab5-7e137d453bdc",
   "metadata": {},
   "outputs": [],
   "source": [
    "g = (ctypes.c_ubyte*2).from_address(addr+2)"
   ]
  },
  {
   "cell_type": "code",
   "execution_count": 211,
   "id": "48d2225e-984c-4b3c-98ba-ebbc6c759210",
   "metadata": {},
   "outputs": [
    {
     "name": "stdout",
     "output_type": "stream",
     "text": [
      "2 0\n"
     ]
    }
   ],
   "source": [
    "print(g[0],g[1])"
   ]
  },
  {
   "cell_type": "code",
   "execution_count": 193,
   "id": "7748af7c-0a50-49d5-a258-e52669526d65",
   "metadata": {},
   "outputs": [
    {
     "data": {
      "text/plain": [
       "140139485805904"
      ]
     },
     "execution_count": 193,
     "metadata": {},
     "output_type": "execute_result"
    }
   ],
   "source": [
    "addr"
   ]
  },
  {
   "cell_type": "code",
   "execution_count": 77,
   "id": "af7b10f2-5703-4d15-bebc-ceed0164e58e",
   "metadata": {},
   "outputs": [],
   "source": [
    "pointer=140139485803552"
   ]
  },
  {
   "cell_type": "code",
   "execution_count": 78,
   "id": "31961736-9f5f-4652-8375-5893d18e2260",
   "metadata": {},
   "outputs": [
    {
     "ename": "TypeError",
     "evalue": "'_ctypes.PyCArrayType' object is not iterable",
     "output_type": "error",
     "traceback": [
      "\u001b[0;31m---------------------------------------------------------------------------\u001b[0m",
      "\u001b[0;31mTypeError\u001b[0m                                 Traceback (most recent call last)",
      "\u001b[0;32m/tmp/ipykernel_18310/139743554.py\u001b[0m in \u001b[0;36m<module>\u001b[0;34m\u001b[0m\n\u001b[0;32m----> 1\u001b[0;31m \u001b[0mlist\u001b[0m\u001b[0;34m(\u001b[0m\u001b[0mc_ubyte\u001b[0m \u001b[0;34m*\u001b[0m \u001b[0;36m4\u001b[0m\u001b[0;34m)\u001b[0m\u001b[0;34m.\u001b[0m\u001b[0mfrom_address\u001b[0m\u001b[0;34m(\u001b[0m\u001b[0mpointer\u001b[0m\u001b[0;34m)\u001b[0m\u001b[0;34m\u001b[0m\u001b[0;34m\u001b[0m\u001b[0m\n\u001b[0m",
      "\u001b[0;31mTypeError\u001b[0m: '_ctypes.PyCArrayType' object is not iterable"
     ]
    }
   ],
   "source": [
    " list(c_ubyte * 4).from_address(pointer)"
   ]
  },
  {
   "cell_type": "code",
   "execution_count": 138,
   "id": "21990205-333e-4850-bbf8-3ffb466e4f06",
   "metadata": {},
   "outputs": [
    {
     "name": "stdout",
     "output_type": "stream",
     "text": [
      "Processing\n"
     ]
    }
   ],
   "source": [
    "load_int32(42949672)"
   ]
  },
  {
   "cell_type": "code",
   "execution_count": 110,
   "id": "c665a251-52ff-42dc-9fba-a7f8b5988fc8",
   "metadata": {},
   "outputs": [],
   "source": [
    "t=bin(9223372036854775807)"
   ]
  },
  {
   "cell_type": "code",
   "execution_count": 140,
   "id": "c69df994-e69f-4684-afcd-f2fe2ee3580d",
   "metadata": {},
   "outputs": [],
   "source": [
    "limits=(-2147483648,2147483647)"
   ]
  },
  {
   "cell_type": "code",
   "execution_count": 158,
   "id": "da339cfa-b3a0-470d-8592-61ccedd98e8c",
   "metadata": {},
   "outputs": [],
   "source": [
    "number=13497"
   ]
  },
  {
   "cell_type": "code",
   "execution_count": 188,
   "id": "8cc4a1dc-61bd-4793-9448-912a1300e991",
   "metadata": {},
   "outputs": [],
   "source": []
  },
  {
   "cell_type": "code",
   "execution_count": 189,
   "id": "abe097f6-94f5-4f05-b144-8a8f9490700f",
   "metadata": {},
   "outputs": [
    {
     "data": {
      "text/plain": [
       "9"
      ]
     },
     "execution_count": 189,
     "metadata": {},
     "output_type": "execute_result"
    }
   ],
   "source": [
    "array[7]"
   ]
  },
  {
   "cell_type": "markdown",
   "id": "ebb62933-f040-41f6-844c-856f95c83496",
   "metadata": {},
   "source": [
    "# Test Area\n",
    "\n"
   ]
  },
  {
   "cell_type": "code",
   "execution_count": 105,
   "id": "f4164f57-0ab3-49ce-9389-ae93c6a7e571",
   "metadata": {},
   "outputs": [],
   "source": [
    "totalMemory=1024\n",
    "arrayLength=int(totalMemory/8) \n",
    "ByteVector=(ctypes.c_ubyte*arrayLength)() # Creating the memory \n",
    "for i in range(arrayLength):\n",
    "    if ByteVector[i]>0:\n",
    "        ByteVector[i]=0\n",
    "ArrayPointer=ctypes.addressof(ByteVector)\n",
    "\n"
   ]
  },
  {
   "cell_type": "code",
   "execution_count": 111,
   "id": "3b18a52e-1127-4619-a98c-57d81b341e43",
   "metadata": {},
   "outputs": [
    {
     "data": {
      "text/plain": [
       "139669250524080"
      ]
     },
     "execution_count": 111,
     "metadata": {},
     "output_type": "execute_result"
    }
   ],
   "source": [
    "ArrayPointer"
   ]
  },
  {
   "cell_type": "code",
   "execution_count": 107,
   "id": "c9faf644-5a82-4dab-82e3-772aa533d257",
   "metadata": {},
   "outputs": [],
   "source": [
    "array=(ctypes.c_ubyte*arrayLength).from_address(ArrayPointer)\n",
    "for i in range(arrayLength):\n",
    "    if array[i]>0:\n",
    "        print(i,array[i])"
   ]
  },
  {
   "cell_type": "code",
   "execution_count": 113,
   "id": "2e1b05b3-7dfb-4de1-ba52-f02ed361113a",
   "metadata": {},
   "outputs": [],
   "source": [
    "array[0]=100"
   ]
  },
  {
   "cell_type": "code",
   "execution_count": 6,
   "id": "d6069415-ae78-4dd7-ba7d-eca23f10d20a",
   "metadata": {},
   "outputs": [],
   "source": [
    "l=[0,0,0,0,0,0,0,0,0,0,0,0,0,0,0,0,0,0,0,0]"
   ]
  },
  {
   "cell_type": "code",
   "execution_count": 53,
   "id": "f1e36d1f-46a0-4233-99ff-fbde72a13989",
   "metadata": {},
   "outputs": [
    {
     "name": "stdout",
     "output_type": "stream",
     "text": [
      "0\n"
     ]
    }
   ],
   "source": [
    "count=0\n",
    "starPosition=0\n",
    "number=5\n",
    "for i in range(len(l)):\n",
    "    if l[i]==0:\n",
    "        count+=1\n",
    "    else:\n",
    "        count=0\n",
    "    if count==number:\n",
    "        break\n",
    "starti-(number-1))\n",
    "    \n"
   ]
  },
  {
   "cell_type": "code",
   "execution_count": 54,
   "id": "dda1e4ac-ed32-4bd9-b224-11f2acfc4be8",
   "metadata": {},
   "outputs": [
    {
     "data": {
      "text/plain": [
       "-1"
      ]
     },
     "execution_count": 54,
     "metadata": {},
     "output_type": "execute_result"
    }
   ],
   "source": [
    "startPosition"
   ]
  },
  {
   "cell_type": "code",
   "execution_count": 49,
   "id": "00a6c1ac-e330-41a1-a463-da1f929945a6",
   "metadata": {},
   "outputs": [
    {
     "data": {
      "text/plain": [
       "[0, 0, 0, 0, 0, 1, 0, 1, 0, 0, 0, 0, 0]"
      ]
     },
     "execution_count": 49,
     "metadata": {},
     "output_type": "execute_result"
    }
   ],
   "source": [
    "l"
   ]
  },
  {
   "cell_type": "code",
   "execution_count": 46,
   "id": "e69bb839-2334-445c-aa5d-60f869e18441",
   "metadata": {},
   "outputs": [],
   "source": [
    "l=[0,0,0,0,0,1,0,1,0,0,0,0,0]"
   ]
  },
  {
   "cell_type": "code",
   "execution_count": null,
   "id": "2809a03c-cca5-4452-b6a8-efccda024b7e",
   "metadata": {},
   "outputs": [],
   "source": []
  }
 ],
 "metadata": {
  "kernelspec": {
   "display_name": "Python 3 (ipykernel)",
   "language": "python",
   "name": "python3"
  },
  "language_info": {
   "codemirror_mode": {
    "name": "ipython",
    "version": 3
   },
   "file_extension": ".py",
   "mimetype": "text/x-python",
   "name": "python",
   "nbconvert_exporter": "python",
   "pygments_lexer": "ipython3",
   "version": "3.8.8"
  }
 },
 "nbformat": 4,
 "nbformat_minor": 5
}
