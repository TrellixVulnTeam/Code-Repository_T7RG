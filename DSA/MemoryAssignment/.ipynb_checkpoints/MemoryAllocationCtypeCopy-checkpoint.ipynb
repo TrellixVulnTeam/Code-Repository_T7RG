{
 "cells": [
  {
   "cell_type": "code",
   "execution_count": 8,
   "id": "1eea6ee9-e09a-4f55-af8b-42e1c1431468",
   "metadata": {},
   "outputs": [],
   "source": [
    "import ctypes\n",
    "from ctypes import *\n",
    "#class myMemory():\n",
    "#Allocate 1GB of Space for memory\n",
    "\n",
    "\n",
    "class bit_vector():\n",
    "    \"\"\" Objects\n",
    "    \n",
    "        > self.totalMemory : Will contain information about the size of memory for which the vector is created\n",
    "        > self.arrayLength : Contani information about the length of the bitvector created\n",
    "        > self.ByteVector  : The memory location stored as an array for easy traversing and assignments\n",
    "        > self.ArrayPointer: Contains the starting address of the memory allocated\n",
    "    \"\"\"\n",
    "    \n",
    "    \n",
    "    \n",
    "    def __init__(self,memoryInBytes):\n",
    "        \"\"\"\n",
    "        The function initialises a bit vector which allocates space in memory for memoryinBytes/8 bytes\n",
    "        This vector is used to identify if a memory location is free or occupied\n",
    "        > The init function will calculate and allocate the space in memory\n",
    "        > It will store the starting address of this memory location in self.ArrayPointer. \n",
    "        > The memory can be accessed anytime by using the self.ArrayPointer\n",
    "        > The function will also initialise all values in this allocated memory to 0 to remove any junk values\n",
    "        \n",
    "        \"\"\"\n",
    "        self.totalMemory=memoryInBytes\n",
    "        self.arrayLength=int(self.totalMemory/8) \n",
    "        self.ByteVector=(ctypes.c_ubyte*self.arrayLength)() # Creating the memory \n",
    "        for i in range(self.arrayLength):\n",
    "            if self.ByteVector[i]>0:\n",
    "                self.ByteVector[i]=0\n",
    "        self.ArrayPointer=ctypes.addressof(self.ByteVector)\n",
    "        \n",
    "        \n",
    "        \n",
    "    \n",
    "    def checkFreeSpace(self,spaceNeeded):\n",
    "        \"\"\" \n",
    "        This function scans through the bit vector to see if the required space neeed is \n",
    "        available in the memory. It available it returns the position of byte where\n",
    "        it is available. The address is then calculated from this position\n",
    "        \"\"\"\n",
    "        array=self.ByteVector\n",
    "        counter=0\n",
    "        location=0\n",
    "        flag=0\n",
    "        for i in range(self.arrayLength):\n",
    "            if self.ByteVector[i]==0:\n",
    "                counter+=1\n",
    "            else:\n",
    "                counter=0\n",
    "            if counter==spaceNeeded:\n",
    "                flag=1\n",
    "                break\n",
    "        if flag==1:\n",
    "            location=i-(spaceNeeded-1)\n",
    "            self.freeSpace=location\n",
    "            print('Available at ',self.freeSpace)\n",
    "            return self.freeSpace\n",
    "        elif flag==0:\n",
    "            print('Not available')\n",
    "            \n",
    "            \n",
    "            \n",
    "            \n",
    "            \n",
    "            \n",
    "    def spaceCalculator(self,typeOfData):\n",
    "        if typeOfData=='int32':\n",
    "            self.size=32\n",
    "            self.bytesNeeded=4\n",
    "        elif typeOfData=='int64':\n",
    "            self.size=64\n",
    "            self.bytesNeeded=8\n",
    "        elif typeOfData=='bool':\n",
    "            self.size=1\n",
    "            self.bytesNeeded=1\n",
    "    \n",
    "    \n",
    "    \n",
    "class myMemory():\n",
    "    \"\"\"Objects :\n",
    "                self.ptr  : The memory location at which the last store happened \n",
    "                self.type : Type of object last stored\n",
    "    \"\"\"\n",
    "        \n",
    "    def __init__(self,sizeNeeded,unit):\n",
    "        \"\"\" This function is used to calculate memory to be allocated.\n",
    "        It takes as input two parameters\n",
    "        unit : Unit of memory ( \"KB\" - Kilobytes , MB - \"MegaBytes\" , \"GB\" - 'Gigabtes'\n",
    "        size : Size in units to be allocated\n",
    "              If unit = \"MB\" and size= \"1\" , 1024*1024 bytes will be allocated. \n",
    "              ie, 1MB will be allocated    \n",
    "       The function also creates an object of lass bit_vector which initialises a bitvector which \n",
    "       gives information about the status of memory. If it is free or occupied.\n",
    "       \n",
    "        \"\"\"\n",
    "        # Memory calculation done here. \n",
    "        self.start=0xfffffffc00000000\n",
    "        memInBytes=0\n",
    "        if unit=='KB':\n",
    "            self.size=sizeNeeded*1024\n",
    "        elif unit=='MB':\n",
    "            self.size=sizeNeeded*1024*1024\n",
    "        elif unit=='GB':\n",
    "            self.size=sizeNeeded*1024*1024*1024\n",
    "        else:\n",
    "            print('Invalid Value of unit')\n",
    "            print('Use \"KB\", \"MB\" or \"GB\"')\n",
    "        self.end=self.start+self.size #Calculates the value for endPointer\n",
    "        self.free=self.size #The free space available\n",
    "        self.bitVector=bit_vector(self.size) # Creating a bit vector object. \n",
    "        self.memory=(ctypes.c_ubyte*self.size)() # Allocating the space 'size' in memory\n",
    "        self.internalPointer=ctypes.addressof(self.memory)\n",
    "        \n",
    "        \n",
    " \n",
    "                \n",
    "                \n",
    "    def mem_alloc(self,nbytes):\n",
    "        \"\"\" \n",
    "        This function takes as input the number of bytes to be allocated and allocates the space in memory\n",
    "        It also returns the address of the starting location of the memory\"\"\"\n",
    "        #This will call the checkfreespace function in bit_vector class\n",
    "        #which will scan through the bit vector and return the \n",
    "        # location at which free space is available\n",
    "        self.location=self.bitVector.checkFreeSpace(nbytes)\n",
    "        if self.location!=None: # If no free space is found, None is returned\n",
    "            ptr=self.internalPointer+self.location\n",
    "            self.type='int32'\n",
    "            self.free-=nbytes\n",
    "            return ptr\n",
    "        else:\n",
    "            print('Memory error. Allocate more memory')\n",
    "            \n",
    "        \n",
    "          \n",
    "        \n",
    "    def store_int32(self,value,ptr=None):\n",
    "        \"\"\" This function is used to save an int32 number to a memory location \n",
    "        It takes as input two parameters. A number, which is to be saved, \n",
    "        the address to which it has to be saved.\n",
    "        If a pointer is specified, it checks if that location is already occupied or not and then stores that value if not. \n",
    "        Else, it checks for free space and allocates the number there and returns the pointer where it is stored. \n",
    "        It also updates the self.free so that the reamainng space can be easily identified. \n",
    "        \"\"\"\n",
    "        \n",
    "        stopExecution=0\n",
    "        tempPtr=ptr # Saving a copy of the address passed\n",
    "        if ptr==None: # If no pointer is passed, find a new free location using the bitVector\n",
    "            ptr=self.mem_alloc(4)\n",
    "        else:\n",
    "            if (int(ptr)+4>int(mem.start)) & (int(ptr)+4<int(mem.end)):\n",
    "                positionInMemory=int(ptr)-int(self.start) # Calculating the memory address using the given pointer\n",
    "                self.location=int(positionInMemory/8)+int(positionInMemory%8)\n",
    "                ptr=self.internalPointer+self.location\n",
    "                if self.bitVector.ByteVector[self.location]==1:\n",
    "                    print('Unable to write to location.Already occupied')\n",
    "                    stopExecution=1\n",
    "                else:\n",
    "                    self.free-=4\n",
    "            else:\n",
    "                stopExecution=1\n",
    "                print('Pointer out of Memory')\n",
    "                \n",
    "        if stopExecution==0:\n",
    "            limits=(-2147483648,2147483647)\n",
    "            # Checks if the number is within the range of Signed Int\n",
    "            if limits[0]<value<limits[1]:\n",
    "                \n",
    "                array=(ctypes.c_ubyte*4).from_address(ptr)\n",
    "                binary=''\n",
    "                if len(bin(value)[2:])<=31:\n",
    "                    if value<0:\n",
    "                        binary='0'*(31-len(bin(value)[3:]))+bin(value)[3:]# Since it is unsigned, we can accomodate 32 bits as sign bit is absent\n",
    "                        binary='1'+binary\n",
    "                    elif value>=0:\n",
    "                        binary='0'*(31-len(bin(value)[2:]))+bin(value)[2:]# Since it is unsigned, we can accomodate 32 bits as sign bit is absent\n",
    "                        binary='0'+binary\n",
    "                # Storing the binary into memory, byte by byte\n",
    "                idx=0\n",
    "                for i in range(0,32,8):\n",
    "                    array[idx]=int(binary[i:i+8],2)\n",
    "                    idx+=1   \n",
    "            \n",
    "                self.bitVector.ByteVector[self.location]=1\n",
    "                self.bitVector.ByteVector[self.location+1]=1\n",
    "                self.bitVector.ByteVector[self.location+2]=1\n",
    "                self.bitVector.ByteVector[self.location+3]=1\n",
    "            else:\n",
    "                print('Out of Range of Signed Integer')  \n",
    "            return self.start+self.location,self.internalPointer+self.location    \n",
    "        else:\n",
    "            return 0,0\n",
    "           \n",
    "            \n",
    "            \n",
    "    def load_int32(self,int32ptr):\n",
    "        \"\"\" \n",
    "        Function to read data from memory, convert it to decimal and to print it.\n",
    "        It reads the value from memory and converts it into binary. \n",
    "        \n",
    "        After that it checks if the first \n",
    "        \"\"\"\n",
    "        int32ptr=int(int32ptr,0)\n",
    "        array=(ctypes.c_ubyte*4).from_address(int32ptr)\n",
    "        binary=''\n",
    "        for i in range(4):\n",
    "            temp=str(bin(array[i]))[2:]\n",
    "            if len(temp)<8:\n",
    "                temp='0'*(8-len(temp))+temp\n",
    "            binary+=str(temp)\n",
    "\n",
    "        if binary[0]=='1':\n",
    "            return int(binary[1:],2)*-1\n",
    "        else:\n",
    "            return int(binary[1:],2)\n",
    "    \n",
    "    \n",
    "    \n",
    "    \n",
    "    def store_int64(self,value,ptr=None):\n",
    "        \"\"\" This function is used to save an int64 number to a memory location \n",
    "        It takes as input two parameters. A number, which is to be saved, \n",
    "        the address to which it has to be saved.\n",
    "        If a pointer is specified, it checks if that location is already occupied or not and then stores that value if not. \n",
    "        Else, it checks for free space and allocates the number there and returns the pointer where it is stored. \n",
    "        It also updates the self.free so that the reamainng space can be easily identified. \n",
    "        \"\"\"\n",
    "        \n",
    "        stopExecution=0\n",
    "        tempPtr=ptr # Saving a copy of the address passed\n",
    "        if ptr==None: # If no pointer is passed, find a new free location using the bitVector\n",
    "            ptr=self.mem_alloc(8)\n",
    "        else:\n",
    "            if (int(ptr)+8>int(mem.start)) & (int(ptr)+8<int(mem.end)):\n",
    "                positionInMemory=int(ptr)-int(self.start) # Calculating the memory address using the given pointer\n",
    "                self.location=int(positionInMemory/8)+int(positionInMemory%8)\n",
    "                ptr=self.internalPointer+self.location\n",
    "                if self.bitVector.ByteVector[self.location]==1:\n",
    "                    print('Unable to write to location.Already occupied')\n",
    "                    stopExecution=1\n",
    "                else:\n",
    "                    self.free-=8\n",
    "            else:\n",
    "                stopExecution=1\n",
    "                print('Pointer out of Memory')\n",
    "\n",
    "        if stopExecution==0:\n",
    "            limits=(-9223372036854775808,9223372036854775807)\n",
    "            # Checks if the number is within the range of Signed Int 64\n",
    "            if limits[0]<value<limits[1]:\n",
    "                \n",
    "                array=(ctypes.c_ubyte*8).from_address(ptr)\n",
    "                binary=''\n",
    "                if len(bin(value)[2:])<=63:\n",
    "                    if value<0:\n",
    "                        print('negative')\n",
    "                        binary='0'*(63-len(bin(value)[3:]))+bin(value)[3:]# Since it is unsigned, we can accomodate 32 bits as sign bit is absent\n",
    "                        binary='1'+binary\n",
    "                    elif value>=0:\n",
    "                        binary='0'*(63-len(bin(value)[2:]))+bin(value)[2:]# Since it is unsigned, we can accomodate 32 bits as sign bit is absent\n",
    "                        binary='0'+binary\n",
    "                # Storing the binary into memory, byte by byte\n",
    "                idx=0\n",
    "                for i in range(0,64,8):\n",
    "                    array[idx]=int(binary[i:i+8],2)\n",
    "                    idx+=1   \n",
    "                self.bitVector.ByteVector[self.location]=1\n",
    "                self.bitVector.ByteVector[self.location+1]=1\n",
    "                self.bitVector.ByteVector[self.location+2]=1\n",
    "                self.bitVector.ByteVector[self.location+3]=1\n",
    "                self.bitVector.ByteVector[self.location+4]=1\n",
    "                self.bitVector.ByteVector[self.location+5]=1\n",
    "                self.bitVector.ByteVector[self.location+6]=1\n",
    "                self.bitVector.ByteVector[self.location+7]=1\n",
    "            else:\n",
    "                print('Out of Range of Signed Integer')  \n",
    "            return self.start+self.location,self.internalPointer+self.location    \n",
    "        else:\n",
    "            return 0,0\n",
    "           \n",
    "    \n",
    "    \n",
    "    \n",
    "    def load_int64(self,int64ptr):\n",
    "        \"\"\" \n",
    "        Function to read data from memory, convert it to decimal and to print it.\n",
    "        It reads the value from memory and converts it into binary. \n",
    "        \n",
    "        After that it checks if the first \n",
    "        \"\"\"\n",
    "        array=(ctypes.c_ubyte*8).from_address(int64ptr)\n",
    "        binary=''\n",
    "        for i in range(8):\n",
    "            temp=str(bin(array[i]))[2:]\n",
    "            if len(temp)<8:\n",
    "                temp='0'*(8-len(temp))+temp\n",
    "            binary+=str(temp)\n",
    "        if binary[0]=='1':\n",
    "            return int(binary[1:],2)*-1\n",
    "        else:\n",
    "            return int(binary[1:],2)\n",
    "    \n",
    "    \n",
    "    def store_bool(self,value,ptr=None):\n",
    "        \"\"\" This function is used to save an boolean to a memory location \n",
    "        It takes as input two parameters. A number, which is to be saved, \n",
    "        the address to which it has to be saved.\n",
    "        If a pointer is specified, it checks if that location is already occupied or not and then stores that value if not. \n",
    "        Else, it checks for free space and allocates the number there and returns the pointer where it is stored. \n",
    "        It also updates the self.free so that the reamainng space can be easily identified. \n",
    "        \"\"\"\n",
    "           \n",
    "        stopExecution=0\n",
    "        tempPtr=ptr # Saving a copy of the address passed\n",
    "        if ptr==None: # If no pointer is passed, find a new free location using the bitVector\n",
    "            ptr=self.mem_alloc(1)\n",
    "        else:\n",
    "            if (int(ptr)+1>int(mem.start)) & (int(ptr)+1<int(mem.end)):\n",
    "                positionInMemory=int(ptr)-int(self.start) # Calculating the memory address using the given pointer\n",
    "                self.location=int(positionInMemory/8)+int(positionInMemory%8)\n",
    "                ptr=self.internalPointer+self.location\n",
    "                if self.bitVector.ByteVector[self.location]==1:\n",
    "                    print('Unable to write to location.Already occupied')\n",
    "                    stopExecution=1\n",
    "                else:\n",
    "                    self.free-=1\n",
    "            else:\n",
    "                stopExecution=1\n",
    "                print('Pointer out of Memory')\n",
    "\n",
    "        if stopExecution==0:\n",
    "            array=(ctypes.c_ubyte*1).from_address(ptr)\n",
    "            if value==1:\n",
    "                array[0]=1\n",
    "            elif value==0:\n",
    "                array[0]=0\n",
    "            else:\n",
    "                print('Invalid value for Boolean')\n",
    "                \n",
    "            self.bitVector.ByteVector[self.location]=1 \n",
    "            return self.start+self.location,self.internalPointer+self.location    \n",
    "        else:\n",
    "            return 0,0\n",
    "           \n",
    "    \n",
    "    \n",
    "        \n",
    "    def load_bool(self,boolPtr):\n",
    "        \"\"\" \n",
    "        Function to read data from memory, convert it to decimal and to print it.\n",
    "        It reads the value from memory and converts it into binary. \n",
    "        \n",
    "        After that it checks if the first \n",
    "        \"\"\"\n",
    "        array=(ctypes.c_ubyte*1).from_address(boolPtr)\n",
    "        binary=''\n",
    "        return int(array[0])\n",
    "    \n",
    "    def is_valid_(self,ptr):\n",
    "        if (int(ptr)>int(mem.start)) & (int(ptr)<int(mem.end)):\n",
    "            return True\n",
    "        else:\n",
    "            return False\n",
    "    \n",
    "    def mem_status(self):\n",
    "        print('Total memory allocated : ',self.size)\n",
    "        print('Total free memory      : ',self.free)\n",
    "        print('Total used memory      : ',self.size-self.free)\n",
    "        \n",
    "        print('Size of int32          : 4 bytes')\n",
    "        print('Size of int64          : 8 bytes')\n",
    "        print('Size of bool           : 1 bytes')\n",
    "        print('Size of byte           : 1 bytes')\n",
    "        \n",
    "        return(self.size,self.free,self.size-self.free,4,8,1,1)\n",
    "        \n",
    "    \n",
    "    def store_byte(self,value,ptr=None):\n",
    "            \n",
    "        stopExecution=0\n",
    "        tempPtr=ptr # Saving a copy of the address passed\n",
    "        if ptr==None: # If no pointer is passed, find a new free location using the bitVector\n",
    "            ptr=self.mem_alloc(1)\n",
    "        else:\n",
    "            if (int(ptr)+1>int(mem.start)) & (int(ptr)+1<int(mem.end)):\n",
    "                positionInMemory=int(ptr)-int(self.start) # Calculating the memory address using the given pointer\n",
    "                self.location=int(positionInMemory/8)+int(positionInMemory%8)\n",
    "                ptr=self.internalPointer+self.location\n",
    "                if self.bitVector.ByteVector[self.location]==1:\n",
    "                    print('Unable to write to location.Already occupied')\n",
    "                    stopExecution=1\n",
    "                else:\n",
    "                    self.free-=1\n",
    "            else:\n",
    "                stopExecution=1\n",
    "                print('Pointer out of Memory')\n",
    "\n",
    "        if stopExecution==0:\n",
    "            array=(ctypes.c_ubyte*1).from_address(ptr)\n",
    "            if value<=255:\n",
    "                array[0]=value\n",
    "            else:\n",
    "                print('Invalid value for Byte ( Enter value between 0 and 255')\n",
    "                \n",
    "            self.bitVector.ByteVector[self.location]=1 \n",
    "            return self.start+self.location,self.internalPointer+self.location    \n",
    "        else:\n",
    "            return 0,0\n",
    "           \n",
    "    \n",
    "    \n",
    "        \n",
    "    def load_byte(self,boolPtr):\n",
    "        \"\"\" \n",
    "        Function to read data from memory, convert it to decimal and to print it.\n",
    "        It reads the value from memory and converts it into binary. \n",
    "        \n",
    "        After that it checks if the first \n",
    "        \"\"\"\n",
    "        array=(ctypes.c_ubyte*1).from_address(boolPtr)\n",
    "        binary=''\n",
    "        return int(array[0])\n",
    "    "
   ]
  },
  {
   "cell_type": "code",
   "execution_count": 9,
   "id": "050a8efb-1c7a-4bbf-952c-6c7c0ceea25e",
   "metadata": {},
   "outputs": [],
   "source": [
    "mem=myMemory(1,'KB') "
   ]
  },
  {
   "cell_type": "code",
   "execution_count": 10,
   "id": "7428243d-cbe7-4f79-ae6a-8b40d3ff8d36",
   "metadata": {},
   "outputs": [
    {
     "data": {
      "text/plain": [
       "'0xfffffffc00000000'"
      ]
     },
     "execution_count": 10,
     "metadata": {},
     "output_type": "execute_result"
    }
   ],
   "source": [
    "hex(mem.start)"
   ]
  },
  {
   "cell_type": "code",
   "execution_count": 11,
   "id": "035424a3-4c42-4aa5-b35c-2b5a76dad1c6",
   "metadata": {},
   "outputs": [
    {
     "data": {
      "text/plain": [
       "'0xfffffffc00000400'"
      ]
     },
     "execution_count": 11,
     "metadata": {},
     "output_type": "execute_result"
    }
   ],
   "source": [
    "hex(mem.end)"
   ]
  },
  {
   "cell_type": "code",
   "execution_count": 12,
   "id": "afa7c817-07e6-4fcb-a3dd-75545f7d8c48",
   "metadata": {},
   "outputs": [
    {
     "name": "stdout",
     "output_type": "stream",
     "text": [
      "Total memory allocated :  1024\n",
      "Total free memory      :  1024\n",
      "Total used memory      :  0\n",
      "Size of int32          : 4 bytes\n",
      "Size of int64          : 8 bytes\n",
      "Size of bool           : 1 bytes\n",
      "Size of byte           : 1 bytes\n"
     ]
    },
    {
     "data": {
      "text/plain": [
       "(1024, 1024, 0, 4, 8, 1, 1)"
      ]
     },
     "execution_count": 12,
     "metadata": {},
     "output_type": "execute_result"
    }
   ],
   "source": [
    "mem.mem_status()"
   ]
  },
  {
   "cell_type": "code",
   "execution_count": 6,
   "id": "088375ad-2b45-4e56-a46b-97adf09a3756",
   "metadata": {},
   "outputs": [
    {
     "ename": "TypeError",
     "evalue": "int() can't convert non-string with explicit base",
     "output_type": "error",
     "traceback": [
      "\u001b[0;31m---------------------------------------------------------------------------\u001b[0m",
      "\u001b[0;31mTypeError\u001b[0m                                 Traceback (most recent call last)",
      "\u001b[0;32m/tmp/ipykernel_93010/2749635772.py\u001b[0m in \u001b[0;36m<module>\u001b[0;34m\u001b[0m\n\u001b[0;32m----> 1\u001b[0;31m \u001b[0ma\u001b[0m\u001b[0;34m,\u001b[0m\u001b[0mb\u001b[0m\u001b[0;34m=\u001b[0m\u001b[0mmem\u001b[0m\u001b[0;34m.\u001b[0m\u001b[0mstore_int32\u001b[0m\u001b[0;34m(\u001b[0m\u001b[0;36m3400\u001b[0m\u001b[0;34m)\u001b[0m\u001b[0;34m\u001b[0m\u001b[0;34m\u001b[0m\u001b[0m\n\u001b[0m",
      "\u001b[0;32m/tmp/ipykernel_93010/2625414878.py\u001b[0m in \u001b[0;36mstore_int32\u001b[0;34m(self, value, ptr)\u001b[0m\n\u001b[1;32m    153\u001b[0m         \u001b[0mIt\u001b[0m \u001b[0malso\u001b[0m \u001b[0mupdates\u001b[0m \u001b[0mthe\u001b[0m \u001b[0mself\u001b[0m\u001b[0;34m.\u001b[0m\u001b[0mfree\u001b[0m \u001b[0mso\u001b[0m \u001b[0mthat\u001b[0m \u001b[0mthe\u001b[0m \u001b[0mreamainng\u001b[0m \u001b[0mspace\u001b[0m \u001b[0mcan\u001b[0m \u001b[0mbe\u001b[0m \u001b[0measily\u001b[0m \u001b[0midentified\u001b[0m\u001b[0;34m.\u001b[0m\u001b[0;34m\u001b[0m\u001b[0;34m\u001b[0m\u001b[0m\n\u001b[1;32m    154\u001b[0m         \"\"\"\n\u001b[0;32m--> 155\u001b[0;31m         \u001b[0mptr\u001b[0m\u001b[0;34m=\u001b[0m\u001b[0mint\u001b[0m\u001b[0;34m(\u001b[0m\u001b[0mptr\u001b[0m\u001b[0;34m,\u001b[0m\u001b[0;36m0\u001b[0m\u001b[0;34m)\u001b[0m\u001b[0;34m\u001b[0m\u001b[0;34m\u001b[0m\u001b[0m\n\u001b[0m\u001b[1;32m    156\u001b[0m         \u001b[0mstopExecution\u001b[0m\u001b[0;34m=\u001b[0m\u001b[0;36m0\u001b[0m\u001b[0;34m\u001b[0m\u001b[0;34m\u001b[0m\u001b[0m\n\u001b[1;32m    157\u001b[0m         \u001b[0mtempPtr\u001b[0m\u001b[0;34m=\u001b[0m\u001b[0mptr\u001b[0m \u001b[0;31m# Saving a copy of the address passed\u001b[0m\u001b[0;34m\u001b[0m\u001b[0;34m\u001b[0m\u001b[0m\n",
      "\u001b[0;31mTypeError\u001b[0m: int() can't convert non-string with explicit base"
     ]
    }
   ],
   "source": [
    "a,b=mem.store_int32(3400)"
   ]
  },
  {
   "cell_type": "code",
   "execution_count": 30,
   "id": "80278953-3687-49ab-a0b6-afc9f3cbf840",
   "metadata": {},
   "outputs": [
    {
     "data": {
      "text/plain": [
       "'0xfffffffc00000008'"
      ]
     },
     "execution_count": 31,
     "metadata": {},
     "output_type": "execute_result"
    }
   ],
   "source": [
    "hex(a)"
   ]
  },
  {
   "cell_type": "code",
   "execution_count": null,
   "id": "d20430d1-da85-4ee7-9dea-bd56d0215926",
   "metadata": {},
   "outputs": [],
   "source": [
    "mem.load_int32('0xfffffffc00000008')"
   ]
  },
  {
   "cell_type": "code",
   "execution_count": 15,
   "id": "64a93050-3109-4281-b3a7-6cbda634f441",
   "metadata": {},
   "outputs": [
    {
     "name": "stdout",
     "output_type": "stream",
     "text": [
      "Total memory allocated :  1024\n",
      "Total free memory      :  1020\n",
      "Total used memory      :  4\n",
      "Size of int32          : 4 bytes\n",
      "Size of int64          : 8 bytes\n",
      "Size of bool           : 1 bytes\n",
      "Size of byte           : 1 bytes\n"
     ]
    },
    {
     "data": {
      "text/plain": [
       "(1024, 1020, 4, 4, 8, 1, 1)"
      ]
     },
     "execution_count": 15,
     "metadata": {},
     "output_type": "execute_result"
    }
   ],
   "source": [
    "mem.mem_status()"
   ]
  },
  {
   "cell_type": "code",
   "execution_count": 16,
   "id": "472eb227-4f43-4a41-bd4c-1182db2bfad3",
   "metadata": {},
   "outputs": [
    {
     "data": {
      "text/plain": [
       "'0xfffffffc00000020'"
      ]
     },
     "execution_count": 16,
     "metadata": {},
     "output_type": "execute_result"
    }
   ],
   "source": [
    "hex(a)"
   ]
  },
  {
   "cell_type": "code",
   "execution_count": 17,
   "id": "9086c1b2-ad37-4212-b3c0-2beb7fcc6ca8",
   "metadata": {},
   "outputs": [
    {
     "data": {
      "text/plain": [
       "False"
      ]
     },
     "execution_count": 17,
     "metadata": {},
     "output_type": "execute_result"
    }
   ],
   "source": [
    "mem.is_valid_(0xfffffffc00000500)"
   ]
  },
  {
   "cell_type": "code",
   "execution_count": 18,
   "id": "fa302b00-55cf-4bc8-91d4-68ff68ad78e3",
   "metadata": {},
   "outputs": [
    {
     "name": "stdout",
     "output_type": "stream",
     "text": [
      "Available at  0\n"
     ]
    }
   ],
   "source": [
    "a,b=mem.store_int64(9223372036854770)"
   ]
  },
  {
   "cell_type": "code",
   "execution_count": 23,
   "id": "6a657ec1-5bab-4df8-9b2a-35899dd26052",
   "metadata": {},
   "outputs": [
    {
     "data": {
      "text/plain": [
       "'0xfffffffc00000000'"
      ]
     },
     "execution_count": 23,
     "metadata": {},
     "output_type": "execute_result"
    }
   ],
   "source": [
    "hex(a)"
   ]
  },
  {
   "cell_type": "code",
   "execution_count": 19,
   "id": "e82e2696-92d4-423d-b326-c4ea39ab45ee",
   "metadata": {},
   "outputs": [
    {
     "data": {
      "text/plain": [
       "94525728031968"
      ]
     },
     "execution_count": 19,
     "metadata": {},
     "output_type": "execute_result"
    }
   ],
   "source": [
    "int(hex(b),16)"
   ]
  },
  {
   "cell_type": "code",
   "execution_count": 5,
   "id": "e25e0cc5-198c-4d18-8a81-36012dd3911d",
   "metadata": {},
   "outputs": [
    {
     "ename": "TypeError",
     "evalue": "integer expected",
     "output_type": "error",
     "traceback": [
      "\u001b[0;31m---------------------------------------------------------------------------\u001b[0m",
      "\u001b[0;31mTypeError\u001b[0m                                 Traceback (most recent call last)",
      "\u001b[0;32m/tmp/ipykernel_93010/3287698648.py\u001b[0m in \u001b[0;36m<module>\u001b[0;34m\u001b[0m\n\u001b[0;32m----> 1\u001b[0;31m \u001b[0mmem\u001b[0m\u001b[0;34m.\u001b[0m\u001b[0mload_int64\u001b[0m\u001b[0;34m(\u001b[0m\u001b[0;34m'0xfffffffc00000000'\u001b[0m\u001b[0;34m)\u001b[0m\u001b[0;34m\u001b[0m\u001b[0;34m\u001b[0m\u001b[0m\n\u001b[0m",
      "\u001b[0;32m/tmp/ipykernel_93010/2625414878.py\u001b[0m in \u001b[0;36mload_int64\u001b[0;34m(self, int64ptr)\u001b[0m\n\u001b[1;32m    298\u001b[0m         \u001b[0mAfter\u001b[0m \u001b[0mthat\u001b[0m \u001b[0mit\u001b[0m \u001b[0mchecks\u001b[0m \u001b[0;32mif\u001b[0m \u001b[0mthe\u001b[0m \u001b[0mfirst\u001b[0m\u001b[0;34m\u001b[0m\u001b[0;34m\u001b[0m\u001b[0m\n\u001b[1;32m    299\u001b[0m         \"\"\"\n\u001b[0;32m--> 300\u001b[0;31m         \u001b[0marray\u001b[0m\u001b[0;34m=\u001b[0m\u001b[0;34m(\u001b[0m\u001b[0mctypes\u001b[0m\u001b[0;34m.\u001b[0m\u001b[0mc_ubyte\u001b[0m\u001b[0;34m*\u001b[0m\u001b[0;36m8\u001b[0m\u001b[0;34m)\u001b[0m\u001b[0;34m.\u001b[0m\u001b[0mfrom_address\u001b[0m\u001b[0;34m(\u001b[0m\u001b[0mint64ptr\u001b[0m\u001b[0;34m)\u001b[0m\u001b[0;34m\u001b[0m\u001b[0;34m\u001b[0m\u001b[0m\n\u001b[0m\u001b[1;32m    301\u001b[0m         \u001b[0mbinary\u001b[0m\u001b[0;34m=\u001b[0m\u001b[0;34m''\u001b[0m\u001b[0;34m\u001b[0m\u001b[0;34m\u001b[0m\u001b[0m\n\u001b[1;32m    302\u001b[0m         \u001b[0;32mfor\u001b[0m \u001b[0mi\u001b[0m \u001b[0;32min\u001b[0m \u001b[0mrange\u001b[0m\u001b[0;34m(\u001b[0m\u001b[0;36m8\u001b[0m\u001b[0;34m)\u001b[0m\u001b[0;34m:\u001b[0m\u001b[0;34m\u001b[0m\u001b[0;34m\u001b[0m\u001b[0m\n",
      "\u001b[0;31mTypeError\u001b[0m: integer expected"
     ]
    }
   ],
   "source": [
    "mem.load_int64('0xfffffffc00000000')"
   ]
  },
  {
   "cell_type": "code",
   "execution_count": 132,
   "id": "333f8f88-19db-4cf1-bf83-e4c347551661",
   "metadata": {},
   "outputs": [
    {
     "name": "stdout",
     "output_type": "stream",
     "text": [
      "Total memory allocated :  1024\n",
      "Total free memory      :  1012\n",
      "Total used memory      :  12\n",
      "Size of int32          : 4 bytes\n",
      "Size of int64          : 8 bytes\n",
      "Size of bool           : 1 bytes\n",
      "Size of byte           : 1 bytes\n"
     ]
    },
    {
     "data": {
      "text/plain": [
       "(1024, 1012, 12, 4, 8, 1, 1)"
      ]
     },
     "execution_count": 132,
     "metadata": {},
     "output_type": "execute_result"
    }
   ],
   "source": [
    "mem.mem_status()"
   ]
  },
  {
   "cell_type": "code",
   "execution_count": 133,
   "id": "c88e3085-dcea-4d1d-819f-a32855bb26b3",
   "metadata": {},
   "outputs": [
    {
     "name": "stdout",
     "output_type": "stream",
     "text": [
      "Available at  8\n"
     ]
    }
   ],
   "source": [
    "a,b=mem.store_bool(0)"
   ]
  },
  {
   "cell_type": "code",
   "execution_count": 134,
   "id": "5d5b6f48-21c8-40d8-a6e1-8e43827bc5b3",
   "metadata": {},
   "outputs": [
    {
     "data": {
      "text/plain": [
       "0"
      ]
     },
     "execution_count": 134,
     "metadata": {},
     "output_type": "execute_result"
    }
   ],
   "source": [
    "mem.load_bool(b)"
   ]
  },
  {
   "cell_type": "code",
   "execution_count": 135,
   "id": "dac970d7-d4e9-4614-852e-afecae7c86a2",
   "metadata": {},
   "outputs": [
    {
     "name": "stdout",
     "output_type": "stream",
     "text": [
      "Available at  9\n"
     ]
    }
   ],
   "source": [
    "a,b=mem.store_byte(234)"
   ]
  },
  {
   "cell_type": "code",
   "execution_count": 136,
   "id": "d81f1e57-7727-4f0e-9920-dfac40269955",
   "metadata": {},
   "outputs": [
    {
     "data": {
      "text/plain": [
       "234"
      ]
     },
     "execution_count": 136,
     "metadata": {},
     "output_type": "execute_result"
    }
   ],
   "source": [
    "mem.load_byte(b)"
   ]
  },
  {
   "cell_type": "code",
   "execution_count": 137,
   "id": "e7dcf2f1-1acc-44c6-a472-d6b32c46524f",
   "metadata": {},
   "outputs": [
    {
     "name": "stdout",
     "output_type": "stream",
     "text": [
      "Total memory allocated :  1024\n",
      "Total free memory      :  1010\n",
      "Total used memory      :  14\n",
      "Size of int32          : 4 bytes\n",
      "Size of int64          : 8 bytes\n",
      "Size of bool           : 1 bytes\n",
      "Size of byte           : 1 bytes\n"
     ]
    },
    {
     "data": {
      "text/plain": [
       "(1024, 1010, 14, 4, 8, 1, 1)"
      ]
     },
     "execution_count": 137,
     "metadata": {},
     "output_type": "execute_result"
    }
   ],
   "source": [
    "mem.mem_status()"
   ]
  },
  {
   "cell_type": "code",
   "execution_count": null,
   "id": "bdcfc4c6-c77e-4d26-911b-db5a574b1591",
   "metadata": {},
   "outputs": [],
   "source": []
  },
  {
   "cell_type": "code",
   "execution_count": null,
   "id": "28d90366-cd7b-44f6-8e0d-845ce33318f7",
   "metadata": {},
   "outputs": [],
   "source": []
  },
  {
   "cell_type": "code",
   "execution_count": null,
   "id": "c1e9c878-5bd0-426e-bd72-02cce004a86b",
   "metadata": {},
   "outputs": [],
   "source": []
  },
  {
   "cell_type": "code",
   "execution_count": null,
   "id": "c6f7cf5e-5b02-45af-8c58-dd89d770f5d2",
   "metadata": {},
   "outputs": [],
   "source": []
  },
  {
   "cell_type": "code",
   "execution_count": null,
   "id": "657e4cb6-4592-412f-9307-4fa3fac1469f",
   "metadata": {},
   "outputs": [],
   "source": []
  },
  {
   "cell_type": "code",
   "execution_count": null,
   "id": "6e6030ab-61f1-4707-97f4-564977a5b731",
   "metadata": {},
   "outputs": [],
   "source": []
  },
  {
   "cell_type": "code",
   "execution_count": null,
   "id": "3fabc7a5-bb26-4b09-b184-00cd1f3bfc93",
   "metadata": {},
   "outputs": [],
   "source": []
  },
  {
   "cell_type": "code",
   "execution_count": null,
   "id": "ea1c992a-2d28-4381-a624-62db33dd50eb",
   "metadata": {},
   "outputs": [],
   "source": []
  },
  {
   "cell_type": "markdown",
   "id": "ebb62933-f040-41f6-844c-856f95c83496",
   "metadata": {},
   "source": [
    "# Test Area\n",
    "\n"
   ]
  },
  {
   "cell_type": "code",
   "execution_count": 6,
   "id": "4d79bc38-30e9-4622-af55-175b20d1ef25",
   "metadata": {},
   "outputs": [],
   "source": [
    "#!usr/bin/python3\n",
    "import ctypes\n",
    "from ctypes import *\n",
    "#class myMemory():\n",
    "#Allocate 1GB of Space for memory\n",
    "\n",
    "\n",
    "class bit_vector():\n",
    "    \"\"\" Objects\n",
    "    \n",
    "        > self.totalMemory : Will contain information about the size of memory for which the vector is created\n",
    "        > self.arrayLength : Contani information about the length of the bitvector created\n",
    "        > self.ByteVector  : The memory location stored as an array for easy traversing and assignments\n",
    "        > self.ArrayPointer: Contains the starting address of the memory allocated\n",
    "    \"\"\"\n",
    "    \n",
    "    \n",
    "    \n",
    "    def __init__(self,memoryInBytes):\n",
    "        \"\"\"\n",
    "        The function initialises a bit vector which allocates space in memory for memoryinBytes/8 bytes\n",
    "        This vector is used to identify if a memory location is free or occupied\n",
    "        > The init function will calculate and allocate the space in memory\n",
    "        > It will store the starting address of this memory location in self.ArrayPointer. \n",
    "        > The memory can be accessed anytime by using the self.ArrayPointer\n",
    "        > The function will also initialise all values in this allocated memory to 0 to remove any junk values\n",
    "        \n",
    "        \"\"\"\n",
    "        self.totalMemory=memoryInBytes\n",
    "        self.arrayLength=int(self.totalMemory/8) \n",
    "        self.ByteVector=(ctypes.c_ubyte*self.arrayLength)() # Creating the memory \n",
    "        for i in range(self.arrayLength):\n",
    "            if self.ByteVector[i]>0:\n",
    "                self.ByteVector[i]=0\n",
    "        self.ArrayPointer=ctypes.addressof(self.ByteVector)\n",
    "        \n",
    "        \n",
    "        \n",
    "    \n",
    "    def checkFreeSpace(self,spaceNeeded):\n",
    "        \"\"\" \n",
    "        This function scans through the bit vector to see if the required space neeed is \n",
    "        available in the memory. It available it returns the position of byte where\n",
    "        it is available. The address is then calculated from this position\n",
    "        \"\"\"\n",
    "        array=self.ByteVector\n",
    "        counter=0\n",
    "        location=0\n",
    "        flag=0\n",
    "        for i in range(self.arrayLength):\n",
    "            if self.ByteVector[i]==0:\n",
    "                counter+=1\n",
    "            else:\n",
    "                counter=0\n",
    "            if counter==spaceNeeded:\n",
    "                flag=1\n",
    "                break\n",
    "        if flag==1:\n",
    "            location=i-(spaceNeeded-1)\n",
    "            self.freeSpace=location\n",
    "            print('Available at ',self.freeSpace)\n",
    "            return self.freeSpace\n",
    "        elif flag==0:\n",
    "            print('Not available')\n",
    "            \n",
    "            \n",
    "            \n",
    "            \n",
    "            \n",
    "            \n",
    "    def spaceCalculator(self,typeOfData):\n",
    "        if typeOfData=='int32':\n",
    "            self.size=32\n",
    "            self.bytesNeeded=4\n",
    "        elif typeOfData=='int64':\n",
    "            self.size=64\n",
    "            self.bytesNeeded=8\n",
    "        elif typeOfData=='bool':\n",
    "            self.size=1\n",
    "            self.bytesNeeded=1\n",
    "    \n",
    "    \n",
    "    \n",
    "class myMemory():\n",
    "    \"\"\"Objects :\n",
    "                self.ptr  : The memory location at which the last store happened \n",
    "                self.type : Type of object last stored\n",
    "    \"\"\"\n",
    "        \n",
    "    def __init__(self,sizeNeeded,unit):\n",
    "        \"\"\" This function is used to calculate memory to be allocated.\n",
    "        It takes as input two parameters\n",
    "        unit : Unit of memory ( \"KB\" - Kilobytes , MB - \"MegaBytes\" , \"GB\" - 'Gigabtes'\n",
    "        size : Size in units to be allocated\n",
    "              If unit = \"MB\" and size= \"1\" , 1024*1024 bytes will be allocated. \n",
    "              ie, 1MB will be allocated    \n",
    "       The function also creates an object of lass bit_vector which initialises a bitvector which \n",
    "       gives information about the status of memory. If it is free or occupied.\n",
    "       \n",
    "        \"\"\"\n",
    "        # Memory calculation done here. \n",
    "        self.start=0xfffffffc00000000\n",
    "        memInBytes=0\n",
    "        if unit=='KB':\n",
    "            self.size=sizeNeeded*1024\n",
    "        elif unit=='MB':\n",
    "            self.size=sizeNeeded*1024*1024\n",
    "        elif unit=='GB':\n",
    "            self.size=sizeNeeded*1024*1024*1024\n",
    "        else:\n",
    "            print('Invalid Value of unit')\n",
    "            print('Use \"KB\", \"MB\" or \"GB\"')\n",
    "        self.end=self.start+self.size #Calculates the value for endPointer\n",
    "        self.free=self.size #The free space available\n",
    "        self.bitVector=bit_vector(self.size) # Creating a bit vector object. \n",
    "        self.memory=(ctypes.c_ubyte*self.size)() # Allocating the space 'size' in memory\n",
    "        self.internalPointer=ctypes.addressof(self.memory)\n",
    "        self.uint32min=-2147483648\n",
    "        self.uint32max=2147483647\n",
    "        self.bytemin=0\n",
    "        self.bytemax=255\n",
    "        self.uint64min=-9223372036854775808\n",
    "        self.uint64max=9223372036854775807\n",
    " \t\n",
    " \t\n",
    "                \n",
    "                \n",
    "    def mem_alloc(self,nbytes):\n",
    "        \"\"\" \n",
    "        This function takes as input the number of bytes to be allocated and allocates the space in memory\n",
    "        It also returns the address of the starting location of the memory\"\"\"\n",
    "        #This will call the checkfreespace function in bit_vector class\n",
    "        #which will scan through the bit vector and return the \n",
    "        # location at which free space is available\n",
    "        self.location=self.bitVector.checkFreeSpace(nbytes)\n",
    "        if self.location!=None: # If no free space is found, None is returned\n",
    "            ptr=self.internalPointer+self.location\n",
    "            self.type='int32'\n",
    "            self.free-=nbytes\n",
    "            return ptr\n",
    "        else:\n",
    "            print('Memory error. Allocate more memory')\n",
    "            \n",
    "        \n",
    "          \n",
    "        \n",
    "    def store_int32(self,value,ptr=None):\n",
    "        \"\"\" This function is used to save an int32 number to a memory location \n",
    "        It takes as input two parameters. A number, which is to be saved, \n",
    "        the address to which it has to be saved.\n",
    "        If a pointer is specified, it checks if that location is already occupied or not and then stores that value if not. \n",
    "        Else, it checks for free space and allocates the number there and returns the pointer where it is stored. \n",
    "        It also updates the self.free so that the reamainng space can be easily identified. \n",
    "        \"\"\"\n",
    "        stopExecution=0\n",
    "        tempPtr=ptr # Saving a copy of the address passed\n",
    "        if ptr==None: # If no pointer is passed, find a new free location using the bitVector\n",
    "            ptr=self.mem_alloc(4)\n",
    "        else:\n",
    "            if (int(ptr)+4>int(mem.start)) & (int(ptr)+4<int(mem.end)):\n",
    "                positionInMemory=int(ptr)-int(self.start) # Calculating the memory address using the given pointer\n",
    "                self.location=int(positionInMemory/8)+int(positionInMemory%8)\n",
    "                ptr=self.internalPointer+self.location\n",
    "                if self.bitVector.ByteVector[self.location]==1:\n",
    "                    print('Unable to write to location.Already occupied')\n",
    "                    stopExecution=1\n",
    "                else:\n",
    "                    self.free-=4\n",
    "            else:\n",
    "                stopExecution=1\n",
    "                print('Pointer out of Memory')\n",
    "                \n",
    "        if stopExecution==0:\n",
    "            limits=(self.uint32min,self.uint32max)\n",
    "            # Checks if the number is within the range of Signed Int\n",
    "            if limits[0]<value<limits[1]:\n",
    "                \n",
    "                array=(ctypes.c_ubyte*4).from_address(ptr)\n",
    "                binary=''\n",
    "                if len(bin(value)[2:])<=31:\n",
    "                    if value<0:\n",
    "                        binary='0'*(31-len(bin(value)[3:]))+bin(value)[3:]# Since it is unsigned, we can accomodate 32 bits as sign bit is absent\n",
    "                        binary='1'+binary\n",
    "                    elif value>=0:\n",
    "                        binary='0'*(31-len(bin(value)[2:]))+bin(value)[2:]# Since it is unsigned, we can accomodate 32 bits as sign bit is absent\n",
    "                        binary='0'+binary\n",
    "                # Storing the binary into memory, byte by byte\n",
    "                idx=0\n",
    "                for i in range(0,32,8):\n",
    "                    array[idx]=int(binary[i:i+8],2)\n",
    "                    idx+=1   \n",
    "            \n",
    "                self.bitVector.ByteVector[self.location]=1\n",
    "                self.bitVector.ByteVector[self.location+1]=1\n",
    "                self.bitVector.ByteVector[self.location+2]=1\n",
    "                self.bitVector.ByteVector[self.location+3]=1\n",
    "            else:\n",
    "                print('Out of Range of Signed Integer')  \n",
    "            return self.start+self.location   \n",
    "        else:\n",
    "            return 0,0\n",
    "           \n",
    "            \n",
    "            \n",
    "    def load_int32(self,int32ptr):\n",
    "        \"\"\" \n",
    "        Function to read data from memory, convert it to decimal and to print it.\n",
    "        It reads the value from memory and converts it into binary. \n",
    "        \n",
    "        After that it checks if the first \n",
    "        \"\"\"\n",
    "        array=(ctypes.c_ubyte*4).from_address(int(int32ptr))\n",
    "        binary=''\n",
    "        for i in range(4):\n",
    "            temp=str(bin(array[i]))[2:]\n",
    "            if len(temp)<8:\n",
    "                temp='0'*(8-len(temp))+temp\n",
    "            binary+=str(temp)\n",
    "\n",
    "        if binary[0]=='1':\n",
    "            return int(binary[1:],2)*-1\n",
    "        else:\n",
    "            return int(binary[1:],2)\n",
    "    \n",
    "    \n",
    "    def addressTranslation(self,ptr):\n",
    "        \"\"\" Converts the start address into the memory address returned by the ctypes\"\"\"\n",
    "        position=int(self.internalPointer)-int(ptr)\n",
    "        return hex(int(self.start)+position)\n",
    "    \n",
    "    def store_int64(self,value,ptr=None):\n",
    "        \"\"\" This function is used to save an int64 number to a memory location \n",
    "        It takes as input two parameters. A number, which is to be saved, \n",
    "        the address to which it has to be saved.\n",
    "        If a pointer is specified, it checks if that location is already occupied or not and then stores that value if not. \n",
    "        Else, it checks for free space and allocates the number there and returns the pointer where it is stored. \n",
    "        It also updates the self.free so that the reamainng space can be easily identified. \n",
    "        \"\"\"\n",
    "        \n",
    "        stopExecution=0\n",
    "        tempPtr=ptr # Saving a copy of the address passed\n",
    "        if ptr==None: # If no pointer is passed, find a new free location using the bitVector\n",
    "            ptr=self.mem_alloc(8)\n",
    "        else:\n",
    "            if (int(ptr)+8>int(mem.start)) & (int(ptr)+8<int(mem.end)):\n",
    "                positionInMemory=int(ptr)-int(self.start) # Calculating the memory address using the given pointer\n",
    "                self.location=int(positionInMemory/8)+int(positionInMemory%8)\n",
    "                ptr=self.internalPointer+self.location\n",
    "                if self.bitVector.ByteVector[self.location]==1:\n",
    "                    print('Unable to write to location.Already occupied')\n",
    "                    stopExecution=1\n",
    "                else:\n",
    "                    self.free-=8\n",
    "            else:\n",
    "                stopExecution=1\n",
    "                print('Pointer out of Memory')\n",
    "\t\n",
    "        if stopExecution==0:\n",
    "            limits=(self.uint64min,self.uint64max)\n",
    "            # Checks if the number is within the range of Signed Int 64\n",
    "            if limits[0]<value<limits[1]:\n",
    "                \n",
    "                array=(ctypes.c_ubyte*8).from_address(ptr)\n",
    "                binary=''\n",
    "                if len(bin(value)[2:])<=63:\n",
    "                    if value<0:\n",
    "                        print('negative')\n",
    "                        binary='0'*(63-len(bin(value)[3:]))+bin(value)[3:]# Since it is unsigned, we can accomodate 32 bits as sign bit is absent\n",
    "                        binary='1'+binary\n",
    "                    elif value>=0:\n",
    "                        binary='0'*(63-len(bin(value)[2:]))+bin(value)[2:]# Since it is unsigned, we can accomodate 32 bits as sign bit is absent\n",
    "                        binary='0'+binary\n",
    "                # Storing the binary into memory, byte by byte\n",
    "                idx=0\n",
    "                for i in range(0,64,8):\n",
    "                    array[idx]=int(binary[i:i+8],2)\n",
    "                    idx+=1   \n",
    "                self.bitVector.ByteVector[self.location]=1\n",
    "                self.bitVector.ByteVector[self.location+1]=1\n",
    "                self.bitVector.ByteVector[self.location+2]=1\n",
    "                self.bitVector.ByteVector[self.location+3]=1\n",
    "                self.bitVector.ByteVector[self.location+4]=1\n",
    "                self.bitVector.ByteVector[self.location+5]=1\n",
    "                self.bitVector.ByteVector[self.location+6]=1\n",
    "                self.bitVector.ByteVector[self.location+7]=1\n",
    "            else:\n",
    "                print('Out of Range of Signed Integer')  \n",
    "            return self.start+self.location   \n",
    "        else:\n",
    "            return 0,0\n",
    "           \n",
    "    \n",
    "    \n",
    "    \n",
    "    def load_int64(self,int64ptr):\n",
    "        \"\"\" \n",
    "        Function to read data from memory, convert it to decimal and to print it.\n",
    "        It reads the value from memory and converts it into binary. \n",
    "        \n",
    "        After that it checks if the first \n",
    "        \"\"\"\n",
    "        array=(ctypes.c_ubyte*8).from_address(int64ptr)\n",
    "        binary=''\n",
    "        for i in range(8):\n",
    "            temp=str(bin(array[i]))[2:]\n",
    "            if len(temp)<8:\n",
    "                temp='0'*(8-len(temp))+temp\n",
    "            binary+=str(temp)\n",
    "        if binary[0]=='1':\n",
    "            return int(binary[1:],2)*-1\n",
    "        else:\n",
    "            return int(binary[1:],2)\n",
    "    \n",
    "    \n",
    "    def store_bool(self,value,ptr=None):\n",
    "        \"\"\" This function is used to save an boolean to a memory location \n",
    "        It takes as input two parameters. A number, which is to be saved, \n",
    "        the address to which it has to be saved.\n",
    "        If a pointer is specified, it checks if that location is already occupied or not and then stores that value if not. \n",
    "        Else, it checks for free space and allocates the number there and returns the pointer where it is stored. \n",
    "        It also updates the self.free so that the reamainng space can be easily identified. \n",
    "        \"\"\"\n",
    "           \n",
    "        stopExecution=0\n",
    "        tempPtr=ptr # Saving a copy of the address passed\n",
    "        if ptr==None: # If no pointer is passed, find a new free location using the bitVector\n",
    "            ptr=self.mem_alloc(1)\n",
    "        else:\n",
    "            if (int(ptr)+1>int(mem.start)) & (int(ptr)+1<int(mem.end)):\n",
    "                positionInMemory=int(ptr)-int(self.start) # Calculating the memory address using the given pointer\n",
    "                self.location=int(positionInMemory/8)+int(positionInMemory%8)\n",
    "                ptr=self.internalPointer+self.location\n",
    "                if self.bitVector.ByteVector[self.location]==1:\n",
    "                    print('Unable to write to location.Already occupied')\n",
    "                    stopExecution=1\n",
    "                else:\n",
    "                    self.free-=1\n",
    "            else:\n",
    "                stopExecution=1\n",
    "                print('Pointer out of Memory')\n",
    "\n",
    "        if stopExecution==0:\n",
    "            array=(ctypes.c_ubyte*1).from_address(ptr)\n",
    "            if value==1:\n",
    "                array[0]=1\n",
    "            elif value==0:\n",
    "                array[0]=0\n",
    "            else:\n",
    "                print('Invalid value for Boolean')\n",
    "                \n",
    "            self.bitVector.ByteVector[self.location]=1 \n",
    "            return self.start+self.location  \n",
    "        else:\n",
    "            return 0,0\n",
    "           \n",
    "    \n",
    "    \n",
    "        \n",
    "    def load_bool(self,boolPtr):\n",
    "        \"\"\" \n",
    "        Function to read data from memory, convert it to decimal and to print it.\n",
    "        It reads the value from memory and converts it into binary. \n",
    "        \n",
    "        After that it checks if the first \n",
    "        \"\"\"\n",
    "        array=(ctypes.c_ubyte*1).from_address(boolPtr)\n",
    "        binary=''\n",
    "        return int(array[0])\n",
    "    \n",
    "    def is_valid_(self,ptr):\n",
    "        if (int(ptr)>int(mem.start)) & (int(ptr)<int(mem.end)):\n",
    "            return True\n",
    "        else:\n",
    "            return False\n",
    "    \n",
    "    def mem_status(self):\n",
    "        print('Total memory allocated : ',self.size)\n",
    "        print('Total free memory      : ',self.free)\n",
    "        print('Total used memory      : ',self.size-self.free)\n",
    "        \n",
    "        print('Size of int32          : 4 bytes')\n",
    "        print('Size of int64          : 8 bytes')\n",
    "        print('Size of bool           : 1 bytes')\n",
    "        print('Size of byte           : 1 bytes')\n",
    "        \n",
    "        return(self.size,self.free,self.size-self.free,4,8,1,1)\n",
    "        \n",
    "    \n",
    "    def store_byte(self,value,ptr=None):\n",
    "            \n",
    "        stopExecution=0\n",
    "        tempPtr=ptr # Saving a copy of the address passed\n",
    "        if ptr==None: # If no pointer is passed, find a new free location using the bitVector\n",
    "            ptr=self.mem_alloc(1)\n",
    "        else:\n",
    "            if (int(ptr)+1>int(mem.start)) & (int(ptr)+1<int(mem.end)):\n",
    "                positionInMemory=int(ptr)-int(self.start) # Calculating the memory address using the given pointer\n",
    "                self.location=int(positionInMemory/8)+int(positionInMemory%8)\n",
    "                ptr=self.internalPointer+self.location\n",
    "                if self.bitVector.ByteVector[self.location]==1:\n",
    "                    print('Unable to write to location.Already occupied')\n",
    "                    stopExecution=1\n",
    "                else:\n",
    "                    self.free-=1\n",
    "            else:\n",
    "                stopExecution=1\n",
    "                print('Pointer out of Memory')\n",
    "\n",
    "        if stopExecution==0:\n",
    "            array=(ctypes.c_ubyte*1).from_address(ptr)\n",
    "            if value<=255:\n",
    "                array[0]=value\n",
    "            else:\n",
    "                print('Invalid value for Byte ( Enter value between 0 and 255')\n",
    "                \n",
    "            self.bitVector.ByteVector[self.location]=1 \n",
    "            return self.start+self.location   \n",
    "        else:\n",
    "            return 0,0\n",
    "           \n",
    "    \n",
    "    \n",
    "        \n",
    "    def load_byte(self,boolPtr):\n",
    "        \"\"\" \n",
    "        Function to read data from memory, convert it to decimal and to print it.\n",
    "        It reads the value from memory and converts it into binary. \n",
    "        \n",
    "        After that it checks if the first \n",
    "        \"\"\"\n",
    "        array=(ctypes.c_ubyte*1).from_address(boolPtr)\n",
    "        binary=''\n",
    "        return int(array[0])\n",
    "    \n"
   ]
  },
  {
   "cell_type": "code",
   "execution_count": 7,
   "id": "da6f87e3-cbc4-41d9-91fe-01ccea6df6fe",
   "metadata": {},
   "outputs": [
    {
     "data": {
      "text/plain": [
       "18446744056529682432"
      ]
     },
     "execution_count": 7,
     "metadata": {},
     "output_type": "execute_result"
    }
   ],
   "source": [
    "mem.start"
   ]
  },
  {
   "cell_type": "code",
   "execution_count": 8,
   "id": "c08be1f5-daf7-4732-950a-1c5622b44a88",
   "metadata": {},
   "outputs": [],
   "source": [
    "mem=myMemory(1,'KB')\n"
   ]
  },
  {
   "cell_type": "code",
   "execution_count": 11,
   "id": "c2776515-867d-4be8-9be2-0349342f2ee0",
   "metadata": {},
   "outputs": [
    {
     "data": {
      "text/plain": [
       "'0x55caff45aad0'"
      ]
     },
     "execution_count": 11,
     "metadata": {},
     "output_type": "execute_result"
    }
   ],
   "source": [
    "mem.addressTranslation(18446744056529682432)"
   ]
  },
  {
   "cell_type": "code",
   "execution_count": 9,
   "id": "2802680d-2488-4758-8dc1-ce78c0e36e6e",
   "metadata": {},
   "outputs": [
    {
     "name": "stdout",
     "output_type": "stream",
     "text": [
      "Available at  0\n"
     ]
    },
    {
     "data": {
      "text/plain": [
       "18446744056529682432"
      ]
     },
     "execution_count": 9,
     "metadata": {},
     "output_type": "execute_result"
    }
   ],
   "source": [
    "mem.store_int32(10)"
   ]
  },
  {
   "cell_type": "code",
   "execution_count": 4,
   "id": "c2784a4a-3d30-41f1-940a-2b3be44b03ab",
   "metadata": {},
   "outputs": [
    {
     "data": {
      "text/plain": [
       "'0xfffffffc00000000'"
      ]
     },
     "execution_count": 4,
     "metadata": {},
     "output_type": "execute_result"
    }
   ],
   "source": [
    "hex(18446744056529682432)"
   ]
  },
  {
   "cell_type": "code",
   "execution_count": 13,
   "id": "a2a3e120-62ce-4113-a304-1120e4c37721",
   "metadata": {},
   "outputs": [
    {
     "ename": "TypeError",
     "evalue": "integer expected",
     "output_type": "error",
     "traceback": [
      "\u001b[0;31m---------------------------------------------------------------------------\u001b[0m",
      "\u001b[0;31mTypeError\u001b[0m                                 Traceback (most recent call last)",
      "\u001b[0;32m/tmp/ipykernel_93176/1831957845.py\u001b[0m in \u001b[0;36m<module>\u001b[0;34m\u001b[0m\n\u001b[0;32m----> 1\u001b[0;31m \u001b[0mmem\u001b[0m\u001b[0;34m.\u001b[0m\u001b[0mload_int32\u001b[0m\u001b[0;34m(\u001b[0m\u001b[0;34m'0x55caff45aad0'\u001b[0m\u001b[0;34m)\u001b[0m\u001b[0;34m\u001b[0m\u001b[0;34m\u001b[0m\u001b[0m\n\u001b[0m",
      "\u001b[0;32m/tmp/ipykernel_93176/2278525627.py\u001b[0m in \u001b[0;36mload_int32\u001b[0;34m(self, int32ptr)\u001b[0m\n\u001b[1;32m    210\u001b[0m         \u001b[0mAfter\u001b[0m \u001b[0mthat\u001b[0m \u001b[0mit\u001b[0m \u001b[0mchecks\u001b[0m \u001b[0;32mif\u001b[0m \u001b[0mthe\u001b[0m \u001b[0mfirst\u001b[0m\u001b[0;34m\u001b[0m\u001b[0;34m\u001b[0m\u001b[0m\n\u001b[1;32m    211\u001b[0m         \"\"\"\n\u001b[0;32m--> 212\u001b[0;31m         \u001b[0marray\u001b[0m\u001b[0;34m=\u001b[0m\u001b[0;34m(\u001b[0m\u001b[0mctypes\u001b[0m\u001b[0;34m.\u001b[0m\u001b[0mc_ubyte\u001b[0m\u001b[0;34m*\u001b[0m\u001b[0;36m4\u001b[0m\u001b[0;34m)\u001b[0m\u001b[0;34m.\u001b[0m\u001b[0mfrom_address\u001b[0m\u001b[0;34m(\u001b[0m\u001b[0mint32ptr\u001b[0m\u001b[0;34m)\u001b[0m\u001b[0;34m\u001b[0m\u001b[0;34m\u001b[0m\u001b[0m\n\u001b[0m\u001b[1;32m    213\u001b[0m         \u001b[0mbinary\u001b[0m\u001b[0;34m=\u001b[0m\u001b[0;34m''\u001b[0m\u001b[0;34m\u001b[0m\u001b[0;34m\u001b[0m\u001b[0m\n\u001b[1;32m    214\u001b[0m         \u001b[0;32mfor\u001b[0m \u001b[0mi\u001b[0m \u001b[0;32min\u001b[0m \u001b[0mrange\u001b[0m\u001b[0;34m(\u001b[0m\u001b[0;36m4\u001b[0m\u001b[0;34m)\u001b[0m\u001b[0;34m:\u001b[0m\u001b[0;34m\u001b[0m\u001b[0;34m\u001b[0m\u001b[0m\n",
      "\u001b[0;31mTypeError\u001b[0m: integer expected"
     ]
    }
   ],
   "source": [
    "mem.load_int32('0x55caff45aad0')"
   ]
  },
  {
   "cell_type": "code",
   "execution_count": 3,
   "id": "5e577e93-acc1-4edd-8782-0e5b9d009612",
   "metadata": {},
   "outputs": [],
   "source": [
    "mem=myMemory(1,'KB')\n",
    "\n",
    "class myint32():\n",
    "    def __init__(self, value):\n",
    "        if (value > mem.uint32max):\n",
    "            print('Value out of range')\n",
    "        self.p = mem.store_int32(value)\n",
    "        self.s = 4\n",
    "        self.v=value\n",
    "\n",
    "    def __str__(self):\n",
    "        return (str(self.v))\n",
    "\n",
    "\n",
    "\n"
   ]
  },
  {
   "cell_type": "code",
   "execution_count": 4,
   "id": "357045e5-3e82-408b-bff1-247aa61de1f8",
   "metadata": {},
   "outputs": [],
   "source": [
    "mem=myMemory(1,'KB')\n",
    "class myint64():\n",
    "    def __init__(self, value):\n",
    "        if (value > mem.uint64max):\n",
    "            print('Value out of range')\n",
    "        self.p = hex((mem.store_int64(value)))\n",
    "        self.s = 8\n",
    "        self.v=value\n",
    "\n",
    "    def __str__(self):\n",
    "        return (mem)\n",
    "\n"
   ]
  },
  {
   "cell_type": "code",
   "execution_count": 5,
   "id": "f0025c61-7455-41b3-9379-fe34edd522b3",
   "metadata": {},
   "outputs": [
    {
     "name": "stdout",
     "output_type": "stream",
     "text": [
      "Available at  0\n"
     ]
    }
   ],
   "source": [
    "i64=myint64(10)"
   ]
  },
  {
   "cell_type": "code",
   "execution_count": 6,
   "id": "fdd3155e-6483-4d5e-9751-9263d1fff6b9",
   "metadata": {},
   "outputs": [
    {
     "data": {
      "text/plain": [
       "'0xfffffffc00000000'"
      ]
     },
     "execution_count": 6,
     "metadata": {},
     "output_type": "execute_result"
    }
   ],
   "source": [
    "hex(int(int(i64.p,0)))"
   ]
  },
  {
   "cell_type": "code",
   "execution_count": null,
   "id": "7b997fdc-fe91-4e1c-b492-e0a62f58c3af",
   "metadata": {},
   "outputs": [],
   "source": [
    "mem.load_int32(0xfffffffc00000000)"
   ]
  },
  {
   "cell_type": "code",
   "execution_count": 7,
   "id": "e0dff4b9-2a2f-4775-8239-cc6f2781b206",
   "metadata": {},
   "outputs": [
    {
     "data": {
      "text/plain": [
       "18446744056529682432"
      ]
     },
     "execution_count": 7,
     "metadata": {},
     "output_type": "execute_result"
    }
   ],
   "source": [
    "int(i64.p,0)"
   ]
  },
  {
   "cell_type": "code",
   "execution_count": 68,
   "id": "b1429793-83b2-4785-ba50-cec101cab0bc",
   "metadata": {},
   "outputs": [
    {
     "data": {
      "text/plain": [
       "'0xfffffffc00000000'"
      ]
     },
     "execution_count": 68,
     "metadata": {},
     "output_type": "execute_result"
    }
   ],
   "source": [
    "i64.p"
   ]
  },
  {
   "cell_type": "code",
   "execution_count": 69,
   "id": "061006d5-fe27-4cb1-92c8-d67e239e54f4",
   "metadata": {},
   "outputs": [
    {
     "data": {
      "text/plain": [
       "18446744056529682432"
      ]
     },
     "execution_count": 69,
     "metadata": {},
     "output_type": "execute_result"
    }
   ],
   "source": [
    "int(0xfffffffc00000000)"
   ]
  },
  {
   "cell_type": "markdown",
   "id": "092854ba-fd2c-41a7-9c0d-f0c30c711968",
   "metadata": {},
   "source": [
    "# Working"
   ]
  },
  {
   "cell_type": "code",
   "execution_count": 1,
   "id": "ec55ab94-6410-4975-b134-b99c948b5adf",
   "metadata": {},
   "outputs": [],
   "source": [
    "#!usr/bin/python3\n",
    "import ctypes\n",
    "from ctypes import *\n",
    "#class myMemory():\n",
    "#Allocate 1GB of Space for memory\n",
    "\n",
    "\n",
    "class bit_vector():\n",
    "    \"\"\" Objects\n",
    "    \n",
    "        > self.totalMemory : Will contain information about the size of memory for which the vector is created\n",
    "        > self.arrayLength : Contani information about the length of the bitvector created\n",
    "        > self.ByteVector  : The memory location stored as an array for easy traversing and assignments\n",
    "        > self.ArrayPointer: Contains the starting address of the memory allocated\n",
    "    \"\"\"\n",
    "    \n",
    "    \n",
    "    \n",
    "    def __init__(self,memoryInBytes):\n",
    "        \"\"\"\n",
    "        The function initialises a bit vector which allocates space in memory for memoryinBytes/8 bytes\n",
    "        This vector is used to identify if a memory location is free or occupied\n",
    "        > The init function will calculate and allocate the space in memory\n",
    "        > It will store the starting address of this memory location in self.ArrayPointer. \n",
    "        > The memory can be accessed anytime by using the self.ArrayPointer\n",
    "        > The function will also initialise all values in this allocated memory to 0 to remove any junk values\n",
    "        \n",
    "        \"\"\"\n",
    "        self.totalMemory=memoryInBytes\n",
    "        self.arrayLength=int(self.totalMemory/8) \n",
    "        self.ByteVector=(ctypes.c_ubyte*self.arrayLength)() # Creating the memory \n",
    "        for i in range(self.arrayLength):\n",
    "            if self.ByteVector[i]>0:\n",
    "                self.ByteVector[i]=0\n",
    "        self.ArrayPointer=ctypes.addressof(self.ByteVector)\n",
    "        \n",
    "        \n",
    "        \n",
    "    \n",
    "    def checkFreeSpace(self,spaceNeeded):\n",
    "        \"\"\" \n",
    "        This function scans through the bit vector to see if the required space neeed is \n",
    "        available in the memory. It available it returns the position of byte where\n",
    "        it is available. The address is then calculated from this position\n",
    "        \"\"\"\n",
    "        array=self.ByteVector\n",
    "        counter=0\n",
    "        location=0\n",
    "        flag=0\n",
    "        for i in range(self.arrayLength):\n",
    "            if self.ByteVector[i]==0:\n",
    "                counter+=1\n",
    "            else:\n",
    "                counter=0\n",
    "            if counter==spaceNeeded:\n",
    "                flag=1\n",
    "                break\n",
    "        if flag==1:\n",
    "            location=i-(spaceNeeded-1)\n",
    "            self.freeSpace=location\n",
    "            print('Available at ',self.freeSpace)\n",
    "            return self.freeSpace\n",
    "        elif flag==0:\n",
    "            print('Not available')\n",
    "            \n",
    "            \n",
    "            \n",
    "            \n",
    "            \n",
    "            \n",
    "    def spaceCalculator(self,typeOfData):\n",
    "        if typeOfData=='int32':\n",
    "            self.size=32\n",
    "            self.bytesNeeded=4\n",
    "        elif typeOfData=='int64':\n",
    "            self.size=64\n",
    "            self.bytesNeeded=8\n",
    "        elif typeOfData=='bool':\n",
    "            self.size=1\n",
    "            self.bytesNeeded=1\n",
    "    \n",
    "    \n",
    "    \n",
    "class myMemory():\n",
    "    \"\"\"Objects :\n",
    "                self.ptr  : The memory location at which the last store happened \n",
    "                self.type : Type of object last stored\n",
    "    \"\"\"\n",
    "        \n",
    "    def __init__(self,sizeNeeded,unit):\n",
    "        \"\"\" This function is used to calculate memory to be allocated.\n",
    "        It takes as input two parameters\n",
    "        unit : Unit of memory ( \"KB\" - Kilobytes , MB - \"MegaBytes\" , \"GB\" - 'Gigabtes'\n",
    "        size : Size in units to be allocated\n",
    "              If unit = \"MB\" and size= \"1\" , 1024*1024 bytes will be allocated. \n",
    "              ie, 1MB will be allocated    \n",
    "       The function also creates an object of lass bit_vector which initialises a bitvector which \n",
    "       gives information about the status of memory. If it is free or occupied.\n",
    "       \n",
    "        \"\"\"\n",
    "        # Memory calculation done here. \n",
    "        self.start=0xfffffffc00000000\n",
    "        memInBytes=0\n",
    "        if unit=='KB':\n",
    "            self.size=sizeNeeded*1024\n",
    "        elif unit=='MB':\n",
    "            self.size=sizeNeeded*1024*1024\n",
    "        elif unit=='GB':\n",
    "            self.size=sizeNeeded*1024*1024*1024\n",
    "        else:\n",
    "            print('Invalid Value of unit')\n",
    "            print('Use \"KB\", \"MB\" or \"GB\"')\n",
    "        self.end=self.start+self.size #Calculates the value for endPointer\n",
    "        self.free=self.size #The free space available\n",
    "        self.bitVector=bit_vector(self.size) # Creating a bit vector object. \n",
    "        self.memory=(ctypes.c_ubyte*self.size)() # Allocating the space 'size' in memory\n",
    "        self.internalPointer=ctypes.addressof(self.memory)\n",
    "        self.uint32min=-2147483648\n",
    "        self.uint32max=2147483647\n",
    "        self.bytemin=0\n",
    "        self.bytemax=255\n",
    "        self.uint64min=-9223372036854775808\n",
    "        self.uint64max=9223372036854775807\n",
    " \t\n",
    " \t\n",
    "                \n",
    "                \n",
    "    def mem_alloc(self,nbytes):\n",
    "        \"\"\" \n",
    "        This function takes as input the number of bytes to be allocated and allocates the space in memory\n",
    "        It also returns the address of the starting location of the memory\"\"\"\n",
    "        #This will call the checkfreespace function in bit_vector class\n",
    "        #which will scan through the bit vector and return the \n",
    "        # location at which free space is available\n",
    "        self.location=self.bitVector.checkFreeSpace(nbytes)\n",
    "        if self.location!=None: # If no free space is found, None is returned\n",
    "            ptr=self.internalPointer+self.location\n",
    "            self.type='int32'\n",
    "            self.free-=nbytes\n",
    "            return ptr\n",
    "        else:\n",
    "            print('Memory error. Allocate more memory')\n",
    "            \n",
    "        \n",
    "          \n",
    "        \n",
    "    def store_int32(self,value,ptr=None):\n",
    "        \"\"\" This function is used to save an int32 number to a memory location \n",
    "        It takes as input two parameters. A number, which is to be saved, \n",
    "        the address to which it has to be saved.\n",
    "        If a pointer is specified, it checks if that location is already occupied or not and then stores that value if not. \n",
    "        Else, it checks for free space and allocates the number there and returns the pointer where it is stored. \n",
    "        It also updates the self.free so that the reamainng space can be easily identified. \n",
    "        \"\"\"\n",
    "        \n",
    "        stopExecution=0\n",
    "        tempPtr=ptr # Saving a copy of the address passed\n",
    "        if ptr==None: # If no pointer is passed, find a new free location using the bitVector\n",
    "            ptr=self.mem_alloc(4)\n",
    "        else:\n",
    "            if (int(ptr)+4>int(mem.start)) & (int(ptr)+4<int(mem.end)):\n",
    "                positionInMemory=int(ptr)-int(self.start) # Calculating the memory address using the given pointer\n",
    "                self.location=int(positionInMemory/8)+int(positionInMemory%8)\n",
    "                ptr=self.internalPointer+self.location\n",
    "                if self.bitVector.ByteVector[self.location]==1:\n",
    "                    print('Unable to write to location.Already occupied')\n",
    "                    stopExecution=1\n",
    "                else:\n",
    "                    self.free-=4\n",
    "            else:\n",
    "                stopExecution=1\n",
    "                print('Pointer out of Memory')\n",
    "                \n",
    "        if stopExecution==0:\n",
    "            limits=(self.uint32min,self.uint32max)\n",
    "            # Checks if the number is within the range of Signed Int\n",
    "            if limits[0]<value<limits[1]:\n",
    "                \n",
    "                array=(ctypes.c_ubyte*4).from_address(ptr)\n",
    "                binary=''\n",
    "                if len(bin(value)[2:])<=31:\n",
    "                    if value<0:\n",
    "                        binary='0'*(31-len(bin(value)[3:]))+bin(value)[3:]# Since it is unsigned, we can accomodate 32 bits as sign bit is absent\n",
    "                        binary='1'+binary\n",
    "                    elif value>=0:\n",
    "                        binary='0'*(31-len(bin(value)[2:]))+bin(value)[2:]# Since it is unsigned, we can accomodate 32 bits as sign bit is absent\n",
    "                        binary='0'+binary\n",
    "                # Storing the binary into memory, byte by byte\n",
    "                idx=0\n",
    "                for i in range(0,32,8):\n",
    "                    array[idx]=int(binary[i:i+8],2)\n",
    "                    idx+=1   \n",
    "            \n",
    "                self.bitVector.ByteVector[self.location]=1\n",
    "                self.bitVector.ByteVector[self.location+1]=1\n",
    "                self.bitVector.ByteVector[self.location+2]=1\n",
    "                self.bitVector.ByteVector[self.location+3]=1\n",
    "            else:\n",
    "                print('Out of Range of Signed Integer')  \n",
    "            return self.start+self.location   \n",
    "        else:\n",
    "            return 0,0\n",
    "           \n",
    "            \n",
    "            \n",
    "    def load_int32(self,int32ptr):\n",
    "        \"\"\" \n",
    "        Function to read data from memory, convert it to decimal and to print it.\n",
    "        It reads the value from memory and converts it into binary. \n",
    "        \n",
    "        After that it checks if the first \n",
    "        \"\"\"\n",
    "        array=(ctypes.c_ubyte*4).from_address(int32ptr)\n",
    "        binary=''\n",
    "        for i in range(4):\n",
    "            temp=str(bin(array[i]))[2:]\n",
    "            if len(temp)<8:\n",
    "                temp='0'*(8-len(temp))+temp\n",
    "            binary+=str(temp)\n",
    "\n",
    "        if binary[0]=='1':\n",
    "            return int(binary[1:],2)*-1\n",
    "        else:\n",
    "            return int(binary[1:],2)\n",
    "    \n",
    "    \n",
    "    \n",
    "    \n",
    "    def store_int64(self,value,ptr=None):\n",
    "        \"\"\" This function is used to save an int64 number to a memory location \n",
    "        It takes as input two parameters. A number, which is to be saved, \n",
    "        the address to which it has to be saved.\n",
    "        If a pointer is specified, it checks if that location is already occupied or not and then stores that value if not. \n",
    "        Else, it checks for free space and allocates the number there and returns the pointer where it is stored. \n",
    "        It also updates the self.free so that the reamainng space can be easily identified. \n",
    "        \"\"\"\n",
    "        \n",
    "        stopExecution=0\n",
    "        tempPtr=ptr # Saving a copy of the address passed\n",
    "        if ptr==None: # If no pointer is passed, find a new free location using the bitVector\n",
    "            ptr=self.mem_alloc(8)\n",
    "        else:\n",
    "            if (int(ptr)+8>int(mem.start)) & (int(ptr)+8<int(mem.end)):\n",
    "                positionInMemory=int(ptr)-int(self.start) # Calculating the memory address using the given pointer\n",
    "                self.location=int(positionInMemory/8)+int(positionInMemory%8)\n",
    "                ptr=self.internalPointer+self.location\n",
    "                if self.bitVector.ByteVector[self.location]==1:\n",
    "                    print('Unable to write to location.Already occupied')\n",
    "                    stopExecution=1\n",
    "                else:\n",
    "                    self.free-=8\n",
    "            else:\n",
    "                stopExecution=1\n",
    "                print('Pointer out of Memory')\n",
    "\t\n",
    "        if stopExecution==0:\n",
    "            limits=(uint64min,self.uint64max)\n",
    "            # Checks if the number is within the range of Signed Int 64\n",
    "            if limits[0]<value<limits[1]:\n",
    "                \n",
    "                array=(ctypes.c_ubyte*8).from_address(ptr)\n",
    "                binary=''\n",
    "                if len(bin(value)[2:])<=63:\n",
    "                    if value<0:\n",
    "                        print('negative')\n",
    "                        binary='0'*(63-len(bin(value)[3:]))+bin(value)[3:]# Since it is unsigned, we can accomodate 32 bits as sign bit is absent\n",
    "                        binary='1'+binary\n",
    "                    elif value>=0:\n",
    "                        binary='0'*(63-len(bin(value)[2:]))+bin(value)[2:]# Since it is unsigned, we can accomodate 32 bits as sign bit is absent\n",
    "                        binary='0'+binary\n",
    "                # Storing the binary into memory, byte by byte\n",
    "                idx=0\n",
    "                for i in range(0,64,8):\n",
    "                    array[idx]=int(binary[i:i+8],2)\n",
    "                    idx+=1   \n",
    "                self.bitVector.ByteVector[self.location]=1\n",
    "                self.bitVector.ByteVector[self.location+1]=1\n",
    "                self.bitVector.ByteVector[self.location+2]=1\n",
    "                self.bitVector.ByteVector[self.location+3]=1\n",
    "                self.bitVector.ByteVector[self.location+4]=1\n",
    "                self.bitVector.ByteVector[self.location+5]=1\n",
    "                self.bitVector.ByteVector[self.location+6]=1\n",
    "                self.bitVector.ByteVector[self.location+7]=1\n",
    "            else:\n",
    "                print('Out of Range of Signed Integer')  \n",
    "            return self.start+self.location   \n",
    "        else:\n",
    "            return 0,0\n",
    "           \n",
    "    \n",
    "    \n",
    "    \n",
    "    def load_int64(self,int64ptr):\n",
    "        \"\"\" \n",
    "        Function to read data from memory, convert it to decimal and to print it.\n",
    "        It reads the value from memory and converts it into binary. \n",
    "        \n",
    "        After that it checks if the first \n",
    "        \"\"\"\n",
    "        array=(ctypes.c_ubyte*8).from_address(int64ptr)\n",
    "        binary=''\n",
    "        for i in range(8):\n",
    "            temp=str(bin(array[i]))[2:]\n",
    "            if len(temp)<8:\n",
    "                temp='0'*(8-len(temp))+temp\n",
    "            binary+=str(temp)\n",
    "        if binary[0]=='1':\n",
    "            return int(binary[1:],2)*-1\n",
    "        else:\n",
    "            return int(binary[1:],2)\n",
    "    \n",
    "    \n",
    "    def store_bool(self,value,ptr=None):\n",
    "        \"\"\" This function is used to save an boolean to a memory location \n",
    "        It takes as input two parameters. A number, which is to be saved, \n",
    "        the address to which it has to be saved.\n",
    "        If a pointer is specified, it checks if that location is already occupied or not and then stores that value if not. \n",
    "        Else, it checks for free space and allocates the number there and returns the pointer where it is stored. \n",
    "        It also updates the self.free so that the reamainng space can be easily identified. \n",
    "        \"\"\"\n",
    "           \n",
    "        stopExecution=0\n",
    "        tempPtr=ptr # Saving a copy of the address passed\n",
    "        if ptr==None: # If no pointer is passed, find a new free location using the bitVector\n",
    "            ptr=self.mem_alloc(1)\n",
    "        else:\n",
    "            if (int(ptr)+1>int(mem.start)) & (int(ptr)+1<int(mem.end)):\n",
    "                positionInMemory=int(ptr)-int(self.start) # Calculating the memory address using the given pointer\n",
    "                self.location=int(positionInMemory/8)+int(positionInMemory%8)\n",
    "                ptr=self.internalPointer+self.location\n",
    "                if self.bitVector.ByteVector[self.location]==1:\n",
    "                    print('Unable to write to location.Already occupied')\n",
    "                    stopExecution=1\n",
    "                else:\n",
    "                    self.free-=1\n",
    "            else:\n",
    "                stopExecution=1\n",
    "                print('Pointer out of Memory')\n",
    "\n",
    "        if stopExecution==0:\n",
    "            array=(ctypes.c_ubyte*1).from_address(ptr)\n",
    "            if value==1:\n",
    "                array[0]=1\n",
    "            elif value==0:\n",
    "                array[0]=0\n",
    "            else:\n",
    "                print('Invalid value for Boolean')\n",
    "                \n",
    "            self.bitVector.ByteVector[self.location]=1 \n",
    "            return self.start+self.location  \n",
    "        else:\n",
    "            return 0,0\n",
    "           \n",
    "    \n",
    "    \n",
    "        \n",
    "    def load_bool(self,boolPtr):\n",
    "        \"\"\" \n",
    "        Function to read data from memory, convert it to decimal and to print it.\n",
    "        It reads the value from memory and converts it into binary. \n",
    "        \n",
    "        After that it checks if the first \n",
    "        \"\"\"\n",
    "        array=(ctypes.c_ubyte*1).from_address(boolPtr)\n",
    "        binary=''\n",
    "        return int(array[0])\n",
    "    \n",
    "    def is_valid_(self,ptr):\n",
    "        if (int(ptr)>int(mem.start)) & (int(ptr)<int(mem.end)):\n",
    "            return True\n",
    "        else:\n",
    "            return False\n",
    "    \n",
    "    def mem_status(self):\n",
    "        print('Total memory allocated : ',self.size)\n",
    "        print('Total free memory      : ',self.free)\n",
    "        print('Total used memory      : ',self.size-self.free)\n",
    "        \n",
    "        print('Size of int32          : 4 bytes')\n",
    "        print('Size of int64          : 8 bytes')\n",
    "        print('Size of bool           : 1 bytes')\n",
    "        print('Size of byte           : 1 bytes')\n",
    "        \n",
    "        return(self.size,self.free,self.size-self.free,4,8,1,1)\n",
    "        \n",
    "    \n",
    "    def store_byte(self,value,ptr=None):\n",
    "            \n",
    "        stopExecution=0\n",
    "        tempPtr=ptr # Saving a copy of the address passed\n",
    "        if ptr==None: # If no pointer is passed, find a new free location using the bitVector\n",
    "            ptr=self.mem_alloc(1)\n",
    "        else:\n",
    "            if (int(ptr)+1>int(mem.start)) & (int(ptr)+1<int(mem.end)):\n",
    "                positionInMemory=int(ptr)-int(self.start) # Calculating the memory address using the given pointer\n",
    "                self.location=int(positionInMemory/8)+int(positionInMemory%8)\n",
    "                ptr=self.internalPointer+self.location\n",
    "                if self.bitVector.ByteVector[self.location]==1:\n",
    "                    print('Unable to write to location.Already occupied')\n",
    "                    stopExecution=1\n",
    "                else:\n",
    "                    self.free-=1\n",
    "            else:\n",
    "                stopExecution=1\n",
    "                print('Pointer out of Memory')\n",
    "\n",
    "        if stopExecution==0:\n",
    "            array=(ctypes.c_ubyte*1).from_address(ptr)\n",
    "            if value<=255:\n",
    "                array[0]=value\n",
    "            else:\n",
    "                print('Invalid value for Byte ( Enter value between 0 and 255')\n",
    "                \n",
    "            self.bitVector.ByteVector[self.location]=1 \n",
    "            return self.start+self.location   \n",
    "        else:\n",
    "            return 0,0\n",
    "           \n",
    "    \n",
    "    \n",
    "        \n",
    "    def load_byte(self,boolPtr):\n",
    "        \"\"\" \n",
    "        Function to read data from memory, convert it to decimal and to print it.\n",
    "        It reads the value from memory and converts it into binary. \n",
    "        \n",
    "        After that it checks if the first \n",
    "        \"\"\"\n",
    "        array=(ctypes.c_ubyte*1).from_address(boolPtr)\n",
    "        binary=''\n",
    "        return int(array[0])\n",
    "    \n"
   ]
  },
  {
   "cell_type": "code",
   "execution_count": 2,
   "id": "fa66227a-3839-41e3-a1ef-8396df3734f2",
   "metadata": {},
   "outputs": [],
   "source": [
    "m=myMemory(1,'KB')"
   ]
  },
  {
   "cell_type": "code",
   "execution_count": 3,
   "id": "cf2f85b5-75ab-4b3d-9ce3-d482b130495b",
   "metadata": {},
   "outputs": [
    {
     "name": "stdout",
     "output_type": "stream",
     "text": [
      "Available at  0\n"
     ]
    },
    {
     "data": {
      "text/plain": [
       "18446744056529682432"
      ]
     },
     "execution_count": 3,
     "metadata": {},
     "output_type": "execute_result"
    }
   ],
   "source": [
    "m.store_int32(100)"
   ]
  },
  {
   "cell_type": "code",
   "execution_count": 4,
   "id": "462925f7-af8b-4779-94c8-90544e23dd3e",
   "metadata": {},
   "outputs": [
    {
     "data": {
      "text/plain": [
       "'0xfffffffc00000000'"
      ]
     },
     "execution_count": 4,
     "metadata": {},
     "output_type": "execute_result"
    }
   ],
   "source": [
    "hex(18446744056529682432)"
   ]
  },
  {
   "cell_type": "code",
   "execution_count": null,
   "id": "6a8d7eaa-79fa-4912-8567-9073bb9addf4",
   "metadata": {},
   "outputs": [],
   "source": [
    "m.load_int32(0xfffffffc00000000)"
   ]
  },
  {
   "cell_type": "code",
   "execution_count": null,
   "id": "728c981c-855f-4b35-b24e-8a81afd8edfa",
   "metadata": {},
   "outputs": [],
   "source": []
  }
 ],
 "metadata": {
  "kernelspec": {
   "display_name": "Python 3 (ipykernel)",
   "language": "python",
   "name": "python3"
  },
  "language_info": {
   "codemirror_mode": {
    "name": "ipython",
    "version": 3
   },
   "file_extension": ".py",
   "mimetype": "text/x-python",
   "name": "python",
   "nbconvert_exporter": "python",
   "pygments_lexer": "ipython3",
   "version": "3.8.8"
  }
 },
 "nbformat": 4,
 "nbformat_minor": 5
}
